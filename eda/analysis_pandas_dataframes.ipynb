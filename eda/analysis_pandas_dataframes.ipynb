{
 "cells": [
  {
   "cell_type": "code",
   "metadata": {
    "tags": [],
    "cell_id": "9a3be6e3-2c6e-4889-8ed3-037bf13994cc",
    "deepnote_to_be_reexecuted": false,
    "source_hash": "b96c5fc2",
    "execution_start": 1645576428958,
    "execution_millis": 254,
    "deepnote_cell_type": "code"
   },
   "source": [
    "import re\n",
    "import os\n",
    "import pygeos\n",
    "\n",
    "import numpy as np\n",
    "import pandas as pd\n",
    "\n",
    "import geopandas as gpd\n",
    "import altair as alt"
   ],
   "execution_count": null,
   "outputs": []
  },
  {
   "cell_type": "markdown",
   "source": [
    "## [PLSS documentation details](https://deepnote.com/project/Milestone-2-Water-Wells-sELi2mU2RJ2VuNhfoIgl3g/%2FExploratory%20Data%20Analysis%2Fgeopandas_deepnote.ipynb/#309c606e-64c6-4653-8eca-f2882f71012f)\n",
    "- Based on Meridian and baselines, townships (N-S) and range (E-W) are defined. Each townships contains 36 1x1 mile sections (the basic unit)\n",
    "\n",
    "[Source](https://maps-cnra-cadoc.opendata.arcgis.com/datasets/public-land-survey-system-plss-township-and-range/explore?location=37.270100%2C-119.333000%2C6.72&showTable=true)\n",
    "\n"
   ],
   "metadata": {
    "cell_id": "821b8ccd-a6a2-469e-af3d-173140de41e1",
    "tags": [],
    "deepnote_cell_type": "markdown"
   }
  },
  {
   "cell_type": "code",
   "metadata": {
    "cell_id": "5645f16b-ce34-4e57-a952-c9bd3e9b3a1a",
    "tags": [],
    "deepnote_to_be_reexecuted": false,
    "source_hash": "650d5f49",
    "execution_start": 1645576383376,
    "execution_millis": 3828,
    "deepnote_cell_type": "code"
   },
   "source": [
    "plss_df = gpd.read_file(r\"/work/assets/plss_subbasin.geojson\") #14486 records\n",
    "plss_df.sample(1)"
   ],
   "execution_count": null,
   "outputs": [
    {
     "output_type": "execute_result",
     "execution_count": 10,
     "data": {
      "application/vnd.deepnote.dataframe.v3+json": {
       "column_count": 9,
       "row_count": 1,
       "columns": [
        {
         "name": "OBJECTID",
         "dtype": "int64",
         "stats": {
          "unique_count": 1,
          "nan_count": 0,
          "min": "59531",
          "max": "59531",
          "histogram": [
           {
            "bin_start": 59530.5,
            "bin_end": 59530.6,
            "count": 0
           },
           {
            "bin_start": 59530.6,
            "bin_end": 59530.7,
            "count": 0
           },
           {
            "bin_start": 59530.7,
            "bin_end": 59530.8,
            "count": 0
           },
           {
            "bin_start": 59530.8,
            "bin_end": 59530.9,
            "count": 0
           },
           {
            "bin_start": 59530.9,
            "bin_end": 59531,
            "count": 0
           },
           {
            "bin_start": 59531,
            "bin_end": 59531.1,
            "count": 1
           },
           {
            "bin_start": 59531.1,
            "bin_end": 59531.2,
            "count": 0
           },
           {
            "bin_start": 59531.2,
            "bin_end": 59531.3,
            "count": 0
           },
           {
            "bin_start": 59531.3,
            "bin_end": 59531.4,
            "count": 0
           },
           {
            "bin_start": 59531.4,
            "bin_end": 59531.5,
            "count": 0
           }
          ]
         }
        },
        {
         "name": "Township",
         "dtype": "object",
         "stats": {
          "unique_count": 1,
          "nan_count": 0,
          "categories": [
           {
            "name": "T18S",
            "count": 1
           }
          ]
         }
        },
        {
         "name": "Range",
         "dtype": "object",
         "stats": {
          "unique_count": 1,
          "nan_count": 0,
          "categories": [
           {
            "name": "R20E",
            "count": 1
           }
          ]
         }
        },
        {
         "name": "Meridian",
         "dtype": "object",
         "stats": {
          "unique_count": 1,
          "nan_count": 0,
          "categories": [
           {
            "name": "MDM",
            "count": 1
           }
          ]
         }
        },
        {
         "name": "Source",
         "dtype": "object",
         "stats": {
          "unique_count": 1,
          "nan_count": 0,
          "categories": [
           {
            "name": "BLM",
            "count": 1
           }
          ]
         }
        },
        {
         "name": "Section",
         "dtype": "int64",
         "stats": {
          "unique_count": 1,
          "nan_count": 0,
          "min": "23",
          "max": "23",
          "histogram": [
           {
            "bin_start": 22.5,
            "bin_end": 22.6,
            "count": 0
           },
           {
            "bin_start": 22.6,
            "bin_end": 22.7,
            "count": 0
           },
           {
            "bin_start": 22.7,
            "bin_end": 22.8,
            "count": 0
           },
           {
            "bin_start": 22.8,
            "bin_end": 22.9,
            "count": 0
           },
           {
            "bin_start": 22.9,
            "bin_end": 23,
            "count": 0
           },
           {
            "bin_start": 23,
            "bin_end": 23.1,
            "count": 1
           },
           {
            "bin_start": 23.1,
            "bin_end": 23.2,
            "count": 0
           },
           {
            "bin_start": 23.2,
            "bin_end": 23.3,
            "count": 0
           },
           {
            "bin_start": 23.3,
            "bin_end": 23.4,
            "count": 0
           },
           {
            "bin_start": 23.4,
            "bin_end": 23.5,
            "count": 0
           }
          ]
         }
        },
        {
         "name": "MTRS",
         "dtype": "object",
         "stats": {
          "unique_count": 1,
          "nan_count": 0,
          "categories": [
           {
            "name": "MDM-T18S-R20E-23",
            "count": 1
           }
          ]
         }
        },
        {
         "name": "TownshipRange",
         "dtype": "object",
         "stats": {
          "unique_count": 1,
          "nan_count": 0,
          "categories": [
           {
            "name": "T18S R20E",
            "count": 1
           }
          ]
         }
        },
        {
         "name": "geometry",
         "dtype": "geometry",
         "stats": {
          "unique_count": 1,
          "nan_count": 0,
          "categories": [
           {
            "name": "MULTIPOLYGON (((-119.76282655787442 36.35706002367411, -119.76730471024315 36.35705404108617, -119.77178286351104 36.3570470575527, -119.77626101408096 36.35704107496476, -119.78074016739504 36.357035091477414, -119.78073608230495 36.353399098817015, -119.78073099716879 36.34976410440427, -119.78072691297824 36.34612810994521, -119.78072282878786 36.34249211548608, -119.7762246772922 36.342495093439865, -119.77172653029311 36.34249807229295, -119.76722838149516 36.34250005020052, -119.76273023179787 36.34250302995293, -119.76275431241747 36.3461420290462, -119.7627783948358 36.34978102724017, -119.76280247635512 36.353421025480266, -119.76282655787442 36.35706002367411)))",
            "count": 1
           }
          ]
         }
        },
        {
         "name": "_deepnote_index_column",
         "dtype": "int64"
        }
       ],
       "rows": [
        {
         "OBJECTID": 59531,
         "Township": "T18S",
         "Range": "R20E",
         "Meridian": "MDM",
         "Source": "BLM",
         "Section": 23,
         "MTRS": "MDM-T18S-R20E-23",
         "TownshipRange": "T18S R20E",
         "geometry": "MULTIPOLYGON (((-119.76282655787442 36.35706002367411, -119.76730471024315 36.35705404108617, -119.…",
         "_deepnote_index_column": 8434
        }
       ]
      },
      "text/plain": "      OBJECTID Township Range Meridian Source  Section              MTRS  \\\n8434     59531     T18S  R20E      MDM    BLM       23  MDM-T18S-R20E-23   \n\n     TownshipRange                                           geometry  \n8434     T18S R20E  MULTIPOLYGON (((-119.76283 36.35706, -119.7673...  ",
      "text/html": "<div>\n<style scoped>\n    .dataframe tbody tr th:only-of-type {\n        vertical-align: middle;\n    }\n\n    .dataframe tbody tr th {\n        vertical-align: top;\n    }\n\n    .dataframe thead th {\n        text-align: right;\n    }\n</style>\n<table border=\"1\" class=\"dataframe\">\n  <thead>\n    <tr style=\"text-align: right;\">\n      <th></th>\n      <th>OBJECTID</th>\n      <th>Township</th>\n      <th>Range</th>\n      <th>Meridian</th>\n      <th>Source</th>\n      <th>Section</th>\n      <th>MTRS</th>\n      <th>TownshipRange</th>\n      <th>geometry</th>\n    </tr>\n  </thead>\n  <tbody>\n    <tr>\n      <th>8434</th>\n      <td>59531</td>\n      <td>T18S</td>\n      <td>R20E</td>\n      <td>MDM</td>\n      <td>BLM</td>\n      <td>23</td>\n      <td>MDM-T18S-R20E-23</td>\n      <td>T18S R20E</td>\n      <td>MULTIPOLYGON (((-119.76283 36.35706, -119.7673...</td>\n    </tr>\n  </tbody>\n</table>\n</div>"
     },
     "metadata": {}
    }
   ]
  },
  {
   "cell_type": "code",
   "metadata": {
    "cell_id": "740e4a7c-f4a6-41fd-81d7-efd92ba422b8",
    "tags": [],
    "deepnote_cell_type": "code"
   },
   "source": [
    "# aggregate by TownshipRange\n",
    "plss_range = plss.dissolve(by='TownshipRange').reset_index()\n",
    "\n"
   ],
   "execution_count": null,
   "outputs": []
  },
  {
   "cell_type": "code",
   "metadata": {
    "cell_id": "f8b8ccd7-a2b0-4609-b213-74cbeefccabf",
    "tags": [],
    "deepnote_to_be_reexecuted": false,
    "source_hash": "fe58c362",
    "execution_start": 1645576523186,
    "execution_millis": 12598,
    "deepnote_cell_type": "code"
   },
   "source": [
    "plss_range.explore()"
   ],
   "execution_count": null,
   "outputs": [
    {
     "output_type": "error",
     "ename": "MaxRowsError",
     "evalue": "The number of rows in your dataset is greater than the maximum allowed (5000). For information on how to plot larger datasets in Altair, see the documentation",
     "traceback": [
      "\u001B[0;31m---------------------------------------------------------------------------\u001B[0m",
      "\u001B[0;31mMaxRowsError\u001B[0m                              Traceback (most recent call last)",
      "\u001B[0;32m/shared-libs/python3.9/py/lib/python3.9/site-packages/altair/vegalite/v4/api.py\u001B[0m in \u001B[0;36mto_dict\u001B[0;34m(self, *args, **kwargs)\u001B[0m\n\u001B[1;32m    361\u001B[0m         \u001B[0mcopy\u001B[0m \u001B[0;34m=\u001B[0m \u001B[0mself\u001B[0m\u001B[0;34m.\u001B[0m\u001B[0mcopy\u001B[0m\u001B[0;34m(\u001B[0m\u001B[0mdeep\u001B[0m\u001B[0;34m=\u001B[0m\u001B[0;32mFalse\u001B[0m\u001B[0;34m)\u001B[0m\u001B[0;34m\u001B[0m\u001B[0;34m\u001B[0m\u001B[0m\n\u001B[1;32m    362\u001B[0m         \u001B[0moriginal_data\u001B[0m \u001B[0;34m=\u001B[0m \u001B[0mgetattr\u001B[0m\u001B[0;34m(\u001B[0m\u001B[0mcopy\u001B[0m\u001B[0;34m,\u001B[0m \u001B[0;34m\"data\"\u001B[0m\u001B[0;34m,\u001B[0m \u001B[0mUndefined\u001B[0m\u001B[0;34m)\u001B[0m\u001B[0;34m\u001B[0m\u001B[0;34m\u001B[0m\u001B[0m\n\u001B[0;32m--> 363\u001B[0;31m         \u001B[0mcopy\u001B[0m\u001B[0;34m.\u001B[0m\u001B[0mdata\u001B[0m \u001B[0;34m=\u001B[0m \u001B[0m_prepare_data\u001B[0m\u001B[0;34m(\u001B[0m\u001B[0moriginal_data\u001B[0m\u001B[0;34m,\u001B[0m \u001B[0mcontext\u001B[0m\u001B[0;34m)\u001B[0m\u001B[0;34m\u001B[0m\u001B[0;34m\u001B[0m\u001B[0m\n\u001B[0m\u001B[1;32m    364\u001B[0m \u001B[0;34m\u001B[0m\u001B[0m\n\u001B[1;32m    365\u001B[0m         \u001B[0;32mif\u001B[0m \u001B[0moriginal_data\u001B[0m \u001B[0;32mis\u001B[0m \u001B[0;32mnot\u001B[0m \u001B[0mUndefined\u001B[0m\u001B[0;34m:\u001B[0m\u001B[0;34m\u001B[0m\u001B[0;34m\u001B[0m\u001B[0m\n",
      "\u001B[0;32m/shared-libs/python3.9/py/lib/python3.9/site-packages/altair/vegalite/v4/api.py\u001B[0m in \u001B[0;36m_prepare_data\u001B[0;34m(data, context)\u001B[0m\n\u001B[1;32m     82\u001B[0m     \u001B[0;31m# convert dataframes  or objects with __geo_interface__ to dict\u001B[0m\u001B[0;34m\u001B[0m\u001B[0;34m\u001B[0m\u001B[0m\n\u001B[1;32m     83\u001B[0m     \u001B[0;32mif\u001B[0m \u001B[0misinstance\u001B[0m\u001B[0;34m(\u001B[0m\u001B[0mdata\u001B[0m\u001B[0;34m,\u001B[0m \u001B[0mpd\u001B[0m\u001B[0;34m.\u001B[0m\u001B[0mDataFrame\u001B[0m\u001B[0;34m)\u001B[0m \u001B[0;32mor\u001B[0m \u001B[0mhasattr\u001B[0m\u001B[0;34m(\u001B[0m\u001B[0mdata\u001B[0m\u001B[0;34m,\u001B[0m \u001B[0;34m\"__geo_interface__\"\u001B[0m\u001B[0;34m)\u001B[0m\u001B[0;34m:\u001B[0m\u001B[0;34m\u001B[0m\u001B[0;34m\u001B[0m\u001B[0m\n\u001B[0;32m---> 84\u001B[0;31m         \u001B[0mdata\u001B[0m \u001B[0;34m=\u001B[0m \u001B[0m_pipe\u001B[0m\u001B[0;34m(\u001B[0m\u001B[0mdata\u001B[0m\u001B[0;34m,\u001B[0m \u001B[0mdata_transformers\u001B[0m\u001B[0;34m.\u001B[0m\u001B[0mget\u001B[0m\u001B[0;34m(\u001B[0m\u001B[0;34m)\u001B[0m\u001B[0;34m)\u001B[0m\u001B[0;34m\u001B[0m\u001B[0;34m\u001B[0m\u001B[0m\n\u001B[0m\u001B[1;32m     85\u001B[0m \u001B[0;34m\u001B[0m\u001B[0m\n\u001B[1;32m     86\u001B[0m     \u001B[0;31m# convert string input to a URLData\u001B[0m\u001B[0;34m\u001B[0m\u001B[0;34m\u001B[0m\u001B[0m\n",
      "\u001B[0;32m/shared-libs/python3.9/py/lib/python3.9/site-packages/toolz/functoolz.py\u001B[0m in \u001B[0;36mpipe\u001B[0;34m(data, *funcs)\u001B[0m\n\u001B[1;32m    628\u001B[0m     \"\"\"\n\u001B[1;32m    629\u001B[0m     \u001B[0;32mfor\u001B[0m \u001B[0mfunc\u001B[0m \u001B[0;32min\u001B[0m \u001B[0mfuncs\u001B[0m\u001B[0;34m:\u001B[0m\u001B[0;34m\u001B[0m\u001B[0;34m\u001B[0m\u001B[0m\n\u001B[0;32m--> 630\u001B[0;31m         \u001B[0mdata\u001B[0m \u001B[0;34m=\u001B[0m \u001B[0mfunc\u001B[0m\u001B[0;34m(\u001B[0m\u001B[0mdata\u001B[0m\u001B[0;34m)\u001B[0m\u001B[0;34m\u001B[0m\u001B[0;34m\u001B[0m\u001B[0m\n\u001B[0m\u001B[1;32m    631\u001B[0m     \u001B[0;32mreturn\u001B[0m \u001B[0mdata\u001B[0m\u001B[0;34m\u001B[0m\u001B[0;34m\u001B[0m\u001B[0m\n\u001B[1;32m    632\u001B[0m \u001B[0;34m\u001B[0m\u001B[0m\n",
      "\u001B[0;32m/shared-libs/python3.9/py/lib/python3.9/site-packages/toolz/functoolz.py\u001B[0m in \u001B[0;36m__call__\u001B[0;34m(self, *args, **kwargs)\u001B[0m\n\u001B[1;32m    304\u001B[0m     \u001B[0;32mdef\u001B[0m \u001B[0m__call__\u001B[0m\u001B[0;34m(\u001B[0m\u001B[0mself\u001B[0m\u001B[0;34m,\u001B[0m \u001B[0;34m*\u001B[0m\u001B[0margs\u001B[0m\u001B[0;34m,\u001B[0m \u001B[0;34m**\u001B[0m\u001B[0mkwargs\u001B[0m\u001B[0;34m)\u001B[0m\u001B[0;34m:\u001B[0m\u001B[0;34m\u001B[0m\u001B[0;34m\u001B[0m\u001B[0m\n\u001B[1;32m    305\u001B[0m         \u001B[0;32mtry\u001B[0m\u001B[0;34m:\u001B[0m\u001B[0;34m\u001B[0m\u001B[0;34m\u001B[0m\u001B[0m\n\u001B[0;32m--> 306\u001B[0;31m             \u001B[0;32mreturn\u001B[0m \u001B[0mself\u001B[0m\u001B[0;34m.\u001B[0m\u001B[0m_partial\u001B[0m\u001B[0;34m(\u001B[0m\u001B[0;34m*\u001B[0m\u001B[0margs\u001B[0m\u001B[0;34m,\u001B[0m \u001B[0;34m**\u001B[0m\u001B[0mkwargs\u001B[0m\u001B[0;34m)\u001B[0m\u001B[0;34m\u001B[0m\u001B[0;34m\u001B[0m\u001B[0m\n\u001B[0m\u001B[1;32m    307\u001B[0m         \u001B[0;32mexcept\u001B[0m \u001B[0mTypeError\u001B[0m \u001B[0;32mas\u001B[0m \u001B[0mexc\u001B[0m\u001B[0;34m:\u001B[0m\u001B[0;34m\u001B[0m\u001B[0;34m\u001B[0m\u001B[0m\n\u001B[1;32m    308\u001B[0m             \u001B[0;32mif\u001B[0m \u001B[0mself\u001B[0m\u001B[0;34m.\u001B[0m\u001B[0m_should_curry\u001B[0m\u001B[0;34m(\u001B[0m\u001B[0margs\u001B[0m\u001B[0;34m,\u001B[0m \u001B[0mkwargs\u001B[0m\u001B[0;34m,\u001B[0m \u001B[0mexc\u001B[0m\u001B[0;34m)\u001B[0m\u001B[0;34m:\u001B[0m\u001B[0;34m\u001B[0m\u001B[0;34m\u001B[0m\u001B[0m\n",
      "\u001B[0;32m/shared-libs/python3.9/py/lib/python3.9/site-packages/altair/vegalite/data.py\u001B[0m in \u001B[0;36mdefault_data_transformer\u001B[0;34m(data, max_rows)\u001B[0m\n\u001B[1;32m     17\u001B[0m \u001B[0;34m@\u001B[0m\u001B[0mcurried\u001B[0m\u001B[0;34m.\u001B[0m\u001B[0mcurry\u001B[0m\u001B[0;34m\u001B[0m\u001B[0;34m\u001B[0m\u001B[0m\n\u001B[1;32m     18\u001B[0m \u001B[0;32mdef\u001B[0m \u001B[0mdefault_data_transformer\u001B[0m\u001B[0;34m(\u001B[0m\u001B[0mdata\u001B[0m\u001B[0;34m,\u001B[0m \u001B[0mmax_rows\u001B[0m\u001B[0;34m=\u001B[0m\u001B[0;36m5000\u001B[0m\u001B[0;34m)\u001B[0m\u001B[0;34m:\u001B[0m\u001B[0;34m\u001B[0m\u001B[0;34m\u001B[0m\u001B[0m\n\u001B[0;32m---> 19\u001B[0;31m     \u001B[0;32mreturn\u001B[0m \u001B[0mcurried\u001B[0m\u001B[0;34m.\u001B[0m\u001B[0mpipe\u001B[0m\u001B[0;34m(\u001B[0m\u001B[0mdata\u001B[0m\u001B[0;34m,\u001B[0m \u001B[0mlimit_rows\u001B[0m\u001B[0;34m(\u001B[0m\u001B[0mmax_rows\u001B[0m\u001B[0;34m=\u001B[0m\u001B[0mmax_rows\u001B[0m\u001B[0;34m)\u001B[0m\u001B[0;34m,\u001B[0m \u001B[0mto_values\u001B[0m\u001B[0;34m)\u001B[0m\u001B[0;34m\u001B[0m\u001B[0;34m\u001B[0m\u001B[0m\n\u001B[0m\u001B[1;32m     20\u001B[0m \u001B[0;34m\u001B[0m\u001B[0m\n\u001B[1;32m     21\u001B[0m \u001B[0;34m\u001B[0m\u001B[0m\n",
      "\u001B[0;32m/shared-libs/python3.9/py/lib/python3.9/site-packages/toolz/functoolz.py\u001B[0m in \u001B[0;36mpipe\u001B[0;34m(data, *funcs)\u001B[0m\n\u001B[1;32m    628\u001B[0m     \"\"\"\n\u001B[1;32m    629\u001B[0m     \u001B[0;32mfor\u001B[0m \u001B[0mfunc\u001B[0m \u001B[0;32min\u001B[0m \u001B[0mfuncs\u001B[0m\u001B[0;34m:\u001B[0m\u001B[0;34m\u001B[0m\u001B[0;34m\u001B[0m\u001B[0m\n\u001B[0;32m--> 630\u001B[0;31m         \u001B[0mdata\u001B[0m \u001B[0;34m=\u001B[0m \u001B[0mfunc\u001B[0m\u001B[0;34m(\u001B[0m\u001B[0mdata\u001B[0m\u001B[0;34m)\u001B[0m\u001B[0;34m\u001B[0m\u001B[0;34m\u001B[0m\u001B[0m\n\u001B[0m\u001B[1;32m    631\u001B[0m     \u001B[0;32mreturn\u001B[0m \u001B[0mdata\u001B[0m\u001B[0;34m\u001B[0m\u001B[0;34m\u001B[0m\u001B[0m\n\u001B[1;32m    632\u001B[0m \u001B[0;34m\u001B[0m\u001B[0m\n",
      "\u001B[0;32m/shared-libs/python3.9/py/lib/python3.9/site-packages/toolz/functoolz.py\u001B[0m in \u001B[0;36m__call__\u001B[0;34m(self, *args, **kwargs)\u001B[0m\n\u001B[1;32m    304\u001B[0m     \u001B[0;32mdef\u001B[0m \u001B[0m__call__\u001B[0m\u001B[0;34m(\u001B[0m\u001B[0mself\u001B[0m\u001B[0;34m,\u001B[0m \u001B[0;34m*\u001B[0m\u001B[0margs\u001B[0m\u001B[0;34m,\u001B[0m \u001B[0;34m**\u001B[0m\u001B[0mkwargs\u001B[0m\u001B[0;34m)\u001B[0m\u001B[0;34m:\u001B[0m\u001B[0;34m\u001B[0m\u001B[0;34m\u001B[0m\u001B[0m\n\u001B[1;32m    305\u001B[0m         \u001B[0;32mtry\u001B[0m\u001B[0;34m:\u001B[0m\u001B[0;34m\u001B[0m\u001B[0;34m\u001B[0m\u001B[0m\n\u001B[0;32m--> 306\u001B[0;31m             \u001B[0;32mreturn\u001B[0m \u001B[0mself\u001B[0m\u001B[0;34m.\u001B[0m\u001B[0m_partial\u001B[0m\u001B[0;34m(\u001B[0m\u001B[0;34m*\u001B[0m\u001B[0margs\u001B[0m\u001B[0;34m,\u001B[0m \u001B[0;34m**\u001B[0m\u001B[0mkwargs\u001B[0m\u001B[0;34m)\u001B[0m\u001B[0;34m\u001B[0m\u001B[0;34m\u001B[0m\u001B[0m\n\u001B[0m\u001B[1;32m    307\u001B[0m         \u001B[0;32mexcept\u001B[0m \u001B[0mTypeError\u001B[0m \u001B[0;32mas\u001B[0m \u001B[0mexc\u001B[0m\u001B[0;34m:\u001B[0m\u001B[0;34m\u001B[0m\u001B[0;34m\u001B[0m\u001B[0m\n\u001B[1;32m    308\u001B[0m             \u001B[0;32mif\u001B[0m \u001B[0mself\u001B[0m\u001B[0;34m.\u001B[0m\u001B[0m_should_curry\u001B[0m\u001B[0;34m(\u001B[0m\u001B[0margs\u001B[0m\u001B[0;34m,\u001B[0m \u001B[0mkwargs\u001B[0m\u001B[0;34m,\u001B[0m \u001B[0mexc\u001B[0m\u001B[0;34m)\u001B[0m\u001B[0;34m:\u001B[0m\u001B[0;34m\u001B[0m\u001B[0;34m\u001B[0m\u001B[0m\n",
      "\u001B[0;32m/shared-libs/python3.9/py/lib/python3.9/site-packages/altair/utils/data.py\u001B[0m in \u001B[0;36mlimit_rows\u001B[0;34m(data, max_rows)\u001B[0m\n\u001B[1;32m     78\u001B[0m             \u001B[0;32mreturn\u001B[0m \u001B[0mdata\u001B[0m\u001B[0;34m\u001B[0m\u001B[0;34m\u001B[0m\u001B[0m\n\u001B[1;32m     79\u001B[0m     \u001B[0;32mif\u001B[0m \u001B[0mmax_rows\u001B[0m \u001B[0;32mis\u001B[0m \u001B[0;32mnot\u001B[0m \u001B[0;32mNone\u001B[0m \u001B[0;32mand\u001B[0m \u001B[0mlen\u001B[0m\u001B[0;34m(\u001B[0m\u001B[0mvalues\u001B[0m\u001B[0;34m)\u001B[0m \u001B[0;34m>\u001B[0m \u001B[0mmax_rows\u001B[0m\u001B[0;34m:\u001B[0m\u001B[0;34m\u001B[0m\u001B[0;34m\u001B[0m\u001B[0m\n\u001B[0;32m---> 80\u001B[0;31m         raise MaxRowsError(\n\u001B[0m\u001B[1;32m     81\u001B[0m             \u001B[0;34m\"The number of rows in your dataset is greater \"\u001B[0m\u001B[0;34m\u001B[0m\u001B[0;34m\u001B[0m\u001B[0m\n\u001B[1;32m     82\u001B[0m             \u001B[0;34m\"than the maximum allowed ({}). \"\u001B[0m\u001B[0;34m\u001B[0m\u001B[0;34m\u001B[0m\u001B[0m\n",
      "\u001B[0;31mMaxRowsError\u001B[0m: The number of rows in your dataset is greater than the maximum allowed (5000). For information on how to plot larger datasets in Altair, see the documentation"
     ]
    },
    {
     "output_type": "execute_result",
     "execution_count": 14,
     "data": {
      "text/plain": "alt.Chart(...)"
     },
     "metadata": {}
    }
   ]
  },
  {
   "cell_type": "markdown",
   "source": [
    "## [Read in the user reported shortage report](https://data.ca.gov/dataset/household-water-supply-shortage-reporting-system-data)\n",
    "- Data read in using requests module in Python and stored in CSV"
   ],
   "metadata": {
    "cell_id": "7cfd7a3d-1ebe-41df-831c-19a78622b848",
    "tags": [],
    "deepnote_cell_type": "markdown"
   }
  },
  {
   "cell_type": "code",
   "metadata": {
    "cell_id": "2cdc5d20-ab44-4d38-a628-6792e48d22db",
    "tags": [],
    "deepnote_to_be_reexecuted": false,
    "source_hash": "a1f5b3c7",
    "execution_start": 1645476589156,
    "execution_millis": 1,
    "deepnote_cell_type": "code"
   },
   "source": [
    "def to_snake_case(col_name):\n",
    "    '''\n",
    "        Function to convert camel case to snake case\n",
    "    '''\n",
    "    col_name = col_name.replace(' ', '')\n",
    "    #Regexp : Look forward and if not in start insert underscore\n",
    "    col_name = re.sub(r'(?<!^)(?=[A-Z])', '_', col_name).lower()\n",
    "    return (col_name)  \n",
    "\n",
    "#Select relevant columns\n",
    "def read_shortage_data():\n",
    "    '''\n",
    "        This function reads the user submitted shortage reports\n",
    "        It then joins with the Public Land Survey System data for SanJoaquin basin\n",
    "        It return a shortage dataframe with  township range columns \n",
    "    '''\n",
    "    pd_csv_shortage = pd.read_csv('../assets/shortage.csv')\n",
    "    pd_csv_shortage.rename(columns={'CREATE DATE': 'Create Date',\n",
    "                                    'LONGITUDE': 'Longitude',\n",
    "                                    'LATITUDE' : 'Latitude',\n",
    "                                    'CITY' : 'City'}, inplace=True)\n",
    "    pd_csv_shortage.columns = [to_snake_case(col_name) for col_name in pd_csv_shortage.columns]\n",
    "    pd_csv_shortage.drop(columns=['unnamed:0', 'i_d', '_id' ], inplace=True)\n",
    "    pd_csv_shortage = pd_csv_shortage.dropna(subset=['latitude', 'longitude'])\n",
    "    pd_csv_shortage['create_date'] = pd.to_datetime(pd_csv_shortage['create_date'])\n",
    "\n",
    "    #Get the year and month so we know what date ranges to work with\n",
    "    pd_csv_shortage['create_year']  = pd_csv_shortage['create_date'].dt.year\n",
    "    pd_csv_shortage['create_month']  = pd_csv_shortage['create_date'].dt.year\n",
    "\n",
    "\n",
    "    #Convert the latitude and longitude into shapely points\n",
    "    #Create a geo dataframe\n",
    "    #Set the Coordinate Reference System (CRS) of the GeoDataFrame.\n",
    "    #The dataframe can then be joined to the PLSS geojson seen above.\n",
    "\n",
    "    shortage_gdf = gpd.GeoDataFrame(pd_csv_shortage, geometry=gpd.points_from_xy(pd_csv_shortage.longitude, pd_csv_shortage.latitude))\n",
    "    shortage_gdf = shortage_gdf.set_crs('epsg:4326')\n",
    "    # Perform a spatial join \n",
    "    shortage_plss_df = shortage_gdf.sjoin(plss_df, how=\"left\")\n",
    "    shortage_plss_df = shortage_plss_df.dropna(subset=['MTRS'])\n",
    "    return shortage_plss_df"
   ],
   "execution_count": null,
   "outputs": []
  },
  {
   "cell_type": "code",
   "metadata": {
    "cell_id": "da01b81c-4976-40e5-a51f-9612d62dfbda",
    "tags": [],
    "deepnote_to_be_reexecuted": false,
    "source_hash": "ed19f279",
    "execution_start": 1645476592313,
    "execution_millis": 117,
    "deepnote_cell_type": "code"
   },
   "source": [
    "shortage_plss_df = read_shortage_data()"
   ],
   "execution_count": null,
   "outputs": []
  },
  {
   "cell_type": "code",
   "metadata": {
    "cell_id": "016c2bf7-f820-4554-891d-e9430945a763",
    "tags": [],
    "deepnote_to_be_reexecuted": false,
    "source_hash": "406dbaff",
    "execution_start": 1645472686266,
    "execution_millis": 7,
    "deepnote_cell_type": "code"
   },
   "source": [
    "shortage_plss_df"
   ],
   "execution_count": null,
   "outputs": [
    {
     "output_type": "execute_result",
     "execution_count": 98,
     "data": {
      "text/plain": "array([2015, 2016, 2014, 2012, 2017, 2018, 2019, 2020, 2021, 2022])"
     },
     "metadata": {}
    }
   ]
  },
  {
   "cell_type": "markdown",
   "source": [
    "## Precipitation data for San Joaquin valley\n",
    "[Details on data source and retrieval](https://deepnote.com/project/Milestone-2-Water-Wells-sELi2mU2RJ2VuNhfoIgl3g/%2FData%20Engineering%2Fprecipitation.ipynb/#5a03b876-2cc1-4396-a124-e90c28429ebd)"
   ],
   "metadata": {
    "cell_id": "5056b784-d4ed-4e14-b0f3-23a98b6fd1b5",
    "tags": [],
    "deepnote_cell_type": "markdown"
   }
  },
  {
   "cell_type": "code",
   "metadata": {
    "cell_id": "51544323-67b8-488b-847a-59e394258e97",
    "tags": [],
    "deepnote_to_be_reexecuted": false,
    "source_hash": "e64712fe",
    "execution_start": 1645576995562,
    "execution_millis": 1,
    "deepnote_cell_type": "code"
   },
   "source": [
    "def read_precipitation_data():\n",
    "    '''\n",
    "        This function reads precipitation data from measurement \n",
    "        stations in California\n",
    "        It joins to Station latitude and longitude data\n",
    "        It then joins to PLSS data to create a dataframe for TownshipRange for each year\n",
    "    '''\n",
    "    precipitation_df = pd.read_csv(\"/work/assets/precipitation_data.csv\")\n",
    "    precipitation_station_df = pd.read_csv(\"/work/assets/precipitation_station_data.csv\")\n",
    "    precipitation_df.rename(columns={'frb':'feb'}, inplace=True)\n",
    "    precipitation_station_df['station_id'] = precipitation_station_df.station_id.str.strip()\n",
    "    month_cols = ['oct', 'nov', 'dec', 'jan', 'feb', 'mar', 'apr', 'may', 'jun', 'jul', 'aug', 'sep']\n",
    "    for col in month_cols:\n",
    "        precipitation_df[col] = pd.to_numeric(precipitation_df[col], errors='coerce')\n",
    "\n",
    "    precipitation_df = precipitation_df.assign(year_avg=precipitation_df.loc[:, month_cols].mean(axis=1))\n",
    "    precipitation_df =  precipitation_df[['station_id', 'station_name', 'precipitation_year', 'year_avg']].copy()    \n",
    "    precipitation_loc_df = precipitation_df.merge(precipitation_station_df,\n",
    "                                    how='inner', \n",
    "                                    left_on=['station_id'] , right_on=['station_id'] )\n",
    "\n",
    "    #Convert the latitude and longitude into shapely points\n",
    "    #Create a geo dataframe\n",
    "    #Set the Coordinate Reference System (CRS) of the GeoDataFrame.\n",
    "    #The dataframe can then be joined to the PLSS geojson seen above.\n",
    "\n",
    "    precipitation_gdf = gpd.GeoDataFrame(precipitation_loc_df, geometry=gpd.points_from_xy(precipitation_loc_df.longitude, precipitation_loc_df.latitude))\n",
    "    precipitation_gdf = precipitation_gdf.set_crs('epsg:4326')\n",
    "    # Perform a spatial join \n",
    "    precipitation_plss_df = precipitation_gdf.sjoin(plss_df, how=\"left\")\n",
    "    precipitation_plss_df = precipitation_plss_df.dropna(subset=['MTRS']) \n",
    "    return  precipitation_plss_df, precipitation_loc_df , precipitation_gdf                              "
   ],
   "execution_count": null,
   "outputs": []
  },
  {
   "cell_type": "code",
   "metadata": {
    "cell_id": "2757142c-e0ea-4c04-a6df-3f35c9e02d41",
    "tags": [],
    "deepnote_to_be_reexecuted": false,
    "source_hash": "b1b6b6a2",
    "execution_start": 1645576999343,
    "execution_millis": 214,
    "deepnote_table_state": {
     "pageSize": 50,
     "pageIndex": 0,
     "filters": [],
     "sortBy": []
    },
    "deepnote_table_loading": false,
    "deepnote_cell_type": "code"
   },
   "source": [
    "precipitation_plss_df, precipitation_loc_df, precipitation_gdf   = read_precipitation_data()\n",
    "precipitation_plss_df  \n",
    "# We might want to use the mean of this for TownshipRange where data is not \n",
    "#Available"
   ],
   "execution_count": null,
   "outputs": [
    {
     "output_type": "execute_result",
     "execution_count": 35,
     "data": {
      "application/vnd.deepnote.dataframe.v3+json": {
       "column_count": 19,
       "row_count": 89,
       "columns": [
        {
         "name": "station_id",
         "dtype": "object",
         "stats": {
          "unique_count": 16,
          "nan_count": 0,
          "categories": [
           {
            "name": "BFK",
            "count": 6
           },
           {
            "name": "CLN",
            "count": 6
           },
           {
            "name": "14 others",
            "count": 77
           }
          ]
         }
        },
        {
         "name": "station_name_x",
         "dtype": "object",
         "stats": {
          "unique_count": 16,
          "nan_count": 0,
          "categories": [
           {
            "name": " BAKERSFIELD AIRPORT",
            "count": 6
           },
           {
            "name": " COALINGA",
            "count": 6
           },
           {
            "name": "14 others",
            "count": 77
           }
          ]
         }
        },
        {
         "name": "precipitation_year",
         "dtype": "int64",
         "stats": {
          "unique_count": 6,
          "nan_count": 0,
          "min": "2015",
          "max": "2022",
          "histogram": [
           {
            "bin_start": 2015,
            "bin_end": 2015.7,
            "count": 16
           },
           {
            "bin_start": 2015.7,
            "bin_end": 2016.4,
            "count": 9
           },
           {
            "bin_start": 2016.4,
            "bin_end": 2017.1,
            "count": 0
           },
           {
            "bin_start": 2017.1,
            "bin_end": 2017.8,
            "count": 0
           },
           {
            "bin_start": 2017.8,
            "bin_end": 2018.5,
            "count": 0
           },
           {
            "bin_start": 2018.5,
            "bin_end": 2019.2,
            "count": 16
           },
           {
            "bin_start": 2019.2,
            "bin_end": 2019.9,
            "count": 0
           },
           {
            "bin_start": 2019.9,
            "bin_end": 2020.6,
            "count": 16
           },
           {
            "bin_start": 2020.6,
            "bin_end": 2021.3,
            "count": 16
           },
           {
            "bin_start": 2021.3,
            "bin_end": 2022,
            "count": 16
           }
          ]
         }
        },
        {
         "name": "year_avg",
         "dtype": "float64",
         "stats": {
          "unique_count": 88,
          "nan_count": 1,
          "min": "0.24500000000000002",
          "max": "2.98",
          "histogram": [
           {
            "bin_start": 0.24500000000000002,
            "bin_end": 0.5185,
            "count": 24
           },
           {
            "bin_start": 0.5185,
            "bin_end": 0.7919999999999999,
            "count": 25
           },
           {
            "bin_start": 0.7919999999999999,
            "bin_end": 1.0655,
            "count": 19
           },
           {
            "bin_start": 1.0655,
            "bin_end": 1.339,
            "count": 9
           },
           {
            "bin_start": 1.339,
            "bin_end": 1.6124999999999998,
            "count": 5
           },
           {
            "bin_start": 1.6124999999999998,
            "bin_end": 1.886,
            "count": 3
           },
           {
            "bin_start": 1.886,
            "bin_end": 2.1595,
            "count": 1
           },
           {
            "bin_start": 2.1595,
            "bin_end": 2.433,
            "count": 1
           },
           {
            "bin_start": 2.433,
            "bin_end": 2.7064999999999997,
            "count": 0
           },
           {
            "bin_start": 2.7064999999999997,
            "bin_end": 2.98,
            "count": 1
           }
          ]
         }
        },
        {
         "name": "station_name_y",
         "dtype": "object",
         "stats": {
          "unique_count": 16,
          "nan_count": 0,
          "categories": [
           {
            "name": "BAKERSFIELD AIRPORT",
            "count": 6
           },
           {
            "name": "COALINGA",
            "count": 6
           },
           {
            "name": "14 others",
            "count": 77
           }
          ]
         }
        },
        {
         "name": "latitude",
         "dtype": "float64",
         "stats": {
          "unique_count": 15,
          "nan_count": 0,
          "min": "35.433998",
          "max": "38.000999",
          "histogram": [
           {
            "bin_start": 35.433998,
            "bin_end": 35.690698100000006,
            "count": 11
           },
           {
            "bin_start": 35.690698100000006,
            "bin_end": 35.9473982,
            "count": 0
           },
           {
            "bin_start": 35.9473982,
            "bin_end": 36.2040983,
            "count": 17
           },
           {
            "bin_start": 36.2040983,
            "bin_end": 36.4607984,
            "count": 22
           },
           {
            "bin_start": 36.4607984,
            "bin_end": 36.717498500000005,
            "count": 0
           },
           {
            "bin_start": 36.717498500000005,
            "bin_end": 36.9741986,
            "count": 17
           },
           {
            "bin_start": 36.9741986,
            "bin_end": 37.2308987,
            "count": 0
           },
           {
            "bin_start": 37.2308987,
            "bin_end": 37.4875988,
            "count": 6
           },
           {
            "bin_start": 37.4875988,
            "bin_end": 37.744298900000004,
            "count": 11
           },
           {
            "bin_start": 37.744298900000004,
            "bin_end": 38.000999,
            "count": 5
           }
          ]
         }
        },
        {
         "name": "longitude",
         "dtype": "float64",
         "stats": {
          "unique_count": 16,
          "nan_count": 0,
          "min": "-121.432999",
          "max": "-118.921997",
          "histogram": [
           {
            "bin_start": -121.432999,
            "bin_end": -121.1818988,
            "count": 10
           },
           {
            "bin_start": -121.1818988,
            "bin_end": -120.9307986,
            "count": 6
           },
           {
            "bin_start": -120.9307986,
            "bin_end": -120.67969839999999,
            "count": 0
           },
           {
            "bin_start": -120.67969839999999,
            "bin_end": -120.4285982,
            "count": 6
           },
           {
            "bin_start": -120.4285982,
            "bin_end": -120.177498,
            "count": 6
           },
           {
            "bin_start": -120.177498,
            "bin_end": -119.9263978,
            "count": 6
           },
           {
            "bin_start": -119.9263978,
            "bin_end": -119.67529760000001,
            "count": 6
           },
           {
            "bin_start": -119.67529760000001,
            "bin_end": -119.4241974,
            "count": 6
           },
           {
            "bin_start": -119.4241974,
            "bin_end": -119.1730972,
            "count": 15
           },
           {
            "bin_start": -119.1730972,
            "bin_end": -118.921997,
            "count": 28
           }
          ]
         }
        },
        {
         "name": "county",
         "dtype": "object",
         "stats": {
          "unique_count": 8,
          "nan_count": 0,
          "categories": [
           {
            "name": " TULARE",
            "count": 27
           },
           {
            "name": " FRESNO",
            "count": 17
           },
           {
            "name": "6 others",
            "count": 45
           }
          ]
         }
        },
        {
         "name": "river_basin",
         "dtype": "object",
         "stats": {
          "unique_count": 7,
          "nan_count": 0,
          "categories": [
           {
            "name": " TULARE LAKE",
            "count": 34
           },
           {
            "name": " SAN JOAQUIN FLOOR",
            "count": 22
           },
           {
            "name": "5 others",
            "count": 33
           }
          ]
         }
        },
        {
         "name": "geometry",
         "dtype": "geometry",
         "stats": {
          "unique_count": 16,
          "nan_count": 0,
          "categories": [
           {
            "name": "POINT (-119.054001 35.433998)",
            "count": 6
           },
           {
            "name": "POINT (-120.361 36.136002)",
            "count": 6
           },
           {
            "name": "14 others",
            "count": 77
           }
          ]
         }
        },
        {
         "name": "index_right",
         "dtype": "float64",
         "stats": {
          "unique_count": 16,
          "nan_count": 0,
          "min": "897.0",
          "max": "12987.0",
          "histogram": [
           {
            "bin_start": 897,
            "bin_end": 2106,
            "count": 16
           },
           {
            "bin_start": 2106,
            "bin_end": 3315,
            "count": 0
           },
           {
            "bin_start": 3315,
            "bin_end": 4524,
            "count": 6
           },
           {
            "bin_start": 4524,
            "bin_end": 5733,
            "count": 6
           },
           {
            "bin_start": 5733,
            "bin_end": 6942,
            "count": 11
           },
           {
            "bin_start": 6942,
            "bin_end": 8151,
            "count": 0
           },
           {
            "bin_start": 8151,
            "bin_end": 9360,
            "count": 22
           },
           {
            "bin_start": 9360,
            "bin_end": 10569,
            "count": 17
           },
           {
            "bin_start": 10569,
            "bin_end": 11778,
            "count": 0
           },
           {
            "bin_start": 11778,
            "bin_end": 12987,
            "count": 11
           }
          ]
         }
        },
        {
         "name": "OBJECTID",
         "dtype": "float64",
         "stats": {
          "unique_count": 16,
          "nan_count": 0,
          "min": "11132.0",
          "max": "89544.0",
          "histogram": [
           {
            "bin_start": 11132,
            "bin_end": 18973.2,
            "count": 16
           },
           {
            "bin_start": 18973.2,
            "bin_end": 26814.4,
            "count": 6
           },
           {
            "bin_start": 26814.4,
            "bin_end": 34655.6,
            "count": 0
           },
           {
            "bin_start": 34655.6,
            "bin_end": 42496.8,
            "count": 6
           },
           {
            "bin_start": 42496.8,
            "bin_end": 50338,
            "count": 11
           },
           {
            "bin_start": 50338,
            "bin_end": 58179.2,
            "count": 5
           },
           {
            "bin_start": 58179.2,
            "bin_end": 66020.4,
            "count": 23
           },
           {
            "bin_start": 66020.4,
            "bin_end": 73861.6,
            "count": 11
           },
           {
            "bin_start": 73861.6,
            "bin_end": 81702.8,
            "count": 0
           },
           {
            "bin_start": 81702.8,
            "bin_end": 89544,
            "count": 11
           }
          ]
         }
        },
        {
         "name": "Township",
         "dtype": "object",
         "stats": {
          "unique_count": 11,
          "nan_count": 0,
          "categories": [
           {
            "name": "T18S",
            "count": 17
           },
           {
            "name": "T21S",
            "count": 11
           },
           {
            "name": "9 others",
            "count": 61
           }
          ]
         }
        },
        {
         "name": "Range",
         "dtype": "object",
         "stats": {
          "unique_count": 11,
          "nan_count": 0,
          "categories": [
           {
            "name": "R27E",
            "count": 23
           },
           {
            "name": "R21E",
            "count": 12
           },
           {
            "name": "9 others",
            "count": 54
           }
          ]
         }
        },
        {
         "name": "Meridian",
         "dtype": "object",
         "stats": {
          "unique_count": 1,
          "nan_count": 0,
          "categories": [
           {
            "name": "MDM",
            "count": 89
           }
          ]
         }
        },
        {
         "name": "Source",
         "dtype": "object",
         "stats": {
          "unique_count": 2,
          "nan_count": 0,
          "categories": [
           {
            "name": "BLM",
            "count": 84
           },
           {
            "name": "DGR",
            "count": 5
           }
          ]
         }
        },
        {
         "name": "Section",
         "dtype": "float64",
         "stats": {
          "unique_count": 11,
          "nan_count": 0,
          "min": "2.0",
          "max": "35.0",
          "histogram": [
           {
            "bin_start": 2,
            "bin_end": 5.3,
            "count": 22
           },
           {
            "bin_start": 5.3,
            "bin_end": 8.6,
            "count": 0
           },
           {
            "bin_start": 8.6,
            "bin_end": 11.899999999999999,
            "count": 12
           },
           {
            "bin_start": 11.899999999999999,
            "bin_end": 15.2,
            "count": 5
           },
           {
            "bin_start": 15.2,
            "bin_end": 18.5,
            "count": 0
           },
           {
            "bin_start": 18.5,
            "bin_end": 21.799999999999997,
            "count": 5
           },
           {
            "bin_start": 21.799999999999997,
            "bin_end": 25.099999999999998,
            "count": 5
           },
           {
            "bin_start": 25.099999999999998,
            "bin_end": 28.4,
            "count": 6
           },
           {
            "bin_start": 28.4,
            "bin_end": 31.7,
            "count": 23
           },
           {
            "bin_start": 31.7,
            "bin_end": 35,
            "count": 11
           }
          ]
         }
        },
        {
         "name": "MTRS",
         "dtype": "object",
         "stats": {
          "unique_count": 16,
          "nan_count": 0,
          "categories": [
           {
            "name": "MDM-T29S-R27E-2",
            "count": 6
           },
           {
            "name": "MDM-T21S-R15E-4",
            "count": 6
           },
           {
            "name": "14 others",
            "count": 77
           }
          ]
         }
        },
        {
         "name": "TownshipRange",
         "dtype": "object",
         "stats": {
          "unique_count": 16,
          "nan_count": 0,
          "categories": [
           {
            "name": "T29S R27E",
            "count": 6
           },
           {
            "name": "T21S R15E",
            "count": 6
           },
           {
            "name": "14 others",
            "count": 77
           }
          ]
         }
        },
        {
         "name": "_deepnote_index_column",
         "dtype": "int64"
        }
       ],
       "rows": [
        {
         "station_id": "BFK",
         "station_name_x": " BAKERSFIELD AIRPORT",
         "precipitation_year": 2022,
         "year_avg": 0.475,
         "station_name_y": "BAKERSFIELD AIRPORT",
         "latitude": 35.433998,
         "longitude": -119.054001,
         "county": " KERN",
         "river_basin": " TULARE LAKE",
         "geometry": "POINT (-119.054001 35.433998)",
         "index_right": 12987,
         "OBJECTID": 89544,
         "Township": "T29S",
         "Range": "R27E",
         "Meridian": "MDM",
         "Source": "BLM",
         "Section": 2,
         "MTRS": "MDM-T29S-R27E-2",
         "TownshipRange": "T29S R27E",
         "_deepnote_index_column": 30
        },
        {
         "station_id": "BFK",
         "station_name_x": " BAKERSFIELD AIRPORT",
         "precipitation_year": 2019,
         "year_avg": 0.6516666666666667,
         "station_name_y": "BAKERSFIELD AIRPORT",
         "latitude": 35.433998,
         "longitude": -119.054001,
         "county": " KERN",
         "river_basin": " TULARE LAKE",
         "geometry": "POINT (-119.054001 35.433998)",
         "index_right": 12987,
         "OBJECTID": 89544,
         "Township": "T29S",
         "Range": "R27E",
         "Meridian": "MDM",
         "Source": "BLM",
         "Section": 2,
         "MTRS": "MDM-T29S-R27E-2",
         "TownshipRange": "T29S R27E",
         "_deepnote_index_column": 31
        },
        {
         "station_id": "BFK",
         "station_name_x": " BAKERSFIELD AIRPORT",
         "precipitation_year": 2020,
         "year_avg": 0.6416666666666667,
         "station_name_y": "BAKERSFIELD AIRPORT",
         "latitude": 35.433998,
         "longitude": -119.054001,
         "county": " KERN",
         "river_basin": " TULARE LAKE",
         "geometry": "POINT (-119.054001 35.433998)",
         "index_right": 12987,
         "OBJECTID": 89544,
         "Township": "T29S",
         "Range": "R27E",
         "Meridian": "MDM",
         "Source": "BLM",
         "Section": 2,
         "MTRS": "MDM-T29S-R27E-2",
         "TownshipRange": "T29S R27E",
         "_deepnote_index_column": 32
        },
        {
         "station_id": "BFK",
         "station_name_x": " BAKERSFIELD AIRPORT",
         "precipitation_year": 2021,
         "year_avg": 0.24500000000000002,
         "station_name_y": "BAKERSFIELD AIRPORT",
         "latitude": 35.433998,
         "longitude": -119.054001,
         "county": " KERN",
         "river_basin": " TULARE LAKE",
         "geometry": "POINT (-119.054001 35.433998)",
         "index_right": 12987,
         "OBJECTID": 89544,
         "Township": "T29S",
         "Range": "R27E",
         "Meridian": "MDM",
         "Source": "BLM",
         "Section": 2,
         "MTRS": "MDM-T29S-R27E-2",
         "TownshipRange": "T29S R27E",
         "_deepnote_index_column": 33
        },
        {
         "station_id": "BFK",
         "station_name_x": " BAKERSFIELD AIRPORT",
         "precipitation_year": 2015,
         "year_avg": 0.48454545454545456,
         "station_name_y": "BAKERSFIELD AIRPORT",
         "latitude": 35.433998,
         "longitude": -119.054001,
         "county": " KERN",
         "river_basin": " TULARE LAKE",
         "geometry": "POINT (-119.054001 35.433998)",
         "index_right": 12987,
         "OBJECTID": 89544,
         "Township": "T29S",
         "Range": "R27E",
         "Meridian": "MDM",
         "Source": "BLM",
         "Section": 2,
         "MTRS": "MDM-T29S-R27E-2",
         "TownshipRange": "T29S R27E",
         "_deepnote_index_column": 34
        },
        {
         "station_id": "BFK",
         "station_name_x": " BAKERSFIELD AIRPORT",
         "precipitation_year": 2016,
         "year_avg": 0.45916666666666667,
         "station_name_y": "BAKERSFIELD AIRPORT",
         "latitude": 35.433998,
         "longitude": -119.054001,
         "county": " KERN",
         "river_basin": " TULARE LAKE",
         "geometry": "POINT (-119.054001 35.433998)",
         "index_right": 12987,
         "OBJECTID": 89544,
         "Township": "T29S",
         "Range": "R27E",
         "Meridian": "MDM",
         "Source": "BLM",
         "Section": 2,
         "MTRS": "MDM-T29S-R27E-2",
         "TownshipRange": "T29S R27E",
         "_deepnote_index_column": 35
        },
        {
         "station_id": "CLN",
         "station_name_x": " COALINGA",
         "precipitation_year": 2022,
         "year_avg": 0.325,
         "station_name_y": "COALINGA",
         "latitude": 36.136002,
         "longitude": -120.361,
         "county": " FRESNO",
         "river_basin": " SAN JOAQUIN R",
         "geometry": "POINT (-120.361 36.136002)",
         "index_right": 9616,
         "OBJECTID": 68145,
         "Township": "T21S",
         "Range": "R15E",
         "Meridian": "MDM",
         "Source": "BLM",
         "Section": 4,
         "MTRS": "MDM-T21S-R15E-4",
         "TownshipRange": "T21S R15E",
         "_deepnote_index_column": 180
        },
        {
         "station_id": "CLN",
         "station_name_x": " COALINGA",
         "precipitation_year": 2019,
         "year_avg": 0.8666666666666666,
         "station_name_y": "COALINGA",
         "latitude": 36.136002,
         "longitude": -120.361,
         "county": " FRESNO",
         "river_basin": " SAN JOAQUIN R",
         "geometry": "POINT (-120.361 36.136002)",
         "index_right": 9616,
         "OBJECTID": 68145,
         "Township": "T21S",
         "Range": "R15E",
         "Meridian": "MDM",
         "Source": "BLM",
         "Section": 4,
         "MTRS": "MDM-T21S-R15E-4",
         "TownshipRange": "T21S R15E",
         "_deepnote_index_column": 181
        },
        {
         "station_id": "CLN",
         "station_name_x": " COALINGA",
         "precipitation_year": 2020,
         "year_avg": 0.4549999999999999,
         "station_name_y": "COALINGA",
         "latitude": 36.136002,
         "longitude": -120.361,
         "county": " FRESNO",
         "river_basin": " SAN JOAQUIN R",
         "geometry": "POINT (-120.361 36.136002)",
         "index_right": 9616,
         "OBJECTID": 68145,
         "Township": "T21S",
         "Range": "R15E",
         "Meridian": "MDM",
         "Source": "BLM",
         "Section": 4,
         "MTRS": "MDM-T21S-R15E-4",
         "TownshipRange": "T21S R15E",
         "_deepnote_index_column": 182
        },
        {
         "station_id": "CLN",
         "station_name_x": " COALINGA",
         "precipitation_year": 2021,
         "year_avg": 0.35333333333333333,
         "station_name_y": "COALINGA",
         "latitude": 36.136002,
         "longitude": -120.361,
         "county": " FRESNO",
         "river_basin": " SAN JOAQUIN R",
         "geometry": "POINT (-120.361 36.136002)",
         "index_right": 9616,
         "OBJECTID": 68145,
         "Township": "T21S",
         "Range": "R15E",
         "Meridian": "MDM",
         "Source": "BLM",
         "Section": 4,
         "MTRS": "MDM-T21S-R15E-4",
         "TownshipRange": "T21S R15E",
         "_deepnote_index_column": 183
        },
        {
         "station_id": "CLN",
         "station_name_x": " COALINGA",
         "precipitation_year": 2015,
         "year_avg": 0.6040000000000001,
         "station_name_y": "COALINGA",
         "latitude": 36.136002,
         "longitude": -120.361,
         "county": " FRESNO",
         "river_basin": " SAN JOAQUIN R",
         "geometry": "POINT (-120.361 36.136002)",
         "index_right": 9616,
         "OBJECTID": 68145,
         "Township": "T21S",
         "Range": "R15E",
         "Meridian": "MDM",
         "Source": "BLM",
         "Section": 4,
         "MTRS": "MDM-T21S-R15E-4",
         "TownshipRange": "T21S R15E",
         "_deepnote_index_column": 184
        },
        {
         "station_id": "CLN",
         "station_name_x": " COALINGA",
         "precipitation_year": 2016,
         "year_avg": 1.2566666666666668,
         "station_name_y": "COALINGA",
         "latitude": 36.136002,
         "longitude": -120.361,
         "county": " FRESNO",
         "river_basin": " SAN JOAQUIN R",
         "geometry": "POINT (-120.361 36.136002)",
         "index_right": 9616,
         "OBJECTID": 68145,
         "Township": "T21S",
         "Range": "R15E",
         "Meridian": "MDM",
         "Source": "BLM",
         "Section": 4,
         "MTRS": "MDM-T21S-R15E-4",
         "TownshipRange": "T21S R15E",
         "_deepnote_index_column": 185
        },
        {
         "station_id": "FRO",
         "station_name_x": " FRESNO WB AIRPORT",
         "precipitation_year": 2022,
         "year_avg": 0.785,
         "station_name_y": "FRESNO WB AIRPORT",
         "latitude": 36.766998,
         "longitude": -119.717003,
         "county": " FRESNO",
         "river_basin": " TULARE LAKE",
         "geometry": "POINT (-119.717003 36.766998)",
         "index_right": 6294,
         "OBJECTID": 45193,
         "Township": "T13S",
         "Range": "R21E",
         "Meridian": "MDM",
         "Source": "BLM",
         "Section": 29,
         "MTRS": "MDM-T13S-R21E-29",
         "TownshipRange": "T13S R21E",
         "_deepnote_index_column": 364
        },
        {
         "station_id": "FRO",
         "station_name_x": " FRESNO WB AIRPORT",
         "precipitation_year": 2019,
         "year_avg": 0.9874999999999999,
         "station_name_y": "FRESNO WB AIRPORT",
         "latitude": 36.766998,
         "longitude": -119.717003,
         "county": " FRESNO",
         "river_basin": " TULARE LAKE",
         "geometry": "POINT (-119.717003 36.766998)",
         "index_right": 6294,
         "OBJECTID": 45193,
         "Township": "T13S",
         "Range": "R21E",
         "Meridian": "MDM",
         "Source": "BLM",
         "Section": 29,
         "MTRS": "MDM-T13S-R21E-29",
         "TownshipRange": "T13S R21E",
         "_deepnote_index_column": 365
        },
        {
         "station_id": "FRO",
         "station_name_x": " FRESNO WB AIRPORT",
         "precipitation_year": 2020,
         "year_avg": 0.6158333333333333,
         "station_name_y": "FRESNO WB AIRPORT",
         "latitude": 36.766998,
         "longitude": -119.717003,
         "county": " FRESNO",
         "river_basin": " TULARE LAKE",
         "geometry": "POINT (-119.717003 36.766998)",
         "index_right": 6294,
         "OBJECTID": 45193,
         "Township": "T13S",
         "Range": "R21E",
         "Meridian": "MDM",
         "Source": "BLM",
         "Section": 29,
         "MTRS": "MDM-T13S-R21E-29",
         "TownshipRange": "T13S R21E",
         "_deepnote_index_column": 366
        },
        {
         "station_id": "FRO",
         "station_name_x": " FRESNO WB AIRPORT",
         "precipitation_year": 2021,
         "year_avg": 0.5683333333333334,
         "station_name_y": "FRESNO WB AIRPORT",
         "latitude": 36.766998,
         "longitude": -119.717003,
         "county": " FRESNO",
         "river_basin": " TULARE LAKE",
         "geometry": "POINT (-119.717003 36.766998)",
         "index_right": 6294,
         "OBJECTID": 45193,
         "Township": "T13S",
         "Range": "R21E",
         "Meridian": "MDM",
         "Source": "BLM",
         "Section": 29,
         "MTRS": "MDM-T13S-R21E-29",
         "TownshipRange": "T13S R21E",
         "_deepnote_index_column": 367
        },
        {
         "station_id": "FRO",
         "station_name_x": " FRESNO WB AIRPORT",
         "precipitation_year": 2015,
         "year_avg": 0.5808333333333333,
         "station_name_y": "FRESNO WB AIRPORT",
         "latitude": 36.766998,
         "longitude": -119.717003,
         "county": " FRESNO",
         "river_basin": " TULARE LAKE",
         "geometry": "POINT (-119.717003 36.766998)",
         "index_right": 6294,
         "OBJECTID": 45193,
         "Township": "T13S",
         "Range": "R21E",
         "Meridian": "MDM",
         "Source": "BLM",
         "Section": 29,
         "MTRS": "MDM-T13S-R21E-29",
         "TownshipRange": "T13S R21E",
         "_deepnote_index_column": 368
        },
        {
         "station_id": "FRO",
         "station_name_x": " FRESNO WB AIRPORT",
         "precipitation_year": 2016,
         "year_avg": 1.1908333333333334,
         "station_name_y": "FRESNO WB AIRPORT",
         "latitude": 36.766998,
         "longitude": -119.717003,
         "county": " FRESNO",
         "river_basin": " TULARE LAKE",
         "geometry": "POINT (-119.717003 36.766998)",
         "index_right": 6294,
         "OBJECTID": 45193,
         "Township": "T13S",
         "Range": "R21E",
         "Meridian": "MDM",
         "Source": "BLM",
         "Section": 29,
         "MTRS": "MDM-T13S-R21E-29",
         "TownshipRange": "T13S R21E",
         "_deepnote_index_column": 369
        },
        {
         "station_id": "HND",
         "station_name_x": " HANFORD REFINERY",
         "precipitation_year": 2022,
         "year_avg": 0.6200000000000001,
         "station_name_y": "HANFORD REFINERY",
         "latitude": 36.333,
         "longitude": -119.667,
         "county": " KINGS",
         "river_basin": " TULARE LAKE",
         "geometry": "POINT (-119.667 36.333)",
         "index_right": 8473,
         "OBJECTID": 59570,
         "Township": "T18S",
         "Range": "R21E",
         "Meridian": "MDM",
         "Source": "BLM",
         "Section": 26,
         "MTRS": "MDM-T18S-R21E-26",
         "TownshipRange": "T18S R21E",
         "_deepnote_index_column": 430
        },
        {
         "station_id": "HND",
         "station_name_x": " HANFORD REFINERY",
         "precipitation_year": 2019,
         "year_avg": 0.7916666666666666,
         "station_name_y": "HANFORD REFINERY",
         "latitude": 36.333,
         "longitude": -119.667,
         "county": " KINGS",
         "river_basin": " TULARE LAKE",
         "geometry": "POINT (-119.667 36.333)",
         "index_right": 8473,
         "OBJECTID": 59570,
         "Township": "T18S",
         "Range": "R21E",
         "Meridian": "MDM",
         "Source": "BLM",
         "Section": 26,
         "MTRS": "MDM-T18S-R21E-26",
         "TownshipRange": "T18S R21E",
         "_deepnote_index_column": 431
        },
        {
         "station_id": "HND",
         "station_name_x": " HANFORD REFINERY",
         "precipitation_year": 2020,
         "year_avg": 0.5508333333333334,
         "station_name_y": "HANFORD REFINERY",
         "latitude": 36.333,
         "longitude": -119.667,
         "county": " KINGS",
         "river_basin": " TULARE LAKE",
         "geometry": "POINT (-119.667 36.333)",
         "index_right": 8473,
         "OBJECTID": 59570,
         "Township": "T18S",
         "Range": "R21E",
         "Meridian": "MDM",
         "Source": "BLM",
         "Section": 26,
         "MTRS": "MDM-T18S-R21E-26",
         "TownshipRange": "T18S R21E",
         "_deepnote_index_column": 432
        },
        {
         "station_id": "HND",
         "station_name_x": " HANFORD REFINERY",
         "precipitation_year": 2021,
         "year_avg": 0.38666666666666666,
         "station_name_y": "HANFORD REFINERY",
         "latitude": 36.333,
         "longitude": -119.667,
         "county": " KINGS",
         "river_basin": " TULARE LAKE",
         "geometry": "POINT (-119.667 36.333)",
         "index_right": 8473,
         "OBJECTID": 59570,
         "Township": "T18S",
         "Range": "R21E",
         "Meridian": "MDM",
         "Source": "BLM",
         "Section": 26,
         "MTRS": "MDM-T18S-R21E-26",
         "TownshipRange": "T18S R21E",
         "_deepnote_index_column": 433
        },
        {
         "station_id": "HND",
         "station_name_x": " HANFORD REFINERY",
         "precipitation_year": 2015,
         "year_avg": 0.45083333333333325,
         "station_name_y": "HANFORD REFINERY",
         "latitude": 36.333,
         "longitude": -119.667,
         "county": " KINGS",
         "river_basin": " TULARE LAKE",
         "geometry": "POINT (-119.667 36.333)",
         "index_right": 8473,
         "OBJECTID": 59570,
         "Township": "T18S",
         "Range": "R21E",
         "Meridian": "MDM",
         "Source": "BLM",
         "Section": 26,
         "MTRS": "MDM-T18S-R21E-26",
         "TownshipRange": "T18S R21E",
         "_deepnote_index_column": 434
        },
        {
         "station_id": "HND",
         "station_name_x": " HANFORD REFINERY",
         "precipitation_year": 2016,
         "year_avg": 0.6583333333333333,
         "station_name_y": "HANFORD REFINERY",
         "latitude": 36.333,
         "longitude": -119.667,
         "county": " KINGS",
         "river_basin": " TULARE LAKE",
         "geometry": "POINT (-119.667 36.333)",
         "index_right": 8473,
         "OBJECTID": 59570,
         "Township": "T18S",
         "Range": "R21E",
         "Meridian": "MDM",
         "Source": "BLM",
         "Section": 26,
         "MTRS": "MDM-T18S-R21E-26",
         "TownshipRange": "T18S R21E",
         "_deepnote_index_column": 435
        },
        {
         "station_id": "LMC",
         "station_name_x": " LEMON COVE",
         "precipitation_year": 2022,
         "year_avg": 1.175,
         "station_name_y": "LEMON COVE",
         "latitude": 36.382999,
         "longitude": -119.032997,
         "county": " TULARE",
         "river_basin": " KAWEAH R",
         "geometry": "POINT (-119.032997 36.382999)",
         "index_right": 8672,
         "OBJECTID": 59769,
         "Township": "T18S",
         "Range": "R27E",
         "Meridian": "MDM",
         "Source": "BLM",
         "Section": 10,
         "MTRS": "MDM-T18S-R27E-10",
         "TownshipRange": "T18S R27E",
         "_deepnote_index_column": 538
        },
        {
         "station_id": "LMC",
         "station_name_x": " LEMON COVE",
         "precipitation_year": 2019,
         "year_avg": 1.4266666666666667,
         "station_name_y": "LEMON COVE",
         "latitude": 36.382999,
         "longitude": -119.032997,
         "county": " TULARE",
         "river_basin": " KAWEAH R",
         "geometry": "POINT (-119.032997 36.382999)",
         "index_right": 8672,
         "OBJECTID": 59769,
         "Township": "T18S",
         "Range": "R27E",
         "Meridian": "MDM",
         "Source": "BLM",
         "Section": 10,
         "MTRS": "MDM-T18S-R27E-10",
         "TownshipRange": "T18S R27E",
         "_deepnote_index_column": 539
        },
        {
         "station_id": "LMC",
         "station_name_x": " LEMON COVE",
         "precipitation_year": 2020,
         "year_avg": 1.1716666666666666,
         "station_name_y": "LEMON COVE",
         "latitude": 36.382999,
         "longitude": -119.032997,
         "county": " TULARE",
         "river_basin": " KAWEAH R",
         "geometry": "POINT (-119.032997 36.382999)",
         "index_right": 8672,
         "OBJECTID": 59769,
         "Township": "T18S",
         "Range": "R27E",
         "Meridian": "MDM",
         "Source": "BLM",
         "Section": 10,
         "MTRS": "MDM-T18S-R27E-10",
         "TownshipRange": "T18S R27E",
         "_deepnote_index_column": 540
        },
        {
         "station_id": "LMC",
         "station_name_x": " LEMON COVE",
         "precipitation_year": 2021,
         "year_avg": 0.43916666666666654,
         "station_name_y": "LEMON COVE",
         "latitude": 36.382999,
         "longitude": -119.032997,
         "county": " TULARE",
         "river_basin": " KAWEAH R",
         "geometry": "POINT (-119.032997 36.382999)",
         "index_right": 8672,
         "OBJECTID": 59769,
         "Township": "T18S",
         "Range": "R27E",
         "Meridian": "MDM",
         "Source": "BLM",
         "Section": 10,
         "MTRS": "MDM-T18S-R27E-10",
         "TownshipRange": "T18S R27E",
         "_deepnote_index_column": 541
        },
        {
         "station_id": "LMC",
         "station_name_x": " LEMON COVE",
         "precipitation_year": 2015,
         "year_avg": 0.7725,
         "station_name_y": "LEMON COVE",
         "latitude": 36.382999,
         "longitude": -119.032997,
         "county": " TULARE",
         "river_basin": " KAWEAH R",
         "geometry": "POINT (-119.032997 36.382999)",
         "index_right": 8672,
         "OBJECTID": 59769,
         "Township": "T18S",
         "Range": "R27E",
         "Meridian": "MDM",
         "Source": "BLM",
         "Section": 10,
         "MTRS": "MDM-T18S-R27E-10",
         "TownshipRange": "T18S R27E",
         "_deepnote_index_column": 542
        },
        {
         "station_id": "LMC",
         "station_name_x": " LEMON COVE",
         "precipitation_year": 2016,
         "year_avg": 1.5183333333333333,
         "station_name_y": "LEMON COVE",
         "latitude": 36.382999,
         "longitude": -119.032997,
         "county": " TULARE",
         "river_basin": " KAWEAH R",
         "geometry": "POINT (-119.032997 36.382999)",
         "index_right": 8672,
         "OBJECTID": 59769,
         "Township": "T18S",
         "Range": "R27E",
         "Meridian": "MDM",
         "Source": "BLM",
         "Section": 10,
         "MTRS": "MDM-T18S-R27E-10",
         "TownshipRange": "T18S R27E",
         "_deepnote_index_column": 543
        },
        {
         "station_id": "LND",
         "station_name_x": " LINDSAY",
         "precipitation_year": 2022,
         "year_avg": 0.98,
         "station_name_y": "LINDSAY",
         "latitude": 36.200001,
         "longitude": -119.050003,
         "county": " TULARE",
         "river_basin": " TULARE LAKE",
         "geometry": "POINT (-119.050003 36.200001)",
         "index_right": 9595,
         "OBJECTID": 65773,
         "Township": "T20S",
         "Range": "R27E",
         "Meridian": "MDM",
         "Source": "BLM",
         "Section": 9,
         "MTRS": "MDM-T20S-R27E-9",
         "TownshipRange": "T20S R27E",
         "_deepnote_index_column": 548
        },
        {
         "station_id": "LND",
         "station_name_x": " LINDSAY",
         "precipitation_year": 2019,
         "year_avg": 0.9891666666666667,
         "station_name_y": "LINDSAY",
         "latitude": 36.200001,
         "longitude": -119.050003,
         "county": " TULARE",
         "river_basin": " TULARE LAKE",
         "geometry": "POINT (-119.050003 36.200001)",
         "index_right": 9595,
         "OBJECTID": 65773,
         "Township": "T20S",
         "Range": "R27E",
         "Meridian": "MDM",
         "Source": "BLM",
         "Section": 9,
         "MTRS": "MDM-T20S-R27E-9",
         "TownshipRange": "T20S R27E",
         "_deepnote_index_column": 549
        },
        {
         "station_id": "LND",
         "station_name_x": " LINDSAY",
         "precipitation_year": 2020,
         "year_avg": 0.7474999999999999,
         "station_name_y": "LINDSAY",
         "latitude": 36.200001,
         "longitude": -119.050003,
         "county": " TULARE",
         "river_basin": " TULARE LAKE",
         "geometry": "POINT (-119.050003 36.200001)",
         "index_right": 9595,
         "OBJECTID": 65773,
         "Township": "T20S",
         "Range": "R27E",
         "Meridian": "MDM",
         "Source": "BLM",
         "Section": 9,
         "MTRS": "MDM-T20S-R27E-9",
         "TownshipRange": "T20S R27E",
         "_deepnote_index_column": 550
        },
        {
         "station_id": "LND",
         "station_name_x": " LINDSAY",
         "precipitation_year": 2021,
         "year_avg": 0.4108333333333332,
         "station_name_y": "LINDSAY",
         "latitude": 36.200001,
         "longitude": -119.050003,
         "county": " TULARE",
         "river_basin": " TULARE LAKE",
         "geometry": "POINT (-119.050003 36.200001)",
         "index_right": 9595,
         "OBJECTID": 65773,
         "Township": "T20S",
         "Range": "R27E",
         "Meridian": "MDM",
         "Source": "BLM",
         "Section": 9,
         "MTRS": "MDM-T20S-R27E-9",
         "TownshipRange": "T20S R27E",
         "_deepnote_index_column": 551
        },
        {
         "station_id": "LND",
         "station_name_x": " LINDSAY",
         "precipitation_year": 2015,
         "year_avg": 0.7236363636363636,
         "station_name_y": "LINDSAY",
         "latitude": 36.200001,
         "longitude": -119.050003,
         "county": " TULARE",
         "river_basin": " TULARE LAKE",
         "geometry": "POINT (-119.050003 36.200001)",
         "index_right": 9595,
         "OBJECTID": 65773,
         "Township": "T20S",
         "Range": "R27E",
         "Meridian": "MDM",
         "Source": "BLM",
         "Section": 9,
         "MTRS": "MDM-T20S-R27E-9",
         "TownshipRange": "T20S R27E",
         "_deepnote_index_column": 552
        },
        {
         "station_id": "LND",
         "station_name_x": " LINDSAY",
         "precipitation_year": 2016,
         "year_avg": 1.2216666666666667,
         "station_name_y": "LINDSAY",
         "latitude": 36.200001,
         "longitude": -119.050003,
         "county": " TULARE",
         "river_basin": " TULARE LAKE",
         "geometry": "POINT (-119.050003 36.200001)",
         "index_right": 9595,
         "OBJECTID": 65773,
         "Township": "T20S",
         "Range": "R27E",
         "Meridian": "MDM",
         "Source": "BLM",
         "Section": 9,
         "MTRS": "MDM-T20S-R27E-9",
         "TownshipRange": "T20S R27E",
         "_deepnote_index_column": 553
        },
        {
         "station_id": "MDR",
         "station_name_x": " MADERA",
         "precipitation_year": 2022,
         "year_avg": 0.32499999999999996,
         "station_name_y": "MADERA",
         "latitude": 36.950001,
         "longitude": -120.032997,
         "county": " MADERA",
         "river_basin": " SAN JOAQUIN FLOOR",
         "geometry": "POINT (-120.032997 36.950001)",
         "index_right": 5310,
         "OBJECTID": 39190,
         "Township": "T11S",
         "Range": "R18E",
         "Meridian": "MDM",
         "Source": "BLM",
         "Section": 29,
         "MTRS": "MDM-T11S-R18E-29",
         "TownshipRange": "T11S R18E",
         "_deepnote_index_column": 572
        },
        {
         "station_id": "MDR",
         "station_name_x": " MADERA",
         "precipitation_year": 2019,
         "year_avg": 0.945,
         "station_name_y": "MADERA",
         "latitude": 36.950001,
         "longitude": -120.032997,
         "county": " MADERA",
         "river_basin": " SAN JOAQUIN FLOOR",
         "geometry": "POINT (-120.032997 36.950001)",
         "index_right": 5310,
         "OBJECTID": 39190,
         "Township": "T11S",
         "Range": "R18E",
         "Meridian": "MDM",
         "Source": "BLM",
         "Section": 29,
         "MTRS": "MDM-T11S-R18E-29",
         "TownshipRange": "T11S R18E",
         "_deepnote_index_column": 573
        },
        {
         "station_id": "MDR",
         "station_name_x": " MADERA",
         "precipitation_year": 2020,
         "year_avg": 0.8491666666666665,
         "station_name_y": "MADERA",
         "latitude": 36.950001,
         "longitude": -120.032997,
         "county": " MADERA",
         "river_basin": " SAN JOAQUIN FLOOR",
         "geometry": "POINT (-120.032997 36.950001)",
         "index_right": 5310,
         "OBJECTID": 39190,
         "Township": "T11S",
         "Range": "R18E",
         "Meridian": "MDM",
         "Source": "BLM",
         "Section": 29,
         "MTRS": "MDM-T11S-R18E-29",
         "TownshipRange": "T11S R18E",
         "_deepnote_index_column": 574
        },
        {
         "station_id": "MDR",
         "station_name_x": " MADERA",
         "precipitation_year": 2021,
         "year_avg": 0.4683333333333333,
         "station_name_y": "MADERA",
         "latitude": 36.950001,
         "longitude": -120.032997,
         "county": " MADERA",
         "river_basin": " SAN JOAQUIN FLOOR",
         "geometry": "POINT (-120.032997 36.950001)",
         "index_right": 5310,
         "OBJECTID": 39190,
         "Township": "T11S",
         "Range": "R18E",
         "Meridian": "MDM",
         "Source": "BLM",
         "Section": 29,
         "MTRS": "MDM-T11S-R18E-29",
         "TownshipRange": "T11S R18E",
         "_deepnote_index_column": 575
        },
        {
         "station_id": "MDR",
         "station_name_x": " MADERA",
         "precipitation_year": 2015,
         "year_avg": 0.44250000000000006,
         "station_name_y": "MADERA",
         "latitude": 36.950001,
         "longitude": -120.032997,
         "county": " MADERA",
         "river_basin": " SAN JOAQUIN FLOOR",
         "geometry": "POINT (-120.032997 36.950001)",
         "index_right": 5310,
         "OBJECTID": 39190,
         "Township": "T11S",
         "Range": "R18E",
         "Meridian": "MDM",
         "Source": "BLM",
         "Section": 29,
         "MTRS": "MDM-T11S-R18E-29",
         "TownshipRange": "T11S R18E",
         "_deepnote_index_column": 576
        },
        {
         "station_id": "MDR",
         "station_name_x": " MADERA",
         "precipitation_year": 2016,
         "year_avg": 1.0616666666666668,
         "station_name_y": "MADERA",
         "latitude": 36.950001,
         "longitude": -120.032997,
         "county": " MADERA",
         "river_basin": " SAN JOAQUIN FLOOR",
         "geometry": "POINT (-120.032997 36.950001)",
         "index_right": 5310,
         "OBJECTID": 39190,
         "Township": "T11S",
         "Range": "R18E",
         "Meridian": "MDM",
         "Source": "BLM",
         "Section": 29,
         "MTRS": "MDM-T11S-R18E-29",
         "TownshipRange": "T11S R18E",
         "_deepnote_index_column": 577
        },
        {
         "station_id": "MFS",
         "station_name_x": " MERCED",
         "precipitation_year": 2022,
         "year_avg": 0.995,
         "station_name_y": "MERCED",
         "latitude": 37.283001,
         "longitude": -120.516998,
         "county": " MERCED",
         "river_basin": " SAN JOAQUIN FLOOR",
         "geometry": "POINT (-120.516998 37.283001)",
         "index_right": 3604,
         "OBJECTID": 26178,
         "Township": "T07S",
         "Range": "R13E",
         "Meridian": "MDM",
         "Source": "BLM",
         "Section": 35,
         "MTRS": "MDM-T07S-R13E-35",
         "TownshipRange": "T07S R13E",
         "_deepnote_index_column": 596
        },
        {
         "station_id": "MFS",
         "station_name_x": " MERCED",
         "precipitation_year": 2019,
         "year_avg": 1.1408333333333334,
         "station_name_y": "MERCED",
         "latitude": 37.283001,
         "longitude": -120.516998,
         "county": " MERCED",
         "river_basin": " SAN JOAQUIN FLOOR",
         "geometry": "POINT (-120.516998 37.283001)",
         "index_right": 3604,
         "OBJECTID": 26178,
         "Township": "T07S",
         "Range": "R13E",
         "Meridian": "MDM",
         "Source": "BLM",
         "Section": 35,
         "MTRS": "MDM-T07S-R13E-35",
         "TownshipRange": "T07S R13E",
         "_deepnote_index_column": 597
        },
        {
         "station_id": "MFS",
         "station_name_x": " MERCED",
         "precipitation_year": 2020,
         "year_avg": 0.8325,
         "station_name_y": "MERCED",
         "latitude": 37.283001,
         "longitude": -120.516998,
         "county": " MERCED",
         "river_basin": " SAN JOAQUIN FLOOR",
         "geometry": "POINT (-120.516998 37.283001)",
         "index_right": 3604,
         "OBJECTID": 26178,
         "Township": "T07S",
         "Range": "R13E",
         "Meridian": "MDM",
         "Source": "BLM",
         "Section": 35,
         "MTRS": "MDM-T07S-R13E-35",
         "TownshipRange": "T07S R13E",
         "_deepnote_index_column": 598
        },
        {
         "station_id": "MFS",
         "station_name_x": " MERCED",
         "precipitation_year": 2021,
         "year_avg": 0.6508333333333334,
         "station_name_y": "MERCED",
         "latitude": 37.283001,
         "longitude": -120.516998,
         "county": " MERCED",
         "river_basin": " SAN JOAQUIN FLOOR",
         "geometry": "POINT (-120.516998 37.283001)",
         "index_right": 3604,
         "OBJECTID": 26178,
         "Township": "T07S",
         "Range": "R13E",
         "Meridian": "MDM",
         "Source": "BLM",
         "Section": 35,
         "MTRS": "MDM-T07S-R13E-35",
         "TownshipRange": "T07S R13E",
         "_deepnote_index_column": 599
        },
        {
         "station_id": "MFS",
         "station_name_x": " MERCED",
         "precipitation_year": 2015,
         "year_avg": 1.0414285714285714,
         "station_name_y": "MERCED",
         "latitude": 37.283001,
         "longitude": -120.516998,
         "county": " MERCED",
         "river_basin": " SAN JOAQUIN FLOOR",
         "geometry": "POINT (-120.516998 37.283001)",
         "index_right": 3604,
         "OBJECTID": 26178,
         "Township": "T07S",
         "Range": "R13E",
         "Meridian": "MDM",
         "Source": "BLM",
         "Section": 35,
         "MTRS": "MDM-T07S-R13E-35",
         "TownshipRange": "T07S R13E",
         "_deepnote_index_column": 600
        },
        {
         "station_id": "MFS",
         "station_name_x": " MERCED",
         "precipitation_year": 2016,
         "year_avg": 1.018181818181818,
         "station_name_y": "MERCED",
         "latitude": 37.283001,
         "longitude": -120.516998,
         "county": " MERCED",
         "river_basin": " SAN JOAQUIN FLOOR",
         "geometry": "POINT (-120.516998 37.283001)",
         "index_right": 3604,
         "OBJECTID": 26178,
         "Township": "T07S",
         "Range": "R13E",
         "Meridian": "MDM",
         "Source": "BLM",
         "Section": 35,
         "MTRS": "MDM-T07S-R13E-35",
         "TownshipRange": "T07S R13E",
         "_deepnote_index_column": 601
        },
        {
         "station_id": "MDE",
         "station_name_x": " MODESTO IRRIG DISTRICT OFFICE",
         "precipitation_year": 2022,
         "year_avg": 1.795,
         "station_name_y": "MODESTO IRRIG DISTRICT OFFICE",
         "latitude": 37.650002,
         "longitude": -121.000999,
         "county": " STANISLAUS",
         "river_basin": " TUOLUMNE R",
         "geometry": "POINT (-121.000999 37.650002)",
         "index_right": 1850,
         "OBJECTID": 15551,
         "Township": "T03S",
         "Range": "R09E",
         "Meridian": "MDM",
         "Source": "BLM",
         "Section": 29,
         "MTRS": "MDM-T03S-R09E-29",
         "TownshipRange": "T03S R09E",
         "_deepnote_index_column": 614
        },
        {
         "station_id": "MDE",
         "station_name_x": " MODESTO IRRIG DISTRICT OFFICE",
         "precipitation_year": 2019,
         "year_avg": 1.1545454545454545,
         "station_name_y": "MODESTO IRRIG DISTRICT OFFICE",
         "latitude": 37.650002,
         "longitude": -121.000999,
         "county": " STANISLAUS",
         "river_basin": " TUOLUMNE R",
         "geometry": "POINT (-121.000999 37.650002)",
         "index_right": 1850,
         "OBJECTID": 15551,
         "Township": "T03S",
         "Range": "R09E",
         "Meridian": "MDM",
         "Source": "BLM",
         "Section": 29,
         "MTRS": "MDM-T03S-R09E-29",
         "TownshipRange": "T03S R09E",
         "_deepnote_index_column": 615
        }
       ]
      },
      "text/plain": "    station_id        station_name_x  precipitation_year  year_avg  \\\n30         BFK   BAKERSFIELD AIRPORT                2022  0.475000   \n31         BFK   BAKERSFIELD AIRPORT                2019  0.651667   \n32         BFK   BAKERSFIELD AIRPORT                2020  0.641667   \n33         BFK   BAKERSFIELD AIRPORT                2021  0.245000   \n34         BFK   BAKERSFIELD AIRPORT                2015  0.484545   \n..         ...                   ...                 ...       ...   \n928        WSC                 WASCO                2022  0.710000   \n929        WSC                 WASCO                2019  0.611667   \n930        WSC                 WASCO                2020  0.726667   \n931        WSC                 WASCO                2021  0.247500   \n932        WSC                 WASCO                2015  0.476364   \n\n          station_name_y   latitude   longitude county   river_basin  \\\n30   BAKERSFIELD AIRPORT  35.433998 -119.054001   KERN   TULARE LAKE   \n31   BAKERSFIELD AIRPORT  35.433998 -119.054001   KERN   TULARE LAKE   \n32   BAKERSFIELD AIRPORT  35.433998 -119.054001   KERN   TULARE LAKE   \n33   BAKERSFIELD AIRPORT  35.433998 -119.054001   KERN   TULARE LAKE   \n34   BAKERSFIELD AIRPORT  35.433998 -119.054001   KERN   TULARE LAKE   \n..                   ...        ...         ...    ...           ...   \n928                WASCO  35.599998 -119.333000   KERN   TULARE LAKE   \n929                WASCO  35.599998 -119.333000   KERN   TULARE LAKE   \n930                WASCO  35.599998 -119.333000   KERN   TULARE LAKE   \n931                WASCO  35.599998 -119.333000   KERN   TULARE LAKE   \n932                WASCO  35.599998 -119.333000   KERN   TULARE LAKE   \n\n                        geometry  index_right  OBJECTID Township Range  \\\n30   POINT (-119.05400 35.43400)      12987.0   89544.0     T29S  R27E   \n31   POINT (-119.05400 35.43400)      12987.0   89544.0     T29S  R27E   \n32   POINT (-119.05400 35.43400)      12987.0   89544.0     T29S  R27E   \n33   POINT (-119.05400 35.43400)      12987.0   89544.0     T29S  R27E   \n34   POINT (-119.05400 35.43400)      12987.0   89544.0     T29S  R27E   \n..                           ...          ...       ...      ...   ...   \n928  POINT (-119.33300 35.60000)      12287.0   84812.0     T27S  R24E   \n929  POINT (-119.33300 35.60000)      12287.0   84812.0     T27S  R24E   \n930  POINT (-119.33300 35.60000)      12287.0   84812.0     T27S  R24E   \n931  POINT (-119.33300 35.60000)      12287.0   84812.0     T27S  R24E   \n932  POINT (-119.33300 35.60000)      12287.0   84812.0     T27S  R24E   \n\n    Meridian Source  Section              MTRS TownshipRange  \n30       MDM    BLM      2.0   MDM-T29S-R27E-2     T29S R27E  \n31       MDM    BLM      2.0   MDM-T29S-R27E-2     T29S R27E  \n32       MDM    BLM      2.0   MDM-T29S-R27E-2     T29S R27E  \n33       MDM    BLM      2.0   MDM-T29S-R27E-2     T29S R27E  \n34       MDM    BLM      2.0   MDM-T29S-R27E-2     T29S R27E  \n..       ...    ...      ...               ...           ...  \n928      MDM    BLM     12.0  MDM-T27S-R24E-12     T27S R24E  \n929      MDM    BLM     12.0  MDM-T27S-R24E-12     T27S R24E  \n930      MDM    BLM     12.0  MDM-T27S-R24E-12     T27S R24E  \n931      MDM    BLM     12.0  MDM-T27S-R24E-12     T27S R24E  \n932      MDM    BLM     12.0  MDM-T27S-R24E-12     T27S R24E  \n\n[89 rows x 19 columns]",
      "text/html": "<div>\n<style scoped>\n    .dataframe tbody tr th:only-of-type {\n        vertical-align: middle;\n    }\n\n    .dataframe tbody tr th {\n        vertical-align: top;\n    }\n\n    .dataframe thead th {\n        text-align: right;\n    }\n</style>\n<table border=\"1\" class=\"dataframe\">\n  <thead>\n    <tr style=\"text-align: right;\">\n      <th></th>\n      <th>station_id</th>\n      <th>station_name_x</th>\n      <th>precipitation_year</th>\n      <th>year_avg</th>\n      <th>station_name_y</th>\n      <th>latitude</th>\n      <th>longitude</th>\n      <th>county</th>\n      <th>river_basin</th>\n      <th>geometry</th>\n      <th>index_right</th>\n      <th>OBJECTID</th>\n      <th>Township</th>\n      <th>Range</th>\n      <th>Meridian</th>\n      <th>Source</th>\n      <th>Section</th>\n      <th>MTRS</th>\n      <th>TownshipRange</th>\n    </tr>\n  </thead>\n  <tbody>\n    <tr>\n      <th>30</th>\n      <td>BFK</td>\n      <td>BAKERSFIELD AIRPORT</td>\n      <td>2022</td>\n      <td>0.475000</td>\n      <td>BAKERSFIELD AIRPORT</td>\n      <td>35.433998</td>\n      <td>-119.054001</td>\n      <td>KERN</td>\n      <td>TULARE LAKE</td>\n      <td>POINT (-119.05400 35.43400)</td>\n      <td>12987.0</td>\n      <td>89544.0</td>\n      <td>T29S</td>\n      <td>R27E</td>\n      <td>MDM</td>\n      <td>BLM</td>\n      <td>2.0</td>\n      <td>MDM-T29S-R27E-2</td>\n      <td>T29S R27E</td>\n    </tr>\n    <tr>\n      <th>31</th>\n      <td>BFK</td>\n      <td>BAKERSFIELD AIRPORT</td>\n      <td>2019</td>\n      <td>0.651667</td>\n      <td>BAKERSFIELD AIRPORT</td>\n      <td>35.433998</td>\n      <td>-119.054001</td>\n      <td>KERN</td>\n      <td>TULARE LAKE</td>\n      <td>POINT (-119.05400 35.43400)</td>\n      <td>12987.0</td>\n      <td>89544.0</td>\n      <td>T29S</td>\n      <td>R27E</td>\n      <td>MDM</td>\n      <td>BLM</td>\n      <td>2.0</td>\n      <td>MDM-T29S-R27E-2</td>\n      <td>T29S R27E</td>\n    </tr>\n    <tr>\n      <th>32</th>\n      <td>BFK</td>\n      <td>BAKERSFIELD AIRPORT</td>\n      <td>2020</td>\n      <td>0.641667</td>\n      <td>BAKERSFIELD AIRPORT</td>\n      <td>35.433998</td>\n      <td>-119.054001</td>\n      <td>KERN</td>\n      <td>TULARE LAKE</td>\n      <td>POINT (-119.05400 35.43400)</td>\n      <td>12987.0</td>\n      <td>89544.0</td>\n      <td>T29S</td>\n      <td>R27E</td>\n      <td>MDM</td>\n      <td>BLM</td>\n      <td>2.0</td>\n      <td>MDM-T29S-R27E-2</td>\n      <td>T29S R27E</td>\n    </tr>\n    <tr>\n      <th>33</th>\n      <td>BFK</td>\n      <td>BAKERSFIELD AIRPORT</td>\n      <td>2021</td>\n      <td>0.245000</td>\n      <td>BAKERSFIELD AIRPORT</td>\n      <td>35.433998</td>\n      <td>-119.054001</td>\n      <td>KERN</td>\n      <td>TULARE LAKE</td>\n      <td>POINT (-119.05400 35.43400)</td>\n      <td>12987.0</td>\n      <td>89544.0</td>\n      <td>T29S</td>\n      <td>R27E</td>\n      <td>MDM</td>\n      <td>BLM</td>\n      <td>2.0</td>\n      <td>MDM-T29S-R27E-2</td>\n      <td>T29S R27E</td>\n    </tr>\n    <tr>\n      <th>34</th>\n      <td>BFK</td>\n      <td>BAKERSFIELD AIRPORT</td>\n      <td>2015</td>\n      <td>0.484545</td>\n      <td>BAKERSFIELD AIRPORT</td>\n      <td>35.433998</td>\n      <td>-119.054001</td>\n      <td>KERN</td>\n      <td>TULARE LAKE</td>\n      <td>POINT (-119.05400 35.43400)</td>\n      <td>12987.0</td>\n      <td>89544.0</td>\n      <td>T29S</td>\n      <td>R27E</td>\n      <td>MDM</td>\n      <td>BLM</td>\n      <td>2.0</td>\n      <td>MDM-T29S-R27E-2</td>\n      <td>T29S R27E</td>\n    </tr>\n    <tr>\n      <th>...</th>\n      <td>...</td>\n      <td>...</td>\n      <td>...</td>\n      <td>...</td>\n      <td>...</td>\n      <td>...</td>\n      <td>...</td>\n      <td>...</td>\n      <td>...</td>\n      <td>...</td>\n      <td>...</td>\n      <td>...</td>\n      <td>...</td>\n      <td>...</td>\n      <td>...</td>\n      <td>...</td>\n      <td>...</td>\n      <td>...</td>\n      <td>...</td>\n    </tr>\n    <tr>\n      <th>928</th>\n      <td>WSC</td>\n      <td>WASCO</td>\n      <td>2022</td>\n      <td>0.710000</td>\n      <td>WASCO</td>\n      <td>35.599998</td>\n      <td>-119.333000</td>\n      <td>KERN</td>\n      <td>TULARE LAKE</td>\n      <td>POINT (-119.33300 35.60000)</td>\n      <td>12287.0</td>\n      <td>84812.0</td>\n      <td>T27S</td>\n      <td>R24E</td>\n      <td>MDM</td>\n      <td>BLM</td>\n      <td>12.0</td>\n      <td>MDM-T27S-R24E-12</td>\n      <td>T27S R24E</td>\n    </tr>\n    <tr>\n      <th>929</th>\n      <td>WSC</td>\n      <td>WASCO</td>\n      <td>2019</td>\n      <td>0.611667</td>\n      <td>WASCO</td>\n      <td>35.599998</td>\n      <td>-119.333000</td>\n      <td>KERN</td>\n      <td>TULARE LAKE</td>\n      <td>POINT (-119.33300 35.60000)</td>\n      <td>12287.0</td>\n      <td>84812.0</td>\n      <td>T27S</td>\n      <td>R24E</td>\n      <td>MDM</td>\n      <td>BLM</td>\n      <td>12.0</td>\n      <td>MDM-T27S-R24E-12</td>\n      <td>T27S R24E</td>\n    </tr>\n    <tr>\n      <th>930</th>\n      <td>WSC</td>\n      <td>WASCO</td>\n      <td>2020</td>\n      <td>0.726667</td>\n      <td>WASCO</td>\n      <td>35.599998</td>\n      <td>-119.333000</td>\n      <td>KERN</td>\n      <td>TULARE LAKE</td>\n      <td>POINT (-119.33300 35.60000)</td>\n      <td>12287.0</td>\n      <td>84812.0</td>\n      <td>T27S</td>\n      <td>R24E</td>\n      <td>MDM</td>\n      <td>BLM</td>\n      <td>12.0</td>\n      <td>MDM-T27S-R24E-12</td>\n      <td>T27S R24E</td>\n    </tr>\n    <tr>\n      <th>931</th>\n      <td>WSC</td>\n      <td>WASCO</td>\n      <td>2021</td>\n      <td>0.247500</td>\n      <td>WASCO</td>\n      <td>35.599998</td>\n      <td>-119.333000</td>\n      <td>KERN</td>\n      <td>TULARE LAKE</td>\n      <td>POINT (-119.33300 35.60000)</td>\n      <td>12287.0</td>\n      <td>84812.0</td>\n      <td>T27S</td>\n      <td>R24E</td>\n      <td>MDM</td>\n      <td>BLM</td>\n      <td>12.0</td>\n      <td>MDM-T27S-R24E-12</td>\n      <td>T27S R24E</td>\n    </tr>\n    <tr>\n      <th>932</th>\n      <td>WSC</td>\n      <td>WASCO</td>\n      <td>2015</td>\n      <td>0.476364</td>\n      <td>WASCO</td>\n      <td>35.599998</td>\n      <td>-119.333000</td>\n      <td>KERN</td>\n      <td>TULARE LAKE</td>\n      <td>POINT (-119.33300 35.60000)</td>\n      <td>12287.0</td>\n      <td>84812.0</td>\n      <td>T27S</td>\n      <td>R24E</td>\n      <td>MDM</td>\n      <td>BLM</td>\n      <td>12.0</td>\n      <td>MDM-T27S-R24E-12</td>\n      <td>T27S R24E</td>\n    </tr>\n  </tbody>\n</table>\n<p>89 rows × 19 columns</p>\n</div>"
     },
     "metadata": {}
    }
   ]
  },
  {
   "cell_type": "code",
   "metadata": {
    "cell_id": "489599b2-a006-477f-a4e6-5f7f66b49f85",
    "tags": [],
    "deepnote_to_be_reexecuted": false,
    "source_hash": "df199b51",
    "execution_start": 1645576952113,
    "execution_millis": 5,
    "deepnote_cell_type": "code"
   },
   "source": [
    "precipitation_df = pd.read_csv(\"/work/assets/precipitation_data.csv\")\n",
    "precipitation_station_df = pd.read_csv(\"/work/assets/precipitation_station_data.csv\")\n",
    "precipitation_df.rename(columns={'frb':'feb'}, inplace=True)\n",
    "precipitation_station_df['station_id'] = precipitation_station_df.station_id.str.strip()\n",
    "month_cols = ['oct', 'nov', 'dec', 'jan', 'feb', 'mar', 'apr', 'may', 'jun', 'jul', 'aug', 'sep']\n",
    "for col in month_cols:\n",
    "    precipitation_df[col] = pd.to_numeric(precipitation_df[col], errors='coerce')\n",
    "\n",
    "precipitation_df = precipitation_df.assign(year_avg=precipitation_df.loc[:, month_cols].mean(axis=1))\n",
    "precipitation_df =  precipitation_df[['station_id', 'station_name', 'precipitation_year', 'year_avg']].copy()    \n",
    "precipitation_loc_df = precipitation_df.merge(precipitation_station_df,\n",
    "                                how='inner', \n",
    "                                left_on=['station_id'] , right_on=['station_id'] )\n"
   ],
   "execution_count": null,
   "outputs": []
  },
  {
   "cell_type": "code",
   "metadata": {
    "cell_id": "e783447e-9f1f-480d-953c-dc29807ee908",
    "tags": [],
    "deepnote_to_be_reexecuted": false,
    "source_hash": "1674cb4e",
    "execution_start": 1645576953175,
    "execution_millis": 66,
    "deepnote_cell_type": "code"
   },
   "source": [
    "precipitation_loc_df"
   ],
   "execution_count": null,
   "outputs": [
    {
     "output_type": "execute_result",
     "execution_count": 31,
     "data": {
      "application/vnd.deepnote.dataframe.v3+json": {
       "column_count": 9,
       "row_count": 992,
       "columns": [
        {
         "name": "station_id",
         "dtype": "object",
         "stats": {
          "unique_count": 181,
          "nan_count": 0,
          "categories": [
           {
            "name": "APU",
            "count": 6
           },
           {
            "name": "ASM",
            "count": 6
           },
           {
            "name": "179 others",
            "count": 980
           }
          ]
         }
        },
        {
         "name": "station_name_x",
         "dtype": "object",
         "stats": {
          "unique_count": 182,
          "nan_count": 0,
          "categories": [
           {
            "name": " ANGWIN PACIFIC UNION COL",
            "count": 6
           },
           {
            "name": " ASH MOUNTAIN",
            "count": 6
           },
           {
            "name": "180 others",
            "count": 980
           }
          ]
         }
        },
        {
         "name": "precipitation_year",
         "dtype": "int64",
         "stats": {
          "unique_count": 6,
          "nan_count": 0,
          "min": "2015",
          "max": "2022",
          "histogram": [
           {
            "bin_start": 2015,
            "bin_end": 2015.7,
            "count": 178
           },
           {
            "bin_start": 2015.7,
            "bin_end": 2016.4,
            "count": 126
           },
           {
            "bin_start": 2016.4,
            "bin_end": 2017.1,
            "count": 0
           },
           {
            "bin_start": 2017.1,
            "bin_end": 2017.8,
            "count": 0
           },
           {
            "bin_start": 2017.8,
            "bin_end": 2018.5,
            "count": 0
           },
           {
            "bin_start": 2018.5,
            "bin_end": 2019.2,
            "count": 177
           },
           {
            "bin_start": 2019.2,
            "bin_end": 2019.9,
            "count": 0
           },
           {
            "bin_start": 2019.9,
            "bin_end": 2020.6,
            "count": 171
           },
           {
            "bin_start": 2020.6,
            "bin_end": 2021.3,
            "count": 170
           },
           {
            "bin_start": 2021.3,
            "bin_end": 2022,
            "count": 170
           }
          ]
         }
        },
        {
         "name": "year_avg",
         "dtype": "float64",
         "stats": {
          "unique_count": 907,
          "nan_count": 41,
          "min": "0.0",
          "max": "11.73",
          "histogram": [
           {
            "bin_start": 0,
            "bin_end": 1.173,
            "count": 341
           },
           {
            "bin_start": 1.173,
            "bin_end": 2.346,
            "count": 293
           },
           {
            "bin_start": 2.346,
            "bin_end": 3.519,
            "count": 137
           },
           {
            "bin_start": 3.519,
            "bin_end": 4.692,
            "count": 77
           },
           {
            "bin_start": 4.692,
            "bin_end": 5.865,
            "count": 46
           },
           {
            "bin_start": 5.865,
            "bin_end": 7.038,
            "count": 24
           },
           {
            "bin_start": 7.038,
            "bin_end": 8.211,
            "count": 14
           },
           {
            "bin_start": 8.211,
            "bin_end": 9.384,
            "count": 11
           },
           {
            "bin_start": 9.384,
            "bin_end": 10.557,
            "count": 5
           },
           {
            "bin_start": 10.557,
            "bin_end": 11.73,
            "count": 3
           }
          ]
         }
        },
        {
         "name": "station_name_y",
         "dtype": "object",
         "stats": {
          "unique_count": 181,
          "nan_count": 0,
          "categories": [
           {
            "name": "ANGWIN PACIFIC UNION COL",
            "count": 6
           },
           {
            "name": "ASH MOUNTAIN",
            "count": 6
           },
           {
            "name": "179 others",
            "count": 980
           }
          ]
         }
        },
        {
         "name": "latitude",
         "dtype": "float64",
         "stats": {
          "unique_count": 166,
          "nan_count": 0,
          "min": "32.733002",
          "max": "41.849998",
          "histogram": [
           {
            "bin_start": 32.733002,
            "bin_end": 33.6447016,
            "count": 48
           },
           {
            "bin_start": 33.6447016,
            "bin_end": 34.556401199999996,
            "count": 77
           },
           {
            "bin_start": 34.556401199999996,
            "bin_end": 35.4681008,
            "count": 41
           },
           {
            "bin_start": 35.4681008,
            "bin_end": 36.3798004,
            "count": 114
           },
           {
            "bin_start": 36.3798004,
            "bin_end": 37.2915,
            "count": 155
           },
           {
            "bin_start": 37.2915,
            "bin_end": 38.2031996,
            "count": 112
           },
           {
            "bin_start": 38.2031996,
            "bin_end": 39.114899199999996,
            "count": 148
           },
           {
            "bin_start": 39.114899199999996,
            "bin_end": 40.0265988,
            "count": 153
           },
           {
            "bin_start": 40.0265988,
            "bin_end": 40.9382984,
            "count": 59
           },
           {
            "bin_start": 40.9382984,
            "bin_end": 41.849998,
            "count": 85
           }
          ]
         }
        },
        {
         "name": "longitude",
         "dtype": "float64",
         "stats": {
          "unique_count": 162,
          "nan_count": 0,
          "min": "-124.239998",
          "max": "-114.599998",
          "histogram": [
           {
            "bin_start": -124.239998,
            "bin_end": -123.275998,
            "count": 44
           },
           {
            "bin_start": -123.275998,
            "bin_end": -122.311998,
            "count": 97
           },
           {
            "bin_start": -122.311998,
            "bin_end": -121.347998,
            "count": 119
           },
           {
            "bin_start": -121.347998,
            "bin_end": -120.383998,
            "count": 175
           },
           {
            "bin_start": -120.383998,
            "bin_end": -119.41999799999999,
            "count": 188
           },
           {
            "bin_start": -119.41999799999999,
            "bin_end": -118.455998,
            "count": 190
           },
           {
            "bin_start": -118.455998,
            "bin_end": -117.491998,
            "count": 83
           },
           {
            "bin_start": -117.491998,
            "bin_end": -116.527998,
            "count": 59
           },
           {
            "bin_start": -116.527998,
            "bin_end": -115.563998,
            "count": 16
           },
           {
            "bin_start": -115.563998,
            "bin_end": -114.599998,
            "count": 21
           }
          ]
         }
        },
        {
         "name": "county",
         "dtype": "object",
         "stats": {
          "unique_count": 54,
          "nan_count": 0,
          "categories": [
           {
            "name": " TULARE",
            "count": 107
           },
           {
            "name": " NEVADA",
            "count": 51
           },
           {
            "name": "52 others",
            "count": 834
           }
          ]
         }
        },
        {
         "name": "river_basin",
         "dtype": "object",
         "stats": {
          "unique_count": 57,
          "nan_count": 0,
          "categories": [
           {
            "name": " KAWEAH R",
            "count": 52
           },
           {
            "name": " AMERICAN R",
            "count": 52
           },
           {
            "name": "55 others",
            "count": 888
           }
          ]
         }
        },
        {
         "name": "_deepnote_index_column",
         "dtype": "int64"
        }
       ],
       "rows": [
        {
         "station_id": "APU",
         "station_name_x": " ANGWIN PACIFIC UNION COL",
         "precipitation_year": 2022,
         "year_avg": 8.88,
         "station_name_y": "ANGWIN PACIFIC UNION COL",
         "latitude": 38.573101,
         "longitude": -122.440598,
         "county": " NAPA",
         "river_basin": " NAPA R",
         "_deepnote_index_column": 0
        },
        {
         "station_id": "APU",
         "station_name_x": " ANGWIN PACIFIC UNION COL",
         "precipitation_year": 2019,
         "year_avg": 4.558333333333334,
         "station_name_y": "ANGWIN PACIFIC UNION COL",
         "latitude": 38.573101,
         "longitude": -122.440598,
         "county": " NAPA",
         "river_basin": " NAPA R",
         "_deepnote_index_column": 1
        },
        {
         "station_id": "APU",
         "station_name_x": " ANGWIN PACIFIC UNION COL",
         "precipitation_year": 2020,
         "year_avg": 1.968333333333333,
         "station_name_y": "ANGWIN PACIFIC UNION COL",
         "latitude": 38.573101,
         "longitude": -122.440598,
         "county": " NAPA",
         "river_basin": " NAPA R",
         "_deepnote_index_column": 2
        },
        {
         "station_id": "APU",
         "station_name_x": " ANGWIN PACIFIC UNION COL",
         "precipitation_year": 2021,
         "year_avg": 1.3633333333333333,
         "station_name_y": "ANGWIN PACIFIC UNION COL",
         "latitude": 38.573101,
         "longitude": -122.440598,
         "county": " NAPA",
         "river_basin": " NAPA R",
         "_deepnote_index_column": 3
        },
        {
         "station_id": "APU",
         "station_name_x": " ANGWIN PACIFIC UNION COL",
         "precipitation_year": 2015,
         "year_avg": 3.118,
         "station_name_y": "ANGWIN PACIFIC UNION COL",
         "latitude": 38.573101,
         "longitude": -122.440598,
         "county": " NAPA",
         "river_basin": " NAPA R",
         "_deepnote_index_column": 4
        },
        {
         "station_id": "APU",
         "station_name_x": " ANGWIN PACIFIC UNION COL",
         "precipitation_year": 2016,
         "year_avg": 3.264545454545455,
         "station_name_y": "ANGWIN PACIFIC UNION COL",
         "latitude": 38.573101,
         "longitude": -122.440598,
         "county": " NAPA",
         "river_basin": " NAPA R",
         "_deepnote_index_column": 5
        },
        {
         "station_id": "ASM",
         "station_name_x": " ASH MOUNTAIN",
         "precipitation_year": 2022,
         "year_avg": 1.48,
         "station_name_y": "ASH MOUNTAIN",
         "latitude": 36.483002,
         "longitude": -118.833,
         "county": " TULARE",
         "river_basin": " KAWEAH R",
         "_deepnote_index_column": 6
        },
        {
         "station_id": "ASM",
         "station_name_x": " ASH MOUNTAIN",
         "precipitation_year": 2019,
         "year_avg": 2.7158333333333338,
         "station_name_y": "ASH MOUNTAIN",
         "latitude": 36.483002,
         "longitude": -118.833,
         "county": " TULARE",
         "river_basin": " KAWEAH R",
         "_deepnote_index_column": 7
        },
        {
         "station_id": "ASM",
         "station_name_x": " ASH MOUNTAIN",
         "precipitation_year": 2020,
         "year_avg": 1.4641666666666666,
         "station_name_y": "ASH MOUNTAIN",
         "latitude": 36.483002,
         "longitude": -118.833,
         "county": " TULARE",
         "river_basin": " KAWEAH R",
         "_deepnote_index_column": 8
        },
        {
         "station_id": "ASM",
         "station_name_x": " ASH MOUNTAIN",
         "precipitation_year": 2021,
         "year_avg": 0.7758333333333334,
         "station_name_y": "ASH MOUNTAIN",
         "latitude": 36.483002,
         "longitude": -118.833,
         "county": " TULARE",
         "river_basin": " KAWEAH R",
         "_deepnote_index_column": 9
        }
       ]
      },
      "text/plain": "    station_id             station_name_x  precipitation_year  year_avg  \\\n0          APU   ANGWIN PACIFIC UNION COL                2022  8.880000   \n1          APU   ANGWIN PACIFIC UNION COL                2019  4.558333   \n2          APU   ANGWIN PACIFIC UNION COL                2020  1.968333   \n3          APU   ANGWIN PACIFIC UNION COL                2021  1.363333   \n4          APU   ANGWIN PACIFIC UNION COL                2015  3.118000   \n..         ...                        ...                 ...       ...   \n987        ALT                 ALTURAS RS                2015  0.975833   \n988        ALT                 ALTURAS RS                2016  1.120833   \n989        EPK        EAST PARK RESERVOIR                2015  1.220000   \n990        GNV              GREENVILLE RS                2015       NaN   \n991        GNV              GREENVILLE RS                2016       NaN   \n\n               station_name_y   latitude   longitude   county river_basin  \n0    ANGWIN PACIFIC UNION COL  38.573101 -122.440598     NAPA      NAPA R  \n1    ANGWIN PACIFIC UNION COL  38.573101 -122.440598     NAPA      NAPA R  \n2    ANGWIN PACIFIC UNION COL  38.573101 -122.440598     NAPA      NAPA R  \n3    ANGWIN PACIFIC UNION COL  38.573101 -122.440598     NAPA      NAPA R  \n4    ANGWIN PACIFIC UNION COL  38.573101 -122.440598     NAPA      NAPA R  \n..                        ...        ...         ...      ...         ...  \n987                ALTURAS RS  41.500000 -120.550003    MODOC       PIT R  \n988                ALTURAS RS  41.500000 -120.550003    MODOC       PIT R  \n989       EAST PARK RESERVOIR  39.367001 -122.516998   COLUSA    STONY CR  \n990             GREENVILLE RS  40.132999 -120.932999   PLUMAS   FEATHER R  \n991             GREENVILLE RS  40.132999 -120.932999   PLUMAS   FEATHER R  \n\n[992 rows x 9 columns]",
      "text/html": "<div>\n<style scoped>\n    .dataframe tbody tr th:only-of-type {\n        vertical-align: middle;\n    }\n\n    .dataframe tbody tr th {\n        vertical-align: top;\n    }\n\n    .dataframe thead th {\n        text-align: right;\n    }\n</style>\n<table border=\"1\" class=\"dataframe\">\n  <thead>\n    <tr style=\"text-align: right;\">\n      <th></th>\n      <th>station_id</th>\n      <th>station_name_x</th>\n      <th>precipitation_year</th>\n      <th>year_avg</th>\n      <th>station_name_y</th>\n      <th>latitude</th>\n      <th>longitude</th>\n      <th>county</th>\n      <th>river_basin</th>\n    </tr>\n  </thead>\n  <tbody>\n    <tr>\n      <th>0</th>\n      <td>APU</td>\n      <td>ANGWIN PACIFIC UNION COL</td>\n      <td>2022</td>\n      <td>8.880000</td>\n      <td>ANGWIN PACIFIC UNION COL</td>\n      <td>38.573101</td>\n      <td>-122.440598</td>\n      <td>NAPA</td>\n      <td>NAPA R</td>\n    </tr>\n    <tr>\n      <th>1</th>\n      <td>APU</td>\n      <td>ANGWIN PACIFIC UNION COL</td>\n      <td>2019</td>\n      <td>4.558333</td>\n      <td>ANGWIN PACIFIC UNION COL</td>\n      <td>38.573101</td>\n      <td>-122.440598</td>\n      <td>NAPA</td>\n      <td>NAPA R</td>\n    </tr>\n    <tr>\n      <th>2</th>\n      <td>APU</td>\n      <td>ANGWIN PACIFIC UNION COL</td>\n      <td>2020</td>\n      <td>1.968333</td>\n      <td>ANGWIN PACIFIC UNION COL</td>\n      <td>38.573101</td>\n      <td>-122.440598</td>\n      <td>NAPA</td>\n      <td>NAPA R</td>\n    </tr>\n    <tr>\n      <th>3</th>\n      <td>APU</td>\n      <td>ANGWIN PACIFIC UNION COL</td>\n      <td>2021</td>\n      <td>1.363333</td>\n      <td>ANGWIN PACIFIC UNION COL</td>\n      <td>38.573101</td>\n      <td>-122.440598</td>\n      <td>NAPA</td>\n      <td>NAPA R</td>\n    </tr>\n    <tr>\n      <th>4</th>\n      <td>APU</td>\n      <td>ANGWIN PACIFIC UNION COL</td>\n      <td>2015</td>\n      <td>3.118000</td>\n      <td>ANGWIN PACIFIC UNION COL</td>\n      <td>38.573101</td>\n      <td>-122.440598</td>\n      <td>NAPA</td>\n      <td>NAPA R</td>\n    </tr>\n    <tr>\n      <th>...</th>\n      <td>...</td>\n      <td>...</td>\n      <td>...</td>\n      <td>...</td>\n      <td>...</td>\n      <td>...</td>\n      <td>...</td>\n      <td>...</td>\n      <td>...</td>\n    </tr>\n    <tr>\n      <th>987</th>\n      <td>ALT</td>\n      <td>ALTURAS RS</td>\n      <td>2015</td>\n      <td>0.975833</td>\n      <td>ALTURAS RS</td>\n      <td>41.500000</td>\n      <td>-120.550003</td>\n      <td>MODOC</td>\n      <td>PIT R</td>\n    </tr>\n    <tr>\n      <th>988</th>\n      <td>ALT</td>\n      <td>ALTURAS RS</td>\n      <td>2016</td>\n      <td>1.120833</td>\n      <td>ALTURAS RS</td>\n      <td>41.500000</td>\n      <td>-120.550003</td>\n      <td>MODOC</td>\n      <td>PIT R</td>\n    </tr>\n    <tr>\n      <th>989</th>\n      <td>EPK</td>\n      <td>EAST PARK RESERVOIR</td>\n      <td>2015</td>\n      <td>1.220000</td>\n      <td>EAST PARK RESERVOIR</td>\n      <td>39.367001</td>\n      <td>-122.516998</td>\n      <td>COLUSA</td>\n      <td>STONY CR</td>\n    </tr>\n    <tr>\n      <th>990</th>\n      <td>GNV</td>\n      <td>GREENVILLE RS</td>\n      <td>2015</td>\n      <td>NaN</td>\n      <td>GREENVILLE RS</td>\n      <td>40.132999</td>\n      <td>-120.932999</td>\n      <td>PLUMAS</td>\n      <td>FEATHER R</td>\n    </tr>\n    <tr>\n      <th>991</th>\n      <td>GNV</td>\n      <td>GREENVILLE RS</td>\n      <td>2016</td>\n      <td>NaN</td>\n      <td>GREENVILLE RS</td>\n      <td>40.132999</td>\n      <td>-120.932999</td>\n      <td>PLUMAS</td>\n      <td>FEATHER R</td>\n    </tr>\n  </tbody>\n</table>\n<p>992 rows × 9 columns</p>\n</div>"
     },
     "metadata": {}
    }
   ]
  },
  {
   "cell_type": "code",
   "metadata": {
    "cell_id": "c2383e9b-cc15-4dc1-9acf-e35c16713ded",
    "tags": [],
    "deepnote_to_be_reexecuted": false,
    "source_hash": "e2174bd6",
    "execution_start": 1645479236594,
    "execution_millis": 345,
    "deepnote_cell_type": "code"
   },
   "source": [
    "# Stations that are from San Joaquin for which we have lat and long data\n",
    "stn_list = ['CRR', 'FLR', 'MIL' , 'HNT', 'LBS', 'NFR']\n",
    "san_joaquin_stns = ['FLR', 'HNT', 'BGC', 'CRR', 'NFR', 'ABR', 'CLN', 'MIL', 'FGC', 'LBS', 'SSI', 'PNH', 'MDR', 'MFS', 'TCR', 'STK']\n",
    "\n",
    "precipitation_loc_df[precipitation_loc_df.station_id.isin(san_joaquin_stns)]\n"
   ],
   "execution_count": null,
   "outputs": [
    {
     "output_type": "execute_result",
     "execution_count": 59,
     "data": {
      "application/vnd.deepnote.dataframe.v3+json": {
       "column_count": 9,
       "row_count": 8,
       "columns": [
        {
         "name": "station_id",
         "dtype": "object",
         "stats": {
          "unique_count": 2,
          "nan_count": 0,
          "categories": [
           {
            "name": "FLR",
            "count": 4
           },
           {
            "name": "NFR",
            "count": 4
           }
          ]
         }
        },
        {
         "name": "station_name",
         "dtype": "object",
         "stats": {
          "unique_count": 2,
          "nan_count": 0,
          "categories": [
           {
            "name": " FLORENCE LAKE (SCE)",
            "count": 4
           },
           {
            "name": " NORTH FORK R S",
            "count": 4
           }
          ]
         }
        },
        {
         "name": "precipitation_year",
         "dtype": "int64",
         "stats": {
          "unique_count": 4,
          "nan_count": 0,
          "min": "2019",
          "max": "2022",
          "histogram": [
           {
            "bin_start": 2019,
            "bin_end": 2019.3,
            "count": 2
           },
           {
            "bin_start": 2019.3,
            "bin_end": 2019.6,
            "count": 0
           },
           {
            "bin_start": 2019.6,
            "bin_end": 2019.9,
            "count": 0
           },
           {
            "bin_start": 2019.9,
            "bin_end": 2020.2,
            "count": 2
           },
           {
            "bin_start": 2020.2,
            "bin_end": 2020.5,
            "count": 0
           },
           {
            "bin_start": 2020.5,
            "bin_end": 2020.8,
            "count": 0
           },
           {
            "bin_start": 2020.8,
            "bin_end": 2021.1,
            "count": 2
           },
           {
            "bin_start": 2021.1,
            "bin_end": 2021.4,
            "count": 0
           },
           {
            "bin_start": 2021.4,
            "bin_end": 2021.7,
            "count": 0
           },
           {
            "bin_start": 2021.7,
            "bin_end": 2022,
            "count": 2
           }
          ]
         }
        },
        {
         "name": "year_avg",
         "dtype": "float64",
         "stats": {
          "unique_count": 8,
          "nan_count": 0,
          "min": "1.2933333333333332",
          "max": "3.441666666666667",
          "histogram": [
           {
            "bin_start": 1.2933333333333332,
            "bin_end": 1.5081666666666667,
            "count": 2
           },
           {
            "bin_start": 1.5081666666666667,
            "bin_end": 1.7229999999999999,
            "count": 1
           },
           {
            "bin_start": 1.7229999999999999,
            "bin_end": 1.9378333333333333,
            "count": 1
           },
           {
            "bin_start": 1.9378333333333333,
            "bin_end": 2.1526666666666667,
            "count": 0
           },
           {
            "bin_start": 2.1526666666666667,
            "bin_end": 2.3674999999999997,
            "count": 1
           },
           {
            "bin_start": 2.3674999999999997,
            "bin_end": 2.5823333333333336,
            "count": 1
           },
           {
            "bin_start": 2.5823333333333336,
            "bin_end": 2.7971666666666666,
            "count": 0
           },
           {
            "bin_start": 2.7971666666666666,
            "bin_end": 3.012,
            "count": 1
           },
           {
            "bin_start": 3.012,
            "bin_end": 3.2268333333333334,
            "count": 0
           },
           {
            "bin_start": 3.2268333333333334,
            "bin_end": 3.441666666666667,
            "count": 1
           }
          ]
         }
        },
        {
         "name": "latitude",
         "dtype": "float64",
         "stats": {
          "unique_count": 2,
          "nan_count": 0,
          "min": "37.233002",
          "max": "37.266998",
          "histogram": [
           {
            "bin_start": 37.233002,
            "bin_end": 37.2364016,
            "count": 4
           },
           {
            "bin_start": 37.2364016,
            "bin_end": 37.2398012,
            "count": 0
           },
           {
            "bin_start": 37.2398012,
            "bin_end": 37.2432008,
            "count": 0
           },
           {
            "bin_start": 37.2432008,
            "bin_end": 37.2466004,
            "count": 0
           },
           {
            "bin_start": 37.2466004,
            "bin_end": 37.25,
            "count": 0
           },
           {
            "bin_start": 37.25,
            "bin_end": 37.2533996,
            "count": 0
           },
           {
            "bin_start": 37.2533996,
            "bin_end": 37.2567992,
            "count": 0
           },
           {
            "bin_start": 37.2567992,
            "bin_end": 37.2601988,
            "count": 0
           },
           {
            "bin_start": 37.2601988,
            "bin_end": 37.2635984,
            "count": 0
           },
           {
            "bin_start": 37.2635984,
            "bin_end": 37.266998,
            "count": 4
           }
          ]
         }
        },
        {
         "name": "longitude",
         "dtype": "float64",
         "stats": {
          "unique_count": 2,
          "nan_count": 0,
          "min": "-119.5",
          "max": "-118.967003",
          "histogram": [
           {
            "bin_start": -119.5,
            "bin_end": -119.4467003,
            "count": 4
           },
           {
            "bin_start": -119.4467003,
            "bin_end": -119.3934006,
            "count": 0
           },
           {
            "bin_start": -119.3934006,
            "bin_end": -119.3401009,
            "count": 0
           },
           {
            "bin_start": -119.3401009,
            "bin_end": -119.2868012,
            "count": 0
           },
           {
            "bin_start": -119.2868012,
            "bin_end": -119.2335015,
            "count": 0
           },
           {
            "bin_start": -119.2335015,
            "bin_end": -119.1802018,
            "count": 0
           },
           {
            "bin_start": -119.1802018,
            "bin_end": -119.12690210000001,
            "count": 0
           },
           {
            "bin_start": -119.12690210000001,
            "bin_end": -119.0736024,
            "count": 0
           },
           {
            "bin_start": -119.0736024,
            "bin_end": -119.0203027,
            "count": 0
           },
           {
            "bin_start": -119.0203027,
            "bin_end": -118.967003,
            "count": 4
           }
          ]
         }
        },
        {
         "name": "county",
         "dtype": "object",
         "stats": {
          "unique_count": 2,
          "nan_count": 0,
          "categories": [
           {
            "name": " FRESNO",
            "count": 4
           },
           {
            "name": " MADERA",
            "count": 4
           }
          ]
         }
        },
        {
         "name": "river_basin",
         "dtype": "object",
         "stats": {
          "unique_count": 1,
          "nan_count": 0,
          "categories": [
           {
            "name": " SAN JOAQUIN R",
            "count": 8
           }
          ]
         }
        },
        {
         "name": "geometry",
         "dtype": "geometry",
         "stats": {
          "unique_count": 2,
          "nan_count": 0,
          "categories": [
           {
            "name": "POINT (-118.967003 37.266998)",
            "count": 4
           },
           {
            "name": "POINT (-119.5 37.233002)",
            "count": 4
           }
          ]
         }
        },
        {
         "name": "_deepnote_index_column",
         "dtype": "int64"
        }
       ],
       "rows": [
        {
         "station_id": "FLR",
         "station_name": " FLORENCE LAKE (SCE)",
         "precipitation_year": 2022,
         "year_avg": 2.48,
         "latitude": 37.266998,
         "longitude": -118.967003,
         "county": " FRESNO",
         "river_basin": " SAN JOAQUIN R",
         "geometry": "POINT (-118.967003 37.266998)",
         "_deepnote_index_column": 76
        },
        {
         "station_id": "FLR",
         "station_name": " FLORENCE LAKE (SCE)",
         "precipitation_year": 2019,
         "year_avg": 2.284166666666667,
         "latitude": 37.266998,
         "longitude": -118.967003,
         "county": " FRESNO",
         "river_basin": " SAN JOAQUIN R",
         "geometry": "POINT (-118.967003 37.266998)",
         "_deepnote_index_column": 77
        },
        {
         "station_id": "FLR",
         "station_name": " FLORENCE LAKE (SCE)",
         "precipitation_year": 2020,
         "year_avg": 1.925,
         "latitude": 37.266998,
         "longitude": -118.967003,
         "county": " FRESNO",
         "river_basin": " SAN JOAQUIN R",
         "geometry": "POINT (-118.967003 37.266998)",
         "_deepnote_index_column": 78
        },
        {
         "station_id": "FLR",
         "station_name": " FLORENCE LAKE (SCE)",
         "precipitation_year": 2021,
         "year_avg": 1.2933333333333332,
         "latitude": 37.266998,
         "longitude": -118.967003,
         "county": " FRESNO",
         "river_basin": " SAN JOAQUIN R",
         "geometry": "POINT (-118.967003 37.266998)",
         "_deepnote_index_column": 79
        },
        {
         "station_id": "NFR",
         "station_name": " NORTH FORK R S",
         "precipitation_year": 2022,
         "year_avg": 2.985,
         "latitude": 37.233002,
         "longitude": -119.5,
         "county": " MADERA",
         "river_basin": " SAN JOAQUIN R",
         "geometry": "POINT (-119.5 37.233002)",
         "_deepnote_index_column": 184
        },
        {
         "station_id": "NFR",
         "station_name": " NORTH FORK R S",
         "precipitation_year": 2019,
         "year_avg": 3.441666666666667,
         "latitude": 37.233002,
         "longitude": -119.5,
         "county": " MADERA",
         "river_basin": " SAN JOAQUIN R",
         "geometry": "POINT (-119.5 37.233002)",
         "_deepnote_index_column": 185
        },
        {
         "station_id": "NFR",
         "station_name": " NORTH FORK R S",
         "precipitation_year": 2020,
         "year_avg": 1.6858333333333333,
         "latitude": 37.233002,
         "longitude": -119.5,
         "county": " MADERA",
         "river_basin": " SAN JOAQUIN R",
         "geometry": "POINT (-119.5 37.233002)",
         "_deepnote_index_column": 186
        },
        {
         "station_id": "NFR",
         "station_name": " NORTH FORK R S",
         "precipitation_year": 2021,
         "year_avg": 1.4208333333333334,
         "latitude": 37.233002,
         "longitude": -119.5,
         "county": " MADERA",
         "river_basin": " SAN JOAQUIN R",
         "geometry": "POINT (-119.5 37.233002)",
         "_deepnote_index_column": 187
        }
       ]
      },
      "text/plain": "    station_id          station_name  precipitation_year  year_avg   latitude  \\\n76         FLR   FLORENCE LAKE (SCE)                2022  2.480000  37.266998   \n77         FLR   FLORENCE LAKE (SCE)                2019  2.284167  37.266998   \n78         FLR   FLORENCE LAKE (SCE)                2020  1.925000  37.266998   \n79         FLR   FLORENCE LAKE (SCE)                2021  1.293333  37.266998   \n184        NFR        NORTH FORK R S                2022  2.985000  37.233002   \n185        NFR        NORTH FORK R S                2019  3.441667  37.233002   \n186        NFR        NORTH FORK R S                2020  1.685833  37.233002   \n187        NFR        NORTH FORK R S                2021  1.420833  37.233002   \n\n      longitude   county     river_basin                     geometry  \n76  -118.967003   FRESNO   SAN JOAQUIN R  POINT (-118.96700 37.26700)  \n77  -118.967003   FRESNO   SAN JOAQUIN R  POINT (-118.96700 37.26700)  \n78  -118.967003   FRESNO   SAN JOAQUIN R  POINT (-118.96700 37.26700)  \n79  -118.967003   FRESNO   SAN JOAQUIN R  POINT (-118.96700 37.26700)  \n184 -119.500000   MADERA   SAN JOAQUIN R  POINT (-119.50000 37.23300)  \n185 -119.500000   MADERA   SAN JOAQUIN R  POINT (-119.50000 37.23300)  \n186 -119.500000   MADERA   SAN JOAQUIN R  POINT (-119.50000 37.23300)  \n187 -119.500000   MADERA   SAN JOAQUIN R  POINT (-119.50000 37.23300)  ",
      "text/html": "<div>\n<style scoped>\n    .dataframe tbody tr th:only-of-type {\n        vertical-align: middle;\n    }\n\n    .dataframe tbody tr th {\n        vertical-align: top;\n    }\n\n    .dataframe thead th {\n        text-align: right;\n    }\n</style>\n<table border=\"1\" class=\"dataframe\">\n  <thead>\n    <tr style=\"text-align: right;\">\n      <th></th>\n      <th>station_id</th>\n      <th>station_name</th>\n      <th>precipitation_year</th>\n      <th>year_avg</th>\n      <th>latitude</th>\n      <th>longitude</th>\n      <th>county</th>\n      <th>river_basin</th>\n      <th>geometry</th>\n    </tr>\n  </thead>\n  <tbody>\n    <tr>\n      <th>76</th>\n      <td>FLR</td>\n      <td>FLORENCE LAKE (SCE)</td>\n      <td>2022</td>\n      <td>2.480000</td>\n      <td>37.266998</td>\n      <td>-118.967003</td>\n      <td>FRESNO</td>\n      <td>SAN JOAQUIN R</td>\n      <td>POINT (-118.96700 37.26700)</td>\n    </tr>\n    <tr>\n      <th>77</th>\n      <td>FLR</td>\n      <td>FLORENCE LAKE (SCE)</td>\n      <td>2019</td>\n      <td>2.284167</td>\n      <td>37.266998</td>\n      <td>-118.967003</td>\n      <td>FRESNO</td>\n      <td>SAN JOAQUIN R</td>\n      <td>POINT (-118.96700 37.26700)</td>\n    </tr>\n    <tr>\n      <th>78</th>\n      <td>FLR</td>\n      <td>FLORENCE LAKE (SCE)</td>\n      <td>2020</td>\n      <td>1.925000</td>\n      <td>37.266998</td>\n      <td>-118.967003</td>\n      <td>FRESNO</td>\n      <td>SAN JOAQUIN R</td>\n      <td>POINT (-118.96700 37.26700)</td>\n    </tr>\n    <tr>\n      <th>79</th>\n      <td>FLR</td>\n      <td>FLORENCE LAKE (SCE)</td>\n      <td>2021</td>\n      <td>1.293333</td>\n      <td>37.266998</td>\n      <td>-118.967003</td>\n      <td>FRESNO</td>\n      <td>SAN JOAQUIN R</td>\n      <td>POINT (-118.96700 37.26700)</td>\n    </tr>\n    <tr>\n      <th>184</th>\n      <td>NFR</td>\n      <td>NORTH FORK R S</td>\n      <td>2022</td>\n      <td>2.985000</td>\n      <td>37.233002</td>\n      <td>-119.500000</td>\n      <td>MADERA</td>\n      <td>SAN JOAQUIN R</td>\n      <td>POINT (-119.50000 37.23300)</td>\n    </tr>\n    <tr>\n      <th>185</th>\n      <td>NFR</td>\n      <td>NORTH FORK R S</td>\n      <td>2019</td>\n      <td>3.441667</td>\n      <td>37.233002</td>\n      <td>-119.500000</td>\n      <td>MADERA</td>\n      <td>SAN JOAQUIN R</td>\n      <td>POINT (-119.50000 37.23300)</td>\n    </tr>\n    <tr>\n      <th>186</th>\n      <td>NFR</td>\n      <td>NORTH FORK R S</td>\n      <td>2020</td>\n      <td>1.685833</td>\n      <td>37.233002</td>\n      <td>-119.500000</td>\n      <td>MADERA</td>\n      <td>SAN JOAQUIN R</td>\n      <td>POINT (-119.50000 37.23300)</td>\n    </tr>\n    <tr>\n      <th>187</th>\n      <td>NFR</td>\n      <td>NORTH FORK R S</td>\n      <td>2021</td>\n      <td>1.420833</td>\n      <td>37.233002</td>\n      <td>-119.500000</td>\n      <td>MADERA</td>\n      <td>SAN JOAQUIN R</td>\n      <td>POINT (-119.50000 37.23300)</td>\n    </tr>\n  </tbody>\n</table>\n</div>"
     },
     "metadata": {}
    }
   ]
  },
  {
   "cell_type": "code",
   "metadata": {
    "cell_id": "e0732af9-fec1-4db1-8960-9babf9cfb7f3",
    "tags": [],
    "deepnote_to_be_reexecuted": false,
    "source_hash": "8d92ea5e",
    "execution_start": 1645479432864,
    "execution_millis": 74,
    "deepnote_cell_type": "code"
   },
   "source": [
    "precipitation_gdf[precipitation_gdf.station_id.isin(stn_list)]\n",
    "\n"
   ],
   "execution_count": null,
   "outputs": [
    {
     "output_type": "execute_result",
     "execution_count": 63,
     "data": {
      "application/vnd.deepnote.dataframe.v3+json": {
       "column_count": 9,
       "row_count": 8,
       "columns": [
        {
         "name": "station_id",
         "dtype": "object",
         "stats": {
          "unique_count": 2,
          "nan_count": 0,
          "categories": [
           {
            "name": "FLR",
            "count": 4
           },
           {
            "name": "NFR",
            "count": 4
           }
          ]
         }
        },
        {
         "name": "station_name",
         "dtype": "object",
         "stats": {
          "unique_count": 2,
          "nan_count": 0,
          "categories": [
           {
            "name": " FLORENCE LAKE (SCE)",
            "count": 4
           },
           {
            "name": " NORTH FORK R S",
            "count": 4
           }
          ]
         }
        },
        {
         "name": "precipitation_year",
         "dtype": "int64",
         "stats": {
          "unique_count": 4,
          "nan_count": 0,
          "min": "2019",
          "max": "2022",
          "histogram": [
           {
            "bin_start": 2019,
            "bin_end": 2019.3,
            "count": 2
           },
           {
            "bin_start": 2019.3,
            "bin_end": 2019.6,
            "count": 0
           },
           {
            "bin_start": 2019.6,
            "bin_end": 2019.9,
            "count": 0
           },
           {
            "bin_start": 2019.9,
            "bin_end": 2020.2,
            "count": 2
           },
           {
            "bin_start": 2020.2,
            "bin_end": 2020.5,
            "count": 0
           },
           {
            "bin_start": 2020.5,
            "bin_end": 2020.8,
            "count": 0
           },
           {
            "bin_start": 2020.8,
            "bin_end": 2021.1,
            "count": 2
           },
           {
            "bin_start": 2021.1,
            "bin_end": 2021.4,
            "count": 0
           },
           {
            "bin_start": 2021.4,
            "bin_end": 2021.7,
            "count": 0
           },
           {
            "bin_start": 2021.7,
            "bin_end": 2022,
            "count": 2
           }
          ]
         }
        },
        {
         "name": "year_avg",
         "dtype": "float64",
         "stats": {
          "unique_count": 8,
          "nan_count": 0,
          "min": "1.2933333333333332",
          "max": "3.441666666666667",
          "histogram": [
           {
            "bin_start": 1.2933333333333332,
            "bin_end": 1.5081666666666667,
            "count": 2
           },
           {
            "bin_start": 1.5081666666666667,
            "bin_end": 1.7229999999999999,
            "count": 1
           },
           {
            "bin_start": 1.7229999999999999,
            "bin_end": 1.9378333333333333,
            "count": 1
           },
           {
            "bin_start": 1.9378333333333333,
            "bin_end": 2.1526666666666667,
            "count": 0
           },
           {
            "bin_start": 2.1526666666666667,
            "bin_end": 2.3674999999999997,
            "count": 1
           },
           {
            "bin_start": 2.3674999999999997,
            "bin_end": 2.5823333333333336,
            "count": 1
           },
           {
            "bin_start": 2.5823333333333336,
            "bin_end": 2.7971666666666666,
            "count": 0
           },
           {
            "bin_start": 2.7971666666666666,
            "bin_end": 3.012,
            "count": 1
           },
           {
            "bin_start": 3.012,
            "bin_end": 3.2268333333333334,
            "count": 0
           },
           {
            "bin_start": 3.2268333333333334,
            "bin_end": 3.441666666666667,
            "count": 1
           }
          ]
         }
        },
        {
         "name": "latitude",
         "dtype": "float64",
         "stats": {
          "unique_count": 2,
          "nan_count": 0,
          "min": "37.233002",
          "max": "37.266998",
          "histogram": [
           {
            "bin_start": 37.233002,
            "bin_end": 37.2364016,
            "count": 4
           },
           {
            "bin_start": 37.2364016,
            "bin_end": 37.2398012,
            "count": 0
           },
           {
            "bin_start": 37.2398012,
            "bin_end": 37.2432008,
            "count": 0
           },
           {
            "bin_start": 37.2432008,
            "bin_end": 37.2466004,
            "count": 0
           },
           {
            "bin_start": 37.2466004,
            "bin_end": 37.25,
            "count": 0
           },
           {
            "bin_start": 37.25,
            "bin_end": 37.2533996,
            "count": 0
           },
           {
            "bin_start": 37.2533996,
            "bin_end": 37.2567992,
            "count": 0
           },
           {
            "bin_start": 37.2567992,
            "bin_end": 37.2601988,
            "count": 0
           },
           {
            "bin_start": 37.2601988,
            "bin_end": 37.2635984,
            "count": 0
           },
           {
            "bin_start": 37.2635984,
            "bin_end": 37.266998,
            "count": 4
           }
          ]
         }
        },
        {
         "name": "longitude",
         "dtype": "float64",
         "stats": {
          "unique_count": 2,
          "nan_count": 0,
          "min": "-119.5",
          "max": "-118.967003",
          "histogram": [
           {
            "bin_start": -119.5,
            "bin_end": -119.4467003,
            "count": 4
           },
           {
            "bin_start": -119.4467003,
            "bin_end": -119.3934006,
            "count": 0
           },
           {
            "bin_start": -119.3934006,
            "bin_end": -119.3401009,
            "count": 0
           },
           {
            "bin_start": -119.3401009,
            "bin_end": -119.2868012,
            "count": 0
           },
           {
            "bin_start": -119.2868012,
            "bin_end": -119.2335015,
            "count": 0
           },
           {
            "bin_start": -119.2335015,
            "bin_end": -119.1802018,
            "count": 0
           },
           {
            "bin_start": -119.1802018,
            "bin_end": -119.12690210000001,
            "count": 0
           },
           {
            "bin_start": -119.12690210000001,
            "bin_end": -119.0736024,
            "count": 0
           },
           {
            "bin_start": -119.0736024,
            "bin_end": -119.0203027,
            "count": 0
           },
           {
            "bin_start": -119.0203027,
            "bin_end": -118.967003,
            "count": 4
           }
          ]
         }
        },
        {
         "name": "county",
         "dtype": "object",
         "stats": {
          "unique_count": 2,
          "nan_count": 0,
          "categories": [
           {
            "name": " FRESNO",
            "count": 4
           },
           {
            "name": " MADERA",
            "count": 4
           }
          ]
         }
        },
        {
         "name": "river_basin",
         "dtype": "object",
         "stats": {
          "unique_count": 1,
          "nan_count": 0,
          "categories": [
           {
            "name": " SAN JOAQUIN R",
            "count": 8
           }
          ]
         }
        },
        {
         "name": "geometry",
         "dtype": "geometry",
         "stats": {
          "unique_count": 2,
          "nan_count": 0,
          "categories": [
           {
            "name": "POINT (-118.967003 37.266998)",
            "count": 4
           },
           {
            "name": "POINT (-119.5 37.233002)",
            "count": 4
           }
          ]
         }
        },
        {
         "name": "_deepnote_index_column",
         "dtype": "int64"
        }
       ],
       "rows": [
        {
         "station_id": "FLR",
         "station_name": " FLORENCE LAKE (SCE)",
         "precipitation_year": 2022,
         "year_avg": 2.48,
         "latitude": 37.266998,
         "longitude": -118.967003,
         "county": " FRESNO",
         "river_basin": " SAN JOAQUIN R",
         "geometry": "POINT (-118.967003 37.266998)",
         "_deepnote_index_column": 76
        },
        {
         "station_id": "FLR",
         "station_name": " FLORENCE LAKE (SCE)",
         "precipitation_year": 2019,
         "year_avg": 2.284166666666667,
         "latitude": 37.266998,
         "longitude": -118.967003,
         "county": " FRESNO",
         "river_basin": " SAN JOAQUIN R",
         "geometry": "POINT (-118.967003 37.266998)",
         "_deepnote_index_column": 77
        },
        {
         "station_id": "FLR",
         "station_name": " FLORENCE LAKE (SCE)",
         "precipitation_year": 2020,
         "year_avg": 1.925,
         "latitude": 37.266998,
         "longitude": -118.967003,
         "county": " FRESNO",
         "river_basin": " SAN JOAQUIN R",
         "geometry": "POINT (-118.967003 37.266998)",
         "_deepnote_index_column": 78
        },
        {
         "station_id": "FLR",
         "station_name": " FLORENCE LAKE (SCE)",
         "precipitation_year": 2021,
         "year_avg": 1.2933333333333332,
         "latitude": 37.266998,
         "longitude": -118.967003,
         "county": " FRESNO",
         "river_basin": " SAN JOAQUIN R",
         "geometry": "POINT (-118.967003 37.266998)",
         "_deepnote_index_column": 79
        },
        {
         "station_id": "NFR",
         "station_name": " NORTH FORK R S",
         "precipitation_year": 2022,
         "year_avg": 2.985,
         "latitude": 37.233002,
         "longitude": -119.5,
         "county": " MADERA",
         "river_basin": " SAN JOAQUIN R",
         "geometry": "POINT (-119.5 37.233002)",
         "_deepnote_index_column": 184
        },
        {
         "station_id": "NFR",
         "station_name": " NORTH FORK R S",
         "precipitation_year": 2019,
         "year_avg": 3.441666666666667,
         "latitude": 37.233002,
         "longitude": -119.5,
         "county": " MADERA",
         "river_basin": " SAN JOAQUIN R",
         "geometry": "POINT (-119.5 37.233002)",
         "_deepnote_index_column": 185
        },
        {
         "station_id": "NFR",
         "station_name": " NORTH FORK R S",
         "precipitation_year": 2020,
         "year_avg": 1.6858333333333333,
         "latitude": 37.233002,
         "longitude": -119.5,
         "county": " MADERA",
         "river_basin": " SAN JOAQUIN R",
         "geometry": "POINT (-119.5 37.233002)",
         "_deepnote_index_column": 186
        },
        {
         "station_id": "NFR",
         "station_name": " NORTH FORK R S",
         "precipitation_year": 2021,
         "year_avg": 1.4208333333333334,
         "latitude": 37.233002,
         "longitude": -119.5,
         "county": " MADERA",
         "river_basin": " SAN JOAQUIN R",
         "geometry": "POINT (-119.5 37.233002)",
         "_deepnote_index_column": 187
        }
       ]
      },
      "text/plain": "    station_id          station_name  precipitation_year  year_avg   latitude  \\\n76         FLR   FLORENCE LAKE (SCE)                2022  2.480000  37.266998   \n77         FLR   FLORENCE LAKE (SCE)                2019  2.284167  37.266998   \n78         FLR   FLORENCE LAKE (SCE)                2020  1.925000  37.266998   \n79         FLR   FLORENCE LAKE (SCE)                2021  1.293333  37.266998   \n184        NFR        NORTH FORK R S                2022  2.985000  37.233002   \n185        NFR        NORTH FORK R S                2019  3.441667  37.233002   \n186        NFR        NORTH FORK R S                2020  1.685833  37.233002   \n187        NFR        NORTH FORK R S                2021  1.420833  37.233002   \n\n      longitude   county     river_basin                     geometry  \n76  -118.967003   FRESNO   SAN JOAQUIN R  POINT (-118.96700 37.26700)  \n77  -118.967003   FRESNO   SAN JOAQUIN R  POINT (-118.96700 37.26700)  \n78  -118.967003   FRESNO   SAN JOAQUIN R  POINT (-118.96700 37.26700)  \n79  -118.967003   FRESNO   SAN JOAQUIN R  POINT (-118.96700 37.26700)  \n184 -119.500000   MADERA   SAN JOAQUIN R  POINT (-119.50000 37.23300)  \n185 -119.500000   MADERA   SAN JOAQUIN R  POINT (-119.50000 37.23300)  \n186 -119.500000   MADERA   SAN JOAQUIN R  POINT (-119.50000 37.23300)  \n187 -119.500000   MADERA   SAN JOAQUIN R  POINT (-119.50000 37.23300)  ",
      "text/html": "<div>\n<style scoped>\n    .dataframe tbody tr th:only-of-type {\n        vertical-align: middle;\n    }\n\n    .dataframe tbody tr th {\n        vertical-align: top;\n    }\n\n    .dataframe thead th {\n        text-align: right;\n    }\n</style>\n<table border=\"1\" class=\"dataframe\">\n  <thead>\n    <tr style=\"text-align: right;\">\n      <th></th>\n      <th>station_id</th>\n      <th>station_name</th>\n      <th>precipitation_year</th>\n      <th>year_avg</th>\n      <th>latitude</th>\n      <th>longitude</th>\n      <th>county</th>\n      <th>river_basin</th>\n      <th>geometry</th>\n    </tr>\n  </thead>\n  <tbody>\n    <tr>\n      <th>76</th>\n      <td>FLR</td>\n      <td>FLORENCE LAKE (SCE)</td>\n      <td>2022</td>\n      <td>2.480000</td>\n      <td>37.266998</td>\n      <td>-118.967003</td>\n      <td>FRESNO</td>\n      <td>SAN JOAQUIN R</td>\n      <td>POINT (-118.96700 37.26700)</td>\n    </tr>\n    <tr>\n      <th>77</th>\n      <td>FLR</td>\n      <td>FLORENCE LAKE (SCE)</td>\n      <td>2019</td>\n      <td>2.284167</td>\n      <td>37.266998</td>\n      <td>-118.967003</td>\n      <td>FRESNO</td>\n      <td>SAN JOAQUIN R</td>\n      <td>POINT (-118.96700 37.26700)</td>\n    </tr>\n    <tr>\n      <th>78</th>\n      <td>FLR</td>\n      <td>FLORENCE LAKE (SCE)</td>\n      <td>2020</td>\n      <td>1.925000</td>\n      <td>37.266998</td>\n      <td>-118.967003</td>\n      <td>FRESNO</td>\n      <td>SAN JOAQUIN R</td>\n      <td>POINT (-118.96700 37.26700)</td>\n    </tr>\n    <tr>\n      <th>79</th>\n      <td>FLR</td>\n      <td>FLORENCE LAKE (SCE)</td>\n      <td>2021</td>\n      <td>1.293333</td>\n      <td>37.266998</td>\n      <td>-118.967003</td>\n      <td>FRESNO</td>\n      <td>SAN JOAQUIN R</td>\n      <td>POINT (-118.96700 37.26700)</td>\n    </tr>\n    <tr>\n      <th>184</th>\n      <td>NFR</td>\n      <td>NORTH FORK R S</td>\n      <td>2022</td>\n      <td>2.985000</td>\n      <td>37.233002</td>\n      <td>-119.500000</td>\n      <td>MADERA</td>\n      <td>SAN JOAQUIN R</td>\n      <td>POINT (-119.50000 37.23300)</td>\n    </tr>\n    <tr>\n      <th>185</th>\n      <td>NFR</td>\n      <td>NORTH FORK R S</td>\n      <td>2019</td>\n      <td>3.441667</td>\n      <td>37.233002</td>\n      <td>-119.500000</td>\n      <td>MADERA</td>\n      <td>SAN JOAQUIN R</td>\n      <td>POINT (-119.50000 37.23300)</td>\n    </tr>\n    <tr>\n      <th>186</th>\n      <td>NFR</td>\n      <td>NORTH FORK R S</td>\n      <td>2020</td>\n      <td>1.685833</td>\n      <td>37.233002</td>\n      <td>-119.500000</td>\n      <td>MADERA</td>\n      <td>SAN JOAQUIN R</td>\n      <td>POINT (-119.50000 37.23300)</td>\n    </tr>\n    <tr>\n      <th>187</th>\n      <td>NFR</td>\n      <td>NORTH FORK R S</td>\n      <td>2021</td>\n      <td>1.420833</td>\n      <td>37.233002</td>\n      <td>-119.500000</td>\n      <td>MADERA</td>\n      <td>SAN JOAQUIN R</td>\n      <td>POINT (-119.50000 37.23300)</td>\n    </tr>\n  </tbody>\n</table>\n</div>"
     },
     "metadata": {}
    }
   ]
  },
  {
   "cell_type": "markdown",
   "source": [
    "## Population Density data"
   ],
   "metadata": {
    "cell_id": "ea3fa4ff-0750-43ff-be12-118f4e96931d",
    "tags": [],
    "deepnote_cell_type": "markdown"
   }
  },
  {
   "cell_type": "code",
   "metadata": {
    "cell_id": "27a8bd86-b9b4-4604-8b52-f8aa448da5e7",
    "tags": [],
    "deepnote_to_be_reexecuted": false,
    "source_hash": "d54cead6",
    "execution_start": 1645472160963,
    "execution_millis": 24,
    "deepnote_cell_type": "code"
   },
   "source": [
    "population_df = pd.read_csv(r\"/work/assets/California Hard-to-Count Index by Census Tract.csv\")\n",
    "population_df = (\n",
    "               population_df[[ 'OBJECTID_1', 'NAME', 'GEOID',  'Est. total population', 'County name', 'Tract number', 'Land Area']].copy()\n",
    ")"
   ],
   "execution_count": null,
   "outputs": []
  },
  {
   "cell_type": "code",
   "metadata": {
    "cell_id": "8d6d93fa-9433-49bb-9816-62c75ca9204e",
    "tags": [],
    "deepnote_to_be_reexecuted": false,
    "source_hash": "1bbf553e",
    "execution_start": 1645475166722,
    "execution_millis": 874,
    "deepnote_cell_type": "code"
   },
   "source": [
    "population_df['County name'].unique()"
   ],
   "execution_count": null,
   "outputs": [
    {
     "output_type": "error",
     "ename": "NameError",
     "evalue": "name 'population_df' is not defined",
     "traceback": [
      "\u001B[0;31m---------------------------------------------------------------------------\u001B[0m",
      "\u001B[0;31mNameError\u001B[0m                                 Traceback (most recent call last)",
      "\u001B[0;32m<ipython-input-1-e5256f18ff07>\u001B[0m in \u001B[0;36m<module>\u001B[0;34m\u001B[0m\n\u001B[0;32m----> 1\u001B[0;31m \u001B[0mpopulation_df\u001B[0m\u001B[0;34m[\u001B[0m\u001B[0;34m'County name'\u001B[0m\u001B[0;34m]\u001B[0m\u001B[0;34m.\u001B[0m\u001B[0munique\u001B[0m\u001B[0;34m(\u001B[0m\u001B[0;34m)\u001B[0m\u001B[0;34m\u001B[0m\u001B[0;34m\u001B[0m\u001B[0m\n\u001B[0m",
      "\u001B[0;31mNameError\u001B[0m: name 'population_df' is not defined"
     ]
    }
   ]
  },
  {
   "cell_type": "code",
   "metadata": {
    "cell_id": "a05169b7-a4ac-4afd-880c-0cf1d635e988",
    "tags": [],
    "deepnote_to_be_reexecuted": false,
    "source_hash": "f8ef6e6",
    "execution_start": 1645473279132,
    "execution_millis": 1,
    "deepnote_cell_type": "code"
   },
   "source": [
    "population_df['OBJECTID_1'].max()"
   ],
   "execution_count": null,
   "outputs": [
    {
     "output_type": "execute_result",
     "execution_count": 106,
     "data": {
      "text/plain": "7933"
     },
     "metadata": {}
    }
   ]
  },
  {
   "cell_type": "code",
   "metadata": {
    "cell_id": "c6f71089-ac32-42cf-8a1e-8b41a9567944",
    "tags": [],
    "deepnote_to_be_reexecuted": false,
    "source_hash": "db15d1f3",
    "execution_start": 1645473241679,
    "execution_millis": 15,
    "deepnote_cell_type": "code"
   },
   "source": [
    "plss_df['OBJECTID'].min()\n",
    "#objectid ranges from 3577 to  164971"
   ],
   "execution_count": null,
   "outputs": [
    {
     "output_type": "execute_result",
     "execution_count": 104,
     "data": {
      "text/plain": "3577"
     },
     "metadata": {}
    }
   ]
  },
  {
   "cell_type": "code",
   "metadata": {
    "cell_id": "f62c6565-136c-46a0-94e8-dd344bb69f71",
    "tags": [],
    "deepnote_cell_type": "code"
   },
   "source": [
    "#https://ask.census.gov/prweb/PRServletCustom/app/ECORRAsk_/YACFBFye-rFIz_FoGtyvDRUGg1Uzu5Mn*/!STANDARD?pzuiactionzzz=CXtpbn0rTEpMcGRYOG1vS0tqTFAwaENUZWpvM1NNWEMzZ3p5aFpnWUxzVmw0TjJoOEprcE5BQndaM1Vid1FKbWRibnZu*"
   ],
   "execution_count": null,
   "outputs": []
  },
  {
   "cell_type": "code",
   "metadata": {
    "cell_id": "e6b0ff03-609c-41b6-866c-3e2d2fa6b6eb",
    "tags": [],
    "deepnote_to_be_reexecuted": false,
    "source_hash": "d58c4b24",
    "execution_start": 1645462577876,
    "execution_millis": 22432,
    "deepnote_cell_type": "code"
   },
   "source": [
    "\n",
    "pd_csv_station = pd.read_csv('../assets/station.csv')\n",
    "pd_csv_groundwater = pd.read_csv('../assets/groundwater.csv')"
   ],
   "execution_count": null,
   "outputs": [
    {
     "name": "stderr",
     "text": "/shared-libs/python3.9/py-core/lib/python3.9/site-packages/IPython/core/interactiveshell.py:3185: DtypeWarning: Columns (1,6,31) have mixed types.Specify dtype option on import or set low_memory=False.\n  has_raised = await self.run_ast_nodes(code_ast.body, cell_name,\n",
     "output_type": "stream"
    }
   ]
  },
  {
   "cell_type": "markdown",
   "source": [
    "## Well Completion data\n",
    "\n",
    "[Source](https://data.cnra.ca.gov/dataset/well-completion-reports)"
   ],
   "metadata": {
    "cell_id": "86050a6c-615b-46dd-962f-3590f7697dbe",
    "tags": [],
    "deepnote_cell_type": "markdown"
   }
  },
  {
   "cell_type": "code",
   "metadata": {
    "cell_id": "a17dfec7-827a-4ebe-9151-d1d01e8e1181",
    "tags": [],
    "deepnote_to_be_reexecuted": false,
    "source_hash": "97722072",
    "execution_start": 1645462600491,
    "execution_millis": 226,
    "deepnote_cell_type": "code"
   },
   "source": [
    "\n",
    "pd_csv_wellcompletion = pd.read_csv('../assets/wellcompletion.csv')\n",
    "pd_csv_wellcompletion.iloc[9:20, :]"
   ],
   "execution_count": null,
   "outputs": [
    {
     "output_type": "execute_result",
     "execution_count": 5,
     "data": {
      "application/vnd.deepnote.dataframe.v3+json": {
       "column_count": 47,
       "row_count": 11,
       "columns": [
        {
         "name": "Unnamed: 0",
         "dtype": "int64",
         "stats": {
          "unique_count": 11,
          "nan_count": 0,
          "min": "9",
          "max": "19",
          "histogram": [
           {
            "bin_start": 9,
            "bin_end": 10,
            "count": 1
           },
           {
            "bin_start": 10,
            "bin_end": 11,
            "count": 1
           },
           {
            "bin_start": 11,
            "bin_end": 12,
            "count": 1
           },
           {
            "bin_start": 12,
            "bin_end": 13,
            "count": 1
           },
           {
            "bin_start": 13,
            "bin_end": 14,
            "count": 1
           },
           {
            "bin_start": 14,
            "bin_end": 15,
            "count": 1
           },
           {
            "bin_start": 15,
            "bin_end": 16,
            "count": 1
           },
           {
            "bin_start": 16,
            "bin_end": 17,
            "count": 1
           },
           {
            "bin_start": 17,
            "bin_end": 18,
            "count": 1
           },
           {
            "bin_start": 18,
            "bin_end": 19,
            "count": 2
           }
          ]
         }
        },
        {
         "name": "DECIMALLATITUDE",
         "dtype": "object",
         "stats": {
          "unique_count": 11,
          "nan_count": 0,
          "categories": [
           {
            "name": "37.49857",
            "count": 1
           },
           {
            "name": "37.52746",
            "count": 1
           },
           {
            "name": "9 others",
            "count": 9
           }
          ]
         }
        },
        {
         "name": "WORKFLOWSTATUS",
         "dtype": "object",
         "stats": {
          "unique_count": 0,
          "nan_count": 11,
          "categories": [
           {
            "name": "Missing",
            "count": 11
           }
          ]
         }
        },
        {
         "name": "LLACCURACY",
         "dtype": "object",
         "stats": {
          "unique_count": 3,
          "nan_count": 2,
          "categories": [
           {
            "name": "Centroid of Section",
            "count": 4
           },
           {
            "name": "2 others",
            "count": 5
           },
           {
            "name": "Missing",
            "count": 2
           }
          ]
         }
        },
        {
         "name": "PERMITDATE",
         "dtype": "object",
         "stats": {
          "unique_count": 0,
          "nan_count": 11,
          "categories": [
           {
            "name": "Missing",
            "count": 11
           }
          ]
         }
        },
        {
         "name": "PUMPTESTLENGTH",
         "dtype": "float64",
         "stats": {
          "unique_count": 0,
          "nan_count": 11,
          "min": null,
          "max": null,
          "histogram": [
           {
            "bin_start": 0,
            "bin_end": 0.1,
            "count": 0
           },
           {
            "bin_start": 0.1,
            "bin_end": 0.2,
            "count": 0
           },
           {
            "bin_start": 0.2,
            "bin_end": 0.30000000000000004,
            "count": 0
           },
           {
            "bin_start": 0.30000000000000004,
            "bin_end": 0.4,
            "count": 0
           },
           {
            "bin_start": 0.4,
            "bin_end": 0.5,
            "count": 0
           },
           {
            "bin_start": 0.5,
            "bin_end": 0.6000000000000001,
            "count": 0
           },
           {
            "bin_start": 0.6000000000000001,
            "bin_end": 0.7000000000000001,
            "count": 0
           },
           {
            "bin_start": 0.7000000000000001,
            "bin_end": 0.8,
            "count": 0
           },
           {
            "bin_start": 0.8,
            "bin_end": 0.9,
            "count": 0
           },
           {
            "bin_start": 0.9,
            "bin_end": 1,
            "count": 0
           }
          ]
         }
        },
        {
         "name": "SECTION",
         "dtype": "object",
         "stats": {
          "unique_count": 10,
          "nan_count": 0,
          "categories": [
           {
            "name": "02",
            "count": 2
           },
           {
            "name": "16",
            "count": 1
           },
           {
            "name": "8 others",
            "count": 8
           }
          ]
         }
        },
        {
         "name": "REGIONOFFICE",
         "dtype": "object",
         "stats": {
          "unique_count": 1,
          "nan_count": 0,
          "categories": [
           {
            "name": "DWR North Central Region Office",
            "count": 11
           }
          ]
         }
        },
        {
         "name": "DRILLINGMETHOD",
         "dtype": "object",
         "stats": {
          "unique_count": 4,
          "nan_count": 6,
          "categories": [
           {
            "name": "Auger",
            "count": 2
           },
           {
            "name": "3 others",
            "count": 3
           },
           {
            "name": "Missing",
            "count": 6
           }
          ]
         }
        },
        {
         "name": "OTHEROBSERVATIONS",
         "dtype": "object",
         "stats": {
          "unique_count": 0,
          "nan_count": 11,
          "categories": [
           {
            "name": "Missing",
            "count": 11
           }
          ]
         }
        },
        {
         "name": "WELLYIELDUNITOFMEASURE",
         "dtype": "object",
         "stats": {
          "unique_count": 0,
          "nan_count": 11,
          "categories": [
           {
            "name": "Missing",
            "count": 11
           }
          ]
         }
        },
        {
         "name": "WELLLOCATION",
         "dtype": "object",
         "stats": {
          "unique_count": 10,
          "nan_count": 1,
          "categories": [
           {
            "name": "6453 AUTO MALL PKWY",
            "count": 1
           },
           {
            "name": "9 others",
            "count": 9
           },
           {
            "name": "Missing",
            "count": 1
           }
          ]
         }
        },
        {
         "name": "PERMITNUMBER",
         "dtype": "object",
         "stats": {
          "unique_count": 2,
          "nan_count": 9,
          "categories": [
           {
            "name": "2014-0470",
            "count": 1
           },
           {
            "name": "2014-098",
            "count": 1
           },
           {
            "name": "Missing",
            "count": 9
           }
          ]
         }
        },
        {
         "name": "TOTALDRAWDOWN",
         "dtype": "float64",
         "stats": {
          "unique_count": 0,
          "nan_count": 11,
          "min": null,
          "max": null,
          "histogram": [
           {
            "bin_start": 0,
            "bin_end": 0.1,
            "count": 0
           },
           {
            "bin_start": 0.1,
            "bin_end": 0.2,
            "count": 0
           },
           {
            "bin_start": 0.2,
            "bin_end": 0.30000000000000004,
            "count": 0
           },
           {
            "bin_start": 0.30000000000000004,
            "bin_end": 0.4,
            "count": 0
           },
           {
            "bin_start": 0.4,
            "bin_end": 0.5,
            "count": 0
           },
           {
            "bin_start": 0.5,
            "bin_end": 0.6000000000000001,
            "count": 0
           },
           {
            "bin_start": 0.6000000000000001,
            "bin_end": 0.7000000000000001,
            "count": 0
           },
           {
            "bin_start": 0.7000000000000001,
            "bin_end": 0.8,
            "count": 0
           },
           {
            "bin_start": 0.8,
            "bin_end": 0.9,
            "count": 0
           },
           {
            "bin_start": 0.9,
            "bin_end": 1,
            "count": 0
           }
          ]
         }
        },
        {
         "name": "VERTICALDATUM",
         "dtype": "object",
         "stats": {
          "unique_count": 0,
          "nan_count": 11,
          "categories": [
           {
            "name": "Missing",
            "count": 11
           }
          ]
         }
        },
        {
         "name": "BOTTOMOFPERFORATEDINTERVAL",
         "dtype": "float64",
         "stats": {
          "unique_count": 5,
          "nan_count": 6,
          "min": "10.0",
          "max": "51.0",
          "histogram": [
           {
            "bin_start": 10,
            "bin_end": 14.1,
            "count": 2
           },
           {
            "bin_start": 14.1,
            "bin_end": 18.2,
            "count": 1
           },
           {
            "bin_start": 18.2,
            "bin_end": 22.299999999999997,
            "count": 0
           },
           {
            "bin_start": 22.299999999999997,
            "bin_end": 26.4,
            "count": 0
           },
           {
            "bin_start": 26.4,
            "bin_end": 30.5,
            "count": 0
           },
           {
            "bin_start": 30.5,
            "bin_end": 34.599999999999994,
            "count": 1
           },
           {
            "bin_start": 34.599999999999994,
            "bin_end": 38.699999999999996,
            "count": 0
           },
           {
            "bin_start": 38.699999999999996,
            "bin_end": 42.8,
            "count": 0
           },
           {
            "bin_start": 42.8,
            "bin_end": 46.9,
            "count": 0
           },
           {
            "bin_start": 46.9,
            "bin_end": 51,
            "count": 1
           }
          ]
         }
        },
        {
         "name": "GROUNDSURFACEELEVATION",
         "dtype": "float64",
         "stats": {
          "unique_count": 0,
          "nan_count": 11,
          "min": null,
          "max": null,
          "histogram": [
           {
            "bin_start": 0,
            "bin_end": 0.1,
            "count": 0
           },
           {
            "bin_start": 0.1,
            "bin_end": 0.2,
            "count": 0
           },
           {
            "bin_start": 0.2,
            "bin_end": 0.30000000000000004,
            "count": 0
           },
           {
            "bin_start": 0.30000000000000004,
            "bin_end": 0.4,
            "count": 0
           },
           {
            "bin_start": 0.4,
            "bin_end": 0.5,
            "count": 0
           },
           {
            "bin_start": 0.5,
            "bin_end": 0.6000000000000001,
            "count": 0
           },
           {
            "bin_start": 0.6000000000000001,
            "bin_end": 0.7000000000000001,
            "count": 0
           },
           {
            "bin_start": 0.7000000000000001,
            "bin_end": 0.8,
            "count": 0
           },
           {
            "bin_start": 0.8,
            "bin_end": 0.9,
            "count": 0
           },
           {
            "bin_start": 0.9,
            "bin_end": 1,
            "count": 0
           }
          ]
         }
        },
        {
         "name": "STATICWATERLEVEL",
         "dtype": "float64",
         "stats": {
          "unique_count": 2,
          "nan_count": 9,
          "min": "8.0",
          "max": "26.0",
          "histogram": [
           {
            "bin_start": 8,
            "bin_end": 9.8,
            "count": 1
           },
           {
            "bin_start": 9.8,
            "bin_end": 11.6,
            "count": 0
           },
           {
            "bin_start": 11.6,
            "bin_end": 13.4,
            "count": 0
           },
           {
            "bin_start": 13.4,
            "bin_end": 15.2,
            "count": 0
           },
           {
            "bin_start": 15.2,
            "bin_end": 17,
            "count": 0
           },
           {
            "bin_start": 17,
            "bin_end": 18.8,
            "count": 0
           },
           {
            "bin_start": 18.8,
            "bin_end": 20.6,
            "count": 0
           },
           {
            "bin_start": 20.6,
            "bin_end": 22.4,
            "count": 0
           },
           {
            "bin_start": 22.4,
            "bin_end": 24.2,
            "count": 0
           },
           {
            "bin_start": 24.2,
            "bin_end": 26,
            "count": 1
           }
          ]
         }
        },
        {
         "name": "RECORDTYPE",
         "dtype": "object",
         "stats": {
          "unique_count": 2,
          "nan_count": 0,
          "categories": [
           {
            "name": "WellCompletion/Destruction/NA/NA",
            "count": 6
           },
           {
            "name": "WellCompletion/New/Production or Monitoring/NA",
            "count": 5
           }
          ]
         }
        },
        {
         "name": "DRILLERLICENSENUMBER",
         "dtype": "object",
         "stats": {
          "unique_count": 9,
          "nan_count": 0,
          "categories": [
           {
            "name": "710079",
            "count": 2
           },
           {
            "name": "485165",
            "count": 2
           },
           {
            "name": "7 others",
            "count": 7
           }
          ]
         }
        },
        {
         "name": "FLUID",
         "dtype": "object",
         "stats": {
          "unique_count": 1,
          "nan_count": 9,
          "categories": [
           {
            "name": "Not Available at Conversion",
            "count": 2
           },
           {
            "name": "Missing",
            "count": 9
           }
          ]
         }
        },
        {
         "name": "TESTTYPE",
         "dtype": "object",
         "stats": {
          "unique_count": 0,
          "nan_count": 11,
          "categories": [
           {
            "name": "Missing",
            "count": 11
           }
          ]
         }
        },
        {
         "name": "APN",
         "dtype": "object",
         "stats": {
          "unique_count": 5,
          "nan_count": 6,
          "categories": [
           {
            "name": "531-185-7",
            "count": 1
           },
           {
            "name": "4 others",
            "count": 4
           },
           {
            "name": "Missing",
            "count": 6
           }
          ]
         }
        },
        {
         "name": "PLANNEDUSEFORMERUSE",
         "dtype": "object",
         "stats": {
          "unique_count": 4,
          "nan_count": 2,
          "categories": [
           {
            "name": "Monitoring",
            "count": 4
           },
           {
            "name": "3 others",
            "count": 5
           },
           {
            "name": "Missing",
            "count": 2
           }
          ]
         }
        },
        {
         "name": "LOCALPERMITAGENCY",
         "dtype": "object",
         "stats": {
          "unique_count": 3,
          "nan_count": 1,
          "categories": [
           {
            "name": "Alameda County Water District",
            "count": 4
           },
           {
            "name": "2 others",
            "count": 6
           },
           {
            "name": "Missing",
            "count": 1
           }
          ]
         }
        },
        {
         "name": "TOPOFPERFORATEDINTERVAL",
         "dtype": "float64",
         "stats": {
          "unique_count": 5,
          "nan_count": 6,
          "min": "5.0",
          "max": "46.0",
          "histogram": [
           {
            "bin_start": 5,
            "bin_end": 9.1,
            "count": 2
           },
           {
            "bin_start": 9.1,
            "bin_end": 13.2,
            "count": 1
           },
           {
            "bin_start": 13.2,
            "bin_end": 17.299999999999997,
            "count": 0
           },
           {
            "bin_start": 17.299999999999997,
            "bin_end": 21.4,
            "count": 1
           },
           {
            "bin_start": 21.4,
            "bin_end": 25.5,
            "count": 0
           },
           {
            "bin_start": 25.5,
            "bin_end": 29.599999999999998,
            "count": 0
           },
           {
            "bin_start": 29.599999999999998,
            "bin_end": 33.699999999999996,
            "count": 0
           },
           {
            "bin_start": 33.699999999999996,
            "bin_end": 37.8,
            "count": 0
           },
           {
            "bin_start": 37.8,
            "bin_end": 41.9,
            "count": 0
           },
           {
            "bin_start": 41.9,
            "bin_end": 46,
            "count": 1
           }
          ]
         }
        },
        {
         "name": "WCRNUMBER",
         "dtype": "object",
         "stats": {
          "unique_count": 11,
          "nan_count": 0,
          "categories": [
           {
            "name": "WCR2008-003926",
            "count": 1
           },
           {
            "name": "WCR2008-006209",
            "count": 1
           },
           {
            "name": "9 others",
            "count": 9
           }
          ]
         }
        },
        {
         "name": "TOTALDRILLDEPTH",
         "dtype": "float64",
         "stats": {
          "unique_count": 0,
          "nan_count": 11,
          "min": null,
          "max": null,
          "histogram": [
           {
            "bin_start": 0,
            "bin_end": 0.1,
            "count": 0
           },
           {
            "bin_start": 0.1,
            "bin_end": 0.2,
            "count": 0
           },
           {
            "bin_start": 0.2,
            "bin_end": 0.30000000000000004,
            "count": 0
           },
           {
            "bin_start": 0.30000000000000004,
            "bin_end": 0.4,
            "count": 0
           },
           {
            "bin_start": 0.4,
            "bin_end": 0.5,
            "count": 0
           },
           {
            "bin_start": 0.5,
            "bin_end": 0.6000000000000001,
            "count": 0
           },
           {
            "bin_start": 0.6000000000000001,
            "bin_end": 0.7000000000000001,
            "count": 0
           },
           {
            "bin_start": 0.7000000000000001,
            "bin_end": 0.8,
            "count": 0
           },
           {
            "bin_start": 0.8,
            "bin_end": 0.9,
            "count": 0
           },
           {
            "bin_start": 0.9,
            "bin_end": 1,
            "count": 0
           }
          ]
         }
        },
        {
         "name": "LEGACYLOGNUMBER",
         "dtype": "object",
         "stats": {
          "unique_count": 11,
          "nan_count": 0,
          "categories": [
           {
            "name": "e0083648",
            "count": 1
           },
           {
            "name": "e067570",
            "count": 1
           },
           {
            "name": "9 others",
            "count": 9
           }
          ]
         }
        },
        {
         "name": "ELEVATIONDETERMINATIONMETHOD",
         "dtype": "object",
         "stats": {
          "unique_count": 0,
          "nan_count": 11,
          "categories": [
           {
            "name": "Missing",
            "count": 11
           }
          ]
         }
        },
        {
         "name": "ELEVATIONACCURACY",
         "dtype": "object",
         "stats": {
          "unique_count": 0,
          "nan_count": 11,
          "categories": [
           {
            "name": "Missing",
            "count": 11
           }
          ]
         }
        },
        {
         "name": "DECIMALLONGITUDE",
         "dtype": "object",
         "stats": {
          "unique_count": 11,
          "nan_count": 0,
          "categories": [
           {
            "name": "-121.97837",
            "count": 1
           },
           {
            "name": "-121.97838",
            "count": 1
           },
           {
            "name": "9 others",
            "count": 9
           }
          ]
         }
        },
        {
         "name": "METHODOFDETERMINATIONLL",
         "dtype": "object",
         "stats": {
          "unique_count": 3,
          "nan_count": 2,
          "categories": [
           {
            "name": "Derived from TRS",
            "count": 4
           },
           {
            "name": "2 others",
            "count": 5
           },
           {
            "name": "Missing",
            "count": 2
           }
          ]
         }
        },
        {
         "name": "HORIZONTALDATUM",
         "dtype": "object",
         "stats": {
          "unique_count": 2,
          "nan_count": 9,
          "categories": [
           {
            "name": "2",
            "count": 1
           },
           {
            "name": "WGS84",
            "count": 1
           },
           {
            "name": "Missing",
            "count": 9
           }
          ]
         }
        },
        {
         "name": "TOWNSHIP",
         "dtype": "object",
         "stats": {
          "unique_count": 5,
          "nan_count": 0,
          "categories": [
           {
            "name": "05S",
            "count": 3
           },
           {
            "name": "03S",
            "count": 3
           },
           {
            "name": "3 others",
            "count": 5
           }
          ]
         }
        },
        {
         "name": "DATEWORKENDED",
         "dtype": "object",
         "stats": {
          "unique_count": 11,
          "nan_count": 0,
          "categories": [
           {
            "name": "11/21/2008",
            "count": 1
           },
           {
            "name": "1/23/2008",
            "count": 1
           },
           {
            "name": "9 others",
            "count": 9
           }
          ]
         }
        },
        {
         "name": "CITY",
         "dtype": "object",
         "stats": {
          "unique_count": 8,
          "nan_count": 0,
          "categories": [
           {
            "name": "FREMONT",
            "count": 2
           },
           {
            "name": "OAKLAND",
            "count": 2
           },
           {
            "name": "6 others",
            "count": 7
           }
          ]
         }
        },
        {
         "name": "TOTALCOMPLETEDDEPTH",
         "dtype": "float64",
         "stats": {
          "unique_count": 5,
          "nan_count": 6,
          "min": "10.0",
          "max": "51.3",
          "histogram": [
           {
            "bin_start": 10,
            "bin_end": 14.129999999999999,
            "count": 2
           },
           {
            "bin_start": 14.129999999999999,
            "bin_end": 18.259999999999998,
            "count": 0
           },
           {
            "bin_start": 18.259999999999998,
            "bin_end": 22.39,
            "count": 0
           },
           {
            "bin_start": 22.39,
            "bin_end": 26.52,
            "count": 1
           },
           {
            "bin_start": 26.52,
            "bin_end": 30.65,
            "count": 0
           },
           {
            "bin_start": 30.65,
            "bin_end": 34.78,
            "count": 1
           },
           {
            "bin_start": 34.78,
            "bin_end": 38.91,
            "count": 0
           },
           {
            "bin_start": 38.91,
            "bin_end": 43.04,
            "count": 0
           },
           {
            "bin_start": 43.04,
            "bin_end": 47.17,
            "count": 0
           },
           {
            "bin_start": 47.17,
            "bin_end": 51.3,
            "count": 1
           }
          ]
         }
        },
        {
         "name": "OWNERASSIGNEDWELLNUMBER",
         "dtype": "object",
         "stats": {
          "unique_count": 11,
          "nan_count": 0,
          "categories": [
           {
            "name": "MW 5",
            "count": 1
           },
           {
            "name": "VW 7",
            "count": 1
           },
           {
            "name": "9 others",
            "count": 9
           }
          ]
         }
        },
        {
         "name": "COUNTYNAME",
         "dtype": "object",
         "stats": {
          "unique_count": 1,
          "nan_count": 0,
          "categories": [
           {
            "name": "Alameda",
            "count": 11
           }
          ]
         }
        },
        {
         "name": "RANGE",
         "dtype": "object",
         "stats": {
          "unique_count": 7,
          "nan_count": 0,
          "categories": [
           {
            "name": "01W",
            "count": 2
           },
           {
            "name": "02W",
            "count": 2
           },
           {
            "name": "5 others",
            "count": 7
           }
          ]
         }
        },
        {
         "name": "BASELINEMERIDIAN",
         "dtype": "object",
         "stats": {
          "unique_count": 2,
          "nan_count": 0,
          "categories": [
           {
            "name": "Mount Diablo",
            "count": 10
           },
           {
            "name": "M",
            "count": 1
           }
          ]
         }
        },
        {
         "name": "RECEIVEDDATE",
         "dtype": "object",
         "stats": {
          "unique_count": 0,
          "nan_count": 11,
          "categories": [
           {
            "name": "Missing",
            "count": 11
           }
          ]
         }
        },
        {
         "name": "DRILLERNAME",
         "dtype": "object",
         "stats": {
          "unique_count": 9,
          "nan_count": 0,
          "categories": [
           {
            "name": "WOODWARD DRILLING COMPANY WOODWARD DRILLING COMPANY",
            "count": 2
           },
           {
            "name": "GREGG DRILLING & TESTING INC",
            "count": 2
           },
           {
            "name": "7 others",
            "count": 7
           }
          ]
         }
        },
        {
         "name": "WELLYIELD",
         "dtype": "float64",
         "stats": {
          "unique_count": 0,
          "nan_count": 11,
          "min": null,
          "max": null,
          "histogram": [
           {
            "bin_start": 0,
            "bin_end": 0.1,
            "count": 0
           },
           {
            "bin_start": 0.1,
            "bin_end": 0.2,
            "count": 0
           },
           {
            "bin_start": 0.2,
            "bin_end": 0.30000000000000004,
            "count": 0
           },
           {
            "bin_start": 0.30000000000000004,
            "bin_end": 0.4,
            "count": 0
           },
           {
            "bin_start": 0.4,
            "bin_end": 0.5,
            "count": 0
           },
           {
            "bin_start": 0.5,
            "bin_end": 0.6000000000000001,
            "count": 0
           },
           {
            "bin_start": 0.6000000000000001,
            "bin_end": 0.7000000000000001,
            "count": 0
           },
           {
            "bin_start": 0.7000000000000001,
            "bin_end": 0.8,
            "count": 0
           },
           {
            "bin_start": 0.8,
            "bin_end": 0.9,
            "count": 0
           },
           {
            "bin_start": 0.9,
            "bin_end": 1,
            "count": 0
           }
          ]
         }
        },
        {
         "name": "_id",
         "dtype": "int64",
         "stats": {
          "unique_count": 11,
          "nan_count": 0,
          "min": "8",
          "max": "18",
          "histogram": [
           {
            "bin_start": 8,
            "bin_end": 9,
            "count": 1
           },
           {
            "bin_start": 9,
            "bin_end": 10,
            "count": 1
           },
           {
            "bin_start": 10,
            "bin_end": 11,
            "count": 1
           },
           {
            "bin_start": 11,
            "bin_end": 12,
            "count": 1
           },
           {
            "bin_start": 12,
            "bin_end": 13,
            "count": 1
           },
           {
            "bin_start": 13,
            "bin_end": 14,
            "count": 1
           },
           {
            "bin_start": 14,
            "bin_end": 15,
            "count": 1
           },
           {
            "bin_start": 15,
            "bin_end": 16,
            "count": 1
           },
           {
            "bin_start": 16,
            "bin_end": 17,
            "count": 1
           },
           {
            "bin_start": 17,
            "bin_end": 18,
            "count": 2
           }
          ]
         }
        },
        {
         "name": "CASINGDIAMETER",
         "dtype": "float64",
         "stats": {
          "unique_count": 4,
          "nan_count": 6,
          "min": "0.25",
          "max": "4.0",
          "histogram": [
           {
            "bin_start": 0.25,
            "bin_end": 0.625,
            "count": 1
           },
           {
            "bin_start": 0.625,
            "bin_end": 1,
            "count": 0
           },
           {
            "bin_start": 1,
            "bin_end": 1.375,
            "count": 0
           },
           {
            "bin_start": 1.375,
            "bin_end": 1.75,
            "count": 0
           },
           {
            "bin_start": 1.75,
            "bin_end": 2.125,
            "count": 2
           },
           {
            "bin_start": 2.125,
            "bin_end": 2.5,
            "count": 1
           },
           {
            "bin_start": 2.5,
            "bin_end": 2.875,
            "count": 0
           },
           {
            "bin_start": 2.875,
            "bin_end": 3.25,
            "count": 0
           },
           {
            "bin_start": 3.25,
            "bin_end": 3.625,
            "count": 0
           },
           {
            "bin_start": 3.625,
            "bin_end": 4,
            "count": 1
           }
          ]
         }
        },
        {
         "name": "_deepnote_index_column",
         "dtype": "int64"
        }
       ],
       "rows": [
        {
         "Unnamed: 0": 9,
         "DECIMALLATITUDE": "37.49857",
         "WORKFLOWSTATUS": "nan",
         "LLACCURACY": "Centroid of Section",
         "PERMITDATE": "nan",
         "PUMPTESTLENGTH": "nan",
         "SECTION": "16",
         "REGIONOFFICE": "DWR North Central Region Office",
         "DRILLINGMETHOD": "Auger",
         "OTHEROBSERVATIONS": "nan",
         "WELLYIELDUNITOFMEASURE": "nan",
         "WELLLOCATION": "6453 AUTO MALL PKWY",
         "PERMITNUMBER": "nan",
         "TOTALDRAWDOWN": "nan",
         "VERTICALDATUM": "nan",
         "BOTTOMOFPERFORATEDINTERVAL": 10,
         "GROUNDSURFACEELEVATION": "nan",
         "STATICWATERLEVEL": "nan",
         "RECORDTYPE": "WellCompletion/New/Production or Monitoring/NA",
         "DRILLERLICENSENUMBER": "283326",
         "FLUID": "Not Available at Conversion",
         "TESTTYPE": "nan",
         "APN": "531-185-7",
         "PLANNEDUSEFORMERUSE": "Monitoring",
         "LOCALPERMITAGENCY": "Alameda County Water District",
         "TOPOFPERFORATEDINTERVAL": 5,
         "WCRNUMBER": "WCR2008-003926",
         "TOTALDRILLDEPTH": "nan",
         "LEGACYLOGNUMBER": "e0083648",
         "ELEVATIONDETERMINATIONMETHOD": "nan",
         "ELEVATIONACCURACY": "nan",
         "DECIMALLONGITUDE": "-121.97837",
         "METHODOFDETERMINATIONLL": "Derived from TRS",
         "HORIZONTALDATUM": "nan",
         "TOWNSHIP": "05S",
         "DATEWORKENDED": "11/21/2008",
         "CITY": "FREMONT",
         "TOTALCOMPLETEDDEPTH": 10,
         "OWNERASSIGNEDWELLNUMBER": "MW 5",
         "COUNTYNAME": "Alameda",
         "RANGE": "01W",
         "BASELINEMERIDIAN": "Mount Diablo",
         "RECEIVEDDATE": "nan",
         "DRILLERNAME": "WDC EXPLORATION & WELLS WDC EXPLORATION & WELLS",
         "WELLYIELD": "nan",
         "_id": 8,
         "CASINGDIAMETER": 2,
         "_deepnote_index_column": 9
        },
        {
         "Unnamed: 0": 10,
         "DECIMALLATITUDE": "37.52746",
         "WORKFLOWSTATUS": "nan",
         "LLACCURACY": "Centroid of Section",
         "PERMITDATE": "nan",
         "PUMPTESTLENGTH": "nan",
         "SECTION": "04",
         "REGIONOFFICE": "DWR North Central Region Office",
         "DRILLINGMETHOD": "nan",
         "OTHEROBSERVATIONS": "nan",
         "WELLYIELDUNITOFMEASURE": "nan",
         "WELLLOCATION": "40055 BLACOW RD",
         "PERMITNUMBER": "nan",
         "TOTALDRAWDOWN": "nan",
         "VERTICALDATUM": "nan",
         "BOTTOMOFPERFORATEDINTERVAL": "nan",
         "GROUNDSURFACEELEVATION": "nan",
         "STATICWATERLEVEL": "nan",
         "RECORDTYPE": "WellCompletion/Destruction/NA/NA",
         "DRILLERLICENSENUMBER": "710079",
         "FLUID": "nan",
         "TESTTYPE": "nan",
         "APN": "nan",
         "PLANNEDUSEFORMERUSE": "Other  Unused",
         "LOCALPERMITAGENCY": "Alameda County Water District",
         "TOPOFPERFORATEDINTERVAL": "nan",
         "WCRNUMBER": "WCR2008-006209",
         "TOTALDRILLDEPTH": "nan",
         "LEGACYLOGNUMBER": "e067570",
         "ELEVATIONDETERMINATIONMETHOD": "nan",
         "ELEVATIONACCURACY": "nan",
         "DECIMALLONGITUDE": "-121.97838",
         "METHODOFDETERMINATIONLL": "Derived from TRS",
         "HORIZONTALDATUM": "nan",
         "TOWNSHIP": "05S",
         "DATEWORKENDED": "1/23/2008",
         "CITY": "FREMONT",
         "TOTALCOMPLETEDDEPTH": "nan",
         "OWNERASSIGNEDWELLNUMBER": "VW 7",
         "COUNTYNAME": "Alameda",
         "RANGE": "01W",
         "BASELINEMERIDIAN": "Mount Diablo",
         "RECEIVEDDATE": "nan",
         "DRILLERNAME": "WOODWARD DRILLING COMPANY WOODWARD DRILLING COMPANY",
         "WELLYIELD": "nan",
         "_id": 9,
         "CASINGDIAMETER": "nan",
         "_deepnote_index_column": 10
        },
        {
         "Unnamed: 0": 11,
         "DECIMALLATITUDE": "37.58517",
         "WORKFLOWSTATUS": "nan",
         "LLACCURACY": "Centroid of Section",
         "PERMITDATE": "nan",
         "PUMPTESTLENGTH": "nan",
         "SECTION": "15",
         "REGIONOFFICE": "DWR North Central Region Office",
         "DRILLINGMETHOD": "nan",
         "OTHEROBSERVATIONS": "nan",
         "WELLYIELDUNITOFMEASURE": "nan",
         "WELLLOCATION": "nan",
         "PERMITNUMBER": "nan",
         "TOTALDRAWDOWN": "nan",
         "VERTICALDATUM": "nan",
         "BOTTOMOFPERFORATEDINTERVAL": "nan",
         "GROUNDSURFACEELEVATION": "nan",
         "STATICWATERLEVEL": "nan",
         "RECORDTYPE": "WellCompletion/Destruction/NA/NA",
         "DRILLERLICENSENUMBER": "710079",
         "FLUID": "nan",
         "TESTTYPE": "nan",
         "APN": "nan",
         "PLANNEDUSEFORMERUSE": "Other  Unused",
         "LOCALPERMITAGENCY": "Alameda County Water District",
         "TOPOFPERFORATEDINTERVAL": "nan",
         "WCRNUMBER": "WCR2008-006560",
         "TOTALDRILLDEPTH": "nan",
         "LEGACYLOGNUMBER": "e075232b",
         "ELEVATIONDETERMINATIONMETHOD": "nan",
         "ELEVATIONACCURACY": "nan",
         "DECIMALLONGITUDE": "-122.0698",
         "METHODOFDETERMINATIONLL": "Derived from TRS",
         "HORIZONTALDATUM": "nan",
         "TOWNSHIP": "04S",
         "DATEWORKENDED": "8/5/2008",
         "CITY": "UNION CITY",
         "TOTALCOMPLETEDDEPTH": "nan",
         "OWNERASSIGNEDWELLNUMBER": "MW 10",
         "COUNTYNAME": "Alameda",
         "RANGE": "02W",
         "BASELINEMERIDIAN": "Mount Diablo",
         "RECEIVEDDATE": "nan",
         "DRILLERNAME": "WOODWARD DRILLING COMPANY WOODWARD DRILLING COMPANY",
         "WELLYIELD": "nan",
         "_id": 10,
         "CASINGDIAMETER": "nan",
         "_deepnote_index_column": 11
        },
        {
         "Unnamed: 0": 12,
         "DECIMALLATITUDE": "37.7430556",
         "WORKFLOWSTATUS": "nan",
         "LLACCURACY": "nan",
         "PERMITDATE": "nan",
         "PUMPTESTLENGTH": "nan",
         "SECTION": "24",
         "REGIONOFFICE": "DWR North Central Region Office",
         "DRILLINGMETHOD": "nan",
         "OTHEROBSERVATIONS": "nan",
         "WELLYIELDUNITOFMEASURE": "nan",
         "WELLLOCATION": "10700 MACARTHUR BLVD",
         "PERMITNUMBER": "nan",
         "TOTALDRAWDOWN": "nan",
         "VERTICALDATUM": "nan",
         "BOTTOMOFPERFORATEDINTERVAL": "nan",
         "GROUNDSURFACEELEVATION": "nan",
         "STATICWATERLEVEL": "nan",
         "RECORDTYPE": "WellCompletion/Destruction/NA/NA",
         "DRILLERLICENSENUMBER": "705927",
         "FLUID": "nan",
         "TESTTYPE": "nan",
         "APN": "nan",
         "PLANNEDUSEFORMERUSE": "Other  Unused",
         "LOCALPERMITAGENCY": "Alameda County Public Works Agency, Water Resources Section",
         "TOPOFPERFORATEDINTERVAL": "nan",
         "WCRNUMBER": "WCR2009-000091",
         "TOTALDRILLDEPTH": "nan",
         "LEGACYLOGNUMBER": "0938324p",
         "ELEVATIONDETERMINATIONMETHOD": "nan",
         "ELEVATIONACCURACY": "nan",
         "DECIMALLONGITUDE": "-122.1483333",
         "METHODOFDETERMINATIONLL": "nan",
         "HORIZONTALDATUM": "nan",
         "TOWNSHIP": "02S",
         "DATEWORKENDED": "12/15/2009",
         "CITY": "OAKLAND",
         "TOTALCOMPLETEDDEPTH": "nan",
         "OWNERASSIGNEDWELLNUMBER": "SV-18A",
         "COUNTYNAME": "Alameda",
         "RANGE": "03W",
         "BASELINEMERIDIAN": "Mount Diablo",
         "RECEIVEDDATE": "nan",
         "DRILLERNAME": "VIRONEX INC VIRONEX INC",
         "WELLYIELD": "nan",
         "_id": 11,
         "CASINGDIAMETER": "nan",
         "_deepnote_index_column": 12
        },
        {
         "Unnamed: 0": 13,
         "DECIMALLATITUDE": "37.8261111",
         "WORKFLOWSTATUS": "nan",
         "LLACCURACY": "nan",
         "PERMITDATE": "nan",
         "PUMPTESTLENGTH": "nan",
         "SECTION": "23",
         "REGIONOFFICE": "DWR North Central Region Office",
         "DRILLINGMETHOD": "Auger",
         "OTHEROBSERVATIONS": "nan",
         "WELLYIELDUNITOFMEASURE": "nan",
         "WELLLOCATION": "3442 ADELINE ST.",
         "PERMITNUMBER": "nan",
         "TOTALDRAWDOWN": "nan",
         "VERTICALDATUM": "nan",
         "BOTTOMOFPERFORATEDINTERVAL": 17,
         "GROUNDSURFACEELEVATION": "nan",
         "STATICWATERLEVEL": 8,
         "RECORDTYPE": "WellCompletion/New/Production or Monitoring/NA",
         "DRILLERLICENSENUMBER": "802334",
         "FLUID": "Not Available at Conversion",
         "TESTTYPE": "nan",
         "APN": "nan",
         "PLANNEDUSEFORMERUSE": "Monitoring",
         "LOCALPERMITAGENCY": "Alameda County Public Works Agency, Water Resources Section",
         "TOPOFPERFORATEDINTERVAL": 7,
         "WCRNUMBER": "WCR2009-007155",
         "TOTALDRILLDEPTH": "nan",
         "LEGACYLOGNUMBER": "e0118159",
         "ELEVATIONDETERMINATIONMETHOD": "nan",
         "ELEVATIONACCURACY": "nan",
         "DECIMALLONGITUDE": "-122.2794444",
         "METHODOFDETERMINATIONLL": "nan",
         "HORIZONTALDATUM": "2",
         "TOWNSHIP": "01S",
         "DATEWORKENDED": "4/1/2009",
         "CITY": "OAKLAND",
         "TOTALCOMPLETEDDEPTH": 25,
         "OWNERASSIGNEDWELLNUMBER": "MW-2",
         "COUNTYNAME": "Alameda",
         "RANGE": "04W",
         "BASELINEMERIDIAN": "Mount Diablo",
         "RECEIVEDDATE": "nan",
         "DRILLERNAME": "RSI RSI",
         "WELLYIELD": "nan",
         "_id": 12,
         "CASINGDIAMETER": 4,
         "_deepnote_index_column": 13
        },
        {
         "Unnamed: 0": 14,
         "DECIMALLATITUDE": "37.679814",
         "WORKFLOWSTATUS": "nan",
         "LLACCURACY": ">50 FT",
         "PERMITDATE": "nan",
         "PUMPTESTLENGTH": "nan",
         "SECTION": "17",
         "REGIONOFFICE": "DWR North Central Region Office",
         "DRILLINGMETHOD": "nan",
         "OTHEROBSERVATIONS": "nan",
         "WELLYIELDUNITOFMEASURE": "nan",
         "WELLLOCATION": "1771 FIRST STREET",
         "PERMITNUMBER": "nan",
         "TOTALDRAWDOWN": "nan",
         "VERTICALDATUM": "nan",
         "BOTTOMOFPERFORATEDINTERVAL": "nan",
         "GROUNDSURFACEELEVATION": "nan",
         "STATICWATERLEVEL": "nan",
         "RECORDTYPE": "WellCompletion/Destruction/NA/NA",
         "DRILLERLICENSENUMBER": "485165",
         "FLUID": "nan",
         "TESTTYPE": "nan",
         "APN": "097010001",
         "PLANNEDUSEFORMERUSE": "nan",
         "LOCALPERMITAGENCY": "Zone 7 Water Agency - Alameda County Flood Control and Water Conservation District",
         "TOPOFPERFORATEDINTERVAL": "nan",
         "WCRNUMBER": "WCR2013-013749",
         "TOTALDRILLDEPTH": "nan",
         "LEGACYLOGNUMBER": "E0192884",
         "ELEVATIONDETERMINATIONMETHOD": "nan",
         "ELEVATIONACCURACY": "nan",
         "DECIMALLONGITUDE": "-121.773957",
         "METHODOFDETERMINATIONLL": "Derived from Address",
         "HORIZONTALDATUM": "nan",
         "TOWNSHIP": "03S",
         "DATEWORKENDED": "11/8/2013",
         "CITY": "LIVERMORE",
         "TOTALCOMPLETEDDEPTH": "nan",
         "OWNERASSIGNEDWELLNUMBER": "U-2",
         "COUNTYNAME": "Alameda",
         "RANGE": "02E",
         "BASELINEMERIDIAN": "Mount Diablo",
         "RECEIVEDDATE": "nan",
         "DRILLERNAME": "GREGG DRILLING & TESTING INC",
         "WELLYIELD": "nan",
         "_id": 13,
         "CASINGDIAMETER": "nan",
         "_deepnote_index_column": 14
        },
        {
         "Unnamed: 0": 15,
         "DECIMALLATITUDE": "37.871943",
         "WORKFLOWSTATUS": "nan",
         "LLACCURACY": ">50 FT",
         "PERMITDATE": "nan",
         "PUMPTESTLENGTH": "nan",
         "SECTION": "02",
         "REGIONOFFICE": "DWR North Central Region Office",
         "DRILLINGMETHOD": "HOLLOW STEM AUGER",
         "OTHEROBSERVATIONS": "nan",
         "WELLYIELDUNITOFMEASURE": "nan",
         "WELLLOCATION": "1929 UNIVERSITY AVE",
         "PERMITNUMBER": "nan",
         "TOTALDRAWDOWN": "nan",
         "VERTICALDATUM": "nan",
         "BOTTOMOFPERFORATEDINTERVAL": 33,
         "GROUNDSURFACEELEVATION": "nan",
         "STATICWATERLEVEL": 26,
         "RECORDTYPE": "WellCompletion/New/Production or Monitoring/NA",
         "DRILLERLICENSENUMBER": "484288",
         "FLUID": "nan",
         "TESTTYPE": "nan",
         "APN": "nan",
         "PLANNEDUSEFORMERUSE": "Monitoring",
         "LOCALPERMITAGENCY": "nan",
         "TOPOFPERFORATEDINTERVAL": 18,
         "WCRNUMBER": "WCR2013-013758",
         "TOTALDRILLDEPTH": "nan",
         "LEGACYLOGNUMBER": "E0190008",
         "ELEVATIONDETERMINATIONMETHOD": "nan",
         "ELEVATIONACCURACY": "nan",
         "DECIMALLONGITUDE": "-122.27225",
         "METHODOFDETERMINATIONLL": "Derived from Address",
         "HORIZONTALDATUM": "nan",
         "TOWNSHIP": "01S",
         "DATEWORKENDED": "10/18/2013",
         "CITY": "BERKELEY",
         "TOTALCOMPLETEDDEPTH": 33,
         "OWNERASSIGNEDWELLNUMBER": "MW-1",
         "COUNTYNAME": "Alameda",
         "RANGE": "04W",
         "BASELINEMERIDIAN": "Mount Diablo",
         "RECEIVEDDATE": "nan",
         "DRILLERNAME": "EXPLORATION GEOSERVICES INC",
         "WELLYIELD": "nan",
         "_id": 14,
         "CASINGDIAMETER": 2,
         "_deepnote_index_column": 15
        },
        {
         "Unnamed: 0": 16,
         "DECIMALLATITUDE": "37.663333",
         "WORKFLOWSTATUS": "nan",
         "LLACCURACY": "Unknown",
         "PERMITDATE": "nan",
         "PUMPTESTLENGTH": "nan",
         "SECTION": "21",
         "REGIONOFFICE": "DWR North Central Region Office",
         "DRILLINGMETHOD": "nan",
         "OTHEROBSERVATIONS": "nan",
         "WELLYIELDUNITOFMEASURE": "nan",
         "WELLLOCATION": "4191 FIRST STREET",
         "PERMITNUMBER": "nan",
         "TOTALDRAWDOWN": "nan",
         "VERTICALDATUM": "nan",
         "BOTTOMOFPERFORATEDINTERVAL": "nan",
         "GROUNDSURFACEELEVATION": "nan",
         "STATICWATERLEVEL": "nan",
         "RECORDTYPE": "WellCompletion/Destruction/NA/NA",
         "DRILLERLICENSENUMBER": "485165",
         "FLUID": "nan",
         "TESTTYPE": "nan",
         "APN": "9411012",
         "PLANNEDUSEFORMERUSE": " VAPOR PROBE",
         "LOCALPERMITAGENCY": "Zone 7 Water Agency - Alameda County Flood Control and Water Conservation District",
         "TOPOFPERFORATEDINTERVAL": "nan",
         "WCRNUMBER": "WCR2013-013776",
         "TOTALDRILLDEPTH": "nan",
         "LEGACYLOGNUMBER": "E0187092",
         "ELEVATIONDETERMINATIONMETHOD": "nan",
         "ELEVATIONACCURACY": "nan",
         "DECIMALLONGITUDE": "-121.869722",
         "METHODOFDETERMINATIONLL": "Unknown",
         "HORIZONTALDATUM": "WGS84",
         "TOWNSHIP": "03S",
         "DATEWORKENDED": "8/14/2013",
         "CITY": "PLEASANTON",
         "TOTALCOMPLETEDDEPTH": "nan",
         "OWNERASSIGNEDWELLNUMBER": "VP-1A/B/C",
         "COUNTYNAME": "Alameda",
         "RANGE": "01E",
         "BASELINEMERIDIAN": "Mount Diablo",
         "RECEIVEDDATE": "nan",
         "DRILLERNAME": "GREGG DRILLING & TESTING INC",
         "WELLYIELD": "nan",
         "_id": 15,
         "CASINGDIAMETER": "nan",
         "_deepnote_index_column": 16
        },
        {
         "Unnamed: 0": 17,
         "DECIMALLATITUDE": "37.70172",
         "WORKFLOWSTATUS": "nan",
         "LLACCURACY": "Centroid of Section",
         "PERMITDATE": "nan",
         "PUMPTESTLENGTH": "nan",
         "SECTION": "03",
         "REGIONOFFICE": "DWR North Central Region Office",
         "DRILLINGMETHOD": "HAND AUGER",
         "OTHEROBSERVATIONS": "nan",
         "WELLYIELDUNITOFMEASURE": "nan",
         "WELLLOCATION": "930 SPRINGTOEN BOULEVARD",
         "PERMITNUMBER": "nan",
         "TOTALDRAWDOWN": "nan",
         "VERTICALDATUM": "nan",
         "BOTTOMOFPERFORATEDINTERVAL": 11,
         "GROUNDSURFACEELEVATION": "nan",
         "STATICWATERLEVEL": "nan",
         "RECORDTYPE": "WellCompletion/New/Production or Monitoring/NA",
         "DRILLERLICENSENUMBER": "916085",
         "FLUID": "nan",
         "TESTTYPE": "nan",
         "APN": "099B0023004",
         "PLANNEDUSEFORMERUSE": "Other SOIL VAPOR",
         "LOCALPERMITAGENCY": "Zone 7 Water Agency - Alameda County Flood Control and Water Conservation District",
         "TOPOFPERFORATEDINTERVAL": 10,
         "WCRNUMBER": "WCR2013-013807",
         "TOTALDRILLDEPTH": "nan",
         "LEGACYLOGNUMBER": "E0174601",
         "ELEVATIONDETERMINATIONMETHOD": "nan",
         "ELEVATIONACCURACY": "nan",
         "DECIMALLONGITUDE": "-121.74241",
         "METHODOFDETERMINATIONLL": "Derived from TRS",
         "HORIZONTALDATUM": "nan",
         "TOWNSHIP": "03S",
         "DATEWORKENDED": "1/26/2013",
         "CITY": "LIVERMORE",
         "TOTALCOMPLETEDDEPTH": 10.5,
         "OWNERASSIGNEDWELLNUMBER": "VP-2",
         "COUNTYNAME": "Alameda",
         "RANGE": "02E",
         "BASELINEMERIDIAN": "M",
         "RECEIVEDDATE": "nan",
         "DRILLERNAME": "V T S DRILLING LLC",
         "WELLYIELD": "nan",
         "_id": 16,
         "CASINGDIAMETER": 0.25,
         "_deepnote_index_column": 17
        },
        {
         "Unnamed: 0": 18,
         "DECIMALLATITUDE": "37.524226",
         "WORKFLOWSTATUS": "nan",
         "LLACCURACY": "Unknown",
         "PERMITDATE": "nan",
         "PUMPTESTLENGTH": "nan",
         "SECTION": "02",
         "REGIONOFFICE": "DWR North Central Region Office",
         "DRILLINGMETHOD": "SONIC",
         "OTHEROBSERVATIONS": "nan",
         "WELLYIELDUNITOFMEASURE": "nan",
         "WELLLOCATION": "RAILROAD AVENUE",
         "PERMITNUMBER": "2014-0470",
         "TOTALDRAWDOWN": "nan",
         "VERTICALDATUM": "nan",
         "BOTTOMOFPERFORATEDINTERVAL": 51,
         "GROUNDSURFACEELEVATION": "nan",
         "STATICWATERLEVEL": "nan",
         "RECORDTYPE": "WellCompletion/New/Production or Monitoring/NA",
         "DRILLERLICENSENUMBER": "953646",
         "FLUID": "nan",
         "TESTTYPE": "nan",
         "APN": "09210101",
         "PLANNEDUSEFORMERUSE": "Monitoring",
         "LOCALPERMITAGENCY": "Alameda County Water District",
         "TOPOFPERFORATEDINTERVAL": 46,
         "WCRNUMBER": "WCR2014-013223",
         "TOTALDRILLDEPTH": "nan",
         "LEGACYLOGNUMBER": "E0261473",
         "ELEVATIONDETERMINATIONMETHOD": "nan",
         "ELEVATIONACCURACY": "nan",
         "DECIMALLONGITUDE": "-122.050237",
         "METHODOFDETERMINATIONLL": "Unknown",
         "HORIZONTALDATUM": "nan",
         "TOWNSHIP": "05S",
         "DATEWORKENDED": "12/4/2014",
         "CITY": "NEWARK",
         "TOTALCOMPLETEDDEPTH": 51.3,
         "OWNERASSIGNEDWELLNUMBER": "MW-NEW15",
         "COUNTYNAME": "Alameda",
         "RANGE": "02W",
         "BASELINEMERIDIAN": "Mount Diablo",
         "RECEIVEDDATE": "nan",
         "DRILLERNAME": "NATIONAL E W P INC",
         "WELLYIELD": "nan",
         "_id": 17,
         "CASINGDIAMETER": 2.375,
         "_deepnote_index_column": 18
        }
       ]
      },
      "text/plain": "    Unnamed: 0 DECIMALLATITUDE WORKFLOWSTATUS           LLACCURACY PERMITDATE  \\\n9            9        37.49857            NaN  Centroid of Section        NaN   \n10          10        37.52746            NaN  Centroid of Section        NaN   \n11          11        37.58517            NaN  Centroid of Section        NaN   \n12          12       37.743056            NaN                  NaN        NaN   \n13          13       37.826111            NaN                  NaN        NaN   \n14          14       37.679814            NaN               >50 FT        NaN   \n15          15       37.871943            NaN               >50 FT        NaN   \n16          16       37.663333            NaN              Unknown        NaN   \n17          17        37.70172            NaN  Centroid of Section        NaN   \n18          18       37.524226            NaN              Unknown        NaN   \n19          19       37.794796            NaN               >50 FT        NaN   \n\n    PUMPTESTLENGTH SECTION                     REGIONOFFICE  \\\n9              NaN      16  DWR North Central Region Office   \n10             NaN      04  DWR North Central Region Office   \n11             NaN      15  DWR North Central Region Office   \n12             NaN      24  DWR North Central Region Office   \n13             NaN      23  DWR North Central Region Office   \n14             NaN      17  DWR North Central Region Office   \n15             NaN      02  DWR North Central Region Office   \n16             NaN      21  DWR North Central Region Office   \n17             NaN      03  DWR North Central Region Office   \n18             NaN      02  DWR North Central Region Office   \n19             NaN      06  DWR North Central Region Office   \n\n       DRILLINGMETHOD OTHEROBSERVATIONS  ... TOTALCOMPLETEDDEPTH  \\\n9               Auger               NaN  ...                10.0   \n10                NaN               NaN  ...                 NaN   \n11                NaN               NaN  ...                 NaN   \n12                NaN               NaN  ...                 NaN   \n13              Auger               NaN  ...                25.0   \n14                NaN               NaN  ...                 NaN   \n15  HOLLOW STEM AUGER               NaN  ...                33.0   \n16                NaN               NaN  ...                 NaN   \n17         HAND AUGER               NaN  ...                10.5   \n18              SONIC               NaN  ...                51.3   \n19                NaN               NaN  ...                 NaN   \n\n   OWNERASSIGNEDWELLNUMBER COUNTYNAME  RANGE BASELINEMERIDIAN  RECEIVEDDATE  \\\n9                     MW 5    Alameda    01W     Mount Diablo           NaN   \n10                    VW 7    Alameda    01W     Mount Diablo           NaN   \n11                   MW 10    Alameda    02W     Mount Diablo           NaN   \n12                  SV-18A    Alameda    03W     Mount Diablo           NaN   \n13                    MW-2    Alameda    04W     Mount Diablo           NaN   \n14                     U-2    Alameda    02E     Mount Diablo           NaN   \n15                    MW-1    Alameda    04W     Mount Diablo           NaN   \n16               VP-1A/B/C    Alameda    01E     Mount Diablo           NaN   \n17                    VP-2    Alameda    02E                M           NaN   \n18                MW-NEW15    Alameda    02W     Mount Diablo           NaN   \n19                     S-4    Alameda    04E     Mount Diablo           NaN   \n\n                                          DRILLERNAME  WELLYIELD _id  \\\n9     WDC EXPLORATION & WELLS WDC EXPLORATION & WELLS        NaN   8   \n10  WOODWARD DRILLING COMPANY WOODWARD DRILLING CO...        NaN   9   \n11  WOODWARD DRILLING COMPANY WOODWARD DRILLING CO...        NaN  10   \n12                            VIRONEX INC VIRONEX INC        NaN  11   \n13                                            RSI RSI        NaN  12   \n14                       GREGG DRILLING & TESTING INC        NaN  13   \n15                        EXPLORATION GEOSERVICES INC        NaN  14   \n16                       GREGG DRILLING & TESTING INC        NaN  15   \n17                                 V T S DRILLING LLC        NaN  16   \n18                                 NATIONAL E W P INC        NaN  17   \n19                               CASCADE DRILLING L P        NaN  18   \n\n   CASINGDIAMETER  \n9           2.000  \n10            NaN  \n11            NaN  \n12            NaN  \n13          4.000  \n14            NaN  \n15          2.000  \n16            NaN  \n17          0.250  \n18          2.375  \n19            NaN  \n\n[11 rows x 47 columns]",
      "text/html": "<div>\n<style scoped>\n    .dataframe tbody tr th:only-of-type {\n        vertical-align: middle;\n    }\n\n    .dataframe tbody tr th {\n        vertical-align: top;\n    }\n\n    .dataframe thead th {\n        text-align: right;\n    }\n</style>\n<table border=\"1\" class=\"dataframe\">\n  <thead>\n    <tr style=\"text-align: right;\">\n      <th></th>\n      <th>Unnamed: 0</th>\n      <th>DECIMALLATITUDE</th>\n      <th>WORKFLOWSTATUS</th>\n      <th>LLACCURACY</th>\n      <th>PERMITDATE</th>\n      <th>PUMPTESTLENGTH</th>\n      <th>SECTION</th>\n      <th>REGIONOFFICE</th>\n      <th>DRILLINGMETHOD</th>\n      <th>OTHEROBSERVATIONS</th>\n      <th>...</th>\n      <th>TOTALCOMPLETEDDEPTH</th>\n      <th>OWNERASSIGNEDWELLNUMBER</th>\n      <th>COUNTYNAME</th>\n      <th>RANGE</th>\n      <th>BASELINEMERIDIAN</th>\n      <th>RECEIVEDDATE</th>\n      <th>DRILLERNAME</th>\n      <th>WELLYIELD</th>\n      <th>_id</th>\n      <th>CASINGDIAMETER</th>\n    </tr>\n  </thead>\n  <tbody>\n    <tr>\n      <th>9</th>\n      <td>9</td>\n      <td>37.49857</td>\n      <td>NaN</td>\n      <td>Centroid of Section</td>\n      <td>NaN</td>\n      <td>NaN</td>\n      <td>16</td>\n      <td>DWR North Central Region Office</td>\n      <td>Auger</td>\n      <td>NaN</td>\n      <td>...</td>\n      <td>10.0</td>\n      <td>MW 5</td>\n      <td>Alameda</td>\n      <td>01W</td>\n      <td>Mount Diablo</td>\n      <td>NaN</td>\n      <td>WDC EXPLORATION &amp; WELLS WDC EXPLORATION &amp; WELLS</td>\n      <td>NaN</td>\n      <td>8</td>\n      <td>2.000</td>\n    </tr>\n    <tr>\n      <th>10</th>\n      <td>10</td>\n      <td>37.52746</td>\n      <td>NaN</td>\n      <td>Centroid of Section</td>\n      <td>NaN</td>\n      <td>NaN</td>\n      <td>04</td>\n      <td>DWR North Central Region Office</td>\n      <td>NaN</td>\n      <td>NaN</td>\n      <td>...</td>\n      <td>NaN</td>\n      <td>VW 7</td>\n      <td>Alameda</td>\n      <td>01W</td>\n      <td>Mount Diablo</td>\n      <td>NaN</td>\n      <td>WOODWARD DRILLING COMPANY WOODWARD DRILLING CO...</td>\n      <td>NaN</td>\n      <td>9</td>\n      <td>NaN</td>\n    </tr>\n    <tr>\n      <th>11</th>\n      <td>11</td>\n      <td>37.58517</td>\n      <td>NaN</td>\n      <td>Centroid of Section</td>\n      <td>NaN</td>\n      <td>NaN</td>\n      <td>15</td>\n      <td>DWR North Central Region Office</td>\n      <td>NaN</td>\n      <td>NaN</td>\n      <td>...</td>\n      <td>NaN</td>\n      <td>MW 10</td>\n      <td>Alameda</td>\n      <td>02W</td>\n      <td>Mount Diablo</td>\n      <td>NaN</td>\n      <td>WOODWARD DRILLING COMPANY WOODWARD DRILLING CO...</td>\n      <td>NaN</td>\n      <td>10</td>\n      <td>NaN</td>\n    </tr>\n    <tr>\n      <th>12</th>\n      <td>12</td>\n      <td>37.743056</td>\n      <td>NaN</td>\n      <td>NaN</td>\n      <td>NaN</td>\n      <td>NaN</td>\n      <td>24</td>\n      <td>DWR North Central Region Office</td>\n      <td>NaN</td>\n      <td>NaN</td>\n      <td>...</td>\n      <td>NaN</td>\n      <td>SV-18A</td>\n      <td>Alameda</td>\n      <td>03W</td>\n      <td>Mount Diablo</td>\n      <td>NaN</td>\n      <td>VIRONEX INC VIRONEX INC</td>\n      <td>NaN</td>\n      <td>11</td>\n      <td>NaN</td>\n    </tr>\n    <tr>\n      <th>13</th>\n      <td>13</td>\n      <td>37.826111</td>\n      <td>NaN</td>\n      <td>NaN</td>\n      <td>NaN</td>\n      <td>NaN</td>\n      <td>23</td>\n      <td>DWR North Central Region Office</td>\n      <td>Auger</td>\n      <td>NaN</td>\n      <td>...</td>\n      <td>25.0</td>\n      <td>MW-2</td>\n      <td>Alameda</td>\n      <td>04W</td>\n      <td>Mount Diablo</td>\n      <td>NaN</td>\n      <td>RSI RSI</td>\n      <td>NaN</td>\n      <td>12</td>\n      <td>4.000</td>\n    </tr>\n    <tr>\n      <th>14</th>\n      <td>14</td>\n      <td>37.679814</td>\n      <td>NaN</td>\n      <td>&gt;50 FT</td>\n      <td>NaN</td>\n      <td>NaN</td>\n      <td>17</td>\n      <td>DWR North Central Region Office</td>\n      <td>NaN</td>\n      <td>NaN</td>\n      <td>...</td>\n      <td>NaN</td>\n      <td>U-2</td>\n      <td>Alameda</td>\n      <td>02E</td>\n      <td>Mount Diablo</td>\n      <td>NaN</td>\n      <td>GREGG DRILLING &amp; TESTING INC</td>\n      <td>NaN</td>\n      <td>13</td>\n      <td>NaN</td>\n    </tr>\n    <tr>\n      <th>15</th>\n      <td>15</td>\n      <td>37.871943</td>\n      <td>NaN</td>\n      <td>&gt;50 FT</td>\n      <td>NaN</td>\n      <td>NaN</td>\n      <td>02</td>\n      <td>DWR North Central Region Office</td>\n      <td>HOLLOW STEM AUGER</td>\n      <td>NaN</td>\n      <td>...</td>\n      <td>33.0</td>\n      <td>MW-1</td>\n      <td>Alameda</td>\n      <td>04W</td>\n      <td>Mount Diablo</td>\n      <td>NaN</td>\n      <td>EXPLORATION GEOSERVICES INC</td>\n      <td>NaN</td>\n      <td>14</td>\n      <td>2.000</td>\n    </tr>\n    <tr>\n      <th>16</th>\n      <td>16</td>\n      <td>37.663333</td>\n      <td>NaN</td>\n      <td>Unknown</td>\n      <td>NaN</td>\n      <td>NaN</td>\n      <td>21</td>\n      <td>DWR North Central Region Office</td>\n      <td>NaN</td>\n      <td>NaN</td>\n      <td>...</td>\n      <td>NaN</td>\n      <td>VP-1A/B/C</td>\n      <td>Alameda</td>\n      <td>01E</td>\n      <td>Mount Diablo</td>\n      <td>NaN</td>\n      <td>GREGG DRILLING &amp; TESTING INC</td>\n      <td>NaN</td>\n      <td>15</td>\n      <td>NaN</td>\n    </tr>\n    <tr>\n      <th>17</th>\n      <td>17</td>\n      <td>37.70172</td>\n      <td>NaN</td>\n      <td>Centroid of Section</td>\n      <td>NaN</td>\n      <td>NaN</td>\n      <td>03</td>\n      <td>DWR North Central Region Office</td>\n      <td>HAND AUGER</td>\n      <td>NaN</td>\n      <td>...</td>\n      <td>10.5</td>\n      <td>VP-2</td>\n      <td>Alameda</td>\n      <td>02E</td>\n      <td>M</td>\n      <td>NaN</td>\n      <td>V T S DRILLING LLC</td>\n      <td>NaN</td>\n      <td>16</td>\n      <td>0.250</td>\n    </tr>\n    <tr>\n      <th>18</th>\n      <td>18</td>\n      <td>37.524226</td>\n      <td>NaN</td>\n      <td>Unknown</td>\n      <td>NaN</td>\n      <td>NaN</td>\n      <td>02</td>\n      <td>DWR North Central Region Office</td>\n      <td>SONIC</td>\n      <td>NaN</td>\n      <td>...</td>\n      <td>51.3</td>\n      <td>MW-NEW15</td>\n      <td>Alameda</td>\n      <td>02W</td>\n      <td>Mount Diablo</td>\n      <td>NaN</td>\n      <td>NATIONAL E W P INC</td>\n      <td>NaN</td>\n      <td>17</td>\n      <td>2.375</td>\n    </tr>\n    <tr>\n      <th>19</th>\n      <td>19</td>\n      <td>37.794796</td>\n      <td>NaN</td>\n      <td>&gt;50 FT</td>\n      <td>NaN</td>\n      <td>NaN</td>\n      <td>06</td>\n      <td>DWR North Central Region Office</td>\n      <td>NaN</td>\n      <td>NaN</td>\n      <td>...</td>\n      <td>NaN</td>\n      <td>S-4</td>\n      <td>Alameda</td>\n      <td>04E</td>\n      <td>Mount Diablo</td>\n      <td>NaN</td>\n      <td>CASCADE DRILLING L P</td>\n      <td>NaN</td>\n      <td>18</td>\n      <td>NaN</td>\n    </tr>\n  </tbody>\n</table>\n<p>11 rows × 47 columns</p>\n</div>"
     },
     "metadata": {}
    }
   ]
  },
  {
   "cell_type": "markdown",
   "source": [
    "##### Make decision on columns required\n",
    "> Reqd: \"DECIMALLATITUDE\", \"DECIMALLONGITUDE\", \"TOWNSHIP_RANGE\", \"RANGE\", \"SECTION\", \"WELLLOCATION\", \"CITY\", \"COUNTYNAME\",\n",
    "> \"PERMITNUMBER\", \"BOTTOMOFPERFORATEDINTERVAL\", \"TOPOFPERFORATEDINTERVAL\",      \"GROUNDSURFACEELEVATION\", \n",
    "> \"STATICWATERLEVEL\",\"RECORDTYPE\",  \"PLANNEDUSEFORMERUSE\", \"LOCALPERMITAGENCY\", \"WCRNUMBER\", \"TOTALDRILLDEPTH\", \n",
    "> \"TOTALCOMPLETEDDEPTH\", \"DATEWORKENDED\", \"DRILLERNAME\", \"DRILLERLICENSENUMBER\", \"CASINGDIAMETER\"\n",
    "\n"
   ],
   "metadata": {
    "cell_id": "ee4271d6-3189-4af5-9bb2-0fabcc259618",
    "tags": [],
    "deepnote_cell_type": "markdown"
   }
  },
  {
   "cell_type": "code",
   "metadata": {
    "cell_id": "0ac5cc67-9941-46bb-9200-24dd4ac57acd",
    "tags": [],
    "deepnote_to_be_reexecuted": false,
    "source_hash": "71e3444a",
    "execution_start": 1645462600722,
    "execution_millis": 199,
    "deepnote_cell_type": "code"
   },
   "source": [
    "wellcompletion_subset_df = pd_csv_wellcompletion[[\"DECIMALLATITUDE\", \"DECIMALLONGITUDE\", \"TOWNSHIP_RANGE\", \"RANGE\", \"SECTION\", \"WELLLOCATION\", \"CITY\", \"COUNTYNAME\",\n",
    "                              \"PERMITNUMBER\", \"BOTTOMOFPERFORATEDINTERVAL\", \"TOPOFPERFORATEDINTERVAL\", \"GROUNDSURFACEELEVATION\", \"STATICWATERLEVEL\", \n",
    "                              \"RECORDTYPE\",  \"PLANNEDUSEFORMERUSE\", \"LOCALPERMITAGENCY\", \"WCRNUMBER\", \"TOTALDRILLDEPTH\", \n",
    "                              \"TOTALCOMPLETEDDEPTH\", \"DATEWORKENDED\", \"DRILLERNAME\", \"DRILLERLICENSENUMBER\", \"CASINGDIAMETER\"]].copy()"
   ],
   "execution_count": null,
   "outputs": []
  },
  {
   "cell_type": "markdown",
   "source": "##### \n - Check on Types of wells\n 'WellCompletion/New/Production or Monitoring/NA',\n       'WellCompletion/Destruction/NA/NA',\n       'WellCompletion/Drill and Destroy/NA/NA',\n       'WellCompletion/Modification or Repair/Production or Monitoring/NA']\n\n- PLANNEDUSAGE\n\n- Completed depth ",
   "metadata": {
    "cell_id": "9bfc0d10-b051-44dd-81c3-6b4ff7865db1",
    "tags": [],
    "deepnote_cell_type": "markdown"
   }
  },
  {
   "cell_type": "code",
   "metadata": {
    "cell_id": "3b498744-27fd-4b8a-9232-c78adc327be7",
    "tags": [],
    "deepnote_cell_type": "code"
   },
   "source": "# filter to only include new well completion\nwellcompletion_subset_df = wellcompletion_subset_df[wellcompletion_subset_df['RECORDTYPE'] == 'WellCompletion/New/Production or Monitoring/NA'].copy()",
   "execution_count": null,
   "outputs": []
  },
  {
   "cell_type": "markdown",
   "source": "\n",
   "metadata": {
    "cell_id": "9be67bd2-0d4a-458c-993d-bcf50c9a97db",
    "tags": [],
    "deepnote_cell_type": "markdown"
   }
  },
  {
   "cell_type": "code",
   "metadata": {
    "cell_id": "ed19af27-0bd5-4a81-84a4-e4b200654921",
    "tags": [],
    "deepnote_cell_type": "code"
   },
   "source": "# filter to only include agriculture, domestic, or public wells\n#Data issues Agriculture is also denoted by \"AG\"\nwellcompletion_subset_df['PLANNEDUSEFORMERUSE'] = wellcompletion_subset_df['PLANNEDUSEFORMERUSE'].fillna(\"\")\nwellcompletion_subset_df['PLANNEDUSEFORMERUSE'] = wellcompletion_subset_df['PLANNEDUSEFORMERUSE'].str.lower()\nwellcompletion_subset_df['PLANNEDUSEFORMERUSE'] = (\n                                    np.where(wellcompletion_subset_df['PLANNEDUSEFORMERUSE'].str.contains(\"agri|irrigation\"),\n                                             \"Agriculture\",\n                                             np.where(wellcompletion_subset_df['PLANNEDUSEFORMERUSE'].str.contains(\"domestic\"),\n                                                     \"Domestic\",\n                                                      np.where(wellcompletion_subset_df['PLANNEDUSEFORMERUSE'].str.contains(\"indus|commerc\"),\n                                                      \"Industrial\",\n                                                      np.where(wellcompletion_subset_df['PLANNEDUSEFORMERUSE'].str.contains(\"public\"),\n                                                              \"Public\",\n                                                              \"Other\")\n                                                     )\n                                            )\n                                    ))\nwellcompletion_subset_df = wellcompletion_subset_df[wellcompletion_subset_df[\"use\"].isin([\"Agriculture\",\"Domestic\",\"Public\", \"Industrial\"])]",
   "execution_count": null,
   "outputs": []
  },
  {
   "cell_type": "code",
   "metadata": {
    "cell_id": "658d32c1-5894-4c72-ab3c-ac153bdc7d6f",
    "tags": [],
    "deepnote_cell_type": "code"
   },
   "source": "# convert depth to number\nwellcompletion_subset_df['TOTALCOMPLETEDDEPTH'] = pd.to_numeric(wellcompletion_subset_df['completed_depth'], errors=\"coerce\")\n# Not sure abive below-remove depth data that is incorrect?\nwellcompletion_subset_df['TOTALCOMPLETEDDEPTH_NEW'] = wellcompletion_subset_df['completed_depth'].apply(lambda x: x if x >= 20 else np.nan)",
   "execution_count": null,
   "outputs": []
  },
  {
   "cell_type": "code",
   "metadata": {
    "cell_id": "e3035d39-0c4e-430f-977c-5a96ac781a91",
    "tags": [],
    "deepnote_cell_type": "code"
   },
   "source": "# convert date work ended to datetime and filter to only include completed dates that are possible (not a future date) \nwellcompletion_subset_df['DATEWORKENDED'] = pd.to_datetime(wellcompletion_subset_df['DATEWORKENDED'], errors='coerce')\nwellcompletion_subset_df['DATEWORKENDED_ADJUSTED'] = wellcompletion_subset_df['DATEWORKENDED'].apply(lambda x: x if x < datetime.now() else np.nan)\n# create simple year and month columns\nwellcompletion_subset_df['YEAR_WORK_ENDED'] = wellcompletion_subset_df['DATEWORKENDED_ADJUSTED'].dt.year\nwellcompletion_subset_df['MONTH_WORK_ENDED'] = wellcompletion_subset_df['DATEWORKENDED_ADJUSTED'].dt.month",
   "execution_count": null,
   "outputs": []
  },
  {
   "cell_type": "code",
   "metadata": {
    "cell_id": "05fb044d-0cf6-4dea-be0f-4a28cc8edba6",
    "tags": [],
    "deepnote_cell_type": "code"
   },
   "source": "# clean longitude/latitude data\nwellcompletion_subset_df['LONGITUDE'] = wellcompletion_subset_df['LONGITUDE'].replace(to_replace= r'\\/', value= '', regex=True)\nwellcompletion_subset_df['LATITUDE'] = wellcompletion_subset_df['LATITUDE'].replace(to_replace= r'\\/', value= '', regex=True)",
   "execution_count": null,
   "outputs": []
  },
  {
   "cell_type": "code",
   "metadata": {
    "cell_id": "c08dd6f8-9c31-4d6c-b2d1-bec40283f622",
    "tags": [],
    "deepnote_cell_type": "code"
   },
   "source": "# create wells geodataframe\nwellcompletion_subset_gdf = gpd.GeoDataFrame(wellcompletion_subset_df, geometry=gpd.points_from_xy(wellcompletion_subset_df.LONGITUDE, wellcompletion_subset_df.LATITUDE))\nwellcompletion_subset_gdf = wellcompletion_subset_gdf.dropna(subset=['LATITUDE','LONGITUDE'])\n#Set the coordinate reference system (the projection that denote the axis for the points)\nwellcompletion_subset_gdf = wellcompletion_subset_gdf.set_crs('epsg:4326')",
   "execution_count": null,
   "outputs": []
  },
  {
   "cell_type": "code",
   "metadata": {
    "cell_id": "5bef13c6-43a0-4168-833b-3c43a04542be",
    "tags": [],
    "deepnote_cell_type": "code"
   },
   "source": "# spatial join based on geometry\nwellcompletion_subset_plss = wellcompletion_subset_gdf.sjoin(plss, how=\"left\")\n\n# drop the ones that aren't in the san joaquin valley basin\nwellcompletion_subset_plss = wellcompletion_subset_plss.dropna(subset=['MTRS'])",
   "execution_count": null,
   "outputs": []
  },
  {
   "cell_type": "code",
   "metadata": {
    "cell_id": "6033e98e-928d-4124-951d-752ffadd1c62",
    "tags": [],
    "deepnote_cell_type": "code"
   },
   "source": "wellcompletion_subset_plss.sample()\n#wellcompletion_subset_plss['geometry'].explore()",
   "execution_count": null,
   "outputs": []
  },
  {
   "cell_type": "code",
   "metadata": {
    "cell_id": "941d7646-0ef9-4803-8bf4-1fc30cb72a13",
    "tags": [],
    "deepnote_cell_type": "code"
   },
   "source": "# Save cleaned data to folder\nwellcompletion_subset_plss.to_csv(\"./data/well_completion.csv\", index=False)",
   "execution_count": null,
   "outputs": []
  },
  {
   "cell_type": "markdown",
   "source": "<a style='text-decoration:none;line-height:16px;display:flex;color:#5B5B62;padding:10px;justify-content:end;' href='https://deepnote.com?utm_source=created-in-deepnote-cell&projectId=b042e2da-6536-449d-95b8-d85fa08825de' target=\"_blank\">\n<img alt='Created in deepnote.com' style='display:inline;max-height:16px;margin:0px;margin-right:7.5px;' src='data:image/svg+xml;base64,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' > </img>\nCreated in <span style='font-weight:600;margin-left:4px;'>Deepnote</span></a>",
   "metadata": {
    "tags": [],
    "created_in_deepnote_cell": true,
    "deepnote_cell_type": "markdown"
   }
  }
 ],
 "nbformat": 4,
 "nbformat_minor": 2,
 "metadata": {
  "orig_nbformat": 2,
  "deepnote": {
   "is_reactive": false
  },
  "deepnote_notebook_id": "0ce1a6e5-9547-4648-b0ae-5805b66aa65e",
  "deepnote_execution_queue": []
 }
}