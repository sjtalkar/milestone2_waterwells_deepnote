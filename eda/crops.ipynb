{
 "cells": [
  {
   "cell_type": "markdown",
   "source": "# California Statewide Crop Mapping Datasets\nRelated links:\n* For the documentation about these datasets, their source, how to download them, and the features of interest, please refer to our [Crops Datasets](../doc/assets/crops.md) documentation\n* For the explanations on how the crom mapping datasets are overlaid with township boundaries to obtain the amount of land used for each crop type in each township, please refer to our [Overlaying San Joaquin Valley Township Boundaries](../doc/etl/township_overlay.md) documentation\n",
   "metadata": {
    "pycharm": {
     "name": "#%% md\n"
    },
    "cell_id": "96acd761-88ea-47a6-aa1d-7496ed3b54f9",
    "deepnote_cell_type": "markdown"
   }
  },
  {
   "cell_type": "code",
   "metadata": {
    "pycharm": {
     "name": "#%%\n"
    },
    "cell_id": "00001-b2f5be78-77b7-4bc6-b7cc-0429f398d0d7",
    "deepnote_cell_type": "code"
   },
   "source": "import matplotlib.pyplot as plt\nfrom lib.crops import CropsDataset",
   "outputs": [],
   "execution_count": null
  },
  {
   "cell_type": "markdown",
   "source": "Load the data by instantiating the CropsDataset class based on\n* the geospatial map data for the years 2014, 2016 and 2018,\n* the soil CSV dataset and the GeoJSON map data of the San Joaquin Valley",
   "metadata": {
    "pycharm": {
     "name": "#%% md\n"
    },
    "cell_id": "00002-461a6d7e-f71f-4b51-b888-75a53ab23b3d",
    "deepnote_cell_type": "markdown"
   }
  },
  {
   "cell_type": "code",
   "metadata": {
    "pycharm": {
     "name": "#%%\n"
    },
    "cell_id": "00003-9e996b9b-6d6c-457a-a9ee-78bdd6cc6ea7",
    "deepnote_cell_type": "code"
   },
   "source": "crops_dataset = CropsDataset()",
   "outputs": [],
   "execution_count": null
  },
  {
   "cell_type": "markdown",
   "source": "Pre-process the crops map",
   "metadata": {
    "collapsed": false,
    "pycharm": {
     "name": "#%% md\n"
    },
    "cell_id": "00004-7aeea1fb-ec16-40b0-b813-8e1a2b790952",
    "deepnote_cell_type": "markdown"
   }
  },
  {
   "cell_type": "code",
   "metadata": {
    "collapsed": false,
    "pycharm": {
     "name": "#%%\n"
    },
    "cell_id": "00005-3d8d9ee9-e76c-466f-bf29-f7dd34da9cc1",
    "deepnote_cell_type": "code"
   },
   "source": "crops_dataset.preprocess_map_df()",
   "outputs": [
    {
     "name": "stdout",
     "output_type": "stream",
     "text": "['YEAR', 'CROP_CLASS', 'geometry']\n"
    }
   ],
   "execution_count": null
  },
  {
   "cell_type": "code",
   "metadata": {
    "collapsed": false,
    "pycharm": {
     "name": "#%%\n"
    },
    "cell_id": "00006-099254e4-48d4-4f9d-be98-cf57bdb3ae71",
    "deepnote_cell_type": "code"
   },
   "source": "crops_dataset.map_df",
   "outputs": [
    {
     "data": {
      "text/plain": "         YEAR CROP_CLASS                                           geometry\n0        2014          C  POLYGON ((-122.37340 37.25219, -122.37340 37.2...\n1        2014          C  POLYGON ((-122.37249 37.25218, -122.37265 37.2...\n2        2014          C  POLYGON ((-122.22005 37.28762, -122.22012 37.2...\n3        2014          C  POLYGON ((-122.22311 37.28907, -122.22308 37.2...\n4        2014          C  POLYGON ((-122.21660 37.29208, -122.21672 37.2...\n...       ...        ...                                                ...\n1071905  2018         YP  POLYGON ((-115.49633 34.49226, -115.49629 34.4...\n1071906  2018         YP  POLYGON ((-115.50508 34.49584, -115.50075 34.4...\n1071907  2018         YP  POLYGON ((-115.49206 34.49592, -115.49630 34.4...\n1071908  2018         YP  POLYGON ((-115.50064 34.49945, -115.49639 34.4...\n1071909  2018         YP  POLYGON ((-114.64635 34.94474, -114.64620 34.9...\n\n[1071910 rows x 3 columns]",
      "text/html": "<div>\n<style scoped>\n    .dataframe tbody tr th:only-of-type {\n        vertical-align: middle;\n    }\n\n    .dataframe tbody tr th {\n        vertical-align: top;\n    }\n\n    .dataframe thead th {\n        text-align: right;\n    }\n</style>\n<table border=\"1\" class=\"dataframe\">\n  <thead>\n    <tr style=\"text-align: right;\">\n      <th></th>\n      <th>YEAR</th>\n      <th>CROP_CLASS</th>\n      <th>geometry</th>\n    </tr>\n  </thead>\n  <tbody>\n    <tr>\n      <th>0</th>\n      <td>2014</td>\n      <td>C</td>\n      <td>POLYGON ((-122.37340 37.25219, -122.37340 37.2...</td>\n    </tr>\n    <tr>\n      <th>1</th>\n      <td>2014</td>\n      <td>C</td>\n      <td>POLYGON ((-122.37249 37.25218, -122.37265 37.2...</td>\n    </tr>\n    <tr>\n      <th>2</th>\n      <td>2014</td>\n      <td>C</td>\n      <td>POLYGON ((-122.22005 37.28762, -122.22012 37.2...</td>\n    </tr>\n    <tr>\n      <th>3</th>\n      <td>2014</td>\n      <td>C</td>\n      <td>POLYGON ((-122.22311 37.28907, -122.22308 37.2...</td>\n    </tr>\n    <tr>\n      <th>4</th>\n      <td>2014</td>\n      <td>C</td>\n      <td>POLYGON ((-122.21660 37.29208, -122.21672 37.2...</td>\n    </tr>\n    <tr>\n      <th>...</th>\n      <td>...</td>\n      <td>...</td>\n      <td>...</td>\n    </tr>\n    <tr>\n      <th>1071905</th>\n      <td>2018</td>\n      <td>YP</td>\n      <td>POLYGON ((-115.49633 34.49226, -115.49629 34.4...</td>\n    </tr>\n    <tr>\n      <th>1071906</th>\n      <td>2018</td>\n      <td>YP</td>\n      <td>POLYGON ((-115.50508 34.49584, -115.50075 34.4...</td>\n    </tr>\n    <tr>\n      <th>1071907</th>\n      <td>2018</td>\n      <td>YP</td>\n      <td>POLYGON ((-115.49206 34.49592, -115.49630 34.4...</td>\n    </tr>\n    <tr>\n      <th>1071908</th>\n      <td>2018</td>\n      <td>YP</td>\n      <td>POLYGON ((-115.50064 34.49945, -115.49639 34.4...</td>\n    </tr>\n    <tr>\n      <th>1071909</th>\n      <td>2018</td>\n      <td>YP</td>\n      <td>POLYGON ((-114.64635 34.94474, -114.64620 34.9...</td>\n    </tr>\n  </tbody>\n</table>\n<p>1071910 rows × 3 columns</p>\n</div>"
     },
     "execution_count": 4,
     "metadata": {},
     "output_type": "execute_result"
    }
   ],
   "execution_count": null
  },
  {
   "cell_type": "markdown",
   "source": "",
   "metadata": {
    "pycharm": {
     "name": "#%% md\n"
    },
    "cell_id": "00007-97bbed43-4fc9-44a8-a2ff-837eb938e2d0",
    "deepnote_cell_type": "markdown"
   }
  },
  {
   "cell_type": "code",
   "metadata": {
    "collapsed": false,
    "pycharm": {
     "name": "#%%\n"
    },
    "cell_id": "00008-76c7a554-0176-4c09-a596-798a51ecc24a",
    "deepnote_cell_type": "code"
   },
   "source": "crops_dataset.overlay_township_boundries()",
   "outputs": [],
   "execution_count": null
  },
  {
   "cell_type": "code",
   "metadata": {
    "pycharm": {
     "is_executing": true
    },
    "cell_id": "00009-de6e207a-cd45-4f4a-99c4-6ff80a30abae",
    "deepnote_cell_type": "code"
   },
   "source": "fig, ax = plt.subplots(figsize=(50,50))\ncrops_dataset.map_df[crops_dataset.map_df[\"YEAR\"]==\"2018\"].plot(ax=ax, column=\"CROP_CLASS\", edgecolor='grey', linewidth = 1, cmap=None, legend=True)\ncrops_dataset.sjv_township_range_df.plot(ax=ax, facecolor=\"none\", edgecolor='black', linewidth = 1, cmap=None, legend=None)\nplt.show()",
   "execution_count": null,
   "outputs": []
  },
  {
   "cell_type": "code",
   "metadata": {
    "cell_id": "00010-377eb5d0-d49d-4a2c-9410-3a4a2aedae83",
    "deepnote_cell_type": "code"
   },
   "source": "",
   "execution_count": null,
   "outputs": []
  },
  {
   "cell_type": "markdown",
   "source": "<a style='text-decoration:none;line-height:16px;display:flex;color:#5B5B62;padding:10px;justify-content:end;' href='https://deepnote.com?utm_source=created-in-deepnote-cell&projectId=b042e2da-6536-449d-95b8-d85fa08825de' target=\"_blank\">\n<img alt='Created in deepnote.com' style='display:inline;max-height:16px;margin:0px;margin-right:7.5px;' src='data:image/svg+xml;base64,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' > </img>\nCreated in <span style='font-weight:600;margin-left:4px;'>Deepnote</span></a>",
   "metadata": {
    "tags": [],
    "created_in_deepnote_cell": true,
    "deepnote_cell_type": "markdown"
   }
  }
 ],
 "nbformat": 4,
 "nbformat_minor": 1,
 "metadata": {
  "kernelspec": {
   "display_name": "Python 3 (ipykernel)",
   "language": "python",
   "name": "python3"
  },
  "language_info": {
   "codemirror_mode": {
    "name": "ipython",
    "version": 3
   },
   "file_extension": ".py",
   "mimetype": "text/x-python",
   "name": "python",
   "nbconvert_exporter": "python",
   "pygments_lexer": "ipython3",
   "version": "3.9.7"
  },
  "deepnote_notebook_id": "ccb11fed-5e07-4abf-a079-515be8d9c8ec",
  "deepnote": {},
  "deepnote_execution_queue": []
 }
}