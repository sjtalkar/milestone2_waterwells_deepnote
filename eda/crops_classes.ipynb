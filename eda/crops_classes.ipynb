{
 "cells": [
  {
   "cell_type": "markdown",
   "source": [
    "# San Joaquin Valley Township Crop Classes\n",
    "Related links:\n",
    "* For the documentation about these datasets, their source, how to download them, and the features of interest, please refer to our [Crops Datasets](doc/assets/crops.md) documentation\n",
    "* For the explanations on how the crom mapping datasets are overlaid with township boundaries to obtain the amount of land used for each crop type in each township, please refer to our [Overlaying San Joaquin Valley Township Boundaries](doc/etl/township_overlay.md) documentation\n",
    "\n",
    "__WARNING:__ The Crops datasets are made of ten of thousands of small fields. When overlaying the TRS Township boundaries on the Crops geospatial data it takes a lot of time to cut the fields and group them by Township boundaries.\n"
   ],
   "metadata": {
    "pycharm": {
     "name": "#%% md\n"
    },
    "cell_id": "96acd761-88ea-47a6-aa1d-7496ed3b54f9",
    "deepnote_cell_type": "markdown"
   }
  },
  {
   "cell_type": "code",
   "execution_count": 1,
   "outputs": [],
   "source": [
    "# For Deepnote to be able to use the custom libraries in the parent ../lib folder\n",
    "import sys\n",
    "sys.path.append('..')"
   ],
   "metadata": {
    "collapsed": false,
    "pycharm": {
     "name": "#%%\n"
    }
   }
  },
  {
   "cell_type": "code",
   "metadata": {
    "pycharm": {
     "name": "#%%\n"
    },
    "cell_id": "00001-b2f5be78-77b7-4bc6-b7cc-0429f398d0d7",
    "deepnote_cell_type": "code"
   },
   "source": [
    "import matplotlib.pyplot as plt\n",
    "from lib.crops import CropsDataset"
   ],
   "outputs": [],
   "execution_count": 2
  },
  {
   "cell_type": "markdown",
   "source": [
    "Load the data by instantiating the CropsDataset class based on\n",
    "* the geospatial map data for the years 2014, 2016 and 2018,\n",
    "* the soil CSV dataset and the GeoJSON map data of the San Joaquin Valley"
   ],
   "metadata": {
    "pycharm": {
     "name": "#%% md\n"
    },
    "cell_id": "00002-461a6d7e-f71f-4b51-b888-75a53ab23b3d",
    "deepnote_cell_type": "markdown"
   }
  },
  {
   "cell_type": "code",
   "metadata": {
    "pycharm": {
     "name": "#%%\n"
    },
    "cell_id": "00003-9e996b9b-6d6c-457a-a9ee-78bdd6cc6ea7",
    "deepnote_cell_type": "code"
   },
   "source": [
    "crops_dataset = CropsDataset()"
   ],
   "outputs": [],
   "execution_count": 3
  },
  {
   "cell_type": "markdown",
   "source": [
    "Pre-process the crops dataset to keep only the selected features for the final analysis."
   ],
   "metadata": {
    "collapsed": false,
    "pycharm": {
     "name": "#%% md\n"
    },
    "cell_id": "00004-7aeea1fb-ec16-40b0-b813-8e1a2b790952",
    "deepnote_cell_type": "markdown"
   }
  },
  {
   "cell_type": "code",
   "metadata": {
    "collapsed": false,
    "pycharm": {
     "name": "#%%\n"
    },
    "cell_id": "00005-3d8d9ee9-e76c-466f-bf29-f7dd34da9cc1",
    "deepnote_cell_type": "code"
   },
   "source": [
    "crops_dataset.preprocess_map_df(features_to_keep = [\"YEAR\", \"CROP_TYPE\", \"geometry\"])"
   ],
   "outputs": [],
   "execution_count": 4
  },
  {
   "cell_type": "code",
   "metadata": {
    "collapsed": false,
    "pycharm": {
     "name": "#%%\n"
    },
    "cell_id": "00006-099254e4-48d4-4f9d-be98-cf57bdb3ae71",
    "deepnote_cell_type": "code"
   },
   "source": [
    "crops_dataset.map_df"
   ],
   "outputs": [
    {
     "data": {
      "text/plain": "         YEAR CROP_TYPE                                           geometry\n0        2014         T  POLYGON ((-121.80922 36.88657, -121.80976 36.8...\n1        2014         D  POLYGON ((-119.44511 36.54089, -119.44511 36.5...\n2        2014         P  POLYGON ((-115.29447 32.75199, -115.29842 32.7...\n3        2014         V  POLYGON ((-119.97019 36.77553, -119.97018 36.7...\n4        2014         T  POLYGON ((-121.69127 38.82860, -121.69131 38.8...\n...       ...       ...                                                ...\n1159974  2018         P  POLYGON ((-120.90513 40.13510, -120.90503 40.1...\n1159975  2018         P  POLYGON ((-120.87495 40.14633, -120.87445 40.1...\n1159976  2018         P  POLYGON ((-120.93540 40.14685, -120.93581 40.1...\n1159977  2018         V  POLYGON ((-121.94810 40.51928, -121.94915 40.5...\n1159978  2018         P  MULTIPOLYGON (((-123.93396 40.42486, -123.9324...\n\n[1159979 rows x 3 columns]",
      "text/html": "<div>\n<style scoped>\n    .dataframe tbody tr th:only-of-type {\n        vertical-align: middle;\n    }\n\n    .dataframe tbody tr th {\n        vertical-align: top;\n    }\n\n    .dataframe thead th {\n        text-align: right;\n    }\n</style>\n<table border=\"1\" class=\"dataframe\">\n  <thead>\n    <tr style=\"text-align: right;\">\n      <th></th>\n      <th>YEAR</th>\n      <th>CROP_TYPE</th>\n      <th>geometry</th>\n    </tr>\n  </thead>\n  <tbody>\n    <tr>\n      <th>0</th>\n      <td>2014</td>\n      <td>T</td>\n      <td>POLYGON ((-121.80922 36.88657, -121.80976 36.8...</td>\n    </tr>\n    <tr>\n      <th>1</th>\n      <td>2014</td>\n      <td>D</td>\n      <td>POLYGON ((-119.44511 36.54089, -119.44511 36.5...</td>\n    </tr>\n    <tr>\n      <th>2</th>\n      <td>2014</td>\n      <td>P</td>\n      <td>POLYGON ((-115.29447 32.75199, -115.29842 32.7...</td>\n    </tr>\n    <tr>\n      <th>3</th>\n      <td>2014</td>\n      <td>V</td>\n      <td>POLYGON ((-119.97019 36.77553, -119.97018 36.7...</td>\n    </tr>\n    <tr>\n      <th>4</th>\n      <td>2014</td>\n      <td>T</td>\n      <td>POLYGON ((-121.69127 38.82860, -121.69131 38.8...</td>\n    </tr>\n    <tr>\n      <th>...</th>\n      <td>...</td>\n      <td>...</td>\n      <td>...</td>\n    </tr>\n    <tr>\n      <th>1159974</th>\n      <td>2018</td>\n      <td>P</td>\n      <td>POLYGON ((-120.90513 40.13510, -120.90503 40.1...</td>\n    </tr>\n    <tr>\n      <th>1159975</th>\n      <td>2018</td>\n      <td>P</td>\n      <td>POLYGON ((-120.87495 40.14633, -120.87445 40.1...</td>\n    </tr>\n    <tr>\n      <th>1159976</th>\n      <td>2018</td>\n      <td>P</td>\n      <td>POLYGON ((-120.93540 40.14685, -120.93581 40.1...</td>\n    </tr>\n    <tr>\n      <th>1159977</th>\n      <td>2018</td>\n      <td>V</td>\n      <td>POLYGON ((-121.94810 40.51928, -121.94915 40.5...</td>\n    </tr>\n    <tr>\n      <th>1159978</th>\n      <td>2018</td>\n      <td>P</td>\n      <td>MULTIPOLYGON (((-123.93396 40.42486, -123.9324...</td>\n    </tr>\n  </tbody>\n</table>\n<p>1159979 rows × 3 columns</p>\n</div>"
     },
     "execution_count": 5,
     "metadata": {},
     "output_type": "execute_result"
    }
   ],
   "execution_count": 5
  },
  {
   "cell_type": "markdown",
   "source": [
    "Overlay the San Joaquin Valley township boundaries on the Crops dataset to cut the crops land areas with the township boundaries, thus extracting all the crops types per townships."
   ],
   "metadata": {
    "collapsed": false,
    "pycharm": {
     "name": "#%% md\n"
    }
   }
  },
  {
   "cell_type": "markdown",
   "source": [],
   "metadata": {
    "pycharm": {
     "name": "#%% md\n"
    },
    "cell_id": "00007-97bbed43-4fc9-44a8-a2ff-837eb938e2d0",
    "deepnote_cell_type": "markdown"
   }
  },
  {
   "cell_type": "code",
   "metadata": {
    "collapsed": false,
    "pycharm": {
     "name": "#%%\n",
     "is_executing": true
    },
    "cell_id": "00008-76c7a554-0176-4c09-a596-798a51ecc24a",
    "deepnote_cell_type": "code"
   },
   "source": [
    "crops_dataset.overlay_township_boundries()"
   ],
   "outputs": [],
   "execution_count": null
  },
  {
   "cell_type": "markdown",
   "source": [
    "Display the map of the 2018 Crops dataset"
   ],
   "metadata": {
    "collapsed": false,
    "pycharm": {
     "name": "#%% md\n"
    }
   }
  },
  {
   "cell_type": "code",
   "execution_count": null,
   "outputs": [],
   "source": [
    "# This geospatial dataset has too many small complex features to display on a Folium map or with Altair so we use Matplotlib here\n",
    "fig, ax = plt.subplots(figsize=(40,40))\n",
    "crops_dataset.map_df[crops_dataset.map_df[\"YEAR\"]==2018].plot(ax=ax, column=\"CROP_TYPE\", edgecolor='grey', linewidth = 1, cmap=None, legend=True)\n",
    "crops_dataset.sjv_township_range_df.plot(ax=ax, facecolor=\"none\", edgecolor='black', linewidth = 1, cmap=None, legend=None)\n",
    "plt.show()"
   ],
   "metadata": {
    "collapsed": false,
    "pycharm": {
     "name": "#%%\n",
     "is_executing": true
    }
   }
  },
  {
   "cell_type": "code",
   "execution_count": null,
   "outputs": [],
   "source": [
    "# This geospatial dataset is too complex to display on a Folium map so we use Altair to visualize it\n",
    "simple_geodata_viz(crops_dataset.map_df, feature=\"CROP_TYPE\", title=\"Crop Types in the San Joaquin Valley\", color_scheme=\"category20\", year=2018)"
   ],
   "metadata": {
    "collapsed": false,
    "pycharm": {
     "name": "#%%\n",
     "is_executing": true
    }
   }
  },
  {
   "cell_type": "markdown",
   "source": [
    "The Crops datasets is further modified as follow:\n",
    "1. Missing townships are filled with the \"X - Unclassified\" class from the Crops datasets to inlude them in the dataset.\n",
    "2. Data for the year 2014 are used to fill the 2015 data, the 2016 for 2017 and the 2018 for the years 2019~.\n",
    "3. The dataframe is then pivoted so that each `CROP_TYPE`becomes a feature\n",
    "4. features matching the below criteria are dropped:\n",
    "    * cover less than 5% of the land surface of every township for any given year\n",
    "    * and `[\"X - Not Classified\", \"U - Urban\", \"NR - Native Riparian\"]` classes are dropped\n",
    "\n",
    "Note that the result of 1 and 4 is that the missing Township-Ranges will then be in the dataset with a land surface value of `0? for every type of crop."
   ],
   "metadata": {
    "collapsed": false,
    "pycharm": {
     "name": "#%% md\n"
    }
   }
  },
  {
   "cell_type": "code",
   "execution_count": null,
   "outputs": [],
   "source": [
    "crops_dataset.fill_missing_years()\n",
    "crops_dataset.fill_townships_with_no_data(features_to_fill=[\"CROP_TYPE\"], feature_value=\"X\")\n",
    "crops_dataset.pivot_township_categorical_feature_for_output(feature_name=\"CROP_TYPE\", feature_prefix=\"CROP\")\n",
    "crops_dataset.drop_features(drop_rate=0.05, unwanted_features=[\"CROP_X\", \"CROP_U\", \"CROP_NR\"])"
   ],
   "metadata": {
    "collapsed": false,
    "pycharm": {
     "name": "#%%\n",
     "is_executing": true
    }
   }
  },
  {
   "cell_type": "code",
   "execution_count": null,
   "outputs": [],
   "source": [
    "crops_dataset.output_df"
   ],
   "metadata": {
    "collapsed": false,
    "pycharm": {
     "name": "#%%\n",
     "is_executing": true
    }
   }
  },
  {
   "cell_type": "code",
   "execution_count": null,
   "outputs": [],
   "source": [
    "crops_dataset.output_dataset_to_csv(\"../assets/outputs/crops_classes.csv\")"
   ],
   "metadata": {
    "collapsed": false,
    "pycharm": {
     "name": "#%%\n",
     "is_executing": true
    }
   }
  },
  {
   "cell_type": "code",
   "execution_count": null,
   "outputs": [],
   "source": [],
   "metadata": {
    "collapsed": false,
    "pycharm": {
     "name": "#%%\n",
     "is_executing": true
    }
   }
  }
 ],
 "nbformat": 4,
 "nbformat_minor": 1,
 "metadata": {
  "kernelspec": {
   "display_name": "Python 3 (ipykernel)",
   "language": "python",
   "name": "python3"
  },
  "language_info": {
   "codemirror_mode": {
    "name": "ipython",
    "version": 3
   },
   "file_extension": ".py",
   "mimetype": "text/x-python",
   "name": "python",
   "nbconvert_exporter": "python",
   "pygments_lexer": "ipython3",
   "version": "3.9.7"
  },
  "deepnote_notebook_id": "ccb11fed-5e07-4abf-a079-515be8d9c8ec",
  "deepnote": {},
  "deepnote_execution_queue": []
 }
}