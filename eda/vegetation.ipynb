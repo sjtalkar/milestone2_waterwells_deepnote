{
 "cells": [
  {
   "cell_type": "markdown",
   "metadata": {
    "cell_id": "776c21ca-3458-44d7-b485-36841df50529",
    "deepnote_cell_type": "markdown",
    "pycharm": {
     "name": "#%% md\n"
    }
   },
   "source": [
    "# San Joaquin Valley Existing Vegetation\n",
    "Related links:\n",
    "* For the documentation about this dataset, its source, how to download it, and the features of interest, please refer to our [Vegetation Datasets](doc/assets/vegetation.md) documentation\n",
    "* For the explanations on how the vegetation mapping datasets are overlaid with township boundaries to obtain the amount of land used for each crop type in each township, please refer to our [Overlaying San Joaquin Valley Township Boundaries](doc/etl/township_overlay.md) documentation"
   ]
  },
  {
   "cell_type": "code",
   "execution_count": 5,
   "outputs": [],
   "source": [
    "# For Deepnote to be able to use the custom libraries in the parent ../lib folder\n",
    "import sys\n",
    "sys.path.append('..')"
   ],
   "metadata": {
    "collapsed": false,
    "pycharm": {
     "name": "#%%\n"
    }
   }
  },
  {
   "cell_type": "code",
   "execution_count": 6,
   "metadata": {
    "cell_id": "00001-e561b6e9-65ac-403a-9907-927e929112d1",
    "deepnote_cell_type": "code",
    "pycharm": {
     "name": "#%%\n"
    }
   },
   "outputs": [],
   "source": [
    "import matplotlib.pyplot as plt\n",
    "from lib.vegetation import VegetationDataset"
   ]
  },
  {
   "cell_type": "markdown",
   "metadata": {
    "pycharm": {
     "name": "#%% md\n"
    }
   },
   "source": [
    "Load the data by instantiating the VegetationDataset class based on the geospatial map data for the central valley and central coast areas.\n",
    "\n",
    "__Note:__ If the data are not available locally, they will be downloaded from their source first, which will take some time as there are two 900MB geospatial datasets. Be patient."
   ]
  },
  {
   "cell_type": "code",
   "execution_count": 7,
   "metadata": {
    "cell_id": "00002-ed367304-6f5f-41ff-b115-218ce5ad571c",
    "deepnote_cell_type": "code",
    "pycharm": {
     "name": "#%%\n"
    }
   },
   "outputs": [
    {
     "name": "stdout",
     "output_type": "stream",
     "text": [
      "Loading local datasets. Please wait...\n",
      "Loading of datasets complete.\n"
     ]
    }
   ],
   "source": [
    "vegetation_df = VegetationDataset()"
   ]
  },
  {
   "cell_type": "markdown",
   "source": [
    "Pre-process the vegetation dataset to keep only the selected features for the final analysis."
   ],
   "metadata": {
    "collapsed": false,
    "pycharm": {
     "name": "#%% md\n"
    }
   }
  },
  {
   "cell_type": "code",
   "execution_count": null,
   "outputs": [],
   "source": [
    "vegetation_df.preprocess_map_df(features_to_keep=[\"SAF_COVER_TYPE\", \"geometry\"])"
   ],
   "metadata": {
    "collapsed": false,
    "pycharm": {
     "name": "#%%\n"
    }
   }
  },
  {
   "cell_type": "code",
   "execution_count": null,
   "outputs": [],
   "source": [
    "vegetation_df.map_df"
   ],
   "metadata": {
    "collapsed": false,
    "pycharm": {
     "name": "#%%\n"
    }
   }
  },
  {
   "cell_type": "markdown",
   "source": [
    "Overlay the San Joaquin Valley township boundaries on the Vegetation dataset to cut the crops land areas with the township boundaries, thus extracting all the existing vegetation types per townships."
   ],
   "metadata": {
    "collapsed": false,
    "pycharm": {
     "name": "#%% md\n"
    }
   }
  },
  {
   "cell_type": "code",
   "execution_count": null,
   "outputs": [],
   "source": [
    "vegetation_df.overlay_township_boundaries()"
   ],
   "metadata": {
    "collapsed": false,
    "pycharm": {
     "name": "#%%\n"
    }
   }
  },
  {
   "cell_type": "markdown",
   "source": [
    "Display the map of the Vegetation dataset"
   ],
   "metadata": {
    "collapsed": false,
    "pycharm": {
     "name": "#%% md\n"
    }
   }
  },
  {
   "cell_type": "code",
   "execution_count": null,
   "outputs": [],
   "source": [
    "# This geospatial dataset has too many small complex features to display on a Folium map or with Altair so we use Matplotlib here\n",
    "fig, ax = plt.subplots(figsize=(40,40))\n",
    "vegetation_df.map_df.plot(ax=ax, column=\"VEGETATION_TYPE\", edgecolor='black', linewidth = 1, cmap=None, legend=True)\n",
    "plt.show()"
   ],
   "metadata": {
    "collapsed": false,
    "pycharm": {
     "name": "#%%\n"
    }
   }
  },
  {
   "cell_type": "code",
   "execution_count": null,
   "outputs": [],
   "source": [
    "vegetation_df.fill_townships_with_no_data(features_to_fill=[\"VEGETATION_TYPE\"], feature_value=\"X\")\n",
    "vegetation_df.map_df"
   ],
   "metadata": {
    "collapsed": false,
    "pycharm": {
     "name": "#%%\n"
    }
   }
  },
  {
   "cell_type": "code",
   "execution_count": null,
   "outputs": [],
   "source": [
    "vegetation_df.pivot_township_categorical_feature_for_output(feature_name=\"VEGETATION_TYPE\", feature_prefix=\"VEGETATION\")\n",
    "vegetation_df.drop_features(drop_rate=0.05, unwanted_features=[\"VEGETATION_X\", \"VEGETATION_NON_FOREST\"])"
   ],
   "metadata": {
    "collapsed": false,
    "pycharm": {
     "name": "#%%\n"
    }
   }
  },
  {
   "cell_type": "code",
   "execution_count": null,
   "outputs": [],
   "source": [
    "vegetation_df.output_df"
   ],
   "metadata": {
    "collapsed": false,
    "pycharm": {
     "name": "#%%\n"
    }
   }
  },
  {
   "cell_type": "code",
   "execution_count": null,
   "outputs": [],
   "source": [
    "vegetation_df.output_dataset_to_csv(\"../assets/outputs/vegetation.csv\")"
   ],
   "metadata": {
    "collapsed": false,
    "pycharm": {
     "name": "#%%\n"
    }
   }
  }
 ],
 "metadata": {
  "deepnote": {},
  "deepnote_execution_queue": [],
  "deepnote_notebook_id": "41638a56-a1bd-4d77-81cf-8cfc0d094b07",
  "kernelspec": {
   "display_name": "Python 3 (ipykernel)",
   "language": "python",
   "name": "python3"
  },
  "language_info": {
   "codemirror_mode": {
    "name": "ipython",
    "version": 3
   },
   "file_extension": ".py",
   "mimetype": "text/x-python",
   "name": "python",
   "nbconvert_exporter": "python",
   "pygments_lexer": "ipython3",
   "version": "3.9.7"
  }
 },
 "nbformat": 4,
 "nbformat_minor": 1
}