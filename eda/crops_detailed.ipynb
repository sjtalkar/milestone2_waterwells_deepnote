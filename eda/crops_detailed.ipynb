{
 "cells": [
  {
   "cell_type": "markdown",
   "source": [
    "# San Joaquin Valley Township Individual Crops\n",
    "This notebook performs the same ETL than the \"San Joaquin Valley Township Crop Classes\" `crops.ipynb` notebook  but extract the crops at the individual crop name (e.g. \"strawberries\", \"potatoes\", etc.) instead of the class (e.g. \"D\", \"R\", etc) level.\n",
    "\n",
    "Related links:\n",
    "* For the documentation about these datasets, their source, how to download them, and the features of interest, please refer to our [Crops Datasets](doc/assets/crops.md) documentation\n",
    "* For the explanations on how the crom mapping datasets are overlaid with township boundaries to obtain the amount of land used for each crop type in each township, please refer to our [Overlaying San Joaquin Valley Township Boundaries](doc/etl/township_overlay.md) documentation\n",
    "\n"
   ],
   "metadata": {
    "pycharm": {
     "name": "#%% md\n"
    },
    "cell_id": "96acd761-88ea-47a6-aa1d-7496ed3b54f9",
    "deepnote_cell_type": "markdown"
   }
  },
  {
   "cell_type": "code",
   "execution_count": 1,
   "outputs": [],
   "source": [
    "# For Deepnote to be able to use the custom libraries in the parent ../lib folder\n",
    "import sys\n",
    "sys.path.append('..')"
   ],
   "metadata": {
    "collapsed": false,
    "pycharm": {
     "name": "#%%\n"
    }
   }
  },
  {
   "cell_type": "code",
   "metadata": {
    "pycharm": {
     "name": "#%%\n"
    },
    "cell_id": "00001-b2f5be78-77b7-4bc6-b7cc-0429f398d0d7",
    "deepnote_cell_type": "code"
   },
   "source": [
    "import matplotlib.pyplot as plt\n",
    "from lib.crops import CropsDataset"
   ],
   "outputs": [],
   "execution_count": 2
  },
  {
   "cell_type": "markdown",
   "source": [
    "Load the data by instantiating the CropsDataset class based on\n",
    "* the geospatial map data for the years 2014, 2016 and 2018,\n",
    "* the soil CSV dataset and the GeoJSON map data of the San Joaquin Valley"
   ],
   "metadata": {
    "pycharm": {
     "name": "#%% md\n"
    },
    "cell_id": "00002-461a6d7e-f71f-4b51-b888-75a53ab23b3d",
    "deepnote_cell_type": "markdown"
   }
  },
  {
   "cell_type": "code",
   "metadata": {
    "pycharm": {
     "name": "#%%\n"
    },
    "cell_id": "00003-9e996b9b-6d6c-457a-a9ee-78bdd6cc6ea7",
    "deepnote_cell_type": "code"
   },
   "source": [
    "crops_dataset = CropsDataset()"
   ],
   "outputs": [
    {
     "ename": "KeyboardInterrupt",
     "evalue": "",
     "output_type": "error",
     "traceback": [
      "\u001B[1;31m---------------------------------------------------------------------------\u001B[0m",
      "\u001B[1;31mKeyboardInterrupt\u001B[0m                         Traceback (most recent call last)",
      "\u001B[1;32mD:\\Users\\Matthieu\\AppData\\Local\\Temp/ipykernel_7712/895353608.py\u001B[0m in \u001B[0;36m<module>\u001B[1;34m\u001B[0m\n\u001B[1;32m----> 1\u001B[1;33m \u001B[0mcrops_dataset\u001B[0m \u001B[1;33m=\u001B[0m \u001B[0mCropsDataset\u001B[0m\u001B[1;33m(\u001B[0m\u001B[1;33m)\u001B[0m\u001B[1;33m\u001B[0m\u001B[1;33m\u001B[0m\u001B[0m\n\u001B[0m",
      "\u001B[1;32mD:\\code\\jupyter_nb_data\\UMSI\\milestone2_waterwells_deepnote\\lib\\crops.py\u001B[0m in \u001B[0;36m__init__\u001B[1;34m(self, input_geodir, crop_name_to_type_file)\u001B[0m\n\u001B[0;32m     18\u001B[0m         \u001B[0mWsGeoDataset\u001B[0m\u001B[1;33m.\u001B[0m\u001B[0m__init__\u001B[0m\u001B[1;33m(\u001B[0m\u001B[0mself\u001B[0m\u001B[1;33m,\u001B[0m \u001B[1;33m[\u001B[0m\u001B[1;33m]\u001B[0m\u001B[1;33m)\u001B[0m\u001B[1;33m\u001B[0m\u001B[1;33m\u001B[0m\u001B[0m\n\u001B[0;32m     19\u001B[0m         \u001B[0mself\u001B[0m\u001B[1;33m.\u001B[0m\u001B[0mmap_2014_df\u001B[0m \u001B[1;33m=\u001B[0m \u001B[0mself\u001B[0m\u001B[1;33m.\u001B[0m\u001B[0m_read_geospatial_file\u001B[0m\u001B[1;33m(\u001B[0m\u001B[1;34mf\"{input_geodir}crops_2014/i15_Crop_Mapping_2014.shp\"\u001B[0m\u001B[1;33m)\u001B[0m\u001B[1;33m\u001B[0m\u001B[1;33m\u001B[0m\u001B[0m\n\u001B[1;32m---> 20\u001B[1;33m         \u001B[0mself\u001B[0m\u001B[1;33m.\u001B[0m\u001B[0mmap_2016_df\u001B[0m \u001B[1;33m=\u001B[0m \u001B[0mself\u001B[0m\u001B[1;33m.\u001B[0m\u001B[0m_read_geospatial_file\u001B[0m\u001B[1;33m(\u001B[0m\u001B[1;34mf\"{input_geodir}crops_2016/i15_Crop_Mapping_2016.shp\"\u001B[0m\u001B[1;33m)\u001B[0m\u001B[1;33m\u001B[0m\u001B[1;33m\u001B[0m\u001B[0m\n\u001B[0m\u001B[0;32m     21\u001B[0m         \u001B[0mself\u001B[0m\u001B[1;33m.\u001B[0m\u001B[0mmap_2018_df\u001B[0m \u001B[1;33m=\u001B[0m \u001B[0mself\u001B[0m\u001B[1;33m.\u001B[0m\u001B[0m_read_geospatial_file\u001B[0m\u001B[1;33m(\u001B[0m\u001B[1;34mf\"{input_geodir}crops_2018/i15_Crop_Mapping_2018.shp\"\u001B[0m\u001B[1;33m)\u001B[0m\u001B[1;33m\u001B[0m\u001B[1;33m\u001B[0m\u001B[0m\n\u001B[0;32m     22\u001B[0m         \u001B[1;32mwith\u001B[0m \u001B[0mopen\u001B[0m\u001B[1;33m(\u001B[0m\u001B[0mcrop_name_to_type_file\u001B[0m\u001B[1;33m)\u001B[0m \u001B[1;32mas\u001B[0m \u001B[0mf\u001B[0m\u001B[1;33m:\u001B[0m\u001B[1;33m\u001B[0m\u001B[1;33m\u001B[0m\u001B[0m\n",
      "\u001B[1;32mD:\\code\\jupyter_nb_data\\UMSI\\milestone2_waterwells_deepnote\\lib\\wsdatasets.py\u001B[0m in \u001B[0;36m_read_geospatial_file\u001B[1;34m(self, filename)\u001B[0m\n\u001B[0;32m     63\u001B[0m         \u001B[1;33m:\u001B[0m\u001B[1;32mreturn\u001B[0m\u001B[1;33m:\u001B[0m \u001B[0mthe\u001B[0m \u001B[0mGeoPandas\u001B[0m \u001B[0mDataframe\u001B[0m \u001B[1;32mwith\u001B[0m \u001B[0mprojection\u001B[0m \u001B[0mset\u001B[0m \u001B[0mto\u001B[0m \u001B[0mEPSG\u001B[0m\u001B[1;33m:\u001B[0m\u001B[1;36m4326\u001B[0m\u001B[1;33m\u001B[0m\u001B[1;33m\u001B[0m\u001B[0m\n\u001B[0;32m     64\u001B[0m         \"\"\"\n\u001B[1;32m---> 65\u001B[1;33m         \u001B[1;32mreturn\u001B[0m \u001B[0mgpd\u001B[0m\u001B[1;33m.\u001B[0m\u001B[0mread_file\u001B[0m\u001B[1;33m(\u001B[0m\u001B[0mfilename\u001B[0m\u001B[1;33m)\u001B[0m\u001B[1;33m.\u001B[0m\u001B[0mto_crs\u001B[0m\u001B[1;33m(\u001B[0m\u001B[0mepsg\u001B[0m\u001B[1;33m=\u001B[0m\u001B[1;36m4326\u001B[0m\u001B[1;33m)\u001B[0m\u001B[1;33m\u001B[0m\u001B[1;33m\u001B[0m\u001B[0m\n\u001B[0m\u001B[0;32m     66\u001B[0m \u001B[1;33m\u001B[0m\u001B[0m\n\u001B[0;32m     67\u001B[0m     \u001B[1;32mdef\u001B[0m \u001B[0m_read_input_datafile\u001B[0m\u001B[1;33m(\u001B[0m\u001B[0mself\u001B[0m\u001B[1;33m,\u001B[0m \u001B[0minput_datafile\u001B[0m\u001B[1;33m:\u001B[0m \u001B[0mstr\u001B[0m\u001B[1;33m,\u001B[0m \u001B[0minput_datafile_format\u001B[0m\u001B[1;33m:\u001B[0m \u001B[0mstr\u001B[0m \u001B[1;33m=\u001B[0m \u001B[1;34m\"csv\"\u001B[0m\u001B[1;33m)\u001B[0m \u001B[1;33m->\u001B[0m \u001B[0mpd\u001B[0m\u001B[1;33m.\u001B[0m\u001B[0mDataFrame\u001B[0m\u001B[1;33m:\u001B[0m\u001B[1;33m\u001B[0m\u001B[1;33m\u001B[0m\u001B[0m\n",
      "\u001B[1;32mD:\\anaconda3\\envs\\milestone2\\lib\\site-packages\\geopandas\\io\\file.py\u001B[0m in \u001B[0;36m_read_file\u001B[1;34m(filename, bbox, mask, rows, **kwargs)\u001B[0m\n\u001B[0;32m    242\u001B[0m                 )\n\u001B[0;32m    243\u001B[0m \u001B[1;33m\u001B[0m\u001B[0m\n\u001B[1;32m--> 244\u001B[1;33m             return GeoDataFrame.from_features(\n\u001B[0m\u001B[0;32m    245\u001B[0m                 \u001B[0mf_filt\u001B[0m\u001B[1;33m,\u001B[0m \u001B[0mcrs\u001B[0m\u001B[1;33m=\u001B[0m\u001B[0mcrs\u001B[0m\u001B[1;33m,\u001B[0m \u001B[0mcolumns\u001B[0m\u001B[1;33m=\u001B[0m\u001B[0mcolumns\u001B[0m \u001B[1;33m+\u001B[0m \u001B[1;33m[\u001B[0m\u001B[1;34m\"geometry\"\u001B[0m\u001B[1;33m]\u001B[0m\u001B[1;33m\u001B[0m\u001B[1;33m\u001B[0m\u001B[0m\n\u001B[0;32m    246\u001B[0m             )\n",
      "\u001B[1;32mD:\\anaconda3\\envs\\milestone2\\lib\\site-packages\\geopandas\\geodataframe.py\u001B[0m in \u001B[0;36mfrom_features\u001B[1;34m(cls, features, crs, columns)\u001B[0m\n\u001B[0;32m    603\u001B[0m                 \u001B[0mfeature\u001B[0m \u001B[1;33m=\u001B[0m \u001B[0mfeature\u001B[0m\u001B[1;33m.\u001B[0m\u001B[0m__geo_interface__\u001B[0m\u001B[1;33m\u001B[0m\u001B[1;33m\u001B[0m\u001B[0m\n\u001B[0;32m    604\u001B[0m             row = {\n\u001B[1;32m--> 605\u001B[1;33m                 \u001B[1;34m\"geometry\"\u001B[0m\u001B[1;33m:\u001B[0m \u001B[0mshape\u001B[0m\u001B[1;33m(\u001B[0m\u001B[0mfeature\u001B[0m\u001B[1;33m[\u001B[0m\u001B[1;34m\"geometry\"\u001B[0m\u001B[1;33m]\u001B[0m\u001B[1;33m)\u001B[0m \u001B[1;32mif\u001B[0m \u001B[0mfeature\u001B[0m\u001B[1;33m[\u001B[0m\u001B[1;34m\"geometry\"\u001B[0m\u001B[1;33m]\u001B[0m \u001B[1;32melse\u001B[0m \u001B[1;32mNone\u001B[0m\u001B[1;33m\u001B[0m\u001B[1;33m\u001B[0m\u001B[0m\n\u001B[0m\u001B[0;32m    606\u001B[0m             }\n\u001B[0;32m    607\u001B[0m             \u001B[1;31m# load properties\u001B[0m\u001B[1;33m\u001B[0m\u001B[1;33m\u001B[0m\u001B[0m\n",
      "\u001B[1;32mD:\\anaconda3\\envs\\milestone2\\lib\\site-packages\\shapely\\geometry\\geo.py\u001B[0m in \u001B[0;36mshape\u001B[1;34m(context)\u001B[0m\n\u001B[0;32m    110\u001B[0m         \u001B[1;32mreturn\u001B[0m \u001B[0mLinearRing\u001B[0m\u001B[1;33m(\u001B[0m\u001B[0mob\u001B[0m\u001B[1;33m[\u001B[0m\u001B[1;34m\"coordinates\"\u001B[0m\u001B[1;33m]\u001B[0m\u001B[1;33m)\u001B[0m\u001B[1;33m\u001B[0m\u001B[1;33m\u001B[0m\u001B[0m\n\u001B[0;32m    111\u001B[0m     \u001B[1;32melif\u001B[0m \u001B[0mgeom_type\u001B[0m \u001B[1;33m==\u001B[0m \u001B[1;34m\"polygon\"\u001B[0m\u001B[1;33m:\u001B[0m\u001B[1;33m\u001B[0m\u001B[1;33m\u001B[0m\u001B[0m\n\u001B[1;32m--> 112\u001B[1;33m         \u001B[1;32mreturn\u001B[0m \u001B[0mPolygon\u001B[0m\u001B[1;33m(\u001B[0m\u001B[0mob\u001B[0m\u001B[1;33m[\u001B[0m\u001B[1;34m\"coordinates\"\u001B[0m\u001B[1;33m]\u001B[0m\u001B[1;33m[\u001B[0m\u001B[1;36m0\u001B[0m\u001B[1;33m]\u001B[0m\u001B[1;33m,\u001B[0m \u001B[0mob\u001B[0m\u001B[1;33m[\u001B[0m\u001B[1;34m\"coordinates\"\u001B[0m\u001B[1;33m]\u001B[0m\u001B[1;33m[\u001B[0m\u001B[1;36m1\u001B[0m\u001B[1;33m:\u001B[0m\u001B[1;33m]\u001B[0m\u001B[1;33m)\u001B[0m\u001B[1;33m\u001B[0m\u001B[1;33m\u001B[0m\u001B[0m\n\u001B[0m\u001B[0;32m    113\u001B[0m     \u001B[1;32melif\u001B[0m \u001B[0mgeom_type\u001B[0m \u001B[1;33m==\u001B[0m \u001B[1;34m\"multipoint\"\u001B[0m\u001B[1;33m:\u001B[0m\u001B[1;33m\u001B[0m\u001B[1;33m\u001B[0m\u001B[0m\n\u001B[0;32m    114\u001B[0m         \u001B[1;32mreturn\u001B[0m \u001B[0mMultiPoint\u001B[0m\u001B[1;33m(\u001B[0m\u001B[0mob\u001B[0m\u001B[1;33m[\u001B[0m\u001B[1;34m\"coordinates\"\u001B[0m\u001B[1;33m]\u001B[0m\u001B[1;33m)\u001B[0m\u001B[1;33m\u001B[0m\u001B[1;33m\u001B[0m\u001B[0m\n",
      "\u001B[1;32mD:\\anaconda3\\envs\\milestone2\\lib\\site-packages\\shapely\\geometry\\polygon.py\u001B[0m in \u001B[0;36m__init__\u001B[1;34m(self, shell, holes)\u001B[0m\n\u001B[0;32m    259\u001B[0m \u001B[1;33m\u001B[0m\u001B[0m\n\u001B[0;32m    260\u001B[0m         \u001B[1;32mif\u001B[0m \u001B[0mshell\u001B[0m \u001B[1;32mis\u001B[0m \u001B[1;32mnot\u001B[0m \u001B[1;32mNone\u001B[0m\u001B[1;33m:\u001B[0m\u001B[1;33m\u001B[0m\u001B[1;33m\u001B[0m\u001B[0m\n\u001B[1;32m--> 261\u001B[1;33m             \u001B[0mret\u001B[0m \u001B[1;33m=\u001B[0m \u001B[0mgeos_polygon_from_py\u001B[0m\u001B[1;33m(\u001B[0m\u001B[0mshell\u001B[0m\u001B[1;33m,\u001B[0m \u001B[0mholes\u001B[0m\u001B[1;33m)\u001B[0m\u001B[1;33m\u001B[0m\u001B[1;33m\u001B[0m\u001B[0m\n\u001B[0m\u001B[0;32m    262\u001B[0m             \u001B[1;32mif\u001B[0m \u001B[0mret\u001B[0m \u001B[1;32mis\u001B[0m \u001B[1;32mnot\u001B[0m \u001B[1;32mNone\u001B[0m\u001B[1;33m:\u001B[0m\u001B[1;33m\u001B[0m\u001B[1;33m\u001B[0m\u001B[0m\n\u001B[0;32m    263\u001B[0m                 \u001B[0mgeom\u001B[0m\u001B[1;33m,\u001B[0m \u001B[0mn\u001B[0m \u001B[1;33m=\u001B[0m \u001B[0mret\u001B[0m\u001B[1;33m\u001B[0m\u001B[1;33m\u001B[0m\u001B[0m\n",
      "\u001B[1;32mD:\\anaconda3\\envs\\milestone2\\lib\\site-packages\\shapely\\geometry\\polygon.py\u001B[0m in \u001B[0;36mgeos_polygon_from_py\u001B[1;34m(shell, holes)\u001B[0m\n\u001B[0;32m    567\u001B[0m \u001B[1;33m\u001B[0m\u001B[0m\n\u001B[0;32m    568\u001B[0m         return (\n\u001B[1;32m--> 569\u001B[1;33m             lgeos.GEOSGeom_createPolygon(\n\u001B[0m\u001B[0;32m    570\u001B[0m                 c_void_p(geos_shell), geos_holes, L), ndim)\n",
      "\u001B[1;31mKeyboardInterrupt\u001B[0m: "
     ]
    }
   ],
   "execution_count": 3
  },
  {
   "cell_type": "markdown",
   "source": [
    "Pre-process the crops dataset to keep only the selected features for the final analysis."
   ],
   "metadata": {
    "collapsed": false,
    "pycharm": {
     "name": "#%% md\n"
    },
    "cell_id": "00004-7aeea1fb-ec16-40b0-b813-8e1a2b790952",
    "deepnote_cell_type": "markdown"
   }
  },
  {
   "cell_type": "code",
   "metadata": {
    "collapsed": false,
    "pycharm": {
     "name": "#%%\n"
    },
    "cell_id": "00005-3d8d9ee9-e76c-466f-bf29-f7dd34da9cc1",
    "deepnote_cell_type": "code"
   },
   "source": [
    "crops_dataset.preprocess_map_df(features_to_keep = [\"YEAR\", \"CROP_TYPE\", \"geometry\"], get_crops_details=True)"
   ],
   "outputs": [],
   "execution_count": null
  },
  {
   "cell_type": "code",
   "metadata": {
    "collapsed": false,
    "pycharm": {
     "name": "#%%\n"
    },
    "cell_id": "00006-099254e4-48d4-4f9d-be98-cf57bdb3ae71",
    "deepnote_cell_type": "code"
   },
   "source": [
    "crops_dataset.map_df"
   ],
   "outputs": [],
   "execution_count": null
  },
  {
   "cell_type": "markdown",
   "source": [
    "Overlay the San Joaquin Valley township boundaries on the Crops dataset to cut the crops land areas with the township boundaries, thus extracting all the crops types per townships."
   ],
   "metadata": {
    "collapsed": false,
    "pycharm": {
     "name": "#%% md\n"
    }
   }
  },
  {
   "cell_type": "markdown",
   "source": [],
   "metadata": {
    "pycharm": {
     "name": "#%% md\n"
    },
    "cell_id": "00007-97bbed43-4fc9-44a8-a2ff-837eb938e2d0",
    "deepnote_cell_type": "markdown"
   }
  },
  {
   "cell_type": "code",
   "metadata": {
    "collapsed": false,
    "pycharm": {
     "name": "#%%\n"
    },
    "cell_id": "00008-76c7a554-0176-4c09-a596-798a51ecc24a",
    "deepnote_cell_type": "code"
   },
   "source": [
    "crops_dataset.overlay_township_boundries()"
   ],
   "outputs": [],
   "execution_count": null
  },
  {
   "cell_type": "markdown",
   "source": [
    "Display the map of the 2018 Crops dataset"
   ],
   "metadata": {
    "collapsed": false,
    "pycharm": {
     "name": "#%% md\n"
    }
   }
  },
  {
   "cell_type": "code",
   "metadata": {
    "pycharm": {
     "name": "#%%\n"
    },
    "cell_id": "00009-de6e207a-cd45-4f4a-99c4-6ff80a30abae",
    "deepnote_cell_type": "code"
   },
   "source": [
    "# This geospatial dataset has too many small complex features to display on a Folium map or with Altair so we use Matplotlib here\n",
    "fig, ax = plt.subplots(figsize=(40,40))\n",
    "crops_dataset.map_df[crops_dataset.map_df[\"YEAR\"]==2018].plot(ax=ax, column=\"CROP_TYPE\", edgecolor='grey', linewidth = 1, cmap=None, legend=True)\n",
    "crops_dataset.sjv_township_range_df.plot(ax=ax, facecolor=\"none\", edgecolor='black', linewidth = 1, cmap=None, legend=None)\n",
    "plt.show()"
   ],
   "execution_count": null,
   "outputs": []
  },
  {
   "cell_type": "markdown",
   "source": [
    "The Crops datasets is further modified as follow:\n",
    "1. Missing townships are filled with the \"X - Unclassified\" class from the Crops datasets to inlude them in the dataset.\n",
    "2. Data for the year 2014 are used to fill the 2015 data, the 2016 for 2017 and the 2018 for the years 2019~.\n",
    "3. The dataframe is then pivoted so that each `CROP_TYPE`becomes a feature\n",
    "4. features matching the below criteria are dropped:\n",
    "    * cover less than 5% of the land surface of every township for any given year\n",
    "    * and `[\"X - Not Classified\", \"U - Urban\", \"NR - Native Riparian\"]` classes are dropped\n",
    "\n",
    "Note that the result of 1 and 4 is that the missing Township-Ranges will then be in the dataset with a land surface value of `0? for every type of crop."
   ],
   "metadata": {
    "collapsed": false,
    "pycharm": {
     "name": "#%% md\n"
    }
   }
  },
  {
   "cell_type": "code",
   "execution_count": 4,
   "outputs": [
    {
     "ename": "NameError",
     "evalue": "name 'crops_dataset' is not defined",
     "output_type": "error",
     "traceback": [
      "\u001B[1;31m---------------------------------------------------------------------------\u001B[0m",
      "\u001B[1;31mNameError\u001B[0m                                 Traceback (most recent call last)",
      "\u001B[1;32mD:\\Users\\Matthieu\\AppData\\Local\\Temp/ipykernel_7712/3437011041.py\u001B[0m in \u001B[0;36m<module>\u001B[1;34m\u001B[0m\n\u001B[1;32m----> 1\u001B[1;33m \u001B[0mcrops_dataset\u001B[0m\u001B[1;33m.\u001B[0m\u001B[0mfill_missing_years\u001B[0m\u001B[1;33m(\u001B[0m\u001B[1;33m)\u001B[0m\u001B[1;33m\u001B[0m\u001B[1;33m\u001B[0m\u001B[0m\n\u001B[0m\u001B[0;32m      2\u001B[0m \u001B[0mcrops_dataset\u001B[0m\u001B[1;33m.\u001B[0m\u001B[0mfill_townships_with_no_data\u001B[0m\u001B[1;33m(\u001B[0m\u001B[0mfeatures_to_fill\u001B[0m\u001B[1;33m=\u001B[0m\u001B[1;33m[\u001B[0m\u001B[1;34m\"CROP_TYPE\"\u001B[0m\u001B[1;33m]\u001B[0m\u001B[1;33m,\u001B[0m \u001B[0mfeature_value\u001B[0m\u001B[1;33m=\u001B[0m\u001B[1;34m\"X\"\u001B[0m\u001B[1;33m)\u001B[0m\u001B[1;33m\u001B[0m\u001B[1;33m\u001B[0m\u001B[0m\n\u001B[0;32m      3\u001B[0m \u001B[0mcrops_dataset\u001B[0m\u001B[1;33m.\u001B[0m\u001B[0mpivot_township_categorical_feature_for_output\u001B[0m\u001B[1;33m(\u001B[0m\u001B[0mfeature_name\u001B[0m\u001B[1;33m=\u001B[0m\u001B[1;34m\"CROP_TYPE\"\u001B[0m\u001B[1;33m,\u001B[0m \u001B[0mfeature_prefix\u001B[0m\u001B[1;33m=\u001B[0m\u001B[1;34m\"CROP\"\u001B[0m\u001B[1;33m)\u001B[0m\u001B[1;33m\u001B[0m\u001B[1;33m\u001B[0m\u001B[0m\n\u001B[0;32m      4\u001B[0m \u001B[0mcrops_dataset\u001B[0m\u001B[1;33m.\u001B[0m\u001B[0mdrop_features\u001B[0m\u001B[1;33m(\u001B[0m\u001B[0mdrop_rate\u001B[0m\u001B[1;33m=\u001B[0m\u001B[1;36m0.05\u001B[0m\u001B[1;33m,\u001B[0m \u001B[0munwanted_features\u001B[0m\u001B[1;33m=\u001B[0m\u001B[1;33m[\u001B[0m\u001B[1;34m\"CROP_X\"\u001B[0m\u001B[1;33m,\u001B[0m \u001B[1;34m\"CROP_U\"\u001B[0m\u001B[1;33m,\u001B[0m \u001B[1;34m\"CROP_NR\"\u001B[0m\u001B[1;33m]\u001B[0m\u001B[1;33m)\u001B[0m\u001B[1;33m\u001B[0m\u001B[1;33m\u001B[0m\u001B[0m\n",
      "\u001B[1;31mNameError\u001B[0m: name 'crops_dataset' is not defined"
     ]
    }
   ],
   "source": [
    "crops_dataset.fill_missing_years()\n",
    "crops_dataset.fill_townships_with_no_data(features_to_fill=[\"CROP_TYPE\"], feature_value=\"X\")\n",
    "crops_dataset.pivot_township_categorical_feature_for_output(feature_name=\"CROP_TYPE\", feature_prefix=\"CROP\")\n",
    "crops_dataset.drop_features(drop_rate=0.05, unwanted_features=[\"CROP_X\", \"CROP_U\", \"CROP_NR\"])"
   ],
   "metadata": {
    "collapsed": false,
    "pycharm": {
     "name": "#%%\n"
    }
   }
  },
  {
   "cell_type": "code",
   "execution_count": null,
   "outputs": [],
   "source": [
    "crops_dataset.output_df"
   ],
   "metadata": {
    "collapsed": false,
    "pycharm": {
     "name": "#%%\n"
    }
   }
  },
  {
   "cell_type": "code",
   "execution_count": null,
   "outputs": [],
   "source": [
    "crops_dataset.output_dataset_to_csv(\"../assets/outputs/crops_detailed.csv\")"
   ],
   "metadata": {
    "collapsed": false,
    "pycharm": {
     "name": "#%%\n"
    }
   }
  },
  {
   "cell_type": "code",
   "execution_count": null,
   "outputs": [],
   "source": [],
   "metadata": {
    "collapsed": false,
    "pycharm": {
     "name": "#%%\n"
    }
   }
  }
 ],
 "nbformat": 4,
 "nbformat_minor": 1,
 "metadata": {
  "kernelspec": {
   "display_name": "Python 3 (ipykernel)",
   "language": "python",
   "name": "python3"
  },
  "language_info": {
   "codemirror_mode": {
    "name": "ipython",
    "version": 3
   },
   "file_extension": ".py",
   "mimetype": "text/x-python",
   "name": "python",
   "nbconvert_exporter": "python",
   "pygments_lexer": "ipython3",
   "version": "3.9.7"
  },
  "deepnote_notebook_id": "ccb11fed-5e07-4abf-a079-515be8d9c8ec",
  "deepnote": {},
  "deepnote_execution_queue": []
 }
}