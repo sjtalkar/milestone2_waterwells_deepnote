{
 "cells": [
  {
   "cell_type": "markdown",
   "id": "74520828",
   "metadata": {
    "cell_id": "4500339f-1db4-4ecd-b8e3-4f7fd1ae4e2d",
    "deepnote_cell_height": 292.984375,
    "deepnote_cell_type": "markdown",
    "tags": []
   },
   "source": [
    "# San Joaquin Valley Township Precipitation Data and Stations\n",
    "\n",
    "Related links:\n",
    "\n",
    "* For the documentation about this dataset, its source, how to download, and the features of interest, please refer to our [Well Completion Reports Dataset](/doc/assets/precipitation.md) documentation.\n",
    "* For the explanations about the Public Land Survey System Township Range, please refer to our [Public Land Survey System](../assets/plss_sanjoaquin_riverbasin.md) documentation.\n",
    "* For the explanations on how we transform point measurements of precipitation by weather stations into township precipitation estimates, please refer to our [Transforming Point Values into Township Values](doc/etl/from_point_to_region_values.md) documentation.\n"
   ]
  },
  {
   "cell_type": "code",
   "execution_count": 17,
   "id": "fe279bd9",
   "metadata": {
    "cell_id": "a71454a5-c1f5-4ced-b1af-f86a6ccd3a65",
    "deepnote_cell_height": 99,
    "deepnote_cell_type": "code",
    "deepnote_to_be_reexecuted": false,
    "execution_millis": 1,
    "execution_start": 1647724564096,
    "source_hash": "95f93ff1",
    "tags": []
   },
   "outputs": [],
   "source": [
    "import sys\n",
    "sys.path.append('..')"
   ]
  },
  {
   "cell_type": "code",
   "execution_count": 18,
   "id": "0ed8ba12",
   "metadata": {
    "cell_id": "8ca11c00-8132-4b7b-819c-fd14a6a725e2",
    "deepnote_cell_height": 81,
    "deepnote_cell_type": "code",
    "deepnote_to_be_reexecuted": false,
    "execution_millis": 13,
    "execution_start": 1647560492209,
    "source_hash": "c735b9cc",
    "tags": []
   },
   "outputs": [],
   "source": [
    "import matplotlib.pyplot as plt\n",
    "import altair as alt\n",
    "from lib.precipitation_v2 import PrecipitationDataset\n",
    "from lib.viz_matplotlib import plot_townships_feature_per_year"
   ]
  },
  {
   "cell_type": "markdown",
   "id": "cf06d6bc",
   "metadata": {
    "pycharm": {
     "name": "#%% md\n"
    }
   },
   "source": [
    "By initializing the PrecipitationDataset class, it automatically:\n",
    "* scraps the web to retrieve the precipitation data for the state of California (default is between 2013 and 2022)\n",
    "* scraps the web to retrieve the geospatial data of the precipitation stations in California"
   ]
  },
  {
   "cell_type": "code",
   "execution_count": null,
   "id": "f36a9aae",
   "metadata": {
    "cell_id": "d95b2887-812a-46de-8225-ce3221ce553b",
    "deepnote_cell_height": 81,
    "deepnote_cell_type": "code",
    "deepnote_to_be_reexecuted": false,
    "execution_millis": 3,
    "execution_start": 1647560492234,
    "source_hash": "eb397a2",
    "tags": [],
    "pycharm": {
     "is_executing": true
    }
   },
   "outputs": [],
   "source": [
    "precipitation_dataset = PrecipitationDataset()"
   ]
  },
  {
   "cell_type": "markdown",
   "id": "5de44454",
   "metadata": {
    "pycharm": {
     "name": "#%% md\n"
    }
   },
   "source": [
    "Here is an overview of the monthly precipitation data scrapped from the web."
   ]
  },
  {
   "cell_type": "code",
   "execution_count": null,
   "id": "94a49029",
   "metadata": {
    "cell_id": "8ca83810-389c-400a-a1a8-656b5fc87e06",
    "deepnote_cell_height": 613.265625,
    "deepnote_cell_type": "code",
    "deepnote_to_be_reexecuted": false,
    "execution_millis": 7468,
    "execution_start": 1647560495106,
    "source_hash": "851de95f",
    "tags": [],
    "pycharm": {
     "is_executing": true
    }
   },
   "outputs": [],
   "source": [
    "precipitation_dataset.data_df"
   ]
  },
  {
   "cell_type": "markdown",
   "id": "f621301b",
   "metadata": {
    "pycharm": {
     "name": "#%% md\n"
    }
   },
   "source": [
    "By default the precipitation data are collected for the following years:"
   ]
  },
  {
   "cell_type": "code",
   "execution_count": null,
   "id": "da6dd91f",
   "metadata": {
    "cell_id": "8b464758-3841-4eaa-9ad4-b5f3414a7bf2",
    "deepnote_cell_height": 118.171875,
    "deepnote_cell_type": "code",
    "deepnote_output_heights": [
     21.1875
    ],
    "deepnote_to_be_reexecuted": false,
    "execution_millis": 1,
    "execution_start": 1647560314672,
    "source_hash": "56651a33",
    "tags": [],
    "pycharm": {
     "is_executing": true
    }
   },
   "outputs": [],
   "source": [
    "list(precipitation_dataset.data_df.YEAR.unique())"
   ]
  },
  {
   "cell_type": "markdown",
   "id": "d4b59a14",
   "metadata": {},
   "source": [
    "Here is an overview of the precipitation stations geospatial data scrapped from the web."
   ]
  },
  {
   "cell_type": "code",
   "execution_count": null,
   "id": "01bab0ab",
   "metadata": {
    "pycharm": {
     "name": "#%%\n",
     "is_executing": true
    }
   },
   "outputs": [],
   "source": [
    "precipitation_dataset.map_df"
   ]
  },
  {
   "cell_type": "code",
   "execution_count": null,
   "id": "dc1effb5",
   "metadata": {
    "cell_id": "aa52541a-6960-4d34-a6bd-cc37b4537101",
    "deepnote_cell_height": 631.265625,
    "deepnote_cell_type": "code",
    "deepnote_to_be_reexecuted": false,
    "execution_millis": 274,
    "execution_start": 1647560531538,
    "source_hash": "f27f08bf",
    "tags": [],
    "pycharm": {
     "is_executing": true
    }
   },
   "outputs": [],
   "source": [
    "precipitation_dataset.preprocess_map_df()\n",
    "precipitation_dataset.merge_map_with_data(\"inner\", dropna=True)\n",
    "precipitation_dataset.map_df"
   ]
  },
  {
   "cell_type": "markdown",
   "id": "633ea822",
   "metadata": {
    "pycharm": {
     "name": "#%% md\n"
    }
   },
   "source": [
    "Let's look at California's precipitation recording station locations compared to the San Joaquin Valley townships for the year 2021"
   ]
  },
  {
   "cell_type": "code",
   "execution_count": null,
   "id": "97506a09",
   "metadata": {
    "pycharm": {
     "name": "#%%\n",
     "is_executing": true
    }
   },
   "outputs": [],
   "source": [
    "fig, ax = plt.subplots(figsize=(30,30))\n",
    "precipitation_dataset.ca_boundaries.plot(ax=ax, facecolor=\"none\", edgecolor='black', linewidth = 1, cmap=None, legend=None)\n",
    "precipitation_dataset.sjv_boundaries.plot(ax=ax, facecolor=\"grey\", edgecolor='black', linewidth = 1, cmap=None, legend=None)\n",
    "precipitation_dataset.map_df[precipitation_dataset.map_df[\"YEAR\"]==2021].plot(ax=ax, edgecolor='black', linewidth = 1, cmap=\"rainbow\", legend=True)\n",
    "plt.show()"
   ]
  },
  {
   "cell_type": "markdown",
   "id": "5a5a4012",
   "metadata": {
    "pycharm": {
     "name": "#%% md\n"
    }
   },
   "source": [
    "Next, based on the precipitation station points, we compute Voronoi Diagram with the Thiessen Polygon for each station"
   ]
  },
  {
   "cell_type": "code",
   "execution_count": null,
   "id": "c2322ee2",
   "metadata": {
    "pycharm": {
     "name": "#%%\n",
     "is_executing": true
    }
   },
   "outputs": [],
   "source": [
    "precipitation_dataset.compute_areas_from_points()"
   ]
  },
  {
   "cell_type": "code",
   "execution_count": null,
   "id": "ba65cad8",
   "metadata": {
    "pycharm": {
     "name": "#%%\n",
     "is_executing": true
    }
   },
   "outputs": [],
   "source": [
    "fig, ax = plt.subplots(figsize=(30,30))\n",
    "precipitation_dataset.map_df[precipitation_dataset.map_df[\"YEAR\"]==2021].plot(ax=ax, column=\"AVERAGE_YEARLY_PRECIPITATION\",\n",
    "                                                                              edgecolor='black', linewidth = 1, cmap=\"Blues\", legend=True)\n",
    "precipitation_dataset.map_df[precipitation_dataset.map_df[\"YEAR\"]==2021].points.plot(ax=ax, facecolor=\"black\", edgecolor='black', linewidth = 1)\n",
    "precipitation_dataset.ca_boundaries.plot(ax=ax, facecolor=\"none\", edgecolor='black', linewidth = 1, cmap=None, legend=None)\n",
    "plt.show()"
   ]
  },
  {
   "cell_type": "markdown",
   "id": "96e81081",
   "metadata": {
    "pycharm": {
     "name": "#%% md\n"
    }
   },
   "source": [
    "Then we clip the data to the San Joaquin Valley boundaries and overlay the Township boundaries"
   ]
  },
  {
   "cell_type": "code",
   "execution_count": null,
   "id": "d4d74b5d",
   "metadata": {
    "pycharm": {
     "name": "#%%\n",
     "is_executing": true
    }
   },
   "outputs": [],
   "source": [
    "precipitation_dataset.overlay_township_boundries()\n",
    "precipitation_dataset.map_df"
   ]
  },
  {
   "cell_type": "code",
   "execution_count": null,
   "outputs": [],
   "source": [
    "fig, ax = plt.subplots(figsize=(30,30))\n",
    "precipitation_dataset.map_df[precipitation_dataset.map_df[\"YEAR\"]==2021].plot(ax=ax, column=\"AVERAGE_YEARLY_PRECIPITATION\",\n",
    "                                                                              edgecolor='black', linewidth = 1, cmap=\"Blues\", legend=True)\n",
    "precipitation_dataset.map_df[precipitation_dataset.map_df[\"YEAR\"]==2021].points.plot(ax=ax, facecolor=\"black\", edgecolor='black', linewidth = 1)\n",
    "plt.show()"
   ],
   "metadata": {
    "collapsed": false,
    "pycharm": {
     "name": "#%%\n",
     "is_executing": true
    }
   }
  },
  {
   "cell_type": "markdown",
   "source": [
    "Because of the way we [transform point measurements of precipitation by weather stations into township precipitation estimates](doc/etl/from_point_to_region_values.md), although there are 16 weather stations in the San Joaquin Valley, a total of 33 stations are use to estimate the county-townships precipitations. Looking at their value average yearly precipitation measurement per year, we get."
   ],
   "metadata": {
    "collapsed": false
   }
  },
  {
   "cell_type": "code",
   "execution_count": null,
   "outputs": [],
   "source": [
    "station_precipitation_per_year_df = precipitation_dataset.map_df[[\"YEAR\", \"AVERAGE_YEARLY_PRECIPITATION\", \"STATION_NAME\"]].drop_duplicates()\n",
    "alt.Chart(station_precipitation_per_year_df).mark_bar().encode( x=\"YEAR:N\",y='AVERAGE_YEARLY_PRECIPITATION:Q', color='STATION_NAME:N')"
   ],
   "metadata": {
    "collapsed": false,
    "pycharm": {
     "name": "#%%\n",
     "is_executing": true
    }
   }
  },
  {
   "cell_type": "markdown",
   "source": [
    "We then compute the precipitation value at the Township level. As some townships cross several Voronoïd areas, for every year, for every Township we take the mean of the values of the Voronoïd areas crossing that Township."
   ],
   "metadata": {
    "collapsed": false
   }
  },
  {
   "cell_type": "code",
   "execution_count": null,
   "outputs": [],
   "source": [
    "precipitation_dataset.aggregate_feature_at_township_level(group_by_features=[\"TOWNSHIP\", \"YEAR\"],\n",
    "                                                          feature_to_aggregate_on=\"AVERAGE_YEARLY_PRECIPITATION\")\n",
    "precipitation_dataset.map_df"
   ],
   "metadata": {
    "collapsed": false,
    "pycharm": {
     "name": "#%%\n",
     "is_executing": true
    }
   }
  },
  {
   "cell_type": "code",
   "execution_count": null,
   "outputs": [],
   "source": [
    "plot_townships_feature_per_year(precipitation_dataset.map_df, feature_name=\"AVERAGE_YEARLY_PRECIPITATION\", cmap=\"Blues\")"
   ],
   "metadata": {
    "collapsed": false,
    "pycharm": {
     "name": "#%%\n",
     "is_executing": true
    }
   }
  },
  {
   "cell_type": "markdown",
   "source": [
    "The dataset is ready for output"
   ],
   "metadata": {
    "collapsed": false,
    "pycharm": {
     "name": "#%% md\n"
    }
   }
  },
  {
   "cell_type": "code",
   "execution_count": null,
   "outputs": [],
   "source": [
    "precipitation_dataset.prepare_output_from_map_df()\n",
    "precipitation_dataset.output_df.to_csv(\"../assets/outputs/precipitations.csv\")\n",
    "precipitation_dataset.output_df"
   ],
   "metadata": {
    "collapsed": false,
    "pycharm": {
     "name": "#%%\n",
     "is_executing": true
    }
   }
  },
  {
   "cell_type": "code",
   "execution_count": null,
   "outputs": [],
   "source": [],
   "metadata": {
    "collapsed": false,
    "pycharm": {
     "name": "#%%\n",
     "is_executing": true
    }
   }
  }
 ],
 "metadata": {
  "deepnote": {},
  "deepnote_execution_queue": [],
  "deepnote_notebook_id": "24a8cb1f-14c4-4e46-8e52-6385c9b447a7",
  "kernelspec": {
   "display_name": "Python 3 (ipykernel)",
   "language": "python",
   "name": "python3"
  },
  "language_info": {
   "codemirror_mode": {
    "name": "ipython",
    "version": 3
   },
   "file_extension": ".py",
   "mimetype": "text/x-python",
   "name": "python",
   "nbconvert_exporter": "python",
   "pygments_lexer": "ipython3",
   "version": "3.9.7"
  }
 },
 "nbformat": 4,
 "nbformat_minor": 5
}