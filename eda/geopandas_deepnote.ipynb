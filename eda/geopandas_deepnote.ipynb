{
 "cells": [
  {
   "cell_type": "markdown",
   "source": "## [Public Land Survey System - PLSS:Township and Range](https://data.ca.gov/dataset/public-land-survey-system-plss-township-and-range)\n\n- Source for geojson download\n- The Township and Range coordinate system has been used since the 1790s to survey public lands in the United States. Technically, the official name of this system is the Public Land Rectangular Survey (PLS), but in practical use, most people call it Township and Range.\n\n- Townships are rectangular blocks of land about 6 miles square. The squares are gridded and numbered according to their position north or south of the base line. \n- Ranges are columns of townships set side by side. They are numbered starting at the meridian that runs through the point of origin of each system. Ranges run east and west.\n- Sections represent further divisions of a township. A township can be divided into 36 sections. Each section is about 1 square mile\n- NOTE : To restrict analysis to San Joaquin basin, PLSS is take from LA Times site\n\n[Source](https://www.nwcg.gov/course/ffm/location/611-base-township-range-sections-corners)",
   "metadata": {
    "cell_id": "05e3c6fa-c1c2-4564-b3ba-d9012a4b2473",
    "tags": [],
    "deepnote_cell_type": "markdown"
   }
  },
  {
   "cell_type": "markdown",
   "source": "### Place geopandas module in requirements.txt.\n- No other installation required.",
   "metadata": {
    "cell_id": "9508e335-b9a3-44df-b63e-f09d59bebc28",
    "tags": [],
    "deepnote_cell_type": "markdown"
   }
  },
  {
   "cell_type": "code",
   "source": "",
   "metadata": {
    "cell_id": "26221428-1d53-479a-b912-42a8e461d989",
    "tags": [],
    "deepnote_to_be_reexecuted": false,
    "source_hash": "31b22e7f",
    "execution_start": 1645571951086,
    "execution_millis": 362,
    "deepnote_cell_type": "code"
   },
   "outputs": [],
   "execution_count": null
  },
  {
   "cell_type": "code",
   "metadata": {
    "cell_id": "309c606e-64c6-4653-8eca-f2882f71012f",
    "tags": [],
    "deepnote_to_be_reexecuted": false,
    "source_hash": "fbaa8010",
    "execution_start": 1645574423226,
    "execution_millis": 4557,
    "deepnote_cell_type": "code"
   },
   "source": "# load the plss shapefile (these only include TRS areas that are within the San Joaquin subbasin)\nimport geopandas as gpd\nimport pandas as pd\nimport gpdvega \nimport altair as alt\nplss = gpd.read_file(r\"../assets/plss_subbasin.geojson\")",
   "outputs": [
    {
     "name": "stderr",
     "text": "/root/venv/lib/python3.9/site-packages/geopandas/_compat.py:111: UserWarning: The Shapely GEOS version (3.10.2-CAPI-1.16.0) is incompatible with the GEOS version PyGEOS was compiled with (3.10.1-CAPI-1.16.0). Conversions between both will be slow.\n  warnings.warn(\n",
     "output_type": "stream"
    }
   ],
   "execution_count": null
  },
  {
   "cell_type": "code",
   "metadata": {
    "cell_id": "eb99d543-88fe-411f-ba28-fcd916f12e58",
    "tags": [],
    "deepnote_to_be_reexecuted": false,
    "source_hash": "465323bb",
    "execution_start": 1645062675613,
    "execution_millis": 58,
    "deepnote_cell_type": "code"
   },
   "source": "plss.sample()",
   "execution_count": null,
   "outputs": [
    {
     "output_type": "execute_result",
     "execution_count": 4,
     "data": {
      "application/vnd.deepnote.dataframe.v3+json": {
       "column_count": 9,
       "row_count": 1,
       "columns": [
        {
         "name": "OBJECTID",
         "dtype": "int64",
         "stats": {
          "unique_count": 1,
          "nan_count": 0,
          "min": "11057",
          "max": "11057",
          "histogram": [
           {
            "bin_start": 11056.5,
            "bin_end": 11056.6,
            "count": 0
           },
           {
            "bin_start": 11056.6,
            "bin_end": 11056.7,
            "count": 0
           },
           {
            "bin_start": 11056.7,
            "bin_end": 11056.8,
            "count": 0
           },
           {
            "bin_start": 11056.8,
            "bin_end": 11056.9,
            "count": 0
           },
           {
            "bin_start": 11056.9,
            "bin_end": 11057,
            "count": 0
           },
           {
            "bin_start": 11057,
            "bin_end": 11057.1,
            "count": 1
           },
           {
            "bin_start": 11057.1,
            "bin_end": 11057.2,
            "count": 0
           },
           {
            "bin_start": 11057.2,
            "bin_end": 11057.3,
            "count": 0
           },
           {
            "bin_start": 11057.3,
            "bin_end": 11057.4,
            "count": 0
           },
           {
            "bin_start": 11057.4,
            "bin_end": 11057.5,
            "count": 0
           }
          ]
         }
        },
        {
         "name": "Township",
         "dtype": "object",
         "stats": {
          "unique_count": 1,
          "nan_count": 0,
          "categories": [
           {
            "name": "T02N",
            "count": 1
           }
          ]
         }
        },
        {
         "name": "Range",
         "dtype": "object",
         "stats": {
          "unique_count": 1,
          "nan_count": 0,
          "categories": [
           {
            "name": "R05E",
            "count": 1
           }
          ]
         }
        },
        {
         "name": "Meridian",
         "dtype": "object",
         "stats": {
          "unique_count": 1,
          "nan_count": 0,
          "categories": [
           {
            "name": "MDM",
            "count": 1
           }
          ]
         }
        },
        {
         "name": "Source",
         "dtype": "object",
         "stats": {
          "unique_count": 1,
          "nan_count": 0,
          "categories": [
           {
            "name": "DGR",
            "count": 1
           }
          ]
         }
        },
        {
         "name": "Section",
         "dtype": "int64",
         "stats": {
          "unique_count": 1,
          "nan_count": 0,
          "min": "19",
          "max": "19",
          "histogram": [
           {
            "bin_start": 18.5,
            "bin_end": 18.6,
            "count": 0
           },
           {
            "bin_start": 18.6,
            "bin_end": 18.7,
            "count": 0
           },
           {
            "bin_start": 18.7,
            "bin_end": 18.8,
            "count": 0
           },
           {
            "bin_start": 18.8,
            "bin_end": 18.9,
            "count": 0
           },
           {
            "bin_start": 18.9,
            "bin_end": 19,
            "count": 0
           },
           {
            "bin_start": 19,
            "bin_end": 19.1,
            "count": 1
           },
           {
            "bin_start": 19.1,
            "bin_end": 19.2,
            "count": 0
           },
           {
            "bin_start": 19.2,
            "bin_end": 19.3,
            "count": 0
           },
           {
            "bin_start": 19.3,
            "bin_end": 19.4,
            "count": 0
           },
           {
            "bin_start": 19.4,
            "bin_end": 19.5,
            "count": 0
           }
          ]
         }
        },
        {
         "name": "MTRS",
         "dtype": "object",
         "stats": {
          "unique_count": 1,
          "nan_count": 0,
          "categories": [
           {
            "name": "MDM-T02N-R05E-19",
            "count": 1
           }
          ]
         }
        },
        {
         "name": "TownshipRange",
         "dtype": "object",
         "stats": {
          "unique_count": 1,
          "nan_count": 0,
          "categories": [
           {
            "name": "T02N R05E",
            "count": 1
           }
          ]
         }
        },
        {
         "name": "geometry",
         "dtype": "geometry",
         "stats": {
          "unique_count": 1,
          "nan_count": 0,
          "categories": [
           {
            "name": "MULTIPOLYGON (((-121.45890309534279 37.99924503315227, -121.45920809754837 38.01271703411433, -121.4592111059087 38.01380187649845, -121.46021909679072 38.01380403479735, -121.47727710005388 38.0138420334987, -121.47723009795573 37.999190031961156, -121.45890309534279 37.99924503315227)))",
            "count": 1
           }
          ]
         }
        },
        {
         "name": "_deepnote_index_column",
         "dtype": "int64"
        }
       ],
       "rows": [
        {
         "OBJECTID": 11057,
         "Township": "T02N",
         "Range": "R05E",
         "Meridian": "MDM",
         "Source": "DGR",
         "Section": 19,
         "MTRS": "MDM-T02N-R05E-19",
         "TownshipRange": "T02N R05E",
         "geometry": "MULTIPOLYGON (((-121.45890309534279 37.99924503315227, -121.45920809754837 38.01271703411433, -121.…",
         "_deepnote_index_column": 858
        }
       ]
      },
      "text/plain": "     OBJECTID Township Range Meridian Source  Section              MTRS  \\\n858     11057     T02N  R05E      MDM    DGR       19  MDM-T02N-R05E-19   \n\n    TownshipRange                                           geometry  \n858     T02N R05E  MULTIPOLYGON (((-121.45890 37.99925, -121.4592...  ",
      "text/html": "<div>\n<style scoped>\n    .dataframe tbody tr th:only-of-type {\n        vertical-align: middle;\n    }\n\n    .dataframe tbody tr th {\n        vertical-align: top;\n    }\n\n    .dataframe thead th {\n        text-align: right;\n    }\n</style>\n<table border=\"1\" class=\"dataframe\">\n  <thead>\n    <tr style=\"text-align: right;\">\n      <th></th>\n      <th>OBJECTID</th>\n      <th>Township</th>\n      <th>Range</th>\n      <th>Meridian</th>\n      <th>Source</th>\n      <th>Section</th>\n      <th>MTRS</th>\n      <th>TownshipRange</th>\n      <th>geometry</th>\n    </tr>\n  </thead>\n  <tbody>\n    <tr>\n      <th>858</th>\n      <td>11057</td>\n      <td>T02N</td>\n      <td>R05E</td>\n      <td>MDM</td>\n      <td>DGR</td>\n      <td>19</td>\n      <td>MDM-T02N-R05E-19</td>\n      <td>T02N R05E</td>\n      <td>MULTIPOLYGON (((-121.45890 37.99925, -121.4592...</td>\n    </tr>\n  </tbody>\n</table>\n</div>"
     },
     "metadata": {}
    }
   ]
  },
  {
   "cell_type": "markdown",
   "source": "#### Convert latitude and longitude to geometry.\n- [Convert the latitude and longitude to Shapely points](https://geopandas.org/en/stable/docs/reference/api/geopandas.points_from_xy.html)\n- [Set the Coordinate Reference System (CRS) of the GeoDataFrame.](https://geopandas.org/en/stable/docs/reference/api/geopandas.GeoDataFrame.set_crs.html)\n- The dataframe can then be joined to the PLSS geojson seen above.",
   "metadata": {
    "cell_id": "725fc429-753f-453f-ba1b-8ffd71a5d57b",
    "tags": [],
    "deepnote_cell_type": "markdown"
   }
  },
  {
   "cell_type": "markdown",
   "source": "## Population Density Data",
   "metadata": {
    "cell_id": "0a8f79c9-c986-458e-97fd-1fe3e25763be",
    "tags": [],
    "deepnote_cell_type": "markdown"
   }
  },
  {
   "cell_type": "markdown",
   "source": "TIGER/Line Shapefiles do not include demographic data, but they do contain geographic entity codes (GEOIDs) that can be linked to the Census Bureau’s demographic data, available on Explore Census Data.\n\n[Get it here](TIGER/Line Shapefiles do not include demographic data, but they do contain geographic entity codes (GEOIDs) that can be linked to the Census Bureau’s demographic data, available on Explore Census Data.)\n\n\nData:\nhttps://census.ca.gov/htc-map/\nhttps://cacensus.maps.arcgis.com/apps/webappviewer/index.html?id=48be59de0ba94a3dacff1c9116df8b37\n\nWant to download a slice of data? Go to the attribute table, zoom in to a desired area on the map or click on “options” and make a filter expression. Then click “export all to CSV.”\n\nWhat I did: Click on the up arrow at the bottom of the map This brings up the data table and Export All to CSV. \n\n\nCensus Data API\nhttps://pypi.org/project/CensusData/\npip install CensusData\nhttps://www.census.gov/content/dam/Census/library/publications/2020/acs/acs_api_handbook_2020_ch02.pdf\n\n## Weather data\n\nhttps://cdec.water.ca.gov/staInfo.html\nhttps://cdec.water.ca.gov/reportapp/javareports?name=MonthlyPrecip\n\nhttps://www.ncdc.noaa.gov/cag/county/mapping/\n\n#### Monthly precipitation by station\nNote: In power Automate I looped through 2015 through 2022 data\n\nhttps://cdec.water.ca.gov/reportapp/javareports?name=PRECIPMON.2020\n\n",
   "metadata": {
    "cell_id": "e0b18fd1-ade7-4786-8778-dec6b8c86c21",
    "tags": [],
    "deepnote_cell_type": "markdown"
   }
  },
  {
   "cell_type": "markdown",
   "source": "",
   "metadata": {
    "cell_id": "bf44fed3-d3da-4bb8-b503-044a728d56e8",
    "tags": [],
    "deepnote_cell_type": "markdown"
   }
  },
  {
   "cell_type": "markdown",
   "source": "#### Use these three\n\n- https://cdec.water.ca.gov/reportapp/javareports?name=MonthlyPrecip\n- https://cdec.water.ca.gov/reportapp/javareports?name=PRECIPMON.2020\n- https://cdec.water.ca.gov/reportapp/javareports?name=MonthlyStations\n- https://maps.princeton.edu/catalog/stanford-qm900hk8690\n\n- San Joaquin valley Shapefiles in detail\n- http://sjmap.org/GISDataDownload.htm",
   "metadata": {
    "cell_id": "a75c6390-ec32-41d2-9a78-137a01b0e2d9",
    "tags": [],
    "deepnote_cell_type": "markdown"
   }
  },
  {
   "cell_type": "markdown",
   "source": "",
   "metadata": {
    "cell_id": "86f6dcdd-055f-4a50-9224-bbf2fbeffca2",
    "tags": [],
    "deepnote_cell_type": "markdown"
   }
  },
  {
   "cell_type": "markdown",
   "source": "## Charting the population at a tract level",
   "metadata": {
    "cell_id": "b9a3061c-52e0-48e0-a459-4326bf9fdc79",
    "tags": [],
    "deepnote_cell_type": "markdown"
   }
  },
  {
   "cell_type": "code",
   "source": "",
   "metadata": {
    "cell_id": "f05c064a-a9e9-4309-858f-cea3d18366a4",
    "tags": [],
    "deepnote_to_be_reexecuted": false,
    "source_hash": "a0aa5d69",
    "execution_start": 1645571453228,
    "execution_millis": 2650,
    "deepnote_cell_type": "code"
   },
   "outputs": [],
   "execution_count": null
  },
  {
   "cell_type": "code",
   "source": "",
   "metadata": {
    "cell_id": "7a2c83a6-3e30-46b2-a794-eaf0dbe1880c",
    "tags": [],
    "deepnote_to_be_reexecuted": false,
    "source_hash": "57f9320d",
    "execution_start": 1645571493500,
    "execution_millis": 81,
    "deepnote_cell_type": "code"
   },
   "outputs": [],
   "execution_count": null
  },
  {
   "cell_type": "code",
   "source": "",
   "metadata": {
    "cell_id": "54422b1e-87e4-4d08-b7fd-10474c8bc0e7",
    "tags": [],
    "deepnote_to_be_reexecuted": false,
    "source_hash": "ca65e738",
    "execution_start": 1645571532993,
    "execution_millis": 22,
    "deepnote_cell_type": "code"
   },
   "outputs": [],
   "execution_count": null
  },
  {
   "cell_type": "code",
   "source": "",
   "metadata": {
    "cell_id": "356c92fc-1e91-4e5c-afdf-6d740277d74f",
    "tags": [],
    "deepnote_to_be_reexecuted": false,
    "source_hash": "206bb10a",
    "execution_start": 1645571638118,
    "execution_millis": 37,
    "deepnote_cell_type": "code"
   },
   "outputs": [
    {
     "output_type": "execute_result",
     "execution_count": 11,
     "data": {
      "application/vnd.deepnote.dataframe.v3+json": {
       "column_count": 2,
       "row_count": 4947,
       "columns": [
        {
         "name": "LAND_AREA",
         "dtype": "float64",
         "stats": {
          "unique_count": 938,
          "nan_count": 0,
          "min": "0.0",
          "max": "0.999",
          "histogram": [
           {
            "bin_start": 0,
            "bin_end": 0.0999,
            "count": 163
           },
           {
            "bin_start": 0.0999,
            "bin_end": 0.1998,
            "count": 536
           },
           {
            "bin_start": 0.1998,
            "bin_end": 0.2997,
            "count": 666
           },
           {
            "bin_start": 0.2997,
            "bin_end": 0.3996,
            "count": 686
           },
           {
            "bin_start": 0.3996,
            "bin_end": 0.4995,
            "count": 700
           },
           {
            "bin_start": 0.4995,
            "bin_end": 0.5994,
            "count": 668
           },
           {
            "bin_start": 0.5994,
            "bin_end": 0.6993,
            "count": 495
           },
           {
            "bin_start": 0.6993,
            "bin_end": 0.7992,
            "count": 442
           },
           {
            "bin_start": 0.7992,
            "bin_end": 0.8991,
            "count": 296
           },
           {
            "bin_start": 0.8991,
            "bin_end": 0.999,
            "count": 295
           }
          ]
         }
        },
        {
         "name": "Tot_Population_ACS_14_18",
         "dtype": "float64",
         "stats": {
          "unique_count": 3254,
          "nan_count": 0,
          "min": "0.0",
          "max": "14758.0",
          "histogram": [
           {
            "bin_start": 0,
            "bin_end": 1475.8,
            "count": 69
           },
           {
            "bin_start": 1475.8,
            "bin_end": 2951.6,
            "count": 707
           },
           {
            "bin_start": 2951.6,
            "bin_end": 4427.4,
            "count": 1823
           },
           {
            "bin_start": 4427.4,
            "bin_end": 5903.2,
            "count": 1526
           },
           {
            "bin_start": 5903.2,
            "bin_end": 7379,
            "count": 606
           },
           {
            "bin_start": 7379,
            "bin_end": 8854.8,
            "count": 182
           },
           {
            "bin_start": 8854.8,
            "bin_end": 10330.6,
            "count": 27
           },
           {
            "bin_start": 10330.6,
            "bin_end": 11806.4,
            "count": 5
           },
           {
            "bin_start": 11806.4,
            "bin_end": 13282.199999999999,
            "count": 1
           },
           {
            "bin_start": 13282.199999999999,
            "bin_end": 14758,
            "count": 1
           }
          ]
         }
        },
        {
         "name": "_deepnote_index_column",
         "dtype": "int64"
        }
       ],
       "rows": [
        {
         "LAND_AREA": 0.131,
         "Tot_Population_ACS_14_18": 5549,
         "_deepnote_index_column": 1
        },
        {
         "LAND_AREA": 0.405,
         "Tot_Population_ACS_14_18": 2856,
         "_deepnote_index_column": 2
        },
        {
         "LAND_AREA": 0.956,
         "Tot_Population_ACS_14_18": 4803,
         "_deepnote_index_column": 3
        },
        {
         "LAND_AREA": 0.772,
         "Tot_Population_ACS_14_18": 5305,
         "_deepnote_index_column": 6
        },
        {
         "LAND_AREA": 0.483,
         "Tot_Population_ACS_14_18": 3966,
         "_deepnote_index_column": 8
        },
        {
         "LAND_AREA": 0.617,
         "Tot_Population_ACS_14_18": 5628,
         "_deepnote_index_column": 9
        },
        {
         "LAND_AREA": 0.671,
         "Tot_Population_ACS_14_18": 6688,
         "_deepnote_index_column": 16
        },
        {
         "LAND_AREA": 0.459,
         "Tot_Population_ACS_14_18": 5241,
         "_deepnote_index_column": 17
        },
        {
         "LAND_AREA": 0.422,
         "Tot_Population_ACS_14_18": 3918,
         "_deepnote_index_column": 19
        },
        {
         "LAND_AREA": 0.482,
         "Tot_Population_ACS_14_18": 4666,
         "_deepnote_index_column": 20
        }
       ]
      },
      "text/plain": "      LAND_AREA  Tot_Population_ACS_14_18\n1         0.131                    5549.0\n2         0.405                    2856.0\n3         0.956                    4803.0\n6         0.772                    5305.0\n8         0.483                    3966.0\n...         ...                       ...\n8053      0.297                    3046.0\n8054      0.610                    6745.0\n8055      0.920                    4881.0\n8056      0.618                    4343.0\n8057      0.970                    4516.0\n\n[4947 rows x 2 columns]",
      "text/html": "<div>\n<style scoped>\n    .dataframe tbody tr th:only-of-type {\n        vertical-align: middle;\n    }\n\n    .dataframe tbody tr th {\n        vertical-align: top;\n    }\n\n    .dataframe thead th {\n        text-align: right;\n    }\n</style>\n<table border=\"1\" class=\"dataframe\">\n  <thead>\n    <tr style=\"text-align: right;\">\n      <th></th>\n      <th>LAND_AREA</th>\n      <th>Tot_Population_ACS_14_18</th>\n    </tr>\n  </thead>\n  <tbody>\n    <tr>\n      <th>1</th>\n      <td>0.131</td>\n      <td>5549.0</td>\n    </tr>\n    <tr>\n      <th>2</th>\n      <td>0.405</td>\n      <td>2856.0</td>\n    </tr>\n    <tr>\n      <th>3</th>\n      <td>0.956</td>\n      <td>4803.0</td>\n    </tr>\n    <tr>\n      <th>6</th>\n      <td>0.772</td>\n      <td>5305.0</td>\n    </tr>\n    <tr>\n      <th>8</th>\n      <td>0.483</td>\n      <td>3966.0</td>\n    </tr>\n    <tr>\n      <th>...</th>\n      <td>...</td>\n      <td>...</td>\n    </tr>\n    <tr>\n      <th>8053</th>\n      <td>0.297</td>\n      <td>3046.0</td>\n    </tr>\n    <tr>\n      <th>8054</th>\n      <td>0.610</td>\n      <td>6745.0</td>\n    </tr>\n    <tr>\n      <th>8055</th>\n      <td>0.920</td>\n      <td>4881.0</td>\n    </tr>\n    <tr>\n      <th>8056</th>\n      <td>0.618</td>\n      <td>4343.0</td>\n    </tr>\n    <tr>\n      <th>8057</th>\n      <td>0.970</td>\n      <td>4516.0</td>\n    </tr>\n  </tbody>\n</table>\n<p>4947 rows × 2 columns</p>\n</div>"
     },
     "metadata": {}
    }
   ],
   "execution_count": null
  },
  {
   "cell_type": "code",
   "source": "",
   "metadata": {
    "cell_id": "dcec11bf-ae8e-4ce0-b071-c838a6ebb430",
    "tags": [],
    "deepnote_to_be_reexecuted": false,
    "source_hash": "4cee885",
    "execution_start": 1645571749312,
    "execution_millis": 5,
    "deepnote_cell_type": "code"
   },
   "outputs": [],
   "execution_count": null
  },
  {
   "cell_type": "code",
   "source": "",
   "metadata": {
    "cell_id": "84787dce-1fb6-46f2-909e-a6cd226f0876",
    "tags": [],
    "deepnote_to_be_reexecuted": false,
    "source_hash": "448955ae",
    "execution_start": 1645571794795,
    "execution_millis": 83,
    "deepnote_cell_type": "code"
   },
   "outputs": [
    {
     "output_type": "execute_result",
     "execution_count": 14,
     "data": {
      "application/vnd.deepnote.dataframe.v3+json": {
       "column_count": 23,
       "row_count": 4,
       "columns": [
        {
         "name": "STATEFP",
         "dtype": "object",
         "stats": {
          "unique_count": 1,
          "nan_count": 0,
          "categories": [
           {
            "name": "06",
            "count": 4
           }
          ]
         }
        },
        {
         "name": "COUNTYFP",
         "dtype": "object",
         "stats": {
          "unique_count": 1,
          "nan_count": 0,
          "categories": [
           {
            "name": "075",
            "count": 4
           }
          ]
         }
        },
        {
         "name": "TRACTCE",
         "dtype": "object",
         "stats": {
          "unique_count": 4,
          "nan_count": 0,
          "categories": [
           {
            "name": "012201",
            "count": 1
           },
           {
            "name": "012502",
            "count": 1
           },
           {
            "name": "2 others",
            "count": 2
           }
          ]
         }
        },
        {
         "name": "GEOID",
         "dtype": "object",
         "stats": {
          "unique_count": 4,
          "nan_count": 0,
          "categories": [
           {
            "name": "06075012201",
            "count": 1
           },
           {
            "name": "06075012502",
            "count": 1
           },
           {
            "name": "2 others",
            "count": 2
           }
          ]
         }
        },
        {
         "name": "NAME",
         "dtype": "object",
         "stats": {
          "unique_count": 4,
          "nan_count": 0,
          "categories": [
           {
            "name": "122.01",
            "count": 1
           },
           {
            "name": "125.02",
            "count": 1
           },
           {
            "name": "2 others",
            "count": 2
           }
          ]
         }
        },
        {
         "name": "NAMELSAD",
         "dtype": "object",
         "stats": {
          "unique_count": 4,
          "nan_count": 0,
          "categories": [
           {
            "name": "Census Tract 122.01",
            "count": 1
           },
           {
            "name": "Census Tract 125.02",
            "count": 1
           },
           {
            "name": "2 others",
            "count": 2
           }
          ]
         }
        },
        {
         "name": "MTFCC",
         "dtype": "object",
         "stats": {
          "unique_count": 1,
          "nan_count": 0,
          "categories": [
           {
            "name": "G5020",
            "count": 4
           }
          ]
         }
        },
        {
         "name": "FUNCSTAT",
         "dtype": "object",
         "stats": {
          "unique_count": 1,
          "nan_count": 0,
          "categories": [
           {
            "name": "S",
            "count": 4
           }
          ]
         }
        },
        {
         "name": "ALAND",
         "dtype": "int64",
         "stats": {
          "unique_count": 4,
          "nan_count": 0,
          "min": "61275",
          "max": "92048",
          "histogram": [
           {
            "bin_start": 61275,
            "bin_end": 64352.3,
            "count": 2
           },
           {
            "bin_start": 64352.3,
            "bin_end": 67429.6,
            "count": 0
           },
           {
            "bin_start": 67429.6,
            "bin_end": 70506.9,
            "count": 0
           },
           {
            "bin_start": 70506.9,
            "bin_end": 73584.2,
            "count": 0
           },
           {
            "bin_start": 73584.2,
            "bin_end": 76661.5,
            "count": 0
           },
           {
            "bin_start": 76661.5,
            "bin_end": 79738.8,
            "count": 0
           },
           {
            "bin_start": 79738.8,
            "bin_end": 82816.1,
            "count": 0
           },
           {
            "bin_start": 82816.1,
            "bin_end": 85893.4,
            "count": 0
           },
           {
            "bin_start": 85893.4,
            "bin_end": 88970.7,
            "count": 0
           },
           {
            "bin_start": 88970.7,
            "bin_end": 92048,
            "count": 2
           }
          ]
         }
        },
        {
         "name": "AWATER",
         "dtype": "int64",
         "stats": {
          "unique_count": 1,
          "nan_count": 0,
          "min": "0",
          "max": "0",
          "histogram": [
           {
            "bin_start": -0.5,
            "bin_end": -0.4,
            "count": 0
           },
           {
            "bin_start": -0.4,
            "bin_end": -0.3,
            "count": 0
           },
           {
            "bin_start": -0.3,
            "bin_end": -0.19999999999999996,
            "count": 0
           },
           {
            "bin_start": -0.19999999999999996,
            "bin_end": -0.09999999999999998,
            "count": 0
           },
           {
            "bin_start": -0.09999999999999998,
            "bin_end": 0,
            "count": 0
           },
           {
            "bin_start": 0,
            "bin_end": 0.10000000000000009,
            "count": 4
           },
           {
            "bin_start": 0.10000000000000009,
            "bin_end": 0.20000000000000007,
            "count": 0
           },
           {
            "bin_start": 0.20000000000000007,
            "bin_end": 0.30000000000000004,
            "count": 0
           },
           {
            "bin_start": 0.30000000000000004,
            "bin_end": 0.4,
            "count": 0
           },
           {
            "bin_start": 0.4,
            "bin_end": 0.5,
            "count": 0
           }
          ]
         }
        },
        {
         "name": "INTPTLAT",
         "dtype": "object",
         "stats": {
          "unique_count": 4,
          "nan_count": 0,
          "categories": [
           {
            "name": "+37.7858464",
            "count": 1
           },
           {
            "name": "+37.7839330",
            "count": 1
           },
           {
            "name": "2 others",
            "count": 2
           }
          ]
         }
        },
        {
         "name": "INTPTLON",
         "dtype": "object",
         "stats": {
          "unique_count": 4,
          "nan_count": 0,
          "categories": [
           {
            "name": "-122.4163535",
            "count": 1
           },
           {
            "name": "-122.4125954",
            "count": 1
           },
           {
            "name": "2 others",
            "count": 2
           }
          ]
         }
        },
        {
         "name": "geometry",
         "dtype": "geometry",
         "stats": {
          "unique_count": 4,
          "nan_count": 0,
          "categories": [
           {
            "name": "POLYGON ((-122.418271 37.787037999999995, -122.41699 37.787200999999996, -122.416639 37.787245, -122.414995 37.787454, -122.414807 37.786519999999996, -122.41471 37.786041, -122.41461699999999 37.785582, -122.41456600000001 37.785333, -122.41452100000001 37.785105, -122.41443 37.784656999999996, -122.414778 37.784613, -122.416072 37.784448999999995, -122.41770700000001 37.784236, -122.417806 37.78471, -122.417901 37.785167, -122.417996 37.785641999999996, -122.418088 37.786100999999995, -122.418179 37.786566, -122.418271 37.787037999999995))",
            "count": 1
           },
           {
            "name": "POLYGON ((-122.41443 37.784656999999996, -122.414303 37.784664, -122.41394 37.78471, -122.413748 37.784734, -122.413367 37.784783, -122.412904 37.784842, -122.41278199999999 37.784866, -122.412214 37.784938, -122.41184 37.784985, -122.41114 37.785075, -122.410952 37.784141, -122.410863 37.783702, -122.410857 37.78367, -122.410765 37.783214, -122.412412 37.783004, -122.413003 37.782928, -122.414054 37.782793999999996, -122.414242 37.783724, -122.414345 37.784239, -122.41443 37.784656999999996))",
            "count": 1
           },
           {
            "name": "2 others",
            "count": 2
           }
          ]
         }
        },
        {
         "name": "State_name",
         "dtype": "object",
         "stats": {
          "unique_count": 1,
          "nan_count": 0,
          "categories": [
           {
            "name": "California",
            "count": 4
           }
          ]
         }
        },
        {
         "name": "County_name",
         "dtype": "object",
         "stats": {
          "unique_count": 1,
          "nan_count": 0,
          "categories": [
           {
            "name": "San Francisco County",
            "count": 4
           }
          ]
         }
        },
        {
         "name": "LAND_AREA",
         "dtype": "float64",
         "stats": {
          "unique_count": 2,
          "nan_count": 0,
          "min": "0.024",
          "max": "0.036",
          "histogram": [
           {
            "bin_start": 0.024,
            "bin_end": 0.0252,
            "count": 2
           },
           {
            "bin_start": 0.0252,
            "bin_end": 0.0264,
            "count": 0
           },
           {
            "bin_start": 0.0264,
            "bin_end": 0.0276,
            "count": 0
           },
           {
            "bin_start": 0.0276,
            "bin_end": 0.0288,
            "count": 0
           },
           {
            "bin_start": 0.0288,
            "bin_end": 0.03,
            "count": 0
           },
           {
            "bin_start": 0.03,
            "bin_end": 0.0312,
            "count": 0
           },
           {
            "bin_start": 0.0312,
            "bin_end": 0.0324,
            "count": 0
           },
           {
            "bin_start": 0.0324,
            "bin_end": 0.0336,
            "count": 0
           },
           {
            "bin_start": 0.0336,
            "bin_end": 0.0348,
            "count": 0
           },
           {
            "bin_start": 0.0348,
            "bin_end": 0.036,
            "count": 2
           }
          ]
         }
        },
        {
         "name": "Tot_Population_ACS_14_18",
         "dtype": "float64",
         "stats": {
          "unique_count": 4,
          "nan_count": 0,
          "min": "2674.0",
          "max": "4782.0",
          "histogram": [
           {
            "bin_start": 2674,
            "bin_end": 2884.8,
            "count": 1
           },
           {
            "bin_start": 2884.8,
            "bin_end": 3095.6,
            "count": 0
           },
           {
            "bin_start": 3095.6,
            "bin_end": 3306.4,
            "count": 0
           },
           {
            "bin_start": 3306.4,
            "bin_end": 3517.2,
            "count": 0
           },
           {
            "bin_start": 3517.2,
            "bin_end": 3728,
            "count": 1
           },
           {
            "bin_start": 3728,
            "bin_end": 3938.8,
            "count": 0
           },
           {
            "bin_start": 3938.8,
            "bin_end": 4149.6,
            "count": 0
           },
           {
            "bin_start": 4149.6,
            "bin_end": 4360.4,
            "count": 0
           },
           {
            "bin_start": 4360.4,
            "bin_end": 4571.2,
            "count": 0
           },
           {
            "bin_start": 4571.2,
            "bin_end": 4782,
            "count": 2
           }
          ]
         }
        },
        {
         "name": "state",
         "dtype": "object",
         "stats": {
          "unique_count": 1,
          "nan_count": 0,
          "categories": [
           {
            "name": "06",
            "count": 4
           }
          ]
         }
        },
        {
         "name": "county",
         "dtype": "object",
         "stats": {
          "unique_count": 1,
          "nan_count": 0,
          "categories": [
           {
            "name": "075",
            "count": 4
           }
          ]
         }
        },
        {
         "name": "tract",
         "dtype": "object",
         "stats": {
          "unique_count": 4,
          "nan_count": 0,
          "categories": [
           {
            "name": "012201",
            "count": 1
           },
           {
            "name": "012502",
            "count": 1
           },
           {
            "name": "2 others",
            "count": 2
           }
          ]
         }
        },
        {
         "name": "state_county",
         "dtype": "int64",
         "stats": {
          "unique_count": 1,
          "nan_count": 0,
          "min": "6075",
          "max": "6075",
          "histogram": [
           {
            "bin_start": 6074.5,
            "bin_end": 6074.6,
            "count": 0
           },
           {
            "bin_start": 6074.6,
            "bin_end": 6074.7,
            "count": 0
           },
           {
            "bin_start": 6074.7,
            "bin_end": 6074.8,
            "count": 0
           },
           {
            "bin_start": 6074.8,
            "bin_end": 6074.9,
            "count": 0
           },
           {
            "bin_start": 6074.9,
            "bin_end": 6075,
            "count": 0
           },
           {
            "bin_start": 6075,
            "bin_end": 6075.1,
            "count": 4
           },
           {
            "bin_start": 6075.1,
            "bin_end": 6075.2,
            "count": 0
           },
           {
            "bin_start": 6075.2,
            "bin_end": 6075.3,
            "count": 0
           },
           {
            "bin_start": 6075.3,
            "bin_end": 6075.4,
            "count": 0
           },
           {
            "bin_start": 6075.4,
            "bin_end": 6075.5,
            "count": 0
           }
          ]
         }
        },
        {
         "name": "state_county_tract",
         "dtype": "int64",
         "stats": {
          "unique_count": 4,
          "nan_count": 0,
          "min": "6075011901",
          "max": "6075012502",
          "histogram": [
           {
            "bin_start": 6075011901,
            "bin_end": 6075011961.1,
            "count": 1
           },
           {
            "bin_start": 6075011961.1,
            "bin_end": 6075012021.2,
            "count": 0
           },
           {
            "bin_start": 6075012021.2,
            "bin_end": 6075012081.3,
            "count": 0
           },
           {
            "bin_start": 6075012081.3,
            "bin_end": 6075012141.4,
            "count": 0
           },
           {
            "bin_start": 6075012141.4,
            "bin_end": 6075012201.5,
            "count": 1
           },
           {
            "bin_start": 6075012201.5,
            "bin_end": 6075012261.6,
            "count": 0
           },
           {
            "bin_start": 6075012261.6,
            "bin_end": 6075012321.7,
            "count": 0
           },
           {
            "bin_start": 6075012321.7,
            "bin_end": 6075012381.8,
            "count": 0
           },
           {
            "bin_start": 6075012381.8,
            "bin_end": 6075012441.9,
            "count": 1
           },
           {
            "bin_start": 6075012441.9,
            "bin_end": 6075012502,
            "count": 1
           }
          ]
         }
        },
        {
         "name": "pop_density",
         "dtype": "float64",
         "stats": {
          "unique_count": 4,
          "nan_count": 0,
          "min": "111416.66666666667",
          "max": "149333.33333333334",
          "histogram": [
           {
            "bin_start": 111416.66666666667,
            "bin_end": 115208.33333333334,
            "count": 1
           },
           {
            "bin_start": 115208.33333333334,
            "bin_end": 119000,
            "count": 0
           },
           {
            "bin_start": 119000,
            "bin_end": 122791.66666666667,
            "count": 0
           },
           {
            "bin_start": 122791.66666666667,
            "bin_end": 126583.33333333334,
            "count": 0
           },
           {
            "bin_start": 126583.33333333334,
            "bin_end": 130375,
            "count": 1
           },
           {
            "bin_start": 130375,
            "bin_end": 134166.6666666667,
            "count": 1
           },
           {
            "bin_start": 134166.6666666667,
            "bin_end": 137958.33333333334,
            "count": 0
           },
           {
            "bin_start": 137958.33333333334,
            "bin_end": 141750,
            "count": 0
           },
           {
            "bin_start": 141750,
            "bin_end": 145541.6666666667,
            "count": 0
           },
           {
            "bin_start": 145541.6666666667,
            "bin_end": 149333.33333333334,
            "count": 1
           }
          ]
         }
        },
        {
         "name": "_deepnote_index_column",
         "dtype": "int64"
        }
       ],
       "rows": [
        {
         "STATEFP": "06",
         "COUNTYFP": "075",
         "TRACTCE": "012201",
         "GEOID": "06075012201",
         "NAME": "122.01",
         "NAMELSAD": "Census Tract 122.01",
         "MTFCC": "G5020",
         "FUNCSTAT": "S",
         "ALAND": 92048,
         "AWATER": 0,
         "INTPTLAT": "+37.7858464",
         "INTPTLON": "-122.4163535",
         "geometry": "POLYGON ((-122.418271 37.787037999999995, -122.41699 37.787200999999996, -122.416639 37.787245, -12…",
         "State_name": "California",
         "County_name": "San Francisco County",
         "LAND_AREA": 0.036,
         "Tot_Population_ACS_14_18": 4638,
         "state": "06",
         "county": "075",
         "tract": "012201",
         "state_county": 6075,
         "state_county_tract": 6075012201,
         "pop_density": 128833.33333333334,
         "_deepnote_index_column": 3243
        },
        {
         "STATEFP": "06",
         "COUNTYFP": "075",
         "TRACTCE": "012502",
         "GEOID": "06075012502",
         "NAME": "125.02",
         "NAMELSAD": "Census Tract 125.02",
         "MTFCC": "G5020",
         "FUNCSTAT": "S",
         "ALAND": 61275,
         "AWATER": 0,
         "INTPTLAT": "+37.7839330",
         "INTPTLON": "-122.4125954",
         "geometry": "POLYGON ((-122.41443 37.784656999999996, -122.414303 37.784664, -122.41394 37.78471, -122.413748 37…",
         "State_name": "California",
         "County_name": "San Francisco County",
         "LAND_AREA": 0.024,
         "Tot_Population_ACS_14_18": 3584,
         "state": "06",
         "county": "075",
         "tract": "012502",
         "state_county": 6075,
         "state_county_tract": 6075012502,
         "pop_density": 149333.33333333334,
         "_deepnote_index_column": 3493
        },
        {
         "STATEFP": "06",
         "COUNTYFP": "075",
         "TRACTCE": "011901",
         "GEOID": "06075011901",
         "NAME": "119.01",
         "NAMELSAD": "Census Tract 119.01",
         "MTFCC": "G5020",
         "FUNCSTAT": "S",
         "ALAND": 62294,
         "AWATER": 0,
         "INTPTLAT": "+37.7904728",
         "INTPTLON": "-122.4139142",
         "geometry": "POLYGON ((-122.41575 37.791205999999995, -122.414107 37.791416, -122.41246100000001 37.791627, -122…",
         "State_name": "California",
         "County_name": "San Francisco County",
         "LAND_AREA": 0.024,
         "Tot_Population_ACS_14_18": 2674,
         "state": "06",
         "county": "075",
         "tract": "011901",
         "state_county": 6075,
         "state_county_tract": 6075011901,
         "pop_density": 111416.66666666667,
         "_deepnote_index_column": 6566
        },
        {
         "STATEFP": "06",
         "COUNTYFP": "075",
         "TRACTCE": "012401",
         "GEOID": "06075012401",
         "NAME": "124.01",
         "NAMELSAD": "Census Tract 124.01",
         "MTFCC": "G5020",
         "FUNCSTAT": "S",
         "ALAND": 91972,
         "AWATER": 0,
         "INTPTLAT": "+37.7830510",
         "INTPTLON": "-122.4157891",
         "geometry": "POLYGON ((-122.41770700000001 37.784236, -122.416072 37.784448999999995, -122.414778 37.784613, -12…",
         "State_name": "California",
         "County_name": "San Francisco County",
         "LAND_AREA": 0.036,
         "Tot_Population_ACS_14_18": 4782,
         "state": "06",
         "county": "075",
         "tract": "012401",
         "state_county": 6075,
         "state_county_tract": 6075012401,
         "pop_density": 132833.33333333334,
         "_deepnote_index_column": 6637
        }
       ]
      },
      "text/plain": "     STATEFP COUNTYFP TRACTCE        GEOID    NAME             NAMELSAD  \\\n3243      06      075  012201  06075012201  122.01  Census Tract 122.01   \n3493      06      075  012502  06075012502  125.02  Census Tract 125.02   \n6566      06      075  011901  06075011901  119.01  Census Tract 119.01   \n6637      06      075  012401  06075012401  124.01  Census Tract 124.01   \n\n      MTFCC FUNCSTAT  ALAND  AWATER  ...  State_name           County_name  \\\n3243  G5020        S  92048       0  ...  California  San Francisco County   \n3493  G5020        S  61275       0  ...  California  San Francisco County   \n6566  G5020        S  62294       0  ...  California  San Francisco County   \n6637  G5020        S  91972       0  ...  California  San Francisco County   \n\n     LAND_AREA Tot_Population_ACS_14_18 state  county   tract state_county  \\\n3243     0.036                   4638.0    06     075  012201         6075   \n3493     0.024                   3584.0    06     075  012502         6075   \n6566     0.024                   2674.0    06     075  011901         6075   \n6637     0.036                   4782.0    06     075  012401         6075   \n\n     state_county_tract    pop_density  \n3243         6075012201  128833.333333  \n3493         6075012502  149333.333333  \n6566         6075011901  111416.666667  \n6637         6075012401  132833.333333  \n\n[4 rows x 23 columns]",
      "text/html": "<div>\n<style scoped>\n    .dataframe tbody tr th:only-of-type {\n        vertical-align: middle;\n    }\n\n    .dataframe tbody tr th {\n        vertical-align: top;\n    }\n\n    .dataframe thead th {\n        text-align: right;\n    }\n</style>\n<table border=\"1\" class=\"dataframe\">\n  <thead>\n    <tr style=\"text-align: right;\">\n      <th></th>\n      <th>STATEFP</th>\n      <th>COUNTYFP</th>\n      <th>TRACTCE</th>\n      <th>GEOID</th>\n      <th>NAME</th>\n      <th>NAMELSAD</th>\n      <th>MTFCC</th>\n      <th>FUNCSTAT</th>\n      <th>ALAND</th>\n      <th>AWATER</th>\n      <th>...</th>\n      <th>State_name</th>\n      <th>County_name</th>\n      <th>LAND_AREA</th>\n      <th>Tot_Population_ACS_14_18</th>\n      <th>state</th>\n      <th>county</th>\n      <th>tract</th>\n      <th>state_county</th>\n      <th>state_county_tract</th>\n      <th>pop_density</th>\n    </tr>\n  </thead>\n  <tbody>\n    <tr>\n      <th>3243</th>\n      <td>06</td>\n      <td>075</td>\n      <td>012201</td>\n      <td>06075012201</td>\n      <td>122.01</td>\n      <td>Census Tract 122.01</td>\n      <td>G5020</td>\n      <td>S</td>\n      <td>92048</td>\n      <td>0</td>\n      <td>...</td>\n      <td>California</td>\n      <td>San Francisco County</td>\n      <td>0.036</td>\n      <td>4638.0</td>\n      <td>06</td>\n      <td>075</td>\n      <td>012201</td>\n      <td>6075</td>\n      <td>6075012201</td>\n      <td>128833.333333</td>\n    </tr>\n    <tr>\n      <th>3493</th>\n      <td>06</td>\n      <td>075</td>\n      <td>012502</td>\n      <td>06075012502</td>\n      <td>125.02</td>\n      <td>Census Tract 125.02</td>\n      <td>G5020</td>\n      <td>S</td>\n      <td>61275</td>\n      <td>0</td>\n      <td>...</td>\n      <td>California</td>\n      <td>San Francisco County</td>\n      <td>0.024</td>\n      <td>3584.0</td>\n      <td>06</td>\n      <td>075</td>\n      <td>012502</td>\n      <td>6075</td>\n      <td>6075012502</td>\n      <td>149333.333333</td>\n    </tr>\n    <tr>\n      <th>6566</th>\n      <td>06</td>\n      <td>075</td>\n      <td>011901</td>\n      <td>06075011901</td>\n      <td>119.01</td>\n      <td>Census Tract 119.01</td>\n      <td>G5020</td>\n      <td>S</td>\n      <td>62294</td>\n      <td>0</td>\n      <td>...</td>\n      <td>California</td>\n      <td>San Francisco County</td>\n      <td>0.024</td>\n      <td>2674.0</td>\n      <td>06</td>\n      <td>075</td>\n      <td>011901</td>\n      <td>6075</td>\n      <td>6075011901</td>\n      <td>111416.666667</td>\n    </tr>\n    <tr>\n      <th>6637</th>\n      <td>06</td>\n      <td>075</td>\n      <td>012401</td>\n      <td>06075012401</td>\n      <td>124.01</td>\n      <td>Census Tract 124.01</td>\n      <td>G5020</td>\n      <td>S</td>\n      <td>91972</td>\n      <td>0</td>\n      <td>...</td>\n      <td>California</td>\n      <td>San Francisco County</td>\n      <td>0.036</td>\n      <td>4782.0</td>\n      <td>06</td>\n      <td>075</td>\n      <td>012401</td>\n      <td>6075</td>\n      <td>6075012401</td>\n      <td>132833.333333</td>\n    </tr>\n  </tbody>\n</table>\n<p>4 rows × 23 columns</p>\n</div>"
     },
     "metadata": {}
    }
   ],
   "execution_count": null
  },
  {
   "cell_type": "code",
   "source": "#To overcome max_rows issue\nalt.data_transformers.enable('json')\nalt.data_transformers.disable_max_rows()",
   "metadata": {
    "cell_id": "323312d5-1098-44cc-8679-e67b012ebabb",
    "tags": [],
    "deepnote_cell_type": "code"
   },
   "outputs": [],
   "execution_count": null
  },
  {
   "cell_type": "code",
   "source": "#Example Python code\nimport gpdvega \nimport altair as alt\n\nagri_gdf = gpd.read_file(r\"/work/assets/SJ_Agricultural_Preserves/AgriculturalPreserves.shp\")\nalt.Chart(agri_gdf).mark_geoshape(\n).encode( \n    color='PRESERVE_N', \n    tooltip=['PRESERVE_N','CREATED_US']\n).properties( \n    width=500,\n    height=300\n)",
   "metadata": {
    "cell_id": "906fa48e-83d5-4265-8dbd-7543345854f6",
    "tags": [],
    "deepnote_cell_type": "code"
   },
   "outputs": [],
   "execution_count": null
  },
  {
   "cell_type": "code",
   "source": "",
   "metadata": {
    "cell_id": "c9b14836-e405-4ecb-8f11-d444c7ce22e1",
    "tags": [],
    "deepnote_to_be_reexecuted": false,
    "source_hash": "7be8f8f2",
    "execution_start": 1645572447455,
    "execution_millis": 894,
    "deepnote_cell_type": "code"
   },
   "outputs": [
    {
     "output_type": "execute_result",
     "execution_count": 21,
     "data": {
      "text/html": "\n<div id=\"altair-viz-ece6088503b842dc8704171559ce1db7\"></div>\n<script type=\"text/javascript\">\n  (function(spec, embedOpt){\n    let outputDiv = document.currentScript.previousElementSibling;\n    if (outputDiv.id !== \"altair-viz-ece6088503b842dc8704171559ce1db7\") {\n      outputDiv = document.getElementById(\"altair-viz-ece6088503b842dc8704171559ce1db7\");\n    }\n    const paths = {\n      \"vega\": \"https://cdn.jsdelivr.net/npm//vega@5?noext\",\n      \"vega-lib\": \"https://cdn.jsdelivr.net/npm//vega-lib?noext\",\n      \"vega-lite\": \"https://cdn.jsdelivr.net/npm//vega-lite@4.8.1?noext\",\n      \"vega-embed\": \"https://cdn.jsdelivr.net/npm//vega-embed@6?noext\",\n    };\n\n    function loadScript(lib) {\n      return new Promise(function(resolve, reject) {\n        var s = document.createElement('script');\n        s.src = paths[lib];\n        s.async = true;\n        s.onload = () => resolve(paths[lib]);\n        s.onerror = () => reject(`Error loading script: ${paths[lib]}`);\n        document.getElementsByTagName(\"head\")[0].appendChild(s);\n      });\n    }\n\n    function showError(err) {\n      outputDiv.innerHTML = `<div class=\"error\" style=\"color:red;\">${err}</div>`;\n      throw err;\n    }\n\n    function displayChart(vegaEmbed) {\n      vegaEmbed(outputDiv, spec, embedOpt)\n        .catch(err => showError(`Javascript Error: ${err.message}<br>This usually means there's a typo in your chart specification. See the javascript console for the full traceback.`));\n    }\n\n    if(typeof define === \"function\" && define.amd) {\n      requirejs.config({paths});\n      require([\"vega-embed\"], displayChart, err => showError(`Error loading script: ${err.message}`));\n    } else if (typeof vegaEmbed === \"function\") {\n      displayChart(vegaEmbed);\n    } else {\n      loadScript(\"vega\")\n        .then(() => loadScript(\"vega-lite\"))\n        .then(() => loadScript(\"vega-embed\"))\n        .catch(showError)\n        .then(() => displayChart(vegaEmbed));\n    }\n  })({\"config\": {\"view\": {\"continuousWidth\": 400, \"continuousHeight\": 300}}, \"data\": {\"url\": \"altair-data-bb4ba6d06b19bdc57de4aa40ae89bf0d.json\", \"format\": {\"type\": \"json\"}}, \"mark\": \"geoshape\", \"encoding\": {\"color\": {\"type\": \"quantitative\", \"field\": \"Tot_Population_ACS_14_18\"}, \"tooltip\": [{\"type\": \"quantitative\", \"field\": \"Tot_Population_ACS_14_18\"}, {\"type\": \"nominal\", \"field\": \"County_name\"}, {\"type\": \"nominal\", \"field\": \"tract\"}]}, \"height\": 300, \"width\": 500, \"$schema\": \"https://vega.github.io/schema/vega-lite/v4.8.1.json\"}, {\"mode\": \"vega-lite\"});\n</script>",
      "text/plain": "alt.Chart(...)"
     },
     "metadata": {}
    }
   ],
   "execution_count": null
  },
  {
   "cell_type": "code",
   "source": "source_df.plot()",
   "metadata": {
    "cell_id": "9d2b3998-c433-4ff5-a092-280536b1e797",
    "tags": [],
    "deepnote_to_be_reexecuted": false,
    "source_hash": "18bb6db8",
    "execution_start": 1645572520758,
    "execution_millis": 7225,
    "deepnote_cell_type": "code"
   },
   "outputs": [
    {
     "output_type": "execute_result",
     "execution_count": 22,
     "data": {
      "text/plain": "<AxesSubplot:>"
     },
     "metadata": {}
    },
    {
     "data": {
      "text/plain": "<Figure size 432x288 with 1 Axes>",
      "image/png": "[encoded data removed]"
     },
     "metadata": {
      "needs_background": "light",
      "image/png": {
       "width": 230,
       "height": 248
      }
     },
     "output_type": "display_data"
    }
   ],
   "execution_count": null
  },
  {
   "cell_type": "code",
   "source": "",
   "metadata": {
    "cell_id": "3c1669bc-dd09-4acc-a590-d9fdf48a42b3",
    "tags": [],
    "deepnote_cell_type": "code"
   },
   "outputs": [],
   "execution_count": null
  },
  {
   "cell_type": "markdown",
   "source": "<a style='text-decoration:none;line-height:16px;display:flex;color:#5B5B62;padding:10px;justify-content:end;' href='https://deepnote.com?utm_source=created-in-deepnote-cell&projectId=b042e2da-6536-449d-95b8-d85fa08825de' target=\"_blank\">\n<img alt='Created in deepnote.com' style='display:inline;max-height:16px;margin:0px;margin-right:7.5px;' src='data:image/svg+xml;base64,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' > </img>\nCreated in <span style='font-weight:600;margin-left:4px;'>Deepnote</span></a>",
   "metadata": {
    "tags": [],
    "created_in_deepnote_cell": true,
    "deepnote_cell_type": "markdown"
   }
  }
 ],
 "nbformat": 4,
 "nbformat_minor": 2,
 "metadata": {
  "orig_nbformat": 2,
  "deepnote": {
   "is_reactive": false
  },
  "deepnote_notebook_id": "0a7e4436-c621-4d19-b7d6-e504e9d430f1",
  "deepnote_execution_queue": []
 }
}