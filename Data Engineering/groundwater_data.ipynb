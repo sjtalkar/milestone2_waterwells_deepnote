{
 "cells": [
  {
   "cell_type": "markdown",
   "source": "#### Groundwater data\n\n- This notebook reads in the groundwater and groundwater stations data and cleans and merges them \n- [Source](https://data.cnra.ca.gov/dataset/periodic-groundwater-level-measurements) and data retrieved using requests stored in file\n- [Data location](/work/assets/groundwater.csv)",
   "metadata": {
    "cell_id": "9f8f6d34-6305-45d0-bb25-aa88d11ff0a4",
    "tags": [],
    "deepnote_cell_type": "markdown",
    "deepnote_cell_height": 153.1875
   }
  },
  {
   "cell_type": "markdown",
   "source": "",
   "metadata": {
    "cell_id": "d682b20b-b71b-4131-9f73-c736287ff5a2",
    "tags": [],
    "deepnote_cell_type": "markdown",
    "deepnote_cell_height": 46
   }
  },
  {
   "cell_type": "markdown",
   "source": "##### Groundwater measurements\nhttps://data.cnra.ca.gov/dataset/periodic-groundwater-level-measurements\n\n- The elevation of the groundwater surface  can be calculated by subtracting the depth to groundwater from the ground surface elevation.\n\n> [Water levels in many aquifers](https://pubs.usgs.gov/circ/circ1217/pdf/circ1217_final.pdf) in the United States follow a natural cyclic pattern of seasonal \n> fluctuation,typically rising during the winter and spring due to greater precipitation and recharge, then declining during the summer\n> and fall owing to less recharge and greater evapotranspiration. Hence, below we take only spring measurements for groundwater",
   "metadata": {
    "cell_id": "432c83b0-c554-4943-a571-4bf2be9d1325",
    "tags": [],
    "deepnote_cell_type": "markdown",
    "deepnote_cell_height": 220
   }
  },
  {
   "cell_type": "markdown",
   "source": "",
   "metadata": {
    "cell_id": "ccc9d473-71cc-466e-80c9-1f10a3423e79",
    "tags": [],
    "deepnote_cell_type": "markdown",
    "deepnote_cell_height": 46
   }
  },
  {
   "cell_type": "code",
   "metadata": {
    "cell_id": "5eddcac1-9365-496b-a0b1-6f149e93e33c",
    "tags": [],
    "deepnote_cell_type": "code",
    "deepnote_cell_height": 480
   },
   "source": "groundwater_df = pd.read_csv(r\"/work/assets/inputs/groundwater/groundwater.csv\")\ngroundwaterstations_df = pd.read_csv(r\"/work/assets/inputs/groundwater/groundwater_stations.csv\")\nprint(groundwater_df.shape) # (2530751, 16)\ngroundwater_df.drop(columns=['Unnamed: 0', '_id', 'WLM_ORG_NAME', 'COOP_ORG_NAME', 'WLM_ACC_DESC', 'WLM_QA_DESC', 'WLM_DESC', 'MSMT_CMT', 'MONITORING_PROGRAM' ], inplace=True)\n\ngroundwaterstations_df = groundwaterstations_df.loc[:,['SITE_CODE','LONGITUDE','LATITUDE','GSE','COUNTY_NAME','WELL_USE']].copy()\n\n# create simple year and month columns\ngroundwater_df['MSMT_DATE'] = pd.to_datetime(groundwater_df.MSMT_DATE)\ngroundwater_df['YEAR'] = groundwater_df['MSMT_DATE'].dt.year\ngroundwater_df['MONTH'] = groundwater_df['MSMT_DATE'].dt.month\n\n# Retain only those records that have Groundwater measurements\ngroundwater_df = groundwater_df[~groundwater_df['GSE_GWE'].isnull()] # 2325741 \nprint(groundwater_df.shape) # (2530751, 16)\n\n# merge with station data for location info\nspring_month_groundwater_location = spring_months_groundwater.merge(groundwaterstations_df, on='SITE_CODE')\nspring_month_groundwater_location.sample()\n\n# drop the rows that have incorrect measurements that of 0 or less\nspring_month_groundwater_location = spring_month_groundwater_location[spring_month_groundwater_location['GSE_GWE'] > 0]\n\n",
   "execution_count": null,
   "outputs": []
  },
  {
   "cell_type": "code",
   "metadata": {
    "cell_id": "e412f4e5-efae-4713-a012-8fce9cf10db7",
    "tags": [],
    "deepnote_cell_type": "code",
    "deepnote_cell_height": 390
   },
   "source": "# Follow the routine to create a GeoDataFrame\ngdf_spring_groundwater = gpd.GeoDataFrame(\n    spring_month_groundwater_location, \n    geometry=gpd.points_from_xy(\n        spring_month_groundwater_location.LONGITUDE, \n        spring_month_groundwater_location.LATITUDE\n    ))\n\n#Set the coordinate reference system so that we now have the projection axis\ngdf_spring_groundwater = gdf_spring_groundwater.set_crs('epsg:4326')\n\n# match up based on longitude/latitude\nspring_groundwater_plss = gdf_spring_groundwater.sjoin(SJ_subbasin_plss, how=\"left\")\nspring_groundwater_plss.sample()\n\n# drop the ones that aren't in a subbasin trs\nspring_groundwater_plss = spring_groundwater_plss.dropna(subset=['MTRS'])\n\nspring_groundwater_plss[spring_groundwater_plss['YEAR']==2019]['geometry'].explore(color='TownshipRange')",
   "execution_count": null,
   "outputs": []
  },
  {
   "cell_type": "code",
   "metadata": {
    "cell_id": "d5c2f38b-ddea-4663-9e96-b0591afffc90",
    "tags": [],
    "deepnote_cell_type": "code",
    "deepnote_cell_height": 138
   },
   "source": "# Group wells that had multiple spring measurements in some years and get the average\nspring_groundwater_group = spring_groundwater_plss.groupby(['SITE_CODE','MTRS','TownshipRange','COUNTY_NAME','YEAR']).agg({\n    'GSE_GWE': ['mean'],\n}).reset_index()\n#spring_groundwater_group.columns = ['site','MTRS','TownshipRange','county','year','gse_gwe']",
   "execution_count": null,
   "outputs": []
  },
  {
   "cell_type": "code",
   "metadata": {
    "cell_id": "52e10e06-8f98-4eef-ac86-b44b2e7de72a",
    "tags": [],
    "deepnote_cell_type": "code",
    "deepnote_cell_height": 84
   },
   "source": "# export all measurements for analysis\nspring_groundwater_group.to_csv(\"/work/assets/clean_data/spring_groundwater_levels_clean.csv\", index=False)",
   "execution_count": null,
   "outputs": []
  },
  {
   "cell_type": "markdown",
   "source": "<a style='text-decoration:none;line-height:16px;display:flex;color:#5B5B62;padding:10px;justify-content:end;' href='https://deepnote.com?utm_source=created-in-deepnote-cell&projectId=b042e2da-6536-449d-95b8-d85fa08825de' target=\"_blank\">\n<img alt='Created in deepnote.com' style='display:inline;max-height:16px;margin:0px;margin-right:7.5px;' src='data:image/svg+xml;base64,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' > </img>\nCreated in <span style='font-weight:600;margin-left:4px;'>Deepnote</span></a>",
   "metadata": {
    "tags": [],
    "created_in_deepnote_cell": true,
    "deepnote_cell_type": "markdown"
   }
  }
 ],
 "nbformat": 4,
 "nbformat_minor": 2,
 "metadata": {
  "orig_nbformat": 2,
  "deepnote": {
   "is_reactive": false
  },
  "deepnote_notebook_id": "ffbccf33-5e94-4595-b857-1a62a100c564",
  "deepnote_execution_queue": []
 }
}