{
 "cells": [
  {
   "cell_type": "markdown",
   "source": "#### Groundwater data\n\n- This notebook reads in the groundwater and groundwater stations data and cleans and merges them \n- [Source](https://data.cnra.ca.gov/dataset/periodic-groundwater-level-measurements) and data retrieved using requests stored in file\n- [Data location](/work/assets/groundwater.csv)",
   "metadata": {
    "cell_id": "9f8f6d34-6305-45d0-bb25-aa88d11ff0a4",
    "tags": [],
    "deepnote_cell_type": "markdown",
    "deepnote_cell_height": 153.1875
   }
  },
  {
   "cell_type": "code",
   "metadata": {
    "cell_id": "2d11b4a3-a26e-4c6a-b72c-35cd89f52b22",
    "tags": [],
    "deepnote_to_be_reexecuted": false,
    "source_hash": "95f93ff1",
    "execution_start": 1647724555117,
    "execution_millis": 2,
    "deepnote_cell_type": "code",
    "deepnote_cell_height": 353
   },
   "source": "import sys\nsys.path.append('..')",
   "execution_count": null,
   "outputs": []
  },
  {
   "cell_type": "code",
   "metadata": {
    "cell_id": "a552bf92-b58b-4c59-86eb-b0b435adbe75",
    "tags": [],
    "deepnote_to_be_reexecuted": false,
    "source_hash": "1876992c",
    "execution_start": 1647569582363,
    "execution_millis": 997,
    "deepnote_cell_type": "code",
    "deepnote_cell_height": 136.203125
   },
   "source": "from lib.groundwater import GroundwaterDataset",
   "execution_count": null,
   "outputs": [
    {
     "name": "stderr",
     "text": "/shared-libs/python3.9/py/lib/python3.9/site-packages/geopandas/_compat.py:111: UserWarning: The Shapely GEOS version (3.10.2-CAPI-1.16.0) is incompatible with the GEOS version PyGEOS was compiled with (3.10.1-CAPI-1.16.0). Conversions between both will be slow.\n  warnings.warn(\n",
     "output_type": "stream"
    }
   ]
  },
  {
   "cell_type": "markdown",
   "source": "",
   "metadata": {
    "cell_id": "d682b20b-b71b-4131-9f73-c736287ff5a2",
    "tags": [],
    "deepnote_cell_type": "markdown",
    "deepnote_cell_height": 46
   }
  },
  {
   "cell_type": "markdown",
   "source": "##### Groundwater measurements\nhttps://data.cnra.ca.gov/dataset/periodic-groundwater-level-measurements\n\n- The elevation of the groundwater surface  can be calculated by subtracting the depth to groundwater from the ground surface elevation.\n\n> [Water levels in many aquifers](https://pubs.usgs.gov/circ/circ1217/pdf/circ1217_final.pdf) in the United States follow a natural cyclic pattern of seasonal \n> fluctuation,typically rising during the winter and spring due to greater precipitation and recharge, then declining during the summer\n> and fall owing to less recharge and greater evapotranspiration. Hence, below we take only spring measurements for groundwater",
   "metadata": {
    "cell_id": "432c83b0-c554-4943-a571-4bf2be9d1325",
    "tags": [],
    "deepnote_cell_type": "markdown",
    "deepnote_cell_height": 264.78125
   }
  },
  {
   "cell_type": "code",
   "metadata": {
    "cell_id": "9a372491-0999-4749-a6f4-0efc8e06c955",
    "tags": [],
    "deepnote_to_be_reexecuted": false,
    "source_hash": "60c1dc88",
    "execution_start": 1647569587818,
    "execution_millis": 18311,
    "deepnote_cell_type": "code",
    "deepnote_cell_height": 81
   },
   "source": "groundwater_data =  GroundwaterDataset()",
   "execution_count": null,
   "outputs": []
  },
  {
   "cell_type": "code",
   "metadata": {
    "cell_id": "20e38d33-7a35-433e-a4f8-639627b244e6",
    "tags": [],
    "deepnote_to_be_reexecuted": false,
    "source_hash": "2a24b67a",
    "execution_start": 1647569606166,
    "execution_millis": 3374,
    "deepnote_cell_type": "code",
    "deepnote_cell_height": 613.265625
   },
   "source": "groundwater_data.clean_groundwater_data()",
   "execution_count": null,
   "outputs": [
    {
     "output_type": "execute_result",
     "execution_count": 4,
     "data": {
      "application/vnd.deepnote.dataframe.v3+json": {
       "column_count": 14,
       "row_count": 880874,
       "columns": [
        {
         "name": "GWE",
         "dtype": "float64"
        },
        {
         "name": "GSE_GWE",
         "dtype": "float64"
        },
        {
         "name": "MSMT_DATE",
         "dtype": "datetime64[ns]"
        },
        {
         "name": "SITE_CODE",
         "dtype": "object"
        },
        {
         "name": "WLM_GSE",
         "dtype": "float64"
        },
        {
         "name": "WLM_ID",
         "dtype": "int64"
        },
        {
         "name": "WLM_RPE",
         "dtype": "float64"
        },
        {
         "name": "YEAR",
         "dtype": "int64"
        },
        {
         "name": "MONTH",
         "dtype": "int64"
        },
        {
         "name": "LONGITUDE",
         "dtype": "float64"
        },
        {
         "name": "LATITUDE",
         "dtype": "float64"
        },
        {
         "name": "GSE",
         "dtype": "float64"
        },
        {
         "name": "COUNTY_NAME",
         "dtype": "object"
        },
        {
         "name": "WELL_USE",
         "dtype": "object"
        },
        {
         "name": "_deepnote_index_column",
         "dtype": "int64"
        }
       ],
       "rows": [
        {
         "GWE": 136.92,
         "GSE_GWE": 409,
         "MSMT_DATE": "2021-04-29T16:00:00.000000",
         "SITE_CODE": "320000N1140000W001",
         "WLM_GSE": 545.92,
         "WLM_ID": 3016754,
         "WLM_RPE": 545.92,
         "YEAR": 2021,
         "MONTH": 4,
         "LONGITUDE": -121.755,
         "LATITUDE": 36.5605,
         "GSE": "nan",
         "COUNTY_NAME": "Monterey",
         "WELL_USE": "Residential",
         "_deepnote_index_column": 0
        },
        {
         "GWE": 122.92,
         "GSE_GWE": 423,
         "MSMT_DATE": "2020-04-30T00:00:00.000000",
         "SITE_CODE": "320000N1140000W001",
         "WLM_GSE": 545.92,
         "WLM_ID": 2688520,
         "WLM_RPE": 545.92,
         "YEAR": 2020,
         "MONTH": 4,
         "LONGITUDE": -121.755,
         "LATITUDE": 36.5605,
         "GSE": "nan",
         "COUNTY_NAME": "Monterey",
         "WELL_USE": "Residential",
         "_deepnote_index_column": 1
        },
        {
         "GWE": 165.92,
         "GSE_GWE": 380,
         "MSMT_DATE": "2020-03-26T00:00:00.000000",
         "SITE_CODE": "320000N1140000W001",
         "WLM_GSE": 545.92,
         "WLM_ID": 2688519,
         "WLM_RPE": 545.92,
         "YEAR": 2020,
         "MONTH": 3,
         "LONGITUDE": -121.755,
         "LATITUDE": 36.5605,
         "GSE": "nan",
         "COUNTY_NAME": "Monterey",
         "WELL_USE": "Residential",
         "_deepnote_index_column": 2
        },
        {
         "GWE": 163.92,
         "GSE_GWE": 382,
         "MSMT_DATE": "2020-02-27T00:00:00.000000",
         "SITE_CODE": "320000N1140000W001",
         "WLM_GSE": 545.92,
         "WLM_ID": 2688518,
         "WLM_RPE": 545.92,
         "YEAR": 2020,
         "MONTH": 2,
         "LONGITUDE": -121.755,
         "LATITUDE": 36.5605,
         "GSE": "nan",
         "COUNTY_NAME": "Monterey",
         "WELL_USE": "Residential",
         "_deepnote_index_column": 3
        },
        {
         "GWE": 162.92,
         "GSE_GWE": 383,
         "MSMT_DATE": "2020-01-30T00:00:00.000000",
         "SITE_CODE": "320000N1140000W001",
         "WLM_GSE": 545.92,
         "WLM_ID": 2688517,
         "WLM_RPE": 545.92,
         "YEAR": 2020,
         "MONTH": 1,
         "LONGITUDE": -121.755,
         "LATITUDE": 36.5605,
         "GSE": "nan",
         "COUNTY_NAME": "Monterey",
         "WELL_USE": "Residential",
         "_deepnote_index_column": 4
        },
        {
         "GWE": 166.62,
         "GSE_GWE": 379.3,
         "MSMT_DATE": "2018-04-26T00:00:00.000000",
         "SITE_CODE": "320000N1140000W001",
         "WLM_GSE": 545.92,
         "WLM_ID": 2408997,
         "WLM_RPE": 545.92,
         "YEAR": 2018,
         "MONTH": 4,
         "LONGITUDE": -121.755,
         "LATITUDE": 36.5605,
         "GSE": "nan",
         "COUNTY_NAME": "Monterey",
         "WELL_USE": "Residential",
         "_deepnote_index_column": 5
        },
        {
         "GWE": 167.42,
         "GSE_GWE": 378.5,
         "MSMT_DATE": "2018-03-29T00:00:00.000000",
         "SITE_CODE": "320000N1140000W001",
         "WLM_GSE": 545.92,
         "WLM_ID": 2408883,
         "WLM_RPE": 545.92,
         "YEAR": 2018,
         "MONTH": 3,
         "LONGITUDE": -121.755,
         "LATITUDE": 36.5605,
         "GSE": "nan",
         "COUNTY_NAME": "Monterey",
         "WELL_USE": "Residential",
         "_deepnote_index_column": 6
        },
        {
         "GWE": 164.52,
         "GSE_GWE": 381.4,
         "MSMT_DATE": "2018-02-22T00:00:00.000000",
         "SITE_CODE": "320000N1140000W001",
         "WLM_GSE": 545.92,
         "WLM_ID": 2408882,
         "WLM_RPE": 545.92,
         "YEAR": 2018,
         "MONTH": 2,
         "LONGITUDE": -121.755,
         "LATITUDE": 36.5605,
         "GSE": "nan",
         "COUNTY_NAME": "Monterey",
         "WELL_USE": "Residential",
         "_deepnote_index_column": 7
        },
        {
         "GWE": 166.92,
         "GSE_GWE": 379,
         "MSMT_DATE": "2018-01-25T00:00:00.000000",
         "SITE_CODE": "320000N1140000W001",
         "WLM_GSE": 545.92,
         "WLM_ID": 2408881,
         "WLM_RPE": 545.92,
         "YEAR": 2018,
         "MONTH": 1,
         "LONGITUDE": -121.755,
         "LATITUDE": 36.5605,
         "GSE": "nan",
         "COUNTY_NAME": "Monterey",
         "WELL_USE": "Residential",
         "_deepnote_index_column": 8
        },
        {
         "GWE": 165.92,
         "GSE_GWE": 380,
         "MSMT_DATE": "2017-04-27T00:00:00.000000",
         "SITE_CODE": "320000N1140000W001",
         "WLM_GSE": 545.92,
         "WLM_ID": 2408552,
         "WLM_RPE": 545.92,
         "YEAR": 2017,
         "MONTH": 4,
         "LONGITUDE": -121.755,
         "LATITUDE": 36.5605,
         "GSE": "nan",
         "COUNTY_NAME": "Monterey",
         "WELL_USE": "Residential",
         "_deepnote_index_column": 9
        }
       ]
      },
      "text/plain": "            GWE  GSE_GWE           MSMT_DATE           SITE_CODE  WLM_GSE  \\\n0        136.92    409.0 2021-04-29 16:00:00  320000N1140000W001   545.92   \n1        122.92    423.0 2020-04-30 00:00:00  320000N1140000W001   545.92   \n2        165.92    380.0 2020-03-26 00:00:00  320000N1140000W001   545.92   \n3        163.92    382.0 2020-02-27 00:00:00  320000N1140000W001   545.92   \n4        162.92    383.0 2020-01-30 00:00:00  320000N1140000W001   545.92   \n...         ...      ...                 ...                 ...      ...   \n895604  4019.90     40.1 2002-03-13 00:00:00  420171N1214111W001  4060.00   \n895605  4019.10     40.9 2002-02-27 00:00:00  420171N1214111W001  4060.00   \n895606  4018.50     41.5 2002-02-13 00:00:00  420171N1214111W001  4060.00   \n895607  4017.80     42.2 2002-01-30 00:00:00  420171N1214111W001  4060.00   \n895608  4016.30     43.7 2002-01-03 00:00:00  420171N1214111W001  4060.00   \n\n         WLM_ID  WLM_RPE  YEAR  MONTH  LONGITUDE  LATITUDE     GSE  \\\n0       3016754   545.92  2021      4   -121.755   36.5605     NaN   \n1       2688520   545.92  2020      4   -121.755   36.5605     NaN   \n2       2688519   545.92  2020      3   -121.755   36.5605     NaN   \n3       2688518   545.92  2020      2   -121.755   36.5605     NaN   \n4       2688517   545.92  2020      1   -121.755   36.5605     NaN   \n...         ...      ...   ...    ...        ...       ...     ...   \n895604   675334  4061.00  2002      3   -121.411   42.0120  4060.0   \n895605   675333  4061.00  2002      2   -121.411   42.0120  4060.0   \n895606   675332  4061.00  2002      2   -121.411   42.0120  4060.0   \n895607   675331  4061.00  2002      1   -121.411   42.0120  4060.0   \n895608   675330  4061.00  2002      1   -121.411   42.0120  4060.0   \n\n        COUNTY_NAME     WELL_USE  \n0          Monterey  Residential  \n1          Monterey  Residential  \n2          Monterey  Residential  \n3          Monterey  Residential  \n4          Monterey  Residential  \n...             ...          ...  \n895604  Klamath, OR        Other  \n895605  Klamath, OR        Other  \n895606  Klamath, OR        Other  \n895607  Klamath, OR        Other  \n895608  Klamath, OR        Other  \n\n[880874 rows x 14 columns]",
      "text/html": "<div>\n<style scoped>\n    .dataframe tbody tr th:only-of-type {\n        vertical-align: middle;\n    }\n\n    .dataframe tbody tr th {\n        vertical-align: top;\n    }\n\n    .dataframe thead th {\n        text-align: right;\n    }\n</style>\n<table border=\"1\" class=\"dataframe\">\n  <thead>\n    <tr style=\"text-align: right;\">\n      <th></th>\n      <th>GWE</th>\n      <th>GSE_GWE</th>\n      <th>MSMT_DATE</th>\n      <th>SITE_CODE</th>\n      <th>WLM_GSE</th>\n      <th>WLM_ID</th>\n      <th>WLM_RPE</th>\n      <th>YEAR</th>\n      <th>MONTH</th>\n      <th>LONGITUDE</th>\n      <th>LATITUDE</th>\n      <th>GSE</th>\n      <th>COUNTY_NAME</th>\n      <th>WELL_USE</th>\n    </tr>\n  </thead>\n  <tbody>\n    <tr>\n      <th>0</th>\n      <td>136.92</td>\n      <td>409.0</td>\n      <td>2021-04-29 16:00:00</td>\n      <td>320000N1140000W001</td>\n      <td>545.92</td>\n      <td>3016754</td>\n      <td>545.92</td>\n      <td>2021</td>\n      <td>4</td>\n      <td>-121.755</td>\n      <td>36.5605</td>\n      <td>NaN</td>\n      <td>Monterey</td>\n      <td>Residential</td>\n    </tr>\n    <tr>\n      <th>1</th>\n      <td>122.92</td>\n      <td>423.0</td>\n      <td>2020-04-30 00:00:00</td>\n      <td>320000N1140000W001</td>\n      <td>545.92</td>\n      <td>2688520</td>\n      <td>545.92</td>\n      <td>2020</td>\n      <td>4</td>\n      <td>-121.755</td>\n      <td>36.5605</td>\n      <td>NaN</td>\n      <td>Monterey</td>\n      <td>Residential</td>\n    </tr>\n    <tr>\n      <th>2</th>\n      <td>165.92</td>\n      <td>380.0</td>\n      <td>2020-03-26 00:00:00</td>\n      <td>320000N1140000W001</td>\n      <td>545.92</td>\n      <td>2688519</td>\n      <td>545.92</td>\n      <td>2020</td>\n      <td>3</td>\n      <td>-121.755</td>\n      <td>36.5605</td>\n      <td>NaN</td>\n      <td>Monterey</td>\n      <td>Residential</td>\n    </tr>\n    <tr>\n      <th>3</th>\n      <td>163.92</td>\n      <td>382.0</td>\n      <td>2020-02-27 00:00:00</td>\n      <td>320000N1140000W001</td>\n      <td>545.92</td>\n      <td>2688518</td>\n      <td>545.92</td>\n      <td>2020</td>\n      <td>2</td>\n      <td>-121.755</td>\n      <td>36.5605</td>\n      <td>NaN</td>\n      <td>Monterey</td>\n      <td>Residential</td>\n    </tr>\n    <tr>\n      <th>4</th>\n      <td>162.92</td>\n      <td>383.0</td>\n      <td>2020-01-30 00:00:00</td>\n      <td>320000N1140000W001</td>\n      <td>545.92</td>\n      <td>2688517</td>\n      <td>545.92</td>\n      <td>2020</td>\n      <td>1</td>\n      <td>-121.755</td>\n      <td>36.5605</td>\n      <td>NaN</td>\n      <td>Monterey</td>\n      <td>Residential</td>\n    </tr>\n    <tr>\n      <th>...</th>\n      <td>...</td>\n      <td>...</td>\n      <td>...</td>\n      <td>...</td>\n      <td>...</td>\n      <td>...</td>\n      <td>...</td>\n      <td>...</td>\n      <td>...</td>\n      <td>...</td>\n      <td>...</td>\n      <td>...</td>\n      <td>...</td>\n      <td>...</td>\n    </tr>\n    <tr>\n      <th>895604</th>\n      <td>4019.90</td>\n      <td>40.1</td>\n      <td>2002-03-13 00:00:00</td>\n      <td>420171N1214111W001</td>\n      <td>4060.00</td>\n      <td>675334</td>\n      <td>4061.00</td>\n      <td>2002</td>\n      <td>3</td>\n      <td>-121.411</td>\n      <td>42.0120</td>\n      <td>4060.0</td>\n      <td>Klamath, OR</td>\n      <td>Other</td>\n    </tr>\n    <tr>\n      <th>895605</th>\n      <td>4019.10</td>\n      <td>40.9</td>\n      <td>2002-02-27 00:00:00</td>\n      <td>420171N1214111W001</td>\n      <td>4060.00</td>\n      <td>675333</td>\n      <td>4061.00</td>\n      <td>2002</td>\n      <td>2</td>\n      <td>-121.411</td>\n      <td>42.0120</td>\n      <td>4060.0</td>\n      <td>Klamath, OR</td>\n      <td>Other</td>\n    </tr>\n    <tr>\n      <th>895606</th>\n      <td>4018.50</td>\n      <td>41.5</td>\n      <td>2002-02-13 00:00:00</td>\n      <td>420171N1214111W001</td>\n      <td>4060.00</td>\n      <td>675332</td>\n      <td>4061.00</td>\n      <td>2002</td>\n      <td>2</td>\n      <td>-121.411</td>\n      <td>42.0120</td>\n      <td>4060.0</td>\n      <td>Klamath, OR</td>\n      <td>Other</td>\n    </tr>\n    <tr>\n      <th>895607</th>\n      <td>4017.80</td>\n      <td>42.2</td>\n      <td>2002-01-30 00:00:00</td>\n      <td>420171N1214111W001</td>\n      <td>4060.00</td>\n      <td>675331</td>\n      <td>4061.00</td>\n      <td>2002</td>\n      <td>1</td>\n      <td>-121.411</td>\n      <td>42.0120</td>\n      <td>4060.0</td>\n      <td>Klamath, OR</td>\n      <td>Other</td>\n    </tr>\n    <tr>\n      <th>895608</th>\n      <td>4016.30</td>\n      <td>43.7</td>\n      <td>2002-01-03 00:00:00</td>\n      <td>420171N1214111W001</td>\n      <td>4060.00</td>\n      <td>675330</td>\n      <td>4061.00</td>\n      <td>2002</td>\n      <td>1</td>\n      <td>-121.411</td>\n      <td>42.0120</td>\n      <td>4060.0</td>\n      <td>Klamath, OR</td>\n      <td>Other</td>\n    </tr>\n  </tbody>\n</table>\n<p>880874 rows × 14 columns</p>\n</div>"
     },
     "metadata": {}
    }
   ]
  },
  {
   "cell_type": "code",
   "metadata": {
    "cell_id": "0cce9908-cbb1-472d-9751-8a846659dfbb",
    "tags": [],
    "deepnote_to_be_reexecuted": false,
    "source_hash": "4f03169f",
    "execution_start": 1647569609546,
    "execution_millis": 559,
    "deepnote_cell_type": "code",
    "deepnote_cell_height": 525,
    "deepnote_output_heights": [
     428
    ]
   },
   "source": "groundwater_data.draw_mising_data_chart()",
   "execution_count": null,
   "outputs": [
    {
     "output_type": "execute_result",
     "execution_count": 5,
     "data": {
      "text/html": "\n<div id=\"altair-viz-74920511c0ae4506b5ed253ec4c8de99\"></div>\n<script type=\"text/javascript\">\n  var VEGA_DEBUG = (typeof VEGA_DEBUG == \"undefined\") ? {} : VEGA_DEBUG;\n  (function(spec, embedOpt){\n    let outputDiv = document.currentScript.previousElementSibling;\n    if (outputDiv.id !== \"altair-viz-74920511c0ae4506b5ed253ec4c8de99\") {\n      outputDiv = document.getElementById(\"altair-viz-74920511c0ae4506b5ed253ec4c8de99\");\n    }\n    const paths = {\n      \"vega\": \"https://cdn.jsdelivr.net/npm//vega@5?noext\",\n      \"vega-lib\": \"https://cdn.jsdelivr.net/npm//vega-lib?noext\",\n      \"vega-lite\": \"https://cdn.jsdelivr.net/npm//vega-lite@4.17.0?noext\",\n      \"vega-embed\": \"https://cdn.jsdelivr.net/npm//vega-embed@6?noext\",\n    };\n\n    function maybeLoadScript(lib, version) {\n      var key = `${lib.replace(\"-\", \"\")}_version`;\n      return (VEGA_DEBUG[key] == version) ?\n        Promise.resolve(paths[lib]) :\n        new Promise(function(resolve, reject) {\n          var s = document.createElement('script');\n          document.getElementsByTagName(\"head\")[0].appendChild(s);\n          s.async = true;\n          s.onload = () => {\n            VEGA_DEBUG[key] = version;\n            return resolve(paths[lib]);\n          };\n          s.onerror = () => reject(`Error loading script: ${paths[lib]}`);\n          s.src = paths[lib];\n        });\n    }\n\n    function showError(err) {\n      outputDiv.innerHTML = `<div class=\"error\" style=\"color:red;\">${err}</div>`;\n      throw err;\n    }\n\n    function displayChart(vegaEmbed) {\n      vegaEmbed(outputDiv, spec, embedOpt)\n        .catch(err => showError(`Javascript Error: ${err.message}<br>This usually means there's a typo in your chart specification. See the javascript console for the full traceback.`));\n    }\n\n    if(typeof define === \"function\" && define.amd) {\n      requirejs.config({paths});\n      require([\"vega-embed\"], displayChart, err => showError(`Error loading script: ${err.message}`));\n    } else {\n      maybeLoadScript(\"vega\", \"5\")\n        .then(() => maybeLoadScript(\"vega-lite\", \"4.17.0\"))\n        .then(() => maybeLoadScript(\"vega-embed\", \"6\"))\n        .catch(showError)\n        .then(() => displayChart(vegaEmbed));\n    }\n  })({\"config\": {\"view\": {\"continuousWidth\": 400, \"continuousHeight\": 300}}, \"layer\": [{\"mark\": \"bar\", \"encoding\": {\"color\": {\"value\": \"orange\"}, \"tooltip\": [{\"field\": \"column_name\", \"type\": \"nominal\"}, {\"field\": \"percent_missing\", \"type\": \"quantitative\"}], \"x\": {\"field\": \"column_name\", \"sort\": [\"WELL_USE\", \"GSE\", \"GWE\", \"GSE_GWE\", \"MSMT_DATE\", \"SITE_CODE\", \"WLM_GSE\", \"WLM_ID\", \"WLM_RPE\", \"YEAR\", \"MONTH\", \"LONGITUDE\", \"LATITUDE\", \"COUNTY_NAME\"], \"type\": \"nominal\"}, \"y\": {\"aggregate\": \"sum\", \"axis\": {\"format\": \"%\"}, \"field\": \"percent_missing\", \"stack\": \"normalize\", \"type\": \"quantitative\"}}}, {\"mark\": {\"type\": \"text\", \"align\": \"center\", \"color\": \"black\", \"fontSize\": 10}, \"encoding\": {\"color\": {\"value\": \"orange\"}, \"text\": {\"field\": \"percent_missing\", \"format\": \".0%\", \"type\": \"quantitative\"}, \"tooltip\": [{\"field\": \"column_name\", \"type\": \"nominal\"}, {\"field\": \"percent_missing\", \"type\": \"quantitative\"}], \"x\": {\"field\": \"column_name\", \"sort\": [\"WELL_USE\", \"GSE\", \"GWE\", \"GSE_GWE\", \"MSMT_DATE\", \"SITE_CODE\", \"WLM_GSE\", \"WLM_ID\", \"WLM_RPE\", \"YEAR\", \"MONTH\", \"LONGITUDE\", \"LATITUDE\", \"COUNTY_NAME\"], \"type\": \"nominal\"}, \"y\": {\"field\": \"position\", \"type\": \"quantitative\"}}, \"transform\": [{\"calculate\": \"datum.percent_missing + 0.05 * datum.percent_missing / abs(datum.percent_missing)\", \"as\": \"position\"}]}], \"data\": {\"name\": \"data-c77e3245cce9376dfe12d7f5cb823dbc\"}, \"$schema\": \"https://vega.github.io/schema/vega-lite/v4.17.0.json\", \"datasets\": {\"data-c77e3245cce9376dfe12d7f5cb823dbc\": [{\"column_name\": \"WELL_USE\", \"percent_missing\": 0.008370096063682206}, {\"column_name\": \"GSE\", \"percent_missing\": 1.9299014387982843e-05}, {\"column_name\": \"GWE\", \"percent_missing\": 0.0}, {\"column_name\": \"GSE_GWE\", \"percent_missing\": 0.0}, {\"column_name\": \"MSMT_DATE\", \"percent_missing\": 0.0}, {\"column_name\": \"SITE_CODE\", \"percent_missing\": 0.0}, {\"column_name\": \"WLM_GSE\", \"percent_missing\": 0.0}, {\"column_name\": \"WLM_ID\", \"percent_missing\": 0.0}, {\"column_name\": \"WLM_RPE\", \"percent_missing\": 0.0}, {\"column_name\": \"YEAR\", \"percent_missing\": 0.0}, {\"column_name\": \"MONTH\", \"percent_missing\": 0.0}, {\"column_name\": \"LONGITUDE\", \"percent_missing\": 0.0}, {\"column_name\": \"LATITUDE\", \"percent_missing\": 0.0}, {\"column_name\": \"COUNTY_NAME\", \"percent_missing\": 0.0}]}}, {\"mode\": \"vega-lite\"});\n</script>",
      "text/plain": "alt.LayerChart(...)"
     },
     "metadata": {}
    }
   ]
  },
  {
   "cell_type": "code",
   "metadata": {
    "cell_id": "8f2ab9f4-ccb0-466b-a95f-05076c5ba5fd",
    "tags": [],
    "deepnote_to_be_reexecuted": false,
    "source_hash": "8cbfb373",
    "execution_start": 1647569610113,
    "execution_millis": 4512,
    "deepnote_cell_type": "code",
    "deepnote_cell_height": 613.265625
   },
   "source": "groundwater_data.merge_data_plss()",
   "execution_count": null,
   "outputs": [
    {
     "output_type": "execute_result",
     "execution_count": 6,
     "data": {
      "application/vnd.deepnote.dataframe.v3+json": {
       "column_count": 24,
       "row_count": 331268,
       "columns": [
        {
         "name": "GWE",
         "dtype": "float64"
        },
        {
         "name": "GSE_GWE",
         "dtype": "float64"
        },
        {
         "name": "MSMT_DATE",
         "dtype": "datetime64[ns]"
        },
        {
         "name": "SITE_CODE",
         "dtype": "object"
        },
        {
         "name": "WLM_GSE",
         "dtype": "float64"
        },
        {
         "name": "WLM_ID",
         "dtype": "int64"
        },
        {
         "name": "WLM_RPE",
         "dtype": "float64"
        },
        {
         "name": "YEAR",
         "dtype": "int64"
        },
        {
         "name": "MONTH",
         "dtype": "int64"
        },
        {
         "name": "LONGITUDE",
         "dtype": "float64"
        },
        {
         "name": "LATITUDE",
         "dtype": "float64"
        },
        {
         "name": "GSE",
         "dtype": "float64"
        },
        {
         "name": "COUNTY_NAME",
         "dtype": "object"
        },
        {
         "name": "WELL_USE",
         "dtype": "object"
        },
        {
         "name": "geometry",
         "dtype": "geometry"
        },
        {
         "name": "index_right",
         "dtype": "float64"
        },
        {
         "name": "OBJECTID",
         "dtype": "float64"
        },
        {
         "name": "Township",
         "dtype": "object"
        },
        {
         "name": "Range",
         "dtype": "object"
        },
        {
         "name": "Meridian",
         "dtype": "object"
        },
        {
         "name": "Source",
         "dtype": "object"
        },
        {
         "name": "Section",
         "dtype": "float64"
        },
        {
         "name": "MTRS",
         "dtype": "object"
        },
        {
         "name": "TownshipRange",
         "dtype": "object"
        },
        {
         "name": "_deepnote_index_column",
         "dtype": "int64"
        }
       ],
       "rows": [
        {
         "GWE": 90,
         "GSE_GWE": 254,
         "MSMT_DATE": "2012-02-02T00:00:00.000000",
         "SITE_CODE": "344779N1192479W001",
         "WLM_GSE": 344,
         "WLM_ID": 54535,
         "WLM_RPE": 346,
         "YEAR": 2012,
         "MONTH": 2,
         "LONGITUDE": -119.248,
         "LATITUDE": 35.4779,
         "GSE": 344,
         "COUNTY_NAME": "Kern",
         "WELL_USE": "Irrigation",
         "geometry": "POINT (-119.248 35.4779)",
         "index_right": 12667,
         "OBJECTID": 87185,
         "Township": "T28S",
         "Range": "R25E",
         "Meridian": "MDM",
         "Source": "BLM",
         "Section": 23,
         "MTRS": "MDM-T28S-R25E-23",
         "TownshipRange": "T28S R25E",
         "_deepnote_index_column": 182895
        },
        {
         "GWE": 38,
         "GSE_GWE": 306,
         "MSMT_DATE": "2020-03-11T00:00:00.000000",
         "SITE_CODE": "344779N1192479W001",
         "WLM_GSE": 344,
         "WLM_ID": 2625242,
         "WLM_RPE": 346,
         "YEAR": 2020,
         "MONTH": 3,
         "LONGITUDE": -119.248,
         "LATITUDE": 35.4779,
         "GSE": 344,
         "COUNTY_NAME": "Kern",
         "WELL_USE": "Irrigation",
         "geometry": "POINT (-119.248 35.4779)",
         "index_right": 12667,
         "OBJECTID": 87185,
         "Township": "T28S",
         "Range": "R25E",
         "Meridian": "MDM",
         "Source": "BLM",
         "Section": 23,
         "MTRS": "MDM-T28S-R25E-23",
         "TownshipRange": "T28S R25E",
         "_deepnote_index_column": 182896
        },
        {
         "GWE": 36,
         "GSE_GWE": 308,
         "MSMT_DATE": "2019-02-01T00:00:00.000000",
         "SITE_CODE": "344779N1192479W001",
         "WLM_GSE": 344,
         "WLM_ID": 2470090,
         "WLM_RPE": 346,
         "YEAR": 2019,
         "MONTH": 2,
         "LONGITUDE": -119.248,
         "LATITUDE": 35.4779,
         "GSE": 344,
         "COUNTY_NAME": "Kern",
         "WELL_USE": "Irrigation",
         "geometry": "POINT (-119.248 35.4779)",
         "index_right": 12667,
         "OBJECTID": 87185,
         "Township": "T28S",
         "Range": "R25E",
         "Meridian": "MDM",
         "Source": "BLM",
         "Section": 23,
         "MTRS": "MDM-T28S-R25E-23",
         "TownshipRange": "T28S R25E",
         "_deepnote_index_column": 182897
        },
        {
         "GWE": 47,
         "GSE_GWE": 297,
         "MSMT_DATE": "2018-02-06T00:00:00.000000",
         "SITE_CODE": "344779N1192479W001",
         "WLM_GSE": 344,
         "WLM_ID": 2307506,
         "WLM_RPE": 346,
         "YEAR": 2018,
         "MONTH": 2,
         "LONGITUDE": -119.248,
         "LATITUDE": 35.4779,
         "GSE": 344,
         "COUNTY_NAME": "Kern",
         "WELL_USE": "Irrigation",
         "geometry": "POINT (-119.248 35.4779)",
         "index_right": 12667,
         "OBJECTID": 87185,
         "Township": "T28S",
         "Range": "R25E",
         "Meridian": "MDM",
         "Source": "BLM",
         "Section": 23,
         "MTRS": "MDM-T28S-R25E-23",
         "TownshipRange": "T28S R25E",
         "_deepnote_index_column": 182898
        },
        {
         "GWE": 46,
         "GSE_GWE": 298,
         "MSMT_DATE": "2017-02-08T00:00:00.000000",
         "SITE_CODE": "344779N1192479W001",
         "WLM_GSE": 344,
         "WLM_ID": 2252519,
         "WLM_RPE": 346,
         "YEAR": 2017,
         "MONTH": 2,
         "LONGITUDE": -119.248,
         "LATITUDE": 35.4779,
         "GSE": 344,
         "COUNTY_NAME": "Kern",
         "WELL_USE": "Irrigation",
         "geometry": "POINT (-119.248 35.4779)",
         "index_right": 12667,
         "OBJECTID": 87185,
         "Township": "T28S",
         "Range": "R25E",
         "Meridian": "MDM",
         "Source": "BLM",
         "Section": 23,
         "MTRS": "MDM-T28S-R25E-23",
         "TownshipRange": "T28S R25E",
         "_deepnote_index_column": 182899
        },
        {
         "GWE": 52,
         "GSE_GWE": 292,
         "MSMT_DATE": "2016-02-04T00:00:00.000000",
         "SITE_CODE": "344779N1192479W001",
         "WLM_GSE": 344,
         "WLM_ID": 2182473,
         "WLM_RPE": 346,
         "YEAR": 2016,
         "MONTH": 2,
         "LONGITUDE": -119.248,
         "LATITUDE": 35.4779,
         "GSE": 344,
         "COUNTY_NAME": "Kern",
         "WELL_USE": "Irrigation",
         "geometry": "POINT (-119.248 35.4779)",
         "index_right": 12667,
         "OBJECTID": 87185,
         "Township": "T28S",
         "Range": "R25E",
         "Meridian": "MDM",
         "Source": "BLM",
         "Section": 23,
         "MTRS": "MDM-T28S-R25E-23",
         "TownshipRange": "T28S R25E",
         "_deepnote_index_column": 182900
        },
        {
         "GWE": 64,
         "GSE_GWE": 280,
         "MSMT_DATE": "2015-02-06T00:00:00.000000",
         "SITE_CODE": "344779N1192479W001",
         "WLM_GSE": 344,
         "WLM_ID": 2140375,
         "WLM_RPE": 346,
         "YEAR": 2015,
         "MONTH": 2,
         "LONGITUDE": -119.248,
         "LATITUDE": 35.4779,
         "GSE": 344,
         "COUNTY_NAME": "Kern",
         "WELL_USE": "Irrigation",
         "geometry": "POINT (-119.248 35.4779)",
         "index_right": 12667,
         "OBJECTID": 87185,
         "Township": "T28S",
         "Range": "R25E",
         "Meridian": "MDM",
         "Source": "BLM",
         "Section": 23,
         "MTRS": "MDM-T28S-R25E-23",
         "TownshipRange": "T28S R25E",
         "_deepnote_index_column": 182901
        },
        {
         "GWE": 72,
         "GSE_GWE": 272,
         "MSMT_DATE": "2014-02-10T00:00:00.000000",
         "SITE_CODE": "344779N1192479W001",
         "WLM_GSE": 344,
         "WLM_ID": 1881220,
         "WLM_RPE": 346,
         "YEAR": 2014,
         "MONTH": 2,
         "LONGITUDE": -119.248,
         "LATITUDE": 35.4779,
         "GSE": 344,
         "COUNTY_NAME": "Kern",
         "WELL_USE": "Irrigation",
         "geometry": "POINT (-119.248 35.4779)",
         "index_right": 12667,
         "OBJECTID": 87185,
         "Township": "T28S",
         "Range": "R25E",
         "Meridian": "MDM",
         "Source": "BLM",
         "Section": 23,
         "MTRS": "MDM-T28S-R25E-23",
         "TownshipRange": "T28S R25E",
         "_deepnote_index_column": 182902
        },
        {
         "GWE": 82,
         "GSE_GWE": 262,
         "MSMT_DATE": "2013-02-04T00:00:00.000000",
         "SITE_CODE": "344779N1192479W001",
         "WLM_GSE": 344,
         "WLM_ID": 1684387,
         "WLM_RPE": 346,
         "YEAR": 2013,
         "MONTH": 2,
         "LONGITUDE": -119.248,
         "LATITUDE": 35.4779,
         "GSE": 344,
         "COUNTY_NAME": "Kern",
         "WELL_USE": "Irrigation",
         "geometry": "POINT (-119.248 35.4779)",
         "index_right": 12667,
         "OBJECTID": 87185,
         "Township": "T28S",
         "Range": "R25E",
         "Meridian": "MDM",
         "Source": "BLM",
         "Section": 23,
         "MTRS": "MDM-T28S-R25E-23",
         "TownshipRange": "T28S R25E",
         "_deepnote_index_column": 182903
        },
        {
         "GWE": 806.9,
         "GSE_GWE": 156.1,
         "MSMT_DATE": "2021-02-08T00:00:00.000000",
         "SITE_CODE": "349701N1188365W001",
         "WLM_GSE": 963,
         "WLM_ID": 2865734,
         "WLM_RPE": 963,
         "YEAR": 2021,
         "MONTH": 2,
         "LONGITUDE": -118.837,
         "LATITUDE": 34.9701,
         "GSE": 963,
         "COUNTY_NAME": "Kern",
         "WELL_USE": "Observation",
         "geometry": "POINT (-118.837 34.9701)",
         "index_right": 14089,
         "OBJECTID": 145885,
         "Township": "T10N",
         "Range": "R18W",
         "Meridian": "SBM",
         "Source": "DGR",
         "Section": 6,
         "MTRS": "SBM-T10N-R18W-6",
         "TownshipRange": "T10N R18W",
         "_deepnote_index_column": 240128
        }
       ]
      },
      "text/plain": "          GWE  GSE_GWE           MSMT_DATE           SITE_CODE  WLM_GSE  \\\n182895  90.00   254.00 2012-02-02 00:00:00  344779N1192479W001    344.0   \n182896  38.00   306.00 2020-03-11 00:00:00  344779N1192479W001    344.0   \n182897  36.00   308.00 2019-02-01 00:00:00  344779N1192479W001    344.0   \n182898  47.00   297.00 2018-02-06 00:00:00  344779N1192479W001    344.0   \n182899  46.00   298.00 2017-02-08 00:00:00  344779N1192479W001    344.0   \n...       ...      ...                 ...                 ...      ...   \n747576 -11.24    15.24 2018-03-30 12:00:00  385330N1213710W005      4.0   \n747577 -10.04    14.04 2017-04-06 12:00:00  385330N1213710W005      4.0   \n747578 -13.54    17.54 2016-04-15 12:00:00  385330N1213710W005      4.0   \n747579 -13.74    17.74 2015-03-23 12:00:00  385330N1213710W005      4.0   \n747580 -12.94    16.94 2014-03-21 00:00:00  385330N1213710W005      4.0   \n\n         WLM_ID  WLM_RPE  YEAR  MONTH  LONGITUDE  ...  \\\n182895    54535   346.00  2012      2   -119.248  ...   \n182896  2625242   346.00  2020      3   -119.248  ...   \n182897  2470090   346.00  2019      2   -119.248  ...   \n182898  2307506   346.00  2018      2   -119.248  ...   \n182899  2252519   346.00  2017      2   -119.248  ...   \n...         ...      ...   ...    ...        ...  ...   \n747576  2294596     4.46  2018      3   -121.371  ...   \n747577  2255586     4.46  2017      4   -121.371  ...   \n747578  2194570     4.46  2016      4   -121.371  ...   \n747579  2132808     4.46  2015      3   -121.371  ...   \n747580  1883190     4.46  2014      3   -121.371  ...   \n\n                           geometry  index_right OBJECTID Township Range  \\\n182895  POINT (-119.24800 35.47790)      12667.0  87185.0     T28S  R25E   \n182896  POINT (-119.24800 35.47790)      12667.0  87185.0     T28S  R25E   \n182897  POINT (-119.24800 35.47790)      12667.0  87185.0     T28S  R25E   \n182898  POINT (-119.24800 35.47790)      12667.0  87185.0     T28S  R25E   \n182899  POINT (-119.24800 35.47790)      12667.0  87185.0     T28S  R25E   \n...                             ...          ...      ...      ...   ...   \n747576  POINT (-121.37100 38.05450)        848.0  11047.0     T02N  R05E   \n747577  POINT (-121.37100 38.05450)        848.0  11047.0     T02N  R05E   \n747578  POINT (-121.37100 38.05450)        848.0  11047.0     T02N  R05E   \n747579  POINT (-121.37100 38.05450)        848.0  11047.0     T02N  R05E   \n747580  POINT (-121.37100 38.05450)        848.0  11047.0     T02N  R05E   \n\n        Meridian  Source Section              MTRS TownshipRange  \n182895       MDM     BLM    23.0  MDM-T28S-R25E-23     T28S R25E  \n182896       MDM     BLM    23.0  MDM-T28S-R25E-23     T28S R25E  \n182897       MDM     BLM    23.0  MDM-T28S-R25E-23     T28S R25E  \n182898       MDM     BLM    23.0  MDM-T28S-R25E-23     T28S R25E  \n182899       MDM     BLM    23.0  MDM-T28S-R25E-23     T28S R25E  \n...          ...     ...     ...               ...           ...  \n747576       MDM     DGR     1.0   MDM-T02N-R05E-1     T02N R05E  \n747577       MDM     DGR     1.0   MDM-T02N-R05E-1     T02N R05E  \n747578       MDM     DGR     1.0   MDM-T02N-R05E-1     T02N R05E  \n747579       MDM     DGR     1.0   MDM-T02N-R05E-1     T02N R05E  \n747580       MDM     DGR     1.0   MDM-T02N-R05E-1     T02N R05E  \n\n[331268 rows x 24 columns]",
      "text/html": "<div>\n<style scoped>\n    .dataframe tbody tr th:only-of-type {\n        vertical-align: middle;\n    }\n\n    .dataframe tbody tr th {\n        vertical-align: top;\n    }\n\n    .dataframe thead th {\n        text-align: right;\n    }\n</style>\n<table border=\"1\" class=\"dataframe\">\n  <thead>\n    <tr style=\"text-align: right;\">\n      <th></th>\n      <th>GWE</th>\n      <th>GSE_GWE</th>\n      <th>MSMT_DATE</th>\n      <th>SITE_CODE</th>\n      <th>WLM_GSE</th>\n      <th>WLM_ID</th>\n      <th>WLM_RPE</th>\n      <th>YEAR</th>\n      <th>MONTH</th>\n      <th>LONGITUDE</th>\n      <th>...</th>\n      <th>geometry</th>\n      <th>index_right</th>\n      <th>OBJECTID</th>\n      <th>Township</th>\n      <th>Range</th>\n      <th>Meridian</th>\n      <th>Source</th>\n      <th>Section</th>\n      <th>MTRS</th>\n      <th>TownshipRange</th>\n    </tr>\n  </thead>\n  <tbody>\n    <tr>\n      <th>182895</th>\n      <td>90.00</td>\n      <td>254.00</td>\n      <td>2012-02-02 00:00:00</td>\n      <td>344779N1192479W001</td>\n      <td>344.0</td>\n      <td>54535</td>\n      <td>346.00</td>\n      <td>2012</td>\n      <td>2</td>\n      <td>-119.248</td>\n      <td>...</td>\n      <td>POINT (-119.24800 35.47790)</td>\n      <td>12667.0</td>\n      <td>87185.0</td>\n      <td>T28S</td>\n      <td>R25E</td>\n      <td>MDM</td>\n      <td>BLM</td>\n      <td>23.0</td>\n      <td>MDM-T28S-R25E-23</td>\n      <td>T28S R25E</td>\n    </tr>\n    <tr>\n      <th>182896</th>\n      <td>38.00</td>\n      <td>306.00</td>\n      <td>2020-03-11 00:00:00</td>\n      <td>344779N1192479W001</td>\n      <td>344.0</td>\n      <td>2625242</td>\n      <td>346.00</td>\n      <td>2020</td>\n      <td>3</td>\n      <td>-119.248</td>\n      <td>...</td>\n      <td>POINT (-119.24800 35.47790)</td>\n      <td>12667.0</td>\n      <td>87185.0</td>\n      <td>T28S</td>\n      <td>R25E</td>\n      <td>MDM</td>\n      <td>BLM</td>\n      <td>23.0</td>\n      <td>MDM-T28S-R25E-23</td>\n      <td>T28S R25E</td>\n    </tr>\n    <tr>\n      <th>182897</th>\n      <td>36.00</td>\n      <td>308.00</td>\n      <td>2019-02-01 00:00:00</td>\n      <td>344779N1192479W001</td>\n      <td>344.0</td>\n      <td>2470090</td>\n      <td>346.00</td>\n      <td>2019</td>\n      <td>2</td>\n      <td>-119.248</td>\n      <td>...</td>\n      <td>POINT (-119.24800 35.47790)</td>\n      <td>12667.0</td>\n      <td>87185.0</td>\n      <td>T28S</td>\n      <td>R25E</td>\n      <td>MDM</td>\n      <td>BLM</td>\n      <td>23.0</td>\n      <td>MDM-T28S-R25E-23</td>\n      <td>T28S R25E</td>\n    </tr>\n    <tr>\n      <th>182898</th>\n      <td>47.00</td>\n      <td>297.00</td>\n      <td>2018-02-06 00:00:00</td>\n      <td>344779N1192479W001</td>\n      <td>344.0</td>\n      <td>2307506</td>\n      <td>346.00</td>\n      <td>2018</td>\n      <td>2</td>\n      <td>-119.248</td>\n      <td>...</td>\n      <td>POINT (-119.24800 35.47790)</td>\n      <td>12667.0</td>\n      <td>87185.0</td>\n      <td>T28S</td>\n      <td>R25E</td>\n      <td>MDM</td>\n      <td>BLM</td>\n      <td>23.0</td>\n      <td>MDM-T28S-R25E-23</td>\n      <td>T28S R25E</td>\n    </tr>\n    <tr>\n      <th>182899</th>\n      <td>46.00</td>\n      <td>298.00</td>\n      <td>2017-02-08 00:00:00</td>\n      <td>344779N1192479W001</td>\n      <td>344.0</td>\n      <td>2252519</td>\n      <td>346.00</td>\n      <td>2017</td>\n      <td>2</td>\n      <td>-119.248</td>\n      <td>...</td>\n      <td>POINT (-119.24800 35.47790)</td>\n      <td>12667.0</td>\n      <td>87185.0</td>\n      <td>T28S</td>\n      <td>R25E</td>\n      <td>MDM</td>\n      <td>BLM</td>\n      <td>23.0</td>\n      <td>MDM-T28S-R25E-23</td>\n      <td>T28S R25E</td>\n    </tr>\n    <tr>\n      <th>...</th>\n      <td>...</td>\n      <td>...</td>\n      <td>...</td>\n      <td>...</td>\n      <td>...</td>\n      <td>...</td>\n      <td>...</td>\n      <td>...</td>\n      <td>...</td>\n      <td>...</td>\n      <td>...</td>\n      <td>...</td>\n      <td>...</td>\n      <td>...</td>\n      <td>...</td>\n      <td>...</td>\n      <td>...</td>\n      <td>...</td>\n      <td>...</td>\n      <td>...</td>\n      <td>...</td>\n    </tr>\n    <tr>\n      <th>747576</th>\n      <td>-11.24</td>\n      <td>15.24</td>\n      <td>2018-03-30 12:00:00</td>\n      <td>385330N1213710W005</td>\n      <td>4.0</td>\n      <td>2294596</td>\n      <td>4.46</td>\n      <td>2018</td>\n      <td>3</td>\n      <td>-121.371</td>\n      <td>...</td>\n      <td>POINT (-121.37100 38.05450)</td>\n      <td>848.0</td>\n      <td>11047.0</td>\n      <td>T02N</td>\n      <td>R05E</td>\n      <td>MDM</td>\n      <td>DGR</td>\n      <td>1.0</td>\n      <td>MDM-T02N-R05E-1</td>\n      <td>T02N R05E</td>\n    </tr>\n    <tr>\n      <th>747577</th>\n      <td>-10.04</td>\n      <td>14.04</td>\n      <td>2017-04-06 12:00:00</td>\n      <td>385330N1213710W005</td>\n      <td>4.0</td>\n      <td>2255586</td>\n      <td>4.46</td>\n      <td>2017</td>\n      <td>4</td>\n      <td>-121.371</td>\n      <td>...</td>\n      <td>POINT (-121.37100 38.05450)</td>\n      <td>848.0</td>\n      <td>11047.0</td>\n      <td>T02N</td>\n      <td>R05E</td>\n      <td>MDM</td>\n      <td>DGR</td>\n      <td>1.0</td>\n      <td>MDM-T02N-R05E-1</td>\n      <td>T02N R05E</td>\n    </tr>\n    <tr>\n      <th>747578</th>\n      <td>-13.54</td>\n      <td>17.54</td>\n      <td>2016-04-15 12:00:00</td>\n      <td>385330N1213710W005</td>\n      <td>4.0</td>\n      <td>2194570</td>\n      <td>4.46</td>\n      <td>2016</td>\n      <td>4</td>\n      <td>-121.371</td>\n      <td>...</td>\n      <td>POINT (-121.37100 38.05450)</td>\n      <td>848.0</td>\n      <td>11047.0</td>\n      <td>T02N</td>\n      <td>R05E</td>\n      <td>MDM</td>\n      <td>DGR</td>\n      <td>1.0</td>\n      <td>MDM-T02N-R05E-1</td>\n      <td>T02N R05E</td>\n    </tr>\n    <tr>\n      <th>747579</th>\n      <td>-13.74</td>\n      <td>17.74</td>\n      <td>2015-03-23 12:00:00</td>\n      <td>385330N1213710W005</td>\n      <td>4.0</td>\n      <td>2132808</td>\n      <td>4.46</td>\n      <td>2015</td>\n      <td>3</td>\n      <td>-121.371</td>\n      <td>...</td>\n      <td>POINT (-121.37100 38.05450)</td>\n      <td>848.0</td>\n      <td>11047.0</td>\n      <td>T02N</td>\n      <td>R05E</td>\n      <td>MDM</td>\n      <td>DGR</td>\n      <td>1.0</td>\n      <td>MDM-T02N-R05E-1</td>\n      <td>T02N R05E</td>\n    </tr>\n    <tr>\n      <th>747580</th>\n      <td>-12.94</td>\n      <td>16.94</td>\n      <td>2014-03-21 00:00:00</td>\n      <td>385330N1213710W005</td>\n      <td>4.0</td>\n      <td>1883190</td>\n      <td>4.46</td>\n      <td>2014</td>\n      <td>3</td>\n      <td>-121.371</td>\n      <td>...</td>\n      <td>POINT (-121.37100 38.05450)</td>\n      <td>848.0</td>\n      <td>11047.0</td>\n      <td>T02N</td>\n      <td>R05E</td>\n      <td>MDM</td>\n      <td>DGR</td>\n      <td>1.0</td>\n      <td>MDM-T02N-R05E-1</td>\n      <td>T02N R05E</td>\n    </tr>\n  </tbody>\n</table>\n<p>331268 rows × 24 columns</p>\n</div>"
     },
     "metadata": {}
    }
   ]
  },
  {
   "cell_type": "markdown",
   "source": "#### The below are functions that have now become class methods and do not need to be run",
   "metadata": {
    "cell_id": "28335463-0789-4783-b59f-2aae3fe2a465",
    "tags": [],
    "deepnote_cell_type": "markdown",
    "deepnote_cell_height": 54
   }
  },
  {
   "cell_type": "markdown",
   "source": "",
   "metadata": {
    "cell_id": "ccc9d473-71cc-466e-80c9-1f10a3423e79",
    "tags": [],
    "deepnote_cell_type": "markdown",
    "deepnote_cell_height": 46
   }
  },
  {
   "cell_type": "code",
   "metadata": {
    "cell_id": "5eddcac1-9365-496b-a0b1-6f149e93e33c",
    "tags": [],
    "deepnote_cell_type": "code",
    "deepnote_cell_height": 480
   },
   "source": "groundwater_df = pd.read_csv(r\"/work/assets/inputs/groundwater/groundwater.csv\")\ngroundwaterstations_df = pd.read_csv(r\"/work/assets/inputs/groundwater/groundwater_stations.csv\")\nprint(groundwater_df.shape) # (2530751, 16)\ngroundwater_df.drop(columns=['Unnamed: 0', '_id', 'WLM_ORG_NAME', 'COOP_ORG_NAME', 'WLM_ACC_DESC', 'WLM_QA_DESC', 'WLM_DESC', 'MSMT_CMT', 'MONITORING_PROGRAM' ], inplace=True)\n\ngroundwaterstations_df = groundwaterstations_df.loc[:,['SITE_CODE','LONGITUDE','LATITUDE','GSE','COUNTY_NAME','WELL_USE']].copy()\n\n# create simple year and month columns\ngroundwater_df['MSMT_DATE'] = pd.to_datetime(groundwater_df.MSMT_DATE)\ngroundwater_df['YEAR'] = groundwater_df['MSMT_DATE'].dt.year\ngroundwater_df['MONTH'] = groundwater_df['MSMT_DATE'].dt.month\n\n# Retain only those records that have Groundwater measurements\ngroundwater_df = groundwater_df[~groundwater_df['GSE_GWE'].isnull()] # 2325741 \nprint(groundwater_df.shape) # (2530751, 16)\n\n# merge with station data for location info\nspring_month_groundwater_location = spring_months_groundwater.merge(groundwaterstations_df, on='SITE_CODE')\nspring_month_groundwater_location.sample()\n\n# drop the rows that have incorrect measurements that of 0 or less\nspring_month_groundwater_location = spring_month_groundwater_location[spring_month_groundwater_location['GSE_GWE'] > 0]\n\n",
   "execution_count": null,
   "outputs": []
  },
  {
   "cell_type": "code",
   "metadata": {
    "cell_id": "e412f4e5-efae-4713-a012-8fce9cf10db7",
    "tags": [],
    "deepnote_cell_type": "code",
    "deepnote_cell_height": 390
   },
   "source": "# Follow the routine to create a GeoDataFrame\ngdf_spring_groundwater = gpd.GeoDataFrame(\n    spring_month_groundwater_location, \n    geometry=gpd.points_from_xy(\n        spring_month_groundwater_location.LONGITUDE, \n        spring_month_groundwater_location.LATITUDE\n    ))\n\n#Set the coordinate reference system so that we now have the projection axis\ngdf_spring_groundwater = gdf_spring_groundwater.set_crs('epsg:4326')\n\n# match up based on longitude/latitude\nspring_groundwater_plss = gdf_spring_groundwater.sjoin(SJ_subbasin_plss, how=\"left\")\nspring_groundwater_plss.sample()\n\n# drop the ones that aren't in a subbasin trs\nspring_groundwater_plss = spring_groundwater_plss.dropna(subset=['MTRS'])\n\nspring_groundwater_plss[spring_groundwater_plss['YEAR']==2019]['geometry'].explore(color='TownshipRange')",
   "execution_count": null,
   "outputs": []
  },
  {
   "cell_type": "code",
   "metadata": {
    "cell_id": "d5c2f38b-ddea-4663-9e96-b0591afffc90",
    "tags": [],
    "deepnote_cell_type": "code",
    "deepnote_cell_height": 138
   },
   "source": "# Group wells that had multiple spring measurements in some years and get the average\nspring_groundwater_group = spring_groundwater_plss.groupby(['SITE_CODE','MTRS','TownshipRange','COUNTY_NAME','YEAR']).agg({\n    'GSE_GWE': ['mean'],\n}).reset_index()\n#spring_groundwater_group.columns = ['site','MTRS','TownshipRange','county','year','gse_gwe']",
   "execution_count": null,
   "outputs": []
  },
  {
   "cell_type": "code",
   "metadata": {
    "cell_id": "52e10e06-8f98-4eef-ac86-b44b2e7de72a",
    "tags": [],
    "deepnote_cell_type": "code",
    "deepnote_cell_height": 84
   },
   "source": "# export all measurements for analysis\nspring_groundwater_group.to_csv(\"/work/assets/clean_data/spring_groundwater_levels_clean.csv\", index=False)",
   "execution_count": null,
   "outputs": []
  },
  {
   "cell_type": "markdown",
   "source": "<a style='text-decoration:none;line-height:16px;display:flex;color:#5B5B62;padding:10px;justify-content:end;' href='https://deepnote.com?utm_source=created-in-deepnote-cell&projectId=b042e2da-6536-449d-95b8-d85fa08825de' target=\"_blank\">\n<img alt='Created in deepnote.com' style='display:inline;max-height:16px;margin:0px;margin-right:7.5px;' src='data:image/svg+xml;base64,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' > </img>\nCreated in <span style='font-weight:600;margin-left:4px;'>Deepnote</span></a>",
   "metadata": {
    "tags": [],
    "created_in_deepnote_cell": true,
    "deepnote_cell_type": "markdown"
   }
  }
 ],
 "nbformat": 4,
 "nbformat_minor": 2,
 "metadata": {
  "orig_nbformat": 2,
  "deepnote": {
   "is_reactive": false
  },
  "deepnote_notebook_id": "ffbccf33-5e94-4595-b857-1a62a100c564",
  "deepnote_execution_queue": []
 }
}