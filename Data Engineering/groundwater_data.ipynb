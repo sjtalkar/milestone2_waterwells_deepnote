{
 "cells": [
  {
   "cell_type": "markdown",
   "source": "# San Joaquin  Valley Groundwater data\n\nRelated links:\n\n* For the documentation about this dataset, its source, how to download, and the features of interest, please refer to our [Groundwater Reports Dataset](/doc/assets/groundwater.md) documentation.\n\n*  For the explanations on how the sortage mapping datasets are mapped to TownshipRange please refer to our [Public Land Survey System](../assets/plss_sanjoaquin_riverbasin.md) documentation.\n\n* [Data location](/work/assets/groundwater.csv)",
   "metadata": {
    "cell_id": "9f8f6d34-6305-45d0-bb25-aa88d11ff0a4",
    "tags": [],
    "deepnote_cell_type": "markdown",
    "deepnote_cell_height": 221.53125
   }
  },
  {
   "cell_type": "code",
   "metadata": {
    "cell_id": "2d11b4a3-a26e-4c6a-b72c-35cd89f52b22",
    "tags": [],
    "deepnote_to_be_reexecuted": false,
    "source_hash": "18561438",
    "execution_start": 1647808512129,
    "execution_millis": 1280263,
    "deepnote_cell_type": "code",
    "deepnote_cell_height": 98.953125
   },
   "source": "import sys\nsys.path.append('..')",
   "execution_count": null,
   "outputs": []
  },
  {
   "cell_type": "code",
   "metadata": {
    "cell_id": "a552bf92-b58b-4c59-86eb-b0b435adbe75",
    "tags": [],
    "deepnote_to_be_reexecuted": false,
    "source_hash": "47704982",
    "execution_start": 1647808512179,
    "execution_millis": 1168,
    "deepnote_cell_type": "code",
    "deepnote_cell_height": 152.875
   },
   "source": "import geopandas as gpd\nfrom lib.groundwater import GroundwaterDataset",
   "execution_count": null,
   "outputs": [
    {
     "name": "stderr",
     "text": "/shared-libs/python3.9/py/lib/python3.9/site-packages/geopandas/_compat.py:111: UserWarning: The Shapely GEOS version (3.10.2-CAPI-1.16.0) is incompatible with the GEOS version PyGEOS was compiled with (3.10.1-CAPI-1.16.0). Conversions between both will be slow.\n  warnings.warn(\n",
     "output_type": "stream"
    }
   ]
  },
  {
   "cell_type": "markdown",
   "source": "",
   "metadata": {
    "cell_id": "d682b20b-b71b-4131-9f73-c736287ff5a2",
    "tags": [],
    "deepnote_cell_type": "markdown",
    "deepnote_cell_height": 45.953125
   }
  },
  {
   "cell_type": "markdown",
   "source": "##### Groundwater measurements\nhttps://data.cnra.ca.gov/dataset/periodic-groundwater-level-measurements\n\n- The elevation of the groundwater surface  can be calculated by subtracting the depth to groundwater from the ground surface elevation.\n\n> [Water levels in many aquifers](https://pubs.usgs.gov/circ/circ1217/pdf/circ1217_final.pdf) in the United States follow a natural cyclic pattern of seasonal \n> fluctuation,typically rising during the winter and spring due to greater precipitation and recharge, then declining during the summer\n> and fall owing to less recharge and greater evapotranspiration. Hence, below we take only spring measurements for groundwater",
   "metadata": {
    "cell_id": "432c83b0-c554-4943-a571-4bf2be9d1325",
    "tags": [],
    "deepnote_cell_type": "markdown",
    "deepnote_cell_height": 197.515625
   }
  },
  {
   "cell_type": "code",
   "metadata": {
    "cell_id": "9a372491-0999-4749-a6f4-0efc8e06c955",
    "tags": [],
    "deepnote_to_be_reexecuted": false,
    "source_hash": "60c1dc88",
    "execution_start": 1647808548803,
    "execution_millis": 18460,
    "deepnote_cell_type": "code",
    "deepnote_cell_height": 80.953125
   },
   "source": "groundwater_data =  GroundwaterDataset()",
   "execution_count": null,
   "outputs": []
  },
  {
   "cell_type": "code",
   "metadata": {
    "cell_id": "20e38d33-7a35-433e-a4f8-639627b244e6",
    "tags": [],
    "deepnote_to_be_reexecuted": false,
    "source_hash": "2a24b67a",
    "execution_start": 1647808573628,
    "execution_millis": 3004,
    "deepnote_cell_type": "code",
    "deepnote_cell_height": 613.328125
   },
   "source": "groundwater_data.clean_groundwater_data()",
   "execution_count": null,
   "outputs": [
    {
     "output_type": "execute_result",
     "execution_count": 5,
     "data": {
      "application/vnd.deepnote.dataframe.v3+json": {
       "column_count": 14,
       "row_count": 880874,
       "columns": [
        {
         "name": "GWE",
         "dtype": "float64"
        },
        {
         "name": "GSE_GWE",
         "dtype": "float64"
        },
        {
         "name": "MSMT_DATE",
         "dtype": "datetime64[ns]"
        },
        {
         "name": "SITE_CODE",
         "dtype": "object"
        },
        {
         "name": "WLM_GSE",
         "dtype": "float64"
        },
        {
         "name": "WLM_ID",
         "dtype": "int64"
        },
        {
         "name": "WLM_RPE",
         "dtype": "float64"
        },
        {
         "name": "YEAR",
         "dtype": "int64"
        },
        {
         "name": "MONTH",
         "dtype": "int64"
        },
        {
         "name": "LONGITUDE",
         "dtype": "float64"
        },
        {
         "name": "LATITUDE",
         "dtype": "float64"
        },
        {
         "name": "GSE",
         "dtype": "float64"
        },
        {
         "name": "COUNTY_NAME",
         "dtype": "object"
        },
        {
         "name": "WELL_USE",
         "dtype": "object"
        },
        {
         "name": "_deepnote_index_column",
         "dtype": "int64"
        }
       ],
       "rows": [
        {
         "GWE": 136.92,
         "GSE_GWE": 409,
         "MSMT_DATE": "2021-04-29T16:00:00.000000",
         "SITE_CODE": "320000N1140000W001",
         "WLM_GSE": 545.92,
         "WLM_ID": 3016754,
         "WLM_RPE": 545.92,
         "YEAR": 2021,
         "MONTH": 4,
         "LONGITUDE": -121.755,
         "LATITUDE": 36.5605,
         "GSE": "nan",
         "COUNTY_NAME": "Monterey",
         "WELL_USE": "Residential",
         "_deepnote_index_column": 0
        },
        {
         "GWE": 122.92,
         "GSE_GWE": 423,
         "MSMT_DATE": "2020-04-30T00:00:00.000000",
         "SITE_CODE": "320000N1140000W001",
         "WLM_GSE": 545.92,
         "WLM_ID": 2688520,
         "WLM_RPE": 545.92,
         "YEAR": 2020,
         "MONTH": 4,
         "LONGITUDE": -121.755,
         "LATITUDE": 36.5605,
         "GSE": "nan",
         "COUNTY_NAME": "Monterey",
         "WELL_USE": "Residential",
         "_deepnote_index_column": 1
        },
        {
         "GWE": 165.92,
         "GSE_GWE": 380,
         "MSMT_DATE": "2020-03-26T00:00:00.000000",
         "SITE_CODE": "320000N1140000W001",
         "WLM_GSE": 545.92,
         "WLM_ID": 2688519,
         "WLM_RPE": 545.92,
         "YEAR": 2020,
         "MONTH": 3,
         "LONGITUDE": -121.755,
         "LATITUDE": 36.5605,
         "GSE": "nan",
         "COUNTY_NAME": "Monterey",
         "WELL_USE": "Residential",
         "_deepnote_index_column": 2
        },
        {
         "GWE": 163.92,
         "GSE_GWE": 382,
         "MSMT_DATE": "2020-02-27T00:00:00.000000",
         "SITE_CODE": "320000N1140000W001",
         "WLM_GSE": 545.92,
         "WLM_ID": 2688518,
         "WLM_RPE": 545.92,
         "YEAR": 2020,
         "MONTH": 2,
         "LONGITUDE": -121.755,
         "LATITUDE": 36.5605,
         "GSE": "nan",
         "COUNTY_NAME": "Monterey",
         "WELL_USE": "Residential",
         "_deepnote_index_column": 3
        },
        {
         "GWE": 162.92,
         "GSE_GWE": 383,
         "MSMT_DATE": "2020-01-30T00:00:00.000000",
         "SITE_CODE": "320000N1140000W001",
         "WLM_GSE": 545.92,
         "WLM_ID": 2688517,
         "WLM_RPE": 545.92,
         "YEAR": 2020,
         "MONTH": 1,
         "LONGITUDE": -121.755,
         "LATITUDE": 36.5605,
         "GSE": "nan",
         "COUNTY_NAME": "Monterey",
         "WELL_USE": "Residential",
         "_deepnote_index_column": 4
        },
        {
         "GWE": 166.62,
         "GSE_GWE": 379.3,
         "MSMT_DATE": "2018-04-26T00:00:00.000000",
         "SITE_CODE": "320000N1140000W001",
         "WLM_GSE": 545.92,
         "WLM_ID": 2408997,
         "WLM_RPE": 545.92,
         "YEAR": 2018,
         "MONTH": 4,
         "LONGITUDE": -121.755,
         "LATITUDE": 36.5605,
         "GSE": "nan",
         "COUNTY_NAME": "Monterey",
         "WELL_USE": "Residential",
         "_deepnote_index_column": 5
        },
        {
         "GWE": 167.42,
         "GSE_GWE": 378.5,
         "MSMT_DATE": "2018-03-29T00:00:00.000000",
         "SITE_CODE": "320000N1140000W001",
         "WLM_GSE": 545.92,
         "WLM_ID": 2408883,
         "WLM_RPE": 545.92,
         "YEAR": 2018,
         "MONTH": 3,
         "LONGITUDE": -121.755,
         "LATITUDE": 36.5605,
         "GSE": "nan",
         "COUNTY_NAME": "Monterey",
         "WELL_USE": "Residential",
         "_deepnote_index_column": 6
        },
        {
         "GWE": 164.52,
         "GSE_GWE": 381.4,
         "MSMT_DATE": "2018-02-22T00:00:00.000000",
         "SITE_CODE": "320000N1140000W001",
         "WLM_GSE": 545.92,
         "WLM_ID": 2408882,
         "WLM_RPE": 545.92,
         "YEAR": 2018,
         "MONTH": 2,
         "LONGITUDE": -121.755,
         "LATITUDE": 36.5605,
         "GSE": "nan",
         "COUNTY_NAME": "Monterey",
         "WELL_USE": "Residential",
         "_deepnote_index_column": 7
        },
        {
         "GWE": 166.92,
         "GSE_GWE": 379,
         "MSMT_DATE": "2018-01-25T00:00:00.000000",
         "SITE_CODE": "320000N1140000W001",
         "WLM_GSE": 545.92,
         "WLM_ID": 2408881,
         "WLM_RPE": 545.92,
         "YEAR": 2018,
         "MONTH": 1,
         "LONGITUDE": -121.755,
         "LATITUDE": 36.5605,
         "GSE": "nan",
         "COUNTY_NAME": "Monterey",
         "WELL_USE": "Residential",
         "_deepnote_index_column": 8
        },
        {
         "GWE": 165.92,
         "GSE_GWE": 380,
         "MSMT_DATE": "2017-04-27T00:00:00.000000",
         "SITE_CODE": "320000N1140000W001",
         "WLM_GSE": 545.92,
         "WLM_ID": 2408552,
         "WLM_RPE": 545.92,
         "YEAR": 2017,
         "MONTH": 4,
         "LONGITUDE": -121.755,
         "LATITUDE": 36.5605,
         "GSE": "nan",
         "COUNTY_NAME": "Monterey",
         "WELL_USE": "Residential",
         "_deepnote_index_column": 9
        }
       ]
      },
      "text/plain": "            GWE  GSE_GWE           MSMT_DATE           SITE_CODE  WLM_GSE  \\\n0        136.92    409.0 2021-04-29 16:00:00  320000N1140000W001   545.92   \n1        122.92    423.0 2020-04-30 00:00:00  320000N1140000W001   545.92   \n2        165.92    380.0 2020-03-26 00:00:00  320000N1140000W001   545.92   \n3        163.92    382.0 2020-02-27 00:00:00  320000N1140000W001   545.92   \n4        162.92    383.0 2020-01-30 00:00:00  320000N1140000W001   545.92   \n...         ...      ...                 ...                 ...      ...   \n895604  4019.90     40.1 2002-03-13 00:00:00  420171N1214111W001  4060.00   \n895605  4019.10     40.9 2002-02-27 00:00:00  420171N1214111W001  4060.00   \n895606  4018.50     41.5 2002-02-13 00:00:00  420171N1214111W001  4060.00   \n895607  4017.80     42.2 2002-01-30 00:00:00  420171N1214111W001  4060.00   \n895608  4016.30     43.7 2002-01-03 00:00:00  420171N1214111W001  4060.00   \n\n         WLM_ID  WLM_RPE  YEAR  MONTH  LONGITUDE  LATITUDE     GSE  \\\n0       3016754   545.92  2021      4   -121.755   36.5605     NaN   \n1       2688520   545.92  2020      4   -121.755   36.5605     NaN   \n2       2688519   545.92  2020      3   -121.755   36.5605     NaN   \n3       2688518   545.92  2020      2   -121.755   36.5605     NaN   \n4       2688517   545.92  2020      1   -121.755   36.5605     NaN   \n...         ...      ...   ...    ...        ...       ...     ...   \n895604   675334  4061.00  2002      3   -121.411   42.0120  4060.0   \n895605   675333  4061.00  2002      2   -121.411   42.0120  4060.0   \n895606   675332  4061.00  2002      2   -121.411   42.0120  4060.0   \n895607   675331  4061.00  2002      1   -121.411   42.0120  4060.0   \n895608   675330  4061.00  2002      1   -121.411   42.0120  4060.0   \n\n        COUNTY_NAME     WELL_USE  \n0          Monterey  Residential  \n1          Monterey  Residential  \n2          Monterey  Residential  \n3          Monterey  Residential  \n4          Monterey  Residential  \n...             ...          ...  \n895604  Klamath, OR        Other  \n895605  Klamath, OR        Other  \n895606  Klamath, OR        Other  \n895607  Klamath, OR        Other  \n895608  Klamath, OR        Other  \n\n[880874 rows x 14 columns]",
      "text/html": "<div>\n<style scoped>\n    .dataframe tbody tr th:only-of-type {\n        vertical-align: middle;\n    }\n\n    .dataframe tbody tr th {\n        vertical-align: top;\n    }\n\n    .dataframe thead th {\n        text-align: right;\n    }\n</style>\n<table border=\"1\" class=\"dataframe\">\n  <thead>\n    <tr style=\"text-align: right;\">\n      <th></th>\n      <th>GWE</th>\n      <th>GSE_GWE</th>\n      <th>MSMT_DATE</th>\n      <th>SITE_CODE</th>\n      <th>WLM_GSE</th>\n      <th>WLM_ID</th>\n      <th>WLM_RPE</th>\n      <th>YEAR</th>\n      <th>MONTH</th>\n      <th>LONGITUDE</th>\n      <th>LATITUDE</th>\n      <th>GSE</th>\n      <th>COUNTY_NAME</th>\n      <th>WELL_USE</th>\n    </tr>\n  </thead>\n  <tbody>\n    <tr>\n      <th>0</th>\n      <td>136.92</td>\n      <td>409.0</td>\n      <td>2021-04-29 16:00:00</td>\n      <td>320000N1140000W001</td>\n      <td>545.92</td>\n      <td>3016754</td>\n      <td>545.92</td>\n      <td>2021</td>\n      <td>4</td>\n      <td>-121.755</td>\n      <td>36.5605</td>\n      <td>NaN</td>\n      <td>Monterey</td>\n      <td>Residential</td>\n    </tr>\n    <tr>\n      <th>1</th>\n      <td>122.92</td>\n      <td>423.0</td>\n      <td>2020-04-30 00:00:00</td>\n      <td>320000N1140000W001</td>\n      <td>545.92</td>\n      <td>2688520</td>\n      <td>545.92</td>\n      <td>2020</td>\n      <td>4</td>\n      <td>-121.755</td>\n      <td>36.5605</td>\n      <td>NaN</td>\n      <td>Monterey</td>\n      <td>Residential</td>\n    </tr>\n    <tr>\n      <th>2</th>\n      <td>165.92</td>\n      <td>380.0</td>\n      <td>2020-03-26 00:00:00</td>\n      <td>320000N1140000W001</td>\n      <td>545.92</td>\n      <td>2688519</td>\n      <td>545.92</td>\n      <td>2020</td>\n      <td>3</td>\n      <td>-121.755</td>\n      <td>36.5605</td>\n      <td>NaN</td>\n      <td>Monterey</td>\n      <td>Residential</td>\n    </tr>\n    <tr>\n      <th>3</th>\n      <td>163.92</td>\n      <td>382.0</td>\n      <td>2020-02-27 00:00:00</td>\n      <td>320000N1140000W001</td>\n      <td>545.92</td>\n      <td>2688518</td>\n      <td>545.92</td>\n      <td>2020</td>\n      <td>2</td>\n      <td>-121.755</td>\n      <td>36.5605</td>\n      <td>NaN</td>\n      <td>Monterey</td>\n      <td>Residential</td>\n    </tr>\n    <tr>\n      <th>4</th>\n      <td>162.92</td>\n      <td>383.0</td>\n      <td>2020-01-30 00:00:00</td>\n      <td>320000N1140000W001</td>\n      <td>545.92</td>\n      <td>2688517</td>\n      <td>545.92</td>\n      <td>2020</td>\n      <td>1</td>\n      <td>-121.755</td>\n      <td>36.5605</td>\n      <td>NaN</td>\n      <td>Monterey</td>\n      <td>Residential</td>\n    </tr>\n    <tr>\n      <th>...</th>\n      <td>...</td>\n      <td>...</td>\n      <td>...</td>\n      <td>...</td>\n      <td>...</td>\n      <td>...</td>\n      <td>...</td>\n      <td>...</td>\n      <td>...</td>\n      <td>...</td>\n      <td>...</td>\n      <td>...</td>\n      <td>...</td>\n      <td>...</td>\n    </tr>\n    <tr>\n      <th>895604</th>\n      <td>4019.90</td>\n      <td>40.1</td>\n      <td>2002-03-13 00:00:00</td>\n      <td>420171N1214111W001</td>\n      <td>4060.00</td>\n      <td>675334</td>\n      <td>4061.00</td>\n      <td>2002</td>\n      <td>3</td>\n      <td>-121.411</td>\n      <td>42.0120</td>\n      <td>4060.0</td>\n      <td>Klamath, OR</td>\n      <td>Other</td>\n    </tr>\n    <tr>\n      <th>895605</th>\n      <td>4019.10</td>\n      <td>40.9</td>\n      <td>2002-02-27 00:00:00</td>\n      <td>420171N1214111W001</td>\n      <td>4060.00</td>\n      <td>675333</td>\n      <td>4061.00</td>\n      <td>2002</td>\n      <td>2</td>\n      <td>-121.411</td>\n      <td>42.0120</td>\n      <td>4060.0</td>\n      <td>Klamath, OR</td>\n      <td>Other</td>\n    </tr>\n    <tr>\n      <th>895606</th>\n      <td>4018.50</td>\n      <td>41.5</td>\n      <td>2002-02-13 00:00:00</td>\n      <td>420171N1214111W001</td>\n      <td>4060.00</td>\n      <td>675332</td>\n      <td>4061.00</td>\n      <td>2002</td>\n      <td>2</td>\n      <td>-121.411</td>\n      <td>42.0120</td>\n      <td>4060.0</td>\n      <td>Klamath, OR</td>\n      <td>Other</td>\n    </tr>\n    <tr>\n      <th>895607</th>\n      <td>4017.80</td>\n      <td>42.2</td>\n      <td>2002-01-30 00:00:00</td>\n      <td>420171N1214111W001</td>\n      <td>4060.00</td>\n      <td>675331</td>\n      <td>4061.00</td>\n      <td>2002</td>\n      <td>1</td>\n      <td>-121.411</td>\n      <td>42.0120</td>\n      <td>4060.0</td>\n      <td>Klamath, OR</td>\n      <td>Other</td>\n    </tr>\n    <tr>\n      <th>895608</th>\n      <td>4016.30</td>\n      <td>43.7</td>\n      <td>2002-01-03 00:00:00</td>\n      <td>420171N1214111W001</td>\n      <td>4060.00</td>\n      <td>675330</td>\n      <td>4061.00</td>\n      <td>2002</td>\n      <td>1</td>\n      <td>-121.411</td>\n      <td>42.0120</td>\n      <td>4060.0</td>\n      <td>Klamath, OR</td>\n      <td>Other</td>\n    </tr>\n  </tbody>\n</table>\n<p>880874 rows × 14 columns</p>\n</div>"
     },
     "metadata": {}
    }
   ]
  },
  {
   "cell_type": "code",
   "metadata": {
    "cell_id": "0cce9908-cbb1-472d-9751-8a846659dfbb",
    "tags": [],
    "deepnote_to_be_reexecuted": false,
    "source_hash": "4f03169f",
    "execution_start": 1647808580932,
    "execution_millis": 718,
    "deepnote_cell_type": "code",
    "deepnote_cell_height": 524.921875,
    "deepnote_output_heights": [
     427.96875
    ]
   },
   "source": "groundwater_data.draw_mising_data_chart()",
   "execution_count": null,
   "outputs": [
    {
     "output_type": "execute_result",
     "execution_count": 6,
     "data": {
      "text/html": "\n<div id=\"altair-viz-25d621f2fccb47b8b0bb1e1cea641791\"></div>\n<script type=\"text/javascript\">\n  var VEGA_DEBUG = (typeof VEGA_DEBUG == \"undefined\") ? {} : VEGA_DEBUG;\n  (function(spec, embedOpt){\n    let outputDiv = document.currentScript.previousElementSibling;\n    if (outputDiv.id !== \"altair-viz-25d621f2fccb47b8b0bb1e1cea641791\") {\n      outputDiv = document.getElementById(\"altair-viz-25d621f2fccb47b8b0bb1e1cea641791\");\n    }\n    const paths = {\n      \"vega\": \"https://cdn.jsdelivr.net/npm//vega@5?noext\",\n      \"vega-lib\": \"https://cdn.jsdelivr.net/npm//vega-lib?noext\",\n      \"vega-lite\": \"https://cdn.jsdelivr.net/npm//vega-lite@4.17.0?noext\",\n      \"vega-embed\": \"https://cdn.jsdelivr.net/npm//vega-embed@6?noext\",\n    };\n\n    function maybeLoadScript(lib, version) {\n      var key = `${lib.replace(\"-\", \"\")}_version`;\n      return (VEGA_DEBUG[key] == version) ?\n        Promise.resolve(paths[lib]) :\n        new Promise(function(resolve, reject) {\n          var s = document.createElement('script');\n          document.getElementsByTagName(\"head\")[0].appendChild(s);\n          s.async = true;\n          s.onload = () => {\n            VEGA_DEBUG[key] = version;\n            return resolve(paths[lib]);\n          };\n          s.onerror = () => reject(`Error loading script: ${paths[lib]}`);\n          s.src = paths[lib];\n        });\n    }\n\n    function showError(err) {\n      outputDiv.innerHTML = `<div class=\"error\" style=\"color:red;\">${err}</div>`;\n      throw err;\n    }\n\n    function displayChart(vegaEmbed) {\n      vegaEmbed(outputDiv, spec, embedOpt)\n        .catch(err => showError(`Javascript Error: ${err.message}<br>This usually means there's a typo in your chart specification. See the javascript console for the full traceback.`));\n    }\n\n    if(typeof define === \"function\" && define.amd) {\n      requirejs.config({paths});\n      require([\"vega-embed\"], displayChart, err => showError(`Error loading script: ${err.message}`));\n    } else {\n      maybeLoadScript(\"vega\", \"5\")\n        .then(() => maybeLoadScript(\"vega-lite\", \"4.17.0\"))\n        .then(() => maybeLoadScript(\"vega-embed\", \"6\"))\n        .catch(showError)\n        .then(() => displayChart(vegaEmbed));\n    }\n  })({\"config\": {\"view\": {\"continuousWidth\": 400, \"continuousHeight\": 300}}, \"layer\": [{\"mark\": \"bar\", \"encoding\": {\"color\": {\"value\": \"orange\"}, \"tooltip\": [{\"field\": \"column_name\", \"type\": \"nominal\"}, {\"field\": \"percent_missing\", \"type\": \"quantitative\"}], \"x\": {\"field\": \"column_name\", \"sort\": [\"WELL_USE\", \"GSE\", \"GWE\", \"GSE_GWE\", \"MSMT_DATE\", \"SITE_CODE\", \"WLM_GSE\", \"WLM_ID\", \"WLM_RPE\", \"YEAR\", \"MONTH\", \"LONGITUDE\", \"LATITUDE\", \"COUNTY_NAME\"], \"type\": \"nominal\"}, \"y\": {\"aggregate\": \"sum\", \"axis\": {\"format\": \"%\"}, \"field\": \"percent_missing\", \"stack\": \"normalize\", \"type\": \"quantitative\"}}}, {\"mark\": {\"type\": \"text\", \"align\": \"center\", \"color\": \"black\", \"fontSize\": 10}, \"encoding\": {\"color\": {\"value\": \"orange\"}, \"text\": {\"field\": \"percent_missing\", \"format\": \".0%\", \"type\": \"quantitative\"}, \"tooltip\": [{\"field\": \"column_name\", \"type\": \"nominal\"}, {\"field\": \"percent_missing\", \"type\": \"quantitative\"}], \"x\": {\"field\": \"column_name\", \"sort\": [\"WELL_USE\", \"GSE\", \"GWE\", \"GSE_GWE\", \"MSMT_DATE\", \"SITE_CODE\", \"WLM_GSE\", \"WLM_ID\", \"WLM_RPE\", \"YEAR\", \"MONTH\", \"LONGITUDE\", \"LATITUDE\", \"COUNTY_NAME\"], \"type\": \"nominal\"}, \"y\": {\"field\": \"position\", \"type\": \"quantitative\"}}, \"transform\": [{\"calculate\": \"datum.percent_missing + 0.05 * datum.percent_missing / abs(datum.percent_missing)\", \"as\": \"position\"}]}], \"data\": {\"name\": \"data-c77e3245cce9376dfe12d7f5cb823dbc\"}, \"$schema\": \"https://vega.github.io/schema/vega-lite/v4.17.0.json\", \"datasets\": {\"data-c77e3245cce9376dfe12d7f5cb823dbc\": [{\"column_name\": \"WELL_USE\", \"percent_missing\": 0.008370096063682206}, {\"column_name\": \"GSE\", \"percent_missing\": 1.9299014387982843e-05}, {\"column_name\": \"GWE\", \"percent_missing\": 0.0}, {\"column_name\": \"GSE_GWE\", \"percent_missing\": 0.0}, {\"column_name\": \"MSMT_DATE\", \"percent_missing\": 0.0}, {\"column_name\": \"SITE_CODE\", \"percent_missing\": 0.0}, {\"column_name\": \"WLM_GSE\", \"percent_missing\": 0.0}, {\"column_name\": \"WLM_ID\", \"percent_missing\": 0.0}, {\"column_name\": \"WLM_RPE\", \"percent_missing\": 0.0}, {\"column_name\": \"YEAR\", \"percent_missing\": 0.0}, {\"column_name\": \"MONTH\", \"percent_missing\": 0.0}, {\"column_name\": \"LONGITUDE\", \"percent_missing\": 0.0}, {\"column_name\": \"LATITUDE\", \"percent_missing\": 0.0}, {\"column_name\": \"COUNTY_NAME\", \"percent_missing\": 0.0}]}}, {\"mode\": \"vega-lite\"});\n</script>",
      "text/plain": "alt.LayerChart(...)"
     },
     "metadata": {}
    }
   ]
  },
  {
   "cell_type": "code",
   "metadata": {
    "cell_id": "8f2ab9f4-ccb0-466b-a95f-05076c5ba5fd",
    "tags": [],
    "deepnote_to_be_reexecuted": false,
    "source_hash": "8cbfb373",
    "execution_start": 1647808594821,
    "execution_millis": 157822,
    "deepnote_cell_type": "code",
    "deepnote_cell_height": 597.875
   },
   "source": "groundwater_data.merge_data_plss()",
   "execution_count": null,
   "outputs": [
    {
     "output_type": "execute_result",
     "execution_count": 7,
     "data": {
      "application/vnd.deepnote.dataframe.v3+json": {
       "column_count": 8,
       "row_count": 285359,
       "columns": [
        {
         "name": "SITE_CODE",
         "dtype": "object"
        },
        {
         "name": "LATITUDE",
         "dtype": "float64"
        },
        {
         "name": "LONGITUDE",
         "dtype": "float64"
        },
        {
         "name": "TownshipRange",
         "dtype": "object"
        },
        {
         "name": "COUNTY_NAME",
         "dtype": "object"
        },
        {
         "name": "YEAR",
         "dtype": "int64"
        },
        {
         "name": "geometry",
         "dtype": "geometry"
        },
        {
         "name": "GSE_GWE",
         "dtype": "float64"
        },
        {
         "name": "_deepnote_index_column",
         "dtype": "int64"
        }
       ],
       "rows": [
        {
         "SITE_CODE": "344779N1192479W001",
         "LATITUDE": 35.4779,
         "LONGITUDE": -119.248,
         "TownshipRange": "T28S R25E",
         "COUNTY_NAME": "Kern",
         "YEAR": 2012,
         "geometry": "POINT (-119.248 35.4779)",
         "GSE_GWE": 254,
         "_deepnote_index_column": 0
        },
        {
         "SITE_CODE": "344779N1192479W001",
         "LATITUDE": 35.4779,
         "LONGITUDE": -119.248,
         "TownshipRange": "T28S R25E",
         "COUNTY_NAME": "Kern",
         "YEAR": 2013,
         "geometry": "POINT (-119.248 35.4779)",
         "GSE_GWE": 262,
         "_deepnote_index_column": 1
        },
        {
         "SITE_CODE": "344779N1192479W001",
         "LATITUDE": 35.4779,
         "LONGITUDE": -119.248,
         "TownshipRange": "T28S R25E",
         "COUNTY_NAME": "Kern",
         "YEAR": 2014,
         "geometry": "POINT (-119.248 35.4779)",
         "GSE_GWE": 272,
         "_deepnote_index_column": 2
        },
        {
         "SITE_CODE": "344779N1192479W001",
         "LATITUDE": 35.4779,
         "LONGITUDE": -119.248,
         "TownshipRange": "T28S R25E",
         "COUNTY_NAME": "Kern",
         "YEAR": 2015,
         "geometry": "POINT (-119.248 35.4779)",
         "GSE_GWE": 280,
         "_deepnote_index_column": 3
        },
        {
         "SITE_CODE": "344779N1192479W001",
         "LATITUDE": 35.4779,
         "LONGITUDE": -119.248,
         "TownshipRange": "T28S R25E",
         "COUNTY_NAME": "Kern",
         "YEAR": 2016,
         "geometry": "POINT (-119.248 35.4779)",
         "GSE_GWE": 292,
         "_deepnote_index_column": 4
        },
        {
         "SITE_CODE": "344779N1192479W001",
         "LATITUDE": 35.4779,
         "LONGITUDE": -119.248,
         "TownshipRange": "T28S R25E",
         "COUNTY_NAME": "Kern",
         "YEAR": 2017,
         "geometry": "POINT (-119.248 35.4779)",
         "GSE_GWE": 298,
         "_deepnote_index_column": 5
        },
        {
         "SITE_CODE": "344779N1192479W001",
         "LATITUDE": 35.4779,
         "LONGITUDE": -119.248,
         "TownshipRange": "T28S R25E",
         "COUNTY_NAME": "Kern",
         "YEAR": 2018,
         "geometry": "POINT (-119.248 35.4779)",
         "GSE_GWE": 297,
         "_deepnote_index_column": 6
        },
        {
         "SITE_CODE": "344779N1192479W001",
         "LATITUDE": 35.4779,
         "LONGITUDE": -119.248,
         "TownshipRange": "T28S R25E",
         "COUNTY_NAME": "Kern",
         "YEAR": 2019,
         "geometry": "POINT (-119.248 35.4779)",
         "GSE_GWE": 308,
         "_deepnote_index_column": 7
        },
        {
         "SITE_CODE": "344779N1192479W001",
         "LATITUDE": 35.4779,
         "LONGITUDE": -119.248,
         "TownshipRange": "T28S R25E",
         "COUNTY_NAME": "Kern",
         "YEAR": 2020,
         "geometry": "POINT (-119.248 35.4779)",
         "GSE_GWE": 306,
         "_deepnote_index_column": 8
        },
        {
         "SITE_CODE": "349701N1188365W001",
         "LATITUDE": 34.9701,
         "LONGITUDE": -118.837,
         "TownshipRange": "T10N R18W",
         "COUNTY_NAME": "Kern",
         "YEAR": 2017,
         "geometry": "POINT (-118.837 34.9701)",
         "GSE_GWE": 159.9,
         "_deepnote_index_column": 9
        }
       ]
      },
      "text/plain": "                 SITE_CODE  LATITUDE  LONGITUDE TownshipRange  COUNTY_NAME  \\\n0       344779N1192479W001   35.4779   -119.248     T28S R25E         Kern   \n1       344779N1192479W001   35.4779   -119.248     T28S R25E         Kern   \n2       344779N1192479W001   35.4779   -119.248     T28S R25E         Kern   \n3       344779N1192479W001   35.4779   -119.248     T28S R25E         Kern   \n4       344779N1192479W001   35.4779   -119.248     T28S R25E         Kern   \n...                    ...       ...        ...           ...          ...   \n285354  385330N1213710W005   38.0545   -121.371     T02N R05E  San Joaquin   \n285355  385330N1213710W005   38.0545   -121.371     T02N R05E  San Joaquin   \n285356  385330N1213710W005   38.0545   -121.371     T02N R05E  San Joaquin   \n285357  385330N1213710W005   38.0545   -121.371     T02N R05E  San Joaquin   \n285358  385330N1213710W005   38.0545   -121.371     T02N R05E  San Joaquin   \n\n        YEAR                     geometry  GSE_GWE  \n0       2012  POINT (-119.24800 35.47790)   254.00  \n1       2013  POINT (-119.24800 35.47790)   262.00  \n2       2014  POINT (-119.24800 35.47790)   272.00  \n3       2015  POINT (-119.24800 35.47790)   280.00  \n4       2016  POINT (-119.24800 35.47790)   292.00  \n...      ...                          ...      ...  \n285354  2015  POINT (-121.37100 38.05450)    17.74  \n285355  2016  POINT (-121.37100 38.05450)    17.54  \n285356  2017  POINT (-121.37100 38.05450)    14.04  \n285357  2018  POINT (-121.37100 38.05450)    15.24  \n285358  2019  POINT (-121.37100 38.05450)    14.14  \n\n[285359 rows x 8 columns]",
      "text/html": "<div>\n<style scoped>\n    .dataframe tbody tr th:only-of-type {\n        vertical-align: middle;\n    }\n\n    .dataframe tbody tr th {\n        vertical-align: top;\n    }\n\n    .dataframe thead th {\n        text-align: right;\n    }\n</style>\n<table border=\"1\" class=\"dataframe\">\n  <thead>\n    <tr style=\"text-align: right;\">\n      <th></th>\n      <th>SITE_CODE</th>\n      <th>LATITUDE</th>\n      <th>LONGITUDE</th>\n      <th>TownshipRange</th>\n      <th>COUNTY_NAME</th>\n      <th>YEAR</th>\n      <th>geometry</th>\n      <th>GSE_GWE</th>\n    </tr>\n  </thead>\n  <tbody>\n    <tr>\n      <th>0</th>\n      <td>344779N1192479W001</td>\n      <td>35.4779</td>\n      <td>-119.248</td>\n      <td>T28S R25E</td>\n      <td>Kern</td>\n      <td>2012</td>\n      <td>POINT (-119.24800 35.47790)</td>\n      <td>254.00</td>\n    </tr>\n    <tr>\n      <th>1</th>\n      <td>344779N1192479W001</td>\n      <td>35.4779</td>\n      <td>-119.248</td>\n      <td>T28S R25E</td>\n      <td>Kern</td>\n      <td>2013</td>\n      <td>POINT (-119.24800 35.47790)</td>\n      <td>262.00</td>\n    </tr>\n    <tr>\n      <th>2</th>\n      <td>344779N1192479W001</td>\n      <td>35.4779</td>\n      <td>-119.248</td>\n      <td>T28S R25E</td>\n      <td>Kern</td>\n      <td>2014</td>\n      <td>POINT (-119.24800 35.47790)</td>\n      <td>272.00</td>\n    </tr>\n    <tr>\n      <th>3</th>\n      <td>344779N1192479W001</td>\n      <td>35.4779</td>\n      <td>-119.248</td>\n      <td>T28S R25E</td>\n      <td>Kern</td>\n      <td>2015</td>\n      <td>POINT (-119.24800 35.47790)</td>\n      <td>280.00</td>\n    </tr>\n    <tr>\n      <th>4</th>\n      <td>344779N1192479W001</td>\n      <td>35.4779</td>\n      <td>-119.248</td>\n      <td>T28S R25E</td>\n      <td>Kern</td>\n      <td>2016</td>\n      <td>POINT (-119.24800 35.47790)</td>\n      <td>292.00</td>\n    </tr>\n    <tr>\n      <th>...</th>\n      <td>...</td>\n      <td>...</td>\n      <td>...</td>\n      <td>...</td>\n      <td>...</td>\n      <td>...</td>\n      <td>...</td>\n      <td>...</td>\n    </tr>\n    <tr>\n      <th>285354</th>\n      <td>385330N1213710W005</td>\n      <td>38.0545</td>\n      <td>-121.371</td>\n      <td>T02N R05E</td>\n      <td>San Joaquin</td>\n      <td>2015</td>\n      <td>POINT (-121.37100 38.05450)</td>\n      <td>17.74</td>\n    </tr>\n    <tr>\n      <th>285355</th>\n      <td>385330N1213710W005</td>\n      <td>38.0545</td>\n      <td>-121.371</td>\n      <td>T02N R05E</td>\n      <td>San Joaquin</td>\n      <td>2016</td>\n      <td>POINT (-121.37100 38.05450)</td>\n      <td>17.54</td>\n    </tr>\n    <tr>\n      <th>285356</th>\n      <td>385330N1213710W005</td>\n      <td>38.0545</td>\n      <td>-121.371</td>\n      <td>T02N R05E</td>\n      <td>San Joaquin</td>\n      <td>2017</td>\n      <td>POINT (-121.37100 38.05450)</td>\n      <td>14.04</td>\n    </tr>\n    <tr>\n      <th>285357</th>\n      <td>385330N1213710W005</td>\n      <td>38.0545</td>\n      <td>-121.371</td>\n      <td>T02N R05E</td>\n      <td>San Joaquin</td>\n      <td>2018</td>\n      <td>POINT (-121.37100 38.05450)</td>\n      <td>15.24</td>\n    </tr>\n    <tr>\n      <th>285358</th>\n      <td>385330N1213710W005</td>\n      <td>38.0545</td>\n      <td>-121.371</td>\n      <td>T02N R05E</td>\n      <td>San Joaquin</td>\n      <td>2019</td>\n      <td>POINT (-121.37100 38.05450)</td>\n      <td>14.14</td>\n    </tr>\n  </tbody>\n</table>\n<p>285359 rows × 8 columns</p>\n</div>"
     },
     "metadata": {}
    }
   ]
  },
  {
   "cell_type": "markdown",
   "source": "",
   "metadata": {
    "cell_id": "ccc9d473-71cc-466e-80c9-1f10a3423e79",
    "tags": [],
    "deepnote_cell_type": "markdown",
    "deepnote_cell_height": 45.953125
   }
  },
  {
   "cell_type": "markdown",
   "source": "<a style='text-decoration:none;line-height:16px;display:flex;color:#5B5B62;padding:10px;justify-content:end;' href='https://deepnote.com?utm_source=created-in-deepnote-cell&projectId=b042e2da-6536-449d-95b8-d85fa08825de' target=\"_blank\">\n<img alt='Created in deepnote.com' style='display:inline;max-height:16px;margin:0px;margin-right:7.5px;' src='data:image/svg+xml;base64,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' > </img>\nCreated in <span style='font-weight:600;margin-left:4px;'>Deepnote</span></a>",
   "metadata": {
    "tags": [],
    "created_in_deepnote_cell": true,
    "deepnote_cell_type": "markdown"
   }
  }
 ],
 "nbformat": 4,
 "nbformat_minor": 2,
 "metadata": {
  "orig_nbformat": 2,
  "deepnote": {
   "is_reactive": false
  },
  "deepnote_notebook_id": "ffbccf33-5e94-4595-b857-1a62a100c564",
  "deepnote_execution_queue": []
 }
}