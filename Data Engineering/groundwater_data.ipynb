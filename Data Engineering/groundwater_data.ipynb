{
 "cells": [
  {
   "cell_type": "markdown",
   "source": [
    "# San Joaquin  Valley Groundwater data\n",
    "\n",
    "Related links:\n",
    "\n",
    "* For the documentation about this dataset, its source, how to download, and the features of interest, please refer to our [Groundwater Reports Dataset](/doc/assets/groundwater.md) documentation.\n",
    "\n",
    "*  For the explanations on how the sortage mapping datasets are mapped to TownshipRange please refer to our [Public Land Survey System](../assets/plss_sanjoaquin_riverbasin.md) documentation.\n",
    "\n",
    "* [Data location](/work/assets/groundwater.csv)"
   ],
   "metadata": {
    "cell_id": "9f8f6d34-6305-45d0-bb25-aa88d11ff0a4",
    "tags": [],
    "deepnote_cell_type": "markdown",
    "deepnote_cell_height": 221.53125
   }
  },
  {
   "cell_type": "code",
   "metadata": {
    "cell_id": "2d11b4a3-a26e-4c6a-b72c-35cd89f52b22",
    "tags": [],
    "deepnote_to_be_reexecuted": false,
    "source_hash": "18561438",
    "execution_start": 1647808512129,
    "execution_millis": 1280263,
    "deepnote_cell_type": "code",
    "deepnote_cell_height": 98.953125
   },
   "source": [
    "import sys\n",
    "sys.path.append('..')"
   ],
   "execution_count": 1,
   "outputs": []
  },
  {
   "cell_type": "code",
   "metadata": {
    "cell_id": "a552bf92-b58b-4c59-86eb-b0b435adbe75",
    "tags": [],
    "deepnote_to_be_reexecuted": false,
    "source_hash": "47704982",
    "execution_start": 1647808512179,
    "execution_millis": 1168,
    "deepnote_cell_type": "code",
    "deepnote_cell_height": 152.875
   },
   "source": [
    "import geopandas as gpd\n",
    "from lib.groundwater import GroundwaterDataset"
   ],
   "execution_count": 2,
   "outputs": []
  },
  {
   "cell_type": "markdown",
   "source": [
    "##### Groundwater measurements\n",
    "https://data.cnra.ca.gov/dataset/periodic-groundwater-level-measurements\n",
    "\n",
    "- The elevation of the groundwater surface  can be calculated by subtracting the depth to groundwater from the ground surface elevation.\n",
    "\n",
    "> [Water levels in many aquifers](https://pubs.usgs.gov/circ/circ1217/pdf/circ1217_final.pdf) in the United States follow a natural cyclic pattern of seasonal \n",
    "> fluctuation,typically rising during the winter and spring due to greater precipitation and recharge, then declining during the summer\n",
    "> and fall owing to less recharge and greater evapotranspiration. Hence, below we take only spring measurements for groundwater"
   ],
   "metadata": {
    "cell_id": "432c83b0-c554-4943-a571-4bf2be9d1325",
    "tags": [],
    "deepnote_cell_type": "markdown",
    "deepnote_cell_height": 197.515625
   }
  },
  {
   "cell_type": "code",
   "metadata": {
    "cell_id": "9a372491-0999-4749-a6f4-0efc8e06c955",
    "tags": [],
    "deepnote_to_be_reexecuted": false,
    "source_hash": "60c1dc88",
    "execution_start": 1647808548803,
    "execution_millis": 18460,
    "deepnote_cell_type": "code",
    "deepnote_cell_height": 80.953125
   },
   "source": [
    "groundwater_dataset =  GroundwaterDataset()"
   ],
   "execution_count": 3,
   "outputs": []
  },
  {
   "cell_type": "markdown",
   "source": [
    "Pre-process the groundwater data and geospatial location and combined them into the the geospatial map_df dataset"
   ],
   "metadata": {
    "collapsed": false,
    "pycharm": {
     "name": "#%% md\n"
    }
   }
  },
  {
   "cell_type": "code",
   "execution_count": 4,
   "outputs": [],
   "source": [
    "groundwater_dataset.preprocess_data_df()\n",
    "groundwater_dataset.preprocess_map_df()\n",
    "groundwater_dataset.merge_map_with_data()"
   ],
   "metadata": {
    "collapsed": false,
    "pycharm": {
     "name": "#%%\n"
    }
   }
  },
  {
   "cell_type": "markdown",
   "source": [
    "Overlay the San Joaquin Valley boundaries on the soil dataset to keep only the data in the San Joaquin Valley"
   ],
   "metadata": {
    "collapsed": false,
    "pycharm": {
     "name": "#%% md\n"
    }
   }
  },
  {
   "cell_type": "code",
   "execution_count": 5,
   "outputs": [
    {
     "data": {
      "text/plain": "        COUNTY_NAME                     geometry  GSE_GWE    YEAR\n0          Monterey  POINT (-121.75500 36.56050)    409.0  2021.0\n1          Monterey  POINT (-121.75500 36.56050)    423.0  2020.0\n2          Monterey  POINT (-121.75500 36.56050)    380.0  2020.0\n3          Monterey  POINT (-121.75500 36.56050)    382.0  2020.0\n4          Monterey  POINT (-121.75500 36.56050)    383.0  2020.0\n...             ...                          ...      ...     ...\n892365  Klamath, OR  POINT (-121.41100 42.01200)     40.1  2002.0\n892366  Klamath, OR  POINT (-121.41100 42.01200)     40.9  2002.0\n892367  Klamath, OR  POINT (-121.41100 42.01200)     41.5  2002.0\n892368  Klamath, OR  POINT (-121.41100 42.01200)     42.2  2002.0\n892369  Klamath, OR  POINT (-121.41100 42.01200)     43.7  2002.0\n\n[892370 rows x 4 columns]",
      "text/html": "<div>\n<style scoped>\n    .dataframe tbody tr th:only-of-type {\n        vertical-align: middle;\n    }\n\n    .dataframe tbody tr th {\n        vertical-align: top;\n    }\n\n    .dataframe thead th {\n        text-align: right;\n    }\n</style>\n<table border=\"1\" class=\"dataframe\">\n  <thead>\n    <tr style=\"text-align: right;\">\n      <th></th>\n      <th>COUNTY_NAME</th>\n      <th>geometry</th>\n      <th>GSE_GWE</th>\n      <th>YEAR</th>\n    </tr>\n  </thead>\n  <tbody>\n    <tr>\n      <th>0</th>\n      <td>Monterey</td>\n      <td>POINT (-121.75500 36.56050)</td>\n      <td>409.0</td>\n      <td>2021.0</td>\n    </tr>\n    <tr>\n      <th>1</th>\n      <td>Monterey</td>\n      <td>POINT (-121.75500 36.56050)</td>\n      <td>423.0</td>\n      <td>2020.0</td>\n    </tr>\n    <tr>\n      <th>2</th>\n      <td>Monterey</td>\n      <td>POINT (-121.75500 36.56050)</td>\n      <td>380.0</td>\n      <td>2020.0</td>\n    </tr>\n    <tr>\n      <th>3</th>\n      <td>Monterey</td>\n      <td>POINT (-121.75500 36.56050)</td>\n      <td>382.0</td>\n      <td>2020.0</td>\n    </tr>\n    <tr>\n      <th>4</th>\n      <td>Monterey</td>\n      <td>POINT (-121.75500 36.56050)</td>\n      <td>383.0</td>\n      <td>2020.0</td>\n    </tr>\n    <tr>\n      <th>...</th>\n      <td>...</td>\n      <td>...</td>\n      <td>...</td>\n      <td>...</td>\n    </tr>\n    <tr>\n      <th>892365</th>\n      <td>Klamath, OR</td>\n      <td>POINT (-121.41100 42.01200)</td>\n      <td>40.1</td>\n      <td>2002.0</td>\n    </tr>\n    <tr>\n      <th>892366</th>\n      <td>Klamath, OR</td>\n      <td>POINT (-121.41100 42.01200)</td>\n      <td>40.9</td>\n      <td>2002.0</td>\n    </tr>\n    <tr>\n      <th>892367</th>\n      <td>Klamath, OR</td>\n      <td>POINT (-121.41100 42.01200)</td>\n      <td>41.5</td>\n      <td>2002.0</td>\n    </tr>\n    <tr>\n      <th>892368</th>\n      <td>Klamath, OR</td>\n      <td>POINT (-121.41100 42.01200)</td>\n      <td>42.2</td>\n      <td>2002.0</td>\n    </tr>\n    <tr>\n      <th>892369</th>\n      <td>Klamath, OR</td>\n      <td>POINT (-121.41100 42.01200)</td>\n      <td>43.7</td>\n      <td>2002.0</td>\n    </tr>\n  </tbody>\n</table>\n<p>892370 rows × 4 columns</p>\n</div>"
     },
     "execution_count": 5,
     "metadata": {},
     "output_type": "execute_result"
    }
   ],
   "source": [
    "groundwater_dataset.map_df"
   ],
   "metadata": {
    "collapsed": false,
    "pycharm": {
     "name": "#%%\n"
    }
   }
  },
  {
   "cell_type": "markdown",
   "source": [
    "Combine all the groundwater measurement points per township, applying a _mean_ aggregation function by default  on the `GSE_GWE` feature per township"
   ],
   "metadata": {
    "collapsed": false,
    "pycharm": {
     "name": "#%% md\n"
    }
   }
  },
  {
   "cell_type": "code",
   "metadata": {
    "cell_id": "20e38d33-7a35-433e-a4f8-639627b244e6",
    "tags": [],
    "deepnote_to_be_reexecuted": false,
    "source_hash": "2a24b67a",
    "execution_start": 1647808573628,
    "execution_millis": 3004,
    "deepnote_cell_type": "code",
    "deepnote_cell_height": 613.328125
   },
   "source": [
    "groundwater_dataset.aggregate_points_by_township(feature_name=\"GSE_GWE\")"
   ],
   "execution_count": 6,
   "outputs": []
  },
  {
   "cell_type": "markdown",
   "source": [
    "Display the final dataset resulting from ETL process"
   ],
   "metadata": {
    "collapsed": false
   }
  },
  {
   "cell_type": "code",
   "execution_count": 7,
   "outputs": [
    {
     "data": {
      "text/plain": "        TOWNSHIP    YEAR   COUNTY_NAME  GSE_GWE\n0      T01N R02E  1974.0  Contra Costa     43.0\n1      T01N R02E  1975.0  Contra Costa     46.0\n2      T01N R02E  1976.0  Contra Costa     45.0\n3      T01N R02E  1977.0  Contra Costa     48.0\n4      T01N R02E  1978.0  Contra Costa     45.0\n...          ...     ...           ...      ...\n28122  T32S R30E  1984.0          Kern    252.0\n28123  T32S R30E  1985.0          Kern    250.0\n28124  T32S R30E  1986.0          Kern    238.0\n28125  T32S R30E  1987.0          Kern    229.0\n28126  T32S R30E  1993.0          Kern    445.0\n\n[28127 rows x 4 columns]",
      "text/html": "<div>\n<style scoped>\n    .dataframe tbody tr th:only-of-type {\n        vertical-align: middle;\n    }\n\n    .dataframe tbody tr th {\n        vertical-align: top;\n    }\n\n    .dataframe thead th {\n        text-align: right;\n    }\n</style>\n<table border=\"1\" class=\"dataframe\">\n  <thead>\n    <tr style=\"text-align: right;\">\n      <th></th>\n      <th>TOWNSHIP</th>\n      <th>YEAR</th>\n      <th>COUNTY_NAME</th>\n      <th>GSE_GWE</th>\n    </tr>\n  </thead>\n  <tbody>\n    <tr>\n      <th>0</th>\n      <td>T01N R02E</td>\n      <td>1974.0</td>\n      <td>Contra Costa</td>\n      <td>43.0</td>\n    </tr>\n    <tr>\n      <th>1</th>\n      <td>T01N R02E</td>\n      <td>1975.0</td>\n      <td>Contra Costa</td>\n      <td>46.0</td>\n    </tr>\n    <tr>\n      <th>2</th>\n      <td>T01N R02E</td>\n      <td>1976.0</td>\n      <td>Contra Costa</td>\n      <td>45.0</td>\n    </tr>\n    <tr>\n      <th>3</th>\n      <td>T01N R02E</td>\n      <td>1977.0</td>\n      <td>Contra Costa</td>\n      <td>48.0</td>\n    </tr>\n    <tr>\n      <th>4</th>\n      <td>T01N R02E</td>\n      <td>1978.0</td>\n      <td>Contra Costa</td>\n      <td>45.0</td>\n    </tr>\n    <tr>\n      <th>...</th>\n      <td>...</td>\n      <td>...</td>\n      <td>...</td>\n      <td>...</td>\n    </tr>\n    <tr>\n      <th>28122</th>\n      <td>T32S R30E</td>\n      <td>1984.0</td>\n      <td>Kern</td>\n      <td>252.0</td>\n    </tr>\n    <tr>\n      <th>28123</th>\n      <td>T32S R30E</td>\n      <td>1985.0</td>\n      <td>Kern</td>\n      <td>250.0</td>\n    </tr>\n    <tr>\n      <th>28124</th>\n      <td>T32S R30E</td>\n      <td>1986.0</td>\n      <td>Kern</td>\n      <td>238.0</td>\n    </tr>\n    <tr>\n      <th>28125</th>\n      <td>T32S R30E</td>\n      <td>1987.0</td>\n      <td>Kern</td>\n      <td>229.0</td>\n    </tr>\n    <tr>\n      <th>28126</th>\n      <td>T32S R30E</td>\n      <td>1993.0</td>\n      <td>Kern</td>\n      <td>445.0</td>\n    </tr>\n  </tbody>\n</table>\n<p>28127 rows × 4 columns</p>\n</div>"
     },
     "execution_count": 7,
     "metadata": {},
     "output_type": "execute_result"
    }
   ],
   "source": [
    "groundwater_dataset.output_df"
   ],
   "metadata": {
    "collapsed": false,
    "pycharm": {
     "name": "#%%\n"
    }
   }
  },
  {
   "cell_type": "code",
   "execution_count": 8,
   "outputs": [],
   "source": [
    "groundwater_dataset.output_dataset_to_csv(output_filename=\"../assets/outputs/spring_groundwater_levels.csv\")"
   ],
   "metadata": {
    "collapsed": false,
    "pycharm": {
     "name": "#%%\n"
    }
   }
  },
  {
   "cell_type": "code",
   "execution_count": 9,
   "outputs": [
    {
     "data": {
      "text/html": "\n<div id=\"altair-viz-a008f7244b404b28aca5d86e056c7aab\"></div>\n<script type=\"text/javascript\">\n  var VEGA_DEBUG = (typeof VEGA_DEBUG == \"undefined\") ? {} : VEGA_DEBUG;\n  (function(spec, embedOpt){\n    let outputDiv = document.currentScript.previousElementSibling;\n    if (outputDiv.id !== \"altair-viz-a008f7244b404b28aca5d86e056c7aab\") {\n      outputDiv = document.getElementById(\"altair-viz-a008f7244b404b28aca5d86e056c7aab\");\n    }\n    const paths = {\n      \"vega\": \"https://cdn.jsdelivr.net/npm//vega@5?noext\",\n      \"vega-lib\": \"https://cdn.jsdelivr.net/npm//vega-lib?noext\",\n      \"vega-lite\": \"https://cdn.jsdelivr.net/npm//vega-lite@4.17.0?noext\",\n      \"vega-embed\": \"https://cdn.jsdelivr.net/npm//vega-embed@6?noext\",\n    };\n\n    function maybeLoadScript(lib, version) {\n      var key = `${lib.replace(\"-\", \"\")}_version`;\n      return (VEGA_DEBUG[key] == version) ?\n        Promise.resolve(paths[lib]) :\n        new Promise(function(resolve, reject) {\n          var s = document.createElement('script');\n          document.getElementsByTagName(\"head\")[0].appendChild(s);\n          s.async = true;\n          s.onload = () => {\n            VEGA_DEBUG[key] = version;\n            return resolve(paths[lib]);\n          };\n          s.onerror = () => reject(`Error loading script: ${paths[lib]}`);\n          s.src = paths[lib];\n        });\n    }\n\n    function showError(err) {\n      outputDiv.innerHTML = `<div class=\"error\" style=\"color:red;\">${err}</div>`;\n      throw err;\n    }\n\n    function displayChart(vegaEmbed) {\n      vegaEmbed(outputDiv, spec, embedOpt)\n        .catch(err => showError(`Javascript Error: ${err.message}<br>This usually means there's a typo in your chart specification. See the javascript console for the full traceback.`));\n    }\n\n    if(typeof define === \"function\" && define.amd) {\n      requirejs.config({paths});\n      require([\"vega-embed\"], displayChart, err => showError(`Error loading script: ${err.message}`));\n    } else {\n      maybeLoadScript(\"vega\", \"5\")\n        .then(() => maybeLoadScript(\"vega-lite\", \"4.17.0\"))\n        .then(() => maybeLoadScript(\"vega-embed\", \"6\"))\n        .catch(showError)\n        .then(() => displayChart(vegaEmbed));\n    }\n  })({\"config\": {\"view\": {\"continuousWidth\": 400, \"continuousHeight\": 300}}, \"layer\": [{\"mark\": \"bar\", \"encoding\": {\"color\": {\"value\": \"orange\"}, \"tooltip\": [{\"field\": \"column_name\", \"type\": \"nominal\"}, {\"field\": \"percent_missing\", \"type\": \"quantitative\"}], \"x\": {\"field\": \"column_name\", \"sort\": [\"TOWNSHIP\", \"YEAR\", \"COUNTY_NAME\", \"GSE_GWE\"], \"type\": \"nominal\"}, \"y\": {\"aggregate\": \"sum\", \"axis\": {\"format\": \"%\"}, \"field\": \"percent_missing\", \"stack\": \"normalize\", \"type\": \"quantitative\"}}}, {\"mark\": {\"type\": \"text\", \"align\": \"center\", \"color\": \"black\", \"fontSize\": 10}, \"encoding\": {\"color\": {\"value\": \"orange\"}, \"text\": {\"field\": \"percent_missing\", \"format\": \".0%\", \"type\": \"quantitative\"}, \"tooltip\": [{\"field\": \"column_name\", \"type\": \"nominal\"}, {\"field\": \"percent_missing\", \"type\": \"quantitative\"}], \"x\": {\"field\": \"column_name\", \"sort\": [\"TOWNSHIP\", \"YEAR\", \"COUNTY_NAME\", \"GSE_GWE\"], \"type\": \"nominal\"}, \"y\": {\"field\": \"position\", \"type\": \"quantitative\"}}, \"transform\": [{\"calculate\": \"datum.percent_missing + 0.05 * datum.percent_missing / abs(datum.percent_missing)\", \"as\": \"position\"}]}], \"data\": {\"name\": \"data-84b30e145f0d5cd7532dbc6bba86a796\"}, \"$schema\": \"https://vega.github.io/schema/vega-lite/v4.17.0.json\", \"datasets\": {\"data-84b30e145f0d5cd7532dbc6bba86a796\": [{\"column_name\": \"TOWNSHIP\", \"percent_missing\": 0.0}, {\"column_name\": \"YEAR\", \"percent_missing\": 0.0}, {\"column_name\": \"COUNTY_NAME\", \"percent_missing\": 0.0}, {\"column_name\": \"GSE_GWE\", \"percent_missing\": 0.0}]}}, {\"mode\": \"vega-lite\"});\n</script>",
      "text/plain": "alt.LayerChart(...)"
     },
     "execution_count": 9,
     "metadata": {},
     "output_type": "execute_result"
    }
   ],
   "source": [
    "groundwater_dataset.draw_mising_data_chart()"
   ],
   "metadata": {
    "collapsed": false,
    "pycharm": {
     "name": "#%%\n"
    }
   }
  },
  {
   "cell_type": "code",
   "execution_count": 9,
   "outputs": [],
   "source": [],
   "metadata": {
    "collapsed": false,
    "pycharm": {
     "name": "#%%\n"
    }
   }
  }
 ],
 "nbformat": 4,
 "nbformat_minor": 2,
 "metadata": {
  "orig_nbformat": 2,
  "deepnote": {
   "is_reactive": false
  },
  "deepnote_notebook_id": "ffbccf33-5e94-4595-b857-1a62a100c564",
  "deepnote_execution_queue": []
 }
}