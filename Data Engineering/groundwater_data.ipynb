{
 "cells": [
  {
   "cell_type": "markdown",
   "source": [
    "# San Joaquin  Valley Groundwater data\n",
    "\n",
    "Related links:\n",
    "\n",
    "* For the documentation about this dataset, its source, how to download, and the features of interest, please refer to our [Groundwater Reports Dataset](/doc/assets/groundwater.md) documentation.\n",
    "\n",
    "*  For the explanations on how the sortage mapping datasets are mapped to TownshipRange please refer to our [Public Land Survey System](../assets/plss_sanjoaquin_riverbasin.md) documentation.\n",
    "\n",
    "* [Data location](/work/assets/groundwater.csv)"
   ],
   "metadata": {
    "cell_id": "9f8f6d34-6305-45d0-bb25-aa88d11ff0a4",
    "tags": [],
    "deepnote_cell_type": "markdown",
    "deepnote_cell_height": 221.53125
   }
  },
  {
   "cell_type": "code",
   "metadata": {
    "cell_id": "2d11b4a3-a26e-4c6a-b72c-35cd89f52b22",
    "tags": [],
    "deepnote_to_be_reexecuted": false,
    "source_hash": "18561438",
    "execution_start": 1647808512129,
    "execution_millis": 1280263,
    "deepnote_cell_type": "code",
    "deepnote_cell_height": 98.953125
   },
   "source": [
    "import sys\n",
    "sys.path.append('..')"
   ],
   "execution_count": 11,
   "outputs": []
  },
  {
   "cell_type": "code",
   "metadata": {
    "cell_id": "a552bf92-b58b-4c59-86eb-b0b435adbe75",
    "tags": [],
    "deepnote_to_be_reexecuted": false,
    "source_hash": "47704982",
    "execution_start": 1647808512179,
    "execution_millis": 1168,
    "deepnote_cell_type": "code",
    "deepnote_cell_height": 152.875
   },
   "source": [
    "import geopandas as gpd\n",
    "from lib.groundwater import GroundwaterDataset"
   ],
   "execution_count": 12,
   "outputs": []
  },
  {
   "cell_type": "markdown",
   "source": [
    "##### Groundwater measurements\n",
    "https://data.cnra.ca.gov/dataset/periodic-groundwater-level-measurements\n",
    "\n",
    "- The elevation of the groundwater surface  can be calculated by subtracting the depth to groundwater from the ground surface elevation.\n",
    "\n",
    "> [Water levels in many aquifers](https://pubs.usgs.gov/circ/circ1217/pdf/circ1217_final.pdf) in the United States follow a natural cyclic pattern of seasonal \n",
    "> fluctuation,typically rising during the winter and spring due to greater precipitation and recharge, then declining during the summer\n",
    "> and fall owing to less recharge and greater evapotranspiration. Hence, below we take only spring measurements for groundwater"
   ],
   "metadata": {
    "cell_id": "432c83b0-c554-4943-a571-4bf2be9d1325",
    "tags": [],
    "deepnote_cell_type": "markdown",
    "deepnote_cell_height": 197.515625
   }
  },
  {
   "cell_type": "code",
   "metadata": {
    "cell_id": "9a372491-0999-4749-a6f4-0efc8e06c955",
    "tags": [],
    "deepnote_to_be_reexecuted": false,
    "source_hash": "60c1dc88",
    "execution_start": 1647808548803,
    "execution_millis": 18460,
    "deepnote_cell_type": "code",
    "deepnote_cell_height": 80.953125
   },
   "source": [
    "groundwater_dataset =  GroundwaterDataset()"
   ],
   "execution_count": 13,
   "outputs": []
  },
  {
   "cell_type": "markdown",
   "source": [
    "Pre-process the groundwater data and geospatial location and combined them into the the geospatial map_df dataset"
   ],
   "metadata": {
    "collapsed": false,
    "pycharm": {
     "name": "#%% md\n"
    }
   }
  },
  {
   "cell_type": "code",
   "execution_count": 14,
   "outputs": [],
   "source": [
    "groundwater_dataset.preprocess_data_df()\n",
    "groundwater_dataset.preprocess_map_df()\n",
    "groundwater_dataset.merge_map_with_data()"
   ],
   "metadata": {
    "collapsed": false,
    "pycharm": {
     "name": "#%%\n"
    }
   }
  },
  {
   "cell_type": "markdown",
   "source": [
    "Overlay the San Joaquin Valley boundaries on the soil dataset to keep only the data in the San Joaquin Valley"
   ],
   "metadata": {
    "collapsed": false,
    "pycharm": {
     "name": "#%% md\n"
    }
   }
  },
  {
   "cell_type": "code",
   "execution_count": 15,
   "outputs": [],
   "source": [
    "groundwater_dataset.keep_only_sjv_data()"
   ],
   "metadata": {
    "collapsed": false,
    "pycharm": {
     "name": "#%%\n"
    }
   }
  },
  {
   "cell_type": "code",
   "execution_count": 16,
   "outputs": [
    {
     "data": {
      "text/plain": "       COUNTY_NAME                     geometry  GSE_GWE    YEAR\n0             Kern  POINT (-118.83700 34.97010)    159.9  2017.0\n1             Kern  POINT (-118.83700 34.97010)    160.6  2018.0\n2             Kern  POINT (-118.81500 35.00190)      NaN     NaN\n3             Kern  POINT (-118.81500 35.00250)      1.0  1967.0\n4             Kern  POINT (-118.81500 35.00250)      2.2  1966.0\n...            ...                          ...      ...     ...\n335051  Sacramento  POINT (-121.14300 38.46000)    111.8  2002.0\n335052  Sacramento  POINT (-121.14300 38.46000)    107.0  2003.0\n335053  Sacramento  POINT (-121.14300 38.46000)    107.3  2004.0\n335054  Sacramento  POINT (-121.14300 38.46000)    110.9  2006.0\n335055  Sacramento  POINT (-121.14300 38.46000)     98.1  1982.0\n\n[335056 rows x 4 columns]",
      "text/html": "<div>\n<style scoped>\n    .dataframe tbody tr th:only-of-type {\n        vertical-align: middle;\n    }\n\n    .dataframe tbody tr th {\n        vertical-align: top;\n    }\n\n    .dataframe thead th {\n        text-align: right;\n    }\n</style>\n<table border=\"1\" class=\"dataframe\">\n  <thead>\n    <tr style=\"text-align: right;\">\n      <th></th>\n      <th>COUNTY_NAME</th>\n      <th>geometry</th>\n      <th>GSE_GWE</th>\n      <th>YEAR</th>\n    </tr>\n  </thead>\n  <tbody>\n    <tr>\n      <th>0</th>\n      <td>Kern</td>\n      <td>POINT (-118.83700 34.97010)</td>\n      <td>159.9</td>\n      <td>2017.0</td>\n    </tr>\n    <tr>\n      <th>1</th>\n      <td>Kern</td>\n      <td>POINT (-118.83700 34.97010)</td>\n      <td>160.6</td>\n      <td>2018.0</td>\n    </tr>\n    <tr>\n      <th>2</th>\n      <td>Kern</td>\n      <td>POINT (-118.81500 35.00190)</td>\n      <td>NaN</td>\n      <td>NaN</td>\n    </tr>\n    <tr>\n      <th>3</th>\n      <td>Kern</td>\n      <td>POINT (-118.81500 35.00250)</td>\n      <td>1.0</td>\n      <td>1967.0</td>\n    </tr>\n    <tr>\n      <th>4</th>\n      <td>Kern</td>\n      <td>POINT (-118.81500 35.00250)</td>\n      <td>2.2</td>\n      <td>1966.0</td>\n    </tr>\n    <tr>\n      <th>...</th>\n      <td>...</td>\n      <td>...</td>\n      <td>...</td>\n      <td>...</td>\n    </tr>\n    <tr>\n      <th>335051</th>\n      <td>Sacramento</td>\n      <td>POINT (-121.14300 38.46000)</td>\n      <td>111.8</td>\n      <td>2002.0</td>\n    </tr>\n    <tr>\n      <th>335052</th>\n      <td>Sacramento</td>\n      <td>POINT (-121.14300 38.46000)</td>\n      <td>107.0</td>\n      <td>2003.0</td>\n    </tr>\n    <tr>\n      <th>335053</th>\n      <td>Sacramento</td>\n      <td>POINT (-121.14300 38.46000)</td>\n      <td>107.3</td>\n      <td>2004.0</td>\n    </tr>\n    <tr>\n      <th>335054</th>\n      <td>Sacramento</td>\n      <td>POINT (-121.14300 38.46000)</td>\n      <td>110.9</td>\n      <td>2006.0</td>\n    </tr>\n    <tr>\n      <th>335055</th>\n      <td>Sacramento</td>\n      <td>POINT (-121.14300 38.46000)</td>\n      <td>98.1</td>\n      <td>1982.0</td>\n    </tr>\n  </tbody>\n</table>\n<p>335056 rows × 4 columns</p>\n</div>"
     },
     "execution_count": 16,
     "metadata": {},
     "output_type": "execute_result"
    }
   ],
   "source": [
    "groundwater_dataset.map_df"
   ],
   "metadata": {
    "collapsed": false,
    "pycharm": {
     "name": "#%%\n"
    }
   }
  },
  {
   "cell_type": "markdown",
   "source": [
    "Combine all the groundwater measurement points per township, applying a _mean_ aggregation function by default  on the `GSE_GWE` feature per township"
   ],
   "metadata": {
    "collapsed": false,
    "pycharm": {
     "name": "#%% md\n"
    }
   }
  },
  {
   "cell_type": "code",
   "metadata": {
    "cell_id": "20e38d33-7a35-433e-a4f8-639627b244e6",
    "tags": [],
    "deepnote_to_be_reexecuted": false,
    "source_hash": "2a24b67a",
    "execution_start": 1647808573628,
    "execution_millis": 3004,
    "deepnote_cell_type": "code",
    "deepnote_cell_height": 613.328125
   },
   "source": [
    "groundwater_dataset.aggregate_points_by_townships(feature_name=\"GSE_GWE\")"
   ],
   "execution_count": 17,
   "outputs": []
  },
  {
   "cell_type": "markdown",
   "source": [],
   "metadata": {
    "collapsed": false
   }
  },
  {
   "cell_type": "code",
   "execution_count": 18,
   "outputs": [
    {
     "data": {
      "text/plain": "      COUNTY_NAME    YEAR   TOWNSHIP     GSE_GWE\n0         Alameda  1956.0  T02S R04E    6.490000\n1         Alameda  1959.0  T02S R04E    5.190000\n2         Alameda  1960.0  T02S R04E    5.890000\n3         Alameda  1961.0  T02S R04E   21.800000\n4         Alameda  1963.0  T02S R04E   19.900000\n...           ...     ...        ...         ...\n28122      Tulare  2021.0  T24S R25E  228.300000\n28123      Tulare  2021.0  T24S R26E  307.400000\n28124      Tulare  2021.0  T24S R27E  445.907619\n28125      Tulare  2021.0  T25S R26E  299.550000\n28126      Tulare  2021.0  T25S R27E  590.000000\n\n[28127 rows x 4 columns]",
      "text/html": "<div>\n<style scoped>\n    .dataframe tbody tr th:only-of-type {\n        vertical-align: middle;\n    }\n\n    .dataframe tbody tr th {\n        vertical-align: top;\n    }\n\n    .dataframe thead th {\n        text-align: right;\n    }\n</style>\n<table border=\"1\" class=\"dataframe\">\n  <thead>\n    <tr style=\"text-align: right;\">\n      <th></th>\n      <th>COUNTY_NAME</th>\n      <th>YEAR</th>\n      <th>TOWNSHIP</th>\n      <th>GSE_GWE</th>\n    </tr>\n  </thead>\n  <tbody>\n    <tr>\n      <th>0</th>\n      <td>Alameda</td>\n      <td>1956.0</td>\n      <td>T02S R04E</td>\n      <td>6.490000</td>\n    </tr>\n    <tr>\n      <th>1</th>\n      <td>Alameda</td>\n      <td>1959.0</td>\n      <td>T02S R04E</td>\n      <td>5.190000</td>\n    </tr>\n    <tr>\n      <th>2</th>\n      <td>Alameda</td>\n      <td>1960.0</td>\n      <td>T02S R04E</td>\n      <td>5.890000</td>\n    </tr>\n    <tr>\n      <th>3</th>\n      <td>Alameda</td>\n      <td>1961.0</td>\n      <td>T02S R04E</td>\n      <td>21.800000</td>\n    </tr>\n    <tr>\n      <th>4</th>\n      <td>Alameda</td>\n      <td>1963.0</td>\n      <td>T02S R04E</td>\n      <td>19.900000</td>\n    </tr>\n    <tr>\n      <th>...</th>\n      <td>...</td>\n      <td>...</td>\n      <td>...</td>\n      <td>...</td>\n    </tr>\n    <tr>\n      <th>28122</th>\n      <td>Tulare</td>\n      <td>2021.0</td>\n      <td>T24S R25E</td>\n      <td>228.300000</td>\n    </tr>\n    <tr>\n      <th>28123</th>\n      <td>Tulare</td>\n      <td>2021.0</td>\n      <td>T24S R26E</td>\n      <td>307.400000</td>\n    </tr>\n    <tr>\n      <th>28124</th>\n      <td>Tulare</td>\n      <td>2021.0</td>\n      <td>T24S R27E</td>\n      <td>445.907619</td>\n    </tr>\n    <tr>\n      <th>28125</th>\n      <td>Tulare</td>\n      <td>2021.0</td>\n      <td>T25S R26E</td>\n      <td>299.550000</td>\n    </tr>\n    <tr>\n      <th>28126</th>\n      <td>Tulare</td>\n      <td>2021.0</td>\n      <td>T25S R27E</td>\n      <td>590.000000</td>\n    </tr>\n  </tbody>\n</table>\n<p>28127 rows × 4 columns</p>\n</div>"
     },
     "execution_count": 18,
     "metadata": {},
     "output_type": "execute_result"
    }
   ],
   "source": [
    "groundwater_dataset.output_df"
   ],
   "metadata": {
    "collapsed": false,
    "pycharm": {
     "name": "#%%\n"
    }
   }
  },
  {
   "cell_type": "code",
   "execution_count": 19,
   "outputs": [],
   "source": [
    "groundwater_dataset.output_dataset_to_csv(output_filename=\"../assets/outputs/spring_groundwater_levels.csv\")"
   ],
   "metadata": {
    "collapsed": false,
    "pycharm": {
     "name": "#%%\n"
    }
   }
  },
  {
   "cell_type": "code",
   "execution_count": 20,
   "outputs": [
    {
     "data": {
      "text/html": "\n<div id=\"altair-viz-ba5986fa73a045728d9ba771370caef9\"></div>\n<script type=\"text/javascript\">\n  var VEGA_DEBUG = (typeof VEGA_DEBUG == \"undefined\") ? {} : VEGA_DEBUG;\n  (function(spec, embedOpt){\n    let outputDiv = document.currentScript.previousElementSibling;\n    if (outputDiv.id !== \"altair-viz-ba5986fa73a045728d9ba771370caef9\") {\n      outputDiv = document.getElementById(\"altair-viz-ba5986fa73a045728d9ba771370caef9\");\n    }\n    const paths = {\n      \"vega\": \"https://cdn.jsdelivr.net/npm//vega@5?noext\",\n      \"vega-lib\": \"https://cdn.jsdelivr.net/npm//vega-lib?noext\",\n      \"vega-lite\": \"https://cdn.jsdelivr.net/npm//vega-lite@4.17.0?noext\",\n      \"vega-embed\": \"https://cdn.jsdelivr.net/npm//vega-embed@6?noext\",\n    };\n\n    function maybeLoadScript(lib, version) {\n      var key = `${lib.replace(\"-\", \"\")}_version`;\n      return (VEGA_DEBUG[key] == version) ?\n        Promise.resolve(paths[lib]) :\n        new Promise(function(resolve, reject) {\n          var s = document.createElement('script');\n          document.getElementsByTagName(\"head\")[0].appendChild(s);\n          s.async = true;\n          s.onload = () => {\n            VEGA_DEBUG[key] = version;\n            return resolve(paths[lib]);\n          };\n          s.onerror = () => reject(`Error loading script: ${paths[lib]}`);\n          s.src = paths[lib];\n        });\n    }\n\n    function showError(err) {\n      outputDiv.innerHTML = `<div class=\"error\" style=\"color:red;\">${err}</div>`;\n      throw err;\n    }\n\n    function displayChart(vegaEmbed) {\n      vegaEmbed(outputDiv, spec, embedOpt)\n        .catch(err => showError(`Javascript Error: ${err.message}<br>This usually means there's a typo in your chart specification. See the javascript console for the full traceback.`));\n    }\n\n    if(typeof define === \"function\" && define.amd) {\n      requirejs.config({paths});\n      require([\"vega-embed\"], displayChart, err => showError(`Error loading script: ${err.message}`));\n    } else {\n      maybeLoadScript(\"vega\", \"5\")\n        .then(() => maybeLoadScript(\"vega-lite\", \"4.17.0\"))\n        .then(() => maybeLoadScript(\"vega-embed\", \"6\"))\n        .catch(showError)\n        .then(() => displayChart(vegaEmbed));\n    }\n  })({\"config\": {\"view\": {\"continuousWidth\": 400, \"continuousHeight\": 300}}, \"layer\": [{\"mark\": \"bar\", \"encoding\": {\"color\": {\"value\": \"orange\"}, \"tooltip\": [{\"field\": \"column_name\", \"type\": \"nominal\"}, {\"field\": \"percent_missing\", \"type\": \"quantitative\"}], \"x\": {\"field\": \"column_name\", \"sort\": [\"COUNTY_NAME\", \"YEAR\", \"TOWNSHIP\", \"GSE_GWE\"], \"type\": \"nominal\"}, \"y\": {\"aggregate\": \"sum\", \"axis\": {\"format\": \"%\"}, \"field\": \"percent_missing\", \"stack\": \"normalize\", \"type\": \"quantitative\"}}}, {\"mark\": {\"type\": \"text\", \"align\": \"center\", \"color\": \"black\", \"fontSize\": 10}, \"encoding\": {\"color\": {\"value\": \"orange\"}, \"text\": {\"field\": \"percent_missing\", \"format\": \".0%\", \"type\": \"quantitative\"}, \"tooltip\": [{\"field\": \"column_name\", \"type\": \"nominal\"}, {\"field\": \"percent_missing\", \"type\": \"quantitative\"}], \"x\": {\"field\": \"column_name\", \"sort\": [\"COUNTY_NAME\", \"YEAR\", \"TOWNSHIP\", \"GSE_GWE\"], \"type\": \"nominal\"}, \"y\": {\"field\": \"position\", \"type\": \"quantitative\"}}, \"transform\": [{\"calculate\": \"datum.percent_missing + 0.05 * datum.percent_missing / abs(datum.percent_missing)\", \"as\": \"position\"}]}], \"data\": {\"name\": \"data-bc129f0d0ca534365cfeec2ce96f0f2d\"}, \"$schema\": \"https://vega.github.io/schema/vega-lite/v4.17.0.json\", \"datasets\": {\"data-bc129f0d0ca534365cfeec2ce96f0f2d\": [{\"column_name\": \"COUNTY_NAME\", \"percent_missing\": 0.0}, {\"column_name\": \"YEAR\", \"percent_missing\": 0.0}, {\"column_name\": \"TOWNSHIP\", \"percent_missing\": 0.0}, {\"column_name\": \"GSE_GWE\", \"percent_missing\": 0.0}]}}, {\"mode\": \"vega-lite\"});\n</script>",
      "text/plain": "alt.LayerChart(...)"
     },
     "execution_count": 20,
     "metadata": {},
     "output_type": "execute_result"
    }
   ],
   "source": [
    "groundwater_dataset.draw_mising_data_chart()"
   ],
   "metadata": {
    "collapsed": false,
    "pycharm": {
     "name": "#%%\n"
    }
   }
  }
 ],
 "nbformat": 4,
 "nbformat_minor": 2,
 "metadata": {
  "orig_nbformat": 2,
  "deepnote": {
   "is_reactive": false
  },
  "deepnote_notebook_id": "ffbccf33-5e94-4595-b857-1a62a100c564",
  "deepnote_execution_queue": []
 }
}