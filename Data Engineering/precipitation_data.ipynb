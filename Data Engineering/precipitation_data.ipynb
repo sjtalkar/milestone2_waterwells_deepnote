{
 "cells": [
  {
   "cell_type": "markdown",
   "source": "# San Joaquin  Valley TownshipRange  Precipitation data and Stations\n\nRelated links:\n\n* For the documentation about this dataset, its source, how to download, and the features of interest, please refer to our [Well Completion Reports Dataset](/doc/assets/precipitation.md) documentation.\n\n*  For the explanations on how the sortage mapping datasets are mapped to TownshipRange please refer to our [Public Land Survey System](../assets/plss_sanjoaquin_riverbasin.md) documentation.\n",
   "metadata": {
    "cell_id": "4500339f-1db4-4ecd-b8e3-4f7fd1ae4e2d",
    "tags": [],
    "deepnote_cell_type": "markdown",
    "deepnote_cell_height": 292.984375
   }
  },
  {
   "cell_type": "code",
   "metadata": {
    "cell_id": "a71454a5-c1f5-4ced-b1af-f86a6ccd3a65",
    "tags": [],
    "deepnote_to_be_reexecuted": false,
    "source_hash": "95f93ff1",
    "execution_start": 1647724564096,
    "execution_millis": 1,
    "deepnote_cell_type": "code",
    "deepnote_cell_height": 99
   },
   "source": "import sys\nsys.path.append('..')",
   "execution_count": null,
   "outputs": []
  },
  {
   "cell_type": "code",
   "metadata": {
    "cell_id": "a6d58109-9b68-420b-b922-48542d672a64",
    "deepnote_to_be_reexecuted": false,
    "source_hash": "7cddc2e6",
    "execution_start": 1647560492199,
    "execution_millis": 4,
    "deepnote_cell_type": "code",
    "deepnote_cell_height": 369
   },
   "source": "import pandas as pd\nimport numpy as np\n\nfrom bs4 import BeautifulSoup\nimport requests\n\nimport datetime\n\nimport warnings\nwarnings.simplefilter(action='ignore', category=FutureWarning)\n\n\nimport json\nimport geopandas as gpd\nimport pygeos\n\nimport altair as alt",
   "execution_count": null,
   "outputs": []
  },
  {
   "cell_type": "markdown",
   "source": "##### NOTE: The outputof this notebook after scraped data was cleaned and merged is stored in \n **\"/work/milestone2_waterwells_deepnote/assets/outputs/precipitation/precipitation_stations.csv\"**",
   "metadata": {
    "cell_id": "00001-94e2870a-75ee-46c0-97df-5afc3f8d7f8c",
    "deepnote_cell_type": "markdown",
    "deepnote_cell_height": 88.390625
   }
  },
  {
   "cell_type": "code",
   "metadata": {
    "cell_id": "8ca11c00-8132-4b7b-819c-fd14a6a725e2",
    "tags": [],
    "deepnote_to_be_reexecuted": false,
    "source_hash": "c735b9cc",
    "execution_start": 1647560492209,
    "execution_millis": 13,
    "deepnote_cell_type": "code",
    "deepnote_cell_height": 81
   },
   "source": "from lib.precipitation import PrecipitationDataset",
   "execution_count": null,
   "outputs": []
  },
  {
   "cell_type": "code",
   "metadata": {
    "cell_id": "d95b2887-812a-46de-8225-ce3221ce553b",
    "tags": [],
    "deepnote_to_be_reexecuted": false,
    "source_hash": "eb397a2",
    "execution_start": 1647560492234,
    "execution_millis": 3,
    "deepnote_cell_type": "code",
    "deepnote_cell_height": 81
   },
   "source": "precipitation_data = PrecipitationDataset(2013, 2023, \"../assets/outputs\")",
   "execution_count": null,
   "outputs": []
  },
  {
   "cell_type": "code",
   "metadata": {
    "cell_id": "8ca83810-389c-400a-a1a8-656b5fc87e06",
    "tags": [],
    "deepnote_to_be_reexecuted": false,
    "source_hash": "851de95f",
    "execution_start": 1647560495106,
    "execution_millis": 7468,
    "deepnote_cell_type": "code",
    "deepnote_cell_height": 613.265625
   },
   "source": "precipitation_data.scrape_monthly_precipitation_data().sample(10)",
   "execution_count": null,
   "outputs": [
    {
     "output_type": "execute_result",
     "execution_count": 6,
     "data": {
      "application/vnd.deepnote.dataframe.v3+json": {
       "column_count": 16,
       "row_count": 10,
       "columns": [
        {
         "name": "STATION_ID",
         "dtype": "object",
         "stats": {
          "unique_count": 10,
          "nan_count": 0,
          "categories": [
           {
            "name": "HLS",
            "count": 1
           },
           {
            "name": "MKV",
            "count": 1
           },
           {
            "name": "8 others",
            "count": 8
           }
          ]
         }
        },
        {
         "name": "STATION NAME",
         "dtype": "object",
         "stats": {
          "unique_count": 10,
          "nan_count": 0,
          "categories": [
           {
            "name": "HOLLISTER",
            "count": 1
           },
           {
            "name": "MARKLEEVILLE",
            "count": 1
           },
           {
            "name": "8 others",
            "count": 8
           }
          ]
         }
        },
        {
         "name": "OCT",
         "dtype": "float64",
         "stats": {
          "unique_count": 9,
          "nan_count": 1,
          "min": "0.02",
          "max": "5.23",
          "histogram": [
           {
            "bin_start": 0.02,
            "bin_end": 0.5410000000000001,
            "count": 3
           },
           {
            "bin_start": 0.5410000000000001,
            "bin_end": 1.0620000000000003,
            "count": 3
           },
           {
            "bin_start": 1.0620000000000003,
            "bin_end": 1.5830000000000004,
            "count": 0
           },
           {
            "bin_start": 1.5830000000000004,
            "bin_end": 2.1040000000000005,
            "count": 1
           },
           {
            "bin_start": 2.1040000000000005,
            "bin_end": 2.6250000000000004,
            "count": 0
           },
           {
            "bin_start": 2.6250000000000004,
            "bin_end": 3.146000000000001,
            "count": 0
           },
           {
            "bin_start": 3.146000000000001,
            "bin_end": 3.667000000000001,
            "count": 1
           },
           {
            "bin_start": 3.667000000000001,
            "bin_end": 4.188000000000001,
            "count": 0
           },
           {
            "bin_start": 4.188000000000001,
            "bin_end": 4.7090000000000005,
            "count": 0
           },
           {
            "bin_start": 4.7090000000000005,
            "bin_end": 5.23,
            "count": 1
           }
          ]
         }
        },
        {
         "name": "NOV",
         "dtype": "float64",
         "stats": {
          "unique_count": 9,
          "nan_count": 1,
          "min": "0.1",
          "max": "10.53",
          "histogram": [
           {
            "bin_start": 0.1,
            "bin_end": 1.143,
            "count": 4
           },
           {
            "bin_start": 1.143,
            "bin_end": 2.186,
            "count": 0
           },
           {
            "bin_start": 2.186,
            "bin_end": 3.2289999999999996,
            "count": 2
           },
           {
            "bin_start": 3.2289999999999996,
            "bin_end": 4.271999999999999,
            "count": 2
           },
           {
            "bin_start": 4.271999999999999,
            "bin_end": 5.3149999999999995,
            "count": 0
           },
           {
            "bin_start": 5.3149999999999995,
            "bin_end": 6.357999999999999,
            "count": 0
           },
           {
            "bin_start": 6.357999999999999,
            "bin_end": 7.400999999999999,
            "count": 0
           },
           {
            "bin_start": 7.400999999999999,
            "bin_end": 8.443999999999999,
            "count": 0
           },
           {
            "bin_start": 8.443999999999999,
            "bin_end": 9.486999999999998,
            "count": 0
           },
           {
            "bin_start": 9.486999999999998,
            "bin_end": 10.53,
            "count": 1
           }
          ]
         }
        },
        {
         "name": "DEC",
         "dtype": "float64",
         "stats": {
          "unique_count": 9,
          "nan_count": 1,
          "min": "0.03",
          "max": "13.56",
          "histogram": [
           {
            "bin_start": 0.03,
            "bin_end": 1.3830000000000002,
            "count": 3
           },
           {
            "bin_start": 1.3830000000000002,
            "bin_end": 2.736,
            "count": 0
           },
           {
            "bin_start": 2.736,
            "bin_end": 4.089000000000001,
            "count": 2
           },
           {
            "bin_start": 4.089000000000001,
            "bin_end": 5.442000000000001,
            "count": 0
           },
           {
            "bin_start": 5.442000000000001,
            "bin_end": 6.795000000000001,
            "count": 2
           },
           {
            "bin_start": 6.795000000000001,
            "bin_end": 8.148000000000001,
            "count": 0
           },
           {
            "bin_start": 8.148000000000001,
            "bin_end": 9.501000000000001,
            "count": 1
           },
           {
            "bin_start": 9.501000000000001,
            "bin_end": 10.854000000000001,
            "count": 0
           },
           {
            "bin_start": 10.854000000000001,
            "bin_end": 12.207,
            "count": 0
           },
           {
            "bin_start": 12.207,
            "bin_end": 13.56,
            "count": 1
           }
          ]
         }
        },
        {
         "name": "JAN",
         "dtype": "float64",
         "stats": {
          "unique_count": 9,
          "nan_count": 1,
          "min": "0.22",
          "max": "9.7",
          "histogram": [
           {
            "bin_start": 0.22,
            "bin_end": 1.168,
            "count": 4
           },
           {
            "bin_start": 1.168,
            "bin_end": 2.1159999999999997,
            "count": 0
           },
           {
            "bin_start": 2.1159999999999997,
            "bin_end": 3.0639999999999996,
            "count": 1
           },
           {
            "bin_start": 3.0639999999999996,
            "bin_end": 4.012,
            "count": 1
           },
           {
            "bin_start": 4.012,
            "bin_end": 4.959999999999999,
            "count": 0
           },
           {
            "bin_start": 4.959999999999999,
            "bin_end": 5.907999999999999,
            "count": 1
           },
           {
            "bin_start": 5.907999999999999,
            "bin_end": 6.855999999999999,
            "count": 0
           },
           {
            "bin_start": 6.855999999999999,
            "bin_end": 7.8039999999999985,
            "count": 0
           },
           {
            "bin_start": 7.8039999999999985,
            "bin_end": 8.751999999999999,
            "count": 0
           },
           {
            "bin_start": 8.751999999999999,
            "bin_end": 9.7,
            "count": 2
           }
          ]
         }
        },
        {
         "name": "FEB",
         "dtype": "float64",
         "stats": {
          "unique_count": 8,
          "nan_count": 2,
          "min": "0.51",
          "max": "16.48",
          "histogram": [
           {
            "bin_start": 0.51,
            "bin_end": 2.107,
            "count": 7
           },
           {
            "bin_start": 2.107,
            "bin_end": 3.7039999999999997,
            "count": 0
           },
           {
            "bin_start": 3.7039999999999997,
            "bin_end": 5.301,
            "count": 0
           },
           {
            "bin_start": 5.301,
            "bin_end": 6.898,
            "count": 0
           },
           {
            "bin_start": 6.898,
            "bin_end": 8.495,
            "count": 0
           },
           {
            "bin_start": 8.495,
            "bin_end": 10.092,
            "count": 0
           },
           {
            "bin_start": 10.092,
            "bin_end": 11.689,
            "count": 0
           },
           {
            "bin_start": 11.689,
            "bin_end": 13.286,
            "count": 0
           },
           {
            "bin_start": 13.286,
            "bin_end": 14.883,
            "count": 0
           },
           {
            "bin_start": 14.883,
            "bin_end": 16.48,
            "count": 1
           }
          ]
         }
        },
        {
         "name": "MAR",
         "dtype": "float64",
         "stats": {
          "unique_count": 10,
          "nan_count": 0,
          "min": "0.0",
          "max": "10.17",
          "histogram": [
           {
            "bin_start": 0,
            "bin_end": 1.017,
            "count": 4
           },
           {
            "bin_start": 1.017,
            "bin_end": 2.034,
            "count": 1
           },
           {
            "bin_start": 2.034,
            "bin_end": 3.0509999999999997,
            "count": 2
           },
           {
            "bin_start": 3.0509999999999997,
            "bin_end": 4.068,
            "count": 0
           },
           {
            "bin_start": 4.068,
            "bin_end": 5.084999999999999,
            "count": 1
           },
           {
            "bin_start": 5.084999999999999,
            "bin_end": 6.101999999999999,
            "count": 0
           },
           {
            "bin_start": 6.101999999999999,
            "bin_end": 7.119,
            "count": 0
           },
           {
            "bin_start": 7.119,
            "bin_end": 8.136,
            "count": 1
           },
           {
            "bin_start": 8.136,
            "bin_end": 9.152999999999999,
            "count": 0
           },
           {
            "bin_start": 9.152999999999999,
            "bin_end": 10.17,
            "count": 1
           }
          ]
         }
        },
        {
         "name": "APR",
         "dtype": "float64",
         "stats": {
          "unique_count": 8,
          "nan_count": 1,
          "min": "0.0",
          "max": "3.15",
          "histogram": [
           {
            "bin_start": 0,
            "bin_end": 0.315,
            "count": 2
           },
           {
            "bin_start": 0.315,
            "bin_end": 0.63,
            "count": 2
           },
           {
            "bin_start": 0.63,
            "bin_end": 0.9450000000000001,
            "count": 0
           },
           {
            "bin_start": 0.9450000000000001,
            "bin_end": 1.26,
            "count": 1
           },
           {
            "bin_start": 1.26,
            "bin_end": 1.575,
            "count": 0
           },
           {
            "bin_start": 1.575,
            "bin_end": 1.8900000000000001,
            "count": 1
           },
           {
            "bin_start": 1.8900000000000001,
            "bin_end": 2.205,
            "count": 0
           },
           {
            "bin_start": 2.205,
            "bin_end": 2.52,
            "count": 0
           },
           {
            "bin_start": 2.52,
            "bin_end": 2.835,
            "count": 1
           },
           {
            "bin_start": 2.835,
            "bin_end": 3.15,
            "count": 2
           }
          ]
         }
        },
        {
         "name": "MAY",
         "dtype": "float64",
         "stats": {
          "unique_count": 8,
          "nan_count": 2,
          "min": "0.0",
          "max": "2.56",
          "histogram": [
           {
            "bin_start": 0,
            "bin_end": 0.256,
            "count": 2
           },
           {
            "bin_start": 0.256,
            "bin_end": 0.512,
            "count": 2
           },
           {
            "bin_start": 0.512,
            "bin_end": 0.768,
            "count": 2
           },
           {
            "bin_start": 0.768,
            "bin_end": 1.024,
            "count": 0
           },
           {
            "bin_start": 1.024,
            "bin_end": 1.28,
            "count": 0
           },
           {
            "bin_start": 1.28,
            "bin_end": 1.536,
            "count": 0
           },
           {
            "bin_start": 1.536,
            "bin_end": 1.792,
            "count": 0
           },
           {
            "bin_start": 1.792,
            "bin_end": 2.048,
            "count": 0
           },
           {
            "bin_start": 2.048,
            "bin_end": 2.3040000000000003,
            "count": 1
           },
           {
            "bin_start": 2.3040000000000003,
            "bin_end": 2.56,
            "count": 1
           }
          ]
         }
        },
        {
         "name": "JUN",
         "dtype": "float64",
         "stats": {
          "unique_count": 5,
          "nan_count": 2,
          "min": "0.0",
          "max": "2.19",
          "histogram": [
           {
            "bin_start": 0,
            "bin_end": 0.219,
            "count": 4
           },
           {
            "bin_start": 0.219,
            "bin_end": 0.438,
            "count": 2
           },
           {
            "bin_start": 0.438,
            "bin_end": 0.657,
            "count": 1
           },
           {
            "bin_start": 0.657,
            "bin_end": 0.876,
            "count": 0
           },
           {
            "bin_start": 0.876,
            "bin_end": 1.095,
            "count": 0
           },
           {
            "bin_start": 1.095,
            "bin_end": 1.314,
            "count": 0
           },
           {
            "bin_start": 1.314,
            "bin_end": 1.533,
            "count": 0
           },
           {
            "bin_start": 1.533,
            "bin_end": 1.752,
            "count": 0
           },
           {
            "bin_start": 1.752,
            "bin_end": 1.971,
            "count": 0
           },
           {
            "bin_start": 1.971,
            "bin_end": 2.19,
            "count": 1
           }
          ]
         }
        },
        {
         "name": "JUL",
         "dtype": "float64",
         "stats": {
          "unique_count": 5,
          "nan_count": 2,
          "min": "0.0",
          "max": "0.26",
          "histogram": [
           {
            "bin_start": 0,
            "bin_end": 0.026000000000000002,
            "count": 4
           },
           {
            "bin_start": 0.026000000000000002,
            "bin_end": 0.052000000000000005,
            "count": 2
           },
           {
            "bin_start": 0.052000000000000005,
            "bin_end": 0.07800000000000001,
            "count": 1
           },
           {
            "bin_start": 0.07800000000000001,
            "bin_end": 0.10400000000000001,
            "count": 0
           },
           {
            "bin_start": 0.10400000000000001,
            "bin_end": 0.13,
            "count": 0
           },
           {
            "bin_start": 0.13,
            "bin_end": 0.15600000000000003,
            "count": 0
           },
           {
            "bin_start": 0.15600000000000003,
            "bin_end": 0.18200000000000002,
            "count": 0
           },
           {
            "bin_start": 0.18200000000000002,
            "bin_end": 0.20800000000000002,
            "count": 0
           },
           {
            "bin_start": 0.20800000000000002,
            "bin_end": 0.234,
            "count": 0
           },
           {
            "bin_start": 0.234,
            "bin_end": 0.26,
            "count": 1
           }
          ]
         }
        },
        {
         "name": "AUG",
         "dtype": "float64",
         "stats": {
          "unique_count": 2,
          "nan_count": 2,
          "min": "0.0",
          "max": "0.01",
          "histogram": [
           {
            "bin_start": 0,
            "bin_end": 0.001,
            "count": 6
           },
           {
            "bin_start": 0.001,
            "bin_end": 0.002,
            "count": 0
           },
           {
            "bin_start": 0.002,
            "bin_end": 0.003,
            "count": 0
           },
           {
            "bin_start": 0.003,
            "bin_end": 0.004,
            "count": 0
           },
           {
            "bin_start": 0.004,
            "bin_end": 0.005,
            "count": 0
           },
           {
            "bin_start": 0.005,
            "bin_end": 0.006,
            "count": 0
           },
           {
            "bin_start": 0.006,
            "bin_end": 0.007,
            "count": 0
           },
           {
            "bin_start": 0.007,
            "bin_end": 0.008,
            "count": 0
           },
           {
            "bin_start": 0.008,
            "bin_end": 0.009000000000000001,
            "count": 0
           },
           {
            "bin_start": 0.009000000000000001,
            "bin_end": 0.01,
            "count": 2
           }
          ]
         }
        },
        {
         "name": "SEP",
         "dtype": "float64",
         "stats": {
          "unique_count": 6,
          "nan_count": 3,
          "min": "0.01",
          "max": "2.68",
          "histogram": [
           {
            "bin_start": 0.01,
            "bin_end": 0.277,
            "count": 5
           },
           {
            "bin_start": 0.277,
            "bin_end": 0.544,
            "count": 1
           },
           {
            "bin_start": 0.544,
            "bin_end": 0.811,
            "count": 0
           },
           {
            "bin_start": 0.811,
            "bin_end": 1.078,
            "count": 0
           },
           {
            "bin_start": 1.078,
            "bin_end": 1.345,
            "count": 0
           },
           {
            "bin_start": 1.345,
            "bin_end": 1.612,
            "count": 0
           },
           {
            "bin_start": 1.612,
            "bin_end": 1.8790000000000002,
            "count": 0
           },
           {
            "bin_start": 1.8790000000000002,
            "bin_end": 2.146,
            "count": 0
           },
           {
            "bin_start": 2.146,
            "bin_end": 2.413,
            "count": 0
           },
           {
            "bin_start": 2.413,
            "bin_end": 2.68,
            "count": 1
           }
          ]
         }
        },
        {
         "name": "AVERAGE_YEARLY_PRECIPITATION",
         "dtype": "float64",
         "stats": {
          "unique_count": 10,
          "nan_count": 0,
          "min": "0.32545454545454544",
          "max": "4.9399999999999995",
          "histogram": [
           {
            "bin_start": 0.32545454545454544,
            "bin_end": 0.7869090909090909,
            "count": 3
           },
           {
            "bin_start": 0.7869090909090909,
            "bin_end": 1.2483636363636363,
            "count": 1
           },
           {
            "bin_start": 1.2483636363636363,
            "bin_end": 1.709818181818182,
            "count": 2
           },
           {
            "bin_start": 1.709818181818182,
            "bin_end": 2.1712727272727275,
            "count": 0
           },
           {
            "bin_start": 2.1712727272727275,
            "bin_end": 2.632727272727273,
            "count": 0
           },
           {
            "bin_start": 2.632727272727273,
            "bin_end": 3.094181818181818,
            "count": 1
           },
           {
            "bin_start": 3.094181818181818,
            "bin_end": 3.5556363636363635,
            "count": 2
           },
           {
            "bin_start": 3.5556363636363635,
            "bin_end": 4.017090909090909,
            "count": 0
           },
           {
            "bin_start": 4.017090909090909,
            "bin_end": 4.478545454545454,
            "count": 0
           },
           {
            "bin_start": 4.478545454545454,
            "bin_end": 4.9399999999999995,
            "count": 1
           }
          ]
         }
        },
        {
         "name": "YEAR",
         "dtype": "int64",
         "stats": {
          "unique_count": 7,
          "nan_count": 0,
          "min": "2013",
          "max": "2019",
          "histogram": [
           {
            "bin_start": 2013,
            "bin_end": 2013.6,
            "count": 3
           },
           {
            "bin_start": 2013.6,
            "bin_end": 2014.2,
            "count": 1
           },
           {
            "bin_start": 2014.2,
            "bin_end": 2014.8,
            "count": 0
           },
           {
            "bin_start": 2014.8,
            "bin_end": 2015.4,
            "count": 1
           },
           {
            "bin_start": 2015.4,
            "bin_end": 2016,
            "count": 0
           },
           {
            "bin_start": 2016,
            "bin_end": 2016.6,
            "count": 2
           },
           {
            "bin_start": 2016.6,
            "bin_end": 2017.2,
            "count": 1
           },
           {
            "bin_start": 2017.2,
            "bin_end": 2017.8,
            "count": 0
           },
           {
            "bin_start": 2017.8,
            "bin_end": 2018.4,
            "count": 1
           },
           {
            "bin_start": 2018.4,
            "bin_end": 2019,
            "count": 1
           }
          ]
         }
        },
        {
         "name": "_deepnote_index_column",
         "dtype": "int64"
        }
       ],
       "rows": [
        {
         "STATION_ID": "HLS",
         "STATION NAME": "HOLLISTER",
         "OCT": 0.02,
         "NOV": 0.36,
         "DEC": 0.22,
         "JAN": 0.22,
         "FEB": "nan",
         "MAR": 1.33,
         "APR": 1.14,
         "MAY": 0.02,
         "JUN": 0,
         "JUL": 0,
         "AUG": 0.01,
         "SEP": 0.26,
         "AVERAGE_YEARLY_PRECIPITATION": 0.32545454545454544,
         "YEAR": 2014,
         "_deepnote_index_column": 80
        },
        {
         "STATION_ID": "MKV",
         "STATION NAME": "MARKLEEVILLE",
         "OCT": "nan",
         "NOV": "nan",
         "DEC": "nan",
         "JAN": "nan",
         "FEB": "nan",
         "MAR": 1,
         "APR": "nan",
         "MAY": "nan",
         "JUN": "nan",
         "JUL": "nan",
         "AUG": "nan",
         "SEP": "nan",
         "AVERAGE_YEARLY_PRECIPITATION": 1,
         "YEAR": 2013,
         "_deepnote_index_column": 105
        },
        {
         "STATION_ID": "TRM",
         "STATION NAME": "TERMINUS DAM",
         "OCT": 0.28,
         "NOV": 0.91,
         "DEC": 2.99,
         "JAN": 0.71,
         "FEB": 0.87,
         "MAR": 0.49,
         "APR": 0.02,
         "MAY": 0.51,
         "JUN": 0,
         "JUL": 0.06,
         "AUG": 0,
         "SEP": 0.06,
         "AVERAGE_YEARLY_PRECIPITATION": 0.575,
         "YEAR": 2013,
         "_deepnote_index_column": 163
        },
        {
         "STATION_ID": "HSD",
         "STATION NAME": "HENSHAW DAM",
         "OCT": 0.7,
         "NOV": 3.97,
         "DEC": 2.91,
         "JAN": 5.45,
         "FEB": 16.48,
         "MAR": 2.44,
         "APR": 0.36,
         "MAY": 2.56,
         "JUN": 0,
         "JUL": 0.05,
         "AUG": 0,
         "SEP": 0.29,
         "AVERAGE_YEARLY_PRECIPITATION": 2.9341666666666666,
         "YEAR": 2019,
         "_deepnote_index_column": 75
        },
        {
         "STATION_ID": "BFS",
         "STATION NAME": "BARSTOW",
         "OCT": 0.86,
         "NOV": 0.1,
         "DEC": 1.03,
         "JAN": 2.48,
         "FEB": 0.75,
         "MAR": 0,
         "APR": 0,
         "MAY": 0,
         "JUN": 0,
         "JUL": 0,
         "AUG": 0.01,
         "SEP": 0.06,
         "AVERAGE_YEARLY_PRECIPITATION": 0.44083333333333324,
         "YEAR": 2017,
         "_deepnote_index_column": 7
        },
        {
         "STATION_ID": "MNH",
         "STATION NAME": "MOUNTAIN HOME",
         "OCT": 0.38,
         "NOV": 3.14,
         "DEC": 0.03,
         "JAN": 3.97,
         "FEB": 0.95,
         "MAR": 4.87,
         "APR": 3.15,
         "MAY": 0.58,
         "JUN": 0.43,
         "JUL": 0,
         "AUG": 0,
         "SEP": 0.01,
         "AVERAGE_YEARLY_PRECIPITATION": 1.4591666666666667,
         "YEAR": 2018,
         "_deepnote_index_column": 117
        },
        {
         "STATION_ID": "GVL",
         "STATION NAME": "GROVELAND R S",
         "OCT": 0.8,
         "NOV": 2.84,
         "DEC": 6.38,
         "JAN": 9.7,
         "FEB": 1.67,
         "MAR": 10.17,
         "APR": 3.02,
         "MAY": "nan",
         "JUN": "nan",
         "JUL": "nan",
         "AUG": "nan",
         "SEP": "nan",
         "AVERAGE_YEARLY_PRECIPITATION": 4.9399999999999995,
         "YEAR": 2016,
         "_deepnote_index_column": 71
        },
        {
         "STATION_ID": "YSV",
         "STATION NAME": "YOSEMITE HEADQUARTERS",
         "OCT": 3.37,
         "NOV": 3.74,
         "DEC": 9.05,
         "JAN": 9.53,
         "FEB": 1.87,
         "MAR": 7.46,
         "APR": 2.7,
         "MAY": 0.54,
         "JUN": 0.51,
         "JUL": 0,
         "AUG": 0,
         "SEP": 0.03,
         "AVERAGE_YEARLY_PRECIPITATION": 3.233333333333333,
         "YEAR": 2016,
         "_deepnote_index_column": 176
        },
        {
         "STATION_ID": "CCH",
         "STATION NAME": "CACHUMA LAKE",
         "OCT": 5.23,
         "NOV": 0.87,
         "DEC": 5.88,
         "JAN": 1,
         "FEB": 0.51,
         "MAR": 0.08,
         "APR": 0.36,
         "MAY": 0.26,
         "JUN": 0.42,
         "JUL": 0.03,
         "AUG": 0,
         "SEP": "nan",
         "AVERAGE_YEARLY_PRECIPITATION": 1.330909090909091,
         "YEAR": 2015,
         "_deepnote_index_column": 21
        },
        {
         "STATION_ID": "MLD",
         "STATION NAME": "MCCLOUD",
         "OCT": 1.6,
         "NOV": 10.53,
         "DEC": 13.56,
         "JAN": 0.87,
         "FEB": 0.56,
         "MAR": 2.97,
         "APR": 1.64,
         "MAY": 2.22,
         "JUN": 2.19,
         "JUL": 0.26,
         "AUG": 0,
         "SEP": 2.68,
         "AVERAGE_YEARLY_PRECIPITATION": 3.2566666666666664,
         "YEAR": 2013,
         "_deepnote_index_column": 106
        }
       ]
      },
      "text/plain": "    STATION_ID           STATION NAME   OCT    NOV    DEC   JAN    FEB    MAR  \\\n80         HLS              HOLLISTER  0.02   0.36   0.22  0.22    NaN   1.33   \n105        MKV           MARKLEEVILLE   NaN    NaN    NaN   NaN    NaN   1.00   \n163        TRM           TERMINUS DAM  0.28   0.91   2.99  0.71   0.87   0.49   \n75         HSD            HENSHAW DAM  0.70   3.97   2.91  5.45  16.48   2.44   \n7          BFS                BARSTOW  0.86   0.10   1.03  2.48   0.75   0.00   \n117        MNH          MOUNTAIN HOME  0.38   3.14   0.03  3.97   0.95   4.87   \n71         GVL          GROVELAND R S  0.80   2.84   6.38  9.70   1.67  10.17   \n176        YSV  YOSEMITE HEADQUARTERS  3.37   3.74   9.05  9.53   1.87   7.46   \n21         CCH           CACHUMA LAKE  5.23   0.87   5.88  1.00   0.51   0.08   \n106        MLD                MCCLOUD  1.60  10.53  13.56  0.87   0.56   2.97   \n\n      APR   MAY   JUN   JUL   AUG   SEP  AVERAGE_YEARLY_PRECIPITATION  YEAR  \n80   1.14  0.02  0.00  0.00  0.01  0.26                      0.325455  2014  \n105   NaN   NaN   NaN   NaN   NaN   NaN                      1.000000  2013  \n163  0.02  0.51  0.00  0.06  0.00  0.06                      0.575000  2013  \n75   0.36  2.56  0.00  0.05  0.00  0.29                      2.934167  2019  \n7    0.00  0.00  0.00  0.00  0.01  0.06                      0.440833  2017  \n117  3.15  0.58  0.43  0.00  0.00  0.01                      1.459167  2018  \n71   3.02   NaN   NaN   NaN   NaN   NaN                      4.940000  2016  \n176  2.70  0.54  0.51  0.00  0.00  0.03                      3.233333  2016  \n21   0.36  0.26  0.42  0.03  0.00   NaN                      1.330909  2015  \n106  1.64  2.22  2.19  0.26  0.00  2.68                      3.256667  2013  ",
      "text/html": "<div>\n<style scoped>\n    .dataframe tbody tr th:only-of-type {\n        vertical-align: middle;\n    }\n\n    .dataframe tbody tr th {\n        vertical-align: top;\n    }\n\n    .dataframe thead th {\n        text-align: right;\n    }\n</style>\n<table border=\"1\" class=\"dataframe\">\n  <thead>\n    <tr style=\"text-align: right;\">\n      <th></th>\n      <th>STATION_ID</th>\n      <th>STATION NAME</th>\n      <th>OCT</th>\n      <th>NOV</th>\n      <th>DEC</th>\n      <th>JAN</th>\n      <th>FEB</th>\n      <th>MAR</th>\n      <th>APR</th>\n      <th>MAY</th>\n      <th>JUN</th>\n      <th>JUL</th>\n      <th>AUG</th>\n      <th>SEP</th>\n      <th>AVERAGE_YEARLY_PRECIPITATION</th>\n      <th>YEAR</th>\n    </tr>\n  </thead>\n  <tbody>\n    <tr>\n      <th>80</th>\n      <td>HLS</td>\n      <td>HOLLISTER</td>\n      <td>0.02</td>\n      <td>0.36</td>\n      <td>0.22</td>\n      <td>0.22</td>\n      <td>NaN</td>\n      <td>1.33</td>\n      <td>1.14</td>\n      <td>0.02</td>\n      <td>0.00</td>\n      <td>0.00</td>\n      <td>0.01</td>\n      <td>0.26</td>\n      <td>0.325455</td>\n      <td>2014</td>\n    </tr>\n    <tr>\n      <th>105</th>\n      <td>MKV</td>\n      <td>MARKLEEVILLE</td>\n      <td>NaN</td>\n      <td>NaN</td>\n      <td>NaN</td>\n      <td>NaN</td>\n      <td>NaN</td>\n      <td>1.00</td>\n      <td>NaN</td>\n      <td>NaN</td>\n      <td>NaN</td>\n      <td>NaN</td>\n      <td>NaN</td>\n      <td>NaN</td>\n      <td>1.000000</td>\n      <td>2013</td>\n    </tr>\n    <tr>\n      <th>163</th>\n      <td>TRM</td>\n      <td>TERMINUS DAM</td>\n      <td>0.28</td>\n      <td>0.91</td>\n      <td>2.99</td>\n      <td>0.71</td>\n      <td>0.87</td>\n      <td>0.49</td>\n      <td>0.02</td>\n      <td>0.51</td>\n      <td>0.00</td>\n      <td>0.06</td>\n      <td>0.00</td>\n      <td>0.06</td>\n      <td>0.575000</td>\n      <td>2013</td>\n    </tr>\n    <tr>\n      <th>75</th>\n      <td>HSD</td>\n      <td>HENSHAW DAM</td>\n      <td>0.70</td>\n      <td>3.97</td>\n      <td>2.91</td>\n      <td>5.45</td>\n      <td>16.48</td>\n      <td>2.44</td>\n      <td>0.36</td>\n      <td>2.56</td>\n      <td>0.00</td>\n      <td>0.05</td>\n      <td>0.00</td>\n      <td>0.29</td>\n      <td>2.934167</td>\n      <td>2019</td>\n    </tr>\n    <tr>\n      <th>7</th>\n      <td>BFS</td>\n      <td>BARSTOW</td>\n      <td>0.86</td>\n      <td>0.10</td>\n      <td>1.03</td>\n      <td>2.48</td>\n      <td>0.75</td>\n      <td>0.00</td>\n      <td>0.00</td>\n      <td>0.00</td>\n      <td>0.00</td>\n      <td>0.00</td>\n      <td>0.01</td>\n      <td>0.06</td>\n      <td>0.440833</td>\n      <td>2017</td>\n    </tr>\n    <tr>\n      <th>117</th>\n      <td>MNH</td>\n      <td>MOUNTAIN HOME</td>\n      <td>0.38</td>\n      <td>3.14</td>\n      <td>0.03</td>\n      <td>3.97</td>\n      <td>0.95</td>\n      <td>4.87</td>\n      <td>3.15</td>\n      <td>0.58</td>\n      <td>0.43</td>\n      <td>0.00</td>\n      <td>0.00</td>\n      <td>0.01</td>\n      <td>1.459167</td>\n      <td>2018</td>\n    </tr>\n    <tr>\n      <th>71</th>\n      <td>GVL</td>\n      <td>GROVELAND R S</td>\n      <td>0.80</td>\n      <td>2.84</td>\n      <td>6.38</td>\n      <td>9.70</td>\n      <td>1.67</td>\n      <td>10.17</td>\n      <td>3.02</td>\n      <td>NaN</td>\n      <td>NaN</td>\n      <td>NaN</td>\n      <td>NaN</td>\n      <td>NaN</td>\n      <td>4.940000</td>\n      <td>2016</td>\n    </tr>\n    <tr>\n      <th>176</th>\n      <td>YSV</td>\n      <td>YOSEMITE HEADQUARTERS</td>\n      <td>3.37</td>\n      <td>3.74</td>\n      <td>9.05</td>\n      <td>9.53</td>\n      <td>1.87</td>\n      <td>7.46</td>\n      <td>2.70</td>\n      <td>0.54</td>\n      <td>0.51</td>\n      <td>0.00</td>\n      <td>0.00</td>\n      <td>0.03</td>\n      <td>3.233333</td>\n      <td>2016</td>\n    </tr>\n    <tr>\n      <th>21</th>\n      <td>CCH</td>\n      <td>CACHUMA LAKE</td>\n      <td>5.23</td>\n      <td>0.87</td>\n      <td>5.88</td>\n      <td>1.00</td>\n      <td>0.51</td>\n      <td>0.08</td>\n      <td>0.36</td>\n      <td>0.26</td>\n      <td>0.42</td>\n      <td>0.03</td>\n      <td>0.00</td>\n      <td>NaN</td>\n      <td>1.330909</td>\n      <td>2015</td>\n    </tr>\n    <tr>\n      <th>106</th>\n      <td>MLD</td>\n      <td>MCCLOUD</td>\n      <td>1.60</td>\n      <td>10.53</td>\n      <td>13.56</td>\n      <td>0.87</td>\n      <td>0.56</td>\n      <td>2.97</td>\n      <td>1.64</td>\n      <td>2.22</td>\n      <td>2.19</td>\n      <td>0.26</td>\n      <td>0.00</td>\n      <td>2.68</td>\n      <td>3.256667</td>\n      <td>2013</td>\n    </tr>\n  </tbody>\n</table>\n</div>"
     },
     "metadata": {}
    }
   ]
  },
  {
   "cell_type": "code",
   "metadata": {
    "cell_id": "5088952c-3474-41fb-84a4-fddae82a8bbf",
    "tags": [],
    "deepnote_to_be_reexecuted": false,
    "source_hash": "f1706216",
    "execution_start": 1647560509776,
    "execution_millis": 12,
    "deepnote_cell_type": "code",
    "deepnote_cell_height": 244.265625
   },
   "source": "precipitation_data.all_years_precipitation_data.sample()",
   "execution_count": null,
   "outputs": [
    {
     "output_type": "execute_result",
     "execution_count": 7,
     "data": {
      "application/vnd.deepnote.dataframe.v3+json": {
       "column_count": 16,
       "row_count": 1,
       "columns": [
        {
         "name": "STATION_ID",
         "dtype": "object",
         "stats": {
          "unique_count": 1,
          "nan_count": 0,
          "categories": [
           {
            "name": "NDL",
            "count": 1
           }
          ]
         }
        },
        {
         "name": "STATION NAME",
         "dtype": "object",
         "stats": {
          "unique_count": 1,
          "nan_count": 0,
          "categories": [
           {
            "name": "NEEDLES",
            "count": 1
           }
          ]
         }
        },
        {
         "name": "OCT",
         "dtype": "float64",
         "stats": {
          "unique_count": 1,
          "nan_count": 0,
          "min": "0.1",
          "max": "0.1",
          "histogram": [
           {
            "bin_start": -0.4,
            "bin_end": -0.30000000000000004,
            "count": 0
           },
           {
            "bin_start": -0.30000000000000004,
            "bin_end": -0.2,
            "count": 0
           },
           {
            "bin_start": -0.2,
            "bin_end": -0.09999999999999998,
            "count": 0
           },
           {
            "bin_start": -0.09999999999999998,
            "bin_end": 0,
            "count": 0
           },
           {
            "bin_start": 0,
            "bin_end": 0.09999999999999998,
            "count": 0
           },
           {
            "bin_start": 0.09999999999999998,
            "bin_end": 0.20000000000000007,
            "count": 1
           },
           {
            "bin_start": 0.20000000000000007,
            "bin_end": 0.30000000000000004,
            "count": 0
           },
           {
            "bin_start": 0.30000000000000004,
            "bin_end": 0.4,
            "count": 0
           },
           {
            "bin_start": 0.4,
            "bin_end": 0.5,
            "count": 0
           },
           {
            "bin_start": 0.5,
            "bin_end": 0.6,
            "count": 0
           }
          ]
         }
        },
        {
         "name": "NOV",
         "dtype": "float64",
         "stats": {
          "unique_count": 1,
          "nan_count": 0,
          "min": "0.0",
          "max": "0.0",
          "histogram": [
           {
            "bin_start": -0.5,
            "bin_end": -0.4,
            "count": 0
           },
           {
            "bin_start": -0.4,
            "bin_end": -0.3,
            "count": 0
           },
           {
            "bin_start": -0.3,
            "bin_end": -0.19999999999999996,
            "count": 0
           },
           {
            "bin_start": -0.19999999999999996,
            "bin_end": -0.09999999999999998,
            "count": 0
           },
           {
            "bin_start": -0.09999999999999998,
            "bin_end": 0,
            "count": 0
           },
           {
            "bin_start": 0,
            "bin_end": 0.10000000000000009,
            "count": 1
           },
           {
            "bin_start": 0.10000000000000009,
            "bin_end": 0.20000000000000007,
            "count": 0
           },
           {
            "bin_start": 0.20000000000000007,
            "bin_end": 0.30000000000000004,
            "count": 0
           },
           {
            "bin_start": 0.30000000000000004,
            "bin_end": 0.4,
            "count": 0
           },
           {
            "bin_start": 0.4,
            "bin_end": 0.5,
            "count": 0
           }
          ]
         }
        },
        {
         "name": "DEC",
         "dtype": "float64",
         "stats": {
          "unique_count": 1,
          "nan_count": 0,
          "min": "0.39",
          "max": "0.39",
          "histogram": [
           {
            "bin_start": -0.10999999999999999,
            "bin_end": -0.009999999999999981,
            "count": 0
           },
           {
            "bin_start": -0.009999999999999981,
            "bin_end": 0.09000000000000002,
            "count": 0
           },
           {
            "bin_start": 0.09000000000000002,
            "bin_end": 0.19000000000000006,
            "count": 0
           },
           {
            "bin_start": 0.19000000000000006,
            "bin_end": 0.29000000000000004,
            "count": 0
           },
           {
            "bin_start": 0.29000000000000004,
            "bin_end": 0.39,
            "count": 0
           },
           {
            "bin_start": 0.39,
            "bin_end": 0.4900000000000001,
            "count": 1
           },
           {
            "bin_start": 0.4900000000000001,
            "bin_end": 0.5900000000000001,
            "count": 0
           },
           {
            "bin_start": 0.5900000000000001,
            "bin_end": 0.6900000000000001,
            "count": 0
           },
           {
            "bin_start": 0.6900000000000001,
            "bin_end": 0.79,
            "count": 0
           },
           {
            "bin_start": 0.79,
            "bin_end": 0.89,
            "count": 0
           }
          ]
         }
        },
        {
         "name": "JAN",
         "dtype": "float64",
         "stats": {
          "unique_count": 1,
          "nan_count": 0,
          "min": "0.67",
          "max": "0.67",
          "histogram": [
           {
            "bin_start": 0.17000000000000004,
            "bin_end": 0.27,
            "count": 0
           },
           {
            "bin_start": 0.27,
            "bin_end": 0.37,
            "count": 0
           },
           {
            "bin_start": 0.37,
            "bin_end": 0.47000000000000003,
            "count": 0
           },
           {
            "bin_start": 0.47000000000000003,
            "bin_end": 0.5700000000000001,
            "count": 0
           },
           {
            "bin_start": 0.5700000000000001,
            "bin_end": 0.6699999999999999,
            "count": 0
           },
           {
            "bin_start": 0.6699999999999999,
            "bin_end": 0.77,
            "count": 1
           },
           {
            "bin_start": 0.77,
            "bin_end": 0.87,
            "count": 0
           },
           {
            "bin_start": 0.87,
            "bin_end": 0.97,
            "count": 0
           },
           {
            "bin_start": 0.97,
            "bin_end": 1.0699999999999998,
            "count": 0
           },
           {
            "bin_start": 1.0699999999999998,
            "bin_end": 1.17,
            "count": 0
           }
          ]
         }
        },
        {
         "name": "FEB",
         "dtype": "float64",
         "stats": {
          "unique_count": 1,
          "nan_count": 0,
          "min": "0.45",
          "max": "0.45",
          "histogram": [
           {
            "bin_start": -0.04999999999999999,
            "bin_end": 0.05000000000000002,
            "count": 0
           },
           {
            "bin_start": 0.05000000000000002,
            "bin_end": 0.15000000000000002,
            "count": 0
           },
           {
            "bin_start": 0.15000000000000002,
            "bin_end": 0.25000000000000006,
            "count": 0
           },
           {
            "bin_start": 0.25000000000000006,
            "bin_end": 0.35000000000000003,
            "count": 0
           },
           {
            "bin_start": 0.35000000000000003,
            "bin_end": 0.45,
            "count": 0
           },
           {
            "bin_start": 0.45,
            "bin_end": 0.55,
            "count": 1
           },
           {
            "bin_start": 0.55,
            "bin_end": 0.6500000000000001,
            "count": 0
           },
           {
            "bin_start": 0.6500000000000001,
            "bin_end": 0.75,
            "count": 0
           },
           {
            "bin_start": 0.75,
            "bin_end": 0.8500000000000001,
            "count": 0
           },
           {
            "bin_start": 0.8500000000000001,
            "bin_end": 0.95,
            "count": 0
           }
          ]
         }
        },
        {
         "name": "MAR",
         "dtype": "float64",
         "stats": {
          "unique_count": 0,
          "nan_count": 1,
          "min": null,
          "max": null,
          "histogram": [
           {
            "bin_start": 0,
            "bin_end": 0.1,
            "count": 0
           },
           {
            "bin_start": 0.1,
            "bin_end": 0.2,
            "count": 0
           },
           {
            "bin_start": 0.2,
            "bin_end": 0.30000000000000004,
            "count": 0
           },
           {
            "bin_start": 0.30000000000000004,
            "bin_end": 0.4,
            "count": 0
           },
           {
            "bin_start": 0.4,
            "bin_end": 0.5,
            "count": 0
           },
           {
            "bin_start": 0.5,
            "bin_end": 0.6000000000000001,
            "count": 0
           },
           {
            "bin_start": 0.6000000000000001,
            "bin_end": 0.7000000000000001,
            "count": 0
           },
           {
            "bin_start": 0.7000000000000001,
            "bin_end": 0.8,
            "count": 0
           },
           {
            "bin_start": 0.8,
            "bin_end": 0.9,
            "count": 0
           },
           {
            "bin_start": 0.9,
            "bin_end": 1,
            "count": 0
           }
          ]
         }
        },
        {
         "name": "APR",
         "dtype": "float64",
         "stats": {
          "unique_count": 0,
          "nan_count": 1,
          "min": null,
          "max": null,
          "histogram": [
           {
            "bin_start": 0,
            "bin_end": 0.1,
            "count": 0
           },
           {
            "bin_start": 0.1,
            "bin_end": 0.2,
            "count": 0
           },
           {
            "bin_start": 0.2,
            "bin_end": 0.30000000000000004,
            "count": 0
           },
           {
            "bin_start": 0.30000000000000004,
            "bin_end": 0.4,
            "count": 0
           },
           {
            "bin_start": 0.4,
            "bin_end": 0.5,
            "count": 0
           },
           {
            "bin_start": 0.5,
            "bin_end": 0.6000000000000001,
            "count": 0
           },
           {
            "bin_start": 0.6000000000000001,
            "bin_end": 0.7000000000000001,
            "count": 0
           },
           {
            "bin_start": 0.7000000000000001,
            "bin_end": 0.8,
            "count": 0
           },
           {
            "bin_start": 0.8,
            "bin_end": 0.9,
            "count": 0
           },
           {
            "bin_start": 0.9,
            "bin_end": 1,
            "count": 0
           }
          ]
         }
        },
        {
         "name": "MAY",
         "dtype": "float64",
         "stats": {
          "unique_count": 0,
          "nan_count": 1,
          "min": null,
          "max": null,
          "histogram": [
           {
            "bin_start": 0,
            "bin_end": 0.1,
            "count": 0
           },
           {
            "bin_start": 0.1,
            "bin_end": 0.2,
            "count": 0
           },
           {
            "bin_start": 0.2,
            "bin_end": 0.30000000000000004,
            "count": 0
           },
           {
            "bin_start": 0.30000000000000004,
            "bin_end": 0.4,
            "count": 0
           },
           {
            "bin_start": 0.4,
            "bin_end": 0.5,
            "count": 0
           },
           {
            "bin_start": 0.5,
            "bin_end": 0.6000000000000001,
            "count": 0
           },
           {
            "bin_start": 0.6000000000000001,
            "bin_end": 0.7000000000000001,
            "count": 0
           },
           {
            "bin_start": 0.7000000000000001,
            "bin_end": 0.8,
            "count": 0
           },
           {
            "bin_start": 0.8,
            "bin_end": 0.9,
            "count": 0
           },
           {
            "bin_start": 0.9,
            "bin_end": 1,
            "count": 0
           }
          ]
         }
        },
        {
         "name": "JUN",
         "dtype": "float64",
         "stats": {
          "unique_count": 1,
          "nan_count": 0,
          "min": "0.21",
          "max": "0.21",
          "histogram": [
           {
            "bin_start": -0.29000000000000004,
            "bin_end": -0.19000000000000003,
            "count": 0
           },
           {
            "bin_start": -0.19000000000000003,
            "bin_end": -0.09000000000000002,
            "count": 0
           },
           {
            "bin_start": -0.09000000000000002,
            "bin_end": 0.010000000000000009,
            "count": 0
           },
           {
            "bin_start": 0.010000000000000009,
            "bin_end": 0.10999999999999999,
            "count": 0
           },
           {
            "bin_start": 0.10999999999999999,
            "bin_end": 0.20999999999999996,
            "count": 0
           },
           {
            "bin_start": 0.20999999999999996,
            "bin_end": 0.31000000000000005,
            "count": 1
           },
           {
            "bin_start": 0.31000000000000005,
            "bin_end": 0.41000000000000003,
            "count": 0
           },
           {
            "bin_start": 0.41000000000000003,
            "bin_end": 0.51,
            "count": 0
           },
           {
            "bin_start": 0.51,
            "bin_end": 0.61,
            "count": 0
           },
           {
            "bin_start": 0.61,
            "bin_end": 0.71,
            "count": 0
           }
          ]
         }
        },
        {
         "name": "JUL",
         "dtype": "float64",
         "stats": {
          "unique_count": 0,
          "nan_count": 1,
          "min": null,
          "max": null,
          "histogram": [
           {
            "bin_start": 0,
            "bin_end": 0.1,
            "count": 0
           },
           {
            "bin_start": 0.1,
            "bin_end": 0.2,
            "count": 0
           },
           {
            "bin_start": 0.2,
            "bin_end": 0.30000000000000004,
            "count": 0
           },
           {
            "bin_start": 0.30000000000000004,
            "bin_end": 0.4,
            "count": 0
           },
           {
            "bin_start": 0.4,
            "bin_end": 0.5,
            "count": 0
           },
           {
            "bin_start": 0.5,
            "bin_end": 0.6000000000000001,
            "count": 0
           },
           {
            "bin_start": 0.6000000000000001,
            "bin_end": 0.7000000000000001,
            "count": 0
           },
           {
            "bin_start": 0.7000000000000001,
            "bin_end": 0.8,
            "count": 0
           },
           {
            "bin_start": 0.8,
            "bin_end": 0.9,
            "count": 0
           },
           {
            "bin_start": 0.9,
            "bin_end": 1,
            "count": 0
           }
          ]
         }
        },
        {
         "name": "AUG",
         "dtype": "float64",
         "stats": {
          "unique_count": 0,
          "nan_count": 1,
          "min": null,
          "max": null,
          "histogram": [
           {
            "bin_start": 0,
            "bin_end": 0.1,
            "count": 0
           },
           {
            "bin_start": 0.1,
            "bin_end": 0.2,
            "count": 0
           },
           {
            "bin_start": 0.2,
            "bin_end": 0.30000000000000004,
            "count": 0
           },
           {
            "bin_start": 0.30000000000000004,
            "bin_end": 0.4,
            "count": 0
           },
           {
            "bin_start": 0.4,
            "bin_end": 0.5,
            "count": 0
           },
           {
            "bin_start": 0.5,
            "bin_end": 0.6000000000000001,
            "count": 0
           },
           {
            "bin_start": 0.6000000000000001,
            "bin_end": 0.7000000000000001,
            "count": 0
           },
           {
            "bin_start": 0.7000000000000001,
            "bin_end": 0.8,
            "count": 0
           },
           {
            "bin_start": 0.8,
            "bin_end": 0.9,
            "count": 0
           },
           {
            "bin_start": 0.9,
            "bin_end": 1,
            "count": 0
           }
          ]
         }
        },
        {
         "name": "SEP",
         "dtype": "float64",
         "stats": {
          "unique_count": 0,
          "nan_count": 1,
          "min": null,
          "max": null,
          "histogram": [
           {
            "bin_start": 0,
            "bin_end": 0.1,
            "count": 0
           },
           {
            "bin_start": 0.1,
            "bin_end": 0.2,
            "count": 0
           },
           {
            "bin_start": 0.2,
            "bin_end": 0.30000000000000004,
            "count": 0
           },
           {
            "bin_start": 0.30000000000000004,
            "bin_end": 0.4,
            "count": 0
           },
           {
            "bin_start": 0.4,
            "bin_end": 0.5,
            "count": 0
           },
           {
            "bin_start": 0.5,
            "bin_end": 0.6000000000000001,
            "count": 0
           },
           {
            "bin_start": 0.6000000000000001,
            "bin_end": 0.7000000000000001,
            "count": 0
           },
           {
            "bin_start": 0.7000000000000001,
            "bin_end": 0.8,
            "count": 0
           },
           {
            "bin_start": 0.8,
            "bin_end": 0.9,
            "count": 0
           },
           {
            "bin_start": 0.9,
            "bin_end": 1,
            "count": 0
           }
          ]
         }
        },
        {
         "name": "AVERAGE_YEARLY_PRECIPITATION",
         "dtype": "float64",
         "stats": {
          "unique_count": 1,
          "nan_count": 0,
          "min": "0.30333333333333334",
          "max": "0.30333333333333334",
          "histogram": [
           {
            "bin_start": -0.19666666666666666,
            "bin_end": -0.09666666666666665,
            "count": 0
           },
           {
            "bin_start": -0.09666666666666665,
            "bin_end": 0.003333333333333355,
            "count": 0
           },
           {
            "bin_start": 0.003333333333333355,
            "bin_end": 0.10333333333333339,
            "count": 0
           },
           {
            "bin_start": 0.10333333333333339,
            "bin_end": 0.20333333333333337,
            "count": 0
           },
           {
            "bin_start": 0.20333333333333337,
            "bin_end": 0.30333333333333334,
            "count": 0
           },
           {
            "bin_start": 0.30333333333333334,
            "bin_end": 0.40333333333333343,
            "count": 1
           },
           {
            "bin_start": 0.40333333333333343,
            "bin_end": 0.5033333333333334,
            "count": 0
           },
           {
            "bin_start": 0.5033333333333334,
            "bin_end": 0.6033333333333334,
            "count": 0
           },
           {
            "bin_start": 0.6033333333333334,
            "bin_end": 0.7033333333333334,
            "count": 0
           },
           {
            "bin_start": 0.7033333333333334,
            "bin_end": 0.8033333333333333,
            "count": 0
           }
          ]
         }
        },
        {
         "name": "YEAR",
         "dtype": "int64",
         "stats": {
          "unique_count": 1,
          "nan_count": 0,
          "min": "2015",
          "max": "2015",
          "histogram": [
           {
            "bin_start": 2014.5,
            "bin_end": 2014.6,
            "count": 0
           },
           {
            "bin_start": 2014.6,
            "bin_end": 2014.7,
            "count": 0
           },
           {
            "bin_start": 2014.7,
            "bin_end": 2014.8,
            "count": 0
           },
           {
            "bin_start": 2014.8,
            "bin_end": 2014.9,
            "count": 0
           },
           {
            "bin_start": 2014.9,
            "bin_end": 2015,
            "count": 0
           },
           {
            "bin_start": 2015,
            "bin_end": 2015.1,
            "count": 1
           },
           {
            "bin_start": 2015.1,
            "bin_end": 2015.2,
            "count": 0
           },
           {
            "bin_start": 2015.2,
            "bin_end": 2015.3,
            "count": 0
           },
           {
            "bin_start": 2015.3,
            "bin_end": 2015.4,
            "count": 0
           },
           {
            "bin_start": 2015.4,
            "bin_end": 2015.5,
            "count": 0
           }
          ]
         }
        },
        {
         "name": "_deepnote_index_column",
         "dtype": "int64"
        }
       ],
       "rows": [
        {
         "STATION_ID": "NDL",
         "STATION NAME": "NEEDLES",
         "OCT": 0.1,
         "NOV": 0,
         "DEC": 0.39,
         "JAN": 0.67,
         "FEB": 0.45,
         "MAR": "nan",
         "APR": "nan",
         "MAY": "nan",
         "JUN": 0.21,
         "JUL": "nan",
         "AUG": "nan",
         "SEP": "nan",
         "AVERAGE_YEARLY_PRECIPITATION": 0.30333333333333334,
         "YEAR": 2015,
         "_deepnote_index_column": 119
        }
       ]
      },
      "text/plain": "    STATION_ID STATION NAME  OCT  NOV   DEC   JAN   FEB  MAR  APR  MAY   JUN  \\\n119        NDL      NEEDLES  0.1  0.0  0.39  0.67  0.45  NaN  NaN  NaN  0.21   \n\n     JUL  AUG  SEP  AVERAGE_YEARLY_PRECIPITATION  YEAR  \n119  NaN  NaN  NaN                      0.303333  2015  ",
      "text/html": "<div>\n<style scoped>\n    .dataframe tbody tr th:only-of-type {\n        vertical-align: middle;\n    }\n\n    .dataframe tbody tr th {\n        vertical-align: top;\n    }\n\n    .dataframe thead th {\n        text-align: right;\n    }\n</style>\n<table border=\"1\" class=\"dataframe\">\n  <thead>\n    <tr style=\"text-align: right;\">\n      <th></th>\n      <th>STATION_ID</th>\n      <th>STATION NAME</th>\n      <th>OCT</th>\n      <th>NOV</th>\n      <th>DEC</th>\n      <th>JAN</th>\n      <th>FEB</th>\n      <th>MAR</th>\n      <th>APR</th>\n      <th>MAY</th>\n      <th>JUN</th>\n      <th>JUL</th>\n      <th>AUG</th>\n      <th>SEP</th>\n      <th>AVERAGE_YEARLY_PRECIPITATION</th>\n      <th>YEAR</th>\n    </tr>\n  </thead>\n  <tbody>\n    <tr>\n      <th>119</th>\n      <td>NDL</td>\n      <td>NEEDLES</td>\n      <td>0.1</td>\n      <td>0.0</td>\n      <td>0.39</td>\n      <td>0.67</td>\n      <td>0.45</td>\n      <td>NaN</td>\n      <td>NaN</td>\n      <td>NaN</td>\n      <td>0.21</td>\n      <td>NaN</td>\n      <td>NaN</td>\n      <td>NaN</td>\n      <td>0.303333</td>\n      <td>2015</td>\n    </tr>\n  </tbody>\n</table>\n</div>"
     },
     "metadata": {}
    }
   ]
  },
  {
   "cell_type": "code",
   "metadata": {
    "cell_id": "42ce76b2-a27f-40f7-8615-4750154538ac",
    "tags": [],
    "deepnote_to_be_reexecuted": false,
    "source_hash": "421e7255",
    "execution_start": 1647560511357,
    "execution_millis": 4,
    "deepnote_cell_type": "code",
    "deepnote_cell_height": 136.171875,
    "deepnote_output_heights": [
     21.1875
    ]
   },
   "source": "precipitation_data.all_years_precipitation_data.shape\n",
   "execution_count": null,
   "outputs": [
    {
     "output_type": "execute_result",
     "execution_count": 8,
     "data": {
      "text/plain": "(1767, 16)"
     },
     "metadata": {}
    }
   ]
  },
  {
   "cell_type": "code",
   "metadata": {
    "cell_id": "8b464758-3841-4eaa-9ad4-b5f3414a7bf2",
    "tags": [],
    "deepnote_to_be_reexecuted": false,
    "source_hash": "56651a33",
    "execution_start": 1647560314672,
    "execution_millis": 1,
    "deepnote_cell_type": "code",
    "deepnote_cell_height": 118.171875,
    "deepnote_output_heights": [
     21.1875
    ]
   },
   "source": "precipitation_data.all_years_precipitation_data.YEAR.unique()",
   "execution_count": null,
   "outputs": [
    {
     "output_type": "execute_result",
     "execution_count": 8,
     "data": {
      "text/plain": "array([2013, 2014, 2015, 2016, 2017, 2018, 2019, 2020, 2021, 2022])"
     },
     "metadata": {}
    }
   ]
  },
  {
   "cell_type": "code",
   "metadata": {
    "cell_id": "7080232d-50aa-4cc9-b3f2-cc04212a6236",
    "tags": [],
    "deepnote_to_be_reexecuted": false,
    "source_hash": "7e62efb7",
    "execution_start": 1647560520727,
    "execution_millis": 1639,
    "deepnote_cell_type": "code",
    "deepnote_cell_height": 613.265625
   },
   "source": "precipitation_data.get_precipitation_station_data('daily')",
   "execution_count": null,
   "outputs": [
    {
     "output_type": "execute_result",
     "execution_count": 9,
     "data": {
      "application/vnd.deepnote.dataframe.v3+json": {
       "column_count": 6,
       "row_count": 1093,
       "columns": [
        {
         "name": "STATION",
         "dtype": "object",
         "stats": {
          "unique_count": 1088,
          "nan_count": 0,
          "categories": [
           {
            "name": "BOWMAN LAKE",
            "count": 2
           },
           {
            "name": "BUCKS CREEK POWERHOUSE",
            "count": 2
           },
           {
            "name": "1086 others",
            "count": 1089
           }
          ]
         }
        },
        {
         "name": "STATION_ID",
         "dtype": "object",
         "stats": {
          "unique_count": 1093,
          "nan_count": 0,
          "categories": [
           {
            "name": "ACN",
            "count": 1
           },
           {
            "name": "ADM",
            "count": 1
           },
           {
            "name": "1091 others",
            "count": 1091
           }
          ]
         }
        },
        {
         "name": "LATITUDE",
         "dtype": "object",
         "stats": {
          "unique_count": 1033,
          "nan_count": 0,
          "categories": [
           {
            "name": "37.000999",
            "count": 5
           },
           {
            "name": "38.682999",
            "count": 3
           },
           {
            "name": "1031 others",
            "count": 1085
           }
          ]
         }
        },
        {
         "name": "LONGITUDE",
         "dtype": "object",
         "stats": {
          "unique_count": 1029,
          "nan_count": 0,
          "categories": [
           {
            "name": "-121.182999",
            "count": 4
           },
           {
            "name": "-120.602997",
            "count": 4
           },
           {
            "name": "1027 others",
            "count": 1085
           }
          ]
         }
        },
        {
         "name": "COUNTY",
         "dtype": "object",
         "stats": {
          "unique_count": 60,
          "nan_count": 0,
          "categories": [
           {
            "name": "SHASTA",
            "count": 66
           },
           {
            "name": "FRESNO",
            "count": 57
           },
           {
            "name": "58 others",
            "count": 970
           }
          ]
         }
        },
        {
         "name": "RIVER BASIN",
         "dtype": "object",
         "stats": {
          "unique_count": 108,
          "nan_count": 0,
          "categories": [
           {
            "name": "SAN JOAQUIN R",
            "count": 84
           },
           {
            "name": "FEATHER R",
            "count": 81
           },
           {
            "name": "106 others",
            "count": 928
           }
          ]
         }
        },
        {
         "name": "_deepnote_index_column",
         "dtype": "int64"
        }
       ],
       "rows": [
        {
         "STATION": "ACTON",
         "STATION_ID": "ACN",
         "LATITUDE": "34.445999",
         "LONGITUDE": "-118.199997",
         "COUNTY": "LOS ANGELES",
         "RIVER BASIN": "SANTA CLARA R",
         "_deepnote_index_column": 2
        },
        {
         "STATION": "ADIN MOUNTAIN",
         "STATION_ID": "ADM",
         "LATITUDE": "41.237000",
         "LONGITUDE": "-120.792000",
         "COUNTY": "MODOC",
         "RIVER BASIN": "PIT R",
         "_deepnote_index_column": 3
        },
        {
         "STATION": "AGNEW PASS",
         "STATION_ID": "AGP",
         "LATITUDE": "37.726631",
         "LONGITUDE": "-119.141731",
         "COUNTY": "MADERA",
         "RIVER BASIN": "SAN JOAQUIN R",
         "_deepnote_index_column": 4
        },
        {
         "STATION": "AL SMITH CANAL",
         "STATION_ID": "ASA",
         "LATITUDE": "40.483925",
         "LONGITUDE": "-121.855339",
         "COUNTY": "SHASTA",
         "RIVER BASIN": "BATTLE CREEK",
         "_deepnote_index_column": 5
        },
        {
         "STATION": "ALAMO POWER PLANT",
         "STATION_ID": "ALA",
         "LATITUDE": "34.320900",
         "LONGITUDE": "-118.221199",
         "COUNTY": "LOS ANGELES",
         "RIVER BASIN": "SAN GABRIEL R",
         "_deepnote_index_column": 6
        },
        {
         "STATION": "ALDER POINT",
         "STATION_ID": "ALD",
         "LATITUDE": "40.231998",
         "LONGITUDE": "-123.711998",
         "COUNTY": "HUMBOLDT",
         "RIVER BASIN": "EEL R",
         "_deepnote_index_column": 7
        },
        {
         "STATION": "ALDER SPRINGS (USACE)",
         "STATION_ID": "ALS",
         "LATITUDE": "39.650002",
         "LONGITUDE": "-122.724998",
         "COUNTY": "GLENN",
         "RIVER BASIN": "STONY CR",
         "_deepnote_index_column": 8
        },
        {
         "STATION": "ALDER SPRINGS NEAR ELK CREEK",
         "STATION_ID": "ADS",
         "LATITUDE": "39.650002",
         "LONGITUDE": "-122.724998",
         "COUNTY": "GLENN",
         "RIVER BASIN": "STONY CR",
         "_deepnote_index_column": 9
        },
        {
         "STATION": "ALLEGHANY",
         "STATION_ID": "ALY",
         "LATITUDE": "39.470215",
         "LONGITUDE": "-120.874275",
         "COUNTY": "SIERRA",
         "RIVER BASIN": "YUBA R",
         "_deepnote_index_column": 10
        },
        {
         "STATION": "ALPHA (SMUD)",
         "STATION_ID": "ALP",
         "LATITUDE": "38.804192",
         "LONGITUDE": "-120.215652",
         "COUNTY": "EL DORADO",
         "RIVER BASIN": "AMERICAN R",
         "_deepnote_index_column": 11
        }
       ]
      },
      "text/plain": "0                        STATION STATION_ID   LATITUDE    LONGITUDE  \\\n2                          ACTON        ACN  34.445999  -118.199997   \n3                  ADIN MOUNTAIN        ADM  41.237000  -120.792000   \n4                     AGNEW PASS        AGP  37.726631  -119.141731   \n5                 AL SMITH CANAL        ASA  40.483925  -121.855339   \n6              ALAMO POWER PLANT        ALA  34.320900  -118.221199   \n...                          ...        ...        ...          ...   \n1090  YUBA RIVER NEAR MARYSVILLE        MRY  39.175724  -121.524963   \n1091  YUBA RIVER NEAR SMARTVILLE        YRS  39.235172  -121.274124   \n1092                YUCCA VALLEY        YUC  34.123001  -116.407997   \n1093                ZAPATO CHINO        ZPC  36.015999  -120.292999   \n1094                       ZENIA        ZEN  40.208401  -123.459793   \n\n0             COUNTY                   RIVER BASIN  \n2        LOS ANGELES                 SANTA CLARA R  \n3              MODOC                         PIT R  \n4             MADERA                 SAN JOAQUIN R  \n5             SHASTA                  BATTLE CREEK  \n6        LOS ANGELES                 SAN GABRIEL R  \n...              ...                           ...  \n1090            YUBA                        YUBA R  \n1091            YUBA                        YUBA R  \n1092  SAN BERNARDINO                  WHITEWATER R  \n1093          FRESNO  LOS GATOS CR (NEAR COALINGA)  \n1094         TRINITY                         EEL R  \n\n[1093 rows x 6 columns]",
      "text/html": "<div>\n<style scoped>\n    .dataframe tbody tr th:only-of-type {\n        vertical-align: middle;\n    }\n\n    .dataframe tbody tr th {\n        vertical-align: top;\n    }\n\n    .dataframe thead th {\n        text-align: right;\n    }\n</style>\n<table border=\"1\" class=\"dataframe\">\n  <thead>\n    <tr style=\"text-align: right;\">\n      <th></th>\n      <th>STATION</th>\n      <th>STATION_ID</th>\n      <th>LATITUDE</th>\n      <th>LONGITUDE</th>\n      <th>COUNTY</th>\n      <th>RIVER BASIN</th>\n    </tr>\n  </thead>\n  <tbody>\n    <tr>\n      <th>2</th>\n      <td>ACTON</td>\n      <td>ACN</td>\n      <td>34.445999</td>\n      <td>-118.199997</td>\n      <td>LOS ANGELES</td>\n      <td>SANTA CLARA R</td>\n    </tr>\n    <tr>\n      <th>3</th>\n      <td>ADIN MOUNTAIN</td>\n      <td>ADM</td>\n      <td>41.237000</td>\n      <td>-120.792000</td>\n      <td>MODOC</td>\n      <td>PIT R</td>\n    </tr>\n    <tr>\n      <th>4</th>\n      <td>AGNEW PASS</td>\n      <td>AGP</td>\n      <td>37.726631</td>\n      <td>-119.141731</td>\n      <td>MADERA</td>\n      <td>SAN JOAQUIN R</td>\n    </tr>\n    <tr>\n      <th>5</th>\n      <td>AL SMITH CANAL</td>\n      <td>ASA</td>\n      <td>40.483925</td>\n      <td>-121.855339</td>\n      <td>SHASTA</td>\n      <td>BATTLE CREEK</td>\n    </tr>\n    <tr>\n      <th>6</th>\n      <td>ALAMO POWER PLANT</td>\n      <td>ALA</td>\n      <td>34.320900</td>\n      <td>-118.221199</td>\n      <td>LOS ANGELES</td>\n      <td>SAN GABRIEL R</td>\n    </tr>\n    <tr>\n      <th>...</th>\n      <td>...</td>\n      <td>...</td>\n      <td>...</td>\n      <td>...</td>\n      <td>...</td>\n      <td>...</td>\n    </tr>\n    <tr>\n      <th>1090</th>\n      <td>YUBA RIVER NEAR MARYSVILLE</td>\n      <td>MRY</td>\n      <td>39.175724</td>\n      <td>-121.524963</td>\n      <td>YUBA</td>\n      <td>YUBA R</td>\n    </tr>\n    <tr>\n      <th>1091</th>\n      <td>YUBA RIVER NEAR SMARTVILLE</td>\n      <td>YRS</td>\n      <td>39.235172</td>\n      <td>-121.274124</td>\n      <td>YUBA</td>\n      <td>YUBA R</td>\n    </tr>\n    <tr>\n      <th>1092</th>\n      <td>YUCCA VALLEY</td>\n      <td>YUC</td>\n      <td>34.123001</td>\n      <td>-116.407997</td>\n      <td>SAN BERNARDINO</td>\n      <td>WHITEWATER R</td>\n    </tr>\n    <tr>\n      <th>1093</th>\n      <td>ZAPATO CHINO</td>\n      <td>ZPC</td>\n      <td>36.015999</td>\n      <td>-120.292999</td>\n      <td>FRESNO</td>\n      <td>LOS GATOS CR (NEAR COALINGA)</td>\n    </tr>\n    <tr>\n      <th>1094</th>\n      <td>ZENIA</td>\n      <td>ZEN</td>\n      <td>40.208401</td>\n      <td>-123.459793</td>\n      <td>TRINITY</td>\n      <td>EEL R</td>\n    </tr>\n  </tbody>\n</table>\n<p>1093 rows × 6 columns</p>\n</div>"
     },
     "metadata": {}
    }
   ]
  },
  {
   "cell_type": "code",
   "metadata": {
    "cell_id": "f36b9da0-7f7f-4a1b-b28b-887843802fab",
    "tags": [],
    "deepnote_to_be_reexecuted": false,
    "source_hash": "90c5f1ff",
    "execution_start": 1647560522928,
    "execution_millis": 867,
    "deepnote_cell_type": "code",
    "deepnote_cell_height": 613.265625
   },
   "source": "precipitation_data.get_precipitation_station_data('monthly')",
   "execution_count": null,
   "outputs": [
    {
     "output_type": "execute_result",
     "execution_count": 10,
     "data": {
      "application/vnd.deepnote.dataframe.v3+json": {
       "column_count": 6,
       "row_count": 203,
       "columns": [
        {
         "name": "STATION",
         "dtype": "object",
         "stats": {
          "unique_count": 203,
          "nan_count": 0,
          "categories": [
           {
            "name": "CRESCENT CITY MC NAMARA FIELD",
            "count": 1
           },
           {
            "name": "YREKA",
            "count": 1
           },
           {
            "name": "201 others",
            "count": 201
           }
          ]
         }
        },
        {
         "name": "STATION_ID",
         "dtype": "object",
         "stats": {
          "unique_count": 203,
          "nan_count": 0,
          "categories": [
           {
            "name": "CEC",
            "count": 1
           },
           {
            "name": "YRK",
            "count": 1
           },
           {
            "name": "201 others",
            "count": 201
           }
          ]
         }
        },
        {
         "name": "LATITUDE",
         "dtype": "object",
         "stats": {
          "unique_count": 187,
          "nan_count": 0,
          "categories": [
           {
            "name": "39.317001",
            "count": 3
           },
           {
            "name": "38.700001",
            "count": 3
           },
           {
            "name": "185 others",
            "count": 197
           }
          ]
         }
        },
        {
         "name": "LONGITUDE",
         "dtype": "object",
         "stats": {
          "unique_count": 182,
          "nan_count": 0,
          "categories": [
           {
            "name": "-119.500000",
            "count": 3
           },
           {
            "name": "-120.099998",
            "count": 3
           },
           {
            "name": "180 others",
            "count": 197
           }
          ]
         }
        },
        {
         "name": "COUNTY",
         "dtype": "object",
         "stats": {
          "unique_count": 54,
          "nan_count": 0,
          "categories": [
           {
            "name": "TULARE",
            "count": 20
           },
           {
            "name": "NEVADA",
            "count": 12
           },
           {
            "name": "52 others",
            "count": 171
           }
          ]
         }
        },
        {
         "name": "OPERATOR AGENCY",
         "dtype": "object",
         "stats": {
          "unique_count": 43,
          "nan_count": 0,
          "categories": [
           {
            "name": "National Weather Service",
            "count": 79
           },
           {
            "name": "US Forest Service",
            "count": 18
           },
           {
            "name": "41 others",
            "count": 106
           }
          ]
         }
        },
        {
         "name": "_deepnote_index_column",
         "dtype": "int64"
        }
       ],
       "rows": [
        {
         "STATION": "CRESCENT CITY MC NAMARA FIELD",
         "STATION_ID": "CEC",
         "LATITUDE": "41.779999",
         "LONGITUDE": "-124.239998",
         "COUNTY": "DEL NORTE",
         "OPERATOR AGENCY": "National Weather Service",
         "_deepnote_index_column": 2
        },
        {
         "STATION": "YREKA",
         "STATION_ID": "YRK",
         "LATITUDE": "41.700001",
         "LONGITUDE": "-122.633003",
         "COUNTY": "SISKIYOU",
         "OPERATOR AGENCY": "US Forest Service",
         "_deepnote_index_column": 3
        },
        {
         "STATION": "HAPPY CAMP RS",
         "STATION_ID": "HAP",
         "LATITUDE": "41.799999",
         "LONGITUDE": "-123.366997",
         "COUNTY": "SISKIYOU",
         "OPERATOR AGENCY": "US Forest Service",
         "_deepnote_index_column": 4
        },
        {
         "STATION": "KLAMATH RIVER AT ORLEANS",
         "STATION_ID": "OLS",
         "LATITUDE": "41.303459",
         "LONGITUDE": "-123.534500",
         "COUNTY": "HUMBOLDT",
         "OPERATOR AGENCY": "USGS/DWR-DFM-Hydro-SMN",
         "_deepnote_index_column": 5
        },
        {
         "STATION": "CALLAHAN",
         "STATION_ID": "CAL",
         "LATITUDE": "41.317001",
         "LONGITUDE": "-122.800003",
         "COUNTY": "SISKIYOU",
         "OPERATOR AGENCY": "National Weather Service",
         "_deepnote_index_column": 6
        },
        {
         "STATION": "FORT JONES RS",
         "STATION_ID": "FJN",
         "LATITUDE": "41.599998",
         "LONGITUDE": "-122.849998",
         "COUNTY": "SISKIYOU",
         "OPERATOR AGENCY": "US Forest Service",
         "_deepnote_index_column": 7
        },
        {
         "STATION": "COFFEE CREEK RANGER STATION",
         "STATION_ID": "CFF",
         "LATITUDE": "41.089439",
         "LONGITUDE": "-122.708611",
         "COUNTY": "TRINITY",
         "OPERATOR AGENCY": "CA Dept of Water Resources/DFM-Hydro-SMN",
         "_deepnote_index_column": 8
        },
        {
         "STATION": "WEAVERVILLE RS",
         "STATION_ID": "WVR",
         "LATITUDE": "40.733002",
         "LONGITUDE": "-122.949997",
         "COUNTY": "TRINITY",
         "OPERATOR AGENCY": "US Forest Service",
         "_deepnote_index_column": 9
        },
        {
         "STATION": "LEWISTON FISH HATCHERY",
         "STATION_ID": "LFH",
         "LATITUDE": "40.727001",
         "LONGITUDE": "-122.792999",
         "COUNTY": "TRINITY",
         "OPERATOR AGENCY": "US Bureau of Reclamation",
         "_deepnote_index_column": 10
        },
        {
         "STATION": "BIG BAR",
         "STATION_ID": "BGB",
         "LATITUDE": "40.733002",
         "LONGITUDE": "-123.199997",
         "COUNTY": "TRINITY",
         "OPERATOR AGENCY": "US Forest Service",
         "_deepnote_index_column": 11
        }
       ]
      },
      "text/plain": "0                          STATION STATION_ID   LATITUDE    LONGITUDE  \\\n2    CRESCENT CITY MC NAMARA FIELD        CEC  41.779999  -124.239998   \n3                            YREKA        YRK  41.700001  -122.633003   \n4                    HAPPY CAMP RS        HAP  41.799999  -123.366997   \n5         KLAMATH RIVER AT ORLEANS        OLS  41.303459  -123.534500   \n6                         CALLAHAN        CAL  41.317001  -122.800003   \n..                             ...        ...        ...          ...   \n200               TWENTYNINE PALMS        29P  34.126999  -116.037003   \n201                        NEEDLES        NDL  34.833000  -114.599998   \n202                         BLYTHE        BLY  33.617001  -114.717003   \n203                IMPERIAL VALLEY        IMP  32.849998  -115.570000   \n204                   PALM SPRINGS        PMS  33.833000  -116.500000   \n\n0            COUNTY                          OPERATOR AGENCY  \n2         DEL NORTE                 National Weather Service  \n3          SISKIYOU                        US Forest Service  \n4          SISKIYOU                        US Forest Service  \n5          HUMBOLDT                   USGS/DWR-DFM-Hydro-SMN  \n6          SISKIYOU                 National Weather Service  \n..              ...                                      ...  \n200  SAN BERNARDINO                 National Weather Service  \n201  SAN BERNARDINO                 National Weather Service  \n202       RIVERSIDE  CA Dept of Forestry and Fire Protection  \n203        IMPERIAL                 National Weather Service  \n204       RIVERSIDE                 National Weather Service  \n\n[203 rows x 6 columns]",
      "text/html": "<div>\n<style scoped>\n    .dataframe tbody tr th:only-of-type {\n        vertical-align: middle;\n    }\n\n    .dataframe tbody tr th {\n        vertical-align: top;\n    }\n\n    .dataframe thead th {\n        text-align: right;\n    }\n</style>\n<table border=\"1\" class=\"dataframe\">\n  <thead>\n    <tr style=\"text-align: right;\">\n      <th></th>\n      <th>STATION</th>\n      <th>STATION_ID</th>\n      <th>LATITUDE</th>\n      <th>LONGITUDE</th>\n      <th>COUNTY</th>\n      <th>OPERATOR AGENCY</th>\n    </tr>\n  </thead>\n  <tbody>\n    <tr>\n      <th>2</th>\n      <td>CRESCENT CITY MC NAMARA FIELD</td>\n      <td>CEC</td>\n      <td>41.779999</td>\n      <td>-124.239998</td>\n      <td>DEL NORTE</td>\n      <td>National Weather Service</td>\n    </tr>\n    <tr>\n      <th>3</th>\n      <td>YREKA</td>\n      <td>YRK</td>\n      <td>41.700001</td>\n      <td>-122.633003</td>\n      <td>SISKIYOU</td>\n      <td>US Forest Service</td>\n    </tr>\n    <tr>\n      <th>4</th>\n      <td>HAPPY CAMP RS</td>\n      <td>HAP</td>\n      <td>41.799999</td>\n      <td>-123.366997</td>\n      <td>SISKIYOU</td>\n      <td>US Forest Service</td>\n    </tr>\n    <tr>\n      <th>5</th>\n      <td>KLAMATH RIVER AT ORLEANS</td>\n      <td>OLS</td>\n      <td>41.303459</td>\n      <td>-123.534500</td>\n      <td>HUMBOLDT</td>\n      <td>USGS/DWR-DFM-Hydro-SMN</td>\n    </tr>\n    <tr>\n      <th>6</th>\n      <td>CALLAHAN</td>\n      <td>CAL</td>\n      <td>41.317001</td>\n      <td>-122.800003</td>\n      <td>SISKIYOU</td>\n      <td>National Weather Service</td>\n    </tr>\n    <tr>\n      <th>...</th>\n      <td>...</td>\n      <td>...</td>\n      <td>...</td>\n      <td>...</td>\n      <td>...</td>\n      <td>...</td>\n    </tr>\n    <tr>\n      <th>200</th>\n      <td>TWENTYNINE PALMS</td>\n      <td>29P</td>\n      <td>34.126999</td>\n      <td>-116.037003</td>\n      <td>SAN BERNARDINO</td>\n      <td>National Weather Service</td>\n    </tr>\n    <tr>\n      <th>201</th>\n      <td>NEEDLES</td>\n      <td>NDL</td>\n      <td>34.833000</td>\n      <td>-114.599998</td>\n      <td>SAN BERNARDINO</td>\n      <td>National Weather Service</td>\n    </tr>\n    <tr>\n      <th>202</th>\n      <td>BLYTHE</td>\n      <td>BLY</td>\n      <td>33.617001</td>\n      <td>-114.717003</td>\n      <td>RIVERSIDE</td>\n      <td>CA Dept of Forestry and Fire Protection</td>\n    </tr>\n    <tr>\n      <th>203</th>\n      <td>IMPERIAL VALLEY</td>\n      <td>IMP</td>\n      <td>32.849998</td>\n      <td>-115.570000</td>\n      <td>IMPERIAL</td>\n      <td>National Weather Service</td>\n    </tr>\n    <tr>\n      <th>204</th>\n      <td>PALM SPRINGS</td>\n      <td>PMS</td>\n      <td>33.833000</td>\n      <td>-116.500000</td>\n      <td>RIVERSIDE</td>\n      <td>National Weather Service</td>\n    </tr>\n  </tbody>\n</table>\n<p>203 rows × 6 columns</p>\n</div>"
     },
     "metadata": {}
    }
   ]
  },
  {
   "cell_type": "code",
   "metadata": {
    "cell_id": "aa52541a-6960-4d34-a6bd-cc37b4537101",
    "tags": [],
    "deepnote_to_be_reexecuted": false,
    "source_hash": "f27f08bf",
    "execution_start": 1647560531538,
    "execution_millis": 274,
    "deepnote_cell_type": "code",
    "deepnote_cell_height": 631.265625
   },
   "source": "precipitation_data.retrieve_merge_precipitation_stations()\n",
   "execution_count": null,
   "outputs": [
    {
     "output_type": "execute_result",
     "execution_count": 11,
     "data": {
      "application/vnd.deepnote.dataframe.v3+json": {
       "column_count": 19,
       "row_count": 1668,
       "columns": [
        {
         "name": "STATION_ID",
         "dtype": "object",
         "stats": {
          "unique_count": 171,
          "nan_count": 0,
          "categories": [
           {
            "name": "ASM",
            "count": 10
           },
           {
            "name": "ATW",
            "count": 10
           },
           {
            "name": "169 others",
            "count": 1648
           }
          ]
         }
        },
        {
         "name": "STATION NAME",
         "dtype": "object",
         "stats": {
          "unique_count": 172,
          "nan_count": 0,
          "categories": [
           {
            "name": "ASH MOUNTAIN",
            "count": 10
           },
           {
            "name": "ATWELL CAMP",
            "count": 10
           },
           {
            "name": "170 others",
            "count": 1648
           }
          ]
         }
        },
        {
         "name": "OCT",
         "dtype": "float64",
         "stats": {
          "unique_count": 449,
          "nan_count": 62,
          "min": "0.0",
          "max": "28.68",
          "histogram": [
           {
            "bin_start": 0,
            "bin_end": 2.868,
            "count": 1361
           },
           {
            "bin_start": 2.868,
            "bin_end": 5.736,
            "count": 117
           },
           {
            "bin_start": 5.736,
            "bin_end": 8.604,
            "count": 58
           },
           {
            "bin_start": 8.604,
            "bin_end": 11.472,
            "count": 26
           },
           {
            "bin_start": 11.472,
            "bin_end": 14.34,
            "count": 18
           },
           {
            "bin_start": 14.34,
            "bin_end": 17.208,
            "count": 18
           },
           {
            "bin_start": 17.208,
            "bin_end": 20.076,
            "count": 7
           },
           {
            "bin_start": 20.076,
            "bin_end": 22.944,
            "count": 0
           },
           {
            "bin_start": 22.944,
            "bin_end": 25.811999999999998,
            "count": 0
           },
           {
            "bin_start": 25.811999999999998,
            "bin_end": 28.68,
            "count": 1
           }
          ]
         }
        },
        {
         "name": "NOV",
         "dtype": "float64",
         "stats": {
          "unique_count": 626,
          "nan_count": 78,
          "min": "0.0",
          "max": "24.54",
          "histogram": [
           {
            "bin_start": 0,
            "bin_end": 2.4539999999999997,
            "count": 1010
           },
           {
            "bin_start": 2.4539999999999997,
            "bin_end": 4.9079999999999995,
            "count": 330
           },
           {
            "bin_start": 4.9079999999999995,
            "bin_end": 7.361999999999999,
            "count": 139
           },
           {
            "bin_start": 7.361999999999999,
            "bin_end": 9.815999999999999,
            "count": 61
           },
           {
            "bin_start": 9.815999999999999,
            "bin_end": 12.27,
            "count": 18
           },
           {
            "bin_start": 12.27,
            "bin_end": 14.723999999999998,
            "count": 13
           },
           {
            "bin_start": 14.723999999999998,
            "bin_end": 17.177999999999997,
            "count": 10
           },
           {
            "bin_start": 17.177999999999997,
            "bin_end": 19.631999999999998,
            "count": 6
           },
           {
            "bin_start": 19.631999999999998,
            "bin_end": 22.086,
            "count": 2
           },
           {
            "bin_start": 22.086,
            "bin_end": 24.54,
            "count": 1
           }
          ]
         }
        },
        {
         "name": "DEC",
         "dtype": "float64",
         "stats": {
          "unique_count": 860,
          "nan_count": 81,
          "min": "0.0",
          "max": "36.72",
          "histogram": [
           {
            "bin_start": 0,
            "bin_end": 3.6719999999999997,
            "count": 862
           },
           {
            "bin_start": 3.6719999999999997,
            "bin_end": 7.343999999999999,
            "count": 356
           },
           {
            "bin_start": 7.343999999999999,
            "bin_end": 11.015999999999998,
            "count": 185
           },
           {
            "bin_start": 11.015999999999998,
            "bin_end": 14.687999999999999,
            "count": 110
           },
           {
            "bin_start": 14.687999999999999,
            "bin_end": 18.36,
            "count": 43
           },
           {
            "bin_start": 18.36,
            "bin_end": 22.031999999999996,
            "count": 20
           },
           {
            "bin_start": 22.031999999999996,
            "bin_end": 25.703999999999997,
            "count": 8
           },
           {
            "bin_start": 25.703999999999997,
            "bin_end": 29.375999999999998,
            "count": 2
           },
           {
            "bin_start": 29.375999999999998,
            "bin_end": 33.047999999999995,
            "count": 0
           },
           {
            "bin_start": 33.047999999999995,
            "bin_end": 36.72,
            "count": 1
           }
          ]
         }
        },
        {
         "name": "JAN",
         "dtype": "float64",
         "stats": {
          "unique_count": 768,
          "nan_count": 73,
          "min": "0.0",
          "max": "41.51",
          "histogram": [
           {
            "bin_start": 0,
            "bin_end": 4.151,
            "count": 1072
           },
           {
            "bin_start": 4.151,
            "bin_end": 8.302,
            "count": 273
           },
           {
            "bin_start": 8.302,
            "bin_end": 12.453,
            "count": 122
           },
           {
            "bin_start": 12.453,
            "bin_end": 16.604,
            "count": 62
           },
           {
            "bin_start": 16.604,
            "bin_end": 20.755,
            "count": 26
           },
           {
            "bin_start": 20.755,
            "bin_end": 24.906,
            "count": 16
           },
           {
            "bin_start": 24.906,
            "bin_end": 29.057,
            "count": 12
           },
           {
            "bin_start": 29.057,
            "bin_end": 33.208,
            "count": 8
           },
           {
            "bin_start": 33.208,
            "bin_end": 37.358999999999995,
            "count": 3
           },
           {
            "bin_start": 37.358999999999995,
            "bin_end": 41.51,
            "count": 1
           }
          ]
         }
        },
        {
         "name": "FEB",
         "dtype": "float64",
         "stats": {
          "unique_count": 686,
          "nan_count": 248,
          "min": "0.0",
          "max": "37.65",
          "histogram": [
           {
            "bin_start": 0,
            "bin_end": 3.7649999999999997,
            "count": 965
           },
           {
            "bin_start": 3.7649999999999997,
            "bin_end": 7.529999999999999,
            "count": 195
           },
           {
            "bin_start": 7.529999999999999,
            "bin_end": 11.294999999999998,
            "count": 97
           },
           {
            "bin_start": 11.294999999999998,
            "bin_end": 15.059999999999999,
            "count": 65
           },
           {
            "bin_start": 15.059999999999999,
            "bin_end": 18.825,
            "count": 43
           },
           {
            "bin_start": 18.825,
            "bin_end": 22.589999999999996,
            "count": 26
           },
           {
            "bin_start": 22.589999999999996,
            "bin_end": 26.354999999999997,
            "count": 14
           },
           {
            "bin_start": 26.354999999999997,
            "bin_end": 30.119999999999997,
            "count": 6
           },
           {
            "bin_start": 30.119999999999997,
            "bin_end": 33.885,
            "count": 6
           },
           {
            "bin_start": 33.885,
            "bin_end": 37.65,
            "count": 3
           }
          ]
         }
        },
        {
         "name": "MAR",
         "dtype": "float64",
         "stats": {
          "unique_count": 720,
          "nan_count": 249,
          "min": "0.0",
          "max": "28.61",
          "histogram": [
           {
            "bin_start": 0,
            "bin_end": 2.8609999999999998,
            "count": 767
           },
           {
            "bin_start": 2.8609999999999998,
            "bin_end": 5.7219999999999995,
            "count": 339
           },
           {
            "bin_start": 5.7219999999999995,
            "bin_end": 8.582999999999998,
            "count": 145
           },
           {
            "bin_start": 8.582999999999998,
            "bin_end": 11.443999999999999,
            "count": 77
           },
           {
            "bin_start": 11.443999999999999,
            "bin_end": 14.305,
            "count": 41
           },
           {
            "bin_start": 14.305,
            "bin_end": 17.165999999999997,
            "count": 22
           },
           {
            "bin_start": 17.165999999999997,
            "bin_end": 20.026999999999997,
            "count": 19
           },
           {
            "bin_start": 20.026999999999997,
            "bin_end": 22.887999999999998,
            "count": 7
           },
           {
            "bin_start": 22.887999999999998,
            "bin_end": 25.749,
            "count": 1
           },
           {
            "bin_start": 25.749,
            "bin_end": 28.61,
            "count": 1
           }
          ]
         }
        },
        {
         "name": "APR",
         "dtype": "float64",
         "stats": {
          "unique_count": 496,
          "nan_count": 256,
          "min": "0.0",
          "max": "15.4",
          "histogram": [
           {
            "bin_start": 0,
            "bin_end": 1.54,
            "count": 804
           },
           {
            "bin_start": 1.54,
            "bin_end": 3.08,
            "count": 325
           },
           {
            "bin_start": 3.08,
            "bin_end": 4.62,
            "count": 160
           },
           {
            "bin_start": 4.62,
            "bin_end": 6.16,
            "count": 72
           },
           {
            "bin_start": 6.16,
            "bin_end": 7.7,
            "count": 19
           },
           {
            "bin_start": 7.7,
            "bin_end": 9.24,
            "count": 14
           },
           {
            "bin_start": 9.24,
            "bin_end": 10.780000000000001,
            "count": 7
           },
           {
            "bin_start": 10.780000000000001,
            "bin_end": 12.32,
            "count": 5
           },
           {
            "bin_start": 12.32,
            "bin_end": 13.86,
            "count": 1
           },
           {
            "bin_start": 13.86,
            "bin_end": 15.4,
            "count": 5
           }
          ]
         }
        },
        {
         "name": "MAY",
         "dtype": "float64",
         "stats": {
          "unique_count": 359,
          "nan_count": 315,
          "min": "0.0",
          "max": "9.71",
          "histogram": [
           {
            "bin_start": 0,
            "bin_end": 0.9710000000000001,
            "count": 868
           },
           {
            "bin_start": 0.9710000000000001,
            "bin_end": 1.9420000000000002,
            "count": 238
           },
           {
            "bin_start": 1.9420000000000002,
            "bin_end": 2.9130000000000003,
            "count": 110
           },
           {
            "bin_start": 2.9130000000000003,
            "bin_end": 3.8840000000000003,
            "count": 52
           },
           {
            "bin_start": 3.8840000000000003,
            "bin_end": 4.855,
            "count": 30
           },
           {
            "bin_start": 4.855,
            "bin_end": 5.8260000000000005,
            "count": 17
           },
           {
            "bin_start": 5.8260000000000005,
            "bin_end": 6.797000000000001,
            "count": 13
           },
           {
            "bin_start": 6.797000000000001,
            "bin_end": 7.768000000000001,
            "count": 11
           },
           {
            "bin_start": 7.768000000000001,
            "bin_end": 8.739,
            "count": 11
           },
           {
            "bin_start": 8.739,
            "bin_end": 9.71,
            "count": 3
           }
          ]
         }
        },
        {
         "name": "JUN",
         "dtype": "float64",
         "stats": {
          "unique_count": 168,
          "nan_count": 322,
          "min": "0.0",
          "max": "6.43",
          "histogram": [
           {
            "bin_start": 0,
            "bin_end": 0.643,
            "count": 1160
           },
           {
            "bin_start": 0.643,
            "bin_end": 1.286,
            "count": 132
           },
           {
            "bin_start": 1.286,
            "bin_end": 1.929,
            "count": 30
           },
           {
            "bin_start": 1.929,
            "bin_end": 2.572,
            "count": 15
           },
           {
            "bin_start": 2.572,
            "bin_end": 3.215,
            "count": 5
           },
           {
            "bin_start": 3.215,
            "bin_end": 3.858,
            "count": 1
           },
           {
            "bin_start": 3.858,
            "bin_end": 4.501,
            "count": 0
           },
           {
            "bin_start": 4.501,
            "bin_end": 5.144,
            "count": 2
           },
           {
            "bin_start": 5.144,
            "bin_end": 5.787,
            "count": 0
           },
           {
            "bin_start": 5.787,
            "bin_end": 6.43,
            "count": 1
           }
          ]
         }
        },
        {
         "name": "JUL",
         "dtype": "float64",
         "stats": {
          "unique_count": 160,
          "nan_count": 315,
          "min": "0.0",
          "max": "4.45",
          "histogram": [
           {
            "bin_start": 0,
            "bin_end": 0.445,
            "count": 1160
           },
           {
            "bin_start": 0.445,
            "bin_end": 0.89,
            "count": 82
           },
           {
            "bin_start": 0.89,
            "bin_end": 1.335,
            "count": 44
           },
           {
            "bin_start": 1.335,
            "bin_end": 1.78,
            "count": 37
           },
           {
            "bin_start": 1.78,
            "bin_end": 2.225,
            "count": 12
           },
           {
            "bin_start": 2.225,
            "bin_end": 2.67,
            "count": 6
           },
           {
            "bin_start": 2.67,
            "bin_end": 3.115,
            "count": 3
           },
           {
            "bin_start": 3.115,
            "bin_end": 3.56,
            "count": 5
           },
           {
            "bin_start": 3.56,
            "bin_end": 4.005,
            "count": 2
           },
           {
            "bin_start": 4.005,
            "bin_end": 4.45,
            "count": 2
           }
          ]
         }
        },
        {
         "name": "AUG",
         "dtype": "float64",
         "stats": {
          "unique_count": 120,
          "nan_count": 337,
          "min": "0.0",
          "max": "3.6",
          "histogram": [
           {
            "bin_start": 0,
            "bin_end": 0.36,
            "count": 1179
           },
           {
            "bin_start": 0.36,
            "bin_end": 0.72,
            "count": 80
           },
           {
            "bin_start": 0.72,
            "bin_end": 1.08,
            "count": 39
           },
           {
            "bin_start": 1.08,
            "bin_end": 1.44,
            "count": 13
           },
           {
            "bin_start": 1.44,
            "bin_end": 1.7999999999999998,
            "count": 10
           },
           {
            "bin_start": 1.7999999999999998,
            "bin_end": 2.16,
            "count": 3
           },
           {
            "bin_start": 2.16,
            "bin_end": 2.52,
            "count": 3
           },
           {
            "bin_start": 2.52,
            "bin_end": 2.88,
            "count": 2
           },
           {
            "bin_start": 2.88,
            "bin_end": 3.2399999999999998,
            "count": 0
           },
           {
            "bin_start": 3.2399999999999998,
            "bin_end": 3.6,
            "count": 2
           }
          ]
         }
        },
        {
         "name": "SEP",
         "dtype": "float64",
         "stats": {
          "unique_count": 219,
          "nan_count": 354,
          "min": "0.0",
          "max": "10.65",
          "histogram": [
           {
            "bin_start": 0,
            "bin_end": 1.065,
            "count": 1150
           },
           {
            "bin_start": 1.065,
            "bin_end": 2.13,
            "count": 110
           },
           {
            "bin_start": 2.13,
            "bin_end": 3.195,
            "count": 36
           },
           {
            "bin_start": 3.195,
            "bin_end": 4.26,
            "count": 12
           },
           {
            "bin_start": 4.26,
            "bin_end": 5.324999999999999,
            "count": 4
           },
           {
            "bin_start": 5.324999999999999,
            "bin_end": 6.39,
            "count": 0
           },
           {
            "bin_start": 6.39,
            "bin_end": 7.455,
            "count": 1
           },
           {
            "bin_start": 7.455,
            "bin_end": 8.52,
            "count": 0
           },
           {
            "bin_start": 8.52,
            "bin_end": 9.584999999999999,
            "count": 0
           },
           {
            "bin_start": 9.584999999999999,
            "bin_end": 10.65,
            "count": 1
           }
          ]
         }
        },
        {
         "name": "AVERAGE_YEARLY_PRECIPITATION",
         "dtype": "float64",
         "stats": {
          "unique_count": 1548,
          "nan_count": 37,
          "min": "0.0",
          "max": "13.64857142857143",
          "histogram": [
           {
            "bin_start": 0,
            "bin_end": 1.364857142857143,
            "count": 662
           },
           {
            "bin_start": 1.364857142857143,
            "bin_end": 2.729714285714286,
            "count": 485
           },
           {
            "bin_start": 2.729714285714286,
            "bin_end": 4.094571428571429,
            "count": 242
           },
           {
            "bin_start": 4.094571428571429,
            "bin_end": 5.459428571428572,
            "count": 122
           },
           {
            "bin_start": 5.459428571428572,
            "bin_end": 6.824285714285715,
            "count": 53
           },
           {
            "bin_start": 6.824285714285715,
            "bin_end": 8.189142857142858,
            "count": 30
           },
           {
            "bin_start": 8.189142857142858,
            "bin_end": 9.554,
            "count": 22
           },
           {
            "bin_start": 9.554,
            "bin_end": 10.918857142857144,
            "count": 9
           },
           {
            "bin_start": 10.918857142857144,
            "bin_end": 12.283714285714288,
            "count": 3
           },
           {
            "bin_start": 12.283714285714288,
            "bin_end": 13.64857142857143,
            "count": 3
           }
          ]
         }
        },
        {
         "name": "YEAR",
         "dtype": "int64",
         "stats": {
          "unique_count": 10,
          "nan_count": 0,
          "min": "2013",
          "max": "2022",
          "histogram": [
           {
            "bin_start": 2013,
            "bin_end": 2013.9,
            "count": 166
           },
           {
            "bin_start": 2013.9,
            "bin_end": 2014.8,
            "count": 166
           },
           {
            "bin_start": 2014.8,
            "bin_end": 2015.7,
            "count": 167
           },
           {
            "bin_start": 2015.7,
            "bin_end": 2016.6,
            "count": 166
           },
           {
            "bin_start": 2016.6,
            "bin_end": 2017.5,
            "count": 169
           },
           {
            "bin_start": 2017.5,
            "bin_end": 2018.4,
            "count": 169
           },
           {
            "bin_start": 2018.4,
            "bin_end": 2019.3,
            "count": 167
           },
           {
            "bin_start": 2019.3,
            "bin_end": 2020.2,
            "count": 166
           },
           {
            "bin_start": 2020.2,
            "bin_end": 2021.1,
            "count": 166
           },
           {
            "bin_start": 2021.1,
            "bin_end": 2022,
            "count": 166
           }
          ]
         }
        },
        {
         "name": "LATITUDE",
         "dtype": "object",
         "stats": {
          "unique_count": 159,
          "nan_count": 0,
          "categories": [
           {
            "name": "38.700001",
            "count": 30
           },
           {
            "name": "40.733002",
            "count": 20
           },
           {
            "name": "157 others",
            "count": 1618
           }
          ]
         }
        },
        {
         "name": "LONGITUDE",
         "dtype": "object",
         "stats": {
          "unique_count": 154,
          "nan_count": 0,
          "categories": [
           {
            "name": "-119.500000",
            "count": 30
           },
           {
            "name": "-120.099998",
            "count": 30
           },
           {
            "name": "152 others",
            "count": 1608
           }
          ]
         }
        },
        {
         "name": "COUNTY",
         "dtype": "object",
         "stats": {
          "unique_count": 54,
          "nan_count": 0,
          "categories": [
           {
            "name": "TULARE",
            "count": 190
           },
           {
            "name": "NEVADA",
            "count": 90
           },
           {
            "name": "52 others",
            "count": 1388
           }
          ]
         }
        },
        {
         "name": "_deepnote_index_column",
         "dtype": "int64"
        }
       ],
       "rows": [
        {
         "STATION_ID": "ALT",
         "STATION NAME": "ALTURAS RS",
         "OCT": 0.29,
         "NOV": 1.48,
         "DEC": 2.68,
         "JAN": 0.48,
         "FEB": 0.25,
         "MAR": 0.32,
         "APR": 1.44,
         "MAY": 1.58,
         "JUN": 0.36,
         "JUL": 0,
         "AUG": 0.72,
         "SEP": 0.51,
         "AVERAGE_YEARLY_PRECIPITATION": 0.8424999999999999,
         "YEAR": 2013,
         "LATITUDE": "41.500000",
         "LONGITUDE": "-120.550003",
         "COUNTY": "MODOC",
         "_deepnote_index_column": 0
        },
        {
         "STATION_ID": "ALT",
         "STATION NAME": "ALTURAS RS",
         "OCT": 0.17,
         "NOV": 0.29,
         "DEC": 0.17,
         "JAN": 0.12,
         "FEB": 1.48,
         "MAR": 2.16,
         "APR": 0.62,
         "MAY": 0.61,
         "JUN": 0.42,
         "JUL": 0.41,
         "AUG": 0.46,
         "SEP": 0.36,
         "AVERAGE_YEARLY_PRECIPITATION": 0.6058333333333333,
         "YEAR": 2014,
         "LATITUDE": "41.500000",
         "LONGITUDE": "-120.550003",
         "COUNTY": "MODOC",
         "_deepnote_index_column": 1
        },
        {
         "STATION_ID": "ALT",
         "STATION NAME": "ALTURAS RS",
         "OCT": 1.45,
         "NOV": 0.93,
         "DEC": 2.13,
         "JAN": 0.11,
         "FEB": 1.02,
         "MAR": 0.53,
         "APR": 0.55,
         "MAY": 2.6,
         "JUN": 0.59,
         "JUL": 1.17,
         "AUG": 0.27,
         "SEP": 0.36,
         "AVERAGE_YEARLY_PRECIPITATION": 0.9758333333333332,
         "YEAR": 2015,
         "LATITUDE": "41.500000",
         "LONGITUDE": "-120.550003",
         "COUNTY": "MODOC",
         "_deepnote_index_column": 2
        },
        {
         "STATION_ID": "ALT",
         "STATION NAME": "ALTURAS RS",
         "OCT": 1.32,
         "NOV": 1.15,
         "DEC": 3.51,
         "JAN": 2,
         "FEB": 0.5,
         "MAR": 1.84,
         "APR": 1.32,
         "MAY": 1.17,
         "JUN": 0.56,
         "JUL": 0.05,
         "AUG": 0,
         "SEP": 0.03,
         "AVERAGE_YEARLY_PRECIPITATION": 1.1208333333333333,
         "YEAR": 2016,
         "LATITUDE": "41.500000",
         "LONGITUDE": "-120.550003",
         "COUNTY": "MODOC",
         "_deepnote_index_column": 3
        },
        {
         "STATION_ID": "ALT",
         "STATION NAME": "ALTURAS RS",
         "OCT": 1.47,
         "NOV": 0.53,
         "DEC": 1.75,
         "JAN": 2.5,
         "FEB": 2.95,
         "MAR": 1.18,
         "APR": 1.51,
         "MAY": 0.19,
         "JUN": 1.16,
         "JUL": 0.82,
         "AUG": 0.53,
         "SEP": 0.31,
         "AVERAGE_YEARLY_PRECIPITATION": 1.2416666666666667,
         "YEAR": 2017,
         "LATITUDE": "41.500000",
         "LONGITUDE": "-120.550003",
         "COUNTY": "MODOC",
         "_deepnote_index_column": 4
        },
        {
         "STATION_ID": "ALT",
         "STATION NAME": "ALTURAS RS",
         "OCT": 0.92,
         "NOV": 1.7,
         "DEC": 0.38,
         "JAN": 1,
         "FEB": 0.29,
         "MAR": 1.59,
         "APR": 2.88,
         "MAY": 2.98,
         "JUN": 0.32,
         "JUL": 0.13,
         "AUG": 0,
         "SEP": 0.01,
         "AVERAGE_YEARLY_PRECIPITATION": 1.0166666666666666,
         "YEAR": 2018,
         "LATITUDE": "41.500000",
         "LONGITUDE": "-120.550003",
         "COUNTY": "MODOC",
         "_deepnote_index_column": 5
        },
        {
         "STATION_ID": "APU",
         "STATION NAME": "ANGWIN PACIFIC UNION COL",
         "OCT": 1.44,
         "NOV": 13.07,
         "DEC": 13.54,
         "JAN": 1.22,
         "FEB": 0.54,
         "MAR": "nan",
         "APR": 1.1,
         "MAY": "nan",
         "JUN": 1.17,
         "JUL": 0,
         "AUG": 0,
         "SEP": 1.04,
         "AVERAGE_YEARLY_PRECIPITATION": 3.312,
         "YEAR": 2013,
         "LATITUDE": "38.573101",
         "LONGITUDE": "-122.440598",
         "COUNTY": "NAPA",
         "_deepnote_index_column": 6
        },
        {
         "STATION_ID": "APU",
         "STATION NAME": "ANGWIN PACIFIC UNION COL",
         "OCT": 0,
         "NOV": 0.94,
         "DEC": 0.52,
         "JAN": 0.15,
         "FEB": 13.36,
         "MAR": 4.97,
         "APR": 2.03,
         "MAY": 0,
         "JUN": 0,
         "JUL": 0,
         "AUG": 0.01,
         "SEP": 0.81,
         "AVERAGE_YEARLY_PRECIPITATION": 1.8991666666666667,
         "YEAR": 2014,
         "LATITUDE": "38.573101",
         "LONGITUDE": "-122.440598",
         "COUNTY": "NAPA",
         "_deepnote_index_column": 7
        },
        {
         "STATION_ID": "APU",
         "STATION NAME": "ANGWIN PACIFIC UNION COL",
         "OCT": 1.35,
         "NOV": 3.91,
         "DEC": 17.37,
         "JAN": 0.05,
         "FEB": 5.88,
         "MAR": 0.21,
         "APR": 1.6,
         "MAY": "nan",
         "JUN": "nan",
         "JUL": 0.05,
         "AUG": 0,
         "SEP": 0.76,
         "AVERAGE_YEARLY_PRECIPITATION": 3.118,
         "YEAR": 2015,
         "LATITUDE": "38.573101",
         "LONGITUDE": "-122.440598",
         "COUNTY": "NAPA",
         "_deepnote_index_column": 8
        },
        {
         "STATION_ID": "APU",
         "STATION NAME": "ANGWIN PACIFIC UNION COL",
         "OCT": 0.12,
         "NOV": 1.81,
         "DEC": 8.3,
         "JAN": 11.34,
         "FEB": 1.13,
         "MAR": 11.49,
         "APR": 1.72,
         "MAY": "nan",
         "JUN": 0,
         "JUL": 0,
         "AUG": 0,
         "SEP": 0,
         "AVERAGE_YEARLY_PRECIPITATION": 3.264545454545455,
         "YEAR": 2016,
         "LATITUDE": "38.573101",
         "LONGITUDE": "-122.440598",
         "COUNTY": "NAPA",
         "_deepnote_index_column": 9
        }
       ]
      },
      "text/plain": "     STATION_ID          STATION NAME   OCT   NOV   DEC   JAN    FEB   MAR  \\\n0           ALT            ALTURAS RS  0.29  1.48  2.68  0.48   0.25  0.32   \n1           ALT            ALTURAS RS  0.17  0.29  0.17  0.12   1.48  2.16   \n2           ALT            ALTURAS RS  1.45  0.93  2.13  0.11   1.02  0.53   \n3           ALT            ALTURAS RS  1.32  1.15  3.51  2.00   0.50  1.84   \n4           ALT            ALTURAS RS  1.47  0.53  1.75  2.50   2.95  1.18   \n...         ...                   ...   ...   ...   ...   ...    ...   ...   \n1663        NMQ    NEW MELONES DAM HQ  0.57  6.86  2.49  6.31  12.95  8.24   \n1664        NMQ    NEW MELONES DAM HQ  0.00  1.90  8.79  1.92   0.05  5.60   \n1665        NMQ    NEW MELONES DAM HQ  0.00  1.34  2.52  6.11   2.01  2.81   \n1666        NMQ    NEW MELONES DAM HQ  2.43  0.82  8.38  0.04    NaN   NaN   \n1667        SKR  SOUTH LAKE RESERVOIR  3.76  0.32  3.56  0.00    NaN   NaN   \n\n       APR   MAY   JUN   JUL   AUG   SEP  AVERAGE_YEARLY_PRECIPITATION  YEAR  \\\n0     1.44  1.58  0.36  0.00  0.72  0.51                      0.842500  2013   \n1     0.62  0.61  0.42  0.41  0.46  0.36                      0.605833  2014   \n2     0.55  2.60  0.59  1.17  0.27  0.36                      0.975833  2015   \n3     1.32  1.17  0.56  0.05  0.00  0.03                      1.120833  2016   \n4     1.51  0.19  1.16  0.82  0.53  0.31                      1.241667  2017   \n...    ...   ...   ...   ...   ...   ...                           ...   ...   \n1663  1.14  4.35  0.00  0.00  0.00  0.47                      3.615000  2019   \n1664  2.87  2.35  0.00  0.00  0.01  0.01                      1.958333  2020   \n1665  0.23  0.07  0.01  0.00  0.00  0.02                      1.260000  2021   \n1666   NaN   NaN   NaN   NaN   NaN   NaN                      2.917500  2022   \n1667   NaN   NaN   NaN   NaN   NaN   NaN                      1.910000  2022   \n\n       LATITUDE    LONGITUDE    COUNTY  \n0     41.500000  -120.550003     MODOC  \n1     41.500000  -120.550003     MODOC  \n2     41.500000  -120.550003     MODOC  \n3     41.500000  -120.550003     MODOC  \n4     41.500000  -120.550003     MODOC  \n...         ...          ...       ...  \n1663  38.000000  -120.489998  TUOLUMNE  \n1664  38.000000  -120.489998  TUOLUMNE  \n1665  38.000000  -120.489998  TUOLUMNE  \n1666  38.000000  -120.489998  TUOLUMNE  \n1667  33.115040  -117.165588      INYO  \n\n[1668 rows x 19 columns]",
      "text/html": "<div>\n<style scoped>\n    .dataframe tbody tr th:only-of-type {\n        vertical-align: middle;\n    }\n\n    .dataframe tbody tr th {\n        vertical-align: top;\n    }\n\n    .dataframe thead th {\n        text-align: right;\n    }\n</style>\n<table border=\"1\" class=\"dataframe\">\n  <thead>\n    <tr style=\"text-align: right;\">\n      <th></th>\n      <th>STATION_ID</th>\n      <th>STATION NAME</th>\n      <th>OCT</th>\n      <th>NOV</th>\n      <th>DEC</th>\n      <th>JAN</th>\n      <th>FEB</th>\n      <th>MAR</th>\n      <th>APR</th>\n      <th>MAY</th>\n      <th>JUN</th>\n      <th>JUL</th>\n      <th>AUG</th>\n      <th>SEP</th>\n      <th>AVERAGE_YEARLY_PRECIPITATION</th>\n      <th>YEAR</th>\n      <th>LATITUDE</th>\n      <th>LONGITUDE</th>\n      <th>COUNTY</th>\n    </tr>\n  </thead>\n  <tbody>\n    <tr>\n      <th>0</th>\n      <td>ALT</td>\n      <td>ALTURAS RS</td>\n      <td>0.29</td>\n      <td>1.48</td>\n      <td>2.68</td>\n      <td>0.48</td>\n      <td>0.25</td>\n      <td>0.32</td>\n      <td>1.44</td>\n      <td>1.58</td>\n      <td>0.36</td>\n      <td>0.00</td>\n      <td>0.72</td>\n      <td>0.51</td>\n      <td>0.842500</td>\n      <td>2013</td>\n      <td>41.500000</td>\n      <td>-120.550003</td>\n      <td>MODOC</td>\n    </tr>\n    <tr>\n      <th>1</th>\n      <td>ALT</td>\n      <td>ALTURAS RS</td>\n      <td>0.17</td>\n      <td>0.29</td>\n      <td>0.17</td>\n      <td>0.12</td>\n      <td>1.48</td>\n      <td>2.16</td>\n      <td>0.62</td>\n      <td>0.61</td>\n      <td>0.42</td>\n      <td>0.41</td>\n      <td>0.46</td>\n      <td>0.36</td>\n      <td>0.605833</td>\n      <td>2014</td>\n      <td>41.500000</td>\n      <td>-120.550003</td>\n      <td>MODOC</td>\n    </tr>\n    <tr>\n      <th>2</th>\n      <td>ALT</td>\n      <td>ALTURAS RS</td>\n      <td>1.45</td>\n      <td>0.93</td>\n      <td>2.13</td>\n      <td>0.11</td>\n      <td>1.02</td>\n      <td>0.53</td>\n      <td>0.55</td>\n      <td>2.60</td>\n      <td>0.59</td>\n      <td>1.17</td>\n      <td>0.27</td>\n      <td>0.36</td>\n      <td>0.975833</td>\n      <td>2015</td>\n      <td>41.500000</td>\n      <td>-120.550003</td>\n      <td>MODOC</td>\n    </tr>\n    <tr>\n      <th>3</th>\n      <td>ALT</td>\n      <td>ALTURAS RS</td>\n      <td>1.32</td>\n      <td>1.15</td>\n      <td>3.51</td>\n      <td>2.00</td>\n      <td>0.50</td>\n      <td>1.84</td>\n      <td>1.32</td>\n      <td>1.17</td>\n      <td>0.56</td>\n      <td>0.05</td>\n      <td>0.00</td>\n      <td>0.03</td>\n      <td>1.120833</td>\n      <td>2016</td>\n      <td>41.500000</td>\n      <td>-120.550003</td>\n      <td>MODOC</td>\n    </tr>\n    <tr>\n      <th>4</th>\n      <td>ALT</td>\n      <td>ALTURAS RS</td>\n      <td>1.47</td>\n      <td>0.53</td>\n      <td>1.75</td>\n      <td>2.50</td>\n      <td>2.95</td>\n      <td>1.18</td>\n      <td>1.51</td>\n      <td>0.19</td>\n      <td>1.16</td>\n      <td>0.82</td>\n      <td>0.53</td>\n      <td>0.31</td>\n      <td>1.241667</td>\n      <td>2017</td>\n      <td>41.500000</td>\n      <td>-120.550003</td>\n      <td>MODOC</td>\n    </tr>\n    <tr>\n      <th>...</th>\n      <td>...</td>\n      <td>...</td>\n      <td>...</td>\n      <td>...</td>\n      <td>...</td>\n      <td>...</td>\n      <td>...</td>\n      <td>...</td>\n      <td>...</td>\n      <td>...</td>\n      <td>...</td>\n      <td>...</td>\n      <td>...</td>\n      <td>...</td>\n      <td>...</td>\n      <td>...</td>\n      <td>...</td>\n      <td>...</td>\n      <td>...</td>\n    </tr>\n    <tr>\n      <th>1663</th>\n      <td>NMQ</td>\n      <td>NEW MELONES DAM HQ</td>\n      <td>0.57</td>\n      <td>6.86</td>\n      <td>2.49</td>\n      <td>6.31</td>\n      <td>12.95</td>\n      <td>8.24</td>\n      <td>1.14</td>\n      <td>4.35</td>\n      <td>0.00</td>\n      <td>0.00</td>\n      <td>0.00</td>\n      <td>0.47</td>\n      <td>3.615000</td>\n      <td>2019</td>\n      <td>38.000000</td>\n      <td>-120.489998</td>\n      <td>TUOLUMNE</td>\n    </tr>\n    <tr>\n      <th>1664</th>\n      <td>NMQ</td>\n      <td>NEW MELONES DAM HQ</td>\n      <td>0.00</td>\n      <td>1.90</td>\n      <td>8.79</td>\n      <td>1.92</td>\n      <td>0.05</td>\n      <td>5.60</td>\n      <td>2.87</td>\n      <td>2.35</td>\n      <td>0.00</td>\n      <td>0.00</td>\n      <td>0.01</td>\n      <td>0.01</td>\n      <td>1.958333</td>\n      <td>2020</td>\n      <td>38.000000</td>\n      <td>-120.489998</td>\n      <td>TUOLUMNE</td>\n    </tr>\n    <tr>\n      <th>1665</th>\n      <td>NMQ</td>\n      <td>NEW MELONES DAM HQ</td>\n      <td>0.00</td>\n      <td>1.34</td>\n      <td>2.52</td>\n      <td>6.11</td>\n      <td>2.01</td>\n      <td>2.81</td>\n      <td>0.23</td>\n      <td>0.07</td>\n      <td>0.01</td>\n      <td>0.00</td>\n      <td>0.00</td>\n      <td>0.02</td>\n      <td>1.260000</td>\n      <td>2021</td>\n      <td>38.000000</td>\n      <td>-120.489998</td>\n      <td>TUOLUMNE</td>\n    </tr>\n    <tr>\n      <th>1666</th>\n      <td>NMQ</td>\n      <td>NEW MELONES DAM HQ</td>\n      <td>2.43</td>\n      <td>0.82</td>\n      <td>8.38</td>\n      <td>0.04</td>\n      <td>NaN</td>\n      <td>NaN</td>\n      <td>NaN</td>\n      <td>NaN</td>\n      <td>NaN</td>\n      <td>NaN</td>\n      <td>NaN</td>\n      <td>NaN</td>\n      <td>2.917500</td>\n      <td>2022</td>\n      <td>38.000000</td>\n      <td>-120.489998</td>\n      <td>TUOLUMNE</td>\n    </tr>\n    <tr>\n      <th>1667</th>\n      <td>SKR</td>\n      <td>SOUTH LAKE RESERVOIR</td>\n      <td>3.76</td>\n      <td>0.32</td>\n      <td>3.56</td>\n      <td>0.00</td>\n      <td>NaN</td>\n      <td>NaN</td>\n      <td>NaN</td>\n      <td>NaN</td>\n      <td>NaN</td>\n      <td>NaN</td>\n      <td>NaN</td>\n      <td>NaN</td>\n      <td>1.910000</td>\n      <td>2022</td>\n      <td>33.115040</td>\n      <td>-117.165588</td>\n      <td>INYO</td>\n    </tr>\n  </tbody>\n</table>\n<p>1668 rows × 19 columns</p>\n</div>"
     },
     "metadata": {}
    }
   ]
  },
  {
   "cell_type": "code",
   "metadata": {
    "cell_id": "b1a40318-db1d-46ae-940b-613b757a8f83",
    "tags": [],
    "deepnote_cell_type": "code",
    "deepnote_cell_height": 66
   },
   "source": "",
   "execution_count": null,
   "outputs": []
  },
  {
   "cell_type": "markdown",
   "source": "### The below are functions that were then transformed into methids of a class and do not need to be created any more",
   "metadata": {
    "cell_id": "bb3c71aa-774f-441b-8e3c-abfd92c7defc",
    "tags": [],
    "deepnote_cell_type": "markdown",
    "deepnote_cell_height": 94
   }
  },
  {
   "cell_type": "markdown",
   "source": "### SECTION 1 Scrape Precipitation data from daily reporting stations\n- Web scraping with BeautifulSoup4 \n- The trick is to understanding the HTML structure to rerieve the rows of data\n- Data is retieved from the daily reporting site\n-  We scrape the data at weekly level",
   "metadata": {
    "cell_id": "00002-e0ae0e92-e4a5-4aa9-9f29-4d627e8faea2",
    "deepnote_cell_type": "markdown",
    "deepnote_cell_height": 190.578125
   }
  },
  {
   "cell_type": "code",
   "metadata": {
    "cell_id": "00003-30451161-36b8-4a66-ae2b-47dec6f4c3ff",
    "deepnote_to_be_reexecuted": false,
    "source_hash": "5ccef0e2",
    "execution_start": 1647453988625,
    "execution_millis": 7,
    "deepnote_cell_type": "code",
    "deepnote_cell_height": 963
   },
   "source": "def scrape_monthly_precipitation_data(year_start, year_end):\n    \"\"\"\n        This function loops through a set of years in a list\n        It creates URLS at yearly level for precipitation In each URL, the data is at monthly level\n        It creates one dataframe containing precipitation data at monthly level for years for which we have data\n    \"\"\"\n    \n    all_years_precipitation_data = pd.DataFrame()\n    for curr_year in range(year_start,year_end + 1):\n    \n        url=f\"https://cdec.water.ca.gov/reportapp/javareports?name=PRECIPMON.{curr_year}\"\n\n        # Make a GET request to fetch the raw HTML content\n        html_content = requests.get(url).text\n\n        # Parse the html content\n        soup = BeautifulSoup(html_content, \"lxml\")\n\n        precipitation_table = soup.find(\"table\", attrs={\"id\":\"data\", \"class\": \"data\"})\n      \n        if precipitation_table is None:\n                continue\n        \n        precipitation_table_header = precipitation_table.thead.find_all(\"th\")  \n        precipitation_table_header = [th.text for th in precipitation_table_header]\n        precipitation_table_header = precipitation_table_header[1:]\n        precipitation_table_rows = precipitation_table.find_all('tr')\n        all_rows_list = []\n        for eachTableRow in precipitation_table_rows:\n            this_row = []\n            for td in eachTableRow.find_all(\"td\"):\n                this_row.append(td.text.strip())\n\n            if this_row and len(this_row) > 1:\n                all_rows_list.append(this_row)\n\n        data_table = pd.DataFrame(all_rows_list )\n        data_table.columns = precipitation_table_header\n        for col in ['OCT', 'NOV', 'DEC', 'JAN', 'FEB', 'MAR','APR', 'MAY', 'JUN', 'JUL', 'AUG', 'SEP']:\n            data_table[col] = pd.to_numeric(data_table[col], errors='coerce')\n        data_table['AVERAGE_YEARLY_PRECIPITATION'] =  data_table[ ['OCT', 'NOV', 'DEC', 'JAN', 'FEB', 'MAR','APR', 'MAY', 'JUN', 'JUL', 'AUG', 'SEP']].mean(axis='columns')\n        data_table['YEAR'] = curr_year\n        data_table.rename(columns = {'STATION ID':'STATION_ID'}, inplace=True)\n      \n        if all_years_precipitation_data.empty:\n                all_years_precipitation_data = data_table \n        else:\n                all_years_precipitation_data  = all_years_precipitation_data.append(data_table)\n    return all_years_precipitation_data\n",
   "execution_count": null,
   "outputs": []
  },
  {
   "cell_type": "markdown",
   "source": "### Get Monthly Precipitation Reporting Station locations using webscraping",
   "metadata": {
    "cell_id": "00006-00fc94cf-9f2f-4777-a779-002a88386481",
    "deepnote_cell_type": "markdown",
    "deepnote_cell_height": 94
   }
  },
  {
   "cell_type": "code",
   "metadata": {
    "cell_id": "00007-71934d06-e942-4609-9c45-be981f7bcdb6",
    "deepnote_to_be_reexecuted": false,
    "source_hash": "8f81ac97",
    "execution_start": 1647454323896,
    "execution_millis": 1,
    "deepnote_cell_type": "code",
    "deepnote_cell_height": 675
   },
   "source": "def get_precipitation_station_data(level):\n    \n    if level == 'daily':\n        url=f\"https://cdec.water.ca.gov/reportapp/javareports?name=DailyStations\"\n    else:\n        url=  \"https://cdec.water.ca.gov/reportapp/javareports?name=MonthlyPrecip\"\n\n\n    # Make a GET request to fetch the raw HTML content\n    html_content = requests.get(url).text\n\n    # Parse the html content\n    soup = BeautifulSoup(html_content, \"lxml\")\n\n    if level == 'daily':\n            station_table = soup.find(\"table\", attrs={\"id\":\"DLY_STNLIST\", \"class\": \"data\"})\n    else:\n            station_table = soup.find(\"table\", attrs={\"id\":\"REALPRECIP_LIST\", \"class\": \"data\"})\n\n    all_rows_list = []\n    for eachRow in station_table.find_all(\"tr\"):\n        this_row = []\n        for  td in eachRow.find_all(\"td\"):\n            this_row.append(td.text.strip())\n\n        if this_row and len(this_row) > 1:\n             all_rows_list.append(this_row)\n    station_table = pd.DataFrame(all_rows_list )\n    station_table.columns = station_table.iloc[0,:]\n    station_table =  station_table.iloc[2:,:].copy()\n    station_table.rename(columns={'ID':'STATION_ID'}, inplace=True)\n    station_table.drop(columns=['ELEV(FEET)'], inplace = True)\n    return station_table\n",
   "execution_count": null,
   "outputs": []
  },
  {
   "cell_type": "code",
   "metadata": {
    "cell_id": "00008-f2b3e0bd-4357-48cf-aed5-ed5e851e3990",
    "deepnote_to_be_reexecuted": false,
    "source_hash": "6a9d452e",
    "execution_start": 1647454491547,
    "execution_millis": 1,
    "deepnote_cell_type": "code",
    "deepnote_cell_height": 351
   },
   "source": "def retrieve_merge_precipitation_stations(): \n    all_years_precipitation_data = scrape_monthly_precipitation_data(2013, 2022) #1767\n\n\n    daily_station_table = get_precipitation_station_data('daily')\n    monthly_station_table = get_precipitation_station_data('monthly')\n\n    full_station_table = daily_station_table.append(monthly_station_table)\n    group_full_station_count_df = full_station_table.groupby(['STATION', 'STATION_ID','LATITUDE', 'LONGITUDE', 'COUNTY' ]).agg(count_latitude=('LATITUDE', 'count')).reset_index()\n    #Making sure we do not have duplicates\n    #group_full_station_count_df[group_full_station_count_df.station_id.str.contains('ASM|ATW|BFK|BAL|YSV')]\n    group_full_station_count_df.drop(columns=['count_latitude'], inplace=True)\n\n    all_years_precipitation_station = all_years_precipitation_data.merge(group_full_station_count_df, how='inner', left_on='STATION_ID', right_on='STATION_ID')\n    all_years_precipitation_station.drop(columns=[ 'STATION'], inplace=True)\n    return all_years_precipitation_station",
   "execution_count": null,
   "outputs": []
  },
  {
   "cell_type": "code",
   "metadata": {
    "cell_id": "00009-ddb2e893-378c-47a7-b32d-86cf0ed4cfb0",
    "deepnote_cell_type": "code",
    "deepnote_cell_height": 138
   },
   "source": "#list(set(all_years_precipitation_data.station_id) - set(monthly_station_table.station_id))\n#list(set(all_years_precipitation_data.station_id) - set(full_station_table.station_id))\n# There are stations not found on the site either ['MTP', 'CHL', 'LSB', 'HRR', 'GNV', 'LGB', 'LYT']\n# all_years_precipitation_station = all_years_precipitation_data.merge(monthly_station_table, how='left', left_on='STATION_ID', right_on='STATION_ID', indicator=True)\n# all_years_precipitation_station[all_years_precipitation_station['_merge']  != 'both'].station_id.unique()",
   "execution_count": null,
   "outputs": []
  },
  {
   "cell_type": "code",
   "metadata": {
    "cell_id": "f8b7fa58-a052-42a5-be3e-a19436f10fdc",
    "tags": [],
    "deepnote_to_be_reexecuted": false,
    "source_hash": "86d189b",
    "execution_start": 1647455518083,
    "execution_millis": 2,
    "deepnote_cell_type": "code",
    "deepnote_cell_height": 81
   },
   "source": "#all_years_precipitation_station.describe()",
   "execution_count": null,
   "outputs": []
  },
  {
   "cell_type": "code",
   "metadata": {
    "cell_id": "00010-51849a11-cea0-461d-8253-e48d8987ecae",
    "deepnote_to_be_reexecuted": false,
    "source_hash": "80d59a56",
    "execution_start": 1647455529817,
    "execution_millis": 26,
    "deepnote_cell_type": "code",
    "deepnote_cell_height": 99
   },
   "source": "def save_precipitation_data(all_years_precipitation_station):\n    all_years_precipitation_station.to_csv(r\"/work/milestone2_waterwells_deepnote/assets/inputs/precipitation/precipitation_stations.csv\", index=False)",
   "execution_count": null,
   "outputs": []
  },
  {
   "cell_type": "code",
   "metadata": {
    "cell_id": "00011-77111b7c-9deb-4f3d-9ca1-a154ae02030a",
    "deepnote_to_be_reexecuted": false,
    "source_hash": "cbaa8445",
    "execution_start": 1647455532364,
    "execution_millis": 75,
    "deepnote_cell_type": "code",
    "deepnote_cell_height": 81
   },
   "source": "save_precipitation_data(all_years_precipitation_station)",
   "execution_count": null,
   "outputs": []
  },
  {
   "cell_type": "code",
   "metadata": {
    "cell_id": "00012-2a89950a-cddc-4af2-a8ff-ac36ef69f9de",
    "deepnote_cell_type": "code",
    "deepnote_cell_height": 66
   },
   "source": "",
   "execution_count": null,
   "outputs": []
  },
  {
   "cell_type": "markdown",
   "source": "<a style='text-decoration:none;line-height:16px;display:flex;color:#5B5B62;padding:10px;justify-content:end;' href='https://deepnote.com?utm_source=created-in-deepnote-cell&projectId=b042e2da-6536-449d-95b8-d85fa08825de' target=\"_blank\">\n<img alt='Created in deepnote.com' style='display:inline;max-height:16px;margin:0px;margin-right:7.5px;' src='data:image/svg+xml;base64,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' > </img>\nCreated in <span style='font-weight:600;margin-left:4px;'>Deepnote</span></a>",
   "metadata": {
    "tags": [],
    "created_in_deepnote_cell": true,
    "deepnote_cell_type": "markdown"
   }
  }
 ],
 "nbformat": 4,
 "nbformat_minor": 5,
 "metadata": {
  "kernelspec": {
   "display_name": "geo_env",
   "language": "python",
   "name": "geo_env"
  },
  "language_info": {
   "codemirror_mode": {
    "name": "ipython",
    "version": 3
   },
   "file_extension": ".py",
   "mimetype": "text/x-python",
   "name": "python",
   "nbconvert_exporter": "python",
   "pygments_lexer": "ipython3",
   "version": "3.10.2"
  },
  "deepnote_notebook_id": "24a8cb1f-14c4-4e46-8e52-6385c9b447a7",
  "deepnote": {},
  "deepnote_execution_queue": []
 }
}