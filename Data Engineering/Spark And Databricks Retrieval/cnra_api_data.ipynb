{
 "cells": [
  {
   "cell_type": "code",
   "metadata": {
    "tags": [],
    "cell_id": "01ed699e-6d08-4f91-a20d-8659bee45ac7",
    "deepnote_to_be_reexecuted": false,
    "source_hash": "254e433a",
    "execution_start": 1644979231745,
    "execution_millis": 3404,
    "deepnote_cell_type": "code"
   },
   "source": "import json\n\nimport pandas as pd\nimport numpy as np\nimport seaborn as sns\nimport requests\nfrom pyspark.sql import Row\n\nfrom matplotlib import pyplot as plt\nfrom urllib.request import urlretrieve\nfrom collections import defaultdict",
   "execution_count": null,
   "outputs": []
  },
  {
   "cell_type": "markdown",
   "source": "## Gather data using API\n\n[Note: The data was collected in Databricks and downloaded to a VM and then uploaded to Deepnote]\n\n\nData sources provide API Data retrieved in Databricks both as pandas dataftame and Spark dataframe convverted to CSV.\nIn the case of Spark files, the parquet files were coalesced into one file and saved into the CSV\nSOURCE LINKS\n- https://data.cnra.ca.gov/dataset/well-completion-reports\n- https://data.ca.gov/dataset/household-water-supply-shortage-reporting-system-data\n- https://data.cnra.ca.gov/dataset/periodic-groundwater-level-measurements\n\n##### DATABRICKS AND DEEPNOTE\n- The data was read using API calls from CNRA well water pages. The page links have an option for Data API with exmaple usage. The query strings were used in the request call in Python\n- On an average about 5000 records were retrieved and the rest in chunks and placed into an extending list. At this point we have two options. We can convert the entire list to a dataframe and save as CSV in Databricks or Deepnote and use it OR the list can be converted, row by row into spark dataframe and saved as CSV.\n- Pandas dataframe saved as CSV should be read back as Pandas DF.\n- Spark dataframe saved as CSV should be read back as Spark dataframe or else you will encounter read error\n- Dockerfile and init.py are set in Deepnote so that Spark can be used.",
   "metadata": {
    "cell_id": "9ed0c14f-d505-4d57-bbad-bb26c052091b",
    "tags": [],
    "deepnote_cell_type": "markdown"
   }
  },
  {
   "cell_type": "markdown",
   "source": "### Get Shortage Data",
   "metadata": {
    "cell_id": "47b47851-2424-496c-ba4d-cdace446f194",
    "tags": [],
    "is_collapsed": false,
    "deepnote_cell_type": "text-cell-h3"
   }
  },
  {
   "cell_type": "code",
   "metadata": {
    "cell_id": "546bf581-e204-4050-8df6-2523bdce171a",
    "tags": [],
    "deepnote_to_be_reexecuted": false,
    "source_hash": "da2c7f08",
    "execution_start": 1644979223774,
    "execution_millis": 13,
    "deepnote_cell_type": "code"
   },
   "source": "api_retrieve = requests.get('https://data.cnra.ca.gov/api/3/action/datastore_search?resource_id=e1fd9f48-a613-4567-8042-3d2e064d77c8&limit=9000').json()\n#Create a list of records\ndata_shortage = api_retrieve['result']['records']\npd_df_shortage = pd.DataFrame(data_shortage)\n\n#Save as CSV if not present\npd_df_shortage.to_csv('/dbfs/FileStore/shortage.csv')\n\n",
   "execution_count": null,
   "outputs": [
    {
     "output_type": "error",
     "ename": "NameError",
     "evalue": "name 'requests' is not defined",
     "traceback": [
      "\u001b[0;31m---------------------------------------------------------------------------\u001b[0m",
      "\u001b[0;31mNameError\u001b[0m                                 Traceback (most recent call last)",
      "\u001b[0;32m<ipython-input-2-e69f9cd235b9>\u001b[0m in \u001b[0;36m<module>\u001b[0;34m\u001b[0m\n\u001b[0;32m----> 1\u001b[0;31m \u001b[0mapi_retrieve\u001b[0m \u001b[0;34m=\u001b[0m \u001b[0mrequests\u001b[0m\u001b[0;34m.\u001b[0m\u001b[0mget\u001b[0m\u001b[0;34m(\u001b[0m\u001b[0;34m'https://data.cnra.ca.gov/api/3/action/datastore_search?resource_id=e1fd9f48-a613-4567-8042-3d2e064d77c8&limit=9000'\u001b[0m\u001b[0;34m)\u001b[0m\u001b[0;34m.\u001b[0m\u001b[0mjson\u001b[0m\u001b[0;34m(\u001b[0m\u001b[0;34m)\u001b[0m\u001b[0;34m\u001b[0m\u001b[0;34m\u001b[0m\u001b[0m\n\u001b[0m\u001b[1;32m      2\u001b[0m \u001b[0;31m#Create a list of records\u001b[0m\u001b[0;34m\u001b[0m\u001b[0;34m\u001b[0m\u001b[0;34m\u001b[0m\u001b[0m\n\u001b[1;32m      3\u001b[0m \u001b[0mdata_shortage\u001b[0m \u001b[0;34m=\u001b[0m \u001b[0mapi_retrieve\u001b[0m\u001b[0;34m[\u001b[0m\u001b[0;34m'result'\u001b[0m\u001b[0;34m]\u001b[0m\u001b[0;34m[\u001b[0m\u001b[0;34m'records'\u001b[0m\u001b[0;34m]\u001b[0m\u001b[0;34m\u001b[0m\u001b[0;34m\u001b[0m\u001b[0m\n\u001b[1;32m      4\u001b[0m \u001b[0mpd_df_shortage\u001b[0m \u001b[0;34m=\u001b[0m \u001b[0mpd\u001b[0m\u001b[0;34m.\u001b[0m\u001b[0mDataFrame\u001b[0m\u001b[0;34m(\u001b[0m\u001b[0mdata_shortage\u001b[0m\u001b[0;34m)\u001b[0m\u001b[0;34m\u001b[0m\u001b[0;34m\u001b[0m\u001b[0m\n\u001b[1;32m      5\u001b[0m \u001b[0;34m\u001b[0m\u001b[0m\n",
      "\u001b[0;31mNameError\u001b[0m: name 'requests' is not defined"
     ]
    }
   ]
  },
  {
   "cell_type": "code",
   "metadata": {
    "cell_id": "a020e837-a71f-462b-82c2-ce890816b694",
    "tags": [],
    "deepnote_to_be_reexecuted": false,
    "source_hash": "ea5fd803",
    "execution_start": 1644977387580,
    "execution_millis": 2,
    "deepnote_output_heights": [
     21.1875
    ],
    "deepnote_cell_type": "code"
   },
   "source": "len(pd_df_shortage)",
   "execution_count": null,
   "outputs": [
    {
     "output_type": "execute_result",
     "execution_count": 4,
     "data": {
      "text/plain": "3774"
     },
     "metadata": {}
    }
   ]
  },
  {
   "cell_type": "markdown",
   "source": "### Get Well Completion Data",
   "metadata": {
    "cell_id": "9b5ea1d4-e0cd-4e5d-a360-28ef51c99f9e",
    "tags": [],
    "is_collapsed": false,
    "deepnote_cell_type": "text-cell-h3"
   }
  },
  {
   "cell_type": "code",
   "metadata": {
    "cell_id": "ed599afb-19ac-4f2d-a732-4513a862445b",
    "tags": [],
    "deepnote_to_be_reexecuted": false,
    "source_hash": "7553256f",
    "execution_start": 1644977593560,
    "deepnote_cell_type": "code"
   },
   "source": "#Create a list of records\n\nwell_completion_api = requests.get('https://data.cnra.ca.gov/api/3/action/datastore_search?resource_id=8da7b93b-4e69-495d-9caa-335691a1896b&limit=3200').json()\nlist_data_completion = well_completion_api['result']['records']\n\nwhile well_completion_api['result']['records']:\n    well_completion_api = requests.get('https://data.cnra.ca.gov'+well_completion_api['result']['_links'][\"next\"]).json()\n    list_data_completion.extend(well_completion_api['result']['records'])\n\npd_df_wellcompletion = pd.DataFrame(list_data_completion)",
   "execution_count": null,
   "outputs": [
    {
     "output_type": "error",
     "ename": "KernelInterrupted",
     "evalue": "Execution interrupted by the Jupyter kernel.",
     "traceback": [
      "\u001b[0;31m---------------------------------------------------------------------------\u001b[0m",
      "\u001b[0;31mKernelInterrupted\u001b[0m: Execution interrupted by the Jupyter kernel."
     ]
    }
   ]
  },
  {
   "cell_type": "markdown",
   "source": "### ",
   "metadata": {
    "cell_id": "83408142-4f55-4b16-aee3-65db6fcaef6f",
    "tags": [],
    "is_collapsed": false,
    "deepnote_cell_type": "text-cell-h3"
   }
  },
  {
   "cell_type": "markdown",
   "source": "### Get Station Data",
   "metadata": {
    "cell_id": "8dcc665d-607c-4d2c-8a78-4a0c87317fab",
    "tags": [],
    "deepnote_cell_type": "markdown"
   }
  },
  {
   "cell_type": "code",
   "metadata": {
    "cell_id": "2b985ecd-67de-40a2-bbb2-5bed15221c1b",
    "tags": [],
    "deepnote_to_be_reexecuted": false,
    "source_hash": "e49e8631",
    "execution_start": 1644979243147,
    "execution_millis": 840,
    "deepnote_cell_type": "code"
   },
   "source": "#Create a list of records\n\nstation_api = requests.get('https://data.cnra.ca.gov/api/3/action/datastore_search?resource_id=8da7b93b-4e69-495d-9caa-335691a1896b&limit=3200').json()\nlist_data_station = station_api['result']['records']\n\nwhile station_api['result']['records']:\n    station_api = requests.get('https://data.cnra.ca.gov'+station_api['result']['_links'][\"next\"]).json()\n    list_data_station.extend(station_api['result']['records'])\n\npd_df_station = pd.DataFrame(list_data_station)",
   "execution_count": null,
   "outputs": [
    {
     "output_type": "error",
     "ename": "KernelInterrupted",
     "evalue": "Execution interrupted by the Jupyter kernel.",
     "traceback": [
      "\u001b[0;31m---------------------------------------------------------------------------\u001b[0m",
      "\u001b[0;31mKernelInterrupted\u001b[0m: Execution interrupted by the Jupyter kernel."
     ]
    }
   ]
  },
  {
   "cell_type": "code",
   "metadata": {
    "cell_id": "d753d042-8841-4e3f-bf18-4ee50f71c76a",
    "tags": [],
    "deepnote_cell_type": "code"
   },
   "source": "pd_df_station.sample(10)",
   "execution_count": null,
   "outputs": []
  },
  {
   "cell_type": "markdown",
   "source": "### Get groundwater data",
   "metadata": {
    "cell_id": "770c5265-82a7-4e8e-938a-7c2beac712d4",
    "tags": [],
    "deepnote_cell_type": "markdown"
   }
  },
  {
   "cell_type": "code",
   "metadata": {
    "cell_id": "b40c62d4-0800-4f03-b607-886c5df15d73",
    "tags": [],
    "deepnote_cell_type": "code"
   },
   "source": "#Create a list of records\n\ngroundwater_request_api = requests.get('https://data.cnra.ca.gov/api/3/action/datastore_search?resource_id=bfa9f262-24a1-45bd-8dc8-138bc8107266&limit=4000').json()\nlist_data_groundwater = groundwater_request_api['result']['records']\nwhile groundwater_request_api['result']['records']:\n    groundwater_request_api = requests.get('https://data.cnra.ca.gov'+groundwater_request_api['result']['_links'][\"next\"]).json()\n    list_data_groundwater.extend(groundwater_request_api['result']['records'])\n    \ndf_groundwater = spark.createDataFrame(Row(**row) for row in list_data_groundwater)\ndf_groundwater.coalesce(1).write.format(\"com.databricks.spark.csv\").option(\"header\", \"true\").save(\"dbfs:/FileStore/WaterWell/groundwater.csv\")    ",
   "execution_count": null,
   "outputs": []
  },
  {
   "cell_type": "markdown",
   "source": "<a style='text-decoration:none;line-height:16px;display:flex;color:#5B5B62;padding:10px;justify-content:end;' href='https://deepnote.com?utm_source=created-in-deepnote-cell&projectId=b042e2da-6536-449d-95b8-d85fa08825de' target=\"_blank\">\n<img alt='Created in deepnote.com' style='display:inline;max-height:16px;margin:0px;margin-right:7.5px;' src='data:image/svg+xml;base64,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' > </img>\nCreated in <span style='font-weight:600;margin-left:4px;'>Deepnote</span></a>",
   "metadata": {
    "tags": [],
    "created_in_deepnote_cell": true,
    "deepnote_cell_type": "markdown"
   }
  }
 ],
 "nbformat": 4,
 "nbformat_minor": 2,
 "metadata": {
  "orig_nbformat": 2,
  "deepnote": {
   "is_reactive": false
  },
  "deepnote_notebook_id": "6a5a9ba5-9cbd-4706-9133-8fdc27a72940",
  "deepnote_execution_queue": []
 }
}