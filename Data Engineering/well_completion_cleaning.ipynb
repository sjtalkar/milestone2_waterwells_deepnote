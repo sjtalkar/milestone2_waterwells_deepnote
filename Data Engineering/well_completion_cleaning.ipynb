{
 "cells": [
  {
   "cell_type": "markdown",
   "source": "# California Well Completion Reports Datasets\n\nRelated links:\n* For the documentation about this dataset, its source, how to download, and the features of interest, please refer to our [Well Completion Reports Dataset](/doc/assets/well_completion_reports.md) documentation\n",
   "metadata": {
    "cell_id": "a6949397-cb85-4567-87be-8bf9de1e766c",
    "deepnote_cell_type": "markdown",
    "deepnote_cell_height": 193.1875
   }
  },
  {
   "cell_type": "code",
   "metadata": {
    "cell_id": "6ffe3af5-83e7-4e8c-a6ee-edeb4c859552",
    "tags": [],
    "deepnote_to_be_reexecuted": false,
    "source_hash": "6b02eb0a",
    "execution_start": 1647818487871,
    "execution_millis": 12,
    "deepnote_cell_type": "code",
    "deepnote_cell_height": 117
   },
   "source": "import sys\nsys.path.append('..')\n",
   "outputs": [],
   "execution_count": null
  },
  {
   "cell_type": "code",
   "metadata": {
    "cell_id": "ea8a3361-58c1-427a-959b-f96412a76a12",
    "tags": [],
    "deepnote_to_be_reexecuted": false,
    "source_hash": "7d3b5452",
    "execution_start": 1647818489450,
    "execution_millis": 2564,
    "deepnote_cell_type": "code",
    "deepnote_cell_height": 136.796875
   },
   "source": "from lib.wellcompletionreports import WellCompletionReportsDataset",
   "outputs": [
    {
     "name": "stderr",
     "text": "/shared-libs/python3.9/py/lib/python3.9/site-packages/geopandas/_compat.py:111: UserWarning: The Shapely GEOS version (3.10.2-CAPI-1.16.0) is incompatible with the GEOS version PyGEOS was compiled with (3.10.1-CAPI-1.16.0). Conversions between both will be slow.\n  warnings.warn(\n",
     "output_type": "stream"
    }
   ],
   "execution_count": null
  },
  {
   "cell_type": "code",
   "metadata": {
    "cell_id": "40d9bb27-2cbb-429c-909a-d2af4a71db1f",
    "deepnote_to_be_reexecuted": false,
    "source_hash": "702b7b30",
    "execution_start": 1647726171002,
    "execution_millis": 2,
    "deepnote_cell_type": "code",
    "deepnote_cell_height": 351
   },
   "source": "import os\n\nimport warnings\nwarnings.simplefilter(action='ignore', category=FutureWarning)\n\nimport json\nimport requests\nimport pandas as pd\nimport numpy as np\nfrom datetime import datetime\nimport geopandas as gpd\nimport pygeos\n\nimport altair as alt\n\n",
   "execution_count": null,
   "outputs": []
  },
  {
   "cell_type": "code",
   "metadata": {
    "cell_id": "00003-ff5c1504-ddb0-43d2-8d47-e8a3098eef57",
    "deepnote_to_be_reexecuted": false,
    "source_hash": "290ca995",
    "execution_start": 1647726171012,
    "execution_millis": 14289,
    "deepnote_cell_type": "code",
    "deepnote_cell_height": 172.796875
   },
   "source": "#This will be stored in the class\nwcr_instance = WellCompletionReportsDataset()\n",
   "execution_count": null,
   "outputs": [
    {
     "name": "stderr",
     "text": "/work/milestone2_waterwells_deepnote/Data Engineering/../lib/wellcompletionreports.py:31: DtypeWarning: Columns (1,6,31) have mixed types. Specify dtype option on import or set low_memory=False.\n  return pd.read_csv(input_datafile)\n",
     "output_type": "stream"
    }
   ]
  },
  {
   "cell_type": "code",
   "metadata": {
    "cell_id": "2b819b74-00c9-4a8e-81d8-c6ec40ca8ebd",
    "tags": [],
    "deepnote_to_be_reexecuted": false,
    "source_hash": "28231412",
    "execution_start": 1647726185364,
    "execution_millis": 32078,
    "deepnote_cell_type": "code",
    "deepnote_cell_height": 614.796875
   },
   "source": "wcr_instance.clean_well_completion_reports()",
   "execution_count": null,
   "outputs": [
    {
     "output_type": "execute_result",
     "execution_count": 5,
     "data": {
      "application/vnd.deepnote.dataframe.v3+json": {
       "column_count": 24,
       "row_count": 451264,
       "columns": [
        {
         "name": "LATITUDE",
         "dtype": "float64"
        },
        {
         "name": "LONGITUDE",
         "dtype": "float64"
        },
        {
         "name": "TOWNSHIP",
         "dtype": "object"
        },
        {
         "name": "RANGE",
         "dtype": "object"
        },
        {
         "name": "SECTION",
         "dtype": "object"
        },
        {
         "name": "WELLLOCATION",
         "dtype": "object"
        },
        {
         "name": "CITY",
         "dtype": "object"
        },
        {
         "name": "COUNTY",
         "dtype": "object"
        },
        {
         "name": "BOTTOMOFPERFORATEDINTERVAL",
         "dtype": "float64"
        },
        {
         "name": "TOPOFPERFORATEDINTERVAL",
         "dtype": "float64"
        },
        {
         "name": "GROUNDSURFACEELEVATION",
         "dtype": "float64"
        },
        {
         "name": "STATICWATERLEVEL",
         "dtype": "float64"
        },
        {
         "name": "RECORDTYPE",
         "dtype": "object"
        },
        {
         "name": "USE",
         "dtype": "object"
        },
        {
         "name": "WCRNUMBER",
         "dtype": "object"
        },
        {
         "name": "TOTALDRILLDEPTH",
         "dtype": "float64"
        },
        {
         "name": "TOTALCOMPLETEDDEPTH",
         "dtype": "float64"
        },
        {
         "name": "DATEWORKENDED",
         "dtype": "datetime64[ns]"
        },
        {
         "name": "WELLYIELD",
         "dtype": "float64"
        },
        {
         "name": "WELLYIELDUNITOFMEASURE",
         "dtype": "object"
        },
        {
         "name": "TOTALCOMPLETEDDEPTH_CORRECTED",
         "dtype": "float64"
        },
        {
         "name": "DATEWORKENDED_CORRECTED",
         "dtype": "datetime64[ns]"
        },
        {
         "name": "YEARWORKENDED",
         "dtype": "float64"
        },
        {
         "name": "MONTHWORKENDED",
         "dtype": "float64"
        },
        {
         "name": "_deepnote_index_column",
         "dtype": "int64"
        }
       ],
       "rows": [
        {
         "LATITUDE": 37.4315,
         "LONGITUDE": -122.08,
         "TOWNSHIP": "06S",
         "RANGE": "02W",
         "SECTION": "09",
         "WELLLOCATION": "22148 Eden Canyon RD",
         "CITY": "Castro Valley",
         "COUNTY": "Alameda",
         "BOTTOMOFPERFORATEDINTERVAL": 840,
         "TOPOFPERFORATEDINTERVAL": 600,
         "GROUNDSURFACEELEVATION": "nan",
         "STATICWATERLEVEL": 600,
         "RECORDTYPE": "WellCompletion/New/Production or Monitoring/NA",
         "USE": "Domestic",
         "WCRNUMBER": "WCR2019-015599",
         "TOTALDRILLDEPTH": 840,
         "TOTALCOMPLETEDDEPTH": 840,
         "DATEWORKENDED": "2019-10-22 00:00:00",
         "WELLYIELD": 1,
         "WELLYIELDUNITOFMEASURE": "GPM",
         "TOTALCOMPLETEDDEPTH_CORRECTED": 840,
         "DATEWORKENDED_CORRECTED": "2019-10-22 00:00:00",
         "YEARWORKENDED": 2019,
         "MONTHWORKENDED": 10,
         "_deepnote_index_column": 4
        },
        {
         "LATITUDE": 37.644024,
         "LONGITUDE": -121.893386,
         "TOWNSHIP": "03S",
         "RANGE": "01E",
         "SECTION": "29",
         "WELLLOCATION": "0 CASTLEWOOD DR",
         "CITY": "PLEASANTON",
         "COUNTY": "Alameda",
         "BOTTOMOFPERFORATEDINTERVAL": 190,
         "TOPOFPERFORATEDINTERVAL": 90,
         "GROUNDSURFACEELEVATION": "nan",
         "STATICWATERLEVEL": 24,
         "RECORDTYPE": "WellCompletion/New/Production or Monitoring/NA",
         "USE": "Agriculture",
         "WCRNUMBER": "WCR2020-000099",
         "TOTALDRILLDEPTH": 230,
         "TOTALCOMPLETEDDEPTH": 210,
         "DATEWORKENDED": "2019-11-15 00:00:00",
         "WELLYIELD": 100,
         "WELLYIELDUNITOFMEASURE": "GPM",
         "TOTALCOMPLETEDDEPTH_CORRECTED": 210,
         "DATEWORKENDED_CORRECTED": "2019-11-15 00:00:00",
         "YEARWORKENDED": 2019,
         "MONTHWORKENDED": 11,
         "_deepnote_index_column": 67
        },
        {
         "LATITUDE": 37.65824,
         "LONGITUDE": -121.85086,
         "TOWNSHIP": "03S",
         "RANGE": "01E",
         "SECTION": "22",
         "WELLLOCATION": "nan",
         "CITY": "nan",
         "COUNTY": "Alameda",
         "BOTTOMOFPERFORATEDINTERVAL": 220,
         "TOPOFPERFORATEDINTERVAL": 120,
         "GROUNDSURFACEELEVATION": "nan",
         "STATICWATERLEVEL": 80,
         "RECORDTYPE": "WellCompletion/New/Production or Monitoring/NA",
         "USE": "Agriculture",
         "WCRNUMBER": "WCR0172727",
         "TOTALDRILLDEPTH": "nan",
         "TOTALCOMPLETEDDEPTH": 240,
         "DATEWORKENDED": "NaT",
         "WELLYIELD": 100,
         "WELLYIELDUNITOFMEASURE": "GPM",
         "TOTALCOMPLETEDDEPTH_CORRECTED": 240,
         "DATEWORKENDED_CORRECTED": "NaT",
         "YEARWORKENDED": "nan",
         "MONTHWORKENDED": "nan",
         "_deepnote_index_column": 90
        },
        {
         "LATITUDE": 37.68732,
         "LONGITUDE": -121.85073,
         "TOWNSHIP": "03S",
         "RANGE": "01E",
         "SECTION": "10",
         "WELLLOCATION": "EL CHARRO ROAD-NW COMER OF LAKE H",
         "CITY": "PLEASANTON",
         "COUNTY": "Alameda",
         "BOTTOMOFPERFORATEDINTERVAL": 100,
         "TOPOFPERFORATEDINTERVAL": 0,
         "GROUNDSURFACEELEVATION": "nan",
         "STATICWATERLEVEL": "nan",
         "RECORDTYPE": "WellCompletion/New/Production or Monitoring/NA",
         "USE": "Public",
         "WCRNUMBER": "WCR2014-016112",
         "TOTALDRILLDEPTH": "nan",
         "TOTALCOMPLETEDDEPTH": 205,
         "DATEWORKENDED": "2014-05-21 00:00:00",
         "WELLYIELD": "nan",
         "WELLYIELDUNITOFMEASURE": "nan",
         "TOTALCOMPLETEDDEPTH_CORRECTED": 205,
         "DATEWORKENDED_CORRECTED": "2014-05-21 00:00:00",
         "YEARWORKENDED": 2014,
         "MONTHWORKENDED": 5,
         "_deepnote_index_column": 130
        },
        {
         "LATITUDE": 37.54215,
         "LONGITUDE": -121.99658,
         "TOWNSHIP": "04S",
         "RANGE": "01W",
         "SECTION": "32",
         "WELLLOCATION": "nan",
         "CITY": "nan",
         "COUNTY": "Alameda",
         "BOTTOMOFPERFORATEDINTERVAL": 380,
         "TOPOFPERFORATEDINTERVAL": 351,
         "GROUNDSURFACEELEVATION": "nan",
         "STATICWATERLEVEL": "nan",
         "RECORDTYPE": "WellCompletion/New/Production or Monitoring/NA",
         "USE": "Agriculture",
         "WCRNUMBER": "WCR0079408",
         "TOTALDRILLDEPTH": "nan",
         "TOTALCOMPLETEDDEPTH": 396,
         "DATEWORKENDED": "1954-04-01 00:00:00",
         "WELLYIELD": 58,
         "WELLYIELDUNITOFMEASURE": "GPM",
         "TOTALCOMPLETEDDEPTH_CORRECTED": 396,
         "DATEWORKENDED_CORRECTED": "1954-04-01 00:00:00",
         "YEARWORKENDED": 1954,
         "MONTHWORKENDED": 4,
         "_deepnote_index_column": 196
        },
        {
         "LATITUDE": 37.73106,
         "LONGITUDE": -121.86867,
         "TOWNSHIP": "02S",
         "RANGE": "01E",
         "SECTION": "28",
         "WELLLOCATION": "nan",
         "CITY": "nan",
         "COUNTY": "Alameda",
         "BOTTOMOFPERFORATEDINTERVAL": 212,
         "TOPOFPERFORATEDINTERVAL": 50,
         "GROUNDSURFACEELEVATION": "nan",
         "STATICWATERLEVEL": 50,
         "RECORDTYPE": "WellCompletion/New/Production or Monitoring/NA",
         "USE": "Domestic",
         "WCRNUMBER": "WCR0234291",
         "TOTALDRILLDEPTH": "nan",
         "TOTALCOMPLETEDDEPTH": "nan",
         "DATEWORKENDED": "NaT",
         "WELLYIELD": 8,
         "WELLYIELDUNITOFMEASURE": "GPM",
         "TOTALCOMPLETEDDEPTH_CORRECTED": "nan",
         "DATEWORKENDED_CORRECTED": "NaT",
         "YEARWORKENDED": "nan",
         "MONTHWORKENDED": "nan",
         "_deepnote_index_column": 199
        },
        {
         "LATITUDE": 37.74466,
         "LONGITUDE": -122.16127,
         "TOWNSHIP": "02S",
         "RANGE": "03W",
         "SECTION": "23",
         "WELLLOCATION": "SAME",
         "CITY": "nan",
         "COUNTY": "Alameda",
         "BOTTOMOFPERFORATEDINTERVAL": 80,
         "TOPOFPERFORATEDINTERVAL": 40,
         "GROUNDSURFACEELEVATION": "nan",
         "STATICWATERLEVEL": 37,
         "RECORDTYPE": "WellCompletion/New/Production or Monitoring/NA",
         "USE": "Agriculture",
         "WCRNUMBER": "WCR0234300",
         "TOTALDRILLDEPTH": "nan",
         "TOTALCOMPLETEDDEPTH": 70,
         "DATEWORKENDED": "1977-10-30 00:00:00",
         "WELLYIELD": "nan",
         "WELLYIELDUNITOFMEASURE": "nan",
         "TOTALCOMPLETEDDEPTH_CORRECTED": 70,
         "DATEWORKENDED_CORRECTED": "1977-10-30 00:00:00",
         "YEARWORKENDED": 1977,
         "MONTHWORKENDED": 10,
         "_deepnote_index_column": 200
        },
        {
         "LATITUDE": 37.76938,
         "LONGITUDE": -122.23815,
         "TOWNSHIP": "02S",
         "RANGE": "03W",
         "SECTION": "07",
         "WELLLOCATION": "2307 CLEMENT AVE",
         "CITY": "ALAMEDA",
         "COUNTY": "Alameda",
         "BOTTOMOFPERFORATEDINTERVAL": 80,
         "TOPOFPERFORATEDINTERVAL": 40,
         "GROUNDSURFACEELEVATION": "nan",
         "STATICWATERLEVEL": 6,
         "RECORDTYPE": "WellCompletion/New/Production or Monitoring/NA",
         "USE": "Industrial",
         "WCRNUMBER": "WCR0018549",
         "TOTALDRILLDEPTH": "nan",
         "TOTALCOMPLETEDDEPTH": 82,
         "DATEWORKENDED": "1977-04-18 00:00:00",
         "WELLYIELD": "nan",
         "WELLYIELDUNITOFMEASURE": "nan",
         "TOTALCOMPLETEDDEPTH_CORRECTED": 82,
         "DATEWORKENDED_CORRECTED": "1977-04-18 00:00:00",
         "YEARWORKENDED": 1977,
         "MONTHWORKENDED": 4,
         "_deepnote_index_column": 204
        },
        {
         "LATITUDE": 37.77148,
         "LONGITUDE": -122.07072,
         "TOWNSHIP": "02S",
         "RANGE": "02W",
         "SECTION": "10",
         "WELLLOCATION": "nan",
         "CITY": "nan",
         "COUNTY": "Alameda",
         "BOTTOMOFPERFORATEDINTERVAL": 59,
         "TOPOFPERFORATEDINTERVAL": 20,
         "GROUNDSURFACEELEVATION": "nan",
         "STATICWATERLEVEL": 12,
         "RECORDTYPE": "WellCompletion/New/Production or Monitoring/NA",
         "USE": "Agriculture",
         "WCRNUMBER": "WCR0213847",
         "TOTALDRILLDEPTH": "nan",
         "TOTALCOMPLETEDDEPTH": 59,
         "DATEWORKENDED": "1977-12-17 00:00:00",
         "WELLYIELD": "nan",
         "WELLYIELDUNITOFMEASURE": "nan",
         "TOTALCOMPLETEDDEPTH_CORRECTED": 59,
         "DATEWORKENDED_CORRECTED": "1977-12-17 00:00:00",
         "YEARWORKENDED": 1977,
         "MONTHWORKENDED": 12,
         "_deepnote_index_column": 207
        },
        {
         "LATITUDE": 37.74506,
         "LONGITUDE": -121.74231,
         "TOWNSHIP": "02S",
         "RANGE": "02E",
         "SECTION": "22",
         "WELLLOCATION": "nan",
         "CITY": "nan",
         "COUNTY": "Alameda",
         "BOTTOMOFPERFORATEDINTERVAL": "nan",
         "TOPOFPERFORATEDINTERVAL": 26,
         "GROUNDSURFACEELEVATION": "nan",
         "STATICWATERLEVEL": "nan",
         "RECORDTYPE": "WellCompletion/New/Production or Monitoring/NA",
         "USE": "Domestic",
         "WCRNUMBER": "WCR0040828",
         "TOTALDRILLDEPTH": "nan",
         "TOTALCOMPLETEDDEPTH": 105,
         "DATEWORKENDED": "NaT",
         "WELLYIELD": "nan",
         "WELLYIELDUNITOFMEASURE": "nan",
         "TOTALCOMPLETEDDEPTH_CORRECTED": 105,
         "DATEWORKENDED_CORRECTED": "NaT",
         "YEARWORKENDED": "nan",
         "MONTHWORKENDED": "nan",
         "_deepnote_index_column": 213
        }
       ]
      },
      "text/plain": "          LATITUDE   LONGITUDE TOWNSHIP RANGE SECTION  \\\n4        37.431500 -122.080000      06S   02W      09   \n67       37.644024 -121.893386      03S   01E      29   \n90       37.658240 -121.850860      03S   01E      22   \n130      37.687320 -121.850730      03S   01E      10   \n196      37.542150 -121.996580      04S   01W      32   \n...            ...         ...      ...   ...     ...   \n1042989  37.614012 -121.817013      04S   01E      01   \n1042993  38.227086 -121.466892      04N   05E      06   \n1043027  38.751944 -120.496667      11N   13E      35   \n1043028  38.848056 -121.497778      12N   04E      35   \n1043031  38.159722 -121.368056      04N   06E      31   \n\n                              WELLLOCATION           CITY   COUNTY  \\\n4                     22148 Eden Canyon RD  Castro Valley  Alameda   \n67                         0 CASTLEWOOD DR     PLEASANTON  Alameda   \n90                                     NaN            NaN  Alameda   \n130      EL CHARRO ROAD-NW COMER OF LAKE H     PLEASANTON  Alameda   \n196                                    NaN            NaN  Alameda   \n...                                    ...            ...      ...   \n1042989               7010 VALLECITOS ROAD          SUNOL      NaN   \n1042993                 26501 N. VAIL ROAD            NaN      NaN   \n1043027                         PARK CREEK            NaN      NaN   \n1043028                                XXX            XXX      NaN   \n1043031                               SAME            NaN      NaN   \n\n         BOTTOMOFPERFORATEDINTERVAL  TOPOFPERFORATEDINTERVAL  ...  \\\n4                             840.0                    600.0  ...   \n67                            190.0                     90.0  ...   \n90                            220.0                    120.0  ...   \n130                           100.0                      0.0  ...   \n196                           380.0                    351.0  ...   \n...                             ...                      ...  ...   \n1042989                       297.0                    145.0  ...   \n1042993                       165.0                    105.0  ...   \n1043027                       220.0                    200.0  ...   \n1043028                       160.0                      1.0  ...   \n1043031                       230.0                    170.0  ...   \n\n              WCRNUMBER  TOTALDRILLDEPTH TOTALCOMPLETEDDEPTH DATEWORKENDED  \\\n4        WCR2019-015599            840.0               840.0    2019-10-22   \n67       WCR2020-000099            230.0               210.0    2019-11-15   \n90           WCR0172727              NaN               240.0           NaT   \n130      WCR2014-016112              NaN               205.0    2014-05-21   \n196          WCR0079408              NaN               396.0    1954-04-01   \n...                 ...              ...                 ...           ...   \n1042989  WCR2011-011692              NaN               320.0    2011-08-02   \n1042993  WCR2015-014442              NaN               165.0    2015-10-21   \n1043027  WCR2014-014504              NaN               220.0    2014-08-30   \n1043028  WCR2015-013869              NaN               250.0    2015-04-21   \n1043031  WCR2014-014803              NaN               230.0    2014-07-30   \n\n        WELLYIELD  WELLYIELDUNITOFMEASURE  TOTALCOMPLETEDDEPTH_CORRECTED  \\\n4             1.0                     GPM                          840.0   \n67          100.0                     GPM                          210.0   \n90          100.0                     GPM                          240.0   \n130           NaN                     NaN                          205.0   \n196          58.0                     GPM                          396.0   \n...           ...                     ...                            ...   \n1042989       NaN                     NaN                          320.0   \n1042993       NaN                     NaN                          165.0   \n1043027      25.0                     GPM                          220.0   \n1043028      30.0                     GPM                          250.0   \n1043031       NaN                     NaN                          230.0   \n\n        DATEWORKENDED_CORRECTED  YEARWORKENDED MONTHWORKENDED  \n4                    2019-10-22         2019.0           10.0  \n67                   2019-11-15         2019.0           11.0  \n90                          NaT            NaN            NaN  \n130                  2014-05-21         2014.0            5.0  \n196                  1954-04-01         1954.0            4.0  \n...                         ...            ...            ...  \n1042989              2011-08-02         2011.0            8.0  \n1042993              2015-10-21         2015.0           10.0  \n1043027              2014-08-30         2014.0            8.0  \n1043028              2015-04-21         2015.0            4.0  \n1043031              2014-07-30         2014.0            7.0  \n\n[451264 rows x 24 columns]",
      "text/html": "<div>\n<style scoped>\n    .dataframe tbody tr th:only-of-type {\n        vertical-align: middle;\n    }\n\n    .dataframe tbody tr th {\n        vertical-align: top;\n    }\n\n    .dataframe thead th {\n        text-align: right;\n    }\n</style>\n<table border=\"1\" class=\"dataframe\">\n  <thead>\n    <tr style=\"text-align: right;\">\n      <th></th>\n      <th>LATITUDE</th>\n      <th>LONGITUDE</th>\n      <th>TOWNSHIP</th>\n      <th>RANGE</th>\n      <th>SECTION</th>\n      <th>WELLLOCATION</th>\n      <th>CITY</th>\n      <th>COUNTY</th>\n      <th>BOTTOMOFPERFORATEDINTERVAL</th>\n      <th>TOPOFPERFORATEDINTERVAL</th>\n      <th>...</th>\n      <th>WCRNUMBER</th>\n      <th>TOTALDRILLDEPTH</th>\n      <th>TOTALCOMPLETEDDEPTH</th>\n      <th>DATEWORKENDED</th>\n      <th>WELLYIELD</th>\n      <th>WELLYIELDUNITOFMEASURE</th>\n      <th>TOTALCOMPLETEDDEPTH_CORRECTED</th>\n      <th>DATEWORKENDED_CORRECTED</th>\n      <th>YEARWORKENDED</th>\n      <th>MONTHWORKENDED</th>\n    </tr>\n  </thead>\n  <tbody>\n    <tr>\n      <th>4</th>\n      <td>37.431500</td>\n      <td>-122.080000</td>\n      <td>06S</td>\n      <td>02W</td>\n      <td>09</td>\n      <td>22148 Eden Canyon RD</td>\n      <td>Castro Valley</td>\n      <td>Alameda</td>\n      <td>840.0</td>\n      <td>600.0</td>\n      <td>...</td>\n      <td>WCR2019-015599</td>\n      <td>840.0</td>\n      <td>840.0</td>\n      <td>2019-10-22</td>\n      <td>1.0</td>\n      <td>GPM</td>\n      <td>840.0</td>\n      <td>2019-10-22</td>\n      <td>2019.0</td>\n      <td>10.0</td>\n    </tr>\n    <tr>\n      <th>67</th>\n      <td>37.644024</td>\n      <td>-121.893386</td>\n      <td>03S</td>\n      <td>01E</td>\n      <td>29</td>\n      <td>0 CASTLEWOOD DR</td>\n      <td>PLEASANTON</td>\n      <td>Alameda</td>\n      <td>190.0</td>\n      <td>90.0</td>\n      <td>...</td>\n      <td>WCR2020-000099</td>\n      <td>230.0</td>\n      <td>210.0</td>\n      <td>2019-11-15</td>\n      <td>100.0</td>\n      <td>GPM</td>\n      <td>210.0</td>\n      <td>2019-11-15</td>\n      <td>2019.0</td>\n      <td>11.0</td>\n    </tr>\n    <tr>\n      <th>90</th>\n      <td>37.658240</td>\n      <td>-121.850860</td>\n      <td>03S</td>\n      <td>01E</td>\n      <td>22</td>\n      <td>NaN</td>\n      <td>NaN</td>\n      <td>Alameda</td>\n      <td>220.0</td>\n      <td>120.0</td>\n      <td>...</td>\n      <td>WCR0172727</td>\n      <td>NaN</td>\n      <td>240.0</td>\n      <td>NaT</td>\n      <td>100.0</td>\n      <td>GPM</td>\n      <td>240.0</td>\n      <td>NaT</td>\n      <td>NaN</td>\n      <td>NaN</td>\n    </tr>\n    <tr>\n      <th>130</th>\n      <td>37.687320</td>\n      <td>-121.850730</td>\n      <td>03S</td>\n      <td>01E</td>\n      <td>10</td>\n      <td>EL CHARRO ROAD-NW COMER OF LAKE H</td>\n      <td>PLEASANTON</td>\n      <td>Alameda</td>\n      <td>100.0</td>\n      <td>0.0</td>\n      <td>...</td>\n      <td>WCR2014-016112</td>\n      <td>NaN</td>\n      <td>205.0</td>\n      <td>2014-05-21</td>\n      <td>NaN</td>\n      <td>NaN</td>\n      <td>205.0</td>\n      <td>2014-05-21</td>\n      <td>2014.0</td>\n      <td>5.0</td>\n    </tr>\n    <tr>\n      <th>196</th>\n      <td>37.542150</td>\n      <td>-121.996580</td>\n      <td>04S</td>\n      <td>01W</td>\n      <td>32</td>\n      <td>NaN</td>\n      <td>NaN</td>\n      <td>Alameda</td>\n      <td>380.0</td>\n      <td>351.0</td>\n      <td>...</td>\n      <td>WCR0079408</td>\n      <td>NaN</td>\n      <td>396.0</td>\n      <td>1954-04-01</td>\n      <td>58.0</td>\n      <td>GPM</td>\n      <td>396.0</td>\n      <td>1954-04-01</td>\n      <td>1954.0</td>\n      <td>4.0</td>\n    </tr>\n    <tr>\n      <th>...</th>\n      <td>...</td>\n      <td>...</td>\n      <td>...</td>\n      <td>...</td>\n      <td>...</td>\n      <td>...</td>\n      <td>...</td>\n      <td>...</td>\n      <td>...</td>\n      <td>...</td>\n      <td>...</td>\n      <td>...</td>\n      <td>...</td>\n      <td>...</td>\n      <td>...</td>\n      <td>...</td>\n      <td>...</td>\n      <td>...</td>\n      <td>...</td>\n      <td>...</td>\n      <td>...</td>\n    </tr>\n    <tr>\n      <th>1042989</th>\n      <td>37.614012</td>\n      <td>-121.817013</td>\n      <td>04S</td>\n      <td>01E</td>\n      <td>01</td>\n      <td>7010 VALLECITOS ROAD</td>\n      <td>SUNOL</td>\n      <td>NaN</td>\n      <td>297.0</td>\n      <td>145.0</td>\n      <td>...</td>\n      <td>WCR2011-011692</td>\n      <td>NaN</td>\n      <td>320.0</td>\n      <td>2011-08-02</td>\n      <td>NaN</td>\n      <td>NaN</td>\n      <td>320.0</td>\n      <td>2011-08-02</td>\n      <td>2011.0</td>\n      <td>8.0</td>\n    </tr>\n    <tr>\n      <th>1042993</th>\n      <td>38.227086</td>\n      <td>-121.466892</td>\n      <td>04N</td>\n      <td>05E</td>\n      <td>06</td>\n      <td>26501 N. VAIL ROAD</td>\n      <td>NaN</td>\n      <td>NaN</td>\n      <td>165.0</td>\n      <td>105.0</td>\n      <td>...</td>\n      <td>WCR2015-014442</td>\n      <td>NaN</td>\n      <td>165.0</td>\n      <td>2015-10-21</td>\n      <td>NaN</td>\n      <td>NaN</td>\n      <td>165.0</td>\n      <td>2015-10-21</td>\n      <td>2015.0</td>\n      <td>10.0</td>\n    </tr>\n    <tr>\n      <th>1043027</th>\n      <td>38.751944</td>\n      <td>-120.496667</td>\n      <td>11N</td>\n      <td>13E</td>\n      <td>35</td>\n      <td>PARK CREEK</td>\n      <td>NaN</td>\n      <td>NaN</td>\n      <td>220.0</td>\n      <td>200.0</td>\n      <td>...</td>\n      <td>WCR2014-014504</td>\n      <td>NaN</td>\n      <td>220.0</td>\n      <td>2014-08-30</td>\n      <td>25.0</td>\n      <td>GPM</td>\n      <td>220.0</td>\n      <td>2014-08-30</td>\n      <td>2014.0</td>\n      <td>8.0</td>\n    </tr>\n    <tr>\n      <th>1043028</th>\n      <td>38.848056</td>\n      <td>-121.497778</td>\n      <td>12N</td>\n      <td>04E</td>\n      <td>35</td>\n      <td>XXX</td>\n      <td>XXX</td>\n      <td>NaN</td>\n      <td>160.0</td>\n      <td>1.0</td>\n      <td>...</td>\n      <td>WCR2015-013869</td>\n      <td>NaN</td>\n      <td>250.0</td>\n      <td>2015-04-21</td>\n      <td>30.0</td>\n      <td>GPM</td>\n      <td>250.0</td>\n      <td>2015-04-21</td>\n      <td>2015.0</td>\n      <td>4.0</td>\n    </tr>\n    <tr>\n      <th>1043031</th>\n      <td>38.159722</td>\n      <td>-121.368056</td>\n      <td>04N</td>\n      <td>06E</td>\n      <td>31</td>\n      <td>SAME</td>\n      <td>NaN</td>\n      <td>NaN</td>\n      <td>230.0</td>\n      <td>170.0</td>\n      <td>...</td>\n      <td>WCR2014-014803</td>\n      <td>NaN</td>\n      <td>230.0</td>\n      <td>2014-07-30</td>\n      <td>NaN</td>\n      <td>NaN</td>\n      <td>230.0</td>\n      <td>2014-07-30</td>\n      <td>2014.0</td>\n      <td>7.0</td>\n    </tr>\n  </tbody>\n</table>\n<p>451264 rows × 24 columns</p>\n</div>"
     },
     "metadata": {}
    }
   ]
  },
  {
   "cell_type": "code",
   "metadata": {
    "cell_id": "de4c5368-63ef-48c8-8d33-eb2565eca2de",
    "tags": [],
    "deepnote_to_be_reexecuted": false,
    "source_hash": "160d1050",
    "execution_start": 1647726217105,
    "execution_millis": 565,
    "deepnote_cell_type": "code",
    "deepnote_cell_height": 614.796875
   },
   "source": "wcr_instance.wellcompletion_subset_df",
   "execution_count": null,
   "outputs": [
    {
     "output_type": "execute_result",
     "execution_count": 6,
     "data": {
      "application/vnd.deepnote.dataframe.v3+json": {
       "column_count": 24,
       "row_count": 451264,
       "columns": [
        {
         "name": "LATITUDE",
         "dtype": "float64"
        },
        {
         "name": "LONGITUDE",
         "dtype": "float64"
        },
        {
         "name": "TOWNSHIP",
         "dtype": "object"
        },
        {
         "name": "RANGE",
         "dtype": "object"
        },
        {
         "name": "SECTION",
         "dtype": "object"
        },
        {
         "name": "WELLLOCATION",
         "dtype": "object"
        },
        {
         "name": "CITY",
         "dtype": "object"
        },
        {
         "name": "COUNTY",
         "dtype": "object"
        },
        {
         "name": "BOTTOMOFPERFORATEDINTERVAL",
         "dtype": "float64"
        },
        {
         "name": "TOPOFPERFORATEDINTERVAL",
         "dtype": "float64"
        },
        {
         "name": "GROUNDSURFACEELEVATION",
         "dtype": "float64"
        },
        {
         "name": "STATICWATERLEVEL",
         "dtype": "float64"
        },
        {
         "name": "RECORDTYPE",
         "dtype": "object"
        },
        {
         "name": "USE",
         "dtype": "object"
        },
        {
         "name": "WCRNUMBER",
         "dtype": "object"
        },
        {
         "name": "TOTALDRILLDEPTH",
         "dtype": "float64"
        },
        {
         "name": "TOTALCOMPLETEDDEPTH",
         "dtype": "float64"
        },
        {
         "name": "DATEWORKENDED",
         "dtype": "datetime64[ns]"
        },
        {
         "name": "WELLYIELD",
         "dtype": "float64"
        },
        {
         "name": "WELLYIELDUNITOFMEASURE",
         "dtype": "object"
        },
        {
         "name": "TOTALCOMPLETEDDEPTH_CORRECTED",
         "dtype": "float64"
        },
        {
         "name": "DATEWORKENDED_CORRECTED",
         "dtype": "datetime64[ns]"
        },
        {
         "name": "YEARWORKENDED",
         "dtype": "float64"
        },
        {
         "name": "MONTHWORKENDED",
         "dtype": "float64"
        },
        {
         "name": "_deepnote_index_column",
         "dtype": "int64"
        }
       ],
       "rows": [
        {
         "LATITUDE": 37.4315,
         "LONGITUDE": -122.08,
         "TOWNSHIP": "06S",
         "RANGE": "02W",
         "SECTION": "09",
         "WELLLOCATION": "22148 Eden Canyon RD",
         "CITY": "Castro Valley",
         "COUNTY": "Alameda",
         "BOTTOMOFPERFORATEDINTERVAL": 840,
         "TOPOFPERFORATEDINTERVAL": 600,
         "GROUNDSURFACEELEVATION": "nan",
         "STATICWATERLEVEL": 600,
         "RECORDTYPE": "WellCompletion/New/Production or Monitoring/NA",
         "USE": "Domestic",
         "WCRNUMBER": "WCR2019-015599",
         "TOTALDRILLDEPTH": 840,
         "TOTALCOMPLETEDDEPTH": 840,
         "DATEWORKENDED": "2019-10-22 00:00:00",
         "WELLYIELD": 1,
         "WELLYIELDUNITOFMEASURE": "GPM",
         "TOTALCOMPLETEDDEPTH_CORRECTED": 840,
         "DATEWORKENDED_CORRECTED": "2019-10-22 00:00:00",
         "YEARWORKENDED": 2019,
         "MONTHWORKENDED": 10,
         "_deepnote_index_column": 4
        },
        {
         "LATITUDE": 37.644024,
         "LONGITUDE": -121.893386,
         "TOWNSHIP": "03S",
         "RANGE": "01E",
         "SECTION": "29",
         "WELLLOCATION": "0 CASTLEWOOD DR",
         "CITY": "PLEASANTON",
         "COUNTY": "Alameda",
         "BOTTOMOFPERFORATEDINTERVAL": 190,
         "TOPOFPERFORATEDINTERVAL": 90,
         "GROUNDSURFACEELEVATION": "nan",
         "STATICWATERLEVEL": 24,
         "RECORDTYPE": "WellCompletion/New/Production or Monitoring/NA",
         "USE": "Agriculture",
         "WCRNUMBER": "WCR2020-000099",
         "TOTALDRILLDEPTH": 230,
         "TOTALCOMPLETEDDEPTH": 210,
         "DATEWORKENDED": "2019-11-15 00:00:00",
         "WELLYIELD": 100,
         "WELLYIELDUNITOFMEASURE": "GPM",
         "TOTALCOMPLETEDDEPTH_CORRECTED": 210,
         "DATEWORKENDED_CORRECTED": "2019-11-15 00:00:00",
         "YEARWORKENDED": 2019,
         "MONTHWORKENDED": 11,
         "_deepnote_index_column": 67
        },
        {
         "LATITUDE": 37.65824,
         "LONGITUDE": -121.85086,
         "TOWNSHIP": "03S",
         "RANGE": "01E",
         "SECTION": "22",
         "WELLLOCATION": "nan",
         "CITY": "nan",
         "COUNTY": "Alameda",
         "BOTTOMOFPERFORATEDINTERVAL": 220,
         "TOPOFPERFORATEDINTERVAL": 120,
         "GROUNDSURFACEELEVATION": "nan",
         "STATICWATERLEVEL": 80,
         "RECORDTYPE": "WellCompletion/New/Production or Monitoring/NA",
         "USE": "Agriculture",
         "WCRNUMBER": "WCR0172727",
         "TOTALDRILLDEPTH": "nan",
         "TOTALCOMPLETEDDEPTH": 240,
         "DATEWORKENDED": "NaT",
         "WELLYIELD": 100,
         "WELLYIELDUNITOFMEASURE": "GPM",
         "TOTALCOMPLETEDDEPTH_CORRECTED": 240,
         "DATEWORKENDED_CORRECTED": "NaT",
         "YEARWORKENDED": "nan",
         "MONTHWORKENDED": "nan",
         "_deepnote_index_column": 90
        },
        {
         "LATITUDE": 37.68732,
         "LONGITUDE": -121.85073,
         "TOWNSHIP": "03S",
         "RANGE": "01E",
         "SECTION": "10",
         "WELLLOCATION": "EL CHARRO ROAD-NW COMER OF LAKE H",
         "CITY": "PLEASANTON",
         "COUNTY": "Alameda",
         "BOTTOMOFPERFORATEDINTERVAL": 100,
         "TOPOFPERFORATEDINTERVAL": 0,
         "GROUNDSURFACEELEVATION": "nan",
         "STATICWATERLEVEL": "nan",
         "RECORDTYPE": "WellCompletion/New/Production or Monitoring/NA",
         "USE": "Public",
         "WCRNUMBER": "WCR2014-016112",
         "TOTALDRILLDEPTH": "nan",
         "TOTALCOMPLETEDDEPTH": 205,
         "DATEWORKENDED": "2014-05-21 00:00:00",
         "WELLYIELD": "nan",
         "WELLYIELDUNITOFMEASURE": "nan",
         "TOTALCOMPLETEDDEPTH_CORRECTED": 205,
         "DATEWORKENDED_CORRECTED": "2014-05-21 00:00:00",
         "YEARWORKENDED": 2014,
         "MONTHWORKENDED": 5,
         "_deepnote_index_column": 130
        },
        {
         "LATITUDE": 37.54215,
         "LONGITUDE": -121.99658,
         "TOWNSHIP": "04S",
         "RANGE": "01W",
         "SECTION": "32",
         "WELLLOCATION": "nan",
         "CITY": "nan",
         "COUNTY": "Alameda",
         "BOTTOMOFPERFORATEDINTERVAL": 380,
         "TOPOFPERFORATEDINTERVAL": 351,
         "GROUNDSURFACEELEVATION": "nan",
         "STATICWATERLEVEL": "nan",
         "RECORDTYPE": "WellCompletion/New/Production or Monitoring/NA",
         "USE": "Agriculture",
         "WCRNUMBER": "WCR0079408",
         "TOTALDRILLDEPTH": "nan",
         "TOTALCOMPLETEDDEPTH": 396,
         "DATEWORKENDED": "1954-04-01 00:00:00",
         "WELLYIELD": 58,
         "WELLYIELDUNITOFMEASURE": "GPM",
         "TOTALCOMPLETEDDEPTH_CORRECTED": 396,
         "DATEWORKENDED_CORRECTED": "1954-04-01 00:00:00",
         "YEARWORKENDED": 1954,
         "MONTHWORKENDED": 4,
         "_deepnote_index_column": 196
        },
        {
         "LATITUDE": 37.73106,
         "LONGITUDE": -121.86867,
         "TOWNSHIP": "02S",
         "RANGE": "01E",
         "SECTION": "28",
         "WELLLOCATION": "nan",
         "CITY": "nan",
         "COUNTY": "Alameda",
         "BOTTOMOFPERFORATEDINTERVAL": 212,
         "TOPOFPERFORATEDINTERVAL": 50,
         "GROUNDSURFACEELEVATION": "nan",
         "STATICWATERLEVEL": 50,
         "RECORDTYPE": "WellCompletion/New/Production or Monitoring/NA",
         "USE": "Domestic",
         "WCRNUMBER": "WCR0234291",
         "TOTALDRILLDEPTH": "nan",
         "TOTALCOMPLETEDDEPTH": "nan",
         "DATEWORKENDED": "NaT",
         "WELLYIELD": 8,
         "WELLYIELDUNITOFMEASURE": "GPM",
         "TOTALCOMPLETEDDEPTH_CORRECTED": "nan",
         "DATEWORKENDED_CORRECTED": "NaT",
         "YEARWORKENDED": "nan",
         "MONTHWORKENDED": "nan",
         "_deepnote_index_column": 199
        },
        {
         "LATITUDE": 37.74466,
         "LONGITUDE": -122.16127,
         "TOWNSHIP": "02S",
         "RANGE": "03W",
         "SECTION": "23",
         "WELLLOCATION": "SAME",
         "CITY": "nan",
         "COUNTY": "Alameda",
         "BOTTOMOFPERFORATEDINTERVAL": 80,
         "TOPOFPERFORATEDINTERVAL": 40,
         "GROUNDSURFACEELEVATION": "nan",
         "STATICWATERLEVEL": 37,
         "RECORDTYPE": "WellCompletion/New/Production or Monitoring/NA",
         "USE": "Agriculture",
         "WCRNUMBER": "WCR0234300",
         "TOTALDRILLDEPTH": "nan",
         "TOTALCOMPLETEDDEPTH": 70,
         "DATEWORKENDED": "1977-10-30 00:00:00",
         "WELLYIELD": "nan",
         "WELLYIELDUNITOFMEASURE": "nan",
         "TOTALCOMPLETEDDEPTH_CORRECTED": 70,
         "DATEWORKENDED_CORRECTED": "1977-10-30 00:00:00",
         "YEARWORKENDED": 1977,
         "MONTHWORKENDED": 10,
         "_deepnote_index_column": 200
        },
        {
         "LATITUDE": 37.76938,
         "LONGITUDE": -122.23815,
         "TOWNSHIP": "02S",
         "RANGE": "03W",
         "SECTION": "07",
         "WELLLOCATION": "2307 CLEMENT AVE",
         "CITY": "ALAMEDA",
         "COUNTY": "Alameda",
         "BOTTOMOFPERFORATEDINTERVAL": 80,
         "TOPOFPERFORATEDINTERVAL": 40,
         "GROUNDSURFACEELEVATION": "nan",
         "STATICWATERLEVEL": 6,
         "RECORDTYPE": "WellCompletion/New/Production or Monitoring/NA",
         "USE": "Industrial",
         "WCRNUMBER": "WCR0018549",
         "TOTALDRILLDEPTH": "nan",
         "TOTALCOMPLETEDDEPTH": 82,
         "DATEWORKENDED": "1977-04-18 00:00:00",
         "WELLYIELD": "nan",
         "WELLYIELDUNITOFMEASURE": "nan",
         "TOTALCOMPLETEDDEPTH_CORRECTED": 82,
         "DATEWORKENDED_CORRECTED": "1977-04-18 00:00:00",
         "YEARWORKENDED": 1977,
         "MONTHWORKENDED": 4,
         "_deepnote_index_column": 204
        },
        {
         "LATITUDE": 37.77148,
         "LONGITUDE": -122.07072,
         "TOWNSHIP": "02S",
         "RANGE": "02W",
         "SECTION": "10",
         "WELLLOCATION": "nan",
         "CITY": "nan",
         "COUNTY": "Alameda",
         "BOTTOMOFPERFORATEDINTERVAL": 59,
         "TOPOFPERFORATEDINTERVAL": 20,
         "GROUNDSURFACEELEVATION": "nan",
         "STATICWATERLEVEL": 12,
         "RECORDTYPE": "WellCompletion/New/Production or Monitoring/NA",
         "USE": "Agriculture",
         "WCRNUMBER": "WCR0213847",
         "TOTALDRILLDEPTH": "nan",
         "TOTALCOMPLETEDDEPTH": 59,
         "DATEWORKENDED": "1977-12-17 00:00:00",
         "WELLYIELD": "nan",
         "WELLYIELDUNITOFMEASURE": "nan",
         "TOTALCOMPLETEDDEPTH_CORRECTED": 59,
         "DATEWORKENDED_CORRECTED": "1977-12-17 00:00:00",
         "YEARWORKENDED": 1977,
         "MONTHWORKENDED": 12,
         "_deepnote_index_column": 207
        },
        {
         "LATITUDE": 37.74506,
         "LONGITUDE": -121.74231,
         "TOWNSHIP": "02S",
         "RANGE": "02E",
         "SECTION": "22",
         "WELLLOCATION": "nan",
         "CITY": "nan",
         "COUNTY": "Alameda",
         "BOTTOMOFPERFORATEDINTERVAL": "nan",
         "TOPOFPERFORATEDINTERVAL": 26,
         "GROUNDSURFACEELEVATION": "nan",
         "STATICWATERLEVEL": "nan",
         "RECORDTYPE": "WellCompletion/New/Production or Monitoring/NA",
         "USE": "Domestic",
         "WCRNUMBER": "WCR0040828",
         "TOTALDRILLDEPTH": "nan",
         "TOTALCOMPLETEDDEPTH": 105,
         "DATEWORKENDED": "NaT",
         "WELLYIELD": "nan",
         "WELLYIELDUNITOFMEASURE": "nan",
         "TOTALCOMPLETEDDEPTH_CORRECTED": 105,
         "DATEWORKENDED_CORRECTED": "NaT",
         "YEARWORKENDED": "nan",
         "MONTHWORKENDED": "nan",
         "_deepnote_index_column": 213
        }
       ]
      },
      "text/plain": "          LATITUDE   LONGITUDE TOWNSHIP RANGE SECTION  \\\n4        37.431500 -122.080000      06S   02W      09   \n67       37.644024 -121.893386      03S   01E      29   \n90       37.658240 -121.850860      03S   01E      22   \n130      37.687320 -121.850730      03S   01E      10   \n196      37.542150 -121.996580      04S   01W      32   \n...            ...         ...      ...   ...     ...   \n1042989  37.614012 -121.817013      04S   01E      01   \n1042993  38.227086 -121.466892      04N   05E      06   \n1043027  38.751944 -120.496667      11N   13E      35   \n1043028  38.848056 -121.497778      12N   04E      35   \n1043031  38.159722 -121.368056      04N   06E      31   \n\n                              WELLLOCATION           CITY   COUNTY  \\\n4                     22148 Eden Canyon RD  Castro Valley  Alameda   \n67                         0 CASTLEWOOD DR     PLEASANTON  Alameda   \n90                                     NaN            NaN  Alameda   \n130      EL CHARRO ROAD-NW COMER OF LAKE H     PLEASANTON  Alameda   \n196                                    NaN            NaN  Alameda   \n...                                    ...            ...      ...   \n1042989               7010 VALLECITOS ROAD          SUNOL      NaN   \n1042993                 26501 N. VAIL ROAD            NaN      NaN   \n1043027                         PARK CREEK            NaN      NaN   \n1043028                                XXX            XXX      NaN   \n1043031                               SAME            NaN      NaN   \n\n         BOTTOMOFPERFORATEDINTERVAL  TOPOFPERFORATEDINTERVAL  ...  \\\n4                             840.0                    600.0  ...   \n67                            190.0                     90.0  ...   \n90                            220.0                    120.0  ...   \n130                           100.0                      0.0  ...   \n196                           380.0                    351.0  ...   \n...                             ...                      ...  ...   \n1042989                       297.0                    145.0  ...   \n1042993                       165.0                    105.0  ...   \n1043027                       220.0                    200.0  ...   \n1043028                       160.0                      1.0  ...   \n1043031                       230.0                    170.0  ...   \n\n              WCRNUMBER  TOTALDRILLDEPTH TOTALCOMPLETEDDEPTH DATEWORKENDED  \\\n4        WCR2019-015599            840.0               840.0    2019-10-22   \n67       WCR2020-000099            230.0               210.0    2019-11-15   \n90           WCR0172727              NaN               240.0           NaT   \n130      WCR2014-016112              NaN               205.0    2014-05-21   \n196          WCR0079408              NaN               396.0    1954-04-01   \n...                 ...              ...                 ...           ...   \n1042989  WCR2011-011692              NaN               320.0    2011-08-02   \n1042993  WCR2015-014442              NaN               165.0    2015-10-21   \n1043027  WCR2014-014504              NaN               220.0    2014-08-30   \n1043028  WCR2015-013869              NaN               250.0    2015-04-21   \n1043031  WCR2014-014803              NaN               230.0    2014-07-30   \n\n        WELLYIELD  WELLYIELDUNITOFMEASURE  TOTALCOMPLETEDDEPTH_CORRECTED  \\\n4             1.0                     GPM                          840.0   \n67          100.0                     GPM                          210.0   \n90          100.0                     GPM                          240.0   \n130           NaN                     NaN                          205.0   \n196          58.0                     GPM                          396.0   \n...           ...                     ...                            ...   \n1042989       NaN                     NaN                          320.0   \n1042993       NaN                     NaN                          165.0   \n1043027      25.0                     GPM                          220.0   \n1043028      30.0                     GPM                          250.0   \n1043031       NaN                     NaN                          230.0   \n\n        DATEWORKENDED_CORRECTED  YEARWORKENDED MONTHWORKENDED  \n4                    2019-10-22         2019.0           10.0  \n67                   2019-11-15         2019.0           11.0  \n90                          NaT            NaN            NaN  \n130                  2014-05-21         2014.0            5.0  \n196                  1954-04-01         1954.0            4.0  \n...                         ...            ...            ...  \n1042989              2011-08-02         2011.0            8.0  \n1042993              2015-10-21         2015.0           10.0  \n1043027              2014-08-30         2014.0            8.0  \n1043028              2015-04-21         2015.0            4.0  \n1043031              2014-07-30         2014.0            7.0  \n\n[451264 rows x 24 columns]",
      "text/html": "<div>\n<style scoped>\n    .dataframe tbody tr th:only-of-type {\n        vertical-align: middle;\n    }\n\n    .dataframe tbody tr th {\n        vertical-align: top;\n    }\n\n    .dataframe thead th {\n        text-align: right;\n    }\n</style>\n<table border=\"1\" class=\"dataframe\">\n  <thead>\n    <tr style=\"text-align: right;\">\n      <th></th>\n      <th>LATITUDE</th>\n      <th>LONGITUDE</th>\n      <th>TOWNSHIP</th>\n      <th>RANGE</th>\n      <th>SECTION</th>\n      <th>WELLLOCATION</th>\n      <th>CITY</th>\n      <th>COUNTY</th>\n      <th>BOTTOMOFPERFORATEDINTERVAL</th>\n      <th>TOPOFPERFORATEDINTERVAL</th>\n      <th>...</th>\n      <th>WCRNUMBER</th>\n      <th>TOTALDRILLDEPTH</th>\n      <th>TOTALCOMPLETEDDEPTH</th>\n      <th>DATEWORKENDED</th>\n      <th>WELLYIELD</th>\n      <th>WELLYIELDUNITOFMEASURE</th>\n      <th>TOTALCOMPLETEDDEPTH_CORRECTED</th>\n      <th>DATEWORKENDED_CORRECTED</th>\n      <th>YEARWORKENDED</th>\n      <th>MONTHWORKENDED</th>\n    </tr>\n  </thead>\n  <tbody>\n    <tr>\n      <th>4</th>\n      <td>37.431500</td>\n      <td>-122.080000</td>\n      <td>06S</td>\n      <td>02W</td>\n      <td>09</td>\n      <td>22148 Eden Canyon RD</td>\n      <td>Castro Valley</td>\n      <td>Alameda</td>\n      <td>840.0</td>\n      <td>600.0</td>\n      <td>...</td>\n      <td>WCR2019-015599</td>\n      <td>840.0</td>\n      <td>840.0</td>\n      <td>2019-10-22</td>\n      <td>1.0</td>\n      <td>GPM</td>\n      <td>840.0</td>\n      <td>2019-10-22</td>\n      <td>2019.0</td>\n      <td>10.0</td>\n    </tr>\n    <tr>\n      <th>67</th>\n      <td>37.644024</td>\n      <td>-121.893386</td>\n      <td>03S</td>\n      <td>01E</td>\n      <td>29</td>\n      <td>0 CASTLEWOOD DR</td>\n      <td>PLEASANTON</td>\n      <td>Alameda</td>\n      <td>190.0</td>\n      <td>90.0</td>\n      <td>...</td>\n      <td>WCR2020-000099</td>\n      <td>230.0</td>\n      <td>210.0</td>\n      <td>2019-11-15</td>\n      <td>100.0</td>\n      <td>GPM</td>\n      <td>210.0</td>\n      <td>2019-11-15</td>\n      <td>2019.0</td>\n      <td>11.0</td>\n    </tr>\n    <tr>\n      <th>90</th>\n      <td>37.658240</td>\n      <td>-121.850860</td>\n      <td>03S</td>\n      <td>01E</td>\n      <td>22</td>\n      <td>NaN</td>\n      <td>NaN</td>\n      <td>Alameda</td>\n      <td>220.0</td>\n      <td>120.0</td>\n      <td>...</td>\n      <td>WCR0172727</td>\n      <td>NaN</td>\n      <td>240.0</td>\n      <td>NaT</td>\n      <td>100.0</td>\n      <td>GPM</td>\n      <td>240.0</td>\n      <td>NaT</td>\n      <td>NaN</td>\n      <td>NaN</td>\n    </tr>\n    <tr>\n      <th>130</th>\n      <td>37.687320</td>\n      <td>-121.850730</td>\n      <td>03S</td>\n      <td>01E</td>\n      <td>10</td>\n      <td>EL CHARRO ROAD-NW COMER OF LAKE H</td>\n      <td>PLEASANTON</td>\n      <td>Alameda</td>\n      <td>100.0</td>\n      <td>0.0</td>\n      <td>...</td>\n      <td>WCR2014-016112</td>\n      <td>NaN</td>\n      <td>205.0</td>\n      <td>2014-05-21</td>\n      <td>NaN</td>\n      <td>NaN</td>\n      <td>205.0</td>\n      <td>2014-05-21</td>\n      <td>2014.0</td>\n      <td>5.0</td>\n    </tr>\n    <tr>\n      <th>196</th>\n      <td>37.542150</td>\n      <td>-121.996580</td>\n      <td>04S</td>\n      <td>01W</td>\n      <td>32</td>\n      <td>NaN</td>\n      <td>NaN</td>\n      <td>Alameda</td>\n      <td>380.0</td>\n      <td>351.0</td>\n      <td>...</td>\n      <td>WCR0079408</td>\n      <td>NaN</td>\n      <td>396.0</td>\n      <td>1954-04-01</td>\n      <td>58.0</td>\n      <td>GPM</td>\n      <td>396.0</td>\n      <td>1954-04-01</td>\n      <td>1954.0</td>\n      <td>4.0</td>\n    </tr>\n    <tr>\n      <th>...</th>\n      <td>...</td>\n      <td>...</td>\n      <td>...</td>\n      <td>...</td>\n      <td>...</td>\n      <td>...</td>\n      <td>...</td>\n      <td>...</td>\n      <td>...</td>\n      <td>...</td>\n      <td>...</td>\n      <td>...</td>\n      <td>...</td>\n      <td>...</td>\n      <td>...</td>\n      <td>...</td>\n      <td>...</td>\n      <td>...</td>\n      <td>...</td>\n      <td>...</td>\n      <td>...</td>\n    </tr>\n    <tr>\n      <th>1042989</th>\n      <td>37.614012</td>\n      <td>-121.817013</td>\n      <td>04S</td>\n      <td>01E</td>\n      <td>01</td>\n      <td>7010 VALLECITOS ROAD</td>\n      <td>SUNOL</td>\n      <td>NaN</td>\n      <td>297.0</td>\n      <td>145.0</td>\n      <td>...</td>\n      <td>WCR2011-011692</td>\n      <td>NaN</td>\n      <td>320.0</td>\n      <td>2011-08-02</td>\n      <td>NaN</td>\n      <td>NaN</td>\n      <td>320.0</td>\n      <td>2011-08-02</td>\n      <td>2011.0</td>\n      <td>8.0</td>\n    </tr>\n    <tr>\n      <th>1042993</th>\n      <td>38.227086</td>\n      <td>-121.466892</td>\n      <td>04N</td>\n      <td>05E</td>\n      <td>06</td>\n      <td>26501 N. VAIL ROAD</td>\n      <td>NaN</td>\n      <td>NaN</td>\n      <td>165.0</td>\n      <td>105.0</td>\n      <td>...</td>\n      <td>WCR2015-014442</td>\n      <td>NaN</td>\n      <td>165.0</td>\n      <td>2015-10-21</td>\n      <td>NaN</td>\n      <td>NaN</td>\n      <td>165.0</td>\n      <td>2015-10-21</td>\n      <td>2015.0</td>\n      <td>10.0</td>\n    </tr>\n    <tr>\n      <th>1043027</th>\n      <td>38.751944</td>\n      <td>-120.496667</td>\n      <td>11N</td>\n      <td>13E</td>\n      <td>35</td>\n      <td>PARK CREEK</td>\n      <td>NaN</td>\n      <td>NaN</td>\n      <td>220.0</td>\n      <td>200.0</td>\n      <td>...</td>\n      <td>WCR2014-014504</td>\n      <td>NaN</td>\n      <td>220.0</td>\n      <td>2014-08-30</td>\n      <td>25.0</td>\n      <td>GPM</td>\n      <td>220.0</td>\n      <td>2014-08-30</td>\n      <td>2014.0</td>\n      <td>8.0</td>\n    </tr>\n    <tr>\n      <th>1043028</th>\n      <td>38.848056</td>\n      <td>-121.497778</td>\n      <td>12N</td>\n      <td>04E</td>\n      <td>35</td>\n      <td>XXX</td>\n      <td>XXX</td>\n      <td>NaN</td>\n      <td>160.0</td>\n      <td>1.0</td>\n      <td>...</td>\n      <td>WCR2015-013869</td>\n      <td>NaN</td>\n      <td>250.0</td>\n      <td>2015-04-21</td>\n      <td>30.0</td>\n      <td>GPM</td>\n      <td>250.0</td>\n      <td>2015-04-21</td>\n      <td>2015.0</td>\n      <td>4.0</td>\n    </tr>\n    <tr>\n      <th>1043031</th>\n      <td>38.159722</td>\n      <td>-121.368056</td>\n      <td>04N</td>\n      <td>06E</td>\n      <td>31</td>\n      <td>SAME</td>\n      <td>NaN</td>\n      <td>NaN</td>\n      <td>230.0</td>\n      <td>170.0</td>\n      <td>...</td>\n      <td>WCR2014-014803</td>\n      <td>NaN</td>\n      <td>230.0</td>\n      <td>2014-07-30</td>\n      <td>NaN</td>\n      <td>NaN</td>\n      <td>230.0</td>\n      <td>2014-07-30</td>\n      <td>2014.0</td>\n      <td>7.0</td>\n    </tr>\n  </tbody>\n</table>\n<p>451264 rows × 24 columns</p>\n</div>"
     },
     "metadata": {}
    }
   ]
  },
  {
   "cell_type": "code",
   "metadata": {
    "cell_id": "5c0832a7-b191-4418-a9a0-51bfeadc9ba6",
    "tags": [],
    "deepnote_to_be_reexecuted": false,
    "source_hash": "a63a4462",
    "execution_start": 1647726249215,
    "execution_millis": 654,
    "deepnote_cell_type": "code",
    "deepnote_cell_height": 628,
    "deepnote_output_heights": [
     531
    ]
   },
   "source": "wcr_instance.draw_mising_data_chart( wcr_instance.wellcompletion_subset_df)",
   "execution_count": null,
   "outputs": [
    {
     "output_type": "execute_result",
     "execution_count": 8,
     "data": {
      "text/html": "\n<div id=\"altair-viz-98d6cb9ad72044fcb7f809de00437a10\"></div>\n<script type=\"text/javascript\">\n  var VEGA_DEBUG = (typeof VEGA_DEBUG == \"undefined\") ? {} : VEGA_DEBUG;\n  (function(spec, embedOpt){\n    let outputDiv = document.currentScript.previousElementSibling;\n    if (outputDiv.id !== \"altair-viz-98d6cb9ad72044fcb7f809de00437a10\") {\n      outputDiv = document.getElementById(\"altair-viz-98d6cb9ad72044fcb7f809de00437a10\");\n    }\n    const paths = {\n      \"vega\": \"https://cdn.jsdelivr.net/npm//vega@5?noext\",\n      \"vega-lib\": \"https://cdn.jsdelivr.net/npm//vega-lib?noext\",\n      \"vega-lite\": \"https://cdn.jsdelivr.net/npm//vega-lite@4.17.0?noext\",\n      \"vega-embed\": \"https://cdn.jsdelivr.net/npm//vega-embed@6?noext\",\n    };\n\n    function maybeLoadScript(lib, version) {\n      var key = `${lib.replace(\"-\", \"\")}_version`;\n      return (VEGA_DEBUG[key] == version) ?\n        Promise.resolve(paths[lib]) :\n        new Promise(function(resolve, reject) {\n          var s = document.createElement('script');\n          document.getElementsByTagName(\"head\")[0].appendChild(s);\n          s.async = true;\n          s.onload = () => {\n            VEGA_DEBUG[key] = version;\n            return resolve(paths[lib]);\n          };\n          s.onerror = () => reject(`Error loading script: ${paths[lib]}`);\n          s.src = paths[lib];\n        });\n    }\n\n    function showError(err) {\n      outputDiv.innerHTML = `<div class=\"error\" style=\"color:red;\">${err}</div>`;\n      throw err;\n    }\n\n    function displayChart(vegaEmbed) {\n      vegaEmbed(outputDiv, spec, embedOpt)\n        .catch(err => showError(`Javascript Error: ${err.message}<br>This usually means there's a typo in your chart specification. See the javascript console for the full traceback.`));\n    }\n\n    if(typeof define === \"function\" && define.amd) {\n      requirejs.config({paths});\n      require([\"vega-embed\"], displayChart, err => showError(`Error loading script: ${err.message}`));\n    } else {\n      maybeLoadScript(\"vega\", \"5\")\n        .then(() => maybeLoadScript(\"vega-lite\", \"4.17.0\"))\n        .then(() => maybeLoadScript(\"vega-embed\", \"6\"))\n        .catch(showError)\n        .then(() => displayChart(vegaEmbed));\n    }\n  })({\"config\": {\"view\": {\"continuousWidth\": 400, \"continuousHeight\": 300}}, \"layer\": [{\"mark\": \"bar\", \"encoding\": {\"color\": {\"value\": \"orange\"}, \"tooltip\": [{\"field\": \"column_name\", \"type\": \"nominal\"}, {\"field\": \"percent_missing\", \"type\": \"quantitative\"}], \"x\": {\"field\": \"column_name\", \"sort\": [\"GROUNDSURFACEELEVATION\", \"TOTALDRILLDEPTH\", \"STATICWATERLEVEL\", \"WELLYIELD\", \"WELLYIELDUNITOFMEASURE\", \"WELLLOCATION\", \"CITY\", \"BOTTOMOFPERFORATEDINTERVAL\", \"TOPOFPERFORATEDINTERVAL\", \"YEARWORKENDED\", \"DATEWORKENDED_CORRECTED\", \"MONTHWORKENDED\", \"DATEWORKENDED\", \"TOTALCOMPLETEDDEPTH_CORRECTED\", \"TOTALCOMPLETEDDEPTH\", \"SECTION\", \"COUNTY\", \"RANGE\", \"TOWNSHIP\", \"LATITUDE\", \"WCRNUMBER\", \"USE\", \"LONGITUDE\", \"RECORDTYPE\"], \"type\": \"nominal\"}, \"y\": {\"aggregate\": \"sum\", \"axis\": {\"format\": \"%\"}, \"field\": \"percent_missing\", \"stack\": \"normalize\", \"type\": \"quantitative\"}}}, {\"mark\": {\"type\": \"text\", \"align\": \"center\", \"color\": \"black\", \"fontSize\": 10}, \"encoding\": {\"color\": {\"value\": \"orange\"}, \"text\": {\"field\": \"percent_missing\", \"format\": \".0%\", \"type\": \"quantitative\"}, \"tooltip\": [{\"field\": \"column_name\", \"type\": \"nominal\"}, {\"field\": \"percent_missing\", \"type\": \"quantitative\"}], \"x\": {\"field\": \"column_name\", \"sort\": [\"GROUNDSURFACEELEVATION\", \"TOTALDRILLDEPTH\", \"STATICWATERLEVEL\", \"WELLYIELD\", \"WELLYIELDUNITOFMEASURE\", \"WELLLOCATION\", \"CITY\", \"BOTTOMOFPERFORATEDINTERVAL\", \"TOPOFPERFORATEDINTERVAL\", \"YEARWORKENDED\", \"DATEWORKENDED_CORRECTED\", \"MONTHWORKENDED\", \"DATEWORKENDED\", \"TOTALCOMPLETEDDEPTH_CORRECTED\", \"TOTALCOMPLETEDDEPTH\", \"SECTION\", \"COUNTY\", \"RANGE\", \"TOWNSHIP\", \"LATITUDE\", \"WCRNUMBER\", \"USE\", \"LONGITUDE\", \"RECORDTYPE\"], \"type\": \"nominal\"}, \"y\": {\"field\": \"position\", \"type\": \"quantitative\"}}, \"transform\": [{\"calculate\": \"datum.percent_missing + 0.05 * datum.percent_missing / abs(datum.percent_missing)\", \"as\": \"position\"}]}], \"data\": {\"name\": \"data-ada3afc385266827e3ad7bcb5125be00\"}, \"$schema\": \"https://vega.github.io/schema/vega-lite/v4.17.0.json\", \"datasets\": {\"data-ada3afc385266827e3ad7bcb5125be00\": [{\"column_name\": \"GROUNDSURFACEELEVATION\", \"percent_missing\": 0.9936600304921288}, {\"column_name\": \"TOTALDRILLDEPTH\", \"percent_missing\": 0.9452050241100554}, {\"column_name\": \"STATICWATERLEVEL\", \"percent_missing\": 0.6784299212877606}, {\"column_name\": \"WELLYIELD\", \"percent_missing\": 0.5671868352006808}, {\"column_name\": \"WELLYIELDUNITOFMEASURE\", \"percent_missing\": 0.5671868352006808}, {\"column_name\": \"WELLLOCATION\", \"percent_missing\": 0.5167019748971777}, {\"column_name\": \"CITY\", \"percent_missing\": 0.49763774641894765}, {\"column_name\": \"BOTTOMOFPERFORATEDINTERVAL\", \"percent_missing\": 0.41645245355268756}, {\"column_name\": \"TOPOFPERFORATEDINTERVAL\", \"percent_missing\": 0.4159117501063679}, {\"column_name\": \"YEARWORKENDED\", \"percent_missing\": 0.038002145085803435}, {\"column_name\": \"DATEWORKENDED_CORRECTED\", \"percent_missing\": 0.038002145085803435}, {\"column_name\": \"MONTHWORKENDED\", \"percent_missing\": 0.038002145085803435}, {\"column_name\": \"DATEWORKENDED\", \"percent_missing\": 0.03792015316976315}, {\"column_name\": \"TOTALCOMPLETEDDEPTH_CORRECTED\", \"percent_missing\": 0.03712017798893774}, {\"column_name\": \"TOTALCOMPLETEDDEPTH\", \"percent_missing\": 0.03597007516664303}, {\"column_name\": \"SECTION\", \"percent_missing\": 0.00025040774358247057}, {\"column_name\": \"COUNTY\", \"percent_missing\": 8.42079137710963e-05}, {\"column_name\": \"RANGE\", \"percent_missing\": 5.7615941001276415e-05}, {\"column_name\": \"TOWNSHIP\", \"percent_missing\": 4.210395688554815e-05}, {\"column_name\": \"LATITUDE\", \"percent_missing\": 0.0}, {\"column_name\": \"WCRNUMBER\", \"percent_missing\": 0.0}, {\"column_name\": \"USE\", \"percent_missing\": 0.0}, {\"column_name\": \"LONGITUDE\", \"percent_missing\": 0.0}, {\"column_name\": \"RECORDTYPE\", \"percent_missing\": 0.0}]}}, {\"mode\": \"vega-lite\"});\n</script>",
      "text/plain": "alt.LayerChart(...)"
     },
     "metadata": {}
    }
   ]
  },
  {
   "cell_type": "code",
   "metadata": {
    "cell_id": "18c7b3aa-1dd2-481a-b53f-4ee03bb8981a",
    "tags": [],
    "deepnote_to_be_reexecuted": false,
    "source_hash": "f0694a93",
    "execution_start": 1647726256028,
    "execution_millis": 13328,
    "deepnote_cell_type": "code",
    "deepnote_cell_height": 614.796875
   },
   "source": "wcr_instance.merge_data_plss()",
   "execution_count": null,
   "outputs": [
    {
     "output_type": "execute_result",
     "execution_count": 9,
     "data": {
      "application/vnd.deepnote.dataframe.v3+json": {
       "column_count": 34,
       "row_count": 105987,
       "columns": [
        {
         "name": "LATITUDE",
         "dtype": "float64"
        },
        {
         "name": "LONGITUDE",
         "dtype": "float64"
        },
        {
         "name": "TOWNSHIP",
         "dtype": "object"
        },
        {
         "name": "RANGE",
         "dtype": "object"
        },
        {
         "name": "SECTION",
         "dtype": "object"
        },
        {
         "name": "WELLLOCATION",
         "dtype": "object"
        },
        {
         "name": "CITY",
         "dtype": "object"
        },
        {
         "name": "COUNTY",
         "dtype": "object"
        },
        {
         "name": "BOTTOMOFPERFORATEDINTERVAL",
         "dtype": "float64"
        },
        {
         "name": "TOPOFPERFORATEDINTERVAL",
         "dtype": "float64"
        },
        {
         "name": "STATICWATERLEVEL",
         "dtype": "float64"
        },
        {
         "name": "RECORDTYPE",
         "dtype": "object"
        },
        {
         "name": "USE",
         "dtype": "object"
        },
        {
         "name": "WCRNUMBER",
         "dtype": "object"
        },
        {
         "name": "TOTALDRILLDEPTH",
         "dtype": "float64"
        },
        {
         "name": "TOTALCOMPLETEDDEPTH",
         "dtype": "float64"
        },
        {
         "name": "DATEWORKENDED",
         "dtype": "datetime64[ns]"
        },
        {
         "name": "WELLYIELD",
         "dtype": "float64"
        },
        {
         "name": "WELLYIELDUNITOFMEASURE",
         "dtype": "object"
        },
        {
         "name": "TOTALCOMPLETEDDEPTH_CORRECTED",
         "dtype": "float64"
        },
        {
         "name": "DATEWORKENDED_CORRECTED",
         "dtype": "datetime64[ns]"
        },
        {
         "name": "YEARWORKENDED",
         "dtype": "float64"
        },
        {
         "name": "MONTHWORKENDED",
         "dtype": "float64"
        },
        {
         "name": "GROUNDSURFACEELEVATION",
         "dtype": "float64"
        },
        {
         "name": "geometry",
         "dtype": "geometry"
        },
        {
         "name": "index_right",
         "dtype": "float64"
        },
        {
         "name": "OBJECTID",
         "dtype": "float64"
        },
        {
         "name": "Township",
         "dtype": "object"
        },
        {
         "name": "Range",
         "dtype": "object"
        },
        {
         "name": "Meridian",
         "dtype": "object"
        },
        {
         "name": "Source",
         "dtype": "object"
        },
        {
         "name": "Section",
         "dtype": "float64"
        },
        {
         "name": "MTRS",
         "dtype": "object"
        },
        {
         "name": "TownshipRange",
         "dtype": "object"
        },
        {
         "name": "_deepnote_index_column",
         "dtype": "int64"
        }
       ],
       "rows": [
        {
         "LATITUDE": 37.77295,
         "LONGITUDE": -121.56237,
         "TOWNSHIP": "02S",
         "RANGE": "04E",
         "SECTION": "08",
         "WELLLOCATION": "nan",
         "CITY": "TRACY",
         "COUNTY": "Alameda",
         "BOTTOMOFPERFORATEDINTERVAL": "nan",
         "TOPOFPERFORATEDINTERVAL": "nan",
         "STATICWATERLEVEL": "nan",
         "RECORDTYPE": "WellCompletion/New/Production or Monitoring/NA",
         "USE": "Domestic",
         "WCRNUMBER": "WCR1989-004333",
         "TOTALDRILLDEPTH": "nan",
         "TOTALCOMPLETEDDEPTH": 180,
         "DATEWORKENDED": "1989-02-16T00:00:00.000000",
         "WELLYIELD": "nan",
         "WELLYIELDUNITOFMEASURE": "nan",
         "TOTALCOMPLETEDDEPTH_CORRECTED": 180,
         "DATEWORKENDED_CORRECTED": "1989-02-16T00:00:00.000000",
         "YEARWORKENDED": 1989,
         "MONTHWORKENDED": 2,
         "GROUNDSURFACEELEVATION": 38.17,
         "geometry": "POINT (-121.56237 37.77295)",
         "index_right": 1098,
         "OBJECTID": 12474,
         "Township": "T02S",
         "Range": "R04E",
         "Meridian": "MDM",
         "Source": "BLM",
         "Section": 8,
         "MTRS": "MDM-T02S-R04E-8",
         "TownshipRange": "T02S R04E",
         "_deepnote_index_column": 55
        },
        {
         "LATITUDE": 37.78755,
         "LONGITUDE": -121.61403,
         "TOWNSHIP": "02S",
         "RANGE": "03E",
         "SECTION": "02",
         "WELLLOCATION": "nan",
         "CITY": "LIVERMORE",
         "COUNTY": "Alameda",
         "BOTTOMOFPERFORATEDINTERVAL": "nan",
         "TOPOFPERFORATEDINTERVAL": "nan",
         "STATICWATERLEVEL": "nan",
         "RECORDTYPE": "WellCompletion/New/Production or Monitoring/NA",
         "USE": "Agriculture",
         "WCRNUMBER": "WCR1993-000742",
         "TOTALDRILLDEPTH": "nan",
         "TOTALCOMPLETEDDEPTH": 455,
         "DATEWORKENDED": "1993-03-15T00:00:00.000000",
         "WELLYIELD": "nan",
         "WELLYIELDUNITOFMEASURE": "nan",
         "TOTALCOMPLETEDDEPTH_CORRECTED": 455,
         "DATEWORKENDED_CORRECTED": "1993-03-15T00:00:00.000000",
         "YEARWORKENDED": 1993,
         "MONTHWORKENDED": 3,
         "GROUNDSURFACEELEVATION": 45.1,
         "geometry": "POINT (-121.61403 37.78755)",
         "index_right": 1063,
         "OBJECTID": 12379,
         "Township": "T02S",
         "Range": "R03E",
         "Meridian": "MDM",
         "Source": "BLM",
         "Section": 2,
         "MTRS": "MDM-T02S-R03E-2",
         "TownshipRange": "T02S R03E",
         "_deepnote_index_column": 148
        },
        {
         "LATITUDE": 37.81175,
         "LONGITUDE": -121.56185,
         "TOWNSHIP": "01S",
         "RANGE": "04E",
         "SECTION": "29",
         "WELLLOCATION": "nan",
         "CITY": "BYRON",
         "COUNTY": "Alameda",
         "BOTTOMOFPERFORATEDINTERVAL": "nan",
         "TOPOFPERFORATEDINTERVAL": "nan",
         "STATICWATERLEVEL": "nan",
         "RECORDTYPE": "WellCompletion/New/Production or Monitoring/NA",
         "USE": "Public",
         "WCRNUMBER": "WCR1988-004129",
         "TOTALDRILLDEPTH": "nan",
         "TOTALCOMPLETEDDEPTH": 277,
         "DATEWORKENDED": "1988-09-01T00:00:00.000000",
         "WELLYIELD": "nan",
         "WELLYIELDUNITOFMEASURE": "nan",
         "TOTALCOMPLETEDDEPTH_CORRECTED": 277,
         "DATEWORKENDED_CORRECTED": "1988-09-01T00:00:00.000000",
         "YEARWORKENDED": 1988,
         "MONTHWORKENDED": 9,
         "GROUNDSURFACEELEVATION": 2.92,
         "geometry": "POINT (-121.56185 37.81175)",
         "index_right": 21,
         "OBJECTID": 3598,
         "Township": "T01S",
         "Range": "R04E",
         "Meridian": "MDM",
         "Source": "DGR",
         "Section": 29,
         "MTRS": "MDM-T01S-R04E-29",
         "TownshipRange": "T01S R04E",
         "_deepnote_index_column": 191
        },
        {
         "LATITUDE": 37.74404,
         "LONGITUDE": -121.57727,
         "TOWNSHIP": "02S",
         "RANGE": "04E",
         "SECTION": "19",
         "WELLLOCATION": "16965 MIDWAY RD",
         "CITY": "TRACY",
         "COUNTY": "Alameda",
         "BOTTOMOFPERFORATEDINTERVAL": 160,
         "TOPOFPERFORATEDINTERVAL": 120,
         "STATICWATERLEVEL": "nan",
         "RECORDTYPE": "WellCompletion/New/Production or Monitoring/NA",
         "USE": "Domestic",
         "WCRNUMBER": "WCR1995-002004",
         "TOTALDRILLDEPTH": "nan",
         "TOTALCOMPLETEDDEPTH": 320,
         "DATEWORKENDED": "1995-09-08T00:00:00.000000",
         "WELLYIELD": "nan",
         "WELLYIELDUNITOFMEASURE": "nan",
         "TOTALCOMPLETEDDEPTH_CORRECTED": 320,
         "DATEWORKENDED_CORRECTED": "1995-09-08T00:00:00.000000",
         "YEARWORKENDED": 1995,
         "MONTHWORKENDED": 9,
         "GROUNDSURFACEELEVATION": 109.47,
         "geometry": "POINT (-121.57727 37.74404)",
         "index_right": 1074,
         "OBJECTID": 12450,
         "Township": "T02S",
         "Range": "R04E",
         "Meridian": "MDM",
         "Source": "BLM",
         "Section": 19,
         "MTRS": "MDM-T02S-R04E-19",
         "TownshipRange": "T02S R04E",
         "_deepnote_index_column": 196
        },
        {
         "LATITUDE": 37.78757,
         "LONGITUDE": -121.59582,
         "TOWNSHIP": "02S",
         "RANGE": "03E",
         "SECTION": "01",
         "WELLLOCATION": "nan",
         "CITY": "LIVERMORE",
         "COUNTY": "Alameda",
         "BOTTOMOFPERFORATEDINTERVAL": "nan",
         "TOPOFPERFORATEDINTERVAL": "nan",
         "STATICWATERLEVEL": "nan",
         "RECORDTYPE": "WellCompletion/New/Production or Monitoring/NA",
         "USE": "Domestic",
         "WCRNUMBER": "WCR1981-003290",
         "TOTALDRILLDEPTH": "nan",
         "TOTALCOMPLETEDDEPTH": 200,
         "DATEWORKENDED": "1981-05-08T00:00:00.000000",
         "WELLYIELD": "nan",
         "WELLYIELDUNITOFMEASURE": "nan",
         "TOTALCOMPLETEDDEPTH_CORRECTED": 200,
         "DATEWORKENDED_CORRECTED": "1981-05-08T00:00:00.000000",
         "YEARWORKENDED": 1981,
         "MONTHWORKENDED": 5,
         "GROUNDSURFACEELEVATION": 37.6,
         "geometry": "POINT (-121.59582 37.78757)",
         "index_right": 1061,
         "OBJECTID": 12368,
         "Township": "T02S",
         "Range": "R03E",
         "Meridian": "MDM",
         "Source": "BLM",
         "Section": 1,
         "MTRS": "MDM-T02S-R03E-1",
         "TownshipRange": "T02S R03E",
         "_deepnote_index_column": 197
        },
        {
         "LATITUDE": 37.74404,
         "LONGITUDE": -121.57727,
         "TOWNSHIP": "02S",
         "RANGE": "04E",
         "SECTION": "19",
         "WELLLOCATION": "MIDWAY RD",
         "CITY": "TRACY",
         "COUNTY": "Alameda",
         "BOTTOMOFPERFORATEDINTERVAL": 85,
         "TOPOFPERFORATEDINTERVAL": 32,
         "STATICWATERLEVEL": "nan",
         "RECORDTYPE": "WellCompletion/New/Production or Monitoring/NA",
         "USE": "Domestic",
         "WCRNUMBER": "WCR1974-000592",
         "TOTALDRILLDEPTH": "nan",
         "TOTALCOMPLETEDDEPTH": 86,
         "DATEWORKENDED": "1974-11-05T00:00:00.000000",
         "WELLYIELD": "nan",
         "WELLYIELDUNITOFMEASURE": "nan",
         "TOTALCOMPLETEDDEPTH_CORRECTED": 86,
         "DATEWORKENDED_CORRECTED": "1974-11-05T00:00:00.000000",
         "YEARWORKENDED": 1974,
         "MONTHWORKENDED": 11,
         "GROUNDSURFACEELEVATION": 109.47,
         "geometry": "POINT (-121.57727 37.74404)",
         "index_right": 1074,
         "OBJECTID": 12450,
         "Township": "T02S",
         "Range": "R04E",
         "Meridian": "MDM",
         "Source": "BLM",
         "Section": 19,
         "MTRS": "MDM-T02S-R04E-19",
         "TownshipRange": "T02S R04E",
         "_deepnote_index_column": 199
        },
        {
         "LATITUDE": 37.77295,
         "LONGITUDE": -121.56237,
         "TOWNSHIP": "02S",
         "RANGE": "04E",
         "SECTION": "08",
         "WELLLOCATION": "17297/17293/17289 W. KELSO RD.",
         "CITY": "TRACY",
         "COUNTY": "Alameda",
         "BOTTOMOFPERFORATEDINTERVAL": 70,
         "TOPOFPERFORATEDINTERVAL": 50,
         "STATICWATERLEVEL": 32,
         "RECORDTYPE": "WellCompletion/New/Production or Monitoring/NA",
         "USE": "Domestic",
         "WCRNUMBER": "WCR2008-012364",
         "TOTALDRILLDEPTH": "nan",
         "TOTALCOMPLETEDDEPTH": 175,
         "DATEWORKENDED": "2008-11-21T00:00:00.000000",
         "WELLYIELD": "nan",
         "WELLYIELDUNITOFMEASURE": "nan",
         "TOTALCOMPLETEDDEPTH_CORRECTED": 175,
         "DATEWORKENDED_CORRECTED": "2008-11-21T00:00:00.000000",
         "YEARWORKENDED": 2008,
         "MONTHWORKENDED": 11,
         "GROUNDSURFACEELEVATION": 38.17,
         "geometry": "POINT (-121.56237 37.77295)",
         "index_right": 1098,
         "OBJECTID": 12474,
         "Township": "T02S",
         "Range": "R04E",
         "Meridian": "MDM",
         "Source": "BLM",
         "Section": 8,
         "MTRS": "MDM-T02S-R04E-8",
         "TownshipRange": "T02S R04E",
         "_deepnote_index_column": 219
        },
        {
         "LATITUDE": 37.80081,
         "LONGITUDE": -121.59519,
         "TOWNSHIP": "01S",
         "RANGE": "03E",
         "SECTION": "36",
         "WELLLOCATION": "nan",
         "CITY": "BYRON",
         "COUNTY": "Alameda",
         "BOTTOMOFPERFORATEDINTERVAL": "nan",
         "TOPOFPERFORATEDINTERVAL": "nan",
         "STATICWATERLEVEL": "nan",
         "RECORDTYPE": "WellCompletion/New/Production or Monitoring/NA",
         "USE": "Domestic",
         "WCRNUMBER": "WCR1987-008429",
         "TOTALDRILLDEPTH": "nan",
         "TOTALCOMPLETEDDEPTH": 115,
         "DATEWORKENDED": "1987-06-18T00:00:00.000000",
         "WELLYIELD": "nan",
         "WELLYIELDUNITOFMEASURE": "nan",
         "TOTALCOMPLETEDDEPTH_CORRECTED": 115,
         "DATEWORKENDED_CORRECTED": "1987-06-18T00:00:00.000000",
         "YEARWORKENDED": 1987,
         "MONTHWORKENDED": 6,
         "GROUNDSURFACEELEVATION": 32.84,
         "geometry": "POINT (-121.59519 37.80081)",
         "index_right": 477,
         "OBJECTID": 9647,
         "Township": "T01S",
         "Range": "R03E",
         "Meridian": "MDM",
         "Source": "BLM",
         "Section": 36,
         "MTRS": "MDM-T01S-R03E-36",
         "TownshipRange": "T01S R03E",
         "_deepnote_index_column": 275
        },
        {
         "LATITUDE": 37.75853,
         "LONGITUDE": -121.57727,
         "TOWNSHIP": "02S",
         "RANGE": "04E",
         "SECTION": "18",
         "WELLLOCATION": "nan",
         "CITY": "LIVERMORE",
         "COUNTY": "Alameda",
         "BOTTOMOFPERFORATEDINTERVAL": "nan",
         "TOPOFPERFORATEDINTERVAL": "nan",
         "STATICWATERLEVEL": "nan",
         "RECORDTYPE": "WellCompletion/New/Production or Monitoring/NA",
         "USE": "Domestic",
         "WCRNUMBER": "WCR1987-008297",
         "TOTALDRILLDEPTH": "nan",
         "TOTALCOMPLETEDDEPTH": 142,
         "DATEWORKENDED": "1987-01-23T00:00:00.000000",
         "WELLYIELD": "nan",
         "WELLYIELDUNITOFMEASURE": "nan",
         "TOTALCOMPLETEDDEPTH_CORRECTED": 142,
         "DATEWORKENDED_CORRECTED": "1987-01-23T00:00:00.000000",
         "YEARWORKENDED": 1987,
         "MONTHWORKENDED": 1,
         "GROUNDSURFACEELEVATION": 54.03,
         "geometry": "POINT (-121.57727 37.75853)",
         "index_right": 1073,
         "OBJECTID": 12449,
         "Township": "T02S",
         "Range": "R04E",
         "Meridian": "MDM",
         "Source": "BLM",
         "Section": 18,
         "MTRS": "MDM-T02S-R04E-18",
         "TownshipRange": "T02S R04E",
         "_deepnote_index_column": 279
        },
        {
         "LATITUDE": 37.72944,
         "LONGITUDE": -121.56226,
         "TOWNSHIP": "02S",
         "RANGE": "04E",
         "SECTION": "29",
         "WELLLOCATION": "nan",
         "CITY": "TRACY",
         "COUNTY": "Alameda",
         "BOTTOMOFPERFORATEDINTERVAL": "nan",
         "TOPOFPERFORATEDINTERVAL": "nan",
         "STATICWATERLEVEL": "nan",
         "RECORDTYPE": "WellCompletion/New/Production or Monitoring/NA",
         "USE": "Domestic",
         "WCRNUMBER": "WCR1985-001277",
         "TOTALDRILLDEPTH": "nan",
         "TOTALCOMPLETEDDEPTH": 278,
         "DATEWORKENDED": "1985-02-06T00:00:00.000000",
         "WELLYIELD": "nan",
         "WELLYIELDUNITOFMEASURE": "nan",
         "TOTALCOMPLETEDDEPTH_CORRECTED": 278,
         "DATEWORKENDED_CORRECTED": "1985-02-06T00:00:00.000000",
         "YEARWORKENDED": 1985,
         "MONTHWORKENDED": 2,
         "GROUNDSURFACEELEVATION": 126.45,
         "geometry": "POINT (-121.56226 37.72944)",
         "index_right": 1085,
         "OBJECTID": 12461,
         "Township": "T02S",
         "Range": "R04E",
         "Meridian": "MDM",
         "Source": "BLM",
         "Section": 29,
         "MTRS": "MDM-T02S-R04E-29",
         "TownshipRange": "T02S R04E",
         "_deepnote_index_column": 350
        }
       ]
      },
      "text/plain": "         LATITUDE   LONGITUDE TOWNSHIP RANGE SECTION        WELLLOCATION  \\\n55      37.772950 -121.562370      02S   04E      08                 NaN   \n148     37.787550 -121.614030      02S   03E      02                 NaN   \n191     37.811750 -121.561850      01S   04E      29                 NaN   \n196     37.744040 -121.577270      02S   04E      19     16965 MIDWAY RD   \n197     37.787570 -121.595820      02S   03E      01                 NaN   \n...           ...         ...      ...   ...     ...                 ...   \n451250  38.179722 -121.320278      04N   06E      21                SAME   \n451257  38.166111 -121.187222      04N   07E      26                SAME   \n451258  38.179167 -121.070278      04N   08E      23                SAME   \n451260  38.227086 -121.466892      04N   05E      06  26501 N. VAIL ROAD   \n451263  38.159722 -121.368056      04N   06E      31                SAME   \n\n             CITY   COUNTY  BOTTOMOFPERFORATEDINTERVAL  \\\n55          TRACY  Alameda                         NaN   \n148     LIVERMORE  Alameda                         NaN   \n191         BYRON  Alameda                         NaN   \n196         TRACY  Alameda                       160.0   \n197     LIVERMORE  Alameda                         NaN   \n...           ...      ...                         ...   \n451250        NaN      NaN                       290.0   \n451257        NaN      NaN                       205.0   \n451258        NaN      NaN                       350.0   \n451260        NaN      NaN                       165.0   \n451263        NaN      NaN                       230.0   \n\n        TOPOFPERFORATEDINTERVAL  ...                     geometry index_right  \\\n55                          NaN  ...  POINT (-121.56237 37.77295)      1098.0   \n148                         NaN  ...  POINT (-121.61403 37.78755)      1063.0   \n191                         NaN  ...  POINT (-121.56185 37.81175)        21.0   \n196                       120.0  ...  POINT (-121.57727 37.74404)      1074.0   \n197                         NaN  ...  POINT (-121.59582 37.78757)      1061.0   \n...                         ...  ...                          ...         ...   \n451250                    210.0  ...  POINT (-121.32028 38.17972)      2065.0   \n451257                    145.0  ...  POINT (-121.18722 38.16611)        88.0   \n451258                    250.0  ...  POINT (-121.07028 38.17917)      1992.0   \n451260                    105.0  ...  POINT (-121.46689 38.22709)      2048.0   \n451263                    170.0  ...  POINT (-121.36806 38.15972)      2076.0   \n\n       OBJECTID Township  Range  Meridian Source  Section              MTRS  \\\n55      12474.0     T02S   R04E       MDM    BLM      8.0   MDM-T02S-R04E-8   \n148     12379.0     T02S   R03E       MDM    BLM      2.0   MDM-T02S-R03E-2   \n191      3598.0     T01S   R04E       MDM    DGR     29.0  MDM-T01S-R04E-29   \n196     12450.0     T02S   R04E       MDM    BLM     19.0  MDM-T02S-R04E-19   \n197     12368.0     T02S   R03E       MDM    BLM      1.0   MDM-T02S-R03E-1   \n...         ...      ...    ...       ...    ...      ...               ...   \n451250  16887.0     T04N   R06E       MDM    BLM     21.0  MDM-T04N-R06E-21   \n451257   3859.0     T04N   R07E       MDM    BLM     26.0  MDM-T04N-R07E-26   \n451258  16556.0     T04N   R08E       MDM    BLM     23.0  MDM-T04N-R08E-23   \n451260  16834.0     T04N   R05E       MDM    DGR      6.0   MDM-T04N-R05E-6   \n451263  16898.0     T04N   R06E       MDM    BLM     31.0  MDM-T04N-R06E-31   \n\n        TownshipRange  \n55          T02S R04E  \n148         T02S R03E  \n191         T01S R04E  \n196         T02S R04E  \n197         T02S R03E  \n...               ...  \n451250      T04N R06E  \n451257      T04N R07E  \n451258      T04N R08E  \n451260      T04N R05E  \n451263      T04N R06E  \n\n[105987 rows x 34 columns]",
      "text/html": "<div>\n<style scoped>\n    .dataframe tbody tr th:only-of-type {\n        vertical-align: middle;\n    }\n\n    .dataframe tbody tr th {\n        vertical-align: top;\n    }\n\n    .dataframe thead th {\n        text-align: right;\n    }\n</style>\n<table border=\"1\" class=\"dataframe\">\n  <thead>\n    <tr style=\"text-align: right;\">\n      <th></th>\n      <th>LATITUDE</th>\n      <th>LONGITUDE</th>\n      <th>TOWNSHIP</th>\n      <th>RANGE</th>\n      <th>SECTION</th>\n      <th>WELLLOCATION</th>\n      <th>CITY</th>\n      <th>COUNTY</th>\n      <th>BOTTOMOFPERFORATEDINTERVAL</th>\n      <th>TOPOFPERFORATEDINTERVAL</th>\n      <th>...</th>\n      <th>geometry</th>\n      <th>index_right</th>\n      <th>OBJECTID</th>\n      <th>Township</th>\n      <th>Range</th>\n      <th>Meridian</th>\n      <th>Source</th>\n      <th>Section</th>\n      <th>MTRS</th>\n      <th>TownshipRange</th>\n    </tr>\n  </thead>\n  <tbody>\n    <tr>\n      <th>55</th>\n      <td>37.772950</td>\n      <td>-121.562370</td>\n      <td>02S</td>\n      <td>04E</td>\n      <td>08</td>\n      <td>NaN</td>\n      <td>TRACY</td>\n      <td>Alameda</td>\n      <td>NaN</td>\n      <td>NaN</td>\n      <td>...</td>\n      <td>POINT (-121.56237 37.77295)</td>\n      <td>1098.0</td>\n      <td>12474.0</td>\n      <td>T02S</td>\n      <td>R04E</td>\n      <td>MDM</td>\n      <td>BLM</td>\n      <td>8.0</td>\n      <td>MDM-T02S-R04E-8</td>\n      <td>T02S R04E</td>\n    </tr>\n    <tr>\n      <th>148</th>\n      <td>37.787550</td>\n      <td>-121.614030</td>\n      <td>02S</td>\n      <td>03E</td>\n      <td>02</td>\n      <td>NaN</td>\n      <td>LIVERMORE</td>\n      <td>Alameda</td>\n      <td>NaN</td>\n      <td>NaN</td>\n      <td>...</td>\n      <td>POINT (-121.61403 37.78755)</td>\n      <td>1063.0</td>\n      <td>12379.0</td>\n      <td>T02S</td>\n      <td>R03E</td>\n      <td>MDM</td>\n      <td>BLM</td>\n      <td>2.0</td>\n      <td>MDM-T02S-R03E-2</td>\n      <td>T02S R03E</td>\n    </tr>\n    <tr>\n      <th>191</th>\n      <td>37.811750</td>\n      <td>-121.561850</td>\n      <td>01S</td>\n      <td>04E</td>\n      <td>29</td>\n      <td>NaN</td>\n      <td>BYRON</td>\n      <td>Alameda</td>\n      <td>NaN</td>\n      <td>NaN</td>\n      <td>...</td>\n      <td>POINT (-121.56185 37.81175)</td>\n      <td>21.0</td>\n      <td>3598.0</td>\n      <td>T01S</td>\n      <td>R04E</td>\n      <td>MDM</td>\n      <td>DGR</td>\n      <td>29.0</td>\n      <td>MDM-T01S-R04E-29</td>\n      <td>T01S R04E</td>\n    </tr>\n    <tr>\n      <th>196</th>\n      <td>37.744040</td>\n      <td>-121.577270</td>\n      <td>02S</td>\n      <td>04E</td>\n      <td>19</td>\n      <td>16965 MIDWAY RD</td>\n      <td>TRACY</td>\n      <td>Alameda</td>\n      <td>160.0</td>\n      <td>120.0</td>\n      <td>...</td>\n      <td>POINT (-121.57727 37.74404)</td>\n      <td>1074.0</td>\n      <td>12450.0</td>\n      <td>T02S</td>\n      <td>R04E</td>\n      <td>MDM</td>\n      <td>BLM</td>\n      <td>19.0</td>\n      <td>MDM-T02S-R04E-19</td>\n      <td>T02S R04E</td>\n    </tr>\n    <tr>\n      <th>197</th>\n      <td>37.787570</td>\n      <td>-121.595820</td>\n      <td>02S</td>\n      <td>03E</td>\n      <td>01</td>\n      <td>NaN</td>\n      <td>LIVERMORE</td>\n      <td>Alameda</td>\n      <td>NaN</td>\n      <td>NaN</td>\n      <td>...</td>\n      <td>POINT (-121.59582 37.78757)</td>\n      <td>1061.0</td>\n      <td>12368.0</td>\n      <td>T02S</td>\n      <td>R03E</td>\n      <td>MDM</td>\n      <td>BLM</td>\n      <td>1.0</td>\n      <td>MDM-T02S-R03E-1</td>\n      <td>T02S R03E</td>\n    </tr>\n    <tr>\n      <th>...</th>\n      <td>...</td>\n      <td>...</td>\n      <td>...</td>\n      <td>...</td>\n      <td>...</td>\n      <td>...</td>\n      <td>...</td>\n      <td>...</td>\n      <td>...</td>\n      <td>...</td>\n      <td>...</td>\n      <td>...</td>\n      <td>...</td>\n      <td>...</td>\n      <td>...</td>\n      <td>...</td>\n      <td>...</td>\n      <td>...</td>\n      <td>...</td>\n      <td>...</td>\n      <td>...</td>\n    </tr>\n    <tr>\n      <th>451250</th>\n      <td>38.179722</td>\n      <td>-121.320278</td>\n      <td>04N</td>\n      <td>06E</td>\n      <td>21</td>\n      <td>SAME</td>\n      <td>NaN</td>\n      <td>NaN</td>\n      <td>290.0</td>\n      <td>210.0</td>\n      <td>...</td>\n      <td>POINT (-121.32028 38.17972)</td>\n      <td>2065.0</td>\n      <td>16887.0</td>\n      <td>T04N</td>\n      <td>R06E</td>\n      <td>MDM</td>\n      <td>BLM</td>\n      <td>21.0</td>\n      <td>MDM-T04N-R06E-21</td>\n      <td>T04N R06E</td>\n    </tr>\n    <tr>\n      <th>451257</th>\n      <td>38.166111</td>\n      <td>-121.187222</td>\n      <td>04N</td>\n      <td>07E</td>\n      <td>26</td>\n      <td>SAME</td>\n      <td>NaN</td>\n      <td>NaN</td>\n      <td>205.0</td>\n      <td>145.0</td>\n      <td>...</td>\n      <td>POINT (-121.18722 38.16611)</td>\n      <td>88.0</td>\n      <td>3859.0</td>\n      <td>T04N</td>\n      <td>R07E</td>\n      <td>MDM</td>\n      <td>BLM</td>\n      <td>26.0</td>\n      <td>MDM-T04N-R07E-26</td>\n      <td>T04N R07E</td>\n    </tr>\n    <tr>\n      <th>451258</th>\n      <td>38.179167</td>\n      <td>-121.070278</td>\n      <td>04N</td>\n      <td>08E</td>\n      <td>23</td>\n      <td>SAME</td>\n      <td>NaN</td>\n      <td>NaN</td>\n      <td>350.0</td>\n      <td>250.0</td>\n      <td>...</td>\n      <td>POINT (-121.07028 38.17917)</td>\n      <td>1992.0</td>\n      <td>16556.0</td>\n      <td>T04N</td>\n      <td>R08E</td>\n      <td>MDM</td>\n      <td>BLM</td>\n      <td>23.0</td>\n      <td>MDM-T04N-R08E-23</td>\n      <td>T04N R08E</td>\n    </tr>\n    <tr>\n      <th>451260</th>\n      <td>38.227086</td>\n      <td>-121.466892</td>\n      <td>04N</td>\n      <td>05E</td>\n      <td>06</td>\n      <td>26501 N. VAIL ROAD</td>\n      <td>NaN</td>\n      <td>NaN</td>\n      <td>165.0</td>\n      <td>105.0</td>\n      <td>...</td>\n      <td>POINT (-121.46689 38.22709)</td>\n      <td>2048.0</td>\n      <td>16834.0</td>\n      <td>T04N</td>\n      <td>R05E</td>\n      <td>MDM</td>\n      <td>DGR</td>\n      <td>6.0</td>\n      <td>MDM-T04N-R05E-6</td>\n      <td>T04N R05E</td>\n    </tr>\n    <tr>\n      <th>451263</th>\n      <td>38.159722</td>\n      <td>-121.368056</td>\n      <td>04N</td>\n      <td>06E</td>\n      <td>31</td>\n      <td>SAME</td>\n      <td>NaN</td>\n      <td>NaN</td>\n      <td>230.0</td>\n      <td>170.0</td>\n      <td>...</td>\n      <td>POINT (-121.36806 38.15972)</td>\n      <td>2076.0</td>\n      <td>16898.0</td>\n      <td>T04N</td>\n      <td>R06E</td>\n      <td>MDM</td>\n      <td>BLM</td>\n      <td>31.0</td>\n      <td>MDM-T04N-R06E-31</td>\n      <td>T04N R06E</td>\n    </tr>\n  </tbody>\n</table>\n<p>105987 rows × 34 columns</p>\n</div>"
     },
     "metadata": {}
    }
   ]
  },
  {
   "cell_type": "code",
   "metadata": {
    "cell_id": "e4bdbe8b-96b4-4385-ab7c-fad3986d2acf",
    "tags": [],
    "deepnote_to_be_reexecuted": false,
    "source_hash": "8b88381c",
    "execution_start": 1647726294083,
    "execution_millis": 624,
    "deepnote_cell_type": "code",
    "deepnote_cell_height": 409.796875
   },
   "source": "wcr_instance.wellcompletion_subset_plss.sample(5)",
   "execution_count": null,
   "outputs": [
    {
     "output_type": "execute_result",
     "execution_count": 10,
     "data": {
      "application/vnd.deepnote.dataframe.v3+json": {
       "column_count": 34,
       "row_count": 5,
       "columns": [
        {
         "name": "LATITUDE",
         "dtype": "float64",
         "stats": {
          "unique_count": 5,
          "nan_count": 0,
          "min": "36.81572",
          "max": "38.02105",
          "histogram": [
           {
            "bin_start": 36.81572,
            "bin_end": 36.936253,
            "count": 1
           },
           {
            "bin_start": 36.936253,
            "bin_end": 37.056786,
            "count": 1
           },
           {
            "bin_start": 37.056786,
            "bin_end": 37.177319,
            "count": 0
           },
           {
            "bin_start": 37.177319,
            "bin_end": 37.297852,
            "count": 0
           },
           {
            "bin_start": 37.297852,
            "bin_end": 37.418385,
            "count": 1
           },
           {
            "bin_start": 37.418385,
            "bin_end": 37.538918,
            "count": 0
           },
           {
            "bin_start": 37.538918,
            "bin_end": 37.659451000000004,
            "count": 1
           },
           {
            "bin_start": 37.659451000000004,
            "bin_end": 37.779984,
            "count": 0
           },
           {
            "bin_start": 37.779984,
            "bin_end": 37.900517,
            "count": 0
           },
           {
            "bin_start": 37.900517,
            "bin_end": 38.02105,
            "count": 1
           }
          ]
         }
        },
        {
         "name": "LONGITUDE",
         "dtype": "float64",
         "stats": {
          "unique_count": 5,
          "nan_count": 0,
          "min": "-121.32257",
          "max": "-119.58284",
          "histogram": [
           {
            "bin_start": -121.32257,
            "bin_end": -121.148597,
            "count": 1
           },
           {
            "bin_start": -121.148597,
            "bin_end": -120.974624,
            "count": 1
           },
           {
            "bin_start": -120.974624,
            "bin_end": -120.800651,
            "count": 0
           },
           {
            "bin_start": -120.800651,
            "bin_end": -120.626678,
            "count": 1
           },
           {
            "bin_start": -120.626678,
            "bin_end": -120.45270500000001,
            "count": 0
           },
           {
            "bin_start": -120.45270500000001,
            "bin_end": -120.278732,
            "count": 0
           },
           {
            "bin_start": -120.278732,
            "bin_end": -120.104759,
            "count": 0
           },
           {
            "bin_start": -120.104759,
            "bin_end": -119.930786,
            "count": 0
           },
           {
            "bin_start": -119.930786,
            "bin_end": -119.75681300000001,
            "count": 1
           },
           {
            "bin_start": -119.75681300000001,
            "bin_end": -119.58284,
            "count": 1
           }
          ]
         }
        },
        {
         "name": "TOWNSHIP",
         "dtype": "object",
         "stats": {
          "unique_count": 5,
          "nan_count": 0,
          "categories": [
           {
            "name": "04S",
            "count": 1
           },
           {
            "name": "06S",
            "count": 1
           },
           {
            "name": "3 others",
            "count": 3
           }
          ]
         }
        },
        {
         "name": "RANGE",
         "dtype": "object",
         "stats": {
          "unique_count": 5,
          "nan_count": 0,
          "categories": [
           {
            "name": "08E",
            "count": 1
           },
           {
            "name": "11E",
            "count": 1
           },
           {
            "name": "3 others",
            "count": 3
           }
          ]
         }
        },
        {
         "name": "SECTION",
         "dtype": "object",
         "stats": {
          "unique_count": 5,
          "nan_count": 0,
          "categories": [
           {
            "name": "35",
            "count": 1
           },
           {
            "name": "25",
            "count": 1
           },
           {
            "name": "3 others",
            "count": 3
           }
          ]
         }
        },
        {
         "name": "WELLLOCATION",
         "dtype": "object",
         "stats": {
          "unique_count": 4,
          "nan_count": 1,
          "categories": [
           {
            "name": "6618 JENNINGS RD",
            "count": 1
           },
           {
            "name": "3 others",
            "count": 3
           },
           {
            "name": "Missing",
            "count": 1
           }
          ]
         }
        },
        {
         "name": "CITY",
         "dtype": "object",
         "stats": {
          "unique_count": 5,
          "nan_count": 0,
          "categories": [
           {
            "name": "MODESTO",
            "count": 1
           },
           {
            "name": "LIVINGSTON",
            "count": 1
           },
           {
            "name": "3 others",
            "count": 3
           }
          ]
         }
        },
        {
         "name": "COUNTY",
         "dtype": "object",
         "stats": {
          "unique_count": 5,
          "nan_count": 0,
          "categories": [
           {
            "name": "Stanislaus",
            "count": 1
           },
           {
            "name": "Merced",
            "count": 1
           },
           {
            "name": "3 others",
            "count": 3
           }
          ]
         }
        },
        {
         "name": "BOTTOMOFPERFORATEDINTERVAL",
         "dtype": "float64",
         "stats": {
          "unique_count": 5,
          "nan_count": 0,
          "min": "100.0",
          "max": "500.0",
          "histogram": [
           {
            "bin_start": 100,
            "bin_end": 140,
            "count": 1
           },
           {
            "bin_start": 140,
            "bin_end": 180,
            "count": 1
           },
           {
            "bin_start": 180,
            "bin_end": 220,
            "count": 0
           },
           {
            "bin_start": 220,
            "bin_end": 260,
            "count": 1
           },
           {
            "bin_start": 260,
            "bin_end": 300,
            "count": 1
           },
           {
            "bin_start": 300,
            "bin_end": 340,
            "count": 0
           },
           {
            "bin_start": 340,
            "bin_end": 380,
            "count": 0
           },
           {
            "bin_start": 380,
            "bin_end": 420,
            "count": 0
           },
           {
            "bin_start": 420,
            "bin_end": 460,
            "count": 0
           },
           {
            "bin_start": 460,
            "bin_end": 500,
            "count": 1
           }
          ]
         }
        },
        {
         "name": "TOPOFPERFORATEDINTERVAL",
         "dtype": "float64",
         "stats": {
          "unique_count": 5,
          "nan_count": 0,
          "min": "60.0",
          "max": "235.0",
          "histogram": [
           {
            "bin_start": 60,
            "bin_end": 77.5,
            "count": 1
           },
           {
            "bin_start": 77.5,
            "bin_end": 95,
            "count": 1
           },
           {
            "bin_start": 95,
            "bin_end": 112.5,
            "count": 0
           },
           {
            "bin_start": 112.5,
            "bin_end": 130,
            "count": 0
           },
           {
            "bin_start": 130,
            "bin_end": 147.5,
            "count": 0
           },
           {
            "bin_start": 147.5,
            "bin_end": 165,
            "count": 1
           },
           {
            "bin_start": 165,
            "bin_end": 182.5,
            "count": 1
           },
           {
            "bin_start": 182.5,
            "bin_end": 200,
            "count": 0
           },
           {
            "bin_start": 200,
            "bin_end": 217.5,
            "count": 0
           },
           {
            "bin_start": 217.5,
            "bin_end": 235,
            "count": 1
           }
          ]
         }
        },
        {
         "name": "STATICWATERLEVEL",
         "dtype": "float64",
         "stats": {
          "unique_count": 3,
          "nan_count": 2,
          "min": "9.0",
          "max": "82.0",
          "histogram": [
           {
            "bin_start": 9,
            "bin_end": 16.3,
            "count": 1
           },
           {
            "bin_start": 16.3,
            "bin_end": 23.6,
            "count": 0
           },
           {
            "bin_start": 23.6,
            "bin_end": 30.9,
            "count": 0
           },
           {
            "bin_start": 30.9,
            "bin_end": 38.2,
            "count": 0
           },
           {
            "bin_start": 38.2,
            "bin_end": 45.5,
            "count": 0
           },
           {
            "bin_start": 45.5,
            "bin_end": 52.8,
            "count": 0
           },
           {
            "bin_start": 52.8,
            "bin_end": 60.1,
            "count": 0
           },
           {
            "bin_start": 60.1,
            "bin_end": 67.4,
            "count": 0
           },
           {
            "bin_start": 67.4,
            "bin_end": 74.7,
            "count": 1
           },
           {
            "bin_start": 74.7,
            "bin_end": 82,
            "count": 1
           }
          ]
         }
        },
        {
         "name": "RECORDTYPE",
         "dtype": "object",
         "stats": {
          "unique_count": 1,
          "nan_count": 0,
          "categories": [
           {
            "name": "WellCompletion/New/Production or Monitoring/NA",
            "count": 5
           }
          ]
         }
        },
        {
         "name": "USE",
         "dtype": "object",
         "stats": {
          "unique_count": 2,
          "nan_count": 0,
          "categories": [
           {
            "name": "Domestic",
            "count": 3
           },
           {
            "name": "Agriculture",
            "count": 2
           }
          ]
         }
        },
        {
         "name": "WCRNUMBER",
         "dtype": "object",
         "stats": {
          "unique_count": 5,
          "nan_count": 0,
          "categories": [
           {
            "name": "WCR0255747",
            "count": 1
           },
           {
            "name": "WCR1982-004115",
            "count": 1
           },
           {
            "name": "3 others",
            "count": 3
           }
          ]
         }
        },
        {
         "name": "TOTALDRILLDEPTH",
         "dtype": "float64",
         "stats": {
          "unique_count": 0,
          "nan_count": 5,
          "min": null,
          "max": null,
          "histogram": [
           {
            "bin_start": 0,
            "bin_end": 0.1,
            "count": 0
           },
           {
            "bin_start": 0.1,
            "bin_end": 0.2,
            "count": 0
           },
           {
            "bin_start": 0.2,
            "bin_end": 0.30000000000000004,
            "count": 0
           },
           {
            "bin_start": 0.30000000000000004,
            "bin_end": 0.4,
            "count": 0
           },
           {
            "bin_start": 0.4,
            "bin_end": 0.5,
            "count": 0
           },
           {
            "bin_start": 0.5,
            "bin_end": 0.6000000000000001,
            "count": 0
           },
           {
            "bin_start": 0.6000000000000001,
            "bin_end": 0.7000000000000001,
            "count": 0
           },
           {
            "bin_start": 0.7000000000000001,
            "bin_end": 0.8,
            "count": 0
           },
           {
            "bin_start": 0.8,
            "bin_end": 0.9,
            "count": 0
           },
           {
            "bin_start": 0.9,
            "bin_end": 1,
            "count": 0
           }
          ]
         }
        },
        {
         "name": "TOTALCOMPLETEDDEPTH",
         "dtype": "float64",
         "stats": {
          "unique_count": 5,
          "nan_count": 0,
          "min": "100.0",
          "max": "500.0",
          "histogram": [
           {
            "bin_start": 100,
            "bin_end": 140,
            "count": 1
           },
           {
            "bin_start": 140,
            "bin_end": 180,
            "count": 1
           },
           {
            "bin_start": 180,
            "bin_end": 220,
            "count": 0
           },
           {
            "bin_start": 220,
            "bin_end": 260,
            "count": 0
           },
           {
            "bin_start": 260,
            "bin_end": 300,
            "count": 2
           },
           {
            "bin_start": 300,
            "bin_end": 340,
            "count": 0
           },
           {
            "bin_start": 340,
            "bin_end": 380,
            "count": 0
           },
           {
            "bin_start": 380,
            "bin_end": 420,
            "count": 0
           },
           {
            "bin_start": 420,
            "bin_end": 460,
            "count": 0
           },
           {
            "bin_start": 460,
            "bin_end": 500,
            "count": 1
           }
          ]
         }
        },
        {
         "name": "DATEWORKENDED",
         "dtype": "datetime64[ns]",
         "stats": {
          "unique_count": 5,
          "nan_count": 0,
          "min": "1981-06-10 00:00:00",
          "max": "2017-03-31 00:00:00",
          "histogram": [
           {
            "bin_start": 360979200000000000,
            "bin_end": 473973120000000000,
            "count": 2
           },
           {
            "bin_start": 473973120000000000,
            "bin_end": 586967040000000000,
            "count": 0
           },
           {
            "bin_start": 586967040000000000,
            "bin_end": 699960960000000000,
            "count": 0
           },
           {
            "bin_start": 699960960000000000,
            "bin_end": 812954880000000000,
            "count": 0
           },
           {
            "bin_start": 812954880000000000,
            "bin_end": 925948800000000000,
            "count": 0
           },
           {
            "bin_start": 925948800000000000,
            "bin_end": 1038942720000000000,
            "count": 1
           },
           {
            "bin_start": 1038942720000000000,
            "bin_end": 1151936640000000000,
            "count": 1
           },
           {
            "bin_start": 1151936640000000000,
            "bin_end": 1264930560000000000,
            "count": 0
           },
           {
            "bin_start": 1264930560000000000,
            "bin_end": 1377924480000000000,
            "count": 0
           },
           {
            "bin_start": 1377924480000000000,
            "bin_end": 1490918400000000000,
            "count": 1
           }
          ]
         }
        },
        {
         "name": "WELLYIELD",
         "dtype": "float64",
         "stats": {
          "unique_count": 0,
          "nan_count": 5,
          "min": null,
          "max": null,
          "histogram": [
           {
            "bin_start": 0,
            "bin_end": 0.1,
            "count": 0
           },
           {
            "bin_start": 0.1,
            "bin_end": 0.2,
            "count": 0
           },
           {
            "bin_start": 0.2,
            "bin_end": 0.30000000000000004,
            "count": 0
           },
           {
            "bin_start": 0.30000000000000004,
            "bin_end": 0.4,
            "count": 0
           },
           {
            "bin_start": 0.4,
            "bin_end": 0.5,
            "count": 0
           },
           {
            "bin_start": 0.5,
            "bin_end": 0.6000000000000001,
            "count": 0
           },
           {
            "bin_start": 0.6000000000000001,
            "bin_end": 0.7000000000000001,
            "count": 0
           },
           {
            "bin_start": 0.7000000000000001,
            "bin_end": 0.8,
            "count": 0
           },
           {
            "bin_start": 0.8,
            "bin_end": 0.9,
            "count": 0
           },
           {
            "bin_start": 0.9,
            "bin_end": 1,
            "count": 0
           }
          ]
         }
        },
        {
         "name": "WELLYIELDUNITOFMEASURE",
         "dtype": "object",
         "stats": {
          "unique_count": 0,
          "nan_count": 5,
          "categories": [
           {
            "name": "Missing",
            "count": 5
           }
          ]
         }
        },
        {
         "name": "TOTALCOMPLETEDDEPTH_CORRECTED",
         "dtype": "float64",
         "stats": {
          "unique_count": 5,
          "nan_count": 0,
          "min": "100.0",
          "max": "500.0",
          "histogram": [
           {
            "bin_start": 100,
            "bin_end": 140,
            "count": 1
           },
           {
            "bin_start": 140,
            "bin_end": 180,
            "count": 1
           },
           {
            "bin_start": 180,
            "bin_end": 220,
            "count": 0
           },
           {
            "bin_start": 220,
            "bin_end": 260,
            "count": 0
           },
           {
            "bin_start": 260,
            "bin_end": 300,
            "count": 2
           },
           {
            "bin_start": 300,
            "bin_end": 340,
            "count": 0
           },
           {
            "bin_start": 340,
            "bin_end": 380,
            "count": 0
           },
           {
            "bin_start": 380,
            "bin_end": 420,
            "count": 0
           },
           {
            "bin_start": 420,
            "bin_end": 460,
            "count": 0
           },
           {
            "bin_start": 460,
            "bin_end": 500,
            "count": 1
           }
          ]
         }
        },
        {
         "name": "DATEWORKENDED_CORRECTED",
         "dtype": "datetime64[ns]",
         "stats": {
          "unique_count": 5,
          "nan_count": 0,
          "min": "1981-06-10 00:00:00",
          "max": "2017-03-31 00:00:00",
          "histogram": [
           {
            "bin_start": 360979200000000000,
            "bin_end": 473973120000000000,
            "count": 2
           },
           {
            "bin_start": 473973120000000000,
            "bin_end": 586967040000000000,
            "count": 0
           },
           {
            "bin_start": 586967040000000000,
            "bin_end": 699960960000000000,
            "count": 0
           },
           {
            "bin_start": 699960960000000000,
            "bin_end": 812954880000000000,
            "count": 0
           },
           {
            "bin_start": 812954880000000000,
            "bin_end": 925948800000000000,
            "count": 0
           },
           {
            "bin_start": 925948800000000000,
            "bin_end": 1038942720000000000,
            "count": 1
           },
           {
            "bin_start": 1038942720000000000,
            "bin_end": 1151936640000000000,
            "count": 1
           },
           {
            "bin_start": 1151936640000000000,
            "bin_end": 1264930560000000000,
            "count": 0
           },
           {
            "bin_start": 1264930560000000000,
            "bin_end": 1377924480000000000,
            "count": 0
           },
           {
            "bin_start": 1377924480000000000,
            "bin_end": 1490918400000000000,
            "count": 1
           }
          ]
         }
        },
        {
         "name": "YEARWORKENDED",
         "dtype": "float64",
         "stats": {
          "unique_count": 5,
          "nan_count": 0,
          "min": "1981.0",
          "max": "2017.0",
          "histogram": [
           {
            "bin_start": 1981,
            "bin_end": 1984.6,
            "count": 2
           },
           {
            "bin_start": 1984.6,
            "bin_end": 1988.2,
            "count": 0
           },
           {
            "bin_start": 1988.2,
            "bin_end": 1991.8,
            "count": 0
           },
           {
            "bin_start": 1991.8,
            "bin_end": 1995.4,
            "count": 0
           },
           {
            "bin_start": 1995.4,
            "bin_end": 1999,
            "count": 0
           },
           {
            "bin_start": 1999,
            "bin_end": 2002.6,
            "count": 1
           },
           {
            "bin_start": 2002.6,
            "bin_end": 2006.2,
            "count": 1
           },
           {
            "bin_start": 2006.2,
            "bin_end": 2009.8,
            "count": 0
           },
           {
            "bin_start": 2009.8,
            "bin_end": 2013.4,
            "count": 0
           },
           {
            "bin_start": 2013.4,
            "bin_end": 2017,
            "count": 1
           }
          ]
         }
        },
        {
         "name": "MONTHWORKENDED",
         "dtype": "float64",
         "stats": {
          "unique_count": 4,
          "nan_count": 0,
          "min": "3.0",
          "max": "12.0",
          "histogram": [
           {
            "bin_start": 3,
            "bin_end": 3.9,
            "count": 1
           },
           {
            "bin_start": 3.9,
            "bin_end": 4.8,
            "count": 0
           },
           {
            "bin_start": 4.8,
            "bin_end": 5.7,
            "count": 0
           },
           {
            "bin_start": 5.7,
            "bin_end": 6.6,
            "count": 1
           },
           {
            "bin_start": 6.6,
            "bin_end": 7.5,
            "count": 0
           },
           {
            "bin_start": 7.5,
            "bin_end": 8.4,
            "count": 0
           },
           {
            "bin_start": 8.4,
            "bin_end": 9.3,
            "count": 0
           },
           {
            "bin_start": 9.3,
            "bin_end": 10.2,
            "count": 0
           },
           {
            "bin_start": 10.2,
            "bin_end": 11.1,
            "count": 1
           },
           {
            "bin_start": 11.1,
            "bin_end": 12,
            "count": 2
           }
          ]
         }
        },
        {
         "name": "GROUNDSURFACEELEVATION",
         "dtype": "float64",
         "stats": {
          "unique_count": 5,
          "nan_count": 0,
          "min": "3.73",
          "max": "124.85",
          "histogram": [
           {
            "bin_start": 3.73,
            "bin_end": 15.841999999999999,
            "count": 1
           },
           {
            "bin_start": 15.841999999999999,
            "bin_end": 27.953999999999997,
            "count": 1
           },
           {
            "bin_start": 27.953999999999997,
            "bin_end": 40.065999999999995,
            "count": 0
           },
           {
            "bin_start": 40.065999999999995,
            "bin_end": 52.17799999999999,
            "count": 1
           },
           {
            "bin_start": 52.17799999999999,
            "bin_end": 64.28999999999999,
            "count": 0
           },
           {
            "bin_start": 64.28999999999999,
            "bin_end": 76.402,
            "count": 0
           },
           {
            "bin_start": 76.402,
            "bin_end": 88.514,
            "count": 0
           },
           {
            "bin_start": 88.514,
            "bin_end": 100.62599999999999,
            "count": 0
           },
           {
            "bin_start": 100.62599999999999,
            "bin_end": 112.73799999999999,
            "count": 0
           },
           {
            "bin_start": 112.73799999999999,
            "bin_end": 124.85,
            "count": 2
           }
          ]
         }
        },
        {
         "name": "geometry",
         "dtype": "geometry",
         "stats": {
          "unique_count": 5,
          "nan_count": 0,
          "categories": [
           {
            "name": "POINT (-121.064345488 37.5439119986)",
            "count": 1
           },
           {
            "name": "POINT (-120.71422 37.38234)",
            "count": 1
           },
           {
            "name": "3 others",
            "count": 3
           }
          ]
         }
        },
        {
         "name": "index_right",
         "dtype": "float64",
         "stats": {
          "unique_count": 5,
          "nan_count": 0,
          "min": "891.0",
          "max": "6344.0",
          "histogram": [
           {
            "bin_start": 891,
            "bin_end": 1436.3,
            "count": 1
           },
           {
            "bin_start": 1436.3,
            "bin_end": 1981.6,
            "count": 0
           },
           {
            "bin_start": 1981.6,
            "bin_end": 2526.8999999999996,
            "count": 1
           },
           {
            "bin_start": 2526.8999999999996,
            "bin_end": 3072.2,
            "count": 0
           },
           {
            "bin_start": 3072.2,
            "bin_end": 3617.5,
            "count": 1
           },
           {
            "bin_start": 3617.5,
            "bin_end": 4162.799999999999,
            "count": 0
           },
           {
            "bin_start": 4162.799999999999,
            "bin_end": 4708.099999999999,
            "count": 0
           },
           {
            "bin_start": 4708.099999999999,
            "bin_end": 5253.4,
            "count": 0
           },
           {
            "bin_start": 5253.4,
            "bin_end": 5798.7,
            "count": 1
           },
           {
            "bin_start": 5798.7,
            "bin_end": 6344,
            "count": 1
           }
          ]
         }
        },
        {
         "name": "OBJECTID",
         "dtype": "float64",
         "stats": {
          "unique_count": 5,
          "nan_count": 0,
          "min": "11126.0",
          "max": "45243.0",
          "histogram": [
           {
            "bin_start": 11126,
            "bin_end": 14537.7,
            "count": 1
           },
           {
            "bin_start": 14537.7,
            "bin_end": 17949.4,
            "count": 0
           },
           {
            "bin_start": 17949.4,
            "bin_end": 21361.1,
            "count": 1
           },
           {
            "bin_start": 21361.1,
            "bin_end": 24772.8,
            "count": 1
           },
           {
            "bin_start": 24772.8,
            "bin_end": 28184.5,
            "count": 0
           },
           {
            "bin_start": 28184.5,
            "bin_end": 31596.199999999997,
            "count": 0
           },
           {
            "bin_start": 31596.199999999997,
            "bin_end": 35007.899999999994,
            "count": 0
           },
           {
            "bin_start": 35007.899999999994,
            "bin_end": 38419.6,
            "count": 0
           },
           {
            "bin_start": 38419.6,
            "bin_end": 41831.3,
            "count": 1
           },
           {
            "bin_start": 41831.3,
            "bin_end": 45243,
            "count": 1
           }
          ]
         }
        },
        {
         "name": "Township",
         "dtype": "object",
         "stats": {
          "unique_count": 5,
          "nan_count": 0,
          "categories": [
           {
            "name": "T04S",
            "count": 1
           },
           {
            "name": "T06S",
            "count": 1
           },
           {
            "name": "3 others",
            "count": 3
           }
          ]
         }
        },
        {
         "name": "Range",
         "dtype": "object",
         "stats": {
          "unique_count": 5,
          "nan_count": 0,
          "categories": [
           {
            "name": "R08E",
            "count": 1
           },
           {
            "name": "R11E",
            "count": 1
           },
           {
            "name": "3 others",
            "count": 3
           }
          ]
         }
        },
        {
         "name": "Meridian",
         "dtype": "object",
         "stats": {
          "unique_count": 1,
          "nan_count": 0,
          "categories": [
           {
            "name": "MDM",
            "count": 5
           }
          ]
         }
        },
        {
         "name": "Source",
         "dtype": "object",
         "stats": {
          "unique_count": 1,
          "nan_count": 0,
          "categories": [
           {
            "name": "BLM",
            "count": 5
           }
          ]
         }
        },
        {
         "name": "Section",
         "dtype": "float64",
         "stats": {
          "unique_count": 5,
          "nan_count": 0,
          "min": "9.0",
          "max": "35.0",
          "histogram": [
           {
            "bin_start": 9,
            "bin_end": 11.6,
            "count": 2
           },
           {
            "bin_start": 11.6,
            "bin_end": 14.2,
            "count": 0
           },
           {
            "bin_start": 14.2,
            "bin_end": 16.8,
            "count": 1
           },
           {
            "bin_start": 16.8,
            "bin_end": 19.4,
            "count": 0
           },
           {
            "bin_start": 19.4,
            "bin_end": 22,
            "count": 0
           },
           {
            "bin_start": 22,
            "bin_end": 24.6,
            "count": 0
           },
           {
            "bin_start": 24.6,
            "bin_end": 27.2,
            "count": 1
           },
           {
            "bin_start": 27.2,
            "bin_end": 29.8,
            "count": 0
           },
           {
            "bin_start": 29.8,
            "bin_end": 32.400000000000006,
            "count": 0
           },
           {
            "bin_start": 32.400000000000006,
            "bin_end": 35,
            "count": 1
           }
          ]
         }
        },
        {
         "name": "MTRS",
         "dtype": "object",
         "stats": {
          "unique_count": 5,
          "nan_count": 0,
          "categories": [
           {
            "name": "MDM-T04S-R08E-35",
            "count": 1
           },
           {
            "name": "MDM-T06S-R11E-25",
            "count": 1
           },
           {
            "name": "3 others",
            "count": 3
           }
          ]
         }
        },
        {
         "name": "TownshipRange",
         "dtype": "object",
         "stats": {
          "unique_count": 5,
          "nan_count": 0,
          "categories": [
           {
            "name": "T04S R08E",
            "count": 1
           },
           {
            "name": "T06S R11E",
            "count": 1
           },
           {
            "name": "3 others",
            "count": 3
           }
          ]
         }
        },
        {
         "name": "_deepnote_index_column",
         "dtype": "int64"
        }
       ],
       "rows": [
        {
         "LATITUDE": 37.5439119986,
         "LONGITUDE": -121.064345488,
         "TOWNSHIP": "04S",
         "RANGE": "08E",
         "SECTION": "35",
         "WELLLOCATION": "6618 JENNINGS RD",
         "CITY": "MODESTO",
         "COUNTY": "Stanislaus",
         "BOTTOMOFPERFORATEDINTERVAL": 100,
         "TOPOFPERFORATEDINTERVAL": 80,
         "STATICWATERLEVEL": 9,
         "RECORDTYPE": "WellCompletion/New/Production or Monitoring/NA",
         "USE": "Domestic",
         "WCRNUMBER": "WCR0255747",
         "TOTALDRILLDEPTH": "nan",
         "TOTALCOMPLETEDDEPTH": 100,
         "DATEWORKENDED": "1999-11-23T00:00:00.000000",
         "WELLYIELD": "nan",
         "WELLYIELDUNITOFMEASURE": "nan",
         "TOTALCOMPLETEDDEPTH_CORRECTED": 100,
         "DATEWORKENDED_CORRECTED": "1999-11-23T00:00:00.000000",
         "YEARWORKENDED": 1999,
         "MONTHWORKENDED": 11,
         "GROUNDSURFACEELEVATION": 17,
         "geometry": "POINT (-121.064345488 37.5439119986)",
         "index_right": 2329,
         "OBJECTID": 18656,
         "Township": "T04S",
         "Range": "R08E",
         "Meridian": "MDM",
         "Source": "BLM",
         "Section": 35,
         "MTRS": "MDM-T04S-R08E-35",
         "TownshipRange": "T04S R08E",
         "_deepnote_index_column": 382319
        },
        {
         "LATITUDE": 37.38234,
         "LONGITUDE": -120.71422,
         "TOWNSHIP": "06S",
         "RANGE": "11E",
         "SECTION": "25",
         "WELLLOCATION": "12299 W WALNUT AVE",
         "CITY": "LIVINGSTON",
         "COUNTY": "Merced",
         "BOTTOMOFPERFORATEDINTERVAL": 263,
         "TOPOFPERFORATEDINTERVAL": 160,
         "STATICWATERLEVEL": "nan",
         "RECORDTYPE": "WellCompletion/New/Production or Monitoring/NA",
         "USE": "Agriculture",
         "WCRNUMBER": "WCR1982-004115",
         "TOTALDRILLDEPTH": "nan",
         "TOTALCOMPLETEDDEPTH": 263,
         "DATEWORKENDED": "1982-12-02T00:00:00.000000",
         "WELLYIELD": "nan",
         "WELLYIELDUNITOFMEASURE": "nan",
         "TOTALCOMPLETEDDEPTH_CORRECTED": 263,
         "DATEWORKENDED_CORRECTED": "1982-12-02T00:00:00.000000",
         "YEARWORKENDED": 1982,
         "MONTHWORKENDED": 12,
         "GROUNDSURFACEELEVATION": 41.73,
         "geometry": "POINT (-120.71422 37.38234)",
         "index_right": 3270,
         "OBJECTID": 23740,
         "Township": "T06S",
         "Range": "R11E",
         "Meridian": "MDM",
         "Source": "BLM",
         "Section": 25,
         "MTRS": "MDM-T06S-R11E-25",
         "TownshipRange": "T06S R11E",
         "_deepnote_index_column": 167333
        },
        {
         "LATITUDE": 36.81572,
         "LONGITUDE": -119.58284,
         "TOWNSHIP": "13S",
         "RANGE": "22E",
         "SECTION": "09",
         "WELLLOCATION": "nan",
         "CITY": "CLOVIS",
         "COUNTY": "Fresno",
         "BOTTOMOFPERFORATEDINTERVAL": 160,
         "TOPOFPERFORATEDINTERVAL": 60,
         "STATICWATERLEVEL": "nan",
         "RECORDTYPE": "WellCompletion/New/Production or Monitoring/NA",
         "USE": "Domestic",
         "WCRNUMBER": "WCR1981-004060",
         "TOTALDRILLDEPTH": "nan",
         "TOTALCOMPLETEDDEPTH": 163,
         "DATEWORKENDED": "1981-06-10T00:00:00.000000",
         "WELLYIELD": "nan",
         "WELLYIELDUNITOFMEASURE": "nan",
         "TOTALCOMPLETEDDEPTH_CORRECTED": 163,
         "DATEWORKENDED_CORRECTED": "1981-06-10T00:00:00.000000",
         "YEARWORKENDED": 1981,
         "MONTHWORKENDED": 6,
         "GROUNDSURFACEELEVATION": 124.85,
         "geometry": "POINT (-119.58284 36.81572)",
         "index_right": 6344,
         "OBJECTID": 45243,
         "Township": "T13S",
         "Range": "R22E",
         "Meridian": "MDM",
         "Source": "BLM",
         "Section": 9,
         "MTRS": "MDM-T13S-R22E-9",
         "TownshipRange": "T13S R22E",
         "_deepnote_index_column": 78815
        },
        {
         "LATITUDE": 38.02105,
         "LONGITUDE": -121.32257,
         "TOWNSHIP": "02N",
         "RANGE": "06E",
         "SECTION": "16",
         "WELLLOCATION": "8044 S. EL DORADO",
         "CITY": "FRENCH CAMP",
         "COUNTY": "San Joaquin",
         "BOTTOMOFPERFORATEDINTERVAL": 255,
         "TOPOFPERFORATEDINTERVAL": 235,
         "STATICWATERLEVEL": 82,
         "RECORDTYPE": "WellCompletion/New/Production or Monitoring/NA",
         "USE": "Domestic",
         "WCRNUMBER": "WCR2004-004035",
         "TOTALDRILLDEPTH": "nan",
         "TOTALCOMPLETEDDEPTH": 280,
         "DATEWORKENDED": "2004-12-08T00:00:00.000000",
         "WELLYIELD": "nan",
         "WELLYIELDUNITOFMEASURE": "nan",
         "TOTALCOMPLETEDDEPTH_CORRECTED": 280,
         "DATEWORKENDED_CORRECTED": "2004-12-08T00:00:00.000000",
         "YEARWORKENDED": 2004,
         "MONTHWORKENDED": 12,
         "GROUNDSURFACEELEVATION": 3.73,
         "geometry": "POINT (-121.32257 38.02105)",
         "index_right": 891,
         "OBJECTID": 11126,
         "Township": "T02N",
         "Range": "R06E",
         "Meridian": "MDM",
         "Source": "BLM",
         "Section": 16,
         "MTRS": "MDM-T02N-R06E-16",
         "TownshipRange": "T02N R06E",
         "_deepnote_index_column": 296810
        },
        {
         "LATITUDE": 36.99589,
         "LONGITUDE": -119.85771,
         "TOWNSHIP": "11S",
         "RANGE": "19E",
         "SECTION": "01",
         "WELLLOCATION": "ROAD 38 AND AVENUE 17",
         "CITY": "MADERA",
         "COUNTY": "Madera",
         "BOTTOMOFPERFORATEDINTERVAL": 500,
         "TOPOFPERFORATEDINTERVAL": 167,
         "STATICWATERLEVEL": 69,
         "RECORDTYPE": "WellCompletion/New/Production or Monitoring/NA",
         "USE": "Agriculture",
         "WCRNUMBER": "WCR2017-007457",
         "TOTALDRILLDEPTH": "nan",
         "TOTALCOMPLETEDDEPTH": 500,
         "DATEWORKENDED": "2017-03-31T00:00:00.000000",
         "WELLYIELD": "nan",
         "WELLYIELDUNITOFMEASURE": "nan",
         "TOTALCOMPLETEDDEPTH_CORRECTED": 500,
         "DATEWORKENDED_CORRECTED": "2017-03-31T00:00:00.000000",
         "YEARWORKENDED": 2017,
         "MONTHWORKENDED": 3,
         "GROUNDSURFACEELEVATION": 122.68,
         "geometry": "POINT (-119.85771 36.99589)",
         "index_right": 5327,
         "OBJECTID": 39207,
         "Township": "T11S",
         "Range": "R19E",
         "Meridian": "MDM",
         "Source": "BLM",
         "Section": 11,
         "MTRS": "MDM-T11S-R19E-11",
         "TownshipRange": "T11S R19E",
         "_deepnote_index_column": 144712
        }
       ]
      },
      "text/plain": "         LATITUDE   LONGITUDE TOWNSHIP RANGE SECTION           WELLLOCATION  \\\n382319  37.543912 -121.064345      04S   08E      35       6618 JENNINGS RD   \n167333  37.382340 -120.714220      06S   11E      25     12299 W WALNUT AVE   \n78815   36.815720 -119.582840      13S   22E      09                    NaN   \n296810  38.021050 -121.322570      02N   06E      16      8044 S. EL DORADO   \n144712  36.995890 -119.857710      11S   19E      01  ROAD 38 AND AVENUE 17   \n\n               CITY       COUNTY  BOTTOMOFPERFORATEDINTERVAL  \\\n382319      MODESTO   Stanislaus                       100.0   \n167333   LIVINGSTON       Merced                       263.0   \n78815        CLOVIS       Fresno                       160.0   \n296810  FRENCH CAMP  San Joaquin                       255.0   \n144712       MADERA       Madera                       500.0   \n\n        TOPOFPERFORATEDINTERVAL  ...                     geometry index_right  \\\n382319                     80.0  ...  POINT (-121.06435 37.54391)      2329.0   \n167333                    160.0  ...  POINT (-120.71422 37.38234)      3270.0   \n78815                      60.0  ...  POINT (-119.58284 36.81572)      6344.0   \n296810                    235.0  ...  POINT (-121.32257 38.02105)       891.0   \n144712                    167.0  ...  POINT (-119.85771 36.99589)      5327.0   \n\n       OBJECTID Township  Range  Meridian Source  Section              MTRS  \\\n382319  18656.0     T04S   R08E       MDM    BLM     35.0  MDM-T04S-R08E-35   \n167333  23740.0     T06S   R11E       MDM    BLM     25.0  MDM-T06S-R11E-25   \n78815   45243.0     T13S   R22E       MDM    BLM      9.0   MDM-T13S-R22E-9   \n296810  11126.0     T02N   R06E       MDM    BLM     16.0  MDM-T02N-R06E-16   \n144712  39207.0     T11S   R19E       MDM    BLM     11.0  MDM-T11S-R19E-11   \n\n        TownshipRange  \n382319      T04S R08E  \n167333      T06S R11E  \n78815       T13S R22E  \n296810      T02N R06E  \n144712      T11S R19E  \n\n[5 rows x 34 columns]",
      "text/html": "<div>\n<style scoped>\n    .dataframe tbody tr th:only-of-type {\n        vertical-align: middle;\n    }\n\n    .dataframe tbody tr th {\n        vertical-align: top;\n    }\n\n    .dataframe thead th {\n        text-align: right;\n    }\n</style>\n<table border=\"1\" class=\"dataframe\">\n  <thead>\n    <tr style=\"text-align: right;\">\n      <th></th>\n      <th>LATITUDE</th>\n      <th>LONGITUDE</th>\n      <th>TOWNSHIP</th>\n      <th>RANGE</th>\n      <th>SECTION</th>\n      <th>WELLLOCATION</th>\n      <th>CITY</th>\n      <th>COUNTY</th>\n      <th>BOTTOMOFPERFORATEDINTERVAL</th>\n      <th>TOPOFPERFORATEDINTERVAL</th>\n      <th>...</th>\n      <th>geometry</th>\n      <th>index_right</th>\n      <th>OBJECTID</th>\n      <th>Township</th>\n      <th>Range</th>\n      <th>Meridian</th>\n      <th>Source</th>\n      <th>Section</th>\n      <th>MTRS</th>\n      <th>TownshipRange</th>\n    </tr>\n  </thead>\n  <tbody>\n    <tr>\n      <th>382319</th>\n      <td>37.543912</td>\n      <td>-121.064345</td>\n      <td>04S</td>\n      <td>08E</td>\n      <td>35</td>\n      <td>6618 JENNINGS RD</td>\n      <td>MODESTO</td>\n      <td>Stanislaus</td>\n      <td>100.0</td>\n      <td>80.0</td>\n      <td>...</td>\n      <td>POINT (-121.06435 37.54391)</td>\n      <td>2329.0</td>\n      <td>18656.0</td>\n      <td>T04S</td>\n      <td>R08E</td>\n      <td>MDM</td>\n      <td>BLM</td>\n      <td>35.0</td>\n      <td>MDM-T04S-R08E-35</td>\n      <td>T04S R08E</td>\n    </tr>\n    <tr>\n      <th>167333</th>\n      <td>37.382340</td>\n      <td>-120.714220</td>\n      <td>06S</td>\n      <td>11E</td>\n      <td>25</td>\n      <td>12299 W WALNUT AVE</td>\n      <td>LIVINGSTON</td>\n      <td>Merced</td>\n      <td>263.0</td>\n      <td>160.0</td>\n      <td>...</td>\n      <td>POINT (-120.71422 37.38234)</td>\n      <td>3270.0</td>\n      <td>23740.0</td>\n      <td>T06S</td>\n      <td>R11E</td>\n      <td>MDM</td>\n      <td>BLM</td>\n      <td>25.0</td>\n      <td>MDM-T06S-R11E-25</td>\n      <td>T06S R11E</td>\n    </tr>\n    <tr>\n      <th>78815</th>\n      <td>36.815720</td>\n      <td>-119.582840</td>\n      <td>13S</td>\n      <td>22E</td>\n      <td>09</td>\n      <td>NaN</td>\n      <td>CLOVIS</td>\n      <td>Fresno</td>\n      <td>160.0</td>\n      <td>60.0</td>\n      <td>...</td>\n      <td>POINT (-119.58284 36.81572)</td>\n      <td>6344.0</td>\n      <td>45243.0</td>\n      <td>T13S</td>\n      <td>R22E</td>\n      <td>MDM</td>\n      <td>BLM</td>\n      <td>9.0</td>\n      <td>MDM-T13S-R22E-9</td>\n      <td>T13S R22E</td>\n    </tr>\n    <tr>\n      <th>296810</th>\n      <td>38.021050</td>\n      <td>-121.322570</td>\n      <td>02N</td>\n      <td>06E</td>\n      <td>16</td>\n      <td>8044 S. EL DORADO</td>\n      <td>FRENCH CAMP</td>\n      <td>San Joaquin</td>\n      <td>255.0</td>\n      <td>235.0</td>\n      <td>...</td>\n      <td>POINT (-121.32257 38.02105)</td>\n      <td>891.0</td>\n      <td>11126.0</td>\n      <td>T02N</td>\n      <td>R06E</td>\n      <td>MDM</td>\n      <td>BLM</td>\n      <td>16.0</td>\n      <td>MDM-T02N-R06E-16</td>\n      <td>T02N R06E</td>\n    </tr>\n    <tr>\n      <th>144712</th>\n      <td>36.995890</td>\n      <td>-119.857710</td>\n      <td>11S</td>\n      <td>19E</td>\n      <td>01</td>\n      <td>ROAD 38 AND AVENUE 17</td>\n      <td>MADERA</td>\n      <td>Madera</td>\n      <td>500.0</td>\n      <td>167.0</td>\n      <td>...</td>\n      <td>POINT (-119.85771 36.99589)</td>\n      <td>5327.0</td>\n      <td>39207.0</td>\n      <td>T11S</td>\n      <td>R19E</td>\n      <td>MDM</td>\n      <td>BLM</td>\n      <td>11.0</td>\n      <td>MDM-T11S-R19E-11</td>\n      <td>T11S R19E</td>\n    </tr>\n  </tbody>\n</table>\n<p>5 rows × 34 columns</p>\n</div>"
     },
     "metadata": {}
    }
   ]
  },
  {
   "cell_type": "code",
   "metadata": {
    "cell_id": "ef18abd4-4d66-4e1a-b518-94ddb73f95a4",
    "tags": [],
    "deepnote_to_be_reexecuted": false,
    "source_hash": "cae0bfef",
    "execution_start": 1647726361479,
    "execution_millis": 230,
    "deepnote_cell_type": "code",
    "deepnote_cell_height": 99,
    "deepnote_output_heights": [
     2
    ]
   },
   "source": "wcr_instance.draw_mising_data_chart( wcr_instance.wellcompletion_subset_plss)",
   "execution_count": null,
   "outputs": [
    {
     "output_type": "execute_result",
     "execution_count": 11,
     "data": {
      "text/html": "\n<div id=\"altair-viz-f3b82db2fa854f92aa3ef54b7e59c2a3\"></div>\n<script type=\"text/javascript\">\n  var VEGA_DEBUG = (typeof VEGA_DEBUG == \"undefined\") ? {} : VEGA_DEBUG;\n  (function(spec, embedOpt){\n    let outputDiv = document.currentScript.previousElementSibling;\n    if (outputDiv.id !== \"altair-viz-f3b82db2fa854f92aa3ef54b7e59c2a3\") {\n      outputDiv = document.getElementById(\"altair-viz-f3b82db2fa854f92aa3ef54b7e59c2a3\");\n    }\n    const paths = {\n      \"vega\": \"https://cdn.jsdelivr.net/npm//vega@5?noext\",\n      \"vega-lib\": \"https://cdn.jsdelivr.net/npm//vega-lib?noext\",\n      \"vega-lite\": \"https://cdn.jsdelivr.net/npm//vega-lite@4.17.0?noext\",\n      \"vega-embed\": \"https://cdn.jsdelivr.net/npm//vega-embed@6?noext\",\n    };\n\n    function maybeLoadScript(lib, version) {\n      var key = `${lib.replace(\"-\", \"\")}_version`;\n      return (VEGA_DEBUG[key] == version) ?\n        Promise.resolve(paths[lib]) :\n        new Promise(function(resolve, reject) {\n          var s = document.createElement('script');\n          document.getElementsByTagName(\"head\")[0].appendChild(s);\n          s.async = true;\n          s.onload = () => {\n            VEGA_DEBUG[key] = version;\n            return resolve(paths[lib]);\n          };\n          s.onerror = () => reject(`Error loading script: ${paths[lib]}`);\n          s.src = paths[lib];\n        });\n    }\n\n    function showError(err) {\n      outputDiv.innerHTML = `<div class=\"error\" style=\"color:red;\">${err}</div>`;\n      throw err;\n    }\n\n    function displayChart(vegaEmbed) {\n      vegaEmbed(outputDiv, spec, embedOpt)\n        .catch(err => showError(`Javascript Error: ${err.message}<br>This usually means there's a typo in your chart specification. See the javascript console for the full traceback.`));\n    }\n\n    if(typeof define === \"function\" && define.amd) {\n      requirejs.config({paths});\n      require([\"vega-embed\"], displayChart, err => showError(`Error loading script: ${err.message}`));\n    } else {\n      maybeLoadScript(\"vega\", \"5\")\n        .then(() => maybeLoadScript(\"vega-lite\", \"4.17.0\"))\n        .then(() => maybeLoadScript(\"vega-embed\", \"6\"))\n        .catch(showError)\n        .then(() => displayChart(vegaEmbed));\n    }\n  })({\"config\": {\"view\": {\"continuousWidth\": 400, \"continuousHeight\": 300}}, \"layer\": [{\"mark\": \"bar\", \"encoding\": {\"color\": {\"value\": \"orange\"}, \"tooltip\": [{\"field\": \"column_name\", \"type\": \"nominal\"}, {\"field\": \"percent_missing\", \"type\": \"quantitative\"}], \"x\": {\"field\": \"column_name\", \"sort\": [\"TOTALDRILLDEPTH\", \"WELLYIELD\", \"WELLYIELDUNITOFMEASURE\", \"STATICWATERLEVEL\", \"WELLLOCATION\", \"CITY\", \"TOPOFPERFORATEDINTERVAL\", \"BOTTOMOFPERFORATEDINTERVAL\", \"MONTHWORKENDED\", \"YEARWORKENDED\", \"DATEWORKENDED_CORRECTED\", \"DATEWORKENDED\", \"TOTALCOMPLETEDDEPTH_CORRECTED\", \"TOTALCOMPLETEDDEPTH\", \"COUNTY\", \"SECTION\", \"RANGE\", \"Township\", \"Source\", \"Range\", \"Meridian\", \"index_right\", \"Section\", \"MTRS\", \"OBJECTID\", \"LATITUDE\", \"geometry\", \"GROUNDSURFACEELEVATION\", \"LONGITUDE\", \"WCRNUMBER\", \"USE\", \"RECORDTYPE\", \"TOWNSHIP\", \"TownshipRange\"], \"type\": \"nominal\"}, \"y\": {\"aggregate\": \"sum\", \"axis\": {\"format\": \"%\"}, \"field\": \"percent_missing\", \"stack\": \"normalize\", \"type\": \"quantitative\"}}}, {\"mark\": {\"type\": \"text\", \"align\": \"center\", \"color\": \"black\", \"fontSize\": 10}, \"encoding\": {\"color\": {\"value\": \"orange\"}, \"text\": {\"field\": \"percent_missing\", \"format\": \".0%\", \"type\": \"quantitative\"}, \"tooltip\": [{\"field\": \"column_name\", \"type\": \"nominal\"}, {\"field\": \"percent_missing\", \"type\": \"quantitative\"}], \"x\": {\"field\": \"column_name\", \"sort\": [\"TOTALDRILLDEPTH\", \"WELLYIELD\", \"WELLYIELDUNITOFMEASURE\", \"STATICWATERLEVEL\", \"WELLLOCATION\", \"CITY\", \"TOPOFPERFORATEDINTERVAL\", \"BOTTOMOFPERFORATEDINTERVAL\", \"MONTHWORKENDED\", \"YEARWORKENDED\", \"DATEWORKENDED_CORRECTED\", \"DATEWORKENDED\", \"TOTALCOMPLETEDDEPTH_CORRECTED\", \"TOTALCOMPLETEDDEPTH\", \"COUNTY\", \"SECTION\", \"RANGE\", \"Township\", \"Source\", \"Range\", \"Meridian\", \"index_right\", \"Section\", \"MTRS\", \"OBJECTID\", \"LATITUDE\", \"geometry\", \"GROUNDSURFACEELEVATION\", \"LONGITUDE\", \"WCRNUMBER\", \"USE\", \"RECORDTYPE\", \"TOWNSHIP\", \"TownshipRange\"], \"type\": \"nominal\"}, \"y\": {\"field\": \"position\", \"type\": \"quantitative\"}}, \"transform\": [{\"calculate\": \"datum.percent_missing + 0.05 * datum.percent_missing / abs(datum.percent_missing)\", \"as\": \"position\"}]}], \"data\": {\"name\": \"data-f551fcceaec6e4619fc475063544bbd1\"}, \"$schema\": \"https://vega.github.io/schema/vega-lite/v4.17.0.json\", \"datasets\": {\"data-f551fcceaec6e4619fc475063544bbd1\": [{\"column_name\": \"TOTALDRILLDEPTH\", \"percent_missing\": 0.9412192061290535}, {\"column_name\": \"WELLYIELD\", \"percent_missing\": 0.7583854623680263}, {\"column_name\": \"WELLYIELDUNITOFMEASURE\", \"percent_missing\": 0.7583854623680263}, {\"column_name\": \"STATICWATERLEVEL\", \"percent_missing\": 0.6103295687206921}, {\"column_name\": \"WELLLOCATION\", \"percent_missing\": 0.4866068480096616}, {\"column_name\": \"CITY\", \"percent_missing\": 0.4734259862058554}, {\"column_name\": \"TOPOFPERFORATEDINTERVAL\", \"percent_missing\": 0.2919980752356421}, {\"column_name\": \"BOTTOMOFPERFORATEDINTERVAL\", \"percent_missing\": 0.29169615141479616}, {\"column_name\": \"MONTHWORKENDED\", \"percent_missing\": 0.07460348910715466}, {\"column_name\": \"YEARWORKENDED\", \"percent_missing\": 0.07460348910715466}, {\"column_name\": \"DATEWORKENDED_CORRECTED\", \"percent_missing\": 0.07460348910715466}, {\"column_name\": \"DATEWORKENDED\", \"percent_missing\": 0.0745374432713446}, {\"column_name\": \"TOTALCOMPLETEDDEPTH_CORRECTED\", \"percent_missing\": 0.047581307141441875}, {\"column_name\": \"TOTALCOMPLETEDDEPTH\", \"percent_missing\": 0.04712842141017295}, {\"column_name\": \"COUNTY\", \"percent_missing\": 0.00016039702982441242}, {\"column_name\": \"SECTION\", \"percent_missing\": 6.604583581005217e-05}, {\"column_name\": \"RANGE\", \"percent_missing\": 9.435119401436025e-06}, {\"column_name\": \"Township\", \"percent_missing\": 0.0}, {\"column_name\": \"Source\", \"percent_missing\": 0.0}, {\"column_name\": \"Range\", \"percent_missing\": 0.0}, {\"column_name\": \"Meridian\", \"percent_missing\": 0.0}, {\"column_name\": \"index_right\", \"percent_missing\": 0.0}, {\"column_name\": \"Section\", \"percent_missing\": 0.0}, {\"column_name\": \"MTRS\", \"percent_missing\": 0.0}, {\"column_name\": \"OBJECTID\", \"percent_missing\": 0.0}, {\"column_name\": \"LATITUDE\", \"percent_missing\": 0.0}, {\"column_name\": \"geometry\", \"percent_missing\": 0.0}, {\"column_name\": \"GROUNDSURFACEELEVATION\", \"percent_missing\": 0.0}, {\"column_name\": \"LONGITUDE\", \"percent_missing\": 0.0}, {\"column_name\": \"WCRNUMBER\", \"percent_missing\": 0.0}, {\"column_name\": \"USE\", \"percent_missing\": 0.0}, {\"column_name\": \"RECORDTYPE\", \"percent_missing\": 0.0}, {\"column_name\": \"TOWNSHIP\", \"percent_missing\": 0.0}, {\"column_name\": \"TownshipRange\", \"percent_missing\": 0.0}]}}, {\"mode\": \"vega-lite\"});\n</script>",
      "text/plain": "alt.LayerChart(...)"
     },
     "metadata": {}
    }
   ]
  },
  {
   "cell_type": "markdown",
   "source": "#### The entire column about Ground Surface elevation of a well is missing. This is backfilled using the data collected using an API which enables us to get the elevation from latitude and longitude.",
   "metadata": {
    "cell_id": "45762d51-66b1-493b-9063-4b3bd1f3fc07",
    "tags": [],
    "deepnote_cell_type": "markdown",
    "deepnote_cell_height": 78
   }
  },
  {
   "cell_type": "code",
   "metadata": {
    "cell_id": "ea49feb7-f243-40eb-b50b-bdae47242a84",
    "tags": [],
    "deepnote_to_be_reexecuted": false,
    "source_hash": "fe130747",
    "execution_start": 1647723745912,
    "execution_millis": 80,
    "deepnote_cell_type": "code",
    "deepnote_cell_height": 598
   },
   "source": "wellcompletion_merge_df[~wellcompletion_merge_df['GROUNDSURFACEELEVATION'].isnull()][['LATITUDE', 'LONGITUDE', 'GROUNDSURFACEELEVATION', \"GROUNDSURFACEELEVATION\"]]",
   "execution_count": null,
   "outputs": [
    {
     "output_type": "execute_result",
     "execution_count": 47,
     "data": {
      "application/vnd.deepnote.dataframe.v3+json": {
       "column_count": 4,
       "row_count": 105987,
       "columns": [
        {
         "name": "LATITUDE",
         "dtype": "float64"
        },
        {
         "name": "LONGITUDE",
         "dtype": "float64"
        },
        {
         "name": "GROUNDSURFACEELEVATION",
         "dtype": "float64"
        },
        {
         "name": "GROUNDSURFACEELEVATION.1",
         "dtype": "float64"
        },
        {
         "name": "_deepnote_index_column",
         "dtype": "int64"
        }
       ],
       "rows": [
        {
         "LATITUDE": 37.77295,
         "LONGITUDE": -121.56237,
         "GROUNDSURFACEELEVATION": 38.17,
         "GROUNDSURFACEELEVATION.1": 38.17,
         "_deepnote_index_column": 0
        },
        {
         "LATITUDE": 37.78755,
         "LONGITUDE": -121.61403,
         "GROUNDSURFACEELEVATION": 45.1,
         "GROUNDSURFACEELEVATION.1": 45.1,
         "_deepnote_index_column": 1
        },
        {
         "LATITUDE": 37.81175,
         "LONGITUDE": -121.56185,
         "GROUNDSURFACEELEVATION": 2.92,
         "GROUNDSURFACEELEVATION.1": 2.92,
         "_deepnote_index_column": 2
        },
        {
         "LATITUDE": 37.74404,
         "LONGITUDE": -121.57727,
         "GROUNDSURFACEELEVATION": 109.47,
         "GROUNDSURFACEELEVATION.1": 109.47,
         "_deepnote_index_column": 3
        },
        {
         "LATITUDE": 37.78757,
         "LONGITUDE": -121.59582,
         "GROUNDSURFACEELEVATION": 37.6,
         "GROUNDSURFACEELEVATION.1": 37.6,
         "_deepnote_index_column": 4
        },
        {
         "LATITUDE": 37.74404,
         "LONGITUDE": -121.57727,
         "GROUNDSURFACEELEVATION": 109.47,
         "GROUNDSURFACEELEVATION.1": 109.47,
         "_deepnote_index_column": 5
        },
        {
         "LATITUDE": 37.77295,
         "LONGITUDE": -121.56237,
         "GROUNDSURFACEELEVATION": 38.17,
         "GROUNDSURFACEELEVATION.1": 38.17,
         "_deepnote_index_column": 6
        },
        {
         "LATITUDE": 37.80081,
         "LONGITUDE": -121.59519,
         "GROUNDSURFACEELEVATION": 32.84,
         "GROUNDSURFACEELEVATION.1": 32.84,
         "_deepnote_index_column": 7
        },
        {
         "LATITUDE": 37.75853,
         "LONGITUDE": -121.57727,
         "GROUNDSURFACEELEVATION": 54.03,
         "GROUNDSURFACEELEVATION.1": 54.03,
         "_deepnote_index_column": 8
        },
        {
         "LATITUDE": 37.72944,
         "LONGITUDE": -121.56226,
         "GROUNDSURFACEELEVATION": 126.45,
         "GROUNDSURFACEELEVATION.1": 126.45,
         "_deepnote_index_column": 9
        }
       ]
      },
      "text/plain": "         LATITUDE   LONGITUDE  GROUNDSURFACEELEVATION  GROUNDSURFACEELEVATION\n0       37.772950 -121.562370                   38.17                   38.17\n1       37.787550 -121.614030                   45.10                   45.10\n2       37.811750 -121.561850                    2.92                    2.92\n3       37.744040 -121.577270                  109.47                  109.47\n4       37.787570 -121.595820                   37.60                   37.60\n...           ...         ...                     ...                     ...\n105982  38.179722 -121.320278                   11.55                   11.55\n105983  38.166111 -121.187222                   27.02                   27.02\n105984  38.179167 -121.070278                   45.61                   45.61\n105985  38.227086 -121.466892                    0.24                    0.24\n105986  38.159722 -121.368056                    7.70                    7.70\n\n[105987 rows x 4 columns]",
      "text/html": "<div>\n<style scoped>\n    .dataframe tbody tr th:only-of-type {\n        vertical-align: middle;\n    }\n\n    .dataframe tbody tr th {\n        vertical-align: top;\n    }\n\n    .dataframe thead th {\n        text-align: right;\n    }\n</style>\n<table border=\"1\" class=\"dataframe\">\n  <thead>\n    <tr style=\"text-align: right;\">\n      <th></th>\n      <th>LATITUDE</th>\n      <th>LONGITUDE</th>\n      <th>GROUNDSURFACEELEVATION</th>\n      <th>GROUNDSURFACEELEVATION</th>\n    </tr>\n  </thead>\n  <tbody>\n    <tr>\n      <th>0</th>\n      <td>37.772950</td>\n      <td>-121.562370</td>\n      <td>38.17</td>\n      <td>38.17</td>\n    </tr>\n    <tr>\n      <th>1</th>\n      <td>37.787550</td>\n      <td>-121.614030</td>\n      <td>45.10</td>\n      <td>45.10</td>\n    </tr>\n    <tr>\n      <th>2</th>\n      <td>37.811750</td>\n      <td>-121.561850</td>\n      <td>2.92</td>\n      <td>2.92</td>\n    </tr>\n    <tr>\n      <th>3</th>\n      <td>37.744040</td>\n      <td>-121.577270</td>\n      <td>109.47</td>\n      <td>109.47</td>\n    </tr>\n    <tr>\n      <th>4</th>\n      <td>37.787570</td>\n      <td>-121.595820</td>\n      <td>37.60</td>\n      <td>37.60</td>\n    </tr>\n    <tr>\n      <th>...</th>\n      <td>...</td>\n      <td>...</td>\n      <td>...</td>\n      <td>...</td>\n    </tr>\n    <tr>\n      <th>105982</th>\n      <td>38.179722</td>\n      <td>-121.320278</td>\n      <td>11.55</td>\n      <td>11.55</td>\n    </tr>\n    <tr>\n      <th>105983</th>\n      <td>38.166111</td>\n      <td>-121.187222</td>\n      <td>27.02</td>\n      <td>27.02</td>\n    </tr>\n    <tr>\n      <th>105984</th>\n      <td>38.179167</td>\n      <td>-121.070278</td>\n      <td>45.61</td>\n      <td>45.61</td>\n    </tr>\n    <tr>\n      <th>105985</th>\n      <td>38.227086</td>\n      <td>-121.466892</td>\n      <td>0.24</td>\n      <td>0.24</td>\n    </tr>\n    <tr>\n      <th>105986</th>\n      <td>38.159722</td>\n      <td>-121.368056</td>\n      <td>7.70</td>\n      <td>7.70</td>\n    </tr>\n  </tbody>\n</table>\n<p>105987 rows × 4 columns</p>\n</div>"
     },
     "metadata": {}
    }
   ]
  },
  {
   "cell_type": "code",
   "metadata": {
    "cell_id": "d85855df-fb0b-4049-a502-26012ce34497",
    "tags": [],
    "deepnote_to_be_reexecuted": false,
    "source_hash": "f330b2d9",
    "execution_start": 1647723040363,
    "execution_millis": 8,
    "deepnote_cell_type": "code",
    "deepnote_cell_height": 291,
    "deepnote_output_heights": [
     194
    ]
   },
   "source": "wellcompletion_merge_df.columns",
   "execution_count": null,
   "outputs": [
    {
     "output_type": "execute_result",
     "execution_count": 36,
     "data": {
      "text/plain": "Index(['LATITUDE', 'LONGITUDE', 'TOWNSHIP', 'RANGE', 'SECTION', 'WELLLOCATION',\n       'CITY', 'COUNTY', 'BOTTOMOFPERFORATEDINTERVAL',\n       'TOPOFPERFORATEDINTERVAL', 'GROUNDSURFACEELEVATION', 'STATICWATERLEVEL',\n       'RECORDTYPE', 'USE', 'WCRNUMBER', 'TOTALDRILLDEPTH',\n       'TOTALCOMPLETEDDEPTH', 'DATEWORKENDED', 'WELLYIELD',\n       'WELLYIELDUNITOFMEASURE', 'TOTALCOMPLETEDDEPTH_CORRECTED',\n       'DATEWORKENDED_CORRECTED', 'YEARWORKENDED', 'MONTHWORKENDED',\n       'geometry', 'index_right', 'OBJECTID', 'Township', 'Range', 'Meridian',\n       'Source', 'Section', 'MTRS', 'TownshipRange', 'ELEVATION_IN_METERS'],\n      dtype='object')"
     },
     "metadata": {}
    }
   ]
  },
  {
   "cell_type": "markdown",
   "source": "",
   "metadata": {
    "cell_id": "247de4a0-9d87-47ed-8921-1a040db9325c",
    "tags": [],
    "deepnote_cell_type": "markdown",
    "deepnote_cell_height": 46
   }
  },
  {
   "cell_type": "markdown",
   "source": "",
   "metadata": {
    "cell_id": "bc163490-6fb6-42ce-a7fd-2516696f8dde",
    "tags": [],
    "deepnote_cell_type": "markdown",
    "deepnote_cell_height": 46
   }
  },
  {
   "cell_type": "markdown",
   "source": "#### The below are the functions that were tested in the notebook before converting them into classes",
   "metadata": {
    "cell_id": "80a20fc4-d588-44cc-87c7-7cc51ff915cf",
    "tags": [],
    "deepnote_cell_type": "markdown",
    "deepnote_cell_height": 54
   }
  },
  {
   "cell_type": "code",
   "metadata": {
    "cell_id": "00004-638e91bc-3efe-4e53-80b5-ffb3d4b8b706",
    "deepnote_cell_type": "code",
    "deepnote_cell_height": 318
   },
   "source": "def get_plss_and_wellcompletion():\n    #initialize an instance\n    wcr_instance = WellCompletionReportsDataset()\n\n    # load the plss shapefile (these only include TRS areas that are within the San Joaquin subbasin)\n    SJ_subbasin_plss = wcr_instance.map_df\n    # aggregate by TownshipRange\n    SJ_subbasin_plss_range = SJ_subbasin_plss.dissolve(by='TownshipRange').reset_index()\n\n    wellcompletion_df = wcr_instance.data_df\n    wellcompletion_df = wellcompletion_df.iloc[:, 1:].copy()\n    \n    return wcr_instance, wellcompletion_df\n\n",
   "execution_count": null,
   "outputs": []
  },
  {
   "cell_type": "code",
   "metadata": {
    "cell_id": "00002-7daacd1a-9505-43e7-b484-09e7a446e90a",
    "deepnote_cell_type": "code",
    "deepnote_cell_height": 66
   },
   "source": "#SJ_subbasin_plss.explore()",
   "execution_count": null,
   "outputs": []
  },
  {
   "cell_type": "code",
   "metadata": {
    "cell_id": "00003-ece88734-e4b1-48a4-9e3c-6050697d523e",
    "deepnote_cell_type": "code",
    "deepnote_cell_height": 66
   },
   "source": "#SJ_subbasin_plss_range.explore()",
   "execution_count": null,
   "outputs": []
  },
  {
   "cell_type": "markdown",
   "source": "### Well Completion data\n\n[Source](https://data.cnra.ca.gov/dataset/well-completion-reports)",
   "metadata": {
    "cell_id": "00004-a8c1b56b-39b3-42cb-9392-cf3b080613c8",
    "deepnote_cell_type": "markdown",
    "deepnote_cell_height": 100.390625
   }
  },
  {
   "cell_type": "code",
   "metadata": {
    "cell_id": "00008-6dd372a3-7087-4bb7-9bc0-e40c1c0a5f7b",
    "deepnote_cell_type": "code",
    "deepnote_cell_height": 606
   },
   "source": "def draw_mising_data_chart(df):\n    percent_missing = df.isnull().sum() / len(wellcompletion_df)\n    missing_value_df = pd.DataFrame({'column_name': df.columns,\n                                     'percent_missing': percent_missing})\n    missing_value_df.sort_values('percent_missing', ascending = False, inplace=True)\n\n    sort_list = list(missing_value_df['column_name'])\n    chart = alt.Chart(missing_value_df\n                     ).mark_bar(\n                        ).encode(\n                    y =alt.Y(\"sum(percent_missing)\", stack=\"normalize\", axis=alt.Axis(format='%')),\n                    x = alt.X('column_name:N', sort=sort_list),\n                    color=alt.value(\"orange\"),\n                    tooltip = ['column_name', 'percent_missing']\n                    )\n    \n    \n    text = chart.transform_calculate(\n        position = 'datum.percent_missing + 0.05 * datum.percent_missing / abs(datum.percent_missing)'\n    ).mark_text(\n        align='center', \n        fontSize=10,\n        color='black'\n    ).encode(\n        y='position:Q',\n        text=alt.Text('percent_missing:Q', format='.0%'),\n    )\n\n    \n    return chart + text\n",
   "execution_count": null,
   "outputs": []
  },
  {
   "cell_type": "code",
   "metadata": {
    "cell_id": "00009-7915f9df-8187-42ef-83d3-a0506be6558e",
    "deepnote_cell_type": "code",
    "deepnote_cell_height": 138
   },
   "source": "#Draw a chart showing percent missing values for the features we are interested in\ndraw_mising_data_chart(wcr_instance.data_df[[\"DECIMALLATITUDE\", \"DECIMALLONGITUDE\", \"TOWNSHIP\", \"RANGE\", \"SECTION\", \"WELLLOCATION\", \"CITY\", \"COUNTYNAME\", \n                                              \"BOTTOMOFPERFORATEDINTERVAL\", \"TOPOFPERFORATEDINTERVAL\", \"GROUNDSURFACEELEVATION\", \"STATICWATERLEVEL\", \n                                              \"RECORDTYPE\",  \"PLANNEDUSEFORMERUSE\", \"WCRNUMBER\", \"TOTALDRILLDEPTH\", \n                                              \"TOTALCOMPLETEDDEPTH\", \"DATEWORKENDED\", 'WELLYIELD', 'WELLYIELDUNITOFMEASURE']])",
   "execution_count": null,
   "outputs": []
  },
  {
   "cell_type": "code",
   "metadata": {
    "cell_id": "00010-b653dab1-4102-4d29-acff-36217e967226",
    "deepnote_cell_type": "code",
    "deepnote_cell_height": 1434
   },
   "source": "def clean_well_completion_reports():\n    wellcompletion_df = wcr_instance.data_df\n\n    #There are latitudes and longitudes that are corrupt : 37/41/11.82/\n    wellcompletion_df = wellcompletion_df[~wellcompletion_df.DECIMALLATITUDE.str.contains(r\"/\", na=False)].copy()\n    wellcompletion_df = wellcompletion_df[~wellcompletion_df.DECIMALLONGITUDE.str.contains(r\"/\", na=False)].copy()\n\n    wellcompletion_df['DECIMALLATITUDE'] = wellcompletion_df.DECIMALLATITUDE.astype('float')\n    wellcompletion_df['DECIMALLONGITUDE'] = wellcompletion_df.DECIMALLONGITUDE.astype('float')\n\n\n    #Correct incorrectly signed logitude and latiude Example :   120.54483 Longitude\n    wellcompletion_df['DECIMALLONGITUDE'] = np.where(wellcompletion_df['DECIMALLONGITUDE'] > 0,\n                                                    -wellcompletion_df['DECIMALLONGITUDE'],\n                                                    wellcompletion_df['DECIMALLONGITUDE'])\n\n    wellcompletion_df['DECIMALLATITUDE'] = np.where(wellcompletion_df['DECIMALLATITUDE'] < 0,\n                                                    -wellcompletion_df['DECIMALLATITUDE'],\n                                                    wellcompletion_df['DECIMALLATITUDE'])\n\n    #About 5% of the dataframe has eith latitude or longitude missing, we drop these\n    wellcompletion_df = wellcompletion_df.dropna(subset=['DECIMALLATITUDE', 'DECIMALLONGITUDE']).copy()\n\n    # Pick data of interest\n    wellcompletion_subset_df = wellcompletion_df[[\"DECIMALLATITUDE\", \"DECIMALLONGITUDE\", \"TOWNSHIP\", \"RANGE\", \"SECTION\", \"WELLLOCATION\", \"CITY\", \"COUNTYNAME\", \n                                                  \"BOTTOMOFPERFORATEDINTERVAL\", \"TOPOFPERFORATEDINTERVAL\", \"GROUNDSURFACEELEVATION\", \"STATICWATERLEVEL\", \n                                                  \"RECORDTYPE\",  \"PLANNEDUSEFORMERUSE\", \"WCRNUMBER\", \"TOTALDRILLDEPTH\", \n                                                  \"TOTALCOMPLETEDDEPTH\", \"DATEWORKENDED\", 'WELLYIELD', 'WELLYIELDUNITOFMEASURE']].copy()\n\n\n\n    #len(wellcompletion_subset_df[(wellcompletion_subset_df['LATITUDE'].isnull()) | (wellcompletion_subset_df['LATITUDE'].isnull())])/  len(wellcompletion_subset_df)\n    #.05\n\n    # rename columns\n    wellcompletion_subset_df.rename(columns={\"DECIMALLATITUDE\" : \"LATITUDE\", \n                                            \"DECIMALLONGITUDE\" : \"LONGITUDE\", \n                                            \"PLANNEDUSEFORMERUSE\": \"USE\" ,       \n                                            \"COUNTYNAME\" : \"COUNTY\", \n                                           }, inplace=True)\n\n    # filter to only include new well completion since we predict on this\n    wellcompletion_subset_df = wellcompletion_subset_df.loc[wellcompletion_subset_df['RECORDTYPE'] == 'WellCompletion/New/Production or Monitoring/NA']\n\n    # filter to only include agriculture, domestic, or public wells\n    #Data issues Agriculture is also denoted by \"AG\"\n    wellcompletion_subset_df['USE'] = wellcompletion_subset_df['USE'].fillna(\"\")\n    wellcompletion_subset_df['USE'] = wellcompletion_subset_df['USE'].str.lower()\n    wellcompletion_subset_df['USE'] = (\n                                        np.where(wellcompletion_subset_df['USE'].str.contains(\"agri|irrigation\"),\n                                                 \"Agriculture\",\n                                                 np.where(wellcompletion_subset_df['USE'].str.contains(\"domestic\"),\n                                                         \"Domestic\",\n                                                          np.where(wellcompletion_subset_df['USE'].str.contains(\"indus|commerc\"),\n                                                          \"Industrial\",\n                                                          np.where(wellcompletion_subset_df['USE'].str.contains(\"public\"),\n                                                                  \"Public\",\n                                                                  \"Other\")\n                                                         )\n                                                )\n                                        ))\n    wellcompletion_subset_df = wellcompletion_subset_df[wellcompletion_subset_df[\"USE\"].isin([\"Agriculture\",\"Domestic\",\"Public\", \"Industrial\"])]\n\n    wellcompletion_subset_df['TOTALCOMPLETEDDEPTH'] = pd.to_numeric(wellcompletion_subset_df['TOTALCOMPLETEDDEPTH'], errors=\"coerce\")\n\n    # removes depth data that are less than 20'\n    wellcompletion_subset_df['TOTALCOMPLETEDDEPTH_CORRECTED'] = wellcompletion_subset_df['TOTALCOMPLETEDDEPTH'].apply(lambda x: x if x >= 20 else np.nan)\n    # convert date work ended to datetime and filter to only include completed dates that are possible (not a future date) \n    wellcompletion_subset_df['DATEWORKENDED'] = pd.to_datetime(wellcompletion_subset_df['DATEWORKENDED'], errors='coerce')\n    # convert date work ended to datetime and filter to only include completed dates that are possible (not a future date) \n    wellcompletion_subset_df['DATEWORKENDED'] = pd.to_datetime(wellcompletion_subset_df['DATEWORKENDED'], errors='coerce')\n    wellcompletion_subset_df['DATEWORKENDED_CORRECTED'] = wellcompletion_subset_df['DATEWORKENDED'].apply(lambda x: x if x < datetime.now() else np.nan)\n    # create simple year and month columns\n    wellcompletion_subset_df['YEARWORKENDED'] = pd.DatetimeIndex(wellcompletion_subset_df['DATEWORKENDED_CORRECTED']).year\n    wellcompletion_subset_df['MONTHWORKENDED'] = pd.DatetimeIndex(wellcompletion_subset_df['DATEWORKENDED_CORRECTED']).month\n    \n    return wellcompletion_subset_df",
   "execution_count": null,
   "outputs": []
  },
  {
   "cell_type": "code",
   "metadata": {
    "cell_id": "00014-0fbc2b9d-6932-4d19-b595-2f2241cbe7ef",
    "deepnote_cell_type": "code",
    "deepnote_cell_height": 300
   },
   "source": "def merge_data_plss():\n    df = self.wellcompletion_subset_df\n    # create wells geodataframe\n    wellcompletion_subset_gdf = gpd.GeoDataFrame(df, geometry=gpd.points_from_xy(df.LONGITUDE, df.LATITUDE))\n    #Set the coordinate reference system (the projection that denote the axis for the points)\n    wellcompletion_subset_gdf = wellcompletion_subset_gdf.set_crs('epsg:4326')\n\n    # spatial join based on geometry\n    wellcompletion_subset_plss = wellcompletion_subset_gdf.sjoin(SJ_subbasin_plss, how=\"left\")\n\n    # drop the ones that aren't in the san joaquin valley basin\n    wellcompletion_subset_plss = wellcompletion_subset_plss.dropna(subset=['MTRS'])\n    \n    return wellcompletion_subset_plss",
   "execution_count": null,
   "outputs": []
  },
  {
   "cell_type": "code",
   "metadata": {
    "cell_id": "00016-2981b1a5-2845-48cf-b3cf-31c7ecddf76f",
    "deepnote_cell_type": "code",
    "deepnote_cell_height": 66
   },
   "source": "#len(wellcompletion_subset_df)/ len(wcr_instance.data_df) # Cleaned dataset =  0.43264636176071297  of original",
   "execution_count": null,
   "outputs": []
  },
  {
   "cell_type": "code",
   "metadata": {
    "cell_id": "00013-2f61a9e5-9000-4057-967f-aaf086daae60",
    "deepnote_cell_type": "code",
    "deepnote_cell_height": 66
   },
   "source": "wellcompletion_subset_plss.shape #(105987, 34)",
   "execution_count": null,
   "outputs": []
  },
  {
   "cell_type": "code",
   "metadata": {
    "cell_id": "00014-e70859dc-17b9-48a0-ac4b-f6c670b01ef5",
    "deepnote_cell_type": "code",
    "deepnote_cell_height": 66
   },
   "source": "len(wellcompletion_subset_plss)/ len(wcr_instance.data_df)# San Joaquin dataset =  0.10161433206267881  of original",
   "execution_count": null,
   "outputs": []
  },
  {
   "cell_type": "markdown",
   "source": "<a style='text-decoration:none;line-height:16px;display:flex;color:#5B5B62;padding:10px;justify-content:end;' href='https://deepnote.com?utm_source=created-in-deepnote-cell&projectId=b042e2da-6536-449d-95b8-d85fa08825de' target=\"_blank\">\n<img alt='Created in deepnote.com' style='display:inline;max-height:16px;margin:0px;margin-right:7.5px;' src='data:image/svg+xml;base64,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' > </img>\nCreated in <span style='font-weight:600;margin-left:4px;'>Deepnote</span></a>",
   "metadata": {
    "tags": [],
    "created_in_deepnote_cell": true,
    "deepnote_cell_type": "markdown"
   }
  }
 ],
 "nbformat": 4,
 "nbformat_minor": 5,
 "metadata": {
  "deepnote": {},
  "deepnote_execution_queue": [],
  "deepnote_notebook_id": "32407b60-45a5-47e6-9eae-e63a2d0fa0d0",
  "kernelspec": {
   "display_name": "geo_env",
   "language": "python",
   "name": "geo_env"
  },
  "language_info": {
   "codemirror_mode": {
    "name": "ipython",
    "version": 3
   },
   "file_extension": ".py",
   "mimetype": "text/x-python",
   "name": "python",
   "nbconvert_exporter": "python",
   "pygments_lexer": "ipython3",
   "version": "3.10.2"
  }
 }
}