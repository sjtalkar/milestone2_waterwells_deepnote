{
 "cells": [
  {
   "cell_type": "markdown",
   "source": "# California Well Completion Reports Datasets\n\nRelated links:\n* For the documentation about this dataset, its source, how to download, and the features of interest, please refer to our [Well Completion Reports Dataset](/doc/assets/well_completion_reports.md) documentation\n",
   "metadata": {
    "cell_id": "a6949397-cb85-4567-87be-8bf9de1e766c",
    "deepnote_cell_type": "markdown",
    "deepnote_cell_height": 170.796875
   }
  },
  {
   "cell_type": "code",
   "metadata": {
    "cell_id": "40d9bb27-2cbb-429c-909a-d2af4a71db1f",
    "deepnote_cell_type": "code",
    "deepnote_cell_height": 300
   },
   "source": "import warnings\nwarnings.simplefilter(action='ignore', category=FutureWarning)\n\nimport json\nimport requests\nimport pandas as pd\nimport numpy as np\nfrom datetime import datetime\nimport geopandas as gpd\nimport pygeos\n\nimport altair as alt\n\n",
   "execution_count": null,
   "outputs": []
  },
  {
   "cell_type": "code",
   "metadata": {
    "cell_id": "00002-e31d6f1d-2be4-45f0-a6cc-4f5540aa5375",
    "deepnote_cell_type": "code",
    "deepnote_cell_height": 192
   },
   "source": "import sys\nimport os\n\n# Note once library path is set this will not be require: REMOVE\nmodule_path = os.path.abspath(os.path.join('..'))\nif module_path not in sys.path:\n    sys.path.append(module_path+\"\\\\lib\")\nfrom wellcompletionreports import WellCompletionReportsDataset",
   "execution_count": null,
   "outputs": []
  },
  {
   "cell_type": "code",
   "metadata": {
    "cell_id": "00003-ff5c1504-ddb0-43d2-8d47-e8a3098eef57",
    "deepnote_cell_type": "code",
    "deepnote_cell_height": 84
   },
   "source": "#This will be stored in the class\nwcr_instance = WellCompletionReportsDataset()",
   "execution_count": null,
   "outputs": []
  },
  {
   "cell_type": "code",
   "metadata": {
    "cell_id": "00004-638e91bc-3efe-4e53-80b5-ffb3d4b8b706",
    "deepnote_cell_type": "code",
    "deepnote_cell_height": 318
   },
   "source": "def get_plss_and_wellcompletion()\n    #initialize an instance\n    wcr_instance = WellCompletionReportsDataset()\n\n    # load the plss shapefile (these only include TRS areas that are within the San Joaquin subbasin)\n    SJ_subbasin_plss = wcr_instance.map_df\n    # aggregate by TownshipRange\n    SJ_subbasin_plss_range = SJ_subbasin_plss.dissolve(by='TownshipRange').reset_index()\n\n    wellcompletion_df = wcr_instance.data_df\n    wellcompletion_df = wellcompletion_df.iloc[:, 1:].copy()\n    \n    return wellcompletion_df\n\n",
   "execution_count": null,
   "outputs": []
  },
  {
   "cell_type": "code",
   "metadata": {
    "cell_id": "00002-7daacd1a-9505-43e7-b484-09e7a446e90a",
    "deepnote_cell_type": "code",
    "deepnote_cell_height": 66
   },
   "source": "#SJ_subbasin_plss.explore()",
   "execution_count": null,
   "outputs": []
  },
  {
   "cell_type": "code",
   "metadata": {
    "cell_id": "00003-ece88734-e4b1-48a4-9e3c-6050697d523e",
    "deepnote_cell_type": "code",
    "deepnote_cell_height": 66
   },
   "source": "#SJ_subbasin_plss_range.explore()",
   "execution_count": null,
   "outputs": []
  },
  {
   "cell_type": "markdown",
   "source": "### Well Completion data\n\n[Source](https://data.cnra.ca.gov/dataset/well-completion-reports)",
   "metadata": {
    "cell_id": "00004-a8c1b56b-39b3-42cb-9392-cf3b080613c8",
    "deepnote_cell_type": "markdown",
    "deepnote_cell_height": 100.390625
   }
  },
  {
   "cell_type": "code",
   "metadata": {
    "cell_id": "00008-6dd372a3-7087-4bb7-9bc0-e40c1c0a5f7b",
    "deepnote_cell_type": "code",
    "deepnote_cell_height": 606
   },
   "source": "def draw_mising_data_chart(df):\n    percent_missing = df.isnull().sum() / len(wellcompletion_df)\n    missing_value_df = pd.DataFrame({'column_name': df.columns,\n                                     'percent_missing': percent_missing})\n    missing_value_df.sort_values('percent_missing', ascending = False, inplace=True)\n\n    sort_list = list(missing_value_df['column_name'])\n    chart = alt.Chart(missing_value_df\n                     ).mark_bar(\n                        ).encode(\n                    y =alt.Y(\"sum(percent_missing)\", stack=\"normalize\", axis=alt.Axis(format='%')),\n                    x = alt.X('column_name:N', sort=sort_list),\n                    color=alt.value(\"orange\"),\n                    tooltip = ['column_name', 'percent_missing']\n                    )\n    \n    \n    text = chart.transform_calculate(\n        position = 'datum.percent_missing + 0.05 * datum.percent_missing / abs(datum.percent_missing)'\n    ).mark_text(\n        align='center', \n        fontSize=10,\n        color='black'\n    ).encode(\n        y='position:Q',\n        text=alt.Text('percent_missing:Q', format='.0%'),\n    )\n\n    \n    return chart + text\n",
   "execution_count": null,
   "outputs": []
  },
  {
   "cell_type": "code",
   "metadata": {
    "cell_id": "00009-7915f9df-8187-42ef-83d3-a0506be6558e",
    "deepnote_cell_type": "code",
    "deepnote_cell_height": 138
   },
   "source": "#Draw a chart showing percent missing values for the features we are interested in\ndraw_mising_data_chart(wcr_instance.data_df[[\"DECIMALLATITUDE\", \"DECIMALLONGITUDE\", \"TOWNSHIP\", \"RANGE\", \"SECTION\", \"WELLLOCATION\", \"CITY\", \"COUNTYNAME\", \n                                              \"BOTTOMOFPERFORATEDINTERVAL\", \"TOPOFPERFORATEDINTERVAL\", \"GROUNDSURFACEELEVATION\", \"STATICWATERLEVEL\", \n                                              \"RECORDTYPE\",  \"PLANNEDUSEFORMERUSE\", \"WCRNUMBER\", \"TOTALDRILLDEPTH\", \n                                              \"TOTALCOMPLETEDDEPTH\", \"DATEWORKENDED\", 'WELLYIELD', 'WELLYIELDUNITOFMEASURE']])",
   "execution_count": null,
   "outputs": []
  },
  {
   "cell_type": "code",
   "metadata": {
    "cell_id": "00010-b653dab1-4102-4d29-acff-36217e967226",
    "deepnote_cell_type": "code",
    "deepnote_cell_height": 1434
   },
   "source": "def clean_well_completion_reports():\n    wellcompletion_df = wcr_instance.data_df\n\n    #There are latitudes and longitudes that are corrupt : 37/41/11.82/\n    wellcompletion_df = wellcompletion_df[~wellcompletion_df.DECIMALLATITUDE.str.contains(r\"/\", na=False)].copy()\n    wellcompletion_df = wellcompletion_df[~wellcompletion_df.DECIMALLONGITUDE.str.contains(r\"/\", na=False)].copy()\n\n    wellcompletion_df['DECIMALLATITUDE'] = wellcompletion_df.DECIMALLATITUDE.astype('float')\n    wellcompletion_df['DECIMALLONGITUDE'] = wellcompletion_df.DECIMALLONGITUDE.astype('float')\n\n\n    #Correct incorrectly signed logitude and latiude Example :   120.54483 Longitude\n    wellcompletion_df['DECIMALLONGITUDE'] = np.where(wellcompletion_df['DECIMALLONGITUDE'] > 0,\n                                                    -wellcompletion_df['DECIMALLONGITUDE'],\n                                                    wellcompletion_df['DECIMALLONGITUDE'])\n\n    wellcompletion_df['DECIMALLATITUDE'] = np.where(wellcompletion_df['DECIMALLATITUDE'] < 0,\n                                                    -wellcompletion_df['DECIMALLATITUDE'],\n                                                    wellcompletion_df['DECIMALLATITUDE'])\n\n    #About 5% of the dataframe has eith latitude or longitude missing, we drop these\n    wellcompletion_df = wellcompletion_df.dropna(subset=['DECIMALLATITUDE', 'DECIMALLONGITUDE']).copy()\n\n    # Pick data of interest\n    wellcompletion_subset_df = wellcompletion_df[[\"DECIMALLATITUDE\", \"DECIMALLONGITUDE\", \"TOWNSHIP\", \"RANGE\", \"SECTION\", \"WELLLOCATION\", \"CITY\", \"COUNTYNAME\", \n                                                  \"BOTTOMOFPERFORATEDINTERVAL\", \"TOPOFPERFORATEDINTERVAL\", \"GROUNDSURFACEELEVATION\", \"STATICWATERLEVEL\", \n                                                  \"RECORDTYPE\",  \"PLANNEDUSEFORMERUSE\", \"WCRNUMBER\", \"TOTALDRILLDEPTH\", \n                                                  \"TOTALCOMPLETEDDEPTH\", \"DATEWORKENDED\", 'WELLYIELD', 'WELLYIELDUNITOFMEASURE']].copy()\n\n\n\n    #len(wellcompletion_subset_df[(wellcompletion_subset_df['LATITUDE'].isnull()) | (wellcompletion_subset_df['LATITUDE'].isnull())])/  len(wellcompletion_subset_df)\n    #.05\n\n    # rename columns\n    wellcompletion_subset_df.rename(columns={\"DECIMALLATITUDE\" : \"LATITUDE\", \n                                            \"DECIMALLONGITUDE\" : \"LONGITUDE\", \n                                            \"PLANNEDUSEFORMERUSE\": \"USE\" ,       \n                                            \"COUNTYNAME\" : \"COUNTY\", \n                                           }, inplace=True)\n\n    # filter to only include new well completion since we predict on this\n    wellcompletion_subset_df = wellcompletion_subset_df.loc[wellcompletion_subset_df['RECORDTYPE'] == 'WellCompletion/New/Production or Monitoring/NA']\n\n    # filter to only include agriculture, domestic, or public wells\n    #Data issues Agriculture is also denoted by \"AG\"\n    wellcompletion_subset_df['USE'] = wellcompletion_subset_df['USE'].fillna(\"\")\n    wellcompletion_subset_df['USE'] = wellcompletion_subset_df['USE'].str.lower()\n    wellcompletion_subset_df['USE'] = (\n                                        np.where(wellcompletion_subset_df['USE'].str.contains(\"agri|irrigation\"),\n                                                 \"Agriculture\",\n                                                 np.where(wellcompletion_subset_df['USE'].str.contains(\"domestic\"),\n                                                         \"Domestic\",\n                                                          np.where(wellcompletion_subset_df['USE'].str.contains(\"indus|commerc\"),\n                                                          \"Industrial\",\n                                                          np.where(wellcompletion_subset_df['USE'].str.contains(\"public\"),\n                                                                  \"Public\",\n                                                                  \"Other\")\n                                                         )\n                                                )\n                                        ))\n    wellcompletion_subset_df = wellcompletion_subset_df[wellcompletion_subset_df[\"USE\"].isin([\"Agriculture\",\"Domestic\",\"Public\", \"Industrial\"])]\n\n    wellcompletion_subset_df['TOTALCOMPLETEDDEPTH'] = pd.to_numeric(wellcompletion_subset_df['TOTALCOMPLETEDDEPTH'], errors=\"coerce\")\n\n    # removes depth data that are less than 20'\n    wellcompletion_subset_df['TOTALCOMPLETEDDEPTH_CORRECTED'] = wellcompletion_subset_df['TOTALCOMPLETEDDEPTH'].apply(lambda x: x if x >= 20 else np.nan)\n    # convert date work ended to datetime and filter to only include completed dates that are possible (not a future date) \n    wellcompletion_subset_df['DATEWORKENDED'] = pd.to_datetime(wellcompletion_subset_df['DATEWORKENDED'], errors='coerce')\n    # convert date work ended to datetime and filter to only include completed dates that are possible (not a future date) \n    wellcompletion_subset_df['DATEWORKENDED'] = pd.to_datetime(wellcompletion_subset_df['DATEWORKENDED'], errors='coerce')\n    wellcompletion_subset_df['DATEWORKENDED_CORRECTED'] = wellcompletion_subset_df['DATEWORKENDED'].apply(lambda x: x if x < datetime.now() else np.nan)\n    # create simple year and month columns\n    wellcompletion_subset_df['YEARWORKENDED'] = pd.DatetimeIndex(wellcompletion_subset_df['DATEWORKENDED_CORRECTED']).year\n    wellcompletion_subset_df['MONTHWORKENDED'] = pd.DatetimeIndex(wellcompletion_subset_df['DATEWORKENDED_CORRECTED']).month\n    \n    return wellcompletion_subset_df",
   "execution_count": null,
   "outputs": []
  },
  {
   "cell_type": "code",
   "metadata": {
    "cell_id": "00014-0fbc2b9d-6932-4d19-b595-2f2241cbe7ef",
    "deepnote_cell_type": "code",
    "deepnote_cell_height": 300
   },
   "source": "def merge_data_plss():\n    df = self.wellcompletion_subset_df\n    # create wells geodataframe\n    wellcompletion_subset_gdf = gpd.GeoDataFrame(df, geometry=gpd.points_from_xy(df.LONGITUDE, df.LATITUDE))\n    #Set the coordinate reference system (the projection that denote the axis for the points)\n    wellcompletion_subset_gdf = wellcompletion_subset_gdf.set_crs('epsg:4326')\n\n    # spatial join based on geometry\n    wellcompletion_subset_plss = wellcompletion_subset_gdf.sjoin(SJ_subbasin_plss, how=\"left\")\n\n    # drop the ones that aren't in the san joaquin valley basin\n    wellcompletion_subset_plss = wellcompletion_subset_plss.dropna(subset=['MTRS'])\n    \n    return wellcompletion_subset_plss",
   "execution_count": null,
   "outputs": []
  },
  {
   "cell_type": "code",
   "metadata": {
    "cell_id": "00016-2981b1a5-2845-48cf-b3cf-31c7ecddf76f",
    "deepnote_cell_type": "code",
    "deepnote_cell_height": 66
   },
   "source": "#len(wellcompletion_subset_df)/ len(wcr_instance.data_df) # Cleaned dataset =  0.43264636176071297  of original",
   "execution_count": null,
   "outputs": []
  },
  {
   "cell_type": "code",
   "metadata": {
    "cell_id": "00013-2f61a9e5-9000-4057-967f-aaf086daae60",
    "deepnote_cell_type": "code",
    "deepnote_cell_height": 66
   },
   "source": "wellcompletion_subset_plss.shape #(105987, 34)",
   "execution_count": null,
   "outputs": []
  },
  {
   "cell_type": "code",
   "metadata": {
    "cell_id": "00014-e70859dc-17b9-48a0-ac4b-f6c670b01ef5",
    "deepnote_cell_type": "code",
    "deepnote_cell_height": 66
   },
   "source": "len(wellcompletion_subset_plss)/ len(wcr_instance.data_df)# San Joaquin dataset =  0.10161433206267881  of original",
   "execution_count": null,
   "outputs": []
  },
  {
   "cell_type": "markdown",
   "source": "<a style='text-decoration:none;line-height:16px;display:flex;color:#5B5B62;padding:10px;justify-content:end;' href='https://deepnote.com?utm_source=created-in-deepnote-cell&projectId=b042e2da-6536-449d-95b8-d85fa08825de' target=\"_blank\">\n<img alt='Created in deepnote.com' style='display:inline;max-height:16px;margin:0px;margin-right:7.5px;' src='data:image/svg+xml;base64,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' > </img>\nCreated in <span style='font-weight:600;margin-left:4px;'>Deepnote</span></a>",
   "metadata": {
    "tags": [],
    "created_in_deepnote_cell": true,
    "deepnote_cell_type": "markdown"
   }
  }
 ],
 "nbformat": 4,
 "nbformat_minor": 5,
 "metadata": {
  "deepnote": {},
  "deepnote_execution_queue": [],
  "deepnote_notebook_id": "32407b60-45a5-47e6-9eae-e63a2d0fa0d0",
  "kernelspec": {
   "display_name": "geo_env",
   "language": "python",
   "name": "geo_env"
  },
  "language_info": {
   "codemirror_mode": {
    "name": "ipython",
    "version": 3
   },
   "file_extension": ".py",
   "mimetype": "text/x-python",
   "name": "python",
   "nbconvert_exporter": "python",
   "pygments_lexer": "ipython3",
   "version": "3.10.2"
  }
 }
}