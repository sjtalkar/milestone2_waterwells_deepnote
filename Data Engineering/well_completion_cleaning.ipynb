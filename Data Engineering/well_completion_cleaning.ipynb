{
 "cells": [
  {
   "cell_type": "code",
   "metadata": {
    "cell_id": "40d9bb27-2cbb-429c-909a-d2af4a71db1f",
    "deepnote_cell_type": "code",
    "deepnote_cell_height": 264
   },
   "source": "import warnings\nwarnings.simplefilter(action='ignore', category=FutureWarning)\n\nimport json\nimport requests\nimport pandas as pd\nimport numpy as np\nfrom datetime import datetime\nimport geopandas as gpd\nimport pygeos\n\nimport altair as alt",
   "execution_count": null,
   "outputs": []
  },
  {
   "cell_type": "code",
   "metadata": {
    "cell_id": "00001-e57de618-59c1-4159-91ac-8042c8e3f7e0",
    "deepnote_cell_type": "code",
    "deepnote_cell_height": 120
   },
   "source": "# load the plss shapefile (these only include TRS areas that are within the San Joaquin subbasin)\nSJ_subbasin_plss = gpd.read_file(\"assets/clean_data/plss_subbasin.geojson\")\n# aggregate by TownshipRange\nSJ_subbasin_plss_range = SJ_subbasin_plss.dissolve(by='TownshipRange').reset_index()",
   "execution_count": null,
   "outputs": []
  },
  {
   "cell_type": "code",
   "metadata": {
    "cell_id": "00002-7daacd1a-9505-43e7-b484-09e7a446e90a",
    "deepnote_cell_type": "code",
    "deepnote_cell_height": 66
   },
   "source": "#SJ_subbasin_plss.explore()",
   "execution_count": null,
   "outputs": []
  },
  {
   "cell_type": "code",
   "metadata": {
    "cell_id": "00003-ece88734-e4b1-48a4-9e3c-6050697d523e",
    "deepnote_cell_type": "code",
    "deepnote_cell_height": 66
   },
   "source": "#SJ_subbasin_plss_range.explore()",
   "execution_count": null,
   "outputs": []
  },
  {
   "cell_type": "markdown",
   "source": "### Well Completion data\n\n[Source](https://data.cnra.ca.gov/dataset/well-completion-reports)",
   "metadata": {
    "cell_id": "00004-a8c1b56b-39b3-42cb-9392-cf3b080613c8",
    "deepnote_cell_type": "markdown",
    "deepnote_cell_height": 100.390625
   }
  },
  {
   "cell_type": "code",
   "metadata": {
    "cell_id": "00005-fb772293-85fb-4529-a9fd-d9d0c3d65c3b",
    "deepnote_cell_type": "code",
    "deepnote_cell_height": 150
   },
   "source": "wellcompletion_df = pd.read_csv(r\"assets/clean_data/wellcompletion.csv\")\nwellcompletion_df = wellcompletion_df.iloc[:, 1:].copy()",
   "execution_count": null,
   "outputs": [
    {
     "name": "stderr",
     "output_type": "stream",
     "text": "C:\\Users\\SimiTalkar\\AppData\\Local\\Temp\\ipykernel_30908\\1270979558.py:1: DtypeWarning: Columns (1,6,31) have mixed types. Specify dtype option on import or set low_memory=False.\n  wellcompletion_df = pd.read_csv(r\"assets/clean_data/wellcompletion.csv\")\n"
    }
   ]
  },
  {
   "cell_type": "code",
   "metadata": {
    "cell_id": "00006-51240ca4-d53f-4d87-a3c1-0d5c06718b02",
    "deepnote_cell_type": "code",
    "deepnote_cell_height": 118.1875,
    "deepnote_output_heights": [
     21.1875
    ]
   },
   "source": "wellcompletion_df.shape #1043032 - 988396  = 54636",
   "execution_count": null,
   "outputs": [
    {
     "data": {
      "text/plain": "(1043032, 46)"
     },
     "execution_count": 94,
     "metadata": {},
     "output_type": "execute_result"
    }
   ]
  },
  {
   "cell_type": "code",
   "metadata": {
    "cell_id": "00007-79d4e3eb-de29-4889-bbcc-049e13eeb60f",
    "deepnote_cell_type": "code",
    "deepnote_cell_height": 480
   },
   "source": "#drop the records that do not have latitude and longitude\nwellcompletion_df = wellcompletion_df.dropna(subset=['DECIMALLATITUDE', 'DECIMALLONGITUDE']).copy()\n#There are latitudes and longitudes that are corrupt : 37/41/11.82/\nwellcompletion_df = wellcompletion_df[~wellcompletion_df.DECIMALLATITUDE.str.contains(r\"/\", na=False)].copy()\nwellcompletion_df = wellcompletion_df[~wellcompletion_df.DECIMALLONGITUDE.str.contains(r\"/\", na=False)].copy()\n\nwellcompletion_df['DECIMALLATITUDE'] = wellcompletion_df.DECIMALLATITUDE.astype('float')\nwellcompletion_df['DECIMALLONGITUDE'] = wellcompletion_df.DECIMALLONGITUDE.astype('float')\n\n\n\n# Pick data of interest\nwellcompletion_subset_df = wellcompletion_df[[\"DECIMALLATITUDE\", \"DECIMALLONGITUDE\", \"TOWNSHIP\", \"RANGE\", \"SECTION\", \"WELLLOCATION\", \"CITY\", \"COUNTYNAME\", \n                                              \"BOTTOMOFPERFORATEDINTERVAL\", \"TOPOFPERFORATEDINTERVAL\", \"GROUNDSURFACEELEVATION\", \"STATICWATERLEVEL\", \n                                              \"RECORDTYPE\",  \"PLANNEDUSEFORMERUSE\", \"WCRNUMBER\", \"TOTALDRILLDEPTH\", \n                                              \"TOTALCOMPLETEDDEPTH\", \"DATEWORKENDED\",\"CASINGDIAMETER\"]].copy()\n\n\n# rename columns\nwellcompletion_subset_df.rename(columns={\"DECIMALLATITUDE\" : \"LATITUDE\", \n                                        \"DECIMALLONGITUDE\" : \"LONGITUDE\", \n                                        \"PLANNEDUSEFORMERUSE\": \"USE\" ,       \n                                        \"COUNTYNAME\" : \"COUNTY\", \n                                       }, inplace=True)",
   "execution_count": null,
   "outputs": []
  },
  {
   "cell_type": "code",
   "metadata": {
    "cell_id": "00008-defcec2c-35c3-4a0d-99ab-7ff22972e066",
    "deepnote_cell_type": "code",
    "deepnote_cell_height": 84
   },
   "source": "# filter to only include new well completion since we predict on this\nwellcompletion_subset_df = wellcompletion_subset_df.loc[wellcompletion_subset_df['RECORDTYPE'] == 'WellCompletion/New/Production or Monitoring/NA']",
   "execution_count": null,
   "outputs": []
  },
  {
   "cell_type": "code",
   "metadata": {
    "cell_id": "00009-d3abb644-b5e2-4e8b-9e48-18d1eeae310b",
    "deepnote_cell_type": "code",
    "deepnote_cell_height": 372
   },
   "source": "# filter to only include agriculture, domestic, or public wells\n#Data issues Agriculture is also denoted by \"AG\"\nwellcompletion_subset_df['USE'] = wellcompletion_subset_df['USE'].fillna(\"\")\nwellcompletion_subset_df['USE'] = wellcompletion_subset_df['USE'].str.lower()\nwellcompletion_subset_df['USE'] = (\n                                    np.where(wellcompletion_subset_df['USE'].str.contains(\"agri|irrigation\"),\n                                             \"Agriculture\",\n                                             np.where(wellcompletion_subset_df['USE'].str.contains(\"domestic\"),\n                                                     \"Domestic\",\n                                                      np.where(wellcompletion_subset_df['USE'].str.contains(\"indus|commerc\"),\n                                                      \"Industrial\",\n                                                      np.where(wellcompletion_subset_df['USE'].str.contains(\"public\"),\n                                                              \"Public\",\n                                                              \"Other\")\n                                                     )\n                                            )\n                                    ))\nwellcompletion_subset_df = wellcompletion_subset_df[wellcompletion_subset_df[\"USE\"].isin([\"Agriculture\",\"Domestic\",\"Public\", \"Industrial\"])]",
   "execution_count": null,
   "outputs": []
  },
  {
   "cell_type": "code",
   "metadata": {
    "cell_id": "00010-c523d094-537e-4b35-93a0-922cc4cd95b2",
    "deepnote_cell_type": "code",
    "deepnote_cell_height": 214.1875,
    "deepnote_output_heights": [
     117.1875
    ]
   },
   "source": "wellcompletion_subset_df.columns",
   "execution_count": null,
   "outputs": [
    {
     "data": {
      "text/plain": "Index(['LATITUDE', 'LONGITUDE', 'TOWNSHIP', 'RANGE', 'SECTION', 'WELLLOCATION',\n       'CITY', 'COUNTY', 'BOTTOMOFPERFORATEDINTERVAL',\n       'TOPOFPERFORATEDINTERVAL', 'GROUNDSURFACEELEVATION', 'STATICWATERLEVEL',\n       'RECORDTYPE', 'USE', 'WCRNUMBER', 'TOTALDRILLDEPTH',\n       'TOTALCOMPLETEDDEPTH', 'DATEWORKENDED', 'CASINGDIAMETER'],\n      dtype='object')"
     },
     "execution_count": 98,
     "metadata": {},
     "output_type": "execute_result"
    }
   ]
  },
  {
   "cell_type": "code",
   "metadata": {
    "cell_id": "00011-943d19c8-6211-4749-9f85-26ac7bdf7ce3",
    "deepnote_cell_type": "code",
    "deepnote_cell_height": 66
   },
   "source": "wellcompletion_subset_df['TOTALCOMPLETEDDEPTH'] = pd.to_numeric(wellcompletion_subset_df['TOTALCOMPLETEDDEPTH'], errors=\"coerce\")",
   "execution_count": null,
   "outputs": []
  },
  {
   "cell_type": "code",
   "metadata": {
    "cell_id": "00012-873ecbfb-ed10-4d22-99d5-b554645c1925",
    "deepnote_cell_type": "code",
    "deepnote_cell_height": 479.1875,
    "deepnote_output_heights": [
     382.1875
    ]
   },
   "source": "wellcompletion_subset_df[wellcompletion_subset_df['TOTALCOMPLETEDDEPTH'] <= 20]#889 rows ",
   "execution_count": null,
   "outputs": [
    {
     "data": {
      "text/html": "<div>\n<style scoped>\n    .dataframe tbody tr th:only-of-type {\n        vertical-align: middle;\n    }\n\n    .dataframe tbody tr th {\n        vertical-align: top;\n    }\n\n    .dataframe thead th {\n        text-align: right;\n    }\n</style>\n<table border=\"1\" class=\"dataframe\">\n  <thead>\n    <tr style=\"text-align: right;\">\n      <th></th>\n      <th>LATITUDE</th>\n      <th>LONGITUDE</th>\n      <th>TOWNSHIP</th>\n      <th>RANGE</th>\n      <th>SECTION</th>\n      <th>WELLLOCATION</th>\n      <th>CITY</th>\n      <th>COUNTY</th>\n      <th>BOTTOMOFPERFORATEDINTERVAL</th>\n      <th>TOPOFPERFORATEDINTERVAL</th>\n      <th>GROUNDSURFACEELEVATION</th>\n      <th>STATICWATERLEVEL</th>\n      <th>RECORDTYPE</th>\n      <th>USE</th>\n      <th>WCRNUMBER</th>\n      <th>TOTALDRILLDEPTH</th>\n      <th>TOTALCOMPLETEDDEPTH</th>\n      <th>DATEWORKENDED</th>\n      <th>CASINGDIAMETER</th>\n    </tr>\n  </thead>\n  <tbody>\n    <tr>\n      <th>825</th>\n      <td>37.865833</td>\n      <td>-122.297778</td>\n      <td>01S</td>\n      <td>04W</td>\n      <td>03</td>\n      <td>211 FIFTH ST.</td>\n      <td>BERKELEY</td>\n      <td>Alameda</td>\n      <td>NaN</td>\n      <td>NaN</td>\n      <td>NaN</td>\n      <td>8.0</td>\n      <td>WellCompletion/New/Production or Monitoring/NA</td>\n      <td>Domestic</td>\n      <td>WCR2004-002682</td>\n      <td>NaN</td>\n      <td>18.0</td>\n      <td>6/30/2004</td>\n      <td>NaN</td>\n    </tr>\n    <tr>\n      <th>2648</th>\n      <td>37.772190</td>\n      <td>-122.253530</td>\n      <td>02S</td>\n      <td>04W</td>\n      <td>12</td>\n      <td>SAME AS ABOVE</td>\n      <td>NaN</td>\n      <td>Alameda</td>\n      <td>20.0</td>\n      <td>NaN</td>\n      <td>NaN</td>\n      <td>9.0</td>\n      <td>WellCompletion/New/Production or Monitoring/NA</td>\n      <td>Agriculture</td>\n      <td>WCR0018634</td>\n      <td>NaN</td>\n      <td>19.0</td>\n      <td>2/24/1977</td>\n      <td>4.0</td>\n    </tr>\n    <tr>\n      <th>4225</th>\n      <td>37.614410</td>\n      <td>-121.851110</td>\n      <td>04S</td>\n      <td>01E</td>\n      <td>03</td>\n      <td>3400 HAPPY VALLEY RD</td>\n      <td>SUNOL</td>\n      <td>Alameda</td>\n      <td>235.0</td>\n      <td>100.0</td>\n      <td>NaN</td>\n      <td>62.0</td>\n      <td>WellCompletion/New/Production or Monitoring/NA</td>\n      <td>Domestic</td>\n      <td>WCR1998-001528</td>\n      <td>NaN</td>\n      <td>20.0</td>\n      <td>5/27/1998</td>\n      <td>6.0</td>\n    </tr>\n    <tr>\n      <th>7204</th>\n      <td>37.673700</td>\n      <td>-122.143330</td>\n      <td>03S</td>\n      <td>03W</td>\n      <td>13</td>\n      <td>NaN</td>\n      <td>NaN</td>\n      <td>Alameda</td>\n      <td>18.0</td>\n      <td>9.0</td>\n      <td>NaN</td>\n      <td>11.0</td>\n      <td>WellCompletion/New/Production or Monitoring/NA</td>\n      <td>Agriculture</td>\n      <td>WCR0272435</td>\n      <td>NaN</td>\n      <td>18.0</td>\n      <td>NaN</td>\n      <td>4.0</td>\n    </tr>\n    <tr>\n      <th>10944</th>\n      <td>37.769380</td>\n      <td>-122.238150</td>\n      <td>02S</td>\n      <td>03W</td>\n      <td>07</td>\n      <td>NaN</td>\n      <td>NaN</td>\n      <td>Alameda</td>\n      <td>17.0</td>\n      <td>9.0</td>\n      <td>NaN</td>\n      <td>8.0</td>\n      <td>WellCompletion/New/Production or Monitoring/NA</td>\n      <td>Agriculture</td>\n      <td>WCR0324980</td>\n      <td>NaN</td>\n      <td>17.0</td>\n      <td>8/23/1978</td>\n      <td>6.0</td>\n    </tr>\n    <tr>\n      <th>...</th>\n      <td>...</td>\n      <td>...</td>\n      <td>...</td>\n      <td>...</td>\n      <td>...</td>\n      <td>...</td>\n      <td>...</td>\n      <td>...</td>\n      <td>...</td>\n      <td>...</td>\n      <td>...</td>\n      <td>...</td>\n      <td>...</td>\n      <td>...</td>\n      <td>...</td>\n      <td>...</td>\n      <td>...</td>\n      <td>...</td>\n      <td>...</td>\n    </tr>\n    <tr>\n      <th>1022179</th>\n      <td>38.646111</td>\n      <td>-121.599167</td>\n      <td>09N</td>\n      <td>03E</td>\n      <td>12</td>\n      <td>NaN</td>\n      <td>NaN</td>\n      <td>Yolo</td>\n      <td>NaN</td>\n      <td>NaN</td>\n      <td>NaN</td>\n      <td>NaN</td>\n      <td>WellCompletion/New/Production or Monitoring/NA</td>\n      <td>Agriculture</td>\n      <td>WCR2002-006614</td>\n      <td>NaN</td>\n      <td>8.0</td>\n      <td>4/10/2002</td>\n      <td>6.0</td>\n    </tr>\n    <tr>\n      <th>1027449</th>\n      <td>38.715560</td>\n      <td>-122.054260</td>\n      <td>10N</td>\n      <td>02W</td>\n      <td>14</td>\n      <td>NaN</td>\n      <td>CAPAY</td>\n      <td>Yolo</td>\n      <td>17.0</td>\n      <td>13.0</td>\n      <td>NaN</td>\n      <td>NaN</td>\n      <td>WellCompletion/New/Production or Monitoring/NA</td>\n      <td>Domestic</td>\n      <td>WCR1959-000545</td>\n      <td>NaN</td>\n      <td>17.0</td>\n      <td>7/27/1959</td>\n      <td>6.0</td>\n    </tr>\n    <tr>\n      <th>1032108</th>\n      <td>39.129598</td>\n      <td>-121.493184</td>\n      <td>15N</td>\n      <td>04E</td>\n      <td>23</td>\n      <td>6019 MOON AVE</td>\n      <td>NaN</td>\n      <td>Yuba</td>\n      <td>NaN</td>\n      <td>NaN</td>\n      <td>NaN</td>\n      <td>30.0</td>\n      <td>WellCompletion/New/Production or Monitoring/NA</td>\n      <td>Domestic</td>\n      <td>WCR1999-000784</td>\n      <td>NaN</td>\n      <td>17.0</td>\n      <td>6/15/1999</td>\n      <td>9.0</td>\n    </tr>\n    <tr>\n      <th>1036648</th>\n      <td>39.164250</td>\n      <td>-121.605190</td>\n      <td>15N</td>\n      <td>03E</td>\n      <td>11</td>\n      <td>NaN</td>\n      <td>MARYSVILLE</td>\n      <td>Yuba</td>\n      <td>NaN</td>\n      <td>NaN</td>\n      <td>NaN</td>\n      <td>NaN</td>\n      <td>WellCompletion/New/Production or Monitoring/NA</td>\n      <td>Domestic</td>\n      <td>WCR1957-000678</td>\n      <td>NaN</td>\n      <td>17.0</td>\n      <td>5/15/1957</td>\n      <td>18.0</td>\n    </tr>\n    <tr>\n      <th>1037205</th>\n      <td>39.508351</td>\n      <td>-121.292554</td>\n      <td>19N</td>\n      <td>06E</td>\n      <td>15</td>\n      <td>18646 NEW YORK FLAT RD</td>\n      <td>NaN</td>\n      <td>Yuba</td>\n      <td>55.0</td>\n      <td>45.0</td>\n      <td>NaN</td>\n      <td>NaN</td>\n      <td>WellCompletion/New/Production or Monitoring/NA</td>\n      <td>Domestic</td>\n      <td>WCR1997-003315</td>\n      <td>NaN</td>\n      <td>10.0</td>\n      <td>9/15/1997</td>\n      <td>6.0</td>\n    </tr>\n  </tbody>\n</table>\n<p>889 rows × 19 columns</p>\n</div>",
      "text/plain": "          LATITUDE   LONGITUDE TOWNSHIP RANGE SECTION            WELLLOCATION  \\\n825      37.865833 -122.297778      01S   04W      03           211 FIFTH ST.   \n2648     37.772190 -122.253530      02S   04W      12           SAME AS ABOVE   \n4225     37.614410 -121.851110      04S   01E      03    3400 HAPPY VALLEY RD   \n7204     37.673700 -122.143330      03S   03W      13                     NaN   \n10944    37.769380 -122.238150      02S   03W      07                     NaN   \n...            ...         ...      ...   ...     ...                     ...   \n1022179  38.646111 -121.599167      09N   03E      12                     NaN   \n1027449  38.715560 -122.054260      10N   02W      14                     NaN   \n1032108  39.129598 -121.493184      15N   04E      23           6019 MOON AVE   \n1036648  39.164250 -121.605190      15N   03E      11                     NaN   \n1037205  39.508351 -121.292554      19N   06E      15  18646 NEW YORK FLAT RD   \n\n               CITY   COUNTY  BOTTOMOFPERFORATEDINTERVAL  \\\n825        BERKELEY  Alameda                         NaN   \n2648            NaN  Alameda                        20.0   \n4225          SUNOL  Alameda                       235.0   \n7204            NaN  Alameda                        18.0   \n10944           NaN  Alameda                        17.0   \n...             ...      ...                         ...   \n1022179         NaN     Yolo                         NaN   \n1027449       CAPAY     Yolo                        17.0   \n1032108         NaN     Yuba                         NaN   \n1036648  MARYSVILLE     Yuba                         NaN   \n1037205         NaN     Yuba                        55.0   \n\n         TOPOFPERFORATEDINTERVAL  GROUNDSURFACEELEVATION  STATICWATERLEVEL  \\\n825                          NaN                     NaN               8.0   \n2648                         NaN                     NaN               9.0   \n4225                       100.0                     NaN              62.0   \n7204                         9.0                     NaN              11.0   \n10944                        9.0                     NaN               8.0   \n...                          ...                     ...               ...   \n1022179                      NaN                     NaN               NaN   \n1027449                     13.0                     NaN               NaN   \n1032108                      NaN                     NaN              30.0   \n1036648                      NaN                     NaN               NaN   \n1037205                     45.0                     NaN               NaN   \n\n                                             RECORDTYPE          USE  \\\n825      WellCompletion/New/Production or Monitoring/NA     Domestic   \n2648     WellCompletion/New/Production or Monitoring/NA  Agriculture   \n4225     WellCompletion/New/Production or Monitoring/NA     Domestic   \n7204     WellCompletion/New/Production or Monitoring/NA  Agriculture   \n10944    WellCompletion/New/Production or Monitoring/NA  Agriculture   \n...                                                 ...          ...   \n1022179  WellCompletion/New/Production or Monitoring/NA  Agriculture   \n1027449  WellCompletion/New/Production or Monitoring/NA     Domestic   \n1032108  WellCompletion/New/Production or Monitoring/NA     Domestic   \n1036648  WellCompletion/New/Production or Monitoring/NA     Domestic   \n1037205  WellCompletion/New/Production or Monitoring/NA     Domestic   \n\n              WCRNUMBER  TOTALDRILLDEPTH  TOTALCOMPLETEDDEPTH DATEWORKENDED  \\\n825      WCR2004-002682              NaN                 18.0     6/30/2004   \n2648         WCR0018634              NaN                 19.0     2/24/1977   \n4225     WCR1998-001528              NaN                 20.0     5/27/1998   \n7204         WCR0272435              NaN                 18.0           NaN   \n10944        WCR0324980              NaN                 17.0     8/23/1978   \n...                 ...              ...                  ...           ...   \n1022179  WCR2002-006614              NaN                  8.0     4/10/2002   \n1027449  WCR1959-000545              NaN                 17.0     7/27/1959   \n1032108  WCR1999-000784              NaN                 17.0     6/15/1999   \n1036648  WCR1957-000678              NaN                 17.0     5/15/1957   \n1037205  WCR1997-003315              NaN                 10.0     9/15/1997   \n\n         CASINGDIAMETER  \n825                 NaN  \n2648                4.0  \n4225                6.0  \n7204                4.0  \n10944               6.0  \n...                 ...  \n1022179             6.0  \n1027449             6.0  \n1032108             9.0  \n1036648            18.0  \n1037205             6.0  \n\n[889 rows x 19 columns]"
     },
     "execution_count": 100,
     "metadata": {},
     "output_type": "execute_result"
    }
   ]
  },
  {
   "cell_type": "code",
   "metadata": {
    "cell_id": "00013-8ab209a8-aa0e-4c56-bd61-9e2f1330c19b",
    "deepnote_cell_type": "code",
    "deepnote_cell_height": 228
   },
   "source": "# removes depth data that are less than 20'\nwellcompletion_subset_df['TOTALCOMPLETEDDEPTH_CORRECTED'] = wellcompletion_subset_df['TOTALCOMPLETEDDEPTH'].apply(lambda x: x if x >= 20 else np.nan)\n# convert date work ended to datetime and filter to only include completed dates that are possible (not a future date) \nwellcompletion_subset_df['DATEWORKENDED'] = pd.to_datetime(wellcompletion_subset_df['DATEWORKENDED'], errors='coerce')\n# convert date work ended to datetime and filter to only include completed dates that are possible (not a future date) \nwellcompletion_subset_df['DATEWORKENDED'] = pd.to_datetime(wellcompletion_subset_df['DATEWORKENDED'], errors='coerce')\nwellcompletion_subset_df['DATEWORKENDED_CORRECTED'] = wellcompletion_subset_df['DATEWORKENDED'].apply(lambda x: x if x < datetime.now() else np.nan)\n# create simple year and month columns\nwellcompletion_subset_df['YEARWORKENDED'] = pd.DatetimeIndex(wellcompletion_subset_df['DATEWORKENDED_CORRECTED']).year\nwellcompletion_subset_df['MONTHWORKENDED'] = pd.DatetimeIndex(wellcompletion_subset_df['DATEWORKENDED_CORRECTED']).month",
   "execution_count": null,
   "outputs": []
  },
  {
   "cell_type": "code",
   "metadata": {
    "cell_id": "00014-0fbc2b9d-6932-4d19-b595-2f2241cbe7ef",
    "deepnote_cell_type": "code",
    "deepnote_cell_height": 120
   },
   "source": "# create wells geodataframe\nwellcompletion_subset_gdf = gpd.GeoDataFrame(wellcompletion_subset_df, geometry=gpd.points_from_xy(wellcompletion_subset_df.LONGITUDE, wellcompletion_subset_df.LATITUDE))\n#Set the coordinate reference system (the projection that denote the axis for the points)\nwellcompletion_subset_gdf = wellcompletion_subset_gdf.set_crs('epsg:4326')",
   "execution_count": null,
   "outputs": []
  },
  {
   "cell_type": "code",
   "metadata": {
    "cell_id": "00015-6c3490ca-3985-4803-b46f-fc926aeea555",
    "deepnote_cell_type": "code",
    "deepnote_cell_height": 84
   },
   "source": "# spatial join based on geometry\nwellcompletion_subset_plss = wellcompletion_subset_gdf.sjoin(SJ_subbasin_plss, how=\"left\")",
   "execution_count": null,
   "outputs": []
  },
  {
   "cell_type": "code",
   "metadata": {
    "cell_id": "00016-2981b1a5-2845-48cf-b3cf-31c7ecddf76f",
    "deepnote_cell_type": "code",
    "deepnote_cell_height": 84
   },
   "source": "# drop the ones that aren't in the san joaquin valley basin\nwellcompletion_subset_plss = wellcompletion_subset_plss.dropna(subset=['MTRS'])",
   "execution_count": null,
   "outputs": []
  },
  {
   "cell_type": "code",
   "metadata": {
    "cell_id": "00017-705687f1-5268-489b-a7a0-294212a1fee7",
    "deepnote_cell_type": "code",
    "deepnote_cell_height": 118.1875,
    "deepnote_output_heights": [
     21.1875
    ]
   },
   "source": "wellcompletion_subset_plss.shape",
   "execution_count": null,
   "outputs": [
    {
     "data": {
      "text/plain": "(105987, 33)"
     },
     "execution_count": 106,
     "metadata": {},
     "output_type": "execute_result"
    }
   ]
  },
  {
   "cell_type": "code",
   "metadata": {
    "cell_id": "00018-c595d922-313c-461b-810d-d8142d1bb0bf",
    "deepnote_cell_type": "code",
    "deepnote_cell_height": 66
   },
   "source": "wellcompletion_subset_plss.to_csv(r\"assets/clean_data/well_completion_clean.csv\", index=False)",
   "execution_count": null,
   "outputs": []
  },
  {
   "cell_type": "code",
   "metadata": {
    "cell_id": "00019-7c8b6a40-ad11-4454-9378-2935719531dc",
    "deepnote_cell_type": "code",
    "deepnote_cell_height": 708,
    "deepnote_output_heights": [
     611
    ]
   },
   "source": "#wellcompletion_subset_plss.TownshipRange.unique()",
   "execution_count": null,
   "outputs": [
    {
     "data": {
      "text/plain": "array(['T02S R04E', 'T02S R03E', 'T01S R04E', 'T01S R03E', 'T03S R04E',\n       'T03S R11E', 'T07N R09E', 'T05N R09E', 'T05N R10E', 'T06N R09E',\n       'T06N R10E', 'T04N R11E', 'T04N R10E', 'T08S R12E', 'T03N R10E',\n       'T04N R09E', 'T04S R13E', 'T03N R09E', 'T02N R10E', 'T03N R04E',\n       'T01S R09E', 'T01N R09E', 'T02N R09E', 'T01N R02E', 'T02N R03E',\n       'T03N R03E', 'T01N R03E', 'T02N R02E', 'T02N R01E', 'T01N R04E',\n       'T02N R04E', 'T01S R02E', 'T04S R05E', 'T02N R07E', 'T06N R08E',\n       'T15S R13E', 'T14S R24E', 'T14S R22E', 'T12S R20E', 'T14S R17E',\n       'T15S R19E', 'T14S R20E', 'T14S R23E', 'T17S R20E', 'T16S R20E',\n       'T15S R24E', 'T13S R21E', 'T16S R23E', 'T14S R19E', 'T12S R21E',\n       'T14S R21E', 'T13S R22E', 'T14S R16E', 'T13S R14E', 'T12S R22E',\n       'T13S R19E', 'T11S R13E', 'T15S R23E', 'T15S R17E', 'T13S R20E',\n       'T17S R21E', 'T14S R18E', 'T16S R19E', 'T15S R20E', 'T15S R21E',\n       'T17S R19E', 'T14S R15E', 'T13S R15E', 'T13S R17E', 'T16S R22E',\n       'T15S R22E', 'T20S R20E', 'T17S R22E', 'T15S R18E', 'T15S R14E',\n       'T16S R17E', 'T16S R21E', 'T13S R24E', 'T13S R16E', 'T10S R13E',\n       'T19S R17E', 'T13S R18E', 'T21S R17E', 'T12S R14E', 'T13S R23E',\n       'T19S R18E', 'T12S R11E', 'T16S R18E', 'T11S R21E', 'T10S R17E',\n       'T18S R18E', 'T20S R15E', 'T13S R12E', 'T17S R16E', 'T21S R16E',\n       'T12S R12E', 'T17S R18E', 'T17S R15E', 'T11S R14E', 'T14S R14E',\n       'T18S R17E', 'T17S R26E', 'T15S R16E', 'T15S R15E', 'T16S R16E',\n       'T16S R14E', 'T14S R13E', 'T21S R15E', 'T20S R17E', 'T14S R25E',\n       'T17S R17E', 'T18S R16E', 'T16S R15E', 'T20S R18E', 'T20S R16E',\n       'T18S R23E', 'T11S R17E', 'T11S R20E', 'T11S R12E', 'T19S R16E',\n       'T18S R19E', 'T12S R19E', 'T14S R12E', 'T13S R13E', 'T15S R12E',\n       'T20S R14E', 'T16S R24E', 'T22S R17E', 'T12S R13E', 'T18S R21E',\n       'T12S R18E', 'T11S R18E', 'T13S R11E', 'T20S R26E', 'T15S R25E',\n       'T10S R20E', 'T18S R20E', 'T16S R25E', 'T17S R14E', 'T11S R22E',\n       'T16S R13E', 'T11S R19E', 'T10S R21E', 'T20S R25E', 'T21S R18E',\n       'T18S R14E', 'T14S R10E', 'T19S R20E', 'T22S R16E', 'T22S R27E',\n       'T18S R26E', 'T18S R15E', 'T17S R23E', 'T21S R20E', 'T17S R24E',\n       'T12S R17E', 'T21S R25E', 'T11S R23E', 'T19S R22E', 'T19S R24E',\n       'T25S R23E', 'T19S R19E', 'T19S R15E', 'T23S R25E', 'T18S R22E',\n       'T12S R23E', 'T30S R26E', 'T26S R27E', 'T27S R24E', 'T29S R23E',\n       'T30S R29E', 'T29S R26E', 'T29S R27E', 'T29S R24E', 'T28S R27E',\n       'T29S R28E', 'T30S R25E', 'T26S R25E', 'T31S R27E', 'T26S R23E',\n       'T30S R27E', 'T31S R29E', 'T28S R25E', 'T30S R28E', 'T29S R25E',\n       'T25S R21E', 'T28S R21E', 'T25S R25E', 'T25S R24E', 'T27S R23E',\n       'T27S R25E', 'T31S R28E', 'T27S R26E', 'T31S R25E', 'T11N R21W',\n       'T26S R24E', 'T32S R29E', 'T25S R26E', 'T30S R31E', 'T28S R24E',\n       'T27S R27E', 'T30S R24E', 'T28S R23E', 'T28S R26E', 'T27S R22E',\n       'T26S R26E', 'T31S R30E', 'T25S R18E', 'T27S R21E', 'T32S R28E',\n       'T28S R22E', 'T12N R21W', 'T31S R26E', 'T23S R23E', 'T32S R26E',\n       'T25S R22E', 'T20S R24E', 'T25S R28E', 'T11N R19W', 'T12N R19W',\n       'T28S R28E', 'T25S R27E', 'T11N R18W', 'T11N R20W', 'T32S R27E',\n       'T29S R22E', 'T30S R30E', 'T12N R22W', 'T31S R31E', 'T32S R25E',\n       'T26S R22E', 'T27S R28E', 'T29S R29E', 'T12N R20W', 'T26S R21E',\n       'T28S R29E', 'T26S R18E', 'T11N R22W', 'T25S R20E', 'T29S R30E',\n       'T27S R20E', 'T32S R30E', 'T24S R21E', 'T26S R20E', 'T32S R24E',\n       'T30S R23E', 'T31S R23E', 'T26S R19E', 'T31S R22E', 'T32S R23E',\n       'T25S R19E', 'T12N R18W', 'T30S R22E', 'T24S R26E', 'T31S R24E',\n       'T26S R17E', 'T12N R23W', 'T30S R32E', 'T11N R23W', 'T18S R24E',\n       'T10N R19W', 'T23S R24E', 'T24S R25E', 'T30S R21E', 'T10N R18W',\n       'T24S R27E', 'T10N R22W', 'T26S R28E', 'T22S R28E', 'T29S R21E',\n       'T19S R21E', 'T20S R22E', 'T20S R19E', 'T19S R23E', 'T20S R21E',\n       'T21S R19E', 'T21S R22E', 'T21S R21E', 'T23S R18E', 'T22S R19E',\n       'T24S R22E', 'T22S R18E', 'T23S R17E', 'T22S R22E', 'T06S R11E',\n       'T18S R25E', 'T21S R23E', 'T24S R17E', 'T23S R21E', 'T22S R21E',\n       'T21S R24E', 'T24S R18E', 'T10S R14E', 'T23S R22E', 'T22S R23E',\n       'T18S R27E', 'T12S R15E', 'T09S R17E', 'T24S R19E', 'T17S R25E',\n       'T10S R15E', 'T10S R16E', 'T11S R16E', 'T09S R16E', 'T11S R15E',\n       'T10S R18E', 'T12S R16E', 'T09S R15E', 'T09S R14E', 'T06S R10E',\n       'T09S R18E', 'T10S R19E', 'T09S R11E', 'T10S R09E', 'T06S R07E',\n       'T06S R12E', 'T09S R10E', 'T10S R11E', 'T08S R10E', 'T11S R09E',\n       'T06S R14E', 'T08S R17E', 'T05S R10E', 'T07S R16E', 'T05S R15E',\n       'T05S R09E', 'T08S R16E', 'T07S R14E', 'T05S R11E', 'T08S R14E',\n       'T06S R13E', 'T07S R13E', 'T07S R12E', 'T05S R12E', 'T07S R11E',\n       'T08S R08E', 'T10S R10E', 'T10S R12E', 'T11S R10E', 'T07S R10E',\n       'T09S R13E', 'T08S R15E', 'T09S R12E', 'T07S R15E', 'T08S R09E',\n       'T04S R12E', 'T05S R13E', 'T07S R09E', 'T08S R11E', 'T08S R13E',\n       'T06S R15E', 'T09S R09E', 'T06S R09E', 'T09S R08E', 'T11S R11E',\n       'T06S R08E', 'T05S R14E', 'T04S R14E', 'T07S R08E', 'T04S R10E',\n       'T04S R15E', 'T12S R10E', 'T10S R08E', 'T02S R08E', 'T03N R06E',\n       'T05N R08E', 'T01S R06E', 'T07N R08E', 'T01S R07E', 'T05N R06E',\n       'T05N R07E', 'T06N R07E', 'T04N R06E', 'T07N R06E', 'T07N R07E',\n       'T06N R06E', 'T05N R05E', 'T02N R08E', 'T01N R08E', 'T04N R04E',\n       'T05N R04E', 'T03N R07E', 'T01S R12E', 'T04N R08E', 'T01S R08E',\n       'T03S R06E', 'T01N R07E', 'T03S R05E', 'T02S R07E', 'T04N R07E',\n       'T02S R05E', 'T01N R06E', 'T02S R09E', 'T03N R08E', 'T04S R06E',\n       'T02S R06E', 'T02N R06E', 'T04N R05E', 'T01S R05E', 'T01N R05E',\n       'T03S R07E', 'T03N R05E', 'T02N R05E', 'T05S R08E', 'T04S R08E',\n       'T04S R09E', 'T05S R07E', 'T03S R09E', 'T02S R11E', 'T04S R07E',\n       'T01S R10E', 'T27S R19E', 'T32S R22E', 'T02S R12E', 'T04S R11E',\n       'T02S R10E', 'T03S R13E', 'T02S R13E', 'T03S R08E', 'T03S R10E',\n       'T03S R12E', 'T01S R11E', 'T01N R10E', 'T03S R14E', 'T01N R11E',\n       'T05S R06E', 'T20S R23E', 'T21S R26E', 'T21S R28E', 'T23S R27E',\n       'T19S R25E', 'T21S R27E', 'T19S R26E', 'T22S R25E', 'T23S R28E',\n       'T20S R27E', 'T22S R26E', 'T16S R26E', 'T17S R27E', 'T23S R26E',\n       'T24S R23E', 'T22S R24E', 'T19S R27E', 'T24S R24E', 'T24S R28E',\n       'T20S R28E'], dtype=object)"
     },
     "execution_count": 109,
     "metadata": {},
     "output_type": "execute_result"
    }
   ]
  },
  {
   "cell_type": "code",
   "metadata": {
    "cell_id": "00020-988a3168-e80f-4f4e-a00a-6fb74efbb000",
    "deepnote_cell_type": "code",
    "deepnote_cell_height": 233.375,
    "deepnote_output_heights": [
     136.390625
    ]
   },
   "source": "wellcompletion_subset_plss.COUNTY.unique()",
   "execution_count": null,
   "outputs": [
    {
     "data": {
      "text/plain": "array(['Alameda', 'Amador', 'Calaveras', 'Contra Costa', 'El Dorado',\n       'Fresno', 'Humboldt', 'Inyo', 'Kern', 'Kings', 'Madera', 'Marin',\n       'Mariposa', 'Merced', 'Monterey', 'Napa', 'Nevada', 'Placer',\n       'Sacramento', 'San Benito', 'San Bernardino', 'San Joaquin',\n       'San Luis Obispo', 'San Mateo', 'Santa Barbara', 'Santa Clara',\n       'Solano', 'Sonoma', 'Stanislaus', 'Tulare', 'Trinity', 'Tuolumne',\n       'Ventura', nan], dtype=object)"
     },
     "execution_count": 112,
     "metadata": {},
     "output_type": "execute_result"
    }
   ]
  },
  {
   "cell_type": "code",
   "metadata": {
    "cell_id": "00021-91532574-e261-4d6f-9c77-963e721704d0",
    "deepnote_cell_type": "code",
    "deepnote_cell_height": 66
   },
   "source": "",
   "execution_count": null,
   "outputs": []
  },
  {
   "cell_type": "markdown",
   "source": "<a style='text-decoration:none;line-height:16px;display:flex;color:#5B5B62;padding:10px;justify-content:end;' href='https://deepnote.com?utm_source=created-in-deepnote-cell&projectId=b042e2da-6536-449d-95b8-d85fa08825de' target=\"_blank\">\n<img alt='Created in deepnote.com' style='display:inline;max-height:16px;margin:0px;margin-right:7.5px;' src='data:image/svg+xml;base64,PD94bWwgdmVyc2lvbj0iMS4wIiBlbmNvZGluZz0iVVRGLTgiPz4KPHN2ZyB3aWR0aD0iODBweCIgaGVpZ2h0PSI4MHB4IiB2aWV3Qm94PSIwIDAgODAgODAiIHZlcnNpb249IjEuMSIgeG1sbnM9Imh0dHA6Ly93d3cudzMub3JnLzIwMDAvc3ZnIiB4bWxuczp4bGluaz0iaHR0cDovL3d3dy53My5vcmcvMTk5OS94bGluayI+CiAgICA8IS0tIEdlbmVyYXRvcjogU2tldGNoIDU0LjEgKDc2NDkwKSAtIGh0dHBzOi8vc2tldGNoYXBwLmNvbSAtLT4KICAgIDx0aXRsZT5Hcm91cCAzPC90aXRsZT4KICAgIDxkZXNjPkNyZWF0ZWQgd2l0aCBTa2V0Y2guPC9kZXNjPgogICAgPGcgaWQ9IkxhbmRpbmciIHN0cm9rZT0ibm9uZSIgc3Ryb2tlLXdpZHRoPSIxIiBmaWxsPSJub25lIiBmaWxsLXJ1bGU9ImV2ZW5vZGQiPgogICAgICAgIDxnIGlkPSJBcnRib2FyZCIgdHJhbnNmb3JtPSJ0cmFuc2xhdGUoLTEyMzUuMDAwMDAwLCAtNzkuMDAwMDAwKSI+CiAgICAgICAgICAgIDxnIGlkPSJHcm91cC0zIiB0cmFuc2Zvcm09InRyYW5zbGF0ZSgxMjM1LjAwMDAwMCwgNzkuMDAwMDAwKSI+CiAgICAgICAgICAgICAgICA8cG9seWdvbiBpZD0iUGF0aC0yMCIgZmlsbD0iIzAyNjVCNCIgcG9pbnRzPSIyLjM3NjIzNzYyIDgwIDM4LjA0NzY2NjcgODAgNTcuODIxNzgyMiA3My44MDU3NTkyIDU3LjgyMTc4MjIgMzIuNzU5MjczOSAzOS4xNDAyMjc4IDMxLjY4MzE2ODMiPjwvcG9seWdvbj4KICAgICAgICAgICAgICAgIDxwYXRoIGQ9Ik0zNS4wMDc3MTgsODAgQzQyLjkwNjIwMDcsNzYuNDU0OTM1OCA0Ny41NjQ5MTY3LDcxLjU0MjI2NzEgNDguOTgzODY2LDY1LjI2MTk5MzkgQzUxLjExMjI4OTksNTUuODQxNTg0MiA0MS42NzcxNzk1LDQ5LjIxMjIyODQgMjUuNjIzOTg0Niw0OS4yMTIyMjg0IEMyNS40ODQ5Mjg5LDQ5LjEyNjg0NDggMjkuODI2MTI5Niw0My4yODM4MjQ4IDM4LjY0NzU4NjksMzEuNjgzMTY4MyBMNzIuODcxMjg3MSwzMi41NTQ0MjUgTDY1LjI4MDk3Myw2Ny42NzYzNDIxIEw1MS4xMTIyODk5LDc3LjM3NjE0NCBMMzUuMDA3NzE4LDgwIFoiIGlkPSJQYXRoLTIyIiBmaWxsPSIjMDAyODY4Ij48L3BhdGg+CiAgICAgICAgICAgICAgICA8cGF0aCBkPSJNMCwzNy43MzA0NDA1IEwyNy4xMTQ1MzcsMC4yNTcxMTE0MzYgQzYyLjM3MTUxMjMsLTEuOTkwNzE3MDEgODAsMTAuNTAwMzkyNyA4MCwzNy43MzA0NDA1IEM4MCw2NC45NjA0ODgyIDY0Ljc3NjUwMzgsNzkuMDUwMzQxNCAzNC4zMjk1MTEzLDgwIEM0Ny4wNTUzNDg5LDc3LjU2NzA4MDggNTMuNDE4MjY3Nyw3MC4zMTM2MTAzIDUzLjQxODI2NzcsNTguMjM5NTg4NSBDNTMuNDE4MjY3Nyw0MC4xMjg1NTU3IDM2LjMwMzk1NDQsMzcuNzMwNDQwNSAyNS4yMjc0MTcsMzcuNzMwNDQwNSBDMTcuODQzMDU4NiwzNy43MzA0NDA1IDkuNDMzOTE5NjYsMzcuNzMwNDQwNSAwLDM3LjczMDQ0MDUgWiIgaWQ9IlBhdGgtMTkiIGZpbGw9IiMzNzkzRUYiPjwvcGF0aD4KICAgICAgICAgICAgPC9nPgogICAgICAgIDwvZz4KICAgIDwvZz4KPC9zdmc+' > </img>\nCreated in <span style='font-weight:600;margin-left:4px;'>Deepnote</span></a>",
   "metadata": {
    "tags": [],
    "created_in_deepnote_cell": true,
    "deepnote_cell_type": "markdown"
   }
  }
 ],
 "nbformat": 4,
 "nbformat_minor": 5,
 "metadata": {
  "kernelspec": {
   "display_name": "geo_env",
   "language": "python",
   "name": "geo_env"
  },
  "language_info": {
   "codemirror_mode": {
    "name": "ipython",
    "version": 3
   },
   "file_extension": ".py",
   "mimetype": "text/x-python",
   "name": "python",
   "nbconvert_exporter": "python",
   "pygments_lexer": "ipython3",
   "version": "3.10.2"
  },
  "deepnote_notebook_id": "32407b60-45a5-47e6-9eae-e63a2d0fa0d0",
  "deepnote": {},
  "deepnote_execution_queue": []
 }
}