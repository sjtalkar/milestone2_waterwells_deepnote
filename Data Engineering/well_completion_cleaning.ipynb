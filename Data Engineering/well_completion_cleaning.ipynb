{
 "cells": [
  {
   "cell_type": "markdown",
   "source": [
    "# San Joaquin Valley Township-Range Well Completion Reports Datasets\n",
    "\n",
    "Related links:\n",
    "* For the documentation about this dataset, its source, how to download, and the features of interest, please refer to our [Well Completion Reports Dataset](/doc/assets/well_completion_reports.md) documentation.\n",
    "\n",
    "* For the explanations on how the sortage mapping datasets are mapped to TownshipRange please refer to our [Public Land Survey System](../assets/plss_sanjoaquin_riverbasin.md) documentation.\n"
   ],
   "metadata": {
    "cell_id": "a6949397-cb85-4567-87be-8bf9de1e766c",
    "deepnote_cell_type": "markdown",
    "deepnote_cell_height": 248.125
   }
  },
  {
   "cell_type": "code",
   "metadata": {
    "cell_id": "6ffe3af5-83e7-4e8c-a6ee-edeb4c859552",
    "tags": [],
    "deepnote_to_be_reexecuted": false,
    "source_hash": "6b02eb0a",
    "execution_start": 1647818487871,
    "execution_millis": 12,
    "deepnote_cell_type": "code",
    "deepnote_cell_height": 116.953125
   },
   "source": [
    "import sys\n",
    "sys.path.append('..')\n"
   ],
   "execution_count": 1,
   "outputs": []
  },
  {
   "cell_type": "code",
   "metadata": {
    "cell_id": "ea8a3361-58c1-427a-959b-f96412a76a12",
    "tags": [],
    "deepnote_to_be_reexecuted": false,
    "source_hash": "7d3b5452",
    "execution_start": 1647818489450,
    "execution_millis": 2564,
    "deepnote_cell_type": "code",
    "deepnote_cell_height": 134.875
   },
   "source": [
    "from lib.wellcompletionreports import WellCompletionReportsDataset"
   ],
   "execution_count": 2,
   "outputs": []
  },
  {
   "cell_type": "code",
   "metadata": {
    "cell_id": "40d9bb27-2cbb-429c-909a-d2af4a71db1f",
    "deepnote_to_be_reexecuted": false,
    "source_hash": "702b7b30",
    "execution_start": 1647726171002,
    "execution_millis": 2,
    "deepnote_cell_type": "code",
    "deepnote_cell_height": 350.953125
   },
   "source": [
    "\n",
    "import warnings\n",
    "warnings.simplefilter(action='ignore', category=FutureWarning)\n"
   ],
   "execution_count": 3,
   "outputs": []
  },
  {
   "cell_type": "code",
   "metadata": {
    "cell_id": "00003-ff5c1504-ddb0-43d2-8d47-e8a3098eef57",
    "deepnote_to_be_reexecuted": false,
    "source_hash": "290ca995",
    "execution_start": 1647726171012,
    "execution_millis": 14289,
    "deepnote_cell_type": "code",
    "deepnote_cell_height": 170.875
   },
   "source": [
    "#This will be stored in the class\n",
    "wcr_instance = WellCompletionReportsDataset()\n"
   ],
   "execution_count": 4,
   "outputs": [
    {
     "name": "stderr",
     "output_type": "stream",
     "text": [
      "D:\\code\\jupyter_nb_data\\UMSI\\milestone2_waterwells_deepnote\\lib\\wellcompletionreports.py:31: DtypeWarning: Columns (1,6,31) have mixed types. Specify dtype option on import or set low_memory=False.\n",
      "  return pd.read_csv(input_datafile)\n"
     ]
    }
   ]
  },
  {
   "cell_type": "code",
   "metadata": {
    "cell_id": "2b819b74-00c9-4a8e-81d8-c6ec40ca8ebd",
    "tags": [],
    "deepnote_to_be_reexecuted": false,
    "source_hash": "28231412",
    "execution_start": 1647726185364,
    "execution_millis": 32078,
    "deepnote_cell_type": "code",
    "deepnote_cell_height": 613.328125
   },
   "source": [
    "wcr_instance.clean_well_completion_reports()"
   ],
   "execution_count": 5,
   "outputs": [
    {
     "data": {
      "text/plain": "          LATITUDE   LONGITUDE TOWNSHIP_RANGE RANGE SECTION  \\\n4        37.431500 -122.080000            06S   02W      09   \n67       37.644024 -121.893386            03S   01E      29   \n90       37.658240 -121.850860            03S   01E      22   \n130      37.687320 -121.850730            03S   01E      10   \n196      37.542150 -121.996580            04S   01W      32   \n...            ...         ...            ...   ...     ...   \n1042989  37.614012 -121.817013            04S   01E      01   \n1042993  38.227086 -121.466892            04N   05E      06   \n1043027  38.751944 -120.496667            11N   13E      35   \n1043028  38.848056 -121.497778            12N   04E      35   \n1043031  38.159722 -121.368056            04N   06E      31   \n\n                              WELLLOCATION           CITY   COUNTY  \\\n4                     22148 Eden Canyon RD  Castro Valley  Alameda   \n67                         0 CASTLEWOOD DR     PLEASANTON  Alameda   \n90                                     NaN            NaN  Alameda   \n130      EL CHARRO ROAD-NW COMER OF LAKE H     PLEASANTON  Alameda   \n196                                    NaN            NaN  Alameda   \n...                                    ...            ...      ...   \n1042989               7010 VALLECITOS ROAD          SUNOL      NaN   \n1042993                 26501 N. VAIL ROAD            NaN      NaN   \n1043027                         PARK CREEK            NaN      NaN   \n1043028                                XXX            XXX      NaN   \n1043031                               SAME            NaN      NaN   \n\n         BOTTOMOFPERFORATEDINTERVAL  TOPOFPERFORATEDINTERVAL  ...  \\\n4                             840.0                    600.0  ...   \n67                            190.0                     90.0  ...   \n90                            220.0                    120.0  ...   \n130                           100.0                      0.0  ...   \n196                           380.0                    351.0  ...   \n...                             ...                      ...  ...   \n1042989                       297.0                    145.0  ...   \n1042993                       165.0                    105.0  ...   \n1043027                       220.0                    200.0  ...   \n1043028                       160.0                      1.0  ...   \n1043031                       230.0                    170.0  ...   \n\n              WCRNUMBER  TOTALDRILLDEPTH TOTALCOMPLETEDDEPTH DATEWORKENDED  \\\n4        WCR2019-015599            840.0               840.0    2019-10-22   \n67       WCR2020-000099            230.0               210.0    2019-11-15   \n90           WCR0172727              NaN               240.0           NaT   \n130      WCR2014-016112              NaN               205.0    2014-05-21   \n196          WCR0079408              NaN               396.0    1954-04-01   \n...                 ...              ...                 ...           ...   \n1042989  WCR2011-011692              NaN               320.0    2011-08-02   \n1042993  WCR2015-014442              NaN               165.0    2015-10-21   \n1043027  WCR2014-014504              NaN               220.0    2014-08-30   \n1043028  WCR2015-013869              NaN               250.0    2015-04-21   \n1043031  WCR2014-014803              NaN               230.0    2014-07-30   \n\n        WELLYIELD  WELLYIELDUNITOFMEASURE  TOTALCOMPLETEDDEPTH_CORRECTED  \\\n4             1.0                     GPM                          840.0   \n67          100.0                     GPM                          210.0   \n90          100.0                     GPM                          240.0   \n130           NaN                     NaN                          205.0   \n196          58.0                     GPM                          396.0   \n...           ...                     ...                            ...   \n1042989       NaN                     NaN                          320.0   \n1042993       NaN                     NaN                          165.0   \n1043027      25.0                     GPM                          220.0   \n1043028      30.0                     GPM                          250.0   \n1043031       NaN                     NaN                          230.0   \n\n        DATEWORKENDED_CORRECTED  YEARWORKENDED MONTHWORKENDED  \n4                    2019-10-22         2019.0           10.0  \n67                   2019-11-15         2019.0           11.0  \n90                          NaT            NaN            NaN  \n130                  2014-05-21         2014.0            5.0  \n196                  1954-04-01         1954.0            4.0  \n...                         ...            ...            ...  \n1042989              2011-08-02         2011.0            8.0  \n1042993              2015-10-21         2015.0           10.0  \n1043027              2014-08-30         2014.0            8.0  \n1043028              2015-04-21         2015.0            4.0  \n1043031              2014-07-30         2014.0            7.0  \n\n[451264 rows x 24 columns]",
      "text/html": "<div>\n<style scoped>\n    .dataframe tbody tr th:only-of-type {\n        vertical-align: middle;\n    }\n\n    .dataframe tbody tr th {\n        vertical-align: top;\n    }\n\n    .dataframe thead th {\n        text-align: right;\n    }\n</style>\n<table border=\"1\" class=\"dataframe\">\n  <thead>\n    <tr style=\"text-align: right;\">\n      <th></th>\n      <th>LATITUDE</th>\n      <th>LONGITUDE</th>\n      <th>TOWNSHIP_RANGE</th>\n      <th>RANGE</th>\n      <th>SECTION</th>\n      <th>WELLLOCATION</th>\n      <th>CITY</th>\n      <th>COUNTY</th>\n      <th>BOTTOMOFPERFORATEDINTERVAL</th>\n      <th>TOPOFPERFORATEDINTERVAL</th>\n      <th>...</th>\n      <th>WCRNUMBER</th>\n      <th>TOTALDRILLDEPTH</th>\n      <th>TOTALCOMPLETEDDEPTH</th>\n      <th>DATEWORKENDED</th>\n      <th>WELLYIELD</th>\n      <th>WELLYIELDUNITOFMEASURE</th>\n      <th>TOTALCOMPLETEDDEPTH_CORRECTED</th>\n      <th>DATEWORKENDED_CORRECTED</th>\n      <th>YEARWORKENDED</th>\n      <th>MONTHWORKENDED</th>\n    </tr>\n  </thead>\n  <tbody>\n    <tr>\n      <th>4</th>\n      <td>37.431500</td>\n      <td>-122.080000</td>\n      <td>06S</td>\n      <td>02W</td>\n      <td>09</td>\n      <td>22148 Eden Canyon RD</td>\n      <td>Castro Valley</td>\n      <td>Alameda</td>\n      <td>840.0</td>\n      <td>600.0</td>\n      <td>...</td>\n      <td>WCR2019-015599</td>\n      <td>840.0</td>\n      <td>840.0</td>\n      <td>2019-10-22</td>\n      <td>1.0</td>\n      <td>GPM</td>\n      <td>840.0</td>\n      <td>2019-10-22</td>\n      <td>2019.0</td>\n      <td>10.0</td>\n    </tr>\n    <tr>\n      <th>67</th>\n      <td>37.644024</td>\n      <td>-121.893386</td>\n      <td>03S</td>\n      <td>01E</td>\n      <td>29</td>\n      <td>0 CASTLEWOOD DR</td>\n      <td>PLEASANTON</td>\n      <td>Alameda</td>\n      <td>190.0</td>\n      <td>90.0</td>\n      <td>...</td>\n      <td>WCR2020-000099</td>\n      <td>230.0</td>\n      <td>210.0</td>\n      <td>2019-11-15</td>\n      <td>100.0</td>\n      <td>GPM</td>\n      <td>210.0</td>\n      <td>2019-11-15</td>\n      <td>2019.0</td>\n      <td>11.0</td>\n    </tr>\n    <tr>\n      <th>90</th>\n      <td>37.658240</td>\n      <td>-121.850860</td>\n      <td>03S</td>\n      <td>01E</td>\n      <td>22</td>\n      <td>NaN</td>\n      <td>NaN</td>\n      <td>Alameda</td>\n      <td>220.0</td>\n      <td>120.0</td>\n      <td>...</td>\n      <td>WCR0172727</td>\n      <td>NaN</td>\n      <td>240.0</td>\n      <td>NaT</td>\n      <td>100.0</td>\n      <td>GPM</td>\n      <td>240.0</td>\n      <td>NaT</td>\n      <td>NaN</td>\n      <td>NaN</td>\n    </tr>\n    <tr>\n      <th>130</th>\n      <td>37.687320</td>\n      <td>-121.850730</td>\n      <td>03S</td>\n      <td>01E</td>\n      <td>10</td>\n      <td>EL CHARRO ROAD-NW COMER OF LAKE H</td>\n      <td>PLEASANTON</td>\n      <td>Alameda</td>\n      <td>100.0</td>\n      <td>0.0</td>\n      <td>...</td>\n      <td>WCR2014-016112</td>\n      <td>NaN</td>\n      <td>205.0</td>\n      <td>2014-05-21</td>\n      <td>NaN</td>\n      <td>NaN</td>\n      <td>205.0</td>\n      <td>2014-05-21</td>\n      <td>2014.0</td>\n      <td>5.0</td>\n    </tr>\n    <tr>\n      <th>196</th>\n      <td>37.542150</td>\n      <td>-121.996580</td>\n      <td>04S</td>\n      <td>01W</td>\n      <td>32</td>\n      <td>NaN</td>\n      <td>NaN</td>\n      <td>Alameda</td>\n      <td>380.0</td>\n      <td>351.0</td>\n      <td>...</td>\n      <td>WCR0079408</td>\n      <td>NaN</td>\n      <td>396.0</td>\n      <td>1954-04-01</td>\n      <td>58.0</td>\n      <td>GPM</td>\n      <td>396.0</td>\n      <td>1954-04-01</td>\n      <td>1954.0</td>\n      <td>4.0</td>\n    </tr>\n    <tr>\n      <th>...</th>\n      <td>...</td>\n      <td>...</td>\n      <td>...</td>\n      <td>...</td>\n      <td>...</td>\n      <td>...</td>\n      <td>...</td>\n      <td>...</td>\n      <td>...</td>\n      <td>...</td>\n      <td>...</td>\n      <td>...</td>\n      <td>...</td>\n      <td>...</td>\n      <td>...</td>\n      <td>...</td>\n      <td>...</td>\n      <td>...</td>\n      <td>...</td>\n      <td>...</td>\n      <td>...</td>\n    </tr>\n    <tr>\n      <th>1042989</th>\n      <td>37.614012</td>\n      <td>-121.817013</td>\n      <td>04S</td>\n      <td>01E</td>\n      <td>01</td>\n      <td>7010 VALLECITOS ROAD</td>\n      <td>SUNOL</td>\n      <td>NaN</td>\n      <td>297.0</td>\n      <td>145.0</td>\n      <td>...</td>\n      <td>WCR2011-011692</td>\n      <td>NaN</td>\n      <td>320.0</td>\n      <td>2011-08-02</td>\n      <td>NaN</td>\n      <td>NaN</td>\n      <td>320.0</td>\n      <td>2011-08-02</td>\n      <td>2011.0</td>\n      <td>8.0</td>\n    </tr>\n    <tr>\n      <th>1042993</th>\n      <td>38.227086</td>\n      <td>-121.466892</td>\n      <td>04N</td>\n      <td>05E</td>\n      <td>06</td>\n      <td>26501 N. VAIL ROAD</td>\n      <td>NaN</td>\n      <td>NaN</td>\n      <td>165.0</td>\n      <td>105.0</td>\n      <td>...</td>\n      <td>WCR2015-014442</td>\n      <td>NaN</td>\n      <td>165.0</td>\n      <td>2015-10-21</td>\n      <td>NaN</td>\n      <td>NaN</td>\n      <td>165.0</td>\n      <td>2015-10-21</td>\n      <td>2015.0</td>\n      <td>10.0</td>\n    </tr>\n    <tr>\n      <th>1043027</th>\n      <td>38.751944</td>\n      <td>-120.496667</td>\n      <td>11N</td>\n      <td>13E</td>\n      <td>35</td>\n      <td>PARK CREEK</td>\n      <td>NaN</td>\n      <td>NaN</td>\n      <td>220.0</td>\n      <td>200.0</td>\n      <td>...</td>\n      <td>WCR2014-014504</td>\n      <td>NaN</td>\n      <td>220.0</td>\n      <td>2014-08-30</td>\n      <td>25.0</td>\n      <td>GPM</td>\n      <td>220.0</td>\n      <td>2014-08-30</td>\n      <td>2014.0</td>\n      <td>8.0</td>\n    </tr>\n    <tr>\n      <th>1043028</th>\n      <td>38.848056</td>\n      <td>-121.497778</td>\n      <td>12N</td>\n      <td>04E</td>\n      <td>35</td>\n      <td>XXX</td>\n      <td>XXX</td>\n      <td>NaN</td>\n      <td>160.0</td>\n      <td>1.0</td>\n      <td>...</td>\n      <td>WCR2015-013869</td>\n      <td>NaN</td>\n      <td>250.0</td>\n      <td>2015-04-21</td>\n      <td>30.0</td>\n      <td>GPM</td>\n      <td>250.0</td>\n      <td>2015-04-21</td>\n      <td>2015.0</td>\n      <td>4.0</td>\n    </tr>\n    <tr>\n      <th>1043031</th>\n      <td>38.159722</td>\n      <td>-121.368056</td>\n      <td>04N</td>\n      <td>06E</td>\n      <td>31</td>\n      <td>SAME</td>\n      <td>NaN</td>\n      <td>NaN</td>\n      <td>230.0</td>\n      <td>170.0</td>\n      <td>...</td>\n      <td>WCR2014-014803</td>\n      <td>NaN</td>\n      <td>230.0</td>\n      <td>2014-07-30</td>\n      <td>NaN</td>\n      <td>NaN</td>\n      <td>230.0</td>\n      <td>2014-07-30</td>\n      <td>2014.0</td>\n      <td>7.0</td>\n    </tr>\n  </tbody>\n</table>\n<p>451264 rows × 24 columns</p>\n</div>"
     },
     "execution_count": 5,
     "metadata": {},
     "output_type": "execute_result"
    }
   ]
  },
  {
   "cell_type": "code",
   "metadata": {
    "cell_id": "de4c5368-63ef-48c8-8d33-eb2565eca2de",
    "tags": [],
    "deepnote_to_be_reexecuted": false,
    "source_hash": "160d1050",
    "execution_start": 1647726217105,
    "execution_millis": 565,
    "deepnote_cell_type": "code",
    "deepnote_cell_height": 613.328125
   },
   "source": [
    "wcr_instance.wellcompletion_subset_df"
   ],
   "execution_count": 6,
   "outputs": [
    {
     "data": {
      "text/plain": "          LATITUDE   LONGITUDE TOWNSHIP_RANGE RANGE SECTION  \\\n4        37.431500 -122.080000            06S   02W      09   \n67       37.644024 -121.893386            03S   01E      29   \n90       37.658240 -121.850860            03S   01E      22   \n130      37.687320 -121.850730            03S   01E      10   \n196      37.542150 -121.996580            04S   01W      32   \n...            ...         ...            ...   ...     ...   \n1042989  37.614012 -121.817013            04S   01E      01   \n1042993  38.227086 -121.466892            04N   05E      06   \n1043027  38.751944 -120.496667            11N   13E      35   \n1043028  38.848056 -121.497778            12N   04E      35   \n1043031  38.159722 -121.368056            04N   06E      31   \n\n                              WELLLOCATION           CITY   COUNTY  \\\n4                     22148 Eden Canyon RD  Castro Valley  Alameda   \n67                         0 CASTLEWOOD DR     PLEASANTON  Alameda   \n90                                     NaN            NaN  Alameda   \n130      EL CHARRO ROAD-NW COMER OF LAKE H     PLEASANTON  Alameda   \n196                                    NaN            NaN  Alameda   \n...                                    ...            ...      ...   \n1042989               7010 VALLECITOS ROAD          SUNOL      NaN   \n1042993                 26501 N. VAIL ROAD            NaN      NaN   \n1043027                         PARK CREEK            NaN      NaN   \n1043028                                XXX            XXX      NaN   \n1043031                               SAME            NaN      NaN   \n\n         BOTTOMOFPERFORATEDINTERVAL  TOPOFPERFORATEDINTERVAL  ...  \\\n4                             840.0                    600.0  ...   \n67                            190.0                     90.0  ...   \n90                            220.0                    120.0  ...   \n130                           100.0                      0.0  ...   \n196                           380.0                    351.0  ...   \n...                             ...                      ...  ...   \n1042989                       297.0                    145.0  ...   \n1042993                       165.0                    105.0  ...   \n1043027                       220.0                    200.0  ...   \n1043028                       160.0                      1.0  ...   \n1043031                       230.0                    170.0  ...   \n\n              WCRNUMBER  TOTALDRILLDEPTH TOTALCOMPLETEDDEPTH DATEWORKENDED  \\\n4        WCR2019-015599            840.0               840.0    2019-10-22   \n67       WCR2020-000099            230.0               210.0    2019-11-15   \n90           WCR0172727              NaN               240.0           NaT   \n130      WCR2014-016112              NaN               205.0    2014-05-21   \n196          WCR0079408              NaN               396.0    1954-04-01   \n...                 ...              ...                 ...           ...   \n1042989  WCR2011-011692              NaN               320.0    2011-08-02   \n1042993  WCR2015-014442              NaN               165.0    2015-10-21   \n1043027  WCR2014-014504              NaN               220.0    2014-08-30   \n1043028  WCR2015-013869              NaN               250.0    2015-04-21   \n1043031  WCR2014-014803              NaN               230.0    2014-07-30   \n\n        WELLYIELD  WELLYIELDUNITOFMEASURE  TOTALCOMPLETEDDEPTH_CORRECTED  \\\n4             1.0                     GPM                          840.0   \n67          100.0                     GPM                          210.0   \n90          100.0                     GPM                          240.0   \n130           NaN                     NaN                          205.0   \n196          58.0                     GPM                          396.0   \n...           ...                     ...                            ...   \n1042989       NaN                     NaN                          320.0   \n1042993       NaN                     NaN                          165.0   \n1043027      25.0                     GPM                          220.0   \n1043028      30.0                     GPM                          250.0   \n1043031       NaN                     NaN                          230.0   \n\n        DATEWORKENDED_CORRECTED  YEARWORKENDED MONTHWORKENDED  \n4                    2019-10-22         2019.0           10.0  \n67                   2019-11-15         2019.0           11.0  \n90                          NaT            NaN            NaN  \n130                  2014-05-21         2014.0            5.0  \n196                  1954-04-01         1954.0            4.0  \n...                         ...            ...            ...  \n1042989              2011-08-02         2011.0            8.0  \n1042993              2015-10-21         2015.0           10.0  \n1043027              2014-08-30         2014.0            8.0  \n1043028              2015-04-21         2015.0            4.0  \n1043031              2014-07-30         2014.0            7.0  \n\n[451264 rows x 24 columns]",
      "text/html": "<div>\n<style scoped>\n    .dataframe tbody tr th:only-of-type {\n        vertical-align: middle;\n    }\n\n    .dataframe tbody tr th {\n        vertical-align: top;\n    }\n\n    .dataframe thead th {\n        text-align: right;\n    }\n</style>\n<table border=\"1\" class=\"dataframe\">\n  <thead>\n    <tr style=\"text-align: right;\">\n      <th></th>\n      <th>LATITUDE</th>\n      <th>LONGITUDE</th>\n      <th>TOWNSHIP_RANGE</th>\n      <th>RANGE</th>\n      <th>SECTION</th>\n      <th>WELLLOCATION</th>\n      <th>CITY</th>\n      <th>COUNTY</th>\n      <th>BOTTOMOFPERFORATEDINTERVAL</th>\n      <th>TOPOFPERFORATEDINTERVAL</th>\n      <th>...</th>\n      <th>WCRNUMBER</th>\n      <th>TOTALDRILLDEPTH</th>\n      <th>TOTALCOMPLETEDDEPTH</th>\n      <th>DATEWORKENDED</th>\n      <th>WELLYIELD</th>\n      <th>WELLYIELDUNITOFMEASURE</th>\n      <th>TOTALCOMPLETEDDEPTH_CORRECTED</th>\n      <th>DATEWORKENDED_CORRECTED</th>\n      <th>YEARWORKENDED</th>\n      <th>MONTHWORKENDED</th>\n    </tr>\n  </thead>\n  <tbody>\n    <tr>\n      <th>4</th>\n      <td>37.431500</td>\n      <td>-122.080000</td>\n      <td>06S</td>\n      <td>02W</td>\n      <td>09</td>\n      <td>22148 Eden Canyon RD</td>\n      <td>Castro Valley</td>\n      <td>Alameda</td>\n      <td>840.0</td>\n      <td>600.0</td>\n      <td>...</td>\n      <td>WCR2019-015599</td>\n      <td>840.0</td>\n      <td>840.0</td>\n      <td>2019-10-22</td>\n      <td>1.0</td>\n      <td>GPM</td>\n      <td>840.0</td>\n      <td>2019-10-22</td>\n      <td>2019.0</td>\n      <td>10.0</td>\n    </tr>\n    <tr>\n      <th>67</th>\n      <td>37.644024</td>\n      <td>-121.893386</td>\n      <td>03S</td>\n      <td>01E</td>\n      <td>29</td>\n      <td>0 CASTLEWOOD DR</td>\n      <td>PLEASANTON</td>\n      <td>Alameda</td>\n      <td>190.0</td>\n      <td>90.0</td>\n      <td>...</td>\n      <td>WCR2020-000099</td>\n      <td>230.0</td>\n      <td>210.0</td>\n      <td>2019-11-15</td>\n      <td>100.0</td>\n      <td>GPM</td>\n      <td>210.0</td>\n      <td>2019-11-15</td>\n      <td>2019.0</td>\n      <td>11.0</td>\n    </tr>\n    <tr>\n      <th>90</th>\n      <td>37.658240</td>\n      <td>-121.850860</td>\n      <td>03S</td>\n      <td>01E</td>\n      <td>22</td>\n      <td>NaN</td>\n      <td>NaN</td>\n      <td>Alameda</td>\n      <td>220.0</td>\n      <td>120.0</td>\n      <td>...</td>\n      <td>WCR0172727</td>\n      <td>NaN</td>\n      <td>240.0</td>\n      <td>NaT</td>\n      <td>100.0</td>\n      <td>GPM</td>\n      <td>240.0</td>\n      <td>NaT</td>\n      <td>NaN</td>\n      <td>NaN</td>\n    </tr>\n    <tr>\n      <th>130</th>\n      <td>37.687320</td>\n      <td>-121.850730</td>\n      <td>03S</td>\n      <td>01E</td>\n      <td>10</td>\n      <td>EL CHARRO ROAD-NW COMER OF LAKE H</td>\n      <td>PLEASANTON</td>\n      <td>Alameda</td>\n      <td>100.0</td>\n      <td>0.0</td>\n      <td>...</td>\n      <td>WCR2014-016112</td>\n      <td>NaN</td>\n      <td>205.0</td>\n      <td>2014-05-21</td>\n      <td>NaN</td>\n      <td>NaN</td>\n      <td>205.0</td>\n      <td>2014-05-21</td>\n      <td>2014.0</td>\n      <td>5.0</td>\n    </tr>\n    <tr>\n      <th>196</th>\n      <td>37.542150</td>\n      <td>-121.996580</td>\n      <td>04S</td>\n      <td>01W</td>\n      <td>32</td>\n      <td>NaN</td>\n      <td>NaN</td>\n      <td>Alameda</td>\n      <td>380.0</td>\n      <td>351.0</td>\n      <td>...</td>\n      <td>WCR0079408</td>\n      <td>NaN</td>\n      <td>396.0</td>\n      <td>1954-04-01</td>\n      <td>58.0</td>\n      <td>GPM</td>\n      <td>396.0</td>\n      <td>1954-04-01</td>\n      <td>1954.0</td>\n      <td>4.0</td>\n    </tr>\n    <tr>\n      <th>...</th>\n      <td>...</td>\n      <td>...</td>\n      <td>...</td>\n      <td>...</td>\n      <td>...</td>\n      <td>...</td>\n      <td>...</td>\n      <td>...</td>\n      <td>...</td>\n      <td>...</td>\n      <td>...</td>\n      <td>...</td>\n      <td>...</td>\n      <td>...</td>\n      <td>...</td>\n      <td>...</td>\n      <td>...</td>\n      <td>...</td>\n      <td>...</td>\n      <td>...</td>\n      <td>...</td>\n    </tr>\n    <tr>\n      <th>1042989</th>\n      <td>37.614012</td>\n      <td>-121.817013</td>\n      <td>04S</td>\n      <td>01E</td>\n      <td>01</td>\n      <td>7010 VALLECITOS ROAD</td>\n      <td>SUNOL</td>\n      <td>NaN</td>\n      <td>297.0</td>\n      <td>145.0</td>\n      <td>...</td>\n      <td>WCR2011-011692</td>\n      <td>NaN</td>\n      <td>320.0</td>\n      <td>2011-08-02</td>\n      <td>NaN</td>\n      <td>NaN</td>\n      <td>320.0</td>\n      <td>2011-08-02</td>\n      <td>2011.0</td>\n      <td>8.0</td>\n    </tr>\n    <tr>\n      <th>1042993</th>\n      <td>38.227086</td>\n      <td>-121.466892</td>\n      <td>04N</td>\n      <td>05E</td>\n      <td>06</td>\n      <td>26501 N. VAIL ROAD</td>\n      <td>NaN</td>\n      <td>NaN</td>\n      <td>165.0</td>\n      <td>105.0</td>\n      <td>...</td>\n      <td>WCR2015-014442</td>\n      <td>NaN</td>\n      <td>165.0</td>\n      <td>2015-10-21</td>\n      <td>NaN</td>\n      <td>NaN</td>\n      <td>165.0</td>\n      <td>2015-10-21</td>\n      <td>2015.0</td>\n      <td>10.0</td>\n    </tr>\n    <tr>\n      <th>1043027</th>\n      <td>38.751944</td>\n      <td>-120.496667</td>\n      <td>11N</td>\n      <td>13E</td>\n      <td>35</td>\n      <td>PARK CREEK</td>\n      <td>NaN</td>\n      <td>NaN</td>\n      <td>220.0</td>\n      <td>200.0</td>\n      <td>...</td>\n      <td>WCR2014-014504</td>\n      <td>NaN</td>\n      <td>220.0</td>\n      <td>2014-08-30</td>\n      <td>25.0</td>\n      <td>GPM</td>\n      <td>220.0</td>\n      <td>2014-08-30</td>\n      <td>2014.0</td>\n      <td>8.0</td>\n    </tr>\n    <tr>\n      <th>1043028</th>\n      <td>38.848056</td>\n      <td>-121.497778</td>\n      <td>12N</td>\n      <td>04E</td>\n      <td>35</td>\n      <td>XXX</td>\n      <td>XXX</td>\n      <td>NaN</td>\n      <td>160.0</td>\n      <td>1.0</td>\n      <td>...</td>\n      <td>WCR2015-013869</td>\n      <td>NaN</td>\n      <td>250.0</td>\n      <td>2015-04-21</td>\n      <td>30.0</td>\n      <td>GPM</td>\n      <td>250.0</td>\n      <td>2015-04-21</td>\n      <td>2015.0</td>\n      <td>4.0</td>\n    </tr>\n    <tr>\n      <th>1043031</th>\n      <td>38.159722</td>\n      <td>-121.368056</td>\n      <td>04N</td>\n      <td>06E</td>\n      <td>31</td>\n      <td>SAME</td>\n      <td>NaN</td>\n      <td>NaN</td>\n      <td>230.0</td>\n      <td>170.0</td>\n      <td>...</td>\n      <td>WCR2014-014803</td>\n      <td>NaN</td>\n      <td>230.0</td>\n      <td>2014-07-30</td>\n      <td>NaN</td>\n      <td>NaN</td>\n      <td>230.0</td>\n      <td>2014-07-30</td>\n      <td>2014.0</td>\n      <td>7.0</td>\n    </tr>\n  </tbody>\n</table>\n<p>451264 rows × 24 columns</p>\n</div>"
     },
     "execution_count": 6,
     "metadata": {},
     "output_type": "execute_result"
    }
   ]
  },
  {
   "cell_type": "code",
   "metadata": {
    "cell_id": "5c0832a7-b191-4418-a9a0-51bfeadc9ba6",
    "tags": [],
    "deepnote_to_be_reexecuted": false,
    "source_hash": "a63a4462",
    "execution_start": 1647726249215,
    "execution_millis": 654,
    "deepnote_cell_type": "code",
    "deepnote_cell_height": 627.921875,
    "deepnote_output_heights": [
     530.96875
    ]
   },
   "source": [
    "wcr_instance.draw_mising_data_chart( wcr_instance.wellcompletion_subset_df)"
   ],
   "execution_count": 7,
   "outputs": [
    {
     "data": {
      "text/html": "\n<div id=\"altair-viz-eee4b3692c314046832c5d1c14bdfa02\"></div>\n<script type=\"text/javascript\">\n  var VEGA_DEBUG = (typeof VEGA_DEBUG == \"undefined\") ? {} : VEGA_DEBUG;\n  (function(spec, embedOpt){\n    let outputDiv = document.currentScript.previousElementSibling;\n    if (outputDiv.id !== \"altair-viz-eee4b3692c314046832c5d1c14bdfa02\") {\n      outputDiv = document.getElementById(\"altair-viz-eee4b3692c314046832c5d1c14bdfa02\");\n    }\n    const paths = {\n      \"vega\": \"https://cdn.jsdelivr.net/npm//vega@5?noext\",\n      \"vega-lib\": \"https://cdn.jsdelivr.net/npm//vega-lib?noext\",\n      \"vega-lite\": \"https://cdn.jsdelivr.net/npm//vega-lite@4.17.0?noext\",\n      \"vega-embed\": \"https://cdn.jsdelivr.net/npm//vega-embed@6?noext\",\n    };\n\n    function maybeLoadScript(lib, version) {\n      var key = `${lib.replace(\"-\", \"\")}_version`;\n      return (VEGA_DEBUG[key] == version) ?\n        Promise.resolve(paths[lib]) :\n        new Promise(function(resolve, reject) {\n          var s = document.createElement('script');\n          document.getElementsByTagName(\"head\")[0].appendChild(s);\n          s.async = true;\n          s.onload = () => {\n            VEGA_DEBUG[key] = version;\n            return resolve(paths[lib]);\n          };\n          s.onerror = () => reject(`Error loading script: ${paths[lib]}`);\n          s.src = paths[lib];\n        });\n    }\n\n    function showError(err) {\n      outputDiv.innerHTML = `<div class=\"error\" style=\"color:red;\">${err}</div>`;\n      throw err;\n    }\n\n    function displayChart(vegaEmbed) {\n      vegaEmbed(outputDiv, spec, embedOpt)\n        .catch(err => showError(`Javascript Error: ${err.message}<br>This usually means there's a typo in your chart specification. See the javascript console for the full traceback.`));\n    }\n\n    if(typeof define === \"function\" && define.amd) {\n      requirejs.config({paths});\n      require([\"vega-embed\"], displayChart, err => showError(`Error loading script: ${err.message}`));\n    } else {\n      maybeLoadScript(\"vega\", \"5\")\n        .then(() => maybeLoadScript(\"vega-lite\", \"4.17.0\"))\n        .then(() => maybeLoadScript(\"vega-embed\", \"6\"))\n        .catch(showError)\n        .then(() => displayChart(vegaEmbed));\n    }\n  })({\"config\": {\"view\": {\"continuousWidth\": 400, \"continuousHeight\": 300}}, \"layer\": [{\"mark\": \"bar\", \"encoding\": {\"color\": {\"value\": \"orange\"}, \"tooltip\": [{\"field\": \"column_name\", \"type\": \"nominal\"}, {\"field\": \"percent_missing\", \"type\": \"quantitative\"}], \"x\": {\"field\": \"column_name\", \"sort\": [\"GROUNDSURFACEELEVATION\", \"TOTALDRILLDEPTH\", \"STATICWATERLEVEL\", \"WELLYIELD\", \"WELLYIELDUNITOFMEASURE\", \"WELLLOCATION\", \"CITY\", \"BOTTOMOFPERFORATEDINTERVAL\", \"TOPOFPERFORATEDINTERVAL\", \"YEARWORKENDED\", \"DATEWORKENDED_CORRECTED\", \"MONTHWORKENDED\", \"DATEWORKENDED\", \"TOTALCOMPLETEDDEPTH_CORRECTED\", \"TOTALCOMPLETEDDEPTH\", \"SECTION\", \"COUNTY\", \"RANGE\", \"TOWNSHIP_RANGE\", \"LATITUDE\", \"WCRNUMBER\", \"USE\", \"LONGITUDE\", \"RECORDTYPE\"], \"type\": \"nominal\"}, \"y\": {\"aggregate\": \"sum\", \"axis\": {\"format\": \"%\"}, \"field\": \"percent_missing\", \"stack\": \"normalize\", \"type\": \"quantitative\"}}}, {\"mark\": {\"type\": \"text\", \"align\": \"center\", \"color\": \"black\", \"fontSize\": 10}, \"encoding\": {\"color\": {\"value\": \"orange\"}, \"text\": {\"field\": \"percent_missing\", \"format\": \".0%\", \"type\": \"quantitative\"}, \"tooltip\": [{\"field\": \"column_name\", \"type\": \"nominal\"}, {\"field\": \"percent_missing\", \"type\": \"quantitative\"}], \"x\": {\"field\": \"column_name\", \"sort\": [\"GROUNDSURFACEELEVATION\", \"TOTALDRILLDEPTH\", \"STATICWATERLEVEL\", \"WELLYIELD\", \"WELLYIELDUNITOFMEASURE\", \"WELLLOCATION\", \"CITY\", \"BOTTOMOFPERFORATEDINTERVAL\", \"TOPOFPERFORATEDINTERVAL\", \"YEARWORKENDED\", \"DATEWORKENDED_CORRECTED\", \"MONTHWORKENDED\", \"DATEWORKENDED\", \"TOTALCOMPLETEDDEPTH_CORRECTED\", \"TOTALCOMPLETEDDEPTH\", \"SECTION\", \"COUNTY\", \"RANGE\", \"TOWNSHIP_RANGE\", \"LATITUDE\", \"WCRNUMBER\", \"USE\", \"LONGITUDE\", \"RECORDTYPE\"], \"type\": \"nominal\"}, \"y\": {\"field\": \"position\", \"type\": \"quantitative\"}}, \"transform\": [{\"calculate\": \"datum.percent_missing + 0.05 * datum.percent_missing / abs(datum.percent_missing)\", \"as\": \"position\"}]}], \"data\": {\"name\": \"data-0f56b9305480398855e1028d95b2afea\"}, \"$schema\": \"https://vega.github.io/schema/vega-lite/v4.17.0.json\", \"datasets\": {\"data-0f56b9305480398855e1028d95b2afea\": [{\"column_name\": \"GROUNDSURFACEELEVATION\", \"percent_missing\": 0.9936600304921288}, {\"column_name\": \"TOTALDRILLDEPTH\", \"percent_missing\": 0.9452050241100554}, {\"column_name\": \"STATICWATERLEVEL\", \"percent_missing\": 0.6784299212877606}, {\"column_name\": \"WELLYIELD\", \"percent_missing\": 0.5671868352006808}, {\"column_name\": \"WELLYIELDUNITOFMEASURE\", \"percent_missing\": 0.5671868352006808}, {\"column_name\": \"WELLLOCATION\", \"percent_missing\": 0.5167019748971777}, {\"column_name\": \"CITY\", \"percent_missing\": 0.49763774641894765}, {\"column_name\": \"BOTTOMOFPERFORATEDINTERVAL\", \"percent_missing\": 0.41645245355268756}, {\"column_name\": \"TOPOFPERFORATEDINTERVAL\", \"percent_missing\": 0.4159117501063679}, {\"column_name\": \"YEARWORKENDED\", \"percent_missing\": 0.038002145085803435}, {\"column_name\": \"DATEWORKENDED_CORRECTED\", \"percent_missing\": 0.038002145085803435}, {\"column_name\": \"MONTHWORKENDED\", \"percent_missing\": 0.038002145085803435}, {\"column_name\": \"DATEWORKENDED\", \"percent_missing\": 0.03792015316976315}, {\"column_name\": \"TOTALCOMPLETEDDEPTH_CORRECTED\", \"percent_missing\": 0.03712017798893774}, {\"column_name\": \"TOTALCOMPLETEDDEPTH\", \"percent_missing\": 0.03597007516664303}, {\"column_name\": \"SECTION\", \"percent_missing\": 0.00025040774358247057}, {\"column_name\": \"COUNTY\", \"percent_missing\": 8.42079137710963e-05}, {\"column_name\": \"RANGE\", \"percent_missing\": 5.7615941001276415e-05}, {\"column_name\": \"TOWNSHIP_RANGE\", \"percent_missing\": 4.210395688554815e-05}, {\"column_name\": \"LATITUDE\", \"percent_missing\": 0.0}, {\"column_name\": \"WCRNUMBER\", \"percent_missing\": 0.0}, {\"column_name\": \"USE\", \"percent_missing\": 0.0}, {\"column_name\": \"LONGITUDE\", \"percent_missing\": 0.0}, {\"column_name\": \"RECORDTYPE\", \"percent_missing\": 0.0}]}}, {\"mode\": \"vega-lite\"});\n</script>",
      "text/plain": "alt.LayerChart(...)"
     },
     "execution_count": 7,
     "metadata": {},
     "output_type": "execute_result"
    }
   ]
  },
  {
   "cell_type": "code",
   "metadata": {
    "cell_id": "18c7b3aa-1dd2-481a-b53f-4ee03bb8981a",
    "tags": [],
    "deepnote_to_be_reexecuted": false,
    "source_hash": "f0694a93",
    "execution_start": 1647726256028,
    "execution_millis": 13328,
    "deepnote_cell_type": "code",
    "deepnote_cell_height": 613.328125
   },
   "source": [
    "wcr_instance.merge_data_plss()"
   ],
   "execution_count": 9,
   "outputs": [
    {
     "data": {
      "text/plain": "         LATITUDE   LONGITUDE TOWNSHIP_RANGE RANGE SECTION  \\\n55      37.772950 -121.562370            02S   04E      08   \n148     37.787550 -121.614030            02S   03E      02   \n191     37.811750 -121.561850            01S   04E      29   \n196     37.744040 -121.577270            02S   04E      19   \n197     37.787570 -121.595820            02S   03E      01   \n...           ...         ...            ...   ...     ...   \n451250  38.179722 -121.320278            04N   06E      21   \n451257  38.166111 -121.187222            04N   07E      26   \n451258  38.179167 -121.070278            04N   08E      23   \n451260  38.227086 -121.466892            04N   05E      06   \n451263  38.159722 -121.368056            04N   06E      31   \n\n              WELLLOCATION       CITY   COUNTY  BOTTOMOFPERFORATEDINTERVAL  \\\n55                     NaN      TRACY  Alameda                         NaN   \n148                    NaN  LIVERMORE  Alameda                         NaN   \n191                    NaN      BYRON  Alameda                         NaN   \n196        16965 MIDWAY RD      TRACY  Alameda                       160.0   \n197                    NaN  LIVERMORE  Alameda                         NaN   \n...                    ...        ...      ...                         ...   \n451250                SAME        NaN      NaN                       290.0   \n451257                SAME        NaN      NaN                       205.0   \n451258                SAME        NaN      NaN                       350.0   \n451260  26501 N. VAIL ROAD        NaN      NaN                       165.0   \n451263                SAME        NaN      NaN                       230.0   \n\n        TOPOFPERFORATEDINTERVAL  ...                     geometry index_right  \\\n55                          NaN  ...  POINT (-121.56237 37.77295)      1098.0   \n148                         NaN  ...  POINT (-121.61403 37.78755)      1063.0   \n191                         NaN  ...  POINT (-121.56185 37.81175)        21.0   \n196                       120.0  ...  POINT (-121.57727 37.74404)      1074.0   \n197                         NaN  ...  POINT (-121.59582 37.78757)      1061.0   \n...                         ...  ...                          ...         ...   \n451250                    210.0  ...  POINT (-121.32028 38.17972)      2065.0   \n451257                    145.0  ...  POINT (-121.18722 38.16611)        88.0   \n451258                    250.0  ...  POINT (-121.07028 38.17917)      1992.0   \n451260                    105.0  ...  POINT (-121.46689 38.22709)      2048.0   \n451263                    170.0  ...  POINT (-121.36806 38.15972)      2076.0   \n\n       OBJECTID Township  Range  Meridian Source  Section              MTRS  \\\n55      12474.0     T02S   R04E       MDM    BLM      8.0   MDM-T02S-R04E-8   \n148     12379.0     T02S   R03E       MDM    BLM      2.0   MDM-T02S-R03E-2   \n191      3598.0     T01S   R04E       MDM    DGR     29.0  MDM-T01S-R04E-29   \n196     12450.0     T02S   R04E       MDM    BLM     19.0  MDM-T02S-R04E-19   \n197     12368.0     T02S   R03E       MDM    BLM      1.0   MDM-T02S-R03E-1   \n...         ...      ...    ...       ...    ...      ...               ...   \n451250  16887.0     T04N   R06E       MDM    BLM     21.0  MDM-T04N-R06E-21   \n451257   3859.0     T04N   R07E       MDM    BLM     26.0  MDM-T04N-R07E-26   \n451258  16556.0     T04N   R08E       MDM    BLM     23.0  MDM-T04N-R08E-23   \n451260  16834.0     T04N   R05E       MDM    DGR      6.0   MDM-T04N-R05E-6   \n451263  16898.0     T04N   R06E       MDM    BLM     31.0  MDM-T04N-R06E-31   \n\n        TownshipRange  \n55          T02S R04E  \n148         T02S R03E  \n191         T01S R04E  \n196         T02S R04E  \n197         T02S R03E  \n...               ...  \n451250      T04N R06E  \n451257      T04N R07E  \n451258      T04N R08E  \n451260      T04N R05E  \n451263      T04N R06E  \n\n[105987 rows x 34 columns]",
      "text/html": "<div>\n<style scoped>\n    .dataframe tbody tr th:only-of-type {\n        vertical-align: middle;\n    }\n\n    .dataframe tbody tr th {\n        vertical-align: top;\n    }\n\n    .dataframe thead th {\n        text-align: right;\n    }\n</style>\n<table border=\"1\" class=\"dataframe\">\n  <thead>\n    <tr style=\"text-align: right;\">\n      <th></th>\n      <th>LATITUDE</th>\n      <th>LONGITUDE</th>\n      <th>TOWNSHIP_RANGE</th>\n      <th>RANGE</th>\n      <th>SECTION</th>\n      <th>WELLLOCATION</th>\n      <th>CITY</th>\n      <th>COUNTY</th>\n      <th>BOTTOMOFPERFORATEDINTERVAL</th>\n      <th>TOPOFPERFORATEDINTERVAL</th>\n      <th>...</th>\n      <th>geometry</th>\n      <th>index_right</th>\n      <th>OBJECTID</th>\n      <th>Township</th>\n      <th>Range</th>\n      <th>Meridian</th>\n      <th>Source</th>\n      <th>Section</th>\n      <th>MTRS</th>\n      <th>TownshipRange</th>\n    </tr>\n  </thead>\n  <tbody>\n    <tr>\n      <th>55</th>\n      <td>37.772950</td>\n      <td>-121.562370</td>\n      <td>02S</td>\n      <td>04E</td>\n      <td>08</td>\n      <td>NaN</td>\n      <td>TRACY</td>\n      <td>Alameda</td>\n      <td>NaN</td>\n      <td>NaN</td>\n      <td>...</td>\n      <td>POINT (-121.56237 37.77295)</td>\n      <td>1098.0</td>\n      <td>12474.0</td>\n      <td>T02S</td>\n      <td>R04E</td>\n      <td>MDM</td>\n      <td>BLM</td>\n      <td>8.0</td>\n      <td>MDM-T02S-R04E-8</td>\n      <td>T02S R04E</td>\n    </tr>\n    <tr>\n      <th>148</th>\n      <td>37.787550</td>\n      <td>-121.614030</td>\n      <td>02S</td>\n      <td>03E</td>\n      <td>02</td>\n      <td>NaN</td>\n      <td>LIVERMORE</td>\n      <td>Alameda</td>\n      <td>NaN</td>\n      <td>NaN</td>\n      <td>...</td>\n      <td>POINT (-121.61403 37.78755)</td>\n      <td>1063.0</td>\n      <td>12379.0</td>\n      <td>T02S</td>\n      <td>R03E</td>\n      <td>MDM</td>\n      <td>BLM</td>\n      <td>2.0</td>\n      <td>MDM-T02S-R03E-2</td>\n      <td>T02S R03E</td>\n    </tr>\n    <tr>\n      <th>191</th>\n      <td>37.811750</td>\n      <td>-121.561850</td>\n      <td>01S</td>\n      <td>04E</td>\n      <td>29</td>\n      <td>NaN</td>\n      <td>BYRON</td>\n      <td>Alameda</td>\n      <td>NaN</td>\n      <td>NaN</td>\n      <td>...</td>\n      <td>POINT (-121.56185 37.81175)</td>\n      <td>21.0</td>\n      <td>3598.0</td>\n      <td>T01S</td>\n      <td>R04E</td>\n      <td>MDM</td>\n      <td>DGR</td>\n      <td>29.0</td>\n      <td>MDM-T01S-R04E-29</td>\n      <td>T01S R04E</td>\n    </tr>\n    <tr>\n      <th>196</th>\n      <td>37.744040</td>\n      <td>-121.577270</td>\n      <td>02S</td>\n      <td>04E</td>\n      <td>19</td>\n      <td>16965 MIDWAY RD</td>\n      <td>TRACY</td>\n      <td>Alameda</td>\n      <td>160.0</td>\n      <td>120.0</td>\n      <td>...</td>\n      <td>POINT (-121.57727 37.74404)</td>\n      <td>1074.0</td>\n      <td>12450.0</td>\n      <td>T02S</td>\n      <td>R04E</td>\n      <td>MDM</td>\n      <td>BLM</td>\n      <td>19.0</td>\n      <td>MDM-T02S-R04E-19</td>\n      <td>T02S R04E</td>\n    </tr>\n    <tr>\n      <th>197</th>\n      <td>37.787570</td>\n      <td>-121.595820</td>\n      <td>02S</td>\n      <td>03E</td>\n      <td>01</td>\n      <td>NaN</td>\n      <td>LIVERMORE</td>\n      <td>Alameda</td>\n      <td>NaN</td>\n      <td>NaN</td>\n      <td>...</td>\n      <td>POINT (-121.59582 37.78757)</td>\n      <td>1061.0</td>\n      <td>12368.0</td>\n      <td>T02S</td>\n      <td>R03E</td>\n      <td>MDM</td>\n      <td>BLM</td>\n      <td>1.0</td>\n      <td>MDM-T02S-R03E-1</td>\n      <td>T02S R03E</td>\n    </tr>\n    <tr>\n      <th>...</th>\n      <td>...</td>\n      <td>...</td>\n      <td>...</td>\n      <td>...</td>\n      <td>...</td>\n      <td>...</td>\n      <td>...</td>\n      <td>...</td>\n      <td>...</td>\n      <td>...</td>\n      <td>...</td>\n      <td>...</td>\n      <td>...</td>\n      <td>...</td>\n      <td>...</td>\n      <td>...</td>\n      <td>...</td>\n      <td>...</td>\n      <td>...</td>\n      <td>...</td>\n      <td>...</td>\n    </tr>\n    <tr>\n      <th>451250</th>\n      <td>38.179722</td>\n      <td>-121.320278</td>\n      <td>04N</td>\n      <td>06E</td>\n      <td>21</td>\n      <td>SAME</td>\n      <td>NaN</td>\n      <td>NaN</td>\n      <td>290.0</td>\n      <td>210.0</td>\n      <td>...</td>\n      <td>POINT (-121.32028 38.17972)</td>\n      <td>2065.0</td>\n      <td>16887.0</td>\n      <td>T04N</td>\n      <td>R06E</td>\n      <td>MDM</td>\n      <td>BLM</td>\n      <td>21.0</td>\n      <td>MDM-T04N-R06E-21</td>\n      <td>T04N R06E</td>\n    </tr>\n    <tr>\n      <th>451257</th>\n      <td>38.166111</td>\n      <td>-121.187222</td>\n      <td>04N</td>\n      <td>07E</td>\n      <td>26</td>\n      <td>SAME</td>\n      <td>NaN</td>\n      <td>NaN</td>\n      <td>205.0</td>\n      <td>145.0</td>\n      <td>...</td>\n      <td>POINT (-121.18722 38.16611)</td>\n      <td>88.0</td>\n      <td>3859.0</td>\n      <td>T04N</td>\n      <td>R07E</td>\n      <td>MDM</td>\n      <td>BLM</td>\n      <td>26.0</td>\n      <td>MDM-T04N-R07E-26</td>\n      <td>T04N R07E</td>\n    </tr>\n    <tr>\n      <th>451258</th>\n      <td>38.179167</td>\n      <td>-121.070278</td>\n      <td>04N</td>\n      <td>08E</td>\n      <td>23</td>\n      <td>SAME</td>\n      <td>NaN</td>\n      <td>NaN</td>\n      <td>350.0</td>\n      <td>250.0</td>\n      <td>...</td>\n      <td>POINT (-121.07028 38.17917)</td>\n      <td>1992.0</td>\n      <td>16556.0</td>\n      <td>T04N</td>\n      <td>R08E</td>\n      <td>MDM</td>\n      <td>BLM</td>\n      <td>23.0</td>\n      <td>MDM-T04N-R08E-23</td>\n      <td>T04N R08E</td>\n    </tr>\n    <tr>\n      <th>451260</th>\n      <td>38.227086</td>\n      <td>-121.466892</td>\n      <td>04N</td>\n      <td>05E</td>\n      <td>06</td>\n      <td>26501 N. VAIL ROAD</td>\n      <td>NaN</td>\n      <td>NaN</td>\n      <td>165.0</td>\n      <td>105.0</td>\n      <td>...</td>\n      <td>POINT (-121.46689 38.22709)</td>\n      <td>2048.0</td>\n      <td>16834.0</td>\n      <td>T04N</td>\n      <td>R05E</td>\n      <td>MDM</td>\n      <td>DGR</td>\n      <td>6.0</td>\n      <td>MDM-T04N-R05E-6</td>\n      <td>T04N R05E</td>\n    </tr>\n    <tr>\n      <th>451263</th>\n      <td>38.159722</td>\n      <td>-121.368056</td>\n      <td>04N</td>\n      <td>06E</td>\n      <td>31</td>\n      <td>SAME</td>\n      <td>NaN</td>\n      <td>NaN</td>\n      <td>230.0</td>\n      <td>170.0</td>\n      <td>...</td>\n      <td>POINT (-121.36806 38.15972)</td>\n      <td>2076.0</td>\n      <td>16898.0</td>\n      <td>T04N</td>\n      <td>R06E</td>\n      <td>MDM</td>\n      <td>BLM</td>\n      <td>31.0</td>\n      <td>MDM-T04N-R06E-31</td>\n      <td>T04N R06E</td>\n    </tr>\n  </tbody>\n</table>\n<p>105987 rows × 34 columns</p>\n</div>"
     },
     "execution_count": 9,
     "metadata": {},
     "output_type": "execute_result"
    }
   ]
  },
  {
   "cell_type": "code",
   "metadata": {
    "cell_id": "e4bdbe8b-96b4-4385-ab7c-fad3986d2acf",
    "tags": [],
    "deepnote_to_be_reexecuted": false,
    "source_hash": "8b88381c",
    "execution_start": 1647726294083,
    "execution_millis": 624,
    "deepnote_cell_type": "code",
    "deepnote_cell_height": 408.359375
   },
   "source": [
    "wcr_instance.wellcompletion_subset_plss.sample(5)"
   ],
   "execution_count": 10,
   "outputs": [
    {
     "data": {
      "text/plain": "        LATITUDE  LONGITUDE TOWNSHIP_RANGE RANGE SECTION     WELLLOCATION  \\\n113773  36.32067 -119.62794            18S   22E      31              NaN   \n300680  38.06474 -121.28708            03N   06E      35              NaN   \n382780  37.54391 -120.76466            04S   11E      33              NaN   \n138479  37.05991 -120.01777            10S   18E      16  21413 LOMITA RD   \n33650   37.91801 -121.75983            01N   02E      21   280 BALFOUR RD   \n\n             CITY        COUNTY  BOTTOMOFPERFORATEDINTERVAL  \\\n113773        NaN         Kings                       206.0   \n300680       LODI   San Joaquin                         NaN   \n382780        NaN    Stanislaus                       240.0   \n138479     MADERA        Madera                       500.0   \n33650   BRENTWOOD  Contra Costa                       195.0   \n\n        TOPOFPERFORATEDINTERVAL  ...                     geometry index_right  \\\n113773                    166.0  ...  POINT (-119.62794 36.32067)      8515.0   \n300680                      NaN  ...  POINT (-121.28708 38.06474)      1507.0   \n382780                    220.0  ...  POINT (-120.76466 37.54391)      2435.0   \n138479                    340.0  ...  POINT (-120.01777 37.05991)      4915.0   \n33650                      75.0  ...  POINT (-121.75983 37.91801)       116.0   \n\n       OBJECTID Township  Range  Meridian Source  Section              MTRS  \\\n113773  59612.0     T18S   R22E       MDM    BLM     31.0  MDM-T18S-R22E-31   \n300680  14102.0     T03N   R06E       MDM    BLM     35.0  MDM-T03N-R06E-35   \n382780  18762.0     T04S   R11E       MDM    BLM     33.0  MDM-T04S-R11E-33   \n138479  36326.0     T10S   R18E       MDM    BLM     16.0  MDM-T10S-R18E-16   \n33650    8041.0     T01N   R02E       MDM    BLM     21.0  MDM-T01N-R02E-21   \n\n        TownshipRange  \n113773      T18S R22E  \n300680      T03N R06E  \n382780      T04S R11E  \n138479      T10S R18E  \n33650       T01N R02E  \n\n[5 rows x 34 columns]",
      "text/html": "<div>\n<style scoped>\n    .dataframe tbody tr th:only-of-type {\n        vertical-align: middle;\n    }\n\n    .dataframe tbody tr th {\n        vertical-align: top;\n    }\n\n    .dataframe thead th {\n        text-align: right;\n    }\n</style>\n<table border=\"1\" class=\"dataframe\">\n  <thead>\n    <tr style=\"text-align: right;\">\n      <th></th>\n      <th>LATITUDE</th>\n      <th>LONGITUDE</th>\n      <th>TOWNSHIP_RANGE</th>\n      <th>RANGE</th>\n      <th>SECTION</th>\n      <th>WELLLOCATION</th>\n      <th>CITY</th>\n      <th>COUNTY</th>\n      <th>BOTTOMOFPERFORATEDINTERVAL</th>\n      <th>TOPOFPERFORATEDINTERVAL</th>\n      <th>...</th>\n      <th>geometry</th>\n      <th>index_right</th>\n      <th>OBJECTID</th>\n      <th>Township</th>\n      <th>Range</th>\n      <th>Meridian</th>\n      <th>Source</th>\n      <th>Section</th>\n      <th>MTRS</th>\n      <th>TownshipRange</th>\n    </tr>\n  </thead>\n  <tbody>\n    <tr>\n      <th>113773</th>\n      <td>36.32067</td>\n      <td>-119.62794</td>\n      <td>18S</td>\n      <td>22E</td>\n      <td>31</td>\n      <td>NaN</td>\n      <td>NaN</td>\n      <td>Kings</td>\n      <td>206.0</td>\n      <td>166.0</td>\n      <td>...</td>\n      <td>POINT (-119.62794 36.32067)</td>\n      <td>8515.0</td>\n      <td>59612.0</td>\n      <td>T18S</td>\n      <td>R22E</td>\n      <td>MDM</td>\n      <td>BLM</td>\n      <td>31.0</td>\n      <td>MDM-T18S-R22E-31</td>\n      <td>T18S R22E</td>\n    </tr>\n    <tr>\n      <th>300680</th>\n      <td>38.06474</td>\n      <td>-121.28708</td>\n      <td>03N</td>\n      <td>06E</td>\n      <td>35</td>\n      <td>NaN</td>\n      <td>LODI</td>\n      <td>San Joaquin</td>\n      <td>NaN</td>\n      <td>NaN</td>\n      <td>...</td>\n      <td>POINT (-121.28708 38.06474)</td>\n      <td>1507.0</td>\n      <td>14102.0</td>\n      <td>T03N</td>\n      <td>R06E</td>\n      <td>MDM</td>\n      <td>BLM</td>\n      <td>35.0</td>\n      <td>MDM-T03N-R06E-35</td>\n      <td>T03N R06E</td>\n    </tr>\n    <tr>\n      <th>382780</th>\n      <td>37.54391</td>\n      <td>-120.76466</td>\n      <td>04S</td>\n      <td>11E</td>\n      <td>33</td>\n      <td>NaN</td>\n      <td>NaN</td>\n      <td>Stanislaus</td>\n      <td>240.0</td>\n      <td>220.0</td>\n      <td>...</td>\n      <td>POINT (-120.76466 37.54391)</td>\n      <td>2435.0</td>\n      <td>18762.0</td>\n      <td>T04S</td>\n      <td>R11E</td>\n      <td>MDM</td>\n      <td>BLM</td>\n      <td>33.0</td>\n      <td>MDM-T04S-R11E-33</td>\n      <td>T04S R11E</td>\n    </tr>\n    <tr>\n      <th>138479</th>\n      <td>37.05991</td>\n      <td>-120.01777</td>\n      <td>10S</td>\n      <td>18E</td>\n      <td>16</td>\n      <td>21413 LOMITA RD</td>\n      <td>MADERA</td>\n      <td>Madera</td>\n      <td>500.0</td>\n      <td>340.0</td>\n      <td>...</td>\n      <td>POINT (-120.01777 37.05991)</td>\n      <td>4915.0</td>\n      <td>36326.0</td>\n      <td>T10S</td>\n      <td>R18E</td>\n      <td>MDM</td>\n      <td>BLM</td>\n      <td>16.0</td>\n      <td>MDM-T10S-R18E-16</td>\n      <td>T10S R18E</td>\n    </tr>\n    <tr>\n      <th>33650</th>\n      <td>37.91801</td>\n      <td>-121.75983</td>\n      <td>01N</td>\n      <td>02E</td>\n      <td>21</td>\n      <td>280 BALFOUR RD</td>\n      <td>BRENTWOOD</td>\n      <td>Contra Costa</td>\n      <td>195.0</td>\n      <td>75.0</td>\n      <td>...</td>\n      <td>POINT (-121.75983 37.91801)</td>\n      <td>116.0</td>\n      <td>8041.0</td>\n      <td>T01N</td>\n      <td>R02E</td>\n      <td>MDM</td>\n      <td>BLM</td>\n      <td>21.0</td>\n      <td>MDM-T01N-R02E-21</td>\n      <td>T01N R02E</td>\n    </tr>\n  </tbody>\n</table>\n<p>5 rows × 34 columns</p>\n</div>"
     },
     "execution_count": 10,
     "metadata": {},
     "output_type": "execute_result"
    }
   ]
  },
  {
   "cell_type": "code",
   "metadata": {
    "cell_id": "ef18abd4-4d66-4e1a-b518-94ddb73f95a4",
    "tags": [],
    "deepnote_to_be_reexecuted": false,
    "source_hash": "cae0bfef",
    "execution_start": 1647726361479,
    "execution_millis": 230,
    "deepnote_cell_type": "code",
    "deepnote_cell_height": 627.921875,
    "deepnote_output_heights": [
     530.96875
    ]
   },
   "source": [
    "wcr_instance.draw_mising_data_chart( wcr_instance.wellcompletion_subset_plss)"
   ],
   "execution_count": 11,
   "outputs": [
    {
     "data": {
      "text/html": "\n<div id=\"altair-viz-4d58f3dca8cb4488aa5eaf68c80dea5b\"></div>\n<script type=\"text/javascript\">\n  var VEGA_DEBUG = (typeof VEGA_DEBUG == \"undefined\") ? {} : VEGA_DEBUG;\n  (function(spec, embedOpt){\n    let outputDiv = document.currentScript.previousElementSibling;\n    if (outputDiv.id !== \"altair-viz-4d58f3dca8cb4488aa5eaf68c80dea5b\") {\n      outputDiv = document.getElementById(\"altair-viz-4d58f3dca8cb4488aa5eaf68c80dea5b\");\n    }\n    const paths = {\n      \"vega\": \"https://cdn.jsdelivr.net/npm//vega@5?noext\",\n      \"vega-lib\": \"https://cdn.jsdelivr.net/npm//vega-lib?noext\",\n      \"vega-lite\": \"https://cdn.jsdelivr.net/npm//vega-lite@4.17.0?noext\",\n      \"vega-embed\": \"https://cdn.jsdelivr.net/npm//vega-embed@6?noext\",\n    };\n\n    function maybeLoadScript(lib, version) {\n      var key = `${lib.replace(\"-\", \"\")}_version`;\n      return (VEGA_DEBUG[key] == version) ?\n        Promise.resolve(paths[lib]) :\n        new Promise(function(resolve, reject) {\n          var s = document.createElement('script');\n          document.getElementsByTagName(\"head\")[0].appendChild(s);\n          s.async = true;\n          s.onload = () => {\n            VEGA_DEBUG[key] = version;\n            return resolve(paths[lib]);\n          };\n          s.onerror = () => reject(`Error loading script: ${paths[lib]}`);\n          s.src = paths[lib];\n        });\n    }\n\n    function showError(err) {\n      outputDiv.innerHTML = `<div class=\"error\" style=\"color:red;\">${err}</div>`;\n      throw err;\n    }\n\n    function displayChart(vegaEmbed) {\n      vegaEmbed(outputDiv, spec, embedOpt)\n        .catch(err => showError(`Javascript Error: ${err.message}<br>This usually means there's a typo in your chart specification. See the javascript console for the full traceback.`));\n    }\n\n    if(typeof define === \"function\" && define.amd) {\n      requirejs.config({paths});\n      require([\"vega-embed\"], displayChart, err => showError(`Error loading script: ${err.message}`));\n    } else {\n      maybeLoadScript(\"vega\", \"5\")\n        .then(() => maybeLoadScript(\"vega-lite\", \"4.17.0\"))\n        .then(() => maybeLoadScript(\"vega-embed\", \"6\"))\n        .catch(showError)\n        .then(() => displayChart(vegaEmbed));\n    }\n  })({\"config\": {\"view\": {\"continuousWidth\": 400, \"continuousHeight\": 300}}, \"layer\": [{\"mark\": \"bar\", \"encoding\": {\"color\": {\"value\": \"orange\"}, \"tooltip\": [{\"field\": \"column_name\", \"type\": \"nominal\"}, {\"field\": \"percent_missing\", \"type\": \"quantitative\"}], \"x\": {\"field\": \"column_name\", \"sort\": [\"TOTALDRILLDEPTH\", \"WELLYIELD\", \"WELLYIELDUNITOFMEASURE\", \"STATICWATERLEVEL\", \"WELLLOCATION\", \"CITY\", \"TOPOFPERFORATEDINTERVAL\", \"BOTTOMOFPERFORATEDINTERVAL\", \"MONTHWORKENDED\", \"YEARWORKENDED\", \"DATEWORKENDED_CORRECTED\", \"DATEWORKENDED\", \"TOTALCOMPLETEDDEPTH_CORRECTED\", \"TOTALCOMPLETEDDEPTH\", \"COUNTY\", \"SECTION\", \"RANGE\", \"Township\", \"Source\", \"Range\", \"Meridian\", \"index_right\", \"Section\", \"MTRS\", \"OBJECTID\", \"LATITUDE\", \"geometry\", \"GROUNDSURFACEELEVATION\", \"LONGITUDE\", \"WCRNUMBER\", \"USE\", \"RECORDTYPE\", \"TOWNSHIP_RANGE\", \"TownshipRange\"], \"type\": \"nominal\"}, \"y\": {\"aggregate\": \"sum\", \"axis\": {\"format\": \"%\"}, \"field\": \"percent_missing\", \"stack\": \"normalize\", \"type\": \"quantitative\"}}}, {\"mark\": {\"type\": \"text\", \"align\": \"center\", \"color\": \"black\", \"fontSize\": 10}, \"encoding\": {\"color\": {\"value\": \"orange\"}, \"text\": {\"field\": \"percent_missing\", \"format\": \".0%\", \"type\": \"quantitative\"}, \"tooltip\": [{\"field\": \"column_name\", \"type\": \"nominal\"}, {\"field\": \"percent_missing\", \"type\": \"quantitative\"}], \"x\": {\"field\": \"column_name\", \"sort\": [\"TOTALDRILLDEPTH\", \"WELLYIELD\", \"WELLYIELDUNITOFMEASURE\", \"STATICWATERLEVEL\", \"WELLLOCATION\", \"CITY\", \"TOPOFPERFORATEDINTERVAL\", \"BOTTOMOFPERFORATEDINTERVAL\", \"MONTHWORKENDED\", \"YEARWORKENDED\", \"DATEWORKENDED_CORRECTED\", \"DATEWORKENDED\", \"TOTALCOMPLETEDDEPTH_CORRECTED\", \"TOTALCOMPLETEDDEPTH\", \"COUNTY\", \"SECTION\", \"RANGE\", \"Township\", \"Source\", \"Range\", \"Meridian\", \"index_right\", \"Section\", \"MTRS\", \"OBJECTID\", \"LATITUDE\", \"geometry\", \"GROUNDSURFACEELEVATION\", \"LONGITUDE\", \"WCRNUMBER\", \"USE\", \"RECORDTYPE\", \"TOWNSHIP_RANGE\", \"TownshipRange\"], \"type\": \"nominal\"}, \"y\": {\"field\": \"position\", \"type\": \"quantitative\"}}, \"transform\": [{\"calculate\": \"datum.percent_missing + 0.05 * datum.percent_missing / abs(datum.percent_missing)\", \"as\": \"position\"}]}], \"data\": {\"name\": \"data-c71ec1761fb9516decbefafc669ef892\"}, \"$schema\": \"https://vega.github.io/schema/vega-lite/v4.17.0.json\", \"datasets\": {\"data-c71ec1761fb9516decbefafc669ef892\": [{\"column_name\": \"TOTALDRILLDEPTH\", \"percent_missing\": 0.9412192061290535}, {\"column_name\": \"WELLYIELD\", \"percent_missing\": 0.7583854623680263}, {\"column_name\": \"WELLYIELDUNITOFMEASURE\", \"percent_missing\": 0.7583854623680263}, {\"column_name\": \"STATICWATERLEVEL\", \"percent_missing\": 0.6103295687206921}, {\"column_name\": \"WELLLOCATION\", \"percent_missing\": 0.4866068480096616}, {\"column_name\": \"CITY\", \"percent_missing\": 0.4734259862058554}, {\"column_name\": \"TOPOFPERFORATEDINTERVAL\", \"percent_missing\": 0.2919980752356421}, {\"column_name\": \"BOTTOMOFPERFORATEDINTERVAL\", \"percent_missing\": 0.29169615141479616}, {\"column_name\": \"MONTHWORKENDED\", \"percent_missing\": 0.07460348910715466}, {\"column_name\": \"YEARWORKENDED\", \"percent_missing\": 0.07460348910715466}, {\"column_name\": \"DATEWORKENDED_CORRECTED\", \"percent_missing\": 0.07460348910715466}, {\"column_name\": \"DATEWORKENDED\", \"percent_missing\": 0.0745374432713446}, {\"column_name\": \"TOTALCOMPLETEDDEPTH_CORRECTED\", \"percent_missing\": 0.047581307141441875}, {\"column_name\": \"TOTALCOMPLETEDDEPTH\", \"percent_missing\": 0.04712842141017295}, {\"column_name\": \"COUNTY\", \"percent_missing\": 0.00016039702982441242}, {\"column_name\": \"SECTION\", \"percent_missing\": 6.604583581005217e-05}, {\"column_name\": \"RANGE\", \"percent_missing\": 9.435119401436025e-06}, {\"column_name\": \"Township\", \"percent_missing\": 0.0}, {\"column_name\": \"Source\", \"percent_missing\": 0.0}, {\"column_name\": \"Range\", \"percent_missing\": 0.0}, {\"column_name\": \"Meridian\", \"percent_missing\": 0.0}, {\"column_name\": \"index_right\", \"percent_missing\": 0.0}, {\"column_name\": \"Section\", \"percent_missing\": 0.0}, {\"column_name\": \"MTRS\", \"percent_missing\": 0.0}, {\"column_name\": \"OBJECTID\", \"percent_missing\": 0.0}, {\"column_name\": \"LATITUDE\", \"percent_missing\": 0.0}, {\"column_name\": \"geometry\", \"percent_missing\": 0.0}, {\"column_name\": \"GROUNDSURFACEELEVATION\", \"percent_missing\": 0.0}, {\"column_name\": \"LONGITUDE\", \"percent_missing\": 0.0}, {\"column_name\": \"WCRNUMBER\", \"percent_missing\": 0.0}, {\"column_name\": \"USE\", \"percent_missing\": 0.0}, {\"column_name\": \"RECORDTYPE\", \"percent_missing\": 0.0}, {\"column_name\": \"TOWNSHIP_RANGE\", \"percent_missing\": 0.0}, {\"column_name\": \"TownshipRange\", \"percent_missing\": 0.0}]}}, {\"mode\": \"vega-lite\"});\n</script>",
      "text/plain": "alt.LayerChart(...)"
     },
     "execution_count": 11,
     "metadata": {},
     "output_type": "execute_result"
    }
   ]
  },
  {
   "cell_type": "markdown",
   "source": [
    "#### The entire column about Ground Surface elevation of a well is missing. This is backfilled using the data collected using an API which enables us to get the elevation from latitude and longitude."
   ],
   "metadata": {
    "cell_id": "45762d51-66b1-493b-9063-4b3bd1f3fc07",
    "tags": [],
    "deepnote_cell_type": "markdown",
    "deepnote_cell_height": 77.953125
   }
  },
  {
   "cell_type": "code",
   "metadata": {
    "cell_id": "ea49feb7-f243-40eb-b50b-bdae47242a84",
    "tags": [],
    "deepnote_to_be_reexecuted": false,
    "source_hash": "fe130747",
    "execution_start": 1647723745912,
    "execution_millis": 80,
    "deepnote_cell_type": "code",
    "deepnote_cell_height": 597.875
   },
   "source": [
    "wellcompletion_merge_df[~wellcompletion_merge_df['GROUNDSURFACEELEVATION'].isnull()][['LATITUDE', 'LONGITUDE', 'GROUNDSURFACEELEVATION', \"GROUNDSURFACEELEVATION\"]]"
   ],
   "execution_count": 12,
   "outputs": [
    {
     "ename": "NameError",
     "evalue": "name 'wellcompletion_merge_df' is not defined",
     "output_type": "error",
     "traceback": [
      "\u001B[1;31m---------------------------------------------------------------------------\u001B[0m",
      "\u001B[1;31mNameError\u001B[0m                                 Traceback (most recent call last)",
      "\u001B[1;32mD:\\Users\\Matthieu\\AppData\\Local\\Temp/ipykernel_24960/2359952037.py\u001B[0m in \u001B[0;36m<module>\u001B[1;34m\u001B[0m\n\u001B[1;32m----> 1\u001B[1;33m \u001B[0mwellcompletion_merge_df\u001B[0m\u001B[1;33m[\u001B[0m\u001B[1;33m~\u001B[0m\u001B[0mwellcompletion_merge_df\u001B[0m\u001B[1;33m[\u001B[0m\u001B[1;34m'GROUNDSURFACEELEVATION'\u001B[0m\u001B[1;33m]\u001B[0m\u001B[1;33m.\u001B[0m\u001B[0misnull\u001B[0m\u001B[1;33m(\u001B[0m\u001B[1;33m)\u001B[0m\u001B[1;33m]\u001B[0m\u001B[1;33m[\u001B[0m\u001B[1;33m[\u001B[0m\u001B[1;34m'LATITUDE'\u001B[0m\u001B[1;33m,\u001B[0m \u001B[1;34m'LONGITUDE'\u001B[0m\u001B[1;33m,\u001B[0m \u001B[1;34m'GROUNDSURFACEELEVATION'\u001B[0m\u001B[1;33m,\u001B[0m \u001B[1;34m\"GROUNDSURFACEELEVATION\"\u001B[0m\u001B[1;33m]\u001B[0m\u001B[1;33m]\u001B[0m\u001B[1;33m\u001B[0m\u001B[1;33m\u001B[0m\u001B[0m\n\u001B[0m",
      "\u001B[1;31mNameError\u001B[0m: name 'wellcompletion_merge_df' is not defined"
     ]
    }
   ]
  },
  {
   "cell_type": "code",
   "metadata": {
    "cell_id": "d85855df-fb0b-4049-a502-26012ce34497",
    "tags": [],
    "deepnote_to_be_reexecuted": false,
    "source_hash": "f330b2d9",
    "execution_start": 1647723040363,
    "execution_millis": 8,
    "deepnote_cell_type": "code",
    "deepnote_cell_height": 290.96875,
    "deepnote_output_heights": [
     194.03125
    ],
    "pycharm": {
     "name": "#%%\n"
    }
   },
   "source": [
    "wellcompletion_merge_df.columns"
   ],
   "execution_count": null,
   "outputs": []
  }
 ],
 "nbformat": 4,
 "nbformat_minor": 5,
 "metadata": {
  "deepnote": {},
  "deepnote_execution_queue": [],
  "deepnote_notebook_id": "32407b60-45a5-47e6-9eae-e63a2d0fa0d0",
  "kernelspec": {
   "name": "python3",
   "language": "python",
   "display_name": "Python 3 (ipykernel)"
  },
  "language_info": {
   "codemirror_mode": {
    "name": "ipython",
    "version": 3
   },
   "file_extension": ".py",
   "mimetype": "text/x-python",
   "name": "python",
   "nbconvert_exporter": "python",
   "pygments_lexer": "ipython3",
   "version": "3.10.2"
  }
 }
}