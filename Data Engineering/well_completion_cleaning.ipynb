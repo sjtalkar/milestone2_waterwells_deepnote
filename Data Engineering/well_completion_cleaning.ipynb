{
 "cells": [
  {
   "cell_type": "markdown",
   "source": "# California Well Completion Reports Datasets\n\nRelated links:\n* For the documentation about this dataset, its source, how to download, and the features of interest, please refer to our [Well Completion Reports Dataset](/doc/assets/well_completion_reports.md) documentation\n",
   "metadata": {
    "cell_id": "a6949397-cb85-4567-87be-8bf9de1e766c",
    "deepnote_cell_type": "markdown",
    "deepnote_cell_height": 245.1875
   }
  },
  {
   "cell_type": "code",
   "source": "!pip install ..",
   "metadata": {
    "cell_id": "6ffe3af5-83e7-4e8c-a6ee-edeb4c859552",
    "tags": [],
    "deepnote_to_be_reexecuted": false,
    "source_hash": "1d6f53e7",
    "execution_start": 1647557264775,
    "execution_millis": 27246,
    "deepnote_cell_type": "code",
    "deepnote_cell_height": 379.546875
   },
   "outputs": [
    {
     "name": "stdout",
     "text": "Processing /work/milestone2_waterwells_deepnote\n\u001b[33m  DEPRECATION: A future pip version will change local packages to be built in-place without first copying to a temporary directory. We recommend you use --use-feature=in-tree-build to test your packages with this new behavior before it becomes the default.\n   pip 21.3 will remove support for this functionality. You can find discussion regarding this at https://github.com/pypa/pip/issues/7555.\u001b[0m\nBuilding wheels for collected packages: lib\n  Building wheel for lib (setup.py) ... \u001b[?25ldone\n\u001b[?25h  Created wheel for lib: filename=lib-0.1-py3-none-any.whl size=16568 sha256=8f087a1f3d4fbc488f1e0aca15ed15aeb241fae4b3c3bca4d4ad6608ad9636d0\n  Stored in directory: /tmp/pip-ephem-wheel-cache-sbj6syso/wheels/98/27/77/03f18e1613edc23455313ea7117915ebf8088f55be7a77d968\nSuccessfully built lib\nInstalling collected packages: lib\nSuccessfully installed lib-0.1\n\u001b[33mWARNING: You are using pip version 21.2.3; however, version 22.0.4 is available.\nYou should consider upgrading via the '/root/venv/bin/python -m pip install --upgrade pip' command.\u001b[0m\n",
     "output_type": "stream"
    }
   ],
   "execution_count": null
  },
  {
   "cell_type": "code",
   "metadata": {
    "cell_id": "ea8a3361-58c1-427a-959b-f96412a76a12",
    "tags": [],
    "deepnote_to_be_reexecuted": false,
    "source_hash": "7d3b5452",
    "execution_start": 1647557295970,
    "execution_millis": 1061,
    "deepnote_cell_type": "code",
    "deepnote_cell_height": 136.15625,
    "deepnote_output_heights": [
     117.1875
    ]
   },
   "source": "from lib.wellcompletionreports import WellCompletionReportsDataset",
   "outputs": [
    {
     "name": "stderr",
     "text": "/shared-libs/python3.9/py/lib/python3.9/site-packages/geopandas/_compat.py:111: UserWarning: The Shapely GEOS version (3.10.2-CAPI-1.16.0) is incompatible with the GEOS version PyGEOS was compiled with (3.10.1-CAPI-1.16.0). Conversions between both will be slow.\n  warnings.warn(\n",
     "output_type": "stream"
    }
   ],
   "execution_count": null
  },
  {
   "cell_type": "code",
   "metadata": {
    "cell_id": "40d9bb27-2cbb-429c-909a-d2af4a71db1f",
    "deepnote_to_be_reexecuted": false,
    "source_hash": "b2fe7225",
    "execution_start": 1647557304098,
    "execution_millis": 0,
    "deepnote_cell_type": "code",
    "deepnote_cell_height": 315
   },
   "source": "import warnings\nwarnings.simplefilter(action='ignore', category=FutureWarning)\n\nimport json\nimport requests\nimport pandas as pd\nimport numpy as np\nfrom datetime import datetime\nimport geopandas as gpd\nimport pygeos\n\nimport altair as alt\n\n",
   "outputs": [],
   "execution_count": null
  },
  {
   "cell_type": "code",
   "metadata": {
    "cell_id": "00002-e31d6f1d-2be4-45f0-a6cc-4f5540aa5375",
    "deepnote_to_be_reexecuted": false,
    "source_hash": "dc3e68bb",
    "execution_start": 1647550792033,
    "execution_millis": 2,
    "deepnote_cell_type": "code",
    "deepnote_cell_height": 207
   },
   "source": "# import sys\n# import os\n\n# # Note once library path is set this will not be require: REMOVE\n# module_path = os.path.abspath(os.path.join('..'))\n# if module_path not in sys.path:\n#     sys.path.append(module_path+\"\\\\lib\")\n# from lib.wellcompletionreports import WellCompletionReportsDataset",
   "outputs": [],
   "execution_count": null
  },
  {
   "cell_type": "code",
   "metadata": {
    "cell_id": "00003-ff5c1504-ddb0-43d2-8d47-e8a3098eef57",
    "deepnote_to_be_reexecuted": false,
    "source_hash": "290ca995",
    "execution_start": 1647557312450,
    "execution_millis": 13699,
    "deepnote_cell_type": "code",
    "deepnote_cell_height": 172.15625
   },
   "source": "#This will be stored in the class\nwcr_instance = WellCompletionReportsDataset()\n",
   "outputs": [
    {
     "name": "stderr",
     "text": "/root/venv/lib/python3.9/site-packages/lib/wellcompletionreports.py:30: DtypeWarning: Columns (1,6,31) have mixed types. Specify dtype option on import or set low_memory=False.\n  return pd.read_csv(input_datafile)\n",
     "output_type": "stream"
    }
   ],
   "execution_count": null
  },
  {
   "cell_type": "code",
   "source": "wcr_instance.clean_well_completion_reports()",
   "metadata": {
    "cell_id": "2b819b74-00c9-4a8e-81d8-c6ec40ca8ebd",
    "tags": [],
    "deepnote_to_be_reexecuted": false,
    "source_hash": "28231412",
    "execution_start": 1647557461979,
    "execution_millis": 31543,
    "deepnote_cell_type": "code",
    "deepnote_cell_height": 611.4375
   },
   "outputs": [
    {
     "output_type": "execute_result",
     "execution_count": 6,
     "data": {
      "application/vnd.deepnote.dataframe.v3+json": {
       "column_count": 24,
       "row_count": 451264,
       "columns": [
        {
         "name": "LATITUDE",
         "dtype": "float64"
        },
        {
         "name": "LONGITUDE",
         "dtype": "float64"
        },
        {
         "name": "TOWNSHIP",
         "dtype": "object"
        },
        {
         "name": "RANGE",
         "dtype": "object"
        },
        {
         "name": "SECTION",
         "dtype": "object"
        },
        {
         "name": "WELLLOCATION",
         "dtype": "object"
        },
        {
         "name": "CITY",
         "dtype": "object"
        },
        {
         "name": "COUNTY",
         "dtype": "object"
        },
        {
         "name": "BOTTOMOFPERFORATEDINTERVAL",
         "dtype": "float64"
        },
        {
         "name": "TOPOFPERFORATEDINTERVAL",
         "dtype": "float64"
        },
        {
         "name": "GROUNDSURFACEELEVATION",
         "dtype": "float64"
        },
        {
         "name": "STATICWATERLEVEL",
         "dtype": "float64"
        },
        {
         "name": "RECORDTYPE",
         "dtype": "object"
        },
        {
         "name": "USE",
         "dtype": "object"
        },
        {
         "name": "WCRNUMBER",
         "dtype": "object"
        },
        {
         "name": "TOTALDRILLDEPTH",
         "dtype": "float64"
        },
        {
         "name": "TOTALCOMPLETEDDEPTH",
         "dtype": "float64"
        },
        {
         "name": "DATEWORKENDED",
         "dtype": "datetime64[ns]"
        },
        {
         "name": "WELLYIELD",
         "dtype": "float64"
        },
        {
         "name": "WELLYIELDUNITOFMEASURE",
         "dtype": "object"
        },
        {
         "name": "TOTALCOMPLETEDDEPTH_CORRECTED",
         "dtype": "float64"
        },
        {
         "name": "DATEWORKENDED_CORRECTED",
         "dtype": "datetime64[ns]"
        },
        {
         "name": "YEARWORKENDED",
         "dtype": "float64"
        },
        {
         "name": "MONTHWORKENDED",
         "dtype": "float64"
        },
        {
         "name": "_deepnote_index_column",
         "dtype": "int64"
        }
       ],
       "rows": [
        {
         "LATITUDE": 37.4315,
         "LONGITUDE": -122.08,
         "TOWNSHIP": "06S",
         "RANGE": "02W",
         "SECTION": "09",
         "WELLLOCATION": "22148 Eden Canyon RD",
         "CITY": "Castro Valley",
         "COUNTY": "Alameda",
         "BOTTOMOFPERFORATEDINTERVAL": 840,
         "TOPOFPERFORATEDINTERVAL": 600,
         "GROUNDSURFACEELEVATION": "nan",
         "STATICWATERLEVEL": 600,
         "RECORDTYPE": "WellCompletion/New/Production or Monitoring/NA",
         "USE": "Domestic",
         "WCRNUMBER": "WCR2019-015599",
         "TOTALDRILLDEPTH": 840,
         "TOTALCOMPLETEDDEPTH": 840,
         "DATEWORKENDED": "2019-10-22 00:00:00",
         "WELLYIELD": 1,
         "WELLYIELDUNITOFMEASURE": "GPM",
         "TOTALCOMPLETEDDEPTH_CORRECTED": 840,
         "DATEWORKENDED_CORRECTED": "2019-10-22 00:00:00",
         "YEARWORKENDED": 2019,
         "MONTHWORKENDED": 10,
         "_deepnote_index_column": 4
        },
        {
         "LATITUDE": 37.644024,
         "LONGITUDE": -121.893386,
         "TOWNSHIP": "03S",
         "RANGE": "01E",
         "SECTION": "29",
         "WELLLOCATION": "0 CASTLEWOOD DR",
         "CITY": "PLEASANTON",
         "COUNTY": "Alameda",
         "BOTTOMOFPERFORATEDINTERVAL": 190,
         "TOPOFPERFORATEDINTERVAL": 90,
         "GROUNDSURFACEELEVATION": "nan",
         "STATICWATERLEVEL": 24,
         "RECORDTYPE": "WellCompletion/New/Production or Monitoring/NA",
         "USE": "Agriculture",
         "WCRNUMBER": "WCR2020-000099",
         "TOTALDRILLDEPTH": 230,
         "TOTALCOMPLETEDDEPTH": 210,
         "DATEWORKENDED": "2019-11-15 00:00:00",
         "WELLYIELD": 100,
         "WELLYIELDUNITOFMEASURE": "GPM",
         "TOTALCOMPLETEDDEPTH_CORRECTED": 210,
         "DATEWORKENDED_CORRECTED": "2019-11-15 00:00:00",
         "YEARWORKENDED": 2019,
         "MONTHWORKENDED": 11,
         "_deepnote_index_column": 67
        },
        {
         "LATITUDE": 37.65824,
         "LONGITUDE": -121.85086,
         "TOWNSHIP": "03S",
         "RANGE": "01E",
         "SECTION": "22",
         "WELLLOCATION": "nan",
         "CITY": "nan",
         "COUNTY": "Alameda",
         "BOTTOMOFPERFORATEDINTERVAL": 220,
         "TOPOFPERFORATEDINTERVAL": 120,
         "GROUNDSURFACEELEVATION": "nan",
         "STATICWATERLEVEL": 80,
         "RECORDTYPE": "WellCompletion/New/Production or Monitoring/NA",
         "USE": "Agriculture",
         "WCRNUMBER": "WCR0172727",
         "TOTALDRILLDEPTH": "nan",
         "TOTALCOMPLETEDDEPTH": 240,
         "DATEWORKENDED": "NaT",
         "WELLYIELD": 100,
         "WELLYIELDUNITOFMEASURE": "GPM",
         "TOTALCOMPLETEDDEPTH_CORRECTED": 240,
         "DATEWORKENDED_CORRECTED": "NaT",
         "YEARWORKENDED": "nan",
         "MONTHWORKENDED": "nan",
         "_deepnote_index_column": 90
        },
        {
         "LATITUDE": 37.68732,
         "LONGITUDE": -121.85073,
         "TOWNSHIP": "03S",
         "RANGE": "01E",
         "SECTION": "10",
         "WELLLOCATION": "EL CHARRO ROAD-NW COMER OF LAKE H",
         "CITY": "PLEASANTON",
         "COUNTY": "Alameda",
         "BOTTOMOFPERFORATEDINTERVAL": 100,
         "TOPOFPERFORATEDINTERVAL": 0,
         "GROUNDSURFACEELEVATION": "nan",
         "STATICWATERLEVEL": "nan",
         "RECORDTYPE": "WellCompletion/New/Production or Monitoring/NA",
         "USE": "Public",
         "WCRNUMBER": "WCR2014-016112",
         "TOTALDRILLDEPTH": "nan",
         "TOTALCOMPLETEDDEPTH": 205,
         "DATEWORKENDED": "2014-05-21 00:00:00",
         "WELLYIELD": "nan",
         "WELLYIELDUNITOFMEASURE": "nan",
         "TOTALCOMPLETEDDEPTH_CORRECTED": 205,
         "DATEWORKENDED_CORRECTED": "2014-05-21 00:00:00",
         "YEARWORKENDED": 2014,
         "MONTHWORKENDED": 5,
         "_deepnote_index_column": 130
        },
        {
         "LATITUDE": 37.54215,
         "LONGITUDE": -121.99658,
         "TOWNSHIP": "04S",
         "RANGE": "01W",
         "SECTION": "32",
         "WELLLOCATION": "nan",
         "CITY": "nan",
         "COUNTY": "Alameda",
         "BOTTOMOFPERFORATEDINTERVAL": 380,
         "TOPOFPERFORATEDINTERVAL": 351,
         "GROUNDSURFACEELEVATION": "nan",
         "STATICWATERLEVEL": "nan",
         "RECORDTYPE": "WellCompletion/New/Production or Monitoring/NA",
         "USE": "Agriculture",
         "WCRNUMBER": "WCR0079408",
         "TOTALDRILLDEPTH": "nan",
         "TOTALCOMPLETEDDEPTH": 396,
         "DATEWORKENDED": "1954-04-01 00:00:00",
         "WELLYIELD": 58,
         "WELLYIELDUNITOFMEASURE": "GPM",
         "TOTALCOMPLETEDDEPTH_CORRECTED": 396,
         "DATEWORKENDED_CORRECTED": "1954-04-01 00:00:00",
         "YEARWORKENDED": 1954,
         "MONTHWORKENDED": 4,
         "_deepnote_index_column": 196
        },
        {
         "LATITUDE": 37.73106,
         "LONGITUDE": -121.86867,
         "TOWNSHIP": "02S",
         "RANGE": "01E",
         "SECTION": "28",
         "WELLLOCATION": "nan",
         "CITY": "nan",
         "COUNTY": "Alameda",
         "BOTTOMOFPERFORATEDINTERVAL": 212,
         "TOPOFPERFORATEDINTERVAL": 50,
         "GROUNDSURFACEELEVATION": "nan",
         "STATICWATERLEVEL": 50,
         "RECORDTYPE": "WellCompletion/New/Production or Monitoring/NA",
         "USE": "Domestic",
         "WCRNUMBER": "WCR0234291",
         "TOTALDRILLDEPTH": "nan",
         "TOTALCOMPLETEDDEPTH": "nan",
         "DATEWORKENDED": "NaT",
         "WELLYIELD": 8,
         "WELLYIELDUNITOFMEASURE": "GPM",
         "TOTALCOMPLETEDDEPTH_CORRECTED": "nan",
         "DATEWORKENDED_CORRECTED": "NaT",
         "YEARWORKENDED": "nan",
         "MONTHWORKENDED": "nan",
         "_deepnote_index_column": 199
        },
        {
         "LATITUDE": 37.74466,
         "LONGITUDE": -122.16127,
         "TOWNSHIP": "02S",
         "RANGE": "03W",
         "SECTION": "23",
         "WELLLOCATION": "SAME",
         "CITY": "nan",
         "COUNTY": "Alameda",
         "BOTTOMOFPERFORATEDINTERVAL": 80,
         "TOPOFPERFORATEDINTERVAL": 40,
         "GROUNDSURFACEELEVATION": "nan",
         "STATICWATERLEVEL": 37,
         "RECORDTYPE": "WellCompletion/New/Production or Monitoring/NA",
         "USE": "Agriculture",
         "WCRNUMBER": "WCR0234300",
         "TOTALDRILLDEPTH": "nan",
         "TOTALCOMPLETEDDEPTH": 70,
         "DATEWORKENDED": "1977-10-30 00:00:00",
         "WELLYIELD": "nan",
         "WELLYIELDUNITOFMEASURE": "nan",
         "TOTALCOMPLETEDDEPTH_CORRECTED": 70,
         "DATEWORKENDED_CORRECTED": "1977-10-30 00:00:00",
         "YEARWORKENDED": 1977,
         "MONTHWORKENDED": 10,
         "_deepnote_index_column": 200
        },
        {
         "LATITUDE": 37.76938,
         "LONGITUDE": -122.23815,
         "TOWNSHIP": "02S",
         "RANGE": "03W",
         "SECTION": "07",
         "WELLLOCATION": "2307 CLEMENT AVE",
         "CITY": "ALAMEDA",
         "COUNTY": "Alameda",
         "BOTTOMOFPERFORATEDINTERVAL": 80,
         "TOPOFPERFORATEDINTERVAL": 40,
         "GROUNDSURFACEELEVATION": "nan",
         "STATICWATERLEVEL": 6,
         "RECORDTYPE": "WellCompletion/New/Production or Monitoring/NA",
         "USE": "Industrial",
         "WCRNUMBER": "WCR0018549",
         "TOTALDRILLDEPTH": "nan",
         "TOTALCOMPLETEDDEPTH": 82,
         "DATEWORKENDED": "1977-04-18 00:00:00",
         "WELLYIELD": "nan",
         "WELLYIELDUNITOFMEASURE": "nan",
         "TOTALCOMPLETEDDEPTH_CORRECTED": 82,
         "DATEWORKENDED_CORRECTED": "1977-04-18 00:00:00",
         "YEARWORKENDED": 1977,
         "MONTHWORKENDED": 4,
         "_deepnote_index_column": 204
        },
        {
         "LATITUDE": 37.77148,
         "LONGITUDE": -122.07072,
         "TOWNSHIP": "02S",
         "RANGE": "02W",
         "SECTION": "10",
         "WELLLOCATION": "nan",
         "CITY": "nan",
         "COUNTY": "Alameda",
         "BOTTOMOFPERFORATEDINTERVAL": 59,
         "TOPOFPERFORATEDINTERVAL": 20,
         "GROUNDSURFACEELEVATION": "nan",
         "STATICWATERLEVEL": 12,
         "RECORDTYPE": "WellCompletion/New/Production or Monitoring/NA",
         "USE": "Agriculture",
         "WCRNUMBER": "WCR0213847",
         "TOTALDRILLDEPTH": "nan",
         "TOTALCOMPLETEDDEPTH": 59,
         "DATEWORKENDED": "1977-12-17 00:00:00",
         "WELLYIELD": "nan",
         "WELLYIELDUNITOFMEASURE": "nan",
         "TOTALCOMPLETEDDEPTH_CORRECTED": 59,
         "DATEWORKENDED_CORRECTED": "1977-12-17 00:00:00",
         "YEARWORKENDED": 1977,
         "MONTHWORKENDED": 12,
         "_deepnote_index_column": 207
        },
        {
         "LATITUDE": 37.74506,
         "LONGITUDE": -121.74231,
         "TOWNSHIP": "02S",
         "RANGE": "02E",
         "SECTION": "22",
         "WELLLOCATION": "nan",
         "CITY": "nan",
         "COUNTY": "Alameda",
         "BOTTOMOFPERFORATEDINTERVAL": "nan",
         "TOPOFPERFORATEDINTERVAL": 26,
         "GROUNDSURFACEELEVATION": "nan",
         "STATICWATERLEVEL": "nan",
         "RECORDTYPE": "WellCompletion/New/Production or Monitoring/NA",
         "USE": "Domestic",
         "WCRNUMBER": "WCR0040828",
         "TOTALDRILLDEPTH": "nan",
         "TOTALCOMPLETEDDEPTH": 105,
         "DATEWORKENDED": "NaT",
         "WELLYIELD": "nan",
         "WELLYIELDUNITOFMEASURE": "nan",
         "TOTALCOMPLETEDDEPTH_CORRECTED": 105,
         "DATEWORKENDED_CORRECTED": "NaT",
         "YEARWORKENDED": "nan",
         "MONTHWORKENDED": "nan",
         "_deepnote_index_column": 213
        }
       ]
      },
      "text/plain": "          LATITUDE   LONGITUDE TOWNSHIP RANGE SECTION  \\\n4        37.431500 -122.080000      06S   02W      09   \n67       37.644024 -121.893386      03S   01E      29   \n90       37.658240 -121.850860      03S   01E      22   \n130      37.687320 -121.850730      03S   01E      10   \n196      37.542150 -121.996580      04S   01W      32   \n...            ...         ...      ...   ...     ...   \n1042989  37.614012 -121.817013      04S   01E      01   \n1042993  38.227086 -121.466892      04N   05E      06   \n1043027  38.751944 -120.496667      11N   13E      35   \n1043028  38.848056 -121.497778      12N   04E      35   \n1043031  38.159722 -121.368056      04N   06E      31   \n\n                              WELLLOCATION           CITY   COUNTY  \\\n4                     22148 Eden Canyon RD  Castro Valley  Alameda   \n67                         0 CASTLEWOOD DR     PLEASANTON  Alameda   \n90                                     NaN            NaN  Alameda   \n130      EL CHARRO ROAD-NW COMER OF LAKE H     PLEASANTON  Alameda   \n196                                    NaN            NaN  Alameda   \n...                                    ...            ...      ...   \n1042989               7010 VALLECITOS ROAD          SUNOL      NaN   \n1042993                 26501 N. VAIL ROAD            NaN      NaN   \n1043027                         PARK CREEK            NaN      NaN   \n1043028                                XXX            XXX      NaN   \n1043031                               SAME            NaN      NaN   \n\n         BOTTOMOFPERFORATEDINTERVAL  TOPOFPERFORATEDINTERVAL  ...  \\\n4                             840.0                    600.0  ...   \n67                            190.0                     90.0  ...   \n90                            220.0                    120.0  ...   \n130                           100.0                      0.0  ...   \n196                           380.0                    351.0  ...   \n...                             ...                      ...  ...   \n1042989                       297.0                    145.0  ...   \n1042993                       165.0                    105.0  ...   \n1043027                       220.0                    200.0  ...   \n1043028                       160.0                      1.0  ...   \n1043031                       230.0                    170.0  ...   \n\n              WCRNUMBER  TOTALDRILLDEPTH TOTALCOMPLETEDDEPTH DATEWORKENDED  \\\n4        WCR2019-015599            840.0               840.0    2019-10-22   \n67       WCR2020-000099            230.0               210.0    2019-11-15   \n90           WCR0172727              NaN               240.0           NaT   \n130      WCR2014-016112              NaN               205.0    2014-05-21   \n196          WCR0079408              NaN               396.0    1954-04-01   \n...                 ...              ...                 ...           ...   \n1042989  WCR2011-011692              NaN               320.0    2011-08-02   \n1042993  WCR2015-014442              NaN               165.0    2015-10-21   \n1043027  WCR2014-014504              NaN               220.0    2014-08-30   \n1043028  WCR2015-013869              NaN               250.0    2015-04-21   \n1043031  WCR2014-014803              NaN               230.0    2014-07-30   \n\n        WELLYIELD  WELLYIELDUNITOFMEASURE  TOTALCOMPLETEDDEPTH_CORRECTED  \\\n4             1.0                     GPM                          840.0   \n67          100.0                     GPM                          210.0   \n90          100.0                     GPM                          240.0   \n130           NaN                     NaN                          205.0   \n196          58.0                     GPM                          396.0   \n...           ...                     ...                            ...   \n1042989       NaN                     NaN                          320.0   \n1042993       NaN                     NaN                          165.0   \n1043027      25.0                     GPM                          220.0   \n1043028      30.0                     GPM                          250.0   \n1043031       NaN                     NaN                          230.0   \n\n        DATEWORKENDED_CORRECTED  YEARWORKENDED MONTHWORKENDED  \n4                    2019-10-22         2019.0           10.0  \n67                   2019-11-15         2019.0           11.0  \n90                          NaT            NaN            NaN  \n130                  2014-05-21         2014.0            5.0  \n196                  1954-04-01         1954.0            4.0  \n...                         ...            ...            ...  \n1042989              2011-08-02         2011.0            8.0  \n1042993              2015-10-21         2015.0           10.0  \n1043027              2014-08-30         2014.0            8.0  \n1043028              2015-04-21         2015.0            4.0  \n1043031              2014-07-30         2014.0            7.0  \n\n[451264 rows x 24 columns]",
      "text/html": "<div>\n<style scoped>\n    .dataframe tbody tr th:only-of-type {\n        vertical-align: middle;\n    }\n\n    .dataframe tbody tr th {\n        vertical-align: top;\n    }\n\n    .dataframe thead th {\n        text-align: right;\n    }\n</style>\n<table border=\"1\" class=\"dataframe\">\n  <thead>\n    <tr style=\"text-align: right;\">\n      <th></th>\n      <th>LATITUDE</th>\n      <th>LONGITUDE</th>\n      <th>TOWNSHIP</th>\n      <th>RANGE</th>\n      <th>SECTION</th>\n      <th>WELLLOCATION</th>\n      <th>CITY</th>\n      <th>COUNTY</th>\n      <th>BOTTOMOFPERFORATEDINTERVAL</th>\n      <th>TOPOFPERFORATEDINTERVAL</th>\n      <th>...</th>\n      <th>WCRNUMBER</th>\n      <th>TOTALDRILLDEPTH</th>\n      <th>TOTALCOMPLETEDDEPTH</th>\n      <th>DATEWORKENDED</th>\n      <th>WELLYIELD</th>\n      <th>WELLYIELDUNITOFMEASURE</th>\n      <th>TOTALCOMPLETEDDEPTH_CORRECTED</th>\n      <th>DATEWORKENDED_CORRECTED</th>\n      <th>YEARWORKENDED</th>\n      <th>MONTHWORKENDED</th>\n    </tr>\n  </thead>\n  <tbody>\n    <tr>\n      <th>4</th>\n      <td>37.431500</td>\n      <td>-122.080000</td>\n      <td>06S</td>\n      <td>02W</td>\n      <td>09</td>\n      <td>22148 Eden Canyon RD</td>\n      <td>Castro Valley</td>\n      <td>Alameda</td>\n      <td>840.0</td>\n      <td>600.0</td>\n      <td>...</td>\n      <td>WCR2019-015599</td>\n      <td>840.0</td>\n      <td>840.0</td>\n      <td>2019-10-22</td>\n      <td>1.0</td>\n      <td>GPM</td>\n      <td>840.0</td>\n      <td>2019-10-22</td>\n      <td>2019.0</td>\n      <td>10.0</td>\n    </tr>\n    <tr>\n      <th>67</th>\n      <td>37.644024</td>\n      <td>-121.893386</td>\n      <td>03S</td>\n      <td>01E</td>\n      <td>29</td>\n      <td>0 CASTLEWOOD DR</td>\n      <td>PLEASANTON</td>\n      <td>Alameda</td>\n      <td>190.0</td>\n      <td>90.0</td>\n      <td>...</td>\n      <td>WCR2020-000099</td>\n      <td>230.0</td>\n      <td>210.0</td>\n      <td>2019-11-15</td>\n      <td>100.0</td>\n      <td>GPM</td>\n      <td>210.0</td>\n      <td>2019-11-15</td>\n      <td>2019.0</td>\n      <td>11.0</td>\n    </tr>\n    <tr>\n      <th>90</th>\n      <td>37.658240</td>\n      <td>-121.850860</td>\n      <td>03S</td>\n      <td>01E</td>\n      <td>22</td>\n      <td>NaN</td>\n      <td>NaN</td>\n      <td>Alameda</td>\n      <td>220.0</td>\n      <td>120.0</td>\n      <td>...</td>\n      <td>WCR0172727</td>\n      <td>NaN</td>\n      <td>240.0</td>\n      <td>NaT</td>\n      <td>100.0</td>\n      <td>GPM</td>\n      <td>240.0</td>\n      <td>NaT</td>\n      <td>NaN</td>\n      <td>NaN</td>\n    </tr>\n    <tr>\n      <th>130</th>\n      <td>37.687320</td>\n      <td>-121.850730</td>\n      <td>03S</td>\n      <td>01E</td>\n      <td>10</td>\n      <td>EL CHARRO ROAD-NW COMER OF LAKE H</td>\n      <td>PLEASANTON</td>\n      <td>Alameda</td>\n      <td>100.0</td>\n      <td>0.0</td>\n      <td>...</td>\n      <td>WCR2014-016112</td>\n      <td>NaN</td>\n      <td>205.0</td>\n      <td>2014-05-21</td>\n      <td>NaN</td>\n      <td>NaN</td>\n      <td>205.0</td>\n      <td>2014-05-21</td>\n      <td>2014.0</td>\n      <td>5.0</td>\n    </tr>\n    <tr>\n      <th>196</th>\n      <td>37.542150</td>\n      <td>-121.996580</td>\n      <td>04S</td>\n      <td>01W</td>\n      <td>32</td>\n      <td>NaN</td>\n      <td>NaN</td>\n      <td>Alameda</td>\n      <td>380.0</td>\n      <td>351.0</td>\n      <td>...</td>\n      <td>WCR0079408</td>\n      <td>NaN</td>\n      <td>396.0</td>\n      <td>1954-04-01</td>\n      <td>58.0</td>\n      <td>GPM</td>\n      <td>396.0</td>\n      <td>1954-04-01</td>\n      <td>1954.0</td>\n      <td>4.0</td>\n    </tr>\n    <tr>\n      <th>...</th>\n      <td>...</td>\n      <td>...</td>\n      <td>...</td>\n      <td>...</td>\n      <td>...</td>\n      <td>...</td>\n      <td>...</td>\n      <td>...</td>\n      <td>...</td>\n      <td>...</td>\n      <td>...</td>\n      <td>...</td>\n      <td>...</td>\n      <td>...</td>\n      <td>...</td>\n      <td>...</td>\n      <td>...</td>\n      <td>...</td>\n      <td>...</td>\n      <td>...</td>\n      <td>...</td>\n    </tr>\n    <tr>\n      <th>1042989</th>\n      <td>37.614012</td>\n      <td>-121.817013</td>\n      <td>04S</td>\n      <td>01E</td>\n      <td>01</td>\n      <td>7010 VALLECITOS ROAD</td>\n      <td>SUNOL</td>\n      <td>NaN</td>\n      <td>297.0</td>\n      <td>145.0</td>\n      <td>...</td>\n      <td>WCR2011-011692</td>\n      <td>NaN</td>\n      <td>320.0</td>\n      <td>2011-08-02</td>\n      <td>NaN</td>\n      <td>NaN</td>\n      <td>320.0</td>\n      <td>2011-08-02</td>\n      <td>2011.0</td>\n      <td>8.0</td>\n    </tr>\n    <tr>\n      <th>1042993</th>\n      <td>38.227086</td>\n      <td>-121.466892</td>\n      <td>04N</td>\n      <td>05E</td>\n      <td>06</td>\n      <td>26501 N. VAIL ROAD</td>\n      <td>NaN</td>\n      <td>NaN</td>\n      <td>165.0</td>\n      <td>105.0</td>\n      <td>...</td>\n      <td>WCR2015-014442</td>\n      <td>NaN</td>\n      <td>165.0</td>\n      <td>2015-10-21</td>\n      <td>NaN</td>\n      <td>NaN</td>\n      <td>165.0</td>\n      <td>2015-10-21</td>\n      <td>2015.0</td>\n      <td>10.0</td>\n    </tr>\n    <tr>\n      <th>1043027</th>\n      <td>38.751944</td>\n      <td>-120.496667</td>\n      <td>11N</td>\n      <td>13E</td>\n      <td>35</td>\n      <td>PARK CREEK</td>\n      <td>NaN</td>\n      <td>NaN</td>\n      <td>220.0</td>\n      <td>200.0</td>\n      <td>...</td>\n      <td>WCR2014-014504</td>\n      <td>NaN</td>\n      <td>220.0</td>\n      <td>2014-08-30</td>\n      <td>25.0</td>\n      <td>GPM</td>\n      <td>220.0</td>\n      <td>2014-08-30</td>\n      <td>2014.0</td>\n      <td>8.0</td>\n    </tr>\n    <tr>\n      <th>1043028</th>\n      <td>38.848056</td>\n      <td>-121.497778</td>\n      <td>12N</td>\n      <td>04E</td>\n      <td>35</td>\n      <td>XXX</td>\n      <td>XXX</td>\n      <td>NaN</td>\n      <td>160.0</td>\n      <td>1.0</td>\n      <td>...</td>\n      <td>WCR2015-013869</td>\n      <td>NaN</td>\n      <td>250.0</td>\n      <td>2015-04-21</td>\n      <td>30.0</td>\n      <td>GPM</td>\n      <td>250.0</td>\n      <td>2015-04-21</td>\n      <td>2015.0</td>\n      <td>4.0</td>\n    </tr>\n    <tr>\n      <th>1043031</th>\n      <td>38.159722</td>\n      <td>-121.368056</td>\n      <td>04N</td>\n      <td>06E</td>\n      <td>31</td>\n      <td>SAME</td>\n      <td>NaN</td>\n      <td>NaN</td>\n      <td>230.0</td>\n      <td>170.0</td>\n      <td>...</td>\n      <td>WCR2014-014803</td>\n      <td>NaN</td>\n      <td>230.0</td>\n      <td>2014-07-30</td>\n      <td>NaN</td>\n      <td>NaN</td>\n      <td>230.0</td>\n      <td>2014-07-30</td>\n      <td>2014.0</td>\n      <td>7.0</td>\n    </tr>\n  </tbody>\n</table>\n<p>451264 rows × 24 columns</p>\n</div>"
     },
     "metadata": {}
    }
   ],
   "execution_count": null
  },
  {
   "cell_type": "code",
   "source": "wcr_instance.wellcompletion_subset_df",
   "metadata": {
    "cell_id": "de4c5368-63ef-48c8-8d33-eb2565eca2de",
    "tags": [],
    "deepnote_to_be_reexecuted": false,
    "source_hash": "160d1050",
    "execution_start": 1647557493527,
    "execution_millis": 965,
    "deepnote_cell_type": "code",
    "deepnote_cell_height": 611.4375,
    "deepnote_output_heights": [
     21.1875
    ]
   },
   "outputs": [
    {
     "output_type": "execute_result",
     "execution_count": 7,
     "data": {
      "application/vnd.deepnote.dataframe.v3+json": {
       "column_count": 24,
       "row_count": 451264,
       "columns": [
        {
         "name": "LATITUDE",
         "dtype": "float64"
        },
        {
         "name": "LONGITUDE",
         "dtype": "float64"
        },
        {
         "name": "TOWNSHIP",
         "dtype": "object"
        },
        {
         "name": "RANGE",
         "dtype": "object"
        },
        {
         "name": "SECTION",
         "dtype": "object"
        },
        {
         "name": "WELLLOCATION",
         "dtype": "object"
        },
        {
         "name": "CITY",
         "dtype": "object"
        },
        {
         "name": "COUNTY",
         "dtype": "object"
        },
        {
         "name": "BOTTOMOFPERFORATEDINTERVAL",
         "dtype": "float64"
        },
        {
         "name": "TOPOFPERFORATEDINTERVAL",
         "dtype": "float64"
        },
        {
         "name": "GROUNDSURFACEELEVATION",
         "dtype": "float64"
        },
        {
         "name": "STATICWATERLEVEL",
         "dtype": "float64"
        },
        {
         "name": "RECORDTYPE",
         "dtype": "object"
        },
        {
         "name": "USE",
         "dtype": "object"
        },
        {
         "name": "WCRNUMBER",
         "dtype": "object"
        },
        {
         "name": "TOTALDRILLDEPTH",
         "dtype": "float64"
        },
        {
         "name": "TOTALCOMPLETEDDEPTH",
         "dtype": "float64"
        },
        {
         "name": "DATEWORKENDED",
         "dtype": "datetime64[ns]"
        },
        {
         "name": "WELLYIELD",
         "dtype": "float64"
        },
        {
         "name": "WELLYIELDUNITOFMEASURE",
         "dtype": "object"
        },
        {
         "name": "TOTALCOMPLETEDDEPTH_CORRECTED",
         "dtype": "float64"
        },
        {
         "name": "DATEWORKENDED_CORRECTED",
         "dtype": "datetime64[ns]"
        },
        {
         "name": "YEARWORKENDED",
         "dtype": "float64"
        },
        {
         "name": "MONTHWORKENDED",
         "dtype": "float64"
        },
        {
         "name": "_deepnote_index_column",
         "dtype": "int64"
        }
       ],
       "rows": [
        {
         "LATITUDE": 37.4315,
         "LONGITUDE": -122.08,
         "TOWNSHIP": "06S",
         "RANGE": "02W",
         "SECTION": "09",
         "WELLLOCATION": "22148 Eden Canyon RD",
         "CITY": "Castro Valley",
         "COUNTY": "Alameda",
         "BOTTOMOFPERFORATEDINTERVAL": 840,
         "TOPOFPERFORATEDINTERVAL": 600,
         "GROUNDSURFACEELEVATION": "nan",
         "STATICWATERLEVEL": 600,
         "RECORDTYPE": "WellCompletion/New/Production or Monitoring/NA",
         "USE": "Domestic",
         "WCRNUMBER": "WCR2019-015599",
         "TOTALDRILLDEPTH": 840,
         "TOTALCOMPLETEDDEPTH": 840,
         "DATEWORKENDED": "2019-10-22 00:00:00",
         "WELLYIELD": 1,
         "WELLYIELDUNITOFMEASURE": "GPM",
         "TOTALCOMPLETEDDEPTH_CORRECTED": 840,
         "DATEWORKENDED_CORRECTED": "2019-10-22 00:00:00",
         "YEARWORKENDED": 2019,
         "MONTHWORKENDED": 10,
         "_deepnote_index_column": 4
        },
        {
         "LATITUDE": 37.644024,
         "LONGITUDE": -121.893386,
         "TOWNSHIP": "03S",
         "RANGE": "01E",
         "SECTION": "29",
         "WELLLOCATION": "0 CASTLEWOOD DR",
         "CITY": "PLEASANTON",
         "COUNTY": "Alameda",
         "BOTTOMOFPERFORATEDINTERVAL": 190,
         "TOPOFPERFORATEDINTERVAL": 90,
         "GROUNDSURFACEELEVATION": "nan",
         "STATICWATERLEVEL": 24,
         "RECORDTYPE": "WellCompletion/New/Production or Monitoring/NA",
         "USE": "Agriculture",
         "WCRNUMBER": "WCR2020-000099",
         "TOTALDRILLDEPTH": 230,
         "TOTALCOMPLETEDDEPTH": 210,
         "DATEWORKENDED": "2019-11-15 00:00:00",
         "WELLYIELD": 100,
         "WELLYIELDUNITOFMEASURE": "GPM",
         "TOTALCOMPLETEDDEPTH_CORRECTED": 210,
         "DATEWORKENDED_CORRECTED": "2019-11-15 00:00:00",
         "YEARWORKENDED": 2019,
         "MONTHWORKENDED": 11,
         "_deepnote_index_column": 67
        },
        {
         "LATITUDE": 37.65824,
         "LONGITUDE": -121.85086,
         "TOWNSHIP": "03S",
         "RANGE": "01E",
         "SECTION": "22",
         "WELLLOCATION": "nan",
         "CITY": "nan",
         "COUNTY": "Alameda",
         "BOTTOMOFPERFORATEDINTERVAL": 220,
         "TOPOFPERFORATEDINTERVAL": 120,
         "GROUNDSURFACEELEVATION": "nan",
         "STATICWATERLEVEL": 80,
         "RECORDTYPE": "WellCompletion/New/Production or Monitoring/NA",
         "USE": "Agriculture",
         "WCRNUMBER": "WCR0172727",
         "TOTALDRILLDEPTH": "nan",
         "TOTALCOMPLETEDDEPTH": 240,
         "DATEWORKENDED": "NaT",
         "WELLYIELD": 100,
         "WELLYIELDUNITOFMEASURE": "GPM",
         "TOTALCOMPLETEDDEPTH_CORRECTED": 240,
         "DATEWORKENDED_CORRECTED": "NaT",
         "YEARWORKENDED": "nan",
         "MONTHWORKENDED": "nan",
         "_deepnote_index_column": 90
        },
        {
         "LATITUDE": 37.68732,
         "LONGITUDE": -121.85073,
         "TOWNSHIP": "03S",
         "RANGE": "01E",
         "SECTION": "10",
         "WELLLOCATION": "EL CHARRO ROAD-NW COMER OF LAKE H",
         "CITY": "PLEASANTON",
         "COUNTY": "Alameda",
         "BOTTOMOFPERFORATEDINTERVAL": 100,
         "TOPOFPERFORATEDINTERVAL": 0,
         "GROUNDSURFACEELEVATION": "nan",
         "STATICWATERLEVEL": "nan",
         "RECORDTYPE": "WellCompletion/New/Production or Monitoring/NA",
         "USE": "Public",
         "WCRNUMBER": "WCR2014-016112",
         "TOTALDRILLDEPTH": "nan",
         "TOTALCOMPLETEDDEPTH": 205,
         "DATEWORKENDED": "2014-05-21 00:00:00",
         "WELLYIELD": "nan",
         "WELLYIELDUNITOFMEASURE": "nan",
         "TOTALCOMPLETEDDEPTH_CORRECTED": 205,
         "DATEWORKENDED_CORRECTED": "2014-05-21 00:00:00",
         "YEARWORKENDED": 2014,
         "MONTHWORKENDED": 5,
         "_deepnote_index_column": 130
        },
        {
         "LATITUDE": 37.54215,
         "LONGITUDE": -121.99658,
         "TOWNSHIP": "04S",
         "RANGE": "01W",
         "SECTION": "32",
         "WELLLOCATION": "nan",
         "CITY": "nan",
         "COUNTY": "Alameda",
         "BOTTOMOFPERFORATEDINTERVAL": 380,
         "TOPOFPERFORATEDINTERVAL": 351,
         "GROUNDSURFACEELEVATION": "nan",
         "STATICWATERLEVEL": "nan",
         "RECORDTYPE": "WellCompletion/New/Production or Monitoring/NA",
         "USE": "Agriculture",
         "WCRNUMBER": "WCR0079408",
         "TOTALDRILLDEPTH": "nan",
         "TOTALCOMPLETEDDEPTH": 396,
         "DATEWORKENDED": "1954-04-01 00:00:00",
         "WELLYIELD": 58,
         "WELLYIELDUNITOFMEASURE": "GPM",
         "TOTALCOMPLETEDDEPTH_CORRECTED": 396,
         "DATEWORKENDED_CORRECTED": "1954-04-01 00:00:00",
         "YEARWORKENDED": 1954,
         "MONTHWORKENDED": 4,
         "_deepnote_index_column": 196
        },
        {
         "LATITUDE": 37.73106,
         "LONGITUDE": -121.86867,
         "TOWNSHIP": "02S",
         "RANGE": "01E",
         "SECTION": "28",
         "WELLLOCATION": "nan",
         "CITY": "nan",
         "COUNTY": "Alameda",
         "BOTTOMOFPERFORATEDINTERVAL": 212,
         "TOPOFPERFORATEDINTERVAL": 50,
         "GROUNDSURFACEELEVATION": "nan",
         "STATICWATERLEVEL": 50,
         "RECORDTYPE": "WellCompletion/New/Production or Monitoring/NA",
         "USE": "Domestic",
         "WCRNUMBER": "WCR0234291",
         "TOTALDRILLDEPTH": "nan",
         "TOTALCOMPLETEDDEPTH": "nan",
         "DATEWORKENDED": "NaT",
         "WELLYIELD": 8,
         "WELLYIELDUNITOFMEASURE": "GPM",
         "TOTALCOMPLETEDDEPTH_CORRECTED": "nan",
         "DATEWORKENDED_CORRECTED": "NaT",
         "YEARWORKENDED": "nan",
         "MONTHWORKENDED": "nan",
         "_deepnote_index_column": 199
        },
        {
         "LATITUDE": 37.74466,
         "LONGITUDE": -122.16127,
         "TOWNSHIP": "02S",
         "RANGE": "03W",
         "SECTION": "23",
         "WELLLOCATION": "SAME",
         "CITY": "nan",
         "COUNTY": "Alameda",
         "BOTTOMOFPERFORATEDINTERVAL": 80,
         "TOPOFPERFORATEDINTERVAL": 40,
         "GROUNDSURFACEELEVATION": "nan",
         "STATICWATERLEVEL": 37,
         "RECORDTYPE": "WellCompletion/New/Production or Monitoring/NA",
         "USE": "Agriculture",
         "WCRNUMBER": "WCR0234300",
         "TOTALDRILLDEPTH": "nan",
         "TOTALCOMPLETEDDEPTH": 70,
         "DATEWORKENDED": "1977-10-30 00:00:00",
         "WELLYIELD": "nan",
         "WELLYIELDUNITOFMEASURE": "nan",
         "TOTALCOMPLETEDDEPTH_CORRECTED": 70,
         "DATEWORKENDED_CORRECTED": "1977-10-30 00:00:00",
         "YEARWORKENDED": 1977,
         "MONTHWORKENDED": 10,
         "_deepnote_index_column": 200
        },
        {
         "LATITUDE": 37.76938,
         "LONGITUDE": -122.23815,
         "TOWNSHIP": "02S",
         "RANGE": "03W",
         "SECTION": "07",
         "WELLLOCATION": "2307 CLEMENT AVE",
         "CITY": "ALAMEDA",
         "COUNTY": "Alameda",
         "BOTTOMOFPERFORATEDINTERVAL": 80,
         "TOPOFPERFORATEDINTERVAL": 40,
         "GROUNDSURFACEELEVATION": "nan",
         "STATICWATERLEVEL": 6,
         "RECORDTYPE": "WellCompletion/New/Production or Monitoring/NA",
         "USE": "Industrial",
         "WCRNUMBER": "WCR0018549",
         "TOTALDRILLDEPTH": "nan",
         "TOTALCOMPLETEDDEPTH": 82,
         "DATEWORKENDED": "1977-04-18 00:00:00",
         "WELLYIELD": "nan",
         "WELLYIELDUNITOFMEASURE": "nan",
         "TOTALCOMPLETEDDEPTH_CORRECTED": 82,
         "DATEWORKENDED_CORRECTED": "1977-04-18 00:00:00",
         "YEARWORKENDED": 1977,
         "MONTHWORKENDED": 4,
         "_deepnote_index_column": 204
        },
        {
         "LATITUDE": 37.77148,
         "LONGITUDE": -122.07072,
         "TOWNSHIP": "02S",
         "RANGE": "02W",
         "SECTION": "10",
         "WELLLOCATION": "nan",
         "CITY": "nan",
         "COUNTY": "Alameda",
         "BOTTOMOFPERFORATEDINTERVAL": 59,
         "TOPOFPERFORATEDINTERVAL": 20,
         "GROUNDSURFACEELEVATION": "nan",
         "STATICWATERLEVEL": 12,
         "RECORDTYPE": "WellCompletion/New/Production or Monitoring/NA",
         "USE": "Agriculture",
         "WCRNUMBER": "WCR0213847",
         "TOTALDRILLDEPTH": "nan",
         "TOTALCOMPLETEDDEPTH": 59,
         "DATEWORKENDED": "1977-12-17 00:00:00",
         "WELLYIELD": "nan",
         "WELLYIELDUNITOFMEASURE": "nan",
         "TOTALCOMPLETEDDEPTH_CORRECTED": 59,
         "DATEWORKENDED_CORRECTED": "1977-12-17 00:00:00",
         "YEARWORKENDED": 1977,
         "MONTHWORKENDED": 12,
         "_deepnote_index_column": 207
        },
        {
         "LATITUDE": 37.74506,
         "LONGITUDE": -121.74231,
         "TOWNSHIP": "02S",
         "RANGE": "02E",
         "SECTION": "22",
         "WELLLOCATION": "nan",
         "CITY": "nan",
         "COUNTY": "Alameda",
         "BOTTOMOFPERFORATEDINTERVAL": "nan",
         "TOPOFPERFORATEDINTERVAL": 26,
         "GROUNDSURFACEELEVATION": "nan",
         "STATICWATERLEVEL": "nan",
         "RECORDTYPE": "WellCompletion/New/Production or Monitoring/NA",
         "USE": "Domestic",
         "WCRNUMBER": "WCR0040828",
         "TOTALDRILLDEPTH": "nan",
         "TOTALCOMPLETEDDEPTH": 105,
         "DATEWORKENDED": "NaT",
         "WELLYIELD": "nan",
         "WELLYIELDUNITOFMEASURE": "nan",
         "TOTALCOMPLETEDDEPTH_CORRECTED": 105,
         "DATEWORKENDED_CORRECTED": "NaT",
         "YEARWORKENDED": "nan",
         "MONTHWORKENDED": "nan",
         "_deepnote_index_column": 213
        }
       ]
      },
      "text/plain": "          LATITUDE   LONGITUDE TOWNSHIP RANGE SECTION  \\\n4        37.431500 -122.080000      06S   02W      09   \n67       37.644024 -121.893386      03S   01E      29   \n90       37.658240 -121.850860      03S   01E      22   \n130      37.687320 -121.850730      03S   01E      10   \n196      37.542150 -121.996580      04S   01W      32   \n...            ...         ...      ...   ...     ...   \n1042989  37.614012 -121.817013      04S   01E      01   \n1042993  38.227086 -121.466892      04N   05E      06   \n1043027  38.751944 -120.496667      11N   13E      35   \n1043028  38.848056 -121.497778      12N   04E      35   \n1043031  38.159722 -121.368056      04N   06E      31   \n\n                              WELLLOCATION           CITY   COUNTY  \\\n4                     22148 Eden Canyon RD  Castro Valley  Alameda   \n67                         0 CASTLEWOOD DR     PLEASANTON  Alameda   \n90                                     NaN            NaN  Alameda   \n130      EL CHARRO ROAD-NW COMER OF LAKE H     PLEASANTON  Alameda   \n196                                    NaN            NaN  Alameda   \n...                                    ...            ...      ...   \n1042989               7010 VALLECITOS ROAD          SUNOL      NaN   \n1042993                 26501 N. VAIL ROAD            NaN      NaN   \n1043027                         PARK CREEK            NaN      NaN   \n1043028                                XXX            XXX      NaN   \n1043031                               SAME            NaN      NaN   \n\n         BOTTOMOFPERFORATEDINTERVAL  TOPOFPERFORATEDINTERVAL  ...  \\\n4                             840.0                    600.0  ...   \n67                            190.0                     90.0  ...   \n90                            220.0                    120.0  ...   \n130                           100.0                      0.0  ...   \n196                           380.0                    351.0  ...   \n...                             ...                      ...  ...   \n1042989                       297.0                    145.0  ...   \n1042993                       165.0                    105.0  ...   \n1043027                       220.0                    200.0  ...   \n1043028                       160.0                      1.0  ...   \n1043031                       230.0                    170.0  ...   \n\n              WCRNUMBER  TOTALDRILLDEPTH TOTALCOMPLETEDDEPTH DATEWORKENDED  \\\n4        WCR2019-015599            840.0               840.0    2019-10-22   \n67       WCR2020-000099            230.0               210.0    2019-11-15   \n90           WCR0172727              NaN               240.0           NaT   \n130      WCR2014-016112              NaN               205.0    2014-05-21   \n196          WCR0079408              NaN               396.0    1954-04-01   \n...                 ...              ...                 ...           ...   \n1042989  WCR2011-011692              NaN               320.0    2011-08-02   \n1042993  WCR2015-014442              NaN               165.0    2015-10-21   \n1043027  WCR2014-014504              NaN               220.0    2014-08-30   \n1043028  WCR2015-013869              NaN               250.0    2015-04-21   \n1043031  WCR2014-014803              NaN               230.0    2014-07-30   \n\n        WELLYIELD  WELLYIELDUNITOFMEASURE  TOTALCOMPLETEDDEPTH_CORRECTED  \\\n4             1.0                     GPM                          840.0   \n67          100.0                     GPM                          210.0   \n90          100.0                     GPM                          240.0   \n130           NaN                     NaN                          205.0   \n196          58.0                     GPM                          396.0   \n...           ...                     ...                            ...   \n1042989       NaN                     NaN                          320.0   \n1042993       NaN                     NaN                          165.0   \n1043027      25.0                     GPM                          220.0   \n1043028      30.0                     GPM                          250.0   \n1043031       NaN                     NaN                          230.0   \n\n        DATEWORKENDED_CORRECTED  YEARWORKENDED MONTHWORKENDED  \n4                    2019-10-22         2019.0           10.0  \n67                   2019-11-15         2019.0           11.0  \n90                          NaT            NaN            NaN  \n130                  2014-05-21         2014.0            5.0  \n196                  1954-04-01         1954.0            4.0  \n...                         ...            ...            ...  \n1042989              2011-08-02         2011.0            8.0  \n1042993              2015-10-21         2015.0           10.0  \n1043027              2014-08-30         2014.0            8.0  \n1043028              2015-04-21         2015.0            4.0  \n1043031              2014-07-30         2014.0            7.0  \n\n[451264 rows x 24 columns]",
      "text/html": "<div>\n<style scoped>\n    .dataframe tbody tr th:only-of-type {\n        vertical-align: middle;\n    }\n\n    .dataframe tbody tr th {\n        vertical-align: top;\n    }\n\n    .dataframe thead th {\n        text-align: right;\n    }\n</style>\n<table border=\"1\" class=\"dataframe\">\n  <thead>\n    <tr style=\"text-align: right;\">\n      <th></th>\n      <th>LATITUDE</th>\n      <th>LONGITUDE</th>\n      <th>TOWNSHIP</th>\n      <th>RANGE</th>\n      <th>SECTION</th>\n      <th>WELLLOCATION</th>\n      <th>CITY</th>\n      <th>COUNTY</th>\n      <th>BOTTOMOFPERFORATEDINTERVAL</th>\n      <th>TOPOFPERFORATEDINTERVAL</th>\n      <th>...</th>\n      <th>WCRNUMBER</th>\n      <th>TOTALDRILLDEPTH</th>\n      <th>TOTALCOMPLETEDDEPTH</th>\n      <th>DATEWORKENDED</th>\n      <th>WELLYIELD</th>\n      <th>WELLYIELDUNITOFMEASURE</th>\n      <th>TOTALCOMPLETEDDEPTH_CORRECTED</th>\n      <th>DATEWORKENDED_CORRECTED</th>\n      <th>YEARWORKENDED</th>\n      <th>MONTHWORKENDED</th>\n    </tr>\n  </thead>\n  <tbody>\n    <tr>\n      <th>4</th>\n      <td>37.431500</td>\n      <td>-122.080000</td>\n      <td>06S</td>\n      <td>02W</td>\n      <td>09</td>\n      <td>22148 Eden Canyon RD</td>\n      <td>Castro Valley</td>\n      <td>Alameda</td>\n      <td>840.0</td>\n      <td>600.0</td>\n      <td>...</td>\n      <td>WCR2019-015599</td>\n      <td>840.0</td>\n      <td>840.0</td>\n      <td>2019-10-22</td>\n      <td>1.0</td>\n      <td>GPM</td>\n      <td>840.0</td>\n      <td>2019-10-22</td>\n      <td>2019.0</td>\n      <td>10.0</td>\n    </tr>\n    <tr>\n      <th>67</th>\n      <td>37.644024</td>\n      <td>-121.893386</td>\n      <td>03S</td>\n      <td>01E</td>\n      <td>29</td>\n      <td>0 CASTLEWOOD DR</td>\n      <td>PLEASANTON</td>\n      <td>Alameda</td>\n      <td>190.0</td>\n      <td>90.0</td>\n      <td>...</td>\n      <td>WCR2020-000099</td>\n      <td>230.0</td>\n      <td>210.0</td>\n      <td>2019-11-15</td>\n      <td>100.0</td>\n      <td>GPM</td>\n      <td>210.0</td>\n      <td>2019-11-15</td>\n      <td>2019.0</td>\n      <td>11.0</td>\n    </tr>\n    <tr>\n      <th>90</th>\n      <td>37.658240</td>\n      <td>-121.850860</td>\n      <td>03S</td>\n      <td>01E</td>\n      <td>22</td>\n      <td>NaN</td>\n      <td>NaN</td>\n      <td>Alameda</td>\n      <td>220.0</td>\n      <td>120.0</td>\n      <td>...</td>\n      <td>WCR0172727</td>\n      <td>NaN</td>\n      <td>240.0</td>\n      <td>NaT</td>\n      <td>100.0</td>\n      <td>GPM</td>\n      <td>240.0</td>\n      <td>NaT</td>\n      <td>NaN</td>\n      <td>NaN</td>\n    </tr>\n    <tr>\n      <th>130</th>\n      <td>37.687320</td>\n      <td>-121.850730</td>\n      <td>03S</td>\n      <td>01E</td>\n      <td>10</td>\n      <td>EL CHARRO ROAD-NW COMER OF LAKE H</td>\n      <td>PLEASANTON</td>\n      <td>Alameda</td>\n      <td>100.0</td>\n      <td>0.0</td>\n      <td>...</td>\n      <td>WCR2014-016112</td>\n      <td>NaN</td>\n      <td>205.0</td>\n      <td>2014-05-21</td>\n      <td>NaN</td>\n      <td>NaN</td>\n      <td>205.0</td>\n      <td>2014-05-21</td>\n      <td>2014.0</td>\n      <td>5.0</td>\n    </tr>\n    <tr>\n      <th>196</th>\n      <td>37.542150</td>\n      <td>-121.996580</td>\n      <td>04S</td>\n      <td>01W</td>\n      <td>32</td>\n      <td>NaN</td>\n      <td>NaN</td>\n      <td>Alameda</td>\n      <td>380.0</td>\n      <td>351.0</td>\n      <td>...</td>\n      <td>WCR0079408</td>\n      <td>NaN</td>\n      <td>396.0</td>\n      <td>1954-04-01</td>\n      <td>58.0</td>\n      <td>GPM</td>\n      <td>396.0</td>\n      <td>1954-04-01</td>\n      <td>1954.0</td>\n      <td>4.0</td>\n    </tr>\n    <tr>\n      <th>...</th>\n      <td>...</td>\n      <td>...</td>\n      <td>...</td>\n      <td>...</td>\n      <td>...</td>\n      <td>...</td>\n      <td>...</td>\n      <td>...</td>\n      <td>...</td>\n      <td>...</td>\n      <td>...</td>\n      <td>...</td>\n      <td>...</td>\n      <td>...</td>\n      <td>...</td>\n      <td>...</td>\n      <td>...</td>\n      <td>...</td>\n      <td>...</td>\n      <td>...</td>\n      <td>...</td>\n    </tr>\n    <tr>\n      <th>1042989</th>\n      <td>37.614012</td>\n      <td>-121.817013</td>\n      <td>04S</td>\n      <td>01E</td>\n      <td>01</td>\n      <td>7010 VALLECITOS ROAD</td>\n      <td>SUNOL</td>\n      <td>NaN</td>\n      <td>297.0</td>\n      <td>145.0</td>\n      <td>...</td>\n      <td>WCR2011-011692</td>\n      <td>NaN</td>\n      <td>320.0</td>\n      <td>2011-08-02</td>\n      <td>NaN</td>\n      <td>NaN</td>\n      <td>320.0</td>\n      <td>2011-08-02</td>\n      <td>2011.0</td>\n      <td>8.0</td>\n    </tr>\n    <tr>\n      <th>1042993</th>\n      <td>38.227086</td>\n      <td>-121.466892</td>\n      <td>04N</td>\n      <td>05E</td>\n      <td>06</td>\n      <td>26501 N. VAIL ROAD</td>\n      <td>NaN</td>\n      <td>NaN</td>\n      <td>165.0</td>\n      <td>105.0</td>\n      <td>...</td>\n      <td>WCR2015-014442</td>\n      <td>NaN</td>\n      <td>165.0</td>\n      <td>2015-10-21</td>\n      <td>NaN</td>\n      <td>NaN</td>\n      <td>165.0</td>\n      <td>2015-10-21</td>\n      <td>2015.0</td>\n      <td>10.0</td>\n    </tr>\n    <tr>\n      <th>1043027</th>\n      <td>38.751944</td>\n      <td>-120.496667</td>\n      <td>11N</td>\n      <td>13E</td>\n      <td>35</td>\n      <td>PARK CREEK</td>\n      <td>NaN</td>\n      <td>NaN</td>\n      <td>220.0</td>\n      <td>200.0</td>\n      <td>...</td>\n      <td>WCR2014-014504</td>\n      <td>NaN</td>\n      <td>220.0</td>\n      <td>2014-08-30</td>\n      <td>25.0</td>\n      <td>GPM</td>\n      <td>220.0</td>\n      <td>2014-08-30</td>\n      <td>2014.0</td>\n      <td>8.0</td>\n    </tr>\n    <tr>\n      <th>1043028</th>\n      <td>38.848056</td>\n      <td>-121.497778</td>\n      <td>12N</td>\n      <td>04E</td>\n      <td>35</td>\n      <td>XXX</td>\n      <td>XXX</td>\n      <td>NaN</td>\n      <td>160.0</td>\n      <td>1.0</td>\n      <td>...</td>\n      <td>WCR2015-013869</td>\n      <td>NaN</td>\n      <td>250.0</td>\n      <td>2015-04-21</td>\n      <td>30.0</td>\n      <td>GPM</td>\n      <td>250.0</td>\n      <td>2015-04-21</td>\n      <td>2015.0</td>\n      <td>4.0</td>\n    </tr>\n    <tr>\n      <th>1043031</th>\n      <td>38.159722</td>\n      <td>-121.368056</td>\n      <td>04N</td>\n      <td>06E</td>\n      <td>31</td>\n      <td>SAME</td>\n      <td>NaN</td>\n      <td>NaN</td>\n      <td>230.0</td>\n      <td>170.0</td>\n      <td>...</td>\n      <td>WCR2014-014803</td>\n      <td>NaN</td>\n      <td>230.0</td>\n      <td>2014-07-30</td>\n      <td>NaN</td>\n      <td>NaN</td>\n      <td>230.0</td>\n      <td>2014-07-30</td>\n      <td>2014.0</td>\n      <td>7.0</td>\n    </tr>\n  </tbody>\n</table>\n<p>451264 rows × 24 columns</p>\n</div>"
     },
     "metadata": {}
    }
   ],
   "execution_count": null
  },
  {
   "cell_type": "code",
   "source": "wcr_instance.draw_mising_data_chart()",
   "metadata": {
    "cell_id": "5c0832a7-b191-4418-a9a0-51bfeadc9ba6",
    "tags": [],
    "deepnote_to_be_reexecuted": false,
    "source_hash": "f5d99838",
    "execution_start": 1647557539221,
    "execution_millis": 708,
    "deepnote_cell_type": "code",
    "deepnote_cell_height": 628,
    "deepnote_output_heights": [
     531
    ]
   },
   "outputs": [
    {
     "output_type": "execute_result",
     "execution_count": 8,
     "data": {
      "text/html": "\n<div id=\"altair-viz-afaf2b062aac4c838d7a7219d0f4262f\"></div>\n<script type=\"text/javascript\">\n  var VEGA_DEBUG = (typeof VEGA_DEBUG == \"undefined\") ? {} : VEGA_DEBUG;\n  (function(spec, embedOpt){\n    let outputDiv = document.currentScript.previousElementSibling;\n    if (outputDiv.id !== \"altair-viz-afaf2b062aac4c838d7a7219d0f4262f\") {\n      outputDiv = document.getElementById(\"altair-viz-afaf2b062aac4c838d7a7219d0f4262f\");\n    }\n    const paths = {\n      \"vega\": \"https://cdn.jsdelivr.net/npm//vega@5?noext\",\n      \"vega-lib\": \"https://cdn.jsdelivr.net/npm//vega-lib?noext\",\n      \"vega-lite\": \"https://cdn.jsdelivr.net/npm//vega-lite@4.17.0?noext\",\n      \"vega-embed\": \"https://cdn.jsdelivr.net/npm//vega-embed@6?noext\",\n    };\n\n    function maybeLoadScript(lib, version) {\n      var key = `${lib.replace(\"-\", \"\")}_version`;\n      return (VEGA_DEBUG[key] == version) ?\n        Promise.resolve(paths[lib]) :\n        new Promise(function(resolve, reject) {\n          var s = document.createElement('script');\n          document.getElementsByTagName(\"head\")[0].appendChild(s);\n          s.async = true;\n          s.onload = () => {\n            VEGA_DEBUG[key] = version;\n            return resolve(paths[lib]);\n          };\n          s.onerror = () => reject(`Error loading script: ${paths[lib]}`);\n          s.src = paths[lib];\n        });\n    }\n\n    function showError(err) {\n      outputDiv.innerHTML = `<div class=\"error\" style=\"color:red;\">${err}</div>`;\n      throw err;\n    }\n\n    function displayChart(vegaEmbed) {\n      vegaEmbed(outputDiv, spec, embedOpt)\n        .catch(err => showError(`Javascript Error: ${err.message}<br>This usually means there's a typo in your chart specification. See the javascript console for the full traceback.`));\n    }\n\n    if(typeof define === \"function\" && define.amd) {\n      requirejs.config({paths});\n      require([\"vega-embed\"], displayChart, err => showError(`Error loading script: ${err.message}`));\n    } else {\n      maybeLoadScript(\"vega\", \"5\")\n        .then(() => maybeLoadScript(\"vega-lite\", \"4.17.0\"))\n        .then(() => maybeLoadScript(\"vega-embed\", \"6\"))\n        .catch(showError)\n        .then(() => displayChart(vegaEmbed));\n    }\n  })({\"config\": {\"view\": {\"continuousWidth\": 400, \"continuousHeight\": 300}}, \"layer\": [{\"mark\": \"bar\", \"encoding\": {\"color\": {\"value\": \"orange\"}, \"tooltip\": [{\"field\": \"column_name\", \"type\": \"nominal\"}, {\"field\": \"percent_missing\", \"type\": \"quantitative\"}], \"x\": {\"field\": \"column_name\", \"sort\": [\"GROUNDSURFACEELEVATION\", \"TOTALDRILLDEPTH\", \"STATICWATERLEVEL\", \"WELLYIELD\", \"WELLYIELDUNITOFMEASURE\", \"WELLLOCATION\", \"CITY\", \"BOTTOMOFPERFORATEDINTERVAL\", \"TOPOFPERFORATEDINTERVAL\", \"YEARWORKENDED\", \"DATEWORKENDED_CORRECTED\", \"MONTHWORKENDED\", \"DATEWORKENDED\", \"TOTALCOMPLETEDDEPTH_CORRECTED\", \"TOTALCOMPLETEDDEPTH\", \"SECTION\", \"COUNTY\", \"RANGE\", \"TOWNSHIP\", \"LATITUDE\", \"WCRNUMBER\", \"USE\", \"LONGITUDE\", \"RECORDTYPE\"], \"type\": \"nominal\"}, \"y\": {\"aggregate\": \"sum\", \"axis\": {\"format\": \"%\"}, \"field\": \"percent_missing\", \"stack\": \"normalize\", \"type\": \"quantitative\"}}}, {\"mark\": {\"type\": \"text\", \"align\": \"center\", \"color\": \"black\", \"fontSize\": 10}, \"encoding\": {\"color\": {\"value\": \"orange\"}, \"text\": {\"field\": \"percent_missing\", \"format\": \".0%\", \"type\": \"quantitative\"}, \"tooltip\": [{\"field\": \"column_name\", \"type\": \"nominal\"}, {\"field\": \"percent_missing\", \"type\": \"quantitative\"}], \"x\": {\"field\": \"column_name\", \"sort\": [\"GROUNDSURFACEELEVATION\", \"TOTALDRILLDEPTH\", \"STATICWATERLEVEL\", \"WELLYIELD\", \"WELLYIELDUNITOFMEASURE\", \"WELLLOCATION\", \"CITY\", \"BOTTOMOFPERFORATEDINTERVAL\", \"TOPOFPERFORATEDINTERVAL\", \"YEARWORKENDED\", \"DATEWORKENDED_CORRECTED\", \"MONTHWORKENDED\", \"DATEWORKENDED\", \"TOTALCOMPLETEDDEPTH_CORRECTED\", \"TOTALCOMPLETEDDEPTH\", \"SECTION\", \"COUNTY\", \"RANGE\", \"TOWNSHIP\", \"LATITUDE\", \"WCRNUMBER\", \"USE\", \"LONGITUDE\", \"RECORDTYPE\"], \"type\": \"nominal\"}, \"y\": {\"field\": \"position\", \"type\": \"quantitative\"}}, \"transform\": [{\"calculate\": \"datum.percent_missing + 0.05 * datum.percent_missing / abs(datum.percent_missing)\", \"as\": \"position\"}]}], \"data\": {\"name\": \"data-ada3afc385266827e3ad7bcb5125be00\"}, \"$schema\": \"https://vega.github.io/schema/vega-lite/v4.17.0.json\", \"datasets\": {\"data-ada3afc385266827e3ad7bcb5125be00\": [{\"column_name\": \"GROUNDSURFACEELEVATION\", \"percent_missing\": 0.9936600304921288}, {\"column_name\": \"TOTALDRILLDEPTH\", \"percent_missing\": 0.9452050241100554}, {\"column_name\": \"STATICWATERLEVEL\", \"percent_missing\": 0.6784299212877606}, {\"column_name\": \"WELLYIELD\", \"percent_missing\": 0.5671868352006808}, {\"column_name\": \"WELLYIELDUNITOFMEASURE\", \"percent_missing\": 0.5671868352006808}, {\"column_name\": \"WELLLOCATION\", \"percent_missing\": 0.5167019748971777}, {\"column_name\": \"CITY\", \"percent_missing\": 0.49763774641894765}, {\"column_name\": \"BOTTOMOFPERFORATEDINTERVAL\", \"percent_missing\": 0.41645245355268756}, {\"column_name\": \"TOPOFPERFORATEDINTERVAL\", \"percent_missing\": 0.4159117501063679}, {\"column_name\": \"YEARWORKENDED\", \"percent_missing\": 0.038002145085803435}, {\"column_name\": \"DATEWORKENDED_CORRECTED\", \"percent_missing\": 0.038002145085803435}, {\"column_name\": \"MONTHWORKENDED\", \"percent_missing\": 0.038002145085803435}, {\"column_name\": \"DATEWORKENDED\", \"percent_missing\": 0.03792015316976315}, {\"column_name\": \"TOTALCOMPLETEDDEPTH_CORRECTED\", \"percent_missing\": 0.03712017798893774}, {\"column_name\": \"TOTALCOMPLETEDDEPTH\", \"percent_missing\": 0.03597007516664303}, {\"column_name\": \"SECTION\", \"percent_missing\": 0.00025040774358247057}, {\"column_name\": \"COUNTY\", \"percent_missing\": 8.42079137710963e-05}, {\"column_name\": \"RANGE\", \"percent_missing\": 5.7615941001276415e-05}, {\"column_name\": \"TOWNSHIP\", \"percent_missing\": 4.210395688554815e-05}, {\"column_name\": \"LATITUDE\", \"percent_missing\": 0.0}, {\"column_name\": \"WCRNUMBER\", \"percent_missing\": 0.0}, {\"column_name\": \"USE\", \"percent_missing\": 0.0}, {\"column_name\": \"LONGITUDE\", \"percent_missing\": 0.0}, {\"column_name\": \"RECORDTYPE\", \"percent_missing\": 0.0}]}}, {\"mode\": \"vega-lite\"});\n</script>",
      "text/plain": "alt.LayerChart(...)"
     },
     "metadata": {}
    }
   ],
   "execution_count": null
  },
  {
   "cell_type": "code",
   "source": "wcr_instance.merge_data_plss()",
   "metadata": {
    "cell_id": "18c7b3aa-1dd2-481a-b53f-4ee03bb8981a",
    "tags": [],
    "deepnote_to_be_reexecuted": false,
    "source_hash": "da4256ea",
    "execution_start": 1647557619819,
    "execution_millis": 1,
    "deepnote_cell_type": "code",
    "deepnote_cell_height": 81
   },
   "outputs": [],
   "execution_count": null
  },
  {
   "cell_type": "code",
   "source": "wcr_instance.wellcompletion_subset_plss.sample(5)",
   "metadata": {
    "cell_id": "e4bdbe8b-96b4-4385-ab7c-fad3986d2acf",
    "tags": [],
    "deepnote_to_be_reexecuted": false,
    "source_hash": "8b88381c",
    "execution_start": 1647557641224,
    "execution_millis": 120,
    "deepnote_cell_type": "code",
    "deepnote_cell_height": 406.4375
   },
   "outputs": [
    {
     "output_type": "execute_result",
     "execution_count": 12,
     "data": {
      "application/vnd.deepnote.dataframe.v3+json": {
       "column_count": 34,
       "row_count": 5,
       "columns": [
        {
         "name": "LATITUDE",
         "dtype": "float64",
         "stats": {
          "unique_count": 5,
          "nan_count": 0,
          "min": "36.56877",
          "max": "38.145",
          "histogram": [
           {
            "bin_start": 36.56877,
            "bin_end": 36.726393,
            "count": 1
           },
           {
            "bin_start": 36.726393,
            "bin_end": 36.884016,
            "count": 0
           },
           {
            "bin_start": 36.884016,
            "bin_end": 37.041639,
            "count": 0
           },
           {
            "bin_start": 37.041639,
            "bin_end": 37.199262000000004,
            "count": 0
           },
           {
            "bin_start": 37.199262000000004,
            "bin_end": 37.356885000000005,
            "count": 0
           },
           {
            "bin_start": 37.356885000000005,
            "bin_end": 37.514508,
            "count": 1
           },
           {
            "bin_start": 37.514508,
            "bin_end": 37.672131,
            "count": 0
           },
           {
            "bin_start": 37.672131,
            "bin_end": 37.829754,
            "count": 1
           },
           {
            "bin_start": 37.829754,
            "bin_end": 37.987377,
            "count": 0
           },
           {
            "bin_start": 37.987377,
            "bin_end": 38.145,
            "count": 2
           }
          ]
         }
        },
        {
         "name": "LONGITUDE",
         "dtype": "float64",
         "stats": {
          "unique_count": 5,
          "nan_count": 0,
          "min": "-121.4857",
          "max": "-119.89019",
          "histogram": [
           {
            "bin_start": -121.4857,
            "bin_end": -121.326149,
            "count": 1
           },
           {
            "bin_start": -121.326149,
            "bin_end": -121.166598,
            "count": 0
           },
           {
            "bin_start": -121.166598,
            "bin_end": -121.007047,
            "count": 1
           },
           {
            "bin_start": -121.007047,
            "bin_end": -120.84749599999999,
            "count": 2
           },
           {
            "bin_start": -120.84749599999999,
            "bin_end": -120.687945,
            "count": 0
           },
           {
            "bin_start": -120.687945,
            "bin_end": -120.528394,
            "count": 0
           },
           {
            "bin_start": -120.528394,
            "bin_end": -120.368843,
            "count": 0
           },
           {
            "bin_start": -120.368843,
            "bin_end": -120.209292,
            "count": 0
           },
           {
            "bin_start": -120.209292,
            "bin_end": -120.049741,
            "count": 0
           },
           {
            "bin_start": -120.049741,
            "bin_end": -119.89019,
            "count": 1
           }
          ]
         }
        },
        {
         "name": "TOWNSHIP",
         "dtype": "object",
         "stats": {
          "unique_count": 4,
          "nan_count": 0,
          "categories": [
           {
            "name": "03N",
            "count": 2
           },
           {
            "name": "02S",
            "count": 1
           },
           {
            "name": "2 others",
            "count": 2
           }
          ]
         }
        },
        {
         "name": "RANGE",
         "dtype": "object",
         "stats": {
          "unique_count": 5,
          "nan_count": 0,
          "categories": [
           {
            "name": "04E",
            "count": 1
           },
           {
            "name": "09E",
            "count": 1
           },
           {
            "name": "3 others",
            "count": 3
           }
          ]
         }
        },
        {
         "name": "SECTION",
         "dtype": "object",
         "stats": {
          "unique_count": 5,
          "nan_count": 0,
          "categories": [
           {
            "name": "25",
            "count": 1
           },
           {
            "name": "12",
            "count": 1
           },
           {
            "name": "3 others",
            "count": 3
           }
          ]
         }
        },
        {
         "name": "WELLLOCATION",
         "dtype": "object",
         "stats": {
          "unique_count": 4,
          "nan_count": 1,
          "categories": [
           {
            "name": "FAITH HOME RD",
            "count": 1
           },
           {
            "name": "3 others",
            "count": 3
           },
           {
            "name": "Missing",
            "count": 1
           }
          ]
         }
        },
        {
         "name": "CITY",
         "dtype": "object",
         "stats": {
          "unique_count": 4,
          "nan_count": 1,
          "categories": [
           {
            "name": "TRACY",
            "count": 1
           },
           {
            "name": "3 others",
            "count": 3
           },
           {
            "name": "Missing",
            "count": 1
           }
          ]
         }
        },
        {
         "name": "COUNTY",
         "dtype": "object",
         "stats": {
          "unique_count": 4,
          "nan_count": 0,
          "categories": [
           {
            "name": "San Joaquin",
            "count": 2
           },
           {
            "name": "Stanislaus",
            "count": 1
           },
           {
            "name": "2 others",
            "count": 2
           }
          ]
         }
        },
        {
         "name": "BOTTOMOFPERFORATEDINTERVAL",
         "dtype": "float64",
         "stats": {
          "unique_count": 3,
          "nan_count": 2,
          "min": "91.0",
          "max": "577.0",
          "histogram": [
           {
            "bin_start": 91,
            "bin_end": 139.6,
            "count": 1
           },
           {
            "bin_start": 139.6,
            "bin_end": 188.2,
            "count": 0
           },
           {
            "bin_start": 188.2,
            "bin_end": 236.8,
            "count": 0
           },
           {
            "bin_start": 236.8,
            "bin_end": 285.4,
            "count": 0
           },
           {
            "bin_start": 285.4,
            "bin_end": 334,
            "count": 0
           },
           {
            "bin_start": 334,
            "bin_end": 382.6,
            "count": 1
           },
           {
            "bin_start": 382.6,
            "bin_end": 431.2,
            "count": 0
           },
           {
            "bin_start": 431.2,
            "bin_end": 479.8,
            "count": 0
           },
           {
            "bin_start": 479.8,
            "bin_end": 528.4000000000001,
            "count": 0
           },
           {
            "bin_start": 528.4000000000001,
            "bin_end": 577,
            "count": 1
           }
          ]
         }
        },
        {
         "name": "TOPOFPERFORATEDINTERVAL",
         "dtype": "float64",
         "stats": {
          "unique_count": 3,
          "nan_count": 2,
          "min": "71.0",
          "max": "430.0",
          "histogram": [
           {
            "bin_start": 71,
            "bin_end": 106.9,
            "count": 1
           },
           {
            "bin_start": 106.9,
            "bin_end": 142.8,
            "count": 0
           },
           {
            "bin_start": 142.8,
            "bin_end": 178.7,
            "count": 0
           },
           {
            "bin_start": 178.7,
            "bin_end": 214.6,
            "count": 0
           },
           {
            "bin_start": 214.6,
            "bin_end": 250.5,
            "count": 0
           },
           {
            "bin_start": 250.5,
            "bin_end": 286.4,
            "count": 1
           },
           {
            "bin_start": 286.4,
            "bin_end": 322.29999999999995,
            "count": 0
           },
           {
            "bin_start": 322.29999999999995,
            "bin_end": 358.2,
            "count": 0
           },
           {
            "bin_start": 358.2,
            "bin_end": 394.09999999999997,
            "count": 0
           },
           {
            "bin_start": 394.09999999999997,
            "bin_end": 430,
            "count": 1
           }
          ]
         }
        },
        {
         "name": "GROUNDSURFACEELEVATION",
         "dtype": "float64",
         "stats": {
          "unique_count": 0,
          "nan_count": 5,
          "min": null,
          "max": null,
          "histogram": [
           {
            "bin_start": 0,
            "bin_end": 0.1,
            "count": 0
           },
           {
            "bin_start": 0.1,
            "bin_end": 0.2,
            "count": 0
           },
           {
            "bin_start": 0.2,
            "bin_end": 0.30000000000000004,
            "count": 0
           },
           {
            "bin_start": 0.30000000000000004,
            "bin_end": 0.4,
            "count": 0
           },
           {
            "bin_start": 0.4,
            "bin_end": 0.5,
            "count": 0
           },
           {
            "bin_start": 0.5,
            "bin_end": 0.6000000000000001,
            "count": 0
           },
           {
            "bin_start": 0.6000000000000001,
            "bin_end": 0.7000000000000001,
            "count": 0
           },
           {
            "bin_start": 0.7000000000000001,
            "bin_end": 0.8,
            "count": 0
           },
           {
            "bin_start": 0.8,
            "bin_end": 0.9,
            "count": 0
           },
           {
            "bin_start": 0.9,
            "bin_end": 1,
            "count": 0
           }
          ]
         }
        },
        {
         "name": "STATICWATERLEVEL",
         "dtype": "float64",
         "stats": {
          "unique_count": 2,
          "nan_count": 3,
          "min": "168.0",
          "max": "234.0",
          "histogram": [
           {
            "bin_start": 168,
            "bin_end": 174.6,
            "count": 1
           },
           {
            "bin_start": 174.6,
            "bin_end": 181.2,
            "count": 0
           },
           {
            "bin_start": 181.2,
            "bin_end": 187.8,
            "count": 0
           },
           {
            "bin_start": 187.8,
            "bin_end": 194.4,
            "count": 0
           },
           {
            "bin_start": 194.4,
            "bin_end": 201,
            "count": 0
           },
           {
            "bin_start": 201,
            "bin_end": 207.6,
            "count": 0
           },
           {
            "bin_start": 207.6,
            "bin_end": 214.2,
            "count": 0
           },
           {
            "bin_start": 214.2,
            "bin_end": 220.8,
            "count": 0
           },
           {
            "bin_start": 220.8,
            "bin_end": 227.4,
            "count": 0
           },
           {
            "bin_start": 227.4,
            "bin_end": 234,
            "count": 1
           }
          ]
         }
        },
        {
         "name": "RECORDTYPE",
         "dtype": "object",
         "stats": {
          "unique_count": 1,
          "nan_count": 0,
          "categories": [
           {
            "name": "WellCompletion/New/Production or Monitoring/NA",
            "count": 5
           }
          ]
         }
        },
        {
         "name": "USE",
         "dtype": "object",
         "stats": {
          "unique_count": 1,
          "nan_count": 0,
          "categories": [
           {
            "name": "Domestic",
            "count": 5
           }
          ]
         }
        },
        {
         "name": "WCRNUMBER",
         "dtype": "object",
         "stats": {
          "unique_count": 5,
          "nan_count": 0,
          "categories": [
           {
            "name": "WCR1980-002463",
            "count": 1
           },
           {
            "name": "WCR1981-004782",
            "count": 1
           },
           {
            "name": "3 others",
            "count": 3
           }
          ]
         }
        },
        {
         "name": "TOTALDRILLDEPTH",
         "dtype": "float64",
         "stats": {
          "unique_count": 1,
          "nan_count": 4,
          "min": "385.0",
          "max": "385.0",
          "histogram": [
           {
            "bin_start": 384.5,
            "bin_end": 384.6,
            "count": 0
           },
           {
            "bin_start": 384.6,
            "bin_end": 384.7,
            "count": 0
           },
           {
            "bin_start": 384.7,
            "bin_end": 384.8,
            "count": 0
           },
           {
            "bin_start": 384.8,
            "bin_end": 384.9,
            "count": 0
           },
           {
            "bin_start": 384.9,
            "bin_end": 385,
            "count": 0
           },
           {
            "bin_start": 385,
            "bin_end": 385.1,
            "count": 1
           },
           {
            "bin_start": 385.1,
            "bin_end": 385.2,
            "count": 0
           },
           {
            "bin_start": 385.2,
            "bin_end": 385.3,
            "count": 0
           },
           {
            "bin_start": 385.3,
            "bin_end": 385.4,
            "count": 0
           },
           {
            "bin_start": 385.4,
            "bin_end": 385.5,
            "count": 0
           }
          ]
         }
        },
        {
         "name": "TOTALCOMPLETEDDEPTH",
         "dtype": "float64",
         "stats": {
          "unique_count": 5,
          "nan_count": 0,
          "min": "145.0",
          "max": "577.0",
          "histogram": [
           {
            "bin_start": 145,
            "bin_end": 188.2,
            "count": 1
           },
           {
            "bin_start": 188.2,
            "bin_end": 231.4,
            "count": 0
           },
           {
            "bin_start": 231.4,
            "bin_end": 274.6,
            "count": 0
           },
           {
            "bin_start": 274.6,
            "bin_end": 317.8,
            "count": 2
           },
           {
            "bin_start": 317.8,
            "bin_end": 361,
            "count": 0
           },
           {
            "bin_start": 361,
            "bin_end": 404.20000000000005,
            "count": 1
           },
           {
            "bin_start": 404.20000000000005,
            "bin_end": 447.40000000000003,
            "count": 0
           },
           {
            "bin_start": 447.40000000000003,
            "bin_end": 490.6,
            "count": 0
           },
           {
            "bin_start": 490.6,
            "bin_end": 533.8,
            "count": 0
           },
           {
            "bin_start": 533.8,
            "bin_end": 577,
            "count": 1
           }
          ]
         }
        },
        {
         "name": "DATEWORKENDED",
         "dtype": "datetime64[ns]",
         "stats": {
          "unique_count": 4,
          "nan_count": 1,
          "min": "1980-03-12 00:00:00",
          "max": "2018-12-10 00:00:00",
          "histogram": [
           {
            "bin_start": 321667200000000000,
            "bin_end": 443940480000000000,
            "count": 1
           },
           {
            "bin_start": 443940480000000000,
            "bin_end": 566213760000000000,
            "count": 0
           },
           {
            "bin_start": 566213760000000000,
            "bin_end": 688487040000000000,
            "count": 0
           },
           {
            "bin_start": 688487040000000000,
            "bin_end": 810760320000000000,
            "count": 0
           },
           {
            "bin_start": 810760320000000000,
            "bin_end": 933033600000000000,
            "count": 0
           },
           {
            "bin_start": 933033600000000000,
            "bin_end": 1055306880000000000,
            "count": 0
           },
           {
            "bin_start": 1055306880000000000,
            "bin_end": 1177580160000000000,
            "count": 0
           },
           {
            "bin_start": 1177580160000000000,
            "bin_end": 1299853440000000000,
            "count": 1
           },
           {
            "bin_start": 1299853440000000000,
            "bin_end": 1422126720000000000,
            "count": 0
           },
           {
            "bin_start": 1422126720000000000,
            "bin_end": 1544400000000000000,
            "count": 2
           }
          ]
         }
        },
        {
         "name": "WELLYIELD",
         "dtype": "float64",
         "stats": {
          "unique_count": 2,
          "nan_count": 2,
          "min": "100.0",
          "max": "200.0",
          "histogram": [
           {
            "bin_start": 100,
            "bin_end": 110,
            "count": 1
           },
           {
            "bin_start": 110,
            "bin_end": 120,
            "count": 0
           },
           {
            "bin_start": 120,
            "bin_end": 130,
            "count": 0
           },
           {
            "bin_start": 130,
            "bin_end": 140,
            "count": 0
           },
           {
            "bin_start": 140,
            "bin_end": 150,
            "count": 0
           },
           {
            "bin_start": 150,
            "bin_end": 160,
            "count": 0
           },
           {
            "bin_start": 160,
            "bin_end": 170,
            "count": 0
           },
           {
            "bin_start": 170,
            "bin_end": 180,
            "count": 0
           },
           {
            "bin_start": 180,
            "bin_end": 190,
            "count": 0
           },
           {
            "bin_start": 190,
            "bin_end": 200,
            "count": 2
           }
          ]
         }
        },
        {
         "name": "WELLYIELDUNITOFMEASURE",
         "dtype": "object",
         "stats": {
          "unique_count": 1,
          "nan_count": 2,
          "categories": [
           {
            "name": "GPM",
            "count": 3
           },
           {
            "name": "Missing",
            "count": 2
           }
          ]
         }
        },
        {
         "name": "TOTALCOMPLETEDDEPTH_CORRECTED",
         "dtype": "float64",
         "stats": {
          "unique_count": 5,
          "nan_count": 0,
          "min": "145.0",
          "max": "577.0",
          "histogram": [
           {
            "bin_start": 145,
            "bin_end": 188.2,
            "count": 1
           },
           {
            "bin_start": 188.2,
            "bin_end": 231.4,
            "count": 0
           },
           {
            "bin_start": 231.4,
            "bin_end": 274.6,
            "count": 0
           },
           {
            "bin_start": 274.6,
            "bin_end": 317.8,
            "count": 2
           },
           {
            "bin_start": 317.8,
            "bin_end": 361,
            "count": 0
           },
           {
            "bin_start": 361,
            "bin_end": 404.20000000000005,
            "count": 1
           },
           {
            "bin_start": 404.20000000000005,
            "bin_end": 447.40000000000003,
            "count": 0
           },
           {
            "bin_start": 447.40000000000003,
            "bin_end": 490.6,
            "count": 0
           },
           {
            "bin_start": 490.6,
            "bin_end": 533.8,
            "count": 0
           },
           {
            "bin_start": 533.8,
            "bin_end": 577,
            "count": 1
           }
          ]
         }
        },
        {
         "name": "DATEWORKENDED_CORRECTED",
         "dtype": "datetime64[ns]",
         "stats": {
          "unique_count": 4,
          "nan_count": 1,
          "min": "1980-03-12 00:00:00",
          "max": "2018-12-10 00:00:00",
          "histogram": [
           {
            "bin_start": 321667200000000000,
            "bin_end": 443940480000000000,
            "count": 1
           },
           {
            "bin_start": 443940480000000000,
            "bin_end": 566213760000000000,
            "count": 0
           },
           {
            "bin_start": 566213760000000000,
            "bin_end": 688487040000000000,
            "count": 0
           },
           {
            "bin_start": 688487040000000000,
            "bin_end": 810760320000000000,
            "count": 0
           },
           {
            "bin_start": 810760320000000000,
            "bin_end": 933033600000000000,
            "count": 0
           },
           {
            "bin_start": 933033600000000000,
            "bin_end": 1055306880000000000,
            "count": 0
           },
           {
            "bin_start": 1055306880000000000,
            "bin_end": 1177580160000000000,
            "count": 0
           },
           {
            "bin_start": 1177580160000000000,
            "bin_end": 1299853440000000000,
            "count": 1
           },
           {
            "bin_start": 1299853440000000000,
            "bin_end": 1422126720000000000,
            "count": 0
           },
           {
            "bin_start": 1422126720000000000,
            "bin_end": 1544400000000000000,
            "count": 2
           }
          ]
         }
        },
        {
         "name": "YEARWORKENDED",
         "dtype": "float64",
         "stats": {
          "unique_count": 4,
          "nan_count": 1,
          "min": "1980.0",
          "max": "2018.0",
          "histogram": [
           {
            "bin_start": 1980,
            "bin_end": 1983.8,
            "count": 1
           },
           {
            "bin_start": 1983.8,
            "bin_end": 1987.6,
            "count": 0
           },
           {
            "bin_start": 1987.6,
            "bin_end": 1991.4,
            "count": 0
           },
           {
            "bin_start": 1991.4,
            "bin_end": 1995.2,
            "count": 0
           },
           {
            "bin_start": 1995.2,
            "bin_end": 1999,
            "count": 0
           },
           {
            "bin_start": 1999,
            "bin_end": 2002.8,
            "count": 0
           },
           {
            "bin_start": 2002.8,
            "bin_end": 2006.6,
            "count": 0
           },
           {
            "bin_start": 2006.6,
            "bin_end": 2010.4,
            "count": 1
           },
           {
            "bin_start": 2010.4,
            "bin_end": 2014.2,
            "count": 0
           },
           {
            "bin_start": 2014.2,
            "bin_end": 2018,
            "count": 2
           }
          ]
         }
        },
        {
         "name": "MONTHWORKENDED",
         "dtype": "float64",
         "stats": {
          "unique_count": 4,
          "nan_count": 1,
          "min": "2.0",
          "max": "12.0",
          "histogram": [
           {
            "bin_start": 2,
            "bin_end": 3,
            "count": 1
           },
           {
            "bin_start": 3,
            "bin_end": 4,
            "count": 1
           },
           {
            "bin_start": 4,
            "bin_end": 5,
            "count": 0
           },
           {
            "bin_start": 5,
            "bin_end": 6,
            "count": 0
           },
           {
            "bin_start": 6,
            "bin_end": 7,
            "count": 0
           },
           {
            "bin_start": 7,
            "bin_end": 8,
            "count": 1
           },
           {
            "bin_start": 8,
            "bin_end": 9,
            "count": 0
           },
           {
            "bin_start": 9,
            "bin_end": 10,
            "count": 0
           },
           {
            "bin_start": 10,
            "bin_end": 11,
            "count": 0
           },
           {
            "bin_start": 11,
            "bin_end": 12,
            "count": 1
           }
          ]
         }
        },
        {
         "name": "geometry",
         "dtype": "geometry",
         "stats": {
          "unique_count": 5,
          "nan_count": 0,
          "categories": [
           {
            "name": "POINT (-121.4857 37.72887)",
            "count": 1
           },
           {
            "name": "POINT (-120.93192 37.42754)",
            "count": 1
           },
           {
            "name": "3 others",
            "count": 3
           }
          ]
         }
        },
        {
         "name": "index_right",
         "dtype": "float64",
         "stats": {
          "unique_count": 5,
          "nan_count": 0,
          "min": "53.0",
          "max": "7637.0",
          "histogram": [
           {
            "bin_start": 53,
            "bin_end": 811.4,
            "count": 1
           },
           {
            "bin_start": 811.4,
            "bin_end": 1569.8,
            "count": 2
           },
           {
            "bin_start": 1569.8,
            "bin_end": 2328.2,
            "count": 0
           },
           {
            "bin_start": 2328.2,
            "bin_end": 3086.6,
            "count": 0
           },
           {
            "bin_start": 3086.6,
            "bin_end": 3845,
            "count": 1
           },
           {
            "bin_start": 3845,
            "bin_end": 4603.4,
            "count": 0
           },
           {
            "bin_start": 4603.4,
            "bin_end": 5361.8,
            "count": 0
           },
           {
            "bin_start": 5361.8,
            "bin_end": 6120.2,
            "count": 0
           },
           {
            "bin_start": 6120.2,
            "bin_end": 6878.599999999999,
            "count": 0
           },
           {
            "bin_start": 6878.599999999999,
            "bin_end": 7637,
            "count": 1
           }
          ]
         }
        },
        {
         "name": "OBJECTID",
         "dtype": "float64",
         "stats": {
          "unique_count": 5,
          "nan_count": 0,
          "min": "3724.0",
          "max": "53993.0",
          "histogram": [
           {
            "bin_start": 3724,
            "bin_end": 8750.9,
            "count": 1
           },
           {
            "bin_start": 8750.9,
            "bin_end": 13777.8,
            "count": 1
           },
           {
            "bin_start": 13777.8,
            "bin_end": 18804.699999999997,
            "count": 1
           },
           {
            "bin_start": 18804.699999999997,
            "bin_end": 23831.6,
            "count": 1
           },
           {
            "bin_start": 23831.6,
            "bin_end": 28858.5,
            "count": 0
           },
           {
            "bin_start": 28858.5,
            "bin_end": 33885.399999999994,
            "count": 0
           },
           {
            "bin_start": 33885.399999999994,
            "bin_end": 38912.299999999996,
            "count": 0
           },
           {
            "bin_start": 38912.299999999996,
            "bin_end": 43939.2,
            "count": 0
           },
           {
            "bin_start": 43939.2,
            "bin_end": 48966.1,
            "count": 0
           },
           {
            "bin_start": 48966.1,
            "bin_end": 53993,
            "count": 1
           }
          ]
         }
        },
        {
         "name": "Township",
         "dtype": "object",
         "stats": {
          "unique_count": 4,
          "nan_count": 0,
          "categories": [
           {
            "name": "T03N",
            "count": 2
           },
           {
            "name": "T02S",
            "count": 1
           },
           {
            "name": "2 others",
            "count": 2
           }
          ]
         }
        },
        {
         "name": "Range",
         "dtype": "object",
         "stats": {
          "unique_count": 5,
          "nan_count": 0,
          "categories": [
           {
            "name": "R04E",
            "count": 1
           },
           {
            "name": "R09E",
            "count": 1
           },
           {
            "name": "3 others",
            "count": 3
           }
          ]
         }
        },
        {
         "name": "Meridian",
         "dtype": "object",
         "stats": {
          "unique_count": 1,
          "nan_count": 0,
          "categories": [
           {
            "name": "MDM",
            "count": 5
           }
          ]
         }
        },
        {
         "name": "Source",
         "dtype": "object",
         "stats": {
          "unique_count": 1,
          "nan_count": 0,
          "categories": [
           {
            "name": "BLM",
            "count": 5
           }
          ]
         }
        },
        {
         "name": "Section",
         "dtype": "float64",
         "stats": {
          "unique_count": 5,
          "nan_count": 0,
          "min": "3.0",
          "max": "25.0",
          "histogram": [
           {
            "bin_start": 3,
            "bin_end": 5.2,
            "count": 2
           },
           {
            "bin_start": 5.2,
            "bin_end": 7.4,
            "count": 0
           },
           {
            "bin_start": 7.4,
            "bin_end": 9.600000000000001,
            "count": 0
           },
           {
            "bin_start": 9.600000000000001,
            "bin_end": 11.8,
            "count": 0
           },
           {
            "bin_start": 11.8,
            "bin_end": 14,
            "count": 1
           },
           {
            "bin_start": 14,
            "bin_end": 16.200000000000003,
            "count": 0
           },
           {
            "bin_start": 16.200000000000003,
            "bin_end": 18.400000000000002,
            "count": 0
           },
           {
            "bin_start": 18.400000000000002,
            "bin_end": 20.6,
            "count": 1
           },
           {
            "bin_start": 20.6,
            "bin_end": 22.8,
            "count": 0
           },
           {
            "bin_start": 22.8,
            "bin_end": 25,
            "count": 1
           }
          ]
         }
        },
        {
         "name": "MTRS",
         "dtype": "object",
         "stats": {
          "unique_count": 5,
          "nan_count": 0,
          "categories": [
           {
            "name": "MDM-T02S-R04E-25",
            "count": 1
           },
           {
            "name": "MDM-T06S-R09E-12",
            "count": 1
           },
           {
            "name": "3 others",
            "count": 3
           }
          ]
         }
        },
        {
         "name": "TownshipRange",
         "dtype": "object",
         "stats": {
          "unique_count": 5,
          "nan_count": 0,
          "categories": [
           {
            "name": "T02S R04E",
            "count": 1
           },
           {
            "name": "T06S R09E",
            "count": 1
           },
           {
            "name": "3 others",
            "count": 3
           }
          ]
         }
        },
        {
         "name": "_deepnote_index_column",
         "dtype": "int64"
        }
       ],
       "rows": [
        {
         "LATITUDE": 37.72887,
         "LONGITUDE": -121.4857,
         "TOWNSHIP": "02S",
         "RANGE": "04E",
         "SECTION": "25",
         "WELLLOCATION": "nan",
         "CITY": "TRACY",
         "COUNTY": "San Joaquin",
         "BOTTOMOFPERFORATEDINTERVAL": "nan",
         "TOPOFPERFORATEDINTERVAL": "nan",
         "GROUNDSURFACEELEVATION": "nan",
         "STATICWATERLEVEL": "nan",
         "RECORDTYPE": "WellCompletion/New/Production or Monitoring/NA",
         "USE": "Domestic",
         "WCRNUMBER": "WCR1980-002463",
         "TOTALDRILLDEPTH": "nan",
         "TOTALCOMPLETEDDEPTH": 277,
         "DATEWORKENDED": "1980-03-12 00:00:00",
         "WELLYIELD": "nan",
         "WELLYIELDUNITOFMEASURE": "nan",
         "TOTALCOMPLETEDDEPTH_CORRECTED": 277,
         "DATEWORKENDED_CORRECTED": "1980-03-12 00:00:00",
         "YEARWORKENDED": 1980,
         "MONTHWORKENDED": 3,
         "geometry": "POINT (-121.4857 37.72887)",
         "index_right": 1081,
         "OBJECTID": 12457,
         "Township": "T02S",
         "Range": "R04E",
         "Meridian": "MDM",
         "Source": "BLM",
         "Section": 25,
         "MTRS": "MDM-T02S-R04E-25",
         "TownshipRange": "T02S R04E",
         "_deepnote_index_column": 667150
        },
        {
         "LATITUDE": 37.42754,
         "LONGITUDE": -120.93192,
         "TOWNSHIP": "06S",
         "RANGE": "09E",
         "SECTION": "12",
         "WELLLOCATION": "FAITH HOME RD",
         "CITY": "nan",
         "COUNTY": "Stanislaus",
         "BOTTOMOFPERFORATEDINTERVAL": 91,
         "TOPOFPERFORATEDINTERVAL": 71,
         "GROUNDSURFACEELEVATION": "nan",
         "STATICWATERLEVEL": "nan",
         "RECORDTYPE": "WellCompletion/New/Production or Monitoring/NA",
         "USE": "Domestic",
         "WCRNUMBER": "WCR1981-004782",
         "TOTALDRILLDEPTH": "nan",
         "TOTALCOMPLETEDDEPTH": 145,
         "DATEWORKENDED": "NaT",
         "WELLYIELD": "nan",
         "WELLYIELDUNITOFMEASURE": "nan",
         "TOTALCOMPLETEDDEPTH_CORRECTED": 145,
         "DATEWORKENDED_CORRECTED": "NaT",
         "YEARWORKENDED": "nan",
         "MONTHWORKENDED": "nan",
         "geometry": "POINT (-120.93192 37.42754)",
         "index_right": 3185,
         "OBJECTID": 23655,
         "Township": "T06S",
         "Range": "R09E",
         "Meridian": "MDM",
         "Source": "BLM",
         "Section": 12,
         "MTRS": "MDM-T06S-R09E-12",
         "TownshipRange": "T06S R09E",
         "_deepnote_index_column": 919769
        },
        {
         "LATITUDE": 38.0991667,
         "LONGITUDE": -121.1258333,
         "TOWNSHIP": "03N",
         "RANGE": "08E",
         "SECTION": "20",
         "WELLLOCATION": "12975 N TULLY RD",
         "CITY": "LODI",
         "COUNTY": "San Joaquin",
         "BOTTOMOFPERFORATEDINTERVAL": 380,
         "TOPOFPERFORATEDINTERVAL": 280,
         "GROUNDSURFACEELEVATION": "nan",
         "STATICWATERLEVEL": "nan",
         "RECORDTYPE": "WellCompletion/New/Production or Monitoring/NA",
         "USE": "Domestic",
         "WCRNUMBER": "WCR2020-004233",
         "TOTALDRILLDEPTH": 385,
         "TOTALCOMPLETEDDEPTH": 380,
         "DATEWORKENDED": "2018-12-10 00:00:00",
         "WELLYIELD": 100,
         "WELLYIELDUNITOFMEASURE": "GPM",
         "TOTALCOMPLETEDDEPTH_CORRECTED": 380,
         "DATEWORKENDED_CORRECTED": "2018-12-10 00:00:00",
         "YEARWORKENDED": 2018,
         "MONTHWORKENDED": 12,
         "geometry": "POINT (-121.1258333 38.0991667)",
         "index_right": 1563,
         "OBJECTID": 14230,
         "Township": "T03N",
         "Range": "R08E",
         "Meridian": "MDM",
         "Source": "BLM",
         "Section": 20,
         "MTRS": "MDM-T03N-R08E-20",
         "TownshipRange": "T03N R08E",
         "_deepnote_index_column": 669270
        },
        {
         "LATITUDE": 36.56877,
         "LONGITUDE": -119.89019,
         "TOWNSHIP": "16S",
         "RANGE": "19E",
         "SECTION": "03",
         "WELLLOCATION": "5161 W FLORAL AVE",
         "CITY": "FRESNO",
         "COUNTY": "Fresno",
         "BOTTOMOFPERFORATEDINTERVAL": "nan",
         "TOPOFPERFORATEDINTERVAL": "nan",
         "GROUNDSURFACEELEVATION": "nan",
         "STATICWATERLEVEL": 168,
         "RECORDTYPE": "WellCompletion/New/Production or Monitoring/NA",
         "USE": "Domestic",
         "WCRNUMBER": "WCR0128713",
         "TOTALDRILLDEPTH": "nan",
         "TOTALCOMPLETEDDEPTH": 306,
         "DATEWORKENDED": "2010-07-30 00:00:00",
         "WELLYIELD": 200,
         "WELLYIELDUNITOFMEASURE": "GPM",
         "TOTALCOMPLETEDDEPTH_CORRECTED": 306,
         "DATEWORKENDED_CORRECTED": "2010-07-30 00:00:00",
         "YEARWORKENDED": 2010,
         "MONTHWORKENDED": 7,
         "geometry": "POINT (-119.89019 36.56877)",
         "index_right": 7637,
         "OBJECTID": 53993,
         "Township": "T16S",
         "Range": "R19E",
         "Meridian": "MDM",
         "Source": "BLM",
         "Section": 3,
         "MTRS": "MDM-T16S-R19E-3",
         "TownshipRange": "T16S R19E",
         "_deepnote_index_column": 175916
        },
        {
         "LATITUDE": 38.145,
         "LONGITUDE": -120.881389,
         "TOWNSHIP": "03N",
         "RANGE": "10E",
         "SECTION": "04",
         "WELLLOCATION": "125 LOW LAKEVIEW ROAD",
         "CITY": "BURSON",
         "COUNTY": "Calaveras",
         "BOTTOMOFPERFORATEDINTERVAL": 577,
         "TOPOFPERFORATEDINTERVAL": 430,
         "GROUNDSURFACEELEVATION": "nan",
         "STATICWATERLEVEL": 234,
         "RECORDTYPE": "WellCompletion/New/Production or Monitoring/NA",
         "USE": "Domestic",
         "WCRNUMBER": "WCR2016-015288",
         "TOTALDRILLDEPTH": "nan",
         "TOTALCOMPLETEDDEPTH": 577,
         "DATEWORKENDED": "2016-02-29 00:00:00",
         "WELLYIELD": 200,
         "WELLYIELDUNITOFMEASURE": "GPM",
         "TOTALCOMPLETEDDEPTH_CORRECTED": 577,
         "DATEWORKENDED_CORRECTED": "2016-02-29 00:00:00",
         "YEARWORKENDED": 2016,
         "MONTHWORKENDED": 2,
         "geometry": "POINT (-120.881389 38.145)",
         "index_right": 53,
         "OBJECTID": 3724,
         "Township": "T03N",
         "Range": "R10E",
         "Meridian": "MDM",
         "Source": "BLM",
         "Section": 4,
         "MTRS": "MDM-T03N-R10E-4",
         "TownshipRange": "T03N R10E",
         "_deepnote_index_column": 74764
        }
       ]
      },
      "text/plain": "         LATITUDE   LONGITUDE TOWNSHIP RANGE SECTION           WELLLOCATION  \\\n667150  37.728870 -121.485700      02S   04E      25                    NaN   \n919769  37.427540 -120.931920      06S   09E      12          FAITH HOME RD   \n669270  38.099167 -121.125833      03N   08E      20       12975 N TULLY RD   \n175916  36.568770 -119.890190      16S   19E      03      5161 W FLORAL AVE   \n74764   38.145000 -120.881389      03N   10E      04  125 LOW LAKEVIEW ROAD   \n\n          CITY       COUNTY  BOTTOMOFPERFORATEDINTERVAL  \\\n667150   TRACY  San Joaquin                         NaN   \n919769     NaN   Stanislaus                        91.0   \n669270    LODI  San Joaquin                       380.0   \n175916  FRESNO       Fresno                         NaN   \n74764   BURSON    Calaveras                       577.0   \n\n        TOPOFPERFORATEDINTERVAL  ...                     geometry  \\\n667150                      NaN  ...  POINT (-121.48570 37.72887)   \n919769                     71.0  ...  POINT (-120.93192 37.42754)   \n669270                    280.0  ...  POINT (-121.12583 38.09917)   \n175916                      NaN  ...  POINT (-119.89019 36.56877)   \n74764                     430.0  ...  POINT (-120.88139 38.14500)   \n\n        index_right OBJECTID Township Range  Meridian  Source Section  \\\n667150       1081.0  12457.0     T02S  R04E       MDM     BLM    25.0   \n919769       3185.0  23655.0     T06S  R09E       MDM     BLM    12.0   \n669270       1563.0  14230.0     T03N  R08E       MDM     BLM    20.0   \n175916       7637.0  53993.0     T16S  R19E       MDM     BLM     3.0   \n74764          53.0   3724.0     T03N  R10E       MDM     BLM     4.0   \n\n                    MTRS TownshipRange  \n667150  MDM-T02S-R04E-25     T02S R04E  \n919769  MDM-T06S-R09E-12     T06S R09E  \n669270  MDM-T03N-R08E-20     T03N R08E  \n175916   MDM-T16S-R19E-3     T16S R19E  \n74764    MDM-T03N-R10E-4     T03N R10E  \n\n[5 rows x 34 columns]",
      "text/html": "<div>\n<style scoped>\n    .dataframe tbody tr th:only-of-type {\n        vertical-align: middle;\n    }\n\n    .dataframe tbody tr th {\n        vertical-align: top;\n    }\n\n    .dataframe thead th {\n        text-align: right;\n    }\n</style>\n<table border=\"1\" class=\"dataframe\">\n  <thead>\n    <tr style=\"text-align: right;\">\n      <th></th>\n      <th>LATITUDE</th>\n      <th>LONGITUDE</th>\n      <th>TOWNSHIP</th>\n      <th>RANGE</th>\n      <th>SECTION</th>\n      <th>WELLLOCATION</th>\n      <th>CITY</th>\n      <th>COUNTY</th>\n      <th>BOTTOMOFPERFORATEDINTERVAL</th>\n      <th>TOPOFPERFORATEDINTERVAL</th>\n      <th>...</th>\n      <th>geometry</th>\n      <th>index_right</th>\n      <th>OBJECTID</th>\n      <th>Township</th>\n      <th>Range</th>\n      <th>Meridian</th>\n      <th>Source</th>\n      <th>Section</th>\n      <th>MTRS</th>\n      <th>TownshipRange</th>\n    </tr>\n  </thead>\n  <tbody>\n    <tr>\n      <th>667150</th>\n      <td>37.728870</td>\n      <td>-121.485700</td>\n      <td>02S</td>\n      <td>04E</td>\n      <td>25</td>\n      <td>NaN</td>\n      <td>TRACY</td>\n      <td>San Joaquin</td>\n      <td>NaN</td>\n      <td>NaN</td>\n      <td>...</td>\n      <td>POINT (-121.48570 37.72887)</td>\n      <td>1081.0</td>\n      <td>12457.0</td>\n      <td>T02S</td>\n      <td>R04E</td>\n      <td>MDM</td>\n      <td>BLM</td>\n      <td>25.0</td>\n      <td>MDM-T02S-R04E-25</td>\n      <td>T02S R04E</td>\n    </tr>\n    <tr>\n      <th>919769</th>\n      <td>37.427540</td>\n      <td>-120.931920</td>\n      <td>06S</td>\n      <td>09E</td>\n      <td>12</td>\n      <td>FAITH HOME RD</td>\n      <td>NaN</td>\n      <td>Stanislaus</td>\n      <td>91.0</td>\n      <td>71.0</td>\n      <td>...</td>\n      <td>POINT (-120.93192 37.42754)</td>\n      <td>3185.0</td>\n      <td>23655.0</td>\n      <td>T06S</td>\n      <td>R09E</td>\n      <td>MDM</td>\n      <td>BLM</td>\n      <td>12.0</td>\n      <td>MDM-T06S-R09E-12</td>\n      <td>T06S R09E</td>\n    </tr>\n    <tr>\n      <th>669270</th>\n      <td>38.099167</td>\n      <td>-121.125833</td>\n      <td>03N</td>\n      <td>08E</td>\n      <td>20</td>\n      <td>12975 N TULLY RD</td>\n      <td>LODI</td>\n      <td>San Joaquin</td>\n      <td>380.0</td>\n      <td>280.0</td>\n      <td>...</td>\n      <td>POINT (-121.12583 38.09917)</td>\n      <td>1563.0</td>\n      <td>14230.0</td>\n      <td>T03N</td>\n      <td>R08E</td>\n      <td>MDM</td>\n      <td>BLM</td>\n      <td>20.0</td>\n      <td>MDM-T03N-R08E-20</td>\n      <td>T03N R08E</td>\n    </tr>\n    <tr>\n      <th>175916</th>\n      <td>36.568770</td>\n      <td>-119.890190</td>\n      <td>16S</td>\n      <td>19E</td>\n      <td>03</td>\n      <td>5161 W FLORAL AVE</td>\n      <td>FRESNO</td>\n      <td>Fresno</td>\n      <td>NaN</td>\n      <td>NaN</td>\n      <td>...</td>\n      <td>POINT (-119.89019 36.56877)</td>\n      <td>7637.0</td>\n      <td>53993.0</td>\n      <td>T16S</td>\n      <td>R19E</td>\n      <td>MDM</td>\n      <td>BLM</td>\n      <td>3.0</td>\n      <td>MDM-T16S-R19E-3</td>\n      <td>T16S R19E</td>\n    </tr>\n    <tr>\n      <th>74764</th>\n      <td>38.145000</td>\n      <td>-120.881389</td>\n      <td>03N</td>\n      <td>10E</td>\n      <td>04</td>\n      <td>125 LOW LAKEVIEW ROAD</td>\n      <td>BURSON</td>\n      <td>Calaveras</td>\n      <td>577.0</td>\n      <td>430.0</td>\n      <td>...</td>\n      <td>POINT (-120.88139 38.14500)</td>\n      <td>53.0</td>\n      <td>3724.0</td>\n      <td>T03N</td>\n      <td>R10E</td>\n      <td>MDM</td>\n      <td>BLM</td>\n      <td>4.0</td>\n      <td>MDM-T03N-R10E-4</td>\n      <td>T03N R10E</td>\n    </tr>\n  </tbody>\n</table>\n<p>5 rows × 34 columns</p>\n</div>"
     },
     "metadata": {}
    }
   ],
   "execution_count": null
  },
  {
   "cell_type": "markdown",
   "source": "",
   "metadata": {
    "cell_id": "bc163490-6fb6-42ce-a7fd-2516696f8dde",
    "tags": [],
    "deepnote_cell_type": "markdown",
    "deepnote_cell_height": 46
   }
  },
  {
   "cell_type": "markdown",
   "source": "#### The below are the functions that were tested in the notebook before converting them into classes",
   "metadata": {
    "cell_id": "80a20fc4-d588-44cc-87c7-7cc51ff915cf",
    "tags": [],
    "deepnote_cell_type": "markdown",
    "deepnote_cell_height": 78
   }
  },
  {
   "cell_type": "code",
   "metadata": {
    "cell_id": "00004-638e91bc-3efe-4e53-80b5-ffb3d4b8b706",
    "deepnote_cell_type": "code",
    "deepnote_cell_height": 318
   },
   "source": "def get_plss_and_wellcompletion():\n    #initialize an instance\n    wcr_instance = WellCompletionReportsDataset()\n\n    # load the plss shapefile (these only include TRS areas that are within the San Joaquin subbasin)\n    SJ_subbasin_plss = wcr_instance.map_df\n    # aggregate by TownshipRange\n    SJ_subbasin_plss_range = SJ_subbasin_plss.dissolve(by='TownshipRange').reset_index()\n\n    wellcompletion_df = wcr_instance.data_df\n    wellcompletion_df = wellcompletion_df.iloc[:, 1:].copy()\n    \n    return wcr_instance, wellcompletion_df\n\n",
   "execution_count": null,
   "outputs": []
  },
  {
   "cell_type": "code",
   "metadata": {
    "cell_id": "00002-7daacd1a-9505-43e7-b484-09e7a446e90a",
    "deepnote_cell_type": "code",
    "deepnote_cell_height": 66
   },
   "source": "#SJ_subbasin_plss.explore()",
   "execution_count": null,
   "outputs": []
  },
  {
   "cell_type": "code",
   "metadata": {
    "cell_id": "00003-ece88734-e4b1-48a4-9e3c-6050697d523e",
    "deepnote_cell_type": "code",
    "deepnote_cell_height": 66
   },
   "source": "#SJ_subbasin_plss_range.explore()",
   "execution_count": null,
   "outputs": []
  },
  {
   "cell_type": "markdown",
   "source": "### Well Completion data\n\n[Source](https://data.cnra.ca.gov/dataset/well-completion-reports)",
   "metadata": {
    "cell_id": "00004-a8c1b56b-39b3-42cb-9392-cf3b080613c8",
    "deepnote_cell_type": "markdown",
    "deepnote_cell_height": 100.390625
   }
  },
  {
   "cell_type": "code",
   "metadata": {
    "cell_id": "00008-6dd372a3-7087-4bb7-9bc0-e40c1c0a5f7b",
    "deepnote_cell_type": "code",
    "deepnote_cell_height": 606
   },
   "source": "def draw_mising_data_chart(df):\n    percent_missing = df.isnull().sum() / len(wellcompletion_df)\n    missing_value_df = pd.DataFrame({'column_name': df.columns,\n                                     'percent_missing': percent_missing})\n    missing_value_df.sort_values('percent_missing', ascending = False, inplace=True)\n\n    sort_list = list(missing_value_df['column_name'])\n    chart = alt.Chart(missing_value_df\n                     ).mark_bar(\n                        ).encode(\n                    y =alt.Y(\"sum(percent_missing)\", stack=\"normalize\", axis=alt.Axis(format='%')),\n                    x = alt.X('column_name:N', sort=sort_list),\n                    color=alt.value(\"orange\"),\n                    tooltip = ['column_name', 'percent_missing']\n                    )\n    \n    \n    text = chart.transform_calculate(\n        position = 'datum.percent_missing + 0.05 * datum.percent_missing / abs(datum.percent_missing)'\n    ).mark_text(\n        align='center', \n        fontSize=10,\n        color='black'\n    ).encode(\n        y='position:Q',\n        text=alt.Text('percent_missing:Q', format='.0%'),\n    )\n\n    \n    return chart + text\n",
   "execution_count": null,
   "outputs": []
  },
  {
   "cell_type": "code",
   "metadata": {
    "cell_id": "00009-7915f9df-8187-42ef-83d3-a0506be6558e",
    "deepnote_cell_type": "code",
    "deepnote_cell_height": 138
   },
   "source": "#Draw a chart showing percent missing values for the features we are interested in\ndraw_mising_data_chart(wcr_instance.data_df[[\"DECIMALLATITUDE\", \"DECIMALLONGITUDE\", \"TOWNSHIP\", \"RANGE\", \"SECTION\", \"WELLLOCATION\", \"CITY\", \"COUNTYNAME\", \n                                              \"BOTTOMOFPERFORATEDINTERVAL\", \"TOPOFPERFORATEDINTERVAL\", \"GROUNDSURFACEELEVATION\", \"STATICWATERLEVEL\", \n                                              \"RECORDTYPE\",  \"PLANNEDUSEFORMERUSE\", \"WCRNUMBER\", \"TOTALDRILLDEPTH\", \n                                              \"TOTALCOMPLETEDDEPTH\", \"DATEWORKENDED\", 'WELLYIELD', 'WELLYIELDUNITOFMEASURE']])",
   "execution_count": null,
   "outputs": []
  },
  {
   "cell_type": "code",
   "metadata": {
    "cell_id": "00010-b653dab1-4102-4d29-acff-36217e967226",
    "deepnote_cell_type": "code",
    "deepnote_cell_height": 1434
   },
   "source": "def clean_well_completion_reports():\n    wellcompletion_df = wcr_instance.data_df\n\n    #There are latitudes and longitudes that are corrupt : 37/41/11.82/\n    wellcompletion_df = wellcompletion_df[~wellcompletion_df.DECIMALLATITUDE.str.contains(r\"/\", na=False)].copy()\n    wellcompletion_df = wellcompletion_df[~wellcompletion_df.DECIMALLONGITUDE.str.contains(r\"/\", na=False)].copy()\n\n    wellcompletion_df['DECIMALLATITUDE'] = wellcompletion_df.DECIMALLATITUDE.astype('float')\n    wellcompletion_df['DECIMALLONGITUDE'] = wellcompletion_df.DECIMALLONGITUDE.astype('float')\n\n\n    #Correct incorrectly signed logitude and latiude Example :   120.54483 Longitude\n    wellcompletion_df['DECIMALLONGITUDE'] = np.where(wellcompletion_df['DECIMALLONGITUDE'] > 0,\n                                                    -wellcompletion_df['DECIMALLONGITUDE'],\n                                                    wellcompletion_df['DECIMALLONGITUDE'])\n\n    wellcompletion_df['DECIMALLATITUDE'] = np.where(wellcompletion_df['DECIMALLATITUDE'] < 0,\n                                                    -wellcompletion_df['DECIMALLATITUDE'],\n                                                    wellcompletion_df['DECIMALLATITUDE'])\n\n    #About 5% of the dataframe has eith latitude or longitude missing, we drop these\n    wellcompletion_df = wellcompletion_df.dropna(subset=['DECIMALLATITUDE', 'DECIMALLONGITUDE']).copy()\n\n    # Pick data of interest\n    wellcompletion_subset_df = wellcompletion_df[[\"DECIMALLATITUDE\", \"DECIMALLONGITUDE\", \"TOWNSHIP\", \"RANGE\", \"SECTION\", \"WELLLOCATION\", \"CITY\", \"COUNTYNAME\", \n                                                  \"BOTTOMOFPERFORATEDINTERVAL\", \"TOPOFPERFORATEDINTERVAL\", \"GROUNDSURFACEELEVATION\", \"STATICWATERLEVEL\", \n                                                  \"RECORDTYPE\",  \"PLANNEDUSEFORMERUSE\", \"WCRNUMBER\", \"TOTALDRILLDEPTH\", \n                                                  \"TOTALCOMPLETEDDEPTH\", \"DATEWORKENDED\", 'WELLYIELD', 'WELLYIELDUNITOFMEASURE']].copy()\n\n\n\n    #len(wellcompletion_subset_df[(wellcompletion_subset_df['LATITUDE'].isnull()) | (wellcompletion_subset_df['LATITUDE'].isnull())])/  len(wellcompletion_subset_df)\n    #.05\n\n    # rename columns\n    wellcompletion_subset_df.rename(columns={\"DECIMALLATITUDE\" : \"LATITUDE\", \n                                            \"DECIMALLONGITUDE\" : \"LONGITUDE\", \n                                            \"PLANNEDUSEFORMERUSE\": \"USE\" ,       \n                                            \"COUNTYNAME\" : \"COUNTY\", \n                                           }, inplace=True)\n\n    # filter to only include new well completion since we predict on this\n    wellcompletion_subset_df = wellcompletion_subset_df.loc[wellcompletion_subset_df['RECORDTYPE'] == 'WellCompletion/New/Production or Monitoring/NA']\n\n    # filter to only include agriculture, domestic, or public wells\n    #Data issues Agriculture is also denoted by \"AG\"\n    wellcompletion_subset_df['USE'] = wellcompletion_subset_df['USE'].fillna(\"\")\n    wellcompletion_subset_df['USE'] = wellcompletion_subset_df['USE'].str.lower()\n    wellcompletion_subset_df['USE'] = (\n                                        np.where(wellcompletion_subset_df['USE'].str.contains(\"agri|irrigation\"),\n                                                 \"Agriculture\",\n                                                 np.where(wellcompletion_subset_df['USE'].str.contains(\"domestic\"),\n                                                         \"Domestic\",\n                                                          np.where(wellcompletion_subset_df['USE'].str.contains(\"indus|commerc\"),\n                                                          \"Industrial\",\n                                                          np.where(wellcompletion_subset_df['USE'].str.contains(\"public\"),\n                                                                  \"Public\",\n                                                                  \"Other\")\n                                                         )\n                                                )\n                                        ))\n    wellcompletion_subset_df = wellcompletion_subset_df[wellcompletion_subset_df[\"USE\"].isin([\"Agriculture\",\"Domestic\",\"Public\", \"Industrial\"])]\n\n    wellcompletion_subset_df['TOTALCOMPLETEDDEPTH'] = pd.to_numeric(wellcompletion_subset_df['TOTALCOMPLETEDDEPTH'], errors=\"coerce\")\n\n    # removes depth data that are less than 20'\n    wellcompletion_subset_df['TOTALCOMPLETEDDEPTH_CORRECTED'] = wellcompletion_subset_df['TOTALCOMPLETEDDEPTH'].apply(lambda x: x if x >= 20 else np.nan)\n    # convert date work ended to datetime and filter to only include completed dates that are possible (not a future date) \n    wellcompletion_subset_df['DATEWORKENDED'] = pd.to_datetime(wellcompletion_subset_df['DATEWORKENDED'], errors='coerce')\n    # convert date work ended to datetime and filter to only include completed dates that are possible (not a future date) \n    wellcompletion_subset_df['DATEWORKENDED'] = pd.to_datetime(wellcompletion_subset_df['DATEWORKENDED'], errors='coerce')\n    wellcompletion_subset_df['DATEWORKENDED_CORRECTED'] = wellcompletion_subset_df['DATEWORKENDED'].apply(lambda x: x if x < datetime.now() else np.nan)\n    # create simple year and month columns\n    wellcompletion_subset_df['YEARWORKENDED'] = pd.DatetimeIndex(wellcompletion_subset_df['DATEWORKENDED_CORRECTED']).year\n    wellcompletion_subset_df['MONTHWORKENDED'] = pd.DatetimeIndex(wellcompletion_subset_df['DATEWORKENDED_CORRECTED']).month\n    \n    return wellcompletion_subset_df",
   "execution_count": null,
   "outputs": []
  },
  {
   "cell_type": "code",
   "metadata": {
    "cell_id": "00014-0fbc2b9d-6932-4d19-b595-2f2241cbe7ef",
    "deepnote_cell_type": "code",
    "deepnote_cell_height": 300
   },
   "source": "def merge_data_plss():\n    df = self.wellcompletion_subset_df\n    # create wells geodataframe\n    wellcompletion_subset_gdf = gpd.GeoDataFrame(df, geometry=gpd.points_from_xy(df.LONGITUDE, df.LATITUDE))\n    #Set the coordinate reference system (the projection that denote the axis for the points)\n    wellcompletion_subset_gdf = wellcompletion_subset_gdf.set_crs('epsg:4326')\n\n    # spatial join based on geometry\n    wellcompletion_subset_plss = wellcompletion_subset_gdf.sjoin(SJ_subbasin_plss, how=\"left\")\n\n    # drop the ones that aren't in the san joaquin valley basin\n    wellcompletion_subset_plss = wellcompletion_subset_plss.dropna(subset=['MTRS'])\n    \n    return wellcompletion_subset_plss",
   "execution_count": null,
   "outputs": []
  },
  {
   "cell_type": "code",
   "metadata": {
    "cell_id": "00016-2981b1a5-2845-48cf-b3cf-31c7ecddf76f",
    "deepnote_cell_type": "code",
    "deepnote_cell_height": 66
   },
   "source": "#len(wellcompletion_subset_df)/ len(wcr_instance.data_df) # Cleaned dataset =  0.43264636176071297  of original",
   "execution_count": null,
   "outputs": []
  },
  {
   "cell_type": "code",
   "metadata": {
    "cell_id": "00013-2f61a9e5-9000-4057-967f-aaf086daae60",
    "deepnote_cell_type": "code",
    "deepnote_cell_height": 66
   },
   "source": "wellcompletion_subset_plss.shape #(105987, 34)",
   "execution_count": null,
   "outputs": []
  },
  {
   "cell_type": "code",
   "metadata": {
    "cell_id": "00014-e70859dc-17b9-48a0-ac4b-f6c670b01ef5",
    "deepnote_cell_type": "code",
    "deepnote_cell_height": 66
   },
   "source": "len(wellcompletion_subset_plss)/ len(wcr_instance.data_df)# San Joaquin dataset =  0.10161433206267881  of original",
   "execution_count": null,
   "outputs": []
  },
  {
   "cell_type": "markdown",
   "source": "<a style='text-decoration:none;line-height:16px;display:flex;color:#5B5B62;padding:10px;justify-content:end;' href='https://deepnote.com?utm_source=created-in-deepnote-cell&projectId=b042e2da-6536-449d-95b8-d85fa08825de' target=\"_blank\">\n<img alt='Created in deepnote.com' style='display:inline;max-height:16px;margin:0px;margin-right:7.5px;' src='data:image/svg+xml;base64,PD94bWwgdmVyc2lvbj0iMS4wIiBlbmNvZGluZz0iVVRGLTgiPz4KPHN2ZyB3aWR0aD0iODBweCIgaGVpZ2h0PSI4MHB4IiB2aWV3Qm94PSIwIDAgODAgODAiIHZlcnNpb249IjEuMSIgeG1sbnM9Imh0dHA6Ly93d3cudzMub3JnLzIwMDAvc3ZnIiB4bWxuczp4bGluaz0iaHR0cDovL3d3dy53My5vcmcvMTk5OS94bGluayI+CiAgICA8IS0tIEdlbmVyYXRvcjogU2tldGNoIDU0LjEgKDc2NDkwKSAtIGh0dHBzOi8vc2tldGNoYXBwLmNvbSAtLT4KICAgIDx0aXRsZT5Hcm91cCAzPC90aXRsZT4KICAgIDxkZXNjPkNyZWF0ZWQgd2l0aCBTa2V0Y2guPC9kZXNjPgogICAgPGcgaWQ9IkxhbmRpbmciIHN0cm9rZT0ibm9uZSIgc3Ryb2tlLXdpZHRoPSIxIiBmaWxsPSJub25lIiBmaWxsLXJ1bGU9ImV2ZW5vZGQiPgogICAgICAgIDxnIGlkPSJBcnRib2FyZCIgdHJhbnNmb3JtPSJ0cmFuc2xhdGUoLTEyMzUuMDAwMDAwLCAtNzkuMDAwMDAwKSI+CiAgICAgICAgICAgIDxnIGlkPSJHcm91cC0zIiB0cmFuc2Zvcm09InRyYW5zbGF0ZSgxMjM1LjAwMDAwMCwgNzkuMDAwMDAwKSI+CiAgICAgICAgICAgICAgICA8cG9seWdvbiBpZD0iUGF0aC0yMCIgZmlsbD0iIzAyNjVCNCIgcG9pbnRzPSIyLjM3NjIzNzYyIDgwIDM4LjA0NzY2NjcgODAgNTcuODIxNzgyMiA3My44MDU3NTkyIDU3LjgyMTc4MjIgMzIuNzU5MjczOSAzOS4xNDAyMjc4IDMxLjY4MzE2ODMiPjwvcG9seWdvbj4KICAgICAgICAgICAgICAgIDxwYXRoIGQ9Ik0zNS4wMDc3MTgsODAgQzQyLjkwNjIwMDcsNzYuNDU0OTM1OCA0Ny41NjQ5MTY3LDcxLjU0MjI2NzEgNDguOTgzODY2LDY1LjI2MTk5MzkgQzUxLjExMjI4OTksNTUuODQxNTg0MiA0MS42NzcxNzk1LDQ5LjIxMjIyODQgMjUuNjIzOTg0Niw0OS4yMTIyMjg0IEMyNS40ODQ5Mjg5LDQ5LjEyNjg0NDggMjkuODI2MTI5Niw0My4yODM4MjQ4IDM4LjY0NzU4NjksMzEuNjgzMTY4MyBMNzIuODcxMjg3MSwzMi41NTQ0MjUgTDY1LjI4MDk3Myw2Ny42NzYzNDIxIEw1MS4xMTIyODk5LDc3LjM3NjE0NCBMMzUuMDA3NzE4LDgwIFoiIGlkPSJQYXRoLTIyIiBmaWxsPSIjMDAyODY4Ij48L3BhdGg+CiAgICAgICAgICAgICAgICA8cGF0aCBkPSJNMCwzNy43MzA0NDA1IEwyNy4xMTQ1MzcsMC4yNTcxMTE0MzYgQzYyLjM3MTUxMjMsLTEuOTkwNzE3MDEgODAsMTAuNTAwMzkyNyA4MCwzNy43MzA0NDA1IEM4MCw2NC45NjA0ODgyIDY0Ljc3NjUwMzgsNzkuMDUwMzQxNCAzNC4zMjk1MTEzLDgwIEM0Ny4wNTUzNDg5LDc3LjU2NzA4MDggNTMuNDE4MjY3Nyw3MC4zMTM2MTAzIDUzLjQxODI2NzcsNTguMjM5NTg4NSBDNTMuNDE4MjY3Nyw0MC4xMjg1NTU3IDM2LjMwMzk1NDQsMzcuNzMwNDQwNSAyNS4yMjc0MTcsMzcuNzMwNDQwNSBDMTcuODQzMDU4NiwzNy43MzA0NDA1IDkuNDMzOTE5NjYsMzcuNzMwNDQwNSAwLDM3LjczMDQ0MDUgWiIgaWQ9IlBhdGgtMTkiIGZpbGw9IiMzNzkzRUYiPjwvcGF0aD4KICAgICAgICAgICAgPC9nPgogICAgICAgIDwvZz4KICAgIDwvZz4KPC9zdmc+' > </img>\nCreated in <span style='font-weight:600;margin-left:4px;'>Deepnote</span></a>",
   "metadata": {
    "tags": [],
    "created_in_deepnote_cell": true,
    "deepnote_cell_type": "markdown"
   }
  }
 ],
 "nbformat": 4,
 "nbformat_minor": 5,
 "metadata": {
  "deepnote": {},
  "deepnote_execution_queue": [],
  "deepnote_notebook_id": "32407b60-45a5-47e6-9eae-e63a2d0fa0d0",
  "kernelspec": {
   "display_name": "geo_env",
   "language": "python",
   "name": "geo_env"
  },
  "language_info": {
   "codemirror_mode": {
    "name": "ipython",
    "version": 3
   },
   "file_extension": ".py",
   "mimetype": "text/x-python",
   "name": "python",
   "nbconvert_exporter": "python",
   "pygments_lexer": "ipython3",
   "version": "3.10.2"
  }
 }
}