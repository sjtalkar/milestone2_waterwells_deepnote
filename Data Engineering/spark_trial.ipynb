{
 "cells": [
  {
   "cell_type": "code",
   "metadata": {
    "tags": [],
    "cell_id": "db4e2b07-2744-4c4f-a8be-51777a42226b",
    "deepnote_to_be_reexecuted": false,
    "source_hash": "b31fd813",
    "execution_start": 1644974778242,
    "execution_millis": 3,
    "deepnote_cell_type": "code"
   },
   "source": "#https://deepnote.com/@rajshekar-2021/Outlier-Detection-Pyspark-Bp5prywdTU2ISpKq0nbQbw\n",
   "execution_count": null,
   "outputs": []
  },
  {
   "cell_type": "code",
   "metadata": {
    "cell_id": "a5fb5173-5cf7-4570-8628-250c1cbc5e99",
    "tags": [],
    "deepnote_to_be_reexecuted": false,
    "source_hash": "76b45505",
    "execution_start": 1644975380949,
    "execution_millis": 2,
    "deepnote_cell_type": "code"
   },
   "source": "import pyspark\nimport pandas as pd",
   "execution_count": null,
   "outputs": []
  },
  {
   "cell_type": "code",
   "metadata": {
    "cell_id": "e9d835ee-96e8-4169-b8d1-3518d86f526b",
    "tags": [],
    "deepnote_to_be_reexecuted": false,
    "source_hash": "750f3c87",
    "execution_start": 1644973031160,
    "execution_millis": 6586,
    "deepnote_cell_type": "code"
   },
   "source": "from pyspark import SparkContext\nsc = SparkContext(\"local\", \"First App\")",
   "execution_count": null,
   "outputs": []
  },
  {
   "cell_type": "code",
   "metadata": {
    "cell_id": "8488f011-6e38-4e46-87ac-1b8aebdd8a96",
    "tags": [],
    "deepnote_to_be_reexecuted": false,
    "source_hash": "4fb0855f",
    "execution_start": 1644973095140,
    "execution_millis": 251,
    "deepnote_cell_type": "code"
   },
   "source": "from pyspark.sql import SparkSession\nspark = SparkSession.builder.getOrCreate()",
   "execution_count": null,
   "outputs": []
  },
  {
   "cell_type": "code",
   "metadata": {
    "cell_id": "a6743a2d-6209-499e-a2c3-bf1f3b0ed38a",
    "tags": [],
    "deepnote_to_be_reexecuted": false,
    "source_hash": "78a60204",
    "execution_start": 1644975599695,
    "execution_millis": 485,
    "deepnote_output_heights": [
     21.1875
    ],
    "deepnote_cell_type": "code"
   },
   "source": "# Reading csv file\n# File location and type\nfile_location = \"spark_df_shortage.csv\"\nfile_type = \"csv\"\n\n# CSV options\ninfer_schema = \"false\"\nfirst_row_is_header = \"true\"\ndelimiter = \",\"\n\n# The applied options are for CSV files. For other file types, these will be ignored.\ndf = spark.read.format(file_type) \\\n  .option(\"inferSchema\", infer_schema) \\\n  .option(\"header\", first_row_is_header) \\\n  .option(\"sep\", delimiter) \\\n  .load(file_location)\n\n",
   "execution_count": null,
   "outputs": []
  },
  {
   "cell_type": "code",
   "metadata": {
    "cell_id": "6f021073-7055-4967-91f5-e7d90a40f78a",
    "tags": [],
    "deepnote_to_be_reexecuted": false,
    "source_hash": "5947b6e3",
    "execution_start": 1644975604304,
    "execution_millis": 844,
    "deepnote_output_heights": [
     21.1875
    ],
    "deepnote_cell_type": "code"
   },
   "source": "df.show()",
   "execution_count": null,
   "outputs": [
    {
     "name": "stdout",
     "text": "+----------+--------------------+--------------------+--------------------+--------------------+--------------------+--------------------+--------------------+-----------+----------------------------+------------+--------------+--------------------+-----------+-------------------+--------+----------+-----------------------+---------------+-------------------+---------+----+--------------------+\n|Well_Depth|          StatusType|              Status|   Household_Support| Pump_Rate_Reduction|        Water_Issues|       Shortage_Type| Was_Issue_Resolved?|CREATE_DATE|Approximate_Issue_Start_Date|Measure_Date|Primary_Usages|              Region|  LONGITUDE|Well_to_Water_Depth|      ID|      CITY|Approximate_Repair_Cost|         County|        Report_Date| LATITUDE| _id|     Additional_Info|\n+----------+--------------------+--------------------+--------------------+--------------------+--------------------+--------------------+--------------------+-----------+----------------------------+------------+--------------+--------------------+-----------+-------------------+--------+----------+-----------------------+---------------+-------------------+---------+----+--------------------+\n|      null|              Outage|           Undefined|                null|                null|Well is dry (no l...|Dry well (groundw...|                null| 05/24/2021|                  04/06/2021|        null|     Household|            Southern| -120.61821|               null|   10230| TEMPLETON|                   null|San Luis Obispo|2021-05-24T00:00:00| 35.50495|2830|                null|\n|       166|            Resolved|    Interim Solution|      owner-occupied|Yes, about a 30-4...|Reduction in wate...|Dry well (groundw...|No, trucking in w...| 05/25/2021|                  05/04/2021|  05/18/2021|     Household|              Inland| -119.78637|                148|   10247|   Lemoore|                   null|          Kings|2021-05-25T00:00:00| 36.30101|2831|                null|\n|       200|            Resolved|    Interim Solution|      owner-occupied|It's no longer pr...|Well is dry (no l...|Dry well (groundw...|No, trucking in w...| 05/25/2021|                  05/14/2021|  05/20/2021|     Household|              Inland|   -119.995|                200|   10248|    Madera|                   null|         Madera|2021-05-25T00:00:00| 37.05132|2832|                null|\n|      null|            Resolved|    Interim Solution|      owner-occupied|It's no longer pr...|Well is dry (no l...|Dry well (groundw...|No, trucking in w...| 05/26/2021|                  05/21/2021|  05/25/2021|     Household|              Inland| -120.14357|                  0|   10267|    Madera|                   null|         Madera|2021-05-26T00:00:00| 37.01731|2833|                null|\n|       200|            Resolved|    Interim Solution|      owner-occupied|It's no longer pr...|Well is dry (no l...|Dry well (groundw...|No, trucking in w...| 05/26/2021|                  05/24/2021|  05/24/2021|     Household|              Inland|-120.328507|                195|   10268|Chowchilla|                   null|         Madera|2021-05-26T00:00:00|37.020235|2834|                null|\n|       117|            Resolved|            Resolved|      owner-occupied|too low to get ac...|Reduction in wate...|                null|                null|       null|                        null|        null|          null|                null|       null|               null|    null|      null|                   null|           null|               null|     null|null|                null|\n|      null|Well is catching air| have to wait to ...|Dry well (groundw...|Yes, lowered the ...|                null|                null|                null|       null|                        null|        null|          null|                null|       null|               null|    null|      null|                   null|           null|               null|     null|null|                null|\n|      null|                  No| cannot afford to...|          05/30/2021|          08/15/2015|          11/18/1977|           Household|              Inland| -122.18107|                      93 ft.|       10287|       corning|                null|     Tehama|2021-05-30T00:00:00|39.94158|      2835|   My wife and I are...|           null|               null|     null|null|                null|\n|       53'|            Resolved|    Interim Solution|      owner-occupied|                null|Well is dry (no l...|Dry well (groundw...|No, trucking in w...| 05/31/2021|                  05/30/2021|        null|     Household|              Inland| -122.21164|               null|   10307|    Orland|                   null|          Glenn|2021-05-31T00:00:00| 39.74636|2836|                null|\n|        75|              Outage|              Outage|      owner-occupied|       85% reduction|Reduction in wate...|                null|                null|       null|                        null|        null|          null|                null|       null|               null|    null|      null|                   null|           null|               null|     null|null|                null|\n|      null|Reduction in wate...|                null|                null|                null|                null|                null|                null|       null|                        null|        null|          null|                null|       null|               null|    null|      null|                   null|           null|               null|     null|null|                null|\n|      null|Well is catching air| have to wait to ...|                null|                null|                null|                null|                null|       null|                        null|        null|          null|                null|       null|               null|    null|      null|                   null|           null|               null|     null|null|                null|\n|      null|Well is pumping sand|       muddy water.\"|Dry well (groundw...|Yes, lowered the ...|                null|                null|                null|       null|                        null|        null|          null|                null|       null|               null|    null|      null|                   null|           null|               null|     null|null|                null|\n|      null|Pump burned up an...|                null|                null|                null|                null|                null|                null|       null|                        null|        null|          null|                null|       null|               null|    null|      null|                   null|           null|               null|     null|null|                null|\n|      null|                  No| cannot afford to...|                null|                null|                null|                null|                null|       null|                        null|        null|          null|                null|       null|               null|    null|      null|                   null|           null|               null|     null|null|                null|\n|      null|                  No| getting water fr...|          05/31/2021|          05/01/2021|                null|           Household|              Inland| -122.15781|                          55|       10308|        Orland|Dropping pump $50...|      Glenn|2021-05-31T00:00:00|39.73126|      2837|   Everyone around u...|           null|               null|     null|null|                null|\n|      null|            Resolved|    Interim Solution|     renter-occupied|                null|Well is dry (no l...|Dry well (groundw...|No, trucking in w...| 06/01/2021|                  05/21/2021|        null|     Household|              Inland| -122.11097|               null|   10309|    Orland|                   null|          Glenn|2021-06-01T00:00:00| 39.70626|2838|Family of 5 being...|\n|       330|              Outage|              Outage|      owner-occupied|            Not sure|Well is catching ...|Dry well (groundw...|No, cannot afford...| 06/01/2021|                  03/01/2021|  05/10/2021|     Household|              Inland| -122.33318|                260|   10310|   Corning|   I?ve spent 3,000 ...|         Tehama|2021-06-01T00:00:00| 39.93327|2839|                null|\n|   110 ft.|              Outage|              Outage|      owner-occupied|    too low to check|Reduction in wate...|                null|                null|       null|                        null|        null|          null|                null|       null|               null|    null|      null|                   null|           null|               null|     null|null|                null|\n|      null|Reduction in wate...|                null|                null|                null|                null|                null|                null|       null|                        null|        null|          null|                null|       null|               null|    null|      null|                   null|           null|               null|     null|null|                null|\n+----------+--------------------+--------------------+--------------------+--------------------+--------------------+--------------------+--------------------+-----------+----------------------------+------------+--------------+--------------------+-----------+-------------------+--------+----------+-----------------------+---------------+-------------------+---------+----+--------------------+\nonly showing top 20 rows\n\n",
     "output_type": "stream"
    }
   ]
  },
  {
   "cell_type": "code",
   "metadata": {
    "cell_id": "20d5aa64-6c23-40d4-af9e-47f93bc646ce",
    "tags": [],
    "deepnote_to_be_reexecuted": false,
    "source_hash": "40d5b59f",
    "execution_start": 1644975650828,
    "execution_millis": 445,
    "deepnote_cell_type": "code"
   },
   "source": "pd_df = df.toPandas()",
   "execution_count": null,
   "outputs": []
  },
  {
   "cell_type": "code",
   "metadata": {
    "cell_id": "72dfb413-174d-488a-a0f4-bc391fc71361",
    "tags": [],
    "deepnote_to_be_reexecuted": false,
    "source_hash": "121d8b9a",
    "execution_start": 1644975653971,
    "execution_millis": 13,
    "deepnote_cell_type": "code"
   },
   "source": "pd_df.head(20)",
   "execution_count": null,
   "outputs": [
    {
     "output_type": "execute_result",
     "execution_count": 41,
     "data": {
      "application/vnd.deepnote.dataframe.v3+json": {
       "column_count": 23,
       "row_count": 20,
       "columns": [
        {
         "name": "Well_Depth",
         "dtype": "object",
         "stats": {
          "unique_count": 7,
          "nan_count": 12,
          "categories": [
           {
            "name": "200",
            "count": 2
           },
           {
            "name": "6 others",
            "count": 6
           },
           {
            "name": "Missing",
            "count": 12
           }
          ]
         }
        },
        {
         "name": "StatusType",
         "dtype": "object",
         "stats": {
          "unique_count": 7,
          "nan_count": 0,
          "categories": [
           {
            "name": "Resolved",
            "count": 7
           },
           {
            "name": "Outage",
            "count": 4
           },
           {
            "name": "5 others",
            "count": 9
           }
          ]
         }
        },
        {
         "name": "Status",
         "dtype": "object",
         "stats": {
          "unique_count": 10,
          "nan_count": 3,
          "categories": [
           {
            "name": "Interim Solution",
            "count": 6
           },
           {
            "name": "9 others",
            "count": 11
           },
           {
            "name": "Missing",
            "count": 3
           }
          ]
         }
        },
        {
         "name": "Household_Support",
         "dtype": "object",
         "stats": {
          "unique_count": 5,
          "nan_count": 6,
          "categories": [
           {
            "name": "owner-occupied",
            "count": 9
           },
           {
            "name": "4 others",
            "count": 5
           },
           {
            "name": "Missing",
            "count": 6
           }
          ]
         }
        },
        {
         "name": "Pump_Rate_Reduction",
         "dtype": "object",
         "stats": {
          "unique_count": 9,
          "nan_count": 8,
          "categories": [
           {
            "name": "It's no longer producing any water",
            "count": 3
           },
           {
            "name": "8 others",
            "count": 9
           },
           {
            "name": "Missing",
            "count": 8
           }
          ]
         }
        },
        {
         "name": "Water_Issues",
         "dtype": "object",
         "stats": {
          "unique_count": 4,
          "nan_count": 8,
          "categories": [
           {
            "name": "Well is dry (no longer producing water)",
            "count": 6
           },
           {
            "name": "3 others",
            "count": 6
           },
           {
            "name": "Missing",
            "count": 8
           }
          ]
         }
        },
        {
         "name": "Shortage_Type",
         "dtype": "object",
         "stats": {
          "unique_count": 2,
          "nan_count": 10,
          "categories": [
           {
            "name": "Dry well (groundwater)",
            "count": 8
           },
           {
            "name": "Household",
            "count": 2
           },
           {
            "name": "Missing",
            "count": 10
           }
          ]
         }
        },
        {
         "name": "Was_Issue_Resolved?",
         "dtype": "object",
         "stats": {
          "unique_count": 3,
          "nan_count": 11,
          "categories": [
           {
            "name": "No, trucking in water",
            "count": 6
           },
           {
            "name": "2 others",
            "count": 3
           },
           {
            "name": "Missing",
            "count": 11
           }
          ]
         }
        },
        {
         "name": "CREATE_DATE",
         "dtype": "object",
         "stats": {
          "unique_count": 7,
          "nan_count": 10,
          "categories": [
           {
            "name": "05/25/2021",
            "count": 2
           },
           {
            "name": "6 others",
            "count": 8
           },
           {
            "name": "Missing",
            "count": 10
           }
          ]
         }
        },
        {
         "name": "Approximate_Issue_Start_Date",
         "dtype": "object",
         "stats": {
          "unique_count": 9,
          "nan_count": 10,
          "categories": [
           {
            "name": "05/21/2021",
            "count": 2
           },
           {
            "name": "8 others",
            "count": 8
           },
           {
            "name": "Missing",
            "count": 10
           }
          ]
         }
        },
        {
         "name": "Measure_Date",
         "dtype": "object",
         "stats": {
          "unique_count": 7,
          "nan_count": 13,
          "categories": [
           {
            "name": "05/18/2021",
            "count": 1
           },
           {
            "name": "6 others",
            "count": 6
           },
           {
            "name": "Missing",
            "count": 13
           }
          ]
         }
        },
        {
         "name": "Primary_Usages",
         "dtype": "object",
         "stats": {
          "unique_count": 3,
          "nan_count": 10,
          "categories": [
           {
            "name": "Household",
            "count": 8
           },
           {
            "name": "2 others",
            "count": 2
           },
           {
            "name": "Missing",
            "count": 10
           }
          ]
         }
        },
        {
         "name": "Region",
         "dtype": "object",
         "stats": {
          "unique_count": 3,
          "nan_count": 11,
          "categories": [
           {
            "name": "Inland",
            "count": 7
           },
           {
            "name": "2 others",
            "count": 2
           },
           {
            "name": "Missing",
            "count": 11
           }
          ]
         }
        },
        {
         "name": "LONGITUDE",
         "dtype": "object",
         "stats": {
          "unique_count": 10,
          "nan_count": 10,
          "categories": [
           {
            "name": "-120.61821",
            "count": 1
           },
           {
            "name": "9 others",
            "count": 9
           },
           {
            "name": "Missing",
            "count": 10
           }
          ]
         }
        },
        {
         "name": "Well_to_Water_Depth",
         "dtype": "object",
         "stats": {
          "unique_count": 7,
          "nan_count": 13,
          "categories": [
           {
            "name": "148",
            "count": 1
           },
           {
            "name": "6 others",
            "count": 6
           },
           {
            "name": "Missing",
            "count": 13
           }
          ]
         }
        },
        {
         "name": "ID",
         "dtype": "object",
         "stats": {
          "unique_count": 10,
          "nan_count": 10,
          "categories": [
           {
            "name": "10230",
            "count": 1
           },
           {
            "name": "9 others",
            "count": 9
           },
           {
            "name": "Missing",
            "count": 10
           }
          ]
         }
        },
        {
         "name": "CITY",
         "dtype": "object",
         "stats": {
          "unique_count": 8,
          "nan_count": 10,
          "categories": [
           {
            "name": "Madera",
            "count": 2
           },
           {
            "name": "7 others",
            "count": 8
           },
           {
            "name": "Missing",
            "count": 10
           }
          ]
         }
        },
        {
         "name": "Approximate_Repair_Cost",
         "dtype": "object",
         "stats": {
          "unique_count": 3,
          "nan_count": 17,
          "categories": [
           {
            "name": "My wife and I are over 70 and enjoy gardening as a supplement to store bought we have one small garden (10 by 4) but would like to expand but with our water situation it's not possible.  I am afraid one day the water level will drop below our pump and stay there.  I don't know why our neighbor is not experiencing the same problems, different depth? different strata?",
            "count": 1
           },
           {
            "name": "2 others",
            "count": 2
           },
           {
            "name": "Missing",
            "count": 17
           }
          ]
         }
        },
        {
         "name": "County",
         "dtype": "object",
         "stats": {
          "unique_count": 5,
          "nan_count": 12,
          "categories": [
           {
            "name": "Madera",
            "count": 3
           },
           {
            "name": "4 others",
            "count": 5
           },
           {
            "name": "Missing",
            "count": 12
           }
          ]
         }
        },
        {
         "name": "Report_Date",
         "dtype": "object",
         "stats": {
          "unique_count": 5,
          "nan_count": 12,
          "categories": [
           {
            "name": "2021-05-25T00:00:00",
            "count": 2
           },
           {
            "name": "4 others",
            "count": 6
           },
           {
            "name": "Missing",
            "count": 12
           }
          ]
         }
        },
        {
         "name": "LATITUDE",
         "dtype": "object",
         "stats": {
          "unique_count": 8,
          "nan_count": 12,
          "categories": [
           {
            "name": "35.50495",
            "count": 1
           },
           {
            "name": "7 others",
            "count": 7
           },
           {
            "name": "Missing",
            "count": 12
           }
          ]
         }
        },
        {
         "name": "_id",
         "dtype": "object",
         "stats": {
          "unique_count": 8,
          "nan_count": 12,
          "categories": [
           {
            "name": "2830",
            "count": 1
           },
           {
            "name": "7 others",
            "count": 7
           },
           {
            "name": "Missing",
            "count": 12
           }
          ]
         }
        },
        {
         "name": "Additional_Info",
         "dtype": "object",
         "stats": {
          "unique_count": 1,
          "nan_count": 19,
          "categories": [
           {
            "name": "Family of 5 being evicted due to well running dry. No available housing for family of 5 nearby.",
            "count": 1
           },
           {
            "name": "Missing",
            "count": 19
           }
          ]
         }
        },
        {
         "name": "_deepnote_index_column",
         "dtype": "int64"
        }
       ],
       "rows": [
        {
         "Well_Depth": "None",
         "StatusType": "Outage",
         "Status": "Undefined",
         "Household_Support": "None",
         "Pump_Rate_Reduction": "None",
         "Water_Issues": "Well is dry (no longer producing water)",
         "Shortage_Type": "Dry well (groundwater)",
         "Was_Issue_Resolved?": "None",
         "CREATE_DATE": "05/24/2021",
         "Approximate_Issue_Start_Date": "04/06/2021",
         "Measure_Date": "None",
         "Primary_Usages": "Household",
         "Region": "Southern",
         "LONGITUDE": "-120.61821",
         "Well_to_Water_Depth": "None",
         "ID": "10230",
         "CITY": "TEMPLETON",
         "Approximate_Repair_Cost": "None",
         "County": "San Luis Obispo",
         "Report_Date": "2021-05-24T00:00:00",
         "LATITUDE": "35.50495",
         "_id": "2830",
         "Additional_Info": "None",
         "_deepnote_index_column": 0
        },
        {
         "Well_Depth": "166",
         "StatusType": "Resolved",
         "Status": "Interim Solution",
         "Household_Support": "owner-occupied",
         "Pump_Rate_Reduction": "Yes, about a 30-40% reduction",
         "Water_Issues": "Reduction in water pressure, lower flows.",
         "Shortage_Type": "Dry well (groundwater)",
         "Was_Issue_Resolved?": "No, trucking in water",
         "CREATE_DATE": "05/25/2021",
         "Approximate_Issue_Start_Date": "05/04/2021",
         "Measure_Date": "05/18/2021",
         "Primary_Usages": "Household",
         "Region": "Inland",
         "LONGITUDE": "-119.78637",
         "Well_to_Water_Depth": "148",
         "ID": "10247",
         "CITY": "Lemoore",
         "Approximate_Repair_Cost": "None",
         "County": "Kings",
         "Report_Date": "2021-05-25T00:00:00",
         "LATITUDE": "36.30101",
         "_id": "2831",
         "Additional_Info": "None",
         "_deepnote_index_column": 1
        },
        {
         "Well_Depth": "200",
         "StatusType": "Resolved",
         "Status": "Interim Solution",
         "Household_Support": "owner-occupied",
         "Pump_Rate_Reduction": "It's no longer producing any water",
         "Water_Issues": "Well is dry (no longer producing water)",
         "Shortage_Type": "Dry well (groundwater)",
         "Was_Issue_Resolved?": "No, trucking in water",
         "CREATE_DATE": "05/25/2021",
         "Approximate_Issue_Start_Date": "05/14/2021",
         "Measure_Date": "05/20/2021",
         "Primary_Usages": "Household",
         "Region": "Inland",
         "LONGITUDE": "-119.995",
         "Well_to_Water_Depth": "200",
         "ID": "10248",
         "CITY": "Madera",
         "Approximate_Repair_Cost": "None",
         "County": "Madera",
         "Report_Date": "2021-05-25T00:00:00",
         "LATITUDE": "37.05132",
         "_id": "2832",
         "Additional_Info": "None",
         "_deepnote_index_column": 2
        },
        {
         "Well_Depth": "None",
         "StatusType": "Resolved",
         "Status": "Interim Solution",
         "Household_Support": "owner-occupied",
         "Pump_Rate_Reduction": "It's no longer producing any water",
         "Water_Issues": "Well is dry (no longer producing water)",
         "Shortage_Type": "Dry well (groundwater)",
         "Was_Issue_Resolved?": "No, trucking in water",
         "CREATE_DATE": "05/26/2021",
         "Approximate_Issue_Start_Date": "05/21/2021",
         "Measure_Date": "05/25/2021",
         "Primary_Usages": "Household",
         "Region": "Inland",
         "LONGITUDE": "-120.14357",
         "Well_to_Water_Depth": "0",
         "ID": "10267",
         "CITY": "Madera",
         "Approximate_Repair_Cost": "None",
         "County": "Madera",
         "Report_Date": "2021-05-26T00:00:00",
         "LATITUDE": "37.01731",
         "_id": "2833",
         "Additional_Info": "None",
         "_deepnote_index_column": 3
        },
        {
         "Well_Depth": "200",
         "StatusType": "Resolved",
         "Status": "Interim Solution",
         "Household_Support": "owner-occupied",
         "Pump_Rate_Reduction": "It's no longer producing any water",
         "Water_Issues": "Well is dry (no longer producing water)",
         "Shortage_Type": "Dry well (groundwater)",
         "Was_Issue_Resolved?": "No, trucking in water",
         "CREATE_DATE": "05/26/2021",
         "Approximate_Issue_Start_Date": "05/24/2021",
         "Measure_Date": "05/24/2021",
         "Primary_Usages": "Household",
         "Region": "Inland",
         "LONGITUDE": "-120.328507",
         "Well_to_Water_Depth": "195",
         "ID": "10268",
         "CITY": "Chowchilla",
         "Approximate_Repair_Cost": "None",
         "County": "Madera",
         "Report_Date": "2021-05-26T00:00:00",
         "LATITUDE": "37.020235",
         "_id": "2834",
         "Additional_Info": "None",
         "_deepnote_index_column": 4
        },
        {
         "Well_Depth": "117",
         "StatusType": "Resolved",
         "Status": "Resolved",
         "Household_Support": "owner-occupied",
         "Pump_Rate_Reduction": "too low to get accurate reading",
         "Water_Issues": "Reduction in water pressure, lower flows.",
         "Shortage_Type": "None",
         "Was_Issue_Resolved?": "None",
         "CREATE_DATE": "None",
         "Approximate_Issue_Start_Date": "None",
         "Measure_Date": "None",
         "Primary_Usages": "None",
         "Region": "None",
         "LONGITUDE": "None",
         "Well_to_Water_Depth": "None",
         "ID": "None",
         "CITY": "None",
         "Approximate_Repair_Cost": "None",
         "County": "None",
         "Report_Date": "None",
         "LATITUDE": "None",
         "_id": "None",
         "Additional_Info": "None",
         "_deepnote_index_column": 5
        },
        {
         "Well_Depth": "None",
         "StatusType": "Well is catching air",
         "Status": " have to wait to be able to pump.\"",
         "Household_Support": "Dry well (groundwater)",
         "Pump_Rate_Reduction": "Yes, lowered the pump bowl",
         "Water_Issues": "None",
         "Shortage_Type": "None",
         "Was_Issue_Resolved?": "None",
         "CREATE_DATE": "None",
         "Approximate_Issue_Start_Date": "None",
         "Measure_Date": "None",
         "Primary_Usages": "None",
         "Region": "None",
         "LONGITUDE": "None",
         "Well_to_Water_Depth": "None",
         "ID": "None",
         "CITY": "None",
         "Approximate_Repair_Cost": "None",
         "County": "None",
         "Report_Date": "None",
         "LATITUDE": "None",
         "_id": "None",
         "Additional_Info": "None",
         "_deepnote_index_column": 6
        },
        {
         "Well_Depth": "None",
         "StatusType": "No",
         "Status": " cannot afford to finance solutions.\"",
         "Household_Support": "05/30/2021",
         "Pump_Rate_Reduction": "08/15/2015",
         "Water_Issues": "11/18/1977",
         "Shortage_Type": "Household",
         "Was_Issue_Resolved?": "Inland",
         "CREATE_DATE": "-122.18107",
         "Approximate_Issue_Start_Date": "93 ft.",
         "Measure_Date": "10287",
         "Primary_Usages": "corning",
         "Region": "None",
         "LONGITUDE": "Tehama",
         "Well_to_Water_Depth": "2021-05-30T00:00:00",
         "ID": "39.94158",
         "CITY": "2835",
         "Approximate_Repair_Cost": "My wife and I are over 70 and enjoy gardening as a supplement to store bought we have one small gar…",
         "County": "None",
         "Report_Date": "None",
         "LATITUDE": "None",
         "_id": "None",
         "Additional_Info": "None",
         "_deepnote_index_column": 7
        },
        {
         "Well_Depth": "53'",
         "StatusType": "Resolved",
         "Status": "Interim Solution",
         "Household_Support": "owner-occupied",
         "Pump_Rate_Reduction": "None",
         "Water_Issues": "Well is dry (no longer producing water)",
         "Shortage_Type": "Dry well (groundwater)",
         "Was_Issue_Resolved?": "No, trucking in water",
         "CREATE_DATE": "05/31/2021",
         "Approximate_Issue_Start_Date": "05/30/2021",
         "Measure_Date": "None",
         "Primary_Usages": "Household",
         "Region": "Inland",
         "LONGITUDE": "-122.21164",
         "Well_to_Water_Depth": "None",
         "ID": "10307",
         "CITY": "Orland",
         "Approximate_Repair_Cost": "None",
         "County": "Glenn",
         "Report_Date": "2021-05-31T00:00:00",
         "LATITUDE": "39.74636",
         "_id": "2836",
         "Additional_Info": "None",
         "_deepnote_index_column": 8
        },
        {
         "Well_Depth": "75",
         "StatusType": "Outage",
         "Status": "Outage",
         "Household_Support": "owner-occupied",
         "Pump_Rate_Reduction": "85% reduction",
         "Water_Issues": "Reduction in water pressure, lower flows.",
         "Shortage_Type": "None",
         "Was_Issue_Resolved?": "None",
         "CREATE_DATE": "None",
         "Approximate_Issue_Start_Date": "None",
         "Measure_Date": "None",
         "Primary_Usages": "None",
         "Region": "None",
         "LONGITUDE": "None",
         "Well_to_Water_Depth": "None",
         "ID": "None",
         "CITY": "None",
         "Approximate_Repair_Cost": "None",
         "County": "None",
         "Report_Date": "None",
         "LATITUDE": "None",
         "_id": "None",
         "Additional_Info": "None",
         "_deepnote_index_column": 9
        }
       ]
      },
      "text/plain": "   Well_Depth                                         StatusType  \\\n0        None                                             Outage   \n1         166                                           Resolved   \n2         200                                           Resolved   \n3        None                                           Resolved   \n4         200                                           Resolved   \n5         117                                           Resolved   \n6        None                               Well is catching air   \n7        None                                                 No   \n8         53'                                           Resolved   \n9          75                                             Outage   \n10       None                         Reduction in water quality   \n11       None                               Well is catching air   \n12       None                               Well is pumping sand   \n13       None  Pump burned up and have one on order and waiti...   \n14       None                                                 No   \n15       None                                                 No   \n16       None                                           Resolved   \n17        330                                             Outage   \n18    110 ft.                                             Outage   \n19       None                         Reduction in water quality   \n\n                                            Status       Household_Support  \\\n0                                        Undefined                    None   \n1                                 Interim Solution          owner-occupied   \n2                                 Interim Solution          owner-occupied   \n3                                 Interim Solution          owner-occupied   \n4                                 Interim Solution          owner-occupied   \n5                                         Resolved          owner-occupied   \n6                have to wait to be able to pump.\"  Dry well (groundwater)   \n7             cannot afford to finance solutions.\"              05/30/2021   \n8                                 Interim Solution          owner-occupied   \n9                                           Outage          owner-occupied   \n10                                            None                    None   \n11                have to wait to be able to pump.                    None   \n12                                   muddy water.\"  Dry well (groundwater)   \n13                                            None                    None   \n14             cannot afford to finance solutions.                    None   \n15   getting water from our neighbors with a hose\"              05/31/2021   \n16                                Interim Solution         renter-occupied   \n17                                          Outage          owner-occupied   \n18                                          Outage          owner-occupied   \n19                                            None                    None   \n\n                   Pump_Rate_Reduction  \\\n0                                 None   \n1        Yes, about a 30-40% reduction   \n2   It's no longer producing any water   \n3   It's no longer producing any water   \n4   It's no longer producing any water   \n5      too low to get accurate reading   \n6           Yes, lowered the pump bowl   \n7                           08/15/2015   \n8                                 None   \n9                        85% reduction   \n10                                None   \n11                                None   \n12          Yes, lowered the pump bowl   \n13                                None   \n14                                None   \n15                          05/01/2021   \n16                                None   \n17                            Not sure   \n18                    too low to check   \n19                                None   \n\n                                         Water_Issues           Shortage_Type  \\\n0             Well is dry (no longer producing water)  Dry well (groundwater)   \n1           Reduction in water pressure, lower flows.  Dry well (groundwater)   \n2             Well is dry (no longer producing water)  Dry well (groundwater)   \n3             Well is dry (no longer producing water)  Dry well (groundwater)   \n4             Well is dry (no longer producing water)  Dry well (groundwater)   \n5           Reduction in water pressure, lower flows.                    None   \n6                                                None                    None   \n7                                          11/18/1977               Household   \n8             Well is dry (no longer producing water)  Dry well (groundwater)   \n9           Reduction in water pressure, lower flows.                    None   \n10                                               None                    None   \n11                                               None                    None   \n12                                               None                    None   \n13                                               None                    None   \n14                                               None                    None   \n15                                               None               Household   \n16            Well is dry (no longer producing water)  Dry well (groundwater)   \n17  Well is catching air, have to wait to be able ...  Dry well (groundwater)   \n18          Reduction in water pressure, lower flows.                    None   \n19                                               None                    None   \n\n                        Was_Issue_Resolved? CREATE_DATE  \\\n0                                      None  05/24/2021   \n1                     No, trucking in water  05/25/2021   \n2                     No, trucking in water  05/25/2021   \n3                     No, trucking in water  05/26/2021   \n4                     No, trucking in water  05/26/2021   \n5                                      None        None   \n6                                      None        None   \n7                                    Inland  -122.18107   \n8                     No, trucking in water  05/31/2021   \n9                                      None        None   \n10                                     None        None   \n11                                     None        None   \n12                                     None        None   \n13                                     None        None   \n14                                     None        None   \n15                                   Inland  -122.15781   \n16                    No, trucking in water  06/01/2021   \n17  No, cannot afford to finance solutions.  06/01/2021   \n18                                     None        None   \n19                                     None        None   \n\n   Approximate_Issue_Start_Date  ...    LONGITUDE  Well_to_Water_Depth  \\\n0                    04/06/2021  ...   -120.61821                 None   \n1                    05/04/2021  ...   -119.78637                  148   \n2                    05/14/2021  ...     -119.995                  200   \n3                    05/21/2021  ...   -120.14357                    0   \n4                    05/24/2021  ...  -120.328507                  195   \n5                          None  ...         None                 None   \n6                          None  ...         None                 None   \n7                        93 ft.  ...       Tehama  2021-05-30T00:00:00   \n8                    05/30/2021  ...   -122.21164                 None   \n9                          None  ...         None                 None   \n10                         None  ...         None                 None   \n11                         None  ...         None                 None   \n12                         None  ...         None                 None   \n13                         None  ...         None                 None   \n14                         None  ...         None                 None   \n15                           55  ...        Glenn  2021-05-31T00:00:00   \n16                   05/21/2021  ...   -122.11097                 None   \n17                   03/01/2021  ...   -122.33318                  260   \n18                         None  ...         None                 None   \n19                         None  ...         None                 None   \n\n          ID        CITY                            Approximate_Repair_Cost  \\\n0      10230   TEMPLETON                                               None   \n1      10247     Lemoore                                               None   \n2      10248      Madera                                               None   \n3      10267      Madera                                               None   \n4      10268  Chowchilla                                               None   \n5       None        None                                               None   \n6       None        None                                               None   \n7   39.94158        2835  My wife and I are over 70 and enjoy gardening ...   \n8      10307      Orland                                               None   \n9       None        None                                               None   \n10      None        None                                               None   \n11      None        None                                               None   \n12      None        None                                               None   \n13      None        None                                               None   \n14      None        None                                               None   \n15  39.73126        2837  Everyone around us and neighbors are having th...   \n16     10309      Orland                                               None   \n17     10310     Corning   I?ve spent 3,000 on pump and lowering Not fixed!   \n18      None        None                                               None   \n19      None        None                                               None   \n\n             County          Report_Date   LATITUDE   _id  \\\n0   San Luis Obispo  2021-05-24T00:00:00   35.50495  2830   \n1             Kings  2021-05-25T00:00:00   36.30101  2831   \n2            Madera  2021-05-25T00:00:00   37.05132  2832   \n3            Madera  2021-05-26T00:00:00   37.01731  2833   \n4            Madera  2021-05-26T00:00:00  37.020235  2834   \n5              None                 None       None  None   \n6              None                 None       None  None   \n7              None                 None       None  None   \n8             Glenn  2021-05-31T00:00:00   39.74636  2836   \n9              None                 None       None  None   \n10             None                 None       None  None   \n11             None                 None       None  None   \n12             None                 None       None  None   \n13             None                 None       None  None   \n14             None                 None       None  None   \n15             None                 None       None  None   \n16            Glenn  2021-06-01T00:00:00   39.70626  2838   \n17           Tehama  2021-06-01T00:00:00   39.93327  2839   \n18             None                 None       None  None   \n19             None                 None       None  None   \n\n                                      Additional_Info  \n0                                                None  \n1                                                None  \n2                                                None  \n3                                                None  \n4                                                None  \n5                                                None  \n6                                                None  \n7                                                None  \n8                                                None  \n9                                                None  \n10                                               None  \n11                                               None  \n12                                               None  \n13                                               None  \n14                                               None  \n15                                               None  \n16  Family of 5 being evicted due to well running ...  \n17                                               None  \n18                                               None  \n19                                               None  \n\n[20 rows x 23 columns]",
      "text/html": "<div>\n<style scoped>\n    .dataframe tbody tr th:only-of-type {\n        vertical-align: middle;\n    }\n\n    .dataframe tbody tr th {\n        vertical-align: top;\n    }\n\n    .dataframe thead th {\n        text-align: right;\n    }\n</style>\n<table border=\"1\" class=\"dataframe\">\n  <thead>\n    <tr style=\"text-align: right;\">\n      <th></th>\n      <th>Well_Depth</th>\n      <th>StatusType</th>\n      <th>Status</th>\n      <th>Household_Support</th>\n      <th>Pump_Rate_Reduction</th>\n      <th>Water_Issues</th>\n      <th>Shortage_Type</th>\n      <th>Was_Issue_Resolved?</th>\n      <th>CREATE_DATE</th>\n      <th>Approximate_Issue_Start_Date</th>\n      <th>...</th>\n      <th>LONGITUDE</th>\n      <th>Well_to_Water_Depth</th>\n      <th>ID</th>\n      <th>CITY</th>\n      <th>Approximate_Repair_Cost</th>\n      <th>County</th>\n      <th>Report_Date</th>\n      <th>LATITUDE</th>\n      <th>_id</th>\n      <th>Additional_Info</th>\n    </tr>\n  </thead>\n  <tbody>\n    <tr>\n      <th>0</th>\n      <td>None</td>\n      <td>Outage</td>\n      <td>Undefined</td>\n      <td>None</td>\n      <td>None</td>\n      <td>Well is dry (no longer producing water)</td>\n      <td>Dry well (groundwater)</td>\n      <td>None</td>\n      <td>05/24/2021</td>\n      <td>04/06/2021</td>\n      <td>...</td>\n      <td>-120.61821</td>\n      <td>None</td>\n      <td>10230</td>\n      <td>TEMPLETON</td>\n      <td>None</td>\n      <td>San Luis Obispo</td>\n      <td>2021-05-24T00:00:00</td>\n      <td>35.50495</td>\n      <td>2830</td>\n      <td>None</td>\n    </tr>\n    <tr>\n      <th>1</th>\n      <td>166</td>\n      <td>Resolved</td>\n      <td>Interim Solution</td>\n      <td>owner-occupied</td>\n      <td>Yes, about a 30-40% reduction</td>\n      <td>Reduction in water pressure, lower flows.</td>\n      <td>Dry well (groundwater)</td>\n      <td>No, trucking in water</td>\n      <td>05/25/2021</td>\n      <td>05/04/2021</td>\n      <td>...</td>\n      <td>-119.78637</td>\n      <td>148</td>\n      <td>10247</td>\n      <td>Lemoore</td>\n      <td>None</td>\n      <td>Kings</td>\n      <td>2021-05-25T00:00:00</td>\n      <td>36.30101</td>\n      <td>2831</td>\n      <td>None</td>\n    </tr>\n    <tr>\n      <th>2</th>\n      <td>200</td>\n      <td>Resolved</td>\n      <td>Interim Solution</td>\n      <td>owner-occupied</td>\n      <td>It's no longer producing any water</td>\n      <td>Well is dry (no longer producing water)</td>\n      <td>Dry well (groundwater)</td>\n      <td>No, trucking in water</td>\n      <td>05/25/2021</td>\n      <td>05/14/2021</td>\n      <td>...</td>\n      <td>-119.995</td>\n      <td>200</td>\n      <td>10248</td>\n      <td>Madera</td>\n      <td>None</td>\n      <td>Madera</td>\n      <td>2021-05-25T00:00:00</td>\n      <td>37.05132</td>\n      <td>2832</td>\n      <td>None</td>\n    </tr>\n    <tr>\n      <th>3</th>\n      <td>None</td>\n      <td>Resolved</td>\n      <td>Interim Solution</td>\n      <td>owner-occupied</td>\n      <td>It's no longer producing any water</td>\n      <td>Well is dry (no longer producing water)</td>\n      <td>Dry well (groundwater)</td>\n      <td>No, trucking in water</td>\n      <td>05/26/2021</td>\n      <td>05/21/2021</td>\n      <td>...</td>\n      <td>-120.14357</td>\n      <td>0</td>\n      <td>10267</td>\n      <td>Madera</td>\n      <td>None</td>\n      <td>Madera</td>\n      <td>2021-05-26T00:00:00</td>\n      <td>37.01731</td>\n      <td>2833</td>\n      <td>None</td>\n    </tr>\n    <tr>\n      <th>4</th>\n      <td>200</td>\n      <td>Resolved</td>\n      <td>Interim Solution</td>\n      <td>owner-occupied</td>\n      <td>It's no longer producing any water</td>\n      <td>Well is dry (no longer producing water)</td>\n      <td>Dry well (groundwater)</td>\n      <td>No, trucking in water</td>\n      <td>05/26/2021</td>\n      <td>05/24/2021</td>\n      <td>...</td>\n      <td>-120.328507</td>\n      <td>195</td>\n      <td>10268</td>\n      <td>Chowchilla</td>\n      <td>None</td>\n      <td>Madera</td>\n      <td>2021-05-26T00:00:00</td>\n      <td>37.020235</td>\n      <td>2834</td>\n      <td>None</td>\n    </tr>\n    <tr>\n      <th>5</th>\n      <td>117</td>\n      <td>Resolved</td>\n      <td>Resolved</td>\n      <td>owner-occupied</td>\n      <td>too low to get accurate reading</td>\n      <td>Reduction in water pressure, lower flows.</td>\n      <td>None</td>\n      <td>None</td>\n      <td>None</td>\n      <td>None</td>\n      <td>...</td>\n      <td>None</td>\n      <td>None</td>\n      <td>None</td>\n      <td>None</td>\n      <td>None</td>\n      <td>None</td>\n      <td>None</td>\n      <td>None</td>\n      <td>None</td>\n      <td>None</td>\n    </tr>\n    <tr>\n      <th>6</th>\n      <td>None</td>\n      <td>Well is catching air</td>\n      <td>have to wait to be able to pump.\"</td>\n      <td>Dry well (groundwater)</td>\n      <td>Yes, lowered the pump bowl</td>\n      <td>None</td>\n      <td>None</td>\n      <td>None</td>\n      <td>None</td>\n      <td>None</td>\n      <td>...</td>\n      <td>None</td>\n      <td>None</td>\n      <td>None</td>\n      <td>None</td>\n      <td>None</td>\n      <td>None</td>\n      <td>None</td>\n      <td>None</td>\n      <td>None</td>\n      <td>None</td>\n    </tr>\n    <tr>\n      <th>7</th>\n      <td>None</td>\n      <td>No</td>\n      <td>cannot afford to finance solutions.\"</td>\n      <td>05/30/2021</td>\n      <td>08/15/2015</td>\n      <td>11/18/1977</td>\n      <td>Household</td>\n      <td>Inland</td>\n      <td>-122.18107</td>\n      <td>93 ft.</td>\n      <td>...</td>\n      <td>Tehama</td>\n      <td>2021-05-30T00:00:00</td>\n      <td>39.94158</td>\n      <td>2835</td>\n      <td>My wife and I are over 70 and enjoy gardening ...</td>\n      <td>None</td>\n      <td>None</td>\n      <td>None</td>\n      <td>None</td>\n      <td>None</td>\n    </tr>\n    <tr>\n      <th>8</th>\n      <td>53'</td>\n      <td>Resolved</td>\n      <td>Interim Solution</td>\n      <td>owner-occupied</td>\n      <td>None</td>\n      <td>Well is dry (no longer producing water)</td>\n      <td>Dry well (groundwater)</td>\n      <td>No, trucking in water</td>\n      <td>05/31/2021</td>\n      <td>05/30/2021</td>\n      <td>...</td>\n      <td>-122.21164</td>\n      <td>None</td>\n      <td>10307</td>\n      <td>Orland</td>\n      <td>None</td>\n      <td>Glenn</td>\n      <td>2021-05-31T00:00:00</td>\n      <td>39.74636</td>\n      <td>2836</td>\n      <td>None</td>\n    </tr>\n    <tr>\n      <th>9</th>\n      <td>75</td>\n      <td>Outage</td>\n      <td>Outage</td>\n      <td>owner-occupied</td>\n      <td>85% reduction</td>\n      <td>Reduction in water pressure, lower flows.</td>\n      <td>None</td>\n      <td>None</td>\n      <td>None</td>\n      <td>None</td>\n      <td>...</td>\n      <td>None</td>\n      <td>None</td>\n      <td>None</td>\n      <td>None</td>\n      <td>None</td>\n      <td>None</td>\n      <td>None</td>\n      <td>None</td>\n      <td>None</td>\n      <td>None</td>\n    </tr>\n    <tr>\n      <th>10</th>\n      <td>None</td>\n      <td>Reduction in water quality</td>\n      <td>None</td>\n      <td>None</td>\n      <td>None</td>\n      <td>None</td>\n      <td>None</td>\n      <td>None</td>\n      <td>None</td>\n      <td>None</td>\n      <td>...</td>\n      <td>None</td>\n      <td>None</td>\n      <td>None</td>\n      <td>None</td>\n      <td>None</td>\n      <td>None</td>\n      <td>None</td>\n      <td>None</td>\n      <td>None</td>\n      <td>None</td>\n    </tr>\n    <tr>\n      <th>11</th>\n      <td>None</td>\n      <td>Well is catching air</td>\n      <td>have to wait to be able to pump.</td>\n      <td>None</td>\n      <td>None</td>\n      <td>None</td>\n      <td>None</td>\n      <td>None</td>\n      <td>None</td>\n      <td>None</td>\n      <td>...</td>\n      <td>None</td>\n      <td>None</td>\n      <td>None</td>\n      <td>None</td>\n      <td>None</td>\n      <td>None</td>\n      <td>None</td>\n      <td>None</td>\n      <td>None</td>\n      <td>None</td>\n    </tr>\n    <tr>\n      <th>12</th>\n      <td>None</td>\n      <td>Well is pumping sand</td>\n      <td>muddy water.\"</td>\n      <td>Dry well (groundwater)</td>\n      <td>Yes, lowered the pump bowl</td>\n      <td>None</td>\n      <td>None</td>\n      <td>None</td>\n      <td>None</td>\n      <td>None</td>\n      <td>...</td>\n      <td>None</td>\n      <td>None</td>\n      <td>None</td>\n      <td>None</td>\n      <td>None</td>\n      <td>None</td>\n      <td>None</td>\n      <td>None</td>\n      <td>None</td>\n      <td>None</td>\n    </tr>\n    <tr>\n      <th>13</th>\n      <td>None</td>\n      <td>Pump burned up and have one on order and waiti...</td>\n      <td>None</td>\n      <td>None</td>\n      <td>None</td>\n      <td>None</td>\n      <td>None</td>\n      <td>None</td>\n      <td>None</td>\n      <td>None</td>\n      <td>...</td>\n      <td>None</td>\n      <td>None</td>\n      <td>None</td>\n      <td>None</td>\n      <td>None</td>\n      <td>None</td>\n      <td>None</td>\n      <td>None</td>\n      <td>None</td>\n      <td>None</td>\n    </tr>\n    <tr>\n      <th>14</th>\n      <td>None</td>\n      <td>No</td>\n      <td>cannot afford to finance solutions.</td>\n      <td>None</td>\n      <td>None</td>\n      <td>None</td>\n      <td>None</td>\n      <td>None</td>\n      <td>None</td>\n      <td>None</td>\n      <td>...</td>\n      <td>None</td>\n      <td>None</td>\n      <td>None</td>\n      <td>None</td>\n      <td>None</td>\n      <td>None</td>\n      <td>None</td>\n      <td>None</td>\n      <td>None</td>\n      <td>None</td>\n    </tr>\n    <tr>\n      <th>15</th>\n      <td>None</td>\n      <td>No</td>\n      <td>getting water from our neighbors with a hose\"</td>\n      <td>05/31/2021</td>\n      <td>05/01/2021</td>\n      <td>None</td>\n      <td>Household</td>\n      <td>Inland</td>\n      <td>-122.15781</td>\n      <td>55</td>\n      <td>...</td>\n      <td>Glenn</td>\n      <td>2021-05-31T00:00:00</td>\n      <td>39.73126</td>\n      <td>2837</td>\n      <td>Everyone around us and neighbors are having th...</td>\n      <td>None</td>\n      <td>None</td>\n      <td>None</td>\n      <td>None</td>\n      <td>None</td>\n    </tr>\n    <tr>\n      <th>16</th>\n      <td>None</td>\n      <td>Resolved</td>\n      <td>Interim Solution</td>\n      <td>renter-occupied</td>\n      <td>None</td>\n      <td>Well is dry (no longer producing water)</td>\n      <td>Dry well (groundwater)</td>\n      <td>No, trucking in water</td>\n      <td>06/01/2021</td>\n      <td>05/21/2021</td>\n      <td>...</td>\n      <td>-122.11097</td>\n      <td>None</td>\n      <td>10309</td>\n      <td>Orland</td>\n      <td>None</td>\n      <td>Glenn</td>\n      <td>2021-06-01T00:00:00</td>\n      <td>39.70626</td>\n      <td>2838</td>\n      <td>Family of 5 being evicted due to well running ...</td>\n    </tr>\n    <tr>\n      <th>17</th>\n      <td>330</td>\n      <td>Outage</td>\n      <td>Outage</td>\n      <td>owner-occupied</td>\n      <td>Not sure</td>\n      <td>Well is catching air, have to wait to be able ...</td>\n      <td>Dry well (groundwater)</td>\n      <td>No, cannot afford to finance solutions.</td>\n      <td>06/01/2021</td>\n      <td>03/01/2021</td>\n      <td>...</td>\n      <td>-122.33318</td>\n      <td>260</td>\n      <td>10310</td>\n      <td>Corning</td>\n      <td>I?ve spent 3,000 on pump and lowering Not fixed!</td>\n      <td>Tehama</td>\n      <td>2021-06-01T00:00:00</td>\n      <td>39.93327</td>\n      <td>2839</td>\n      <td>None</td>\n    </tr>\n    <tr>\n      <th>18</th>\n      <td>110 ft.</td>\n      <td>Outage</td>\n      <td>Outage</td>\n      <td>owner-occupied</td>\n      <td>too low to check</td>\n      <td>Reduction in water pressure, lower flows.</td>\n      <td>None</td>\n      <td>None</td>\n      <td>None</td>\n      <td>None</td>\n      <td>...</td>\n      <td>None</td>\n      <td>None</td>\n      <td>None</td>\n      <td>None</td>\n      <td>None</td>\n      <td>None</td>\n      <td>None</td>\n      <td>None</td>\n      <td>None</td>\n      <td>None</td>\n    </tr>\n    <tr>\n      <th>19</th>\n      <td>None</td>\n      <td>Reduction in water quality</td>\n      <td>None</td>\n      <td>None</td>\n      <td>None</td>\n      <td>None</td>\n      <td>None</td>\n      <td>None</td>\n      <td>None</td>\n      <td>None</td>\n      <td>...</td>\n      <td>None</td>\n      <td>None</td>\n      <td>None</td>\n      <td>None</td>\n      <td>None</td>\n      <td>None</td>\n      <td>None</td>\n      <td>None</td>\n      <td>None</td>\n      <td>None</td>\n    </tr>\n  </tbody>\n</table>\n<p>20 rows × 23 columns</p>\n</div>"
     },
     "metadata": {}
    }
   ]
  },
  {
   "cell_type": "code",
   "metadata": {
    "cell_id": "13d0df71-0350-4ffe-9a2b-df4674374aa8",
    "tags": [],
    "deepnote_to_be_reexecuted": false,
    "source_hash": "9b2c4a96",
    "execution_start": 1644975663081,
    "execution_millis": 136,
    "deepnote_cell_type": "code"
   },
   "source": "pd_df.iloc[9:18, :]",
   "execution_count": null,
   "outputs": [
    {
     "output_type": "execute_result",
     "execution_count": 42,
     "data": {
      "application/vnd.deepnote.dataframe.v3+json": {
       "column_count": 23,
       "row_count": 9,
       "columns": [
        {
         "name": "Well_Depth",
         "dtype": "object",
         "stats": {
          "unique_count": 2,
          "nan_count": 7,
          "categories": [
           {
            "name": "75",
            "count": 1
           },
           {
            "name": "330",
            "count": 1
           },
           {
            "name": "Missing",
            "count": 7
           }
          ]
         }
        },
        {
         "name": "StatusType",
         "dtype": "object",
         "stats": {
          "unique_count": 7,
          "nan_count": 0,
          "categories": [
           {
            "name": "Outage",
            "count": 2
           },
           {
            "name": "No",
            "count": 2
           },
           {
            "name": "5 others",
            "count": 5
           }
          ]
         }
        },
        {
         "name": "Status",
         "dtype": "object",
         "stats": {
          "unique_count": 6,
          "nan_count": 2,
          "categories": [
           {
            "name": "Outage",
            "count": 2
           },
           {
            "name": "5 others",
            "count": 5
           },
           {
            "name": "Missing",
            "count": 2
           }
          ]
         }
        },
        {
         "name": "Household_Support",
         "dtype": "object",
         "stats": {
          "unique_count": 4,
          "nan_count": 4,
          "categories": [
           {
            "name": "owner-occupied",
            "count": 2
           },
           {
            "name": "3 others",
            "count": 3
           },
           {
            "name": "Missing",
            "count": 4
           }
          ]
         }
        },
        {
         "name": "Pump_Rate_Reduction",
         "dtype": "object",
         "stats": {
          "unique_count": 4,
          "nan_count": 5,
          "categories": [
           {
            "name": "85% reduction",
            "count": 1
           },
           {
            "name": "3 others",
            "count": 3
           },
           {
            "name": "Missing",
            "count": 5
           }
          ]
         }
        },
        {
         "name": "Water_Issues",
         "dtype": "object",
         "stats": {
          "unique_count": 3,
          "nan_count": 6,
          "categories": [
           {
            "name": "Reduction in water pressure, lower flows.",
            "count": 1
           },
           {
            "name": "2 others",
            "count": 2
           },
           {
            "name": "Missing",
            "count": 6
           }
          ]
         }
        },
        {
         "name": "Shortage_Type",
         "dtype": "object",
         "stats": {
          "unique_count": 2,
          "nan_count": 6,
          "categories": [
           {
            "name": "Dry well (groundwater)",
            "count": 2
           },
           {
            "name": "Household",
            "count": 1
           },
           {
            "name": "Missing",
            "count": 6
           }
          ]
         }
        },
        {
         "name": "Was_Issue_Resolved?",
         "dtype": "object",
         "stats": {
          "unique_count": 3,
          "nan_count": 6,
          "categories": [
           {
            "name": "Inland",
            "count": 1
           },
           {
            "name": "2 others",
            "count": 2
           },
           {
            "name": "Missing",
            "count": 6
           }
          ]
         }
        },
        {
         "name": "CREATE_DATE",
         "dtype": "object",
         "stats": {
          "unique_count": 2,
          "nan_count": 6,
          "categories": [
           {
            "name": "06/01/2021",
            "count": 2
           },
           {
            "name": "-122.15781",
            "count": 1
           },
           {
            "name": "Missing",
            "count": 6
           }
          ]
         }
        },
        {
         "name": "Approximate_Issue_Start_Date",
         "dtype": "object",
         "stats": {
          "unique_count": 3,
          "nan_count": 6,
          "categories": [
           {
            "name": "55",
            "count": 1
           },
           {
            "name": "2 others",
            "count": 2
           },
           {
            "name": "Missing",
            "count": 6
           }
          ]
         }
        },
        {
         "name": "Measure_Date",
         "dtype": "object",
         "stats": {
          "unique_count": 2,
          "nan_count": 7,
          "categories": [
           {
            "name": "10308",
            "count": 1
           },
           {
            "name": "05/10/2021",
            "count": 1
           },
           {
            "name": "Missing",
            "count": 7
           }
          ]
         }
        },
        {
         "name": "Primary_Usages",
         "dtype": "object",
         "stats": {
          "unique_count": 2,
          "nan_count": 6,
          "categories": [
           {
            "name": "Household",
            "count": 2
           },
           {
            "name": "Orland",
            "count": 1
           },
           {
            "name": "Missing",
            "count": 6
           }
          ]
         }
        },
        {
         "name": "Region",
         "dtype": "object",
         "stats": {
          "unique_count": 2,
          "nan_count": 6,
          "categories": [
           {
            "name": "Inland",
            "count": 2
           },
           {
            "name": "Dropping pump $500, new pump $1000. To start",
            "count": 1
           },
           {
            "name": "Missing",
            "count": 6
           }
          ]
         }
        },
        {
         "name": "LONGITUDE",
         "dtype": "object",
         "stats": {
          "unique_count": 3,
          "nan_count": 6,
          "categories": [
           {
            "name": "Glenn",
            "count": 1
           },
           {
            "name": "2 others",
            "count": 2
           },
           {
            "name": "Missing",
            "count": 6
           }
          ]
         }
        },
        {
         "name": "Well_to_Water_Depth",
         "dtype": "object",
         "stats": {
          "unique_count": 2,
          "nan_count": 7,
          "categories": [
           {
            "name": "2021-05-31T00:00:00",
            "count": 1
           },
           {
            "name": "260",
            "count": 1
           },
           {
            "name": "Missing",
            "count": 7
           }
          ]
         }
        },
        {
         "name": "ID",
         "dtype": "object",
         "stats": {
          "unique_count": 3,
          "nan_count": 6,
          "categories": [
           {
            "name": "39.73126",
            "count": 1
           },
           {
            "name": "2 others",
            "count": 2
           },
           {
            "name": "Missing",
            "count": 6
           }
          ]
         }
        },
        {
         "name": "CITY",
         "dtype": "object",
         "stats": {
          "unique_count": 3,
          "nan_count": 6,
          "categories": [
           {
            "name": "2837",
            "count": 1
           },
           {
            "name": "2 others",
            "count": 2
           },
           {
            "name": "Missing",
            "count": 6
           }
          ]
         }
        },
        {
         "name": "Approximate_Repair_Cost",
         "dtype": "object",
         "stats": {
          "unique_count": 2,
          "nan_count": 7,
          "categories": [
           {
            "name": "Everyone around us and neighbors are having the same problems and with our water table being so low we will have to drill the well deeper but the wait list in Orland and Glenn County is months out and we cannot afford that cost.",
            "count": 1
           },
           {
            "name": "I?ve spent 3,000 on pump and lowering Not fixed!",
            "count": 1
           },
           {
            "name": "Missing",
            "count": 7
           }
          ]
         }
        },
        {
         "name": "County",
         "dtype": "object",
         "stats": {
          "unique_count": 2,
          "nan_count": 7,
          "categories": [
           {
            "name": "Glenn",
            "count": 1
           },
           {
            "name": "Tehama",
            "count": 1
           },
           {
            "name": "Missing",
            "count": 7
           }
          ]
         }
        },
        {
         "name": "Report_Date",
         "dtype": "object",
         "stats": {
          "unique_count": 1,
          "nan_count": 7,
          "categories": [
           {
            "name": "2021-06-01T00:00:00",
            "count": 2
           },
           {
            "name": "Missing",
            "count": 7
           }
          ]
         }
        },
        {
         "name": "LATITUDE",
         "dtype": "object",
         "stats": {
          "unique_count": 2,
          "nan_count": 7,
          "categories": [
           {
            "name": "39.70626",
            "count": 1
           },
           {
            "name": "39.93327",
            "count": 1
           },
           {
            "name": "Missing",
            "count": 7
           }
          ]
         }
        },
        {
         "name": "_id",
         "dtype": "object",
         "stats": {
          "unique_count": 2,
          "nan_count": 7,
          "categories": [
           {
            "name": "2838",
            "count": 1
           },
           {
            "name": "2839",
            "count": 1
           },
           {
            "name": "Missing",
            "count": 7
           }
          ]
         }
        },
        {
         "name": "Additional_Info",
         "dtype": "object",
         "stats": {
          "unique_count": 1,
          "nan_count": 8,
          "categories": [
           {
            "name": "Family of 5 being evicted due to well running dry. No available housing for family of 5 nearby.",
            "count": 1
           },
           {
            "name": "Missing",
            "count": 8
           }
          ]
         }
        },
        {
         "name": "_deepnote_index_column",
         "dtype": "int64"
        }
       ],
       "rows": [
        {
         "Well_Depth": "75",
         "StatusType": "Outage",
         "Status": "Outage",
         "Household_Support": "owner-occupied",
         "Pump_Rate_Reduction": "85% reduction",
         "Water_Issues": "Reduction in water pressure, lower flows.",
         "Shortage_Type": "None",
         "Was_Issue_Resolved?": "None",
         "CREATE_DATE": "None",
         "Approximate_Issue_Start_Date": "None",
         "Measure_Date": "None",
         "Primary_Usages": "None",
         "Region": "None",
         "LONGITUDE": "None",
         "Well_to_Water_Depth": "None",
         "ID": "None",
         "CITY": "None",
         "Approximate_Repair_Cost": "None",
         "County": "None",
         "Report_Date": "None",
         "LATITUDE": "None",
         "_id": "None",
         "Additional_Info": "None",
         "_deepnote_index_column": 9
        },
        {
         "Well_Depth": "None",
         "StatusType": "Reduction in water quality",
         "Status": "None",
         "Household_Support": "None",
         "Pump_Rate_Reduction": "None",
         "Water_Issues": "None",
         "Shortage_Type": "None",
         "Was_Issue_Resolved?": "None",
         "CREATE_DATE": "None",
         "Approximate_Issue_Start_Date": "None",
         "Measure_Date": "None",
         "Primary_Usages": "None",
         "Region": "None",
         "LONGITUDE": "None",
         "Well_to_Water_Depth": "None",
         "ID": "None",
         "CITY": "None",
         "Approximate_Repair_Cost": "None",
         "County": "None",
         "Report_Date": "None",
         "LATITUDE": "None",
         "_id": "None",
         "Additional_Info": "None",
         "_deepnote_index_column": 10
        },
        {
         "Well_Depth": "None",
         "StatusType": "Well is catching air",
         "Status": " have to wait to be able to pump.",
         "Household_Support": "None",
         "Pump_Rate_Reduction": "None",
         "Water_Issues": "None",
         "Shortage_Type": "None",
         "Was_Issue_Resolved?": "None",
         "CREATE_DATE": "None",
         "Approximate_Issue_Start_Date": "None",
         "Measure_Date": "None",
         "Primary_Usages": "None",
         "Region": "None",
         "LONGITUDE": "None",
         "Well_to_Water_Depth": "None",
         "ID": "None",
         "CITY": "None",
         "Approximate_Repair_Cost": "None",
         "County": "None",
         "Report_Date": "None",
         "LATITUDE": "None",
         "_id": "None",
         "Additional_Info": "None",
         "_deepnote_index_column": 11
        },
        {
         "Well_Depth": "None",
         "StatusType": "Well is pumping sand",
         "Status": " muddy water.\"",
         "Household_Support": "Dry well (groundwater)",
         "Pump_Rate_Reduction": "Yes, lowered the pump bowl",
         "Water_Issues": "None",
         "Shortage_Type": "None",
         "Was_Issue_Resolved?": "None",
         "CREATE_DATE": "None",
         "Approximate_Issue_Start_Date": "None",
         "Measure_Date": "None",
         "Primary_Usages": "None",
         "Region": "None",
         "LONGITUDE": "None",
         "Well_to_Water_Depth": "None",
         "ID": "None",
         "CITY": "None",
         "Approximate_Repair_Cost": "None",
         "County": "None",
         "Report_Date": "None",
         "LATITUDE": "None",
         "_id": "None",
         "Additional_Info": "None",
         "_deepnote_index_column": 12
        },
        {
         "Well_Depth": "None",
         "StatusType": "Pump burned up and have one on order and waiting to have a service company install it ",
         "Status": "None",
         "Household_Support": "None",
         "Pump_Rate_Reduction": "None",
         "Water_Issues": "None",
         "Shortage_Type": "None",
         "Was_Issue_Resolved?": "None",
         "CREATE_DATE": "None",
         "Approximate_Issue_Start_Date": "None",
         "Measure_Date": "None",
         "Primary_Usages": "None",
         "Region": "None",
         "LONGITUDE": "None",
         "Well_to_Water_Depth": "None",
         "ID": "None",
         "CITY": "None",
         "Approximate_Repair_Cost": "None",
         "County": "None",
         "Report_Date": "None",
         "LATITUDE": "None",
         "_id": "None",
         "Additional_Info": "None",
         "_deepnote_index_column": 13
        },
        {
         "Well_Depth": "None",
         "StatusType": "No",
         "Status": " cannot afford to finance solutions.",
         "Household_Support": "None",
         "Pump_Rate_Reduction": "None",
         "Water_Issues": "None",
         "Shortage_Type": "None",
         "Was_Issue_Resolved?": "None",
         "CREATE_DATE": "None",
         "Approximate_Issue_Start_Date": "None",
         "Measure_Date": "None",
         "Primary_Usages": "None",
         "Region": "None",
         "LONGITUDE": "None",
         "Well_to_Water_Depth": "None",
         "ID": "None",
         "CITY": "None",
         "Approximate_Repair_Cost": "None",
         "County": "None",
         "Report_Date": "None",
         "LATITUDE": "None",
         "_id": "None",
         "Additional_Info": "None",
         "_deepnote_index_column": 14
        },
        {
         "Well_Depth": "None",
         "StatusType": "No",
         "Status": " getting water from our neighbors with a hose\"",
         "Household_Support": "05/31/2021",
         "Pump_Rate_Reduction": "05/01/2021",
         "Water_Issues": "None",
         "Shortage_Type": "Household",
         "Was_Issue_Resolved?": "Inland",
         "CREATE_DATE": "-122.15781",
         "Approximate_Issue_Start_Date": "55",
         "Measure_Date": "10308",
         "Primary_Usages": "Orland",
         "Region": "Dropping pump $500, new pump $1000. To start",
         "LONGITUDE": "Glenn",
         "Well_to_Water_Depth": "2021-05-31T00:00:00",
         "ID": "39.73126",
         "CITY": "2837",
         "Approximate_Repair_Cost": "Everyone around us and neighbors are having the same problems and with our water table being so low…",
         "County": "None",
         "Report_Date": "None",
         "LATITUDE": "None",
         "_id": "None",
         "Additional_Info": "None",
         "_deepnote_index_column": 15
        },
        {
         "Well_Depth": "None",
         "StatusType": "Resolved",
         "Status": "Interim Solution",
         "Household_Support": "renter-occupied",
         "Pump_Rate_Reduction": "None",
         "Water_Issues": "Well is dry (no longer producing water)",
         "Shortage_Type": "Dry well (groundwater)",
         "Was_Issue_Resolved?": "No, trucking in water",
         "CREATE_DATE": "06/01/2021",
         "Approximate_Issue_Start_Date": "05/21/2021",
         "Measure_Date": "None",
         "Primary_Usages": "Household",
         "Region": "Inland",
         "LONGITUDE": "-122.11097",
         "Well_to_Water_Depth": "None",
         "ID": "10309",
         "CITY": "Orland",
         "Approximate_Repair_Cost": "None",
         "County": "Glenn",
         "Report_Date": "2021-06-01T00:00:00",
         "LATITUDE": "39.70626",
         "_id": "2838",
         "Additional_Info": "Family of 5 being evicted due to well running dry. No available housing for family of 5 nearby.",
         "_deepnote_index_column": 16
        },
        {
         "Well_Depth": "330",
         "StatusType": "Outage",
         "Status": "Outage",
         "Household_Support": "owner-occupied",
         "Pump_Rate_Reduction": "Not sure",
         "Water_Issues": "Well is catching air, have to wait to be able to pump.",
         "Shortage_Type": "Dry well (groundwater)",
         "Was_Issue_Resolved?": "No, cannot afford to finance solutions.",
         "CREATE_DATE": "06/01/2021",
         "Approximate_Issue_Start_Date": "03/01/2021",
         "Measure_Date": "05/10/2021",
         "Primary_Usages": "Household",
         "Region": "Inland",
         "LONGITUDE": "-122.33318",
         "Well_to_Water_Depth": "260",
         "ID": "10310",
         "CITY": "Corning",
         "Approximate_Repair_Cost": "I?ve spent 3,000 on pump and lowering Not fixed!",
         "County": "Tehama",
         "Report_Date": "2021-06-01T00:00:00",
         "LATITUDE": "39.93327",
         "_id": "2839",
         "Additional_Info": "None",
         "_deepnote_index_column": 17
        }
       ]
      },
      "text/plain": "   Well_Depth                                         StatusType  \\\n9          75                                             Outage   \n10       None                         Reduction in water quality   \n11       None                               Well is catching air   \n12       None                               Well is pumping sand   \n13       None  Pump burned up and have one on order and waiti...   \n14       None                                                 No   \n15       None                                                 No   \n16       None                                           Resolved   \n17        330                                             Outage   \n\n                                            Status       Household_Support  \\\n9                                           Outage          owner-occupied   \n10                                            None                    None   \n11                have to wait to be able to pump.                    None   \n12                                   muddy water.\"  Dry well (groundwater)   \n13                                            None                    None   \n14             cannot afford to finance solutions.                    None   \n15   getting water from our neighbors with a hose\"              05/31/2021   \n16                                Interim Solution         renter-occupied   \n17                                          Outage          owner-occupied   \n\n           Pump_Rate_Reduction  \\\n9                85% reduction   \n10                        None   \n11                        None   \n12  Yes, lowered the pump bowl   \n13                        None   \n14                        None   \n15                  05/01/2021   \n16                        None   \n17                    Not sure   \n\n                                         Water_Issues           Shortage_Type  \\\n9           Reduction in water pressure, lower flows.                    None   \n10                                               None                    None   \n11                                               None                    None   \n12                                               None                    None   \n13                                               None                    None   \n14                                               None                    None   \n15                                               None               Household   \n16            Well is dry (no longer producing water)  Dry well (groundwater)   \n17  Well is catching air, have to wait to be able ...  Dry well (groundwater)   \n\n                        Was_Issue_Resolved? CREATE_DATE  \\\n9                                      None        None   \n10                                     None        None   \n11                                     None        None   \n12                                     None        None   \n13                                     None        None   \n14                                     None        None   \n15                                   Inland  -122.15781   \n16                    No, trucking in water  06/01/2021   \n17  No, cannot afford to finance solutions.  06/01/2021   \n\n   Approximate_Issue_Start_Date  ...   LONGITUDE  Well_to_Water_Depth  \\\n9                          None  ...        None                 None   \n10                         None  ...        None                 None   \n11                         None  ...        None                 None   \n12                         None  ...        None                 None   \n13                         None  ...        None                 None   \n14                         None  ...        None                 None   \n15                           55  ...       Glenn  2021-05-31T00:00:00   \n16                   05/21/2021  ...  -122.11097                 None   \n17                   03/01/2021  ...  -122.33318                  260   \n\n          ID     CITY                            Approximate_Repair_Cost  \\\n9       None     None                                               None   \n10      None     None                                               None   \n11      None     None                                               None   \n12      None     None                                               None   \n13      None     None                                               None   \n14      None     None                                               None   \n15  39.73126     2837  Everyone around us and neighbors are having th...   \n16     10309   Orland                                               None   \n17     10310  Corning   I?ve spent 3,000 on pump and lowering Not fixed!   \n\n    County          Report_Date  LATITUDE   _id  \\\n9     None                 None      None  None   \n10    None                 None      None  None   \n11    None                 None      None  None   \n12    None                 None      None  None   \n13    None                 None      None  None   \n14    None                 None      None  None   \n15    None                 None      None  None   \n16   Glenn  2021-06-01T00:00:00  39.70626  2838   \n17  Tehama  2021-06-01T00:00:00  39.93327  2839   \n\n                                      Additional_Info  \n9                                                None  \n10                                               None  \n11                                               None  \n12                                               None  \n13                                               None  \n14                                               None  \n15                                               None  \n16  Family of 5 being evicted due to well running ...  \n17                                               None  \n\n[9 rows x 23 columns]",
      "text/html": "<div>\n<style scoped>\n    .dataframe tbody tr th:only-of-type {\n        vertical-align: middle;\n    }\n\n    .dataframe tbody tr th {\n        vertical-align: top;\n    }\n\n    .dataframe thead th {\n        text-align: right;\n    }\n</style>\n<table border=\"1\" class=\"dataframe\">\n  <thead>\n    <tr style=\"text-align: right;\">\n      <th></th>\n      <th>Well_Depth</th>\n      <th>StatusType</th>\n      <th>Status</th>\n      <th>Household_Support</th>\n      <th>Pump_Rate_Reduction</th>\n      <th>Water_Issues</th>\n      <th>Shortage_Type</th>\n      <th>Was_Issue_Resolved?</th>\n      <th>CREATE_DATE</th>\n      <th>Approximate_Issue_Start_Date</th>\n      <th>...</th>\n      <th>LONGITUDE</th>\n      <th>Well_to_Water_Depth</th>\n      <th>ID</th>\n      <th>CITY</th>\n      <th>Approximate_Repair_Cost</th>\n      <th>County</th>\n      <th>Report_Date</th>\n      <th>LATITUDE</th>\n      <th>_id</th>\n      <th>Additional_Info</th>\n    </tr>\n  </thead>\n  <tbody>\n    <tr>\n      <th>9</th>\n      <td>75</td>\n      <td>Outage</td>\n      <td>Outage</td>\n      <td>owner-occupied</td>\n      <td>85% reduction</td>\n      <td>Reduction in water pressure, lower flows.</td>\n      <td>None</td>\n      <td>None</td>\n      <td>None</td>\n      <td>None</td>\n      <td>...</td>\n      <td>None</td>\n      <td>None</td>\n      <td>None</td>\n      <td>None</td>\n      <td>None</td>\n      <td>None</td>\n      <td>None</td>\n      <td>None</td>\n      <td>None</td>\n      <td>None</td>\n    </tr>\n    <tr>\n      <th>10</th>\n      <td>None</td>\n      <td>Reduction in water quality</td>\n      <td>None</td>\n      <td>None</td>\n      <td>None</td>\n      <td>None</td>\n      <td>None</td>\n      <td>None</td>\n      <td>None</td>\n      <td>None</td>\n      <td>...</td>\n      <td>None</td>\n      <td>None</td>\n      <td>None</td>\n      <td>None</td>\n      <td>None</td>\n      <td>None</td>\n      <td>None</td>\n      <td>None</td>\n      <td>None</td>\n      <td>None</td>\n    </tr>\n    <tr>\n      <th>11</th>\n      <td>None</td>\n      <td>Well is catching air</td>\n      <td>have to wait to be able to pump.</td>\n      <td>None</td>\n      <td>None</td>\n      <td>None</td>\n      <td>None</td>\n      <td>None</td>\n      <td>None</td>\n      <td>None</td>\n      <td>...</td>\n      <td>None</td>\n      <td>None</td>\n      <td>None</td>\n      <td>None</td>\n      <td>None</td>\n      <td>None</td>\n      <td>None</td>\n      <td>None</td>\n      <td>None</td>\n      <td>None</td>\n    </tr>\n    <tr>\n      <th>12</th>\n      <td>None</td>\n      <td>Well is pumping sand</td>\n      <td>muddy water.\"</td>\n      <td>Dry well (groundwater)</td>\n      <td>Yes, lowered the pump bowl</td>\n      <td>None</td>\n      <td>None</td>\n      <td>None</td>\n      <td>None</td>\n      <td>None</td>\n      <td>...</td>\n      <td>None</td>\n      <td>None</td>\n      <td>None</td>\n      <td>None</td>\n      <td>None</td>\n      <td>None</td>\n      <td>None</td>\n      <td>None</td>\n      <td>None</td>\n      <td>None</td>\n    </tr>\n    <tr>\n      <th>13</th>\n      <td>None</td>\n      <td>Pump burned up and have one on order and waiti...</td>\n      <td>None</td>\n      <td>None</td>\n      <td>None</td>\n      <td>None</td>\n      <td>None</td>\n      <td>None</td>\n      <td>None</td>\n      <td>None</td>\n      <td>...</td>\n      <td>None</td>\n      <td>None</td>\n      <td>None</td>\n      <td>None</td>\n      <td>None</td>\n      <td>None</td>\n      <td>None</td>\n      <td>None</td>\n      <td>None</td>\n      <td>None</td>\n    </tr>\n    <tr>\n      <th>14</th>\n      <td>None</td>\n      <td>No</td>\n      <td>cannot afford to finance solutions.</td>\n      <td>None</td>\n      <td>None</td>\n      <td>None</td>\n      <td>None</td>\n      <td>None</td>\n      <td>None</td>\n      <td>None</td>\n      <td>...</td>\n      <td>None</td>\n      <td>None</td>\n      <td>None</td>\n      <td>None</td>\n      <td>None</td>\n      <td>None</td>\n      <td>None</td>\n      <td>None</td>\n      <td>None</td>\n      <td>None</td>\n    </tr>\n    <tr>\n      <th>15</th>\n      <td>None</td>\n      <td>No</td>\n      <td>getting water from our neighbors with a hose\"</td>\n      <td>05/31/2021</td>\n      <td>05/01/2021</td>\n      <td>None</td>\n      <td>Household</td>\n      <td>Inland</td>\n      <td>-122.15781</td>\n      <td>55</td>\n      <td>...</td>\n      <td>Glenn</td>\n      <td>2021-05-31T00:00:00</td>\n      <td>39.73126</td>\n      <td>2837</td>\n      <td>Everyone around us and neighbors are having th...</td>\n      <td>None</td>\n      <td>None</td>\n      <td>None</td>\n      <td>None</td>\n      <td>None</td>\n    </tr>\n    <tr>\n      <th>16</th>\n      <td>None</td>\n      <td>Resolved</td>\n      <td>Interim Solution</td>\n      <td>renter-occupied</td>\n      <td>None</td>\n      <td>Well is dry (no longer producing water)</td>\n      <td>Dry well (groundwater)</td>\n      <td>No, trucking in water</td>\n      <td>06/01/2021</td>\n      <td>05/21/2021</td>\n      <td>...</td>\n      <td>-122.11097</td>\n      <td>None</td>\n      <td>10309</td>\n      <td>Orland</td>\n      <td>None</td>\n      <td>Glenn</td>\n      <td>2021-06-01T00:00:00</td>\n      <td>39.70626</td>\n      <td>2838</td>\n      <td>Family of 5 being evicted due to well running ...</td>\n    </tr>\n    <tr>\n      <th>17</th>\n      <td>330</td>\n      <td>Outage</td>\n      <td>Outage</td>\n      <td>owner-occupied</td>\n      <td>Not sure</td>\n      <td>Well is catching air, have to wait to be able ...</td>\n      <td>Dry well (groundwater)</td>\n      <td>No, cannot afford to finance solutions.</td>\n      <td>06/01/2021</td>\n      <td>03/01/2021</td>\n      <td>...</td>\n      <td>-122.33318</td>\n      <td>260</td>\n      <td>10310</td>\n      <td>Corning</td>\n      <td>I?ve spent 3,000 on pump and lowering Not fixed!</td>\n      <td>Tehama</td>\n      <td>2021-06-01T00:00:00</td>\n      <td>39.93327</td>\n      <td>2839</td>\n      <td>None</td>\n    </tr>\n  </tbody>\n</table>\n<p>9 rows × 23 columns</p>\n</div>"
     },
     "metadata": {}
    }
   ]
  },
  {
   "cell_type": "code",
   "metadata": {
    "cell_id": "7ab56ca6-4ff9-4be1-a26e-bb40dfb5d879",
    "tags": [],
    "deepnote_to_be_reexecuted": false,
    "source_hash": "340aa6b9",
    "execution_start": 1644975386688,
    "execution_millis": 30,
    "deepnote_cell_type": "code"
   },
   "source": "pd_csv_shortage = pd.read_csv('shortage.csv')",
   "execution_count": null,
   "outputs": []
  },
  {
   "cell_type": "code",
   "metadata": {
    "cell_id": "19630fcd-7b3d-4c2e-8a15-806df0cda8fb",
    "tags": [],
    "deepnote_to_be_reexecuted": false,
    "source_hash": "bbdc642e",
    "execution_start": 1644975409089,
    "execution_millis": 408,
    "deepnote_cell_type": "code"
   },
   "source": "pd_csv_shortage.iloc[9:18, :]",
   "execution_count": null,
   "outputs": [
    {
     "output_type": "execute_result",
     "execution_count": 33,
     "data": {
      "application/vnd.deepnote.dataframe.v3+json": {
       "column_count": 24,
       "row_count": 9,
       "columns": [
        {
         "name": "Unnamed: 0",
         "dtype": "int64",
         "stats": {
          "unique_count": 9,
          "nan_count": 0,
          "min": "9",
          "max": "17",
          "histogram": [
           {
            "bin_start": 9,
            "bin_end": 9.8,
            "count": 1
           },
           {
            "bin_start": 9.8,
            "bin_end": 10.6,
            "count": 1
           },
           {
            "bin_start": 10.6,
            "bin_end": 11.4,
            "count": 1
           },
           {
            "bin_start": 11.4,
            "bin_end": 12.2,
            "count": 1
           },
           {
            "bin_start": 12.2,
            "bin_end": 13,
            "count": 0
           },
           {
            "bin_start": 13,
            "bin_end": 13.8,
            "count": 1
           },
           {
            "bin_start": 13.8,
            "bin_end": 14.600000000000001,
            "count": 1
           },
           {
            "bin_start": 14.600000000000001,
            "bin_end": 15.4,
            "count": 1
           },
           {
            "bin_start": 15.4,
            "bin_end": 16.2,
            "count": 1
           },
           {
            "bin_start": 16.2,
            "bin_end": 17,
            "count": 1
           }
          ]
         }
        },
        {
         "name": "Well Depth",
         "dtype": "object",
         "stats": {
          "unique_count": 7,
          "nan_count": 2,
          "categories": [
           {
            "name": "Original well - 355 ft, new well - 540 ft",
            "count": 1
           },
           {
            "name": "6 others",
            "count": 6
           },
           {
            "name": "Missing",
            "count": 2
           }
          ]
         }
        },
        {
         "name": "StatusType",
         "dtype": "object",
         "stats": {
          "unique_count": 2,
          "nan_count": 0,
          "categories": [
           {
            "name": "Outage",
            "count": 7
           },
           {
            "name": "Resolved",
            "count": 2
           }
          ]
         }
        },
        {
         "name": "Status",
         "dtype": "object",
         "stats": {
          "unique_count": 3,
          "nan_count": 0,
          "categories": [
           {
            "name": "Outage",
            "count": 6
           },
           {
            "name": "Resolved",
            "count": 2
           },
           {
            "name": "Undefined",
            "count": 1
           }
          ]
         }
        },
        {
         "name": "Household Support",
         "dtype": "object",
         "stats": {
          "unique_count": 1,
          "nan_count": 0,
          "categories": [
           {
            "name": "owner-occupied",
            "count": 9
           }
          ]
         }
        },
        {
         "name": "Pump Rate Reduction",
         "dtype": "object",
         "stats": {
          "unique_count": 3,
          "nan_count": 4,
          "categories": [
           {
            "name": "It's no longer producing any water",
            "count": 3
           },
           {
            "name": "2 others",
            "count": 2
           },
           {
            "name": "Missing",
            "count": 4
           }
          ]
         }
        },
        {
         "name": "Water Issues",
         "dtype": "object",
         "stats": {
          "unique_count": 3,
          "nan_count": 0,
          "categories": [
           {
            "name": "Well is dry (no longer producing water)\r\n",
            "count": 7
           },
           {
            "name": "Reduction in water pressure, lower flows.\r\n,Reduction in water quality\r\n,Well is catching air, have to wait to be able to pump.\r\n",
            "count": 1
           },
           {
            "name": "Reduction in water pressure, lower flows.\r\n",
            "count": 1
           }
          ]
         }
        },
        {
         "name": "Shortage Type",
         "dtype": "object",
         "stats": {
          "unique_count": 2,
          "nan_count": 0,
          "categories": [
           {
            "name": "Dry well (groundwater)",
            "count": 8
           },
           {
            "name": " New well drilled with poor water quality, water level still falling",
            "count": 1
           }
          ]
         }
        },
        {
         "name": "Was Issue Resolved?",
         "dtype": "object",
         "stats": {
          "unique_count": 8,
          "nan_count": 1,
          "categories": [
           {
            "name": "Yes, drilled replacement well.\r\n,Poor water quality\r\n",
            "count": 1
           },
           {
            "name": "7 others",
            "count": 7
           },
           {
            "name": "Missing",
            "count": 1
           }
          ]
         }
        },
        {
         "name": "CREATE DATE",
         "dtype": "object",
         "stats": {
          "unique_count": 6,
          "nan_count": 0,
          "categories": [
           {
            "name": "09/02/2015",
            "count": 3
           },
           {
            "name": "09/22/2015",
            "count": 2
           },
           {
            "name": "4 others",
            "count": 4
           }
          ]
         }
        },
        {
         "name": "Approximate Issue Start Date",
         "dtype": "object",
         "stats": {
          "unique_count": 9,
          "nan_count": 0,
          "categories": [
           {
            "name": "01/01/2013",
            "count": 1
           },
           {
            "name": "07/02/2012",
            "count": 1
           },
           {
            "name": "7 others",
            "count": 7
           }
          ]
         }
        },
        {
         "name": "Measure Date",
         "dtype": "object",
         "stats": {
          "unique_count": 2,
          "nan_count": 7,
          "categories": [
           {
            "name": "09/19/2015",
            "count": 1
           },
           {
            "name": "03/18/1978",
            "count": 1
           },
           {
            "name": "Missing",
            "count": 7
           }
          ]
         }
        },
        {
         "name": "Primary Usages",
         "dtype": "object",
         "stats": {
          "unique_count": 2,
          "nan_count": 0,
          "categories": [
           {
            "name": "Household",
            "count": 8
           },
           {
            "name": "Combination of Household/Agriculture",
            "count": 1
           }
          ]
         }
        },
        {
         "name": "Region",
         "dtype": "object",
         "stats": {
          "unique_count": 2,
          "nan_count": 0,
          "categories": [
           {
            "name": "Southern",
            "count": 5
           },
           {
            "name": "Inland",
            "count": 4
           }
          ]
         }
        },
        {
         "name": "LONGITUDE",
         "dtype": "float64",
         "stats": {
          "unique_count": 9,
          "nan_count": 0,
          "min": "-121.039598",
          "max": "-116.750424",
          "histogram": [
           {
            "bin_start": -121.039598,
            "bin_end": -120.6106806,
            "count": 2
           },
           {
            "bin_start": -120.6106806,
            "bin_end": -120.18176319999999,
            "count": 3
           },
           {
            "bin_start": -120.18176319999999,
            "bin_end": -119.7528458,
            "count": 3
           },
           {
            "bin_start": -119.7528458,
            "bin_end": -119.3239284,
            "count": 0
           },
           {
            "bin_start": -119.3239284,
            "bin_end": -118.895011,
            "count": 0
           },
           {
            "bin_start": -118.895011,
            "bin_end": -118.4660936,
            "count": 0
           },
           {
            "bin_start": -118.4660936,
            "bin_end": -118.03717619999999,
            "count": 0
           },
           {
            "bin_start": -118.03717619999999,
            "bin_end": -117.6082588,
            "count": 0
           },
           {
            "bin_start": -117.6082588,
            "bin_end": -117.1793414,
            "count": 0
           },
           {
            "bin_start": -117.1793414,
            "bin_end": -116.750424,
            "count": 1
           }
          ]
         }
        },
        {
         "name": "Well to Water Depth",
         "dtype": "object",
         "stats": {
          "unique_count": 2,
          "nan_count": 7,
          "categories": [
           {
            "name": "280 ft - continuous measurement with Wellntel",
            "count": 1
           },
           {
            "name": "50.0",
            "count": 1
           },
           {
            "name": "Missing",
            "count": 7
           }
          ]
         }
        },
        {
         "name": "ID",
         "dtype": "int64",
         "stats": {
          "unique_count": 9,
          "nan_count": 0,
          "min": "3121",
          "max": "3164",
          "histogram": [
           {
            "bin_start": 3121,
            "bin_end": 3125.3,
            "count": 4
           },
           {
            "bin_start": 3125.3,
            "bin_end": 3129.6,
            "count": 0
           },
           {
            "bin_start": 3129.6,
            "bin_end": 3133.9,
            "count": 0
           },
           {
            "bin_start": 3133.9,
            "bin_end": 3138.2,
            "count": 0
           },
           {
            "bin_start": 3138.2,
            "bin_end": 3142.5,
            "count": 1
           },
           {
            "bin_start": 3142.5,
            "bin_end": 3146.8,
            "count": 0
           },
           {
            "bin_start": 3146.8,
            "bin_end": 3151.1,
            "count": 0
           },
           {
            "bin_start": 3151.1,
            "bin_end": 3155.4,
            "count": 0
           },
           {
            "bin_start": 3155.4,
            "bin_end": 3159.7,
            "count": 0
           },
           {
            "bin_start": 3159.7,
            "bin_end": 3164,
            "count": 4
           }
          ]
         }
        },
        {
         "name": "CITY",
         "dtype": "object",
         "stats": {
          "unique_count": 7,
          "nan_count": 0,
          "categories": [
           {
            "name": "Paso Robles",
            "count": 2
           },
           {
            "name": "Mariposa",
            "count": 2
           },
           {
            "name": "5 others",
            "count": 5
           }
          ]
         }
        },
        {
         "name": "Approximate Repair Cost",
         "dtype": "object",
         "stats": {
          "unique_count": 1,
          "nan_count": 8,
          "categories": [
           {
            "name": "$25,000",
            "count": 1
           },
           {
            "name": "Missing",
            "count": 8
           }
          ]
         }
        },
        {
         "name": "County",
         "dtype": "object",
         "stats": {
          "unique_count": 4,
          "nan_count": 0,
          "categories": [
           {
            "name": "San Luis Obispo",
            "count": 4
           },
           {
            "name": "Mariposa",
            "count": 3
           },
           {
            "name": "2 others",
            "count": 2
           }
          ]
         }
        },
        {
         "name": "Report Date",
         "dtype": "object",
         "stats": {
          "unique_count": 6,
          "nan_count": 0,
          "categories": [
           {
            "name": "2015-09-02T00:00:00",
            "count": 3
           },
           {
            "name": "2015-09-22T00:00:00",
            "count": 2
           },
           {
            "name": "4 others",
            "count": 4
           }
          ]
         }
        },
        {
         "name": "LATITUDE",
         "dtype": "float64",
         "stats": {
          "unique_count": 9,
          "nan_count": 0,
          "min": "32.620471",
          "max": "38.79552",
          "histogram": [
           {
            "bin_start": 32.620471,
            "bin_end": 33.2379759,
            "count": 1
           },
           {
            "bin_start": 33.2379759,
            "bin_end": 33.8554808,
            "count": 0
           },
           {
            "bin_start": 33.8554808,
            "bin_end": 34.4729857,
            "count": 0
           },
           {
            "bin_start": 34.4729857,
            "bin_end": 35.0904906,
            "count": 0
           },
           {
            "bin_start": 35.0904906,
            "bin_end": 35.7079955,
            "count": 4
           },
           {
            "bin_start": 35.7079955,
            "bin_end": 36.3255004,
            "count": 0
           },
           {
            "bin_start": 36.3255004,
            "bin_end": 36.9430053,
            "count": 0
           },
           {
            "bin_start": 36.9430053,
            "bin_end": 37.5605102,
            "count": 3
           },
           {
            "bin_start": 37.5605102,
            "bin_end": 38.1780151,
            "count": 0
           },
           {
            "bin_start": 38.1780151,
            "bin_end": 38.79552,
            "count": 1
           }
          ]
         }
        },
        {
         "name": "_id",
         "dtype": "int64",
         "stats": {
          "unique_count": 9,
          "nan_count": 0,
          "min": "9",
          "max": "17",
          "histogram": [
           {
            "bin_start": 9,
            "bin_end": 9.8,
            "count": 1
           },
           {
            "bin_start": 9.8,
            "bin_end": 10.6,
            "count": 1
           },
           {
            "bin_start": 10.6,
            "bin_end": 11.4,
            "count": 1
           },
           {
            "bin_start": 11.4,
            "bin_end": 12.2,
            "count": 1
           },
           {
            "bin_start": 12.2,
            "bin_end": 13,
            "count": 0
           },
           {
            "bin_start": 13,
            "bin_end": 13.8,
            "count": 1
           },
           {
            "bin_start": 13.8,
            "bin_end": 14.600000000000001,
            "count": 1
           },
           {
            "bin_start": 14.600000000000001,
            "bin_end": 15.4,
            "count": 1
           },
           {
            "bin_start": 15.4,
            "bin_end": 16.2,
            "count": 1
           },
           {
            "bin_start": 16.2,
            "bin_end": 17,
            "count": 1
           }
          ]
         }
        },
        {
         "name": "Additional Info",
         "dtype": "object",
         "stats": {
          "unique_count": 2,
          "nan_count": 7,
          "categories": [
           {
            "name": "Many of our neighbors have drilled new wells into poor quality water or are trucking water for their homes.",
            "count": 1
           },
           {
            "name": "We are looking at borrowing money to put in a storage tank to truck in water, although I am not sure how long we can afford this solution.  It is roughly $270 for 1500 gallons of water to be delivered plus $5000 to put in a storage system.  We just purchased the home and are also facing the cleaning of a former rat and mouse infestation in the home that will require environmental considerations that have a large cost attached.  The home is nearly unlivable and creating an unhealthy environment for my 7 year old",
            "count": 1
           },
           {
            "name": "Missing",
            "count": 7
           }
          ]
         }
        },
        {
         "name": "_deepnote_index_column",
         "dtype": "int64"
        }
       ],
       "rows": [
        {
         "Unnamed: 0": 9,
         "Well Depth": "Original well - 355 ft, new well - 540 ft",
         "StatusType": "Resolved",
         "Status": "Resolved",
         "Household Support": "owner-occupied",
         "Pump Rate Reduction": " 75%",
         "Water Issues": "Reduction in water pressure, lower flows.\r\n,Reduction in water quality\r\n,Well is catching air, have…",
         "Shortage Type": " New well drilled with poor water quality, water level still falling",
         "Was Issue Resolved?": "Yes, drilled replacement well.\r\n,Poor water quality\r\n",
         "CREATE DATE": "09/19/2015",
         "Approximate Issue Start Date": "01/01/2013",
         "Measure Date": "09/19/2015",
         "Primary Usages": "Combination of Household/Agriculture",
         "Region": "Southern",
         "LONGITUDE": -120.621761,
         "Well to Water Depth": "280 ft - continuous measurement with Wellntel",
         "ID": 3121,
         "CITY": "Templeton",
         "Approximate Repair Cost": "$25,000",
         "County": "San Luis Obispo",
         "Report Date": "2015-09-19T00:00:00",
         "LATITUDE": 35.544734,
         "_id": 9,
         "Additional Info": "Many of our neighbors have drilled new wells into poor quality water or are trucking water for thei…",
         "_deepnote_index_column": 9
        },
        {
         "Unnamed: 0": 10,
         "Well Depth": "nan",
         "StatusType": "Outage",
         "Status": "Outage",
         "Household Support": "owner-occupied",
         "Pump Rate Reduction": "nan",
         "Water Issues": "Well is dry (no longer producing water)\r\n",
         "Shortage Type": "Dry well (groundwater)",
         "Was Issue Resolved?": "No, getting water from our neighbors with a hose\r\n,Paying monthly to neighbors\r\n,No, cannot afford …",
         "CREATE DATE": "09/22/2015",
         "Approximate Issue Start Date": "07/02/2012",
         "Measure Date": "nan",
         "Primary Usages": "Household",
         "Region": "Southern",
         "LONGITUDE": -120.555413,
         "Well to Water Depth": "nan",
         "ID": 3122,
         "CITY": "Paso Robles",
         "Approximate Repair Cost": "nan",
         "County": "San Luis Obispo",
         "Report Date": "2015-09-22T00:00:00",
         "LATITUDE": 35.624832,
         "_id": 10,
         "Additional Info": "nan",
         "_deepnote_index_column": 10
        },
        {
         "Unnamed: 0": 11,
         "Well Depth": "360ft.",
         "StatusType": "Outage",
         "Status": "Outage",
         "Household Support": "owner-occupied",
         "Pump Rate Reduction": "It's no longer producing any water",
         "Water Issues": "Well is dry (no longer producing water)\r\n",
         "Shortage Type": "Dry well (groundwater)",
         "Was Issue Resolved?": "No, trucking in water\r\n,No, cannot afford to finance solutions.\r\n",
         "CREATE DATE": "09/22/2015",
         "Approximate Issue Start Date": "06/01/2013",
         "Measure Date": "nan",
         "Primary Usages": "Household",
         "Region": "Southern",
         "LONGITUDE": -120.555153,
         "Well to Water Depth": "nan",
         "ID": 3123,
         "CITY": "Paso Robles",
         "Approximate Repair Cost": "nan",
         "County": "San Luis Obispo",
         "Report Date": "2015-09-22T00:00:00",
         "LATITUDE": 35.629448,
         "_id": 11,
         "Additional Info": "nan",
         "_deepnote_index_column": 11
        },
        {
         "Unnamed: 0": 12,
         "Well Depth": "300ft",
         "StatusType": "Outage",
         "Status": "Outage",
         "Household Support": "owner-occupied",
         "Pump Rate Reduction": "nan",
         "Water Issues": "Well is dry (no longer producing water)\r\n",
         "Shortage Type": "Dry well (groundwater)",
         "Was Issue Resolved?": "No, cannot afford to finance solutions.\r\n",
         "CREATE DATE": "09/23/2015",
         "Approximate Issue Start Date": "09/05/2015",
         "Measure Date": "nan",
         "Primary Usages": "Household",
         "Region": "Inland",
         "LONGITUDE": -121.039598,
         "Well to Water Depth": "nan",
         "ID": 3124,
         "CITY": "Pilot Hill",
         "Approximate Repair Cost": "nan",
         "County": "El Dorado",
         "Report Date": "2015-09-23T00:00:00",
         "LATITUDE": 38.79552,
         "_id": 12,
         "Additional Info": "We are looking at borrowing money to put in a storage tank to truck in water, although I am not sur…",
         "_deepnote_index_column": 12
        },
        {
         "Unnamed: 0": 13,
         "Well Depth": "nan",
         "StatusType": "Outage",
         "Status": "Undefined",
         "Household Support": "owner-occupied",
         "Pump Rate Reduction": "nan",
         "Water Issues": "Well is dry (no longer producing water)\r\n",
         "Shortage Type": "Dry well (groundwater)",
         "Was Issue Resolved?": "nan",
         "CREATE DATE": "09/30/2015",
         "Approximate Issue Start Date": "09/30/2015",
         "Measure Date": "nan",
         "Primary Usages": "Household",
         "Region": "Southern",
         "LONGITUDE": -120.599636,
         "Well to Water Depth": "nan",
         "ID": 3141,
         "CITY": "PASO ROBLES",
         "Approximate Repair Cost": "nan",
         "County": "San Luis Obispo",
         "Report Date": "2015-09-30T00:00:00",
         "LATITUDE": 35.66099,
         "_id": 13,
         "Additional Info": "nan",
         "_deepnote_index_column": 13
        },
        {
         "Unnamed: 0": 14,
         "Well Depth": "78.0",
         "StatusType": "Outage",
         "Status": "Outage",
         "Household Support": "owner-occupied",
         "Pump Rate Reduction": "It's no longer producing any water",
         "Water Issues": "Well is dry (no longer producing water)\r\n",
         "Shortage Type": "Dry well (groundwater)",
         "Was Issue Resolved?": "No, trucking in water\r\n,Well Assistance Program\r\n",
         "CREATE DATE": "09/02/2015",
         "Approximate Issue Start Date": "06/01/2015",
         "Measure Date": "nan",
         "Primary Usages": "Household",
         "Region": "Inland",
         "LONGITUDE": -119.82176,
         "Well to Water Depth": "nan",
         "ID": 3161,
         "CITY": "Mariposa",
         "Approximate Repair Cost": "nan",
         "County": "Mariposa",
         "Report Date": "2015-09-02T00:00:00",
         "LATITUDE": 37.446633,
         "_id": 14,
         "Additional Info": "nan",
         "_deepnote_index_column": 14
        },
        {
         "Unnamed: 0": 15,
         "Well Depth": "205.0",
         "StatusType": "Outage",
         "Status": "Outage",
         "Household Support": "owner-occupied",
         "Pump Rate Reduction": "Yes, about a 30-40% reduction",
         "Water Issues": "Well is dry (no longer producing water)\r\n",
         "Shortage Type": "Dry well (groundwater)",
         "Was Issue Resolved?": "No, trucking in water\r\n,Well Assistance\r\n",
         "CREATE DATE": "09/02/2015",
         "Approximate Issue Start Date": "08/01/2015",
         "Measure Date": "nan",
         "Primary Usages": "Household",
         "Region": "Inland",
         "LONGITUDE": -119.824958,
         "Well to Water Depth": "nan",
         "ID": 3162,
         "CITY": "Mariposa",
         "Approximate Repair Cost": "nan",
         "County": "Mariposa",
         "Report Date": "2015-09-02T00:00:00",
         "LATITUDE": 37.501072,
         "_id": 15,
         "Additional Info": "nan",
         "_deepnote_index_column": 15
        },
        {
         "Unnamed: 0": 16,
         "Well Depth": "90 ft. (dry) 500 ft (low flow ~20gal/day))",
         "StatusType": "Resolved",
         "Status": "Resolved",
         "Household Support": "owner-occupied",
         "Pump Rate Reduction": "nan",
         "Water Issues": "Reduction in water pressure, lower flows.\r\n",
         "Shortage Type": "Dry well (groundwater)",
         "Was Issue Resolved?": "Yes, drilled replacement well.\r\n",
         "CREATE DATE": "09/02/2015",
         "Approximate Issue Start Date": "02/04/2014",
         "Measure Date": "nan",
         "Primary Usages": "Household",
         "Region": "Southern",
         "LONGITUDE": -116.750424,
         "Well to Water Depth": "nan",
         "ID": 3163,
         "CITY": "Dulzura",
         "Approximate Repair Cost": "nan",
         "County": "San Diego",
         "Report Date": "2015-09-02T00:00:00",
         "LATITUDE": 32.620471,
         "_id": 16,
         "Additional Info": "nan",
         "_deepnote_index_column": 16
        },
        {
         "Unnamed: 0": 17,
         "Well Depth": "225.0",
         "StatusType": "Outage",
         "Status": "Outage",
         "Household Support": "owner-occupied",
         "Pump Rate Reduction": "It's no longer producing any water",
         "Water Issues": "Well is dry (no longer producing water)\r\n",
         "Shortage Type": "Dry well (groundwater)",
         "Was Issue Resolved?": "No, trucking in water\r\n,Well Assistance program\r\n",
         "CREATE DATE": "09/03/2015",
         "Approximate Issue Start Date": "08/30/2015",
         "Measure Date": "03/18/1978",
         "Primary Usages": "Household",
         "Region": "Inland",
         "LONGITUDE": -120.072613,
         "Well to Water Depth": "50.0",
         "ID": 3164,
         "CITY": "Catheys Valley",
         "Approximate Repair Cost": "nan",
         "County": "Mariposa",
         "Report Date": "2015-09-03T00:00:00",
         "LATITUDE": 37.465952,
         "_id": 17,
         "Additional Info": "nan",
         "_deepnote_index_column": 17
        }
       ]
      },
      "text/plain": "    Unnamed: 0                                  Well Depth StatusType  \\\n9            9   Original well - 355 ft, new well - 540 ft   Resolved   \n10          10                                         NaN     Outage   \n11          11                                      360ft.     Outage   \n12          12                                       300ft     Outage   \n13          13                                         NaN     Outage   \n14          14                                        78.0     Outage   \n15          15                                       205.0     Outage   \n16          16  90 ft. (dry) 500 ft (low flow ~20gal/day))   Resolved   \n17          17                                       225.0     Outage   \n\n       Status Household Support                 Pump Rate Reduction  \\\n9    Resolved    owner-occupied                                 75%   \n10     Outage    owner-occupied                                 NaN   \n11     Outage    owner-occupied  It's no longer producing any water   \n12     Outage    owner-occupied                                 NaN   \n13  Undefined    owner-occupied                                 NaN   \n14     Outage    owner-occupied  It's no longer producing any water   \n15     Outage    owner-occupied       Yes, about a 30-40% reduction   \n16   Resolved    owner-occupied                                 NaN   \n17     Outage    owner-occupied  It's no longer producing any water   \n\n                                         Water Issues  \\\n9   Reduction in water pressure, lower flows.\\r\\n,...   \n10        Well is dry (no longer producing water)\\r\\n   \n11        Well is dry (no longer producing water)\\r\\n   \n12        Well is dry (no longer producing water)\\r\\n   \n13        Well is dry (no longer producing water)\\r\\n   \n14        Well is dry (no longer producing water)\\r\\n   \n15        Well is dry (no longer producing water)\\r\\n   \n16      Reduction in water pressure, lower flows.\\r\\n   \n17        Well is dry (no longer producing water)\\r\\n   \n\n                                        Shortage Type  \\\n9    New well drilled with poor water quality, wat...   \n10                             Dry well (groundwater)   \n11                             Dry well (groundwater)   \n12                             Dry well (groundwater)   \n13                             Dry well (groundwater)   \n14                             Dry well (groundwater)   \n15                             Dry well (groundwater)   \n16                             Dry well (groundwater)   \n17                             Dry well (groundwater)   \n\n                                  Was Issue Resolved? CREATE DATE  ...  \\\n9   Yes, drilled replacement well.\\r\\n,Poor water ...  09/19/2015  ...   \n10  No, getting water from our neighbors with a ho...  09/22/2015  ...   \n11  No, trucking in water\\r\\n,No, cannot afford to...  09/22/2015  ...   \n12        No, cannot afford to finance solutions.\\r\\n  09/23/2015  ...   \n13                                                NaN  09/30/2015  ...   \n14  No, trucking in water\\r\\n,Well Assistance Prog...  09/02/2015  ...   \n15      No, trucking in water\\r\\n,Well Assistance\\r\\n  09/02/2015  ...   \n16                 Yes, drilled replacement well.\\r\\n  09/02/2015  ...   \n17  No, trucking in water\\r\\n,Well Assistance prog...  09/03/2015  ...   \n\n     LONGITUDE                            Well to Water Depth    ID  \\\n9  -120.621761  280 ft - continuous measurement with Wellntel  3121   \n10 -120.555413                                            NaN  3122   \n11 -120.555153                                            NaN  3123   \n12 -121.039598                                            NaN  3124   \n13 -120.599636                                            NaN  3141   \n14 -119.821760                                            NaN  3161   \n15 -119.824958                                            NaN  3162   \n16 -116.750424                                            NaN  3163   \n17 -120.072613                                           50.0  3164   \n\n              CITY  Approximate Repair Cost           County  \\\n9        Templeton                  $25,000  San Luis Obispo   \n10     Paso Robles                      NaN  San Luis Obispo   \n11     Paso Robles                      NaN  San Luis Obispo   \n12      Pilot Hill                      NaN        El Dorado   \n13     PASO ROBLES                      NaN  San Luis Obispo   \n14        Mariposa                      NaN         Mariposa   \n15        Mariposa                      NaN         Mariposa   \n16         Dulzura                      NaN        San Diego   \n17  Catheys Valley                      NaN         Mariposa   \n\n            Report Date   LATITUDE _id  \\\n9   2015-09-19T00:00:00  35.544734   9   \n10  2015-09-22T00:00:00  35.624832  10   \n11  2015-09-22T00:00:00  35.629448  11   \n12  2015-09-23T00:00:00  38.795520  12   \n13  2015-09-30T00:00:00  35.660990  13   \n14  2015-09-02T00:00:00  37.446633  14   \n15  2015-09-02T00:00:00  37.501072  15   \n16  2015-09-02T00:00:00  32.620471  16   \n17  2015-09-03T00:00:00  37.465952  17   \n\n                                      Additional Info  \n9   Many of our neighbors have drilled new wells i...  \n10                                                NaN  \n11                                                NaN  \n12  We are looking at borrowing money to put in a ...  \n13                                                NaN  \n14                                                NaN  \n15                                                NaN  \n16                                                NaN  \n17                                                NaN  \n\n[9 rows x 24 columns]",
      "text/html": "<div>\n<style scoped>\n    .dataframe tbody tr th:only-of-type {\n        vertical-align: middle;\n    }\n\n    .dataframe tbody tr th {\n        vertical-align: top;\n    }\n\n    .dataframe thead th {\n        text-align: right;\n    }\n</style>\n<table border=\"1\" class=\"dataframe\">\n  <thead>\n    <tr style=\"text-align: right;\">\n      <th></th>\n      <th>Unnamed: 0</th>\n      <th>Well Depth</th>\n      <th>StatusType</th>\n      <th>Status</th>\n      <th>Household Support</th>\n      <th>Pump Rate Reduction</th>\n      <th>Water Issues</th>\n      <th>Shortage Type</th>\n      <th>Was Issue Resolved?</th>\n      <th>CREATE DATE</th>\n      <th>...</th>\n      <th>LONGITUDE</th>\n      <th>Well to Water Depth</th>\n      <th>ID</th>\n      <th>CITY</th>\n      <th>Approximate Repair Cost</th>\n      <th>County</th>\n      <th>Report Date</th>\n      <th>LATITUDE</th>\n      <th>_id</th>\n      <th>Additional Info</th>\n    </tr>\n  </thead>\n  <tbody>\n    <tr>\n      <th>9</th>\n      <td>9</td>\n      <td>Original well - 355 ft, new well - 540 ft</td>\n      <td>Resolved</td>\n      <td>Resolved</td>\n      <td>owner-occupied</td>\n      <td>75%</td>\n      <td>Reduction in water pressure, lower flows.\\r\\n,...</td>\n      <td>New well drilled with poor water quality, wat...</td>\n      <td>Yes, drilled replacement well.\\r\\n,Poor water ...</td>\n      <td>09/19/2015</td>\n      <td>...</td>\n      <td>-120.621761</td>\n      <td>280 ft - continuous measurement with Wellntel</td>\n      <td>3121</td>\n      <td>Templeton</td>\n      <td>$25,000</td>\n      <td>San Luis Obispo</td>\n      <td>2015-09-19T00:00:00</td>\n      <td>35.544734</td>\n      <td>9</td>\n      <td>Many of our neighbors have drilled new wells i...</td>\n    </tr>\n    <tr>\n      <th>10</th>\n      <td>10</td>\n      <td>NaN</td>\n      <td>Outage</td>\n      <td>Outage</td>\n      <td>owner-occupied</td>\n      <td>NaN</td>\n      <td>Well is dry (no longer producing water)\\r\\n</td>\n      <td>Dry well (groundwater)</td>\n      <td>No, getting water from our neighbors with a ho...</td>\n      <td>09/22/2015</td>\n      <td>...</td>\n      <td>-120.555413</td>\n      <td>NaN</td>\n      <td>3122</td>\n      <td>Paso Robles</td>\n      <td>NaN</td>\n      <td>San Luis Obispo</td>\n      <td>2015-09-22T00:00:00</td>\n      <td>35.624832</td>\n      <td>10</td>\n      <td>NaN</td>\n    </tr>\n    <tr>\n      <th>11</th>\n      <td>11</td>\n      <td>360ft.</td>\n      <td>Outage</td>\n      <td>Outage</td>\n      <td>owner-occupied</td>\n      <td>It's no longer producing any water</td>\n      <td>Well is dry (no longer producing water)\\r\\n</td>\n      <td>Dry well (groundwater)</td>\n      <td>No, trucking in water\\r\\n,No, cannot afford to...</td>\n      <td>09/22/2015</td>\n      <td>...</td>\n      <td>-120.555153</td>\n      <td>NaN</td>\n      <td>3123</td>\n      <td>Paso Robles</td>\n      <td>NaN</td>\n      <td>San Luis Obispo</td>\n      <td>2015-09-22T00:00:00</td>\n      <td>35.629448</td>\n      <td>11</td>\n      <td>NaN</td>\n    </tr>\n    <tr>\n      <th>12</th>\n      <td>12</td>\n      <td>300ft</td>\n      <td>Outage</td>\n      <td>Outage</td>\n      <td>owner-occupied</td>\n      <td>NaN</td>\n      <td>Well is dry (no longer producing water)\\r\\n</td>\n      <td>Dry well (groundwater)</td>\n      <td>No, cannot afford to finance solutions.\\r\\n</td>\n      <td>09/23/2015</td>\n      <td>...</td>\n      <td>-121.039598</td>\n      <td>NaN</td>\n      <td>3124</td>\n      <td>Pilot Hill</td>\n      <td>NaN</td>\n      <td>El Dorado</td>\n      <td>2015-09-23T00:00:00</td>\n      <td>38.795520</td>\n      <td>12</td>\n      <td>We are looking at borrowing money to put in a ...</td>\n    </tr>\n    <tr>\n      <th>13</th>\n      <td>13</td>\n      <td>NaN</td>\n      <td>Outage</td>\n      <td>Undefined</td>\n      <td>owner-occupied</td>\n      <td>NaN</td>\n      <td>Well is dry (no longer producing water)\\r\\n</td>\n      <td>Dry well (groundwater)</td>\n      <td>NaN</td>\n      <td>09/30/2015</td>\n      <td>...</td>\n      <td>-120.599636</td>\n      <td>NaN</td>\n      <td>3141</td>\n      <td>PASO ROBLES</td>\n      <td>NaN</td>\n      <td>San Luis Obispo</td>\n      <td>2015-09-30T00:00:00</td>\n      <td>35.660990</td>\n      <td>13</td>\n      <td>NaN</td>\n    </tr>\n    <tr>\n      <th>14</th>\n      <td>14</td>\n      <td>78.0</td>\n      <td>Outage</td>\n      <td>Outage</td>\n      <td>owner-occupied</td>\n      <td>It's no longer producing any water</td>\n      <td>Well is dry (no longer producing water)\\r\\n</td>\n      <td>Dry well (groundwater)</td>\n      <td>No, trucking in water\\r\\n,Well Assistance Prog...</td>\n      <td>09/02/2015</td>\n      <td>...</td>\n      <td>-119.821760</td>\n      <td>NaN</td>\n      <td>3161</td>\n      <td>Mariposa</td>\n      <td>NaN</td>\n      <td>Mariposa</td>\n      <td>2015-09-02T00:00:00</td>\n      <td>37.446633</td>\n      <td>14</td>\n      <td>NaN</td>\n    </tr>\n    <tr>\n      <th>15</th>\n      <td>15</td>\n      <td>205.0</td>\n      <td>Outage</td>\n      <td>Outage</td>\n      <td>owner-occupied</td>\n      <td>Yes, about a 30-40% reduction</td>\n      <td>Well is dry (no longer producing water)\\r\\n</td>\n      <td>Dry well (groundwater)</td>\n      <td>No, trucking in water\\r\\n,Well Assistance\\r\\n</td>\n      <td>09/02/2015</td>\n      <td>...</td>\n      <td>-119.824958</td>\n      <td>NaN</td>\n      <td>3162</td>\n      <td>Mariposa</td>\n      <td>NaN</td>\n      <td>Mariposa</td>\n      <td>2015-09-02T00:00:00</td>\n      <td>37.501072</td>\n      <td>15</td>\n      <td>NaN</td>\n    </tr>\n    <tr>\n      <th>16</th>\n      <td>16</td>\n      <td>90 ft. (dry) 500 ft (low flow ~20gal/day))</td>\n      <td>Resolved</td>\n      <td>Resolved</td>\n      <td>owner-occupied</td>\n      <td>NaN</td>\n      <td>Reduction in water pressure, lower flows.\\r\\n</td>\n      <td>Dry well (groundwater)</td>\n      <td>Yes, drilled replacement well.\\r\\n</td>\n      <td>09/02/2015</td>\n      <td>...</td>\n      <td>-116.750424</td>\n      <td>NaN</td>\n      <td>3163</td>\n      <td>Dulzura</td>\n      <td>NaN</td>\n      <td>San Diego</td>\n      <td>2015-09-02T00:00:00</td>\n      <td>32.620471</td>\n      <td>16</td>\n      <td>NaN</td>\n    </tr>\n    <tr>\n      <th>17</th>\n      <td>17</td>\n      <td>225.0</td>\n      <td>Outage</td>\n      <td>Outage</td>\n      <td>owner-occupied</td>\n      <td>It's no longer producing any water</td>\n      <td>Well is dry (no longer producing water)\\r\\n</td>\n      <td>Dry well (groundwater)</td>\n      <td>No, trucking in water\\r\\n,Well Assistance prog...</td>\n      <td>09/03/2015</td>\n      <td>...</td>\n      <td>-120.072613</td>\n      <td>50.0</td>\n      <td>3164</td>\n      <td>Catheys Valley</td>\n      <td>NaN</td>\n      <td>Mariposa</td>\n      <td>2015-09-03T00:00:00</td>\n      <td>37.465952</td>\n      <td>17</td>\n      <td>NaN</td>\n    </tr>\n  </tbody>\n</table>\n<p>9 rows × 24 columns</p>\n</div>"
     },
     "metadata": {}
    }
   ]
  },
  {
   "cell_type": "code",
   "metadata": {
    "cell_id": "8e80e7ae-e8a3-4ccd-b323-079dfcfc6a56",
    "tags": [],
    "deepnote_cell_type": "code"
   },
   "source": "",
   "execution_count": null,
   "outputs": []
  },
  {
   "cell_type": "markdown",
   "source": "<a style='text-decoration:none;line-height:16px;display:flex;color:#5B5B62;padding:10px;justify-content:end;' href='https://deepnote.com?utm_source=created-in-deepnote-cell&projectId=b042e2da-6536-449d-95b8-d85fa08825de' target=\"_blank\">\n<img alt='Created in deepnote.com' style='display:inline;max-height:16px;margin:0px;margin-right:7.5px;' src='data:image/svg+xml;base64,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' > </img>\nCreated in <span style='font-weight:600;margin-left:4px;'>Deepnote</span></a>",
   "metadata": {
    "tags": [],
    "created_in_deepnote_cell": true,
    "deepnote_cell_type": "markdown"
   }
  }
 ],
 "nbformat": 4,
 "nbformat_minor": 2,
 "metadata": {
  "orig_nbformat": 2,
  "deepnote": {
   "is_reactive": false
  },
  "deepnote_notebook_id": "9f09cb0d-eff6-4dc6-8eee-6c5a8050af52",
  "deepnote_execution_queue": []
 }
}