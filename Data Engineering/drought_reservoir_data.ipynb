{
 "cells": [
  {
   "cell_type": "markdown",
   "source": "### Reservoir and Reservoir Stations Datasets",
   "metadata": {
    "cell_id": "a24de669-c568-4f7b-8fe1-4482fd4f86a3",
    "tags": [],
    "deepnote_cell_type": "markdown",
    "deepnote_cell_height": 62
   }
  },
  {
   "cell_type": "code",
   "metadata": {
    "cell_id": "a4a54cdf-acbf-4d0e-b99b-55a397007d91",
    "tags": [],
    "deepnote_to_be_reexecuted": false,
    "source_hash": "18561438",
    "execution_start": 1647746641786,
    "execution_millis": 5,
    "deepnote_cell_type": "code",
    "deepnote_cell_height": 353.40625
   },
   "source": "import sys\nsys.path.append('..')",
   "execution_count": 1,
   "outputs": []
  },
  {
   "cell_type": "code",
   "metadata": {
    "cell_id": "99f80b76-7916-492e-8ba8-7ada43bf5c55",
    "tags": [],
    "deepnote_to_be_reexecuted": false,
    "source_hash": "9a3b8dfa",
    "execution_start": 1647563269357,
    "execution_millis": 1084,
    "deepnote_cell_type": "code",
    "deepnote_cell_height": 136.203125
   },
   "source": "from lib.reservoir import ReservoirDataset",
   "execution_count": 2,
   "outputs": [
    {
     "name": "stderr",
     "text": "/shared-libs/python3.9/py/lib/python3.9/site-packages/geopandas/_compat.py:111: UserWarning: The Shapely GEOS version (3.10.2-CAPI-1.16.0) is incompatible with the GEOS version PyGEOS was compiled with (3.10.1-CAPI-1.16.0). Conversions between both will be slow.\n  warnings.warn(\n",
     "output_type": "stream"
    }
   ]
  },
  {
   "cell_type": "code",
   "metadata": {
    "cell_id": "2d1c8f71-fc6a-406e-ba6c-31068ac3f811",
    "deepnote_to_be_reexecuted": false,
    "source_hash": "8162a97d",
    "execution_start": 1647563272921,
    "execution_millis": 3,
    "deepnote_cell_type": "code",
    "deepnote_cell_height": 261
   },
   "source": "import pandas as pd\nimport numpy as np\n\nfrom bs4 import BeautifulSoup\nimport requests\n\nimport datetime\nimport altair as alt\n\nimport warnings\nwarnings.simplefilter(action='ignore', category=FutureWarning)",
   "execution_count": 3,
   "outputs": []
  },
  {
   "cell_type": "markdown",
   "source": "##### NOTE: The scraped data was cleaned merged and stored in \n- /work/milestone2_waterwells_deepnote/assets/outputs/weekly_reservoir_station_data.csv\n- /work/milestone2_waterwells_deepnote/assets/outputs/reservoir_station_data.csv\n",
   "metadata": {
    "cell_id": "00001-ecdfcfef-57de-4122-a6da-553e27b20560",
    "deepnote_cell_type": "markdown",
    "deepnote_cell_height": 127.78125
   }
  },
  {
   "cell_type": "code",
   "metadata": {
    "cell_id": "faccaa88-ef10-43f7-8fd8-ff36ebab5e7d",
    "tags": [],
    "deepnote_to_be_reexecuted": false,
    "source_hash": "b19ffea7",
    "execution_start": 1647563283115,
    "execution_millis": 1,
    "deepnote_cell_type": "code",
    "deepnote_cell_height": 81
   },
   "source": "reservoir_data = ReservoirDataset(2013, 2023, \"../assets/outputs\")",
   "execution_count": 4,
   "outputs": []
  },
  {
   "cell_type": "code",
   "metadata": {
    "cell_id": "577e79ba-a567-4474-8096-f9f29714917f",
    "tags": [],
    "deepnote_to_be_reexecuted": false,
    "source_hash": "30d3103d",
    "execution_start": 1647563289926,
    "execution_millis": 506705,
    "deepnote_cell_type": "code",
    "deepnote_cell_height": 613.265625
   },
   "source": "reservoir_data.scrape_weekly_reservoir_data()",
   "execution_count": 5,
   "outputs": [
    {
     "output_type": "execute_result",
     "execution_count": 5,
     "data": {
      "application/vnd.deepnote.dataframe.v3+json": {
       "column_count": 15,
       "row_count": 9714,
       "columns": [
        {
         "name": "Reservoir Name",
         "dtype": "object",
         "stats": {
          "unique_count": 48,
          "nan_count": 0,
          "categories": [
           {
            "name": "TRINITY LAKE",
            "count": 206
           },
           {
            "name": "WHISKEYTOWN",
            "count": 206
           },
           {
            "name": "46 others",
            "count": 9302
           }
          ]
         }
        },
        {
         "name": "STATION_ID",
         "dtype": "object",
         "stats": {
          "unique_count": 48,
          "nan_count": 0,
          "categories": [
           {
            "name": "CLE",
            "count": 206
           },
           {
            "name": "WHI",
            "count": 206
           },
           {
            "name": "46 others",
            "count": 9302
           }
          ]
         }
        },
        {
         "name": "Capacity(AF)",
         "dtype": "object",
         "stats": {
          "unique_count": 49,
          "nan_count": 0,
          "categories": [
           {
            "name": "2,447,650",
            "count": 206
           },
           {
            "name": "241,100",
            "count": 206
           },
           {
            "name": "47 others",
            "count": 9302
           }
          ]
         }
        },
        {
         "name": "Elevation(FT)",
         "dtype": "object",
         "stats": {
          "unique_count": 7704,
          "nan_count": 0,
          "categories": [
           {
            "name": "---",
            "count": 1291
           },
           {
            "name": "1,208.91",
            "count": 6
           },
           {
            "name": "7702 others",
            "count": 8417
           }
          ]
         }
        },
        {
         "name": "Storage(AF)",
         "dtype": "object",
         "stats": {
          "unique_count": 8211,
          "nan_count": 0,
          "categories": [
           {
            "name": "---",
            "count": 841
           },
           {
            "name": "237,609",
            "count": 6
           },
           {
            "name": "8209 others",
            "count": 8867
           }
          ]
         }
        },
        {
         "name": "Storage Change",
         "dtype": "object",
         "stats": {
          "unique_count": 3488,
          "nan_count": 0,
          "categories": [
           {
            "name": "---",
            "count": 1010
           },
           {
            "name": "0",
            "count": 271
           },
           {
            "name": "3486 others",
            "count": 8433
           }
          ]
         }
        },
        {
         "name": "PCT_OF_CAPACITY",
         "dtype": "object",
         "stats": {
          "unique_count": 109,
          "nan_count": 0,
          "categories": [
           {
            "name": "---",
            "count": 841
           },
           {
            "name": "92",
            "count": 219
           },
           {
            "name": "107 others",
            "count": 8654
           }
          ]
         }
        },
        {
         "name": "Average Storage",
         "dtype": "object",
         "stats": {
          "unique_count": 9160,
          "nan_count": 0,
          "categories": [
           {
            "name": "---",
            "count": 159
           },
           {
            "name": "8,066",
            "count": 8
           },
           {
            "name": "9158 others",
            "count": 9547
           }
          ]
         }
        },
        {
         "name": "% of Average",
         "dtype": "object",
         "stats": {
          "unique_count": 198,
          "nan_count": 0,
          "categories": [
           {
            "name": "---",
            "count": 996
           },
           {
            "name": "101",
            "count": 310
           },
           {
            "name": "196 others",
            "count": 8408
           }
          ]
         }
        },
        {
         "name": "Outflow(CFS)",
         "dtype": "object",
         "stats": {
          "unique_count": 2512,
          "nan_count": 0,
          "categories": [
           {
            "name": "---",
            "count": 4014
           },
           {
            "name": "0",
            "count": 232
           },
           {
            "name": "2510 others",
            "count": 5468
           }
          ]
         }
        },
        {
         "name": "Inflow(CFS)",
         "dtype": "object"
        },
        {
         "name": "Storage-Year Ago This Date",
         "dtype": "object"
        },
        {
         "name": "date",
         "dtype": "datetime64[ns]"
        },
        {
         "name": "YEAR",
         "dtype": "int64"
        },
        {
         "name": "MONTH",
         "dtype": "int64"
        },
        {
         "name": "_deepnote_index_column",
         "dtype": "int64"
        }
       ],
       "rows": [
        {
         "Reservoir Name": "TRINITY LAKE",
         "STATION_ID": "CLE",
         "Capacity(AF)": "2,447,650",
         "Elevation(FT)": "2,333.38",
         "Storage(AF)": "1,892,349",
         "Storage Change": "23,907",
         "PCT_OF_CAPACITY": "77",
         "Average Storage": "1,948,622",
         "% of Average": "97",
         "Outflow(CFS)": "415",
         "Inflow(CFS)": "12,468",
         "Storage-Year Ago This Date": "2,245,651",
         "date": "2018-04-08T00:00:00.000000",
         "YEAR": 2018,
         "MONTH": 4,
         "_deepnote_index_column": 0
        },
        {
         "Reservoir Name": "WHISKEYTOWN",
         "STATION_ID": "WHI",
         "Capacity(AF)": "241,100",
         "Elevation(FT)": "1,199.29",
         "Storage(AF)": "208,016",
         "Storage Change": "1,745",
         "PCT_OF_CAPACITY": "86",
         "Average Storage": "217,023",
         "% of Average": "96",
         "Outflow(CFS)": "714",
         "Inflow(CFS)": "1,594",
         "Storage-Year Ago This Date": "216,744",
         "date": "2018-04-08T00:00:00.000000",
         "YEAR": 2018,
         "MONTH": 4,
         "_deepnote_index_column": 1
        },
        {
         "Reservoir Name": "LEWISTON",
         "STATION_ID": "LEW",
         "Capacity(AF)": "14,660",
         "Elevation(FT)": "1,901.24",
         "Storage(AF)": "14,091",
         "Storage Change": "-351",
         "PCT_OF_CAPACITY": "96",
         "Average Storage": "13,745",
         "% of Average": "103",
         "Outflow(CFS)": "752",
         "Inflow(CFS)": "575",
         "Storage-Year Ago This Date": "13,852",
         "date": "2018-04-08T00:00:00.000000",
         "YEAR": 2018,
         "MONTH": 4,
         "_deepnote_index_column": 2
        },
        {
         "Reservoir Name": "SONOMA(WARM SPRINGS)",
         "STATION_ID": "WRS",
         "Capacity(AF)": "381,000",
         "Elevation(FT)": "443.48",
         "Storage(AF)": "225,587",
         "Storage Change": "2,536",
         "PCT_OF_CAPACITY": "59",
         "Average Storage": "233,717",
         "% of Average": "97",
         "Outflow(CFS)": "78",
         "Inflow(CFS)": "1,362",
         "Storage-Year Ago This Date": "249,554",
         "date": "2018-04-08T00:00:00.000000",
         "YEAR": 2018,
         "MONTH": 4,
         "_deepnote_index_column": 3
        },
        {
         "Reservoir Name": "MENDOCINO (COYOTE)",
         "STATION_ID": "COY",
         "Capacity(AF)": "122,400",
         "Elevation(FT)": "744.63",
         "Storage(AF)": "80,519",
         "Storage Change": "4,003",
         "PCT_OF_CAPACITY": "66",
         "Average Storage": "79,957",
         "% of Average": "101",
         "Outflow(CFS)": "32",
         "Inflow(CFS)": "2,056",
         "Storage-Year Ago This Date": "86,702",
         "date": "2018-04-08T00:00:00.000000",
         "YEAR": 2018,
         "MONTH": 4,
         "_deepnote_index_column": 4
        },
        {
         "Reservoir Name": "SHASTA",
         "STATION_ID": "SHA",
         "Capacity(AF)": "4,552,000",
         "Elevation(FT)": "1,047.11",
         "Storage(AF)": "3,983,605",
         "Storage Change": "33,783",
         "PCT_OF_CAPACITY": "88",
         "Average Storage": "3,745,095",
         "% of Average": "106",
         "Outflow(CFS)": "1,892",
         "Inflow(CFS)": "18,932",
         "Storage-Year Ago This Date": "4,175,527",
         "date": "2018-04-08T00:00:00.000000",
         "YEAR": 2018,
         "MONTH": 4,
         "_deepnote_index_column": 5
        },
        {
         "Reservoir Name": "KESWICK",
         "STATION_ID": "KES",
         "Capacity(AF)": "23,772",
         "Elevation(FT)": "584.68",
         "Storage(AF)": "22,310",
         "Storage Change": "81",
         "PCT_OF_CAPACITY": "94",
         "Average Storage": "21,752",
         "% of Average": "103",
         "Outflow(CFS)": "3,045",
         "Inflow(CFS)": "3,086",
         "Storage-Year Ago This Date": "21,635",
         "date": "2018-04-08T00:00:00.000000",
         "YEAR": 2018,
         "MONTH": 4,
         "_deepnote_index_column": 6
        },
        {
         "Reservoir Name": "OROVILLE",
         "STATION_ID": "ORO",
         "Capacity(AF)": "3,537,577",
         "Elevation(FT)": "798.51",
         "Storage(AF)": "2,174,981",
         "Storage Change": "54,162",
         "PCT_OF_CAPACITY": "61",
         "Average Storage": "2,737,891",
         "% of Average": "79",
         "Outflow(CFS)": "12,586",
         "Inflow(CFS)": "39,840",
         "Storage-Year Ago This Date": "2,807,411",
         "date": "2018-04-08T00:00:00.000000",
         "YEAR": 2018,
         "MONTH": 4,
         "_deepnote_index_column": 7
        },
        {
         "Reservoir Name": "ANTELOPE",
         "STATION_ID": "ANT",
         "Capacity(AF)": "22,566",
         "Elevation(FT)": "5,003.31",
         "Storage(AF)": "23,799",
         "Storage Change": "599",
         "PCT_OF_CAPACITY": "105",
         "Average Storage": "20,295",
         "% of Average": "117",
         "Outflow(CFS)": "---",
         "Inflow(CFS)": "---",
         "Storage-Year Ago This Date": "24,572",
         "date": "2018-04-08T00:00:00.000000",
         "YEAR": 2018,
         "MONTH": 4,
         "_deepnote_index_column": 8
        },
        {
         "Reservoir Name": "FRENCHMAN",
         "STATION_ID": "FRD",
         "Capacity(AF)": "55,477",
         "Elevation(FT)": "5,586.03",
         "Storage(AF)": "52,418",
         "Storage Change": "682",
         "PCT_OF_CAPACITY": "94",
         "Average Storage": "40,995",
         "% of Average": "128",
         "Outflow(CFS)": "---",
         "Inflow(CFS)": "---",
         "Storage-Year Ago This Date": "58,073",
         "date": "2018-04-08T00:00:00.000000",
         "YEAR": 2018,
         "MONTH": 4,
         "_deepnote_index_column": 9
        }
       ]
      },
      "text/plain": "          Reservoir Name STATION_ID Capacity(AF) Elevation(FT) Storage(AF)  \\\n0           TRINITY LAKE        CLE    2,447,650      2,333.38   1,892,349   \n1            WHISKEYTOWN        WHI      241,100      1,199.29     208,016   \n2               LEWISTON        LEW       14,660      1,901.24      14,091   \n3   SONOMA(WARM SPRINGS)        WRS      381,000        443.48     225,587   \n4     MENDOCINO (COYOTE)        COY      122,400        744.63      80,519   \n..                   ...        ...          ...           ...         ...   \n43           DONNER LAKE        DNN        9,700      5,928.29       3,336   \n44          CACHUMA LAKE        CCH      193,305        710.87      90,807   \n45               PYRAMID        PYM      180,000      2,571.92     162,170   \n46               CASTAIC        CAS      325,000      1,444.70     187,522   \n47           LAKE PERRIS        PRR      131,452      1,578.08     104,876   \n\n   Storage Change PCT_OF_CAPACITY Average Storage % of Average Outflow(CFS)  \\\n0          23,907              77       1,948,622           97          415   \n1           1,745              86         217,023           96          714   \n2            -351              96          13,745          103          752   \n3           2,536              59         233,717           97           78   \n4           4,003              66          79,957          101           32   \n..            ...             ...             ...          ...          ...   \n43            -16              34           4,119           81          ---   \n44            -56              47         143,366           63           45   \n45          1,037              90         164,362           99          ---   \n46           -530              58         267,588           70          ---   \n47             85              80          95,433          110          ---   \n\n   Inflow(CFS) Storage-Year Ago This Date       date  YEAR  MONTH  \n0       12,468                  2,245,651 2018-04-08  2018      4  \n1        1,594                    216,744 2018-04-08  2018      4  \n2          575                     13,852 2018-04-08  2018      4  \n3        1,362                    249,554 2018-04-08  2018      4  \n4        2,056                     86,702 2018-04-08  2018      4  \n..         ...                        ...        ...   ...    ...  \n43         ---                      3,134 2022-03-13  2022      3  \n44          22                    121,510 2022-03-13  2022      3  \n45         ---                    154,127 2022-03-13  2022      3  \n46         ---                    254,932 2022-03-13  2022      3  \n47         ---                    119,273 2022-03-13  2022      3  \n\n[9714 rows x 15 columns]",
      "text/html": "<div>\n<style scoped>\n    .dataframe tbody tr th:only-of-type {\n        vertical-align: middle;\n    }\n\n    .dataframe tbody tr th {\n        vertical-align: top;\n    }\n\n    .dataframe thead th {\n        text-align: right;\n    }\n</style>\n<table border=\"1\" class=\"dataframe\">\n  <thead>\n    <tr style=\"text-align: right;\">\n      <th></th>\n      <th>Reservoir Name</th>\n      <th>STATION_ID</th>\n      <th>Capacity(AF)</th>\n      <th>Elevation(FT)</th>\n      <th>Storage(AF)</th>\n      <th>Storage Change</th>\n      <th>PCT_OF_CAPACITY</th>\n      <th>Average Storage</th>\n      <th>% of Average</th>\n      <th>Outflow(CFS)</th>\n      <th>Inflow(CFS)</th>\n      <th>Storage-Year Ago This Date</th>\n      <th>date</th>\n      <th>YEAR</th>\n      <th>MONTH</th>\n    </tr>\n  </thead>\n  <tbody>\n    <tr>\n      <th>0</th>\n      <td>TRINITY LAKE</td>\n      <td>CLE</td>\n      <td>2,447,650</td>\n      <td>2,333.38</td>\n      <td>1,892,349</td>\n      <td>23,907</td>\n      <td>77</td>\n      <td>1,948,622</td>\n      <td>97</td>\n      <td>415</td>\n      <td>12,468</td>\n      <td>2,245,651</td>\n      <td>2018-04-08</td>\n      <td>2018</td>\n      <td>4</td>\n    </tr>\n    <tr>\n      <th>1</th>\n      <td>WHISKEYTOWN</td>\n      <td>WHI</td>\n      <td>241,100</td>\n      <td>1,199.29</td>\n      <td>208,016</td>\n      <td>1,745</td>\n      <td>86</td>\n      <td>217,023</td>\n      <td>96</td>\n      <td>714</td>\n      <td>1,594</td>\n      <td>216,744</td>\n      <td>2018-04-08</td>\n      <td>2018</td>\n      <td>4</td>\n    </tr>\n    <tr>\n      <th>2</th>\n      <td>LEWISTON</td>\n      <td>LEW</td>\n      <td>14,660</td>\n      <td>1,901.24</td>\n      <td>14,091</td>\n      <td>-351</td>\n      <td>96</td>\n      <td>13,745</td>\n      <td>103</td>\n      <td>752</td>\n      <td>575</td>\n      <td>13,852</td>\n      <td>2018-04-08</td>\n      <td>2018</td>\n      <td>4</td>\n    </tr>\n    <tr>\n      <th>3</th>\n      <td>SONOMA(WARM SPRINGS)</td>\n      <td>WRS</td>\n      <td>381,000</td>\n      <td>443.48</td>\n      <td>225,587</td>\n      <td>2,536</td>\n      <td>59</td>\n      <td>233,717</td>\n      <td>97</td>\n      <td>78</td>\n      <td>1,362</td>\n      <td>249,554</td>\n      <td>2018-04-08</td>\n      <td>2018</td>\n      <td>4</td>\n    </tr>\n    <tr>\n      <th>4</th>\n      <td>MENDOCINO (COYOTE)</td>\n      <td>COY</td>\n      <td>122,400</td>\n      <td>744.63</td>\n      <td>80,519</td>\n      <td>4,003</td>\n      <td>66</td>\n      <td>79,957</td>\n      <td>101</td>\n      <td>32</td>\n      <td>2,056</td>\n      <td>86,702</td>\n      <td>2018-04-08</td>\n      <td>2018</td>\n      <td>4</td>\n    </tr>\n    <tr>\n      <th>...</th>\n      <td>...</td>\n      <td>...</td>\n      <td>...</td>\n      <td>...</td>\n      <td>...</td>\n      <td>...</td>\n      <td>...</td>\n      <td>...</td>\n      <td>...</td>\n      <td>...</td>\n      <td>...</td>\n      <td>...</td>\n      <td>...</td>\n      <td>...</td>\n      <td>...</td>\n    </tr>\n    <tr>\n      <th>43</th>\n      <td>DONNER LAKE</td>\n      <td>DNN</td>\n      <td>9,700</td>\n      <td>5,928.29</td>\n      <td>3,336</td>\n      <td>-16</td>\n      <td>34</td>\n      <td>4,119</td>\n      <td>81</td>\n      <td>---</td>\n      <td>---</td>\n      <td>3,134</td>\n      <td>2022-03-13</td>\n      <td>2022</td>\n      <td>3</td>\n    </tr>\n    <tr>\n      <th>44</th>\n      <td>CACHUMA LAKE</td>\n      <td>CCH</td>\n      <td>193,305</td>\n      <td>710.87</td>\n      <td>90,807</td>\n      <td>-56</td>\n      <td>47</td>\n      <td>143,366</td>\n      <td>63</td>\n      <td>45</td>\n      <td>22</td>\n      <td>121,510</td>\n      <td>2022-03-13</td>\n      <td>2022</td>\n      <td>3</td>\n    </tr>\n    <tr>\n      <th>45</th>\n      <td>PYRAMID</td>\n      <td>PYM</td>\n      <td>180,000</td>\n      <td>2,571.92</td>\n      <td>162,170</td>\n      <td>1,037</td>\n      <td>90</td>\n      <td>164,362</td>\n      <td>99</td>\n      <td>---</td>\n      <td>---</td>\n      <td>154,127</td>\n      <td>2022-03-13</td>\n      <td>2022</td>\n      <td>3</td>\n    </tr>\n    <tr>\n      <th>46</th>\n      <td>CASTAIC</td>\n      <td>CAS</td>\n      <td>325,000</td>\n      <td>1,444.70</td>\n      <td>187,522</td>\n      <td>-530</td>\n      <td>58</td>\n      <td>267,588</td>\n      <td>70</td>\n      <td>---</td>\n      <td>---</td>\n      <td>254,932</td>\n      <td>2022-03-13</td>\n      <td>2022</td>\n      <td>3</td>\n    </tr>\n    <tr>\n      <th>47</th>\n      <td>LAKE PERRIS</td>\n      <td>PRR</td>\n      <td>131,452</td>\n      <td>1,578.08</td>\n      <td>104,876</td>\n      <td>85</td>\n      <td>80</td>\n      <td>95,433</td>\n      <td>110</td>\n      <td>---</td>\n      <td>---</td>\n      <td>119,273</td>\n      <td>2022-03-13</td>\n      <td>2022</td>\n      <td>3</td>\n    </tr>\n  </tbody>\n</table>\n<p>9714 rows × 15 columns</p>\n</div>"
     },
     "metadata": {}
    }
   ]
  },
  {
   "cell_type": "code",
   "metadata": {
    "cell_id": "12d364cb-a0e5-4876-b8db-b499f95e0f49",
    "tags": [],
    "deepnote_to_be_reexecuted": false,
    "source_hash": "5b93f22a",
    "execution_start": 1647563838340,
    "execution_millis": 654,
    "deepnote_cell_type": "code",
    "deepnote_cell_height": 613.265625
   },
   "source": "reservoir_data.get_reservoir_station_data()",
   "execution_count": 6,
   "outputs": [
    {
     "output_type": "execute_result",
     "execution_count": 6,
     "data": {
      "application/vnd.deepnote.dataframe.v3+json": {
       "column_count": 6,
       "row_count": 206,
       "columns": [
        {
         "name": "STATION",
         "dtype": "object",
         "stats": {
          "unique_count": 206,
          "nan_count": 0,
          "categories": [
           {
            "name": "DWINNELL RESERVOIR NEAR EDGEWOOD",
            "count": 1
           },
           {
            "name": "TRINITY LAKE",
            "count": 1
           },
           {
            "name": "204 others",
            "count": 204
           }
          ]
         }
        },
        {
         "name": "STATION_ID",
         "dtype": "object",
         "stats": {
          "unique_count": 206,
          "nan_count": 0,
          "categories": [
           {
            "name": "DRE",
            "count": 1
           },
           {
            "name": "CLE",
            "count": 1
           },
           {
            "name": "204 others",
            "count": 204
           }
          ]
         }
        },
        {
         "name": "ELEV(FEET)",
         "dtype": "object",
         "stats": {
          "unique_count": 198,
          "nan_count": 0,
          "categories": [
           {
            "name": "543",
            "count": 3
           },
           {
            "name": "2675",
            "count": 2
           },
           {
            "name": "196 others",
            "count": 201
           }
          ]
         }
        },
        {
         "name": "LATITUDE",
         "dtype": "object",
         "stats": {
          "unique_count": 198,
          "nan_count": 0,
          "categories": [
           {
            "name": "37.000999",
            "count": 3
           },
           {
            "name": "39.408298",
            "count": 2
           },
           {
            "name": "196 others",
            "count": 201
           }
          ]
         }
        },
        {
         "name": "LONGITUDE",
         "dtype": "object",
         "stats": {
          "unique_count": 197,
          "nan_count": 0,
          "categories": [
           {
            "name": "-120.883003",
            "count": 2
           },
           {
            "name": "-122.532997",
            "count": 2
           },
           {
            "name": "195 others",
            "count": 202
           }
          ]
         }
        },
        {
         "name": "COUNTY",
         "dtype": "object",
         "stats": {
          "unique_count": 49,
          "nan_count": 0,
          "categories": [
           {
            "name": "SAN DIEGO",
            "count": 15
           },
           {
            "name": "EL DORADO",
            "count": 13
           },
           {
            "name": "47 others",
            "count": 178
           }
          ]
         }
        },
        {
         "name": "_deepnote_index_column",
         "dtype": "int64"
        }
       ],
       "rows": [
        {
         "STATION": "DWINNELL RESERVOIR NEAR EDGEWOOD",
         "STATION_ID": "DRE",
         "ELEV(FEET)": "2805",
         "LATITUDE": "41.540894",
         "LONGITUDE": "-122.374550",
         "COUNTY": "SISKIYOU",
         "_deepnote_index_column": 2
        },
        {
         "STATION": "TRINITY LAKE",
         "STATION_ID": "CLE",
         "ELEV(FEET)": "2370",
         "LATITUDE": "40.800999",
         "LONGITUDE": "-122.762001",
         "COUNTY": "TRINITY",
         "_deepnote_index_column": 3
        },
        {
         "STATION": "LEWISTON",
         "STATION_ID": "LEW",
         "ELEV(FEET)": "1870",
         "LATITUDE": "40.727001",
         "LONGITUDE": "-122.792999",
         "COUNTY": "TRINITY",
         "_deepnote_index_column": 4
        },
        {
         "STATION": "RUTH  DAM",
         "STATION_ID": "RTD",
         "ELEV(FEET)": "2675",
         "LATITUDE": "40.367001",
         "LONGITUDE": "-123.432999",
         "COUNTY": "TRINITY",
         "_deepnote_index_column": 5
        },
        {
         "STATION": "LAKE PILLSBURY NR POTTER VLY 24HR AVG",
         "STATION_ID": "LPY",
         "ELEV(FEET)": "1828",
         "LATITUDE": "39.408298",
         "LONGITUDE": "-122.958298",
         "COUNTY": "LAKE",
         "_deepnote_index_column": 6
        },
        {
         "STATION": "SCOTT DAM",
         "STATION_ID": "SCD",
         "ELEV(FEET)": "1807",
         "LATITUDE": "39.408298",
         "LONGITUDE": "-122.958603",
         "COUNTY": "LAKE",
         "_deepnote_index_column": 7
        },
        {
         "STATION": "VAN ARSDALE RESERVOIR 24HR AVG",
         "STATION_ID": "VAR",
         "ELEV(FEET)": "1494",
         "LATITUDE": "39.383900",
         "LONGITUDE": "-123.102501",
         "COUNTY": "MENDOCINO",
         "_deepnote_index_column": 8
        },
        {
         "STATION": "COYOTE (LAKE MENDOCINO)",
         "STATION_ID": "COY",
         "ELEV(FEET)": "720",
         "LATITUDE": "39.196999",
         "LONGITUDE": "-123.185997",
         "COUNTY": "MENDOCINO",
         "_deepnote_index_column": 9
        },
        {
         "STATION": "WARM SPRINGS (USACE)",
         "STATION_ID": "WRS",
         "ELEV(FEET)": "440",
         "LATITUDE": "38.723000",
         "LONGITUDE": "-123.010002",
         "COUNTY": "SONOMA",
         "_deepnote_index_column": 10
        },
        {
         "STATION": "BON TEMPE",
         "STATION_ID": "BMP",
         "ELEV(FEET)": "723",
         "LATITUDE": "37.957001",
         "LONGITUDE": "-122.610001",
         "COUNTY": "MARIN",
         "_deepnote_index_column": 11
        }
       ]
      },
      "text/plain": "0                                  STATION STATION_ID ELEV(FEET)   LATITUDE  \\\n2         DWINNELL RESERVOIR NEAR EDGEWOOD        DRE       2805  41.540894   \n3                             TRINITY LAKE        CLE       2370  40.800999   \n4                                 LEWISTON        LEW       1870  40.727001   \n5                                RUTH  DAM        RTD       2675  40.367001   \n6    LAKE PILLSBURY NR POTTER VLY 24HR AVG        LPY       1828  39.408298   \n..                                     ...        ...        ...        ...   \n203                     TINEMAHA RESERVOIR        TNM       3882  37.057999   \n204                                 HAIWEE        HWE       3774  36.137001   \n205                   SOUTH LAKE RESERVOIR        SKR        837  33.115040   \n206                  LITTLE ROCK RESERVOIR        LRK        745  34.485001   \n207                        LAKE SILVERWOOD        SLW       3331  34.304001   \n\n0      LONGITUDE          COUNTY  \n2    -122.374550        SISKIYOU  \n3    -122.762001         TRINITY  \n4    -122.792999         TRINITY  \n5    -123.432999         TRINITY  \n6    -122.958298            LAKE  \n..           ...             ...  \n203  -118.224998            INYO  \n204  -117.947998            INYO  \n205  -117.165588            INYO  \n206  -118.022003     LOS ANGELES  \n207  -117.318001  SAN BERNARDINO  \n\n[206 rows x 6 columns]",
      "text/html": "<div>\n<style scoped>\n    .dataframe tbody tr th:only-of-type {\n        vertical-align: middle;\n    }\n\n    .dataframe tbody tr th {\n        vertical-align: top;\n    }\n\n    .dataframe thead th {\n        text-align: right;\n    }\n</style>\n<table border=\"1\" class=\"dataframe\">\n  <thead>\n    <tr style=\"text-align: right;\">\n      <th></th>\n      <th>STATION</th>\n      <th>STATION_ID</th>\n      <th>ELEV(FEET)</th>\n      <th>LATITUDE</th>\n      <th>LONGITUDE</th>\n      <th>COUNTY</th>\n    </tr>\n  </thead>\n  <tbody>\n    <tr>\n      <th>2</th>\n      <td>DWINNELL RESERVOIR NEAR EDGEWOOD</td>\n      <td>DRE</td>\n      <td>2805</td>\n      <td>41.540894</td>\n      <td>-122.374550</td>\n      <td>SISKIYOU</td>\n    </tr>\n    <tr>\n      <th>3</th>\n      <td>TRINITY LAKE</td>\n      <td>CLE</td>\n      <td>2370</td>\n      <td>40.800999</td>\n      <td>-122.762001</td>\n      <td>TRINITY</td>\n    </tr>\n    <tr>\n      <th>4</th>\n      <td>LEWISTON</td>\n      <td>LEW</td>\n      <td>1870</td>\n      <td>40.727001</td>\n      <td>-122.792999</td>\n      <td>TRINITY</td>\n    </tr>\n    <tr>\n      <th>5</th>\n      <td>RUTH  DAM</td>\n      <td>RTD</td>\n      <td>2675</td>\n      <td>40.367001</td>\n      <td>-123.432999</td>\n      <td>TRINITY</td>\n    </tr>\n    <tr>\n      <th>6</th>\n      <td>LAKE PILLSBURY NR POTTER VLY 24HR AVG</td>\n      <td>LPY</td>\n      <td>1828</td>\n      <td>39.408298</td>\n      <td>-122.958298</td>\n      <td>LAKE</td>\n    </tr>\n    <tr>\n      <th>...</th>\n      <td>...</td>\n      <td>...</td>\n      <td>...</td>\n      <td>...</td>\n      <td>...</td>\n      <td>...</td>\n    </tr>\n    <tr>\n      <th>203</th>\n      <td>TINEMAHA RESERVOIR</td>\n      <td>TNM</td>\n      <td>3882</td>\n      <td>37.057999</td>\n      <td>-118.224998</td>\n      <td>INYO</td>\n    </tr>\n    <tr>\n      <th>204</th>\n      <td>HAIWEE</td>\n      <td>HWE</td>\n      <td>3774</td>\n      <td>36.137001</td>\n      <td>-117.947998</td>\n      <td>INYO</td>\n    </tr>\n    <tr>\n      <th>205</th>\n      <td>SOUTH LAKE RESERVOIR</td>\n      <td>SKR</td>\n      <td>837</td>\n      <td>33.115040</td>\n      <td>-117.165588</td>\n      <td>INYO</td>\n    </tr>\n    <tr>\n      <th>206</th>\n      <td>LITTLE ROCK RESERVOIR</td>\n      <td>LRK</td>\n      <td>745</td>\n      <td>34.485001</td>\n      <td>-118.022003</td>\n      <td>LOS ANGELES</td>\n    </tr>\n    <tr>\n      <th>207</th>\n      <td>LAKE SILVERWOOD</td>\n      <td>SLW</td>\n      <td>3331</td>\n      <td>34.304001</td>\n      <td>-117.318001</td>\n      <td>SAN BERNARDINO</td>\n    </tr>\n  </tbody>\n</table>\n<p>206 rows × 6 columns</p>\n</div>"
     },
     "metadata": {}
    }
   ]
  },
  {
   "cell_type": "code",
   "metadata": {
    "cell_id": "e4f445e0-200f-47f0-8760-f52b681d5cc1",
    "tags": [],
    "deepnote_to_be_reexecuted": false,
    "source_hash": "bf2b8fa4",
    "execution_start": 1647563846943,
    "execution_millis": 359,
    "deepnote_cell_type": "code",
    "deepnote_cell_height": 631.265625
   },
   "source": "\nreservoir_data.retrieve_merge_reservoir_stations()",
   "execution_count": 7,
   "outputs": [
    {
     "output_type": "execute_result",
     "execution_count": 7,
     "data": {
      "application/vnd.deepnote.dataframe.v3+json": {
       "column_count": 6,
       "row_count": 237,
       "columns": [
        {
         "name": "STATION_ID",
         "dtype": "object",
         "stats": {
          "unique_count": 48,
          "nan_count": 0,
          "categories": [
           {
            "name": "ANT",
            "count": 5
           },
           {
            "name": "BER",
            "count": 5
           },
           {
            "name": "46 others",
            "count": 227
           }
          ]
         }
        },
        {
         "name": "PCT_OF_CAPACITY",
         "dtype": "float64",
         "stats": {
          "unique_count": 222,
          "nan_count": 13,
          "min": "8.307692307692308",
          "max": "97.15686274509804",
          "histogram": [
           {
            "bin_start": 8.307692307692308,
            "bin_end": 17.192609351432882,
            "count": 9
           },
           {
            "bin_start": 17.192609351432882,
            "bin_end": 26.077526395173457,
            "count": 9
           },
           {
            "bin_start": 26.077526395173457,
            "bin_end": 34.96244343891403,
            "count": 17
           },
           {
            "bin_start": 34.96244343891403,
            "bin_end": 43.8473604826546,
            "count": 17
           },
           {
            "bin_start": 43.8473604826546,
            "bin_end": 52.73227752639517,
            "count": 20
           },
           {
            "bin_start": 52.73227752639517,
            "bin_end": 61.61719457013575,
            "count": 27
           },
           {
            "bin_start": 61.61719457013575,
            "bin_end": 70.50211161387632,
            "count": 29
           },
           {
            "bin_start": 70.50211161387632,
            "bin_end": 79.3870286576169,
            "count": 27
           },
           {
            "bin_start": 79.3870286576169,
            "bin_end": 88.27194570135747,
            "count": 32
           },
           {
            "bin_start": 88.27194570135747,
            "bin_end": 97.15686274509804,
            "count": 37
           }
          ]
         }
        },
        {
         "name": "YEAR",
         "dtype": "int64",
         "stats": {
          "unique_count": 5,
          "nan_count": 0,
          "min": "2018",
          "max": "2022",
          "histogram": [
           {
            "bin_start": 2018,
            "bin_end": 2018.4,
            "count": 47
           },
           {
            "bin_start": 2018.4,
            "bin_end": 2018.8,
            "count": 0
           },
           {
            "bin_start": 2018.8,
            "bin_end": 2019.2,
            "count": 47
           },
           {
            "bin_start": 2019.2,
            "bin_end": 2019.6,
            "count": 0
           },
           {
            "bin_start": 2019.6,
            "bin_end": 2020,
            "count": 0
           },
           {
            "bin_start": 2020,
            "bin_end": 2020.4,
            "count": 47
           },
           {
            "bin_start": 2020.4,
            "bin_end": 2020.8,
            "count": 0
           },
           {
            "bin_start": 2020.8,
            "bin_end": 2021.2,
            "count": 48
           },
           {
            "bin_start": 2021.2,
            "bin_end": 2021.6,
            "count": 0
           },
           {
            "bin_start": 2021.6,
            "bin_end": 2022,
            "count": 48
           }
          ]
         }
        },
        {
         "name": "LATITUDE",
         "dtype": "object",
         "stats": {
          "unique_count": 47,
          "nan_count": 0,
          "categories": [
           {
            "name": "39.882999",
            "count": 10
           },
           {
            "name": "40.180000",
            "count": 5
           },
           {
            "name": "45 others",
            "count": 222
           }
          ]
         }
        },
        {
         "name": "LONGITUDE",
         "dtype": "object",
         "stats": {
          "unique_count": 46,
          "nan_count": 0,
          "categories": [
           {
            "name": "-119.917000",
            "count": 10
           },
           {
            "name": "-121.182999",
            "count": 10
           },
           {
            "name": "44 others",
            "count": 217
           }
          ]
         }
        },
        {
         "name": "COUNTY",
         "dtype": "object",
         "stats": {
          "unique_count": 26,
          "nan_count": 0,
          "categories": [
           {
            "name": "TUOLUMNE",
            "count": 25
           },
           {
            "name": "CALAVERAS",
            "count": 20
           },
           {
            "name": "24 others",
            "count": 192
           }
          ]
         }
        },
        {
         "name": "_deepnote_index_column",
         "dtype": "int64"
        }
       ],
       "rows": [
        {
         "STATION_ID": "ANT",
         "PCT_OF_CAPACITY": 84.91666666666667,
         "YEAR": 2018,
         "LATITUDE": "40.180000",
         "LONGITUDE": "-120.607002",
         "COUNTY": "PLUMAS",
         "_deepnote_index_column": 0
        },
        {
         "STATION_ID": "ANT",
         "PCT_OF_CAPACITY": 85.88461538461539,
         "YEAR": 2019,
         "LATITUDE": "40.180000",
         "LONGITUDE": "-120.607002",
         "COUNTY": "PLUMAS",
         "_deepnote_index_column": 1
        },
        {
         "STATION_ID": "ANT",
         "PCT_OF_CAPACITY": 80.46153846153847,
         "YEAR": 2020,
         "LATITUDE": "40.180000",
         "LONGITUDE": "-120.607002",
         "COUNTY": "PLUMAS",
         "_deepnote_index_column": 2
        },
        {
         "STATION_ID": "ANT",
         "PCT_OF_CAPACITY": 63.75,
         "YEAR": 2021,
         "LATITUDE": "40.180000",
         "LONGITUDE": "-120.607002",
         "COUNTY": "PLUMAS",
         "_deepnote_index_column": 3
        },
        {
         "STATION_ID": "ANT",
         "PCT_OF_CAPACITY": 70.9090909090909,
         "YEAR": 2022,
         "LATITUDE": "40.180000",
         "LONGITUDE": "-120.607002",
         "COUNTY": "PLUMAS",
         "_deepnote_index_column": 4
        },
        {
         "STATION_ID": "BER",
         "PCT_OF_CAPACITY": 79.4,
         "YEAR": 2018,
         "LATITUDE": "38.513000",
         "LONGITUDE": "-122.103996",
         "COUNTY": "NAPA",
         "_deepnote_index_column": 5
        },
        {
         "STATION_ID": "BER",
         "PCT_OF_CAPACITY": 91.2,
         "YEAR": 2019,
         "LATITUDE": "38.513000",
         "LONGITUDE": "-122.103996",
         "COUNTY": "NAPA",
         "_deepnote_index_column": 6
        },
        {
         "STATION_ID": "BER",
         "PCT_OF_CAPACITY": 81.42307692307692,
         "YEAR": 2020,
         "LATITUDE": "38.513000",
         "LONGITUDE": "-122.103996",
         "COUNTY": "NAPA",
         "_deepnote_index_column": 7
        },
        {
         "STATION_ID": "BER",
         "PCT_OF_CAPACITY": 64.5,
         "YEAR": 2021,
         "LATITUDE": "38.513000",
         "LONGITUDE": "-122.103996",
         "COUNTY": "NAPA",
         "_deepnote_index_column": 8
        },
        {
         "STATION_ID": "BER",
         "PCT_OF_CAPACITY": 63.90909090909091,
         "YEAR": 2022,
         "LATITUDE": "38.513000",
         "LONGITUDE": "-122.103996",
         "COUNTY": "NAPA",
         "_deepnote_index_column": 9
        }
       ]
      },
      "text/plain": "    STATION_ID  PCT_OF_CAPACITY  YEAR   LATITUDE    LONGITUDE  COUNTY\n0          ANT        84.916667  2018  40.180000  -120.607002  PLUMAS\n1          ANT        85.884615  2019  40.180000  -120.607002  PLUMAS\n2          ANT        80.461538  2020  40.180000  -120.607002  PLUMAS\n3          ANT        63.750000  2021  40.180000  -120.607002  PLUMAS\n4          ANT        70.909091  2022  40.180000  -120.607002  PLUMAS\n..         ...              ...   ...        ...          ...     ...\n232        WRS        54.384615  2018  38.723000  -123.010002  SONOMA\n233        WRS        61.769231  2019  38.723000  -123.010002  SONOMA\n234        WRS        52.176471  2020  38.723000  -123.010002  SONOMA\n235        WRS        35.384615  2021  38.723000  -123.010002  SONOMA\n236        WRS        39.454545  2022  38.723000  -123.010002  SONOMA\n\n[237 rows x 6 columns]",
      "text/html": "<div>\n<style scoped>\n    .dataframe tbody tr th:only-of-type {\n        vertical-align: middle;\n    }\n\n    .dataframe tbody tr th {\n        vertical-align: top;\n    }\n\n    .dataframe thead th {\n        text-align: right;\n    }\n</style>\n<table border=\"1\" class=\"dataframe\">\n  <thead>\n    <tr style=\"text-align: right;\">\n      <th></th>\n      <th>STATION_ID</th>\n      <th>PCT_OF_CAPACITY</th>\n      <th>YEAR</th>\n      <th>LATITUDE</th>\n      <th>LONGITUDE</th>\n      <th>COUNTY</th>\n    </tr>\n  </thead>\n  <tbody>\n    <tr>\n      <th>0</th>\n      <td>ANT</td>\n      <td>84.916667</td>\n      <td>2018</td>\n      <td>40.180000</td>\n      <td>-120.607002</td>\n      <td>PLUMAS</td>\n    </tr>\n    <tr>\n      <th>1</th>\n      <td>ANT</td>\n      <td>85.884615</td>\n      <td>2019</td>\n      <td>40.180000</td>\n      <td>-120.607002</td>\n      <td>PLUMAS</td>\n    </tr>\n    <tr>\n      <th>2</th>\n      <td>ANT</td>\n      <td>80.461538</td>\n      <td>2020</td>\n      <td>40.180000</td>\n      <td>-120.607002</td>\n      <td>PLUMAS</td>\n    </tr>\n    <tr>\n      <th>3</th>\n      <td>ANT</td>\n      <td>63.750000</td>\n      <td>2021</td>\n      <td>40.180000</td>\n      <td>-120.607002</td>\n      <td>PLUMAS</td>\n    </tr>\n    <tr>\n      <th>4</th>\n      <td>ANT</td>\n      <td>70.909091</td>\n      <td>2022</td>\n      <td>40.180000</td>\n      <td>-120.607002</td>\n      <td>PLUMAS</td>\n    </tr>\n    <tr>\n      <th>...</th>\n      <td>...</td>\n      <td>...</td>\n      <td>...</td>\n      <td>...</td>\n      <td>...</td>\n      <td>...</td>\n    </tr>\n    <tr>\n      <th>232</th>\n      <td>WRS</td>\n      <td>54.384615</td>\n      <td>2018</td>\n      <td>38.723000</td>\n      <td>-123.010002</td>\n      <td>SONOMA</td>\n    </tr>\n    <tr>\n      <th>233</th>\n      <td>WRS</td>\n      <td>61.769231</td>\n      <td>2019</td>\n      <td>38.723000</td>\n      <td>-123.010002</td>\n      <td>SONOMA</td>\n    </tr>\n    <tr>\n      <th>234</th>\n      <td>WRS</td>\n      <td>52.176471</td>\n      <td>2020</td>\n      <td>38.723000</td>\n      <td>-123.010002</td>\n      <td>SONOMA</td>\n    </tr>\n    <tr>\n      <th>235</th>\n      <td>WRS</td>\n      <td>35.384615</td>\n      <td>2021</td>\n      <td>38.723000</td>\n      <td>-123.010002</td>\n      <td>SONOMA</td>\n    </tr>\n    <tr>\n      <th>236</th>\n      <td>WRS</td>\n      <td>39.454545</td>\n      <td>2022</td>\n      <td>38.723000</td>\n      <td>-123.010002</td>\n      <td>SONOMA</td>\n    </tr>\n  </tbody>\n</table>\n<p>237 rows × 6 columns</p>\n</div>"
     },
     "metadata": {}
    }
   ]
  },
  {
   "cell_type": "markdown",
   "source": "### SECTION 1 Scrape Reservoir data from daily reporting stations\n- Web scraping with BeautifulSoup4 \n- The trick is to understanding the HTML structure to rerieve the rows of data\n-  Note it appears that there is no reservoir data prior to Apr 2018\n- Data is retieved from the daily reporting site\n-  We scrape the data at weekly level",
   "metadata": {
    "cell_id": "00002-a0ee765f-f637-48b2-b092-3910156bebbb",
    "deepnote_cell_type": "markdown",
    "deepnote_cell_height": 215.984375
   }
  },
  {
   "cell_type": "markdown",
   "source": "##### NOTE: \n- Data is available only from April 2018. \n- The structure of the data for 2018 is different from the rest of the years\n- The below function call takes about 10 mins to run\n",
   "metadata": {
    "cell_id": "00003-a679e551-79f4-4aaa-a6d5-f22271036886",
    "deepnote_cell_type": "markdown",
    "deepnote_cell_height": 153.1875
   }
  },
  {
   "cell_type": "code",
   "metadata": {
    "cell_id": "00004-e1f3ccfb-7336-46b3-804e-7e6c2b340ec6",
    "deepnote_to_be_reexecuted": false,
    "source_hash": "aa15a4fc",
    "execution_start": 1647562508216,
    "execution_millis": 1,
    "deepnote_cell_type": "code",
    "deepnote_cell_height": 1341
   },
   "source": "def scrape_weekly_reservoir_data():\n    \"\"\"\n        This function loops through a set of years in a list\n        It creates URLS at weekly intervals for reservoir data\n        It creates one dataframe containing reservoir data at weekly level for years for which we have data\n    \"\"\"\n    \n    all_years_reservoir_data = pd.DataFrame()\n    for year_start_date in [ \"2013-01-01\",  \"2014-01-01\", \"2015-01-01\", \"2016-01-01\", \"2017-01-01\", \"2018-01-01\", \"2019-01-01\", \"2020-01-01\", \"2021-01-01\", \"2022-01-01\"]:\n\n        #inclusive controls whether to include start and end that are on the boundary. The default, “both”, includes boundary points on either end.\n        date_list = pd.date_range(year_start_date, periods=53, freq='W')\n        date_list = [week_date.strftime(\"%Y%m%d\") for week_date in date_list if pd.to_datetime(week_date).year ==  pd.to_datetime(year_start_date).year]\n  \n        #Create a dataframe for all dates of a year\n        full_year_dataframe = pd.DataFrame()\n        for one_date in date_list:\n            url=f\"https://cdec.water.ca.gov/reportapp/javareports?name=RES.{one_date}\"\n\n\n            # Make a GET request to fetch the raw HTML content\n            html_content = requests.get(url).text\n\n            # Parse the html content\n            soup = BeautifulSoup(html_content, \"lxml\")\n\n            reservoir_table = soup.find(\"table\", attrs={\"id\":\"RES\", \"class\": \"data\"})\n            if reservoir_table is None:\n                continue\n            reservoir_table_header = reservoir_table.thead.find_all(\"th\")  \n            reservoir_table_header = [th.text.strip() for th in reservoir_table_header]\n            reservoir_table_header = [elm.strip() for elm in reservoir_table_header[1:]]\n            reservoir_table_rows = reservoir_table.find_all('tr', {'class': 'white'})\n            all_rows_list = []\n            for eachTableRow in reservoir_table_rows:\n                this_row = []\n                for td in eachTableRow.find_all(\"td\"):\n                    this_row.append(td.text.strip())\n\n                if this_row and len(this_row) > 1:\n                    all_rows_list.append(this_row)\n\n            #Form a data_table for the collection of weekly rows        \n            data_table = pd.DataFrame(all_rows_list )\n            data_table['date'] = pd.to_datetime(f'{one_date}')\n            data_table.columns = reservoir_table_header + ['date']\n    \n            #Form a yearly table\n            if full_year_dataframe.empty:\n                    full_year_dataframe = data_table\n            else:\n                    full_year_dataframe = full_year_dataframe.append(data_table)\n\n        if full_year_dataframe.empty:\n            continue\n\n        #Combine this years data with past years\n        if all_years_reservoir_data.empty:\n               all_years_reservoir_data = full_year_dataframe \n        else:\n               all_years_reservoir_data  = all_years_reservoir_data.append(full_year_dataframe)\n\n       \n    all_years_reservoir_data.rename(columns={'% of Capacity':'PCT_OF_CAPACITY'}, inplace=True)\n    all_years_reservoir_data  = all_years_reservoir_data[~all_years_reservoir_data['Reservoir Name'].str.contains('Total')].copy()\n    #Add a year and month column\n    all_years_reservoir_data['YEAR']  = all_years_reservoir_data.date.dt.year\n    all_years_reservoir_data['MONTH']  = all_years_reservoir_data.date.dt.month\n    all_years_reservoir_data.rename(columns={'StaID': 'STATION_ID'}, inplace=True)\n    return all_years_reservoir_data\n",
   "execution_count": null,
   "outputs": []
  },
  {
   "cell_type": "code",
   "metadata": {
    "cell_id": "bb802612-13ce-4db2-98ee-e2a59d3c8cae",
    "tags": [],
    "deepnote_to_be_reexecuted": false,
    "source_hash": "e6131f9f",
    "execution_start": 1647562527500,
    "execution_millis": 506392,
    "deepnote_cell_type": "code",
    "deepnote_cell_height": 613.265625
   },
   "source": "scrape_weekly_reservoir_data()",
   "execution_count": null,
   "outputs": [
    {
     "output_type": "execute_result",
     "execution_count": 8,
     "data": {
      "application/vnd.deepnote.dataframe.v3+json": {
       "column_count": 15,
       "row_count": 9714,
       "columns": [
        {
         "name": "Reservoir Name",
         "dtype": "object",
         "stats": {
          "unique_count": 48,
          "nan_count": 0,
          "categories": [
           {
            "name": "TRINITY LAKE",
            "count": 206
           },
           {
            "name": "WHISKEYTOWN",
            "count": 206
           },
           {
            "name": "46 others",
            "count": 9302
           }
          ]
         }
        },
        {
         "name": "STATION_ID",
         "dtype": "object",
         "stats": {
          "unique_count": 48,
          "nan_count": 0,
          "categories": [
           {
            "name": "CLE",
            "count": 206
           },
           {
            "name": "WHI",
            "count": 206
           },
           {
            "name": "46 others",
            "count": 9302
           }
          ]
         }
        },
        {
         "name": "Capacity(AF)",
         "dtype": "object",
         "stats": {
          "unique_count": 49,
          "nan_count": 0,
          "categories": [
           {
            "name": "2,447,650",
            "count": 206
           },
           {
            "name": "241,100",
            "count": 206
           },
           {
            "name": "47 others",
            "count": 9302
           }
          ]
         }
        },
        {
         "name": "Elevation(FT)",
         "dtype": "object",
         "stats": {
          "unique_count": 7704,
          "nan_count": 0,
          "categories": [
           {
            "name": "---",
            "count": 1291
           },
           {
            "name": "1,208.91",
            "count": 6
           },
           {
            "name": "7702 others",
            "count": 8417
           }
          ]
         }
        },
        {
         "name": "Storage(AF)",
         "dtype": "object",
         "stats": {
          "unique_count": 8211,
          "nan_count": 0,
          "categories": [
           {
            "name": "---",
            "count": 841
           },
           {
            "name": "237,609",
            "count": 6
           },
           {
            "name": "8209 others",
            "count": 8867
           }
          ]
         }
        },
        {
         "name": "Storage Change",
         "dtype": "object",
         "stats": {
          "unique_count": 3488,
          "nan_count": 0,
          "categories": [
           {
            "name": "---",
            "count": 1010
           },
           {
            "name": "0",
            "count": 271
           },
           {
            "name": "3486 others",
            "count": 8433
           }
          ]
         }
        },
        {
         "name": "PCT_OF_CAPACITY",
         "dtype": "object",
         "stats": {
          "unique_count": 109,
          "nan_count": 0,
          "categories": [
           {
            "name": "---",
            "count": 841
           },
           {
            "name": "92",
            "count": 219
           },
           {
            "name": "107 others",
            "count": 8654
           }
          ]
         }
        },
        {
         "name": "Average Storage",
         "dtype": "object",
         "stats": {
          "unique_count": 9160,
          "nan_count": 0,
          "categories": [
           {
            "name": "---",
            "count": 159
           },
           {
            "name": "8,066",
            "count": 8
           },
           {
            "name": "9158 others",
            "count": 9547
           }
          ]
         }
        },
        {
         "name": "% of Average",
         "dtype": "object",
         "stats": {
          "unique_count": 198,
          "nan_count": 0,
          "categories": [
           {
            "name": "---",
            "count": 996
           },
           {
            "name": "101",
            "count": 310
           },
           {
            "name": "196 others",
            "count": 8408
           }
          ]
         }
        },
        {
         "name": "Outflow(CFS)",
         "dtype": "object",
         "stats": {
          "unique_count": 2512,
          "nan_count": 0,
          "categories": [
           {
            "name": "---",
            "count": 4014
           },
           {
            "name": "0",
            "count": 232
           },
           {
            "name": "2510 others",
            "count": 5468
           }
          ]
         }
        },
        {
         "name": "Inflow(CFS)",
         "dtype": "object"
        },
        {
         "name": "Storage-Year Ago This Date",
         "dtype": "object"
        },
        {
         "name": "date",
         "dtype": "datetime64[ns]"
        },
        {
         "name": "YEAR",
         "dtype": "int64"
        },
        {
         "name": "MONTH",
         "dtype": "int64"
        },
        {
         "name": "_deepnote_index_column",
         "dtype": "int64"
        }
       ],
       "rows": [
        {
         "Reservoir Name": "TRINITY LAKE",
         "STATION_ID": "CLE",
         "Capacity(AF)": "2,447,650",
         "Elevation(FT)": "2,333.38",
         "Storage(AF)": "1,892,349",
         "Storage Change": "23,907",
         "PCT_OF_CAPACITY": "77",
         "Average Storage": "1,948,622",
         "% of Average": "97",
         "Outflow(CFS)": "415",
         "Inflow(CFS)": "12,468",
         "Storage-Year Ago This Date": "2,245,651",
         "date": "2018-04-08T00:00:00.000000",
         "YEAR": 2018,
         "MONTH": 4,
         "_deepnote_index_column": 0
        },
        {
         "Reservoir Name": "WHISKEYTOWN",
         "STATION_ID": "WHI",
         "Capacity(AF)": "241,100",
         "Elevation(FT)": "1,199.29",
         "Storage(AF)": "208,016",
         "Storage Change": "1,745",
         "PCT_OF_CAPACITY": "86",
         "Average Storage": "217,023",
         "% of Average": "96",
         "Outflow(CFS)": "714",
         "Inflow(CFS)": "1,594",
         "Storage-Year Ago This Date": "216,744",
         "date": "2018-04-08T00:00:00.000000",
         "YEAR": 2018,
         "MONTH": 4,
         "_deepnote_index_column": 1
        },
        {
         "Reservoir Name": "LEWISTON",
         "STATION_ID": "LEW",
         "Capacity(AF)": "14,660",
         "Elevation(FT)": "1,901.24",
         "Storage(AF)": "14,091",
         "Storage Change": "-351",
         "PCT_OF_CAPACITY": "96",
         "Average Storage": "13,745",
         "% of Average": "103",
         "Outflow(CFS)": "752",
         "Inflow(CFS)": "575",
         "Storage-Year Ago This Date": "13,852",
         "date": "2018-04-08T00:00:00.000000",
         "YEAR": 2018,
         "MONTH": 4,
         "_deepnote_index_column": 2
        },
        {
         "Reservoir Name": "SONOMA(WARM SPRINGS)",
         "STATION_ID": "WRS",
         "Capacity(AF)": "381,000",
         "Elevation(FT)": "443.48",
         "Storage(AF)": "225,587",
         "Storage Change": "2,536",
         "PCT_OF_CAPACITY": "59",
         "Average Storage": "233,717",
         "% of Average": "97",
         "Outflow(CFS)": "78",
         "Inflow(CFS)": "1,362",
         "Storage-Year Ago This Date": "249,554",
         "date": "2018-04-08T00:00:00.000000",
         "YEAR": 2018,
         "MONTH": 4,
         "_deepnote_index_column": 3
        },
        {
         "Reservoir Name": "MENDOCINO (COYOTE)",
         "STATION_ID": "COY",
         "Capacity(AF)": "122,400",
         "Elevation(FT)": "744.63",
         "Storage(AF)": "80,519",
         "Storage Change": "4,003",
         "PCT_OF_CAPACITY": "66",
         "Average Storage": "79,957",
         "% of Average": "101",
         "Outflow(CFS)": "32",
         "Inflow(CFS)": "2,056",
         "Storage-Year Ago This Date": "86,702",
         "date": "2018-04-08T00:00:00.000000",
         "YEAR": 2018,
         "MONTH": 4,
         "_deepnote_index_column": 4
        },
        {
         "Reservoir Name": "SHASTA",
         "STATION_ID": "SHA",
         "Capacity(AF)": "4,552,000",
         "Elevation(FT)": "1,047.11",
         "Storage(AF)": "3,983,605",
         "Storage Change": "33,783",
         "PCT_OF_CAPACITY": "88",
         "Average Storage": "3,745,095",
         "% of Average": "106",
         "Outflow(CFS)": "1,892",
         "Inflow(CFS)": "18,932",
         "Storage-Year Ago This Date": "4,175,527",
         "date": "2018-04-08T00:00:00.000000",
         "YEAR": 2018,
         "MONTH": 4,
         "_deepnote_index_column": 5
        },
        {
         "Reservoir Name": "KESWICK",
         "STATION_ID": "KES",
         "Capacity(AF)": "23,772",
         "Elevation(FT)": "584.68",
         "Storage(AF)": "22,310",
         "Storage Change": "81",
         "PCT_OF_CAPACITY": "94",
         "Average Storage": "21,752",
         "% of Average": "103",
         "Outflow(CFS)": "3,045",
         "Inflow(CFS)": "3,086",
         "Storage-Year Ago This Date": "21,635",
         "date": "2018-04-08T00:00:00.000000",
         "YEAR": 2018,
         "MONTH": 4,
         "_deepnote_index_column": 6
        },
        {
         "Reservoir Name": "OROVILLE",
         "STATION_ID": "ORO",
         "Capacity(AF)": "3,537,577",
         "Elevation(FT)": "798.51",
         "Storage(AF)": "2,174,981",
         "Storage Change": "54,162",
         "PCT_OF_CAPACITY": "61",
         "Average Storage": "2,737,891",
         "% of Average": "79",
         "Outflow(CFS)": "12,586",
         "Inflow(CFS)": "39,840",
         "Storage-Year Ago This Date": "2,807,411",
         "date": "2018-04-08T00:00:00.000000",
         "YEAR": 2018,
         "MONTH": 4,
         "_deepnote_index_column": 7
        },
        {
         "Reservoir Name": "ANTELOPE",
         "STATION_ID": "ANT",
         "Capacity(AF)": "22,566",
         "Elevation(FT)": "5,003.31",
         "Storage(AF)": "23,799",
         "Storage Change": "599",
         "PCT_OF_CAPACITY": "105",
         "Average Storage": "20,295",
         "% of Average": "117",
         "Outflow(CFS)": "---",
         "Inflow(CFS)": "---",
         "Storage-Year Ago This Date": "24,572",
         "date": "2018-04-08T00:00:00.000000",
         "YEAR": 2018,
         "MONTH": 4,
         "_deepnote_index_column": 8
        },
        {
         "Reservoir Name": "FRENCHMAN",
         "STATION_ID": "FRD",
         "Capacity(AF)": "55,477",
         "Elevation(FT)": "5,586.03",
         "Storage(AF)": "52,418",
         "Storage Change": "682",
         "PCT_OF_CAPACITY": "94",
         "Average Storage": "40,995",
         "% of Average": "128",
         "Outflow(CFS)": "---",
         "Inflow(CFS)": "---",
         "Storage-Year Ago This Date": "58,073",
         "date": "2018-04-08T00:00:00.000000",
         "YEAR": 2018,
         "MONTH": 4,
         "_deepnote_index_column": 9
        }
       ]
      },
      "text/plain": "          Reservoir Name STATION_ID Capacity(AF) Elevation(FT) Storage(AF)  \\\n0           TRINITY LAKE        CLE    2,447,650      2,333.38   1,892,349   \n1            WHISKEYTOWN        WHI      241,100      1,199.29     208,016   \n2               LEWISTON        LEW       14,660      1,901.24      14,091   \n3   SONOMA(WARM SPRINGS)        WRS      381,000        443.48     225,587   \n4     MENDOCINO (COYOTE)        COY      122,400        744.63      80,519   \n..                   ...        ...          ...           ...         ...   \n43           DONNER LAKE        DNN        9,700      5,928.29       3,336   \n44          CACHUMA LAKE        CCH      193,305        710.87      90,807   \n45               PYRAMID        PYM      180,000      2,571.92     162,170   \n46               CASTAIC        CAS      325,000      1,444.70     187,522   \n47           LAKE PERRIS        PRR      131,452      1,578.08     104,876   \n\n   Storage Change PCT_OF_CAPACITY Average Storage % of Average Outflow(CFS)  \\\n0          23,907              77       1,948,622           97          415   \n1           1,745              86         217,023           96          714   \n2            -351              96          13,745          103          752   \n3           2,536              59         233,717           97           78   \n4           4,003              66          79,957          101           32   \n..            ...             ...             ...          ...          ...   \n43            -16              34           4,119           81          ---   \n44            -56              47         143,366           63           45   \n45          1,037              90         164,362           99          ---   \n46           -530              58         267,588           70          ---   \n47             85              80          95,433          110          ---   \n\n   Inflow(CFS) Storage-Year Ago This Date       date  YEAR  MONTH  \n0       12,468                  2,245,651 2018-04-08  2018      4  \n1        1,594                    216,744 2018-04-08  2018      4  \n2          575                     13,852 2018-04-08  2018      4  \n3        1,362                    249,554 2018-04-08  2018      4  \n4        2,056                     86,702 2018-04-08  2018      4  \n..         ...                        ...        ...   ...    ...  \n43         ---                      3,134 2022-03-13  2022      3  \n44          22                    121,510 2022-03-13  2022      3  \n45         ---                    154,127 2022-03-13  2022      3  \n46         ---                    254,932 2022-03-13  2022      3  \n47         ---                    119,273 2022-03-13  2022      3  \n\n[9714 rows x 15 columns]",
      "text/html": "<div>\n<style scoped>\n    .dataframe tbody tr th:only-of-type {\n        vertical-align: middle;\n    }\n\n    .dataframe tbody tr th {\n        vertical-align: top;\n    }\n\n    .dataframe thead th {\n        text-align: right;\n    }\n</style>\n<table border=\"1\" class=\"dataframe\">\n  <thead>\n    <tr style=\"text-align: right;\">\n      <th></th>\n      <th>Reservoir Name</th>\n      <th>STATION_ID</th>\n      <th>Capacity(AF)</th>\n      <th>Elevation(FT)</th>\n      <th>Storage(AF)</th>\n      <th>Storage Change</th>\n      <th>PCT_OF_CAPACITY</th>\n      <th>Average Storage</th>\n      <th>% of Average</th>\n      <th>Outflow(CFS)</th>\n      <th>Inflow(CFS)</th>\n      <th>Storage-Year Ago This Date</th>\n      <th>date</th>\n      <th>YEAR</th>\n      <th>MONTH</th>\n    </tr>\n  </thead>\n  <tbody>\n    <tr>\n      <th>0</th>\n      <td>TRINITY LAKE</td>\n      <td>CLE</td>\n      <td>2,447,650</td>\n      <td>2,333.38</td>\n      <td>1,892,349</td>\n      <td>23,907</td>\n      <td>77</td>\n      <td>1,948,622</td>\n      <td>97</td>\n      <td>415</td>\n      <td>12,468</td>\n      <td>2,245,651</td>\n      <td>2018-04-08</td>\n      <td>2018</td>\n      <td>4</td>\n    </tr>\n    <tr>\n      <th>1</th>\n      <td>WHISKEYTOWN</td>\n      <td>WHI</td>\n      <td>241,100</td>\n      <td>1,199.29</td>\n      <td>208,016</td>\n      <td>1,745</td>\n      <td>86</td>\n      <td>217,023</td>\n      <td>96</td>\n      <td>714</td>\n      <td>1,594</td>\n      <td>216,744</td>\n      <td>2018-04-08</td>\n      <td>2018</td>\n      <td>4</td>\n    </tr>\n    <tr>\n      <th>2</th>\n      <td>LEWISTON</td>\n      <td>LEW</td>\n      <td>14,660</td>\n      <td>1,901.24</td>\n      <td>14,091</td>\n      <td>-351</td>\n      <td>96</td>\n      <td>13,745</td>\n      <td>103</td>\n      <td>752</td>\n      <td>575</td>\n      <td>13,852</td>\n      <td>2018-04-08</td>\n      <td>2018</td>\n      <td>4</td>\n    </tr>\n    <tr>\n      <th>3</th>\n      <td>SONOMA(WARM SPRINGS)</td>\n      <td>WRS</td>\n      <td>381,000</td>\n      <td>443.48</td>\n      <td>225,587</td>\n      <td>2,536</td>\n      <td>59</td>\n      <td>233,717</td>\n      <td>97</td>\n      <td>78</td>\n      <td>1,362</td>\n      <td>249,554</td>\n      <td>2018-04-08</td>\n      <td>2018</td>\n      <td>4</td>\n    </tr>\n    <tr>\n      <th>4</th>\n      <td>MENDOCINO (COYOTE)</td>\n      <td>COY</td>\n      <td>122,400</td>\n      <td>744.63</td>\n      <td>80,519</td>\n      <td>4,003</td>\n      <td>66</td>\n      <td>79,957</td>\n      <td>101</td>\n      <td>32</td>\n      <td>2,056</td>\n      <td>86,702</td>\n      <td>2018-04-08</td>\n      <td>2018</td>\n      <td>4</td>\n    </tr>\n    <tr>\n      <th>...</th>\n      <td>...</td>\n      <td>...</td>\n      <td>...</td>\n      <td>...</td>\n      <td>...</td>\n      <td>...</td>\n      <td>...</td>\n      <td>...</td>\n      <td>...</td>\n      <td>...</td>\n      <td>...</td>\n      <td>...</td>\n      <td>...</td>\n      <td>...</td>\n      <td>...</td>\n    </tr>\n    <tr>\n      <th>43</th>\n      <td>DONNER LAKE</td>\n      <td>DNN</td>\n      <td>9,700</td>\n      <td>5,928.29</td>\n      <td>3,336</td>\n      <td>-16</td>\n      <td>34</td>\n      <td>4,119</td>\n      <td>81</td>\n      <td>---</td>\n      <td>---</td>\n      <td>3,134</td>\n      <td>2022-03-13</td>\n      <td>2022</td>\n      <td>3</td>\n    </tr>\n    <tr>\n      <th>44</th>\n      <td>CACHUMA LAKE</td>\n      <td>CCH</td>\n      <td>193,305</td>\n      <td>710.87</td>\n      <td>90,807</td>\n      <td>-56</td>\n      <td>47</td>\n      <td>143,366</td>\n      <td>63</td>\n      <td>45</td>\n      <td>22</td>\n      <td>121,510</td>\n      <td>2022-03-13</td>\n      <td>2022</td>\n      <td>3</td>\n    </tr>\n    <tr>\n      <th>45</th>\n      <td>PYRAMID</td>\n      <td>PYM</td>\n      <td>180,000</td>\n      <td>2,571.92</td>\n      <td>162,170</td>\n      <td>1,037</td>\n      <td>90</td>\n      <td>164,362</td>\n      <td>99</td>\n      <td>---</td>\n      <td>---</td>\n      <td>154,127</td>\n      <td>2022-03-13</td>\n      <td>2022</td>\n      <td>3</td>\n    </tr>\n    <tr>\n      <th>46</th>\n      <td>CASTAIC</td>\n      <td>CAS</td>\n      <td>325,000</td>\n      <td>1,444.70</td>\n      <td>187,522</td>\n      <td>-530</td>\n      <td>58</td>\n      <td>267,588</td>\n      <td>70</td>\n      <td>---</td>\n      <td>---</td>\n      <td>254,932</td>\n      <td>2022-03-13</td>\n      <td>2022</td>\n      <td>3</td>\n    </tr>\n    <tr>\n      <th>47</th>\n      <td>LAKE PERRIS</td>\n      <td>PRR</td>\n      <td>131,452</td>\n      <td>1,578.08</td>\n      <td>104,876</td>\n      <td>85</td>\n      <td>80</td>\n      <td>95,433</td>\n      <td>110</td>\n      <td>---</td>\n      <td>---</td>\n      <td>119,273</td>\n      <td>2022-03-13</td>\n      <td>2022</td>\n      <td>3</td>\n    </tr>\n  </tbody>\n</table>\n<p>9714 rows × 15 columns</p>\n</div>"
     },
     "metadata": {}
    }
   ]
  },
  {
   "cell_type": "markdown",
   "source": "### Get Daily reporting Reservoir Station locations using webscraping",
   "metadata": {
    "cell_id": "00006-5c1d48ae-8594-4cd3-8d69-c7e2ea00bf66",
    "deepnote_cell_type": "markdown",
    "deepnote_cell_height": 62
   }
  },
  {
   "cell_type": "code",
   "metadata": {
    "cell_id": "00007-c8cdcda5-4d97-4d03-8840-c3e6fcf93401",
    "deepnote_to_be_reexecuted": false,
    "source_hash": "2ba3d21b",
    "execution_start": 1647458764980,
    "execution_millis": 0,
    "deepnote_cell_type": "code",
    "deepnote_cell_height": 603
   },
   "source": "def get_reservoir_station_data():\n    \"\"\"\n        This function retrieves the station location data for reservoirs through webscraping\n    \"\"\"\n    \n    url=f\"https://cdec.water.ca.gov/reportapp/javareports?name=DailyRes\"\n\n    # Make a GET request to fetch the raw HTML content\n    html_content = requests.get(url).text\n\n    # Parse the html content\n    soup = BeautifulSoup(html_content, \"lxml\")\n\n    station_table = soup.find(\"table\", attrs={\"id\":\"DailyRes_LIST\", \"class\": \"data\"})\n\n    all_rows_list = []\n    for eachRow in station_table.find_all(\"tr\"):\n        this_row = []\n        for  td in eachRow.find_all(\"td\"):\n            this_row.append(td.text.strip())\n\n        if this_row and len(this_row) > 1:\n             all_rows_list.append(this_row)\n    station_table = pd.DataFrame(all_rows_list )\n    station_table.columns = station_table.iloc[0,:]\n    station_table =  station_table.iloc[2:,:].copy()\n    station_table.rename(columns={'ID':'STATION_ID'}, inplace=True)\n    station_table.drop(columns=['OPERATOR AGENCY'], inplace = True)\n    return station_table\n",
   "execution_count": null,
   "outputs": []
  },
  {
   "cell_type": "code",
   "metadata": {
    "cell_id": "011928bc-6245-41dd-a881-6985fb266df6",
    "tags": [],
    "deepnote_to_be_reexecuted": false,
    "source_hash": "29eed141",
    "execution_start": 1647460199812,
    "execution_millis": 0,
    "deepnote_cell_type": "code",
    "deepnote_cell_height": 225
   },
   "source": "\ndef save_precipitation_data(reservoir_station_df, granularity):\n    \"\"\"\n        This function saves weekly and yearly level reservoir data in separate CSV files\n    \"\"\"\n    if granularity == 'weekly':\n        reservoir_station_df.to_csv(r\"/work/milestone2_waterwells_deepnote/assets/inputs/reservoir/weekly_reservoir_station_data.csv\", index=False)\n    else:\n        reservoir_station_df.to_csv(r\"/work/milestone2_waterwells_deepnote/assets/inputs/reservoir/reservoir_station_data.csv\", index=False)",
   "execution_count": null,
   "outputs": []
  },
  {
   "cell_type": "code",
   "metadata": {
    "cell_id": "00008-13fc6f27-7e7b-4ed0-aea2-6bf1b4082e35",
    "deepnote_to_be_reexecuted": false,
    "source_hash": "db86e496",
    "execution_start": 1647459719570,
    "execution_millis": 3,
    "deepnote_cell_type": "code",
    "deepnote_cell_height": 513
   },
   "source": "def retrieve_merge_precipitation_stations():\n    \"\"\"\n        This function calls web scraping functions for weekly reservoir data and the stattion and merges the two\n        It saves off the weekly data in a file\n        It then merges the two dataframe to link stations to their locations\n        It averages the reservoir percent of capacity storage to the yearly level\n        It stores the file \n    \"\"\"\n    all_years_reservoir_data = scrape_weekly_reservoir_data() #Note this take about 10 mins to run\n\n    #Save off the weekly data as a check\n    save_precipitation_data(all_years_reservoir_data, 'weekly')\n    \n    station_table = get_reservoir_station_data()\n\n    reservoir_station_df = all_years_reservoir_data.merge(station_table, how='inner', on='STATION_ID')\n    reservoir_station_df['PCT_OF_CAPACITY'] = pd.to_numeric(reservoir_station_df['PCT_OF_CAPACITY'], errors='coerce')\n  \n    reservoir_station_df = reservoir_station_df.groupby(['STATION_ID', 'YEAR', 'LATITUDE' , 'LONGITUDE', 'COUNTY']).agg(PCT_OF_CAPACITY=('PCT_OF_CAPACITY', 'mean')).reset_index()\n    \n    reservoir_station_df = reservoir_station_df[['STATION_ID','PCT_OF_CAPACITY', 'YEAR', 'LATITUDE' , 'LONGITUDE', 'COUNTY'] ].copy()\n    save_precipitation_data(reservoir_station_df, 'yearly')\n    return reservoir_station_df\n\n  ",
   "execution_count": null,
   "outputs": []
  },
  {
   "cell_type": "code",
   "metadata": {
    "cell_id": "00009-83ffa385-8638-4093-83d9-00f5f0e6b469",
    "deepnote_to_be_reexecuted": false,
    "source_hash": "20420893",
    "execution_start": 1647459578968,
    "execution_millis": 5,
    "deepnote_cell_type": "code",
    "deepnote_cell_height": 99
   },
   "source": "#list(set(all_years_reservoir_data.station_id) - (set(station_table.station_id)))\n# We have info for all the stations",
   "execution_count": null,
   "outputs": []
  },
  {
   "cell_type": "code",
   "metadata": {
    "cell_id": "00011-26a8336e-69f2-4f68-b489-004862b8cd8b",
    "deepnote_cell_type": "code",
    "deepnote_cell_height": 158
   },
   "source": "reservoir_station_df.sample(1)",
   "execution_count": null,
   "outputs": [
    {
     "data": {
      "text/html": "<div>\n<style scoped>\n    .dataframe tbody tr th:only-of-type {\n        vertical-align: middle;\n    }\n\n    .dataframe tbody tr th {\n        vertical-align: top;\n    }\n\n    .dataframe thead th {\n        text-align: right;\n    }\n</style>\n<table border=\"1\" class=\"dataframe\">\n  <thead>\n    <tr style=\"text-align: right;\">\n      <th></th>\n      <th>station_id</th>\n      <th>pct_of_capacity</th>\n      <th>date</th>\n      <th>year</th>\n      <th>month</th>\n      <th>LATITUDE</th>\n      <th>LONGITUDE</th>\n      <th>COUNTY</th>\n    </tr>\n  </thead>\n  <tbody>\n    <tr>\n      <th>2661</th>\n      <td>ENG</td>\n      <td>98.0</td>\n      <td>2021-08-13</td>\n      <td>2021</td>\n      <td>8</td>\n      <td>39.238998</td>\n      <td>-121.266998</td>\n      <td>NEVADA</td>\n    </tr>\n  </tbody>\n</table>\n</div>",
      "text/plain": "     station_id  pct_of_capacity       date  year  month   LATITUDE  \\\n2661        ENG             98.0 2021-08-13  2021      8  39.238998   \n\n        LONGITUDE  COUNTY  \n2661  -121.266998  NEVADA  "
     },
     "execution_count": 88,
     "metadata": {},
     "output_type": "execute_result"
    }
   ]
  },
  {
   "cell_type": "code",
   "metadata": {
    "cell_id": "00013-f114e92b-7427-49fa-969f-39f33ee0be13",
    "deepnote_to_be_reexecuted": false,
    "source_hash": "130695ed",
    "execution_start": 1647459807235,
    "execution_millis": 1,
    "deepnote_cell_type": "code",
    "deepnote_cell_height": 99
   },
   "source": "reservoir_station_df = pd.read_csv(r\"/work/milestone2_waterwells_deepnote/assets/inputs/reservoir/reservoir_station_data.csv\")\n",
   "execution_count": null,
   "outputs": []
  },
  {
   "cell_type": "code",
   "metadata": {
    "cell_id": "00014-e7a8f947-74e7-49e4-af66-40d385b90ebb",
    "deepnote_to_be_reexecuted": false,
    "source_hash": "8c1c2380",
    "execution_start": 1647459807872,
    "execution_millis": 9,
    "deepnote_cell_type": "code",
    "deepnote_cell_height": 244.265625
   },
   "source": "reservoir_station_df.sample()",
   "execution_count": null,
   "outputs": [
    {
     "output_type": "execute_result",
     "execution_count": 47,
     "data": {
      "application/vnd.deepnote.dataframe.v3+json": {
       "column_count": 6,
       "row_count": 1,
       "columns": [
        {
         "name": "STATION_ID",
         "dtype": "object",
         "stats": {
          "unique_count": 1,
          "nan_count": 0,
          "categories": [
           {
            "name": "DNN",
            "count": 1
           }
          ]
         }
        },
        {
         "name": "PCT_OF_CAPACITY",
         "dtype": "float64",
         "stats": {
          "unique_count": 1,
          "nan_count": 0,
          "min": "56.86538461538461",
          "max": "56.86538461538461",
          "histogram": [
           {
            "bin_start": 56.36538461538461,
            "bin_end": 56.465384615384615,
            "count": 0
           },
           {
            "bin_start": 56.465384615384615,
            "bin_end": 56.565384615384616,
            "count": 0
           },
           {
            "bin_start": 56.565384615384616,
            "bin_end": 56.66538461538461,
            "count": 0
           },
           {
            "bin_start": 56.66538461538461,
            "bin_end": 56.76538461538461,
            "count": 0
           },
           {
            "bin_start": 56.76538461538461,
            "bin_end": 56.86538461538461,
            "count": 0
           },
           {
            "bin_start": 56.86538461538461,
            "bin_end": 56.965384615384615,
            "count": 1
           },
           {
            "bin_start": 56.965384615384615,
            "bin_end": 57.065384615384616,
            "count": 0
           },
           {
            "bin_start": 57.065384615384616,
            "bin_end": 57.16538461538461,
            "count": 0
           },
           {
            "bin_start": 57.16538461538461,
            "bin_end": 57.26538461538461,
            "count": 0
           },
           {
            "bin_start": 57.26538461538461,
            "bin_end": 57.36538461538461,
            "count": 0
           }
          ]
         }
        },
        {
         "name": "YEAR",
         "dtype": "int64",
         "stats": {
          "unique_count": 1,
          "nan_count": 0,
          "min": "2019",
          "max": "2019",
          "histogram": [
           {
            "bin_start": 2018.5,
            "bin_end": 2018.6,
            "count": 0
           },
           {
            "bin_start": 2018.6,
            "bin_end": 2018.7,
            "count": 0
           },
           {
            "bin_start": 2018.7,
            "bin_end": 2018.8,
            "count": 0
           },
           {
            "bin_start": 2018.8,
            "bin_end": 2018.9,
            "count": 0
           },
           {
            "bin_start": 2018.9,
            "bin_end": 2019,
            "count": 0
           },
           {
            "bin_start": 2019,
            "bin_end": 2019.1,
            "count": 1
           },
           {
            "bin_start": 2019.1,
            "bin_end": 2019.2,
            "count": 0
           },
           {
            "bin_start": 2019.2,
            "bin_end": 2019.3,
            "count": 0
           },
           {
            "bin_start": 2019.3,
            "bin_end": 2019.4,
            "count": 0
           },
           {
            "bin_start": 2019.4,
            "bin_end": 2019.5,
            "count": 0
           }
          ]
         }
        },
        {
         "name": "LATITUDE",
         "dtype": "float64",
         "stats": {
          "unique_count": 1,
          "nan_count": 0,
          "min": "39.322777",
          "max": "39.322777",
          "histogram": [
           {
            "bin_start": 38.822777,
            "bin_end": 38.922777,
            "count": 0
           },
           {
            "bin_start": 38.922777,
            "bin_end": 39.022777000000005,
            "count": 0
           },
           {
            "bin_start": 39.022777000000005,
            "bin_end": 39.122777,
            "count": 0
           },
           {
            "bin_start": 39.122777,
            "bin_end": 39.222777,
            "count": 0
           },
           {
            "bin_start": 39.222777,
            "bin_end": 39.322777,
            "count": 0
           },
           {
            "bin_start": 39.322777,
            "bin_end": 39.422777,
            "count": 1
           },
           {
            "bin_start": 39.422777,
            "bin_end": 39.522777000000005,
            "count": 0
           },
           {
            "bin_start": 39.522777000000005,
            "bin_end": 39.622777,
            "count": 0
           },
           {
            "bin_start": 39.622777,
            "bin_end": 39.722777,
            "count": 0
           },
           {
            "bin_start": 39.722777,
            "bin_end": 39.822777,
            "count": 0
           }
          ]
         }
        },
        {
         "name": "LONGITUDE",
         "dtype": "float64",
         "stats": {
          "unique_count": 1,
          "nan_count": 0,
          "min": "-120.264397",
          "max": "-120.264397",
          "histogram": [
           {
            "bin_start": -120.764397,
            "bin_end": -120.66439700000001,
            "count": 0
           },
           {
            "bin_start": -120.66439700000001,
            "bin_end": -120.564397,
            "count": 0
           },
           {
            "bin_start": -120.564397,
            "bin_end": -120.464397,
            "count": 0
           },
           {
            "bin_start": -120.464397,
            "bin_end": -120.364397,
            "count": 0
           },
           {
            "bin_start": -120.364397,
            "bin_end": -120.264397,
            "count": 0
           },
           {
            "bin_start": -120.264397,
            "bin_end": -120.16439700000001,
            "count": 1
           },
           {
            "bin_start": -120.16439700000001,
            "bin_end": -120.064397,
            "count": 0
           },
           {
            "bin_start": -120.064397,
            "bin_end": -119.964397,
            "count": 0
           },
           {
            "bin_start": -119.964397,
            "bin_end": -119.864397,
            "count": 0
           },
           {
            "bin_start": -119.864397,
            "bin_end": -119.764397,
            "count": 0
           }
          ]
         }
        },
        {
         "name": "COUNTY",
         "dtype": "object",
         "stats": {
          "unique_count": 1,
          "nan_count": 0,
          "categories": [
           {
            "name": "NEVADA",
            "count": 1
           }
          ]
         }
        },
        {
         "name": "_deepnote_index_column",
         "dtype": "int64"
        }
       ],
       "rows": [
        {
         "STATION_ID": "DNN",
         "PCT_OF_CAPACITY": 56.86538461538461,
         "YEAR": 2019,
         "LATITUDE": 39.322777,
         "LONGITUDE": -120.264397,
         "COUNTY": "NEVADA",
         "_deepnote_index_column": 66
        }
       ]
      },
      "text/plain": "   STATION_ID  PCT_OF_CAPACITY  YEAR   LATITUDE   LONGITUDE  COUNTY\n66        DNN        56.865385  2019  39.322777 -120.264397  NEVADA",
      "text/html": "<div>\n<style scoped>\n    .dataframe tbody tr th:only-of-type {\n        vertical-align: middle;\n    }\n\n    .dataframe tbody tr th {\n        vertical-align: top;\n    }\n\n    .dataframe thead th {\n        text-align: right;\n    }\n</style>\n<table border=\"1\" class=\"dataframe\">\n  <thead>\n    <tr style=\"text-align: right;\">\n      <th></th>\n      <th>STATION_ID</th>\n      <th>PCT_OF_CAPACITY</th>\n      <th>YEAR</th>\n      <th>LATITUDE</th>\n      <th>LONGITUDE</th>\n      <th>COUNTY</th>\n    </tr>\n  </thead>\n  <tbody>\n    <tr>\n      <th>66</th>\n      <td>DNN</td>\n      <td>56.865385</td>\n      <td>2019</td>\n      <td>39.322777</td>\n      <td>-120.264397</td>\n      <td>NEVADA</td>\n    </tr>\n  </tbody>\n</table>\n</div>"
     },
     "metadata": {}
    }
   ]
  },
  {
   "cell_type": "markdown",
   "source": "## Drought data retrieval through download\n\n[Source for monthly drought area and severity since 1895][https://www.drought.gov/states/california]\n\n\n### [Drought years](https://water.ca.gov/water-basics/drought) :\n\n2019-2021\n\n2018\n\n2012-2016 \n\n2007-09\n\n1987-92\n\n1976-77\n\n\nA [drought](https://droughtmonitor.unl.edu/About/AbouttheData/DroughtClassification.aspx)  is a period of unusually persistant dry weather that persists long enough to cause serious problems such as crop damage and/or water supply shortages. The severity of the drought depends upon the degree of moisture deficiency, the duration, and the size of the affected area.\n\nD2 Severe Drought\n\n- Crop or pasture losses likely\n- Water shortages common\n- Water restrictions imposed\n\nD3 Extreme Drought\n\n- Major crop/pasture losses\n- Widespread water shortages or restrictions\n\nD4 Exceptional Drought\n\n- Exceptional and widespread crop/pasture losses\n- Shortages of water in reservoirs, streams, and wells creating water emergencies\n\n\nLong-term effects\nExcessive ground water pumping and aquifer depletion will lead to land sinking and permanent loss of groundwater storage. Decreasing groundwater levels lead to exposing of underground water storage areas, this will cause lack of soil structure strength and possible sinking if the land above is heavy enough.\n",
   "metadata": {
    "cell_id": "00015-6a4c0fd7-716c-4c65-bbf1-349ec0c90b89",
    "deepnote_cell_type": "markdown",
    "deepnote_cell_height": 857.140625
   }
  },
  {
   "cell_type": "code",
   "metadata": {
    "cell_id": "00016-cbd349d5-5d3a-4304-bc42-ec73703db8f2",
    "deepnote_to_be_reexecuted": false,
    "source_hash": "27bccfb0",
    "execution_start": 1647460130946,
    "execution_millis": 6,
    "deepnote_cell_type": "code",
    "deepnote_cell_height": 99
   },
   "source": "import os \ndrought_df = pd.read_csv(r\"/work/milestone2_waterwells_deepnote/assets/outputs/california_weekly_drought_index.csv\")",
   "execution_count": null,
   "outputs": []
  },
  {
   "cell_type": "code",
   "metadata": {
    "cell_id": "00017-2acbfaac-9a54-4f93-bd62-8e74af98b01d",
    "deepnote_to_be_reexecuted": false,
    "source_hash": "78c15622",
    "execution_start": 1647460134028,
    "execution_millis": 5,
    "deepnote_cell_type": "code",
    "deepnote_cell_height": 137.375
   },
   "source": "drought_df.DATE.unique()",
   "execution_count": null,
   "outputs": [
    {
     "output_type": "execute_result",
     "execution_count": 50,
     "data": {
      "text/plain": "array(['d_18950101', 'd_18950201', 'd_18950301', ..., 'd_20211101',\n       'd_20211201', 'd_20220101'], dtype=object)"
     },
     "metadata": {}
    }
   ]
  },
  {
   "cell_type": "code",
   "metadata": {
    "cell_id": "00018-bd060655-9a73-483a-a022-b22314417066",
    "deepnote_to_be_reexecuted": false,
    "source_hash": "a2269625",
    "execution_start": 1647460148405,
    "execution_millis": 0,
    "deepnote_cell_type": "code",
    "deepnote_cell_height": 81
   },
   "source": "drought_df.DATE  = pd.to_datetime(drought_df.DATE.str.replace(\"d_\", \"\"))",
   "execution_count": null,
   "outputs": []
  },
  {
   "cell_type": "code",
   "metadata": {
    "cell_id": "00019-986075bd-547e-444e-89a8-c7e3c3a68440",
    "deepnote_to_be_reexecuted": false,
    "source_hash": "d88091a",
    "execution_start": 1647460149134,
    "execution_millis": 137,
    "deepnote_cell_type": "code",
    "deepnote_cell_height": 613.265625
   },
   "source": "drought_df",
   "execution_count": null,
   "outputs": [
    {
     "output_type": "execute_result",
     "execution_count": 52,
     "data": {
      "application/vnd.deepnote.dataframe.v3+json": {
       "column_count": 13,
       "row_count": 1525,
       "columns": [
        {
         "name": "0",
         "dtype": "float64",
         "stats": {
          "unique_count": 667,
          "nan_count": 0,
          "min": "0.0",
          "max": "89.0",
          "histogram": [
           {
            "bin_start": 0,
            "bin_end": 8.9,
            "count": 169
           },
           {
            "bin_start": 8.9,
            "bin_end": 17.8,
            "count": 157
           },
           {
            "bin_start": 17.8,
            "bin_end": 26.700000000000003,
            "count": 212
           },
           {
            "bin_start": 26.700000000000003,
            "bin_end": 35.6,
            "count": 250
           },
           {
            "bin_start": 35.6,
            "bin_end": 44.5,
            "count": 230
           },
           {
            "bin_start": 44.5,
            "bin_end": 53.400000000000006,
            "count": 173
           },
           {
            "bin_start": 53.400000000000006,
            "bin_end": 62.300000000000004,
            "count": 155
           },
           {
            "bin_start": 62.300000000000004,
            "bin_end": 71.2,
            "count": 100
           },
           {
            "bin_start": 71.2,
            "bin_end": 80.10000000000001,
            "count": 58
           },
           {
            "bin_start": 80.10000000000001,
            "bin_end": 89,
            "count": 21
           }
          ]
         }
        },
        {
         "name": "DATE",
         "dtype": "datetime64[ns]",
         "stats": {
          "unique_count": 1525,
          "nan_count": 0,
          "min": "1895-01-01 00:00:00",
          "max": "2022-01-01 00:00:00",
          "histogram": [
           {
            "bin_start": -2366755200000000000,
            "bin_end": -1965980160000000000,
            "count": 153
           },
           {
            "bin_start": -1965980160000000000,
            "bin_end": -1565205120000000000,
            "count": 152
           },
           {
            "bin_start": -1565205120000000000,
            "bin_end": -1164430080000000000,
            "count": 153
           },
           {
            "bin_start": -1164430080000000000,
            "bin_end": -763655040000000000,
            "count": 152
           },
           {
            "bin_start": -763655040000000000,
            "bin_end": -362880000000000000,
            "count": 153
           },
           {
            "bin_start": -362880000000000000,
            "bin_end": 37895040000000000,
            "count": 152
           },
           {
            "bin_start": 37895040000000000,
            "bin_end": 438670080000000000,
            "count": 152
           },
           {
            "bin_start": 438670080000000000,
            "bin_end": 839445120000000000,
            "count": 153
           },
           {
            "bin_start": 839445120000000000,
            "bin_end": 1240220160000000000,
            "count": 152
           },
           {
            "bin_start": 1240220160000000000,
            "bin_end": 1640995200000000000,
            "count": 153
           }
          ]
         }
        },
        {
         "name": "D0",
         "dtype": "float64",
         "stats": {
          "unique_count": 682,
          "nan_count": 0,
          "min": "0.0",
          "max": "100.0",
          "histogram": [
           {
            "bin_start": 0,
            "bin_end": 10,
            "count": 500
           },
           {
            "bin_start": 10,
            "bin_end": 20,
            "count": 160
           },
           {
            "bin_start": 20,
            "bin_end": 30,
            "count": 139
           },
           {
            "bin_start": 30,
            "bin_end": 40,
            "count": 144
           },
           {
            "bin_start": 40,
            "bin_end": 50,
            "count": 121
           },
           {
            "bin_start": 50,
            "bin_end": 60,
            "count": 120
           },
           {
            "bin_start": 60,
            "bin_end": 70,
            "count": 102
           },
           {
            "bin_start": 70,
            "bin_end": 80,
            "count": 105
           },
           {
            "bin_start": 80,
            "bin_end": 90,
            "count": 71
           },
           {
            "bin_start": 90,
            "bin_end": 100,
            "count": 63
           }
          ]
         }
        },
        {
         "name": "D1",
         "dtype": "float64",
         "stats": {
          "unique_count": 590,
          "nan_count": 0,
          "min": "0.0",
          "max": "99.5",
          "histogram": [
           {
            "bin_start": 0,
            "bin_end": 9.95,
            "count": 686
           },
           {
            "bin_start": 9.95,
            "bin_end": 19.9,
            "count": 196
           },
           {
            "bin_start": 19.9,
            "bin_end": 29.849999999999998,
            "count": 157
           },
           {
            "bin_start": 29.849999999999998,
            "bin_end": 39.8,
            "count": 118
           },
           {
            "bin_start": 39.8,
            "bin_end": 49.75,
            "count": 108
           },
           {
            "bin_start": 49.75,
            "bin_end": 59.699999999999996,
            "count": 85
           },
           {
            "bin_start": 59.699999999999996,
            "bin_end": 69.64999999999999,
            "count": 64
           },
           {
            "bin_start": 69.64999999999999,
            "bin_end": 79.6,
            "count": 53
           },
           {
            "bin_start": 79.6,
            "bin_end": 89.55,
            "count": 35
           },
           {
            "bin_start": 89.55,
            "bin_end": 99.5,
            "count": 23
           }
          ]
         }
        },
        {
         "name": "D2",
         "dtype": "float64",
         "stats": {
          "unique_count": 390,
          "nan_count": 0,
          "min": "0.0",
          "max": "91.0",
          "histogram": [
           {
            "bin_start": 0,
            "bin_end": 9.1,
            "count": 1043
           },
           {
            "bin_start": 9.1,
            "bin_end": 18.2,
            "count": 174
           },
           {
            "bin_start": 18.2,
            "bin_end": 27.299999999999997,
            "count": 108
           },
           {
            "bin_start": 27.299999999999997,
            "bin_end": 36.4,
            "count": 52
           },
           {
            "bin_start": 36.4,
            "bin_end": 45.5,
            "count": 60
           },
           {
            "bin_start": 45.5,
            "bin_end": 54.599999999999994,
            "count": 31
           },
           {
            "bin_start": 54.599999999999994,
            "bin_end": 63.699999999999996,
            "count": 22
           },
           {
            "bin_start": 63.699999999999996,
            "bin_end": 72.8,
            "count": 19
           },
           {
            "bin_start": 72.8,
            "bin_end": 81.89999999999999,
            "count": 12
           },
           {
            "bin_start": 81.89999999999999,
            "bin_end": 91,
            "count": 4
           }
          ]
         }
        },
        {
         "name": "D3",
         "dtype": "float64",
         "stats": {
          "unique_count": 284,
          "nan_count": 0,
          "min": "0.0",
          "max": "77.7",
          "histogram": [
           {
            "bin_start": 0,
            "bin_end": 7.7700000000000005,
            "count": 1210
           },
           {
            "bin_start": 7.7700000000000005,
            "bin_end": 15.540000000000001,
            "count": 132
           },
           {
            "bin_start": 15.540000000000001,
            "bin_end": 23.310000000000002,
            "count": 64
           },
           {
            "bin_start": 23.310000000000002,
            "bin_end": 31.080000000000002,
            "count": 30
           },
           {
            "bin_start": 31.080000000000002,
            "bin_end": 38.85,
            "count": 31
           },
           {
            "bin_start": 38.85,
            "bin_end": 46.620000000000005,
            "count": 22
           },
           {
            "bin_start": 46.620000000000005,
            "bin_end": 54.39,
            "count": 13
           },
           {
            "bin_start": 54.39,
            "bin_end": 62.160000000000004,
            "count": 14
           },
           {
            "bin_start": 62.160000000000004,
            "bin_end": 69.93,
            "count": 6
           },
           {
            "bin_start": 69.93,
            "bin_end": 77.7,
            "count": 3
           }
          ]
         }
        },
        {
         "name": "D4",
         "dtype": "float64",
         "stats": {
          "unique_count": 177,
          "nan_count": 0,
          "min": "0.0",
          "max": "65.7",
          "histogram": [
           {
            "bin_start": 0,
            "bin_end": 6.57,
            "count": 1376
           },
           {
            "bin_start": 6.57,
            "bin_end": 13.14,
            "count": 55
           },
           {
            "bin_start": 13.14,
            "bin_end": 19.71,
            "count": 29
           },
           {
            "bin_start": 19.71,
            "bin_end": 26.28,
            "count": 22
           },
           {
            "bin_start": 26.28,
            "bin_end": 32.85,
            "count": 14
           },
           {
            "bin_start": 32.85,
            "bin_end": 39.42,
            "count": 14
           },
           {
            "bin_start": 39.42,
            "bin_end": 45.99,
            "count": 7
           },
           {
            "bin_start": 45.99,
            "bin_end": 52.56,
            "count": 7
           },
           {
            "bin_start": 52.56,
            "bin_end": 59.13,
            "count": 0
           },
           {
            "bin_start": 59.13,
            "bin_end": 65.7,
            "count": 1
           }
          ]
         }
        },
        {
         "name": "-9",
         "dtype": "float64",
         "stats": {
          "unique_count": 3,
          "nan_count": 0,
          "min": "0.0",
          "max": "100.0",
          "histogram": [
           {
            "bin_start": 0,
            "bin_end": 10,
            "count": 1517
           },
           {
            "bin_start": 10,
            "bin_end": 20,
            "count": 0
           },
           {
            "bin_start": 20,
            "bin_end": 30,
            "count": 0
           },
           {
            "bin_start": 30,
            "bin_end": 40,
            "count": 0
           },
           {
            "bin_start": 40,
            "bin_end": 50,
            "count": 0
           },
           {
            "bin_start": 50,
            "bin_end": 60,
            "count": 0
           },
           {
            "bin_start": 60,
            "bin_end": 70,
            "count": 0
           },
           {
            "bin_start": 70,
            "bin_end": 80,
            "count": 0
           },
           {
            "bin_start": 80,
            "bin_end": 90,
            "count": 0
           },
           {
            "bin_start": 90,
            "bin_end": 100,
            "count": 8
           }
          ]
         }
        },
        {
         "name": "W0",
         "dtype": "float64",
         "stats": {
          "unique_count": 655,
          "nan_count": 0,
          "min": "0.0",
          "max": "100.1",
          "histogram": [
           {
            "bin_start": 0,
            "bin_end": 10.01,
            "count": 603
           },
           {
            "bin_start": 10.01,
            "bin_end": 20.02,
            "count": 190
           },
           {
            "bin_start": 20.02,
            "bin_end": 30.03,
            "count": 117
           },
           {
            "bin_start": 30.03,
            "bin_end": 40.04,
            "count": 96
           },
           {
            "bin_start": 40.04,
            "bin_end": 50.05,
            "count": 99
           },
           {
            "bin_start": 50.05,
            "bin_end": 60.06,
            "count": 92
           },
           {
            "bin_start": 60.06,
            "bin_end": 70.07,
            "count": 89
           },
           {
            "bin_start": 70.07,
            "bin_end": 80.08,
            "count": 64
           },
           {
            "bin_start": 80.08,
            "bin_end": 90.09,
            "count": 62
           },
           {
            "bin_start": 90.09,
            "bin_end": 100.1,
            "count": 113
           }
          ]
         }
        },
        {
         "name": "W1",
         "dtype": "float64",
         "stats": {
          "unique_count": 562,
          "nan_count": 0,
          "min": "0.0",
          "max": "99.9",
          "histogram": [
           {
            "bin_start": 0,
            "bin_end": 9.99,
            "count": 814
           },
           {
            "bin_start": 9.99,
            "bin_end": 19.98,
            "count": 162
           },
           {
            "bin_start": 19.98,
            "bin_end": 29.97,
            "count": 112
           },
           {
            "bin_start": 29.97,
            "bin_end": 39.96,
            "count": 93
           },
           {
            "bin_start": 39.96,
            "bin_end": 49.95,
            "count": 92
           },
           {
            "bin_start": 49.95,
            "bin_end": 59.94,
            "count": 64
           },
           {
            "bin_start": 59.94,
            "bin_end": 69.93,
            "count": 49
           },
           {
            "bin_start": 69.93,
            "bin_end": 79.92,
            "count": 37
           },
           {
            "bin_start": 79.92,
            "bin_end": 89.91,
            "count": 52
           },
           {
            "bin_start": 89.91,
            "bin_end": 99.9,
            "count": 50
           }
          ]
         }
        },
        {
         "name": "W2",
         "dtype": "float64",
         "stats": {
          "unique_count": 366,
          "nan_count": 0,
          "min": "0.0",
          "max": "97.1",
          "histogram": [
           {
            "bin_start": 0,
            "bin_end": 9.709999999999999,
            "count": 1135
           },
           {
            "bin_start": 9.709999999999999,
            "bin_end": 19.419999999999998,
            "count": 120
           },
           {
            "bin_start": 19.419999999999998,
            "bin_end": 29.129999999999995,
            "count": 75
           },
           {
            "bin_start": 29.129999999999995,
            "bin_end": 38.839999999999996,
            "count": 62
           },
           {
            "bin_start": 38.839999999999996,
            "bin_end": 48.55,
            "count": 30
           },
           {
            "bin_start": 48.55,
            "bin_end": 58.25999999999999,
            "count": 41
           },
           {
            "bin_start": 58.25999999999999,
            "bin_end": 67.97,
            "count": 19
           },
           {
            "bin_start": 67.97,
            "bin_end": 77.67999999999999,
            "count": 18
           },
           {
            "bin_start": 77.67999999999999,
            "bin_end": 87.38999999999999,
            "count": 13
           },
           {
            "bin_start": 87.38999999999999,
            "bin_end": 97.1,
            "count": 12
           }
          ]
         }
        },
        {
         "name": "W3",
         "dtype": "float64",
         "stats": {
          "unique_count": 265,
          "nan_count": 0,
          "min": "0.0",
          "max": "92.5",
          "histogram": [
           {
            "bin_start": 0,
            "bin_end": 9.25,
            "count": 1282
           },
           {
            "bin_start": 9.25,
            "bin_end": 18.5,
            "count": 95
           },
           {
            "bin_start": 18.5,
            "bin_end": 27.75,
            "count": 39
           },
           {
            "bin_start": 27.75,
            "bin_end": 37,
            "count": 40
           },
           {
            "bin_start": 37,
            "bin_end": 46.25,
            "count": 24
           },
           {
            "bin_start": 46.25,
            "bin_end": 55.5,
            "count": 13
           },
           {
            "bin_start": 55.5,
            "bin_end": 64.75,
            "count": 15
           },
           {
            "bin_start": 64.75,
            "bin_end": 74,
            "count": 5
           },
           {
            "bin_start": 74,
            "bin_end": 83.25,
            "count": 7
           },
           {
            "bin_start": 83.25,
            "bin_end": 92.5,
            "count": 5
           }
          ]
         }
        },
        {
         "name": "W4",
         "dtype": "float64",
         "stats": {
          "unique_count": 164,
          "nan_count": 0,
          "min": "0.0",
          "max": "76.0",
          "histogram": [
           {
            "bin_start": 0,
            "bin_end": 7.6,
            "count": 1408
           },
           {
            "bin_start": 7.6,
            "bin_end": 15.2,
            "count": 40
           },
           {
            "bin_start": 15.2,
            "bin_end": 22.799999999999997,
            "count": 27
           },
           {
            "bin_start": 22.799999999999997,
            "bin_end": 30.4,
            "count": 18
           },
           {
            "bin_start": 30.4,
            "bin_end": 38,
            "count": 14
           },
           {
            "bin_start": 38,
            "bin_end": 45.599999999999994,
            "count": 8
           },
           {
            "bin_start": 45.599999999999994,
            "bin_end": 53.199999999999996,
            "count": 4
           },
           {
            "bin_start": 53.199999999999996,
            "bin_end": 60.8,
            "count": 3
           },
           {
            "bin_start": 60.8,
            "bin_end": 68.39999999999999,
            "count": 2
           },
           {
            "bin_start": 68.39999999999999,
            "bin_end": 76,
            "count": 1
           }
          ]
         }
        },
        {
         "name": "_deepnote_index_column",
         "dtype": "int64"
        }
       ],
       "rows": [
        {
         "0": 0,
         "DATE": "1895-01-01T00:00:00.000000",
         "D0": 0,
         "D1": 0,
         "D2": 0,
         "D3": 0,
         "D4": 0,
         "-9": 100,
         "W0": 0,
         "W1": 0,
         "W2": 0,
         "W3": 0,
         "W4": 0,
         "_deepnote_index_column": 0
        },
        {
         "0": 0,
         "DATE": "1895-02-01T00:00:00.000000",
         "D0": 0,
         "D1": 0,
         "D2": 0,
         "D3": 0,
         "D4": 0,
         "-9": 100,
         "W0": 0,
         "W1": 0,
         "W2": 0,
         "W3": 0,
         "W4": 0,
         "_deepnote_index_column": 1
        },
        {
         "0": 0,
         "DATE": "1895-03-01T00:00:00.000000",
         "D0": 0,
         "D1": 0,
         "D2": 0,
         "D3": 0,
         "D4": 0,
         "-9": 100,
         "W0": 0,
         "W1": 0,
         "W2": 0,
         "W3": 0,
         "W4": 0,
         "_deepnote_index_column": 2
        },
        {
         "0": 0,
         "DATE": "1895-04-01T00:00:00.000000",
         "D0": 0,
         "D1": 0,
         "D2": 0,
         "D3": 0,
         "D4": 0,
         "-9": 100,
         "W0": 0,
         "W1": 0,
         "W2": 0,
         "W3": 0,
         "W4": 0,
         "_deepnote_index_column": 3
        },
        {
         "0": 0,
         "DATE": "1895-05-01T00:00:00.000000",
         "D0": 0,
         "D1": 0,
         "D2": 0,
         "D3": 0,
         "D4": 0,
         "-9": 100,
         "W0": 0,
         "W1": 0,
         "W2": 0,
         "W3": 0,
         "W4": 0,
         "_deepnote_index_column": 4
        },
        {
         "0": 0,
         "DATE": "1895-06-01T00:00:00.000000",
         "D0": 0,
         "D1": 0,
         "D2": 0,
         "D3": 0,
         "D4": 0,
         "-9": 100,
         "W0": 0,
         "W1": 0,
         "W2": 0,
         "W3": 0,
         "W4": 0,
         "_deepnote_index_column": 5
        },
        {
         "0": 0,
         "DATE": "1895-07-01T00:00:00.000000",
         "D0": 0,
         "D1": 0,
         "D2": 0,
         "D3": 0,
         "D4": 0,
         "-9": 100,
         "W0": 0,
         "W1": 0,
         "W2": 0,
         "W3": 0,
         "W4": 0,
         "_deepnote_index_column": 6
        },
        {
         "0": 0,
         "DATE": "1895-08-01T00:00:00.000000",
         "D0": 0,
         "D1": 0,
         "D2": 0,
         "D3": 0,
         "D4": 0,
         "-9": 100,
         "W0": 0,
         "W1": 0,
         "W2": 0,
         "W3": 0,
         "W4": 0,
         "_deepnote_index_column": 7
        },
        {
         "0": 35.5,
         "DATE": "1895-09-01T00:00:00.000000",
         "D0": 2.5,
         "D1": 0.1,
         "D2": 0,
         "D3": 0,
         "D4": 0,
         "-9": 0,
         "W0": 62,
         "W1": 29.5,
         "W2": 4.5,
         "W3": 0.8,
         "W4": 0,
         "_deepnote_index_column": 8
        },
        {
         "0": 58.5,
         "DATE": "1895-10-01T00:00:00.000000",
         "D0": 40.5,
         "D1": 18.9,
         "D2": 5.8,
         "D3": 4.3,
         "D4": 2.1,
         "-9": 0,
         "W0": 1,
         "W1": 0,
         "W2": 0,
         "W3": 0,
         "W4": 0,
         "_deepnote_index_column": 9
        }
       ]
      },
      "text/plain": "         0       DATE    D0    D1    D2    D3   D4     -9    W0    W1   W2  \\\n0      0.0 1895-01-01   0.0   0.0   0.0   0.0  0.0  100.0   0.0   0.0  0.0   \n1      0.0 1895-02-01   0.0   0.0   0.0   0.0  0.0  100.0   0.0   0.0  0.0   \n2      0.0 1895-03-01   0.0   0.0   0.0   0.0  0.0  100.0   0.0   0.0  0.0   \n3      0.0 1895-04-01   0.0   0.0   0.0   0.0  0.0  100.0   0.0   0.0  0.0   \n4      0.0 1895-05-01   0.0   0.0   0.0   0.0  0.0  100.0   0.0   0.0  0.0   \n...    ...        ...   ...   ...   ...   ...  ...    ...   ...   ...  ...   \n1520   9.3 2021-09-01  90.6  76.6  46.2  26.7  2.4    0.0   0.0   0.0  0.0   \n1521  27.4 2021-10-01  72.5  55.2  27.3   9.3  1.3    0.0   0.0   0.0  0.0   \n1522  29.9 2021-11-01  69.9  54.6  23.1   7.4  1.3    0.0   0.1   0.0  0.0   \n1523  54.1 2021-12-01  11.2   3.2   0.1   0.0  0.0    0.0  34.7  16.5  2.2   \n1524  64.3 2022-01-01  28.5  13.6   1.3   0.0  0.0    0.0   7.1   0.9  0.0   \n\n       W3   W4  \n0     0.0  0.0  \n1     0.0  0.0  \n2     0.0  0.0  \n3     0.0  0.0  \n4     0.0  0.0  \n...   ...  ...  \n1520  0.0  0.0  \n1521  0.0  0.0  \n1522  0.0  0.0  \n1523  0.1  0.0  \n1524  0.0  0.0  \n\n[1525 rows x 13 columns]",
      "text/html": "<div>\n<style scoped>\n    .dataframe tbody tr th:only-of-type {\n        vertical-align: middle;\n    }\n\n    .dataframe tbody tr th {\n        vertical-align: top;\n    }\n\n    .dataframe thead th {\n        text-align: right;\n    }\n</style>\n<table border=\"1\" class=\"dataframe\">\n  <thead>\n    <tr style=\"text-align: right;\">\n      <th></th>\n      <th>0</th>\n      <th>DATE</th>\n      <th>D0</th>\n      <th>D1</th>\n      <th>D2</th>\n      <th>D3</th>\n      <th>D4</th>\n      <th>-9</th>\n      <th>W0</th>\n      <th>W1</th>\n      <th>W2</th>\n      <th>W3</th>\n      <th>W4</th>\n    </tr>\n  </thead>\n  <tbody>\n    <tr>\n      <th>0</th>\n      <td>0.0</td>\n      <td>1895-01-01</td>\n      <td>0.0</td>\n      <td>0.0</td>\n      <td>0.0</td>\n      <td>0.0</td>\n      <td>0.0</td>\n      <td>100.0</td>\n      <td>0.0</td>\n      <td>0.0</td>\n      <td>0.0</td>\n      <td>0.0</td>\n      <td>0.0</td>\n    </tr>\n    <tr>\n      <th>1</th>\n      <td>0.0</td>\n      <td>1895-02-01</td>\n      <td>0.0</td>\n      <td>0.0</td>\n      <td>0.0</td>\n      <td>0.0</td>\n      <td>0.0</td>\n      <td>100.0</td>\n      <td>0.0</td>\n      <td>0.0</td>\n      <td>0.0</td>\n      <td>0.0</td>\n      <td>0.0</td>\n    </tr>\n    <tr>\n      <th>2</th>\n      <td>0.0</td>\n      <td>1895-03-01</td>\n      <td>0.0</td>\n      <td>0.0</td>\n      <td>0.0</td>\n      <td>0.0</td>\n      <td>0.0</td>\n      <td>100.0</td>\n      <td>0.0</td>\n      <td>0.0</td>\n      <td>0.0</td>\n      <td>0.0</td>\n      <td>0.0</td>\n    </tr>\n    <tr>\n      <th>3</th>\n      <td>0.0</td>\n      <td>1895-04-01</td>\n      <td>0.0</td>\n      <td>0.0</td>\n      <td>0.0</td>\n      <td>0.0</td>\n      <td>0.0</td>\n      <td>100.0</td>\n      <td>0.0</td>\n      <td>0.0</td>\n      <td>0.0</td>\n      <td>0.0</td>\n      <td>0.0</td>\n    </tr>\n    <tr>\n      <th>4</th>\n      <td>0.0</td>\n      <td>1895-05-01</td>\n      <td>0.0</td>\n      <td>0.0</td>\n      <td>0.0</td>\n      <td>0.0</td>\n      <td>0.0</td>\n      <td>100.0</td>\n      <td>0.0</td>\n      <td>0.0</td>\n      <td>0.0</td>\n      <td>0.0</td>\n      <td>0.0</td>\n    </tr>\n    <tr>\n      <th>...</th>\n      <td>...</td>\n      <td>...</td>\n      <td>...</td>\n      <td>...</td>\n      <td>...</td>\n      <td>...</td>\n      <td>...</td>\n      <td>...</td>\n      <td>...</td>\n      <td>...</td>\n      <td>...</td>\n      <td>...</td>\n      <td>...</td>\n    </tr>\n    <tr>\n      <th>1520</th>\n      <td>9.3</td>\n      <td>2021-09-01</td>\n      <td>90.6</td>\n      <td>76.6</td>\n      <td>46.2</td>\n      <td>26.7</td>\n      <td>2.4</td>\n      <td>0.0</td>\n      <td>0.0</td>\n      <td>0.0</td>\n      <td>0.0</td>\n      <td>0.0</td>\n      <td>0.0</td>\n    </tr>\n    <tr>\n      <th>1521</th>\n      <td>27.4</td>\n      <td>2021-10-01</td>\n      <td>72.5</td>\n      <td>55.2</td>\n      <td>27.3</td>\n      <td>9.3</td>\n      <td>1.3</td>\n      <td>0.0</td>\n      <td>0.0</td>\n      <td>0.0</td>\n      <td>0.0</td>\n      <td>0.0</td>\n      <td>0.0</td>\n    </tr>\n    <tr>\n      <th>1522</th>\n      <td>29.9</td>\n      <td>2021-11-01</td>\n      <td>69.9</td>\n      <td>54.6</td>\n      <td>23.1</td>\n      <td>7.4</td>\n      <td>1.3</td>\n      <td>0.0</td>\n      <td>0.1</td>\n      <td>0.0</td>\n      <td>0.0</td>\n      <td>0.0</td>\n      <td>0.0</td>\n    </tr>\n    <tr>\n      <th>1523</th>\n      <td>54.1</td>\n      <td>2021-12-01</td>\n      <td>11.2</td>\n      <td>3.2</td>\n      <td>0.1</td>\n      <td>0.0</td>\n      <td>0.0</td>\n      <td>0.0</td>\n      <td>34.7</td>\n      <td>16.5</td>\n      <td>2.2</td>\n      <td>0.1</td>\n      <td>0.0</td>\n    </tr>\n    <tr>\n      <th>1524</th>\n      <td>64.3</td>\n      <td>2022-01-01</td>\n      <td>28.5</td>\n      <td>13.6</td>\n      <td>1.3</td>\n      <td>0.0</td>\n      <td>0.0</td>\n      <td>0.0</td>\n      <td>7.1</td>\n      <td>0.9</td>\n      <td>0.0</td>\n      <td>0.0</td>\n      <td>0.0</td>\n    </tr>\n  </tbody>\n</table>\n<p>1525 rows × 13 columns</p>\n</div>"
     },
     "metadata": {}
    }
   ]
  },
  {
   "cell_type": "code",
   "metadata": {
    "cell_id": "00020-b5ec0200-f65d-4e31-b055-09039555ad74",
    "deepnote_to_be_reexecuted": false,
    "source_hash": "1a3a592",
    "execution_start": 1647460150722,
    "execution_millis": 3,
    "deepnote_cell_type": "code",
    "deepnote_cell_height": 81
   },
   "source": "drought_df = drought_df[drought_df.DATE.dt.year > 2000][['DATE', 'D0', 'D1', 'D2', 'D3', 'D4']].copy()",
   "execution_count": null,
   "outputs": []
  },
  {
   "cell_type": "code",
   "metadata": {
    "cell_id": "00021-7efbcc4e-3e42-445a-a5f6-b5b69a1757d8",
    "deepnote_to_be_reexecuted": false,
    "source_hash": "ca92e209",
    "execution_start": 1647460151709,
    "execution_millis": 175,
    "deepnote_cell_type": "code",
    "deepnote_cell_height": 244.265625
   },
   "source": "drought_df.sample(1)",
   "execution_count": null,
   "outputs": [
    {
     "output_type": "execute_result",
     "execution_count": 54,
     "data": {
      "application/vnd.deepnote.dataframe.v3+json": {
       "column_count": 6,
       "row_count": 1,
       "columns": [
        {
         "name": "DATE",
         "dtype": "datetime64[ns]",
         "stats": {
          "unique_count": 1,
          "nan_count": 0,
          "min": "2020-12-01 00:00:00",
          "max": "2020-12-01 00:00:00",
          "histogram": null
         }
        },
        {
         "name": "D0",
         "dtype": "float64",
         "stats": {
          "unique_count": 1,
          "nan_count": 0,
          "min": "84.0",
          "max": "84.0",
          "histogram": [
           {
            "bin_start": 83.5,
            "bin_end": 83.6,
            "count": 0
           },
           {
            "bin_start": 83.6,
            "bin_end": 83.7,
            "count": 0
           },
           {
            "bin_start": 83.7,
            "bin_end": 83.8,
            "count": 0
           },
           {
            "bin_start": 83.8,
            "bin_end": 83.9,
            "count": 0
           },
           {
            "bin_start": 83.9,
            "bin_end": 84,
            "count": 0
           },
           {
            "bin_start": 84,
            "bin_end": 84.1,
            "count": 1
           },
           {
            "bin_start": 84.1,
            "bin_end": 84.2,
            "count": 0
           },
           {
            "bin_start": 84.2,
            "bin_end": 84.3,
            "count": 0
           },
           {
            "bin_start": 84.3,
            "bin_end": 84.4,
            "count": 0
           },
           {
            "bin_start": 84.4,
            "bin_end": 84.5,
            "count": 0
           }
          ]
         }
        },
        {
         "name": "D1",
         "dtype": "float64",
         "stats": {
          "unique_count": 1,
          "nan_count": 0,
          "min": "72.7",
          "max": "72.7",
          "histogram": [
           {
            "bin_start": 72.2,
            "bin_end": 72.3,
            "count": 0
           },
           {
            "bin_start": 72.3,
            "bin_end": 72.4,
            "count": 0
           },
           {
            "bin_start": 72.4,
            "bin_end": 72.5,
            "count": 0
           },
           {
            "bin_start": 72.5,
            "bin_end": 72.60000000000001,
            "count": 0
           },
           {
            "bin_start": 72.60000000000001,
            "bin_end": 72.7,
            "count": 0
           },
           {
            "bin_start": 72.7,
            "bin_end": 72.8,
            "count": 1
           },
           {
            "bin_start": 72.8,
            "bin_end": 72.9,
            "count": 0
           },
           {
            "bin_start": 72.9,
            "bin_end": 73,
            "count": 0
           },
           {
            "bin_start": 73,
            "bin_end": 73.10000000000001,
            "count": 0
           },
           {
            "bin_start": 73.10000000000001,
            "bin_end": 73.2,
            "count": 0
           }
          ]
         }
        },
        {
         "name": "D2",
         "dtype": "float64",
         "stats": {
          "unique_count": 1,
          "nan_count": 0,
          "min": "40.9",
          "max": "40.9",
          "histogram": [
           {
            "bin_start": 40.4,
            "bin_end": 40.5,
            "count": 0
           },
           {
            "bin_start": 40.5,
            "bin_end": 40.6,
            "count": 0
           },
           {
            "bin_start": 40.6,
            "bin_end": 40.699999999999996,
            "count": 0
           },
           {
            "bin_start": 40.699999999999996,
            "bin_end": 40.8,
            "count": 0
           },
           {
            "bin_start": 40.8,
            "bin_end": 40.9,
            "count": 0
           },
           {
            "bin_start": 40.9,
            "bin_end": 41,
            "count": 1
           },
           {
            "bin_start": 41,
            "bin_end": 41.1,
            "count": 0
           },
           {
            "bin_start": 41.1,
            "bin_end": 41.199999999999996,
            "count": 0
           },
           {
            "bin_start": 41.199999999999996,
            "bin_end": 41.3,
            "count": 0
           },
           {
            "bin_start": 41.3,
            "bin_end": 41.4,
            "count": 0
           }
          ]
         }
        },
        {
         "name": "D3",
         "dtype": "float64",
         "stats": {
          "unique_count": 1,
          "nan_count": 0,
          "min": "24.1",
          "max": "24.1",
          "histogram": [
           {
            "bin_start": 23.6,
            "bin_end": 23.700000000000003,
            "count": 0
           },
           {
            "bin_start": 23.700000000000003,
            "bin_end": 23.8,
            "count": 0
           },
           {
            "bin_start": 23.8,
            "bin_end": 23.900000000000002,
            "count": 0
           },
           {
            "bin_start": 23.900000000000002,
            "bin_end": 24,
            "count": 0
           },
           {
            "bin_start": 24,
            "bin_end": 24.1,
            "count": 0
           },
           {
            "bin_start": 24.1,
            "bin_end": 24.200000000000003,
            "count": 1
           },
           {
            "bin_start": 24.200000000000003,
            "bin_end": 24.3,
            "count": 0
           },
           {
            "bin_start": 24.3,
            "bin_end": 24.400000000000002,
            "count": 0
           },
           {
            "bin_start": 24.400000000000002,
            "bin_end": 24.5,
            "count": 0
           },
           {
            "bin_start": 24.5,
            "bin_end": 24.6,
            "count": 0
           }
          ]
         }
        },
        {
         "name": "D4",
         "dtype": "float64",
         "stats": {
          "unique_count": 1,
          "nan_count": 0,
          "min": "8.3",
          "max": "8.3",
          "histogram": [
           {
            "bin_start": 7.800000000000001,
            "bin_end": 7.9,
            "count": 0
           },
           {
            "bin_start": 7.9,
            "bin_end": 8,
            "count": 0
           },
           {
            "bin_start": 8,
            "bin_end": 8.100000000000001,
            "count": 0
           },
           {
            "bin_start": 8.100000000000001,
            "bin_end": 8.200000000000001,
            "count": 0
           },
           {
            "bin_start": 8.200000000000001,
            "bin_end": 8.3,
            "count": 0
           },
           {
            "bin_start": 8.3,
            "bin_end": 8.4,
            "count": 1
           },
           {
            "bin_start": 8.4,
            "bin_end": 8.5,
            "count": 0
           },
           {
            "bin_start": 8.5,
            "bin_end": 8.600000000000001,
            "count": 0
           },
           {
            "bin_start": 8.600000000000001,
            "bin_end": 8.700000000000001,
            "count": 0
           },
           {
            "bin_start": 8.700000000000001,
            "bin_end": 8.8,
            "count": 0
           }
          ]
         }
        },
        {
         "name": "_deepnote_index_column",
         "dtype": "int64"
        }
       ],
       "rows": [
        {
         "DATE": "2020-12-01T00:00:00.000000",
         "D0": 84,
         "D1": 72.7,
         "D2": 40.9,
         "D3": 24.1,
         "D4": 8.3,
         "_deepnote_index_column": 1511
        }
       ]
      },
      "text/plain": "           DATE    D0    D1    D2    D3   D4\n1511 2020-12-01  84.0  72.7  40.9  24.1  8.3",
      "text/html": "<div>\n<style scoped>\n    .dataframe tbody tr th:only-of-type {\n        vertical-align: middle;\n    }\n\n    .dataframe tbody tr th {\n        vertical-align: top;\n    }\n\n    .dataframe thead th {\n        text-align: right;\n    }\n</style>\n<table border=\"1\" class=\"dataframe\">\n  <thead>\n    <tr style=\"text-align: right;\">\n      <th></th>\n      <th>DATE</th>\n      <th>D0</th>\n      <th>D1</th>\n      <th>D2</th>\n      <th>D3</th>\n      <th>D4</th>\n    </tr>\n  </thead>\n  <tbody>\n    <tr>\n      <th>1511</th>\n      <td>2020-12-01</td>\n      <td>84.0</td>\n      <td>72.7</td>\n      <td>40.9</td>\n      <td>24.1</td>\n      <td>8.3</td>\n    </tr>\n  </tbody>\n</table>\n</div>"
     },
     "metadata": {}
    }
   ]
  },
  {
   "cell_type": "code",
   "metadata": {
    "cell_id": "00022-6c14f952-6c8d-4f83-a3d0-dc16fb24b2c4",
    "deepnote_to_be_reexecuted": false,
    "source_hash": "9594e767",
    "execution_start": 1647460153177,
    "execution_millis": 84,
    "deepnote_cell_type": "code",
    "deepnote_cell_height": 800
   },
   "source": "\nalt.Chart(drought_df.melt(\n                        id_vars='DATE',\n                        value_vars=['D1', 'D2','D3','D4'],\n                        var_name='DROUGHT_LEVEL',\n                        value_name='DROUGHT_AREA',\n\n                         )\n).mark_area(\n    color=\"lightblue\",\n    interpolate='step-after',\n    line=True\n).encode(\n    x='DATE:T',\n    y='DROUGHT_AREA',\n    color = 'DROUGHT_LEVEL',\n    tooltip=['DATE','DROUGHT_LEVEL', 'DROUGHT_AREA']\n).properties(\n    width = 1000\n)",
   "execution_count": null,
   "outputs": [
    {
     "output_type": "execute_result",
     "execution_count": 55,
     "data": {
      "text/html": "\n<div id=\"altair-viz-d8930d786c3a4c848abac5b4de0cd6bb\"></div>\n<script type=\"text/javascript\">\n  var VEGA_DEBUG = (typeof VEGA_DEBUG == \"undefined\") ? {} : VEGA_DEBUG;\n  (function(spec, embedOpt){\n    let outputDiv = document.currentScript.previousElementSibling;\n    if (outputDiv.id !== \"altair-viz-d8930d786c3a4c848abac5b4de0cd6bb\") {\n      outputDiv = document.getElementById(\"altair-viz-d8930d786c3a4c848abac5b4de0cd6bb\");\n    }\n    const paths = {\n      \"vega\": \"https://cdn.jsdelivr.net/npm//vega@5?noext\",\n      \"vega-lib\": \"https://cdn.jsdelivr.net/npm//vega-lib?noext\",\n      \"vega-lite\": \"https://cdn.jsdelivr.net/npm//vega-lite@4.17.0?noext\",\n      \"vega-embed\": \"https://cdn.jsdelivr.net/npm//vega-embed@6?noext\",\n    };\n\n    function maybeLoadScript(lib, version) {\n      var key = `${lib.replace(\"-\", \"\")}_version`;\n      return (VEGA_DEBUG[key] == version) ?\n        Promise.resolve(paths[lib]) :\n        new Promise(function(resolve, reject) {\n          var s = document.createElement('script');\n          document.getElementsByTagName(\"head\")[0].appendChild(s);\n          s.async = true;\n          s.onload = () => {\n            VEGA_DEBUG[key] = version;\n            return resolve(paths[lib]);\n          };\n          s.onerror = () => reject(`Error loading script: ${paths[lib]}`);\n          s.src = paths[lib];\n        });\n    }\n\n    function showError(err) {\n      outputDiv.innerHTML = `<div class=\"error\" style=\"color:red;\">${err}</div>`;\n      throw err;\n    }\n\n    function displayChart(vegaEmbed) {\n      vegaEmbed(outputDiv, spec, embedOpt)\n        .catch(err => showError(`Javascript Error: ${err.message}<br>This usually means there's a typo in your chart specification. See the javascript console for the full traceback.`));\n    }\n\n    if(typeof define === \"function\" && define.amd) {\n      requirejs.config({paths});\n      require([\"vega-embed\"], displayChart, err => showError(`Error loading script: ${err.message}`));\n    } else {\n      maybeLoadScript(\"vega\", \"5\")\n        .then(() => maybeLoadScript(\"vega-lite\", \"4.17.0\"))\n        .then(() => maybeLoadScript(\"vega-embed\", \"6\"))\n        .catch(showError)\n        .then(() => displayChart(vegaEmbed));\n    }\n  })({\"config\": {\"view\": {\"continuousWidth\": 400, \"continuousHeight\": 300}}, \"data\": {\"name\": \"data-704c5964aac2dd44da3f53d55388dbb7\"}, \"mark\": {\"type\": \"area\", \"color\": \"lightblue\", \"interpolate\": \"step-after\", \"line\": true}, \"encoding\": {\"color\": {\"field\": \"DROUGHT_LEVEL\", \"type\": \"nominal\"}, \"tooltip\": [{\"field\": \"DATE\", \"type\": \"temporal\"}, {\"field\": \"DROUGHT_LEVEL\", \"type\": \"nominal\"}, {\"field\": \"DROUGHT_AREA\", \"type\": \"quantitative\"}], \"x\": {\"field\": \"DATE\", \"type\": \"temporal\"}, \"y\": {\"field\": \"DROUGHT_AREA\", \"type\": \"quantitative\"}}, \"width\": 1000, \"$schema\": \"https://vega.github.io/schema/vega-lite/v4.17.0.json\", \"datasets\": {\"data-704c5964aac2dd44da3f53d55388dbb7\": [{\"DATE\": \"2001-01-01T00:00:00\", \"DROUGHT_LEVEL\": \"D1\", \"DROUGHT_AREA\": 36.0}, {\"DATE\": \"2001-02-01T00:00:00\", \"DROUGHT_LEVEL\": \"D1\", \"DROUGHT_AREA\": 24.5}, {\"DATE\": \"2001-03-01T00:00:00\", \"DROUGHT_LEVEL\": \"D1\", \"DROUGHT_AREA\": 30.5}, {\"DATE\": \"2001-04-01T00:00:00\", \"DROUGHT_LEVEL\": \"D1\", \"DROUGHT_AREA\": 26.1}, {\"DATE\": \"2001-05-01T00:00:00\", \"DROUGHT_LEVEL\": \"D1\", \"DROUGHT_AREA\": 30.6}, {\"DATE\": \"2001-06-01T00:00:00\", \"DROUGHT_LEVEL\": \"D1\", \"DROUGHT_AREA\": 30.7}, {\"DATE\": \"2001-07-01T00:00:00\", \"DROUGHT_LEVEL\": \"D1\", \"DROUGHT_AREA\": 38.4}, {\"DATE\": \"2001-08-01T00:00:00\", \"DROUGHT_LEVEL\": \"D1\", \"DROUGHT_AREA\": 29.9}, {\"DATE\": \"2001-09-01T00:00:00\", \"DROUGHT_LEVEL\": \"D1\", \"DROUGHT_AREA\": 19.2}, {\"DATE\": \"2001-10-01T00:00:00\", \"DROUGHT_LEVEL\": \"D1\", \"DROUGHT_AREA\": 17.4}, {\"DATE\": \"2001-11-01T00:00:00\", \"DROUGHT_LEVEL\": \"D1\", \"DROUGHT_AREA\": 17.0}, {\"DATE\": \"2001-12-01T00:00:00\", \"DROUGHT_LEVEL\": \"D1\", \"DROUGHT_AREA\": 19.1}, {\"DATE\": \"2002-01-01T00:00:00\", \"DROUGHT_LEVEL\": \"D1\", \"DROUGHT_AREA\": 33.0}, {\"DATE\": \"2002-02-01T00:00:00\", \"DROUGHT_LEVEL\": \"D1\", \"DROUGHT_AREA\": 43.2}, {\"DATE\": \"2002-03-01T00:00:00\", \"DROUGHT_LEVEL\": \"D1\", \"DROUGHT_AREA\": 46.1}, {\"DATE\": \"2002-04-01T00:00:00\", \"DROUGHT_LEVEL\": \"D1\", \"DROUGHT_AREA\": 48.7}, {\"DATE\": \"2002-05-01T00:00:00\", \"DROUGHT_LEVEL\": \"D1\", \"DROUGHT_AREA\": 50.5}, {\"DATE\": \"2002-06-01T00:00:00\", \"DROUGHT_LEVEL\": \"D1\", \"DROUGHT_AREA\": 49.9}, {\"DATE\": \"2002-07-01T00:00:00\", \"DROUGHT_LEVEL\": \"D1\", \"DROUGHT_AREA\": 47.6}, {\"DATE\": \"2002-08-01T00:00:00\", \"DROUGHT_LEVEL\": \"D1\", \"DROUGHT_AREA\": 60.0}, {\"DATE\": \"2002-09-01T00:00:00\", \"DROUGHT_LEVEL\": \"D1\", \"DROUGHT_AREA\": 98.6}, {\"DATE\": \"2002-10-01T00:00:00\", \"DROUGHT_LEVEL\": \"D1\", \"DROUGHT_AREA\": 99.5}, {\"DATE\": \"2002-11-01T00:00:00\", \"DROUGHT_LEVEL\": \"D1\", \"DROUGHT_AREA\": 60.6}, {\"DATE\": \"2002-12-01T00:00:00\", \"DROUGHT_LEVEL\": \"D1\", \"DROUGHT_AREA\": 21.7}, {\"DATE\": \"2003-01-01T00:00:00\", \"DROUGHT_LEVEL\": \"D1\", \"DROUGHT_AREA\": 28.7}, {\"DATE\": \"2003-02-01T00:00:00\", \"DROUGHT_LEVEL\": \"D1\", \"DROUGHT_AREA\": 4.3}, {\"DATE\": \"2003-03-01T00:00:00\", \"DROUGHT_LEVEL\": \"D1\", \"DROUGHT_AREA\": 4.6}, {\"DATE\": \"2003-04-01T00:00:00\", \"DROUGHT_LEVEL\": \"D1\", \"DROUGHT_AREA\": 0.1}, {\"DATE\": \"2003-05-01T00:00:00\", \"DROUGHT_LEVEL\": \"D1\", \"DROUGHT_AREA\": 0.0}, {\"DATE\": \"2003-06-01T00:00:00\", \"DROUGHT_LEVEL\": \"D1\", \"DROUGHT_AREA\": 0.0}, {\"DATE\": \"2003-07-01T00:00:00\", \"DROUGHT_LEVEL\": \"D1\", \"DROUGHT_AREA\": 0.0}, {\"DATE\": \"2003-08-01T00:00:00\", \"DROUGHT_LEVEL\": \"D1\", \"DROUGHT_AREA\": 0.0}, {\"DATE\": \"2003-09-01T00:00:00\", \"DROUGHT_LEVEL\": \"D1\", \"DROUGHT_AREA\": 6.0}, {\"DATE\": \"2003-10-01T00:00:00\", \"DROUGHT_LEVEL\": \"D1\", \"DROUGHT_AREA\": 0.5}, {\"DATE\": \"2003-11-01T00:00:00\", \"DROUGHT_LEVEL\": \"D1\", \"DROUGHT_AREA\": 0.9}, {\"DATE\": \"2003-12-01T00:00:00\", \"DROUGHT_LEVEL\": \"D1\", \"DROUGHT_AREA\": 1.9}, {\"DATE\": \"2004-01-01T00:00:00\", \"DROUGHT_LEVEL\": \"D1\", \"DROUGHT_AREA\": 11.1}, {\"DATE\": \"2004-02-01T00:00:00\", \"DROUGHT_LEVEL\": \"D1\", \"DROUGHT_AREA\": 1.1}, {\"DATE\": \"2004-03-01T00:00:00\", \"DROUGHT_LEVEL\": \"D1\", \"DROUGHT_AREA\": 5.4}, {\"DATE\": \"2004-04-01T00:00:00\", \"DROUGHT_LEVEL\": \"D1\", \"DROUGHT_AREA\": 13.7}, {\"DATE\": \"2004-05-01T00:00:00\", \"DROUGHT_LEVEL\": \"D1\", \"DROUGHT_AREA\": 26.9}, {\"DATE\": \"2004-06-01T00:00:00\", \"DROUGHT_LEVEL\": \"D1\", \"DROUGHT_AREA\": 24.4}, {\"DATE\": \"2004-07-01T00:00:00\", \"DROUGHT_LEVEL\": \"D1\", \"DROUGHT_AREA\": 14.9}, {\"DATE\": \"2004-08-01T00:00:00\", \"DROUGHT_LEVEL\": \"D1\", \"DROUGHT_AREA\": 12.7}, {\"DATE\": \"2004-09-01T00:00:00\", \"DROUGHT_LEVEL\": \"D1\", \"DROUGHT_AREA\": 31.2}, {\"DATE\": \"2004-10-01T00:00:00\", \"DROUGHT_LEVEL\": \"D1\", \"DROUGHT_AREA\": 0.0}, {\"DATE\": \"2004-11-01T00:00:00\", \"DROUGHT_LEVEL\": \"D1\", \"DROUGHT_AREA\": 25.1}, {\"DATE\": \"2004-12-01T00:00:00\", \"DROUGHT_LEVEL\": \"D1\", \"DROUGHT_AREA\": 0.0}, {\"DATE\": \"2005-01-01T00:00:00\", \"DROUGHT_LEVEL\": \"D1\", \"DROUGHT_AREA\": 1.3}, {\"DATE\": \"2005-02-01T00:00:00\", \"DROUGHT_LEVEL\": \"D1\", \"DROUGHT_AREA\": 5.7}, {\"DATE\": \"2005-03-01T00:00:00\", \"DROUGHT_LEVEL\": \"D1\", \"DROUGHT_AREA\": 2.5}, {\"DATE\": \"2005-04-01T00:00:00\", \"DROUGHT_LEVEL\": \"D1\", \"DROUGHT_AREA\": 0.4}, {\"DATE\": \"2005-05-01T00:00:00\", \"DROUGHT_LEVEL\": \"D1\", \"DROUGHT_AREA\": 0.0}, {\"DATE\": \"2005-06-01T00:00:00\", \"DROUGHT_LEVEL\": \"D1\", \"DROUGHT_AREA\": 0.0}, {\"DATE\": \"2005-07-01T00:00:00\", \"DROUGHT_LEVEL\": \"D1\", \"DROUGHT_AREA\": 0.0}, {\"DATE\": \"2005-08-01T00:00:00\", \"DROUGHT_LEVEL\": \"D1\", \"DROUGHT_AREA\": 0.0}, {\"DATE\": \"2005-09-01T00:00:00\", \"DROUGHT_LEVEL\": \"D1\", \"DROUGHT_AREA\": 0.0}, {\"DATE\": \"2005-10-01T00:00:00\", \"DROUGHT_LEVEL\": \"D1\", \"DROUGHT_AREA\": 0.3}, {\"DATE\": \"2005-11-01T00:00:00\", \"DROUGHT_LEVEL\": \"D1\", \"DROUGHT_AREA\": 0.3}, {\"DATE\": \"2005-12-01T00:00:00\", \"DROUGHT_LEVEL\": \"D1\", \"DROUGHT_AREA\": 2.3}, {\"DATE\": \"2006-01-01T00:00:00\", \"DROUGHT_LEVEL\": \"D1\", \"DROUGHT_AREA\": 5.0}, {\"DATE\": \"2006-02-01T00:00:00\", \"DROUGHT_LEVEL\": \"D1\", \"DROUGHT_AREA\": 7.2}, {\"DATE\": \"2006-03-01T00:00:00\", \"DROUGHT_LEVEL\": \"D1\", \"DROUGHT_AREA\": 6.2}, {\"DATE\": \"2006-04-01T00:00:00\", \"DROUGHT_LEVEL\": \"D1\", \"DROUGHT_AREA\": 8.5}, {\"DATE\": \"2006-05-01T00:00:00\", \"DROUGHT_LEVEL\": \"D1\", \"DROUGHT_AREA\": 12.9}, {\"DATE\": \"2006-06-01T00:00:00\", \"DROUGHT_LEVEL\": \"D1\", \"DROUGHT_AREA\": 13.7}, {\"DATE\": \"2006-07-01T00:00:00\", \"DROUGHT_LEVEL\": \"D1\", \"DROUGHT_AREA\": 21.1}, {\"DATE\": \"2006-08-01T00:00:00\", \"DROUGHT_LEVEL\": \"D1\", \"DROUGHT_AREA\": 18.1}, {\"DATE\": \"2006-09-01T00:00:00\", \"DROUGHT_LEVEL\": \"D1\", \"DROUGHT_AREA\": 13.6}, {\"DATE\": \"2006-10-01T00:00:00\", \"DROUGHT_LEVEL\": \"D1\", \"DROUGHT_AREA\": 12.6}, {\"DATE\": \"2006-11-01T00:00:00\", \"DROUGHT_LEVEL\": \"D1\", \"DROUGHT_AREA\": 11.4}, {\"DATE\": \"2006-12-01T00:00:00\", \"DROUGHT_LEVEL\": \"D1\", \"DROUGHT_AREA\": 20.1}, {\"DATE\": \"2007-01-01T00:00:00\", \"DROUGHT_LEVEL\": \"D1\", \"DROUGHT_AREA\": 88.9}, {\"DATE\": \"2007-02-01T00:00:00\", \"DROUGHT_LEVEL\": \"D1\", \"DROUGHT_AREA\": 75.5}, {\"DATE\": \"2007-03-01T00:00:00\", \"DROUGHT_LEVEL\": \"D1\", \"DROUGHT_AREA\": 91.3}, {\"DATE\": \"2007-04-01T00:00:00\", \"DROUGHT_LEVEL\": \"D1\", \"DROUGHT_AREA\": 91.1}, {\"DATE\": \"2007-05-01T00:00:00\", \"DROUGHT_LEVEL\": \"D1\", \"DROUGHT_AREA\": 93.9}, {\"DATE\": \"2007-06-01T00:00:00\", \"DROUGHT_LEVEL\": \"D1\", \"DROUGHT_AREA\": 93.5}, {\"DATE\": \"2007-07-01T00:00:00\", \"DROUGHT_LEVEL\": \"D1\", \"DROUGHT_AREA\": 88.1}, {\"DATE\": \"2007-08-01T00:00:00\", \"DROUGHT_LEVEL\": \"D1\", \"DROUGHT_AREA\": 90.4}, {\"DATE\": \"2007-09-01T00:00:00\", \"DROUGHT_LEVEL\": \"D1\", \"DROUGHT_AREA\": 90.8}, {\"DATE\": \"2007-10-01T00:00:00\", \"DROUGHT_LEVEL\": \"D1\", \"DROUGHT_AREA\": 44.6}, {\"DATE\": \"2007-11-01T00:00:00\", \"DROUGHT_LEVEL\": \"D1\", \"DROUGHT_AREA\": 80.7}, {\"DATE\": \"2007-12-01T00:00:00\", \"DROUGHT_LEVEL\": \"D1\", \"DROUGHT_AREA\": 39.1}, {\"DATE\": \"2008-01-01T00:00:00\", \"DROUGHT_LEVEL\": \"D1\", \"DROUGHT_AREA\": 2.4}, {\"DATE\": \"2008-02-01T00:00:00\", \"DROUGHT_LEVEL\": \"D1\", \"DROUGHT_AREA\": 2.1}, {\"DATE\": \"2008-03-01T00:00:00\", \"DROUGHT_LEVEL\": \"D1\", \"DROUGHT_AREA\": 6.3}, {\"DATE\": \"2008-04-01T00:00:00\", \"DROUGHT_LEVEL\": \"D1\", \"DROUGHT_AREA\": 17.2}, {\"DATE\": \"2008-05-01T00:00:00\", \"DROUGHT_LEVEL\": \"D1\", \"DROUGHT_AREA\": 21.7}, {\"DATE\": \"2008-06-01T00:00:00\", \"DROUGHT_LEVEL\": \"D1\", \"DROUGHT_AREA\": 26.6}, {\"DATE\": \"2008-07-01T00:00:00\", \"DROUGHT_LEVEL\": \"D1\", \"DROUGHT_AREA\": 30.6}, {\"DATE\": \"2008-08-01T00:00:00\", \"DROUGHT_LEVEL\": \"D1\", \"DROUGHT_AREA\": 14.5}, {\"DATE\": \"2008-09-01T00:00:00\", \"DROUGHT_LEVEL\": \"D1\", \"DROUGHT_AREA\": 21.0}, {\"DATE\": \"2008-10-01T00:00:00\", \"DROUGHT_LEVEL\": \"D1\", \"DROUGHT_AREA\": 95.0}, {\"DATE\": \"2008-11-01T00:00:00\", \"DROUGHT_LEVEL\": \"D1\", \"DROUGHT_AREA\": 83.1}, {\"DATE\": \"2008-12-01T00:00:00\", \"DROUGHT_LEVEL\": \"D1\", \"DROUGHT_AREA\": 54.4}, {\"DATE\": \"2009-01-01T00:00:00\", \"DROUGHT_LEVEL\": \"D1\", \"DROUGHT_AREA\": 50.9}, {\"DATE\": \"2009-02-01T00:00:00\", \"DROUGHT_LEVEL\": \"D1\", \"DROUGHT_AREA\": 24.9}, {\"DATE\": \"2009-03-01T00:00:00\", \"DROUGHT_LEVEL\": \"D1\", \"DROUGHT_AREA\": 30.4}, {\"DATE\": \"2009-04-01T00:00:00\", \"DROUGHT_LEVEL\": \"D1\", \"DROUGHT_AREA\": 42.0}, {\"DATE\": \"2009-05-01T00:00:00\", \"DROUGHT_LEVEL\": \"D1\", \"DROUGHT_AREA\": 41.6}, {\"DATE\": \"2009-06-01T00:00:00\", \"DROUGHT_LEVEL\": \"D1\", \"DROUGHT_AREA\": 27.1}, {\"DATE\": \"2009-07-01T00:00:00\", \"DROUGHT_LEVEL\": \"D1\", \"DROUGHT_AREA\": 20.9}, {\"DATE\": \"2009-08-01T00:00:00\", \"DROUGHT_LEVEL\": \"D1\", \"DROUGHT_AREA\": 30.8}, {\"DATE\": \"2009-09-01T00:00:00\", \"DROUGHT_LEVEL\": \"D1\", \"DROUGHT_AREA\": 42.2}, {\"DATE\": \"2009-10-01T00:00:00\", \"DROUGHT_LEVEL\": \"D1\", \"DROUGHT_AREA\": 21.2}, {\"DATE\": \"2009-11-01T00:00:00\", \"DROUGHT_LEVEL\": \"D1\", \"DROUGHT_AREA\": 47.7}, {\"DATE\": \"2009-12-01T00:00:00\", \"DROUGHT_LEVEL\": \"D1\", \"DROUGHT_AREA\": 29.4}, {\"DATE\": \"2010-01-01T00:00:00\", \"DROUGHT_LEVEL\": \"D1\", \"DROUGHT_AREA\": 0.8}, {\"DATE\": \"2010-02-01T00:00:00\", \"DROUGHT_LEVEL\": \"D1\", \"DROUGHT_AREA\": 4.8}, {\"DATE\": \"2010-03-01T00:00:00\", \"DROUGHT_LEVEL\": \"D1\", \"DROUGHT_AREA\": 6.5}, {\"DATE\": \"2010-04-01T00:00:00\", \"DROUGHT_LEVEL\": \"D1\", \"DROUGHT_AREA\": 3.6}, {\"DATE\": \"2010-05-01T00:00:00\", \"DROUGHT_LEVEL\": \"D1\", \"DROUGHT_AREA\": 3.3}, {\"DATE\": \"2010-06-01T00:00:00\", \"DROUGHT_LEVEL\": \"D1\", \"DROUGHT_AREA\": 1.2}, {\"DATE\": \"2010-07-01T00:00:00\", \"DROUGHT_LEVEL\": \"D1\", \"DROUGHT_AREA\": 1.3}, {\"DATE\": \"2010-08-01T00:00:00\", \"DROUGHT_LEVEL\": \"D1\", \"DROUGHT_AREA\": 0.5}, {\"DATE\": \"2010-09-01T00:00:00\", \"DROUGHT_LEVEL\": \"D1\", \"DROUGHT_AREA\": 0.3}, {\"DATE\": \"2010-10-01T00:00:00\", \"DROUGHT_LEVEL\": \"D1\", \"DROUGHT_AREA\": 1.1}, {\"DATE\": \"2010-11-01T00:00:00\", \"DROUGHT_LEVEL\": \"D1\", \"DROUGHT_AREA\": 9.1}, {\"DATE\": \"2010-12-01T00:00:00\", \"DROUGHT_LEVEL\": \"D1\", \"DROUGHT_AREA\": 0.3}, {\"DATE\": \"2011-01-01T00:00:00\", \"DROUGHT_LEVEL\": \"D1\", \"DROUGHT_AREA\": 1.3}, {\"DATE\": \"2011-02-01T00:00:00\", \"DROUGHT_LEVEL\": \"D1\", \"DROUGHT_AREA\": 0.0}, {\"DATE\": \"2011-03-01T00:00:00\", \"DROUGHT_LEVEL\": \"D1\", \"DROUGHT_AREA\": 0.0}, {\"DATE\": \"2011-04-01T00:00:00\", \"DROUGHT_LEVEL\": \"D1\", \"DROUGHT_AREA\": 0.0}, {\"DATE\": \"2011-05-01T00:00:00\", \"DROUGHT_LEVEL\": \"D1\", \"DROUGHT_AREA\": 0.0}, {\"DATE\": \"2011-06-01T00:00:00\", \"DROUGHT_LEVEL\": \"D1\", \"DROUGHT_AREA\": 0.0}, {\"DATE\": \"2011-07-01T00:00:00\", \"DROUGHT_LEVEL\": \"D1\", \"DROUGHT_AREA\": 0.0}, {\"DATE\": \"2011-08-01T00:00:00\", \"DROUGHT_LEVEL\": \"D1\", \"DROUGHT_AREA\": 0.2}, {\"DATE\": \"2011-09-01T00:00:00\", \"DROUGHT_LEVEL\": \"D1\", \"DROUGHT_AREA\": 2.9}, {\"DATE\": \"2011-10-01T00:00:00\", \"DROUGHT_LEVEL\": \"D1\", \"DROUGHT_AREA\": 0.1}, {\"DATE\": \"2011-11-01T00:00:00\", \"DROUGHT_LEVEL\": \"D1\", \"DROUGHT_AREA\": 1.0}, {\"DATE\": \"2011-12-01T00:00:00\", \"DROUGHT_LEVEL\": \"D1\", \"DROUGHT_AREA\": 39.8}, {\"DATE\": \"2012-01-01T00:00:00\", \"DROUGHT_LEVEL\": \"D1\", \"DROUGHT_AREA\": 32.3}, {\"DATE\": \"2012-02-01T00:00:00\", \"DROUGHT_LEVEL\": \"D1\", \"DROUGHT_AREA\": 79.7}, {\"DATE\": \"2012-03-01T00:00:00\", \"DROUGHT_LEVEL\": \"D1\", \"DROUGHT_AREA\": 67.9}, {\"DATE\": \"2012-04-01T00:00:00\", \"DROUGHT_LEVEL\": \"D1\", \"DROUGHT_AREA\": 46.0}, {\"DATE\": \"2012-05-01T00:00:00\", \"DROUGHT_LEVEL\": \"D1\", \"DROUGHT_AREA\": 56.5}, {\"DATE\": \"2012-06-01T00:00:00\", \"DROUGHT_LEVEL\": \"D1\", \"DROUGHT_AREA\": 57.1}, {\"DATE\": \"2012-07-01T00:00:00\", \"DROUGHT_LEVEL\": \"D1\", \"DROUGHT_AREA\": 59.8}, {\"DATE\": \"2012-08-01T00:00:00\", \"DROUGHT_LEVEL\": \"D1\", \"DROUGHT_AREA\": 55.0}, {\"DATE\": \"2012-09-01T00:00:00\", \"DROUGHT_LEVEL\": \"D1\", \"DROUGHT_AREA\": 17.7}, {\"DATE\": \"2012-10-01T00:00:00\", \"DROUGHT_LEVEL\": \"D1\", \"DROUGHT_AREA\": 14.2}, {\"DATE\": \"2012-11-01T00:00:00\", \"DROUGHT_LEVEL\": \"D1\", \"DROUGHT_AREA\": 8.3}, {\"DATE\": \"2012-12-01T00:00:00\", \"DROUGHT_LEVEL\": \"D1\", \"DROUGHT_AREA\": 3.7}, {\"DATE\": \"2013-01-01T00:00:00\", \"DROUGHT_LEVEL\": \"D1\", \"DROUGHT_AREA\": 15.0}, {\"DATE\": \"2013-02-01T00:00:00\", \"DROUGHT_LEVEL\": \"D1\", \"DROUGHT_AREA\": 28.7}, {\"DATE\": \"2013-03-01T00:00:00\", \"DROUGHT_LEVEL\": \"D1\", \"DROUGHT_AREA\": 46.6}, {\"DATE\": \"2013-04-01T00:00:00\", \"DROUGHT_LEVEL\": \"D1\", \"DROUGHT_AREA\": 52.7}, {\"DATE\": \"2013-05-01T00:00:00\", \"DROUGHT_LEVEL\": \"D1\", \"DROUGHT_AREA\": 57.7}, {\"DATE\": \"2013-06-01T00:00:00\", \"DROUGHT_LEVEL\": \"D1\", \"DROUGHT_AREA\": 52.6}, {\"DATE\": \"2013-07-01T00:00:00\", \"DROUGHT_LEVEL\": \"D1\", \"DROUGHT_AREA\": 52.3}, {\"DATE\": \"2013-08-01T00:00:00\", \"DROUGHT_LEVEL\": \"D1\", \"DROUGHT_AREA\": 68.0}, {\"DATE\": \"2013-09-01T00:00:00\", \"DROUGHT_LEVEL\": \"D1\", \"DROUGHT_AREA\": 78.0}, {\"DATE\": \"2013-10-01T00:00:00\", \"DROUGHT_LEVEL\": \"D1\", \"DROUGHT_AREA\": 79.8}, {\"DATE\": \"2013-11-01T00:00:00\", \"DROUGHT_LEVEL\": \"D1\", \"DROUGHT_AREA\": 70.3}, {\"DATE\": \"2013-12-01T00:00:00\", \"DROUGHT_LEVEL\": \"D1\", \"DROUGHT_AREA\": 72.9}, {\"DATE\": \"2014-01-01T00:00:00\", \"DROUGHT_LEVEL\": \"D1\", \"DROUGHT_AREA\": 78.4}, {\"DATE\": \"2014-02-01T00:00:00\", \"DROUGHT_LEVEL\": \"D1\", \"DROUGHT_AREA\": 80.5}, {\"DATE\": \"2014-03-01T00:00:00\", \"DROUGHT_LEVEL\": \"D1\", \"DROUGHT_AREA\": 79.1}, {\"DATE\": \"2014-04-01T00:00:00\", \"DROUGHT_LEVEL\": \"D1\", \"DROUGHT_AREA\": 84.3}, {\"DATE\": \"2014-05-01T00:00:00\", \"DROUGHT_LEVEL\": \"D1\", \"DROUGHT_AREA\": 93.0}, {\"DATE\": \"2014-06-01T00:00:00\", \"DROUGHT_LEVEL\": \"D1\", \"DROUGHT_AREA\": 98.7}, {\"DATE\": \"2014-07-01T00:00:00\", \"DROUGHT_LEVEL\": \"D1\", \"DROUGHT_AREA\": 92.6}, {\"DATE\": \"2014-08-01T00:00:00\", \"DROUGHT_LEVEL\": \"D1\", \"DROUGHT_AREA\": 86.2}, {\"DATE\": \"2014-09-01T00:00:00\", \"DROUGHT_LEVEL\": \"D1\", \"DROUGHT_AREA\": 39.8}, {\"DATE\": \"2014-10-01T00:00:00\", \"DROUGHT_LEVEL\": \"D1\", \"DROUGHT_AREA\": 16.6}, {\"DATE\": \"2014-11-01T00:00:00\", \"DROUGHT_LEVEL\": \"D1\", \"DROUGHT_AREA\": 25.8}, {\"DATE\": \"2014-12-01T00:00:00\", \"DROUGHT_LEVEL\": \"D1\", \"DROUGHT_AREA\": 2.5}, {\"DATE\": \"2015-01-01T00:00:00\", \"DROUGHT_LEVEL\": \"D1\", \"DROUGHT_AREA\": 12.0}, {\"DATE\": \"2015-02-01T00:00:00\", \"DROUGHT_LEVEL\": \"D1\", \"DROUGHT_AREA\": 16.8}, {\"DATE\": \"2015-03-01T00:00:00\", \"DROUGHT_LEVEL\": \"D1\", \"DROUGHT_AREA\": 33.7}, {\"DATE\": \"2015-04-01T00:00:00\", \"DROUGHT_LEVEL\": \"D1\", \"DROUGHT_AREA\": 39.9}, {\"DATE\": \"2015-05-01T00:00:00\", \"DROUGHT_LEVEL\": \"D1\", \"DROUGHT_AREA\": 42.7}, {\"DATE\": \"2015-06-01T00:00:00\", \"DROUGHT_LEVEL\": \"D1\", \"DROUGHT_AREA\": 41.6}, {\"DATE\": \"2015-07-01T00:00:00\", \"DROUGHT_LEVEL\": \"D1\", \"DROUGHT_AREA\": 29.5}, {\"DATE\": \"2015-08-01T00:00:00\", \"DROUGHT_LEVEL\": \"D1\", \"DROUGHT_AREA\": 25.5}, {\"DATE\": \"2015-09-01T00:00:00\", \"DROUGHT_LEVEL\": \"D1\", \"DROUGHT_AREA\": 64.1}, {\"DATE\": \"2015-10-01T00:00:00\", \"DROUGHT_LEVEL\": \"D1\", \"DROUGHT_AREA\": 47.0}, {\"DATE\": \"2015-11-01T00:00:00\", \"DROUGHT_LEVEL\": \"D1\", \"DROUGHT_AREA\": 39.5}, {\"DATE\": \"2015-12-01T00:00:00\", \"DROUGHT_LEVEL\": \"D1\", \"DROUGHT_AREA\": 8.2}, {\"DATE\": \"2016-01-01T00:00:00\", \"DROUGHT_LEVEL\": \"D1\", \"DROUGHT_AREA\": 0.0}, {\"DATE\": \"2016-02-01T00:00:00\", \"DROUGHT_LEVEL\": \"D1\", \"DROUGHT_AREA\": 2.7}, {\"DATE\": \"2016-03-01T00:00:00\", \"DROUGHT_LEVEL\": \"D1\", \"DROUGHT_AREA\": 4.4}, {\"DATE\": \"2016-04-01T00:00:00\", \"DROUGHT_LEVEL\": \"D1\", \"DROUGHT_AREA\": 6.9}, {\"DATE\": \"2016-05-01T00:00:00\", \"DROUGHT_LEVEL\": \"D1\", \"DROUGHT_AREA\": 5.5}, {\"DATE\": \"2016-06-01T00:00:00\", \"DROUGHT_LEVEL\": \"D1\", \"DROUGHT_AREA\": 6.3}, {\"DATE\": \"2016-07-01T00:00:00\", \"DROUGHT_LEVEL\": \"D1\", \"DROUGHT_AREA\": 13.1}, {\"DATE\": \"2016-08-01T00:00:00\", \"DROUGHT_LEVEL\": \"D1\", \"DROUGHT_AREA\": 11.5}, {\"DATE\": \"2016-09-01T00:00:00\", \"DROUGHT_LEVEL\": \"D1\", \"DROUGHT_AREA\": 2.7}, {\"DATE\": \"2016-10-01T00:00:00\", \"DROUGHT_LEVEL\": \"D1\", \"DROUGHT_AREA\": 17.1}, {\"DATE\": \"2016-11-01T00:00:00\", \"DROUGHT_LEVEL\": \"D1\", \"DROUGHT_AREA\": 8.1}, {\"DATE\": \"2016-12-01T00:00:00\", \"DROUGHT_LEVEL\": \"D1\", \"DROUGHT_AREA\": 0.6}, {\"DATE\": \"2017-01-01T00:00:00\", \"DROUGHT_LEVEL\": \"D1\", \"DROUGHT_AREA\": 0.0}, {\"DATE\": \"2017-02-01T00:00:00\", \"DROUGHT_LEVEL\": \"D1\", \"DROUGHT_AREA\": 0.0}, {\"DATE\": \"2017-03-01T00:00:00\", \"DROUGHT_LEVEL\": \"D1\", \"DROUGHT_AREA\": 0.0}, {\"DATE\": \"2017-04-01T00:00:00\", \"DROUGHT_LEVEL\": \"D1\", \"DROUGHT_AREA\": 0.0}, {\"DATE\": \"2017-05-01T00:00:00\", \"DROUGHT_LEVEL\": \"D1\", \"DROUGHT_AREA\": 0.0}, {\"DATE\": \"2017-06-01T00:00:00\", \"DROUGHT_LEVEL\": \"D1\", \"DROUGHT_AREA\": 0.0}, {\"DATE\": \"2017-07-01T00:00:00\", \"DROUGHT_LEVEL\": \"D1\", \"DROUGHT_AREA\": 0.0}, {\"DATE\": \"2017-08-01T00:00:00\", \"DROUGHT_LEVEL\": \"D1\", \"DROUGHT_AREA\": 0.0}, {\"DATE\": \"2017-09-01T00:00:00\", \"DROUGHT_LEVEL\": \"D1\", \"DROUGHT_AREA\": 0.0}, {\"DATE\": \"2017-10-01T00:00:00\", \"DROUGHT_LEVEL\": \"D1\", \"DROUGHT_AREA\": 5.7}, {\"DATE\": \"2017-11-01T00:00:00\", \"DROUGHT_LEVEL\": \"D1\", \"DROUGHT_AREA\": 42.4}, {\"DATE\": \"2017-12-01T00:00:00\", \"DROUGHT_LEVEL\": \"D1\", \"DROUGHT_AREA\": 60.5}, {\"DATE\": \"2018-01-01T00:00:00\", \"DROUGHT_LEVEL\": \"D1\", \"DROUGHT_AREA\": 71.1}, {\"DATE\": \"2018-02-01T00:00:00\", \"DROUGHT_LEVEL\": \"D1\", \"DROUGHT_AREA\": 91.7}, {\"DATE\": \"2018-03-01T00:00:00\", \"DROUGHT_LEVEL\": \"D1\", \"DROUGHT_AREA\": 66.9}, {\"DATE\": \"2018-04-01T00:00:00\", \"DROUGHT_LEVEL\": \"D1\", \"DROUGHT_AREA\": 61.1}, {\"DATE\": \"2018-05-01T00:00:00\", \"DROUGHT_LEVEL\": \"D1\", \"DROUGHT_AREA\": 67.5}, {\"DATE\": \"2018-06-01T00:00:00\", \"DROUGHT_LEVEL\": \"D1\", \"DROUGHT_AREA\": 68.4}, {\"DATE\": \"2018-07-01T00:00:00\", \"DROUGHT_LEVEL\": \"D1\", \"DROUGHT_AREA\": 54.0}, {\"DATE\": \"2018-08-01T00:00:00\", \"DROUGHT_LEVEL\": \"D1\", \"DROUGHT_AREA\": 53.1}, {\"DATE\": \"2018-09-01T00:00:00\", \"DROUGHT_LEVEL\": \"D1\", \"DROUGHT_AREA\": 20.9}, {\"DATE\": \"2018-10-01T00:00:00\", \"DROUGHT_LEVEL\": \"D1\", \"DROUGHT_AREA\": 21.3}, {\"DATE\": \"2018-11-01T00:00:00\", \"DROUGHT_LEVEL\": \"D1\", \"DROUGHT_AREA\": 7.8}, {\"DATE\": \"2018-12-01T00:00:00\", \"DROUGHT_LEVEL\": \"D1\", \"DROUGHT_AREA\": 16.2}, {\"DATE\": \"2019-01-01T00:00:00\", \"DROUGHT_LEVEL\": \"D1\", \"DROUGHT_AREA\": 5.8}, {\"DATE\": \"2019-02-01T00:00:00\", \"DROUGHT_LEVEL\": \"D1\", \"DROUGHT_AREA\": 0.0}, {\"DATE\": \"2019-03-01T00:00:00\", \"DROUGHT_LEVEL\": \"D1\", \"DROUGHT_AREA\": 0.4}, {\"DATE\": \"2019-04-01T00:00:00\", \"DROUGHT_LEVEL\": \"D1\", \"DROUGHT_AREA\": 0.1}, {\"DATE\": \"2019-05-01T00:00:00\", \"DROUGHT_LEVEL\": \"D1\", \"DROUGHT_AREA\": 0.0}, {\"DATE\": \"2019-06-01T00:00:00\", \"DROUGHT_LEVEL\": \"D1\", \"DROUGHT_AREA\": 0.0}, {\"DATE\": \"2019-07-01T00:00:00\", \"DROUGHT_LEVEL\": \"D1\", \"DROUGHT_AREA\": 0.0}, {\"DATE\": \"2019-08-01T00:00:00\", \"DROUGHT_LEVEL\": \"D1\", \"DROUGHT_AREA\": 0.0}, {\"DATE\": \"2019-09-01T00:00:00\", \"DROUGHT_LEVEL\": \"D1\", \"DROUGHT_AREA\": 0.0}, {\"DATE\": \"2019-10-01T00:00:00\", \"DROUGHT_LEVEL\": \"D1\", \"DROUGHT_AREA\": 0.0}, {\"DATE\": \"2019-11-01T00:00:00\", \"DROUGHT_LEVEL\": \"D1\", \"DROUGHT_AREA\": 2.7}, {\"DATE\": \"2019-12-01T00:00:00\", \"DROUGHT_LEVEL\": \"D1\", \"DROUGHT_AREA\": 1.9}, {\"DATE\": \"2020-01-01T00:00:00\", \"DROUGHT_LEVEL\": \"D1\", \"DROUGHT_AREA\": 3.9}, {\"DATE\": \"2020-02-01T00:00:00\", \"DROUGHT_LEVEL\": \"D1\", \"DROUGHT_AREA\": 59.1}, {\"DATE\": \"2020-03-01T00:00:00\", \"DROUGHT_LEVEL\": \"D1\", \"DROUGHT_AREA\": 48.8}, {\"DATE\": \"2020-04-01T00:00:00\", \"DROUGHT_LEVEL\": \"D1\", \"DROUGHT_AREA\": 46.8}, {\"DATE\": \"2020-05-01T00:00:00\", \"DROUGHT_LEVEL\": \"D1\", \"DROUGHT_AREA\": 45.9}, {\"DATE\": \"2020-06-01T00:00:00\", \"DROUGHT_LEVEL\": \"D1\", \"DROUGHT_AREA\": 48.4}, {\"DATE\": \"2020-07-01T00:00:00\", \"DROUGHT_LEVEL\": \"D1\", \"DROUGHT_AREA\": 43.0}, {\"DATE\": \"2020-08-01T00:00:00\", \"DROUGHT_LEVEL\": \"D1\", \"DROUGHT_AREA\": 33.5}, {\"DATE\": \"2020-09-01T00:00:00\", \"DROUGHT_LEVEL\": \"D1\", \"DROUGHT_AREA\": 51.5}, {\"DATE\": \"2020-10-01T00:00:00\", \"DROUGHT_LEVEL\": \"D1\", \"DROUGHT_AREA\": 50.8}, {\"DATE\": \"2020-11-01T00:00:00\", \"DROUGHT_LEVEL\": \"D1\", \"DROUGHT_AREA\": 36.3}, {\"DATE\": \"2020-12-01T00:00:00\", \"DROUGHT_LEVEL\": \"D1\", \"DROUGHT_AREA\": 72.7}, {\"DATE\": \"2021-01-01T00:00:00\", \"DROUGHT_LEVEL\": \"D1\", \"DROUGHT_AREA\": 75.0}, {\"DATE\": \"2021-02-01T00:00:00\", \"DROUGHT_LEVEL\": \"D1\", \"DROUGHT_AREA\": 92.6}, {\"DATE\": \"2021-03-01T00:00:00\", \"DROUGHT_LEVEL\": \"D1\", \"DROUGHT_AREA\": 97.8}, {\"DATE\": \"2021-04-01T00:00:00\", \"DROUGHT_LEVEL\": \"D1\", \"DROUGHT_AREA\": 98.6}, {\"DATE\": \"2021-05-01T00:00:00\", \"DROUGHT_LEVEL\": \"D1\", \"DROUGHT_AREA\": 98.2}, {\"DATE\": \"2021-06-01T00:00:00\", \"DROUGHT_LEVEL\": \"D1\", \"DROUGHT_AREA\": 97.5}, {\"DATE\": \"2021-07-01T00:00:00\", \"DROUGHT_LEVEL\": \"D1\", \"DROUGHT_AREA\": 91.5}, {\"DATE\": \"2021-08-01T00:00:00\", \"DROUGHT_LEVEL\": \"D1\", \"DROUGHT_AREA\": 88.4}, {\"DATE\": \"2021-09-01T00:00:00\", \"DROUGHT_LEVEL\": \"D1\", \"DROUGHT_AREA\": 76.6}, {\"DATE\": \"2021-10-01T00:00:00\", \"DROUGHT_LEVEL\": \"D1\", \"DROUGHT_AREA\": 55.2}, {\"DATE\": \"2021-11-01T00:00:00\", \"DROUGHT_LEVEL\": \"D1\", \"DROUGHT_AREA\": 54.6}, {\"DATE\": \"2021-12-01T00:00:00\", \"DROUGHT_LEVEL\": \"D1\", \"DROUGHT_AREA\": 3.2}, {\"DATE\": \"2022-01-01T00:00:00\", \"DROUGHT_LEVEL\": \"D1\", \"DROUGHT_AREA\": 13.6}, {\"DATE\": \"2001-01-01T00:00:00\", \"DROUGHT_LEVEL\": \"D2\", \"DROUGHT_AREA\": 15.1}, {\"DATE\": \"2001-02-01T00:00:00\", \"DROUGHT_LEVEL\": \"D2\", \"DROUGHT_AREA\": 13.9}, {\"DATE\": \"2001-03-01T00:00:00\", \"DROUGHT_LEVEL\": \"D2\", \"DROUGHT_AREA\": 16.7}, {\"DATE\": \"2001-04-01T00:00:00\", \"DROUGHT_LEVEL\": \"D2\", \"DROUGHT_AREA\": 14.0}, {\"DATE\": \"2001-05-01T00:00:00\", \"DROUGHT_LEVEL\": \"D2\", \"DROUGHT_AREA\": 18.8}, {\"DATE\": \"2001-06-01T00:00:00\", \"DROUGHT_LEVEL\": \"D2\", \"DROUGHT_AREA\": 18.6}, {\"DATE\": \"2001-07-01T00:00:00\", \"DROUGHT_LEVEL\": \"D2\", \"DROUGHT_AREA\": 22.8}, {\"DATE\": \"2001-08-01T00:00:00\", \"DROUGHT_LEVEL\": \"D2\", \"DROUGHT_AREA\": 18.3}, {\"DATE\": \"2001-09-01T00:00:00\", \"DROUGHT_LEVEL\": \"D2\", \"DROUGHT_AREA\": 10.9}, {\"DATE\": \"2001-10-01T00:00:00\", \"DROUGHT_LEVEL\": \"D2\", \"DROUGHT_AREA\": 8.6}, {\"DATE\": \"2001-11-01T00:00:00\", \"DROUGHT_LEVEL\": \"D2\", \"DROUGHT_AREA\": 2.9}, {\"DATE\": \"2001-12-01T00:00:00\", \"DROUGHT_LEVEL\": \"D2\", \"DROUGHT_AREA\": 8.0}, {\"DATE\": \"2002-01-01T00:00:00\", \"DROUGHT_LEVEL\": \"D2\", \"DROUGHT_AREA\": 19.2}, {\"DATE\": \"2002-02-01T00:00:00\", \"DROUGHT_LEVEL\": \"D2\", \"DROUGHT_AREA\": 29.7}, {\"DATE\": \"2002-03-01T00:00:00\", \"DROUGHT_LEVEL\": \"D2\", \"DROUGHT_AREA\": 35.6}, {\"DATE\": \"2002-04-01T00:00:00\", \"DROUGHT_LEVEL\": \"D2\", \"DROUGHT_AREA\": 39.9}, {\"DATE\": \"2002-05-01T00:00:00\", \"DROUGHT_LEVEL\": \"D2\", \"DROUGHT_AREA\": 42.0}, {\"DATE\": \"2002-06-01T00:00:00\", \"DROUGHT_LEVEL\": \"D2\", \"DROUGHT_AREA\": 41.2}, {\"DATE\": \"2002-07-01T00:00:00\", \"DROUGHT_LEVEL\": \"D2\", \"DROUGHT_AREA\": 40.5}, {\"DATE\": \"2002-08-01T00:00:00\", \"DROUGHT_LEVEL\": \"D2\", \"DROUGHT_AREA\": 45.4}, {\"DATE\": \"2002-09-01T00:00:00\", \"DROUGHT_LEVEL\": \"D2\", \"DROUGHT_AREA\": 77.2}, {\"DATE\": \"2002-10-01T00:00:00\", \"DROUGHT_LEVEL\": \"D2\", \"DROUGHT_AREA\": 90.2}, {\"DATE\": \"2002-11-01T00:00:00\", \"DROUGHT_LEVEL\": \"D2\", \"DROUGHT_AREA\": 37.6}, {\"DATE\": \"2002-12-01T00:00:00\", \"DROUGHT_LEVEL\": \"D2\", \"DROUGHT_AREA\": 8.9}, {\"DATE\": \"2003-01-01T00:00:00\", \"DROUGHT_LEVEL\": \"D2\", \"DROUGHT_AREA\": 16.3}, {\"DATE\": \"2003-02-01T00:00:00\", \"DROUGHT_LEVEL\": \"D2\", \"DROUGHT_AREA\": 2.2}, {\"DATE\": \"2003-03-01T00:00:00\", \"DROUGHT_LEVEL\": \"D2\", \"DROUGHT_AREA\": 0.3}, {\"DATE\": \"2003-04-01T00:00:00\", \"DROUGHT_LEVEL\": \"D2\", \"DROUGHT_AREA\": 0.0}, {\"DATE\": \"2003-05-01T00:00:00\", \"DROUGHT_LEVEL\": \"D2\", \"DROUGHT_AREA\": 0.0}, {\"DATE\": \"2003-06-01T00:00:00\", \"DROUGHT_LEVEL\": \"D2\", \"DROUGHT_AREA\": 0.0}, {\"DATE\": \"2003-07-01T00:00:00\", \"DROUGHT_LEVEL\": \"D2\", \"DROUGHT_AREA\": 0.0}, {\"DATE\": \"2003-08-01T00:00:00\", \"DROUGHT_LEVEL\": \"D2\", \"DROUGHT_AREA\": 0.0}, {\"DATE\": \"2003-09-01T00:00:00\", \"DROUGHT_LEVEL\": \"D2\", \"DROUGHT_AREA\": 0.0}, {\"DATE\": \"2003-10-01T00:00:00\", \"DROUGHT_LEVEL\": \"D2\", \"DROUGHT_AREA\": 0.0}, {\"DATE\": \"2003-11-01T00:00:00\", \"DROUGHT_LEVEL\": \"D2\", \"DROUGHT_AREA\": 0.0}, {\"DATE\": \"2003-12-01T00:00:00\", \"DROUGHT_LEVEL\": \"D2\", \"DROUGHT_AREA\": 0.5}, {\"DATE\": \"2004-01-01T00:00:00\", \"DROUGHT_LEVEL\": \"D2\", \"DROUGHT_AREA\": 3.3}, {\"DATE\": \"2004-02-01T00:00:00\", \"DROUGHT_LEVEL\": \"D2\", \"DROUGHT_AREA\": 0.0}, {\"DATE\": \"2004-03-01T00:00:00\", \"DROUGHT_LEVEL\": \"D2\", \"DROUGHT_AREA\": 0.0}, {\"DATE\": \"2004-04-01T00:00:00\", \"DROUGHT_LEVEL\": \"D2\", \"DROUGHT_AREA\": 0.2}, {\"DATE\": \"2004-05-01T00:00:00\", \"DROUGHT_LEVEL\": \"D2\", \"DROUGHT_AREA\": 1.2}, {\"DATE\": \"2004-06-01T00:00:00\", \"DROUGHT_LEVEL\": \"D2\", \"DROUGHT_AREA\": 0.9}, {\"DATE\": \"2004-07-01T00:00:00\", \"DROUGHT_LEVEL\": \"D2\", \"DROUGHT_AREA\": 0.1}, {\"DATE\": \"2004-08-01T00:00:00\", \"DROUGHT_LEVEL\": \"D2\", \"DROUGHT_AREA\": 0.5}, {\"DATE\": \"2004-09-01T00:00:00\", \"DROUGHT_LEVEL\": \"D2\", \"DROUGHT_AREA\": 1.9}, {\"DATE\": \"2004-10-01T00:00:00\", \"DROUGHT_LEVEL\": \"D2\", \"DROUGHT_AREA\": 0.0}, {\"DATE\": \"2004-11-01T00:00:00\", \"DROUGHT_LEVEL\": \"D2\", \"DROUGHT_AREA\": 5.2}, {\"DATE\": \"2004-12-01T00:00:00\", \"DROUGHT_LEVEL\": \"D2\", \"DROUGHT_AREA\": 0.0}, {\"DATE\": \"2005-01-01T00:00:00\", \"DROUGHT_LEVEL\": \"D2\", \"DROUGHT_AREA\": 0.0}, {\"DATE\": \"2005-02-01T00:00:00\", \"DROUGHT_LEVEL\": \"D2\", \"DROUGHT_AREA\": 0.6}, {\"DATE\": \"2005-03-01T00:00:00\", \"DROUGHT_LEVEL\": \"D2\", \"DROUGHT_AREA\": 0.0}, {\"DATE\": \"2005-04-01T00:00:00\", \"DROUGHT_LEVEL\": \"D2\", \"DROUGHT_AREA\": 0.0}, {\"DATE\": \"2005-05-01T00:00:00\", \"DROUGHT_LEVEL\": \"D2\", \"DROUGHT_AREA\": 0.0}, {\"DATE\": \"2005-06-01T00:00:00\", \"DROUGHT_LEVEL\": \"D2\", \"DROUGHT_AREA\": 0.0}, {\"DATE\": \"2005-07-01T00:00:00\", \"DROUGHT_LEVEL\": \"D2\", \"DROUGHT_AREA\": 0.0}, {\"DATE\": \"2005-08-01T00:00:00\", \"DROUGHT_LEVEL\": \"D2\", \"DROUGHT_AREA\": 0.0}, {\"DATE\": \"2005-09-01T00:00:00\", \"DROUGHT_LEVEL\": \"D2\", \"DROUGHT_AREA\": 0.0}, {\"DATE\": \"2005-10-01T00:00:00\", \"DROUGHT_LEVEL\": \"D2\", \"DROUGHT_AREA\": 0.0}, {\"DATE\": \"2005-11-01T00:00:00\", \"DROUGHT_LEVEL\": \"D2\", \"DROUGHT_AREA\": 0.0}, {\"DATE\": \"2005-12-01T00:00:00\", \"DROUGHT_LEVEL\": \"D2\", \"DROUGHT_AREA\": 0.2}, {\"DATE\": \"2006-01-01T00:00:00\", \"DROUGHT_LEVEL\": \"D2\", \"DROUGHT_AREA\": 1.6}, {\"DATE\": \"2006-02-01T00:00:00\", \"DROUGHT_LEVEL\": \"D2\", \"DROUGHT_AREA\": 1.8}, {\"DATE\": \"2006-03-01T00:00:00\", \"DROUGHT_LEVEL\": \"D2\", \"DROUGHT_AREA\": 0.9}, {\"DATE\": \"2006-04-01T00:00:00\", \"DROUGHT_LEVEL\": \"D2\", \"DROUGHT_AREA\": 1.1}, {\"DATE\": \"2006-05-01T00:00:00\", \"DROUGHT_LEVEL\": \"D2\", \"DROUGHT_AREA\": 5.9}, {\"DATE\": \"2006-06-01T00:00:00\", \"DROUGHT_LEVEL\": \"D2\", \"DROUGHT_AREA\": 6.4}, {\"DATE\": \"2006-07-01T00:00:00\", \"DROUGHT_LEVEL\": \"D2\", \"DROUGHT_AREA\": 14.9}, {\"DATE\": \"2006-08-01T00:00:00\", \"DROUGHT_LEVEL\": \"D2\", \"DROUGHT_AREA\": 13.6}, {\"DATE\": \"2006-09-01T00:00:00\", \"DROUGHT_LEVEL\": \"D2\", \"DROUGHT_AREA\": 10.4}, {\"DATE\": \"2006-10-01T00:00:00\", \"DROUGHT_LEVEL\": \"D2\", \"DROUGHT_AREA\": 5.7}, {\"DATE\": \"2006-11-01T00:00:00\", \"DROUGHT_LEVEL\": \"D2\", \"DROUGHT_AREA\": 4.7}, {\"DATE\": \"2006-12-01T00:00:00\", \"DROUGHT_LEVEL\": \"D2\", \"DROUGHT_AREA\": 9.7}, {\"DATE\": \"2007-01-01T00:00:00\", \"DROUGHT_LEVEL\": \"D2\", \"DROUGHT_AREA\": 53.9}, {\"DATE\": \"2007-02-01T00:00:00\", \"DROUGHT_LEVEL\": \"D2\", \"DROUGHT_AREA\": 40.6}, {\"DATE\": \"2007-03-01T00:00:00\", \"DROUGHT_LEVEL\": \"D2\", \"DROUGHT_AREA\": 63.7}, {\"DATE\": \"2007-04-01T00:00:00\", \"DROUGHT_LEVEL\": \"D2\", \"DROUGHT_AREA\": 61.4}, {\"DATE\": \"2007-05-01T00:00:00\", \"DROUGHT_LEVEL\": \"D2\", \"DROUGHT_AREA\": 67.5}, {\"DATE\": \"2007-06-01T00:00:00\", \"DROUGHT_LEVEL\": \"D2\", \"DROUGHT_AREA\": 64.3}, {\"DATE\": \"2007-07-01T00:00:00\", \"DROUGHT_LEVEL\": \"D2\", \"DROUGHT_AREA\": 58.9}, {\"DATE\": \"2007-08-01T00:00:00\", \"DROUGHT_LEVEL\": \"D2\", \"DROUGHT_AREA\": 56.1}, {\"DATE\": \"2007-09-01T00:00:00\", \"DROUGHT_LEVEL\": \"D2\", \"DROUGHT_AREA\": 40.0}, {\"DATE\": \"2007-10-01T00:00:00\", \"DROUGHT_LEVEL\": \"D2\", \"DROUGHT_AREA\": 18.9}, {\"DATE\": \"2007-11-01T00:00:00\", \"DROUGHT_LEVEL\": \"D2\", \"DROUGHT_AREA\": 60.5}, {\"DATE\": \"2007-12-01T00:00:00\", \"DROUGHT_LEVEL\": \"D2\", \"DROUGHT_AREA\": 8.5}, {\"DATE\": \"2008-01-01T00:00:00\", \"DROUGHT_LEVEL\": \"D2\", \"DROUGHT_AREA\": 0.3}, {\"DATE\": \"2008-02-01T00:00:00\", \"DROUGHT_LEVEL\": \"D2\", \"DROUGHT_AREA\": 0.0}, {\"DATE\": \"2008-03-01T00:00:00\", \"DROUGHT_LEVEL\": \"D2\", \"DROUGHT_AREA\": 1.2}, {\"DATE\": \"2008-04-01T00:00:00\", \"DROUGHT_LEVEL\": \"D2\", \"DROUGHT_AREA\": 2.0}, {\"DATE\": \"2008-05-01T00:00:00\", \"DROUGHT_LEVEL\": \"D2\", \"DROUGHT_AREA\": 2.7}, {\"DATE\": \"2008-06-01T00:00:00\", \"DROUGHT_LEVEL\": \"D2\", \"DROUGHT_AREA\": 2.9}, {\"DATE\": \"2008-07-01T00:00:00\", \"DROUGHT_LEVEL\": \"D2\", \"DROUGHT_AREA\": 3.8}, {\"DATE\": \"2008-08-01T00:00:00\", \"DROUGHT_LEVEL\": \"D2\", \"DROUGHT_AREA\": 2.3}, {\"DATE\": \"2008-09-01T00:00:00\", \"DROUGHT_LEVEL\": \"D2\", \"DROUGHT_AREA\": 4.0}, {\"DATE\": \"2008-10-01T00:00:00\", \"DROUGHT_LEVEL\": \"D2\", \"DROUGHT_AREA\": 79.8}, {\"DATE\": \"2008-11-01T00:00:00\", \"DROUGHT_LEVEL\": \"D2\", \"DROUGHT_AREA\": 69.2}, {\"DATE\": \"2008-12-01T00:00:00\", \"DROUGHT_LEVEL\": \"D2\", \"DROUGHT_AREA\": 21.4}, {\"DATE\": \"2009-01-01T00:00:00\", \"DROUGHT_LEVEL\": \"D2\", \"DROUGHT_AREA\": 26.8}, {\"DATE\": \"2009-02-01T00:00:00\", \"DROUGHT_LEVEL\": \"D2\", \"DROUGHT_AREA\": 11.0}, {\"DATE\": \"2009-03-01T00:00:00\", \"DROUGHT_LEVEL\": \"D2\", \"DROUGHT_AREA\": 8.2}, {\"DATE\": \"2009-04-01T00:00:00\", \"DROUGHT_LEVEL\": \"D2\", \"DROUGHT_AREA\": 11.3}, {\"DATE\": \"2009-05-01T00:00:00\", \"DROUGHT_LEVEL\": \"D2\", \"DROUGHT_AREA\": 8.3}, {\"DATE\": \"2009-06-01T00:00:00\", \"DROUGHT_LEVEL\": \"D2\", \"DROUGHT_AREA\": 2.5}, {\"DATE\": \"2009-07-01T00:00:00\", \"DROUGHT_LEVEL\": \"D2\", \"DROUGHT_AREA\": 1.4}, {\"DATE\": \"2009-08-01T00:00:00\", \"DROUGHT_LEVEL\": \"D2\", \"DROUGHT_AREA\": 1.7}, {\"DATE\": \"2009-09-01T00:00:00\", \"DROUGHT_LEVEL\": \"D2\", \"DROUGHT_AREA\": 16.0}, {\"DATE\": \"2009-10-01T00:00:00\", \"DROUGHT_LEVEL\": \"D2\", \"DROUGHT_AREA\": 10.1}, {\"DATE\": \"2009-11-01T00:00:00\", \"DROUGHT_LEVEL\": \"D2\", \"DROUGHT_AREA\": 36.9}, {\"DATE\": \"2009-12-01T00:00:00\", \"DROUGHT_LEVEL\": \"D2\", \"DROUGHT_AREA\": 11.9}, {\"DATE\": \"2010-01-01T00:00:00\", \"DROUGHT_LEVEL\": \"D2\", \"DROUGHT_AREA\": 0.0}, {\"DATE\": \"2010-02-01T00:00:00\", \"DROUGHT_LEVEL\": \"D2\", \"DROUGHT_AREA\": 0.1}, {\"DATE\": \"2010-03-01T00:00:00\", \"DROUGHT_LEVEL\": \"D2\", \"DROUGHT_AREA\": 2.3}, {\"DATE\": \"2010-04-01T00:00:00\", \"DROUGHT_LEVEL\": \"D2\", \"DROUGHT_AREA\": 0.1}, {\"DATE\": \"2010-05-01T00:00:00\", \"DROUGHT_LEVEL\": \"D2\", \"DROUGHT_AREA\": 0.1}, {\"DATE\": \"2010-06-01T00:00:00\", \"DROUGHT_LEVEL\": \"D2\", \"DROUGHT_AREA\": 0.0}, {\"DATE\": \"2010-07-01T00:00:00\", \"DROUGHT_LEVEL\": \"D2\", \"DROUGHT_AREA\": 0.0}, {\"DATE\": \"2010-08-01T00:00:00\", \"DROUGHT_LEVEL\": \"D2\", \"DROUGHT_AREA\": 0.0}, {\"DATE\": \"2010-09-01T00:00:00\", \"DROUGHT_LEVEL\": \"D2\", \"DROUGHT_AREA\": 0.0}, {\"DATE\": \"2010-10-01T00:00:00\", \"DROUGHT_LEVEL\": \"D2\", \"DROUGHT_AREA\": 0.0}, {\"DATE\": \"2010-11-01T00:00:00\", \"DROUGHT_LEVEL\": \"D2\", \"DROUGHT_AREA\": 2.6}, {\"DATE\": \"2010-12-01T00:00:00\", \"DROUGHT_LEVEL\": \"D2\", \"DROUGHT_AREA\": 0.0}, {\"DATE\": \"2011-01-01T00:00:00\", \"DROUGHT_LEVEL\": \"D2\", \"DROUGHT_AREA\": 0.0}, {\"DATE\": \"2011-02-01T00:00:00\", \"DROUGHT_LEVEL\": \"D2\", \"DROUGHT_AREA\": 0.0}, {\"DATE\": \"2011-03-01T00:00:00\", \"DROUGHT_LEVEL\": \"D2\", \"DROUGHT_AREA\": 0.0}, {\"DATE\": \"2011-04-01T00:00:00\", \"DROUGHT_LEVEL\": \"D2\", \"DROUGHT_AREA\": 0.0}, {\"DATE\": \"2011-05-01T00:00:00\", \"DROUGHT_LEVEL\": \"D2\", \"DROUGHT_AREA\": 0.0}, {\"DATE\": \"2011-06-01T00:00:00\", \"DROUGHT_LEVEL\": \"D2\", \"DROUGHT_AREA\": 0.0}, {\"DATE\": \"2011-07-01T00:00:00\", \"DROUGHT_LEVEL\": \"D2\", \"DROUGHT_AREA\": 0.0}, {\"DATE\": \"2011-08-01T00:00:00\", \"DROUGHT_LEVEL\": \"D2\", \"DROUGHT_AREA\": 0.0}, {\"DATE\": \"2011-09-01T00:00:00\", \"DROUGHT_LEVEL\": \"D2\", \"DROUGHT_AREA\": 0.0}, {\"DATE\": \"2011-10-01T00:00:00\", \"DROUGHT_LEVEL\": \"D2\", \"DROUGHT_AREA\": 0.0}, {\"DATE\": \"2011-11-01T00:00:00\", \"DROUGHT_LEVEL\": \"D2\", \"DROUGHT_AREA\": 0.0}, {\"DATE\": \"2011-12-01T00:00:00\", \"DROUGHT_LEVEL\": \"D2\", \"DROUGHT_AREA\": 4.4}, {\"DATE\": \"2012-01-01T00:00:00\", \"DROUGHT_LEVEL\": \"D2\", \"DROUGHT_AREA\": 6.1}, {\"DATE\": \"2012-02-01T00:00:00\", \"DROUGHT_LEVEL\": \"D2\", \"DROUGHT_AREA\": 43.4}, {\"DATE\": \"2012-03-01T00:00:00\", \"DROUGHT_LEVEL\": \"D2\", \"DROUGHT_AREA\": 22.2}, {\"DATE\": \"2012-04-01T00:00:00\", \"DROUGHT_LEVEL\": \"D2\", \"DROUGHT_AREA\": 10.5}, {\"DATE\": \"2012-05-01T00:00:00\", \"DROUGHT_LEVEL\": \"D2\", \"DROUGHT_AREA\": 16.5}, {\"DATE\": \"2012-06-01T00:00:00\", \"DROUGHT_LEVEL\": \"D2\", \"DROUGHT_AREA\": 18.8}, {\"DATE\": \"2012-07-01T00:00:00\", \"DROUGHT_LEVEL\": \"D2\", \"DROUGHT_AREA\": 17.7}, {\"DATE\": \"2012-08-01T00:00:00\", \"DROUGHT_LEVEL\": \"D2\", \"DROUGHT_AREA\": 12.3}, {\"DATE\": \"2012-09-01T00:00:00\", \"DROUGHT_LEVEL\": \"D2\", \"DROUGHT_AREA\": 1.4}, {\"DATE\": \"2012-10-01T00:00:00\", \"DROUGHT_LEVEL\": \"D2\", \"DROUGHT_AREA\": 4.5}, {\"DATE\": \"2012-11-01T00:00:00\", \"DROUGHT_LEVEL\": \"D2\", \"DROUGHT_AREA\": 1.8}, {\"DATE\": \"2012-12-01T00:00:00\", \"DROUGHT_LEVEL\": \"D2\", \"DROUGHT_AREA\": 0.9}, {\"DATE\": \"2013-01-01T00:00:00\", \"DROUGHT_LEVEL\": \"D2\", \"DROUGHT_AREA\": 4.9}, {\"DATE\": \"2013-02-01T00:00:00\", \"DROUGHT_LEVEL\": \"D2\", \"DROUGHT_AREA\": 10.9}, {\"DATE\": \"2013-03-01T00:00:00\", \"DROUGHT_LEVEL\": \"D2\", \"DROUGHT_AREA\": 17.5}, {\"DATE\": \"2013-04-01T00:00:00\", \"DROUGHT_LEVEL\": \"D2\", \"DROUGHT_AREA\": 28.4}, {\"DATE\": \"2013-05-01T00:00:00\", \"DROUGHT_LEVEL\": \"D2\", \"DROUGHT_AREA\": 35.2}, {\"DATE\": \"2013-06-01T00:00:00\", \"DROUGHT_LEVEL\": \"D2\", \"DROUGHT_AREA\": 34.9}, {\"DATE\": \"2013-07-01T00:00:00\", \"DROUGHT_LEVEL\": \"D2\", \"DROUGHT_AREA\": 28.6}, {\"DATE\": \"2013-08-01T00:00:00\", \"DROUGHT_LEVEL\": \"D2\", \"DROUGHT_AREA\": 25.8}, {\"DATE\": \"2013-09-01T00:00:00\", \"DROUGHT_LEVEL\": \"D2\", \"DROUGHT_AREA\": 67.0}, {\"DATE\": \"2013-10-01T00:00:00\", \"DROUGHT_LEVEL\": \"D2\", \"DROUGHT_AREA\": 66.4}, {\"DATE\": \"2013-11-01T00:00:00\", \"DROUGHT_LEVEL\": \"D2\", \"DROUGHT_AREA\": 53.9}, {\"DATE\": \"2013-12-01T00:00:00\", \"DROUGHT_LEVEL\": \"D2\", \"DROUGHT_AREA\": 62.7}, {\"DATE\": \"2014-01-01T00:00:00\", \"DROUGHT_LEVEL\": \"D2\", \"DROUGHT_AREA\": 70.3}, {\"DATE\": \"2014-02-01T00:00:00\", \"DROUGHT_LEVEL\": \"D2\", \"DROUGHT_AREA\": 63.8}, {\"DATE\": \"2014-03-01T00:00:00\", \"DROUGHT_LEVEL\": \"D2\", \"DROUGHT_AREA\": 50.5}, {\"DATE\": \"2014-04-01T00:00:00\", \"DROUGHT_LEVEL\": \"D2\", \"DROUGHT_AREA\": 55.1}, {\"DATE\": \"2014-05-01T00:00:00\", \"DROUGHT_LEVEL\": \"D2\", \"DROUGHT_AREA\": 66.2}, {\"DATE\": \"2014-06-01T00:00:00\", \"DROUGHT_LEVEL\": \"D2\", \"DROUGHT_AREA\": 78.2}, {\"DATE\": \"2014-07-01T00:00:00\", \"DROUGHT_LEVEL\": \"D2\", \"DROUGHT_AREA\": 62.2}, {\"DATE\": \"2014-08-01T00:00:00\", \"DROUGHT_LEVEL\": \"D2\", \"DROUGHT_AREA\": 46.9}, {\"DATE\": \"2014-09-01T00:00:00\", \"DROUGHT_LEVEL\": \"D2\", \"DROUGHT_AREA\": 10.8}, {\"DATE\": \"2014-10-01T00:00:00\", \"DROUGHT_LEVEL\": \"D2\", \"DROUGHT_AREA\": 2.6}, {\"DATE\": \"2014-11-01T00:00:00\", \"DROUGHT_LEVEL\": \"D2\", \"DROUGHT_AREA\": 7.7}, {\"DATE\": \"2014-12-01T00:00:00\", \"DROUGHT_LEVEL\": \"D2\", \"DROUGHT_AREA\": 0.2}, {\"DATE\": \"2015-01-01T00:00:00\", \"DROUGHT_LEVEL\": \"D2\", \"DROUGHT_AREA\": 3.8}, {\"DATE\": \"2015-02-01T00:00:00\", \"DROUGHT_LEVEL\": \"D2\", \"DROUGHT_AREA\": 4.6}, {\"DATE\": \"2015-03-01T00:00:00\", \"DROUGHT_LEVEL\": \"D2\", \"DROUGHT_AREA\": 11.8}, {\"DATE\": \"2015-04-01T00:00:00\", \"DROUGHT_LEVEL\": \"D2\", \"DROUGHT_AREA\": 15.7}, {\"DATE\": \"2015-05-01T00:00:00\", \"DROUGHT_LEVEL\": \"D2\", \"DROUGHT_AREA\": 14.4}, {\"DATE\": \"2015-06-01T00:00:00\", \"DROUGHT_LEVEL\": \"D2\", \"DROUGHT_AREA\": 13.0}, {\"DATE\": \"2015-07-01T00:00:00\", \"DROUGHT_LEVEL\": \"D2\", \"DROUGHT_AREA\": 8.1}, {\"DATE\": \"2015-08-01T00:00:00\", \"DROUGHT_LEVEL\": \"D2\", \"DROUGHT_AREA\": 6.4}, {\"DATE\": \"2015-09-01T00:00:00\", \"DROUGHT_LEVEL\": \"D2\", \"DROUGHT_AREA\": 47.7}, {\"DATE\": \"2015-10-01T00:00:00\", \"DROUGHT_LEVEL\": \"D2\", \"DROUGHT_AREA\": 19.7}, {\"DATE\": \"2015-11-01T00:00:00\", \"DROUGHT_LEVEL\": \"D2\", \"DROUGHT_AREA\": 28.9}, {\"DATE\": \"2015-12-01T00:00:00\", \"DROUGHT_LEVEL\": \"D2\", \"DROUGHT_AREA\": 1.4}, {\"DATE\": \"2016-01-01T00:00:00\", \"DROUGHT_LEVEL\": \"D2\", \"DROUGHT_AREA\": 0.0}, {\"DATE\": \"2016-02-01T00:00:00\", \"DROUGHT_LEVEL\": \"D2\", \"DROUGHT_AREA\": 0.0}, {\"DATE\": \"2016-03-01T00:00:00\", \"DROUGHT_LEVEL\": \"D2\", \"DROUGHT_AREA\": 0.0}, {\"DATE\": \"2016-04-01T00:00:00\", \"DROUGHT_LEVEL\": \"D2\", \"DROUGHT_AREA\": 0.1}, {\"DATE\": \"2016-05-01T00:00:00\", \"DROUGHT_LEVEL\": \"D2\", \"DROUGHT_AREA\": 0.4}, {\"DATE\": \"2016-06-01T00:00:00\", \"DROUGHT_LEVEL\": \"D2\", \"DROUGHT_AREA\": 1.4}, {\"DATE\": \"2016-07-01T00:00:00\", \"DROUGHT_LEVEL\": \"D2\", \"DROUGHT_AREA\": 1.2}, {\"DATE\": \"2016-08-01T00:00:00\", \"DROUGHT_LEVEL\": \"D2\", \"DROUGHT_AREA\": 0.2}, {\"DATE\": \"2016-09-01T00:00:00\", \"DROUGHT_LEVEL\": \"D2\", \"DROUGHT_AREA\": 0.0}, {\"DATE\": \"2016-10-01T00:00:00\", \"DROUGHT_LEVEL\": \"D2\", \"DROUGHT_AREA\": 3.8}, {\"DATE\": \"2016-11-01T00:00:00\", \"DROUGHT_LEVEL\": \"D2\", \"DROUGHT_AREA\": 0.4}, {\"DATE\": \"2016-12-01T00:00:00\", \"DROUGHT_LEVEL\": \"D2\", \"DROUGHT_AREA\": 0.0}, {\"DATE\": \"2017-01-01T00:00:00\", \"DROUGHT_LEVEL\": \"D2\", \"DROUGHT_AREA\": 0.0}, {\"DATE\": \"2017-02-01T00:00:00\", \"DROUGHT_LEVEL\": \"D2\", \"DROUGHT_AREA\": 0.0}, {\"DATE\": \"2017-03-01T00:00:00\", \"DROUGHT_LEVEL\": \"D2\", \"DROUGHT_AREA\": 0.0}, {\"DATE\": \"2017-04-01T00:00:00\", \"DROUGHT_LEVEL\": \"D2\", \"DROUGHT_AREA\": 0.0}, {\"DATE\": \"2017-05-01T00:00:00\", \"DROUGHT_LEVEL\": \"D2\", \"DROUGHT_AREA\": 0.0}, {\"DATE\": \"2017-06-01T00:00:00\", \"DROUGHT_LEVEL\": \"D2\", \"DROUGHT_AREA\": 0.0}, {\"DATE\": \"2017-07-01T00:00:00\", \"DROUGHT_LEVEL\": \"D2\", \"DROUGHT_AREA\": 0.0}, {\"DATE\": \"2017-08-01T00:00:00\", \"DROUGHT_LEVEL\": \"D2\", \"DROUGHT_AREA\": 0.0}, {\"DATE\": \"2017-09-01T00:00:00\", \"DROUGHT_LEVEL\": \"D2\", \"DROUGHT_AREA\": 0.0}, {\"DATE\": \"2017-10-01T00:00:00\", \"DROUGHT_LEVEL\": \"D2\", \"DROUGHT_AREA\": 3.0}, {\"DATE\": \"2017-11-01T00:00:00\", \"DROUGHT_LEVEL\": \"D2\", \"DROUGHT_AREA\": 28.7}, {\"DATE\": \"2017-12-01T00:00:00\", \"DROUGHT_LEVEL\": \"D2\", \"DROUGHT_AREA\": 41.1}, {\"DATE\": \"2018-01-01T00:00:00\", \"DROUGHT_LEVEL\": \"D2\", \"DROUGHT_AREA\": 31.6}, {\"DATE\": \"2018-02-01T00:00:00\", \"DROUGHT_LEVEL\": \"D2\", \"DROUGHT_AREA\": 68.5}, {\"DATE\": \"2018-03-01T00:00:00\", \"DROUGHT_LEVEL\": \"D2\", \"DROUGHT_AREA\": 23.9}, {\"DATE\": \"2018-04-01T00:00:00\", \"DROUGHT_LEVEL\": \"D2\", \"DROUGHT_AREA\": 22.5}, {\"DATE\": \"2018-05-01T00:00:00\", \"DROUGHT_LEVEL\": \"D2\", \"DROUGHT_AREA\": 26.2}, {\"DATE\": \"2018-06-01T00:00:00\", \"DROUGHT_LEVEL\": \"D2\", \"DROUGHT_AREA\": 34.0}, {\"DATE\": \"2018-07-01T00:00:00\", \"DROUGHT_LEVEL\": \"D2\", \"DROUGHT_AREA\": 21.4}, {\"DATE\": \"2018-08-01T00:00:00\", \"DROUGHT_LEVEL\": \"D2\", \"DROUGHT_AREA\": 19.1}, {\"DATE\": \"2018-09-01T00:00:00\", \"DROUGHT_LEVEL\": \"D2\", \"DROUGHT_AREA\": 4.8}, {\"DATE\": \"2018-10-01T00:00:00\", \"DROUGHT_LEVEL\": \"D2\", \"DROUGHT_AREA\": 5.3}, {\"DATE\": \"2018-11-01T00:00:00\", \"DROUGHT_LEVEL\": \"D2\", \"DROUGHT_AREA\": 2.1}, {\"DATE\": \"2018-12-01T00:00:00\", \"DROUGHT_LEVEL\": \"D2\", \"DROUGHT_AREA\": 4.4}, {\"DATE\": \"2019-01-01T00:00:00\", \"DROUGHT_LEVEL\": \"D2\", \"DROUGHT_AREA\": 1.6}, {\"DATE\": \"2019-02-01T00:00:00\", \"DROUGHT_LEVEL\": \"D2\", \"DROUGHT_AREA\": 0.0}, {\"DATE\": \"2019-03-01T00:00:00\", \"DROUGHT_LEVEL\": \"D2\", \"DROUGHT_AREA\": 0.0}, {\"DATE\": \"2019-04-01T00:00:00\", \"DROUGHT_LEVEL\": \"D2\", \"DROUGHT_AREA\": 0.0}, {\"DATE\": \"2019-05-01T00:00:00\", \"DROUGHT_LEVEL\": \"D2\", \"DROUGHT_AREA\": 0.0}, {\"DATE\": \"2019-06-01T00:00:00\", \"DROUGHT_LEVEL\": \"D2\", \"DROUGHT_AREA\": 0.0}, {\"DATE\": \"2019-07-01T00:00:00\", \"DROUGHT_LEVEL\": \"D2\", \"DROUGHT_AREA\": 0.0}, {\"DATE\": \"2019-08-01T00:00:00\", \"DROUGHT_LEVEL\": \"D2\", \"DROUGHT_AREA\": 0.0}, {\"DATE\": \"2019-09-01T00:00:00\", \"DROUGHT_LEVEL\": \"D2\", \"DROUGHT_AREA\": 0.0}, {\"DATE\": \"2019-10-01T00:00:00\", \"DROUGHT_LEVEL\": \"D2\", \"DROUGHT_AREA\": 0.0}, {\"DATE\": \"2019-11-01T00:00:00\", \"DROUGHT_LEVEL\": \"D2\", \"DROUGHT_AREA\": 0.3}, {\"DATE\": \"2019-12-01T00:00:00\", \"DROUGHT_LEVEL\": \"D2\", \"DROUGHT_AREA\": 0.2}, {\"DATE\": \"2020-01-01T00:00:00\", \"DROUGHT_LEVEL\": \"D2\", \"DROUGHT_AREA\": 0.0}, {\"DATE\": \"2020-02-01T00:00:00\", \"DROUGHT_LEVEL\": \"D2\", \"DROUGHT_AREA\": 38.0}, {\"DATE\": \"2020-03-01T00:00:00\", \"DROUGHT_LEVEL\": \"D2\", \"DROUGHT_AREA\": 32.3}, {\"DATE\": \"2020-04-01T00:00:00\", \"DROUGHT_LEVEL\": \"D2\", \"DROUGHT_AREA\": 26.6}, {\"DATE\": \"2020-05-01T00:00:00\", \"DROUGHT_LEVEL\": \"D2\", \"DROUGHT_AREA\": 22.7}, {\"DATE\": \"2020-06-01T00:00:00\", \"DROUGHT_LEVEL\": \"D2\", \"DROUGHT_AREA\": 25.5}, {\"DATE\": \"2020-07-01T00:00:00\", \"DROUGHT_LEVEL\": \"D2\", \"DROUGHT_AREA\": 17.3}, {\"DATE\": \"2020-08-01T00:00:00\", \"DROUGHT_LEVEL\": \"D2\", \"DROUGHT_AREA\": 8.6}, {\"DATE\": \"2020-09-01T00:00:00\", \"DROUGHT_LEVEL\": \"D2\", \"DROUGHT_AREA\": 30.3}, {\"DATE\": \"2020-10-01T00:00:00\", \"DROUGHT_LEVEL\": \"D2\", \"DROUGHT_AREA\": 36.6}, {\"DATE\": \"2020-11-01T00:00:00\", \"DROUGHT_LEVEL\": \"D2\", \"DROUGHT_AREA\": 21.8}, {\"DATE\": \"2020-12-01T00:00:00\", \"DROUGHT_LEVEL\": \"D2\", \"DROUGHT_AREA\": 40.9}, {\"DATE\": \"2021-01-01T00:00:00\", \"DROUGHT_LEVEL\": \"D2\", \"DROUGHT_AREA\": 42.8}, {\"DATE\": \"2021-02-01T00:00:00\", \"DROUGHT_LEVEL\": \"D2\", \"DROUGHT_AREA\": 73.3}, {\"DATE\": \"2021-03-01T00:00:00\", \"DROUGHT_LEVEL\": \"D2\", \"DROUGHT_AREA\": 79.3}, {\"DATE\": \"2021-04-01T00:00:00\", \"DROUGHT_LEVEL\": \"D2\", \"DROUGHT_AREA\": 86.2}, {\"DATE\": \"2021-05-01T00:00:00\", \"DROUGHT_LEVEL\": \"D2\", \"DROUGHT_AREA\": 91.0}, {\"DATE\": \"2021-06-01T00:00:00\", \"DROUGHT_LEVEL\": \"D2\", \"DROUGHT_AREA\": 88.5}, {\"DATE\": \"2021-07-01T00:00:00\", \"DROUGHT_LEVEL\": \"D2\", \"DROUGHT_AREA\": 69.1}, {\"DATE\": \"2021-08-01T00:00:00\", \"DROUGHT_LEVEL\": \"D2\", \"DROUGHT_AREA\": 60.2}, {\"DATE\": \"2021-09-01T00:00:00\", \"DROUGHT_LEVEL\": \"D2\", \"DROUGHT_AREA\": 46.2}, {\"DATE\": \"2021-10-01T00:00:00\", \"DROUGHT_LEVEL\": \"D2\", \"DROUGHT_AREA\": 27.3}, {\"DATE\": \"2021-11-01T00:00:00\", \"DROUGHT_LEVEL\": \"D2\", \"DROUGHT_AREA\": 23.1}, {\"DATE\": \"2021-12-01T00:00:00\", \"DROUGHT_LEVEL\": \"D2\", \"DROUGHT_AREA\": 0.1}, {\"DATE\": \"2022-01-01T00:00:00\", \"DROUGHT_LEVEL\": \"D2\", \"DROUGHT_AREA\": 1.3}, {\"DATE\": \"2001-01-01T00:00:00\", \"DROUGHT_LEVEL\": \"D3\", \"DROUGHT_AREA\": 6.7}, {\"DATE\": \"2001-02-01T00:00:00\", \"DROUGHT_LEVEL\": \"D3\", \"DROUGHT_AREA\": 9.2}, {\"DATE\": \"2001-03-01T00:00:00\", \"DROUGHT_LEVEL\": \"D3\", \"DROUGHT_AREA\": 9.0}, {\"DATE\": \"2001-04-01T00:00:00\", \"DROUGHT_LEVEL\": \"D3\", \"DROUGHT_AREA\": 5.6}, {\"DATE\": \"2001-05-01T00:00:00\", \"DROUGHT_LEVEL\": \"D3\", \"DROUGHT_AREA\": 10.3}, {\"DATE\": \"2001-06-01T00:00:00\", \"DROUGHT_LEVEL\": \"D3\", \"DROUGHT_AREA\": 12.1}, {\"DATE\": \"2001-07-01T00:00:00\", \"DROUGHT_LEVEL\": \"D3\", \"DROUGHT_AREA\": 16.4}, {\"DATE\": \"2001-08-01T00:00:00\", \"DROUGHT_LEVEL\": \"D3\", \"DROUGHT_AREA\": 12.7}, {\"DATE\": \"2001-09-01T00:00:00\", \"DROUGHT_LEVEL\": \"D3\", \"DROUGHT_AREA\": 7.1}, {\"DATE\": \"2001-10-01T00:00:00\", \"DROUGHT_LEVEL\": \"D3\", \"DROUGHT_AREA\": 5.2}, {\"DATE\": \"2001-11-01T00:00:00\", \"DROUGHT_LEVEL\": \"D3\", \"DROUGHT_AREA\": 0.2}, {\"DATE\": \"2001-12-01T00:00:00\", \"DROUGHT_LEVEL\": \"D3\", \"DROUGHT_AREA\": 4.3}, {\"DATE\": \"2002-01-01T00:00:00\", \"DROUGHT_LEVEL\": \"D3\", \"DROUGHT_AREA\": 13.7}, {\"DATE\": \"2002-02-01T00:00:00\", \"DROUGHT_LEVEL\": \"D3\", \"DROUGHT_AREA\": 20.6}, {\"DATE\": \"2002-03-01T00:00:00\", \"DROUGHT_LEVEL\": \"D3\", \"DROUGHT_AREA\": 26.7}, {\"DATE\": \"2002-04-01T00:00:00\", \"DROUGHT_LEVEL\": \"D3\", \"DROUGHT_AREA\": 35.5}, {\"DATE\": \"2002-05-01T00:00:00\", \"DROUGHT_LEVEL\": \"D3\", \"DROUGHT_AREA\": 36.9}, {\"DATE\": \"2002-06-01T00:00:00\", \"DROUGHT_LEVEL\": \"D3\", \"DROUGHT_AREA\": 35.4}, {\"DATE\": \"2002-07-01T00:00:00\", \"DROUGHT_LEVEL\": \"D3\", \"DROUGHT_AREA\": 35.8}, {\"DATE\": \"2002-08-01T00:00:00\", \"DROUGHT_LEVEL\": \"D3\", \"DROUGHT_AREA\": 42.8}, {\"DATE\": \"2002-09-01T00:00:00\", \"DROUGHT_LEVEL\": \"D3\", \"DROUGHT_AREA\": 50.9}, {\"DATE\": \"2002-10-01T00:00:00\", \"DROUGHT_LEVEL\": \"D3\", \"DROUGHT_AREA\": 69.6}, {\"DATE\": \"2002-11-01T00:00:00\", \"DROUGHT_LEVEL\": \"D3\", \"DROUGHT_AREA\": 18.1}, {\"DATE\": \"2002-12-01T00:00:00\", \"DROUGHT_LEVEL\": \"D3\", \"DROUGHT_AREA\": 4.2}, {\"DATE\": \"2003-01-01T00:00:00\", \"DROUGHT_LEVEL\": \"D3\", \"DROUGHT_AREA\": 8.9}, {\"DATE\": \"2003-02-01T00:00:00\", \"DROUGHT_LEVEL\": \"D3\", \"DROUGHT_AREA\": 1.5}, {\"DATE\": \"2003-03-01T00:00:00\", \"DROUGHT_LEVEL\": \"D3\", \"DROUGHT_AREA\": 0.0}, {\"DATE\": \"2003-04-01T00:00:00\", \"DROUGHT_LEVEL\": \"D3\", \"DROUGHT_AREA\": 0.0}, {\"DATE\": \"2003-05-01T00:00:00\", \"DROUGHT_LEVEL\": \"D3\", \"DROUGHT_AREA\": 0.0}, {\"DATE\": \"2003-06-01T00:00:00\", \"DROUGHT_LEVEL\": \"D3\", \"DROUGHT_AREA\": 0.0}, {\"DATE\": \"2003-07-01T00:00:00\", \"DROUGHT_LEVEL\": \"D3\", \"DROUGHT_AREA\": 0.0}, {\"DATE\": \"2003-08-01T00:00:00\", \"DROUGHT_LEVEL\": \"D3\", \"DROUGHT_AREA\": 0.0}, {\"DATE\": \"2003-09-01T00:00:00\", \"DROUGHT_LEVEL\": \"D3\", \"DROUGHT_AREA\": 0.0}, {\"DATE\": \"2003-10-01T00:00:00\", \"DROUGHT_LEVEL\": \"D3\", \"DROUGHT_AREA\": 0.0}, {\"DATE\": \"2003-11-01T00:00:00\", \"DROUGHT_LEVEL\": \"D3\", \"DROUGHT_AREA\": 0.0}, {\"DATE\": \"2003-12-01T00:00:00\", \"DROUGHT_LEVEL\": \"D3\", \"DROUGHT_AREA\": 0.0}, {\"DATE\": \"2004-01-01T00:00:00\", \"DROUGHT_LEVEL\": \"D3\", \"DROUGHT_AREA\": 0.7}, {\"DATE\": \"2004-02-01T00:00:00\", \"DROUGHT_LEVEL\": \"D3\", \"DROUGHT_AREA\": 0.0}, {\"DATE\": \"2004-03-01T00:00:00\", \"DROUGHT_LEVEL\": \"D3\", \"DROUGHT_AREA\": 0.0}, {\"DATE\": \"2004-04-01T00:00:00\", \"DROUGHT_LEVEL\": \"D3\", \"DROUGHT_AREA\": 0.0}, {\"DATE\": \"2004-05-01T00:00:00\", \"DROUGHT_LEVEL\": \"D3\", \"DROUGHT_AREA\": 0.0}, {\"DATE\": \"2004-06-01T00:00:00\", \"DROUGHT_LEVEL\": \"D3\", \"DROUGHT_AREA\": 0.0}, {\"DATE\": \"2004-07-01T00:00:00\", \"DROUGHT_LEVEL\": \"D3\", \"DROUGHT_AREA\": 0.0}, {\"DATE\": \"2004-08-01T00:00:00\", \"DROUGHT_LEVEL\": \"D3\", \"DROUGHT_AREA\": 0.0}, {\"DATE\": \"2004-09-01T00:00:00\", \"DROUGHT_LEVEL\": \"D3\", \"DROUGHT_AREA\": 0.0}, {\"DATE\": \"2004-10-01T00:00:00\", \"DROUGHT_LEVEL\": \"D3\", \"DROUGHT_AREA\": 0.0}, {\"DATE\": \"2004-11-01T00:00:00\", \"DROUGHT_LEVEL\": \"D3\", \"DROUGHT_AREA\": 1.2}, {\"DATE\": \"2004-12-01T00:00:00\", \"DROUGHT_LEVEL\": \"D3\", \"DROUGHT_AREA\": 0.0}, {\"DATE\": \"2005-01-01T00:00:00\", \"DROUGHT_LEVEL\": \"D3\", \"DROUGHT_AREA\": 0.0}, {\"DATE\": \"2005-02-01T00:00:00\", \"DROUGHT_LEVEL\": \"D3\", \"DROUGHT_AREA\": 0.0}, {\"DATE\": \"2005-03-01T00:00:00\", \"DROUGHT_LEVEL\": \"D3\", \"DROUGHT_AREA\": 0.0}, {\"DATE\": \"2005-04-01T00:00:00\", \"DROUGHT_LEVEL\": \"D3\", \"DROUGHT_AREA\": 0.0}, {\"DATE\": \"2005-05-01T00:00:00\", \"DROUGHT_LEVEL\": \"D3\", \"DROUGHT_AREA\": 0.0}, {\"DATE\": \"2005-06-01T00:00:00\", \"DROUGHT_LEVEL\": \"D3\", \"DROUGHT_AREA\": 0.0}, {\"DATE\": \"2005-07-01T00:00:00\", \"DROUGHT_LEVEL\": \"D3\", \"DROUGHT_AREA\": 0.0}, {\"DATE\": \"2005-08-01T00:00:00\", \"DROUGHT_LEVEL\": \"D3\", \"DROUGHT_AREA\": 0.0}, {\"DATE\": \"2005-09-01T00:00:00\", \"DROUGHT_LEVEL\": \"D3\", \"DROUGHT_AREA\": 0.0}, {\"DATE\": \"2005-10-01T00:00:00\", \"DROUGHT_LEVEL\": \"D3\", \"DROUGHT_AREA\": 0.0}, {\"DATE\": \"2005-11-01T00:00:00\", \"DROUGHT_LEVEL\": \"D3\", \"DROUGHT_AREA\": 0.0}, {\"DATE\": \"2005-12-01T00:00:00\", \"DROUGHT_LEVEL\": \"D3\", \"DROUGHT_AREA\": 0.0}, {\"DATE\": \"2006-01-01T00:00:00\", \"DROUGHT_LEVEL\": \"D3\", \"DROUGHT_AREA\": 0.7}, {\"DATE\": \"2006-02-01T00:00:00\", \"DROUGHT_LEVEL\": \"D3\", \"DROUGHT_AREA\": 0.6}, {\"DATE\": \"2006-03-01T00:00:00\", \"DROUGHT_LEVEL\": \"D3\", \"DROUGHT_AREA\": 0.0}, {\"DATE\": \"2006-04-01T00:00:00\", \"DROUGHT_LEVEL\": \"D3\", \"DROUGHT_AREA\": 0.0}, {\"DATE\": \"2006-05-01T00:00:00\", \"DROUGHT_LEVEL\": \"D3\", \"DROUGHT_AREA\": 2.1}, {\"DATE\": \"2006-06-01T00:00:00\", \"DROUGHT_LEVEL\": \"D3\", \"DROUGHT_AREA\": 2.1}, {\"DATE\": \"2006-07-01T00:00:00\", \"DROUGHT_LEVEL\": \"D3\", \"DROUGHT_AREA\": 12.7}, {\"DATE\": \"2006-08-01T00:00:00\", \"DROUGHT_LEVEL\": \"D3\", \"DROUGHT_AREA\": 11.3}, {\"DATE\": \"2006-09-01T00:00:00\", \"DROUGHT_LEVEL\": \"D3\", \"DROUGHT_AREA\": 7.5}, {\"DATE\": \"2006-10-01T00:00:00\", \"DROUGHT_LEVEL\": \"D3\", \"DROUGHT_AREA\": 1.7}, {\"DATE\": \"2006-11-01T00:00:00\", \"DROUGHT_LEVEL\": \"D3\", \"DROUGHT_AREA\": 1.4}, {\"DATE\": \"2006-12-01T00:00:00\", \"DROUGHT_LEVEL\": \"D3\", \"DROUGHT_AREA\": 6.1}, {\"DATE\": \"2007-01-01T00:00:00\", \"DROUGHT_LEVEL\": \"D3\", \"DROUGHT_AREA\": 30.3}, {\"DATE\": \"2007-02-01T00:00:00\", \"DROUGHT_LEVEL\": \"D3\", \"DROUGHT_AREA\": 22.3}, {\"DATE\": \"2007-03-01T00:00:00\", \"DROUGHT_LEVEL\": \"D3\", \"DROUGHT_AREA\": 40.0}, {\"DATE\": \"2007-04-01T00:00:00\", \"DROUGHT_LEVEL\": \"D3\", \"DROUGHT_AREA\": 43.4}, {\"DATE\": \"2007-05-01T00:00:00\", \"DROUGHT_LEVEL\": \"D3\", \"DROUGHT_AREA\": 46.6}, {\"DATE\": \"2007-06-01T00:00:00\", \"DROUGHT_LEVEL\": \"D3\", \"DROUGHT_AREA\": 45.7}, {\"DATE\": \"2007-07-01T00:00:00\", \"DROUGHT_LEVEL\": \"D3\", \"DROUGHT_AREA\": 46.8}, {\"DATE\": \"2007-08-01T00:00:00\", \"DROUGHT_LEVEL\": \"D3\", \"DROUGHT_AREA\": 37.0}, {\"DATE\": \"2007-09-01T00:00:00\", \"DROUGHT_LEVEL\": \"D3\", \"DROUGHT_AREA\": 14.9}, {\"DATE\": \"2007-10-01T00:00:00\", \"DROUGHT_LEVEL\": \"D3\", \"DROUGHT_AREA\": 9.4}, {\"DATE\": \"2007-11-01T00:00:00\", \"DROUGHT_LEVEL\": \"D3\", \"DROUGHT_AREA\": 37.1}, {\"DATE\": \"2007-12-01T00:00:00\", \"DROUGHT_LEVEL\": \"D3\", \"DROUGHT_AREA\": 2.9}, {\"DATE\": \"2008-01-01T00:00:00\", \"DROUGHT_LEVEL\": \"D3\", \"DROUGHT_AREA\": 0.0}, {\"DATE\": \"2008-02-01T00:00:00\", \"DROUGHT_LEVEL\": \"D3\", \"DROUGHT_AREA\": 0.0}, {\"DATE\": \"2008-03-01T00:00:00\", \"DROUGHT_LEVEL\": \"D3\", \"DROUGHT_AREA\": 0.4}, {\"DATE\": \"2008-04-01T00:00:00\", \"DROUGHT_LEVEL\": \"D3\", \"DROUGHT_AREA\": 1.2}, {\"DATE\": \"2008-05-01T00:00:00\", \"DROUGHT_LEVEL\": \"D3\", \"DROUGHT_AREA\": 1.6}, {\"DATE\": \"2008-06-01T00:00:00\", \"DROUGHT_LEVEL\": \"D3\", \"DROUGHT_AREA\": 1.6}, {\"DATE\": \"2008-07-01T00:00:00\", \"DROUGHT_LEVEL\": \"D3\", \"DROUGHT_AREA\": 1.7}, {\"DATE\": \"2008-08-01T00:00:00\", \"DROUGHT_LEVEL\": \"D3\", \"DROUGHT_AREA\": 0.9}, {\"DATE\": \"2008-09-01T00:00:00\", \"DROUGHT_LEVEL\": \"D3\", \"DROUGHT_AREA\": 1.0}, {\"DATE\": \"2008-10-01T00:00:00\", \"DROUGHT_LEVEL\": \"D3\", \"DROUGHT_AREA\": 56.3}, {\"DATE\": \"2008-11-01T00:00:00\", \"DROUGHT_LEVEL\": \"D3\", \"DROUGHT_AREA\": 56.8}, {\"DATE\": \"2008-12-01T00:00:00\", \"DROUGHT_LEVEL\": \"D3\", \"DROUGHT_AREA\": 5.6}, {\"DATE\": \"2009-01-01T00:00:00\", \"DROUGHT_LEVEL\": \"D3\", \"DROUGHT_AREA\": 15.6}, {\"DATE\": \"2009-02-01T00:00:00\", \"DROUGHT_LEVEL\": \"D3\", \"DROUGHT_AREA\": 5.0}, {\"DATE\": \"2009-03-01T00:00:00\", \"DROUGHT_LEVEL\": \"D3\", \"DROUGHT_AREA\": 1.7}, {\"DATE\": \"2009-04-01T00:00:00\", \"DROUGHT_LEVEL\": \"D3\", \"DROUGHT_AREA\": 2.8}, {\"DATE\": \"2009-05-01T00:00:00\", \"DROUGHT_LEVEL\": \"D3\", \"DROUGHT_AREA\": 1.9}, {\"DATE\": \"2009-06-01T00:00:00\", \"DROUGHT_LEVEL\": \"D3\", \"DROUGHT_AREA\": 0.0}, {\"DATE\": \"2009-07-01T00:00:00\", \"DROUGHT_LEVEL\": \"D3\", \"DROUGHT_AREA\": 0.0}, {\"DATE\": \"2009-08-01T00:00:00\", \"DROUGHT_LEVEL\": \"D3\", \"DROUGHT_AREA\": 0.0}, {\"DATE\": \"2009-09-01T00:00:00\", \"DROUGHT_LEVEL\": \"D3\", \"DROUGHT_AREA\": 7.5}, {\"DATE\": \"2009-10-01T00:00:00\", \"DROUGHT_LEVEL\": \"D3\", \"DROUGHT_AREA\": 5.4}, {\"DATE\": \"2009-11-01T00:00:00\", \"DROUGHT_LEVEL\": \"D3\", \"DROUGHT_AREA\": 33.0}, {\"DATE\": \"2009-12-01T00:00:00\", \"DROUGHT_LEVEL\": \"D3\", \"DROUGHT_AREA\": 5.8}, {\"DATE\": \"2010-01-01T00:00:00\", \"DROUGHT_LEVEL\": \"D3\", \"DROUGHT_AREA\": 0.0}, {\"DATE\": \"2010-02-01T00:00:00\", \"DROUGHT_LEVEL\": \"D3\", \"DROUGHT_AREA\": 0.0}, {\"DATE\": \"2010-03-01T00:00:00\", \"DROUGHT_LEVEL\": \"D3\", \"DROUGHT_AREA\": 0.3}, {\"DATE\": \"2010-04-01T00:00:00\", \"DROUGHT_LEVEL\": \"D3\", \"DROUGHT_AREA\": 0.0}, {\"DATE\": \"2010-05-01T00:00:00\", \"DROUGHT_LEVEL\": \"D3\", \"DROUGHT_AREA\": 0.0}, {\"DATE\": \"2010-06-01T00:00:00\", \"DROUGHT_LEVEL\": \"D3\", \"DROUGHT_AREA\": 0.0}, {\"DATE\": \"2010-07-01T00:00:00\", \"DROUGHT_LEVEL\": \"D3\", \"DROUGHT_AREA\": 0.0}, {\"DATE\": \"2010-08-01T00:00:00\", \"DROUGHT_LEVEL\": \"D3\", \"DROUGHT_AREA\": 0.0}, {\"DATE\": \"2010-09-01T00:00:00\", \"DROUGHT_LEVEL\": \"D3\", \"DROUGHT_AREA\": 0.0}, {\"DATE\": \"2010-10-01T00:00:00\", \"DROUGHT_LEVEL\": \"D3\", \"DROUGHT_AREA\": 0.0}, {\"DATE\": \"2010-11-01T00:00:00\", \"DROUGHT_LEVEL\": \"D3\", \"DROUGHT_AREA\": 0.8}, {\"DATE\": \"2010-12-01T00:00:00\", \"DROUGHT_LEVEL\": \"D3\", \"DROUGHT_AREA\": 0.0}, {\"DATE\": \"2011-01-01T00:00:00\", \"DROUGHT_LEVEL\": \"D3\", \"DROUGHT_AREA\": 0.0}, {\"DATE\": \"2011-02-01T00:00:00\", \"DROUGHT_LEVEL\": \"D3\", \"DROUGHT_AREA\": 0.0}, {\"DATE\": \"2011-03-01T00:00:00\", \"DROUGHT_LEVEL\": \"D3\", \"DROUGHT_AREA\": 0.0}, {\"DATE\": \"2011-04-01T00:00:00\", \"DROUGHT_LEVEL\": \"D3\", \"DROUGHT_AREA\": 0.0}, {\"DATE\": \"2011-05-01T00:00:00\", \"DROUGHT_LEVEL\": \"D3\", \"DROUGHT_AREA\": 0.0}, {\"DATE\": \"2011-06-01T00:00:00\", \"DROUGHT_LEVEL\": \"D3\", \"DROUGHT_AREA\": 0.0}, {\"DATE\": \"2011-07-01T00:00:00\", \"DROUGHT_LEVEL\": \"D3\", \"DROUGHT_AREA\": 0.0}, {\"DATE\": \"2011-08-01T00:00:00\", \"DROUGHT_LEVEL\": \"D3\", \"DROUGHT_AREA\": 0.0}, {\"DATE\": \"2011-09-01T00:00:00\", \"DROUGHT_LEVEL\": \"D3\", \"DROUGHT_AREA\": 0.0}, {\"DATE\": \"2011-10-01T00:00:00\", \"DROUGHT_LEVEL\": \"D3\", \"DROUGHT_AREA\": 0.0}, {\"DATE\": \"2011-11-01T00:00:00\", \"DROUGHT_LEVEL\": \"D3\", \"DROUGHT_AREA\": 0.0}, {\"DATE\": \"2011-12-01T00:00:00\", \"DROUGHT_LEVEL\": \"D3\", \"DROUGHT_AREA\": 0.9}, {\"DATE\": \"2012-01-01T00:00:00\", \"DROUGHT_LEVEL\": \"D3\", \"DROUGHT_AREA\": 2.2}, {\"DATE\": \"2012-02-01T00:00:00\", \"DROUGHT_LEVEL\": \"D3\", \"DROUGHT_AREA\": 17.9}, {\"DATE\": \"2012-03-01T00:00:00\", \"DROUGHT_LEVEL\": \"D3\", \"DROUGHT_AREA\": 7.5}, {\"DATE\": \"2012-04-01T00:00:00\", \"DROUGHT_LEVEL\": \"D3\", \"DROUGHT_AREA\": 3.8}, {\"DATE\": \"2012-05-01T00:00:00\", \"DROUGHT_LEVEL\": \"D3\", \"DROUGHT_AREA\": 8.3}, {\"DATE\": \"2012-06-01T00:00:00\", \"DROUGHT_LEVEL\": \"D3\", \"DROUGHT_AREA\": 9.2}, {\"DATE\": \"2012-07-01T00:00:00\", \"DROUGHT_LEVEL\": \"D3\", \"DROUGHT_AREA\": 9.0}, {\"DATE\": \"2012-08-01T00:00:00\", \"DROUGHT_LEVEL\": \"D3\", \"DROUGHT_AREA\": 3.2}, {\"DATE\": \"2012-09-01T00:00:00\", \"DROUGHT_LEVEL\": \"D3\", \"DROUGHT_AREA\": 0.0}, {\"DATE\": \"2012-10-01T00:00:00\", \"DROUGHT_LEVEL\": \"D3\", \"DROUGHT_AREA\": 1.8}, {\"DATE\": \"2012-11-01T00:00:00\", \"DROUGHT_LEVEL\": \"D3\", \"DROUGHT_AREA\": 0.6}, {\"DATE\": \"2012-12-01T00:00:00\", \"DROUGHT_LEVEL\": \"D3\", \"DROUGHT_AREA\": 0.3}, {\"DATE\": \"2013-01-01T00:00:00\", \"DROUGHT_LEVEL\": \"D3\", \"DROUGHT_AREA\": 2.7}, {\"DATE\": \"2013-02-01T00:00:00\", \"DROUGHT_LEVEL\": \"D3\", \"DROUGHT_AREA\": 5.6}, {\"DATE\": \"2013-03-01T00:00:00\", \"DROUGHT_LEVEL\": \"D3\", \"DROUGHT_AREA\": 8.0}, {\"DATE\": \"2013-04-01T00:00:00\", \"DROUGHT_LEVEL\": \"D3\", \"DROUGHT_AREA\": 14.0}, {\"DATE\": \"2013-05-01T00:00:00\", \"DROUGHT_LEVEL\": \"D3\", \"DROUGHT_AREA\": 22.3}, {\"DATE\": \"2013-06-01T00:00:00\", \"DROUGHT_LEVEL\": \"D3\", \"DROUGHT_AREA\": 20.7}, {\"DATE\": \"2013-07-01T00:00:00\", \"DROUGHT_LEVEL\": \"D3\", \"DROUGHT_AREA\": 12.9}, {\"DATE\": \"2013-08-01T00:00:00\", \"DROUGHT_LEVEL\": \"D3\", \"DROUGHT_AREA\": 7.3}, {\"DATE\": \"2013-09-01T00:00:00\", \"DROUGHT_LEVEL\": \"D3\", \"DROUGHT_AREA\": 55.5}, {\"DATE\": \"2013-10-01T00:00:00\", \"DROUGHT_LEVEL\": \"D3\", \"DROUGHT_AREA\": 51.8}, {\"DATE\": \"2013-11-01T00:00:00\", \"DROUGHT_LEVEL\": \"D3\", \"DROUGHT_AREA\": 33.1}, {\"DATE\": \"2013-12-01T00:00:00\", \"DROUGHT_LEVEL\": \"D3\", \"DROUGHT_AREA\": 55.3}, {\"DATE\": \"2014-01-01T00:00:00\", \"DROUGHT_LEVEL\": \"D3\", \"DROUGHT_AREA\": 61.7}, {\"DATE\": \"2014-02-01T00:00:00\", \"DROUGHT_LEVEL\": \"D3\", \"DROUGHT_AREA\": 46.1}, {\"DATE\": \"2014-03-01T00:00:00\", \"DROUGHT_LEVEL\": \"D3\", \"DROUGHT_AREA\": 31.3}, {\"DATE\": \"2014-04-01T00:00:00\", \"DROUGHT_LEVEL\": \"D3\", \"DROUGHT_AREA\": 31.7}, {\"DATE\": \"2014-05-01T00:00:00\", \"DROUGHT_LEVEL\": \"D3\", \"DROUGHT_AREA\": 43.8}, {\"DATE\": \"2014-06-01T00:00:00\", \"DROUGHT_LEVEL\": \"D3\", \"DROUGHT_AREA\": 48.5}, {\"DATE\": \"2014-07-01T00:00:00\", \"DROUGHT_LEVEL\": \"D3\", \"DROUGHT_AREA\": 37.2}, {\"DATE\": \"2014-08-01T00:00:00\", \"DROUGHT_LEVEL\": \"D3\", \"DROUGHT_AREA\": 23.5}, {\"DATE\": \"2014-09-01T00:00:00\", \"DROUGHT_LEVEL\": \"D3\", \"DROUGHT_AREA\": 2.7}, {\"DATE\": \"2014-10-01T00:00:00\", \"DROUGHT_LEVEL\": \"D3\", \"DROUGHT_AREA\": 0.9}, {\"DATE\": \"2014-11-01T00:00:00\", \"DROUGHT_LEVEL\": \"D3\", \"DROUGHT_AREA\": 1.8}, {\"DATE\": \"2014-12-01T00:00:00\", \"DROUGHT_LEVEL\": \"D3\", \"DROUGHT_AREA\": 0.0}, {\"DATE\": \"2015-01-01T00:00:00\", \"DROUGHT_LEVEL\": \"D3\", \"DROUGHT_AREA\": 1.0}, {\"DATE\": \"2015-02-01T00:00:00\", \"DROUGHT_LEVEL\": \"D3\", \"DROUGHT_AREA\": 1.9}, {\"DATE\": \"2015-03-01T00:00:00\", \"DROUGHT_LEVEL\": \"D3\", \"DROUGHT_AREA\": 7.2}, {\"DATE\": \"2015-04-01T00:00:00\", \"DROUGHT_LEVEL\": \"D3\", \"DROUGHT_AREA\": 8.0}, {\"DATE\": \"2015-05-01T00:00:00\", \"DROUGHT_LEVEL\": \"D3\", \"DROUGHT_AREA\": 6.2}, {\"DATE\": \"2015-06-01T00:00:00\", \"DROUGHT_LEVEL\": \"D3\", \"DROUGHT_AREA\": 5.5}, {\"DATE\": \"2015-07-01T00:00:00\", \"DROUGHT_LEVEL\": \"D3\", \"DROUGHT_AREA\": 2.6}, {\"DATE\": \"2015-08-01T00:00:00\", \"DROUGHT_LEVEL\": \"D3\", \"DROUGHT_AREA\": 2.4}, {\"DATE\": \"2015-09-01T00:00:00\", \"DROUGHT_LEVEL\": \"D3\", \"DROUGHT_AREA\": 38.8}, {\"DATE\": \"2015-10-01T00:00:00\", \"DROUGHT_LEVEL\": \"D3\", \"DROUGHT_AREA\": 7.2}, {\"DATE\": \"2015-11-01T00:00:00\", \"DROUGHT_LEVEL\": \"D3\", \"DROUGHT_AREA\": 21.6}, {\"DATE\": \"2015-12-01T00:00:00\", \"DROUGHT_LEVEL\": \"D3\", \"DROUGHT_AREA\": 0.5}, {\"DATE\": \"2016-01-01T00:00:00\", \"DROUGHT_LEVEL\": \"D3\", \"DROUGHT_AREA\": 0.0}, {\"DATE\": \"2016-02-01T00:00:00\", \"DROUGHT_LEVEL\": \"D3\", \"DROUGHT_AREA\": 0.0}, {\"DATE\": \"2016-03-01T00:00:00\", \"DROUGHT_LEVEL\": \"D3\", \"DROUGHT_AREA\": 0.0}, {\"DATE\": \"2016-04-01T00:00:00\", \"DROUGHT_LEVEL\": \"D3\", \"DROUGHT_AREA\": 0.0}, {\"DATE\": \"2016-05-01T00:00:00\", \"DROUGHT_LEVEL\": \"D3\", \"DROUGHT_AREA\": 0.0}, {\"DATE\": \"2016-06-01T00:00:00\", \"DROUGHT_LEVEL\": \"D3\", \"DROUGHT_AREA\": 0.1}, {\"DATE\": \"2016-07-01T00:00:00\", \"DROUGHT_LEVEL\": \"D3\", \"DROUGHT_AREA\": 0.1}, {\"DATE\": \"2016-08-01T00:00:00\", \"DROUGHT_LEVEL\": \"D3\", \"DROUGHT_AREA\": 0.0}, {\"DATE\": \"2016-09-01T00:00:00\", \"DROUGHT_LEVEL\": \"D3\", \"DROUGHT_AREA\": 0.0}, {\"DATE\": \"2016-10-01T00:00:00\", \"DROUGHT_LEVEL\": \"D3\", \"DROUGHT_AREA\": 0.3}, {\"DATE\": \"2016-11-01T00:00:00\", \"DROUGHT_LEVEL\": \"D3\", \"DROUGHT_AREA\": 0.1}, {\"DATE\": \"2016-12-01T00:00:00\", \"DROUGHT_LEVEL\": \"D3\", \"DROUGHT_AREA\": 0.0}, {\"DATE\": \"2017-01-01T00:00:00\", \"DROUGHT_LEVEL\": \"D3\", \"DROUGHT_AREA\": 0.0}, {\"DATE\": \"2017-02-01T00:00:00\", \"DROUGHT_LEVEL\": \"D3\", \"DROUGHT_AREA\": 0.0}, {\"DATE\": \"2017-03-01T00:00:00\", \"DROUGHT_LEVEL\": \"D3\", \"DROUGHT_AREA\": 0.0}, {\"DATE\": \"2017-04-01T00:00:00\", \"DROUGHT_LEVEL\": \"D3\", \"DROUGHT_AREA\": 0.0}, {\"DATE\": \"2017-05-01T00:00:00\", \"DROUGHT_LEVEL\": \"D3\", \"DROUGHT_AREA\": 0.0}, {\"DATE\": \"2017-06-01T00:00:00\", \"DROUGHT_LEVEL\": \"D3\", \"DROUGHT_AREA\": 0.0}, {\"DATE\": \"2017-07-01T00:00:00\", \"DROUGHT_LEVEL\": \"D3\", \"DROUGHT_AREA\": 0.0}, {\"DATE\": \"2017-08-01T00:00:00\", \"DROUGHT_LEVEL\": \"D3\", \"DROUGHT_AREA\": 0.0}, {\"DATE\": \"2017-09-01T00:00:00\", \"DROUGHT_LEVEL\": \"D3\", \"DROUGHT_AREA\": 0.0}, {\"DATE\": \"2017-10-01T00:00:00\", \"DROUGHT_LEVEL\": \"D3\", \"DROUGHT_AREA\": 1.7}, {\"DATE\": \"2017-11-01T00:00:00\", \"DROUGHT_LEVEL\": \"D3\", \"DROUGHT_AREA\": 21.6}, {\"DATE\": \"2017-12-01T00:00:00\", \"DROUGHT_LEVEL\": \"D3\", \"DROUGHT_AREA\": 30.9}, {\"DATE\": \"2018-01-01T00:00:00\", \"DROUGHT_LEVEL\": \"D3\", \"DROUGHT_AREA\": 14.6}, {\"DATE\": \"2018-02-01T00:00:00\", \"DROUGHT_LEVEL\": \"D3\", \"DROUGHT_AREA\": 46.8}, {\"DATE\": \"2018-03-01T00:00:00\", \"DROUGHT_LEVEL\": \"D3\", \"DROUGHT_AREA\": 9.9}, {\"DATE\": \"2018-04-01T00:00:00\", \"DROUGHT_LEVEL\": \"D3\", \"DROUGHT_AREA\": 9.3}, {\"DATE\": \"2018-05-01T00:00:00\", \"DROUGHT_LEVEL\": \"D3\", \"DROUGHT_AREA\": 11.8}, {\"DATE\": \"2018-06-01T00:00:00\", \"DROUGHT_LEVEL\": \"D3\", \"DROUGHT_AREA\": 17.8}, {\"DATE\": \"2018-07-01T00:00:00\", \"DROUGHT_LEVEL\": \"D3\", \"DROUGHT_AREA\": 11.1}, {\"DATE\": \"2018-08-01T00:00:00\", \"DROUGHT_LEVEL\": \"D3\", \"DROUGHT_AREA\": 7.4}, {\"DATE\": \"2018-09-01T00:00:00\", \"DROUGHT_LEVEL\": \"D3\", \"DROUGHT_AREA\": 1.8}, {\"DATE\": \"2018-10-01T00:00:00\", \"DROUGHT_LEVEL\": \"D3\", \"DROUGHT_AREA\": 2.4}, {\"DATE\": \"2018-11-01T00:00:00\", \"DROUGHT_LEVEL\": \"D3\", \"DROUGHT_AREA\": 0.5}, {\"DATE\": \"2018-12-01T00:00:00\", \"DROUGHT_LEVEL\": \"D3\", \"DROUGHT_AREA\": 1.9}, {\"DATE\": \"2019-01-01T00:00:00\", \"DROUGHT_LEVEL\": \"D3\", \"DROUGHT_AREA\": 0.7}, {\"DATE\": \"2019-02-01T00:00:00\", \"DROUGHT_LEVEL\": \"D3\", \"DROUGHT_AREA\": 0.0}, {\"DATE\": \"2019-03-01T00:00:00\", \"DROUGHT_LEVEL\": \"D3\", \"DROUGHT_AREA\": 0.0}, {\"DATE\": \"2019-04-01T00:00:00\", \"DROUGHT_LEVEL\": \"D3\", \"DROUGHT_AREA\": 0.0}, {\"DATE\": \"2019-05-01T00:00:00\", \"DROUGHT_LEVEL\": \"D3\", \"DROUGHT_AREA\": 0.0}, {\"DATE\": \"2019-06-01T00:00:00\", \"DROUGHT_LEVEL\": \"D3\", \"DROUGHT_AREA\": 0.0}, {\"DATE\": \"2019-07-01T00:00:00\", \"DROUGHT_LEVEL\": \"D3\", \"DROUGHT_AREA\": 0.0}, {\"DATE\": \"2019-08-01T00:00:00\", \"DROUGHT_LEVEL\": \"D3\", \"DROUGHT_AREA\": 0.0}, {\"DATE\": \"2019-09-01T00:00:00\", \"DROUGHT_LEVEL\": \"D3\", \"DROUGHT_AREA\": 0.0}, {\"DATE\": \"2019-10-01T00:00:00\", \"DROUGHT_LEVEL\": \"D3\", \"DROUGHT_AREA\": 0.0}, {\"DATE\": \"2019-11-01T00:00:00\", \"DROUGHT_LEVEL\": \"D3\", \"DROUGHT_AREA\": 0.0}, {\"DATE\": \"2019-12-01T00:00:00\", \"DROUGHT_LEVEL\": \"D3\", \"DROUGHT_AREA\": 0.0}, {\"DATE\": \"2020-01-01T00:00:00\", \"DROUGHT_LEVEL\": \"D3\", \"DROUGHT_AREA\": 0.0}, {\"DATE\": \"2020-02-01T00:00:00\", \"DROUGHT_LEVEL\": \"D3\", \"DROUGHT_AREA\": 19.9}, {\"DATE\": \"2020-03-01T00:00:00\", \"DROUGHT_LEVEL\": \"D3\", \"DROUGHT_AREA\": 18.0}, {\"DATE\": \"2020-04-01T00:00:00\", \"DROUGHT_LEVEL\": \"D3\", \"DROUGHT_AREA\": 14.1}, {\"DATE\": \"2020-05-01T00:00:00\", \"DROUGHT_LEVEL\": \"D3\", \"DROUGHT_AREA\": 10.9}, {\"DATE\": \"2020-06-01T00:00:00\", \"DROUGHT_LEVEL\": \"D3\", \"DROUGHT_AREA\": 12.5}, {\"DATE\": \"2020-07-01T00:00:00\", \"DROUGHT_LEVEL\": \"D3\", \"DROUGHT_AREA\": 5.7}, {\"DATE\": \"2020-08-01T00:00:00\", \"DROUGHT_LEVEL\": \"D3\", \"DROUGHT_AREA\": 1.3}, {\"DATE\": \"2020-09-01T00:00:00\", \"DROUGHT_LEVEL\": \"D3\", \"DROUGHT_AREA\": 15.2}, {\"DATE\": \"2020-10-01T00:00:00\", \"DROUGHT_LEVEL\": \"D3\", \"DROUGHT_AREA\": 27.6}, {\"DATE\": \"2020-11-01T00:00:00\", \"DROUGHT_LEVEL\": \"D3\", \"DROUGHT_AREA\": 12.0}, {\"DATE\": \"2020-12-01T00:00:00\", \"DROUGHT_LEVEL\": \"D3\", \"DROUGHT_AREA\": 24.1}, {\"DATE\": \"2021-01-01T00:00:00\", \"DROUGHT_LEVEL\": \"D3\", \"DROUGHT_AREA\": 27.2}, {\"DATE\": \"2021-02-01T00:00:00\", \"DROUGHT_LEVEL\": \"D3\", \"DROUGHT_AREA\": 54.6}, {\"DATE\": \"2021-03-01T00:00:00\", \"DROUGHT_LEVEL\": \"D3\", \"DROUGHT_AREA\": 60.6}, {\"DATE\": \"2021-04-01T00:00:00\", \"DROUGHT_LEVEL\": \"D3\", \"DROUGHT_AREA\": 69.6}, {\"DATE\": \"2021-05-01T00:00:00\", \"DROUGHT_LEVEL\": \"D3\", \"DROUGHT_AREA\": 77.7}, {\"DATE\": \"2021-06-01T00:00:00\", \"DROUGHT_LEVEL\": \"D3\", \"DROUGHT_AREA\": 72.4}, {\"DATE\": \"2021-07-01T00:00:00\", \"DROUGHT_LEVEL\": \"D3\", \"DROUGHT_AREA\": 47.8}, {\"DATE\": \"2021-08-01T00:00:00\", \"DROUGHT_LEVEL\": \"D3\", \"DROUGHT_AREA\": 41.4}, {\"DATE\": \"2021-09-01T00:00:00\", \"DROUGHT_LEVEL\": \"D3\", \"DROUGHT_AREA\": 26.7}, {\"DATE\": \"2021-10-01T00:00:00\", \"DROUGHT_LEVEL\": \"D3\", \"DROUGHT_AREA\": 9.3}, {\"DATE\": \"2021-11-01T00:00:00\", \"DROUGHT_LEVEL\": \"D3\", \"DROUGHT_AREA\": 7.4}, {\"DATE\": \"2021-12-01T00:00:00\", \"DROUGHT_LEVEL\": \"D3\", \"DROUGHT_AREA\": 0.0}, {\"DATE\": \"2022-01-01T00:00:00\", \"DROUGHT_LEVEL\": \"D3\", \"DROUGHT_AREA\": 0.0}, {\"DATE\": \"2001-01-01T00:00:00\", \"DROUGHT_LEVEL\": \"D4\", \"DROUGHT_AREA\": 1.4}, {\"DATE\": \"2001-02-01T00:00:00\", \"DROUGHT_LEVEL\": \"D4\", \"DROUGHT_AREA\": 3.7}, {\"DATE\": \"2001-03-01T00:00:00\", \"DROUGHT_LEVEL\": \"D4\", \"DROUGHT_AREA\": 3.4}, {\"DATE\": \"2001-04-01T00:00:00\", \"DROUGHT_LEVEL\": \"D4\", \"DROUGHT_AREA\": 2.6}, {\"DATE\": \"2001-05-01T00:00:00\", \"DROUGHT_LEVEL\": \"D4\", \"DROUGHT_AREA\": 3.3}, {\"DATE\": \"2001-06-01T00:00:00\", \"DROUGHT_LEVEL\": \"D4\", \"DROUGHT_AREA\": 3.4}, {\"DATE\": \"2001-07-01T00:00:00\", \"DROUGHT_LEVEL\": \"D4\", \"DROUGHT_AREA\": 6.9}, {\"DATE\": \"2001-08-01T00:00:00\", \"DROUGHT_LEVEL\": \"D4\", \"DROUGHT_AREA\": 6.2}, {\"DATE\": \"2001-09-01T00:00:00\", \"DROUGHT_LEVEL\": \"D4\", \"DROUGHT_AREA\": 2.7}, {\"DATE\": \"2001-10-01T00:00:00\", \"DROUGHT_LEVEL\": \"D4\", \"DROUGHT_AREA\": 2.1}, {\"DATE\": \"2001-11-01T00:00:00\", \"DROUGHT_LEVEL\": \"D4\", \"DROUGHT_AREA\": 0.0}, {\"DATE\": \"2001-12-01T00:00:00\", \"DROUGHT_LEVEL\": \"D4\", \"DROUGHT_AREA\": 1.6}, {\"DATE\": \"2002-01-01T00:00:00\", \"DROUGHT_LEVEL\": \"D4\", \"DROUGHT_AREA\": 4.9}, {\"DATE\": \"2002-02-01T00:00:00\", \"DROUGHT_LEVEL\": \"D4\", \"DROUGHT_AREA\": 12.9}, {\"DATE\": \"2002-03-01T00:00:00\", \"DROUGHT_LEVEL\": \"D4\", \"DROUGHT_AREA\": 15.3}, {\"DATE\": \"2002-04-01T00:00:00\", \"DROUGHT_LEVEL\": \"D4\", \"DROUGHT_AREA\": 24.9}, {\"DATE\": \"2002-05-01T00:00:00\", \"DROUGHT_LEVEL\": \"D4\", \"DROUGHT_AREA\": 27.5}, {\"DATE\": \"2002-06-01T00:00:00\", \"DROUGHT_LEVEL\": \"D4\", \"DROUGHT_AREA\": 25.7}, {\"DATE\": \"2002-07-01T00:00:00\", \"DROUGHT_LEVEL\": \"D4\", \"DROUGHT_AREA\": 26.2}, {\"DATE\": \"2002-08-01T00:00:00\", \"DROUGHT_LEVEL\": \"D4\", \"DROUGHT_AREA\": 37.0}, {\"DATE\": \"2002-09-01T00:00:00\", \"DROUGHT_LEVEL\": \"D4\", \"DROUGHT_AREA\": 35.3}, {\"DATE\": \"2002-10-01T00:00:00\", \"DROUGHT_LEVEL\": \"D4\", \"DROUGHT_AREA\": 38.8}, {\"DATE\": \"2002-11-01T00:00:00\", \"DROUGHT_LEVEL\": \"D4\", \"DROUGHT_AREA\": 4.3}, {\"DATE\": \"2002-12-01T00:00:00\", \"DROUGHT_LEVEL\": \"D4\", \"DROUGHT_AREA\": 1.6}, {\"DATE\": \"2003-01-01T00:00:00\", \"DROUGHT_LEVEL\": \"D4\", \"DROUGHT_AREA\": 3.6}, {\"DATE\": \"2003-02-01T00:00:00\", \"DROUGHT_LEVEL\": \"D4\", \"DROUGHT_AREA\": 0.3}, {\"DATE\": \"2003-03-01T00:00:00\", \"DROUGHT_LEVEL\": \"D4\", \"DROUGHT_AREA\": 0.0}, {\"DATE\": \"2003-04-01T00:00:00\", \"DROUGHT_LEVEL\": \"D4\", \"DROUGHT_AREA\": 0.0}, {\"DATE\": \"2003-05-01T00:00:00\", \"DROUGHT_LEVEL\": \"D4\", \"DROUGHT_AREA\": 0.0}, {\"DATE\": \"2003-06-01T00:00:00\", \"DROUGHT_LEVEL\": \"D4\", \"DROUGHT_AREA\": 0.0}, {\"DATE\": \"2003-07-01T00:00:00\", \"DROUGHT_LEVEL\": \"D4\", \"DROUGHT_AREA\": 0.0}, {\"DATE\": \"2003-08-01T00:00:00\", \"DROUGHT_LEVEL\": \"D4\", \"DROUGHT_AREA\": 0.0}, {\"DATE\": \"2003-09-01T00:00:00\", \"DROUGHT_LEVEL\": \"D4\", \"DROUGHT_AREA\": 0.0}, {\"DATE\": \"2003-10-01T00:00:00\", \"DROUGHT_LEVEL\": \"D4\", \"DROUGHT_AREA\": 0.0}, {\"DATE\": \"2003-11-01T00:00:00\", \"DROUGHT_LEVEL\": \"D4\", \"DROUGHT_AREA\": 0.0}, {\"DATE\": \"2003-12-01T00:00:00\", \"DROUGHT_LEVEL\": \"D4\", \"DROUGHT_AREA\": 0.0}, {\"DATE\": \"2004-01-01T00:00:00\", \"DROUGHT_LEVEL\": \"D4\", \"DROUGHT_AREA\": 0.0}, {\"DATE\": \"2004-02-01T00:00:00\", \"DROUGHT_LEVEL\": \"D4\", \"DROUGHT_AREA\": 0.0}, {\"DATE\": \"2004-03-01T00:00:00\", \"DROUGHT_LEVEL\": \"D4\", \"DROUGHT_AREA\": 0.0}, {\"DATE\": \"2004-04-01T00:00:00\", \"DROUGHT_LEVEL\": \"D4\", \"DROUGHT_AREA\": 0.0}, {\"DATE\": \"2004-05-01T00:00:00\", \"DROUGHT_LEVEL\": \"D4\", \"DROUGHT_AREA\": 0.0}, {\"DATE\": \"2004-06-01T00:00:00\", \"DROUGHT_LEVEL\": \"D4\", \"DROUGHT_AREA\": 0.0}, {\"DATE\": \"2004-07-01T00:00:00\", \"DROUGHT_LEVEL\": \"D4\", \"DROUGHT_AREA\": 0.0}, {\"DATE\": \"2004-08-01T00:00:00\", \"DROUGHT_LEVEL\": \"D4\", \"DROUGHT_AREA\": 0.0}, {\"DATE\": \"2004-09-01T00:00:00\", \"DROUGHT_LEVEL\": \"D4\", \"DROUGHT_AREA\": 0.0}, {\"DATE\": \"2004-10-01T00:00:00\", \"DROUGHT_LEVEL\": \"D4\", \"DROUGHT_AREA\": 0.0}, {\"DATE\": \"2004-11-01T00:00:00\", \"DROUGHT_LEVEL\": \"D4\", \"DROUGHT_AREA\": 0.0}, {\"DATE\": \"2004-12-01T00:00:00\", \"DROUGHT_LEVEL\": \"D4\", \"DROUGHT_AREA\": 0.0}, {\"DATE\": \"2005-01-01T00:00:00\", \"DROUGHT_LEVEL\": \"D4\", \"DROUGHT_AREA\": 0.0}, {\"DATE\": \"2005-02-01T00:00:00\", \"DROUGHT_LEVEL\": \"D4\", \"DROUGHT_AREA\": 0.0}, {\"DATE\": \"2005-03-01T00:00:00\", \"DROUGHT_LEVEL\": \"D4\", \"DROUGHT_AREA\": 0.0}, {\"DATE\": \"2005-04-01T00:00:00\", \"DROUGHT_LEVEL\": \"D4\", \"DROUGHT_AREA\": 0.0}, {\"DATE\": \"2005-05-01T00:00:00\", \"DROUGHT_LEVEL\": \"D4\", \"DROUGHT_AREA\": 0.0}, {\"DATE\": \"2005-06-01T00:00:00\", \"DROUGHT_LEVEL\": \"D4\", \"DROUGHT_AREA\": 0.0}, {\"DATE\": \"2005-07-01T00:00:00\", \"DROUGHT_LEVEL\": \"D4\", \"DROUGHT_AREA\": 0.0}, {\"DATE\": \"2005-08-01T00:00:00\", \"DROUGHT_LEVEL\": \"D4\", \"DROUGHT_AREA\": 0.0}, {\"DATE\": \"2005-09-01T00:00:00\", \"DROUGHT_LEVEL\": \"D4\", \"DROUGHT_AREA\": 0.0}, {\"DATE\": \"2005-10-01T00:00:00\", \"DROUGHT_LEVEL\": \"D4\", \"DROUGHT_AREA\": 0.0}, {\"DATE\": \"2005-11-01T00:00:00\", \"DROUGHT_LEVEL\": \"D4\", \"DROUGHT_AREA\": 0.0}, {\"DATE\": \"2005-12-01T00:00:00\", \"DROUGHT_LEVEL\": \"D4\", \"DROUGHT_AREA\": 0.0}, {\"DATE\": \"2006-01-01T00:00:00\", \"DROUGHT_LEVEL\": \"D4\", \"DROUGHT_AREA\": 0.3}, {\"DATE\": \"2006-02-01T00:00:00\", \"DROUGHT_LEVEL\": \"D4\", \"DROUGHT_AREA\": 0.0}, {\"DATE\": \"2006-03-01T00:00:00\", \"DROUGHT_LEVEL\": \"D4\", \"DROUGHT_AREA\": 0.0}, {\"DATE\": \"2006-04-01T00:00:00\", \"DROUGHT_LEVEL\": \"D4\", \"DROUGHT_AREA\": 0.0}, {\"DATE\": \"2006-05-01T00:00:00\", \"DROUGHT_LEVEL\": \"D4\", \"DROUGHT_AREA\": 0.0}, {\"DATE\": \"2006-06-01T00:00:00\", \"DROUGHT_LEVEL\": \"D4\", \"DROUGHT_AREA\": 0.2}, {\"DATE\": \"2006-07-01T00:00:00\", \"DROUGHT_LEVEL\": \"D4\", \"DROUGHT_AREA\": 9.2}, {\"DATE\": \"2006-08-01T00:00:00\", \"DROUGHT_LEVEL\": \"D4\", \"DROUGHT_AREA\": 7.7}, {\"DATE\": \"2006-09-01T00:00:00\", \"DROUGHT_LEVEL\": \"D4\", \"DROUGHT_AREA\": 1.6}, {\"DATE\": \"2006-10-01T00:00:00\", \"DROUGHT_LEVEL\": \"D4\", \"DROUGHT_AREA\": 0.0}, {\"DATE\": \"2006-11-01T00:00:00\", \"DROUGHT_LEVEL\": \"D4\", \"DROUGHT_AREA\": 0.0}, {\"DATE\": \"2006-12-01T00:00:00\", \"DROUGHT_LEVEL\": \"D4\", \"DROUGHT_AREA\": 2.0}, {\"DATE\": \"2007-01-01T00:00:00\", \"DROUGHT_LEVEL\": \"D4\", \"DROUGHT_AREA\": 12.4}, {\"DATE\": \"2007-02-01T00:00:00\", \"DROUGHT_LEVEL\": \"D4\", \"DROUGHT_AREA\": 11.9}, {\"DATE\": \"2007-03-01T00:00:00\", \"DROUGHT_LEVEL\": \"D4\", \"DROUGHT_AREA\": 19.2}, {\"DATE\": \"2007-04-01T00:00:00\", \"DROUGHT_LEVEL\": \"D4\", \"DROUGHT_AREA\": 23.1}, {\"DATE\": \"2007-05-01T00:00:00\", \"DROUGHT_LEVEL\": \"D4\", \"DROUGHT_AREA\": 27.4}, {\"DATE\": \"2007-06-01T00:00:00\", \"DROUGHT_LEVEL\": \"D4\", \"DROUGHT_AREA\": 24.8}, {\"DATE\": \"2007-07-01T00:00:00\", \"DROUGHT_LEVEL\": \"D4\", \"DROUGHT_AREA\": 33.0}, {\"DATE\": \"2007-08-01T00:00:00\", \"DROUGHT_LEVEL\": \"D4\", \"DROUGHT_AREA\": 21.3}, {\"DATE\": \"2007-09-01T00:00:00\", \"DROUGHT_LEVEL\": \"D4\", \"DROUGHT_AREA\": 5.7}, {\"DATE\": \"2007-10-01T00:00:00\", \"DROUGHT_LEVEL\": \"D4\", \"DROUGHT_AREA\": 4.0}, {\"DATE\": \"2007-11-01T00:00:00\", \"DROUGHT_LEVEL\": \"D4\", \"DROUGHT_AREA\": 13.2}, {\"DATE\": \"2007-12-01T00:00:00\", \"DROUGHT_LEVEL\": \"D4\", \"DROUGHT_AREA\": 0.5}, {\"DATE\": \"2008-01-01T00:00:00\", \"DROUGHT_LEVEL\": \"D4\", \"DROUGHT_AREA\": 0.0}, {\"DATE\": \"2008-02-01T00:00:00\", \"DROUGHT_LEVEL\": \"D4\", \"DROUGHT_AREA\": 0.0}, {\"DATE\": \"2008-03-01T00:00:00\", \"DROUGHT_LEVEL\": \"D4\", \"DROUGHT_AREA\": 0.0}, {\"DATE\": \"2008-04-01T00:00:00\", \"DROUGHT_LEVEL\": \"D4\", \"DROUGHT_AREA\": 0.0}, {\"DATE\": \"2008-05-01T00:00:00\", \"DROUGHT_LEVEL\": \"D4\", \"DROUGHT_AREA\": 0.6}, {\"DATE\": \"2008-06-01T00:00:00\", \"DROUGHT_LEVEL\": \"D4\", \"DROUGHT_AREA\": 0.7}, {\"DATE\": \"2008-07-01T00:00:00\", \"DROUGHT_LEVEL\": \"D4\", \"DROUGHT_AREA\": 0.8}, {\"DATE\": \"2008-08-01T00:00:00\", \"DROUGHT_LEVEL\": \"D4\", \"DROUGHT_AREA\": 0.0}, {\"DATE\": \"2008-09-01T00:00:00\", \"DROUGHT_LEVEL\": \"D4\", \"DROUGHT_AREA\": 0.0}, {\"DATE\": \"2008-10-01T00:00:00\", \"DROUGHT_LEVEL\": \"D4\", \"DROUGHT_AREA\": 20.7}, {\"DATE\": \"2008-11-01T00:00:00\", \"DROUGHT_LEVEL\": \"D4\", \"DROUGHT_AREA\": 29.9}, {\"DATE\": \"2008-12-01T00:00:00\", \"DROUGHT_LEVEL\": \"D4\", \"DROUGHT_AREA\": 0.9}, {\"DATE\": \"2009-01-01T00:00:00\", \"DROUGHT_LEVEL\": \"D4\", \"DROUGHT_AREA\": 2.1}, {\"DATE\": \"2009-02-01T00:00:00\", \"DROUGHT_LEVEL\": \"D4\", \"DROUGHT_AREA\": 2.0}, {\"DATE\": \"2009-03-01T00:00:00\", \"DROUGHT_LEVEL\": \"D4\", \"DROUGHT_AREA\": 0.0}, {\"DATE\": \"2009-04-01T00:00:00\", \"DROUGHT_LEVEL\": \"D4\", \"DROUGHT_AREA\": 0.1}, {\"DATE\": \"2009-05-01T00:00:00\", \"DROUGHT_LEVEL\": \"D4\", \"DROUGHT_AREA\": 0.1}, {\"DATE\": \"2009-06-01T00:00:00\", \"DROUGHT_LEVEL\": \"D4\", \"DROUGHT_AREA\": 0.0}, {\"DATE\": \"2009-07-01T00:00:00\", \"DROUGHT_LEVEL\": \"D4\", \"DROUGHT_AREA\": 0.0}, {\"DATE\": \"2009-08-01T00:00:00\", \"DROUGHT_LEVEL\": \"D4\", \"DROUGHT_AREA\": 0.0}, {\"DATE\": \"2009-09-01T00:00:00\", \"DROUGHT_LEVEL\": \"D4\", \"DROUGHT_AREA\": 1.3}, {\"DATE\": \"2009-10-01T00:00:00\", \"DROUGHT_LEVEL\": \"D4\", \"DROUGHT_AREA\": 1.3}, {\"DATE\": \"2009-11-01T00:00:00\", \"DROUGHT_LEVEL\": \"D4\", \"DROUGHT_AREA\": 27.8}, {\"DATE\": \"2009-12-01T00:00:00\", \"DROUGHT_LEVEL\": \"D4\", \"DROUGHT_AREA\": 1.6}, {\"DATE\": \"2010-01-01T00:00:00\", \"DROUGHT_LEVEL\": \"D4\", \"DROUGHT_AREA\": 0.0}, {\"DATE\": \"2010-02-01T00:00:00\", \"DROUGHT_LEVEL\": \"D4\", \"DROUGHT_AREA\": 0.0}, {\"DATE\": \"2010-03-01T00:00:00\", \"DROUGHT_LEVEL\": \"D4\", \"DROUGHT_AREA\": 0.0}, {\"DATE\": \"2010-04-01T00:00:00\", \"DROUGHT_LEVEL\": \"D4\", \"DROUGHT_AREA\": 0.0}, {\"DATE\": \"2010-05-01T00:00:00\", \"DROUGHT_LEVEL\": \"D4\", \"DROUGHT_AREA\": 0.0}, {\"DATE\": \"2010-06-01T00:00:00\", \"DROUGHT_LEVEL\": \"D4\", \"DROUGHT_AREA\": 0.0}, {\"DATE\": \"2010-07-01T00:00:00\", \"DROUGHT_LEVEL\": \"D4\", \"DROUGHT_AREA\": 0.0}, {\"DATE\": \"2010-08-01T00:00:00\", \"DROUGHT_LEVEL\": \"D4\", \"DROUGHT_AREA\": 0.0}, {\"DATE\": \"2010-09-01T00:00:00\", \"DROUGHT_LEVEL\": \"D4\", \"DROUGHT_AREA\": 0.0}, {\"DATE\": \"2010-10-01T00:00:00\", \"DROUGHT_LEVEL\": \"D4\", \"DROUGHT_AREA\": 0.0}, {\"DATE\": \"2010-11-01T00:00:00\", \"DROUGHT_LEVEL\": \"D4\", \"DROUGHT_AREA\": 0.0}, {\"DATE\": \"2010-12-01T00:00:00\", \"DROUGHT_LEVEL\": \"D4\", \"DROUGHT_AREA\": 0.0}, {\"DATE\": \"2011-01-01T00:00:00\", \"DROUGHT_LEVEL\": \"D4\", \"DROUGHT_AREA\": 0.0}, {\"DATE\": \"2011-02-01T00:00:00\", \"DROUGHT_LEVEL\": \"D4\", \"DROUGHT_AREA\": 0.0}, {\"DATE\": \"2011-03-01T00:00:00\", \"DROUGHT_LEVEL\": \"D4\", \"DROUGHT_AREA\": 0.0}, {\"DATE\": \"2011-04-01T00:00:00\", \"DROUGHT_LEVEL\": \"D4\", \"DROUGHT_AREA\": 0.0}, {\"DATE\": \"2011-05-01T00:00:00\", \"DROUGHT_LEVEL\": \"D4\", \"DROUGHT_AREA\": 0.0}, {\"DATE\": \"2011-06-01T00:00:00\", \"DROUGHT_LEVEL\": \"D4\", \"DROUGHT_AREA\": 0.0}, {\"DATE\": \"2011-07-01T00:00:00\", \"DROUGHT_LEVEL\": \"D4\", \"DROUGHT_AREA\": 0.0}, {\"DATE\": \"2011-08-01T00:00:00\", \"DROUGHT_LEVEL\": \"D4\", \"DROUGHT_AREA\": 0.0}, {\"DATE\": \"2011-09-01T00:00:00\", \"DROUGHT_LEVEL\": \"D4\", \"DROUGHT_AREA\": 0.0}, {\"DATE\": \"2011-10-01T00:00:00\", \"DROUGHT_LEVEL\": \"D4\", \"DROUGHT_AREA\": 0.0}, {\"DATE\": \"2011-11-01T00:00:00\", \"DROUGHT_LEVEL\": \"D4\", \"DROUGHT_AREA\": 0.0}, {\"DATE\": \"2011-12-01T00:00:00\", \"DROUGHT_LEVEL\": \"D4\", \"DROUGHT_AREA\": 0.1}, {\"DATE\": \"2012-01-01T00:00:00\", \"DROUGHT_LEVEL\": \"D4\", \"DROUGHT_AREA\": 0.6}, {\"DATE\": \"2012-02-01T00:00:00\", \"DROUGHT_LEVEL\": \"D4\", \"DROUGHT_AREA\": 4.0}, {\"DATE\": \"2012-03-01T00:00:00\", \"DROUGHT_LEVEL\": \"D4\", \"DROUGHT_AREA\": 0.8}, {\"DATE\": \"2012-04-01T00:00:00\", \"DROUGHT_LEVEL\": \"D4\", \"DROUGHT_AREA\": 0.0}, {\"DATE\": \"2012-05-01T00:00:00\", \"DROUGHT_LEVEL\": \"D4\", \"DROUGHT_AREA\": 3.1}, {\"DATE\": \"2012-06-01T00:00:00\", \"DROUGHT_LEVEL\": \"D4\", \"DROUGHT_AREA\": 3.2}, {\"DATE\": \"2012-07-01T00:00:00\", \"DROUGHT_LEVEL\": \"D4\", \"DROUGHT_AREA\": 2.9}, {\"DATE\": \"2012-08-01T00:00:00\", \"DROUGHT_LEVEL\": \"D4\", \"DROUGHT_AREA\": 0.1}, {\"DATE\": \"2012-09-01T00:00:00\", \"DROUGHT_LEVEL\": \"D4\", \"DROUGHT_AREA\": 0.0}, {\"DATE\": \"2012-10-01T00:00:00\", \"DROUGHT_LEVEL\": \"D4\", \"DROUGHT_AREA\": 0.1}, {\"DATE\": \"2012-11-01T00:00:00\", \"DROUGHT_LEVEL\": \"D4\", \"DROUGHT_AREA\": 0.0}, {\"DATE\": \"2012-12-01T00:00:00\", \"DROUGHT_LEVEL\": \"D4\", \"DROUGHT_AREA\": 0.0}, {\"DATE\": \"2013-01-01T00:00:00\", \"DROUGHT_LEVEL\": \"D4\", \"DROUGHT_AREA\": 0.7}, {\"DATE\": \"2013-02-01T00:00:00\", \"DROUGHT_LEVEL\": \"D4\", \"DROUGHT_AREA\": 2.7}, {\"DATE\": \"2013-03-01T00:00:00\", \"DROUGHT_LEVEL\": \"D4\", \"DROUGHT_AREA\": 3.6}, {\"DATE\": \"2013-04-01T00:00:00\", \"DROUGHT_LEVEL\": \"D4\", \"DROUGHT_AREA\": 5.1}, {\"DATE\": \"2013-05-01T00:00:00\", \"DROUGHT_LEVEL\": \"D4\", \"DROUGHT_AREA\": 8.3}, {\"DATE\": \"2013-06-01T00:00:00\", \"DROUGHT_LEVEL\": \"D4\", \"DROUGHT_AREA\": 7.6}, {\"DATE\": \"2013-07-01T00:00:00\", \"DROUGHT_LEVEL\": \"D4\", \"DROUGHT_AREA\": 3.7}, {\"DATE\": \"2013-08-01T00:00:00\", \"DROUGHT_LEVEL\": \"D4\", \"DROUGHT_AREA\": 1.0}, {\"DATE\": \"2013-09-01T00:00:00\", \"DROUGHT_LEVEL\": \"D4\", \"DROUGHT_AREA\": 33.3}, {\"DATE\": \"2013-10-01T00:00:00\", \"DROUGHT_LEVEL\": \"D4\", \"DROUGHT_AREA\": 24.2}, {\"DATE\": \"2013-11-01T00:00:00\", \"DROUGHT_LEVEL\": \"D4\", \"DROUGHT_AREA\": 14.7}, {\"DATE\": \"2013-12-01T00:00:00\", \"DROUGHT_LEVEL\": \"D4\", \"DROUGHT_AREA\": 40.2}, {\"DATE\": \"2014-01-01T00:00:00\", \"DROUGHT_LEVEL\": \"D4\", \"DROUGHT_AREA\": 52.2}, {\"DATE\": \"2014-02-01T00:00:00\", \"DROUGHT_LEVEL\": \"D4\", \"DROUGHT_AREA\": 19.0}, {\"DATE\": \"2014-03-01T00:00:00\", \"DROUGHT_LEVEL\": \"D4\", \"DROUGHT_AREA\": 12.8}, {\"DATE\": \"2014-04-01T00:00:00\", \"DROUGHT_LEVEL\": \"D4\", \"DROUGHT_AREA\": 11.9}, {\"DATE\": \"2014-05-01T00:00:00\", \"DROUGHT_LEVEL\": \"D4\", \"DROUGHT_AREA\": 17.8}, {\"DATE\": \"2014-06-01T00:00:00\", \"DROUGHT_LEVEL\": \"D4\", \"DROUGHT_AREA\": 21.0}, {\"DATE\": \"2014-07-01T00:00:00\", \"DROUGHT_LEVEL\": \"D4\", \"DROUGHT_AREA\": 16.2}, {\"DATE\": \"2014-08-01T00:00:00\", \"DROUGHT_LEVEL\": \"D4\", \"DROUGHT_AREA\": 6.5}, {\"DATE\": \"2014-09-01T00:00:00\", \"DROUGHT_LEVEL\": \"D4\", \"DROUGHT_AREA\": 0.8}, {\"DATE\": \"2014-10-01T00:00:00\", \"DROUGHT_LEVEL\": \"D4\", \"DROUGHT_AREA\": 0.0}, {\"DATE\": \"2014-11-01T00:00:00\", \"DROUGHT_LEVEL\": \"D4\", \"DROUGHT_AREA\": 0.1}, {\"DATE\": \"2014-12-01T00:00:00\", \"DROUGHT_LEVEL\": \"D4\", \"DROUGHT_AREA\": 0.0}, {\"DATE\": \"2015-01-01T00:00:00\", \"DROUGHT_LEVEL\": \"D4\", \"DROUGHT_AREA\": 0.0}, {\"DATE\": \"2015-02-01T00:00:00\", \"DROUGHT_LEVEL\": \"D4\", \"DROUGHT_AREA\": 0.0}, {\"DATE\": \"2015-03-01T00:00:00\", \"DROUGHT_LEVEL\": \"D4\", \"DROUGHT_AREA\": 2.3}, {\"DATE\": \"2015-04-01T00:00:00\", \"DROUGHT_LEVEL\": \"D4\", \"DROUGHT_AREA\": 3.1}, {\"DATE\": \"2015-05-01T00:00:00\", \"DROUGHT_LEVEL\": \"D4\", \"DROUGHT_AREA\": 2.3}, {\"DATE\": \"2015-06-01T00:00:00\", \"DROUGHT_LEVEL\": \"D4\", \"DROUGHT_AREA\": 2.0}, {\"DATE\": \"2015-07-01T00:00:00\", \"DROUGHT_LEVEL\": \"D4\", \"DROUGHT_AREA\": 0.7}, {\"DATE\": \"2015-08-01T00:00:00\", \"DROUGHT_LEVEL\": \"D4\", \"DROUGHT_AREA\": 0.3}, {\"DATE\": \"2015-09-01T00:00:00\", \"DROUGHT_LEVEL\": \"D4\", \"DROUGHT_AREA\": 15.6}, {\"DATE\": \"2015-10-01T00:00:00\", \"DROUGHT_LEVEL\": \"D4\", \"DROUGHT_AREA\": 1.0}, {\"DATE\": \"2015-11-01T00:00:00\", \"DROUGHT_LEVEL\": \"D4\", \"DROUGHT_AREA\": 8.0}, {\"DATE\": \"2015-12-01T00:00:00\", \"DROUGHT_LEVEL\": \"D4\", \"DROUGHT_AREA\": 0.0}, {\"DATE\": \"2016-01-01T00:00:00\", \"DROUGHT_LEVEL\": \"D4\", \"DROUGHT_AREA\": 0.0}, {\"DATE\": \"2016-02-01T00:00:00\", \"DROUGHT_LEVEL\": \"D4\", \"DROUGHT_AREA\": 0.0}, {\"DATE\": \"2016-03-01T00:00:00\", \"DROUGHT_LEVEL\": \"D4\", \"DROUGHT_AREA\": 0.0}, {\"DATE\": \"2016-04-01T00:00:00\", \"DROUGHT_LEVEL\": \"D4\", \"DROUGHT_AREA\": 0.0}, {\"DATE\": \"2016-05-01T00:00:00\", \"DROUGHT_LEVEL\": \"D4\", \"DROUGHT_AREA\": 0.0}, {\"DATE\": \"2016-06-01T00:00:00\", \"DROUGHT_LEVEL\": \"D4\", \"DROUGHT_AREA\": 0.0}, {\"DATE\": \"2016-07-01T00:00:00\", \"DROUGHT_LEVEL\": \"D4\", \"DROUGHT_AREA\": 0.0}, {\"DATE\": \"2016-08-01T00:00:00\", \"DROUGHT_LEVEL\": \"D4\", \"DROUGHT_AREA\": 0.0}, {\"DATE\": \"2016-09-01T00:00:00\", \"DROUGHT_LEVEL\": \"D4\", \"DROUGHT_AREA\": 0.0}, {\"DATE\": \"2016-10-01T00:00:00\", \"DROUGHT_LEVEL\": \"D4\", \"DROUGHT_AREA\": 0.0}, {\"DATE\": \"2016-11-01T00:00:00\", \"DROUGHT_LEVEL\": \"D4\", \"DROUGHT_AREA\": 0.0}, {\"DATE\": \"2016-12-01T00:00:00\", \"DROUGHT_LEVEL\": \"D4\", \"DROUGHT_AREA\": 0.0}, {\"DATE\": \"2017-01-01T00:00:00\", \"DROUGHT_LEVEL\": \"D4\", \"DROUGHT_AREA\": 0.0}, {\"DATE\": \"2017-02-01T00:00:00\", \"DROUGHT_LEVEL\": \"D4\", \"DROUGHT_AREA\": 0.0}, {\"DATE\": \"2017-03-01T00:00:00\", \"DROUGHT_LEVEL\": \"D4\", \"DROUGHT_AREA\": 0.0}, {\"DATE\": \"2017-04-01T00:00:00\", \"DROUGHT_LEVEL\": \"D4\", \"DROUGHT_AREA\": 0.0}, {\"DATE\": \"2017-05-01T00:00:00\", \"DROUGHT_LEVEL\": \"D4\", \"DROUGHT_AREA\": 0.0}, {\"DATE\": \"2017-06-01T00:00:00\", \"DROUGHT_LEVEL\": \"D4\", \"DROUGHT_AREA\": 0.0}, {\"DATE\": \"2017-07-01T00:00:00\", \"DROUGHT_LEVEL\": \"D4\", \"DROUGHT_AREA\": 0.0}, {\"DATE\": \"2017-08-01T00:00:00\", \"DROUGHT_LEVEL\": \"D4\", \"DROUGHT_AREA\": 0.0}, {\"DATE\": \"2017-09-01T00:00:00\", \"DROUGHT_LEVEL\": \"D4\", \"DROUGHT_AREA\": 0.0}, {\"DATE\": \"2017-10-01T00:00:00\", \"DROUGHT_LEVEL\": \"D4\", \"DROUGHT_AREA\": 0.1}, {\"DATE\": \"2017-11-01T00:00:00\", \"DROUGHT_LEVEL\": \"D4\", \"DROUGHT_AREA\": 14.4}, {\"DATE\": \"2017-12-01T00:00:00\", \"DROUGHT_LEVEL\": \"D4\", \"DROUGHT_AREA\": 20.0}, {\"DATE\": \"2018-01-01T00:00:00\", \"DROUGHT_LEVEL\": \"D4\", \"DROUGHT_AREA\": 2.3}, {\"DATE\": \"2018-02-01T00:00:00\", \"DROUGHT_LEVEL\": \"D4\", \"DROUGHT_AREA\": 23.3}, {\"DATE\": \"2018-03-01T00:00:00\", \"DROUGHT_LEVEL\": \"D4\", \"DROUGHT_AREA\": 0.9}, {\"DATE\": \"2018-04-01T00:00:00\", \"DROUGHT_LEVEL\": \"D4\", \"DROUGHT_AREA\": 1.6}, {\"DATE\": \"2018-05-01T00:00:00\", \"DROUGHT_LEVEL\": \"D4\", \"DROUGHT_AREA\": 2.7}, {\"DATE\": \"2018-06-01T00:00:00\", \"DROUGHT_LEVEL\": \"D4\", \"DROUGHT_AREA\": 7.1}, {\"DATE\": \"2018-07-01T00:00:00\", \"DROUGHT_LEVEL\": \"D4\", \"DROUGHT_AREA\": 4.2}, {\"DATE\": \"2018-08-01T00:00:00\", \"DROUGHT_LEVEL\": \"D4\", \"DROUGHT_AREA\": 1.9}, {\"DATE\": \"2018-09-01T00:00:00\", \"DROUGHT_LEVEL\": \"D4\", \"DROUGHT_AREA\": 0.0}, {\"DATE\": \"2018-10-01T00:00:00\", \"DROUGHT_LEVEL\": \"D4\", \"DROUGHT_AREA\": 0.4}, {\"DATE\": \"2018-11-01T00:00:00\", \"DROUGHT_LEVEL\": \"D4\", \"DROUGHT_AREA\": 0.0}, {\"DATE\": \"2018-12-01T00:00:00\", \"DROUGHT_LEVEL\": \"D4\", \"DROUGHT_AREA\": 0.3}, {\"DATE\": \"2019-01-01T00:00:00\", \"DROUGHT_LEVEL\": \"D4\", \"DROUGHT_AREA\": 0.0}, {\"DATE\": \"2019-02-01T00:00:00\", \"DROUGHT_LEVEL\": \"D4\", \"DROUGHT_AREA\": 0.0}, {\"DATE\": \"2019-03-01T00:00:00\", \"DROUGHT_LEVEL\": \"D4\", \"DROUGHT_AREA\": 0.0}, {\"DATE\": \"2019-04-01T00:00:00\", \"DROUGHT_LEVEL\": \"D4\", \"DROUGHT_AREA\": 0.0}, {\"DATE\": \"2019-05-01T00:00:00\", \"DROUGHT_LEVEL\": \"D4\", \"DROUGHT_AREA\": 0.0}, {\"DATE\": \"2019-06-01T00:00:00\", \"DROUGHT_LEVEL\": \"D4\", \"DROUGHT_AREA\": 0.0}, {\"DATE\": \"2019-07-01T00:00:00\", \"DROUGHT_LEVEL\": \"D4\", \"DROUGHT_AREA\": 0.0}, {\"DATE\": \"2019-08-01T00:00:00\", \"DROUGHT_LEVEL\": \"D4\", \"DROUGHT_AREA\": 0.0}, {\"DATE\": \"2019-09-01T00:00:00\", \"DROUGHT_LEVEL\": \"D4\", \"DROUGHT_AREA\": 0.0}, {\"DATE\": \"2019-10-01T00:00:00\", \"DROUGHT_LEVEL\": \"D4\", \"DROUGHT_AREA\": 0.0}, {\"DATE\": \"2019-11-01T00:00:00\", \"DROUGHT_LEVEL\": \"D4\", \"DROUGHT_AREA\": 0.0}, {\"DATE\": \"2019-12-01T00:00:00\", \"DROUGHT_LEVEL\": \"D4\", \"DROUGHT_AREA\": 0.0}, {\"DATE\": \"2020-01-01T00:00:00\", \"DROUGHT_LEVEL\": \"D4\", \"DROUGHT_AREA\": 0.0}, {\"DATE\": \"2020-02-01T00:00:00\", \"DROUGHT_LEVEL\": \"D4\", \"DROUGHT_AREA\": 3.3}, {\"DATE\": \"2020-03-01T00:00:00\", \"DROUGHT_LEVEL\": \"D4\", \"DROUGHT_AREA\": 2.4}, {\"DATE\": \"2020-04-01T00:00:00\", \"DROUGHT_LEVEL\": \"D4\", \"DROUGHT_AREA\": 2.7}, {\"DATE\": \"2020-05-01T00:00:00\", \"DROUGHT_LEVEL\": \"D4\", \"DROUGHT_AREA\": 0.5}, {\"DATE\": \"2020-06-01T00:00:00\", \"DROUGHT_LEVEL\": \"D4\", \"DROUGHT_AREA\": 1.1}, {\"DATE\": \"2020-07-01T00:00:00\", \"DROUGHT_LEVEL\": \"D4\", \"DROUGHT_AREA\": 0.0}, {\"DATE\": \"2020-08-01T00:00:00\", \"DROUGHT_LEVEL\": \"D4\", \"DROUGHT_AREA\": 0.2}, {\"DATE\": \"2020-09-01T00:00:00\", \"DROUGHT_LEVEL\": \"D4\", \"DROUGHT_AREA\": 5.9}, {\"DATE\": \"2020-10-01T00:00:00\", \"DROUGHT_LEVEL\": \"D4\", \"DROUGHT_AREA\": 15.9}, {\"DATE\": \"2020-11-01T00:00:00\", \"DROUGHT_LEVEL\": \"D4\", \"DROUGHT_AREA\": 2.5}, {\"DATE\": \"2020-12-01T00:00:00\", \"DROUGHT_LEVEL\": \"D4\", \"DROUGHT_AREA\": 8.3}, {\"DATE\": \"2021-01-01T00:00:00\", \"DROUGHT_LEVEL\": \"D4\", \"DROUGHT_AREA\": 17.5}, {\"DATE\": \"2021-02-01T00:00:00\", \"DROUGHT_LEVEL\": \"D4\", \"DROUGHT_AREA\": 28.2}, {\"DATE\": \"2021-03-01T00:00:00\", \"DROUGHT_LEVEL\": \"D4\", \"DROUGHT_AREA\": 34.8}, {\"DATE\": \"2021-04-01T00:00:00\", \"DROUGHT_LEVEL\": \"D4\", \"DROUGHT_AREA\": 40.2}, {\"DATE\": \"2021-05-01T00:00:00\", \"DROUGHT_LEVEL\": \"D4\", \"DROUGHT_AREA\": 50.0}, {\"DATE\": \"2021-06-01T00:00:00\", \"DROUGHT_LEVEL\": \"D4\", \"DROUGHT_AREA\": 42.1}, {\"DATE\": \"2021-07-01T00:00:00\", \"DROUGHT_LEVEL\": \"D4\", \"DROUGHT_AREA\": 20.4}, {\"DATE\": \"2021-08-01T00:00:00\", \"DROUGHT_LEVEL\": \"D4\", \"DROUGHT_AREA\": 9.7}, {\"DATE\": \"2021-09-01T00:00:00\", \"DROUGHT_LEVEL\": \"D4\", \"DROUGHT_AREA\": 2.4}, {\"DATE\": \"2021-10-01T00:00:00\", \"DROUGHT_LEVEL\": \"D4\", \"DROUGHT_AREA\": 1.3}, {\"DATE\": \"2021-11-01T00:00:00\", \"DROUGHT_LEVEL\": \"D4\", \"DROUGHT_AREA\": 1.3}, {\"DATE\": \"2021-12-01T00:00:00\", \"DROUGHT_LEVEL\": \"D4\", \"DROUGHT_AREA\": 0.0}, {\"DATE\": \"2022-01-01T00:00:00\", \"DROUGHT_LEVEL\": \"D4\", \"DROUGHT_AREA\": 0.0}]}}, {\"mode\": \"vega-lite\"});\n</script>",
      "text/plain": "alt.Chart(...)"
     },
     "metadata": {}
    }
   ]
  },
  {
   "cell_type": "code",
   "metadata": {
    "cell_id": "00023-63e0ca97-6a84-4f29-8c0b-309978c2f860",
    "deepnote_cell_type": "code",
    "deepnote_cell_height": 214.171875
   },
   "source": "drought_df[drought_df.DATE.dt.year == 2001].mean()",
   "execution_count": null,
   "outputs": [
    {
     "data": {
      "text/plain": "D0    36.950000\nD1    26.616667\nD2    14.050000\nD3     8.233333\nD4     3.108333\ndtype: float64"
     },
     "execution_count": 70,
     "metadata": {},
     "output_type": "execute_result"
    }
   ]
  },
  {
   "cell_type": "code",
   "metadata": {
    "cell_id": "00024-e5beee2b-8937-40a0-b535-44478ff59ceb",
    "deepnote_cell_type": "code",
    "deepnote_cell_height": 66
   },
   "source": "drought_years = [2019, 2020, 2021, 2018, 2012, 2013, 2014,2015, 2016, 2007, 2008, 2009 ]",
   "execution_count": null,
   "outputs": []
  },
  {
   "cell_type": "markdown",
   "source": "<a style='text-decoration:none;line-height:16px;display:flex;color:#5B5B62;padding:10px;justify-content:end;' href='https://deepnote.com?utm_source=created-in-deepnote-cell&projectId=b042e2da-6536-449d-95b8-d85fa08825de' target=\"_blank\">\n<img alt='Created in deepnote.com' style='display:inline;max-height:16px;margin:0px;margin-right:7.5px;' src='data:image/svg+xml;base64,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' > </img>\nCreated in <span style='font-weight:600;margin-left:4px;'>Deepnote</span></a>",
   "metadata": {
    "tags": [],
    "created_in_deepnote_cell": true,
    "deepnote_cell_type": "markdown"
   }
  }
 ],
 "nbformat": 4,
 "nbformat_minor": 5,
 "metadata": {
  "deepnote_notebook_id": "9668c779-7c40-4cb5-8c20-745f3843b78c",
  "kernelspec": {
   "display_name": "geo_env",
   "language": "python",
   "name": "geo_env"
  },
  "language_info": {
   "codemirror_mode": {
    "name": "ipython",
    "version": 3
   },
   "file_extension": ".py",
   "mimetype": "text/x-python",
   "name": "python",
   "nbconvert_exporter": "python",
   "pygments_lexer": "ipython3",
   "version": "3.10.2"
  },
  "deepnote": {},
  "deepnote_execution_queue": []
 }
}