{
 "cells": [
  {
   "cell_type": "code",
   "metadata": {
    "cell_id": "d5b67d9e-7281-41e5-b46b-123fb0fdaf0e",
    "deepnote_to_be_reexecuted": false,
    "execution_millis": 1,
    "execution_start": 1653929631039,
    "source_hash": "8ad57f32",
    "tags": [],
    "deepnote_cell_type": "code",
    "deepnote_cell_height": 81
   },
   "source": "# Start writing code here...",
   "execution_count": 1,
   "outputs": []
  },
  {
   "cell_type": "code",
   "metadata": {
    "cell_id": "00001-8b169273-f831-454c-aab0-43282d535ca2",
    "deepnote_to_be_reexecuted": false,
    "execution_millis": 1874,
    "execution_start": 1653929631040,
    "source_hash": "68decb25",
    "tags": [],
    "deepnote_cell_type": "code",
    "deepnote_cell_height": 711
   },
   "source": "import sys\nsys.path.append('..')\n\nimport os\nimport pickle\n\nimport numpy as np\nimport pandas as pd\nimport seaborn as sns\n\nfrom sklearn.impute import SimpleImputer\nfrom sklearn.compose import ColumnTransformer\nfrom sklearn.utils.validation import check_is_fitted\nfrom sklearn.base import BaseEstimator, TransformerMixin\nfrom sklearn.pipeline import Pipeline, make_pipeline, FeatureUnion\n\nfrom sklearn import set_config\nfrom sklearn.metrics import mean_absolute_error\nfrom sklearn.linear_model import LinearRegression\nfrom sklearn.model_selection import train_test_split\nfrom sklearn.preprocessing import StandardScaler, FunctionTransformer, MinMaxScaler\n\nfrom sklearn.decomposition import PCA\nfrom sklearn.model_selection import GridSearchCV\nfrom sklearn.linear_model import LinearRegression\n\n\n\nfrom sklearn.dummy import DummyRegressor\nfrom sklearn.linear_model import Ridge, Lasso\nfrom sklearn import metrics\n\nfrom sklearn.ensemble import RandomForestRegressor\n\n%matplotlib inline\n",
   "execution_count": 7,
   "outputs": []
  },
  {
   "cell_type": "code",
   "metadata": {
    "cell_id": "a516aaa185ba4a71a692d7c32b68b0ef",
    "deepnote_to_be_reexecuted": false,
    "execution_millis": 1,
    "execution_start": 1653929632919,
    "source_hash": "298dd89",
    "tags": [],
    "deepnote_cell_type": "code",
    "deepnote_cell_height": 81
   },
   "source": "RANDOM_SEED = 42",
   "execution_count": 8,
   "outputs": []
  },
  {
   "cell_type": "code",
   "metadata": {
    "cell_id": "00040-a5e81616-24d7-4bc3-8f84-71b5ce9f67e5",
    "deepnote_to_be_reexecuted": false,
    "execution_millis": 0,
    "execution_start": 1653929632965,
    "source_hash": "8639caa2",
    "tags": [],
    "deepnote_cell_type": "code",
    "deepnote_cell_height": 171
   },
   "source": "with open('train_test_dict.pickle', 'rb') as file:\n        train_test_dict = pickle.load( file)\nX_train_impute = train_test_dict['X_train_impute']\nX_test_impute = train_test_dict['X_test_impute']\ny_train = train_test_dict['y_train']\ny_test = train_test_dict['y_test']",
   "execution_count": 9,
   "outputs": []
  },
  {
   "cell_type": "code",
   "metadata": {
    "cell_id": "00004-eb0515c2-53f2-49dd-8aaa-a1ad1c79e189",
    "deepnote_cell_type": "code",
    "deepnote_cell_height": 118.1875,
    "deepnote_output_heights": [
     21.1875
    ]
   },
   "source": "X_train_impute.shape",
   "execution_count": 10,
   "outputs": [
    {
     "data": {
      "text/plain": "(3346, 79)"
     },
     "execution_count": 10,
     "metadata": {},
     "output_type": "execute_result"
    }
   ]
  },
  {
   "cell_type": "markdown",
   "source": "",
   "metadata": {
    "cell_id": "00045-5d9fb8bd-94e4-4858-b52d-353c0fb9adb9",
    "tags": [],
    "deepnote_cell_type": "markdown",
    "deepnote_cell_height": 46
   }
  },
  {
   "cell_type": "markdown",
   "source": "### Baseline\n   - Distribution of the target and statistics such as mean and median \n   - It can be observed below that the target has a [left skewed distribution](https://stats.stackexchange.com/questions/11351/left-skewed-vs-symmetric-distribution-observed/11352#11352) with most well of the groundwater depth less that 200\n   - The score of this regressor is very low : R-squared of the prediction = -0.057\n   - The r-squared isnegative and this indicates that the the sum-of-squares of the residuals from the model (SSres) is larger than the sum-of-squares from the horizontal line (median) (SStot).\n   - R-squared is computed as 1−SSres/SStot. (here, SSres = residual error)When SSres is greater than SStot, that equation could compute a negative value for R-squared, if the value of the coefficient is greater than 1.",
   "metadata": {
    "cell_id": "00047-ea3c887d-f69b-4603-a6b9-4473b19d0c31",
    "deepnote_to_be_reexecuted": false,
    "execution_millis": 7,
    "execution_start": 1653880097633,
    "source_hash": "e440336e",
    "tags": [],
    "deepnote_cell_type": "markdown",
    "deepnote_cell_height": 260.796875
   }
  },
  {
   "cell_type": "code",
   "metadata": {
    "cell_id": "00048-31865ae8-e3fc-42d9-807f-6380415ad26e",
    "deepnote_to_be_reexecuted": false,
    "execution_millis": 58,
    "execution_start": 1653929632966,
    "source_hash": "7d1978a9",
    "tags": [],
    "deepnote_cell_type": "code",
    "deepnote_cell_height": 135
   },
   "source": "def predict_score_base_regressors(reg, X, y, name_of_regressor:str):\n    reg.fit(X,y)\n    print(f\"Prediction from {name_of_regressor} is : {reg.predict(X)}\")\n    print(f\"Train Set Regression Score from {name_of_regressor} is : {reg.score(X,y)}\")",
   "execution_count": 14,
   "outputs": []
  },
  {
   "cell_type": "code",
   "metadata": {
    "cell_id": "00049-ffe198e9-66cc-4142-afc0-b9d4be9719d3",
    "deepnote_to_be_reexecuted": false,
    "execution_millis": 70,
    "execution_start": 1653929633026,
    "source_hash": "899994e",
    "tags": [],
    "deepnote_cell_type": "code",
    "deepnote_cell_height": 492
   },
   "source": "dummy_regr = DummyRegressor(strategy=\"median\")\nlreg = LinearRegression()\nrreg = Ridge()\nlasreg = Lasso()\n\npredict_score_base_regressors(dummy_regr, X_train_impute, y_train, \"Dummy Regressor\")\npredict_score_base_regressors(lreg, X_train_impute, y_train, \"Linear Regressor\")\npredict_score_base_regressors(rreg, X_train_impute, y_train, \"Ridge Regressor\")\npredict_score_base_regressors(lasreg, X_train_impute, y_train, \"Lasso Regressor\")\n\n",
   "execution_count": 15,
   "outputs": [
    {
     "name": "stdout",
     "output_type": "stream",
     "text": "Prediction from Dummy Regressor is : [135.47275 135.47275 135.47275 ... 135.47275 135.47275 135.47275]\nTrain Set Regression Score from Dummy Regressor is : -0.057090827770692965\nPrediction from Linear Regressor is : [124.02559817 111.4254949   97.06014597 ... 324.66703306 320.78229306\n 320.82513735]\nTrain Set Regression Score from Linear Regressor is : 0.5595387697659555\nPrediction from Ridge Regressor is : [122.36096044 106.85415893  97.9512874  ... 315.23472464 310.35964295\n 309.11776963]\nTrain Set Regression Score from Ridge Regressor is : 0.5116318808253719\nPrediction from Lasso Regressor is : [100.4447834   83.95961512  79.61023103 ... 223.31467851 215.08817061\n 214.40654012]\nTrain Set Regression Score from Lasso Regressor is : 0.3775917065499911\n"
    }
   ]
  },
  {
   "cell_type": "markdown",
   "source": "###  Generative versus Declarative algorithms",
   "metadata": {
    "cell_id": "00050-6261f33b-852e-4d9d-a187-31b7333e1bf1",
    "tags": [],
    "deepnote_cell_type": "markdown",
    "deepnote_cell_height": 62
   }
  },
  {
   "cell_type": "markdown",
   "source": "### Random searching to narrow down possibilities to provide to GridSearch\n\nRegularization and Generalization for [Lasso](https://www.datacamp.com/tutorial/tutorial-lasso-ridge-regression)\n\nWhen it comes to training models, there are two major problems one can encounter: overfitting and underfitting.\n\n- Overfitting happens when the model performs well on the training set but not so well on unseen (test) data.\n- Underfitting happens when it neither performs well on the train set nor on the test set.\nParticularly, regularization is implemented to avoid overfitting of the data, especially when there is a large variance between train and test set performances. With regularization, the number of features used in training is kept constant, yet the magnitude of the coefficients is reduced.\n\n\n**Ridge and Lasso** \n\n**Lasso Regression for Model Selection**\nLasso is short for Least Absolute Shrinkage and Selection Operator, which is used both for regularization and model selection. If a model uses the L1 regularization technique, then it is called lasso regression. \nDue to the fact that coefficients will be shrunk towards a mean of zero, less important features in a dataset are eliminated when penalized. The shrinkage of these coefficients based on the alpha value provided leads to some form of automatic feature selection, as input variables are removed in an effective approach.\n\n**Ridge regression** puts a similar constraint on the coefficients by introducing a penalty factor. However, while lasso regression takes the magnitude of the coefficients, ridge regression takes the square.\nMinimizes objective function:\n||y - Xw||^2_2 + alpha * ||w||^2_2\n\n\n**Scores**\n[Negative Mean Absolute Error](https://stackoverflow.com/questions/55786121/what-is-the-negative-mean-absolute-error-in-scikit-learn#:~:text=As%20its%20name%20implies%2C%20negative,than%20a%20value%20of%20%2D3.0%20.) Smaller the better",
   "metadata": {
    "cell_id": "00051-b69a6724-57d2-4967-986d-090780233ba6",
    "tags": [],
    "deepnote_cell_type": "markdown",
    "deepnote_cell_height": 492.59375
   }
  },
  {
   "cell_type": "code",
   "metadata": {
    "cell_id": "00052-6cc08431-b3a1-407e-aff8-9f21738ac440",
    "deepnote_to_be_reexecuted": false,
    "execution_millis": 2515,
    "execution_start": 1653929633130,
    "source_hash": "58544054",
    "tags": [],
    "deepnote_cell_type": "code",
    "deepnote_cell_height": 222
   },
   "source": "rfreg = RandomForestRegressor(\n    max_depth=2, n_estimators=200, random_state=RANDOM_SEED\n).fit(X_train_impute, y_train)\nprint(f\"Train set score: {rfreg.score(X_train_impute, y_train)}\")\n#https://scikit-learn.org/stable/auto_examples/ensemble/plot_random_forest_regression_multioutput.html#sphx-glr-auto-examples-ensemble-plot-random-forest-regression-multioutput-py\nprint(f\"Test set score:{rfreg.score(X_test_impute, y_test)}\") # without duration = -0.601225986040484",
   "execution_count": 16,
   "outputs": [
    {
     "name": "stdout",
     "output_type": "stream",
     "text": "Train set score: 0.373097701276752\nTest set score:-0.03730173138387993\n"
    }
   ]
  },
  {
   "cell_type": "code",
   "metadata": {
    "cell_id": "00053-fbeae20b-27a7-4a54-94a6-8329a7b8863d",
    "deepnote_to_be_reexecuted": false,
    "execution_millis": 35821,
    "execution_start": 1653929635287,
    "source_hash": "d6575bb4",
    "tags": [],
    "deepnote_cell_type": "code",
    "deepnote_cell_height": 813.59375
   },
   "source": "# random search linear regression model: https://scikit-learn.org/stable/modules/generated/sklearn.linear_model.Ridge.html\nfrom scipy.stats import loguniform\nfrom sklearn.model_selection import RepeatedKFold\nfrom sklearn.model_selection import RandomizedSearchCV\n\nmodel = Lasso()\n# define evaluation\ncv = RepeatedKFold(n_splits=10, n_repeats=3, random_state=RANDOM_SEED)\n# define search space\nspace = dict()\n\n#space[\"solver\"] = [\"svd\", \"cholesky\", \"lsqr\", \"sag\"]\n#space[\"solver\"] = [\"svd\"]\nspace[\"alpha\"] =  [ 1,0.1,0.01,0.001,0.0001]    #loguniform(1e-5, 100)\nspace[\"fit_intercept\"] = [True, False]\n# define search\nsearch = RandomizedSearchCV(\n    model,\n    space,\n    n_iter= 100,  #500,\n    scoring= 'r2',    #\"neg_median_absolute_error\",‘neg_root_mean_squared_error’\n    n_jobs=-1,\n    cv=cv,\n    random_state=RANDOM_SEED,\n)\n# execute search\ntrain_result = search.fit(X_train_impute, y_train)\n# summarize result\nprint(\"Best Score: %s\" % train_result.best_score_)\nprint(\"Best Hyperparameters: %s\" % train_result.best_params_)\n",
   "execution_count": 17,
   "outputs": [
    {
     "name": "stderr",
     "output_type": "stream",
     "text": "C:\\Users\\SimiTalkar\\miniconda3\\envs\\pycaret_env\\lib\\site-packages\\sklearn\\model_selection\\_search.py:278: UserWarning: The total space of parameters 10 is smaller than n_iter=100. Running 10 iterations. For exhaustive searches, use GridSearchCV.\n  warnings.warn(\n"
    },
    {
     "name": "stdout",
     "output_type": "stream",
     "text": "Best Score: 0.5351705218917426\nBest Hyperparameters: {'fit_intercept': True, 'alpha': 0.001}\n"
    },
    {
     "name": "stderr",
     "output_type": "stream",
     "text": "C:\\Users\\SimiTalkar\\miniconda3\\envs\\pycaret_env\\lib\\site-packages\\sklearn\\linear_model\\_coordinate_descent.py:529: ConvergenceWarning: Objective did not converge. You might want to increase the number of iterations. Duality gap: 1134283.8239211775, tolerance: 5521.090684564099\n  model = cd_fast.enet_coordinate_descent(\n"
    }
   ]
  },
  {
   "cell_type": "code",
   "metadata": {
    "cell_id": "00054-b97c920a-fc8e-49b5-a335-0c3f58a04ae9",
    "deepnote_to_be_reexecuted": false,
    "execution_millis": 696,
    "execution_start": 1653929670734,
    "source_hash": "85c3134f",
    "tags": [],
    "deepnote_cell_type": "code",
    "deepnote_cell_height": 310
   },
   "source": "from sklearn.ensemble import GradientBoostingRegressor\nalpha = 0.5\nloop = 44\ngbrt = GradientBoostingRegressor(\n    max_depth=2, n_estimators=loop, learning_rate=alpha, random_state=RANDOM_SEED, init=\"zero\"\n)\ngbrt.fit(X_train_impute, y_train)\ngbrt.loss\ny_pred = gbrt.predict(X_test_impute)\nr2GBRT = metrics.r2_score(y_test, y_pred)\nprint(\"GBT: R^2 = \", r2GBRT)\n",
   "execution_count": 18,
   "outputs": [
    {
     "name": "stdout",
     "output_type": "stream",
     "text": "GBT: R^2 =  -0.43648030010048555\n"
    }
   ]
  },
  {
   "cell_type": "code",
   "metadata": {
    "cell_id": "00055-50384bc3-a9bc-4bb4-8c27-1c68b9ddef9b",
    "deepnote_to_be_reexecuted": false,
    "execution_millis": 5,
    "execution_start": 1653929671427,
    "source_hash": "4d9c1b61",
    "tags": [],
    "deepnote_cell_type": "code",
    "deepnote_cell_height": 117
   },
   "source": "from  sklearn.svm import SVR\n\n",
   "execution_count": 19,
   "outputs": []
  },
  {
   "cell_type": "markdown",
   "source": "### Support Vector Machine Regressor\n\n- We will be choosing the parameters first in this case and then run the regression with chosen parameters",
   "metadata": {
    "cell_id": "00057-c261d629-09dc-4ce3-a64d-b89b9aee32ea",
    "tags": [],
    "deepnote_cell_type": "markdown",
    "deepnote_cell_height": 114.390625
   }
  },
  {
   "cell_type": "code",
   "metadata": {
    "cell_id": "00058-cefbba18-8b2d-4888-8946-69ebb51e618e",
    "deepnote_to_be_reexecuted": false,
    "execution_millis": 1,
    "execution_start": 1653929671440,
    "source_hash": "a14a50b1",
    "tags": [],
    "deepnote_cell_type": "code",
    "deepnote_cell_height": 405
   },
   "source": "## COmmenting out code since the best parameters have been found\n# param_grid = [\n#     {\n#         \"C\": [0.5, 1, 10, 100],\n#         \"gamma\": [\"scale\", 1, 0.1, 0.01, 0.001, 0.0001],\n#         \"kernel\": [\"rbf\"],\n#     }\n# ]\n\n# optimal_params = GridSearchCV(\n#     SVR(),\n#     param_grid,\n#     cv=5,\n#     scoring='r2',\n#     verbose=0\n# )\n# optimal_params.fit(X_train_impute, y_train)\n# print(optimal_params.best_params_)\n#{'C': 100, 'gamma': 0.01, 'kernel': 'rbf'}",
   "execution_count": 12,
   "outputs": []
  },
  {
   "cell_type": "code",
   "metadata": {
    "cell_id": "00059-423032cc-f059-4772-a853-6e2d4ee3d484",
    "deepnote_to_be_reexecuted": false,
    "execution_millis": 3051,
    "execution_start": 1653929671444,
    "source_hash": "1aaff9d3",
    "tags": [],
    "deepnote_cell_type": "code",
    "deepnote_cell_height": 204
   },
   "source": "svmreg = SVR(C= 100, gamma= 0.01, kernel= 'rbf')\nsvmreg.fit(X_train_impute, y_train)\nprint (f\"Training Score : {svmreg.score(X_train_impute, y_train)}\")\nprint (f\"Testing Score : {svmreg.score(X_test_impute, y_test)}\")\n",
   "execution_count": 20,
   "outputs": [
    {
     "name": "stdout",
     "output_type": "stream",
     "text": "Training Score : 0.4618833343933595\nTesting Score : 0.15005476507505677\n"
    }
   ]
  },
  {
   "cell_type": "code",
   "metadata": {
    "cell_id": "00060-c8535098-513f-4f5e-ab11-377891d10090",
    "deepnote_to_be_reexecuted": false,
    "execution_millis": 1,
    "execution_start": 1653929674489,
    "source_hash": "72d7a8e9",
    "tags": [],
    "deepnote_cell_type": "code",
    "deepnote_cell_height": 243
   },
   "source": "from sklearn.neighbors import KNeighborsRegressor\nfrom sklearn.metrics import mean_squared_error \n# params = {'n_neighbors':[20, 20, 50, 100, 300]}\n\n# knn = KNeighborsRegressor()\n\n# model = GridSearchCV(knn, params, cv=5)\n# model.fit(X_train_impute,y_train)\n# model.best_params_\n#{'n_neighbors': 100}",
   "execution_count": 22,
   "outputs": []
  },
  {
   "cell_type": "code",
   "metadata": {
    "cell_id": "00061-193daddb-256c-4551-b8e4-08ccdf53396b",
    "deepnote_to_be_reexecuted": false,
    "execution_millis": 193,
    "execution_start": 1653929674497,
    "source_hash": "8a538fb",
    "tags": [],
    "deepnote_cell_type": "code",
    "deepnote_cell_height": 186
   },
   "source": "knnreg = KNeighborsRegressor(n_neighbors=100)\nknnreg.fit(X_train_impute, y_train)\nprint (f\"Training Score : {knnreg.score(X_train_impute, y_train)}\")\nprint (f\"Testing Score : {knnreg.score(X_test_impute, y_test)}\")",
   "execution_count": 23,
   "outputs": [
    {
     "name": "stdout",
     "output_type": "stream",
     "text": "Training Score : 0.46663457919327955\nTesting Score : 0.039350703259104836\n"
    }
   ]
  },
  {
   "cell_type": "markdown",
   "source": "#Ideas\n1. Drop features such as vegetation and crops and soil\n2. Add K Means clustering results",
   "metadata": {
    "cell_id": "00062-ed6762fb-6820-4c9c-9f5d-4a3423336815",
    "tags": [],
    "deepnote_cell_type": "markdown",
    "deepnote_cell_height": 128.1875
   }
  },
  {
   "cell_type": "code",
   "metadata": {
    "cell_id": "00021-098872f8-5b53-41ab-b24f-9d8f5da90df4",
    "deepnote_cell_type": "code",
    "deepnote_cell_height": 102
   },
   "source": "with open('X_train_impute_df.pkl', 'rb') as file:\n        X_train_impute_df = pickle.load( file)\n",
   "execution_count": 27,
   "outputs": []
  },
  {
   "cell_type": "code",
   "metadata": {
    "cell_id": "00022-707c84de-aa0f-409e-86ff-494a0a427e49",
    "deepnote_cell_type": "code",
    "deepnote_cell_height": 84
   },
   "source": "with open('X_test_impute_df.pkl', 'rb') as file:\n        X_test_impute_df = pickle.load( file)",
   "execution_count": 28,
   "outputs": []
  },
  {
   "cell_type": "code",
   "metadata": {
    "cell_id": "00023-6cd79944-6eb6-44c7-8f42-a472357e4d24",
    "deepnote_cell_type": "code",
    "deepnote_cell_height": 118.1875,
    "deepnote_output_heights": [
     21.1875
    ]
   },
   "source": "X_train_impute_df.shape",
   "execution_count": 32,
   "outputs": [
    {
     "data": {
      "text/plain": "(3346, 79)"
     },
     "execution_count": 32,
     "metadata": {},
     "output_type": "execute_result"
    }
   ]
  },
  {
   "cell_type": "code",
   "metadata": {
    "cell_id": "00024-7e171edf-70e3-4c6c-8598-79cfd4ee2dc9",
    "deepnote_cell_type": "code",
    "deepnote_cell_height": 102
   },
   "source": "train_data = pd.concat([X_train_impute_df, y_train], axis=1)\ntest_data = pd.concat([X_test_impute_df, y_test], axis=1)\n",
   "execution_count": 43,
   "outputs": []
  },
  {
   "cell_type": "code",
   "metadata": {
    "cell_id": "00025-a0e2583d-8e0a-42c8-940c-0793addf9549",
    "deepnote_cell_type": "code",
    "deepnote_cell_height": 824,
    "deepnote_output_heights": [
     583
    ]
   },
   "source": "from pycaret.regression import *\n#We already have an imputed and scaled train and test, we do not want to preprocess\nwater_depth_exp = setup(train_data, target='GSE_GWE',\n                        train_size=1.0,\n                        test_data= test_data,\n                        preprocess=False, session_id=RANDOM_SEED,\n                       log_experiment=True, experiment_name=\"water_depth_1\")\n\n",
   "execution_count": 48,
   "outputs": [
    {
     "data": {
      "text/html": "<style type=\"text/css\">\n#T_d45f5_row14_col1 {\n  background-color: lightgreen;\n}\n</style>\n<table id=\"T_d45f5\">\n  <thead>\n    <tr>\n      <th class=\"blank level0\" >&nbsp;</th>\n      <th id=\"T_d45f5_level0_col0\" class=\"col_heading level0 col0\" >Description</th>\n      <th id=\"T_d45f5_level0_col1\" class=\"col_heading level0 col1\" >Value</th>\n    </tr>\n  </thead>\n  <tbody>\n    <tr>\n      <th id=\"T_d45f5_level0_row0\" class=\"row_heading level0 row0\" >0</th>\n      <td id=\"T_d45f5_row0_col0\" class=\"data row0 col0\" >session_id</td>\n      <td id=\"T_d45f5_row0_col1\" class=\"data row0 col1\" >42</td>\n    </tr>\n    <tr>\n      <th id=\"T_d45f5_level0_row1\" class=\"row_heading level0 row1\" >1</th>\n      <td id=\"T_d45f5_row1_col0\" class=\"data row1 col0\" >Target</td>\n      <td id=\"T_d45f5_row1_col1\" class=\"data row1 col1\" >GSE_GWE</td>\n    </tr>\n    <tr>\n      <th id=\"T_d45f5_level0_row2\" class=\"row_heading level0 row2\" >2</th>\n      <td id=\"T_d45f5_row2_col0\" class=\"data row2 col0\" >Original Data</td>\n      <td id=\"T_d45f5_row2_col1\" class=\"data row2 col1\" >(3346, 80)</td>\n    </tr>\n    <tr>\n      <th id=\"T_d45f5_level0_row3\" class=\"row_heading level0 row3\" >3</th>\n      <td id=\"T_d45f5_row3_col0\" class=\"data row3 col0\" >Missing Values</td>\n      <td id=\"T_d45f5_row3_col1\" class=\"data row3 col1\" >False</td>\n    </tr>\n    <tr>\n      <th id=\"T_d45f5_level0_row4\" class=\"row_heading level0 row4\" >4</th>\n      <td id=\"T_d45f5_row4_col0\" class=\"data row4 col0\" >Numeric Features</td>\n      <td id=\"T_d45f5_row4_col1\" class=\"data row4 col1\" >79</td>\n    </tr>\n    <tr>\n      <th id=\"T_d45f5_level0_row5\" class=\"row_heading level0 row5\" >5</th>\n      <td id=\"T_d45f5_row5_col0\" class=\"data row5 col0\" >Categorical Features</td>\n      <td id=\"T_d45f5_row5_col1\" class=\"data row5 col1\" >0</td>\n    </tr>\n    <tr>\n      <th id=\"T_d45f5_level0_row6\" class=\"row_heading level0 row6\" >6</th>\n      <td id=\"T_d45f5_row6_col0\" class=\"data row6 col0\" >Transformed Train Set</td>\n      <td id=\"T_d45f5_row6_col1\" class=\"data row6 col1\" >(3346, 79)</td>\n    </tr>\n    <tr>\n      <th id=\"T_d45f5_level0_row7\" class=\"row_heading level0 row7\" >7</th>\n      <td id=\"T_d45f5_row7_col0\" class=\"data row7 col0\" >Transformed Test Set</td>\n      <td id=\"T_d45f5_row7_col1\" class=\"data row7 col1\" >(478, 79)</td>\n    </tr>\n    <tr>\n      <th id=\"T_d45f5_level0_row8\" class=\"row_heading level0 row8\" >8</th>\n      <td id=\"T_d45f5_row8_col0\" class=\"data row8 col0\" >Shuffle Train-Test</td>\n      <td id=\"T_d45f5_row8_col1\" class=\"data row8 col1\" >True</td>\n    </tr>\n    <tr>\n      <th id=\"T_d45f5_level0_row9\" class=\"row_heading level0 row9\" >9</th>\n      <td id=\"T_d45f5_row9_col0\" class=\"data row9 col0\" >Stratify Train-Test</td>\n      <td id=\"T_d45f5_row9_col1\" class=\"data row9 col1\" >False</td>\n    </tr>\n    <tr>\n      <th id=\"T_d45f5_level0_row10\" class=\"row_heading level0 row10\" >10</th>\n      <td id=\"T_d45f5_row10_col0\" class=\"data row10 col0\" >Fold Generator</td>\n      <td id=\"T_d45f5_row10_col1\" class=\"data row10 col1\" >KFold</td>\n    </tr>\n    <tr>\n      <th id=\"T_d45f5_level0_row11\" class=\"row_heading level0 row11\" >11</th>\n      <td id=\"T_d45f5_row11_col0\" class=\"data row11 col0\" >Fold Number</td>\n      <td id=\"T_d45f5_row11_col1\" class=\"data row11 col1\" >10</td>\n    </tr>\n    <tr>\n      <th id=\"T_d45f5_level0_row12\" class=\"row_heading level0 row12\" >12</th>\n      <td id=\"T_d45f5_row12_col0\" class=\"data row12 col0\" >CPU Jobs</td>\n      <td id=\"T_d45f5_row12_col1\" class=\"data row12 col1\" >-1</td>\n    </tr>\n    <tr>\n      <th id=\"T_d45f5_level0_row13\" class=\"row_heading level0 row13\" >13</th>\n      <td id=\"T_d45f5_row13_col0\" class=\"data row13 col0\" >Use GPU</td>\n      <td id=\"T_d45f5_row13_col1\" class=\"data row13 col1\" >False</td>\n    </tr>\n    <tr>\n      <th id=\"T_d45f5_level0_row14\" class=\"row_heading level0 row14\" >14</th>\n      <td id=\"T_d45f5_row14_col0\" class=\"data row14 col0\" >Log Experiment</td>\n      <td id=\"T_d45f5_row14_col1\" class=\"data row14 col1\" >True</td>\n    </tr>\n    <tr>\n      <th id=\"T_d45f5_level0_row15\" class=\"row_heading level0 row15\" >15</th>\n      <td id=\"T_d45f5_row15_col0\" class=\"data row15 col0\" >Experiment Name</td>\n      <td id=\"T_d45f5_row15_col1\" class=\"data row15 col1\" >water_depth_1</td>\n    </tr>\n    <tr>\n      <th id=\"T_d45f5_level0_row16\" class=\"row_heading level0 row16\" >16</th>\n      <td id=\"T_d45f5_row16_col0\" class=\"data row16 col0\" >USI</td>\n      <td id=\"T_d45f5_row16_col1\" class=\"data row16 col1\" >13b0</td>\n    </tr>\n    <tr>\n      <th id=\"T_d45f5_level0_row17\" class=\"row_heading level0 row17\" >17</th>\n      <td id=\"T_d45f5_row17_col0\" class=\"data row17 col0\" >Transform Target</td>\n      <td id=\"T_d45f5_row17_col1\" class=\"data row17 col1\" >False</td>\n    </tr>\n    <tr>\n      <th id=\"T_d45f5_level0_row18\" class=\"row_heading level0 row18\" >18</th>\n      <td id=\"T_d45f5_row18_col0\" class=\"data row18 col0\" >Transform Target Method</td>\n      <td id=\"T_d45f5_row18_col1\" class=\"data row18 col1\" >box-cox</td>\n    </tr>\n  </tbody>\n</table>\n",
      "text/plain": "<pandas.io.formats.style.Styler at 0x1e1b970cf70>"
     },
     "metadata": {},
     "output_type": "display_data"
    }
   ]
  },
  {
   "cell_type": "code",
   "metadata": {
    "cell_id": "00026-4b4c5a60-5fd3-4ebd-9525-7e0c2981aa4d",
    "deepnote_cell_type": "code",
    "deepnote_cell_height": 578,
    "deepnote_output_heights": [
     409
    ]
   },
   "source": "%matplotlib inline\n#creating a model\nlr = create_model('lr')\n\n",
   "execution_count": 51,
   "outputs": [
    {
     "data": {
      "text/html": "<style type=\"text/css\">\n#T_2a178_row10_col0, #T_2a178_row10_col1, #T_2a178_row10_col2, #T_2a178_row10_col3, #T_2a178_row10_col4, #T_2a178_row10_col5 {\n  background: yellow;\n}\n</style>\n<table id=\"T_2a178\">\n  <thead>\n    <tr>\n      <th class=\"blank level0\" >&nbsp;</th>\n      <th id=\"T_2a178_level0_col0\" class=\"col_heading level0 col0\" >MAE</th>\n      <th id=\"T_2a178_level0_col1\" class=\"col_heading level0 col1\" >MSE</th>\n      <th id=\"T_2a178_level0_col2\" class=\"col_heading level0 col2\" >RMSE</th>\n      <th id=\"T_2a178_level0_col3\" class=\"col_heading level0 col3\" >R2</th>\n      <th id=\"T_2a178_level0_col4\" class=\"col_heading level0 col4\" >RMSLE</th>\n      <th id=\"T_2a178_level0_col5\" class=\"col_heading level0 col5\" >MAPE</th>\n    </tr>\n    <tr>\n      <th class=\"index_name level0\" >Fold</th>\n      <th class=\"blank col0\" >&nbsp;</th>\n      <th class=\"blank col1\" >&nbsp;</th>\n      <th class=\"blank col2\" >&nbsp;</th>\n      <th class=\"blank col3\" >&nbsp;</th>\n      <th class=\"blank col4\" >&nbsp;</th>\n      <th class=\"blank col5\" >&nbsp;</th>\n    </tr>\n  </thead>\n  <tbody>\n    <tr>\n      <th id=\"T_2a178_level0_row0\" class=\"row_heading level0 row0\" >0</th>\n      <td id=\"T_2a178_row0_col0\" class=\"data row0 col0\" >60.5388</td>\n      <td id=\"T_2a178_row0_col1\" class=\"data row0 col1\" >5620.5918</td>\n      <td id=\"T_2a178_row0_col2\" class=\"data row0 col2\" >74.9706</td>\n      <td id=\"T_2a178_row0_col3\" class=\"data row0 col3\" >-1.5227</td>\n      <td id=\"T_2a178_row0_col4\" class=\"data row0 col4\" >1.1444</td>\n      <td id=\"T_2a178_row0_col5\" class=\"data row0 col5\" >2.5886</td>\n    </tr>\n    <tr>\n      <th id=\"T_2a178_level0_row1\" class=\"row_heading level0 row1\" >1</th>\n      <td id=\"T_2a178_row1_col0\" class=\"data row1 col0\" >49.3387</td>\n      <td id=\"T_2a178_row1_col1\" class=\"data row1 col1\" >5548.7603</td>\n      <td id=\"T_2a178_row1_col2\" class=\"data row1 col2\" >74.4900</td>\n      <td id=\"T_2a178_row1_col3\" class=\"data row1 col3\" >-0.6424</td>\n      <td id=\"T_2a178_row1_col4\" class=\"data row1 col4\" >1.0168</td>\n      <td id=\"T_2a178_row1_col5\" class=\"data row1 col5\" >1.8340</td>\n    </tr>\n    <tr>\n      <th id=\"T_2a178_level0_row2\" class=\"row_heading level0 row2\" >2</th>\n      <td id=\"T_2a178_row2_col0\" class=\"data row2 col0\" >61.2456</td>\n      <td id=\"T_2a178_row2_col1\" class=\"data row2 col1\" >5839.9990</td>\n      <td id=\"T_2a178_row2_col2\" class=\"data row2 col2\" >76.4199</td>\n      <td id=\"T_2a178_row2_col3\" class=\"data row2 col3\" >-0.6195</td>\n      <td id=\"T_2a178_row2_col4\" class=\"data row2 col4\" >0.9926</td>\n      <td id=\"T_2a178_row2_col5\" class=\"data row2 col5\" >1.6280</td>\n    </tr>\n    <tr>\n      <th id=\"T_2a178_level0_row3\" class=\"row_heading level0 row3\" >3</th>\n      <td id=\"T_2a178_row3_col0\" class=\"data row3 col0\" >118.8062</td>\n      <td id=\"T_2a178_row3_col1\" class=\"data row3 col1\" >28076.2383</td>\n      <td id=\"T_2a178_row3_col2\" class=\"data row3 col2\" >167.5597</td>\n      <td id=\"T_2a178_row3_col3\" class=\"data row3 col3\" >-0.1898</td>\n      <td id=\"T_2a178_row3_col4\" class=\"data row3 col4\" >1.3896</td>\n      <td id=\"T_2a178_row3_col5\" class=\"data row3 col5\" >1.0325</td>\n    </tr>\n    <tr>\n      <th id=\"T_2a178_level0_row4\" class=\"row_heading level0 row4\" >4</th>\n      <td id=\"T_2a178_row4_col0\" class=\"data row4 col0\" >96.4245</td>\n      <td id=\"T_2a178_row4_col1\" class=\"data row4 col1\" >14653.2568</td>\n      <td id=\"T_2a178_row4_col2\" class=\"data row4 col2\" >121.0506</td>\n      <td id=\"T_2a178_row4_col3\" class=\"data row4 col3\" >-0.1081</td>\n      <td id=\"T_2a178_row4_col4\" class=\"data row4 col4\" >1.1343</td>\n      <td id=\"T_2a178_row4_col5\" class=\"data row4 col5\" >4.7910</td>\n    </tr>\n    <tr>\n      <th id=\"T_2a178_level0_row5\" class=\"row_heading level0 row5\" >5</th>\n      <td id=\"T_2a178_row5_col0\" class=\"data row5 col0\" >98.9647</td>\n      <td id=\"T_2a178_row5_col1\" class=\"data row5 col1\" >17178.0098</td>\n      <td id=\"T_2a178_row5_col2\" class=\"data row5 col2\" >131.0649</td>\n      <td id=\"T_2a178_row5_col3\" class=\"data row5 col3\" >0.0658</td>\n      <td id=\"T_2a178_row5_col4\" class=\"data row5 col4\" >0.8439</td>\n      <td id=\"T_2a178_row5_col5\" class=\"data row5 col5\" >1.1027</td>\n    </tr>\n    <tr>\n      <th id=\"T_2a178_level0_row6\" class=\"row_heading level0 row6\" >6</th>\n      <td id=\"T_2a178_row6_col0\" class=\"data row6 col0\" >59.3629</td>\n      <td id=\"T_2a178_row6_col1\" class=\"data row6 col1\" >6646.0986</td>\n      <td id=\"T_2a178_row6_col2\" class=\"data row6 col2\" >81.5236</td>\n      <td id=\"T_2a178_row6_col3\" class=\"data row6 col3\" >0.5908</td>\n      <td id=\"T_2a178_row6_col4\" class=\"data row6 col4\" >0.6764</td>\n      <td id=\"T_2a178_row6_col5\" class=\"data row6 col5\" >0.4034</td>\n    </tr>\n    <tr>\n      <th id=\"T_2a178_level0_row7\" class=\"row_heading level0 row7\" >7</th>\n      <td id=\"T_2a178_row7_col0\" class=\"data row7 col0\" >93.7905</td>\n      <td id=\"T_2a178_row7_col1\" class=\"data row7 col1\" >14339.1016</td>\n      <td id=\"T_2a178_row7_col2\" class=\"data row7 col2\" >119.7460</td>\n      <td id=\"T_2a178_row7_col3\" class=\"data row7 col3\" >-0.7675</td>\n      <td id=\"T_2a178_row7_col4\" class=\"data row7 col4\" >0.9613</td>\n      <td id=\"T_2a178_row7_col5\" class=\"data row7 col5\" >0.4945</td>\n    </tr>\n    <tr>\n      <th id=\"T_2a178_level0_row8\" class=\"row_heading level0 row8\" >8</th>\n      <td id=\"T_2a178_row8_col0\" class=\"data row8 col0\" >149.1625</td>\n      <td id=\"T_2a178_row8_col1\" class=\"data row8 col1\" >33760.8281</td>\n      <td id=\"T_2a178_row8_col2\" class=\"data row8 col2\" >183.7412</td>\n      <td id=\"T_2a178_row8_col3\" class=\"data row8 col3\" >-0.2025</td>\n      <td id=\"T_2a178_row8_col4\" class=\"data row8 col4\" >0.8881</td>\n      <td id=\"T_2a178_row8_col5\" class=\"data row8 col5\" >1.1453</td>\n    </tr>\n    <tr>\n      <th id=\"T_2a178_level0_row9\" class=\"row_heading level0 row9\" >9</th>\n      <td id=\"T_2a178_row9_col0\" class=\"data row9 col0\" >87.2911</td>\n      <td id=\"T_2a178_row9_col1\" class=\"data row9 col1\" >19370.2461</td>\n      <td id=\"T_2a178_row9_col2\" class=\"data row9 col2\" >139.1770</td>\n      <td id=\"T_2a178_row9_col3\" class=\"data row9 col3\" >-0.7589</td>\n      <td id=\"T_2a178_row9_col4\" class=\"data row9 col4\" >0.6747</td>\n      <td id=\"T_2a178_row9_col5\" class=\"data row9 col5\" >0.8239</td>\n    </tr>\n    <tr>\n      <th id=\"T_2a178_level0_row10\" class=\"row_heading level0 row10\" >Mean</th>\n      <td id=\"T_2a178_row10_col0\" class=\"data row10 col0\" >87.4926</td>\n      <td id=\"T_2a178_row10_col1\" class=\"data row10 col1\" >15103.3130</td>\n      <td id=\"T_2a178_row10_col2\" class=\"data row10 col2\" >116.9744</td>\n      <td id=\"T_2a178_row10_col3\" class=\"data row10 col3\" >-0.4155</td>\n      <td id=\"T_2a178_row10_col4\" class=\"data row10 col4\" >0.9722</td>\n      <td id=\"T_2a178_row10_col5\" class=\"data row10 col5\" >1.5844</td>\n    </tr>\n    <tr>\n      <th id=\"T_2a178_level0_row11\" class=\"row_heading level0 row11\" >Std</th>\n      <td id=\"T_2a178_row11_col0\" class=\"data row11 col0\" >29.4911</td>\n      <td id=\"T_2a178_row11_col1\" class=\"data row11 col1\" >9371.4580</td>\n      <td id=\"T_2a178_row11_col2\" class=\"data row11 col2\" >37.6871</td>\n      <td id=\"T_2a178_row11_col3\" class=\"data row11 col3\" >0.5473</td>\n      <td id=\"T_2a178_row11_col4\" class=\"data row11 col4\" >0.2079</td>\n      <td id=\"T_2a178_row11_col5\" class=\"data row11 col5\" >1.2347</td>\n    </tr>\n  </tbody>\n</table>\n",
      "text/plain": "<pandas.io.formats.style.Styler at 0x1e1b866eb20>"
     },
     "metadata": {},
     "output_type": "display_data"
    }
   ]
  },
  {
   "cell_type": "code",
   "metadata": {
    "cell_id": "00027-3a981290-db17-4965-833b-e11778d11a03",
    "deepnote_cell_type": "code",
    "deepnote_cell_height": 818.375,
    "deepnote_output_heights": [
     554,
     136.390625
    ]
   },
   "source": "compare_models()",
   "execution_count": 52,
   "outputs": [
    {
     "data": {
      "text/html": "<style type=\"text/css\">\n#T_eb79c th {\n  text-align: left;\n}\n#T_eb79c_row0_col0, #T_eb79c_row0_col5, #T_eb79c_row0_col6, #T_eb79c_row1_col0, #T_eb79c_row1_col1, #T_eb79c_row1_col2, #T_eb79c_row1_col3, #T_eb79c_row1_col4, #T_eb79c_row2_col0, #T_eb79c_row2_col1, #T_eb79c_row2_col2, #T_eb79c_row2_col3, #T_eb79c_row2_col4, #T_eb79c_row2_col5, #T_eb79c_row2_col6, #T_eb79c_row3_col0, #T_eb79c_row3_col1, #T_eb79c_row3_col2, #T_eb79c_row3_col3, #T_eb79c_row3_col4, #T_eb79c_row3_col5, #T_eb79c_row3_col6, #T_eb79c_row4_col0, #T_eb79c_row4_col1, #T_eb79c_row4_col2, #T_eb79c_row4_col3, #T_eb79c_row4_col4, #T_eb79c_row4_col5, #T_eb79c_row4_col6, #T_eb79c_row5_col0, #T_eb79c_row5_col1, #T_eb79c_row5_col2, #T_eb79c_row5_col3, #T_eb79c_row5_col4, #T_eb79c_row5_col5, #T_eb79c_row5_col6, #T_eb79c_row6_col0, #T_eb79c_row6_col1, #T_eb79c_row6_col2, #T_eb79c_row6_col3, #T_eb79c_row6_col4, #T_eb79c_row6_col5, #T_eb79c_row6_col6, #T_eb79c_row7_col0, #T_eb79c_row7_col1, #T_eb79c_row7_col2, #T_eb79c_row7_col3, #T_eb79c_row7_col4, #T_eb79c_row7_col5, #T_eb79c_row7_col6, #T_eb79c_row8_col0, #T_eb79c_row8_col1, #T_eb79c_row8_col2, #T_eb79c_row8_col3, #T_eb79c_row8_col4, #T_eb79c_row8_col5, #T_eb79c_row8_col6, #T_eb79c_row9_col0, #T_eb79c_row9_col1, #T_eb79c_row9_col2, #T_eb79c_row9_col3, #T_eb79c_row9_col4, #T_eb79c_row9_col5, #T_eb79c_row9_col6, #T_eb79c_row10_col0, #T_eb79c_row10_col1, #T_eb79c_row10_col2, #T_eb79c_row10_col3, #T_eb79c_row10_col4, #T_eb79c_row10_col5, #T_eb79c_row10_col6, #T_eb79c_row11_col0, #T_eb79c_row11_col1, #T_eb79c_row11_col2, #T_eb79c_row11_col3, #T_eb79c_row11_col4, #T_eb79c_row11_col5, #T_eb79c_row11_col6, #T_eb79c_row12_col0, #T_eb79c_row12_col1, #T_eb79c_row12_col2, #T_eb79c_row12_col3, #T_eb79c_row12_col4, #T_eb79c_row12_col5, #T_eb79c_row12_col6, #T_eb79c_row13_col0, #T_eb79c_row13_col1, #T_eb79c_row13_col2, #T_eb79c_row13_col3, #T_eb79c_row13_col4, #T_eb79c_row13_col5, #T_eb79c_row13_col6, #T_eb79c_row14_col0, #T_eb79c_row14_col1, #T_eb79c_row14_col2, #T_eb79c_row14_col3, #T_eb79c_row14_col4, #T_eb79c_row14_col5, #T_eb79c_row14_col6, #T_eb79c_row15_col0, #T_eb79c_row15_col1, #T_eb79c_row15_col2, #T_eb79c_row15_col3, #T_eb79c_row15_col4, #T_eb79c_row15_col5, #T_eb79c_row15_col6, #T_eb79c_row16_col0, #T_eb79c_row16_col1, #T_eb79c_row16_col2, #T_eb79c_row16_col3, #T_eb79c_row16_col4, #T_eb79c_row16_col5, #T_eb79c_row16_col6, #T_eb79c_row17_col0, #T_eb79c_row17_col1, #T_eb79c_row17_col2, #T_eb79c_row17_col3, #T_eb79c_row17_col4, #T_eb79c_row17_col5, #T_eb79c_row17_col6 {\n  text-align: left;\n}\n#T_eb79c_row0_col1, #T_eb79c_row0_col2, #T_eb79c_row0_col3, #T_eb79c_row0_col4, #T_eb79c_row1_col5, #T_eb79c_row1_col6 {\n  text-align: left;\n  background-color: yellow;\n}\n#T_eb79c_row0_col7, #T_eb79c_row1_col7, #T_eb79c_row2_col7, #T_eb79c_row3_col7, #T_eb79c_row4_col7, #T_eb79c_row5_col7, #T_eb79c_row6_col7, #T_eb79c_row8_col7, #T_eb79c_row9_col7, #T_eb79c_row10_col7, #T_eb79c_row12_col7, #T_eb79c_row13_col7, #T_eb79c_row14_col7, #T_eb79c_row15_col7, #T_eb79c_row16_col7, #T_eb79c_row17_col7 {\n  text-align: left;\n  background-color: lightgrey;\n}\n#T_eb79c_row7_col7, #T_eb79c_row11_col7 {\n  text-align: left;\n  background-color: yellow;\n  background-color: lightgrey;\n}\n</style>\n<table id=\"T_eb79c\">\n  <thead>\n    <tr>\n      <th class=\"blank level0\" >&nbsp;</th>\n      <th id=\"T_eb79c_level0_col0\" class=\"col_heading level0 col0\" >Model</th>\n      <th id=\"T_eb79c_level0_col1\" class=\"col_heading level0 col1\" >MAE</th>\n      <th id=\"T_eb79c_level0_col2\" class=\"col_heading level0 col2\" >MSE</th>\n      <th id=\"T_eb79c_level0_col3\" class=\"col_heading level0 col3\" >RMSE</th>\n      <th id=\"T_eb79c_level0_col4\" class=\"col_heading level0 col4\" >R2</th>\n      <th id=\"T_eb79c_level0_col5\" class=\"col_heading level0 col5\" >RMSLE</th>\n      <th id=\"T_eb79c_level0_col6\" class=\"col_heading level0 col6\" >MAPE</th>\n      <th id=\"T_eb79c_level0_col7\" class=\"col_heading level0 col7\" >TT (Sec)</th>\n    </tr>\n  </thead>\n  <tbody>\n    <tr>\n      <th id=\"T_eb79c_level0_row0\" class=\"row_heading level0 row0\" >et</th>\n      <td id=\"T_eb79c_row0_col0\" class=\"data row0 col0\" >Extra Trees Regressor</td>\n      <td id=\"T_eb79c_row0_col1\" class=\"data row0 col1\" >70.5179</td>\n      <td id=\"T_eb79c_row0_col2\" class=\"data row0 col2\" >10740.0180</td>\n      <td id=\"T_eb79c_row0_col3\" class=\"data row0 col3\" >97.2247</td>\n      <td id=\"T_eb79c_row0_col4\" class=\"data row0 col4\" >0.0540</td>\n      <td id=\"T_eb79c_row0_col5\" class=\"data row0 col5\" >0.7837</td>\n      <td id=\"T_eb79c_row0_col6\" class=\"data row0 col6\" >1.5393</td>\n      <td id=\"T_eb79c_row0_col7\" class=\"data row0 col7\" >0.2890</td>\n    </tr>\n    <tr>\n      <th id=\"T_eb79c_level0_row1\" class=\"row_heading level0 row1\" >knn</th>\n      <td id=\"T_eb79c_row1_col0\" class=\"data row1 col0\" >K Neighbors Regressor</td>\n      <td id=\"T_eb79c_row1_col1\" class=\"data row1 col1\" >72.3936</td>\n      <td id=\"T_eb79c_row1_col2\" class=\"data row1 col2\" >11579.0293</td>\n      <td id=\"T_eb79c_row1_col3\" class=\"data row1 col3\" >102.3158</td>\n      <td id=\"T_eb79c_row1_col4\" class=\"data row1 col4\" >-0.0231</td>\n      <td id=\"T_eb79c_row1_col5\" class=\"data row1 col5\" >0.7836</td>\n      <td id=\"T_eb79c_row1_col6\" class=\"data row1 col6\" >1.3389</td>\n      <td id=\"T_eb79c_row1_col7\" class=\"data row1 col7\" >0.0250</td>\n    </tr>\n    <tr>\n      <th id=\"T_eb79c_level0_row2\" class=\"row_heading level0 row2\" >lightgbm</th>\n      <td id=\"T_eb79c_row2_col0\" class=\"data row2 col0\" >Light Gradient Boosting Machine</td>\n      <td id=\"T_eb79c_row2_col1\" class=\"data row2 col1\" >72.2234</td>\n      <td id=\"T_eb79c_row2_col2\" class=\"data row2 col2\" >12082.0949</td>\n      <td id=\"T_eb79c_row2_col3\" class=\"data row2 col3\" >104.0247</td>\n      <td id=\"T_eb79c_row2_col4\" class=\"data row2 col4\" >-0.0865</td>\n      <td id=\"T_eb79c_row2_col5\" class=\"data row2 col5\" >0.7844</td>\n      <td id=\"T_eb79c_row2_col6\" class=\"data row2 col6\" >1.6298</td>\n      <td id=\"T_eb79c_row2_col7\" class=\"data row2 col7\" >0.0630</td>\n    </tr>\n    <tr>\n      <th id=\"T_eb79c_level0_row3\" class=\"row_heading level0 row3\" >rf</th>\n      <td id=\"T_eb79c_row3_col0\" class=\"data row3 col0\" >Random Forest Regressor</td>\n      <td id=\"T_eb79c_row3_col1\" class=\"data row3 col1\" >73.4169</td>\n      <td id=\"T_eb79c_row3_col2\" class=\"data row3 col2\" >12195.5446</td>\n      <td id=\"T_eb79c_row3_col3\" class=\"data row3 col3\" >104.9810</td>\n      <td id=\"T_eb79c_row3_col4\" class=\"data row3 col4\" >-0.1185</td>\n      <td id=\"T_eb79c_row3_col5\" class=\"data row3 col5\" >0.7926</td>\n      <td id=\"T_eb79c_row3_col6\" class=\"data row3 col6\" >1.6145</td>\n      <td id=\"T_eb79c_row3_col7\" class=\"data row3 col7\" >0.4390</td>\n    </tr>\n    <tr>\n      <th id=\"T_eb79c_level0_row4\" class=\"row_heading level0 row4\" >gbr</th>\n      <td id=\"T_eb79c_row4_col0\" class=\"data row4 col0\" >Gradient Boosting Regressor</td>\n      <td id=\"T_eb79c_row4_col1\" class=\"data row4 col1\" >76.1402</td>\n      <td id=\"T_eb79c_row4_col2\" class=\"data row4 col2\" >12038.4885</td>\n      <td id=\"T_eb79c_row4_col3\" class=\"data row4 col3\" >104.5773</td>\n      <td id=\"T_eb79c_row4_col4\" class=\"data row4 col4\" >-0.1513</td>\n      <td id=\"T_eb79c_row4_col5\" class=\"data row4 col5\" >0.8097</td>\n      <td id=\"T_eb79c_row4_col6\" class=\"data row4 col6\" >1.6620</td>\n      <td id=\"T_eb79c_row4_col7\" class=\"data row4 col7\" >0.1920</td>\n    </tr>\n    <tr>\n      <th id=\"T_eb79c_level0_row5\" class=\"row_heading level0 row5\" >par</th>\n      <td id=\"T_eb79c_row5_col0\" class=\"data row5 col0\" >Passive Aggressive Regressor</td>\n      <td id=\"T_eb79c_row5_col1\" class=\"data row5 col1\" >82.9517</td>\n      <td id=\"T_eb79c_row5_col2\" class=\"data row5 col2\" >14187.0734</td>\n      <td id=\"T_eb79c_row5_col3\" class=\"data row5 col3\" >111.4536</td>\n      <td id=\"T_eb79c_row5_col4\" class=\"data row5 col4\" >-0.2351</td>\n      <td id=\"T_eb79c_row5_col5\" class=\"data row5 col5\" >0.8758</td>\n      <td id=\"T_eb79c_row5_col6\" class=\"data row5 col6\" >1.3517</td>\n      <td id=\"T_eb79c_row5_col7\" class=\"data row5 col7\" >0.0170</td>\n    </tr>\n    <tr>\n      <th id=\"T_eb79c_level0_row6\" class=\"row_heading level0 row6\" >huber</th>\n      <td id=\"T_eb79c_row6_col0\" class=\"data row6 col0\" >Huber Regressor</td>\n      <td id=\"T_eb79c_row6_col1\" class=\"data row6 col1\" >82.1171</td>\n      <td id=\"T_eb79c_row6_col2\" class=\"data row6 col2\" >14566.4120</td>\n      <td id=\"T_eb79c_row6_col3\" class=\"data row6 col3\" >112.6090</td>\n      <td id=\"T_eb79c_row6_col4\" class=\"data row6 col4\" >-0.2532</td>\n      <td id=\"T_eb79c_row6_col5\" class=\"data row6 col5\" >0.8856</td>\n      <td id=\"T_eb79c_row6_col6\" class=\"data row6 col6\" >1.4366</td>\n      <td id=\"T_eb79c_row6_col7\" class=\"data row6 col7\" >0.0710</td>\n    </tr>\n    <tr>\n      <th id=\"T_eb79c_level0_row7\" class=\"row_heading level0 row7\" >ridge</th>\n      <td id=\"T_eb79c_row7_col0\" class=\"data row7 col0\" >Ridge Regression</td>\n      <td id=\"T_eb79c_row7_col1\" class=\"data row7 col1\" >85.3541</td>\n      <td id=\"T_eb79c_row7_col2\" class=\"data row7 col2\" >14136.0790</td>\n      <td id=\"T_eb79c_row7_col3\" class=\"data row7 col3\" >112.3464</td>\n      <td id=\"T_eb79c_row7_col4\" class=\"data row7 col4\" >-0.2633</td>\n      <td id=\"T_eb79c_row7_col5\" class=\"data row7 col5\" >0.9009</td>\n      <td id=\"T_eb79c_row7_col6\" class=\"data row7 col6\" >1.6376</td>\n      <td id=\"T_eb79c_row7_col7\" class=\"data row7 col7\" >0.0140</td>\n    </tr>\n    <tr>\n      <th id=\"T_eb79c_level0_row8\" class=\"row_heading level0 row8\" >lasso</th>\n      <td id=\"T_eb79c_row8_col0\" class=\"data row8 col0\" >Lasso Regression</td>\n      <td id=\"T_eb79c_row8_col1\" class=\"data row8 col1\" >87.8802</td>\n      <td id=\"T_eb79c_row8_col2\" class=\"data row8 col2\" >14246.0999</td>\n      <td id=\"T_eb79c_row8_col3\" class=\"data row8 col3\" >113.4517</td>\n      <td id=\"T_eb79c_row8_col4\" class=\"data row8 col4\" >-0.2746</td>\n      <td id=\"T_eb79c_row8_col5\" class=\"data row8 col5\" >0.9110</td>\n      <td id=\"T_eb79c_row8_col6\" class=\"data row8 col6\" >1.7799</td>\n      <td id=\"T_eb79c_row8_col7\" class=\"data row8 col7\" >0.2090</td>\n    </tr>\n    <tr>\n      <th id=\"T_eb79c_level0_row9\" class=\"row_heading level0 row9\" >br</th>\n      <td id=\"T_eb79c_row9_col0\" class=\"data row9 col0\" >Bayesian Ridge</td>\n      <td id=\"T_eb79c_row9_col1\" class=\"data row9 col1\" >86.9092</td>\n      <td id=\"T_eb79c_row9_col2\" class=\"data row9 col2\" >14699.0325</td>\n      <td id=\"T_eb79c_row9_col3\" class=\"data row9 col3\" >115.0278</td>\n      <td id=\"T_eb79c_row9_col4\" class=\"data row9 col4\" >-0.3561</td>\n      <td id=\"T_eb79c_row9_col5\" class=\"data row9 col5\" >0.9327</td>\n      <td id=\"T_eb79c_row9_col6\" class=\"data row9 col6\" >1.6091</td>\n      <td id=\"T_eb79c_row9_col7\" class=\"data row9 col7\" >0.0170</td>\n    </tr>\n    <tr>\n      <th id=\"T_eb79c_level0_row10\" class=\"row_heading level0 row10\" >en</th>\n      <td id=\"T_eb79c_row10_col0\" class=\"data row10 col0\" >Elastic Net</td>\n      <td id=\"T_eb79c_row10_col1\" class=\"data row10 col1\" >87.8413</td>\n      <td id=\"T_eb79c_row10_col2\" class=\"data row10 col2\" >13375.0244</td>\n      <td id=\"T_eb79c_row10_col3\" class=\"data row10 col3\" >111.8951</td>\n      <td id=\"T_eb79c_row10_col4\" class=\"data row10 col4\" >-0.3626</td>\n      <td id=\"T_eb79c_row10_col5\" class=\"data row10 col5\" >0.9145</td>\n      <td id=\"T_eb79c_row10_col6\" class=\"data row10 col6\" >1.8267</td>\n      <td id=\"T_eb79c_row10_col7\" class=\"data row10 col7\" >0.0150</td>\n    </tr>\n    <tr>\n      <th id=\"T_eb79c_level0_row11\" class=\"row_heading level0 row11\" >lr</th>\n      <td id=\"T_eb79c_row11_col0\" class=\"data row11 col0\" >Linear Regression</td>\n      <td id=\"T_eb79c_row11_col1\" class=\"data row11 col1\" >87.4926</td>\n      <td id=\"T_eb79c_row11_col2\" class=\"data row11 col2\" >15103.3130</td>\n      <td id=\"T_eb79c_row11_col3\" class=\"data row11 col3\" >116.9744</td>\n      <td id=\"T_eb79c_row11_col4\" class=\"data row11 col4\" >-0.4155</td>\n      <td id=\"T_eb79c_row11_col5\" class=\"data row11 col5\" >0.9722</td>\n      <td id=\"T_eb79c_row11_col6\" class=\"data row11 col6\" >1.5844</td>\n      <td id=\"T_eb79c_row11_col7\" class=\"data row11 col7\" >0.0140</td>\n    </tr>\n    <tr>\n      <th id=\"T_eb79c_level0_row12\" class=\"row_heading level0 row12\" >omp</th>\n      <td id=\"T_eb79c_row12_col0\" class=\"data row12 col0\" >Orthogonal Matching Pursuit</td>\n      <td id=\"T_eb79c_row12_col1\" class=\"data row12 col1\" >96.0501</td>\n      <td id=\"T_eb79c_row12_col2\" class=\"data row12 col2\" >16892.0162</td>\n      <td id=\"T_eb79c_row12_col3\" class=\"data row12 col3\" >122.8689</td>\n      <td id=\"T_eb79c_row12_col4\" class=\"data row12 col4\" >-0.5132</td>\n      <td id=\"T_eb79c_row12_col5\" class=\"data row12 col5\" >0.9519</td>\n      <td id=\"T_eb79c_row12_col6\" class=\"data row12 col6\" >1.9352</td>\n      <td id=\"T_eb79c_row12_col7\" class=\"data row12 col7\" >0.0150</td>\n    </tr>\n    <tr>\n      <th id=\"T_eb79c_level0_row13\" class=\"row_heading level0 row13\" >ada</th>\n      <td id=\"T_eb79c_row13_col0\" class=\"data row13 col0\" >AdaBoost Regressor</td>\n      <td id=\"T_eb79c_row13_col1\" class=\"data row13 col1\" >95.7915</td>\n      <td id=\"T_eb79c_row13_col2\" class=\"data row13 col2\" >15214.2685</td>\n      <td id=\"T_eb79c_row13_col3\" class=\"data row13 col3\" >119.7483</td>\n      <td id=\"T_eb79c_row13_col4\" class=\"data row13 col4\" >-0.8421</td>\n      <td id=\"T_eb79c_row13_col5\" class=\"data row13 col5\" >0.9727</td>\n      <td id=\"T_eb79c_row13_col6\" class=\"data row13 col6\" >2.4582</td>\n      <td id=\"T_eb79c_row13_col7\" class=\"data row13 col7\" >0.0690</td>\n    </tr>\n    <tr>\n      <th id=\"T_eb79c_level0_row14\" class=\"row_heading level0 row14\" >llar</th>\n      <td id=\"T_eb79c_row14_col0\" class=\"data row14 col0\" >Lasso Least Angle Regression</td>\n      <td id=\"T_eb79c_row14_col1\" class=\"data row14 col1\" >104.3947</td>\n      <td id=\"T_eb79c_row14_col2\" class=\"data row14 col2\" >17376.0472</td>\n      <td id=\"T_eb79c_row14_col3\" class=\"data row14 col3\" >128.9989</td>\n      <td id=\"T_eb79c_row14_col4\" class=\"data row14 col4\" >-1.0973</td>\n      <td id=\"T_eb79c_row14_col5\" class=\"data row14 col5\" >1.0032</td>\n      <td id=\"T_eb79c_row14_col6\" class=\"data row14 col6\" >2.2723</td>\n      <td id=\"T_eb79c_row14_col7\" class=\"data row14 col7\" >0.0150</td>\n    </tr>\n    <tr>\n      <th id=\"T_eb79c_level0_row15\" class=\"row_heading level0 row15\" >dummy</th>\n      <td id=\"T_eb79c_row15_col0\" class=\"data row15 col0\" >Dummy Regressor</td>\n      <td id=\"T_eb79c_row15_col1\" class=\"data row15 col1\" >104.3947</td>\n      <td id=\"T_eb79c_row15_col2\" class=\"data row15 col2\" >17376.0472</td>\n      <td id=\"T_eb79c_row15_col3\" class=\"data row15 col3\" >128.9989</td>\n      <td id=\"T_eb79c_row15_col4\" class=\"data row15 col4\" >-1.0973</td>\n      <td id=\"T_eb79c_row15_col5\" class=\"data row15 col5\" >1.0032</td>\n      <td id=\"T_eb79c_row15_col6\" class=\"data row15 col6\" >2.2723</td>\n      <td id=\"T_eb79c_row15_col7\" class=\"data row15 col7\" >0.0150</td>\n    </tr>\n    <tr>\n      <th id=\"T_eb79c_level0_row16\" class=\"row_heading level0 row16\" >dt</th>\n      <td id=\"T_eb79c_row16_col0\" class=\"data row16 col0\" >Decision Tree Regressor</td>\n      <td id=\"T_eb79c_row16_col1\" class=\"data row16 col1\" >98.3799</td>\n      <td id=\"T_eb79c_row16_col2\" class=\"data row16 col2\" >21376.2915</td>\n      <td id=\"T_eb79c_row16_col3\" class=\"data row16 col3\" >142.2606</td>\n      <td id=\"T_eb79c_row16_col4\" class=\"data row16 col4\" >-1.3060</td>\n      <td id=\"T_eb79c_row16_col5\" class=\"data row16 col5\" >1.0641</td>\n      <td id=\"T_eb79c_row16_col6\" class=\"data row16 col6\" >1.7858</td>\n      <td id=\"T_eb79c_row16_col7\" class=\"data row16 col7\" >0.0220</td>\n    </tr>\n    <tr>\n      <th id=\"T_eb79c_level0_row17\" class=\"row_heading level0 row17\" >lar</th>\n      <td id=\"T_eb79c_row17_col0\" class=\"data row17 col0\" >Least Angle Regression</td>\n      <td id=\"T_eb79c_row17_col1\" class=\"data row17 col1\" >10846978.1220</td>\n      <td id=\"T_eb79c_row17_col2\" class=\"data row17 col2\" >2410975203917094.5000</td>\n      <td id=\"T_eb79c_row17_col3\" class=\"data row17 col3\" >16573421.2799</td>\n      <td id=\"T_eb79c_row17_col4\" class=\"data row17 col4\" >-184673894177.0222</td>\n      <td id=\"T_eb79c_row17_col5\" class=\"data row17 col5\" >3.7836</td>\n      <td id=\"T_eb79c_row17_col6\" class=\"data row17 col6\" >459188.1071</td>\n      <td id=\"T_eb79c_row17_col7\" class=\"data row17 col7\" >0.0160</td>\n    </tr>\n  </tbody>\n</table>\n",
      "text/plain": "<pandas.io.formats.style.Styler at 0x1e1b97525b0>"
     },
     "metadata": {},
     "output_type": "display_data"
    },
    {
     "data": {
      "text/plain": "ExtraTreesRegressor(bootstrap=False, ccp_alpha=0.0, criterion='mse',\n                    max_depth=None, max_features='auto', max_leaf_nodes=None,\n                    max_samples=None, min_impurity_decrease=0.0,\n                    min_impurity_split=None, min_samples_leaf=1,\n                    min_samples_split=2, min_weight_fraction_leaf=0.0,\n                    n_estimators=100, n_jobs=-1, oob_score=False,\n                    random_state=42, verbose=0, warm_start=False)"
     },
     "execution_count": 52,
     "metadata": {},
     "output_type": "execute_result"
    }
   ]
  },
  {
   "cell_type": "code",
   "metadata": {
    "cell_id": "00028-098a0f0e-c8b5-4117-91ec-2c139cdab44f",
    "deepnote_cell_type": "code",
    "deepnote_cell_height": 506,
    "deepnote_output_heights": [
     409
    ]
   },
   "source": "et = create_model('et')",
   "execution_count": 53,
   "outputs": [
    {
     "data": {
      "text/html": "<style type=\"text/css\">\n#T_54cd2_row10_col0, #T_54cd2_row10_col1, #T_54cd2_row10_col2, #T_54cd2_row10_col3, #T_54cd2_row10_col4, #T_54cd2_row10_col5 {\n  background: yellow;\n}\n</style>\n<table id=\"T_54cd2\">\n  <thead>\n    <tr>\n      <th class=\"blank level0\" >&nbsp;</th>\n      <th id=\"T_54cd2_level0_col0\" class=\"col_heading level0 col0\" >MAE</th>\n      <th id=\"T_54cd2_level0_col1\" class=\"col_heading level0 col1\" >MSE</th>\n      <th id=\"T_54cd2_level0_col2\" class=\"col_heading level0 col2\" >RMSE</th>\n      <th id=\"T_54cd2_level0_col3\" class=\"col_heading level0 col3\" >R2</th>\n      <th id=\"T_54cd2_level0_col4\" class=\"col_heading level0 col4\" >RMSLE</th>\n      <th id=\"T_54cd2_level0_col5\" class=\"col_heading level0 col5\" >MAPE</th>\n    </tr>\n    <tr>\n      <th class=\"index_name level0\" >Fold</th>\n      <th class=\"blank col0\" >&nbsp;</th>\n      <th class=\"blank col1\" >&nbsp;</th>\n      <th class=\"blank col2\" >&nbsp;</th>\n      <th class=\"blank col3\" >&nbsp;</th>\n      <th class=\"blank col4\" >&nbsp;</th>\n      <th class=\"blank col5\" >&nbsp;</th>\n    </tr>\n  </thead>\n  <tbody>\n    <tr>\n      <th id=\"T_54cd2_level0_row0\" class=\"row_heading level0 row0\" >0</th>\n      <td id=\"T_54cd2_row0_col0\" class=\"data row0 col0\" >53.0363</td>\n      <td id=\"T_54cd2_row0_col1\" class=\"data row0 col1\" >5126.2066</td>\n      <td id=\"T_54cd2_row0_col2\" class=\"data row0 col2\" >71.5975</td>\n      <td id=\"T_54cd2_row0_col3\" class=\"data row0 col3\" >-1.3008</td>\n      <td id=\"T_54cd2_row0_col4\" class=\"data row0 col4\" >1.1736</td>\n      <td id=\"T_54cd2_row0_col5\" class=\"data row0 col5\" >3.0000</td>\n    </tr>\n    <tr>\n      <th id=\"T_54cd2_level0_row1\" class=\"row_heading level0 row1\" >1</th>\n      <td id=\"T_54cd2_row1_col0\" class=\"data row1 col0\" >30.0430</td>\n      <td id=\"T_54cd2_row1_col1\" class=\"data row1 col1\" >1500.0719</td>\n      <td id=\"T_54cd2_row1_col2\" class=\"data row1 col2\" >38.7308</td>\n      <td id=\"T_54cd2_row1_col3\" class=\"data row1 col3\" >0.5560</td>\n      <td id=\"T_54cd2_row1_col4\" class=\"data row1 col4\" >0.6725</td>\n      <td id=\"T_54cd2_row1_col5\" class=\"data row1 col5\" >1.0498</td>\n    </tr>\n    <tr>\n      <th id=\"T_54cd2_level0_row2\" class=\"row_heading level0 row2\" >2</th>\n      <td id=\"T_54cd2_row2_col0\" class=\"data row2 col0\" >43.8292</td>\n      <td id=\"T_54cd2_row2_col1\" class=\"data row2 col1\" >2910.5393</td>\n      <td id=\"T_54cd2_row2_col2\" class=\"data row2 col2\" >53.9494</td>\n      <td id=\"T_54cd2_row2_col3\" class=\"data row2 col3\" >0.1929</td>\n      <td id=\"T_54cd2_row2_col4\" class=\"data row2 col4\" >0.8771</td>\n      <td id=\"T_54cd2_row2_col5\" class=\"data row2 col5\" >1.7781</td>\n    </tr>\n    <tr>\n      <th id=\"T_54cd2_level0_row3\" class=\"row_heading level0 row3\" >3</th>\n      <td id=\"T_54cd2_row3_col0\" class=\"data row3 col0\" >94.2513</td>\n      <td id=\"T_54cd2_row3_col1\" class=\"data row3 col1\" >18941.7282</td>\n      <td id=\"T_54cd2_row3_col2\" class=\"data row3 col2\" >137.6290</td>\n      <td id=\"T_54cd2_row3_col3\" class=\"data row3 col3\" >0.1973</td>\n      <td id=\"T_54cd2_row3_col4\" class=\"data row3 col4\" >0.9518</td>\n      <td id=\"T_54cd2_row3_col5\" class=\"data row3 col5\" >1.1511</td>\n    </tr>\n    <tr>\n      <th id=\"T_54cd2_level0_row4\" class=\"row_heading level0 row4\" >4</th>\n      <td id=\"T_54cd2_row4_col0\" class=\"data row4 col0\" >84.1569</td>\n      <td id=\"T_54cd2_row4_col1\" class=\"data row4 col1\" >13422.9810</td>\n      <td id=\"T_54cd2_row4_col2\" class=\"data row4 col2\" >115.8576</td>\n      <td id=\"T_54cd2_row4_col3\" class=\"data row4 col3\" >-0.0150</td>\n      <td id=\"T_54cd2_row4_col4\" class=\"data row4 col4\" >1.1178</td>\n      <td id=\"T_54cd2_row4_col5\" class=\"data row4 col5\" >5.0476</td>\n    </tr>\n    <tr>\n      <th id=\"T_54cd2_level0_row5\" class=\"row_heading level0 row5\" >5</th>\n      <td id=\"T_54cd2_row5_col0\" class=\"data row5 col0\" >71.6312</td>\n      <td id=\"T_54cd2_row5_col1\" class=\"data row5 col1\" >13013.7122</td>\n      <td id=\"T_54cd2_row5_col2\" class=\"data row5 col2\" >114.0777</td>\n      <td id=\"T_54cd2_row5_col3\" class=\"data row5 col3\" >0.2923</td>\n      <td id=\"T_54cd2_row5_col4\" class=\"data row5 col4\" >0.6609</td>\n      <td id=\"T_54cd2_row5_col5\" class=\"data row5 col5\" >0.7204</td>\n    </tr>\n    <tr>\n      <th id=\"T_54cd2_level0_row6\" class=\"row_heading level0 row6\" >6</th>\n      <td id=\"T_54cd2_row6_col0\" class=\"data row6 col0\" >52.9638</td>\n      <td id=\"T_54cd2_row6_col1\" class=\"data row6 col1\" >6682.1155</td>\n      <td id=\"T_54cd2_row6_col2\" class=\"data row6 col2\" >81.7442</td>\n      <td id=\"T_54cd2_row6_col3\" class=\"data row6 col3\" >0.5885</td>\n      <td id=\"T_54cd2_row6_col4\" class=\"data row6 col4\" >0.4385</td>\n      <td id=\"T_54cd2_row6_col5\" class=\"data row6 col5\" >0.3891</td>\n    </tr>\n    <tr>\n      <th id=\"T_54cd2_level0_row7\" class=\"row_heading level0 row7\" >7</th>\n      <td id=\"T_54cd2_row7_col0\" class=\"data row7 col0\" >70.1110</td>\n      <td id=\"T_54cd2_row7_col1\" class=\"data row7 col1\" >8848.7840</td>\n      <td id=\"T_54cd2_row7_col2\" class=\"data row7 col2\" >94.0680</td>\n      <td id=\"T_54cd2_row7_col3\" class=\"data row7 col3\" >-0.0907</td>\n      <td id=\"T_54cd2_row7_col4\" class=\"data row7 col4\" >0.4725</td>\n      <td id=\"T_54cd2_row7_col5\" class=\"data row7 col5\" >0.4301</td>\n    </tr>\n    <tr>\n      <th id=\"T_54cd2_level0_row8\" class=\"row_heading level0 row8\" >8</th>\n      <td id=\"T_54cd2_row8_col0\" class=\"data row8 col0\" >128.3566</td>\n      <td id=\"T_54cd2_row8_col1\" class=\"data row8 col1\" >26737.7562</td>\n      <td id=\"T_54cd2_row8_col2\" class=\"data row8 col2\" >163.5168</td>\n      <td id=\"T_54cd2_row8_col3\" class=\"data row8 col3\" >0.0477</td>\n      <td id=\"T_54cd2_row8_col4\" class=\"data row8 col4\" >0.7681</td>\n      <td id=\"T_54cd2_row8_col5\" class=\"data row8 col5\" >0.9291</td>\n    </tr>\n    <tr>\n      <th id=\"T_54cd2_level0_row9\" class=\"row_heading level0 row9\" >9</th>\n      <td id=\"T_54cd2_row9_col0\" class=\"data row9 col0\" >76.7997</td>\n      <td id=\"T_54cd2_row9_col1\" class=\"data row9 col1\" >10216.2850</td>\n      <td id=\"T_54cd2_row9_col2\" class=\"data row9 col2\" >101.0756</td>\n      <td id=\"T_54cd2_row9_col3\" class=\"data row9 col3\" >0.0723</td>\n      <td id=\"T_54cd2_row9_col4\" class=\"data row9 col4\" >0.7041</td>\n      <td id=\"T_54cd2_row9_col5\" class=\"data row9 col5\" >0.8974</td>\n    </tr>\n    <tr>\n      <th id=\"T_54cd2_level0_row10\" class=\"row_heading level0 row10\" >Mean</th>\n      <td id=\"T_54cd2_row10_col0\" class=\"data row10 col0\" >70.5179</td>\n      <td id=\"T_54cd2_row10_col1\" class=\"data row10 col1\" >10740.0180</td>\n      <td id=\"T_54cd2_row10_col2\" class=\"data row10 col2\" >97.2247</td>\n      <td id=\"T_54cd2_row10_col3\" class=\"data row10 col3\" >0.0540</td>\n      <td id=\"T_54cd2_row10_col4\" class=\"data row10 col4\" >0.7837</td>\n      <td id=\"T_54cd2_row10_col5\" class=\"data row10 col5\" >1.5393</td>\n    </tr>\n    <tr>\n      <th id=\"T_54cd2_level0_row11\" class=\"row_heading level0 row11\" >Std</th>\n      <td id=\"T_54cd2_row11_col0\" class=\"data row11 col0\" >26.6453</td>\n      <td id=\"T_54cd2_row11_col1\" class=\"data row11 col1\" >7308.0333</td>\n      <td id=\"T_54cd2_row11_col2\" class=\"data row11 col2\" >35.8801</td>\n      <td id=\"T_54cd2_row11_col3\" class=\"data row11 col3\" >0.4996</td>\n      <td id=\"T_54cd2_row11_col4\" class=\"data row11 col4\" >0.2347</td>\n      <td id=\"T_54cd2_row11_col5\" class=\"data row11 col5\" >1.3747</td>\n    </tr>\n  </tbody>\n</table>\n",
      "text/plain": "<pandas.io.formats.style.Styler at 0x1e1b92a18e0>"
     },
     "metadata": {},
     "output_type": "display_data"
    }
   ]
  },
  {
   "cell_type": "code",
   "metadata": {
    "cell_id": "00029-277b9b44-cd5c-4fe0-b51b-de5a985842e2",
    "deepnote_cell_type": "code",
    "deepnote_cell_height": 506,
    "deepnote_output_heights": [
     409
    ]
   },
   "source": "tuned_et  = tune_model(et)",
   "execution_count": 55,
   "outputs": [
    {
     "data": {
      "text/html": "<style type=\"text/css\">\n#T_ef98d_row10_col0, #T_ef98d_row10_col1, #T_ef98d_row10_col2, #T_ef98d_row10_col3, #T_ef98d_row10_col4, #T_ef98d_row10_col5 {\n  background: yellow;\n}\n</style>\n<table id=\"T_ef98d\">\n  <thead>\n    <tr>\n      <th class=\"blank level0\" >&nbsp;</th>\n      <th id=\"T_ef98d_level0_col0\" class=\"col_heading level0 col0\" >MAE</th>\n      <th id=\"T_ef98d_level0_col1\" class=\"col_heading level0 col1\" >MSE</th>\n      <th id=\"T_ef98d_level0_col2\" class=\"col_heading level0 col2\" >RMSE</th>\n      <th id=\"T_ef98d_level0_col3\" class=\"col_heading level0 col3\" >R2</th>\n      <th id=\"T_ef98d_level0_col4\" class=\"col_heading level0 col4\" >RMSLE</th>\n      <th id=\"T_ef98d_level0_col5\" class=\"col_heading level0 col5\" >MAPE</th>\n    </tr>\n    <tr>\n      <th class=\"index_name level0\" >Fold</th>\n      <th class=\"blank col0\" >&nbsp;</th>\n      <th class=\"blank col1\" >&nbsp;</th>\n      <th class=\"blank col2\" >&nbsp;</th>\n      <th class=\"blank col3\" >&nbsp;</th>\n      <th class=\"blank col4\" >&nbsp;</th>\n      <th class=\"blank col5\" >&nbsp;</th>\n    </tr>\n  </thead>\n  <tbody>\n    <tr>\n      <th id=\"T_ef98d_level0_row0\" class=\"row_heading level0 row0\" >0</th>\n      <td id=\"T_ef98d_row0_col0\" class=\"data row0 col0\" >65.8685</td>\n      <td id=\"T_ef98d_row0_col1\" class=\"data row0 col1\" >5821.9516</td>\n      <td id=\"T_ef98d_row0_col2\" class=\"data row0 col2\" >76.3017</td>\n      <td id=\"T_ef98d_row0_col3\" class=\"data row0 col3\" >-1.6131</td>\n      <td id=\"T_ef98d_row0_col4\" class=\"data row0 col4\" >1.3439</td>\n      <td id=\"T_ef98d_row0_col5\" class=\"data row0 col5\" >3.8286</td>\n    </tr>\n    <tr>\n      <th id=\"T_ef98d_level0_row1\" class=\"row_heading level0 row1\" >1</th>\n      <td id=\"T_ef98d_row1_col0\" class=\"data row1 col0\" >41.1770</td>\n      <td id=\"T_ef98d_row1_col1\" class=\"data row1 col1\" >2422.3424</td>\n      <td id=\"T_ef98d_row1_col2\" class=\"data row1 col2\" >49.2173</td>\n      <td id=\"T_ef98d_row1_col3\" class=\"data row1 col3\" >0.2830</td>\n      <td id=\"T_ef98d_row1_col4\" class=\"data row1 col4\" >0.8510</td>\n      <td id=\"T_ef98d_row1_col5\" class=\"data row1 col5\" >1.4975</td>\n    </tr>\n    <tr>\n      <th id=\"T_ef98d_level0_row2\" class=\"row_heading level0 row2\" >2</th>\n      <td id=\"T_ef98d_row2_col0\" class=\"data row2 col0\" >58.2190</td>\n      <td id=\"T_ef98d_row2_col1\" class=\"data row2 col1\" >4772.3281</td>\n      <td id=\"T_ef98d_row2_col2\" class=\"data row2 col2\" >69.0820</td>\n      <td id=\"T_ef98d_row2_col3\" class=\"data row2 col3\" >-0.3234</td>\n      <td id=\"T_ef98d_row2_col4\" class=\"data row2 col4\" >1.0675</td>\n      <td id=\"T_ef98d_row2_col5\" class=\"data row2 col5\" >2.2995</td>\n    </tr>\n    <tr>\n      <th id=\"T_ef98d_level0_row3\" class=\"row_heading level0 row3\" >3</th>\n      <td id=\"T_ef98d_row3_col0\" class=\"data row3 col0\" >120.0881</td>\n      <td id=\"T_ef98d_row3_col1\" class=\"data row3 col1\" >25542.1140</td>\n      <td id=\"T_ef98d_row3_col2\" class=\"data row3 col2\" >159.8190</td>\n      <td id=\"T_ef98d_row3_col3\" class=\"data row3 col3\" >-0.0824</td>\n      <td id=\"T_ef98d_row3_col4\" class=\"data row3 col4\" >1.0346</td>\n      <td id=\"T_ef98d_row3_col5\" class=\"data row3 col5\" >1.5344</td>\n    </tr>\n    <tr>\n      <th id=\"T_ef98d_level0_row4\" class=\"row_heading level0 row4\" >4</th>\n      <td id=\"T_ef98d_row4_col0\" class=\"data row4 col0\" >81.4949</td>\n      <td id=\"T_ef98d_row4_col1\" class=\"data row4 col1\" >11210.6813</td>\n      <td id=\"T_ef98d_row4_col2\" class=\"data row4 col2\" >105.8805</td>\n      <td id=\"T_ef98d_row4_col3\" class=\"data row4 col3\" >0.1522</td>\n      <td id=\"T_ef98d_row4_col4\" class=\"data row4 col4\" >1.0396</td>\n      <td id=\"T_ef98d_row4_col5\" class=\"data row4 col5\" >3.4871</td>\n    </tr>\n    <tr>\n      <th id=\"T_ef98d_level0_row5\" class=\"row_heading level0 row5\" >5</th>\n      <td id=\"T_ef98d_row5_col0\" class=\"data row5 col0\" >88.3400</td>\n      <td id=\"T_ef98d_row5_col1\" class=\"data row5 col1\" >15814.7677</td>\n      <td id=\"T_ef98d_row5_col2\" class=\"data row5 col2\" >125.7568</td>\n      <td id=\"T_ef98d_row5_col3\" class=\"data row5 col3\" >0.1400</td>\n      <td id=\"T_ef98d_row5_col4\" class=\"data row5 col4\" >0.7301</td>\n      <td id=\"T_ef98d_row5_col5\" class=\"data row5 col5\" >0.8500</td>\n    </tr>\n    <tr>\n      <th id=\"T_ef98d_level0_row6\" class=\"row_heading level0 row6\" >6</th>\n      <td id=\"T_ef98d_row6_col0\" class=\"data row6 col0\" >80.1744</td>\n      <td id=\"T_ef98d_row6_col1\" class=\"data row6 col1\" >13682.3834</td>\n      <td id=\"T_ef98d_row6_col2\" class=\"data row6 col2\" >116.9717</td>\n      <td id=\"T_ef98d_row6_col3\" class=\"data row6 col3\" >0.1575</td>\n      <td id=\"T_ef98d_row6_col4\" class=\"data row6 col4\" >0.5901</td>\n      <td id=\"T_ef98d_row6_col5\" class=\"data row6 col5\" >0.5309</td>\n    </tr>\n    <tr>\n      <th id=\"T_ef98d_level0_row7\" class=\"row_heading level0 row7\" >7</th>\n      <td id=\"T_ef98d_row7_col0\" class=\"data row7 col0\" >78.5067</td>\n      <td id=\"T_ef98d_row7_col1\" class=\"data row7 col1\" >9748.8373</td>\n      <td id=\"T_ef98d_row7_col2\" class=\"data row7 col2\" >98.7362</td>\n      <td id=\"T_ef98d_row7_col3\" class=\"data row7 col3\" >-0.2017</td>\n      <td id=\"T_ef98d_row7_col4\" class=\"data row7 col4\" >0.4742</td>\n      <td id=\"T_ef98d_row7_col5\" class=\"data row7 col5\" >0.3573</td>\n    </tr>\n    <tr>\n      <th id=\"T_ef98d_level0_row8\" class=\"row_heading level0 row8\" >8</th>\n      <td id=\"T_ef98d_row8_col0\" class=\"data row8 col0\" >148.1815</td>\n      <td id=\"T_ef98d_row8_col1\" class=\"data row8 col1\" >35467.8366</td>\n      <td id=\"T_ef98d_row8_col2\" class=\"data row8 col2\" >188.3291</td>\n      <td id=\"T_ef98d_row8_col3\" class=\"data row8 col3\" >-0.2633</td>\n      <td id=\"T_ef98d_row8_col4\" class=\"data row8 col4\" >0.8458</td>\n      <td id=\"T_ef98d_row8_col5\" class=\"data row8 col5\" >0.9400</td>\n    </tr>\n    <tr>\n      <th id=\"T_ef98d_level0_row9\" class=\"row_heading level0 row9\" >9</th>\n      <td id=\"T_ef98d_row9_col0\" class=\"data row9 col0\" >89.4919</td>\n      <td id=\"T_ef98d_row9_col1\" class=\"data row9 col1\" >13465.3573</td>\n      <td id=\"T_ef98d_row9_col2\" class=\"data row9 col2\" >116.0403</td>\n      <td id=\"T_ef98d_row9_col3\" class=\"data row9 col3\" >-0.2227</td>\n      <td id=\"T_ef98d_row9_col4\" class=\"data row9 col4\" >0.7675</td>\n      <td id=\"T_ef98d_row9_col5\" class=\"data row9 col5\" >0.8960</td>\n    </tr>\n    <tr>\n      <th id=\"T_ef98d_level0_row10\" class=\"row_heading level0 row10\" >Mean</th>\n      <td id=\"T_ef98d_row10_col0\" class=\"data row10 col0\" >85.1542</td>\n      <td id=\"T_ef98d_row10_col1\" class=\"data row10 col1\" >13794.8600</td>\n      <td id=\"T_ef98d_row10_col2\" class=\"data row10 col2\" >110.6135</td>\n      <td id=\"T_ef98d_row10_col3\" class=\"data row10 col3\" >-0.1974</td>\n      <td id=\"T_ef98d_row10_col4\" class=\"data row10 col4\" >0.8744</td>\n      <td id=\"T_ef98d_row10_col5\" class=\"data row10 col5\" >1.6221</td>\n    </tr>\n    <tr>\n      <th id=\"T_ef98d_level0_row11\" class=\"row_heading level0 row11\" >Std</th>\n      <td id=\"T_ef98d_row11_col0\" class=\"data row11 col0\" >28.8714</td>\n      <td id=\"T_ef98d_row11_col1\" class=\"data row11 col1\" >9535.5803</td>\n      <td id=\"T_ef98d_row11_col2\" class=\"data row11 col2\" >39.4908</td>\n      <td id=\"T_ef98d_row11_col3\" class=\"data row11 col3\" >0.5129</td>\n      <td id=\"T_ef98d_row11_col4\" class=\"data row11 col4\" >0.2419</td>\n      <td id=\"T_ef98d_row11_col5\" class=\"data row11 col5\" >1.1493</td>\n    </tr>\n  </tbody>\n</table>\n",
      "text/plain": "<pandas.io.formats.style.Styler at 0x1e1bac00100>"
     },
     "metadata": {},
     "output_type": "display_data"
    }
   ]
  },
  {
   "cell_type": "code",
   "metadata": {
    "cell_id": "00030-8dc66bed-cd5d-4fb0-9ae2-d303899cd2e0",
    "deepnote_cell_type": "code",
    "deepnote_cell_height": 376,
    "deepnote_output_heights": [
     279
    ]
   },
   "source": "plot_model(tuned_et, plot = 'error')",
   "execution_count": 56,
   "outputs": [
    {
     "data": {
      "image/png": "[encoded data removed]",
      "text/plain": "<Figure size 432x288 with 1 Axes>"
     },
     "metadata": {
      "needs_background": "light",
      "image/png": {
       "width": 275,
       "height": 277
      }
     },
     "output_type": "display_data"
    }
   ]
  },
  {
   "cell_type": "markdown",
   "source": "",
   "metadata": {
    "cell_id": "00063-01976526-8635-4644-881d-f77c0dbe9f16",
    "tags": [],
    "deepnote_cell_type": "markdown",
    "deepnote_cell_height": 46
   }
  },
  {
   "cell_type": "markdown",
   "source": "<a style='text-decoration:none;line-height:16px;display:flex;color:#5B5B62;padding:10px;justify-content:end;' href='https://deepnote.com?utm_source=created-in-deepnote-cell&projectId=b042e2da-6536-449d-95b8-d85fa08825de' target=\"_blank\">\n<img alt='Created in deepnote.com' style='display:inline;max-height:16px;margin:0px;margin-right:7.5px;' src='data:image/svg+xml;base64,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' > </img>\nCreated in <span style='font-weight:600;margin-left:4px;'>Deepnote</span></a>",
   "metadata": {
    "tags": [],
    "created_in_deepnote_cell": true,
    "deepnote_cell_type": "markdown"
   }
  }
 ],
 "nbformat": 4,
 "nbformat_minor": 2,
 "metadata": {
  "deepnote": {
   "is_reactive": false
  },
  "deepnote_execution_queue": [],
  "deepnote_notebook_id": "f1afabb1-dba7-416c-86a6-67c6cc69b20f",
  "kernelspec": {
   "display_name": "Python 3 (ipykernel)",
   "language": "python",
   "name": "python3"
  },
  "language_info": {
   "codemirror_mode": {
    "name": "ipython",
    "version": 3
   },
   "file_extension": ".py",
   "mimetype": "text/x-python",
   "name": "python",
   "nbconvert_exporter": "python",
   "pygments_lexer": "ipython3",
   "version": "3.8.13"
  }
 }
}