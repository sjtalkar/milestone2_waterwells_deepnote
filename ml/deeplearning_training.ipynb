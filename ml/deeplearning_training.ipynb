{
 "cells": [
  {
   "cell_type": "markdown",
   "source": "# Deeplearning LSTM Model Training and Testing\nThis notebooks trains 3 different LSTM model architectures to try to predict the target variable based on the historical data of all the features.",
   "metadata": {
    "collapsed": false,
    "pycharm": {
     "name": "#%% md\n"
    },
    "cell_id": "1c0fcb3e-3698-42a6-8590-1b4e0ff49b38",
    "deepnote_cell_type": "markdown",
    "deepnote_cell_height": 194.78125
   }
  },
  {
   "cell_type": "code",
   "metadata": {
    "collapsed": false,
    "pycharm": {
     "name": "#%%\n"
    },
    "cell_id": "00001-36c2a988-481d-42b9-acf7-18f4e03293ab",
    "deepnote_to_be_reexecuted": false,
    "source_hash": "18561438",
    "execution_start": 1657715712577,
    "deepnote_cell_type": "code",
    "deepnote_cell_height": 99
   },
   "source": "import sys\nsys.path.append('..')",
   "outputs": [],
   "execution_count": null
  },
  {
   "cell_type": "code",
   "metadata": {
    "pycharm": {
     "name": "#%%\n"
    },
    "cell_id": "00001-01008ca3-66da-4cac-aaa2-fa90004fba76",
    "deepnote_to_be_reexecuted": false,
    "source_hash": "58b7f043",
    "execution_start": 1657715712578,
    "execution_millis": 8565,
    "deepnote_cell_type": "code",
    "deepnote_cell_height": 297
   },
   "source": "import os\nimport pickle\nimport numpy as np\nimport pandas as pd\nimport random\nimport tensorflow\n\nfrom tensorflow import keras\nfrom keras.models import Sequential\nfrom keras.layers import LSTM, Dense, Dropout, TimeDistributed, RepeatVector\nfrom keras.optimizers import Adam\nfrom lib.read_data import read_and_join_output_file\nfrom lib.deeplearning import get_train_test_datasets,  get_sets_shapes, evaluate_forecast",
   "outputs": [],
   "execution_count": null
  },
  {
   "cell_type": "code",
   "metadata": {
    "pycharm": {
     "name": "#%%\n"
    },
    "cell_id": "00002-f620acc7-2dc2-4a23-9057-696c961c3b92",
    "deepnote_to_be_reexecuted": false,
    "source_hash": "65465ae4",
    "execution_start": 1657715721144,
    "execution_millis": 0,
    "deepnote_cell_type": "code",
    "deepnote_cell_height": 135
   },
   "source": "RANDOM_SEED = 31\nrandom.seed(RANDOM_SEED)\nnp.random.seed(RANDOM_SEED)\ntensorflow.random.set_seed(RANDOM_SEED)",
   "outputs": [],
   "execution_count": null
  },
  {
   "cell_type": "code",
   "metadata": {
    "pycharm": {
     "name": "#%%\n"
    },
    "cell_id": "00003-61fa54e0-858c-4417-aa93-72309c217430",
    "deepnote_to_be_reexecuted": false,
    "source_hash": "2a96f01a",
    "execution_start": 1657715721178,
    "execution_millis": 161536887,
    "deepnote_cell_type": "code",
    "deepnote_cell_height": 112.1875
   },
   "source": "print(\"Num GPUs Available: \", len(tensorflow.config.list_physical_devices('GPU')))",
   "outputs": [
    {
     "name": "stdout",
     "text": "Num GPUs Available:  0\n",
     "output_type": "stream"
    }
   ],
   "execution_count": null
  },
  {
   "cell_type": "markdown",
   "source": "## Preparing the Dataset\n### The Train-Test Split\nThe dataset is made of 478 Township-Ranges, each containing a multivariate (81 features) time series (data between 2014 to 2021). This dataset can thus be seen as a 3 dimensional dataset of\n$478 TownshipRanges * 8 time stamps * 81 features$\nThe objective is to predict the 2022 target value of `GSE_GWE` (Ground Surface Elevation to Groundwater Water Elevation - Depth to groundwater elevation in feet below ground surface) for each Township-Range.\n\nLSTM neural networks can be used for time series forecasting and take inputs of the shape *[samples, time series steps, features]*. This perfectly fits our dataset.\nTo fit our dataset and objective, as well as LSTM neural networks architecture we will thus perform the train test split as follow:\n* Training and Test sets will be split by Township-Ranges. I.e., some Township-Ranges will have all their 2014-2021 data points in the training set, some others will be in the the test set.\n* The model will be trained based on the 2014-2020 data for all features - including the target feature - and will be trained and tested on the 2021 value of the target feature.\n\nWith such a method, unlike a simple time series forecasting where the target feature is forecasted only based on its past value, we allow past value of other features (in our case cultivated crops, precipitations, population density, number of wells drilled) to influence the future value of the target feature.\n\n![Train-Test Split](../doc/images/deeplearning-train-test-split.jpg)\n\nWe do not create a validation dataset as we use Keras internal cross-validation mechanism to shuffle the data points (i.e., the Township-Ranges) and keep some for the validation at each training epoch.\n### Data Imputation and Scaling\nMissing data imputation for a Township-Range is performed only using the existing data of that Township-Range (not the data of all Township-Ranges). For example:\n* a *fill forward* approach is used for many fields like crops, vegetation and soils. The percentage of land use per crop in 2014 in a Township-Range is imputed into the missing year 2015 for that particular Township-Range.\n* for fields like `PCT_OF_CAPACITY` (the capacity percentage of water reservoir), missing values in a Township-Range are filled using the min, mean, median or max values of that particular Township-Range\nThis approach means that the data imputation *fit* method does not need to learn values from other Township-Ranges data points to impute missing values. Since our train and test datasets are split by Township-Ranges, it avoids issues when  using the impute pipeline fitted on the training dataset to impute data for Township-Ranges the impute pipeline has not seen before.\n\nWe use a MinMax scaler to scale all values between 0 and 1 for the neural network.\n\nIt should be noted that we do not need to do any data imputation on the training and test sets *y* target feature since it does not have any missing data point.",
   "metadata": {
    "pycharm": {
     "name": "#%% md\n"
    },
    "cell_id": "00004-d7a4e080-c715-491d-9ec3-eb9b1b2e1b4c",
    "deepnote_cell_type": "markdown",
    "deepnote_cell_height": 1618.09375
   }
  },
  {
   "cell_type": "code",
   "metadata": {
    "pycharm": {
     "name": "#%%\n"
    },
    "cell_id": "00005-36b3d263-9fb1-4822-a3ed-752f6198a844",
    "deepnote_to_be_reexecuted": false,
    "source_hash": "7fc284b4",
    "execution_start": 1657715721225,
    "execution_millis": 1821,
    "deepnote_cell_type": "code",
    "deepnote_cell_height": 470
   },
   "source": "test_size=0.15\ntarget_variable=\"GSE_GWE\"\n# Load the data from the ETL output files\nX = read_and_join_output_file()\n# Split the input pandas Dataframe into training and test datasets, applies the impute pipeline\n# transformation and reshapes the datasets to 3D (samples, time, features) numpy arrays\nX_train, X_test, y_train, y_test, impute_pipeline, target_scaler = get_train_test_datasets(X, target_variable=target_variable,\n    test_size=test_size, random_seed=RANDOM_SEED, save_to_file=True)\nmodel_predictions_df = pd.DataFrame(y_test, columns=[target_variable])\nmodel_scores_df = pd.DataFrame(columns=[\"mae\", \"mse\", \"rmse\"])\nnb_features = X_train.shape[-1]\nget_sets_shapes(X_train, X_test)",
   "outputs": [
    {
     "output_type": "execute_result",
     "execution_count": 5,
     "data": {
      "application/vnd.deepnote.dataframe.v3+json": {
       "column_count": 3,
       "row_count": 2,
       "columns": [
        {
         "name": "nb_items",
         "dtype": "int64",
         "stats": {
          "unique_count": 2,
          "nan_count": 0,
          "min": "72",
          "max": "406",
          "histogram": [
           {
            "bin_start": 72,
            "bin_end": 105.4,
            "count": 1
           },
           {
            "bin_start": 105.4,
            "bin_end": 138.8,
            "count": 0
           },
           {
            "bin_start": 138.8,
            "bin_end": 172.2,
            "count": 0
           },
           {
            "bin_start": 172.2,
            "bin_end": 205.6,
            "count": 0
           },
           {
            "bin_start": 205.6,
            "bin_end": 239,
            "count": 0
           },
           {
            "bin_start": 239,
            "bin_end": 272.4,
            "count": 0
           },
           {
            "bin_start": 272.4,
            "bin_end": 305.79999999999995,
            "count": 0
           },
           {
            "bin_start": 305.79999999999995,
            "bin_end": 339.2,
            "count": 0
           },
           {
            "bin_start": 339.2,
            "bin_end": 372.59999999999997,
            "count": 0
           },
           {
            "bin_start": 372.59999999999997,
            "bin_end": 406,
            "count": 1
           }
          ]
         }
        },
        {
         "name": "nb_timestamps",
         "dtype": "int64",
         "stats": {
          "unique_count": 1,
          "nan_count": 0,
          "min": "7",
          "max": "7",
          "histogram": [
           {
            "bin_start": 6.5,
            "bin_end": 6.6,
            "count": 0
           },
           {
            "bin_start": 6.6,
            "bin_end": 6.7,
            "count": 0
           },
           {
            "bin_start": 6.7,
            "bin_end": 6.8,
            "count": 0
           },
           {
            "bin_start": 6.8,
            "bin_end": 6.9,
            "count": 0
           },
           {
            "bin_start": 6.9,
            "bin_end": 7,
            "count": 0
           },
           {
            "bin_start": 7,
            "bin_end": 7.1,
            "count": 2
           },
           {
            "bin_start": 7.1,
            "bin_end": 7.2,
            "count": 0
           },
           {
            "bin_start": 7.2,
            "bin_end": 7.3,
            "count": 0
           },
           {
            "bin_start": 7.3,
            "bin_end": 7.4,
            "count": 0
           },
           {
            "bin_start": 7.4,
            "bin_end": 7.5,
            "count": 0
           }
          ]
         }
        },
        {
         "name": "nb_features",
         "dtype": "int64",
         "stats": {
          "unique_count": 1,
          "nan_count": 0,
          "min": "81",
          "max": "81",
          "histogram": [
           {
            "bin_start": 80.5,
            "bin_end": 80.6,
            "count": 0
           },
           {
            "bin_start": 80.6,
            "bin_end": 80.7,
            "count": 0
           },
           {
            "bin_start": 80.7,
            "bin_end": 80.8,
            "count": 0
           },
           {
            "bin_start": 80.8,
            "bin_end": 80.9,
            "count": 0
           },
           {
            "bin_start": 80.9,
            "bin_end": 81,
            "count": 0
           },
           {
            "bin_start": 81,
            "bin_end": 81.1,
            "count": 2
           },
           {
            "bin_start": 81.1,
            "bin_end": 81.2,
            "count": 0
           },
           {
            "bin_start": 81.2,
            "bin_end": 81.3,
            "count": 0
           },
           {
            "bin_start": 81.3,
            "bin_end": 81.4,
            "count": 0
           },
           {
            "bin_start": 81.4,
            "bin_end": 81.5,
            "count": 0
           }
          ]
         }
        },
        {
         "name": "_deepnote_index_column",
         "dtype": "object"
        }
       ],
       "rows": [
        {
         "nb_items": 406,
         "nb_timestamps": 7,
         "nb_features": 81,
         "_deepnote_index_column": "training dataset"
        },
        {
         "nb_items": 72,
         "nb_timestamps": 7,
         "nb_features": 81,
         "_deepnote_index_column": "test dataset"
        }
       ]
      },
      "text/plain": "                  nb_items  nb_timestamps  nb_features\ntraining dataset       406              7           81\ntest dataset            72              7           81",
      "text/html": "<div>\n<style scoped>\n    .dataframe tbody tr th:only-of-type {\n        vertical-align: middle;\n    }\n\n    .dataframe tbody tr th {\n        vertical-align: top;\n    }\n\n    .dataframe thead th {\n        text-align: right;\n    }\n</style>\n<table border=\"1\" class=\"dataframe\">\n  <thead>\n    <tr style=\"text-align: right;\">\n      <th></th>\n      <th>nb_items</th>\n      <th>nb_timestamps</th>\n      <th>nb_features</th>\n    </tr>\n  </thead>\n  <tbody>\n    <tr>\n      <th>training dataset</th>\n      <td>406</td>\n      <td>7</td>\n      <td>81</td>\n    </tr>\n    <tr>\n      <th>test dataset</th>\n      <td>72</td>\n      <td>7</td>\n      <td>81</td>\n    </tr>\n  </tbody>\n</table>\n</div>"
     },
     "metadata": {}
    }
   ],
   "execution_count": null
  },
  {
   "cell_type": "markdown",
   "source": "## Training Different Models\nWe tried 3 different LSTM models:\n* A simple model made of a single *LSTM* layer and an output *Dense* layer\n* A model made of a *LSTM* layer followed by a *Dense* and *Dropout* layers before the output layer\n* An Encoder-Decoder model made of 2 *LSTM* layers followed by a *Dense* and *Dropout* layers\n\n![LSTM Model Architectures](../doc/images/deeplearning-architectures.jpg)\n\n\nEncoder-decoder architectures are more common for sequence to sequence learning e.g., when forecasting the next 3 days (output sequence of length 3) based on the past year data (input sequence of length 365). In our case we only predict data for 1 time step in the feature. The output sequence being of length 1 this architecture might seem superfluous but has been tested anyway. This architecture was inspired by the Encoder-Decoder architecture in this article: *[CNN-LSTM-Based Models for Multiple Parallel Input and Multi-Step Forecast](https://towardsdatascience.com/cnn-lstm-based-models-for-multiple-parallel-input-and-multi-step-forecast-6fe2172f7668)*.\n\nAs such models are made for sequence to sequence learning and forecasting, the output of such a model is different from the previous ones. It has an output of size *[samples, forcasting sequence length, target features]*. In our case the forecasting sequence length and number of target features are both 1.\n## Training Model 1 - Simple LSTM Model",
   "metadata": {
    "pycharm": {
     "name": "#%% md\n"
    },
    "cell_id": "00006-1a73d13e-aa49-468b-a0ba-f25b6bc4641b",
    "deepnote_cell_type": "markdown",
    "deepnote_cell_height": 1224.71875
   }
  },
  {
   "cell_type": "code",
   "metadata": {
    "pycharm": {
     "name": "#%%\n"
    },
    "cell_id": "00008-775d27e6-e3b0-4a5d-86bf-1f31f3a7160d",
    "deepnote_to_be_reexecuted": false,
    "source_hash": "572e554a",
    "execution_start": 1657715723067,
    "execution_millis": 604,
    "deepnote_cell_type": "code",
    "deepnote_cell_height": 570.4375
   },
   "source": "m1_hyper_parameters = {\n    \"lstm_units\": 160,\n    \"lstm_activation\": \"sigmoid\",\n    \"learning_rate\": 0.001,\n    \"validation_split\": 0.1,\n    \"batch_size\": 128,\n    \"epochs\": 270,\n}\n\nmodel1 = Sequential()\nmodel1.add(LSTM(m1_hyper_parameters[\"lstm_units\"], activation=m1_hyper_parameters[\"lstm_activation\"], input_shape=(7, nb_features)))\nmodel1.add(Dense(1, activation=\"linear\"))\nmodel1.summary()",
   "outputs": [
    {
     "name": "stdout",
     "text": "Model: \"sequential\"\n_________________________________________________________________\n Layer (type)                Output Shape              Param #   \n=================================================================\n lstm (LSTM)                 (None, 160)               154880    \n                                                                 \n dense (Dense)               (None, 1)                 161       \n                                                                 \n=================================================================\nTotal params: 155,041\nTrainable params: 155,041\nNon-trainable params: 0\n_________________________________________________________________\n",
     "output_type": "stream"
    }
   ],
   "execution_count": null
  },
  {
   "cell_type": "code",
   "metadata": {
    "pycharm": {
     "name": "#%%\n"
    },
    "cell_id": "00009-42ac140d-65b8-4762-ba47-63bc940f179a",
    "deepnote_to_be_reexecuted": false,
    "source_hash": "4b5f6b50",
    "execution_start": 1657715723773,
    "execution_millis": 145555,
    "deepnote_cell_type": "code",
    "deepnote_cell_height": 863
   },
   "source": "model1.compile(loss=\"mse\", optimizer=Adam(learning_rate=m1_hyper_parameters[\"learning_rate\"]), metrics=[keras.metrics.RootMeanSquaredError()])\nmodel1.fit(X_train, y_train,\n           validation_split=m1_hyper_parameters[\"validation_split\"],\n           batch_size=m1_hyper_parameters[\"batch_size\"],\n           epochs=m1_hyper_parameters[\"epochs\"],\n           shuffle=True)\nyhat = model1.predict(X_test, verbose=0)\nyhat_inverse = target_scaler.inverse_transform(yhat)\nmodel_predictions_df[\"model_1_prediction\"] = yhat_inverse\nmodel_scores_df.loc[\"model 1\"] = evaluate_forecast(y_test, yhat_inverse)",
   "outputs": [
    {
     "name": "stdout",
     "text": "Epoch 1/270\n3/3 [==============================] - 4s 417ms/step - loss: 0.1125 - root_mean_squared_error: 0.3354 - val_loss: 0.1361 - val_root_mean_squared_error: 0.3689\nEpoch 2/270\n3/3 [==============================] - 0s 124ms/step - loss: 0.0868 - root_mean_squared_error: 0.2947 - val_loss: 0.0268 - val_root_mean_squared_error: 0.1636\nEpoch 3/270\n3/3 [==============================] - 0s 120ms/step - loss: 0.0564 - root_mean_squared_error: 0.2375 - val_loss: 0.0395 - val_root_mean_squared_error: 0.1989\nEpoch 4/270\n3/3 [==============================] - 0s 117ms/step - loss: 0.0578 - root_mean_squared_error: 0.2405 - val_loss: 0.0276 - val_root_mean_squared_error: 0.1663\nEpoch 5/270\n3/3 [==============================] - 0s 123ms/step - loss: 0.0430 - root_mean_squared_error: 0.2073 - val_loss: 0.0566 - val_root_mean_squared_error: 0.2379\nEpoch 6/270\n3/3 [==============================] - 0s 120ms/step - loss: 0.0464 - root_mean_squared_error: 0.2154 - val_loss: 0.0306 - val_root_mean_squared_error: 0.1749\nEpoch 7/270\n3/3 [==============================] - 0s 117ms/step - loss: 0.0357 - root_mean_squared_error: 0.1889 - val_loss: 0.0269 - val_root_mean_squared_error: 0.1641\nEpoch 8/270\n3/3 [==============================] - 0s 124ms/step - loss: 0.0386 - root_mean_squared_error: 0.1965 - val_loss: 0.0245 - val_root_mean_squared_error: 0.1566\nEpoch 9/270\n3/3 [==============================] - 0s 133ms/step - loss: 0.0300 - root_mean_squared_error: 0.1733 - val_loss: 0.0315 - val_root_mean_squared_error: 0.1774\nEpoch 10/270\n3/3 [==============================] - 0s 101ms/step - loss: 0.0309 - root_mean_squared_error: 0.1759 - val_loss: 0.0299 - val_root_mean_squared_error: 0.1729\nEpoch 11/270\n3/3 [==============================] - 0s 133ms/step - loss: 0.0276 - root_mean_squared_error: 0.1662 - val_loss: 0.0243 - val_root_mean_squared_error: 0.1558\nEpoch 12/270\n3/3 [==============================] - 0s 121ms/step - loss: 0.0267 - root_mean_squared_error: 0.1634 - val_loss: 0.0241 - val_root_mean_squared_error: 0.1553\nEpoch 13/270\n3/3 [==============================] - 0s 124ms/step - loss: 0.0256 - root_mean_squared_error: 0.1601 - val_loss: 0.0247 - val_root_mean_squared_error: 0.1571\nEpoch 14/270\n3/3 [==============================] - 0s 139ms/step - loss: 0.0242 - root_mean_squared_error: 0.1555 - val_loss: 0.0258 - val_root_mean_squared_error: 0.1605\nEpoch 15/270\n3/3 [==============================] - 0s 154ms/step - loss: 0.0234 - root_mean_squared_error: 0.1530 - val_loss: 0.0238 - val_root_mean_squared_error: 0.1542\nEpoch 16/270\n3/3 [==============================] - 0s 129ms/step - loss: 0.0224 - root_mean_squared_error: 0.1497 - val_loss: 0.0233 - val_root_mean_squared_error: 0.1527\nEpoch 17/270\n3/3 [==============================] - 0s 139ms/step - loss: 0.0218 - root_mean_squared_error: 0.1475 - val_loss: 0.0233 - val_root_mean_squared_error: 0.1526\nEpoch 18/270\n3/3 [==============================] - 0s 121ms/step - loss: 0.0209 - root_mean_squared_error: 0.1445 - val_loss: 0.0233 - val_root_mean_squared_error: 0.1526\nEpoch 19/270\n3/3 [==============================] - 0s 110ms/step - loss: 0.0203 - root_mean_squared_error: 0.1425 - val_loss: 0.0226 - val_root_mean_squared_error: 0.1502\nEpoch 20/270\n3/3 [==============================] - 0s 138ms/step - loss: 0.0196 - root_mean_squared_error: 0.1402 - val_loss: 0.0223 - val_root_mean_squared_error: 0.1492\nEpoch 21/270\n3/3 [==============================] - 0s 143ms/step - loss: 0.0189 - root_mean_squared_error: 0.1376 - val_loss: 0.0221 - val_root_mean_squared_error: 0.1486\nEpoch 22/270\n3/3 [==============================] - 0s 103ms/step - loss: 0.0185 - root_mean_squared_error: 0.1360 - val_loss: 0.0217 - val_root_mean_squared_error: 0.1473\nEpoch 23/270\n3/3 [==============================] - 0s 152ms/step - loss: 0.0179 - root_mean_squared_error: 0.1339 - val_loss: 0.0214 - val_root_mean_squared_error: 0.1461\nEpoch 24/270\n3/3 [==============================] - 0s 132ms/step - loss: 0.0175 - root_mean_squared_error: 0.1324 - val_loss: 0.0210 - val_root_mean_squared_error: 0.1449\nEpoch 25/270\n3/3 [==============================] - 0s 127ms/step - loss: 0.0171 - root_mean_squared_error: 0.1309 - val_loss: 0.0207 - val_root_mean_squared_error: 0.1438\nEpoch 26/270\n3/3 [==============================] - 0s 123ms/step - loss: 0.0166 - root_mean_squared_error: 0.1287 - val_loss: 0.0205 - val_root_mean_squared_error: 0.1431\nEpoch 27/270\n3/3 [==============================] - 0s 100ms/step - loss: 0.0162 - root_mean_squared_error: 0.1274 - val_loss: 0.0200 - val_root_mean_squared_error: 0.1415\nEpoch 28/270\n3/3 [==============================] - 0s 101ms/step - loss: 0.0157 - root_mean_squared_error: 0.1253 - val_loss: 0.0197 - val_root_mean_squared_error: 0.1403\nEpoch 29/270\n3/3 [==============================] - 0s 197ms/step - loss: 0.0154 - root_mean_squared_error: 0.1240 - val_loss: 0.0194 - val_root_mean_squared_error: 0.1395\nEpoch 30/270\n3/3 [==============================] - 0s 173ms/step - loss: 0.0149 - root_mean_squared_error: 0.1222 - val_loss: 0.0193 - val_root_mean_squared_error: 0.1389\nEpoch 31/270\n3/3 [==============================] - 0s 133ms/step - loss: 0.0146 - root_mean_squared_error: 0.1210 - val_loss: 0.0188 - val_root_mean_squared_error: 0.1371\nEpoch 32/270\n3/3 [==============================] - 0s 138ms/step - loss: 0.0142 - root_mean_squared_error: 0.1191 - val_loss: 0.0185 - val_root_mean_squared_error: 0.1361\nEpoch 33/270\n3/3 [==============================] - 0s 128ms/step - loss: 0.0139 - root_mean_squared_error: 0.1178 - val_loss: 0.0184 - val_root_mean_squared_error: 0.1356\nEpoch 34/270\n3/3 [==============================] - 0s 139ms/step - loss: 0.0135 - root_mean_squared_error: 0.1163 - val_loss: 0.0180 - val_root_mean_squared_error: 0.1341\nEpoch 35/270\n3/3 [==============================] - 0s 115ms/step - loss: 0.0133 - root_mean_squared_error: 0.1154 - val_loss: 0.0176 - val_root_mean_squared_error: 0.1328\nEpoch 36/270\n3/3 [==============================] - 0s 118ms/step - loss: 0.0131 - root_mean_squared_error: 0.1145 - val_loss: 0.0178 - val_root_mean_squared_error: 0.1335\nEpoch 37/270\n3/3 [==============================] - 0s 133ms/step - loss: 0.0125 - root_mean_squared_error: 0.1119 - val_loss: 0.0171 - val_root_mean_squared_error: 0.1307\nEpoch 38/270\n3/3 [==============================] - 0s 124ms/step - loss: 0.0126 - root_mean_squared_error: 0.1122 - val_loss: 0.0169 - val_root_mean_squared_error: 0.1299\nEpoch 39/270\n3/3 [==============================] - 0s 147ms/step - loss: 0.0122 - root_mean_squared_error: 0.1104 - val_loss: 0.0177 - val_root_mean_squared_error: 0.1332\nEpoch 40/270\n3/3 [==============================] - 0s 122ms/step - loss: 0.0125 - root_mean_squared_error: 0.1118 - val_loss: 0.0162 - val_root_mean_squared_error: 0.1274\nEpoch 41/270\n3/3 [==============================] - 0s 129ms/step - loss: 0.0115 - root_mean_squared_error: 0.1074 - val_loss: 0.0173 - val_root_mean_squared_error: 0.1315\nEpoch 42/270\n3/3 [==============================] - 0s 155ms/step - loss: 0.0113 - root_mean_squared_error: 0.1062 - val_loss: 0.0159 - val_root_mean_squared_error: 0.1262\nEpoch 43/270\n3/3 [==============================] - 0s 134ms/step - loss: 0.0110 - root_mean_squared_error: 0.1048 - val_loss: 0.0157 - val_root_mean_squared_error: 0.1254\nEpoch 44/270\n3/3 [==============================] - 0s 130ms/step - loss: 0.0107 - root_mean_squared_error: 0.1036 - val_loss: 0.0165 - val_root_mean_squared_error: 0.1283\nEpoch 45/270\n3/3 [==============================] - 1s 214ms/step - loss: 0.0105 - root_mean_squared_error: 0.1022 - val_loss: 0.0152 - val_root_mean_squared_error: 0.1232\nEpoch 46/270\n3/3 [==============================] - 0s 119ms/step - loss: 0.0102 - root_mean_squared_error: 0.1009 - val_loss: 0.0158 - val_root_mean_squared_error: 0.1257\nEpoch 47/270\n3/3 [==============================] - 0s 128ms/step - loss: 0.0100 - root_mean_squared_error: 0.1000 - val_loss: 0.0156 - val_root_mean_squared_error: 0.1250\nEpoch 48/270\n3/3 [==============================] - 0s 129ms/step - loss: 0.0098 - root_mean_squared_error: 0.0990 - val_loss: 0.0146 - val_root_mean_squared_error: 0.1206\nEpoch 49/270\n3/3 [==============================] - 0s 106ms/step - loss: 0.0095 - root_mean_squared_error: 0.0974 - val_loss: 0.0158 - val_root_mean_squared_error: 0.1255\nEpoch 50/270\n3/3 [==============================] - 0s 154ms/step - loss: 0.0093 - root_mean_squared_error: 0.0963 - val_loss: 0.0144 - val_root_mean_squared_error: 0.1202\nEpoch 51/270\n3/3 [==============================] - 0s 124ms/step - loss: 0.0091 - root_mean_squared_error: 0.0953 - val_loss: 0.0148 - val_root_mean_squared_error: 0.1215\nEpoch 52/270\n3/3 [==============================] - 0s 148ms/step - loss: 0.0089 - root_mean_squared_error: 0.0942 - val_loss: 0.0150 - val_root_mean_squared_error: 0.1223\nEpoch 53/270\n3/3 [==============================] - 0s 154ms/step - loss: 0.0089 - root_mean_squared_error: 0.0941 - val_loss: 0.0138 - val_root_mean_squared_error: 0.1173\nEpoch 54/270\n3/3 [==============================] - 0s 160ms/step - loss: 0.0084 - root_mean_squared_error: 0.0918 - val_loss: 0.0155 - val_root_mean_squared_error: 0.1245\nEpoch 55/270\n3/3 [==============================] - 0s 173ms/step - loss: 0.0085 - root_mean_squared_error: 0.0920 - val_loss: 0.0136 - val_root_mean_squared_error: 0.1167\nEpoch 56/270\n3/3 [==============================] - 0s 164ms/step - loss: 0.0081 - root_mean_squared_error: 0.0898 - val_loss: 0.0147 - val_root_mean_squared_error: 0.1214\nEpoch 57/270\n3/3 [==============================] - 0s 137ms/step - loss: 0.0078 - root_mean_squared_error: 0.0886 - val_loss: 0.0134 - val_root_mean_squared_error: 0.1157\nEpoch 58/270\n3/3 [==============================] - 0s 140ms/step - loss: 0.0077 - root_mean_squared_error: 0.0879 - val_loss: 0.0136 - val_root_mean_squared_error: 0.1166\nEpoch 59/270\n3/3 [==============================] - 0s 173ms/step - loss: 0.0075 - root_mean_squared_error: 0.0867 - val_loss: 0.0134 - val_root_mean_squared_error: 0.1159\nEpoch 60/270\n3/3 [==============================] - 0s 141ms/step - loss: 0.0073 - root_mean_squared_error: 0.0857 - val_loss: 0.0138 - val_root_mean_squared_error: 0.1175\nEpoch 61/270\n3/3 [==============================] - 0s 136ms/step - loss: 0.0072 - root_mean_squared_error: 0.0850 - val_loss: 0.0129 - val_root_mean_squared_error: 0.1137\nEpoch 62/270\n3/3 [==============================] - 0s 112ms/step - loss: 0.0070 - root_mean_squared_error: 0.0834 - val_loss: 0.0138 - val_root_mean_squared_error: 0.1176\nEpoch 63/270\n3/3 [==============================] - 0s 150ms/step - loss: 0.0069 - root_mean_squared_error: 0.0832 - val_loss: 0.0125 - val_root_mean_squared_error: 0.1117\nEpoch 64/270\n3/3 [==============================] - 0s 138ms/step - loss: 0.0067 - root_mean_squared_error: 0.0818 - val_loss: 0.0133 - val_root_mean_squared_error: 0.1155\nEpoch 65/270\n3/3 [==============================] - 0s 153ms/step - loss: 0.0065 - root_mean_squared_error: 0.0809 - val_loss: 0.0124 - val_root_mean_squared_error: 0.1116\nEpoch 66/270\n3/3 [==============================] - 0s 170ms/step - loss: 0.0065 - root_mean_squared_error: 0.0805 - val_loss: 0.0125 - val_root_mean_squared_error: 0.1118\nEpoch 67/270\n3/3 [==============================] - 0s 125ms/step - loss: 0.0063 - root_mean_squared_error: 0.0797 - val_loss: 0.0126 - val_root_mean_squared_error: 0.1125\nEpoch 68/270\n3/3 [==============================] - 0s 133ms/step - loss: 0.0062 - root_mean_squared_error: 0.0786 - val_loss: 0.0124 - val_root_mean_squared_error: 0.1112\nEpoch 69/270\n3/3 [==============================] - 0s 139ms/step - loss: 0.0061 - root_mean_squared_error: 0.0779 - val_loss: 0.0123 - val_root_mean_squared_error: 0.1109\nEpoch 70/270\n3/3 [==============================] - 0s 142ms/step - loss: 0.0059 - root_mean_squared_error: 0.0770 - val_loss: 0.0123 - val_root_mean_squared_error: 0.1110\nEpoch 71/270\n3/3 [==============================] - 0s 142ms/step - loss: 0.0060 - root_mean_squared_error: 0.0772 - val_loss: 0.0127 - val_root_mean_squared_error: 0.1126\nEpoch 72/270\n3/3 [==============================] - 0s 165ms/step - loss: 0.0057 - root_mean_squared_error: 0.0752 - val_loss: 0.0125 - val_root_mean_squared_error: 0.1118\nEpoch 73/270\n3/3 [==============================] - 0s 137ms/step - loss: 0.0055 - root_mean_squared_error: 0.0743 - val_loss: 0.0113 - val_root_mean_squared_error: 0.1065\nEpoch 74/270\n3/3 [==============================] - 1s 216ms/step - loss: 0.0054 - root_mean_squared_error: 0.0737 - val_loss: 0.0123 - val_root_mean_squared_error: 0.1109\nEpoch 75/270\n3/3 [==============================] - 0s 155ms/step - loss: 0.0053 - root_mean_squared_error: 0.0729 - val_loss: 0.0114 - val_root_mean_squared_error: 0.1069\nEpoch 76/270\n3/3 [==============================] - 0s 115ms/step - loss: 0.0053 - root_mean_squared_error: 0.0726 - val_loss: 0.0112 - val_root_mean_squared_error: 0.1057\nEpoch 77/270\n3/3 [==============================] - 0s 143ms/step - loss: 0.0052 - root_mean_squared_error: 0.0718 - val_loss: 0.0120 - val_root_mean_squared_error: 0.1097\nEpoch 78/270\n3/3 [==============================] - 0s 156ms/step - loss: 0.0050 - root_mean_squared_error: 0.0708 - val_loss: 0.0119 - val_root_mean_squared_error: 0.1090\nEpoch 79/270\n3/3 [==============================] - 0s 168ms/step - loss: 0.0050 - root_mean_squared_error: 0.0705 - val_loss: 0.0115 - val_root_mean_squared_error: 0.1071\nEpoch 80/270\n3/3 [==============================] - 0s 139ms/step - loss: 0.0049 - root_mean_squared_error: 0.0698 - val_loss: 0.0116 - val_root_mean_squared_error: 0.1078\nEpoch 81/270\n3/3 [==============================] - 0s 122ms/step - loss: 0.0048 - root_mean_squared_error: 0.0690 - val_loss: 0.0108 - val_root_mean_squared_error: 0.1037\nEpoch 82/270\n3/3 [==============================] - 0s 122ms/step - loss: 0.0048 - root_mean_squared_error: 0.0695 - val_loss: 0.0110 - val_root_mean_squared_error: 0.1050\nEpoch 83/270\n3/3 [==============================] - 0s 122ms/step - loss: 0.0047 - root_mean_squared_error: 0.0683 - val_loss: 0.0115 - val_root_mean_squared_error: 0.1074\nEpoch 84/270\n3/3 [==============================] - 0s 133ms/step - loss: 0.0046 - root_mean_squared_error: 0.0678 - val_loss: 0.0108 - val_root_mean_squared_error: 0.1039\nEpoch 85/270\n3/3 [==============================] - 0s 129ms/step - loss: 0.0047 - root_mean_squared_error: 0.0688 - val_loss: 0.0125 - val_root_mean_squared_error: 0.1118\nEpoch 86/270\n3/3 [==============================] - 0s 113ms/step - loss: 0.0045 - root_mean_squared_error: 0.0671 - val_loss: 0.0106 - val_root_mean_squared_error: 0.1028\nEpoch 87/270\n3/3 [==============================] - 0s 121ms/step - loss: 0.0044 - root_mean_squared_error: 0.0660 - val_loss: 0.0101 - val_root_mean_squared_error: 0.1003\nEpoch 88/270\n3/3 [==============================] - 0s 141ms/step - loss: 0.0044 - root_mean_squared_error: 0.0663 - val_loss: 0.0123 - val_root_mean_squared_error: 0.1109\nEpoch 89/270\n3/3 [==============================] - 0s 139ms/step - loss: 0.0043 - root_mean_squared_error: 0.0659 - val_loss: 0.0106 - val_root_mean_squared_error: 0.1031\nEpoch 90/270\n3/3 [==============================] - 0s 132ms/step - loss: 0.0042 - root_mean_squared_error: 0.0646 - val_loss: 0.0102 - val_root_mean_squared_error: 0.1011\nEpoch 91/270\n3/3 [==============================] - 0s 144ms/step - loss: 0.0042 - root_mean_squared_error: 0.0645 - val_loss: 0.0119 - val_root_mean_squared_error: 0.1091\nEpoch 92/270\n3/3 [==============================] - 0s 116ms/step - loss: 0.0042 - root_mean_squared_error: 0.0644 - val_loss: 0.0093 - val_root_mean_squared_error: 0.0963\nEpoch 93/270\n3/3 [==============================] - 0s 132ms/step - loss: 0.0041 - root_mean_squared_error: 0.0644 - val_loss: 0.0116 - val_root_mean_squared_error: 0.1077\nEpoch 94/270\n3/3 [==============================] - 0s 135ms/step - loss: 0.0040 - root_mean_squared_error: 0.0631 - val_loss: 0.0092 - val_root_mean_squared_error: 0.0957\nEpoch 95/270\n3/3 [==============================] - 0s 121ms/step - loss: 0.0040 - root_mean_squared_error: 0.0635 - val_loss: 0.0109 - val_root_mean_squared_error: 0.1042\nEpoch 96/270\n3/3 [==============================] - 0s 133ms/step - loss: 0.0039 - root_mean_squared_error: 0.0628 - val_loss: 0.0111 - val_root_mean_squared_error: 0.1054\nEpoch 97/270\n3/3 [==============================] - 0s 158ms/step - loss: 0.0038 - root_mean_squared_error: 0.0617 - val_loss: 0.0108 - val_root_mean_squared_error: 0.1038\nEpoch 98/270\n3/3 [==============================] - 0s 121ms/step - loss: 0.0037 - root_mean_squared_error: 0.0610 - val_loss: 0.0099 - val_root_mean_squared_error: 0.0995\nEpoch 99/270\n3/3 [==============================] - 0s 121ms/step - loss: 0.0037 - root_mean_squared_error: 0.0608 - val_loss: 0.0098 - val_root_mean_squared_error: 0.0992\nEpoch 100/270\n3/3 [==============================] - 0s 136ms/step - loss: 0.0037 - root_mean_squared_error: 0.0606 - val_loss: 0.0095 - val_root_mean_squared_error: 0.0976\nEpoch 101/270\n3/3 [==============================] - 1s 207ms/step - loss: 0.0037 - root_mean_squared_error: 0.0605 - val_loss: 0.0113 - val_root_mean_squared_error: 0.1063\nEpoch 102/270\n3/3 [==============================] - 0s 139ms/step - loss: 0.0037 - root_mean_squared_error: 0.0611 - val_loss: 0.0101 - val_root_mean_squared_error: 0.1005\nEpoch 103/270\n3/3 [==============================] - 0s 127ms/step - loss: 0.0039 - root_mean_squared_error: 0.0627 - val_loss: 0.0081 - val_root_mean_squared_error: 0.0900\nEpoch 104/270\n3/3 [==============================] - 0s 126ms/step - loss: 0.0038 - root_mean_squared_error: 0.0615 - val_loss: 0.0139 - val_root_mean_squared_error: 0.1177\nEpoch 105/270\n3/3 [==============================] - 0s 125ms/step - loss: 0.0041 - root_mean_squared_error: 0.0641 - val_loss: 0.0075 - val_root_mean_squared_error: 0.0868\nEpoch 106/270\n3/3 [==============================] - 0s 143ms/step - loss: 0.0043 - root_mean_squared_error: 0.0656 - val_loss: 0.0137 - val_root_mean_squared_error: 0.1172\nEpoch 107/270\n3/3 [==============================] - 0s 140ms/step - loss: 0.0039 - root_mean_squared_error: 0.0627 - val_loss: 0.0082 - val_root_mean_squared_error: 0.0908\nEpoch 108/270\n3/3 [==============================] - 0s 142ms/step - loss: 0.0037 - root_mean_squared_error: 0.0607 - val_loss: 0.0102 - val_root_mean_squared_error: 0.1010\nEpoch 109/270\n3/3 [==============================] - 0s 155ms/step - loss: 0.0039 - root_mean_squared_error: 0.0626 - val_loss: 0.0121 - val_root_mean_squared_error: 0.1102\nEpoch 110/270\n3/3 [==============================] - 0s 139ms/step - loss: 0.0037 - root_mean_squared_error: 0.0611 - val_loss: 0.0080 - val_root_mean_squared_error: 0.0896\nEpoch 111/270\n3/3 [==============================] - 0s 142ms/step - loss: 0.0035 - root_mean_squared_error: 0.0591 - val_loss: 0.0108 - val_root_mean_squared_error: 0.1041\nEpoch 112/270\n3/3 [==============================] - 0s 161ms/step - loss: 0.0035 - root_mean_squared_error: 0.0589 - val_loss: 0.0100 - val_root_mean_squared_error: 0.0999\nEpoch 113/270\n3/3 [==============================] - 0s 131ms/step - loss: 0.0033 - root_mean_squared_error: 0.0574 - val_loss: 0.0091 - val_root_mean_squared_error: 0.0952\nEpoch 114/270\n3/3 [==============================] - 0s 175ms/step - loss: 0.0033 - root_mean_squared_error: 0.0573 - val_loss: 0.0096 - val_root_mean_squared_error: 0.0977\nEpoch 115/270\n3/3 [==============================] - 0s 154ms/step - loss: 0.0032 - root_mean_squared_error: 0.0568 - val_loss: 0.0098 - val_root_mean_squared_error: 0.0991\nEpoch 116/270\n3/3 [==============================] - 0s 177ms/step - loss: 0.0032 - root_mean_squared_error: 0.0564 - val_loss: 0.0091 - val_root_mean_squared_error: 0.0955\nEpoch 117/270\n3/3 [==============================] - 0s 139ms/step - loss: 0.0032 - root_mean_squared_error: 0.0568 - val_loss: 0.0091 - val_root_mean_squared_error: 0.0953\nEpoch 118/270\n3/3 [==============================] - 0s 136ms/step - loss: 0.0033 - root_mean_squared_error: 0.0575 - val_loss: 0.0109 - val_root_mean_squared_error: 0.1043\nEpoch 119/270\n3/3 [==============================] - 0s 130ms/step - loss: 0.0032 - root_mean_squared_error: 0.0567 - val_loss: 0.0084 - val_root_mean_squared_error: 0.0918\nEpoch 120/270\n3/3 [==============================] - 0s 127ms/step - loss: 0.0032 - root_mean_squared_error: 0.0567 - val_loss: 0.0091 - val_root_mean_squared_error: 0.0954\nEpoch 121/270\n3/3 [==============================] - 0s 120ms/step - loss: 0.0031 - root_mean_squared_error: 0.0561 - val_loss: 0.0102 - val_root_mean_squared_error: 0.1012\nEpoch 122/270\n3/3 [==============================] - 0s 149ms/step - loss: 0.0033 - root_mean_squared_error: 0.0578 - val_loss: 0.0071 - val_root_mean_squared_error: 0.0841\nEpoch 123/270\n3/3 [==============================] - 0s 131ms/step - loss: 0.0038 - root_mean_squared_error: 0.0618 - val_loss: 0.0097 - val_root_mean_squared_error: 0.0986\nEpoch 124/270\n3/3 [==============================] - 0s 98ms/step - loss: 0.0032 - root_mean_squared_error: 0.0562 - val_loss: 0.0090 - val_root_mean_squared_error: 0.0947\nEpoch 125/270\n3/3 [==============================] - 0s 118ms/step - loss: 0.0031 - root_mean_squared_error: 0.0557 - val_loss: 0.0078 - val_root_mean_squared_error: 0.0883\nEpoch 126/270\n3/3 [==============================] - 0s 103ms/step - loss: 0.0031 - root_mean_squared_error: 0.0556 - val_loss: 0.0092 - val_root_mean_squared_error: 0.0961\nEpoch 127/270\n3/3 [==============================] - 0s 142ms/step - loss: 0.0030 - root_mean_squared_error: 0.0549 - val_loss: 0.0093 - val_root_mean_squared_error: 0.0963\nEpoch 128/270\n3/3 [==============================] - 0s 129ms/step - loss: 0.0031 - root_mean_squared_error: 0.0560 - val_loss: 0.0088 - val_root_mean_squared_error: 0.0937\nEpoch 129/270\n3/3 [==============================] - 0s 122ms/step - loss: 0.0030 - root_mean_squared_error: 0.0552 - val_loss: 0.0075 - val_root_mean_squared_error: 0.0866\nEpoch 130/270\n3/3 [==============================] - 0s 131ms/step - loss: 0.0031 - root_mean_squared_error: 0.0558 - val_loss: 0.0086 - val_root_mean_squared_error: 0.0929\nEpoch 131/270\n3/3 [==============================] - 0s 89ms/step - loss: 0.0030 - root_mean_squared_error: 0.0543 - val_loss: 0.0077 - val_root_mean_squared_error: 0.0880\nEpoch 132/270\n3/3 [==============================] - 0s 123ms/step - loss: 0.0030 - root_mean_squared_error: 0.0545 - val_loss: 0.0094 - val_root_mean_squared_error: 0.0970\nEpoch 133/270\n3/3 [==============================] - 0s 97ms/step - loss: 0.0029 - root_mean_squared_error: 0.0541 - val_loss: 0.0082 - val_root_mean_squared_error: 0.0908\nEpoch 134/270\n3/3 [==============================] - 0s 133ms/step - loss: 0.0029 - root_mean_squared_error: 0.0539 - val_loss: 0.0086 - val_root_mean_squared_error: 0.0928\nEpoch 135/270\n3/3 [==============================] - 0s 127ms/step - loss: 0.0029 - root_mean_squared_error: 0.0543 - val_loss: 0.0070 - val_root_mean_squared_error: 0.0838\nEpoch 136/270\n3/3 [==============================] - 0s 144ms/step - loss: 0.0033 - root_mean_squared_error: 0.0579 - val_loss: 0.0108 - val_root_mean_squared_error: 0.1038\nEpoch 137/270\n3/3 [==============================] - 0s 156ms/step - loss: 0.0032 - root_mean_squared_error: 0.0566 - val_loss: 0.0087 - val_root_mean_squared_error: 0.0934\nEpoch 138/270\n3/3 [==============================] - 0s 154ms/step - loss: 0.0029 - root_mean_squared_error: 0.0539 - val_loss: 0.0082 - val_root_mean_squared_error: 0.0905\nEpoch 139/270\n3/3 [==============================] - 0s 134ms/step - loss: 0.0028 - root_mean_squared_error: 0.0534 - val_loss: 0.0083 - val_root_mean_squared_error: 0.0911\nEpoch 140/270\n3/3 [==============================] - 0s 147ms/step - loss: 0.0028 - root_mean_squared_error: 0.0534 - val_loss: 0.0084 - val_root_mean_squared_error: 0.0914\nEpoch 141/270\n3/3 [==============================] - 0s 141ms/step - loss: 0.0028 - root_mean_squared_error: 0.0533 - val_loss: 0.0079 - val_root_mean_squared_error: 0.0886\nEpoch 142/270\n3/3 [==============================] - 0s 133ms/step - loss: 0.0028 - root_mean_squared_error: 0.0532 - val_loss: 0.0088 - val_root_mean_squared_error: 0.0940\nEpoch 143/270\n3/3 [==============================] - 0s 159ms/step - loss: 0.0028 - root_mean_squared_error: 0.0534 - val_loss: 0.0085 - val_root_mean_squared_error: 0.0924\nEpoch 144/270\n3/3 [==============================] - 0s 187ms/step - loss: 0.0028 - root_mean_squared_error: 0.0533 - val_loss: 0.0091 - val_root_mean_squared_error: 0.0955\nEpoch 145/270\n3/3 [==============================] - 0s 136ms/step - loss: 0.0029 - root_mean_squared_error: 0.0542 - val_loss: 0.0093 - val_root_mean_squared_error: 0.0967\nEpoch 146/270\n3/3 [==============================] - 0s 134ms/step - loss: 0.0030 - root_mean_squared_error: 0.0547 - val_loss: 0.0066 - val_root_mean_squared_error: 0.0810\nEpoch 147/270\n3/3 [==============================] - 0s 125ms/step - loss: 0.0034 - root_mean_squared_error: 0.0580 - val_loss: 0.0076 - val_root_mean_squared_error: 0.0874\nEpoch 148/270\n3/3 [==============================] - 0s 134ms/step - loss: 0.0033 - root_mean_squared_error: 0.0571 - val_loss: 0.0112 - val_root_mean_squared_error: 0.1057\nEpoch 149/270\n3/3 [==============================] - 0s 145ms/step - loss: 0.0034 - root_mean_squared_error: 0.0586 - val_loss: 0.0077 - val_root_mean_squared_error: 0.0877\nEpoch 150/270\n3/3 [==============================] - 0s 160ms/step - loss: 0.0032 - root_mean_squared_error: 0.0562 - val_loss: 0.0067 - val_root_mean_squared_error: 0.0820\nEpoch 151/270\n3/3 [==============================] - 0s 134ms/step - loss: 0.0031 - root_mean_squared_error: 0.0559 - val_loss: 0.0089 - val_root_mean_squared_error: 0.0944\nEpoch 152/270\n3/3 [==============================] - 0s 108ms/step - loss: 0.0030 - root_mean_squared_error: 0.0547 - val_loss: 0.0096 - val_root_mean_squared_error: 0.0979\nEpoch 153/270\n3/3 [==============================] - 0s 174ms/step - loss: 0.0029 - root_mean_squared_error: 0.0537 - val_loss: 0.0074 - val_root_mean_squared_error: 0.0859\nEpoch 154/270\n3/3 [==============================] - 0s 143ms/step - loss: 0.0028 - root_mean_squared_error: 0.0528 - val_loss: 0.0080 - val_root_mean_squared_error: 0.0892\nEpoch 155/270\n3/3 [==============================] - 0s 111ms/step - loss: 0.0027 - root_mean_squared_error: 0.0524 - val_loss: 0.0084 - val_root_mean_squared_error: 0.0916\nEpoch 156/270\n3/3 [==============================] - 0s 135ms/step - loss: 0.0027 - root_mean_squared_error: 0.0522 - val_loss: 0.0074 - val_root_mean_squared_error: 0.0858\nEpoch 157/270\n3/3 [==============================] - 0s 156ms/step - loss: 0.0028 - root_mean_squared_error: 0.0525 - val_loss: 0.0082 - val_root_mean_squared_error: 0.0908\nEpoch 158/270\n3/3 [==============================] - 0s 145ms/step - loss: 0.0028 - root_mean_squared_error: 0.0532 - val_loss: 0.0097 - val_root_mean_squared_error: 0.0987\nEpoch 159/270\n3/3 [==============================] - 0s 150ms/step - loss: 0.0029 - root_mean_squared_error: 0.0542 - val_loss: 0.0071 - val_root_mean_squared_error: 0.0840\nEpoch 160/270\n3/3 [==============================] - 0s 154ms/step - loss: 0.0028 - root_mean_squared_error: 0.0529 - val_loss: 0.0078 - val_root_mean_squared_error: 0.0884\nEpoch 161/270\n3/3 [==============================] - 0s 187ms/step - loss: 0.0029 - root_mean_squared_error: 0.0539 - val_loss: 0.0116 - val_root_mean_squared_error: 0.1077\nEpoch 162/270\n3/3 [==============================] - 1s 218ms/step - loss: 0.0033 - root_mean_squared_error: 0.0576 - val_loss: 0.0068 - val_root_mean_squared_error: 0.0823\nEpoch 163/270\n3/3 [==============================] - 0s 183ms/step - loss: 0.0028 - root_mean_squared_error: 0.0526 - val_loss: 0.0085 - val_root_mean_squared_error: 0.0920\nEpoch 164/270\n3/3 [==============================] - 0s 120ms/step - loss: 0.0027 - root_mean_squared_error: 0.0523 - val_loss: 0.0079 - val_root_mean_squared_error: 0.0887\nEpoch 165/270\n3/3 [==============================] - 0s 135ms/step - loss: 0.0028 - root_mean_squared_error: 0.0525 - val_loss: 0.0073 - val_root_mean_squared_error: 0.0852\nEpoch 166/270\n3/3 [==============================] - 0s 147ms/step - loss: 0.0029 - root_mean_squared_error: 0.0537 - val_loss: 0.0089 - val_root_mean_squared_error: 0.0946\nEpoch 167/270\n3/3 [==============================] - 0s 117ms/step - loss: 0.0029 - root_mean_squared_error: 0.0538 - val_loss: 0.0088 - val_root_mean_squared_error: 0.0938\nEpoch 168/270\n3/3 [==============================] - 0s 169ms/step - loss: 0.0029 - root_mean_squared_error: 0.0542 - val_loss: 0.0070 - val_root_mean_squared_error: 0.0837\nEpoch 169/270\n3/3 [==============================] - 1s 198ms/step - loss: 0.0030 - root_mean_squared_error: 0.0545 - val_loss: 0.0063 - val_root_mean_squared_error: 0.0795\nEpoch 170/270\n3/3 [==============================] - 0s 140ms/step - loss: 0.0030 - root_mean_squared_error: 0.0550 - val_loss: 0.0077 - val_root_mean_squared_error: 0.0876\nEpoch 171/270\n3/3 [==============================] - 0s 139ms/step - loss: 0.0028 - root_mean_squared_error: 0.0531 - val_loss: 0.0092 - val_root_mean_squared_error: 0.0959\nEpoch 172/270\n3/3 [==============================] - 0s 101ms/step - loss: 0.0029 - root_mean_squared_error: 0.0535 - val_loss: 0.0072 - val_root_mean_squared_error: 0.0850\nEpoch 173/270\n3/3 [==============================] - 0s 112ms/step - loss: 0.0027 - root_mean_squared_error: 0.0523 - val_loss: 0.0068 - val_root_mean_squared_error: 0.0827\nEpoch 174/270\n3/3 [==============================] - 0s 134ms/step - loss: 0.0028 - root_mean_squared_error: 0.0530 - val_loss: 0.0099 - val_root_mean_squared_error: 0.0996\nEpoch 175/270\n3/3 [==============================] - 0s 98ms/step - loss: 0.0033 - root_mean_squared_error: 0.0577 - val_loss: 0.0097 - val_root_mean_squared_error: 0.0987\nEpoch 176/270\n3/3 [==============================] - 0s 108ms/step - loss: 0.0032 - root_mean_squared_error: 0.0567 - val_loss: 0.0061 - val_root_mean_squared_error: 0.0780\nEpoch 177/270\n3/3 [==============================] - 0s 136ms/step - loss: 0.0032 - root_mean_squared_error: 0.0569 - val_loss: 0.0071 - val_root_mean_squared_error: 0.0842\nEpoch 178/270\n3/3 [==============================] - 0s 128ms/step - loss: 0.0030 - root_mean_squared_error: 0.0551 - val_loss: 0.0108 - val_root_mean_squared_error: 0.1038\nEpoch 179/270\n3/3 [==============================] - 0s 117ms/step - loss: 0.0032 - root_mean_squared_error: 0.0563 - val_loss: 0.0072 - val_root_mean_squared_error: 0.0849\nEpoch 180/270\n3/3 [==============================] - 0s 118ms/step - loss: 0.0027 - root_mean_squared_error: 0.0517 - val_loss: 0.0075 - val_root_mean_squared_error: 0.0865\nEpoch 181/270\n3/3 [==============================] - 0s 116ms/step - loss: 0.0027 - root_mean_squared_error: 0.0520 - val_loss: 0.0083 - val_root_mean_squared_error: 0.0913\nEpoch 182/270\n3/3 [==============================] - 0s 118ms/step - loss: 0.0027 - root_mean_squared_error: 0.0522 - val_loss: 0.0068 - val_root_mean_squared_error: 0.0826\nEpoch 183/270\n3/3 [==============================] - 0s 120ms/step - loss: 0.0027 - root_mean_squared_error: 0.0516 - val_loss: 0.0082 - val_root_mean_squared_error: 0.0905\nEpoch 184/270\n3/3 [==============================] - 0s 111ms/step - loss: 0.0029 - root_mean_squared_error: 0.0538 - val_loss: 0.0091 - val_root_mean_squared_error: 0.0954\nEpoch 185/270\n3/3 [==============================] - 0s 118ms/step - loss: 0.0028 - root_mean_squared_error: 0.0530 - val_loss: 0.0066 - val_root_mean_squared_error: 0.0811\nEpoch 186/270\n3/3 [==============================] - 0s 119ms/step - loss: 0.0029 - root_mean_squared_error: 0.0537 - val_loss: 0.0066 - val_root_mean_squared_error: 0.0815\nEpoch 187/270\n3/3 [==============================] - 0s 118ms/step - loss: 0.0030 - root_mean_squared_error: 0.0545 - val_loss: 0.0079 - val_root_mean_squared_error: 0.0886\nEpoch 188/270\n3/3 [==============================] - 0s 130ms/step - loss: 0.0027 - root_mean_squared_error: 0.0520 - val_loss: 0.0084 - val_root_mean_squared_error: 0.0914\nEpoch 189/270\n3/3 [==============================] - 0s 163ms/step - loss: 0.0028 - root_mean_squared_error: 0.0530 - val_loss: 0.0062 - val_root_mean_squared_error: 0.0790\nEpoch 190/270\n3/3 [==============================] - 0s 126ms/step - loss: 0.0027 - root_mean_squared_error: 0.0522 - val_loss: 0.0092 - val_root_mean_squared_error: 0.0958\nEpoch 191/270\n3/3 [==============================] - 0s 177ms/step - loss: 0.0030 - root_mean_squared_error: 0.0543 - val_loss: 0.0082 - val_root_mean_squared_error: 0.0907\nEpoch 192/270\n3/3 [==============================] - 0s 128ms/step - loss: 0.0027 - root_mean_squared_error: 0.0520 - val_loss: 0.0069 - val_root_mean_squared_error: 0.0831\nEpoch 193/270\n3/3 [==============================] - 0s 128ms/step - loss: 0.0028 - root_mean_squared_error: 0.0531 - val_loss: 0.0065 - val_root_mean_squared_error: 0.0804\nEpoch 194/270\n3/3 [==============================] - 0s 163ms/step - loss: 0.0028 - root_mean_squared_error: 0.0529 - val_loss: 0.0076 - val_root_mean_squared_error: 0.0873\nEpoch 195/270\n3/3 [==============================] - 0s 139ms/step - loss: 0.0027 - root_mean_squared_error: 0.0519 - val_loss: 0.0073 - val_root_mean_squared_error: 0.0852\nEpoch 196/270\n3/3 [==============================] - 1s 218ms/step - loss: 0.0027 - root_mean_squared_error: 0.0518 - val_loss: 0.0085 - val_root_mean_squared_error: 0.0924\nEpoch 197/270\n3/3 [==============================] - 1s 196ms/step - loss: 0.0027 - root_mean_squared_error: 0.0523 - val_loss: 0.0067 - val_root_mean_squared_error: 0.0819\nEpoch 198/270\n3/3 [==============================] - 0s 163ms/step - loss: 0.0028 - root_mean_squared_error: 0.0527 - val_loss: 0.0064 - val_root_mean_squared_error: 0.0799\nEpoch 199/270\n3/3 [==============================] - 0s 122ms/step - loss: 0.0028 - root_mean_squared_error: 0.0527 - val_loss: 0.0088 - val_root_mean_squared_error: 0.0937\nEpoch 200/270\n3/3 [==============================] - 0s 135ms/step - loss: 0.0027 - root_mean_squared_error: 0.0522 - val_loss: 0.0072 - val_root_mean_squared_error: 0.0848\nEpoch 201/270\n3/3 [==============================] - 0s 139ms/step - loss: 0.0027 - root_mean_squared_error: 0.0519 - val_loss: 0.0061 - val_root_mean_squared_error: 0.0782\nEpoch 202/270\n3/3 [==============================] - 0s 158ms/step - loss: 0.0029 - root_mean_squared_error: 0.0534 - val_loss: 0.0075 - val_root_mean_squared_error: 0.0867\nEpoch 203/270\n3/3 [==============================] - 0s 161ms/step - loss: 0.0027 - root_mean_squared_error: 0.0524 - val_loss: 0.0074 - val_root_mean_squared_error: 0.0859\nEpoch 204/270\n3/3 [==============================] - 0s 133ms/step - loss: 0.0026 - root_mean_squared_error: 0.0510 - val_loss: 0.0062 - val_root_mean_squared_error: 0.0789\nEpoch 205/270\n3/3 [==============================] - 0s 167ms/step - loss: 0.0028 - root_mean_squared_error: 0.0527 - val_loss: 0.0091 - val_root_mean_squared_error: 0.0951\nEpoch 206/270\n3/3 [==============================] - 0s 142ms/step - loss: 0.0030 - root_mean_squared_error: 0.0547 - val_loss: 0.0077 - val_root_mean_squared_error: 0.0875\nEpoch 207/270\n3/3 [==============================] - 0s 188ms/step - loss: 0.0027 - root_mean_squared_error: 0.0517 - val_loss: 0.0062 - val_root_mean_squared_error: 0.0788\nEpoch 208/270\n3/3 [==============================] - 1s 192ms/step - loss: 0.0027 - root_mean_squared_error: 0.0523 - val_loss: 0.0084 - val_root_mean_squared_error: 0.0917\nEpoch 209/270\n3/3 [==============================] - 0s 116ms/step - loss: 0.0028 - root_mean_squared_error: 0.0525 - val_loss: 0.0063 - val_root_mean_squared_error: 0.0792\nEpoch 210/270\n3/3 [==============================] - 0s 126ms/step - loss: 0.0030 - root_mean_squared_error: 0.0544 - val_loss: 0.0059 - val_root_mean_squared_error: 0.0768\nEpoch 211/270\n3/3 [==============================] - 0s 140ms/step - loss: 0.0032 - root_mean_squared_error: 0.0563 - val_loss: 0.0065 - val_root_mean_squared_error: 0.0806\nEpoch 212/270\n3/3 [==============================] - 0s 117ms/step - loss: 0.0027 - root_mean_squared_error: 0.0516 - val_loss: 0.0095 - val_root_mean_squared_error: 0.0977\nEpoch 213/270\n3/3 [==============================] - 0s 196ms/step - loss: 0.0032 - root_mean_squared_error: 0.0562 - val_loss: 0.0074 - val_root_mean_squared_error: 0.0860\nEpoch 214/270\n3/3 [==============================] - 0s 117ms/step - loss: 0.0033 - root_mean_squared_error: 0.0574 - val_loss: 0.0058 - val_root_mean_squared_error: 0.0762\nEpoch 215/270\n3/3 [==============================] - 0s 137ms/step - loss: 0.0040 - root_mean_squared_error: 0.0629 - val_loss: 0.0063 - val_root_mean_squared_error: 0.0796\nEpoch 216/270\n3/3 [==============================] - 0s 147ms/step - loss: 0.0032 - root_mean_squared_error: 0.0567 - val_loss: 0.0101 - val_root_mean_squared_error: 0.1005\nEpoch 217/270\n3/3 [==============================] - 0s 160ms/step - loss: 0.0035 - root_mean_squared_error: 0.0589 - val_loss: 0.0090 - val_root_mean_squared_error: 0.0947\nEpoch 218/270\n3/3 [==============================] - 0s 111ms/step - loss: 0.0031 - root_mean_squared_error: 0.0557 - val_loss: 0.0059 - val_root_mean_squared_error: 0.0768\nEpoch 219/270\n3/3 [==============================] - 0s 123ms/step - loss: 0.0041 - root_mean_squared_error: 0.0641 - val_loss: 0.0077 - val_root_mean_squared_error: 0.0879\nEpoch 220/270\n3/3 [==============================] - 0s 119ms/step - loss: 0.0034 - root_mean_squared_error: 0.0584 - val_loss: 0.0119 - val_root_mean_squared_error: 0.1093\nEpoch 221/270\n3/3 [==============================] - 0s 138ms/step - loss: 0.0035 - root_mean_squared_error: 0.0595 - val_loss: 0.0057 - val_root_mean_squared_error: 0.0758\nEpoch 222/270\n3/3 [==============================] - 0s 110ms/step - loss: 0.0032 - root_mean_squared_error: 0.0567 - val_loss: 0.0078 - val_root_mean_squared_error: 0.0885\nEpoch 223/270\n3/3 [==============================] - 0s 118ms/step - loss: 0.0028 - root_mean_squared_error: 0.0532 - val_loss: 0.0081 - val_root_mean_squared_error: 0.0898\nEpoch 224/270\n3/3 [==============================] - 0s 115ms/step - loss: 0.0028 - root_mean_squared_error: 0.0528 - val_loss: 0.0060 - val_root_mean_squared_error: 0.0773\nEpoch 225/270\n3/3 [==============================] - 0s 93ms/step - loss: 0.0028 - root_mean_squared_error: 0.0531 - val_loss: 0.0071 - val_root_mean_squared_error: 0.0844\nEpoch 226/270\n3/3 [==============================] - 0s 126ms/step - loss: 0.0028 - root_mean_squared_error: 0.0529 - val_loss: 0.0106 - val_root_mean_squared_error: 0.1031\nEpoch 227/270\n3/3 [==============================] - 0s 140ms/step - loss: 0.0032 - root_mean_squared_error: 0.0569 - val_loss: 0.0060 - val_root_mean_squared_error: 0.0776\nEpoch 228/270\n3/3 [==============================] - 0s 143ms/step - loss: 0.0029 - root_mean_squared_error: 0.0542 - val_loss: 0.0063 - val_root_mean_squared_error: 0.0791\nEpoch 229/270\n3/3 [==============================] - 0s 126ms/step - loss: 0.0028 - root_mean_squared_error: 0.0525 - val_loss: 0.0090 - val_root_mean_squared_error: 0.0950\nEpoch 230/270\n3/3 [==============================] - 0s 116ms/step - loss: 0.0029 - root_mean_squared_error: 0.0534 - val_loss: 0.0072 - val_root_mean_squared_error: 0.0847\nEpoch 231/270\n3/3 [==============================] - 0s 128ms/step - loss: 0.0026 - root_mean_squared_error: 0.0509 - val_loss: 0.0072 - val_root_mean_squared_error: 0.0848\nEpoch 232/270\n3/3 [==============================] - 0s 123ms/step - loss: 0.0026 - root_mean_squared_error: 0.0512 - val_loss: 0.0065 - val_root_mean_squared_error: 0.0807\nEpoch 233/270\n3/3 [==============================] - 0s 126ms/step - loss: 0.0026 - root_mean_squared_error: 0.0509 - val_loss: 0.0073 - val_root_mean_squared_error: 0.0854\nEpoch 234/270\n3/3 [==============================] - 0s 139ms/step - loss: 0.0026 - root_mean_squared_error: 0.0513 - val_loss: 0.0069 - val_root_mean_squared_error: 0.0830\nEpoch 235/270\n3/3 [==============================] - 0s 129ms/step - loss: 0.0026 - root_mean_squared_error: 0.0510 - val_loss: 0.0062 - val_root_mean_squared_error: 0.0789\nEpoch 236/270\n3/3 [==============================] - 0s 119ms/step - loss: 0.0028 - root_mean_squared_error: 0.0526 - val_loss: 0.0061 - val_root_mean_squared_error: 0.0782\nEpoch 237/270\n3/3 [==============================] - 0s 134ms/step - loss: 0.0026 - root_mean_squared_error: 0.0514 - val_loss: 0.0095 - val_root_mean_squared_error: 0.0977\nEpoch 238/270\n3/3 [==============================] - 0s 120ms/step - loss: 0.0030 - root_mean_squared_error: 0.0550 - val_loss: 0.0063 - val_root_mean_squared_error: 0.0793\nEpoch 239/270\n3/3 [==============================] - 0s 120ms/step - loss: 0.0028 - root_mean_squared_error: 0.0525 - val_loss: 0.0060 - val_root_mean_squared_error: 0.0773\nEpoch 240/270\n3/3 [==============================] - 0s 127ms/step - loss: 0.0028 - root_mean_squared_error: 0.0525 - val_loss: 0.0068 - val_root_mean_squared_error: 0.0824\nEpoch 241/270\n3/3 [==============================] - 0s 129ms/step - loss: 0.0026 - root_mean_squared_error: 0.0512 - val_loss: 0.0072 - val_root_mean_squared_error: 0.0848\nEpoch 242/270\n3/3 [==============================] - 0s 142ms/step - loss: 0.0027 - root_mean_squared_error: 0.0521 - val_loss: 0.0094 - val_root_mean_squared_error: 0.0968\nEpoch 243/270\n3/3 [==============================] - 0s 123ms/step - loss: 0.0030 - root_mean_squared_error: 0.0551 - val_loss: 0.0059 - val_root_mean_squared_error: 0.0765\nEpoch 244/270\n3/3 [==============================] - 0s 130ms/step - loss: 0.0029 - root_mean_squared_error: 0.0536 - val_loss: 0.0063 - val_root_mean_squared_error: 0.0796\nEpoch 245/270\n3/3 [==============================] - 0s 135ms/step - loss: 0.0026 - root_mean_squared_error: 0.0513 - val_loss: 0.0077 - val_root_mean_squared_error: 0.0875\nEpoch 246/270\n3/3 [==============================] - 0s 110ms/step - loss: 0.0026 - root_mean_squared_error: 0.0514 - val_loss: 0.0059 - val_root_mean_squared_error: 0.0766\nEpoch 247/270\n3/3 [==============================] - 0s 122ms/step - loss: 0.0029 - root_mean_squared_error: 0.0535 - val_loss: 0.0063 - val_root_mean_squared_error: 0.0795\nEpoch 248/270\n3/3 [==============================] - 0s 134ms/step - loss: 0.0026 - root_mean_squared_error: 0.0514 - val_loss: 0.0089 - val_root_mean_squared_error: 0.0943\nEpoch 249/270\n3/3 [==============================] - 0s 166ms/step - loss: 0.0031 - root_mean_squared_error: 0.0553 - val_loss: 0.0060 - val_root_mean_squared_error: 0.0772\nEpoch 250/270\n3/3 [==============================] - 0s 132ms/step - loss: 0.0031 - root_mean_squared_error: 0.0557 - val_loss: 0.0055 - val_root_mean_squared_error: 0.0743\nEpoch 251/270\n3/3 [==============================] - 0s 124ms/step - loss: 0.0031 - root_mean_squared_error: 0.0557 - val_loss: 0.0088 - val_root_mean_squared_error: 0.0940\nEpoch 252/270\n3/3 [==============================] - 0s 134ms/step - loss: 0.0029 - root_mean_squared_error: 0.0537 - val_loss: 0.0072 - val_root_mean_squared_error: 0.0848\nEpoch 253/270\n3/3 [==============================] - 0s 167ms/step - loss: 0.0028 - root_mean_squared_error: 0.0527 - val_loss: 0.0056 - val_root_mean_squared_error: 0.0748\nEpoch 254/270\n3/3 [==============================] - 0s 157ms/step - loss: 0.0033 - root_mean_squared_error: 0.0576 - val_loss: 0.0064 - val_root_mean_squared_error: 0.0800\nEpoch 255/270\n3/3 [==============================] - 1s 201ms/step - loss: 0.0026 - root_mean_squared_error: 0.0512 - val_loss: 0.0082 - val_root_mean_squared_error: 0.0905\nEpoch 256/270\n3/3 [==============================] - 0s 114ms/step - loss: 0.0027 - root_mean_squared_error: 0.0523 - val_loss: 0.0072 - val_root_mean_squared_error: 0.0849\nEpoch 257/270\n3/3 [==============================] - 0s 125ms/step - loss: 0.0026 - root_mean_squared_error: 0.0512 - val_loss: 0.0069 - val_root_mean_squared_error: 0.0828\nEpoch 258/270\n3/3 [==============================] - 0s 169ms/step - loss: 0.0026 - root_mean_squared_error: 0.0514 - val_loss: 0.0066 - val_root_mean_squared_error: 0.0815\nEpoch 259/270\n3/3 [==============================] - 0s 142ms/step - loss: 0.0026 - root_mean_squared_error: 0.0505 - val_loss: 0.0077 - val_root_mean_squared_error: 0.0876\nEpoch 260/270\n3/3 [==============================] - 0s 173ms/step - loss: 0.0026 - root_mean_squared_error: 0.0512 - val_loss: 0.0060 - val_root_mean_squared_error: 0.0775\nEpoch 261/270\n3/3 [==============================] - 0s 129ms/step - loss: 0.0028 - root_mean_squared_error: 0.0531 - val_loss: 0.0058 - val_root_mean_squared_error: 0.0758\nEpoch 262/270\n3/3 [==============================] - 0s 126ms/step - loss: 0.0030 - root_mean_squared_error: 0.0543 - val_loss: 0.0062 - val_root_mean_squared_error: 0.0785\nEpoch 263/270\n3/3 [==============================] - 0s 118ms/step - loss: 0.0028 - root_mean_squared_error: 0.0527 - val_loss: 0.0075 - val_root_mean_squared_error: 0.0865\nEpoch 264/270\n3/3 [==============================] - 0s 125ms/step - loss: 0.0027 - root_mean_squared_error: 0.0517 - val_loss: 0.0072 - val_root_mean_squared_error: 0.0847\nEpoch 265/270\n3/3 [==============================] - 0s 144ms/step - loss: 0.0026 - root_mean_squared_error: 0.0507 - val_loss: 0.0064 - val_root_mean_squared_error: 0.0802\nEpoch 266/270\n3/3 [==============================] - 0s 129ms/step - loss: 0.0026 - root_mean_squared_error: 0.0506 - val_loss: 0.0069 - val_root_mean_squared_error: 0.0828\nEpoch 267/270\n3/3 [==============================] - 0s 113ms/step - loss: 0.0027 - root_mean_squared_error: 0.0520 - val_loss: 0.0095 - val_root_mean_squared_error: 0.0974\nEpoch 268/270\n3/3 [==============================] - 0s 126ms/step - loss: 0.0033 - root_mean_squared_error: 0.0572 - val_loss: 0.0079 - val_root_mean_squared_error: 0.0891\nEpoch 269/270\n3/3 [==============================] - 0s 125ms/step - loss: 0.0029 - root_mean_squared_error: 0.0539 - val_loss: 0.0061 - val_root_mean_squared_error: 0.0784\nEpoch 270/270\n3/3 [==============================] - 0s 150ms/step - loss: 0.0027 - root_mean_squared_error: 0.0518 - val_loss: 0.0059 - val_root_mean_squared_error: 0.0771\n",
     "output_type": "stream"
    }
   ],
   "execution_count": null
  },
  {
   "cell_type": "markdown",
   "source": "## Training Model 2 - LSTM + Dense Layer Model",
   "metadata": {
    "pycharm": {
     "name": "#%% md\n"
    },
    "cell_id": "00010-d4b34c6d-5cca-4efc-8c3c-22812ee9d27b",
    "deepnote_cell_type": "markdown",
    "deepnote_cell_height": 70
   }
  },
  {
   "cell_type": "code",
   "metadata": {
    "pycharm": {
     "name": "#%%\n"
    },
    "cell_id": "00011-cad2fca7-34c5-4f4c-8648-5722221297ef",
    "deepnote_to_be_reexecuted": false,
    "source_hash": "bea59a1b",
    "execution_start": 1657715869371,
    "execution_millis": 412,
    "deepnote_cell_type": "code",
    "deepnote_cell_height": 741.1875
   },
   "source": "m2_hyper_parameters = {\n    \"lstm_units\": 100,\n    \"lstm_activation\": \"sigmoid\",\n    \"dense_units\": 11,\n    \"dense_activation\": \"tanh\",\n    \"dropout\": 0.1,\n    \"learning_rate\": 0.0001,\n    \"validation_split\": 0.1,\n    \"batch_size\": 32,\n    \"epochs\": 200,\n}\n\nmodel2 = Sequential()\nmodel2.add(LSTM(m2_hyper_parameters[\"lstm_units\"], activation=m2_hyper_parameters[\"lstm_activation\"], input_shape=(7, nb_features)))\nmodel2.add(Dense(m2_hyper_parameters[\"dense_units\"], activation=m2_hyper_parameters[\"dense_activation\"]))\nmodel2.add(Dropout(m2_hyper_parameters[\"dropout\"]))\nmodel2.add(Dense(1, activation=\"linear\"))\nmodel2.summary()",
   "outputs": [
    {
     "name": "stdout",
     "text": "Model: \"sequential_1\"\n_________________________________________________________________\n Layer (type)                Output Shape              Param #   \n=================================================================\n lstm_1 (LSTM)               (None, 100)               72800     \n                                                                 \n dense_1 (Dense)             (None, 11)                1111      \n                                                                 \n dropout (Dropout)           (None, 11)                0         \n                                                                 \n dense_2 (Dense)             (None, 1)                 12        \n                                                                 \n=================================================================\nTotal params: 73,923\nTrainable params: 73,923\nNon-trainable params: 0\n_________________________________________________________________\n",
     "output_type": "stream"
    }
   ],
   "execution_count": null
  },
  {
   "cell_type": "code",
   "metadata": {
    "pycharm": {
     "name": "#%%\n"
    },
    "cell_id": "00012-153dad6a-a2e0-4884-a1c6-4741d2a08555",
    "deepnote_to_be_reexecuted": false,
    "source_hash": "42ac0cf9",
    "execution_start": 1657715869826,
    "execution_millis": 83802,
    "deepnote_cell_type": "code",
    "deepnote_cell_height": 863
   },
   "source": "model2.compile(loss=\"mse\", optimizer=Adam(learning_rate=m2_hyper_parameters[\"learning_rate\"]), metrics=[keras.metrics.RootMeanSquaredError()])\nmodel2.fit(X_train, y_train,\n           validation_split=m2_hyper_parameters[\"validation_split\"],\n           batch_size=m2_hyper_parameters[\"batch_size\"],\n           epochs=m2_hyper_parameters[\"epochs\"],\n           shuffle=True)\nyhat = model2.predict(X_test, verbose=0)\nyhat_inverse = target_scaler.inverse_transform(yhat)\nmodel_predictions_df[\"model_2_prediction\"] = yhat_inverse\nmodel_scores_df.loc[\"model 2\"] = evaluate_forecast(y_test, yhat_inverse)",
   "outputs": [
    {
     "name": "stdout",
     "text": "Epoch 1/200\n12/12 [==============================] - 4s 84ms/step - loss: 0.1479 - root_mean_squared_error: 0.3846 - val_loss: 0.0329 - val_root_mean_squared_error: 0.1814\nEpoch 2/200\n12/12 [==============================] - 0s 30ms/step - loss: 0.1172 - root_mean_squared_error: 0.3423 - val_loss: 0.0275 - val_root_mean_squared_error: 0.1660\nEpoch 3/200\n12/12 [==============================] - 0s 25ms/step - loss: 0.1032 - root_mean_squared_error: 0.3212 - val_loss: 0.0348 - val_root_mean_squared_error: 0.1866\nEpoch 4/200\n12/12 [==============================] - 0s 32ms/step - loss: 0.0969 - root_mean_squared_error: 0.3113 - val_loss: 0.0353 - val_root_mean_squared_error: 0.1878\nEpoch 5/200\n12/12 [==============================] - 0s 29ms/step - loss: 0.1001 - root_mean_squared_error: 0.3164 - val_loss: 0.0329 - val_root_mean_squared_error: 0.1815\nEpoch 6/200\n12/12 [==============================] - 0s 33ms/step - loss: 0.0890 - root_mean_squared_error: 0.2983 - val_loss: 0.0310 - val_root_mean_squared_error: 0.1760\nEpoch 7/200\n12/12 [==============================] - 0s 31ms/step - loss: 0.0830 - root_mean_squared_error: 0.2881 - val_loss: 0.0293 - val_root_mean_squared_error: 0.1712\nEpoch 8/200\n12/12 [==============================] - 0s 30ms/step - loss: 0.0729 - root_mean_squared_error: 0.2701 - val_loss: 0.0341 - val_root_mean_squared_error: 0.1847\nEpoch 9/200\n12/12 [==============================] - 0s 27ms/step - loss: 0.0695 - root_mean_squared_error: 0.2636 - val_loss: 0.0292 - val_root_mean_squared_error: 0.1710\nEpoch 10/200\n12/12 [==============================] - 0s 27ms/step - loss: 0.0671 - root_mean_squared_error: 0.2591 - val_loss: 0.0317 - val_root_mean_squared_error: 0.1782\nEpoch 11/200\n12/12 [==============================] - 0s 24ms/step - loss: 0.0542 - root_mean_squared_error: 0.2328 - val_loss: 0.0294 - val_root_mean_squared_error: 0.1714\nEpoch 12/200\n12/12 [==============================] - 0s 30ms/step - loss: 0.0540 - root_mean_squared_error: 0.2325 - val_loss: 0.0263 - val_root_mean_squared_error: 0.1621\nEpoch 13/200\n12/12 [==============================] - 0s 29ms/step - loss: 0.0512 - root_mean_squared_error: 0.2264 - val_loss: 0.0293 - val_root_mean_squared_error: 0.1712\nEpoch 14/200\n12/12 [==============================] - 0s 31ms/step - loss: 0.0490 - root_mean_squared_error: 0.2213 - val_loss: 0.0278 - val_root_mean_squared_error: 0.1668\nEpoch 15/200\n12/12 [==============================] - 0s 35ms/step - loss: 0.0433 - root_mean_squared_error: 0.2080 - val_loss: 0.0266 - val_root_mean_squared_error: 0.1632\nEpoch 16/200\n12/12 [==============================] - 0s 36ms/step - loss: 0.0380 - root_mean_squared_error: 0.1949 - val_loss: 0.0263 - val_root_mean_squared_error: 0.1621\nEpoch 17/200\n12/12 [==============================] - 0s 34ms/step - loss: 0.0370 - root_mean_squared_error: 0.1923 - val_loss: 0.0269 - val_root_mean_squared_error: 0.1640\nEpoch 18/200\n12/12 [==============================] - 0s 34ms/step - loss: 0.0370 - root_mean_squared_error: 0.1925 - val_loss: 0.0254 - val_root_mean_squared_error: 0.1593\nEpoch 19/200\n12/12 [==============================] - 0s 31ms/step - loss: 0.0356 - root_mean_squared_error: 0.1887 - val_loss: 0.0252 - val_root_mean_squared_error: 0.1589\nEpoch 20/200\n12/12 [==============================] - 0s 36ms/step - loss: 0.0347 - root_mean_squared_error: 0.1862 - val_loss: 0.0249 - val_root_mean_squared_error: 0.1578\nEpoch 21/200\n12/12 [==============================] - 0s 33ms/step - loss: 0.0318 - root_mean_squared_error: 0.1783 - val_loss: 0.0247 - val_root_mean_squared_error: 0.1570\nEpoch 22/200\n12/12 [==============================] - 0s 32ms/step - loss: 0.0294 - root_mean_squared_error: 0.1716 - val_loss: 0.0237 - val_root_mean_squared_error: 0.1539\nEpoch 23/200\n12/12 [==============================] - 0s 34ms/step - loss: 0.0321 - root_mean_squared_error: 0.1791 - val_loss: 0.0237 - val_root_mean_squared_error: 0.1539\nEpoch 24/200\n12/12 [==============================] - 0s 31ms/step - loss: 0.0287 - root_mean_squared_error: 0.1695 - val_loss: 0.0237 - val_root_mean_squared_error: 0.1541\nEpoch 25/200\n12/12 [==============================] - 0s 32ms/step - loss: 0.0249 - root_mean_squared_error: 0.1578 - val_loss: 0.0224 - val_root_mean_squared_error: 0.1498\nEpoch 26/200\n12/12 [==============================] - 0s 36ms/step - loss: 0.0257 - root_mean_squared_error: 0.1603 - val_loss: 0.0233 - val_root_mean_squared_error: 0.1526\nEpoch 27/200\n12/12 [==============================] - 0s 29ms/step - loss: 0.0238 - root_mean_squared_error: 0.1544 - val_loss: 0.0224 - val_root_mean_squared_error: 0.1495\nEpoch 28/200\n12/12 [==============================] - 0s 30ms/step - loss: 0.0255 - root_mean_squared_error: 0.1598 - val_loss: 0.0221 - val_root_mean_squared_error: 0.1488\nEpoch 29/200\n12/12 [==============================] - 0s 26ms/step - loss: 0.0234 - root_mean_squared_error: 0.1529 - val_loss: 0.0222 - val_root_mean_squared_error: 0.1489\nEpoch 30/200\n12/12 [==============================] - 0s 30ms/step - loss: 0.0236 - root_mean_squared_error: 0.1535 - val_loss: 0.0215 - val_root_mean_squared_error: 0.1468\nEpoch 31/200\n12/12 [==============================] - 0s 32ms/step - loss: 0.0235 - root_mean_squared_error: 0.1532 - val_loss: 0.0219 - val_root_mean_squared_error: 0.1480\nEpoch 32/200\n12/12 [==============================] - 0s 31ms/step - loss: 0.0218 - root_mean_squared_error: 0.1475 - val_loss: 0.0210 - val_root_mean_squared_error: 0.1449\nEpoch 33/200\n12/12 [==============================] - 0s 40ms/step - loss: 0.0215 - root_mean_squared_error: 0.1465 - val_loss: 0.0217 - val_root_mean_squared_error: 0.1473\nEpoch 34/200\n12/12 [==============================] - 0s 30ms/step - loss: 0.0221 - root_mean_squared_error: 0.1487 - val_loss: 0.0205 - val_root_mean_squared_error: 0.1432\nEpoch 35/200\n12/12 [==============================] - 0s 33ms/step - loss: 0.0214 - root_mean_squared_error: 0.1462 - val_loss: 0.0203 - val_root_mean_squared_error: 0.1424\nEpoch 36/200\n12/12 [==============================] - 0s 35ms/step - loss: 0.0205 - root_mean_squared_error: 0.1432 - val_loss: 0.0214 - val_root_mean_squared_error: 0.1461\nEpoch 37/200\n12/12 [==============================] - 0s 28ms/step - loss: 0.0204 - root_mean_squared_error: 0.1427 - val_loss: 0.0198 - val_root_mean_squared_error: 0.1408\nEpoch 38/200\n12/12 [==============================] - 0s 27ms/step - loss: 0.0205 - root_mean_squared_error: 0.1432 - val_loss: 0.0197 - val_root_mean_squared_error: 0.1403\nEpoch 39/200\n12/12 [==============================] - 0s 28ms/step - loss: 0.0190 - root_mean_squared_error: 0.1380 - val_loss: 0.0197 - val_root_mean_squared_error: 0.1404\nEpoch 40/200\n12/12 [==============================] - 0s 30ms/step - loss: 0.0188 - root_mean_squared_error: 0.1372 - val_loss: 0.0198 - val_root_mean_squared_error: 0.1407\nEpoch 41/200\n12/12 [==============================] - 0s 32ms/step - loss: 0.0199 - root_mean_squared_error: 0.1411 - val_loss: 0.0204 - val_root_mean_squared_error: 0.1430\nEpoch 42/200\n12/12 [==============================] - 0s 35ms/step - loss: 0.0182 - root_mean_squared_error: 0.1349 - val_loss: 0.0201 - val_root_mean_squared_error: 0.1418\nEpoch 43/200\n12/12 [==============================] - 0s 34ms/step - loss: 0.0195 - root_mean_squared_error: 0.1397 - val_loss: 0.0191 - val_root_mean_squared_error: 0.1382\nEpoch 44/200\n12/12 [==============================] - 0s 37ms/step - loss: 0.0181 - root_mean_squared_error: 0.1347 - val_loss: 0.0188 - val_root_mean_squared_error: 0.1371\nEpoch 45/200\n12/12 [==============================] - 1s 49ms/step - loss: 0.0182 - root_mean_squared_error: 0.1350 - val_loss: 0.0187 - val_root_mean_squared_error: 0.1366\nEpoch 46/200\n12/12 [==============================] - 1s 43ms/step - loss: 0.0169 - root_mean_squared_error: 0.1301 - val_loss: 0.0189 - val_root_mean_squared_error: 0.1376\nEpoch 47/200\n12/12 [==============================] - 0s 30ms/step - loss: 0.0167 - root_mean_squared_error: 0.1291 - val_loss: 0.0185 - val_root_mean_squared_error: 0.1360\nEpoch 48/200\n12/12 [==============================] - 0s 30ms/step - loss: 0.0166 - root_mean_squared_error: 0.1290 - val_loss: 0.0187 - val_root_mean_squared_error: 0.1369\nEpoch 49/200\n12/12 [==============================] - 0s 30ms/step - loss: 0.0182 - root_mean_squared_error: 0.1349 - val_loss: 0.0186 - val_root_mean_squared_error: 0.1363\nEpoch 50/200\n12/12 [==============================] - 0s 28ms/step - loss: 0.0166 - root_mean_squared_error: 0.1289 - val_loss: 0.0188 - val_root_mean_squared_error: 0.1370\nEpoch 51/200\n12/12 [==============================] - 1s 48ms/step - loss: 0.0164 - root_mean_squared_error: 0.1280 - val_loss: 0.0177 - val_root_mean_squared_error: 0.1329\nEpoch 52/200\n12/12 [==============================] - 0s 34ms/step - loss: 0.0162 - root_mean_squared_error: 0.1273 - val_loss: 0.0175 - val_root_mean_squared_error: 0.1323\nEpoch 53/200\n12/12 [==============================] - 0s 28ms/step - loss: 0.0160 - root_mean_squared_error: 0.1264 - val_loss: 0.0174 - val_root_mean_squared_error: 0.1318\nEpoch 54/200\n12/12 [==============================] - 0s 29ms/step - loss: 0.0154 - root_mean_squared_error: 0.1242 - val_loss: 0.0171 - val_root_mean_squared_error: 0.1309\nEpoch 55/200\n12/12 [==============================] - 0s 35ms/step - loss: 0.0156 - root_mean_squared_error: 0.1250 - val_loss: 0.0179 - val_root_mean_squared_error: 0.1338\nEpoch 56/200\n12/12 [==============================] - 0s 33ms/step - loss: 0.0150 - root_mean_squared_error: 0.1224 - val_loss: 0.0170 - val_root_mean_squared_error: 0.1304\nEpoch 57/200\n12/12 [==============================] - 0s 35ms/step - loss: 0.0157 - root_mean_squared_error: 0.1253 - val_loss: 0.0167 - val_root_mean_squared_error: 0.1291\nEpoch 58/200\n12/12 [==============================] - 0s 34ms/step - loss: 0.0157 - root_mean_squared_error: 0.1255 - val_loss: 0.0166 - val_root_mean_squared_error: 0.1287\nEpoch 59/200\n12/12 [==============================] - 0s 37ms/step - loss: 0.0154 - root_mean_squared_error: 0.1239 - val_loss: 0.0179 - val_root_mean_squared_error: 0.1337\nEpoch 60/200\n12/12 [==============================] - 0s 41ms/step - loss: 0.0149 - root_mean_squared_error: 0.1222 - val_loss: 0.0162 - val_root_mean_squared_error: 0.1275\nEpoch 61/200\n12/12 [==============================] - 0s 37ms/step - loss: 0.0146 - root_mean_squared_error: 0.1208 - val_loss: 0.0165 - val_root_mean_squared_error: 0.1283\nEpoch 62/200\n12/12 [==============================] - 0s 30ms/step - loss: 0.0146 - root_mean_squared_error: 0.1209 - val_loss: 0.0159 - val_root_mean_squared_error: 0.1263\nEpoch 63/200\n12/12 [==============================] - 0s 35ms/step - loss: 0.0130 - root_mean_squared_error: 0.1142 - val_loss: 0.0162 - val_root_mean_squared_error: 0.1272\nEpoch 64/200\n12/12 [==============================] - 0s 30ms/step - loss: 0.0134 - root_mean_squared_error: 0.1159 - val_loss: 0.0157 - val_root_mean_squared_error: 0.1252\nEpoch 65/200\n12/12 [==============================] - 0s 40ms/step - loss: 0.0130 - root_mean_squared_error: 0.1141 - val_loss: 0.0155 - val_root_mean_squared_error: 0.1246\nEpoch 66/200\n12/12 [==============================] - 0s 33ms/step - loss: 0.0131 - root_mean_squared_error: 0.1143 - val_loss: 0.0154 - val_root_mean_squared_error: 0.1242\nEpoch 67/200\n12/12 [==============================] - 0s 31ms/step - loss: 0.0143 - root_mean_squared_error: 0.1197 - val_loss: 0.0160 - val_root_mean_squared_error: 0.1265\nEpoch 68/200\n12/12 [==============================] - 0s 37ms/step - loss: 0.0136 - root_mean_squared_error: 0.1165 - val_loss: 0.0153 - val_root_mean_squared_error: 0.1236\nEpoch 69/200\n12/12 [==============================] - 0s 36ms/step - loss: 0.0124 - root_mean_squared_error: 0.1115 - val_loss: 0.0156 - val_root_mean_squared_error: 0.1247\nEpoch 70/200\n12/12 [==============================] - 0s 28ms/step - loss: 0.0116 - root_mean_squared_error: 0.1075 - val_loss: 0.0152 - val_root_mean_squared_error: 0.1232\nEpoch 71/200\n12/12 [==============================] - 0s 38ms/step - loss: 0.0124 - root_mean_squared_error: 0.1111 - val_loss: 0.0157 - val_root_mean_squared_error: 0.1252\nEpoch 72/200\n12/12 [==============================] - 0s 33ms/step - loss: 0.0119 - root_mean_squared_error: 0.1092 - val_loss: 0.0154 - val_root_mean_squared_error: 0.1241\nEpoch 73/200\n12/12 [==============================] - 0s 32ms/step - loss: 0.0129 - root_mean_squared_error: 0.1134 - val_loss: 0.0145 - val_root_mean_squared_error: 0.1206\nEpoch 74/200\n12/12 [==============================] - 0s 31ms/step - loss: 0.0126 - root_mean_squared_error: 0.1123 - val_loss: 0.0144 - val_root_mean_squared_error: 0.1200\nEpoch 75/200\n12/12 [==============================] - 0s 35ms/step - loss: 0.0127 - root_mean_squared_error: 0.1125 - val_loss: 0.0145 - val_root_mean_squared_error: 0.1204\nEpoch 76/200\n12/12 [==============================] - 0s 30ms/step - loss: 0.0115 - root_mean_squared_error: 0.1074 - val_loss: 0.0142 - val_root_mean_squared_error: 0.1190\nEpoch 77/200\n12/12 [==============================] - 0s 26ms/step - loss: 0.0118 - root_mean_squared_error: 0.1085 - val_loss: 0.0146 - val_root_mean_squared_error: 0.1210\nEpoch 78/200\n12/12 [==============================] - 0s 27ms/step - loss: 0.0124 - root_mean_squared_error: 0.1114 - val_loss: 0.0154 - val_root_mean_squared_error: 0.1241\nEpoch 79/200\n12/12 [==============================] - 0s 29ms/step - loss: 0.0118 - root_mean_squared_error: 0.1088 - val_loss: 0.0140 - val_root_mean_squared_error: 0.1182\nEpoch 80/200\n12/12 [==============================] - 0s 31ms/step - loss: 0.0112 - root_mean_squared_error: 0.1060 - val_loss: 0.0141 - val_root_mean_squared_error: 0.1189\nEpoch 81/200\n12/12 [==============================] - 0s 28ms/step - loss: 0.0105 - root_mean_squared_error: 0.1027 - val_loss: 0.0142 - val_root_mean_squared_error: 0.1192\nEpoch 82/200\n12/12 [==============================] - 0s 29ms/step - loss: 0.0107 - root_mean_squared_error: 0.1036 - val_loss: 0.0135 - val_root_mean_squared_error: 0.1162\nEpoch 83/200\n12/12 [==============================] - 0s 25ms/step - loss: 0.0116 - root_mean_squared_error: 0.1078 - val_loss: 0.0142 - val_root_mean_squared_error: 0.1191\nEpoch 84/200\n12/12 [==============================] - 0s 30ms/step - loss: 0.0108 - root_mean_squared_error: 0.1038 - val_loss: 0.0145 - val_root_mean_squared_error: 0.1203\nEpoch 85/200\n12/12 [==============================] - 0s 32ms/step - loss: 0.0112 - root_mean_squared_error: 0.1059 - val_loss: 0.0146 - val_root_mean_squared_error: 0.1208\nEpoch 86/200\n12/12 [==============================] - 0s 32ms/step - loss: 0.0111 - root_mean_squared_error: 0.1054 - val_loss: 0.0149 - val_root_mean_squared_error: 0.1220\nEpoch 87/200\n12/12 [==============================] - 0s 29ms/step - loss: 0.0103 - root_mean_squared_error: 0.1013 - val_loss: 0.0130 - val_root_mean_squared_error: 0.1139\nEpoch 88/200\n12/12 [==============================] - 0s 33ms/step - loss: 0.0101 - root_mean_squared_error: 0.1006 - val_loss: 0.0142 - val_root_mean_squared_error: 0.1191\nEpoch 89/200\n12/12 [==============================] - 0s 33ms/step - loss: 0.0102 - root_mean_squared_error: 0.1008 - val_loss: 0.0143 - val_root_mean_squared_error: 0.1194\nEpoch 90/200\n12/12 [==============================] - 0s 31ms/step - loss: 0.0101 - root_mean_squared_error: 0.1006 - val_loss: 0.0126 - val_root_mean_squared_error: 0.1124\nEpoch 91/200\n12/12 [==============================] - 0s 34ms/step - loss: 0.0094 - root_mean_squared_error: 0.0971 - val_loss: 0.0155 - val_root_mean_squared_error: 0.1247\nEpoch 92/200\n12/12 [==============================] - 0s 29ms/step - loss: 0.0093 - root_mean_squared_error: 0.0963 - val_loss: 0.0126 - val_root_mean_squared_error: 0.1122\nEpoch 93/200\n12/12 [==============================] - 0s 33ms/step - loss: 0.0097 - root_mean_squared_error: 0.0983 - val_loss: 0.0126 - val_root_mean_squared_error: 0.1121\nEpoch 94/200\n12/12 [==============================] - 0s 27ms/step - loss: 0.0100 - root_mean_squared_error: 0.1001 - val_loss: 0.0139 - val_root_mean_squared_error: 0.1177\nEpoch 95/200\n12/12 [==============================] - 0s 35ms/step - loss: 0.0100 - root_mean_squared_error: 0.1002 - val_loss: 0.0128 - val_root_mean_squared_error: 0.1130\nEpoch 96/200\n12/12 [==============================] - 0s 34ms/step - loss: 0.0095 - root_mean_squared_error: 0.0973 - val_loss: 0.0131 - val_root_mean_squared_error: 0.1145\nEpoch 97/200\n12/12 [==============================] - 0s 31ms/step - loss: 0.0099 - root_mean_squared_error: 0.0994 - val_loss: 0.0151 - val_root_mean_squared_error: 0.1230\nEpoch 98/200\n12/12 [==============================] - 0s 29ms/step - loss: 0.0092 - root_mean_squared_error: 0.0957 - val_loss: 0.0120 - val_root_mean_squared_error: 0.1096\nEpoch 99/200\n12/12 [==============================] - 0s 25ms/step - loss: 0.0092 - root_mean_squared_error: 0.0961 - val_loss: 0.0132 - val_root_mean_squared_error: 0.1149\nEpoch 100/200\n12/12 [==============================] - 0s 28ms/step - loss: 0.0089 - root_mean_squared_error: 0.0944 - val_loss: 0.0132 - val_root_mean_squared_error: 0.1148\nEpoch 101/200\n12/12 [==============================] - 0s 30ms/step - loss: 0.0085 - root_mean_squared_error: 0.0922 - val_loss: 0.0129 - val_root_mean_squared_error: 0.1134\nEpoch 102/200\n12/12 [==============================] - 0s 33ms/step - loss: 0.0088 - root_mean_squared_error: 0.0939 - val_loss: 0.0139 - val_root_mean_squared_error: 0.1180\nEpoch 103/200\n12/12 [==============================] - 0s 27ms/step - loss: 0.0088 - root_mean_squared_error: 0.0940 - val_loss: 0.0118 - val_root_mean_squared_error: 0.1085\nEpoch 104/200\n12/12 [==============================] - 0s 30ms/step - loss: 0.0082 - root_mean_squared_error: 0.0906 - val_loss: 0.0120 - val_root_mean_squared_error: 0.1095\nEpoch 105/200\n12/12 [==============================] - 0s 41ms/step - loss: 0.0083 - root_mean_squared_error: 0.0910 - val_loss: 0.0116 - val_root_mean_squared_error: 0.1077\nEpoch 106/200\n12/12 [==============================] - 0s 34ms/step - loss: 0.0080 - root_mean_squared_error: 0.0897 - val_loss: 0.0118 - val_root_mean_squared_error: 0.1088\nEpoch 107/200\n12/12 [==============================] - 0s 31ms/step - loss: 0.0087 - root_mean_squared_error: 0.0932 - val_loss: 0.0124 - val_root_mean_squared_error: 0.1114\nEpoch 108/200\n12/12 [==============================] - 1s 45ms/step - loss: 0.0085 - root_mean_squared_error: 0.0924 - val_loss: 0.0123 - val_root_mean_squared_error: 0.1110\nEpoch 109/200\n12/12 [==============================] - 0s 37ms/step - loss: 0.0076 - root_mean_squared_error: 0.0874 - val_loss: 0.0136 - val_root_mean_squared_error: 0.1168\nEpoch 110/200\n12/12 [==============================] - 0s 35ms/step - loss: 0.0090 - root_mean_squared_error: 0.0948 - val_loss: 0.0115 - val_root_mean_squared_error: 0.1074\nEpoch 111/200\n12/12 [==============================] - 0s 33ms/step - loss: 0.0085 - root_mean_squared_error: 0.0921 - val_loss: 0.0114 - val_root_mean_squared_error: 0.1068\nEpoch 112/200\n12/12 [==============================] - 0s 36ms/step - loss: 0.0080 - root_mean_squared_error: 0.0894 - val_loss: 0.0131 - val_root_mean_squared_error: 0.1143\nEpoch 113/200\n12/12 [==============================] - 1s 46ms/step - loss: 0.0080 - root_mean_squared_error: 0.0892 - val_loss: 0.0139 - val_root_mean_squared_error: 0.1181\nEpoch 114/200\n12/12 [==============================] - 0s 37ms/step - loss: 0.0081 - root_mean_squared_error: 0.0902 - val_loss: 0.0108 - val_root_mean_squared_error: 0.1039\nEpoch 115/200\n12/12 [==============================] - 0s 30ms/step - loss: 0.0078 - root_mean_squared_error: 0.0885 - val_loss: 0.0114 - val_root_mean_squared_error: 0.1068\nEpoch 116/200\n12/12 [==============================] - 0s 33ms/step - loss: 0.0076 - root_mean_squared_error: 0.0873 - val_loss: 0.0124 - val_root_mean_squared_error: 0.1113\nEpoch 117/200\n12/12 [==============================] - 0s 30ms/step - loss: 0.0079 - root_mean_squared_error: 0.0891 - val_loss: 0.0116 - val_root_mean_squared_error: 0.1078\nEpoch 118/200\n12/12 [==============================] - 1s 45ms/step - loss: 0.0073 - root_mean_squared_error: 0.0854 - val_loss: 0.0116 - val_root_mean_squared_error: 0.1076\nEpoch 119/200\n12/12 [==============================] - 0s 36ms/step - loss: 0.0070 - root_mean_squared_error: 0.0837 - val_loss: 0.0126 - val_root_mean_squared_error: 0.1124\nEpoch 120/200\n12/12 [==============================] - 0s 32ms/step - loss: 0.0069 - root_mean_squared_error: 0.0832 - val_loss: 0.0125 - val_root_mean_squared_error: 0.1117\nEpoch 121/200\n12/12 [==============================] - 0s 27ms/step - loss: 0.0073 - root_mean_squared_error: 0.0853 - val_loss: 0.0125 - val_root_mean_squared_error: 0.1116\nEpoch 122/200\n12/12 [==============================] - 0s 29ms/step - loss: 0.0074 - root_mean_squared_error: 0.0860 - val_loss: 0.0105 - val_root_mean_squared_error: 0.1026\nEpoch 123/200\n12/12 [==============================] - 0s 30ms/step - loss: 0.0077 - root_mean_squared_error: 0.0879 - val_loss: 0.0105 - val_root_mean_squared_error: 0.1024\nEpoch 124/200\n12/12 [==============================] - 0s 28ms/step - loss: 0.0082 - root_mean_squared_error: 0.0904 - val_loss: 0.0115 - val_root_mean_squared_error: 0.1075\nEpoch 125/200\n12/12 [==============================] - 0s 29ms/step - loss: 0.0074 - root_mean_squared_error: 0.0862 - val_loss: 0.0138 - val_root_mean_squared_error: 0.1176\nEpoch 126/200\n12/12 [==============================] - 0s 31ms/step - loss: 0.0066 - root_mean_squared_error: 0.0811 - val_loss: 0.0108 - val_root_mean_squared_error: 0.1040\nEpoch 127/200\n12/12 [==============================] - 0s 29ms/step - loss: 0.0070 - root_mean_squared_error: 0.0839 - val_loss: 0.0109 - val_root_mean_squared_error: 0.1046\nEpoch 128/200\n12/12 [==============================] - 0s 30ms/step - loss: 0.0064 - root_mean_squared_error: 0.0798 - val_loss: 0.0115 - val_root_mean_squared_error: 0.1073\nEpoch 129/200\n12/12 [==============================] - 0s 30ms/step - loss: 0.0075 - root_mean_squared_error: 0.0865 - val_loss: 0.0115 - val_root_mean_squared_error: 0.1071\nEpoch 130/200\n12/12 [==============================] - 0s 31ms/step - loss: 0.0066 - root_mean_squared_error: 0.0813 - val_loss: 0.0103 - val_root_mean_squared_error: 0.1017\nEpoch 131/200\n12/12 [==============================] - 0s 33ms/step - loss: 0.0071 - root_mean_squared_error: 0.0840 - val_loss: 0.0104 - val_root_mean_squared_error: 0.1021\nEpoch 132/200\n12/12 [==============================] - 0s 27ms/step - loss: 0.0066 - root_mean_squared_error: 0.0811 - val_loss: 0.0101 - val_root_mean_squared_error: 0.1004\nEpoch 133/200\n12/12 [==============================] - 0s 33ms/step - loss: 0.0073 - root_mean_squared_error: 0.0852 - val_loss: 0.0117 - val_root_mean_squared_error: 0.1083\nEpoch 134/200\n12/12 [==============================] - 0s 38ms/step - loss: 0.0069 - root_mean_squared_error: 0.0828 - val_loss: 0.0115 - val_root_mean_squared_error: 0.1071\nEpoch 135/200\n12/12 [==============================] - 0s 37ms/step - loss: 0.0060 - root_mean_squared_error: 0.0777 - val_loss: 0.0097 - val_root_mean_squared_error: 0.0985\nEpoch 136/200\n12/12 [==============================] - 0s 30ms/step - loss: 0.0074 - root_mean_squared_error: 0.0859 - val_loss: 0.0129 - val_root_mean_squared_error: 0.1135\nEpoch 137/200\n12/12 [==============================] - 0s 30ms/step - loss: 0.0060 - root_mean_squared_error: 0.0773 - val_loss: 0.0132 - val_root_mean_squared_error: 0.1147\nEpoch 138/200\n12/12 [==============================] - 1s 50ms/step - loss: 0.0069 - root_mean_squared_error: 0.0834 - val_loss: 0.0116 - val_root_mean_squared_error: 0.1079\nEpoch 139/200\n12/12 [==============================] - 0s 37ms/step - loss: 0.0065 - root_mean_squared_error: 0.0806 - val_loss: 0.0099 - val_root_mean_squared_error: 0.0993\nEpoch 140/200\n12/12 [==============================] - 0s 40ms/step - loss: 0.0063 - root_mean_squared_error: 0.0795 - val_loss: 0.0110 - val_root_mean_squared_error: 0.1047\nEpoch 141/200\n12/12 [==============================] - 1s 46ms/step - loss: 0.0064 - root_mean_squared_error: 0.0801 - val_loss: 0.0125 - val_root_mean_squared_error: 0.1118\nEpoch 142/200\n12/12 [==============================] - 0s 35ms/step - loss: 0.0075 - root_mean_squared_error: 0.0865 - val_loss: 0.0127 - val_root_mean_squared_error: 0.1126\nEpoch 143/200\n12/12 [==============================] - 0s 36ms/step - loss: 0.0063 - root_mean_squared_error: 0.0794 - val_loss: 0.0127 - val_root_mean_squared_error: 0.1129\nEpoch 144/200\n12/12 [==============================] - 0s 33ms/step - loss: 0.0065 - root_mean_squared_error: 0.0803 - val_loss: 0.0106 - val_root_mean_squared_error: 0.1029\nEpoch 145/200\n12/12 [==============================] - 0s 27ms/step - loss: 0.0057 - root_mean_squared_error: 0.0757 - val_loss: 0.0118 - val_root_mean_squared_error: 0.1085\nEpoch 146/200\n12/12 [==============================] - 0s 29ms/step - loss: 0.0066 - root_mean_squared_error: 0.0810 - val_loss: 0.0108 - val_root_mean_squared_error: 0.1039\nEpoch 147/200\n12/12 [==============================] - 0s 31ms/step - loss: 0.0059 - root_mean_squared_error: 0.0769 - val_loss: 0.0101 - val_root_mean_squared_error: 0.1004\nEpoch 148/200\n12/12 [==============================] - 0s 31ms/step - loss: 0.0060 - root_mean_squared_error: 0.0774 - val_loss: 0.0108 - val_root_mean_squared_error: 0.1042\nEpoch 149/200\n12/12 [==============================] - 0s 28ms/step - loss: 0.0058 - root_mean_squared_error: 0.0759 - val_loss: 0.0112 - val_root_mean_squared_error: 0.1057\nEpoch 150/200\n12/12 [==============================] - 0s 34ms/step - loss: 0.0060 - root_mean_squared_error: 0.0774 - val_loss: 0.0102 - val_root_mean_squared_error: 0.1012\nEpoch 151/200\n12/12 [==============================] - 0s 27ms/step - loss: 0.0068 - root_mean_squared_error: 0.0826 - val_loss: 0.0095 - val_root_mean_squared_error: 0.0977\nEpoch 152/200\n12/12 [==============================] - 0s 30ms/step - loss: 0.0057 - root_mean_squared_error: 0.0752 - val_loss: 0.0104 - val_root_mean_squared_error: 0.1020\nEpoch 153/200\n12/12 [==============================] - 0s 28ms/step - loss: 0.0060 - root_mean_squared_error: 0.0774 - val_loss: 0.0110 - val_root_mean_squared_error: 0.1050\nEpoch 154/200\n12/12 [==============================] - 0s 29ms/step - loss: 0.0053 - root_mean_squared_error: 0.0726 - val_loss: 0.0117 - val_root_mean_squared_error: 0.1080\nEpoch 155/200\n12/12 [==============================] - 0s 31ms/step - loss: 0.0054 - root_mean_squared_error: 0.0738 - val_loss: 0.0102 - val_root_mean_squared_error: 0.1011\nEpoch 156/200\n12/12 [==============================] - 0s 28ms/step - loss: 0.0054 - root_mean_squared_error: 0.0737 - val_loss: 0.0089 - val_root_mean_squared_error: 0.0945\nEpoch 157/200\n12/12 [==============================] - 0s 29ms/step - loss: 0.0055 - root_mean_squared_error: 0.0745 - val_loss: 0.0093 - val_root_mean_squared_error: 0.0966\nEpoch 158/200\n12/12 [==============================] - 0s 31ms/step - loss: 0.0058 - root_mean_squared_error: 0.0764 - val_loss: 0.0117 - val_root_mean_squared_error: 0.1079\nEpoch 159/200\n12/12 [==============================] - 0s 32ms/step - loss: 0.0054 - root_mean_squared_error: 0.0737 - val_loss: 0.0114 - val_root_mean_squared_error: 0.1068\nEpoch 160/200\n12/12 [==============================] - 0s 29ms/step - loss: 0.0056 - root_mean_squared_error: 0.0745 - val_loss: 0.0124 - val_root_mean_squared_error: 0.1112\nEpoch 161/200\n12/12 [==============================] - 0s 29ms/step - loss: 0.0062 - root_mean_squared_error: 0.0788 - val_loss: 0.0144 - val_root_mean_squared_error: 0.1202\nEpoch 162/200\n12/12 [==============================] - 0s 25ms/step - loss: 0.0064 - root_mean_squared_error: 0.0801 - val_loss: 0.0107 - val_root_mean_squared_error: 0.1035\nEpoch 163/200\n12/12 [==============================] - 0s 29ms/step - loss: 0.0056 - root_mean_squared_error: 0.0745 - val_loss: 0.0105 - val_root_mean_squared_error: 0.1026\nEpoch 164/200\n12/12 [==============================] - 0s 36ms/step - loss: 0.0058 - root_mean_squared_error: 0.0760 - val_loss: 0.0092 - val_root_mean_squared_error: 0.0960\nEpoch 165/200\n12/12 [==============================] - 0s 31ms/step - loss: 0.0052 - root_mean_squared_error: 0.0722 - val_loss: 0.0105 - val_root_mean_squared_error: 0.1024\nEpoch 166/200\n12/12 [==============================] - 0s 33ms/step - loss: 0.0053 - root_mean_squared_error: 0.0731 - val_loss: 0.0130 - val_root_mean_squared_error: 0.1140\nEpoch 167/200\n12/12 [==============================] - 0s 30ms/step - loss: 0.0065 - root_mean_squared_error: 0.0805 - val_loss: 0.0121 - val_root_mean_squared_error: 0.1098\nEpoch 168/200\n12/12 [==============================] - 0s 28ms/step - loss: 0.0056 - root_mean_squared_error: 0.0750 - val_loss: 0.0122 - val_root_mean_squared_error: 0.1105\nEpoch 169/200\n12/12 [==============================] - 0s 31ms/step - loss: 0.0056 - root_mean_squared_error: 0.0747 - val_loss: 0.0084 - val_root_mean_squared_error: 0.0918\nEpoch 170/200\n12/12 [==============================] - 0s 30ms/step - loss: 0.0058 - root_mean_squared_error: 0.0760 - val_loss: 0.0088 - val_root_mean_squared_error: 0.0938\nEpoch 171/200\n12/12 [==============================] - 0s 35ms/step - loss: 0.0054 - root_mean_squared_error: 0.0738 - val_loss: 0.0091 - val_root_mean_squared_error: 0.0951\nEpoch 172/200\n12/12 [==============================] - 0s 31ms/step - loss: 0.0049 - root_mean_squared_error: 0.0703 - val_loss: 0.0100 - val_root_mean_squared_error: 0.1002\nEpoch 173/200\n12/12 [==============================] - 0s 35ms/step - loss: 0.0056 - root_mean_squared_error: 0.0746 - val_loss: 0.0092 - val_root_mean_squared_error: 0.0958\nEpoch 174/200\n12/12 [==============================] - 0s 41ms/step - loss: 0.0051 - root_mean_squared_error: 0.0713 - val_loss: 0.0097 - val_root_mean_squared_error: 0.0983\nEpoch 175/200\n12/12 [==============================] - 0s 31ms/step - loss: 0.0047 - root_mean_squared_error: 0.0684 - val_loss: 0.0115 - val_root_mean_squared_error: 0.1075\nEpoch 176/200\n12/12 [==============================] - 0s 30ms/step - loss: 0.0047 - root_mean_squared_error: 0.0685 - val_loss: 0.0103 - val_root_mean_squared_error: 0.1014\nEpoch 177/200\n12/12 [==============================] - 0s 39ms/step - loss: 0.0052 - root_mean_squared_error: 0.0719 - val_loss: 0.0102 - val_root_mean_squared_error: 0.1008\nEpoch 178/200\n12/12 [==============================] - 0s 30ms/step - loss: 0.0049 - root_mean_squared_error: 0.0702 - val_loss: 0.0119 - val_root_mean_squared_error: 0.1090\nEpoch 179/200\n12/12 [==============================] - 0s 35ms/step - loss: 0.0049 - root_mean_squared_error: 0.0700 - val_loss: 0.0099 - val_root_mean_squared_error: 0.0993\nEpoch 180/200\n12/12 [==============================] - 0s 39ms/step - loss: 0.0047 - root_mean_squared_error: 0.0689 - val_loss: 0.0096 - val_root_mean_squared_error: 0.0982\nEpoch 181/200\n12/12 [==============================] - 0s 35ms/step - loss: 0.0048 - root_mean_squared_error: 0.0693 - val_loss: 0.0116 - val_root_mean_squared_error: 0.1077\nEpoch 182/200\n12/12 [==============================] - 0s 28ms/step - loss: 0.0047 - root_mean_squared_error: 0.0688 - val_loss: 0.0093 - val_root_mean_squared_error: 0.0964\nEpoch 183/200\n12/12 [==============================] - 0s 28ms/step - loss: 0.0055 - root_mean_squared_error: 0.0742 - val_loss: 0.0109 - val_root_mean_squared_error: 0.1046\nEpoch 184/200\n12/12 [==============================] - 1s 48ms/step - loss: 0.0052 - root_mean_squared_error: 0.0720 - val_loss: 0.0104 - val_root_mean_squared_error: 0.1022\nEpoch 185/200\n12/12 [==============================] - 0s 32ms/step - loss: 0.0048 - root_mean_squared_error: 0.0692 - val_loss: 0.0090 - val_root_mean_squared_error: 0.0948\nEpoch 186/200\n12/12 [==============================] - 0s 37ms/step - loss: 0.0049 - root_mean_squared_error: 0.0697 - val_loss: 0.0095 - val_root_mean_squared_error: 0.0977\nEpoch 187/200\n12/12 [==============================] - 0s 31ms/step - loss: 0.0042 - root_mean_squared_error: 0.0644 - val_loss: 0.0099 - val_root_mean_squared_error: 0.0995\nEpoch 188/200\n12/12 [==============================] - 0s 33ms/step - loss: 0.0045 - root_mean_squared_error: 0.0670 - val_loss: 0.0091 - val_root_mean_squared_error: 0.0954\nEpoch 189/200\n12/12 [==============================] - 0s 33ms/step - loss: 0.0046 - root_mean_squared_error: 0.0681 - val_loss: 0.0091 - val_root_mean_squared_error: 0.0955\nEpoch 190/200\n12/12 [==============================] - 0s 31ms/step - loss: 0.0043 - root_mean_squared_error: 0.0658 - val_loss: 0.0094 - val_root_mean_squared_error: 0.0971\nEpoch 191/200\n12/12 [==============================] - 1s 50ms/step - loss: 0.0045 - root_mean_squared_error: 0.0669 - val_loss: 0.0085 - val_root_mean_squared_error: 0.0924\nEpoch 192/200\n12/12 [==============================] - 0s 31ms/step - loss: 0.0050 - root_mean_squared_error: 0.0708 - val_loss: 0.0093 - val_root_mean_squared_error: 0.0966\nEpoch 193/200\n12/12 [==============================] - 0s 32ms/step - loss: 0.0052 - root_mean_squared_error: 0.0723 - val_loss: 0.0089 - val_root_mean_squared_error: 0.0941\nEpoch 194/200\n12/12 [==============================] - 0s 30ms/step - loss: 0.0049 - root_mean_squared_error: 0.0698 - val_loss: 0.0083 - val_root_mean_squared_error: 0.0911\nEpoch 195/200\n12/12 [==============================] - 0s 35ms/step - loss: 0.0042 - root_mean_squared_error: 0.0648 - val_loss: 0.0086 - val_root_mean_squared_error: 0.0927\nEpoch 196/200\n12/12 [==============================] - 0s 32ms/step - loss: 0.0046 - root_mean_squared_error: 0.0679 - val_loss: 0.0116 - val_root_mean_squared_error: 0.1075\nEpoch 197/200\n12/12 [==============================] - 0s 29ms/step - loss: 0.0045 - root_mean_squared_error: 0.0673 - val_loss: 0.0108 - val_root_mean_squared_error: 0.1038\nEpoch 198/200\n12/12 [==============================] - 0s 34ms/step - loss: 0.0043 - root_mean_squared_error: 0.0656 - val_loss: 0.0088 - val_root_mean_squared_error: 0.0938\nEpoch 199/200\n12/12 [==============================] - 0s 32ms/step - loss: 0.0043 - root_mean_squared_error: 0.0659 - val_loss: 0.0084 - val_root_mean_squared_error: 0.0918\nEpoch 200/200\n12/12 [==============================] - 0s 32ms/step - loss: 0.0043 - root_mean_squared_error: 0.0657 - val_loss: 0.0082 - val_root_mean_squared_error: 0.0905\n",
     "output_type": "stream"
    }
   ],
   "execution_count": null
  },
  {
   "cell_type": "markdown",
   "source": "## Training Model 3 - Encoder-Decoder LSTM Model",
   "metadata": {
    "pycharm": {
     "name": "#%% md\n"
    },
    "cell_id": "00013-5b6cbb8b-b3cb-4007-ab04-21d835babba5",
    "deepnote_cell_type": "markdown",
    "deepnote_cell_height": 70
   }
  },
  {
   "cell_type": "code",
   "metadata": {
    "pycharm": {
     "name": "#%%\n"
    },
    "cell_id": "00014-01cb4954-13c9-48af-8971-0c1ca86caae7",
    "deepnote_to_be_reexecuted": false,
    "source_hash": "4eda919f",
    "execution_start": 1657715953638,
    "execution_millis": 694,
    "deepnote_cell_type": "code",
    "deepnote_cell_height": 952.3125
   },
   "source": "m3_hyper_parameters = {\n    \"lstm_units\": 300,\n    \"lstm_activation\": \"sigmoid\",\n    \"2nd_lstm_units\": 140,\n    \"2nd_lstm_activation\": \"sigmoid\",\n    \"dense_units\": 21,\n    \"dense_activation\": \"tanh\",\n    \"dropout\": 0.2,\n    \"learning_rate\": 0.001,\n    \"validation_split\": 0.1,\n    \"batch_size\": 32,\n    \"epochs\": 200,\n}\n\n\nmodel3 = Sequential()\nmodel3.add(LSTM(m3_hyper_parameters[\"lstm_units\"], activation=m3_hyper_parameters[\"lstm_activation\"], input_shape=(7, nb_features)))\nmodel3.add(RepeatVector(1))\nmodel3.add(LSTM(m3_hyper_parameters[\"2nd_lstm_units\"], activation=m3_hyper_parameters[\"lstm_activation\"], return_sequences=True))\nmodel3.add(TimeDistributed(Dense(m3_hyper_parameters[\"dense_units\"], activation=m3_hyper_parameters[\"dense_activation\"])))\nmodel3.add(Dropout(m3_hyper_parameters[\"dropout\"]))\nmodel3.add(Dense(1, activation=\"linear\"))\nmodel3.summary()",
   "outputs": [
    {
     "name": "stdout",
     "text": "Model: \"sequential_2\"\n_________________________________________________________________\n Layer (type)                Output Shape              Param #   \n=================================================================\n lstm_2 (LSTM)               (None, 300)               458400    \n                                                                 \n repeat_vector (RepeatVector  (None, 1, 300)           0         \n )                                                               \n                                                                 \n lstm_3 (LSTM)               (None, 1, 140)            246960    \n                                                                 \n time_distributed (TimeDistr  (None, 1, 21)            2961      \n ibuted)                                                         \n                                                                 \n dropout_1 (Dropout)         (None, 1, 21)             0         \n                                                                 \n dense_4 (Dense)             (None, 1, 1)              22        \n                                                                 \n=================================================================\nTotal params: 708,343\nTrainable params: 708,343\nNon-trainable params: 0\n_________________________________________________________________\n",
     "output_type": "stream"
    }
   ],
   "execution_count": null
  },
  {
   "cell_type": "code",
   "metadata": {
    "pycharm": {
     "name": "#%%\n"
    },
    "cell_id": "00015-5760f1dd-1fd9-4676-b348-054016b9248e",
    "deepnote_to_be_reexecuted": false,
    "source_hash": "cf84507f",
    "execution_start": 1657715954430,
    "execution_millis": 268559,
    "deepnote_cell_type": "code",
    "deepnote_cell_height": 881
   },
   "source": "y_train_3d =  y_train[..., np.newaxis]\nmodel3.compile(loss=\"mse\", optimizer=Adam(learning_rate=m3_hyper_parameters[\"learning_rate\"]), metrics=[keras.metrics.RootMeanSquaredError()])\nmodel3.fit(X_train, y_train_3d,\n           validation_split=m3_hyper_parameters[\"validation_split\"],\n           batch_size=m3_hyper_parameters[\"batch_size\"],\n           epochs=m3_hyper_parameters[\"epochs\"],\n           shuffle=True)\nyhat = model3.predict(X_test, verbose=0)\nyhat_inverse = target_scaler.inverse_transform(yhat.squeeze(2))\nmodel_predictions_df[\"model_3_prediction\"] = yhat_inverse\nmodel_scores_df.loc[\"model 3\"] = evaluate_forecast(y_test, yhat_inverse)",
   "outputs": [
    {
     "name": "stdout",
     "text": "Epoch 1/200\n12/12 [==============================] - 8s 174ms/step - loss: 0.1871 - root_mean_squared_error: 0.4325 - val_loss: 0.0251 - val_root_mean_squared_error: 0.1583\nEpoch 2/200\n12/12 [==============================] - 1s 96ms/step - loss: 0.0834 - root_mean_squared_error: 0.2888 - val_loss: 0.0324 - val_root_mean_squared_error: 0.1801\nEpoch 3/200\n12/12 [==============================] - 1s 88ms/step - loss: 0.0599 - root_mean_squared_error: 0.2448 - val_loss: 0.0426 - val_root_mean_squared_error: 0.2065\nEpoch 4/200\n12/12 [==============================] - 1s 92ms/step - loss: 0.0446 - root_mean_squared_error: 0.2111 - val_loss: 0.0346 - val_root_mean_squared_error: 0.1860\nEpoch 5/200\n12/12 [==============================] - 1s 93ms/step - loss: 0.0389 - root_mean_squared_error: 0.1971 - val_loss: 0.0275 - val_root_mean_squared_error: 0.1657\nEpoch 6/200\n12/12 [==============================] - 1s 98ms/step - loss: 0.0405 - root_mean_squared_error: 0.2011 - val_loss: 0.0284 - val_root_mean_squared_error: 0.1685\nEpoch 7/200\n12/12 [==============================] - 1s 89ms/step - loss: 0.0381 - root_mean_squared_error: 0.1951 - val_loss: 0.0576 - val_root_mean_squared_error: 0.2400\nEpoch 8/200\n12/12 [==============================] - 1s 92ms/step - loss: 0.0409 - root_mean_squared_error: 0.2022 - val_loss: 0.0255 - val_root_mean_squared_error: 0.1596\nEpoch 9/200\n12/12 [==============================] - 1s 102ms/step - loss: 0.0355 - root_mean_squared_error: 0.1885 - val_loss: 0.0243 - val_root_mean_squared_error: 0.1558\nEpoch 10/200\n12/12 [==============================] - 1s 99ms/step - loss: 0.0373 - root_mean_squared_error: 0.1932 - val_loss: 0.0241 - val_root_mean_squared_error: 0.1552\nEpoch 11/200\n12/12 [==============================] - 1s 95ms/step - loss: 0.0298 - root_mean_squared_error: 0.1728 - val_loss: 0.0330 - val_root_mean_squared_error: 0.1816\nEpoch 12/200\n12/12 [==============================] - 1s 91ms/step - loss: 0.0338 - root_mean_squared_error: 0.1840 - val_loss: 0.0242 - val_root_mean_squared_error: 0.1557\nEpoch 13/200\n12/12 [==============================] - 1s 87ms/step - loss: 0.0282 - root_mean_squared_error: 0.1678 - val_loss: 0.0315 - val_root_mean_squared_error: 0.1774\nEpoch 14/200\n12/12 [==============================] - 1s 96ms/step - loss: 0.0237 - root_mean_squared_error: 0.1538 - val_loss: 0.0230 - val_root_mean_squared_error: 0.1515\nEpoch 15/200\n12/12 [==============================] - 1s 88ms/step - loss: 0.0226 - root_mean_squared_error: 0.1503 - val_loss: 0.0284 - val_root_mean_squared_error: 0.1684\nEpoch 16/200\n12/12 [==============================] - 1s 102ms/step - loss: 0.0205 - root_mean_squared_error: 0.1433 - val_loss: 0.0216 - val_root_mean_squared_error: 0.1468\nEpoch 17/200\n12/12 [==============================] - 1s 98ms/step - loss: 0.0183 - root_mean_squared_error: 0.1354 - val_loss: 0.0212 - val_root_mean_squared_error: 0.1456\nEpoch 18/200\n12/12 [==============================] - 1s 88ms/step - loss: 0.0183 - root_mean_squared_error: 0.1352 - val_loss: 0.0193 - val_root_mean_squared_error: 0.1390\nEpoch 19/200\n12/12 [==============================] - 1s 94ms/step - loss: 0.0166 - root_mean_squared_error: 0.1287 - val_loss: 0.0187 - val_root_mean_squared_error: 0.1367\nEpoch 20/200\n12/12 [==============================] - 1s 101ms/step - loss: 0.0202 - root_mean_squared_error: 0.1420 - val_loss: 0.0206 - val_root_mean_squared_error: 0.1437\nEpoch 21/200\n12/12 [==============================] - 1s 115ms/step - loss: 0.0143 - root_mean_squared_error: 0.1194 - val_loss: 0.0188 - val_root_mean_squared_error: 0.1372\nEpoch 22/200\n12/12 [==============================] - 1s 100ms/step - loss: 0.0127 - root_mean_squared_error: 0.1129 - val_loss: 0.0187 - val_root_mean_squared_error: 0.1367\nEpoch 23/200\n12/12 [==============================] - 1s 90ms/step - loss: 0.0143 - root_mean_squared_error: 0.1197 - val_loss: 0.0151 - val_root_mean_squared_error: 0.1229\nEpoch 24/200\n12/12 [==============================] - 1s 100ms/step - loss: 0.0119 - root_mean_squared_error: 0.1093 - val_loss: 0.0135 - val_root_mean_squared_error: 0.1161\nEpoch 25/200\n12/12 [==============================] - 1s 104ms/step - loss: 0.0098 - root_mean_squared_error: 0.0989 - val_loss: 0.0148 - val_root_mean_squared_error: 0.1215\nEpoch 26/200\n12/12 [==============================] - 1s 99ms/step - loss: 0.0124 - root_mean_squared_error: 0.1113 - val_loss: 0.0133 - val_root_mean_squared_error: 0.1153\nEpoch 27/200\n12/12 [==============================] - 1s 98ms/step - loss: 0.0126 - root_mean_squared_error: 0.1122 - val_loss: 0.0112 - val_root_mean_squared_error: 0.1059\nEpoch 28/200\n12/12 [==============================] - 1s 95ms/step - loss: 0.0093 - root_mean_squared_error: 0.0965 - val_loss: 0.0110 - val_root_mean_squared_error: 0.1047\nEpoch 29/200\n12/12 [==============================] - 1s 90ms/step - loss: 0.0086 - root_mean_squared_error: 0.0929 - val_loss: 0.0187 - val_root_mean_squared_error: 0.1368\nEpoch 30/200\n12/12 [==============================] - 1s 92ms/step - loss: 0.0077 - root_mean_squared_error: 0.0875 - val_loss: 0.0187 - val_root_mean_squared_error: 0.1368\nEpoch 31/200\n12/12 [==============================] - 1s 85ms/step - loss: 0.0090 - root_mean_squared_error: 0.0950 - val_loss: 0.0102 - val_root_mean_squared_error: 0.1009\nEpoch 32/200\n12/12 [==============================] - 1s 87ms/step - loss: 0.0089 - root_mean_squared_error: 0.0946 - val_loss: 0.0098 - val_root_mean_squared_error: 0.0989\nEpoch 33/200\n12/12 [==============================] - 1s 94ms/step - loss: 0.0107 - root_mean_squared_error: 0.1034 - val_loss: 0.0261 - val_root_mean_squared_error: 0.1616\nEpoch 34/200\n12/12 [==============================] - 1s 90ms/step - loss: 0.0096 - root_mean_squared_error: 0.0979 - val_loss: 0.0111 - val_root_mean_squared_error: 0.1051\nEpoch 35/200\n12/12 [==============================] - 1s 102ms/step - loss: 0.0081 - root_mean_squared_error: 0.0898 - val_loss: 0.0095 - val_root_mean_squared_error: 0.0972\nEpoch 36/200\n12/12 [==============================] - 1s 107ms/step - loss: 0.0062 - root_mean_squared_error: 0.0789 - val_loss: 0.0134 - val_root_mean_squared_error: 0.1158\nEpoch 37/200\n12/12 [==============================] - 1s 113ms/step - loss: 0.0057 - root_mean_squared_error: 0.0755 - val_loss: 0.0130 - val_root_mean_squared_error: 0.1142\nEpoch 38/200\n12/12 [==============================] - 1s 96ms/step - loss: 0.0055 - root_mean_squared_error: 0.0745 - val_loss: 0.0092 - val_root_mean_squared_error: 0.0957\nEpoch 39/200\n12/12 [==============================] - 1s 91ms/step - loss: 0.0057 - root_mean_squared_error: 0.0754 - val_loss: 0.0126 - val_root_mean_squared_error: 0.1121\nEpoch 40/200\n12/12 [==============================] - 1s 113ms/step - loss: 0.0066 - root_mean_squared_error: 0.0813 - val_loss: 0.0176 - val_root_mean_squared_error: 0.1326\nEpoch 41/200\n12/12 [==============================] - 1s 91ms/step - loss: 0.0066 - root_mean_squared_error: 0.0814 - val_loss: 0.0095 - val_root_mean_squared_error: 0.0975\nEpoch 42/200\n12/12 [==============================] - 1s 94ms/step - loss: 0.0101 - root_mean_squared_error: 0.1007 - val_loss: 0.0172 - val_root_mean_squared_error: 0.1311\nEpoch 43/200\n12/12 [==============================] - 1s 95ms/step - loss: 0.0091 - root_mean_squared_error: 0.0953 - val_loss: 0.0086 - val_root_mean_squared_error: 0.0927\nEpoch 44/200\n12/12 [==============================] - 1s 119ms/step - loss: 0.0113 - root_mean_squared_error: 0.1062 - val_loss: 0.0082 - val_root_mean_squared_error: 0.0903\nEpoch 45/200\n12/12 [==============================] - 1s 97ms/step - loss: 0.0067 - root_mean_squared_error: 0.0816 - val_loss: 0.0105 - val_root_mean_squared_error: 0.1027\nEpoch 46/200\n12/12 [==============================] - 1s 104ms/step - loss: 0.0059 - root_mean_squared_error: 0.0769 - val_loss: 0.0096 - val_root_mean_squared_error: 0.0977\nEpoch 47/200\n12/12 [==============================] - 1s 88ms/step - loss: 0.0059 - root_mean_squared_error: 0.0765 - val_loss: 0.0084 - val_root_mean_squared_error: 0.0919\nEpoch 48/200\n12/12 [==============================] - 1s 94ms/step - loss: 0.0065 - root_mean_squared_error: 0.0803 - val_loss: 0.0136 - val_root_mean_squared_error: 0.1167\nEpoch 49/200\n12/12 [==============================] - 1s 95ms/step - loss: 0.0062 - root_mean_squared_error: 0.0788 - val_loss: 0.0296 - val_root_mean_squared_error: 0.1721\nEpoch 50/200\n12/12 [==============================] - 1s 100ms/step - loss: 0.0102 - root_mean_squared_error: 0.1010 - val_loss: 0.0073 - val_root_mean_squared_error: 0.0856\nEpoch 51/200\n12/12 [==============================] - 1s 93ms/step - loss: 0.0083 - root_mean_squared_error: 0.0909 - val_loss: 0.0071 - val_root_mean_squared_error: 0.0841\nEpoch 52/200\n12/12 [==============================] - 1s 107ms/step - loss: 0.0067 - root_mean_squared_error: 0.0816 - val_loss: 0.0082 - val_root_mean_squared_error: 0.0906\nEpoch 53/200\n12/12 [==============================] - 1s 100ms/step - loss: 0.0056 - root_mean_squared_error: 0.0749 - val_loss: 0.0142 - val_root_mean_squared_error: 0.1190\nEpoch 54/200\n12/12 [==============================] - 1s 91ms/step - loss: 0.0061 - root_mean_squared_error: 0.0781 - val_loss: 0.0150 - val_root_mean_squared_error: 0.1225\nEpoch 55/200\n12/12 [==============================] - 1s 101ms/step - loss: 0.0058 - root_mean_squared_error: 0.0765 - val_loss: 0.0105 - val_root_mean_squared_error: 0.1023\nEpoch 56/200\n12/12 [==============================] - 1s 90ms/step - loss: 0.0048 - root_mean_squared_error: 0.0692 - val_loss: 0.0115 - val_root_mean_squared_error: 0.1072\nEpoch 57/200\n12/12 [==============================] - 1s 92ms/step - loss: 0.0060 - root_mean_squared_error: 0.0777 - val_loss: 0.0072 - val_root_mean_squared_error: 0.0850\nEpoch 58/200\n12/12 [==============================] - 1s 86ms/step - loss: 0.0073 - root_mean_squared_error: 0.0854 - val_loss: 0.0068 - val_root_mean_squared_error: 0.0822\nEpoch 59/200\n12/12 [==============================] - 1s 92ms/step - loss: 0.0055 - root_mean_squared_error: 0.0743 - val_loss: 0.0068 - val_root_mean_squared_error: 0.0826\nEpoch 60/200\n12/12 [==============================] - 1s 103ms/step - loss: 0.0054 - root_mean_squared_error: 0.0734 - val_loss: 0.0101 - val_root_mean_squared_error: 0.1004\nEpoch 61/200\n12/12 [==============================] - 1s 93ms/step - loss: 0.0051 - root_mean_squared_error: 0.0717 - val_loss: 0.0188 - val_root_mean_squared_error: 0.1369\nEpoch 62/200\n12/12 [==============================] - 1s 102ms/step - loss: 0.0066 - root_mean_squared_error: 0.0813 - val_loss: 0.0122 - val_root_mean_squared_error: 0.1104\nEpoch 63/200\n12/12 [==============================] - 1s 99ms/step - loss: 0.0053 - root_mean_squared_error: 0.0730 - val_loss: 0.0114 - val_root_mean_squared_error: 0.1067\nEpoch 64/200\n12/12 [==============================] - 1s 98ms/step - loss: 0.0068 - root_mean_squared_error: 0.0827 - val_loss: 0.0077 - val_root_mean_squared_error: 0.0877\nEpoch 65/200\n12/12 [==============================] - 1s 107ms/step - loss: 0.0075 - root_mean_squared_error: 0.0869 - val_loss: 0.0085 - val_root_mean_squared_error: 0.0924\nEpoch 66/200\n12/12 [==============================] - 1s 92ms/step - loss: 0.0052 - root_mean_squared_error: 0.0724 - val_loss: 0.0110 - val_root_mean_squared_error: 0.1048\nEpoch 67/200\n12/12 [==============================] - 1s 96ms/step - loss: 0.0049 - root_mean_squared_error: 0.0702 - val_loss: 0.0108 - val_root_mean_squared_error: 0.1041\nEpoch 68/200\n12/12 [==============================] - 1s 97ms/step - loss: 0.0053 - root_mean_squared_error: 0.0730 - val_loss: 0.0115 - val_root_mean_squared_error: 0.1072\nEpoch 69/200\n12/12 [==============================] - 1s 103ms/step - loss: 0.0044 - root_mean_squared_error: 0.0662 - val_loss: 0.0099 - val_root_mean_squared_error: 0.0993\nEpoch 70/200\n12/12 [==============================] - 1s 91ms/step - loss: 0.0050 - root_mean_squared_error: 0.0709 - val_loss: 0.0079 - val_root_mean_squared_error: 0.0891\nEpoch 71/200\n12/12 [==============================] - 1s 94ms/step - loss: 0.0063 - root_mean_squared_error: 0.0792 - val_loss: 0.0109 - val_root_mean_squared_error: 0.1043\nEpoch 72/200\n12/12 [==============================] - 1s 91ms/step - loss: 0.0062 - root_mean_squared_error: 0.0788 - val_loss: 0.0077 - val_root_mean_squared_error: 0.0880\nEpoch 73/200\n12/12 [==============================] - 1s 86ms/step - loss: 0.0050 - root_mean_squared_error: 0.0709 - val_loss: 0.0169 - val_root_mean_squared_error: 0.1299\nEpoch 74/200\n12/12 [==============================] - 1s 90ms/step - loss: 0.0052 - root_mean_squared_error: 0.0724 - val_loss: 0.0118 - val_root_mean_squared_error: 0.1087\nEpoch 75/200\n12/12 [==============================] - 1s 89ms/step - loss: 0.0057 - root_mean_squared_error: 0.0757 - val_loss: 0.0072 - val_root_mean_squared_error: 0.0847\nEpoch 76/200\n12/12 [==============================] - 1s 90ms/step - loss: 0.0051 - root_mean_squared_error: 0.0714 - val_loss: 0.0071 - val_root_mean_squared_error: 0.0842\nEpoch 77/200\n12/12 [==============================] - 1s 102ms/step - loss: 0.0055 - root_mean_squared_error: 0.0742 - val_loss: 0.0076 - val_root_mean_squared_error: 0.0871\nEpoch 78/200\n12/12 [==============================] - 1s 89ms/step - loss: 0.0067 - root_mean_squared_error: 0.0820 - val_loss: 0.0065 - val_root_mean_squared_error: 0.0807\nEpoch 79/200\n12/12 [==============================] - 1s 87ms/step - loss: 0.0045 - root_mean_squared_error: 0.0667 - val_loss: 0.0151 - val_root_mean_squared_error: 0.1229\nEpoch 80/200\n12/12 [==============================] - 1s 87ms/step - loss: 0.0056 - root_mean_squared_error: 0.0750 - val_loss: 0.0088 - val_root_mean_squared_error: 0.0936\nEpoch 81/200\n12/12 [==============================] - 1s 88ms/step - loss: 0.0055 - root_mean_squared_error: 0.0743 - val_loss: 0.0065 - val_root_mean_squared_error: 0.0805\nEpoch 82/200\n12/12 [==============================] - 1s 90ms/step - loss: 0.0084 - root_mean_squared_error: 0.0917 - val_loss: 0.0130 - val_root_mean_squared_error: 0.1142\nEpoch 83/200\n12/12 [==============================] - 1s 103ms/step - loss: 0.0063 - root_mean_squared_error: 0.0793 - val_loss: 0.0112 - val_root_mean_squared_error: 0.1057\nEpoch 84/200\n12/12 [==============================] - 1s 91ms/step - loss: 0.0056 - root_mean_squared_error: 0.0748 - val_loss: 0.0102 - val_root_mean_squared_error: 0.1009\nEpoch 85/200\n12/12 [==============================] - 1s 87ms/step - loss: 0.0049 - root_mean_squared_error: 0.0699 - val_loss: 0.0094 - val_root_mean_squared_error: 0.0972\nEpoch 86/200\n12/12 [==============================] - 1s 86ms/step - loss: 0.0051 - root_mean_squared_error: 0.0716 - val_loss: 0.0098 - val_root_mean_squared_error: 0.0991\nEpoch 87/200\n12/12 [==============================] - 1s 95ms/step - loss: 0.0050 - root_mean_squared_error: 0.0705 - val_loss: 0.0065 - val_root_mean_squared_error: 0.0804\nEpoch 88/200\n12/12 [==============================] - 1s 105ms/step - loss: 0.0061 - root_mean_squared_error: 0.0784 - val_loss: 0.0063 - val_root_mean_squared_error: 0.0796\nEpoch 89/200\n12/12 [==============================] - 1s 93ms/step - loss: 0.0045 - root_mean_squared_error: 0.0669 - val_loss: 0.0067 - val_root_mean_squared_error: 0.0820\nEpoch 90/200\n12/12 [==============================] - 1s 93ms/step - loss: 0.0044 - root_mean_squared_error: 0.0666 - val_loss: 0.0096 - val_root_mean_squared_error: 0.0981\nEpoch 91/200\n12/12 [==============================] - 1s 101ms/step - loss: 0.0045 - root_mean_squared_error: 0.0667 - val_loss: 0.0083 - val_root_mean_squared_error: 0.0908\nEpoch 92/200\n12/12 [==============================] - 1s 104ms/step - loss: 0.0053 - root_mean_squared_error: 0.0729 - val_loss: 0.0213 - val_root_mean_squared_error: 0.1459\nEpoch 93/200\n12/12 [==============================] - 1s 93ms/step - loss: 0.0068 - root_mean_squared_error: 0.0825 - val_loss: 0.0155 - val_root_mean_squared_error: 0.1246\nEpoch 94/200\n12/12 [==============================] - 1s 89ms/step - loss: 0.0054 - root_mean_squared_error: 0.0737 - val_loss: 0.0094 - val_root_mean_squared_error: 0.0972\nEpoch 95/200\n12/12 [==============================] - 1s 100ms/step - loss: 0.0059 - root_mean_squared_error: 0.0768 - val_loss: 0.0067 - val_root_mean_squared_error: 0.0821\nEpoch 96/200\n12/12 [==============================] - 1s 87ms/step - loss: 0.0075 - root_mean_squared_error: 0.0867 - val_loss: 0.0064 - val_root_mean_squared_error: 0.0797\nEpoch 97/200\n12/12 [==============================] - 1s 104ms/step - loss: 0.0041 - root_mean_squared_error: 0.0641 - val_loss: 0.0133 - val_root_mean_squared_error: 0.1152\nEpoch 98/200\n12/12 [==============================] - 1s 95ms/step - loss: 0.0054 - root_mean_squared_error: 0.0736 - val_loss: 0.0081 - val_root_mean_squared_error: 0.0900\nEpoch 99/200\n12/12 [==============================] - 1s 86ms/step - loss: 0.0043 - root_mean_squared_error: 0.0652 - val_loss: 0.0062 - val_root_mean_squared_error: 0.0787\nEpoch 100/200\n12/12 [==============================] - 1s 82ms/step - loss: 0.0061 - root_mean_squared_error: 0.0782 - val_loss: 0.0090 - val_root_mean_squared_error: 0.0949\nEpoch 101/200\n12/12 [==============================] - 1s 94ms/step - loss: 0.0039 - root_mean_squared_error: 0.0625 - val_loss: 0.0060 - val_root_mean_squared_error: 0.0773\nEpoch 102/200\n12/12 [==============================] - 1s 98ms/step - loss: 0.0049 - root_mean_squared_error: 0.0703 - val_loss: 0.0069 - val_root_mean_squared_error: 0.0831\nEpoch 103/200\n12/12 [==============================] - 1s 98ms/step - loss: 0.0047 - root_mean_squared_error: 0.0682 - val_loss: 0.0093 - val_root_mean_squared_error: 0.0964\nEpoch 104/200\n12/12 [==============================] - 1s 104ms/step - loss: 0.0043 - root_mean_squared_error: 0.0657 - val_loss: 0.0072 - val_root_mean_squared_error: 0.0849\nEpoch 105/200\n12/12 [==============================] - 1s 94ms/step - loss: 0.0044 - root_mean_squared_error: 0.0667 - val_loss: 0.0078 - val_root_mean_squared_error: 0.0885\nEpoch 106/200\n12/12 [==============================] - 1s 90ms/step - loss: 0.0064 - root_mean_squared_error: 0.0798 - val_loss: 0.0160 - val_root_mean_squared_error: 0.1265\nEpoch 107/200\n12/12 [==============================] - 1s 92ms/step - loss: 0.0060 - root_mean_squared_error: 0.0774 - val_loss: 0.0105 - val_root_mean_squared_error: 0.1026\nEpoch 108/200\n12/12 [==============================] - 1s 98ms/step - loss: 0.0038 - root_mean_squared_error: 0.0618 - val_loss: 0.0110 - val_root_mean_squared_error: 0.1049\nEpoch 109/200\n12/12 [==============================] - 1s 91ms/step - loss: 0.0050 - root_mean_squared_error: 0.0710 - val_loss: 0.0133 - val_root_mean_squared_error: 0.1152\nEpoch 110/200\n12/12 [==============================] - 1s 99ms/step - loss: 0.0068 - root_mean_squared_error: 0.0825 - val_loss: 0.0083 - val_root_mean_squared_error: 0.0911\nEpoch 111/200\n12/12 [==============================] - 1s 98ms/step - loss: 0.0051 - root_mean_squared_error: 0.0711 - val_loss: 0.0062 - val_root_mean_squared_error: 0.0784\nEpoch 112/200\n12/12 [==============================] - 1s 90ms/step - loss: 0.0060 - root_mean_squared_error: 0.0777 - val_loss: 0.0062 - val_root_mean_squared_error: 0.0785\nEpoch 113/200\n12/12 [==============================] - 1s 100ms/step - loss: 0.0051 - root_mean_squared_error: 0.0716 - val_loss: 0.0140 - val_root_mean_squared_error: 0.1183\nEpoch 114/200\n12/12 [==============================] - 1s 89ms/step - loss: 0.0056 - root_mean_squared_error: 0.0748 - val_loss: 0.0075 - val_root_mean_squared_error: 0.0865\nEpoch 115/200\n12/12 [==============================] - 1s 91ms/step - loss: 0.0043 - root_mean_squared_error: 0.0656 - val_loss: 0.0125 - val_root_mean_squared_error: 0.1120\nEpoch 116/200\n12/12 [==============================] - 1s 89ms/step - loss: 0.0037 - root_mean_squared_error: 0.0608 - val_loss: 0.0069 - val_root_mean_squared_error: 0.0834\nEpoch 117/200\n12/12 [==============================] - 1s 79ms/step - loss: 0.0044 - root_mean_squared_error: 0.0665 - val_loss: 0.0068 - val_root_mean_squared_error: 0.0823\nEpoch 118/200\n12/12 [==============================] - 1s 88ms/step - loss: 0.0054 - root_mean_squared_error: 0.0738 - val_loss: 0.0108 - val_root_mean_squared_error: 0.1039\nEpoch 119/200\n12/12 [==============================] - 1s 91ms/step - loss: 0.0052 - root_mean_squared_error: 0.0722 - val_loss: 0.0139 - val_root_mean_squared_error: 0.1178\nEpoch 120/200\n12/12 [==============================] - 1s 95ms/step - loss: 0.0051 - root_mean_squared_error: 0.0713 - val_loss: 0.0119 - val_root_mean_squared_error: 0.1089\nEpoch 121/200\n12/12 [==============================] - 1s 89ms/step - loss: 0.0048 - root_mean_squared_error: 0.0696 - val_loss: 0.0186 - val_root_mean_squared_error: 0.1362\nEpoch 122/200\n12/12 [==============================] - 1s 108ms/step - loss: 0.0046 - root_mean_squared_error: 0.0681 - val_loss: 0.0112 - val_root_mean_squared_error: 0.1059\nEpoch 123/200\n12/12 [==============================] - 1s 86ms/step - loss: 0.0045 - root_mean_squared_error: 0.0674 - val_loss: 0.0086 - val_root_mean_squared_error: 0.0930\nEpoch 124/200\n12/12 [==============================] - 1s 86ms/step - loss: 0.0037 - root_mean_squared_error: 0.0611 - val_loss: 0.0060 - val_root_mean_squared_error: 0.0774\nEpoch 125/200\n12/12 [==============================] - 1s 94ms/step - loss: 0.0041 - root_mean_squared_error: 0.0644 - val_loss: 0.0060 - val_root_mean_squared_error: 0.0775\nEpoch 126/200\n12/12 [==============================] - 1s 88ms/step - loss: 0.0049 - root_mean_squared_error: 0.0703 - val_loss: 0.0114 - val_root_mean_squared_error: 0.1067\nEpoch 127/200\n12/12 [==============================] - 1s 90ms/step - loss: 0.0045 - root_mean_squared_error: 0.0671 - val_loss: 0.0131 - val_root_mean_squared_error: 0.1144\nEpoch 128/200\n12/12 [==============================] - 1s 86ms/step - loss: 0.0077 - root_mean_squared_error: 0.0876 - val_loss: 0.0060 - val_root_mean_squared_error: 0.0776\nEpoch 129/200\n12/12 [==============================] - 1s 92ms/step - loss: 0.0069 - root_mean_squared_error: 0.0828 - val_loss: 0.0060 - val_root_mean_squared_error: 0.0778\nEpoch 130/200\n12/12 [==============================] - 1s 100ms/step - loss: 0.0056 - root_mean_squared_error: 0.0747 - val_loss: 0.0072 - val_root_mean_squared_error: 0.0850\nEpoch 131/200\n12/12 [==============================] - 1s 100ms/step - loss: 0.0075 - root_mean_squared_error: 0.0866 - val_loss: 0.0059 - val_root_mean_squared_error: 0.0769\nEpoch 132/200\n12/12 [==============================] - 1s 90ms/step - loss: 0.0051 - root_mean_squared_error: 0.0713 - val_loss: 0.0127 - val_root_mean_squared_error: 0.1126\nEpoch 133/200\n12/12 [==============================] - 1s 100ms/step - loss: 0.0056 - root_mean_squared_error: 0.0749 - val_loss: 0.0116 - val_root_mean_squared_error: 0.1077\nEpoch 134/200\n12/12 [==============================] - 1s 95ms/step - loss: 0.0051 - root_mean_squared_error: 0.0712 - val_loss: 0.0059 - val_root_mean_squared_error: 0.0771\nEpoch 135/200\n12/12 [==============================] - 1s 106ms/step - loss: 0.0051 - root_mean_squared_error: 0.0712 - val_loss: 0.0065 - val_root_mean_squared_error: 0.0805\nEpoch 136/200\n12/12 [==============================] - 1s 96ms/step - loss: 0.0047 - root_mean_squared_error: 0.0685 - val_loss: 0.0064 - val_root_mean_squared_error: 0.0801\nEpoch 137/200\n12/12 [==============================] - 1s 102ms/step - loss: 0.0043 - root_mean_squared_error: 0.0656 - val_loss: 0.0083 - val_root_mean_squared_error: 0.0912\nEpoch 138/200\n12/12 [==============================] - 1s 90ms/step - loss: 0.0049 - root_mean_squared_error: 0.0700 - val_loss: 0.0236 - val_root_mean_squared_error: 0.1536\nEpoch 139/200\n12/12 [==============================] - 1s 104ms/step - loss: 0.0052 - root_mean_squared_error: 0.0721 - val_loss: 0.0109 - val_root_mean_squared_error: 0.1045\nEpoch 140/200\n12/12 [==============================] - 1s 103ms/step - loss: 0.0048 - root_mean_squared_error: 0.0691 - val_loss: 0.0084 - val_root_mean_squared_error: 0.0914\nEpoch 141/200\n12/12 [==============================] - 1s 99ms/step - loss: 0.0033 - root_mean_squared_error: 0.0574 - val_loss: 0.0066 - val_root_mean_squared_error: 0.0810\nEpoch 142/200\n12/12 [==============================] - 1s 110ms/step - loss: 0.0044 - root_mean_squared_error: 0.0662 - val_loss: 0.0064 - val_root_mean_squared_error: 0.0798\nEpoch 143/200\n12/12 [==============================] - 1s 96ms/step - loss: 0.0048 - root_mean_squared_error: 0.0696 - val_loss: 0.0066 - val_root_mean_squared_error: 0.0813\nEpoch 144/200\n12/12 [==============================] - 1s 90ms/step - loss: 0.0039 - root_mean_squared_error: 0.0623 - val_loss: 0.0075 - val_root_mean_squared_error: 0.0863\nEpoch 145/200\n12/12 [==============================] - 1s 102ms/step - loss: 0.0051 - root_mean_squared_error: 0.0717 - val_loss: 0.0100 - val_root_mean_squared_error: 0.1000\nEpoch 146/200\n12/12 [==============================] - 1s 99ms/step - loss: 0.0048 - root_mean_squared_error: 0.0696 - val_loss: 0.0061 - val_root_mean_squared_error: 0.0784\nEpoch 147/200\n12/12 [==============================] - 1s 94ms/step - loss: 0.0041 - root_mean_squared_error: 0.0643 - val_loss: 0.0098 - val_root_mean_squared_error: 0.0989\nEpoch 148/200\n12/12 [==============================] - 1s 102ms/step - loss: 0.0048 - root_mean_squared_error: 0.0689 - val_loss: 0.0110 - val_root_mean_squared_error: 0.1051\nEpoch 149/200\n12/12 [==============================] - 1s 93ms/step - loss: 0.0043 - root_mean_squared_error: 0.0657 - val_loss: 0.0071 - val_root_mean_squared_error: 0.0843\nEpoch 150/200\n12/12 [==============================] - 1s 93ms/step - loss: 0.0048 - root_mean_squared_error: 0.0691 - val_loss: 0.0063 - val_root_mean_squared_error: 0.0794\nEpoch 151/200\n12/12 [==============================] - 1s 91ms/step - loss: 0.0040 - root_mean_squared_error: 0.0630 - val_loss: 0.0084 - val_root_mean_squared_error: 0.0918\nEpoch 152/200\n12/12 [==============================] - 1s 88ms/step - loss: 0.0046 - root_mean_squared_error: 0.0680 - val_loss: 0.0196 - val_root_mean_squared_error: 0.1400\nEpoch 153/200\n12/12 [==============================] - 1s 92ms/step - loss: 0.0077 - root_mean_squared_error: 0.0877 - val_loss: 0.0182 - val_root_mean_squared_error: 0.1349\nEpoch 154/200\n12/12 [==============================] - 1s 93ms/step - loss: 0.0067 - root_mean_squared_error: 0.0818 - val_loss: 0.0113 - val_root_mean_squared_error: 0.1061\nEpoch 155/200\n12/12 [==============================] - 1s 84ms/step - loss: 0.0067 - root_mean_squared_error: 0.0818 - val_loss: 0.0103 - val_root_mean_squared_error: 0.1016\nEpoch 156/200\n12/12 [==============================] - 1s 100ms/step - loss: 0.0052 - root_mean_squared_error: 0.0725 - val_loss: 0.0068 - val_root_mean_squared_error: 0.0822\nEpoch 157/200\n12/12 [==============================] - 1s 90ms/step - loss: 0.0044 - root_mean_squared_error: 0.0664 - val_loss: 0.0073 - val_root_mean_squared_error: 0.0853\nEpoch 158/200\n12/12 [==============================] - 1s 96ms/step - loss: 0.0051 - root_mean_squared_error: 0.0717 - val_loss: 0.0070 - val_root_mean_squared_error: 0.0834\nEpoch 159/200\n12/12 [==============================] - 1s 84ms/step - loss: 0.0040 - root_mean_squared_error: 0.0631 - val_loss: 0.0059 - val_root_mean_squared_error: 0.0767\nEpoch 160/200\n12/12 [==============================] - 1s 77ms/step - loss: 0.0038 - root_mean_squared_error: 0.0620 - val_loss: 0.0061 - val_root_mean_squared_error: 0.0784\nEpoch 161/200\n12/12 [==============================] - 1s 84ms/step - loss: 0.0047 - root_mean_squared_error: 0.0686 - val_loss: 0.0066 - val_root_mean_squared_error: 0.0813\nEpoch 162/200\n12/12 [==============================] - 1s 96ms/step - loss: 0.0051 - root_mean_squared_error: 0.0712 - val_loss: 0.0063 - val_root_mean_squared_error: 0.0794\nEpoch 163/200\n12/12 [==============================] - 1s 94ms/step - loss: 0.0039 - root_mean_squared_error: 0.0621 - val_loss: 0.0084 - val_root_mean_squared_error: 0.0916\nEpoch 164/200\n12/12 [==============================] - 1s 84ms/step - loss: 0.0040 - root_mean_squared_error: 0.0628 - val_loss: 0.0077 - val_root_mean_squared_error: 0.0877\nEpoch 165/200\n12/12 [==============================] - 1s 91ms/step - loss: 0.0043 - root_mean_squared_error: 0.0656 - val_loss: 0.0061 - val_root_mean_squared_error: 0.0782\nEpoch 166/200\n12/12 [==============================] - 1s 95ms/step - loss: 0.0045 - root_mean_squared_error: 0.0671 - val_loss: 0.0062 - val_root_mean_squared_error: 0.0786\nEpoch 167/200\n12/12 [==============================] - 1s 93ms/step - loss: 0.0053 - root_mean_squared_error: 0.0730 - val_loss: 0.0066 - val_root_mean_squared_error: 0.0809\nEpoch 168/200\n12/12 [==============================] - 1s 100ms/step - loss: 0.0053 - root_mean_squared_error: 0.0727 - val_loss: 0.0084 - val_root_mean_squared_error: 0.0918\nEpoch 169/200\n12/12 [==============================] - 1s 99ms/step - loss: 0.0060 - root_mean_squared_error: 0.0772 - val_loss: 0.0083 - val_root_mean_squared_error: 0.0910\nEpoch 170/200\n12/12 [==============================] - 1s 91ms/step - loss: 0.0042 - root_mean_squared_error: 0.0651 - val_loss: 0.0060 - val_root_mean_squared_error: 0.0777\nEpoch 171/200\n12/12 [==============================] - 1s 95ms/step - loss: 0.0047 - root_mean_squared_error: 0.0687 - val_loss: 0.0146 - val_root_mean_squared_error: 0.1208\nEpoch 172/200\n12/12 [==============================] - 1s 88ms/step - loss: 0.0060 - root_mean_squared_error: 0.0775 - val_loss: 0.0102 - val_root_mean_squared_error: 0.1008\nEpoch 173/200\n12/12 [==============================] - 1s 96ms/step - loss: 0.0054 - root_mean_squared_error: 0.0737 - val_loss: 0.0091 - val_root_mean_squared_error: 0.0954\nEpoch 174/200\n12/12 [==============================] - 1s 91ms/step - loss: 0.0046 - root_mean_squared_error: 0.0680 - val_loss: 0.0196 - val_root_mean_squared_error: 0.1400\nEpoch 175/200\n12/12 [==============================] - 1s 97ms/step - loss: 0.0066 - root_mean_squared_error: 0.0814 - val_loss: 0.0158 - val_root_mean_squared_error: 0.1259\nEpoch 176/200\n12/12 [==============================] - 1s 107ms/step - loss: 0.0042 - root_mean_squared_error: 0.0651 - val_loss: 0.0096 - val_root_mean_squared_error: 0.0982\nEpoch 177/200\n12/12 [==============================] - 1s 91ms/step - loss: 0.0041 - root_mean_squared_error: 0.0637 - val_loss: 0.0071 - val_root_mean_squared_error: 0.0843\nEpoch 178/200\n12/12 [==============================] - 1s 94ms/step - loss: 0.0047 - root_mean_squared_error: 0.0688 - val_loss: 0.0102 - val_root_mean_squared_error: 0.1009\nEpoch 179/200\n12/12 [==============================] - 1s 91ms/step - loss: 0.0044 - root_mean_squared_error: 0.0660 - val_loss: 0.0086 - val_root_mean_squared_error: 0.0929\nEpoch 180/200\n12/12 [==============================] - 1s 85ms/step - loss: 0.0046 - root_mean_squared_error: 0.0679 - val_loss: 0.0105 - val_root_mean_squared_error: 0.1023\nEpoch 181/200\n12/12 [==============================] - 1s 91ms/step - loss: 0.0041 - root_mean_squared_error: 0.0639 - val_loss: 0.0096 - val_root_mean_squared_error: 0.0982\nEpoch 182/200\n12/12 [==============================] - 1s 95ms/step - loss: 0.0045 - root_mean_squared_error: 0.0667 - val_loss: 0.0078 - val_root_mean_squared_error: 0.0882\nEpoch 183/200\n12/12 [==============================] - 1s 117ms/step - loss: 0.0044 - root_mean_squared_error: 0.0663 - val_loss: 0.0102 - val_root_mean_squared_error: 0.1010\nEpoch 184/200\n12/12 [==============================] - 1s 95ms/step - loss: 0.0038 - root_mean_squared_error: 0.0615 - val_loss: 0.0098 - val_root_mean_squared_error: 0.0989\nEpoch 185/200\n12/12 [==============================] - 1s 92ms/step - loss: 0.0033 - root_mean_squared_error: 0.0573 - val_loss: 0.0096 - val_root_mean_squared_error: 0.0981\nEpoch 186/200\n12/12 [==============================] - 1s 92ms/step - loss: 0.0040 - root_mean_squared_error: 0.0635 - val_loss: 0.0065 - val_root_mean_squared_error: 0.0808\nEpoch 187/200\n12/12 [==============================] - 1s 88ms/step - loss: 0.0054 - root_mean_squared_error: 0.0734 - val_loss: 0.0065 - val_root_mean_squared_error: 0.0805\nEpoch 188/200\n12/12 [==============================] - 1s 109ms/step - loss: 0.0077 - root_mean_squared_error: 0.0875 - val_loss: 0.0083 - val_root_mean_squared_error: 0.0914\nEpoch 189/200\n12/12 [==============================] - 1s 98ms/step - loss: 0.0046 - root_mean_squared_error: 0.0676 - val_loss: 0.0075 - val_root_mean_squared_error: 0.0869\nEpoch 190/200\n12/12 [==============================] - 1s 91ms/step - loss: 0.0044 - root_mean_squared_error: 0.0666 - val_loss: 0.0065 - val_root_mean_squared_error: 0.0804\nEpoch 191/200\n12/12 [==============================] - 1s 109ms/step - loss: 0.0056 - root_mean_squared_error: 0.0745 - val_loss: 0.0077 - val_root_mean_squared_error: 0.0877\nEpoch 192/200\n12/12 [==============================] - 1s 102ms/step - loss: 0.0049 - root_mean_squared_error: 0.0701 - val_loss: 0.0090 - val_root_mean_squared_error: 0.0947\nEpoch 193/200\n12/12 [==============================] - 1s 95ms/step - loss: 0.0039 - root_mean_squared_error: 0.0626 - val_loss: 0.0107 - val_root_mean_squared_error: 0.1035\nEpoch 194/200\n12/12 [==============================] - 1s 90ms/step - loss: 0.0050 - root_mean_squared_error: 0.0708 - val_loss: 0.0073 - val_root_mean_squared_error: 0.0852\nEpoch 195/200\n12/12 [==============================] - 1s 95ms/step - loss: 0.0044 - root_mean_squared_error: 0.0661 - val_loss: 0.0072 - val_root_mean_squared_error: 0.0848\nEpoch 196/200\n12/12 [==============================] - 1s 94ms/step - loss: 0.0034 - root_mean_squared_error: 0.0584 - val_loss: 0.0087 - val_root_mean_squared_error: 0.0931\nEpoch 197/200\n12/12 [==============================] - 1s 92ms/step - loss: 0.0036 - root_mean_squared_error: 0.0597 - val_loss: 0.0088 - val_root_mean_squared_error: 0.0938\nEpoch 198/200\n12/12 [==============================] - 1s 98ms/step - loss: 0.0035 - root_mean_squared_error: 0.0592 - val_loss: 0.0097 - val_root_mean_squared_error: 0.0985\nEpoch 199/200\n12/12 [==============================] - 1s 91ms/step - loss: 0.0040 - root_mean_squared_error: 0.0630 - val_loss: 0.0082 - val_root_mean_squared_error: 0.0905\nEpoch 200/200\n12/12 [==============================] - 1s 96ms/step - loss: 0.0046 - root_mean_squared_error: 0.0676 - val_loss: 0.0058 - val_root_mean_squared_error: 0.0760\n",
     "output_type": "stream"
    }
   ],
   "execution_count": null
  },
  {
   "cell_type": "markdown",
   "source": "## Comparing the Different Models\n### Comparing the Model Scores",
   "metadata": {
    "pycharm": {
     "name": "#%% md\n"
    },
    "cell_id": "00016-2141e352-a617-4164-8182-9e23e50472c3",
    "deepnote_cell_type": "markdown",
    "deepnote_cell_height": 118
   }
  },
  {
   "cell_type": "code",
   "metadata": {
    "pycharm": {
     "name": "#%%\n"
    },
    "cell_id": "00017-3585d0a4-d215-4ba5-87ef-c25d580c5b9c",
    "deepnote_to_be_reexecuted": false,
    "source_hash": "693c61b9",
    "execution_start": 1657716222990,
    "execution_millis": 15,
    "deepnote_cell_type": "code",
    "deepnote_cell_height": 313,
    "deepnote_output_heights": [
     119
    ]
   },
   "source": "model_scores_df",
   "outputs": [
    {
     "output_type": "execute_result",
     "execution_count": 12,
     "data": {
      "application/vnd.deepnote.dataframe.v3+json": {
       "column_count": 3,
       "row_count": 3,
       "columns": [
        {
         "name": "mae",
         "dtype": "float32",
         "stats": {
          "unique_count": 3,
          "nan_count": 0,
          "min": "23.64894676208496",
          "max": "30.27678680419922",
          "histogram": [
           {
            "bin_start": 23.64894676208496,
            "bin_end": 24.311731338500977,
            "count": 1
           },
           {
            "bin_start": 24.311731338500977,
            "bin_end": 24.97451400756836,
            "count": 0
           },
           {
            "bin_start": 24.97451400756836,
            "bin_end": 25.637298583984375,
            "count": 0
           },
           {
            "bin_start": 25.637298583984375,
            "bin_end": 26.30008316040039,
            "count": 0
           },
           {
            "bin_start": 26.30008316040039,
            "bin_end": 26.962867736816406,
            "count": 0
           },
           {
            "bin_start": 26.962867736816406,
            "bin_end": 27.62565040588379,
            "count": 0
           },
           {
            "bin_start": 27.62565040588379,
            "bin_end": 28.288434982299805,
            "count": 0
           },
           {
            "bin_start": 28.288434982299805,
            "bin_end": 28.95121955871582,
            "count": 0
           },
           {
            "bin_start": 28.95121955871582,
            "bin_end": 29.614002227783203,
            "count": 0
           },
           {
            "bin_start": 29.614002227783203,
            "bin_end": 30.27678680419922,
            "count": 2
           }
          ]
         }
        },
        {
         "name": "mse",
         "dtype": "float32",
         "stats": {
          "unique_count": 3,
          "nan_count": 0,
          "min": "1209.159912109375",
          "max": "1818.284912109375",
          "histogram": [
           {
            "bin_start": 1209.159912109375,
            "bin_end": 1270.0723876953125,
            "count": 1
           },
           {
            "bin_start": 1270.0723876953125,
            "bin_end": 1330.98486328125,
            "count": 0
           },
           {
            "bin_start": 1330.98486328125,
            "bin_end": 1391.8974609375,
            "count": 0
           },
           {
            "bin_start": 1391.8974609375,
            "bin_end": 1452.8099365234375,
            "count": 0
           },
           {
            "bin_start": 1452.8099365234375,
            "bin_end": 1513.722412109375,
            "count": 0
           },
           {
            "bin_start": 1513.722412109375,
            "bin_end": 1574.6348876953125,
            "count": 0
           },
           {
            "bin_start": 1574.6348876953125,
            "bin_end": 1635.54736328125,
            "count": 1
           },
           {
            "bin_start": 1635.54736328125,
            "bin_end": 1696.4599609375,
            "count": 0
           },
           {
            "bin_start": 1696.4599609375,
            "bin_end": 1757.3724365234375,
            "count": 0
           },
           {
            "bin_start": 1757.3724365234375,
            "bin_end": 1818.284912109375,
            "count": 1
           }
          ]
         }
        },
        {
         "name": "rmse",
         "dtype": "float32",
         "stats": {
          "unique_count": 3,
          "nan_count": 0,
          "min": "34.77297592163086",
          "max": "42.641353607177734",
          "histogram": [
           {
            "bin_start": 34.77297592163086,
            "bin_end": 35.559814453125,
            "count": 1
           },
           {
            "bin_start": 35.559814453125,
            "bin_end": 36.34665298461914,
            "count": 0
           },
           {
            "bin_start": 36.34665298461914,
            "bin_end": 37.133487701416016,
            "count": 0
           },
           {
            "bin_start": 37.133487701416016,
            "bin_end": 37.920326232910156,
            "count": 0
           },
           {
            "bin_start": 37.920326232910156,
            "bin_end": 38.7071647644043,
            "count": 0
           },
           {
            "bin_start": 38.7071647644043,
            "bin_end": 39.49400329589844,
            "count": 0
           },
           {
            "bin_start": 39.49400329589844,
            "bin_end": 40.28084182739258,
            "count": 1
           },
           {
            "bin_start": 40.28084182739258,
            "bin_end": 41.06767654418945,
            "count": 0
           },
           {
            "bin_start": 41.06767654418945,
            "bin_end": 41.854515075683594,
            "count": 0
           },
           {
            "bin_start": 41.854515075683594,
            "bin_end": 42.641353607177734,
            "count": 1
           }
          ]
         }
        },
        {
         "name": "_deepnote_index_column",
         "dtype": "object"
        }
       ],
       "rows": [
        {
         "mae": 23.64894676208496,
         "mse": 1209.159912109375,
         "rmse": 34.77297592163086,
         "_deepnote_index_column": "model 1"
        },
        {
         "mae": 30.27678680419922,
         "mse": 1818.284912109375,
         "rmse": 42.641353607177734,
         "_deepnote_index_column": "model 2"
        },
        {
         "mae": 29.74976921081543,
         "mse": 1584.9378662109375,
         "rmse": 39.811279296875,
         "_deepnote_index_column": "model 3"
        }
       ]
      },
      "text/plain": "               mae          mse       rmse\nmodel 1  23.648947  1209.159912  34.772976\nmodel 2  30.276787  1818.284912  42.641354\nmodel 3  29.749769  1584.937866  39.811279",
      "text/html": "<div>\n<style scoped>\n    .dataframe tbody tr th:only-of-type {\n        vertical-align: middle;\n    }\n\n    .dataframe tbody tr th {\n        vertical-align: top;\n    }\n\n    .dataframe thead th {\n        text-align: right;\n    }\n</style>\n<table border=\"1\" class=\"dataframe\">\n  <thead>\n    <tr style=\"text-align: right;\">\n      <th></th>\n      <th>mae</th>\n      <th>mse</th>\n      <th>rmse</th>\n    </tr>\n  </thead>\n  <tbody>\n    <tr>\n      <th>model 1</th>\n      <td>23.648947</td>\n      <td>1209.159912</td>\n      <td>34.772976</td>\n    </tr>\n    <tr>\n      <th>model 2</th>\n      <td>30.276787</td>\n      <td>1818.284912</td>\n      <td>42.641354</td>\n    </tr>\n    <tr>\n      <th>model 3</th>\n      <td>29.749769</td>\n      <td>1584.937866</td>\n      <td>39.811279</td>\n    </tr>\n  </tbody>\n</table>\n</div>"
     },
     "metadata": {}
    }
   ],
   "execution_count": null
  },
  {
   "cell_type": "markdown",
   "source": "### Comparing the Model Predictions on the Test Dataset\nHere we are comparing the target variable values for the year 2021 for the Township-Ranges in the test set compared to the prediction made by each model based on the 2014-2020 data for the Township-Ranges in the test set.",
   "metadata": {
    "pycharm": {
     "name": "#%% md\n"
    },
    "cell_id": "00018-bd816b1c-fcb2-4cbb-b113-f55281a4edc2",
    "deepnote_cell_type": "markdown",
    "deepnote_cell_height": 122.78125
   }
  },
  {
   "cell_type": "code",
   "metadata": {
    "pycharm": {
     "name": "#%%\n"
    },
    "cell_id": "00019-f9b76277-8db4-4e66-b909-f2419b6102c0",
    "deepnote_to_be_reexecuted": false,
    "source_hash": "9d40daa8",
    "execution_start": 1657716223011,
    "execution_millis": 88,
    "deepnote_cell_type": "code",
    "deepnote_cell_height": 600,
    "deepnote_output_heights": [
     382.1875
    ]
   },
   "source": "model_predictions_df",
   "outputs": [
    {
     "output_type": "execute_result",
     "execution_count": 13,
     "data": {
      "application/vnd.deepnote.dataframe.v3+json": {
       "column_count": 4,
       "row_count": 72,
       "columns": [
        {
         "name": "GSE_GWE",
         "dtype": "float64",
         "stats": {
          "unique_count": 72,
          "nan_count": 0,
          "min": "12.754444444444443",
          "max": "708.6333333333333",
          "histogram": [
           {
            "bin_start": 12.754444444444443,
            "bin_end": 82.34233333333334,
            "count": 18
           },
           {
            "bin_start": 82.34233333333334,
            "bin_end": 151.93022222222223,
            "count": 17
           },
           {
            "bin_start": 151.93022222222223,
            "bin_end": 221.51811111111112,
            "count": 12
           },
           {
            "bin_start": 221.51811111111112,
            "bin_end": 291.10600000000005,
            "count": 8
           },
           {
            "bin_start": 291.10600000000005,
            "bin_end": 360.6938888888889,
            "count": 6
           },
           {
            "bin_start": 360.6938888888889,
            "bin_end": 430.28177777777785,
            "count": 5
           },
           {
            "bin_start": 430.28177777777785,
            "bin_end": 499.8696666666668,
            "count": 3
           },
           {
            "bin_start": 499.8696666666668,
            "bin_end": 569.4575555555556,
            "count": 1
           },
           {
            "bin_start": 569.4575555555556,
            "bin_end": 639.0454444444445,
            "count": 1
           },
           {
            "bin_start": 639.0454444444445,
            "bin_end": 708.6333333333333,
            "count": 1
           }
          ]
         }
        },
        {
         "name": "model_1_prediction",
         "dtype": "float32",
         "stats": {
          "unique_count": 72,
          "nan_count": 0,
          "min": "5.786777973175049",
          "max": "655.76513671875",
          "histogram": [
           {
            "bin_start": 5.786777973175049,
            "bin_end": 70.78461456298828,
            "count": 14
           },
           {
            "bin_start": 70.78461456298828,
            "bin_end": 135.78245544433594,
            "count": 19
           },
           {
            "bin_start": 135.78245544433594,
            "bin_end": 200.78028869628906,
            "count": 13
           },
           {
            "bin_start": 200.78028869628906,
            "bin_end": 265.7781066894531,
            "count": 7
           },
           {
            "bin_start": 265.7781066894531,
            "bin_end": 330.7759704589844,
            "count": 6
           },
           {
            "bin_start": 330.7759704589844,
            "bin_end": 395.7738037109375,
            "count": 7
           },
           {
            "bin_start": 395.7738037109375,
            "bin_end": 460.7716369628906,
            "count": 3
           },
           {
            "bin_start": 460.7716369628906,
            "bin_end": 525.7694702148438,
            "count": 1
           },
           {
            "bin_start": 525.7694702148438,
            "bin_end": 590.7672729492188,
            "count": 0
           },
           {
            "bin_start": 590.7672729492188,
            "bin_end": 655.76513671875,
            "count": 2
           }
          ]
         }
        },
        {
         "name": "model_2_prediction",
         "dtype": "float32",
         "stats": {
          "unique_count": 72,
          "nan_count": 0,
          "min": "7.868720531463623",
          "max": "642.6134033203125",
          "histogram": [
           {
            "bin_start": 7.868720531463623,
            "bin_end": 71.34318542480469,
            "count": 14
           },
           {
            "bin_start": 71.34318542480469,
            "bin_end": 134.81765747070312,
            "count": 20
           },
           {
            "bin_start": 134.81765747070312,
            "bin_end": 198.29212951660156,
            "count": 11
           },
           {
            "bin_start": 198.29212951660156,
            "bin_end": 261.7666015625,
            "count": 8
           },
           {
            "bin_start": 261.7666015625,
            "bin_end": 325.2410583496094,
            "count": 8
           },
           {
            "bin_start": 325.2410583496094,
            "bin_end": 388.71551513671875,
            "count": 4
           },
           {
            "bin_start": 388.71551513671875,
            "bin_end": 452.19000244140625,
            "count": 4
           },
           {
            "bin_start": 452.19000244140625,
            "bin_end": 515.6644897460938,
            "count": 0
           },
           {
            "bin_start": 515.6644897460938,
            "bin_end": 579.138916015625,
            "count": 2
           },
           {
            "bin_start": 579.138916015625,
            "bin_end": 642.6134033203125,
            "count": 1
           }
          ]
         }
        },
        {
         "name": "model_3_prediction",
         "dtype": "float32",
         "stats": {
          "unique_count": 72,
          "nan_count": 0,
          "min": "-3.222867012023926",
          "max": "632.2454223632812",
          "histogram": [
           {
            "bin_start": -3.222867012023926,
            "bin_end": 60.3239631652832,
            "count": 15
           },
           {
            "bin_start": 60.3239631652832,
            "bin_end": 123.87078857421875,
            "count": 20
           },
           {
            "bin_start": 123.87078857421875,
            "bin_end": 187.41761779785156,
            "count": 11
           },
           {
            "bin_start": 187.41761779785156,
            "bin_end": 250.96444702148438,
            "count": 7
           },
           {
            "bin_start": 250.96444702148438,
            "bin_end": 314.51129150390625,
            "count": 7
           },
           {
            "bin_start": 314.51129150390625,
            "bin_end": 378.05810546875,
            "count": 5
           },
           {
            "bin_start": 378.05810546875,
            "bin_end": 441.6049499511719,
            "count": 4
           },
           {
            "bin_start": 441.6049499511719,
            "bin_end": 505.1517639160156,
            "count": 1
           },
           {
            "bin_start": 505.1517639160156,
            "bin_end": 568.6986083984375,
            "count": 0
           },
           {
            "bin_start": 568.6986083984375,
            "bin_end": 632.2454223632812,
            "count": 2
           }
          ]
         }
        },
        {
         "name": "_deepnote_index_column",
         "dtype": "int64"
        }
       ],
       "rows": [
        {
         "GSE_GWE": 33.198,
         "model_1_prediction": 24.06877326965332,
         "model_2_prediction": 27.96914291381836,
         "model_3_prediction": 9.118674278259277,
         "_deepnote_index_column": 0
        },
        {
         "GSE_GWE": 34.794999999999995,
         "model_1_prediction": 49.9754753112793,
         "model_2_prediction": 55.14566421508789,
         "model_3_prediction": 32.425567626953125,
         "_deepnote_index_column": 1
        },
        {
         "GSE_GWE": 161.75666666666666,
         "model_1_prediction": 68.24935150146484,
         "model_2_prediction": 68.21546173095703,
         "model_3_prediction": 48.47264862060547,
         "_deepnote_index_column": 2
        },
        {
         "GSE_GWE": 54.423,
         "model_1_prediction": 41.45692825317383,
         "model_2_prediction": 40.53488540649414,
         "model_3_prediction": 22.637372970581055,
         "_deepnote_index_column": 3
        },
        {
         "GSE_GWE": 80.65307692307692,
         "model_1_prediction": 96.1148452758789,
         "model_2_prediction": 103.48123168945312,
         "model_3_prediction": 73.5323486328125,
         "_deepnote_index_column": 4
        },
        {
         "GSE_GWE": 30.186666666666667,
         "model_1_prediction": 5.786777973175049,
         "model_2_prediction": 7.868720531463623,
         "model_3_prediction": -3.222867012023926,
         "_deepnote_index_column": 5
        },
        {
         "GSE_GWE": 47.39876,
         "model_1_prediction": 12.535236358642578,
         "model_2_prediction": 22.933082580566406,
         "model_3_prediction": 6.783421039581299,
         "_deepnote_index_column": 6
        },
        {
         "GSE_GWE": 98.18111111111112,
         "model_1_prediction": 86.57833099365234,
         "model_2_prediction": 96.10490417480469,
         "model_3_prediction": 72.4649887084961,
         "_deepnote_index_column": 7
        },
        {
         "GSE_GWE": 136.0376923076923,
         "model_1_prediction": 115.98483276367188,
         "model_2_prediction": 124.72833251953125,
         "model_3_prediction": 102.86326599121094,
         "_deepnote_index_column": 8
        },
        {
         "GSE_GWE": 141.95499999999998,
         "model_1_prediction": 145.81036376953125,
         "model_2_prediction": 142.990478515625,
         "model_3_prediction": 126.74386596679688,
         "_deepnote_index_column": 9
        }
       ]
      },
      "text/plain": "       GSE_GWE  model_1_prediction  model_2_prediction  model_3_prediction\n0    33.198000           24.068773           27.969143            9.118674\n1    34.795000           49.975475           55.145664           32.425568\n2   161.756667           68.249352           68.215462           48.472649\n3    54.423000           41.456928           40.534885           22.637373\n4    80.653077           96.114845          103.481232           73.532349\n..         ...                 ...                 ...                 ...\n67  187.252308          179.524597          164.674362          168.673706\n68  179.551290          154.951324          164.001511          149.904175\n69  236.543750          248.188629          247.912979          242.460373\n70  292.550000          274.334320          248.797714          256.103271\n71  173.915909          171.868073          152.556381          149.844833\n\n[72 rows x 4 columns]",
      "text/html": "<div>\n<style scoped>\n    .dataframe tbody tr th:only-of-type {\n        vertical-align: middle;\n    }\n\n    .dataframe tbody tr th {\n        vertical-align: top;\n    }\n\n    .dataframe thead th {\n        text-align: right;\n    }\n</style>\n<table border=\"1\" class=\"dataframe\">\n  <thead>\n    <tr style=\"text-align: right;\">\n      <th></th>\n      <th>GSE_GWE</th>\n      <th>model_1_prediction</th>\n      <th>model_2_prediction</th>\n      <th>model_3_prediction</th>\n    </tr>\n  </thead>\n  <tbody>\n    <tr>\n      <th>0</th>\n      <td>33.198000</td>\n      <td>24.068773</td>\n      <td>27.969143</td>\n      <td>9.118674</td>\n    </tr>\n    <tr>\n      <th>1</th>\n      <td>34.795000</td>\n      <td>49.975475</td>\n      <td>55.145664</td>\n      <td>32.425568</td>\n    </tr>\n    <tr>\n      <th>2</th>\n      <td>161.756667</td>\n      <td>68.249352</td>\n      <td>68.215462</td>\n      <td>48.472649</td>\n    </tr>\n    <tr>\n      <th>3</th>\n      <td>54.423000</td>\n      <td>41.456928</td>\n      <td>40.534885</td>\n      <td>22.637373</td>\n    </tr>\n    <tr>\n      <th>4</th>\n      <td>80.653077</td>\n      <td>96.114845</td>\n      <td>103.481232</td>\n      <td>73.532349</td>\n    </tr>\n    <tr>\n      <th>...</th>\n      <td>...</td>\n      <td>...</td>\n      <td>...</td>\n      <td>...</td>\n    </tr>\n    <tr>\n      <th>67</th>\n      <td>187.252308</td>\n      <td>179.524597</td>\n      <td>164.674362</td>\n      <td>168.673706</td>\n    </tr>\n    <tr>\n      <th>68</th>\n      <td>179.551290</td>\n      <td>154.951324</td>\n      <td>164.001511</td>\n      <td>149.904175</td>\n    </tr>\n    <tr>\n      <th>69</th>\n      <td>236.543750</td>\n      <td>248.188629</td>\n      <td>247.912979</td>\n      <td>242.460373</td>\n    </tr>\n    <tr>\n      <th>70</th>\n      <td>292.550000</td>\n      <td>274.334320</td>\n      <td>248.797714</td>\n      <td>256.103271</td>\n    </tr>\n    <tr>\n      <th>71</th>\n      <td>173.915909</td>\n      <td>171.868073</td>\n      <td>152.556381</td>\n      <td>149.844833</td>\n    </tr>\n  </tbody>\n</table>\n<p>72 rows × 4 columns</p>\n</div>"
     },
     "metadata": {}
    }
   ],
   "execution_count": null
  },
  {
   "cell_type": "markdown",
<<<<<<< HEAD
   "source": "Based on the model scores it turns out that the simplest of the three LSTM models is the one having the best scores.\n\nHowever the `GSE_GWE` (Ground Surface Elevation to Groundwater Water Elevation - Depth to groundwater elevation in feet below ground surface) target value has a median of 135.47 (~41.3 meters) and a mean value of 166.17 feet (~50.6 meters). A mean average error of 23.66 feet (7.2 meters), and root mean square error of 34.82 feet (10.6 meters) in the prediction is fairly large. Even the best model does not seem to be accurate enough to be useful.\n\nWe save the best model anyway to perform predictions and analyze the results. Refer to the notebook `/ml/deeplearning_results.ipynb` for the analysis of the 2022 predictions results.",
=======
   "source": [
    "Based on the model scores it turns out that the simplest of the three LSTM models is the one having the best scores.\n",
    "\n",
    "However considering all the measurements between 2014 and 2022, the `GSE_GWE` (Ground Surface Elevation to Groundwater Water Elevation - Depth to groundwater elevation in feet below ground surface) target value has a\n",
    "* median of 137.09 (~41.7 meters)\n",
    "* mean value of 167.37 feet (~50.9 meters)\n",
    "* min value of 0.5 feet (0 meters)\n",
    "* max value of 727.5 feet (221.6 meters)\n",
    "\n",
    "A mean average error of 23.66 feet (7.2 meters), and root mean square error of 34.82 feet (10.6 meters) in the prediction is fairly large. Even the best model does not seem to be accurate enough to be useful.\n",
    "\n",
    "We save the best model anyway to perform predictions and analyze the results. Refer to the notebook `/ml/deeplearning_results.ipynb` for the analysis of the 2022 predictions results."
   ],
>>>>>>> 2be03a45b7f93312207f1d13c20a0843a5483726
   "metadata": {
    "collapsed": false,
    "pycharm": {
     "name": "#%% md\n"
    },
    "cell_id": "00020-7da62e8a-f7ac-459b-a978-27e5ac090773",
    "deepnote_cell_type": "markdown",
    "deepnote_cell_height": 214.734375
   }
  },
  {
   "cell_type": "code",
   "metadata": {
    "collapsed": false,
    "pycharm": {
     "name": "#%%\n"
    },
    "cell_id": "00021-8da65dfe-3ceb-4d70-8927-a8a32e0ff064",
    "deepnote_to_be_reexecuted": false,
    "source_hash": "2a3ef3e5",
    "execution_start": 1657716223108,
    "execution_millis": 4597,
    "deepnote_cell_type": "code",
    "deepnote_cell_height": 310.1875
   },
   "source": "model_dir = \"../assets/models/\"\nkeras_model_dir = os.path.join(model_dir, \"keras_lstm_model\")\nos.makedirs(keras_model_dir, exist_ok=True)\n# Save the Keras Model\nmodel1.save(keras_model_dir)\n# Save the data imputation pipeline and target min-max scaler\npipeline_data = {\n    \"impute_pipeline\": impute_pipeline,\n    \"target_scaler\": target_scaler\n}\nwith open(os.path.join(model_dir, \"lstm_model_pipeline.pkl\"), \"wb\") as file:\n    pickle.dump(pipeline_data, file)",
   "outputs": [
    {
     "name": "stdout",
     "text": "INFO:tensorflow:Assets written to: ../assets/models/keras_lstm_model/assets\n",
     "output_type": "stream"
    }
   ],
   "execution_count": null
  },
  {
   "cell_type": "code",
   "metadata": {
    "collapsed": false,
    "pycharm": {
     "name": "#%%\n"
    },
    "cell_id": "00022-5e8213c9-03f4-427d-866a-8e996f6baebb",
    "deepnote_to_be_reexecuted": false,
    "source_hash": "b623e53d",
    "execution_start": 1657716227343,
    "execution_millis": 8,
    "deepnote_cell_type": "code",
    "deepnote_cell_height": 81
   },
   "source": "",
   "outputs": [],
   "execution_count": null
  },
  {
   "cell_type": "markdown",
   "source": "<a style='text-decoration:none;line-height:16px;display:flex;color:#5B5B62;padding:10px;justify-content:end;' href='https://deepnote.com?utm_source=created-in-deepnote-cell&projectId=b042e2da-6536-449d-95b8-d85fa08825de' target=\"_blank\">\n<img alt='Created in deepnote.com' style='display:inline;max-height:16px;margin:0px;margin-right:7.5px;' src='data:image/svg+xml;base64,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' > </img>\nCreated in <span style='font-weight:600;margin-left:4px;'>Deepnote</span></a>",
   "metadata": {
    "tags": [],
    "created_in_deepnote_cell": true,
    "deepnote_cell_type": "markdown"
   }
  }
 ],
 "nbformat": 4,
 "nbformat_minor": 1,
 "metadata": {
  "kernelspec": {
   "display_name": "Python 3 (ipykernel)",
   "language": "python",
   "name": "python3"
  },
  "language_info": {
   "codemirror_mode": {
    "name": "ipython",
    "version": 3
   },
   "file_extension": ".py",
   "mimetype": "text/x-python",
   "name": "python",
   "nbconvert_exporter": "python",
   "pygments_lexer": "ipython3",
   "version": "3.9.12"
  },
  "deepnote_notebook_id": "ea73fb3e-e8c4-47bb-ac44-5ba40303e482",
  "deepnote": {},
  "deepnote_execution_queue": []
 }
}